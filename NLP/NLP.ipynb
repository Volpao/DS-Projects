{
 "cells": [
  {
   "cell_type": "markdown",
   "id": "ecad36fb",
   "metadata": {},
   "source": [
    "# Toxic Comments Identification"
   ]
  },
  {
   "cell_type": "markdown",
   "id": "4ec0bc19",
   "metadata": {},
   "source": [
    "In the modern world, consumers are increasingly paying attention to reviews when faced with a new product, service, and their suppliers. From this point of view, high score and positive reviews help to attract new customers and therefore increase profits, while negative ones can turn off new potential customers. The image of the company in the net is of key importance.\n",
    "The Wikishop online store is launching a new service, allowing users to edit and supplement product descriptions, like in wiki communities. That is, clients propose their edits and comment on the changes of others. The store needs a tool that will look for toxic comments and submit them for moderation.\n",
    "Our task is to build a model that, based on the text of the commentary, will classify them into positive and negative ones.\n",
    "We will carry out the work of training the prediction model on the dataset with markup on the toxicity of edits.\n",
    "\n",
    "We will get the above data from the following csv file: '/datasets/toxic_comments.csv', the 'text' column of which contains the comment text, while 'toxic' is the target feature.\n",
    "\n",
    "**The purpose of this study** is to build an optimal model for prediction. The optimal model will be considered the one in which the value of the F1-metric (that is, the harmonic mean of the precision and recall) will be extremely large (minimum 0.75).\n",
    "\n",
    "\n",
    "**Research progress**:\n",
    "\n",
    "We will try to build a prediction model on the main data with labeling about toxicity, for this we have to preprocess the data, divide the dataset into 2 samples, explore and possibly adjust the balance of classes, choose the most appropriate model for fitting, fit it in the best way by tuning the appropriate hyperparameters , check the quality of the model on the test sample.\n",
    "\n",
    "\n",
    "Thus, this project will include the following steps:\n",
    "* data preprocessing\n",
    "* model selection and fitting\n",
    "* model quality check"
   ]
  },
  {
   "cell_type": "markdown",
   "id": "7df204d0",
   "metadata": {},
   "source": [
    "## Data Processing\n",
    "\n"
   ]
  },
  {
   "cell_type": "code",
   "execution_count": 1,
   "id": "ed046b58",
   "metadata": {},
   "outputs": [],
   "source": [
    "import numpy as np  # importing numpy\n",
    "import pandas as pd  # importing pandas\n",
    "import seaborn as sns # importing seaborn for plotting\n",
    "import matplotlib.pyplot as plt # importing matplotlib for plotting\n",
    "import os.path as path # importing os.path for path handling\n",
    "from sklearn.linear_model import LogisticRegression # importing Logistic Regression\n",
    "from sklearn.ensemble import RandomForestClassifier  # importing random Forest\n",
    "from sklearn.model_selection import train_test_split  # importing the function to split into samples\n",
    "from sklearn.metrics  import f1_score, make_scorer, confusion_matrix # importing necessary metrics\n",
    "from sklearn.model_selection import RandomizedSearchCV # importing RandomSearchCV for searching the best parameters\n",
    "from catboost import CatBoostClassifier # importing Catboost\n",
    "import warnings # importing warnings to ignore them\n",
    "warnings.simplefilter(\"ignore\")\n",
    "import nltk # importing nltk to process the text\n",
    "from nltk.corpus import stopwords as nltk_stopwords # importing stop/word to exclude\n",
    "from sklearn.feature_extraction.text import TfidfVectorizer # importing TfidfVectorizer for transforming to vectors\n",
    "from nltk.stem import WordNetLemmatizer # importing WordNetLemmatizer for lemmatizing\n",
    "from nltk.tokenize import TweetTokenizer # importing TweetTokenizer for tekenizing\n",
    "import re # importing the library to for searching with regular expressions\n",
    "from sklearn.pipeline import Pipeline # importing the class for creating pipelines"
   ]
  },
  {
   "cell_type": "markdown",
   "id": "2a45e1a4",
   "metadata": {},
   "source": [
    "Let's make the first impression about the data. To view and analyze, we will read the file in csv format, save it to a variable, and also look at the first 10 rows."
   ]
  },
  {
   "cell_type": "code",
   "execution_count": 2,
   "id": "7d068f91",
   "metadata": {},
   "outputs": [
    {
     "data": {
      "text/html": [
       "<div>\n",
       "<style scoped>\n",
       "    .dataframe tbody tr th:only-of-type {\n",
       "        vertical-align: middle;\n",
       "    }\n",
       "\n",
       "    .dataframe tbody tr th {\n",
       "        vertical-align: top;\n",
       "    }\n",
       "\n",
       "    .dataframe thead th {\n",
       "        text-align: right;\n",
       "    }\n",
       "</style>\n",
       "<table border=\"1\" class=\"dataframe\">\n",
       "  <thead>\n",
       "    <tr style=\"text-align: right;\">\n",
       "      <th></th>\n",
       "      <th>text</th>\n",
       "      <th>toxic</th>\n",
       "    </tr>\n",
       "  </thead>\n",
       "  <tbody>\n",
       "    <tr>\n",
       "      <th>0</th>\n",
       "      <td>Explanation\\nWhy the edits made under my usern...</td>\n",
       "      <td>0</td>\n",
       "    </tr>\n",
       "    <tr>\n",
       "      <th>1</th>\n",
       "      <td>D'aww! He matches this background colour I'm s...</td>\n",
       "      <td>0</td>\n",
       "    </tr>\n",
       "    <tr>\n",
       "      <th>2</th>\n",
       "      <td>Hey man, I'm really not trying to edit war. It...</td>\n",
       "      <td>0</td>\n",
       "    </tr>\n",
       "    <tr>\n",
       "      <th>3</th>\n",
       "      <td>\"\\nMore\\nI can't make any real suggestions on ...</td>\n",
       "      <td>0</td>\n",
       "    </tr>\n",
       "    <tr>\n",
       "      <th>4</th>\n",
       "      <td>You, sir, are my hero. Any chance you remember...</td>\n",
       "      <td>0</td>\n",
       "    </tr>\n",
       "    <tr>\n",
       "      <th>5</th>\n",
       "      <td>\"\\n\\nCongratulations from me as well, use the ...</td>\n",
       "      <td>0</td>\n",
       "    </tr>\n",
       "    <tr>\n",
       "      <th>6</th>\n",
       "      <td>COCKSUCKER BEFORE YOU PISS AROUND ON MY WORK</td>\n",
       "      <td>1</td>\n",
       "    </tr>\n",
       "    <tr>\n",
       "      <th>7</th>\n",
       "      <td>Your vandalism to the Matt Shirvington article...</td>\n",
       "      <td>0</td>\n",
       "    </tr>\n",
       "    <tr>\n",
       "      <th>8</th>\n",
       "      <td>Sorry if the word 'nonsense' was offensive to ...</td>\n",
       "      <td>0</td>\n",
       "    </tr>\n",
       "    <tr>\n",
       "      <th>9</th>\n",
       "      <td>alignment on this subject and which are contra...</td>\n",
       "      <td>0</td>\n",
       "    </tr>\n",
       "  </tbody>\n",
       "</table>\n",
       "</div>"
      ],
      "text/plain": [
       "                                                text  toxic\n",
       "0  Explanation\\nWhy the edits made under my usern...      0\n",
       "1  D'aww! He matches this background colour I'm s...      0\n",
       "2  Hey man, I'm really not trying to edit war. It...      0\n",
       "3  \"\\nMore\\nI can't make any real suggestions on ...      0\n",
       "4  You, sir, are my hero. Any chance you remember...      0\n",
       "5  \"\\n\\nCongratulations from me as well, use the ...      0\n",
       "6       COCKSUCKER BEFORE YOU PISS AROUND ON MY WORK      1\n",
       "7  Your vandalism to the Matt Shirvington article...      0\n",
       "8  Sorry if the word 'nonsense' was offensive to ...      0\n",
       "9  alignment on this subject and which are contra...      0"
      ]
     },
     "metadata": {},
     "output_type": "display_data"
    }
   ],
   "source": [
    "# reading the file and saving todf\n",
    "try:\n",
    "    base_path = 'toxic_comments.csv' \n",
    "    df = pd.read_csv(base_path) if path.exists(base_path) else pd.read_csv(f'/datasets/{base_path}') # checking the file path\n",
    "    display(df.head(10))  # getting first 10 rows\n",
    "except:\n",
    "     print('File not found') # if no path is correct, an error message will be printed"
   ]
  },
  {
   "cell_type": "markdown",
   "id": "a6324a49",
   "metadata": {},
   "source": [
    "Next, we will get the general information about the dataset and check the quality of the data:"
   ]
  },
  {
   "cell_type": "code",
   "execution_count": 3,
   "id": "5903e3b5",
   "metadata": {},
   "outputs": [
    {
     "name": "stdout",
     "output_type": "stream",
     "text": [
      "<class 'pandas.core.frame.DataFrame'>\n",
      "RangeIndex: 159571 entries, 0 to 159570\n",
      "Data columns (total 2 columns):\n",
      " #   Column  Non-Null Count   Dtype \n",
      "---  ------  --------------   ----- \n",
      " 0   text    159571 non-null  object\n",
      " 1   toxic   159571 non-null  int64 \n",
      "dtypes: int64(1), object(1)\n",
      "memory usage: 2.4+ MB\n"
     ]
    }
   ],
   "source": [
    "df.info() # пgetting general info on the df"
   ]
  },
  {
   "cell_type": "markdown",
   "id": "9cb91aee",
   "metadata": {},
   "source": [
    "So, in our dataset there are approx. 160000 objects. The data type in each of them corresponds to the declared feature. Based on the information received, there are no missing values in the dataframe. Let's check this assumption:"
   ]
  },
  {
   "cell_type": "code",
   "execution_count": 4,
   "id": "37344226",
   "metadata": {
    "scrolled": true
   },
   "outputs": [
    {
     "data": {
      "text/plain": [
       "text     0.0\n",
       "toxic    0.0\n",
       "dtype: float64"
      ]
     },
     "execution_count": 4,
     "metadata": {},
     "output_type": "execute_result"
    }
   ],
   "source": [
    "df.isna().mean() # checking df for NaNs"
   ]
  },
  {
   "cell_type": "markdown",
   "id": "44ee8a3f",
   "metadata": {},
   "source": [
    "Let's also check if there are duplicates in our dataset:"
   ]
  },
  {
   "cell_type": "code",
   "execution_count": 5,
   "id": "35426629",
   "metadata": {},
   "outputs": [
    {
     "data": {
      "text/plain": [
       "0"
      ]
     },
     "execution_count": 5,
     "metadata": {},
     "output_type": "execute_result"
    }
   ],
   "source": [
    " df.duplicated().sum() # checking df for full duplicates"
   ]
  },
  {
   "cell_type": "markdown",
   "id": "5ee32dfb",
   "metadata": {},
   "source": [
    "So, our goal is to determine if a comment is toxic. There are two answers to this question - \"yes\" (1) or \"no\" (0), thus, our target feature is categorical, and we solve the classification problem. Since there are only two categories, we are talking about a binary classification.\n",
    "Let's check the balance of classes in the original dataframe:"
   ]
  },
  {
   "cell_type": "code",
   "execution_count": 6,
   "id": "46ac7172",
   "metadata": {},
   "outputs": [
    {
     "data": {
      "image/png": "[encoded data removed]",
      "text/plain": [
       "<Figure size 432x288 with 1 Axes>"
      ]
     },
     "metadata": {
      "needs_background": "light"
     },
     "output_type": "display_data"
    }
   ],
   "source": [
    "ax = df.groupby('toxic')['toxic'].count().plot.bar(x='toxic',  color = 'orange') # plotting a bar plot\n",
    "ax.set_ylabel(\"Count\") # setting the name for axis y\n",
    "ax.set_xlabel(\"Comments\") # setting the name for axis х\n",
    "ax.set_title('Count of the Comments by Type'); # setting the title\n"
   ]
  },
  {
   "cell_type": "code",
   "execution_count": 7,
   "id": "8d09418b",
   "metadata": {},
   "outputs": [
    {
     "data": {
      "text/plain": [
       "0.10167887648758234"
      ]
     },
     "execution_count": 7,
     "metadata": {},
     "output_type": "execute_result"
    }
   ],
   "source": [
    "ratio = df['toxic'].mean() # calculation the ratio of toxic comments in df\n",
    "ratio # checking the result"
   ]
  },
  {
   "cell_type": "markdown",
   "id": "7efa5415",
   "metadata": {},
   "source": [
    "So, negative comments are approx. 10% of the total number of objects, therefore, the classes are not balanced, their ratio is 1:9. as far as we know, machine learning algorithms are sensitive to class imbalances, so you will \"weight\" them by adding a special argument when building the model.\n",
    "\n",
    "Let's divide our dataset into training and test samples in a ratio of 3 to 2. When splitting, we will set the random_state parameter to fix the split results."
   ]
  },
  {
   "cell_type": "code",
   "execution_count": 8,
   "id": "f41d4a06",
   "metadata": {},
   "outputs": [],
   "source": [
    "features = df.drop(columns=['toxic']) # separating  the features\n",
    "target = df['toxic']  # separating the target\n",
    "features_train, features_test, target_train, target_test = train_test_split(\n",
    "    features, target, test_size=0.4, stratify=df['toxic'], random_state=12345) # separating 40% for the test sample"
   ]
  },
  {
   "cell_type": "code",
   "execution_count": 9,
   "id": "0920e3fb",
   "metadata": {
    "scrolled": true
   },
   "outputs": [
    {
     "name": "stdout",
     "output_type": "stream",
     "text": [
      "159571\n",
      "95742\n",
      "63829\n",
      "True\n"
     ]
    }
   ],
   "source": [
    "print(len(df), len(features_train),  len(features_test), sep='\\n') # checking the result\n",
    "print(len(df) == (len(features_train) + len(features_test)))  #  checking the result"
   ]
  },
  {
   "cell_type": "markdown",
   "id": "363077e0",
   "metadata": {},
   "source": [
    "The toxic comments in our dataset is about 10%. Let's see if the corresponding samples retained this ratio:"
   ]
  },
  {
   "cell_type": "code",
   "execution_count": 10,
   "id": "c6e8d00b",
   "metadata": {},
   "outputs": [
    {
     "name": "stdout",
     "output_type": "stream",
     "text": [
      "0.10167951369305007\n",
      "0.10167792069435523\n"
     ]
    }
   ],
   "source": [
    "for target in [target_train, target_test]: # interating over the target in samples\n",
    "    print(target.mean()) # printing the ratio of toxic comments"
   ]
  },
  {
   "cell_type": "markdown",
   "id": "1d4f3ded",
   "metadata": {},
   "source": [
    "The ratio of positive and negative comments in the target samples is very close to the same ratio in the general dataset. Therefore, the samples were made correctly.\n",
    "\n",
    "We know that traditional machine learning models don't work with strings, so we have to do some special processing on comments to convert them from strings to vectors.\n",
    "At the first stage, we will add a new column to the features with cleared of non-semantic sense symbols and lemmatized text, for this we will define a special function:"
   ]
  },
  {
   "cell_type": "code",
   "execution_count": 11,
   "id": "8c11b8e8",
   "metadata": {},
   "outputs": [
    {
     "name": "stderr",
     "output_type": "stream",
     "text": [
      "[nltk_data] Downloading package wordnet to /home/jovyan/nltk_data...\n",
      "[nltk_data]   Package wordnet is already up-to-date!\n"
     ]
    }
   ],
   "source": [
    "nltk.download('wordnet')\n",
    "# defining a function for comments first-stage processing\n",
    "def clear_tokenize_lemmatize(text):\n",
    "    text = re.sub(r'[^a-zA-Z]', ' ', text).split()\n",
    "    res = ' '.join(text)\n",
    "    wnl = WordNetLemmatizer()\n",
    "    tknzr = TweetTokenizer()\n",
    "    word_list = tknzr.tokenize(res)\n",
    "    return ' '.join([wnl.lemmatize(w) for w in word_list])\n",
    "    "
   ]
  },
  {
   "cell_type": "code",
   "execution_count": 12,
   "id": "c339008c",
   "metadata": {},
   "outputs": [
    {
     "data": {
      "text/html": [
       "<div>\n",
       "<style scoped>\n",
       "    .dataframe tbody tr th:only-of-type {\n",
       "        vertical-align: middle;\n",
       "    }\n",
       "\n",
       "    .dataframe tbody tr th {\n",
       "        vertical-align: top;\n",
       "    }\n",
       "\n",
       "    .dataframe thead th {\n",
       "        text-align: right;\n",
       "    }\n",
       "</style>\n",
       "<table border=\"1\" class=\"dataframe\">\n",
       "  <thead>\n",
       "    <tr style=\"text-align: right;\">\n",
       "      <th></th>\n",
       "      <th>text</th>\n",
       "      <th>lemm_text</th>\n",
       "    </tr>\n",
       "  </thead>\n",
       "  <tbody>\n",
       "    <tr>\n",
       "      <th>93114</th>\n",
       "      <td>REDIRECT Talk:Balti - City Airport</td>\n",
       "      <td>REDIRECT Talk Balti City Airport</td>\n",
       "    </tr>\n",
       "    <tr>\n",
       "      <th>154514</th>\n",
       "      <td>.  What happened intermittingly, in which the ...</td>\n",
       "      <td>What happened intermittingly in which the Turk...</td>\n",
       "    </tr>\n",
       "    <tr>\n",
       "      <th>71872</th>\n",
       "      <td>\"The article claims that there are 6 primary n...</td>\n",
       "      <td>The article claim that there are primary nomia...</td>\n",
       "    </tr>\n",
       "    <tr>\n",
       "      <th>124349</th>\n",
       "      <td>\"\\n\\n \\n\\nI supposedly was unblocked. And now ...</td>\n",
       "      <td>I supposedly wa unblocked And now I am still b...</td>\n",
       "    </tr>\n",
       "    <tr>\n",
       "      <th>69712</th>\n",
       "      <td>No, because it's true.</td>\n",
       "      <td>No because it s true</td>\n",
       "    </tr>\n",
       "  </tbody>\n",
       "</table>\n",
       "</div>"
      ],
      "text/plain": [
       "                                                     text  \\\n",
       "93114                  REDIRECT Talk:Balti - City Airport   \n",
       "154514  .  What happened intermittingly, in which the ...   \n",
       "71872   \"The article claims that there are 6 primary n...   \n",
       "124349  \"\\n\\n \\n\\nI supposedly was unblocked. And now ...   \n",
       "69712                              No, because it's true.   \n",
       "\n",
       "                                                lemm_text  \n",
       "93114                    REDIRECT Talk Balti City Airport  \n",
       "154514  What happened intermittingly in which the Turk...  \n",
       "71872   The article claim that there are primary nomia...  \n",
       "124349  I supposedly wa unblocked And now I am still b...  \n",
       "69712                                No because it s true  "
      ]
     },
     "execution_count": 12,
     "metadata": {},
     "output_type": "execute_result"
    }
   ],
   "source": [
    "features_train['lemm_text'] = df['text'].apply(clear_tokenize_lemmatize) # creating a new feature in the df\n",
    "features_train.head() # проверяем результат"
   ]
  },
  {
   "cell_type": "code",
   "execution_count": 13,
   "id": "67b5ae4f",
   "metadata": {},
   "outputs": [
    {
     "data": {
      "text/html": [
       "<div>\n",
       "<style scoped>\n",
       "    .dataframe tbody tr th:only-of-type {\n",
       "        vertical-align: middle;\n",
       "    }\n",
       "\n",
       "    .dataframe tbody tr th {\n",
       "        vertical-align: top;\n",
       "    }\n",
       "\n",
       "    .dataframe thead th {\n",
       "        text-align: right;\n",
       "    }\n",
       "</style>\n",
       "<table border=\"1\" class=\"dataframe\">\n",
       "  <thead>\n",
       "    <tr style=\"text-align: right;\">\n",
       "      <th></th>\n",
       "      <th>text</th>\n",
       "      <th>lemm_text</th>\n",
       "    </tr>\n",
       "  </thead>\n",
       "  <tbody>\n",
       "    <tr>\n",
       "      <th>151847</th>\n",
       "      <td>Comment on Ronald Kaplan page\\nhi, I'd like to...</td>\n",
       "      <td>Comment on Ronald Kaplan page hi I d like to k...</td>\n",
       "    </tr>\n",
       "    <tr>\n",
       "      <th>52266</th>\n",
       "      <td>3rr \\n\\nYou have quite clearly violated the 3r...</td>\n",
       "      <td>rr You have quite clearly violated the rr on a...</td>\n",
       "    </tr>\n",
       "    <tr>\n",
       "      <th>117514</th>\n",
       "      <td>I didn't vandalize your user page, idiot.</td>\n",
       "      <td>I didn t vandalize your user page idiot</td>\n",
       "    </tr>\n",
       "    <tr>\n",
       "      <th>49033</th>\n",
       "      <td>I'll have a quick re-read and maybe add near t...</td>\n",
       "      <td>I ll have a quick re read and maybe add near t...</td>\n",
       "    </tr>\n",
       "    <tr>\n",
       "      <th>9171</th>\n",
       "      <td>This article doesn't suppose to focus on defin...</td>\n",
       "      <td>This article doesn t suppose to focus on defin...</td>\n",
       "    </tr>\n",
       "  </tbody>\n",
       "</table>\n",
       "</div>"
      ],
      "text/plain": [
       "                                                     text  \\\n",
       "151847  Comment on Ronald Kaplan page\\nhi, I'd like to...   \n",
       "52266   3rr \\n\\nYou have quite clearly violated the 3r...   \n",
       "117514          I didn't vandalize your user page, idiot.   \n",
       "49033   I'll have a quick re-read and maybe add near t...   \n",
       "9171    This article doesn't suppose to focus on defin...   \n",
       "\n",
       "                                                lemm_text  \n",
       "151847  Comment on Ronald Kaplan page hi I d like to k...  \n",
       "52266   rr You have quite clearly violated the rr on a...  \n",
       "117514            I didn t vandalize your user page idiot  \n",
       "49033   I ll have a quick re read and maybe add near t...  \n",
       "9171    This article doesn t suppose to focus on defin...  "
      ]
     },
     "execution_count": 13,
     "metadata": {},
     "output_type": "execute_result"
    }
   ],
   "source": [
    "features_test['lemm_text'] = df['text'].apply(clear_tokenize_lemmatize) # creating a new feature in the df\n",
    "features_test.head() # checking the result"
   ]
  },
  {
   "cell_type": "markdown",
   "id": "211fd233",
   "metadata": {},
   "source": [
    "Next, for each sample, we create a corpus of texts and calculate the TF-IDF for them, which evaluates the importance of individual words. Creating a counter of TF-IDF values, we will clear them of the so-called \"stop words\", that is, those that do not carry a semantic meaning:"
   ]
  },
  {
   "cell_type": "code",
   "execution_count": 14,
   "id": "12b96be8",
   "metadata": {},
   "outputs": [
    {
     "name": "stderr",
     "output_type": "stream",
     "text": [
      "[nltk_data] Downloading package stopwords to /home/jovyan/nltk_data...\n",
      "[nltk_data]   Unzipping corpora/stopwords.zip.\n"
     ]
    }
   ],
   "source": [
    "nltk.download('stopwords')\n",
    "stopwords = set(nltk_stopwords.words('english')) # loading the stop-words set"
   ]
  },
  {
   "cell_type": "code",
   "execution_count": 15,
   "id": "f4d18fd7",
   "metadata": {},
   "outputs": [],
   "source": [
    "corpus_train = features_train['lemm_text'].values # creating the train corpus\n",
    "corpus_test = features_test['lemm_text'].values # creating the test corpus"
   ]
  },
  {
   "cell_type": "code",
   "execution_count": 16,
   "id": "8a81acb9",
   "metadata": {},
   "outputs": [],
   "source": [
    "count_tf_idf = TfidfVectorizer(stop_words=stopwords) # creating a TF-IDF counter"
   ]
  },
  {
   "cell_type": "code",
   "execution_count": 48,
   "id": "82ae6192",
   "metadata": {},
   "outputs": [],
   "source": [
    "tf_idf = count_tf_idf.fit(corpus_train) # fitting the TF-IDF counter\n",
    "tf_idf_train = count_tf_idf.transform(corpus_train) # trainforming the train corpus\n",
    "tf_idf_test = count_tf_idf.transform(corpus_test) # trainforming the test corpus\n"
   ]
  },
  {
   "cell_type": "code",
   "execution_count": 49,
   "id": "bfa75da3",
   "metadata": {},
   "outputs": [
    {
     "data": {
      "text/plain": [
       "(95742, 121124)"
      ]
     },
     "execution_count": 49,
     "metadata": {},
     "output_type": "execute_result"
    }
   ],
   "source": [
    "tf_idf_train.shape # checking the train corpus shape"
   ]
  },
  {
   "cell_type": "code",
   "execution_count": 50,
   "id": "3f87411f",
   "metadata": {},
   "outputs": [
    {
     "data": {
      "text/plain": [
       "(63829, 121124)"
      ]
     },
     "execution_count": 50,
     "metadata": {},
     "output_type": "execute_result"
    }
   ],
   "source": [
    "tf_idf_test.shape # checking the test corpus shape"
   ]
  },
  {
   "cell_type": "markdown",
   "id": "f41a7f93",
   "metadata": {},
   "source": [
    "**Conclusions:**\n",
    "So, the samples are ready, their size is checked and corresponds to the specified parameters. We have processed the sample objects and converted them into a vector form, that is, the form necessary for training models. Let's move on to the next stage - building and setting the quality of models."
   ]
  },
  {
   "cell_type": "markdown",
   "id": "976f6a8a",
   "metadata": {},
   "source": [
    "## Modelling\n",
    "\n",
    "Based on the results of data pocessing, we know that the classes in our target feature are not balanced, their ratio is approximately 1:9 - this means that such an evaluation metric as accuracy for a baseline model will be quite high, so it does not suit us. The most appropriate evaluation criterion for class imbalance in the target attribute is the harmonic mean of the precision and recall of the model, that is, F1 - we should evaluate it according to the task, the value of F1 should be at least 0.75.\n",
    "We know several models that differ from each other both in quality and in the speed of data processing. We will choose the best of them for our task empirically, varying the hyperparameters and the models themselves. To search for hyperparameters, we will use an alternative to the loop - namely, the RandomizedSearchCV class. We will determine the quality of the best model through cross-validation:"
   ]
  },
  {
   "cell_type": "markdown",
   "id": "f4b5aeeb",
   "metadata": {},
   "source": [
    "### Random Forest\n",
    "Random Forest is generally a high quality but low speed prediction model. Among other random forest hyperparameters, besides depth, there is also the number of \"evaluator trees\" (n_estimators). The higher this parameter, the higher the quality of the model and the lower the speed. Combining a different number of estimators and different depths of trees, we will try to find those hyperparameters, taking into account which the model trained by the cross-validation method will give the best indicator F1:"
   ]
  },
  {
   "cell_type": "code",
   "execution_count": 20,
   "id": "3defb62e",
   "metadata": {},
   "outputs": [],
   "source": [
    "pipe_rf = Pipeline([('count_tf_idf', TfidfVectorizer()), \n",
    "                    ('model', RandomForestClassifier(class_weight='balanced', random_state=12345))]) # creating a pipeline"
   ]
  },
  {
   "cell_type": "code",
   "execution_count": 21,
   "id": "05591ad8",
   "metadata": {},
   "outputs": [],
   "source": [
    "grid_params_rf = {'model__criterion': ['gini', 'entropy'], 'model__n_estimators': range (10, 100, 5), \n",
    "                  'model__max_depth': range (5,11)} # setting the parameters for cross validation"
   ]
  },
  {
   "cell_type": "code",
   "execution_count": 22,
   "id": "611ddbca",
   "metadata": {},
   "outputs": [
    {
     "name": "stdout",
     "output_type": "stream",
     "text": [
      "F1 of the best random forest is 0.3346698696398138 with the hyperparameters {'model__n_estimators': 55, 'model__max_depth': 10, 'model__criterion': 'gini'}\n"
     ]
    }
   ],
   "source": [
    "f1 = make_scorer(f1_score) # setting the evaluation metric\n",
    "grid = RandomizedSearchCV(estimator=pipe_rf, param_distributions=grid_params_rf, scoring=f1, n_jobs=-1, random_state=12345) # creating a Randomizedsearch object\n",
    "grid.fit(corpus_train, target_train) #   fitting the model\n",
    "print('F1 of the best random forest is', grid.best_score_, 'with the hyperparameters', grid.best_params_ ) # printing the best result\n"
   ]
  },
  {
   "cell_type": "code",
   "execution_count": 23,
   "id": "da06b26c",
   "metadata": {},
   "outputs": [
    {
     "data": {
      "text/plain": [
       "0.32464307883302296"
      ]
     },
     "execution_count": 23,
     "metadata": {},
     "output_type": "execute_result"
    }
   ],
   "source": [
    "predictions_rf = grid.best_estimator_.predict(corpus_test) # predicting the target\n",
    "f1_test_rf = f1_score(target_test, predictions_rf)  #  calculating F1\n",
    "f1_test_rf"
   ]
  },
  {
   "cell_type": "markdown",
   "id": "96d27eff",
   "metadata": {},
   "source": [
    "So, the quality metric of the random forest, to our surprise, turned out to be more than two times lower than the established threshold: this model definitely does not suit us. Let's move on to testing other models."
   ]
  },
  {
   "cell_type": "markdown",
   "id": "e539a489",
   "metadata": {},
   "source": [
    "### Catboost\n",
    "\n",
    "So, next on the list there is the Catboost classifier, let's test it in the same procedure as the model above:"
   ]
  },
  {
   "cell_type": "code",
   "execution_count": 52,
   "id": "85eaabb0",
   "metadata": {},
   "outputs": [
    {
     "name": "stdout",
     "output_type": "stream",
     "text": [
      "0:\tlearn: 0.6540620\ttotal: 1.85s\tremaining: 16.6s\n",
      "9:\tlearn: 0.5404504\ttotal: 15.3s\tremaining: 0us\n",
      "0:\tlearn: 0.6524783\ttotal: 1.81s\tremaining: 16.3s\n",
      "9:\tlearn: 0.5435899\ttotal: 14.9s\tremaining: 0us\n",
      "0:\tlearn: 0.6523913\ttotal: 1.76s\tremaining: 15.8s\n",
      "9:\tlearn: 0.5406750\ttotal: 15s\tremaining: 0us\n",
      "0:\tlearn: 0.6520072\ttotal: 1.71s\tremaining: 15.4s\n",
      "9:\tlearn: 0.5445207\ttotal: 13.9s\tremaining: 0us\n",
      "0:\tlearn: 0.6511663\ttotal: 1.56s\tremaining: 14s\n",
      "9:\tlearn: 0.5408927\ttotal: 13.3s\tremaining: 0us\n",
      "0:\tlearn: 0.6306835\ttotal: 531ms\tremaining: 15.4s\n",
      "10:\tlearn: 0.5196875\ttotal: 5.68s\tremaining: 9.82s\n",
      "20:\tlearn: 0.4697431\ttotal: 10.7s\tremaining: 4.6s\n",
      "29:\tlearn: 0.4440307\ttotal: 15.1s\tremaining: 0us\n",
      "0:\tlearn: 0.6376166\ttotal: 534ms\tremaining: 15.5s\n",
      "10:\tlearn: 0.5224289\ttotal: 5.61s\tremaining: 9.69s\n",
      "20:\tlearn: 0.4709543\ttotal: 10.7s\tremaining: 4.58s\n",
      "29:\tlearn: 0.4446568\ttotal: 15.5s\tremaining: 0us\n",
      "0:\tlearn: 0.6277464\ttotal: 604ms\tremaining: 17.5s\n",
      "10:\tlearn: 0.5166073\ttotal: 6.01s\tremaining: 10.4s\n",
      "20:\tlearn: 0.4718730\ttotal: 11.2s\tremaining: 4.79s\n",
      "29:\tlearn: 0.4406069\ttotal: 16s\tremaining: 0us\n",
      "0:\tlearn: 0.6388626\ttotal: 614ms\tremaining: 17.8s\n",
      "10:\tlearn: 0.5201531\ttotal: 6.04s\tremaining: 10.4s\n",
      "20:\tlearn: 0.4684855\ttotal: 11.1s\tremaining: 4.75s\n",
      "29:\tlearn: 0.4426756\ttotal: 15.7s\tremaining: 0us\n",
      "0:\tlearn: 0.6300211\ttotal: 558ms\tremaining: 16.2s\n",
      "10:\tlearn: 0.5208405\ttotal: 5.65s\tremaining: 9.77s\n",
      "20:\tlearn: 0.4690378\ttotal: 10.7s\tremaining: 4.6s\n",
      "29:\tlearn: 0.4413637\ttotal: 15.2s\tremaining: 0us\n",
      "0:\tlearn: 0.6738240\ttotal: 402ms\tremaining: 19.7s\n",
      "10:\tlearn: 0.6229474\ttotal: 3.87s\tremaining: 13.7s\n",
      "20:\tlearn: 0.5895600\ttotal: 7.25s\tremaining: 10s\n",
      "30:\tlearn: 0.5722799\ttotal: 10.9s\tremaining: 6.71s\n",
      "40:\tlearn: 0.5544970\ttotal: 14.7s\tremaining: 3.22s\n",
      "49:\tlearn: 0.5436393\ttotal: 17.8s\tremaining: 0us\n",
      "0:\tlearn: 0.6738658\ttotal: 377ms\tremaining: 18.5s\n",
      "10:\tlearn: 0.6224924\ttotal: 3.91s\tremaining: 13.9s\n",
      "20:\tlearn: 0.5894456\ttotal: 7.4s\tremaining: 10.2s\n",
      "30:\tlearn: 0.5712963\ttotal: 11.1s\tremaining: 6.78s\n",
      "40:\tlearn: 0.5559794\ttotal: 14.8s\tremaining: 3.26s\n",
      "49:\tlearn: 0.5438175\ttotal: 18.1s\tremaining: 0us\n",
      "0:\tlearn: 0.6724345\ttotal: 402ms\tremaining: 19.7s\n",
      "10:\tlearn: 0.6159149\ttotal: 4.19s\tremaining: 14.8s\n",
      "20:\tlearn: 0.5865722\ttotal: 8.04s\tremaining: 11.1s\n",
      "30:\tlearn: 0.5680782\ttotal: 12s\tremaining: 7.35s\n",
      "40:\tlearn: 0.5549575\ttotal: 15.7s\tremaining: 3.44s\n",
      "49:\tlearn: 0.5430142\ttotal: 19s\tremaining: 0us\n",
      "0:\tlearn: 0.6727437\ttotal: 383ms\tremaining: 18.8s\n",
      "10:\tlearn: 0.6225489\ttotal: 3.87s\tremaining: 13.7s\n",
      "20:\tlearn: 0.5889532\ttotal: 7.25s\tremaining: 10s\n",
      "30:\tlearn: 0.5705509\ttotal: 10.6s\tremaining: 6.5s\n",
      "40:\tlearn: 0.5576374\ttotal: 14.3s\tremaining: 3.13s\n",
      "49:\tlearn: 0.5449800\ttotal: 17.6s\tremaining: 0us\n",
      "0:\tlearn: 0.6735504\ttotal: 387ms\tremaining: 18.9s\n",
      "10:\tlearn: 0.6216505\ttotal: 4.23s\tremaining: 15s\n",
      "20:\tlearn: 0.5901658\ttotal: 7.84s\tremaining: 10.8s\n",
      "30:\tlearn: 0.5724997\ttotal: 11.3s\tremaining: 6.92s\n",
      "40:\tlearn: 0.5543215\ttotal: 14.9s\tremaining: 3.26s\n",
      "49:\tlearn: 0.5432048\ttotal: 18.1s\tremaining: 0us\n",
      "0:\tlearn: 0.6594404\ttotal: 824ms\tremaining: 40.4s\n",
      "10:\tlearn: 0.5662978\ttotal: 8.2s\tremaining: 29.1s\n",
      "20:\tlearn: 0.5262039\ttotal: 15.1s\tremaining: 20.9s\n",
      "30:\tlearn: 0.5029705\ttotal: 22.1s\tremaining: 13.6s\n",
      "40:\tlearn: 0.4813413\ttotal: 29.1s\tremaining: 6.39s\n",
      "49:\tlearn: 0.4689748\ttotal: 35.5s\tremaining: 0us\n",
      "0:\tlearn: 0.6630778\ttotal: 774ms\tremaining: 37.9s\n",
      "10:\tlearn: 0.5644338\ttotal: 8.02s\tremaining: 28.4s\n",
      "20:\tlearn: 0.5295882\ttotal: 14.9s\tremaining: 20.5s\n",
      "30:\tlearn: 0.5007974\ttotal: 21.7s\tremaining: 13.3s\n",
      "40:\tlearn: 0.4844575\ttotal: 28.5s\tremaining: 6.26s\n",
      "49:\tlearn: 0.4667525\ttotal: 34.5s\tremaining: 0us\n",
      "0:\tlearn: 0.6572652\ttotal: 804ms\tremaining: 39.4s\n",
      "10:\tlearn: 0.5593414\ttotal: 8.05s\tremaining: 28.6s\n",
      "20:\tlearn: 0.5227327\ttotal: 14.9s\tremaining: 20.6s\n",
      "30:\tlearn: 0.4989817\ttotal: 21.5s\tremaining: 13.1s\n",
      "40:\tlearn: 0.4795834\ttotal: 28.5s\tremaining: 6.26s\n",
      "49:\tlearn: 0.4663907\ttotal: 34.7s\tremaining: 0us\n",
      "0:\tlearn: 0.6623579\ttotal: 807ms\tremaining: 39.5s\n",
      "10:\tlearn: 0.5669074\ttotal: 7.8s\tremaining: 27.7s\n",
      "20:\tlearn: 0.5273875\ttotal: 14.4s\tremaining: 19.9s\n",
      "30:\tlearn: 0.5027196\ttotal: 20.9s\tremaining: 12.8s\n",
      "40:\tlearn: 0.4844797\ttotal: 27.5s\tremaining: 6.03s\n",
      "49:\tlearn: 0.4716489\ttotal: 33.6s\tremaining: 0us\n",
      "0:\tlearn: 0.6603381\ttotal: 697ms\tremaining: 34.2s\n",
      "10:\tlearn: 0.5666409\ttotal: 7.33s\tremaining: 26s\n",
      "20:\tlearn: 0.5270375\ttotal: 13.7s\tremaining: 19s\n",
      "30:\tlearn: 0.5009227\ttotal: 20.2s\tremaining: 12.4s\n",
      "40:\tlearn: 0.4812092\ttotal: 26.6s\tremaining: 5.85s\n",
      "49:\tlearn: 0.4669040\ttotal: 32.3s\tremaining: 0us\n",
      "0:\tlearn: 0.6738240\ttotal: 417ms\tremaining: 28.8s\n",
      "10:\tlearn: 0.6229474\ttotal: 4s\tremaining: 21.5s\n",
      "20:\tlearn: 0.5895600\ttotal: 7.44s\tremaining: 17.4s\n",
      "30:\tlearn: 0.5722799\ttotal: 10.9s\tremaining: 13.8s\n",
      "40:\tlearn: 0.5544970\ttotal: 14.4s\tremaining: 10.2s\n",
      "50:\tlearn: 0.5427583\ttotal: 17.9s\tremaining: 6.68s\n",
      "60:\tlearn: 0.5346668\ttotal: 21.5s\tremaining: 3.17s\n",
      "69:\tlearn: 0.5221850\ttotal: 24.5s\tremaining: 0us\n",
      "0:\tlearn: 0.6738658\ttotal: 353ms\tremaining: 24.4s\n",
      "10:\tlearn: 0.6224924\ttotal: 3.86s\tremaining: 20.7s\n",
      "20:\tlearn: 0.5894456\ttotal: 7.29s\tremaining: 17s\n",
      "30:\tlearn: 0.5712963\ttotal: 10.9s\tremaining: 13.8s\n",
      "40:\tlearn: 0.5559794\ttotal: 14.6s\tremaining: 10.3s\n",
      "50:\tlearn: 0.5428889\ttotal: 18.2s\tremaining: 6.78s\n",
      "60:\tlearn: 0.5296196\ttotal: 21.9s\tremaining: 3.23s\n",
      "69:\tlearn: 0.5206335\ttotal: 25.3s\tremaining: 0us\n",
      "0:\tlearn: 0.6724345\ttotal: 366ms\tremaining: 25.2s\n",
      "10:\tlearn: 0.6159149\ttotal: 4.01s\tremaining: 21.5s\n",
      "20:\tlearn: 0.5865722\ttotal: 7.77s\tremaining: 18.1s\n",
      "30:\tlearn: 0.5680782\ttotal: 11.5s\tremaining: 14.5s\n",
      "40:\tlearn: 0.5549575\ttotal: 15.5s\tremaining: 11s\n",
      "50:\tlearn: 0.5397785\ttotal: 19.1s\tremaining: 7.1s\n",
      "60:\tlearn: 0.5308777\ttotal: 22.6s\tremaining: 3.33s\n",
      "69:\tlearn: 0.5240115\ttotal: 25.7s\tremaining: 0us\n",
      "0:\tlearn: 0.6727437\ttotal: 406ms\tremaining: 28s\n",
      "10:\tlearn: 0.6225489\ttotal: 3.84s\tremaining: 20.6s\n",
      "20:\tlearn: 0.5889532\ttotal: 7.21s\tremaining: 16.8s\n",
      "30:\tlearn: 0.5705509\ttotal: 10.6s\tremaining: 13.4s\n",
      "40:\tlearn: 0.5576374\ttotal: 14.1s\tremaining: 9.96s\n",
      "50:\tlearn: 0.5442430\ttotal: 17.7s\tremaining: 6.58s\n",
      "60:\tlearn: 0.5323540\ttotal: 21.3s\tremaining: 3.14s\n",
      "69:\tlearn: 0.5215455\ttotal: 24.4s\tremaining: 0us\n",
      "0:\tlearn: 0.6735504\ttotal: 456ms\tremaining: 31.4s\n",
      "10:\tlearn: 0.6216505\ttotal: 4.33s\tremaining: 23.3s\n",
      "20:\tlearn: 0.5901658\ttotal: 8.32s\tremaining: 19.4s\n",
      "30:\tlearn: 0.5724997\ttotal: 12s\tremaining: 15.1s\n",
      "40:\tlearn: 0.5543215\ttotal: 15.6s\tremaining: 11.1s\n",
      "50:\tlearn: 0.5424545\ttotal: 19.2s\tremaining: 7.13s\n",
      "60:\tlearn: 0.5301829\ttotal: 22.7s\tremaining: 3.35s\n",
      "69:\tlearn: 0.5203733\ttotal: 25.9s\tremaining: 0us\n",
      "0:\tlearn: 0.6594404\ttotal: 747ms\tremaining: 6.72s\n",
      "9:\tlearn: 0.5696772\ttotal: 7.23s\tremaining: 0us\n",
      "0:\tlearn: 0.6630778\ttotal: 773ms\tremaining: 6.96s\n",
      "9:\tlearn: 0.5680990\ttotal: 7.32s\tremaining: 0us\n",
      "0:\tlearn: 0.6572652\ttotal: 759ms\tremaining: 6.83s\n",
      "9:\tlearn: 0.5641086\ttotal: 6.99s\tremaining: 0us\n",
      "0:\tlearn: 0.6623579\ttotal: 787ms\tremaining: 7.08s\n",
      "9:\tlearn: 0.5713379\ttotal: 7.4s\tremaining: 0us\n",
      "0:\tlearn: 0.6603381\ttotal: 735ms\tremaining: 6.61s\n",
      "9:\tlearn: 0.5707947\ttotal: 7.25s\tremaining: 0us\n",
      "0:\tlearn: 0.6088984\ttotal: 1.06s\tremaining: 1m 13s\n",
      "10:\tlearn: 0.4728364\ttotal: 10.6s\tremaining: 57s\n",
      "20:\tlearn: 0.4250294\ttotal: 19.7s\tremaining: 46s\n",
      "30:\tlearn: 0.3966760\ttotal: 28.8s\tremaining: 36.2s\n",
      "40:\tlearn: 0.3768551\ttotal: 38.3s\tremaining: 27.1s\n",
      "50:\tlearn: 0.3566842\ttotal: 47.3s\tremaining: 17.6s\n",
      "60:\tlearn: 0.3398038\ttotal: 56.1s\tremaining: 8.27s\n",
      "69:\tlearn: 0.3278013\ttotal: 1m 4s\tremaining: 0us\n",
      "0:\tlearn: 0.6207966\ttotal: 1.19s\tremaining: 1m 21s\n",
      "10:\tlearn: 0.4657989\ttotal: 10.7s\tremaining: 57.4s\n",
      "20:\tlearn: 0.4247824\ttotal: 19.5s\tremaining: 45.4s\n",
      "30:\tlearn: 0.3969549\ttotal: 28.3s\tremaining: 35.6s\n",
      "40:\tlearn: 0.3731552\ttotal: 37s\tremaining: 26.2s\n",
      "50:\tlearn: 0.3539310\ttotal: 46s\tremaining: 17.2s\n",
      "60:\tlearn: 0.3375656\ttotal: 55.3s\tremaining: 8.16s\n",
      "69:\tlearn: 0.3256952\ttotal: 1m 2s\tremaining: 0us\n",
      "0:\tlearn: 0.6041489\ttotal: 1.13s\tremaining: 1m 18s\n",
      "10:\tlearn: 0.4703465\ttotal: 10.7s\tremaining: 57.6s\n",
      "20:\tlearn: 0.4197806\ttotal: 20.1s\tremaining: 46.8s\n",
      "30:\tlearn: 0.3917855\ttotal: 29.4s\tremaining: 37s\n",
      "40:\tlearn: 0.3710300\ttotal: 38.4s\tremaining: 27.1s\n",
      "50:\tlearn: 0.3518553\ttotal: 47.8s\tremaining: 17.8s\n",
      "60:\tlearn: 0.3360580\ttotal: 56.9s\tremaining: 8.39s\n",
      "69:\tlearn: 0.3253618\ttotal: 1m 4s\tremaining: 0us\n",
      "0:\tlearn: 0.6210194\ttotal: 1.41s\tremaining: 1m 37s\n",
      "10:\tlearn: 0.4743652\ttotal: 12.3s\tremaining: 1m 6s\n",
      "20:\tlearn: 0.4238472\ttotal: 22.9s\tremaining: 53.4s\n",
      "30:\tlearn: 0.3968882\ttotal: 32.1s\tremaining: 40.4s\n",
      "40:\tlearn: 0.3750839\ttotal: 41.3s\tremaining: 29.2s\n",
      "50:\tlearn: 0.3543372\ttotal: 50.7s\tremaining: 18.9s\n",
      "60:\tlearn: 0.3381478\ttotal: 59.9s\tremaining: 8.83s\n",
      "69:\tlearn: 0.3259160\ttotal: 1m 8s\tremaining: 0us\n",
      "0:\tlearn: 0.6094117\ttotal: 1.22s\tremaining: 1m 24s\n",
      "10:\tlearn: 0.4713618\ttotal: 10.8s\tremaining: 57.7s\n",
      "20:\tlearn: 0.4213109\ttotal: 19.9s\tremaining: 46.3s\n",
      "30:\tlearn: 0.3934443\ttotal: 28.6s\tremaining: 36s\n",
      "40:\tlearn: 0.3737441\ttotal: 37.7s\tremaining: 26.7s\n",
      "50:\tlearn: 0.3534231\ttotal: 46.7s\tremaining: 17.4s\n",
      "60:\tlearn: 0.3383017\ttotal: 55.6s\tremaining: 8.2s\n",
      "69:\tlearn: 0.3260800\ttotal: 1m 3s\tremaining: 0us\n",
      "0:\tlearn: 0.6193991\ttotal: 777ms\tremaining: 38.1s\n",
      "10:\tlearn: 0.4903425\ttotal: 7.63s\tremaining: 27s\n",
      "20:\tlearn: 0.4417801\ttotal: 14.5s\tremaining: 20.1s\n",
      "30:\tlearn: 0.4155334\ttotal: 21.9s\tremaining: 13.4s\n",
      "40:\tlearn: 0.3938667\ttotal: 28.6s\tremaining: 6.28s\n",
      "49:\tlearn: 0.3766078\ttotal: 34.4s\tremaining: 0us\n",
      "0:\tlearn: 0.6267956\ttotal: 766ms\tremaining: 37.5s\n",
      "10:\tlearn: 0.4903542\ttotal: 7.7s\tremaining: 27.3s\n",
      "20:\tlearn: 0.4438086\ttotal: 14.5s\tremaining: 20s\n",
      "30:\tlearn: 0.4172841\ttotal: 21.7s\tremaining: 13.3s\n",
      "40:\tlearn: 0.3940375\ttotal: 28.8s\tremaining: 6.32s\n",
      "49:\tlearn: 0.3757699\ttotal: 35.2s\tremaining: 0us\n",
      "0:\tlearn: 0.6157465\ttotal: 797ms\tremaining: 39.1s\n",
      "10:\tlearn: 0.4891576\ttotal: 7.85s\tremaining: 27.8s\n",
      "20:\tlearn: 0.4431167\ttotal: 14.9s\tremaining: 20.6s\n",
      "30:\tlearn: 0.4125200\ttotal: 22.1s\tremaining: 13.6s\n",
      "40:\tlearn: 0.3917946\ttotal: 29s\tremaining: 6.36s\n",
      "49:\tlearn: 0.3723024\ttotal: 34.9s\tremaining: 0us\n",
      "0:\tlearn: 0.6249525\ttotal: 793ms\tremaining: 38.9s\n",
      "10:\tlearn: 0.4924177\ttotal: 8.09s\tremaining: 28.7s\n",
      "20:\tlearn: 0.4452397\ttotal: 15.1s\tremaining: 20.8s\n",
      "30:\tlearn: 0.4172048\ttotal: 22.2s\tremaining: 13.6s\n",
      "40:\tlearn: 0.3973733\ttotal: 29.5s\tremaining: 6.47s\n",
      "49:\tlearn: 0.3765475\ttotal: 36s\tremaining: 0us\n",
      "0:\tlearn: 0.6198813\ttotal: 817ms\tremaining: 40s\n",
      "10:\tlearn: 0.4874641\ttotal: 7.84s\tremaining: 27.8s\n",
      "20:\tlearn: 0.4385665\ttotal: 14.7s\tremaining: 20.3s\n",
      "30:\tlearn: 0.4098763\ttotal: 22s\tremaining: 13.5s\n",
      "40:\tlearn: 0.3908487\ttotal: 28.7s\tremaining: 6.3s\n",
      "49:\tlearn: 0.3751028\ttotal: 34.9s\tremaining: 0us\n",
      "0:\tlearn: 0.6088984\ttotal: 1.16s\tremaining: 10.4s\n",
      "9:\tlearn: 0.4826538\ttotal: 9.88s\tremaining: 0us\n",
      "0:\tlearn: 0.6207966\ttotal: 1.1s\tremaining: 9.89s\n",
      "9:\tlearn: 0.4706208\ttotal: 9.94s\tremaining: 0us\n",
      "0:\tlearn: 0.6041489\ttotal: 1.23s\tremaining: 11.1s\n",
      "9:\tlearn: 0.4761093\ttotal: 11.3s\tremaining: 0us\n",
      "0:\tlearn: 0.6210194\ttotal: 1.32s\tremaining: 11.9s\n",
      "9:\tlearn: 0.4790049\ttotal: 11.5s\tremaining: 0us\n",
      "0:\tlearn: 0.6094117\ttotal: 1.61s\tremaining: 14.5s\n",
      "9:\tlearn: 0.4783992\ttotal: 10.8s\tremaining: 0us\n",
      "0:\tlearn: 0.6555019\ttotal: 1.3s\tremaining: 1m 29s\n",
      "10:\tlearn: 0.5516594\ttotal: 11.3s\tremaining: 1m\n",
      "20:\tlearn: 0.5087083\ttotal: 21.4s\tremaining: 49.9s\n",
      "30:\tlearn: 0.4807904\ttotal: 31.5s\tremaining: 39.6s\n",
      "40:\tlearn: 0.4608953\ttotal: 42.1s\tremaining: 29.7s\n",
      "50:\tlearn: 0.4455073\ttotal: 52s\tremaining: 19.4s\n",
      "60:\tlearn: 0.4341478\ttotal: 1m 3s\tremaining: 9.35s\n",
      "69:\tlearn: 0.4252628\ttotal: 1m 13s\tremaining: 0us\n",
      "0:\tlearn: 0.6609236\ttotal: 1.29s\tremaining: 1m 29s\n",
      "10:\tlearn: 0.5491607\ttotal: 11.6s\tremaining: 1m 2s\n",
      "20:\tlearn: 0.5099259\ttotal: 21.1s\tremaining: 49.1s\n",
      "30:\tlearn: 0.4827418\ttotal: 30.4s\tremaining: 38.3s\n",
      "40:\tlearn: 0.4622001\ttotal: 39.8s\tremaining: 28.2s\n",
      "50:\tlearn: 0.4468089\ttotal: 49.4s\tremaining: 18.4s\n",
      "60:\tlearn: 0.4337954\ttotal: 59.1s\tremaining: 8.72s\n",
      "69:\tlearn: 0.4228205\ttotal: 1m 7s\tremaining: 0us\n",
      "0:\tlearn: 0.6524035\ttotal: 1.17s\tremaining: 1m 20s\n",
      "10:\tlearn: 0.5491727\ttotal: 10.6s\tremaining: 56.8s\n",
      "20:\tlearn: 0.5072933\ttotal: 20.4s\tremaining: 47.6s\n",
      "30:\tlearn: 0.4784202\ttotal: 29.6s\tremaining: 37.3s\n",
      "40:\tlearn: 0.4579436\ttotal: 39.4s\tremaining: 27.8s\n",
      "50:\tlearn: 0.4421669\ttotal: 49s\tremaining: 18.2s\n",
      "60:\tlearn: 0.4293618\ttotal: 58.6s\tremaining: 8.65s\n",
      "69:\tlearn: 0.4192459\ttotal: 1m 7s\tremaining: 0us\n",
      "0:\tlearn: 0.6602372\ttotal: 1.27s\tremaining: 1m 27s\n",
      "10:\tlearn: 0.5518738\ttotal: 11.4s\tremaining: 1m 1s\n",
      "20:\tlearn: 0.5099413\ttotal: 20.8s\tremaining: 48.5s\n",
      "30:\tlearn: 0.4824478\ttotal: 30.2s\tremaining: 38s\n",
      "40:\tlearn: 0.4659020\ttotal: 40s\tremaining: 28.3s\n",
      "50:\tlearn: 0.4449748\ttotal: 49.4s\tremaining: 18.4s\n",
      "60:\tlearn: 0.4333534\ttotal: 59.1s\tremaining: 8.72s\n",
      "69:\tlearn: 0.4250313\ttotal: 1m 7s\tremaining: 0us\n",
      "0:\tlearn: 0.6558091\ttotal: 1.21s\tremaining: 1m 23s\n",
      "10:\tlearn: 0.5471441\ttotal: 13.3s\tremaining: 1m 11s\n",
      "20:\tlearn: 0.5042135\ttotal: 24.6s\tremaining: 57.5s\n",
      "30:\tlearn: 0.4790512\ttotal: 34.8s\tremaining: 43.7s\n",
      "40:\tlearn: 0.4602342\ttotal: 46.8s\tremaining: 33.1s\n",
      "50:\tlearn: 0.4446708\ttotal: 58.4s\tremaining: 21.8s\n",
      "60:\tlearn: 0.4316227\ttotal: 1m 9s\tremaining: 10.3s\n",
      "69:\tlearn: 0.4229293\ttotal: 1m 21s\tremaining: 0us\n",
      "0:\tlearn: 0.6082178\ttotal: 2.07s\tremaining: 2m 22s\n",
      "10:\tlearn: 0.4714460\ttotal: 16.4s\tremaining: 1m 28s\n",
      "20:\tlearn: 0.4204457\ttotal: 29.8s\tremaining: 1m 9s\n",
      "30:\tlearn: 0.3944575\ttotal: 42s\tremaining: 52.8s\n",
      "40:\tlearn: 0.3740253\ttotal: 53.7s\tremaining: 38s\n",
      "50:\tlearn: 0.3559097\ttotal: 1m 5s\tremaining: 24.3s\n",
      "60:\tlearn: 0.3392017\ttotal: 1m 17s\tremaining: 11.4s\n",
      "69:\tlearn: 0.3270646\ttotal: 1m 27s\tremaining: 0us\n",
      "F1 of the best Catboost is 0.7146363707647165 with the hyperparameters {'max_depth': 4, 'learning_rate': 0.3, 'iterations': 70}\n"
     ]
    }
   ],
   "source": [
    "model = CatBoostClassifier(random_seed=12345, class_weights=[1, 9]) # creating a model\n",
    "param_distributions = {'iterations': range (10, 110, 20), 'max_depth': range (1,6), 'learning_rate': [0.1, 0.2, 0.3]}   #  задаём параметры\n",
    "grid = RandomizedSearchCV(model, param_distributions, scoring=f1, n_jobs=-1, random_state=12345) # creating a Radomizedsearch object\n",
    "grid.fit(tf_idf_train, target_train, verbose=10) #  fitting the model\n",
    "print('F1 of the best Catboost is', grid.best_score_, 'with the hyperparameters', grid.best_params_ ) # printing the best result"
   ]
  },
  {
   "cell_type": "code",
   "execution_count": 53,
   "id": "3a2e0026",
   "metadata": {},
   "outputs": [
    {
     "data": {
      "text/plain": [
       "0.7200000000000001"
      ]
     },
     "execution_count": 53,
     "metadata": {},
     "output_type": "execute_result"
    }
   ],
   "source": [
    "predictions_cb = grid.best_estimator_.predict(tf_idf_test) # predicting the target\n",
    "f1_test_cb = f1_score(target_test, predictions_cb)  #  calculating F1\n",
    "f1_test_cb"
   ]
  },
  {
   "cell_type": "markdown",
   "id": "73ff2ef7",
   "metadata": {},
   "source": [
    "### Logistic Regression\n",
    "We know that logistic regression is very high in data processing speed, however, it does not show optimal quality in all samples.\n",
    "To achieve the maximum F1, let's check how it will change depending on the -'max_iter' hyperparameter - the number of iterations, on the solvers and penalty."
   ]
  },
  {
   "cell_type": "code",
   "execution_count": 37,
   "id": "f55afc3c",
   "metadata": {},
   "outputs": [],
   "source": [
    "pipe_lr = Pipeline([('count_tf_idf', TfidfVectorizer()), \n",
    "                    ('model', LogisticRegression(class_weight='balanced', random_state=42))]) # creating a pipeline"
   ]
  },
  {
   "cell_type": "code",
   "execution_count": 38,
   "id": "f492bd36",
   "metadata": {},
   "outputs": [],
   "source": [
    "grid_params_lr = {'model__max_iter': range (100,1000, 20), 'model__penalty':\n",
    "                  ['l1', 'l2'], 'model__solver': ['liblinear']} # setting the parameters for cross validation"
   ]
  },
  {
   "cell_type": "code",
   "execution_count": 39,
   "id": "bc2ece38",
   "metadata": {},
   "outputs": [
    {
     "name": "stdout",
     "output_type": "stream",
     "text": [
      "F1 of the best linear regression is 0.7501799949483211 with the hyperparameters {'model__solver': 'liblinear', 'model__penalty': 'l1', 'model__max_iter': 140}\n"
     ]
    }
   ],
   "source": [
    "f1 = make_scorer(f1_score) # setting the evaluation metric\n",
    "grid = RandomizedSearchCV(estimator=pipe_lr, param_distributions=grid_params_lr, scoring=f1, n_jobs=-1, random_state=12345) # creating a Randomizedsearch object\n",
    "grid.fit(corpus_train, target_train) #   fitting the model\n",
    "print('F1 of the best linear regression is', grid.best_score_, 'with the hyperparameters', grid.best_params_) # printing the best result"
   ]
  },
  {
   "cell_type": "code",
   "execution_count": 40,
   "id": "97d9ffbe",
   "metadata": {},
   "outputs": [
    {
     "data": {
      "text/plain": [
       "0.7543564556280696"
      ]
     },
     "execution_count": 40,
     "metadata": {},
     "output_type": "execute_result"
    }
   ],
   "source": [
    "predictions_lr = grid.best_estimator_.predict(corpus_test) # predicting the target\n",
    "f1_test_lr = f1_score(target_test, predictions_lr)  #  calculating F1\n",
    "f1_test_lr"
   ]
  },
  {
   "cell_type": "markdown",
   "id": "89328792",
   "metadata": {},
   "source": [
    "So, we have almost reached the set F1 threshold on the training sample and slightly improved the result on the test sample. Linear Regression suits us in terms of quality.\n",
    "Next, using the confusion matrix, we will  analyze the obtained predictions:"
   ]
  },
  {
   "cell_type": "code",
   "execution_count": 41,
   "id": "a242451f",
   "metadata": {},
   "outputs": [
    {
     "data": {
      "image/png": "[encoded data removed]",
      "text/plain": [
       "<Figure size 720x576 with 2 Axes>"
      ]
     },
     "metadata": {
      "needs_background": "light"
     },
     "output_type": "display_data"
    }
   ],
   "source": [
    "plt.figure(figsize=(10,8)) # setting the figure size\n",
    "cf_matrix = confusion_matrix(target_test, predictions_lr) # calculating the confusion matrix\n",
    "ax =  sns.heatmap(cf_matrix/np.sum(cf_matrix), annot=True, fmt='.2%', cmap='Blues') # plotting the matrix\n",
    "ax.set_title('Linear Regression Confusion Matrix', y=1.05, size=15) # setting the plot title\n",
    "ax.set_xlabel('Predicted Values') # setting the name of axis х\n",
    "ax.set_ylabel('Target Values '); # setting the name of axis y"
   ]
  },
  {
   "cell_type": "markdown",
   "id": "9811cd60",
   "metadata": {},
   "source": [
    "The confusion matrix clearly shows us that the logistic regression model copes with the task: comments marked by the model as toxic will be sent for moderation. The share of comments that were not toxic, but were marked as such by the model, is small - only 4% of the total sample size, thus, for moderators, this is not such a large amount of additional work. It's more dangerous to skip negative comments and leave them unmoderated, our model only skips 1.6% of them."
   ]
  },
  {
   "cell_type": "markdown",
   "id": "7957bbb3",
   "metadata": {},
   "source": [
    "**Conclusions:**\n",
    "So, we have set up and trained three target categorical feature prediction models: random forest, gradient boosting, and logistic regression taking into account the class imbalance. By checking the optimal hyperparameters in each model, we managed to achieve the specified threshold of the F1-measure of 0.75 only by the logistic regression model.\n",
    "2 other models based on decision trees did not allow reaching and, moreover, exceeding the specified threshold."
   ]
  },
  {
   "cell_type": "markdown",
   "id": "e2fd5632",
   "metadata": {},
   "source": [
    "## Study Resulst\n",
    "\n",
    "In the course of this study, we built, adjusted by optimal hyperparameters three models known to us:\n",
    " - catboost,\n",
    " - random forest,\n",
    " - logistic regression.\n",
    "\n",
    "We checked the results of model tuning on the test data, previously selected from the general dataset, and also balanced the classes to get the maximum F1 quality metric.\n",
    "According to the results of the comparison, it turned out that the comment class is most qualitatively predicted by **logistic regression, which reached the threshold of the F1 quality metric of 0.75.**\n",
    "\n",
    "This study was carried out on the basis of the studied models for predicting classes that can work with text, and also taking into account memory limitations. Probably, using a different model or adjusting additional, not yet studied hyperparameters, would allow us to achieve an even higher prediction quality score."
   ]
  }
 ],
 "metadata": {
  "ExecuteTimeLog": [
   {
    "duration": 667,
    "start_time": "2022-03-08T15:34:14.246Z"
   },
   {
    "duration": 44,
    "start_time": "2022-03-08T15:34:38.925Z"
   },
   {
    "duration": 40,
    "start_time": "2022-03-08T15:34:39.882Z"
   },
   {
    "duration": 55,
    "start_time": "2022-03-08T15:34:49.258Z"
   },
   {
    "duration": 55,
    "start_time": "2022-03-08T15:35:23.556Z"
   },
   {
    "duration": 17,
    "start_time": "2022-03-08T15:46:17.513Z"
   },
   {
    "duration": 14,
    "start_time": "2022-03-08T15:46:52.976Z"
   },
   {
    "duration": 56,
    "start_time": "2022-03-08T15:49:44.344Z"
   },
   {
    "duration": 31,
    "start_time": "2022-03-08T15:52:03.568Z"
   },
   {
    "duration": 21,
    "start_time": "2022-03-08T15:55:13.609Z"
   },
   {
    "duration": 15,
    "start_time": "2022-03-08T15:55:29.176Z"
   },
   {
    "duration": 13,
    "start_time": "2022-03-08T15:55:39.020Z"
   },
   {
    "duration": 12,
    "start_time": "2022-03-08T15:55:54.155Z"
   },
   {
    "duration": 32,
    "start_time": "2022-03-08T16:03:58.644Z"
   },
   {
    "duration": 13,
    "start_time": "2022-03-08T16:05:29.577Z"
   },
   {
    "duration": 357,
    "start_time": "2022-03-08T16:08:53.653Z"
   },
   {
    "duration": 28,
    "start_time": "2022-03-08T16:09:22.196Z"
   },
   {
    "duration": 245,
    "start_time": "2022-03-08T16:10:05.863Z"
   },
   {
    "duration": 26,
    "start_time": "2022-03-08T16:10:21.729Z"
   },
   {
    "duration": 24,
    "start_time": "2022-03-08T16:11:28.314Z"
   },
   {
    "duration": 15,
    "start_time": "2022-03-08T16:13:46.039Z"
   },
   {
    "duration": 22,
    "start_time": "2022-03-08T16:20:36.997Z"
   },
   {
    "duration": 22,
    "start_time": "2022-03-08T16:21:00.502Z"
   },
   {
    "duration": 20,
    "start_time": "2022-03-08T16:21:11.356Z"
   },
   {
    "duration": 21,
    "start_time": "2022-03-08T16:22:44.768Z"
   },
   {
    "duration": 18,
    "start_time": "2022-03-08T16:23:04.185Z"
   },
   {
    "duration": 61,
    "start_time": "2022-03-08T16:23:16.270Z"
   },
   {
    "duration": 20,
    "start_time": "2022-03-08T16:23:16.333Z"
   },
   {
    "duration": 10,
    "start_time": "2022-03-08T16:27:47.184Z"
   },
   {
    "duration": 10,
    "start_time": "2022-03-08T16:27:48.569Z"
   },
   {
    "duration": 23,
    "start_time": "2022-03-08T16:31:29.349Z"
   },
   {
    "duration": 29,
    "start_time": "2022-03-08T16:40:11.762Z"
   },
   {
    "duration": 13,
    "start_time": "2022-03-08T16:43:03.827Z"
   },
   {
    "duration": 16,
    "start_time": "2022-03-08T16:50:12.822Z"
   },
   {
    "duration": 12,
    "start_time": "2022-03-08T16:51:08.365Z"
   },
   {
    "duration": 15,
    "start_time": "2022-03-08T16:55:50.479Z"
   },
   {
    "duration": 25,
    "start_time": "2022-03-08T16:56:45.138Z"
   },
   {
    "duration": 37,
    "start_time": "2022-03-08T16:56:52.361Z"
   },
   {
    "duration": 41,
    "start_time": "2022-03-08T16:58:09.738Z"
   },
   {
    "duration": 4526,
    "start_time": "2022-03-08T17:00:42.767Z"
   },
   {
    "duration": 4486,
    "start_time": "2022-03-08T17:02:59.102Z"
   },
   {
    "duration": 58,
    "start_time": "2022-03-08T17:03:32.191Z"
   },
   {
    "duration": 62,
    "start_time": "2022-03-08T17:09:27.759Z"
   },
   {
    "duration": 21,
    "start_time": "2022-03-08T17:09:27.824Z"
   },
   {
    "duration": 30,
    "start_time": "2022-03-08T17:09:27.979Z"
   },
   {
    "duration": 14,
    "start_time": "2022-03-08T17:09:28.012Z"
   },
   {
    "duration": 78,
    "start_time": "2022-03-08T17:09:28.028Z"
   },
   {
    "duration": 5,
    "start_time": "2022-03-08T17:13:58.107Z"
   },
   {
    "duration": 6,
    "start_time": "2022-03-08T17:14:05.436Z"
   },
   {
    "duration": 6,
    "start_time": "2022-03-08T17:14:22.178Z"
   },
   {
    "duration": 61,
    "start_time": "2022-03-08T17:14:46.655Z"
   },
   {
    "duration": 21,
    "start_time": "2022-03-08T17:14:46.718Z"
   },
   {
    "duration": 36,
    "start_time": "2022-03-08T17:14:46.741Z"
   },
   {
    "duration": 13,
    "start_time": "2022-03-08T17:14:46.778Z"
   },
   {
    "duration": 82,
    "start_time": "2022-03-08T17:14:46.813Z"
   },
   {
    "duration": 7,
    "start_time": "2022-03-08T17:14:46.898Z"
   },
   {
    "duration": 190,
    "start_time": "2022-03-08T17:15:14.389Z"
   },
   {
    "duration": 11,
    "start_time": "2022-03-08T17:15:23.488Z"
   },
   {
    "duration": 12,
    "start_time": "2022-03-08T17:15:54.694Z"
   },
   {
    "duration": 12,
    "start_time": "2022-03-08T17:16:03.402Z"
   },
   {
    "duration": 8,
    "start_time": "2022-03-08T17:16:51.157Z"
   },
   {
    "duration": 12,
    "start_time": "2022-03-08T17:17:44.640Z"
   },
   {
    "duration": 19,
    "start_time": "2022-03-08T17:20:44.148Z"
   },
   {
    "duration": 743,
    "start_time": "2022-03-09T07:35:42.722Z"
   },
   {
    "duration": 18,
    "start_time": "2022-03-09T07:35:43.467Z"
   },
   {
    "duration": 23,
    "start_time": "2022-03-09T07:35:43.486Z"
   },
   {
    "duration": 11,
    "start_time": "2022-03-09T07:35:43.510Z"
   },
   {
    "duration": 80,
    "start_time": "2022-03-09T07:35:43.522Z"
   },
   {
    "duration": 14,
    "start_time": "2022-03-09T07:35:43.603Z"
   },
   {
    "duration": 197,
    "start_time": "2022-03-09T07:35:43.619Z"
   },
   {
    "duration": 55,
    "start_time": "2022-03-09T07:35:56.589Z"
   },
   {
    "duration": 18,
    "start_time": "2022-03-09T07:35:56.645Z"
   },
   {
    "duration": 39,
    "start_time": "2022-03-09T07:35:56.665Z"
   },
   {
    "duration": 10,
    "start_time": "2022-03-09T07:35:56.706Z"
   },
   {
    "duration": 58,
    "start_time": "2022-03-09T07:35:56.718Z"
   },
   {
    "duration": 35,
    "start_time": "2022-03-09T07:35:56.777Z"
   },
   {
    "duration": 16,
    "start_time": "2022-03-09T07:35:56.814Z"
   },
   {
    "duration": 5,
    "start_time": "2022-03-09T08:00:43.756Z"
   },
   {
    "duration": 1428,
    "start_time": "2022-03-09T08:12:01.438Z"
   },
   {
    "duration": 149,
    "start_time": "2022-03-09T08:12:24.028Z"
   },
   {
    "duration": 162,
    "start_time": "2022-03-09T08:12:38.873Z"
   },
   {
    "duration": 157,
    "start_time": "2022-03-09T08:13:22.396Z"
   },
   {
    "duration": 161,
    "start_time": "2022-03-09T08:14:13.402Z"
   },
   {
    "duration": 66,
    "start_time": "2022-03-09T08:14:48.413Z"
   },
   {
    "duration": 19,
    "start_time": "2022-03-09T08:14:48.481Z"
   },
   {
    "duration": 25,
    "start_time": "2022-03-09T08:14:48.502Z"
   },
   {
    "duration": 12,
    "start_time": "2022-03-09T08:14:48.529Z"
   },
   {
    "duration": 83,
    "start_time": "2022-03-09T08:14:48.543Z"
   },
   {
    "duration": 14,
    "start_time": "2022-03-09T08:14:48.628Z"
   },
   {
    "duration": 25,
    "start_time": "2022-03-09T08:14:48.643Z"
   },
   {
    "duration": 201,
    "start_time": "2022-03-09T08:14:48.670Z"
   },
   {
    "duration": 1230,
    "start_time": "2022-03-09T08:15:41.094Z"
   },
   {
    "duration": 179,
    "start_time": "2022-03-09T08:23:47.339Z"
   },
   {
    "duration": 19,
    "start_time": "2022-03-09T08:25:32.427Z"
   },
   {
    "duration": 19,
    "start_time": "2022-03-09T08:25:57.332Z"
   },
   {
    "duration": 331,
    "start_time": "2022-03-09T09:38:33.598Z"
   },
   {
    "duration": 293,
    "start_time": "2022-03-09T09:38:43.072Z"
   },
   {
    "duration": 16,
    "start_time": "2022-03-09T09:38:59.531Z"
   },
   {
    "duration": 15,
    "start_time": "2022-03-09T09:39:02.904Z"
   },
   {
    "duration": 25,
    "start_time": "2022-03-09T09:39:24.812Z"
   },
   {
    "duration": 11,
    "start_time": "2022-03-09T09:42:07.475Z"
   },
   {
    "duration": 93,
    "start_time": "2022-03-09T09:42:24.726Z"
   },
   {
    "duration": 761,
    "start_time": "2022-03-09T09:42:34.730Z"
   },
   {
    "duration": 769,
    "start_time": "2022-03-09T09:42:47.259Z"
   },
   {
    "duration": 814,
    "start_time": "2022-03-09T09:43:02.898Z"
   },
   {
    "duration": 295,
    "start_time": "2022-03-09T09:43:25.199Z"
   },
   {
    "duration": 35,
    "start_time": "2022-03-09T09:43:38.341Z"
   },
   {
    "duration": 11,
    "start_time": "2022-03-09T09:48:54.516Z"
   },
   {
    "duration": 11,
    "start_time": "2022-03-09T09:49:05.247Z"
   },
   {
    "duration": 23,
    "start_time": "2022-03-09T09:49:26.359Z"
   },
   {
    "duration": 12,
    "start_time": "2022-03-09T09:51:52.412Z"
   },
   {
    "duration": 12,
    "start_time": "2022-03-09T09:52:02.595Z"
   },
   {
    "duration": 105,
    "start_time": "2022-03-09T09:52:51.862Z"
   },
   {
    "duration": 308,
    "start_time": "2022-03-09T09:53:01.865Z"
   },
   {
    "duration": 13,
    "start_time": "2022-03-09T09:54:14.933Z"
   },
   {
    "duration": 7454,
    "start_time": "2022-03-09T09:58:38.132Z"
   },
   {
    "duration": 78,
    "start_time": "2022-03-09T09:59:05.667Z"
   },
   {
    "duration": 26,
    "start_time": "2022-03-09T09:59:05.747Z"
   },
   {
    "duration": 36,
    "start_time": "2022-03-09T09:59:05.775Z"
   },
   {
    "duration": 12,
    "start_time": "2022-03-09T09:59:05.812Z"
   },
   {
    "duration": 86,
    "start_time": "2022-03-09T09:59:05.825Z"
   },
   {
    "duration": 16,
    "start_time": "2022-03-09T09:59:05.913Z"
   },
   {
    "duration": 18,
    "start_time": "2022-03-09T09:59:05.930Z"
   },
   {
    "duration": 50,
    "start_time": "2022-03-09T09:59:05.951Z"
   },
   {
    "duration": 11,
    "start_time": "2022-03-09T09:59:06.003Z"
   },
   {
    "duration": 33,
    "start_time": "2022-03-09T10:00:09.487Z"
   },
   {
    "duration": 119,
    "start_time": "2022-03-09T10:03:33.655Z"
   },
   {
    "duration": 18,
    "start_time": "2022-03-09T10:03:40.220Z"
   },
   {
    "duration": 17,
    "start_time": "2022-03-09T10:04:35.617Z"
   },
   {
    "duration": 28,
    "start_time": "2022-03-09T10:14:33.587Z"
   },
   {
    "duration": 40,
    "start_time": "2022-03-09T10:15:53.935Z"
   },
   {
    "duration": 60,
    "start_time": "2022-03-09T10:17:04.751Z"
   },
   {
    "duration": 57,
    "start_time": "2022-03-09T10:24:01.931Z"
   },
   {
    "duration": 137,
    "start_time": "2022-03-09T10:26:10.605Z"
   },
   {
    "duration": 69,
    "start_time": "2022-03-09T10:26:25.196Z"
   },
   {
    "duration": 58,
    "start_time": "2022-03-09T10:26:47.064Z"
   },
   {
    "duration": 61,
    "start_time": "2022-03-09T10:29:04.203Z"
   },
   {
    "duration": 58,
    "start_time": "2022-03-09T10:29:58.009Z"
   },
   {
    "duration": 60,
    "start_time": "2022-03-09T10:32:55.491Z"
   },
   {
    "duration": 7545,
    "start_time": "2022-03-09T10:43:37.987Z"
   },
   {
    "duration": 56,
    "start_time": "2022-03-09T10:44:08.219Z"
   },
   {
    "duration": 17,
    "start_time": "2022-03-09T10:44:08.277Z"
   },
   {
    "duration": 25,
    "start_time": "2022-03-09T10:44:08.296Z"
   },
   {
    "duration": 11,
    "start_time": "2022-03-09T10:44:08.323Z"
   },
   {
    "duration": 88,
    "start_time": "2022-03-09T10:44:08.336Z"
   },
   {
    "duration": 15,
    "start_time": "2022-03-09T10:44:08.425Z"
   },
   {
    "duration": 20,
    "start_time": "2022-03-09T10:44:08.442Z"
   },
   {
    "duration": 48,
    "start_time": "2022-03-09T10:44:08.464Z"
   },
   {
    "duration": 90,
    "start_time": "2022-03-09T10:44:08.514Z"
   },
   {
    "duration": 113,
    "start_time": "2022-03-09T10:57:53.322Z"
   },
   {
    "duration": 662,
    "start_time": "2022-03-09T15:12:32.045Z"
   },
   {
    "duration": 21,
    "start_time": "2022-03-09T15:21:47.294Z"
   },
   {
    "duration": 19,
    "start_time": "2022-03-09T15:27:57.697Z"
   },
   {
    "duration": 62,
    "start_time": "2022-03-09T15:28:05.579Z"
   },
   {
    "duration": 18,
    "start_time": "2022-03-09T15:28:05.643Z"
   },
   {
    "duration": 28,
    "start_time": "2022-03-09T15:28:05.663Z"
   },
   {
    "duration": 11,
    "start_time": "2022-03-09T15:28:05.693Z"
   },
   {
    "duration": 100,
    "start_time": "2022-03-09T15:28:05.706Z"
   },
   {
    "duration": 37,
    "start_time": "2022-03-09T15:28:05.808Z"
   },
   {
    "duration": 20,
    "start_time": "2022-03-09T15:28:05.847Z"
   },
   {
    "duration": 20,
    "start_time": "2022-03-09T15:28:05.869Z"
   },
   {
    "duration": 99,
    "start_time": "2022-03-09T15:28:05.891Z"
   },
   {
    "duration": 62,
    "start_time": "2022-03-09T16:02:55.436Z"
   },
   {
    "duration": 54,
    "start_time": "2022-03-09T16:09:56.757Z"
   },
   {
    "duration": 55,
    "start_time": "2022-03-09T16:10:23.085Z"
   },
   {
    "duration": 64,
    "start_time": "2022-03-09T16:10:45.660Z"
   },
   {
    "duration": 62,
    "start_time": "2022-03-09T16:10:54.414Z"
   },
   {
    "duration": 49,
    "start_time": "2022-03-09T16:11:12.138Z"
   },
   {
    "duration": 53,
    "start_time": "2022-03-09T16:11:26.730Z"
   },
   {
    "duration": 69,
    "start_time": "2022-03-09T16:13:02.845Z"
   },
   {
    "duration": 52,
    "start_time": "2022-03-09T16:14:43.797Z"
   },
   {
    "duration": 56,
    "start_time": "2022-03-09T16:15:18.751Z"
   },
   {
    "duration": 50,
    "start_time": "2022-03-09T16:15:30.432Z"
   },
   {
    "duration": 51,
    "start_time": "2022-03-09T16:15:35.276Z"
   },
   {
    "duration": 281,
    "start_time": "2022-03-09T16:16:57.235Z"
   },
   {
    "duration": 48,
    "start_time": "2022-03-09T16:17:04.936Z"
   },
   {
    "duration": 67,
    "start_time": "2022-03-09T16:17:34.450Z"
   },
   {
    "duration": 105,
    "start_time": "2022-03-09T16:43:34.459Z"
   },
   {
    "duration": 15,
    "start_time": "2022-03-09T16:53:12.332Z"
   },
   {
    "duration": 9,
    "start_time": "2022-03-09T16:56:23.830Z"
   },
   {
    "duration": 21,
    "start_time": "2022-03-09T17:07:16.034Z"
   },
   {
    "duration": 58,
    "start_time": "2022-03-09T17:20:04.571Z"
   },
   {
    "duration": 205,
    "start_time": "2022-03-09T17:28:10.818Z"
   },
   {
    "duration": 60,
    "start_time": "2022-03-09T17:28:37.253Z"
   },
   {
    "duration": 14,
    "start_time": "2022-03-09T17:28:37.314Z"
   },
   {
    "duration": 8,
    "start_time": "2022-03-09T17:28:37.330Z"
   },
   {
    "duration": 20,
    "start_time": "2022-03-09T17:28:37.340Z"
   },
   {
    "duration": 16,
    "start_time": "2022-03-09T17:28:37.361Z"
   },
   {
    "duration": 98,
    "start_time": "2022-03-09T17:28:37.379Z"
   },
   {
    "duration": 16,
    "start_time": "2022-03-09T17:28:37.479Z"
   },
   {
    "duration": 49,
    "start_time": "2022-03-09T17:28:37.497Z"
   },
   {
    "duration": 22,
    "start_time": "2022-03-09T17:28:37.548Z"
   },
   {
    "duration": 93,
    "start_time": "2022-03-09T17:28:37.571Z"
   },
   {
    "duration": 654,
    "start_time": "2022-03-10T08:27:02.883Z"
   },
   {
    "duration": 14,
    "start_time": "2022-03-10T08:27:03.538Z"
   },
   {
    "duration": 10,
    "start_time": "2022-03-10T08:27:03.554Z"
   },
   {
    "duration": 36,
    "start_time": "2022-03-10T08:27:03.566Z"
   },
   {
    "duration": 17,
    "start_time": "2022-03-10T08:27:03.603Z"
   },
   {
    "duration": 96,
    "start_time": "2022-03-10T08:27:03.622Z"
   },
   {
    "duration": 14,
    "start_time": "2022-03-10T08:27:03.720Z"
   },
   {
    "duration": 14,
    "start_time": "2022-03-10T08:27:03.736Z"
   },
   {
    "duration": 19,
    "start_time": "2022-03-10T08:27:03.751Z"
   },
   {
    "duration": 438,
    "start_time": "2022-03-10T08:27:03.771Z"
   },
   {
    "duration": 96,
    "start_time": "2022-03-10T08:27:53.724Z"
   },
   {
    "duration": 15,
    "start_time": "2022-03-10T08:28:19.883Z"
   },
   {
    "duration": 21,
    "start_time": "2022-03-10T08:29:21.248Z"
   },
   {
    "duration": 14,
    "start_time": "2022-03-10T08:29:37.885Z"
   },
   {
    "duration": 21,
    "start_time": "2022-03-10T08:33:12.109Z"
   },
   {
    "duration": 7446,
    "start_time": "2022-03-10T08:47:53.539Z"
   },
   {
    "duration": 34,
    "start_time": "2022-03-10T08:55:56.335Z"
   },
   {
    "duration": 63,
    "start_time": "2022-03-10T08:56:03.508Z"
   },
   {
    "duration": 12,
    "start_time": "2022-03-10T08:56:03.573Z"
   },
   {
    "duration": 8,
    "start_time": "2022-03-10T08:56:03.587Z"
   },
   {
    "duration": 18,
    "start_time": "2022-03-10T08:56:03.624Z"
   },
   {
    "duration": 16,
    "start_time": "2022-03-10T08:56:03.644Z"
   },
   {
    "duration": 32,
    "start_time": "2022-03-10T08:56:03.662Z"
   },
   {
    "duration": 37,
    "start_time": "2022-03-10T08:56:03.696Z"
   },
   {
    "duration": 14,
    "start_time": "2022-03-10T08:56:03.734Z"
   },
   {
    "duration": 21,
    "start_time": "2022-03-10T08:56:03.749Z"
   },
   {
    "duration": 45,
    "start_time": "2022-03-10T08:56:03.771Z"
   },
   {
    "duration": 63,
    "start_time": "2022-03-10T08:56:03.818Z"
   },
   {
    "duration": 7627,
    "start_time": "2022-03-10T08:57:53.559Z"
   },
   {
    "duration": 43,
    "start_time": "2022-03-10T08:59:08.955Z"
   },
   {
    "duration": 62,
    "start_time": "2022-03-10T08:59:18.078Z"
   },
   {
    "duration": 11,
    "start_time": "2022-03-10T08:59:18.142Z"
   },
   {
    "duration": 7,
    "start_time": "2022-03-10T08:59:18.155Z"
   },
   {
    "duration": 39,
    "start_time": "2022-03-10T08:59:18.163Z"
   },
   {
    "duration": 22,
    "start_time": "2022-03-10T08:59:18.204Z"
   },
   {
    "duration": 36,
    "start_time": "2022-03-10T08:59:18.228Z"
   },
   {
    "duration": 59,
    "start_time": "2022-03-10T08:59:18.266Z"
   },
   {
    "duration": 13,
    "start_time": "2022-03-10T08:59:18.326Z"
   },
   {
    "duration": 17,
    "start_time": "2022-03-10T08:59:18.341Z"
   },
   {
    "duration": 52,
    "start_time": "2022-03-10T08:59:18.359Z"
   },
   {
    "duration": 62,
    "start_time": "2022-03-10T08:59:18.413Z"
   },
   {
    "duration": 42,
    "start_time": "2022-03-10T08:59:39.434Z"
   },
   {
    "duration": 11,
    "start_time": "2022-03-10T09:00:23.840Z"
   },
   {
    "duration": 21,
    "start_time": "2022-03-10T09:00:34.992Z"
   },
   {
    "duration": 54,
    "start_time": "2022-03-10T09:00:42.400Z"
   },
   {
    "duration": 12,
    "start_time": "2022-03-10T09:00:42.455Z"
   },
   {
    "duration": 7,
    "start_time": "2022-03-10T09:00:42.469Z"
   },
   {
    "duration": 26,
    "start_time": "2022-03-10T09:00:42.478Z"
   },
   {
    "duration": 16,
    "start_time": "2022-03-10T09:00:42.520Z"
   },
   {
    "duration": 21,
    "start_time": "2022-03-10T09:00:42.538Z"
   },
   {
    "duration": 54,
    "start_time": "2022-03-10T09:00:42.561Z"
   },
   {
    "duration": 15,
    "start_time": "2022-03-10T09:00:42.616Z"
   },
   {
    "duration": 18,
    "start_time": "2022-03-10T09:00:42.639Z"
   },
   {
    "duration": 24,
    "start_time": "2022-03-10T09:00:42.659Z"
   },
   {
    "duration": 65,
    "start_time": "2022-03-10T09:00:42.701Z"
   },
   {
    "duration": 36,
    "start_time": "2022-03-10T09:03:05.606Z"
   },
   {
    "duration": 33,
    "start_time": "2022-03-10T09:03:11.342Z"
   },
   {
    "duration": 66,
    "start_time": "2022-03-10T09:03:20.741Z"
   },
   {
    "duration": 14,
    "start_time": "2022-03-10T09:03:20.808Z"
   },
   {
    "duration": 8,
    "start_time": "2022-03-10T09:03:20.824Z"
   },
   {
    "duration": 19,
    "start_time": "2022-03-10T09:03:20.833Z"
   },
   {
    "duration": 17,
    "start_time": "2022-03-10T09:03:20.948Z"
   },
   {
    "duration": 34,
    "start_time": "2022-03-10T09:03:20.967Z"
   },
   {
    "duration": 36,
    "start_time": "2022-03-10T09:03:21.003Z"
   },
   {
    "duration": 15,
    "start_time": "2022-03-10T09:03:21.041Z"
   },
   {
    "duration": 49,
    "start_time": "2022-03-10T09:03:21.057Z"
   },
   {
    "duration": 21,
    "start_time": "2022-03-10T09:03:21.159Z"
   },
   {
    "duration": 62,
    "start_time": "2022-03-10T09:03:21.182Z"
   },
   {
    "duration": 40,
    "start_time": "2022-03-10T09:03:36.919Z"
   },
   {
    "duration": 38,
    "start_time": "2022-03-10T09:05:40.182Z"
   },
   {
    "duration": 67,
    "start_time": "2022-03-10T09:05:46.306Z"
   },
   {
    "duration": 13,
    "start_time": "2022-03-10T09:05:46.375Z"
   },
   {
    "duration": 7,
    "start_time": "2022-03-10T09:05:46.390Z"
   },
   {
    "duration": 20,
    "start_time": "2022-03-10T09:05:46.399Z"
   },
   {
    "duration": 17,
    "start_time": "2022-03-10T09:05:46.459Z"
   },
   {
    "duration": 40,
    "start_time": "2022-03-10T09:05:46.478Z"
   },
   {
    "duration": 38,
    "start_time": "2022-03-10T09:05:46.519Z"
   },
   {
    "duration": 15,
    "start_time": "2022-03-10T09:05:46.559Z"
   },
   {
    "duration": 19,
    "start_time": "2022-03-10T09:05:46.602Z"
   },
   {
    "duration": 23,
    "start_time": "2022-03-10T09:05:46.623Z"
   },
   {
    "duration": 98,
    "start_time": "2022-03-10T09:05:46.647Z"
   },
   {
    "duration": 67,
    "start_time": "2022-03-10T09:06:29.540Z"
   },
   {
    "duration": 12,
    "start_time": "2022-03-10T09:06:29.609Z"
   },
   {
    "duration": 7,
    "start_time": "2022-03-10T09:06:29.623Z"
   },
   {
    "duration": 19,
    "start_time": "2022-03-10T09:06:29.631Z"
   },
   {
    "duration": 17,
    "start_time": "2022-03-10T09:06:29.656Z"
   },
   {
    "duration": 60,
    "start_time": "2022-03-10T09:06:29.675Z"
   },
   {
    "duration": 35,
    "start_time": "2022-03-10T09:06:29.737Z"
   },
   {
    "duration": 14,
    "start_time": "2022-03-10T09:06:29.802Z"
   },
   {
    "duration": 21,
    "start_time": "2022-03-10T09:06:29.818Z"
   },
   {
    "duration": 19,
    "start_time": "2022-03-10T09:06:29.840Z"
   },
   {
    "duration": 82,
    "start_time": "2022-03-10T09:06:29.861Z"
   },
   {
    "duration": 55,
    "start_time": "2022-03-10T09:19:54.396Z"
   },
   {
    "duration": 13,
    "start_time": "2022-03-10T09:19:54.452Z"
   },
   {
    "duration": 9,
    "start_time": "2022-03-10T09:19:54.467Z"
   },
   {
    "duration": 35,
    "start_time": "2022-03-10T09:19:54.478Z"
   },
   {
    "duration": 15,
    "start_time": "2022-03-10T09:19:54.514Z"
   },
   {
    "duration": 34,
    "start_time": "2022-03-10T09:19:54.560Z"
   },
   {
    "duration": 38,
    "start_time": "2022-03-10T09:19:54.596Z"
   },
   {
    "duration": 16,
    "start_time": "2022-03-10T09:19:54.636Z"
   },
   {
    "duration": 21,
    "start_time": "2022-03-10T09:19:54.654Z"
   },
   {
    "duration": 20,
    "start_time": "2022-03-10T09:19:54.701Z"
   },
   {
    "duration": 80,
    "start_time": "2022-03-10T09:19:54.722Z"
   },
   {
    "duration": 67,
    "start_time": "2022-03-10T09:37:12.942Z"
   },
   {
    "duration": 12,
    "start_time": "2022-03-10T09:37:13.010Z"
   },
   {
    "duration": 8,
    "start_time": "2022-03-10T09:37:13.024Z"
   },
   {
    "duration": 18,
    "start_time": "2022-03-10T09:37:13.034Z"
   },
   {
    "duration": 17,
    "start_time": "2022-03-10T09:37:13.054Z"
   },
   {
    "duration": 35,
    "start_time": "2022-03-10T09:37:13.101Z"
   },
   {
    "duration": 36,
    "start_time": "2022-03-10T09:37:13.138Z"
   },
   {
    "duration": 39,
    "start_time": "2022-03-10T09:37:13.175Z"
   },
   {
    "duration": 18,
    "start_time": "2022-03-10T09:37:13.215Z"
   },
   {
    "duration": 21,
    "start_time": "2022-03-10T09:37:13.235Z"
   },
   {
    "duration": 87,
    "start_time": "2022-03-10T09:37:13.257Z"
   },
   {
    "duration": 34,
    "start_time": "2022-03-10T09:38:26.476Z"
   },
   {
    "duration": 54,
    "start_time": "2022-03-10T09:38:37.038Z"
   },
   {
    "duration": 12,
    "start_time": "2022-03-10T09:38:37.094Z"
   },
   {
    "duration": 8,
    "start_time": "2022-03-10T09:38:37.108Z"
   },
   {
    "duration": 17,
    "start_time": "2022-03-10T09:38:37.117Z"
   },
   {
    "duration": 15,
    "start_time": "2022-03-10T09:38:37.136Z"
   },
   {
    "duration": 60,
    "start_time": "2022-03-10T09:38:37.152Z"
   },
   {
    "duration": 36,
    "start_time": "2022-03-10T09:38:37.214Z"
   },
   {
    "duration": 13,
    "start_time": "2022-03-10T09:38:37.252Z"
   },
   {
    "duration": 47,
    "start_time": "2022-03-10T09:38:37.267Z"
   },
   {
    "duration": 19,
    "start_time": "2022-03-10T09:38:37.315Z"
   },
   {
    "duration": 84,
    "start_time": "2022-03-10T09:38:37.335Z"
   },
   {
    "duration": 9130,
    "start_time": "2022-03-10T10:11:44.713Z"
   },
   {
    "duration": 7420,
    "start_time": "2022-03-10T10:12:59.840Z"
   },
   {
    "duration": 7390,
    "start_time": "2022-03-10T10:13:21.016Z"
   },
   {
    "duration": 57,
    "start_time": "2022-03-10T10:13:34.723Z"
   },
   {
    "duration": 13,
    "start_time": "2022-03-10T10:13:34.781Z"
   },
   {
    "duration": 8,
    "start_time": "2022-03-10T10:13:34.797Z"
   },
   {
    "duration": 21,
    "start_time": "2022-03-10T10:13:34.807Z"
   },
   {
    "duration": 18,
    "start_time": "2022-03-10T10:13:34.830Z"
   },
   {
    "duration": 66,
    "start_time": "2022-03-10T10:13:34.850Z"
   },
   {
    "duration": 20,
    "start_time": "2022-03-10T10:13:34.918Z"
   },
   {
    "duration": 18,
    "start_time": "2022-03-10T10:13:34.940Z"
   },
   {
    "duration": 50,
    "start_time": "2022-03-10T10:13:34.959Z"
   },
   {
    "duration": 20,
    "start_time": "2022-03-10T10:13:35.011Z"
   },
   {
    "duration": 22,
    "start_time": "2022-03-10T10:13:35.033Z"
   },
   {
    "duration": 93,
    "start_time": "2022-03-10T10:13:35.057Z"
   },
   {
    "duration": 7565,
    "start_time": "2022-03-10T10:17:16.919Z"
   },
   {
    "duration": 55,
    "start_time": "2022-03-10T10:17:28.836Z"
   },
   {
    "duration": 14,
    "start_time": "2022-03-10T10:17:28.893Z"
   },
   {
    "duration": 8,
    "start_time": "2022-03-10T10:17:28.909Z"
   },
   {
    "duration": 17,
    "start_time": "2022-03-10T10:17:28.919Z"
   },
   {
    "duration": 15,
    "start_time": "2022-03-10T10:17:28.938Z"
   },
   {
    "duration": 60,
    "start_time": "2022-03-10T10:17:28.955Z"
   },
   {
    "duration": 18,
    "start_time": "2022-03-10T10:17:29.017Z"
   },
   {
    "duration": 12,
    "start_time": "2022-03-10T10:17:29.037Z"
   },
   {
    "duration": 16,
    "start_time": "2022-03-10T10:17:29.050Z"
   },
   {
    "duration": 47,
    "start_time": "2022-03-10T10:17:29.067Z"
   },
   {
    "duration": 19,
    "start_time": "2022-03-10T10:17:29.115Z"
   },
   {
    "duration": 80,
    "start_time": "2022-03-10T10:17:29.136Z"
   },
   {
    "duration": 112,
    "start_time": "2022-03-10T10:22:35.630Z"
   },
   {
    "duration": 6,
    "start_time": "2022-03-10T10:23:09.778Z"
   },
   {
    "duration": 119,
    "start_time": "2022-03-10T10:26:51.322Z"
   },
   {
    "duration": 1899,
    "start_time": "2022-03-10T10:35:58.511Z"
   },
   {
    "duration": 5,
    "start_time": "2022-03-10T10:36:15.506Z"
   },
   {
    "duration": 4,
    "start_time": "2022-03-10T10:36:23.347Z"
   },
   {
    "duration": 6,
    "start_time": "2022-03-10T10:36:37.385Z"
   },
   {
    "duration": 6,
    "start_time": "2022-03-10T10:37:05.259Z"
   },
   {
    "duration": 286,
    "start_time": "2022-03-10T10:45:02.650Z"
   },
   {
    "duration": 56,
    "start_time": "2022-03-10T10:45:10.806Z"
   },
   {
    "duration": 17,
    "start_time": "2022-03-10T10:45:10.863Z"
   },
   {
    "duration": 21,
    "start_time": "2022-03-10T10:45:10.882Z"
   },
   {
    "duration": 19,
    "start_time": "2022-03-10T10:45:10.904Z"
   },
   {
    "duration": 16,
    "start_time": "2022-03-10T10:45:10.925Z"
   },
   {
    "duration": 60,
    "start_time": "2022-03-10T10:45:10.943Z"
   },
   {
    "duration": 22,
    "start_time": "2022-03-10T10:45:11.005Z"
   },
   {
    "duration": 19,
    "start_time": "2022-03-10T10:45:11.029Z"
   },
   {
    "duration": 8,
    "start_time": "2022-03-10T10:45:11.050Z"
   },
   {
    "duration": 43,
    "start_time": "2022-03-10T10:45:11.059Z"
   },
   {
    "duration": 295,
    "start_time": "2022-03-10T10:45:11.104Z"
   },
   {
    "duration": 209,
    "start_time": "2022-03-10T10:45:11.191Z"
   },
   {
    "duration": 203,
    "start_time": "2022-03-10T10:45:11.199Z"
   },
   {
    "duration": 200,
    "start_time": "2022-03-10T10:45:11.202Z"
   },
   {
    "duration": 198,
    "start_time": "2022-03-10T10:45:11.206Z"
   },
   {
    "duration": 17,
    "start_time": "2022-03-10T10:45:32.916Z"
   },
   {
    "duration": 16,
    "start_time": "2022-03-10T10:47:29.033Z"
   },
   {
    "duration": 7,
    "start_time": "2022-03-10T10:48:12.295Z"
   },
   {
    "duration": 5,
    "start_time": "2022-03-10T10:48:36.311Z"
   },
   {
    "duration": 17,
    "start_time": "2022-03-10T10:49:35.530Z"
   },
   {
    "duration": 16,
    "start_time": "2022-03-10T10:51:17.503Z"
   },
   {
    "duration": 66,
    "start_time": "2022-03-10T10:51:51.583Z"
   },
   {
    "duration": 13,
    "start_time": "2022-03-10T10:51:51.651Z"
   },
   {
    "duration": 8,
    "start_time": "2022-03-10T10:51:51.665Z"
   },
   {
    "duration": 40,
    "start_time": "2022-03-10T10:51:51.675Z"
   },
   {
    "duration": 18,
    "start_time": "2022-03-10T10:51:51.717Z"
   },
   {
    "duration": 34,
    "start_time": "2022-03-10T10:51:51.736Z"
   },
   {
    "duration": 40,
    "start_time": "2022-03-10T10:51:51.771Z"
   },
   {
    "duration": 13,
    "start_time": "2022-03-10T10:51:51.814Z"
   },
   {
    "duration": 8,
    "start_time": "2022-03-10T10:51:51.828Z"
   },
   {
    "duration": 6,
    "start_time": "2022-03-10T10:51:51.838Z"
   },
   {
    "duration": 16,
    "start_time": "2022-03-10T10:51:51.845Z"
   },
   {
    "duration": 52,
    "start_time": "2022-03-10T10:51:51.863Z"
   },
   {
    "duration": 19,
    "start_time": "2022-03-10T10:51:51.917Z"
   },
   {
    "duration": 1412,
    "start_time": "2022-03-10T10:51:51.938Z"
   },
   {
    "duration": 802,
    "start_time": "2022-03-10T10:51:52.550Z"
   },
   {
    "duration": 313,
    "start_time": "2022-03-10T10:58:20.314Z"
   },
   {
    "duration": 377,
    "start_time": "2022-03-10T10:59:24.818Z"
   },
   {
    "duration": 497,
    "start_time": "2022-03-10T11:01:11.493Z"
   },
   {
    "duration": 307,
    "start_time": "2022-03-10T11:04:16.854Z"
   },
   {
    "duration": 53,
    "start_time": "2022-03-10T11:04:25.089Z"
   },
   {
    "duration": 13,
    "start_time": "2022-03-10T11:04:25.144Z"
   },
   {
    "duration": 8,
    "start_time": "2022-03-10T11:04:25.158Z"
   },
   {
    "duration": 42,
    "start_time": "2022-03-10T11:04:25.168Z"
   },
   {
    "duration": 15,
    "start_time": "2022-03-10T11:04:25.211Z"
   },
   {
    "duration": 35,
    "start_time": "2022-03-10T11:04:25.227Z"
   },
   {
    "duration": 44,
    "start_time": "2022-03-10T11:04:25.264Z"
   },
   {
    "duration": 12,
    "start_time": "2022-03-10T11:04:25.310Z"
   },
   {
    "duration": 6,
    "start_time": "2022-03-10T11:04:25.324Z"
   },
   {
    "duration": 5,
    "start_time": "2022-03-10T11:04:25.332Z"
   },
   {
    "duration": 16,
    "start_time": "2022-03-10T11:04:25.339Z"
   },
   {
    "duration": 7,
    "start_time": "2022-03-10T11:04:25.357Z"
   },
   {
    "duration": 37,
    "start_time": "2022-03-10T11:04:25.366Z"
   },
   {
    "duration": 11,
    "start_time": "2022-03-10T11:04:25.404Z"
   },
   {
    "duration": 18,
    "start_time": "2022-03-10T11:04:25.416Z"
   },
   {
    "duration": 1375,
    "start_time": "2022-03-10T11:04:25.435Z"
   },
   {
    "duration": 864,
    "start_time": "2022-03-10T11:04:25.947Z"
   },
   {
    "duration": 93,
    "start_time": "2022-03-10T11:16:39.913Z"
   },
   {
    "duration": 53,
    "start_time": "2022-03-10T11:16:44.841Z"
   },
   {
    "duration": 13,
    "start_time": "2022-03-10T11:16:44.896Z"
   },
   {
    "duration": 8,
    "start_time": "2022-03-10T11:16:44.912Z"
   },
   {
    "duration": 19,
    "start_time": "2022-03-10T11:16:44.922Z"
   },
   {
    "duration": 17,
    "start_time": "2022-03-10T11:16:44.943Z"
   },
   {
    "duration": 73,
    "start_time": "2022-03-10T11:16:44.961Z"
   },
   {
    "duration": 16,
    "start_time": "2022-03-10T11:16:45.036Z"
   },
   {
    "duration": 12,
    "start_time": "2022-03-10T11:16:45.054Z"
   },
   {
    "duration": 8,
    "start_time": "2022-03-10T11:16:45.067Z"
   },
   {
    "duration": 5,
    "start_time": "2022-03-10T11:16:45.101Z"
   },
   {
    "duration": 17,
    "start_time": "2022-03-10T11:16:45.107Z"
   },
   {
    "duration": 10,
    "start_time": "2022-03-10T11:16:45.125Z"
   },
   {
    "duration": 129,
    "start_time": "2022-03-10T11:16:45.136Z"
   },
   {
    "duration": 727,
    "start_time": "2022-03-10T11:16:44.540Z"
   },
   {
    "duration": 724,
    "start_time": "2022-03-10T11:16:44.543Z"
   },
   {
    "duration": 724,
    "start_time": "2022-03-10T11:16:44.545Z"
   },
   {
    "duration": 678,
    "start_time": "2022-03-10T11:16:44.592Z"
   },
   {
    "duration": 55,
    "start_time": "2022-03-10T11:18:09.561Z"
   },
   {
    "duration": 12,
    "start_time": "2022-03-10T11:18:09.618Z"
   },
   {
    "duration": 33,
    "start_time": "2022-03-10T11:18:09.632Z"
   },
   {
    "duration": 31,
    "start_time": "2022-03-10T11:18:09.666Z"
   },
   {
    "duration": 14,
    "start_time": "2022-03-10T11:18:09.699Z"
   },
   {
    "duration": 50,
    "start_time": "2022-03-10T11:18:09.715Z"
   },
   {
    "duration": 14,
    "start_time": "2022-03-10T11:18:09.767Z"
   },
   {
    "duration": 23,
    "start_time": "2022-03-10T11:18:09.783Z"
   },
   {
    "duration": 20,
    "start_time": "2022-03-10T11:18:09.808Z"
   },
   {
    "duration": 26,
    "start_time": "2022-03-10T11:18:09.829Z"
   },
   {
    "duration": 23,
    "start_time": "2022-03-10T11:18:09.857Z"
   },
   {
    "duration": 20,
    "start_time": "2022-03-10T11:18:09.881Z"
   },
   {
    "duration": 24,
    "start_time": "2022-03-10T11:18:09.902Z"
   },
   {
    "duration": 28,
    "start_time": "2022-03-10T11:18:09.927Z"
   },
   {
    "duration": 38,
    "start_time": "2022-03-10T11:18:09.956Z"
   },
   {
    "duration": 1422,
    "start_time": "2022-03-10T11:18:09.995Z"
   },
   {
    "duration": 571,
    "start_time": "2022-03-10T11:18:10.847Z"
   },
   {
    "duration": 57,
    "start_time": "2022-03-10T11:21:22.602Z"
   },
   {
    "duration": 15,
    "start_time": "2022-03-10T11:21:22.661Z"
   },
   {
    "duration": 24,
    "start_time": "2022-03-10T11:21:22.678Z"
   },
   {
    "duration": 18,
    "start_time": "2022-03-10T11:21:22.704Z"
   },
   {
    "duration": 15,
    "start_time": "2022-03-10T11:21:22.724Z"
   },
   {
    "duration": 60,
    "start_time": "2022-03-10T11:21:22.741Z"
   },
   {
    "duration": 15,
    "start_time": "2022-03-10T11:21:22.803Z"
   },
   {
    "duration": 13,
    "start_time": "2022-03-10T11:21:22.820Z"
   },
   {
    "duration": 6,
    "start_time": "2022-03-10T11:21:22.835Z"
   },
   {
    "duration": 6,
    "start_time": "2022-03-10T11:21:22.842Z"
   },
   {
    "duration": 108,
    "start_time": "2022-03-10T11:21:22.849Z"
   },
   {
    "duration": 561,
    "start_time": "2022-03-10T11:21:22.397Z"
   },
   {
    "duration": 558,
    "start_time": "2022-03-10T11:21:22.401Z"
   },
   {
    "duration": 553,
    "start_time": "2022-03-10T11:21:22.407Z"
   },
   {
    "duration": 548,
    "start_time": "2022-03-10T11:21:22.413Z"
   },
   {
    "duration": 543,
    "start_time": "2022-03-10T11:21:22.418Z"
   },
   {
    "duration": 540,
    "start_time": "2022-03-10T11:21:22.422Z"
   },
   {
    "duration": 614,
    "start_time": "2022-03-10T14:37:18.510Z"
   },
   {
    "duration": 11,
    "start_time": "2022-03-10T14:37:19.126Z"
   },
   {
    "duration": 20,
    "start_time": "2022-03-10T14:37:19.139Z"
   },
   {
    "duration": 34,
    "start_time": "2022-03-10T14:37:19.160Z"
   },
   {
    "duration": 18,
    "start_time": "2022-03-10T14:37:19.195Z"
   },
   {
    "duration": 40,
    "start_time": "2022-03-10T14:37:19.214Z"
   },
   {
    "duration": 15,
    "start_time": "2022-03-10T14:37:19.255Z"
   },
   {
    "duration": 12,
    "start_time": "2022-03-10T14:37:19.272Z"
   },
   {
    "duration": 22,
    "start_time": "2022-03-10T14:37:19.285Z"
   },
   {
    "duration": 6,
    "start_time": "2022-03-10T14:37:19.308Z"
   },
   {
    "duration": 18,
    "start_time": "2022-03-10T14:37:19.315Z"
   },
   {
    "duration": 23,
    "start_time": "2022-03-10T14:37:19.334Z"
   },
   {
    "duration": 8,
    "start_time": "2022-03-10T14:37:19.359Z"
   },
   {
    "duration": 19,
    "start_time": "2022-03-10T14:37:19.369Z"
   },
   {
    "duration": 35,
    "start_time": "2022-03-10T14:37:19.390Z"
   },
   {
    "duration": 18,
    "start_time": "2022-03-10T14:37:19.426Z"
   },
   {
    "duration": 67,
    "start_time": "2022-03-10T14:37:19.445Z"
   },
   {
    "duration": 18,
    "start_time": "2022-03-10T15:11:59.861Z"
   },
   {
    "duration": 16,
    "start_time": "2022-03-10T15:27:35.044Z"
   },
   {
    "duration": 19,
    "start_time": "2022-03-10T15:28:00.673Z"
   },
   {
    "duration": 2,
    "start_time": "2022-03-10T15:34:52.303Z"
   },
   {
    "duration": 20,
    "start_time": "2022-03-10T15:48:28.040Z"
   },
   {
    "duration": 19,
    "start_time": "2022-03-10T15:50:22.324Z"
   },
   {
    "duration": 17,
    "start_time": "2022-03-10T15:52:16.317Z"
   },
   {
    "duration": 17,
    "start_time": "2022-03-10T15:52:26.782Z"
   },
   {
    "duration": 22,
    "start_time": "2022-03-10T15:53:10.174Z"
   },
   {
    "duration": 22,
    "start_time": "2022-03-10T15:55:13.200Z"
   },
   {
    "duration": 21,
    "start_time": "2022-03-10T15:55:31.274Z"
   },
   {
    "duration": 20,
    "start_time": "2022-03-10T15:59:32.039Z"
   },
   {
    "duration": 23,
    "start_time": "2022-03-10T16:03:12.247Z"
   },
   {
    "duration": 20,
    "start_time": "2022-03-10T16:05:49.466Z"
   },
   {
    "duration": 53,
    "start_time": "2022-03-10T16:46:42.478Z"
   },
   {
    "duration": 13,
    "start_time": "2022-03-10T16:46:42.533Z"
   },
   {
    "duration": 8,
    "start_time": "2022-03-10T16:46:42.586Z"
   },
   {
    "duration": 17,
    "start_time": "2022-03-10T16:46:42.597Z"
   },
   {
    "duration": 22,
    "start_time": "2022-03-10T16:46:42.706Z"
   },
   {
    "duration": 52,
    "start_time": "2022-03-10T16:46:42.730Z"
   },
   {
    "duration": 37,
    "start_time": "2022-03-10T16:46:42.784Z"
   },
   {
    "duration": 14,
    "start_time": "2022-03-10T16:46:42.823Z"
   },
   {
    "duration": 7,
    "start_time": "2022-03-10T16:46:42.838Z"
   },
   {
    "duration": 6,
    "start_time": "2022-03-10T16:46:42.847Z"
   },
   {
    "duration": 8,
    "start_time": "2022-03-10T16:46:42.854Z"
   },
   {
    "duration": 10,
    "start_time": "2022-03-10T16:46:42.905Z"
   },
   {
    "duration": 9,
    "start_time": "2022-03-10T16:46:42.916Z"
   },
   {
    "duration": 11,
    "start_time": "2022-03-10T16:46:42.927Z"
   },
   {
    "duration": 18,
    "start_time": "2022-03-10T16:46:42.945Z"
   },
   {
    "duration": 44,
    "start_time": "2022-03-10T16:46:42.964Z"
   },
   {
    "duration": 25,
    "start_time": "2022-03-10T16:46:43.010Z"
   },
   {
    "duration": 27,
    "start_time": "2022-03-10T16:46:43.037Z"
   },
   {
    "duration": 27,
    "start_time": "2022-03-10T16:46:43.126Z"
   },
   {
    "duration": 24,
    "start_time": "2022-03-10T16:46:43.155Z"
   },
   {
    "duration": 546,
    "start_time": "2022-03-10T16:53:19.384Z"
   },
   {
    "duration": 529,
    "start_time": "2022-03-10T16:53:19.402Z"
   },
   {
    "duration": 520,
    "start_time": "2022-03-10T16:53:19.411Z"
   },
   {
    "duration": 452,
    "start_time": "2022-03-10T16:53:19.480Z"
   },
   {
    "duration": 446,
    "start_time": "2022-03-10T16:53:19.487Z"
   },
   {
    "duration": 442,
    "start_time": "2022-03-10T16:53:19.492Z"
   },
   {
    "duration": 437,
    "start_time": "2022-03-10T16:53:19.498Z"
   },
   {
    "duration": 434,
    "start_time": "2022-03-10T16:53:19.502Z"
   },
   {
    "duration": 425,
    "start_time": "2022-03-10T16:53:19.512Z"
   },
   {
    "duration": 419,
    "start_time": "2022-03-10T16:53:19.520Z"
   },
   {
    "duration": 362,
    "start_time": "2022-03-10T16:53:19.578Z"
   },
   {
    "duration": 357,
    "start_time": "2022-03-10T16:53:19.583Z"
   },
   {
    "duration": 353,
    "start_time": "2022-03-10T16:53:19.589Z"
   },
   {
    "duration": 349,
    "start_time": "2022-03-10T16:53:19.593Z"
   },
   {
    "duration": 345,
    "start_time": "2022-03-10T16:53:19.598Z"
   },
   {
    "duration": 337,
    "start_time": "2022-03-10T16:53:19.607Z"
   },
   {
    "duration": 335,
    "start_time": "2022-03-10T16:53:19.610Z"
   },
   {
    "duration": 311,
    "start_time": "2022-03-10T16:53:19.635Z"
   },
   {
    "duration": 309,
    "start_time": "2022-03-10T16:53:19.638Z"
   },
   {
    "duration": 272,
    "start_time": "2022-03-10T16:53:19.676Z"
   },
   {
    "duration": 7425,
    "start_time": "2022-03-10T16:53:33.729Z"
   },
   {
    "duration": 83,
    "start_time": "2022-03-10T16:53:47.950Z"
   },
   {
    "duration": 18,
    "start_time": "2022-03-10T16:53:48.035Z"
   },
   {
    "duration": 9,
    "start_time": "2022-03-10T16:53:48.055Z"
   },
   {
    "duration": 43,
    "start_time": "2022-03-10T16:53:48.066Z"
   },
   {
    "duration": 22,
    "start_time": "2022-03-10T16:53:48.111Z"
   },
   {
    "duration": 51,
    "start_time": "2022-03-10T16:53:48.134Z"
   },
   {
    "duration": 21,
    "start_time": "2022-03-10T16:53:48.205Z"
   },
   {
    "duration": 21,
    "start_time": "2022-03-10T16:53:48.228Z"
   },
   {
    "duration": 6,
    "start_time": "2022-03-10T16:53:48.251Z"
   },
   {
    "duration": 8,
    "start_time": "2022-03-10T16:53:48.258Z"
   },
   {
    "duration": 42,
    "start_time": "2022-03-10T16:53:48.267Z"
   },
   {
    "duration": 11,
    "start_time": "2022-03-10T16:53:48.310Z"
   },
   {
    "duration": 10,
    "start_time": "2022-03-10T16:53:48.322Z"
   },
   {
    "duration": 12,
    "start_time": "2022-03-10T16:53:48.333Z"
   },
   {
    "duration": 20,
    "start_time": "2022-03-10T16:53:48.347Z"
   },
   {
    "duration": 37,
    "start_time": "2022-03-10T16:53:48.369Z"
   },
   {
    "duration": 21,
    "start_time": "2022-03-10T16:53:48.408Z"
   },
   {
    "duration": 20,
    "start_time": "2022-03-10T16:53:48.430Z"
   },
   {
    "duration": 17,
    "start_time": "2022-03-10T16:53:48.451Z"
   },
   {
    "duration": 45,
    "start_time": "2022-03-10T16:53:48.469Z"
   },
   {
    "duration": 8,
    "start_time": "2022-03-10T16:55:29.550Z"
   },
   {
    "duration": 33,
    "start_time": "2022-03-10T16:59:58.368Z"
   },
   {
    "duration": 7303,
    "start_time": "2022-03-10T17:01:36.131Z"
   },
   {
    "duration": 59,
    "start_time": "2022-03-10T17:01:50.954Z"
   },
   {
    "duration": 15,
    "start_time": "2022-03-10T17:01:51.015Z"
   },
   {
    "duration": 9,
    "start_time": "2022-03-10T17:01:51.032Z"
   },
   {
    "duration": 20,
    "start_time": "2022-03-10T17:01:51.043Z"
   },
   {
    "duration": 48,
    "start_time": "2022-03-10T17:01:51.065Z"
   },
   {
    "duration": 40,
    "start_time": "2022-03-10T17:01:51.115Z"
   },
   {
    "duration": 16,
    "start_time": "2022-03-10T17:01:51.157Z"
   },
   {
    "duration": 14,
    "start_time": "2022-03-10T17:01:51.205Z"
   },
   {
    "duration": 8,
    "start_time": "2022-03-10T17:01:51.220Z"
   },
   {
    "duration": 8,
    "start_time": "2022-03-10T17:01:51.229Z"
   },
   {
    "duration": 8,
    "start_time": "2022-03-10T17:01:51.238Z"
   },
   {
    "duration": 10,
    "start_time": "2022-03-10T17:01:51.248Z"
   },
   {
    "duration": 50,
    "start_time": "2022-03-10T17:01:51.260Z"
   },
   {
    "duration": 11,
    "start_time": "2022-03-10T17:01:51.312Z"
   },
   {
    "duration": 20,
    "start_time": "2022-03-10T17:01:51.325Z"
   },
   {
    "duration": 20,
    "start_time": "2022-03-10T17:01:51.347Z"
   },
   {
    "duration": 50,
    "start_time": "2022-03-10T17:01:51.369Z"
   },
   {
    "duration": 20,
    "start_time": "2022-03-10T17:01:51.420Z"
   },
   {
    "duration": 19,
    "start_time": "2022-03-10T17:01:51.442Z"
   },
   {
    "duration": 49,
    "start_time": "2022-03-10T17:01:51.462Z"
   },
   {
    "duration": 7442,
    "start_time": "2022-03-10T17:02:53.812Z"
   },
   {
    "duration": 325,
    "start_time": "2022-03-10T17:08:20.324Z"
   },
   {
    "duration": 66,
    "start_time": "2022-03-10T17:16:31.799Z"
   },
   {
    "duration": 13,
    "start_time": "2022-03-10T17:16:31.867Z"
   },
   {
    "duration": 7,
    "start_time": "2022-03-10T17:16:31.882Z"
   },
   {
    "duration": 18,
    "start_time": "2022-03-10T17:16:31.891Z"
   },
   {
    "duration": 14,
    "start_time": "2022-03-10T17:16:31.911Z"
   },
   {
    "duration": 38,
    "start_time": "2022-03-10T17:16:31.926Z"
   },
   {
    "duration": 42,
    "start_time": "2022-03-10T17:16:31.965Z"
   },
   {
    "duration": 11,
    "start_time": "2022-03-10T17:16:32.009Z"
   },
   {
    "duration": 7,
    "start_time": "2022-03-10T17:16:32.022Z"
   },
   {
    "duration": 6,
    "start_time": "2022-03-10T17:16:32.030Z"
   },
   {
    "duration": 7,
    "start_time": "2022-03-10T17:16:32.038Z"
   },
   {
    "duration": 9,
    "start_time": "2022-03-10T17:16:32.047Z"
   },
   {
    "duration": 9,
    "start_time": "2022-03-10T17:16:32.057Z"
   },
   {
    "duration": 44,
    "start_time": "2022-03-10T17:16:32.068Z"
   },
   {
    "duration": 19,
    "start_time": "2022-03-10T17:16:32.113Z"
   },
   {
    "duration": 17,
    "start_time": "2022-03-10T17:16:32.133Z"
   },
   {
    "duration": 19,
    "start_time": "2022-03-10T17:16:32.151Z"
   },
   {
    "duration": 38,
    "start_time": "2022-03-10T17:16:32.171Z"
   },
   {
    "duration": 19,
    "start_time": "2022-03-10T17:16:32.210Z"
   },
   {
    "duration": 18,
    "start_time": "2022-03-10T17:16:32.230Z"
   },
   {
    "duration": 14,
    "start_time": "2022-03-19T15:49:52.608Z"
   },
   {
    "duration": 4,
    "start_time": "2022-03-19T15:50:10.635Z"
   },
   {
    "duration": 70,
    "start_time": "2022-03-20T11:25:21.254Z"
   },
   {
    "duration": 64,
    "start_time": "2022-03-20T11:30:09.944Z"
   },
   {
    "duration": 477,
    "start_time": "2022-03-20T11:34:52.125Z"
   },
   {
    "duration": 5,
    "start_time": "2022-03-20T11:34:52.604Z"
   },
   {
    "duration": 0,
    "start_time": "2022-03-20T11:34:52.612Z"
   },
   {
    "duration": 0,
    "start_time": "2022-03-20T11:34:52.613Z"
   },
   {
    "duration": 0,
    "start_time": "2022-03-20T11:34:52.614Z"
   },
   {
    "duration": 0,
    "start_time": "2022-03-20T11:34:52.616Z"
   },
   {
    "duration": 0,
    "start_time": "2022-03-20T11:34:52.617Z"
   },
   {
    "duration": 0,
    "start_time": "2022-03-20T11:34:52.618Z"
   },
   {
    "duration": 0,
    "start_time": "2022-03-20T11:34:52.619Z"
   },
   {
    "duration": 0,
    "start_time": "2022-03-20T11:34:52.621Z"
   },
   {
    "duration": 0,
    "start_time": "2022-03-20T11:34:52.622Z"
   },
   {
    "duration": 0,
    "start_time": "2022-03-20T11:34:52.623Z"
   },
   {
    "duration": 0,
    "start_time": "2022-03-20T11:34:52.624Z"
   },
   {
    "duration": 0,
    "start_time": "2022-03-20T11:34:52.626Z"
   },
   {
    "duration": 0,
    "start_time": "2022-03-20T11:34:52.627Z"
   },
   {
    "duration": 0,
    "start_time": "2022-03-20T11:34:52.628Z"
   },
   {
    "duration": 0,
    "start_time": "2022-03-20T11:34:52.629Z"
   },
   {
    "duration": 0,
    "start_time": "2022-03-20T11:34:52.630Z"
   },
   {
    "duration": 0,
    "start_time": "2022-03-20T11:34:52.631Z"
   },
   {
    "duration": 0,
    "start_time": "2022-03-20T11:34:52.632Z"
   },
   {
    "duration": 67,
    "start_time": "2022-03-20T11:35:17.971Z"
   },
   {
    "duration": 4,
    "start_time": "2022-03-20T11:35:18.040Z"
   },
   {
    "duration": 0,
    "start_time": "2022-03-20T11:35:18.046Z"
   },
   {
    "duration": 0,
    "start_time": "2022-03-20T11:35:18.048Z"
   },
   {
    "duration": 0,
    "start_time": "2022-03-20T11:35:18.049Z"
   },
   {
    "duration": 0,
    "start_time": "2022-03-20T11:35:18.050Z"
   },
   {
    "duration": 0,
    "start_time": "2022-03-20T11:35:18.051Z"
   },
   {
    "duration": 0,
    "start_time": "2022-03-20T11:35:18.053Z"
   },
   {
    "duration": 0,
    "start_time": "2022-03-20T11:35:18.054Z"
   },
   {
    "duration": 0,
    "start_time": "2022-03-20T11:35:18.054Z"
   },
   {
    "duration": 0,
    "start_time": "2022-03-20T11:35:18.055Z"
   },
   {
    "duration": 0,
    "start_time": "2022-03-20T11:35:18.057Z"
   },
   {
    "duration": 63,
    "start_time": "2022-03-20T11:35:18.060Z"
   },
   {
    "duration": 21,
    "start_time": "2022-03-20T11:35:18.125Z"
   },
   {
    "duration": 77,
    "start_time": "2022-03-20T11:35:18.149Z"
   },
   {
    "duration": 23,
    "start_time": "2022-03-20T11:35:18.228Z"
   },
   {
    "duration": 57,
    "start_time": "2022-03-20T11:35:18.252Z"
   },
   {
    "duration": 22,
    "start_time": "2022-03-20T11:35:18.311Z"
   },
   {
    "duration": 21,
    "start_time": "2022-03-20T11:35:18.334Z"
   },
   {
    "duration": 21,
    "start_time": "2022-03-20T11:35:18.357Z"
   },
   {
    "duration": 79,
    "start_time": "2022-03-20T11:35:48.679Z"
   },
   {
    "duration": 1576,
    "start_time": "2022-03-20T11:35:48.760Z"
   },
   {
    "duration": 1,
    "start_time": "2022-03-20T11:35:50.339Z"
   },
   {
    "duration": 0,
    "start_time": "2022-03-20T11:35:50.341Z"
   },
   {
    "duration": 0,
    "start_time": "2022-03-20T11:35:50.342Z"
   },
   {
    "duration": 0,
    "start_time": "2022-03-20T11:35:50.344Z"
   },
   {
    "duration": 0,
    "start_time": "2022-03-20T11:35:50.345Z"
   },
   {
    "duration": 0,
    "start_time": "2022-03-20T11:35:50.347Z"
   },
   {
    "duration": 0,
    "start_time": "2022-03-20T11:35:50.348Z"
   },
   {
    "duration": 0,
    "start_time": "2022-03-20T11:35:50.350Z"
   },
   {
    "duration": 0,
    "start_time": "2022-03-20T11:35:50.351Z"
   },
   {
    "duration": 0,
    "start_time": "2022-03-20T11:35:50.353Z"
   },
   {
    "duration": 0,
    "start_time": "2022-03-20T11:35:50.354Z"
   },
   {
    "duration": 0,
    "start_time": "2022-03-20T11:35:50.355Z"
   },
   {
    "duration": 0,
    "start_time": "2022-03-20T11:35:50.357Z"
   },
   {
    "duration": 0,
    "start_time": "2022-03-20T11:35:50.359Z"
   },
   {
    "duration": 0,
    "start_time": "2022-03-20T11:35:50.360Z"
   },
   {
    "duration": 0,
    "start_time": "2022-03-20T11:35:50.361Z"
   },
   {
    "duration": 0,
    "start_time": "2022-03-20T11:35:50.363Z"
   },
   {
    "duration": 0,
    "start_time": "2022-03-20T11:35:50.364Z"
   },
   {
    "duration": 72,
    "start_time": "2022-03-20T11:40:39.486Z"
   },
   {
    "duration": 1254,
    "start_time": "2022-03-20T11:40:39.560Z"
   },
   {
    "duration": 0,
    "start_time": "2022-03-20T11:40:40.816Z"
   },
   {
    "duration": 0,
    "start_time": "2022-03-20T11:40:40.818Z"
   },
   {
    "duration": 0,
    "start_time": "2022-03-20T11:40:40.819Z"
   },
   {
    "duration": 0,
    "start_time": "2022-03-20T11:40:40.821Z"
   },
   {
    "duration": 0,
    "start_time": "2022-03-20T11:40:40.822Z"
   },
   {
    "duration": 0,
    "start_time": "2022-03-20T11:40:40.824Z"
   },
   {
    "duration": 0,
    "start_time": "2022-03-20T11:40:40.826Z"
   },
   {
    "duration": 0,
    "start_time": "2022-03-20T11:40:40.827Z"
   },
   {
    "duration": 0,
    "start_time": "2022-03-20T11:40:40.828Z"
   },
   {
    "duration": 0,
    "start_time": "2022-03-20T11:40:40.830Z"
   },
   {
    "duration": 0,
    "start_time": "2022-03-20T11:40:40.832Z"
   },
   {
    "duration": 0,
    "start_time": "2022-03-20T11:40:40.834Z"
   },
   {
    "duration": 0,
    "start_time": "2022-03-20T11:40:40.835Z"
   },
   {
    "duration": 0,
    "start_time": "2022-03-20T11:40:40.836Z"
   },
   {
    "duration": 0,
    "start_time": "2022-03-20T11:40:40.837Z"
   },
   {
    "duration": 0,
    "start_time": "2022-03-20T11:40:40.838Z"
   },
   {
    "duration": 0,
    "start_time": "2022-03-20T11:40:40.839Z"
   },
   {
    "duration": 0,
    "start_time": "2022-03-20T11:40:40.840Z"
   },
   {
    "duration": 7,
    "start_time": "2022-03-20T11:42:48.074Z"
   },
   {
    "duration": 72,
    "start_time": "2022-03-20T11:42:53.516Z"
   },
   {
    "duration": 19,
    "start_time": "2022-03-20T11:42:53.591Z"
   },
   {
    "duration": 1,
    "start_time": "2022-03-20T11:42:53.612Z"
   },
   {
    "duration": 0,
    "start_time": "2022-03-20T11:42:53.614Z"
   },
   {
    "duration": 0,
    "start_time": "2022-03-20T11:42:53.616Z"
   },
   {
    "duration": 0,
    "start_time": "2022-03-20T11:42:53.617Z"
   },
   {
    "duration": 0,
    "start_time": "2022-03-20T11:42:53.618Z"
   },
   {
    "duration": 0,
    "start_time": "2022-03-20T11:42:53.620Z"
   },
   {
    "duration": 0,
    "start_time": "2022-03-20T11:42:53.620Z"
   },
   {
    "duration": 0,
    "start_time": "2022-03-20T11:42:53.622Z"
   },
   {
    "duration": 0,
    "start_time": "2022-03-20T11:42:53.623Z"
   },
   {
    "duration": 0,
    "start_time": "2022-03-20T11:42:53.625Z"
   },
   {
    "duration": 0,
    "start_time": "2022-03-20T11:42:53.626Z"
   },
   {
    "duration": 0,
    "start_time": "2022-03-20T11:42:53.627Z"
   },
   {
    "duration": 0,
    "start_time": "2022-03-20T11:42:53.629Z"
   },
   {
    "duration": 82,
    "start_time": "2022-03-20T11:42:53.632Z"
   },
   {
    "duration": 24,
    "start_time": "2022-03-20T11:42:53.715Z"
   },
   {
    "duration": 20,
    "start_time": "2022-03-20T11:42:53.741Z"
   },
   {
    "duration": 54,
    "start_time": "2022-03-20T11:42:53.763Z"
   },
   {
    "duration": 0,
    "start_time": "2022-03-20T11:42:53.818Z"
   },
   {
    "duration": 12,
    "start_time": "2022-03-20T11:43:08.161Z"
   },
   {
    "duration": 1328,
    "start_time": "2022-03-20T11:45:45.802Z"
   },
   {
    "duration": 4,
    "start_time": "2022-03-20T11:48:06.209Z"
   },
   {
    "duration": 71,
    "start_time": "2022-03-20T11:48:20.762Z"
   },
   {
    "duration": 4,
    "start_time": "2022-03-20T11:49:13.123Z"
   },
   {
    "duration": 13,
    "start_time": "2022-03-20T11:50:50.021Z"
   },
   {
    "duration": 14,
    "start_time": "2022-03-20T11:51:08.222Z"
   },
   {
    "duration": 74,
    "start_time": "2022-03-20T11:55:20.783Z"
   },
   {
    "duration": 24,
    "start_time": "2022-03-20T11:56:22.424Z"
   },
   {
    "duration": 24,
    "start_time": "2022-03-20T11:56:57.254Z"
   },
   {
    "duration": 18,
    "start_time": "2022-03-20T11:57:42.094Z"
   },
   {
    "duration": 26,
    "start_time": "2022-03-20T11:59:04.170Z"
   },
   {
    "duration": 58,
    "start_time": "2022-03-20T11:59:04.198Z"
   },
   {
    "duration": 59,
    "start_time": "2022-03-20T11:59:04.257Z"
   },
   {
    "duration": 31,
    "start_time": "2022-03-20T11:59:04.318Z"
   },
   {
    "duration": 48,
    "start_time": "2022-03-20T11:59:04.351Z"
   },
   {
    "duration": 20,
    "start_time": "2022-03-20T11:59:04.401Z"
   },
   {
    "duration": 62,
    "start_time": "2022-03-20T11:59:49.171Z"
   },
   {
    "duration": 68,
    "start_time": "2022-03-20T12:00:12.002Z"
   },
   {
    "duration": 13,
    "start_time": "2022-03-20T12:00:12.072Z"
   },
   {
    "duration": 30,
    "start_time": "2022-03-20T12:00:12.087Z"
   },
   {
    "duration": 28,
    "start_time": "2022-03-20T12:00:12.119Z"
   },
   {
    "duration": 18,
    "start_time": "2022-03-20T12:00:12.149Z"
   },
   {
    "duration": 79,
    "start_time": "2022-03-20T12:00:12.169Z"
   },
   {
    "duration": 19,
    "start_time": "2022-03-20T12:00:12.250Z"
   },
   {
    "duration": 48,
    "start_time": "2022-03-20T12:00:12.271Z"
   },
   {
    "duration": 7,
    "start_time": "2022-03-20T12:00:12.321Z"
   },
   {
    "duration": 6,
    "start_time": "2022-03-20T12:00:12.331Z"
   },
   {
    "duration": 8,
    "start_time": "2022-03-20T12:00:12.338Z"
   },
   {
    "duration": 12,
    "start_time": "2022-03-20T12:00:12.347Z"
   },
   {
    "duration": 53,
    "start_time": "2022-03-20T12:00:12.361Z"
   },
   {
    "duration": 12,
    "start_time": "2022-03-20T12:00:12.416Z"
   },
   {
    "duration": 22,
    "start_time": "2022-03-20T12:00:12.430Z"
   },
   {
    "duration": 19,
    "start_time": "2022-03-20T12:00:12.453Z"
   },
   {
    "duration": 55,
    "start_time": "2022-03-20T12:00:12.474Z"
   },
   {
    "duration": 19,
    "start_time": "2022-03-20T12:00:12.531Z"
   },
   {
    "duration": 20,
    "start_time": "2022-03-20T12:00:12.552Z"
   },
   {
    "duration": 54,
    "start_time": "2022-03-20T12:00:12.574Z"
   },
   {
    "duration": 8,
    "start_time": "2022-03-20T12:26:37.214Z"
   },
   {
    "duration": 62,
    "start_time": "2022-03-20T12:44:28.867Z"
   },
   {
    "duration": 62,
    "start_time": "2022-03-20T12:48:23.188Z"
   },
   {
    "duration": 22,
    "start_time": "2022-03-20T12:48:55.591Z"
   },
   {
    "duration": 24,
    "start_time": "2022-03-20T12:49:23.101Z"
   },
   {
    "duration": 22,
    "start_time": "2022-03-20T12:49:37.953Z"
   },
   {
    "duration": 21,
    "start_time": "2022-03-20T12:49:48.827Z"
   },
   {
    "duration": 35,
    "start_time": "2022-03-20T12:54:52.713Z"
   },
   {
    "duration": 72,
    "start_time": "2022-03-20T12:57:11.343Z"
   },
   {
    "duration": 17,
    "start_time": "2022-03-20T12:57:11.418Z"
   },
   {
    "duration": 9,
    "start_time": "2022-03-20T12:57:11.436Z"
   },
   {
    "duration": 25,
    "start_time": "2022-03-20T12:57:11.447Z"
   },
   {
    "duration": 27,
    "start_time": "2022-03-20T12:57:11.509Z"
   },
   {
    "duration": 43,
    "start_time": "2022-03-20T12:57:11.538Z"
   },
   {
    "duration": 52,
    "start_time": "2022-03-20T12:57:11.583Z"
   },
   {
    "duration": 15,
    "start_time": "2022-03-20T12:57:11.637Z"
   },
   {
    "duration": 10,
    "start_time": "2022-03-20T12:57:11.653Z"
   },
   {
    "duration": 53,
    "start_time": "2022-03-20T12:57:11.665Z"
   },
   {
    "duration": 7,
    "start_time": "2022-03-20T12:57:11.721Z"
   },
   {
    "duration": 7,
    "start_time": "2022-03-20T12:57:11.729Z"
   },
   {
    "duration": 14,
    "start_time": "2022-03-20T12:57:11.737Z"
   },
   {
    "duration": 65,
    "start_time": "2022-03-20T12:57:11.753Z"
   },
   {
    "duration": 15,
    "start_time": "2022-03-20T12:57:11.821Z"
   },
   {
    "duration": 18,
    "start_time": "2022-03-20T12:57:11.838Z"
   },
   {
    "duration": 23,
    "start_time": "2022-03-20T12:57:11.858Z"
   },
   {
    "duration": 32,
    "start_time": "2022-03-20T12:57:11.916Z"
   },
   {
    "duration": 0,
    "start_time": "2022-03-20T12:57:11.949Z"
   },
   {
    "duration": 0,
    "start_time": "2022-03-20T12:57:11.951Z"
   },
   {
    "duration": 0,
    "start_time": "2022-03-20T12:57:11.952Z"
   },
   {
    "duration": 21,
    "start_time": "2022-03-20T12:58:37.693Z"
   },
   {
    "duration": 73,
    "start_time": "2022-03-20T13:00:11.439Z"
   },
   {
    "duration": 26,
    "start_time": "2022-03-20T13:02:28.810Z"
   },
   {
    "duration": 18,
    "start_time": "2022-03-20T13:03:17.669Z"
   },
   {
    "duration": 24,
    "start_time": "2022-03-20T13:03:55.306Z"
   },
   {
    "duration": 81,
    "start_time": "2022-03-20T13:03:59.564Z"
   },
   {
    "duration": 13,
    "start_time": "2022-03-20T13:03:59.646Z"
   },
   {
    "duration": 9,
    "start_time": "2022-03-20T13:03:59.661Z"
   },
   {
    "duration": 51,
    "start_time": "2022-03-20T13:03:59.672Z"
   },
   {
    "duration": 18,
    "start_time": "2022-03-20T13:03:59.726Z"
   },
   {
    "duration": 82,
    "start_time": "2022-03-20T13:03:59.746Z"
   },
   {
    "duration": 19,
    "start_time": "2022-03-20T13:03:59.830Z"
   },
   {
    "duration": 14,
    "start_time": "2022-03-20T13:03:59.850Z"
   },
   {
    "duration": 47,
    "start_time": "2022-03-20T13:03:59.866Z"
   },
   {
    "duration": 12,
    "start_time": "2022-03-20T13:03:59.916Z"
   },
   {
    "duration": 14,
    "start_time": "2022-03-20T13:03:59.929Z"
   },
   {
    "duration": 8,
    "start_time": "2022-03-20T13:03:59.945Z"
   },
   {
    "duration": 62,
    "start_time": "2022-03-20T13:03:59.955Z"
   },
   {
    "duration": 19,
    "start_time": "2022-03-20T13:04:00.018Z"
   },
   {
    "duration": 14,
    "start_time": "2022-03-20T13:04:00.040Z"
   },
   {
    "duration": 26,
    "start_time": "2022-03-20T13:04:00.056Z"
   },
   {
    "duration": 27,
    "start_time": "2022-03-20T13:04:00.111Z"
   },
   {
    "duration": 18,
    "start_time": "2022-03-20T13:04:00.139Z"
   },
   {
    "duration": 0,
    "start_time": "2022-03-20T13:04:00.159Z"
   },
   {
    "duration": 0,
    "start_time": "2022-03-20T13:04:00.160Z"
   },
   {
    "duration": 0,
    "start_time": "2022-03-20T13:04:00.162Z"
   },
   {
    "duration": 18,
    "start_time": "2022-03-20T13:04:46.982Z"
   },
   {
    "duration": 18,
    "start_time": "2022-03-20T13:05:30.451Z"
   },
   {
    "duration": 24,
    "start_time": "2022-03-20T13:10:00.980Z"
   },
   {
    "duration": 16,
    "start_time": "2022-03-20T13:19:14.981Z"
   },
   {
    "duration": 56,
    "start_time": "2022-03-20T13:20:50.626Z"
   },
   {
    "duration": 26,
    "start_time": "2022-03-20T13:21:24.360Z"
   },
   {
    "duration": 67,
    "start_time": "2022-03-20T13:25:28.814Z"
   },
   {
    "duration": 1110,
    "start_time": "2022-03-20T13:25:39.449Z"
   },
   {
    "duration": 1652,
    "start_time": "2022-03-20T13:26:04.052Z"
   },
   {
    "duration": 1083,
    "start_time": "2022-03-20T13:26:34.886Z"
   },
   {
    "duration": 23,
    "start_time": "2022-03-20T13:27:39.127Z"
   },
   {
    "duration": 1172,
    "start_time": "2022-03-20T13:28:29.683Z"
   },
   {
    "duration": 85,
    "start_time": "2022-03-20T13:29:45.021Z"
   },
   {
    "duration": 1129,
    "start_time": "2022-03-20T13:30:15.844Z"
   },
   {
    "duration": 28,
    "start_time": "2022-03-20T13:38:09.628Z"
   },
   {
    "duration": 8,
    "start_time": "2022-03-20T13:39:49.052Z"
   },
   {
    "duration": 28,
    "start_time": "2022-03-20T13:40:28.277Z"
   },
   {
    "duration": 10,
    "start_time": "2022-03-20T13:40:55.082Z"
   },
   {
    "duration": 18,
    "start_time": "2022-03-20T13:41:55.801Z"
   },
   {
    "duration": 9,
    "start_time": "2022-03-20T13:42:20.124Z"
   },
   {
    "duration": 22,
    "start_time": "2022-03-20T13:42:32.144Z"
   },
   {
    "duration": 18,
    "start_time": "2022-03-20T13:42:59.576Z"
   },
   {
    "duration": 8,
    "start_time": "2022-03-20T13:43:29.386Z"
   },
   {
    "duration": 23,
    "start_time": "2022-03-20T13:43:44.517Z"
   },
   {
    "duration": 23,
    "start_time": "2022-03-20T13:45:14.725Z"
   },
   {
    "duration": 77,
    "start_time": "2022-03-20T13:45:39.386Z"
   },
   {
    "duration": 13,
    "start_time": "2022-03-20T13:45:39.465Z"
   },
   {
    "duration": 9,
    "start_time": "2022-03-20T13:45:39.479Z"
   },
   {
    "duration": 35,
    "start_time": "2022-03-20T13:45:39.509Z"
   },
   {
    "duration": 18,
    "start_time": "2022-03-20T13:45:39.545Z"
   },
   {
    "duration": 86,
    "start_time": "2022-03-20T13:45:39.564Z"
   },
   {
    "duration": 19,
    "start_time": "2022-03-20T13:45:39.652Z"
   },
   {
    "duration": 57,
    "start_time": "2022-03-20T13:45:39.672Z"
   },
   {
    "duration": 9,
    "start_time": "2022-03-20T13:45:39.731Z"
   },
   {
    "duration": 6,
    "start_time": "2022-03-20T13:45:39.742Z"
   },
   {
    "duration": 8,
    "start_time": "2022-03-20T13:45:39.750Z"
   },
   {
    "duration": 7,
    "start_time": "2022-03-20T13:45:39.760Z"
   },
   {
    "duration": 21,
    "start_time": "2022-03-20T13:45:39.812Z"
   },
   {
    "duration": 12,
    "start_time": "2022-03-20T13:45:39.834Z"
   },
   {
    "duration": 11,
    "start_time": "2022-03-20T13:45:39.849Z"
   },
   {
    "duration": 47,
    "start_time": "2022-03-20T13:45:39.862Z"
   },
   {
    "duration": 30,
    "start_time": "2022-03-20T13:45:39.913Z"
   },
   {
    "duration": 23,
    "start_time": "2022-03-20T13:45:39.945Z"
   },
   {
    "duration": 45,
    "start_time": "2022-03-20T13:45:39.970Z"
   },
   {
    "duration": 27,
    "start_time": "2022-03-20T13:45:40.017Z"
   },
   {
    "duration": 21,
    "start_time": "2022-03-20T13:45:40.046Z"
   },
   {
    "duration": 19,
    "start_time": "2022-03-20T14:06:00.764Z"
   },
   {
    "duration": 30,
    "start_time": "2022-03-20T14:07:39.802Z"
   },
   {
    "duration": 20,
    "start_time": "2022-03-20T14:08:00.353Z"
   },
   {
    "duration": 1418,
    "start_time": "2022-03-20T14:08:37.645Z"
   },
   {
    "duration": 18,
    "start_time": "2022-03-20T14:08:58.230Z"
   },
   {
    "duration": 17,
    "start_time": "2022-03-20T14:09:15.590Z"
   },
   {
    "duration": 66,
    "start_time": "2022-03-20T14:09:50.544Z"
   },
   {
    "duration": 1375,
    "start_time": "2022-03-20T14:11:53.439Z"
   },
   {
    "duration": 1181,
    "start_time": "2022-03-20T14:12:29.274Z"
   },
   {
    "duration": 31,
    "start_time": "2022-03-20T14:13:50.321Z"
   },
   {
    "duration": 28,
    "start_time": "2022-03-20T14:14:15.274Z"
   },
   {
    "duration": 1196,
    "start_time": "2022-03-20T14:15:06.750Z"
   },
   {
    "duration": 67,
    "start_time": "2022-03-20T14:16:59.568Z"
   },
   {
    "duration": 27,
    "start_time": "2022-03-20T14:17:09.905Z"
   },
   {
    "duration": 19,
    "start_time": "2022-03-20T14:18:14.048Z"
   },
   {
    "duration": 17,
    "start_time": "2022-03-20T14:24:07.077Z"
   },
   {
    "duration": 18,
    "start_time": "2022-03-20T14:24:59.221Z"
   },
   {
    "duration": 65,
    "start_time": "2022-03-20T14:26:02.670Z"
   },
   {
    "duration": 18,
    "start_time": "2022-03-20T14:26:10.652Z"
   },
   {
    "duration": 968,
    "start_time": "2022-03-20T14:29:31.524Z"
   },
   {
    "duration": 888,
    "start_time": "2022-03-20T14:29:57.555Z"
   },
   {
    "duration": 19,
    "start_time": "2022-03-20T14:31:24.419Z"
   },
   {
    "duration": 15,
    "start_time": "2022-03-20T14:32:01.257Z"
   },
   {
    "duration": 21,
    "start_time": "2022-03-20T14:32:22.212Z"
   },
   {
    "duration": 44,
    "start_time": "2022-03-20T14:32:34.992Z"
   },
   {
    "duration": 34,
    "start_time": "2022-03-20T14:32:56.864Z"
   },
   {
    "duration": 28,
    "start_time": "2022-03-20T14:34:28.661Z"
   },
   {
    "duration": 37,
    "start_time": "2022-03-20T14:35:16.702Z"
   },
   {
    "duration": 4,
    "start_time": "2022-03-20T15:21:09.594Z"
   },
   {
    "duration": 9,
    "start_time": "2022-03-20T15:21:27.291Z"
   },
   {
    "duration": 20,
    "start_time": "2022-03-20T15:21:50.122Z"
   },
   {
    "duration": 18,
    "start_time": "2022-03-20T15:23:16.536Z"
   },
   {
    "duration": 18,
    "start_time": "2022-03-20T15:24:45.328Z"
   },
   {
    "duration": 100,
    "start_time": "2022-03-20T15:25:09.553Z"
   },
   {
    "duration": 8,
    "start_time": "2022-03-20T15:25:22.840Z"
   },
   {
    "duration": 17,
    "start_time": "2022-03-20T15:25:41.976Z"
   },
   {
    "duration": 96,
    "start_time": "2022-03-20T15:26:18.995Z"
   },
   {
    "duration": 18,
    "start_time": "2022-03-20T15:26:35.390Z"
   },
   {
    "duration": 74,
    "start_time": "2022-03-20T15:29:02.367Z"
   },
   {
    "duration": 557,
    "start_time": "2022-03-20T15:29:42.567Z"
   },
   {
    "duration": 19,
    "start_time": "2022-03-20T15:31:06.918Z"
   },
   {
    "duration": 17,
    "start_time": "2022-03-20T15:31:40.889Z"
   },
   {
    "duration": 20,
    "start_time": "2022-03-20T15:32:34.367Z"
   },
   {
    "duration": 11,
    "start_time": "2022-03-20T15:33:27.989Z"
   },
   {
    "duration": 61,
    "start_time": "2022-03-20T15:35:42.663Z"
   },
   {
    "duration": 23,
    "start_time": "2022-03-20T15:35:54.549Z"
   },
   {
    "duration": 17,
    "start_time": "2022-03-20T15:36:25.226Z"
   },
   {
    "duration": 17,
    "start_time": "2022-03-20T15:36:30.524Z"
   },
   {
    "duration": 18,
    "start_time": "2022-03-20T15:36:46.562Z"
   },
   {
    "duration": 17,
    "start_time": "2022-03-20T15:37:08.542Z"
   },
   {
    "duration": 17,
    "start_time": "2022-03-20T15:37:30.625Z"
   },
   {
    "duration": 16,
    "start_time": "2022-03-20T15:38:58.153Z"
   },
   {
    "duration": 22,
    "start_time": "2022-03-20T15:39:10.329Z"
   },
   {
    "duration": 17,
    "start_time": "2022-03-20T15:39:31.050Z"
   },
   {
    "duration": 15,
    "start_time": "2022-03-20T15:39:54.051Z"
   },
   {
    "duration": 22,
    "start_time": "2022-03-20T15:40:08.703Z"
   },
   {
    "duration": 17,
    "start_time": "2022-03-20T15:40:20.727Z"
   },
   {
    "duration": 16,
    "start_time": "2022-03-20T15:40:34.681Z"
   },
   {
    "duration": 113,
    "start_time": "2022-03-20T15:42:37.341Z"
   },
   {
    "duration": 17,
    "start_time": "2022-03-20T15:42:52.977Z"
   },
   {
    "duration": 16,
    "start_time": "2022-03-20T15:44:11.822Z"
   },
   {
    "duration": 22,
    "start_time": "2022-03-20T15:44:42.215Z"
   },
   {
    "duration": 17,
    "start_time": "2022-03-20T15:44:48.853Z"
   },
   {
    "duration": 22,
    "start_time": "2022-03-20T15:45:05.708Z"
   },
   {
    "duration": 18,
    "start_time": "2022-03-20T15:46:46.757Z"
   },
   {
    "duration": 19,
    "start_time": "2022-03-20T15:49:19.863Z"
   },
   {
    "duration": 18,
    "start_time": "2022-03-20T15:49:32.350Z"
   },
   {
    "duration": 19,
    "start_time": "2022-03-20T15:50:41.052Z"
   },
   {
    "duration": 16,
    "start_time": "2022-03-20T15:53:39.817Z"
   },
   {
    "duration": 21,
    "start_time": "2022-03-20T15:54:46.710Z"
   },
   {
    "duration": 15,
    "start_time": "2022-03-20T15:55:19.056Z"
   },
   {
    "duration": 15,
    "start_time": "2022-03-20T15:55:31.754Z"
   },
   {
    "duration": 17,
    "start_time": "2022-03-20T15:59:10.404Z"
   },
   {
    "duration": 16,
    "start_time": "2022-03-20T16:00:58.559Z"
   },
   {
    "duration": 17,
    "start_time": "2022-03-20T16:07:17.720Z"
   },
   {
    "duration": 18,
    "start_time": "2022-03-20T16:10:06.832Z"
   },
   {
    "duration": 19,
    "start_time": "2022-03-20T16:14:25.209Z"
   },
   {
    "duration": 19,
    "start_time": "2022-03-20T16:14:51.238Z"
   },
   {
    "duration": 30,
    "start_time": "2022-03-20T16:16:53.405Z"
   },
   {
    "duration": 18,
    "start_time": "2022-03-20T16:18:13.133Z"
   },
   {
    "duration": 20,
    "start_time": "2022-03-20T16:19:46.487Z"
   },
   {
    "duration": 14,
    "start_time": "2022-03-20T16:28:54.645Z"
   },
   {
    "duration": 193,
    "start_time": "2022-03-20T16:36:53.704Z"
   },
   {
    "duration": 23,
    "start_time": "2022-03-20T16:36:53.900Z"
   },
   {
    "duration": 13,
    "start_time": "2022-03-20T16:36:53.925Z"
   },
   {
    "duration": 8,
    "start_time": "2022-03-20T16:36:53.940Z"
   },
   {
    "duration": 25,
    "start_time": "2022-03-20T16:36:53.949Z"
   },
   {
    "duration": 48,
    "start_time": "2022-03-20T16:36:53.976Z"
   },
   {
    "duration": 44,
    "start_time": "2022-03-20T16:36:54.026Z"
   },
   {
    "duration": 48,
    "start_time": "2022-03-20T16:36:54.072Z"
   },
   {
    "duration": 16,
    "start_time": "2022-03-20T16:36:54.125Z"
   },
   {
    "duration": 7,
    "start_time": "2022-03-20T16:36:54.143Z"
   },
   {
    "duration": 7,
    "start_time": "2022-03-20T16:36:54.151Z"
   },
   {
    "duration": 8,
    "start_time": "2022-03-20T16:36:54.160Z"
   },
   {
    "duration": 15,
    "start_time": "2022-03-20T16:36:54.211Z"
   },
   {
    "duration": 13,
    "start_time": "2022-03-20T16:36:54.228Z"
   },
   {
    "duration": 11,
    "start_time": "2022-03-20T16:36:54.243Z"
   },
   {
    "duration": 12,
    "start_time": "2022-03-20T16:36:54.256Z"
   },
   {
    "duration": 66,
    "start_time": "2022-03-20T16:36:54.270Z"
   },
   {
    "duration": 21,
    "start_time": "2022-03-20T16:36:54.337Z"
   },
   {
    "duration": 19,
    "start_time": "2022-03-20T16:36:54.360Z"
   },
   {
    "duration": 47,
    "start_time": "2022-03-20T16:36:54.382Z"
   },
   {
    "duration": 18,
    "start_time": "2022-03-20T16:36:54.431Z"
   },
   {
    "duration": 19,
    "start_time": "2022-03-20T16:36:54.451Z"
   },
   {
    "duration": 70,
    "start_time": "2022-03-20T16:39:11.288Z"
   },
   {
    "duration": 11,
    "start_time": "2022-03-20T16:45:01.458Z"
   },
   {
    "duration": 69,
    "start_time": "2022-03-20T16:45:07.873Z"
   },
   {
    "duration": 14,
    "start_time": "2022-03-20T16:45:07.944Z"
   },
   {
    "duration": 15,
    "start_time": "2022-03-20T16:45:07.960Z"
   },
   {
    "duration": 32,
    "start_time": "2022-03-20T16:45:07.977Z"
   },
   {
    "duration": 9,
    "start_time": "2022-03-20T16:45:08.011Z"
   },
   {
    "duration": 25,
    "start_time": "2022-03-20T16:45:08.022Z"
   },
   {
    "duration": 17,
    "start_time": "2022-03-20T16:45:08.048Z"
   },
   {
    "duration": 79,
    "start_time": "2022-03-20T16:45:08.067Z"
   },
   {
    "duration": 23,
    "start_time": "2022-03-20T16:45:08.149Z"
   },
   {
    "duration": 45,
    "start_time": "2022-03-20T16:45:08.175Z"
   },
   {
    "duration": 16,
    "start_time": "2022-03-20T16:45:08.222Z"
   },
   {
    "duration": 12,
    "start_time": "2022-03-20T16:45:08.240Z"
   },
   {
    "duration": 17,
    "start_time": "2022-03-20T16:45:08.254Z"
   },
   {
    "duration": 8,
    "start_time": "2022-03-20T16:45:08.273Z"
   },
   {
    "duration": 27,
    "start_time": "2022-03-20T16:45:08.283Z"
   },
   {
    "duration": 13,
    "start_time": "2022-03-20T16:45:08.312Z"
   },
   {
    "duration": 13,
    "start_time": "2022-03-20T16:45:08.326Z"
   },
   {
    "duration": 24,
    "start_time": "2022-03-20T16:45:08.341Z"
   },
   {
    "duration": 50,
    "start_time": "2022-03-20T16:45:08.367Z"
   },
   {
    "duration": 26,
    "start_time": "2022-03-20T16:45:08.420Z"
   },
   {
    "duration": 19,
    "start_time": "2022-03-20T16:45:08.448Z"
   },
   {
    "duration": 41,
    "start_time": "2022-03-20T16:45:08.469Z"
   },
   {
    "duration": 21,
    "start_time": "2022-03-20T16:45:08.511Z"
   },
   {
    "duration": 4,
    "start_time": "2022-03-20T16:48:32.280Z"
   },
   {
    "duration": 18,
    "start_time": "2022-03-20T16:48:40.546Z"
   },
   {
    "duration": 66,
    "start_time": "2022-03-20T16:49:34.143Z"
   },
   {
    "duration": 15,
    "start_time": "2022-03-20T16:49:34.211Z"
   },
   {
    "duration": 11,
    "start_time": "2022-03-20T16:49:34.228Z"
   },
   {
    "duration": 16,
    "start_time": "2022-03-20T16:49:34.241Z"
   },
   {
    "duration": 52,
    "start_time": "2022-03-20T16:49:34.259Z"
   },
   {
    "duration": 10,
    "start_time": "2022-03-20T16:49:34.313Z"
   },
   {
    "duration": 26,
    "start_time": "2022-03-20T16:49:34.325Z"
   },
   {
    "duration": 19,
    "start_time": "2022-03-20T16:49:34.353Z"
   },
   {
    "duration": 50,
    "start_time": "2022-03-20T16:49:34.408Z"
   },
   {
    "duration": 55,
    "start_time": "2022-03-20T16:49:34.461Z"
   },
   {
    "duration": 17,
    "start_time": "2022-03-20T16:49:34.518Z"
   },
   {
    "duration": 8,
    "start_time": "2022-03-20T16:49:34.537Z"
   },
   {
    "duration": 7,
    "start_time": "2022-03-20T16:49:34.547Z"
   },
   {
    "duration": 10,
    "start_time": "2022-03-20T16:49:34.555Z"
   },
   {
    "duration": 43,
    "start_time": "2022-03-20T16:49:34.567Z"
   },
   {
    "duration": 14,
    "start_time": "2022-03-20T16:49:34.612Z"
   },
   {
    "duration": 13,
    "start_time": "2022-03-20T16:49:34.628Z"
   },
   {
    "duration": 15,
    "start_time": "2022-03-20T16:49:34.643Z"
   },
   {
    "duration": 59,
    "start_time": "2022-03-20T16:49:34.660Z"
   },
   {
    "duration": 25,
    "start_time": "2022-03-20T16:49:34.721Z"
   },
   {
    "duration": 19,
    "start_time": "2022-03-20T16:49:34.748Z"
   },
   {
    "duration": 41,
    "start_time": "2022-03-20T16:49:34.769Z"
   },
   {
    "duration": 21,
    "start_time": "2022-03-20T16:49:34.811Z"
   },
   {
    "duration": 25,
    "start_time": "2022-03-20T16:49:34.834Z"
   },
   {
    "duration": 19,
    "start_time": "2022-03-20T16:58:45.086Z"
   },
   {
    "duration": 22,
    "start_time": "2022-03-20T17:00:06.261Z"
   },
   {
    "duration": 19,
    "start_time": "2022-03-20T17:00:17.027Z"
   },
   {
    "duration": 19,
    "start_time": "2022-03-20T17:02:40.959Z"
   },
   {
    "duration": 102,
    "start_time": "2022-03-20T17:03:35.492Z"
   },
   {
    "duration": 19,
    "start_time": "2022-03-20T17:03:47.845Z"
   },
   {
    "duration": 19,
    "start_time": "2022-03-20T17:03:59.953Z"
   },
   {
    "duration": 19,
    "start_time": "2022-03-20T17:04:07.113Z"
   },
   {
    "duration": 21,
    "start_time": "2022-03-20T17:04:21.863Z"
   },
   {
    "duration": 8,
    "start_time": "2022-03-20T17:08:36.888Z"
   },
   {
    "duration": 72,
    "start_time": "2022-03-20T17:08:41.541Z"
   },
   {
    "duration": 16,
    "start_time": "2022-03-20T17:08:41.615Z"
   },
   {
    "duration": 12,
    "start_time": "2022-03-20T17:08:41.632Z"
   },
   {
    "duration": 18,
    "start_time": "2022-03-20T17:08:41.646Z"
   },
   {
    "duration": 5,
    "start_time": "2022-03-20T17:08:41.666Z"
   },
   {
    "duration": 43,
    "start_time": "2022-03-20T17:08:41.673Z"
   },
   {
    "duration": 26,
    "start_time": "2022-03-20T17:08:41.717Z"
   },
   {
    "duration": 18,
    "start_time": "2022-03-20T17:08:41.745Z"
   },
   {
    "duration": 83,
    "start_time": "2022-03-20T17:08:41.764Z"
   },
   {
    "duration": 20,
    "start_time": "2022-03-20T17:08:41.850Z"
   },
   {
    "duration": 40,
    "start_time": "2022-03-20T17:08:41.872Z"
   },
   {
    "duration": 8,
    "start_time": "2022-03-20T17:08:41.913Z"
   },
   {
    "duration": 8,
    "start_time": "2022-03-20T17:08:41.923Z"
   },
   {
    "duration": 10,
    "start_time": "2022-03-20T17:08:41.933Z"
   },
   {
    "duration": 6,
    "start_time": "2022-03-20T17:08:41.944Z"
   },
   {
    "duration": 13,
    "start_time": "2022-03-20T17:08:41.952Z"
   },
   {
    "duration": 51,
    "start_time": "2022-03-20T17:08:41.967Z"
   },
   {
    "duration": 13,
    "start_time": "2022-03-20T17:08:42.020Z"
   },
   {
    "duration": 23,
    "start_time": "2022-03-20T17:08:42.035Z"
   },
   {
    "duration": 20,
    "start_time": "2022-03-20T17:08:42.059Z"
   },
   {
    "duration": 26,
    "start_time": "2022-03-20T17:08:42.109Z"
   },
   {
    "duration": 21,
    "start_time": "2022-03-20T17:08:42.137Z"
   },
   {
    "duration": 19,
    "start_time": "2022-03-20T17:08:42.160Z"
   },
   {
    "duration": 44,
    "start_time": "2022-03-20T17:08:42.181Z"
   },
   {
    "duration": 68,
    "start_time": "2022-03-20T17:12:54.972Z"
   },
   {
    "duration": 17,
    "start_time": "2022-03-20T17:12:55.043Z"
   },
   {
    "duration": 13,
    "start_time": "2022-03-20T17:12:55.062Z"
   },
   {
    "duration": 51,
    "start_time": "2022-03-20T17:12:55.078Z"
   },
   {
    "duration": 6,
    "start_time": "2022-03-20T17:12:55.131Z"
   },
   {
    "duration": 12,
    "start_time": "2022-03-20T17:12:55.139Z"
   },
   {
    "duration": 19,
    "start_time": "2022-03-20T17:12:55.153Z"
   },
   {
    "duration": 79,
    "start_time": "2022-03-20T17:12:55.174Z"
   },
   {
    "duration": 20,
    "start_time": "2022-03-20T17:12:55.255Z"
   },
   {
    "duration": 43,
    "start_time": "2022-03-20T17:12:55.278Z"
   },
   {
    "duration": 11,
    "start_time": "2022-03-20T17:12:55.323Z"
   },
   {
    "duration": 6,
    "start_time": "2022-03-20T17:12:55.336Z"
   },
   {
    "duration": 7,
    "start_time": "2022-03-20T17:12:55.344Z"
   },
   {
    "duration": 7,
    "start_time": "2022-03-20T17:12:55.353Z"
   },
   {
    "duration": 12,
    "start_time": "2022-03-20T17:12:55.362Z"
   },
   {
    "duration": 44,
    "start_time": "2022-03-20T17:12:55.375Z"
   },
   {
    "duration": 14,
    "start_time": "2022-03-20T17:12:55.420Z"
   },
   {
    "duration": 34,
    "start_time": "2022-03-20T17:12:55.436Z"
   },
   {
    "duration": 19,
    "start_time": "2022-03-20T17:12:55.472Z"
   },
   {
    "duration": 27,
    "start_time": "2022-03-20T17:12:55.509Z"
   },
   {
    "duration": 18,
    "start_time": "2022-03-20T17:12:55.538Z"
   },
   {
    "duration": 20,
    "start_time": "2022-03-20T17:12:55.558Z"
   },
   {
    "duration": 41,
    "start_time": "2022-03-20T17:12:55.580Z"
   },
   {
    "duration": 37,
    "start_time": "2022-03-20T17:18:33.394Z"
   },
   {
    "duration": 9,
    "start_time": "2022-03-20T17:37:43.715Z"
   },
   {
    "duration": 808,
    "start_time": "2022-03-20T17:37:51.371Z"
   },
   {
    "duration": 74,
    "start_time": "2022-03-20T17:41:31.177Z"
   },
   {
    "duration": 32,
    "start_time": "2022-03-20T17:41:38.262Z"
   },
   {
    "duration": 323,
    "start_time": "2022-03-20T17:42:01.032Z"
   },
   {
    "duration": 166,
    "start_time": "2022-03-20T17:45:32.869Z"
   },
   {
    "duration": 71,
    "start_time": "2022-03-20T17:48:39.694Z"
   },
   {
    "duration": 66,
    "start_time": "2022-03-20T17:50:12.560Z"
   },
   {
    "duration": 67,
    "start_time": "2022-03-20T17:50:20.104Z"
   },
   {
    "duration": 14,
    "start_time": "2022-03-20T17:51:36.581Z"
   },
   {
    "duration": 188,
    "start_time": "2022-03-20T17:51:42.672Z"
   },
   {
    "duration": 22,
    "start_time": "2022-03-20T17:52:00.011Z"
   },
   {
    "duration": 14,
    "start_time": "2022-03-20T17:52:09.833Z"
   },
   {
    "duration": 172,
    "start_time": "2022-03-20T17:52:41.358Z"
   },
   {
    "duration": 68,
    "start_time": "2022-03-20T17:53:50.822Z"
   },
   {
    "duration": 671,
    "start_time": "2022-03-20T17:57:11.660Z"
   },
   {
    "duration": 167,
    "start_time": "2022-03-20T17:57:48.900Z"
   },
   {
    "duration": 136,
    "start_time": "2022-03-20T18:00:05.107Z"
   },
   {
    "duration": 178,
    "start_time": "2022-03-20T18:00:53.276Z"
   },
   {
    "duration": 60,
    "start_time": "2022-03-20T18:02:04.738Z"
   },
   {
    "duration": 62,
    "start_time": "2022-03-20T18:02:12.876Z"
   },
   {
    "duration": 70,
    "start_time": "2022-03-20T18:02:21.452Z"
   },
   {
    "duration": 183,
    "start_time": "2022-03-20T18:02:33.208Z"
   },
   {
    "duration": 74,
    "start_time": "2022-03-20T18:11:31.809Z"
   },
   {
    "duration": 181,
    "start_time": "2022-03-20T18:11:40.869Z"
   },
   {
    "duration": 188,
    "start_time": "2022-03-20T18:18:48.174Z"
   },
   {
    "duration": 361,
    "start_time": "2022-03-20T18:19:25.124Z"
   },
   {
    "duration": 213,
    "start_time": "2022-03-20T18:19:47.011Z"
   },
   {
    "duration": 219,
    "start_time": "2022-03-20T18:21:18.807Z"
   },
   {
    "duration": 185,
    "start_time": "2022-03-20T18:22:06.904Z"
   },
   {
    "duration": 75,
    "start_time": "2022-03-20T18:22:34.477Z"
   },
   {
    "duration": 16,
    "start_time": "2022-03-20T18:22:34.554Z"
   },
   {
    "duration": 11,
    "start_time": "2022-03-20T18:22:34.572Z"
   },
   {
    "duration": 37,
    "start_time": "2022-03-20T18:22:34.586Z"
   },
   {
    "duration": 183,
    "start_time": "2022-03-20T18:22:34.624Z"
   },
   {
    "duration": 183,
    "start_time": "2022-03-20T18:22:34.809Z"
   },
   {
    "duration": 0,
    "start_time": "2022-03-20T18:22:34.994Z"
   },
   {
    "duration": 0,
    "start_time": "2022-03-20T18:22:34.996Z"
   },
   {
    "duration": 0,
    "start_time": "2022-03-20T18:22:34.997Z"
   },
   {
    "duration": 0,
    "start_time": "2022-03-20T18:22:34.998Z"
   },
   {
    "duration": 0,
    "start_time": "2022-03-20T18:22:34.999Z"
   },
   {
    "duration": 0,
    "start_time": "2022-03-20T18:22:35.008Z"
   },
   {
    "duration": 0,
    "start_time": "2022-03-20T18:22:35.009Z"
   },
   {
    "duration": 0,
    "start_time": "2022-03-20T18:22:35.011Z"
   },
   {
    "duration": 0,
    "start_time": "2022-03-20T18:22:35.012Z"
   },
   {
    "duration": 0,
    "start_time": "2022-03-20T18:22:35.013Z"
   },
   {
    "duration": 0,
    "start_time": "2022-03-20T18:22:35.014Z"
   },
   {
    "duration": 0,
    "start_time": "2022-03-20T18:22:35.015Z"
   },
   {
    "duration": 0,
    "start_time": "2022-03-20T18:22:35.016Z"
   },
   {
    "duration": 0,
    "start_time": "2022-03-20T18:22:35.017Z"
   },
   {
    "duration": 0,
    "start_time": "2022-03-20T18:22:35.018Z"
   },
   {
    "duration": 0,
    "start_time": "2022-03-20T18:22:35.019Z"
   },
   {
    "duration": 0,
    "start_time": "2022-03-20T18:22:35.020Z"
   },
   {
    "duration": 0,
    "start_time": "2022-03-20T18:22:35.021Z"
   },
   {
    "duration": 0,
    "start_time": "2022-03-20T18:22:35.022Z"
   },
   {
    "duration": 167,
    "start_time": "2022-03-20T18:23:30.484Z"
   },
   {
    "duration": 159,
    "start_time": "2022-03-20T18:23:41.655Z"
   },
   {
    "duration": 71,
    "start_time": "2022-03-20T18:23:51.281Z"
   },
   {
    "duration": 15,
    "start_time": "2022-03-20T18:23:51.354Z"
   },
   {
    "duration": 12,
    "start_time": "2022-03-20T18:23:51.371Z"
   },
   {
    "duration": 39,
    "start_time": "2022-03-20T18:23:51.385Z"
   },
   {
    "duration": 184,
    "start_time": "2022-03-20T18:23:51.425Z"
   },
   {
    "duration": 172,
    "start_time": "2022-03-20T18:23:51.610Z"
   },
   {
    "duration": 6,
    "start_time": "2022-03-20T18:23:51.784Z"
   },
   {
    "duration": 20,
    "start_time": "2022-03-20T18:23:51.792Z"
   },
   {
    "duration": 19,
    "start_time": "2022-03-20T18:23:51.814Z"
   },
   {
    "duration": 39,
    "start_time": "2022-03-20T18:23:51.836Z"
   },
   {
    "duration": 48,
    "start_time": "2022-03-20T18:23:51.876Z"
   },
   {
    "duration": 16,
    "start_time": "2022-03-20T18:23:51.925Z"
   },
   {
    "duration": 11,
    "start_time": "2022-03-20T18:23:51.942Z"
   },
   {
    "duration": 7,
    "start_time": "2022-03-20T18:23:51.955Z"
   },
   {
    "duration": 7,
    "start_time": "2022-03-20T18:23:51.963Z"
   },
   {
    "duration": 42,
    "start_time": "2022-03-20T18:23:51.972Z"
   },
   {
    "duration": 14,
    "start_time": "2022-03-20T18:23:52.015Z"
   },
   {
    "duration": 12,
    "start_time": "2022-03-20T18:23:52.031Z"
   },
   {
    "duration": 13,
    "start_time": "2022-03-20T18:23:52.044Z"
   },
   {
    "duration": 53,
    "start_time": "2022-03-20T18:23:52.059Z"
   },
   {
    "duration": 18,
    "start_time": "2022-03-20T18:23:52.114Z"
   },
   {
    "duration": 18,
    "start_time": "2022-03-20T18:23:52.134Z"
   },
   {
    "duration": 18,
    "start_time": "2022-03-20T18:23:52.153Z"
   },
   {
    "duration": 47,
    "start_time": "2022-03-20T18:23:52.172Z"
   },
   {
    "duration": 19,
    "start_time": "2022-03-20T18:23:52.220Z"
   },
   {
    "duration": 164,
    "start_time": "2022-03-20T18:25:35.825Z"
   },
   {
    "duration": 157,
    "start_time": "2022-03-20T18:25:42.877Z"
   },
   {
    "duration": 172,
    "start_time": "2022-03-20T18:25:51.897Z"
   },
   {
    "duration": 61,
    "start_time": "2022-03-20T18:26:59.269Z"
   },
   {
    "duration": 77,
    "start_time": "2022-03-20T18:28:01.036Z"
   },
   {
    "duration": 186,
    "start_time": "2022-03-20T18:28:12.122Z"
   },
   {
    "duration": 227,
    "start_time": "2022-03-20T18:29:18.787Z"
   },
   {
    "duration": 146,
    "start_time": "2022-03-20T18:42:15.617Z"
   },
   {
    "duration": 273,
    "start_time": "2022-03-20T18:44:56.418Z"
   },
   {
    "duration": 392,
    "start_time": "2022-03-20T18:52:00.557Z"
   },
   {
    "duration": 108,
    "start_time": "2022-03-20T18:57:36.534Z"
   },
   {
    "duration": 73,
    "start_time": "2022-03-20T18:59:53.629Z"
   },
   {
    "duration": 16,
    "start_time": "2022-03-20T18:59:53.706Z"
   },
   {
    "duration": 11,
    "start_time": "2022-03-20T18:59:53.723Z"
   },
   {
    "duration": 16,
    "start_time": "2022-03-20T18:59:53.736Z"
   },
   {
    "duration": 192,
    "start_time": "2022-03-20T18:59:53.754Z"
   },
   {
    "duration": 282,
    "start_time": "2022-03-20T18:59:53.947Z"
   },
   {
    "duration": 221,
    "start_time": "2022-03-20T18:59:54.230Z"
   },
   {
    "duration": 6,
    "start_time": "2022-03-20T18:59:54.452Z"
   },
   {
    "duration": 9,
    "start_time": "2022-03-20T18:59:54.459Z"
   },
   {
    "duration": 39,
    "start_time": "2022-03-20T18:59:54.471Z"
   },
   {
    "duration": 34,
    "start_time": "2022-03-20T18:59:54.511Z"
   },
   {
    "duration": 19,
    "start_time": "2022-03-20T18:59:54.546Z"
   },
   {
    "duration": 44,
    "start_time": "2022-03-20T18:59:54.566Z"
   },
   {
    "duration": 8,
    "start_time": "2022-03-20T18:59:54.612Z"
   },
   {
    "duration": 9,
    "start_time": "2022-03-20T18:59:54.622Z"
   },
   {
    "duration": 7,
    "start_time": "2022-03-20T18:59:54.632Z"
   },
   {
    "duration": 7,
    "start_time": "2022-03-20T18:59:54.641Z"
   },
   {
    "duration": 13,
    "start_time": "2022-03-20T18:59:54.650Z"
   },
   {
    "duration": 45,
    "start_time": "2022-03-20T18:59:54.665Z"
   },
   {
    "duration": 15,
    "start_time": "2022-03-20T18:59:54.711Z"
   },
   {
    "duration": 24,
    "start_time": "2022-03-20T18:59:54.727Z"
   },
   {
    "duration": 19,
    "start_time": "2022-03-20T18:59:54.752Z"
   },
   {
    "duration": 39,
    "start_time": "2022-03-20T18:59:54.773Z"
   },
   {
    "duration": 19,
    "start_time": "2022-03-20T18:59:54.814Z"
   },
   {
    "duration": 17,
    "start_time": "2022-03-20T18:59:54.835Z"
   },
   {
    "duration": 17,
    "start_time": "2022-03-20T18:59:54.854Z"
   },
   {
    "duration": 166,
    "start_time": "2022-03-20T19:03:12.231Z"
   },
   {
    "duration": 291,
    "start_time": "2022-03-20T19:03:32.643Z"
   },
   {
    "duration": 225,
    "start_time": "2022-03-20T19:05:12.229Z"
   },
   {
    "duration": 77,
    "start_time": "2022-03-20T19:08:02.874Z"
   },
   {
    "duration": 15,
    "start_time": "2022-03-20T19:08:02.953Z"
   },
   {
    "duration": 12,
    "start_time": "2022-03-20T19:08:02.969Z"
   },
   {
    "duration": 43,
    "start_time": "2022-03-20T19:08:02.983Z"
   },
   {
    "duration": 185,
    "start_time": "2022-03-20T19:08:03.027Z"
   },
   {
    "duration": 287,
    "start_time": "2022-03-20T19:08:03.214Z"
   },
   {
    "duration": 238,
    "start_time": "2022-03-20T19:08:03.503Z"
   },
   {
    "duration": 7,
    "start_time": "2022-03-20T19:08:03.743Z"
   },
   {
    "duration": 9,
    "start_time": "2022-03-20T19:08:03.752Z"
   },
   {
    "duration": 44,
    "start_time": "2022-03-20T19:08:03.765Z"
   },
   {
    "duration": 35,
    "start_time": "2022-03-20T19:08:03.811Z"
   },
   {
    "duration": 23,
    "start_time": "2022-03-20T19:08:03.848Z"
   },
   {
    "duration": 17,
    "start_time": "2022-03-20T19:08:03.908Z"
   },
   {
    "duration": 8,
    "start_time": "2022-03-20T19:08:03.927Z"
   },
   {
    "duration": 6,
    "start_time": "2022-03-20T19:08:03.937Z"
   },
   {
    "duration": 8,
    "start_time": "2022-03-20T19:08:03.945Z"
   },
   {
    "duration": 7,
    "start_time": "2022-03-20T19:08:03.955Z"
   },
   {
    "duration": 50,
    "start_time": "2022-03-20T19:08:03.964Z"
   },
   {
    "duration": 13,
    "start_time": "2022-03-20T19:08:04.016Z"
   },
   {
    "duration": 14,
    "start_time": "2022-03-20T19:08:04.031Z"
   },
   {
    "duration": 20,
    "start_time": "2022-03-20T19:08:04.046Z"
   },
   {
    "duration": 51,
    "start_time": "2022-03-20T19:08:04.068Z"
   },
   {
    "duration": 24,
    "start_time": "2022-03-20T19:08:04.121Z"
   },
   {
    "duration": 17,
    "start_time": "2022-03-20T19:08:04.146Z"
   },
   {
    "duration": 17,
    "start_time": "2022-03-20T19:08:04.165Z"
   },
   {
    "duration": 40,
    "start_time": "2022-03-20T19:08:04.184Z"
   },
   {
    "duration": 79,
    "start_time": "2022-03-20T19:09:16.821Z"
   },
   {
    "duration": 16,
    "start_time": "2022-03-20T19:09:16.902Z"
   },
   {
    "duration": 11,
    "start_time": "2022-03-20T19:09:16.919Z"
   },
   {
    "duration": 21,
    "start_time": "2022-03-20T19:09:16.932Z"
   },
   {
    "duration": 196,
    "start_time": "2022-03-20T19:09:16.954Z"
   },
   {
    "duration": 426,
    "start_time": "2022-03-20T19:09:17.151Z"
   },
   {
    "duration": 234,
    "start_time": "2022-03-20T19:09:17.578Z"
   },
   {
    "duration": 6,
    "start_time": "2022-03-20T19:09:17.813Z"
   },
   {
    "duration": 8,
    "start_time": "2022-03-20T19:09:17.821Z"
   },
   {
    "duration": 19,
    "start_time": "2022-03-20T19:09:17.832Z"
   },
   {
    "duration": 66,
    "start_time": "2022-03-20T19:09:17.852Z"
   },
   {
    "duration": 18,
    "start_time": "2022-03-20T19:09:17.920Z"
   },
   {
    "duration": 15,
    "start_time": "2022-03-20T19:09:17.940Z"
   },
   {
    "duration": 7,
    "start_time": "2022-03-20T19:09:17.957Z"
   },
   {
    "duration": 44,
    "start_time": "2022-03-20T19:09:17.966Z"
   },
   {
    "duration": 8,
    "start_time": "2022-03-20T19:09:18.012Z"
   },
   {
    "duration": 7,
    "start_time": "2022-03-20T19:09:18.021Z"
   },
   {
    "duration": 13,
    "start_time": "2022-03-20T19:09:18.030Z"
   },
   {
    "duration": 12,
    "start_time": "2022-03-20T19:09:18.044Z"
   },
   {
    "duration": 13,
    "start_time": "2022-03-20T19:09:18.058Z"
   },
   {
    "duration": 21,
    "start_time": "2022-03-20T19:09:18.109Z"
   },
   {
    "duration": 20,
    "start_time": "2022-03-20T19:09:18.132Z"
   },
   {
    "duration": 25,
    "start_time": "2022-03-20T19:09:18.153Z"
   },
   {
    "duration": 38,
    "start_time": "2022-03-20T19:09:18.180Z"
   },
   {
    "duration": 19,
    "start_time": "2022-03-20T19:09:18.220Z"
   },
   {
    "duration": 18,
    "start_time": "2022-03-20T19:09:18.241Z"
   },
   {
    "duration": 81,
    "start_time": "2022-03-20T19:15:55.667Z"
   },
   {
    "duration": 18,
    "start_time": "2022-03-20T19:15:55.750Z"
   },
   {
    "duration": 11,
    "start_time": "2022-03-20T19:15:55.769Z"
   },
   {
    "duration": 39,
    "start_time": "2022-03-20T19:15:55.782Z"
   },
   {
    "duration": 192,
    "start_time": "2022-03-20T19:15:55.823Z"
   },
   {
    "duration": 310,
    "start_time": "2022-03-20T19:15:56.017Z"
   },
   {
    "duration": 247,
    "start_time": "2022-03-20T19:15:56.329Z"
   },
   {
    "duration": 7,
    "start_time": "2022-03-20T19:15:56.578Z"
   },
   {
    "duration": 24,
    "start_time": "2022-03-20T19:15:56.587Z"
   },
   {
    "duration": 21,
    "start_time": "2022-03-20T19:15:56.614Z"
   },
   {
    "duration": 36,
    "start_time": "2022-03-20T19:15:56.636Z"
   },
   {
    "duration": 47,
    "start_time": "2022-03-20T19:15:56.674Z"
   },
   {
    "duration": 16,
    "start_time": "2022-03-20T19:15:56.723Z"
   },
   {
    "duration": 8,
    "start_time": "2022-03-20T19:15:56.740Z"
   },
   {
    "duration": 7,
    "start_time": "2022-03-20T19:15:56.749Z"
   },
   {
    "duration": 7,
    "start_time": "2022-03-20T19:15:56.758Z"
   },
   {
    "duration": 47,
    "start_time": "2022-03-20T19:15:56.768Z"
   },
   {
    "duration": 13,
    "start_time": "2022-03-20T19:15:56.817Z"
   },
   {
    "duration": 14,
    "start_time": "2022-03-20T19:15:56.832Z"
   },
   {
    "duration": 14,
    "start_time": "2022-03-20T19:15:56.848Z"
   },
   {
    "duration": 60,
    "start_time": "2022-03-20T19:15:56.864Z"
   },
   {
    "duration": 28,
    "start_time": "2022-03-20T19:15:56.926Z"
   },
   {
    "duration": 21,
    "start_time": "2022-03-20T19:15:56.956Z"
   },
   {
    "duration": 43,
    "start_time": "2022-03-20T19:15:56.979Z"
   },
   {
    "duration": 19,
    "start_time": "2022-03-20T19:15:57.024Z"
   },
   {
    "duration": 19,
    "start_time": "2022-03-20T19:15:57.045Z"
   },
   {
    "duration": 1699,
    "start_time": "2022-05-04T09:41:51.772Z"
   },
   {
    "duration": 112,
    "start_time": "2022-05-04T09:42:26.213Z"
   },
   {
    "duration": 4,
    "start_time": "2022-05-04T09:42:34.345Z"
   },
   {
    "duration": 88,
    "start_time": "2022-05-04T09:42:34.354Z"
   },
   {
    "duration": 4965,
    "start_time": "2022-05-04T09:42:34.444Z"
   },
   {
    "duration": 7,
    "start_time": "2022-05-04T09:42:39.411Z"
   },
   {
    "duration": 8,
    "start_time": "2022-05-04T09:42:39.420Z"
   },
   {
    "duration": 6,
    "start_time": "2022-05-04T09:42:39.430Z"
   },
   {
    "duration": 8,
    "start_time": "2022-05-04T09:42:39.437Z"
   },
   {
    "duration": 7,
    "start_time": "2022-05-04T09:42:39.446Z"
   },
   {
    "duration": 81,
    "start_time": "2022-05-04T09:42:39.454Z"
   },
   {
    "duration": 23304,
    "start_time": "2022-05-04T09:42:39.537Z"
   },
   {
    "duration": 893,
    "start_time": "2022-05-04T09:43:02.844Z"
   },
   {
    "duration": 136,
    "start_time": "2022-05-04T09:43:03.739Z"
   },
   {
    "duration": 5,
    "start_time": "2022-05-04T09:43:03.876Z"
   },
   {
    "duration": 16,
    "start_time": "2022-05-04T09:43:03.883Z"
   },
   {
    "duration": 4638,
    "start_time": "2022-05-04T09:55:44.085Z"
   },
   {
    "duration": 4923,
    "start_time": "2022-05-04T09:59:58.109Z"
   },
   {
    "duration": 127,
    "start_time": "2022-05-04T10:54:46.168Z"
   },
   {
    "duration": 12,
    "start_time": "2022-05-04T10:56:32.643Z"
   },
   {
    "duration": 7,
    "start_time": "2022-05-04T10:57:12.871Z"
   },
   {
    "duration": 7,
    "start_time": "2022-05-04T10:58:19.586Z"
   },
   {
    "duration": 150,
    "start_time": "2022-05-04T10:59:51.089Z"
   },
   {
    "duration": 141,
    "start_time": "2022-05-04T11:58:34.364Z"
   },
   {
    "duration": 7,
    "start_time": "2022-05-04T11:59:30.389Z"
   },
   {
    "duration": 12,
    "start_time": "2022-05-04T12:00:08.712Z"
   },
   {
    "duration": 12,
    "start_time": "2022-05-04T12:01:48.912Z"
   },
   {
    "duration": 7,
    "start_time": "2022-05-04T12:01:50.830Z"
   },
   {
    "duration": 153,
    "start_time": "2022-05-04T12:02:04.164Z"
   },
   {
    "duration": 151,
    "start_time": "2022-05-04T12:05:51.929Z"
   },
   {
    "duration": 69,
    "start_time": "2022-05-04T12:23:46.578Z"
   },
   {
    "duration": 11,
    "start_time": "2022-05-04T12:29:01.957Z"
   },
   {
    "duration": 5,
    "start_time": "2022-05-04T12:29:20.482Z"
   },
   {
    "duration": 312,
    "start_time": "2022-05-04T12:29:36.332Z"
   },
   {
    "duration": 5,
    "start_time": "2022-05-04T12:30:14.969Z"
   },
   {
    "duration": 108,
    "start_time": "2022-05-04T12:30:14.980Z"
   },
   {
    "duration": 4990,
    "start_time": "2022-05-04T12:30:15.090Z"
   },
   {
    "duration": 7,
    "start_time": "2022-05-04T12:30:20.081Z"
   },
   {
    "duration": 6,
    "start_time": "2022-05-04T12:30:20.091Z"
   },
   {
    "duration": 9,
    "start_time": "2022-05-04T12:30:20.099Z"
   },
   {
    "duration": 6,
    "start_time": "2022-05-04T12:30:20.109Z"
   },
   {
    "duration": 7,
    "start_time": "2022-05-04T12:30:20.117Z"
   },
   {
    "duration": 96,
    "start_time": "2022-05-04T12:30:20.126Z"
   },
   {
    "duration": 326,
    "start_time": "2022-05-04T12:30:20.224Z"
   },
   {
    "duration": 22852,
    "start_time": "2022-05-04T12:30:20.553Z"
   },
   {
    "duration": 845,
    "start_time": "2022-05-04T12:30:43.407Z"
   },
   {
    "duration": 6,
    "start_time": "2022-05-04T12:30:44.254Z"
   },
   {
    "duration": 11,
    "start_time": "2022-05-04T12:30:44.274Z"
   },
   {
    "duration": 156,
    "start_time": "2022-05-04T12:30:44.286Z"
   },
   {
    "duration": 4,
    "start_time": "2022-05-04T12:30:44.443Z"
   },
   {
    "duration": 9,
    "start_time": "2022-05-04T12:30:44.449Z"
   },
   {
    "duration": 330,
    "start_time": "2022-05-04T12:35:27.457Z"
   },
   {
    "duration": 44,
    "start_time": "2022-08-03T20:42:12.754Z"
   },
   {
    "duration": 1753,
    "start_time": "2022-08-03T20:44:19.700Z"
   },
   {
    "duration": 87,
    "start_time": "2022-08-03T20:44:28.512Z"
   },
   {
    "duration": 7,
    "start_time": "2022-08-03T20:44:36.815Z"
   },
   {
    "duration": 2924,
    "start_time": "2022-08-03T20:44:36.836Z"
   },
   {
    "duration": 32,
    "start_time": "2022-08-03T20:44:39.761Z"
   },
   {
    "duration": 27,
    "start_time": "2022-08-03T20:44:39.795Z"
   },
   {
    "duration": 223,
    "start_time": "2022-08-03T20:44:39.823Z"
   },
   {
    "duration": 125,
    "start_time": "2022-08-03T20:44:40.048Z"
   },
   {
    "duration": 5,
    "start_time": "2022-08-03T20:44:40.174Z"
   },
   {
    "duration": 69,
    "start_time": "2022-08-03T20:44:40.180Z"
   },
   {
    "duration": 4,
    "start_time": "2022-08-03T20:44:40.251Z"
   },
   {
    "duration": 10,
    "start_time": "2022-08-03T20:44:40.256Z"
   },
   {
    "duration": 243,
    "start_time": "2022-08-03T20:44:40.268Z"
   },
   {
    "duration": 62665,
    "start_time": "2022-08-03T20:44:40.512Z"
   },
   {
    "duration": 61637,
    "start_time": "2022-08-03T20:45:43.178Z"
   },
   {
    "duration": 142,
    "start_time": "2022-08-03T20:46:44.816Z"
   },
   {
    "duration": 3,
    "start_time": "2022-08-03T20:46:44.960Z"
   },
   {
    "duration": 5,
    "start_time": "2022-08-03T20:46:44.964Z"
   },
   {
    "duration": 3,
    "start_time": "2022-08-03T20:48:15.600Z"
   },
   {
    "duration": 3,
    "start_time": "2022-08-03T20:49:00.891Z"
   },
   {
    "duration": 12,
    "start_time": "2022-08-03T20:49:55.073Z"
   },
   {
    "duration": 47,
    "start_time": "2022-08-03T20:50:40.271Z"
   },
   {
    "duration": 3,
    "start_time": "2022-08-03T20:52:42.273Z"
   },
   {
    "duration": 4,
    "start_time": "2022-08-03T20:52:51.650Z"
   },
   {
    "duration": 10,
    "start_time": "2022-08-03T20:54:11.208Z"
   },
   {
    "duration": 3,
    "start_time": "2022-08-03T20:54:45.451Z"
   },
   {
    "duration": 32,
    "start_time": "2022-08-03T20:55:02.307Z"
   },
   {
    "duration": 91,
    "start_time": "2022-08-03T20:57:17.864Z"
   },
   {
    "duration": 3,
    "start_time": "2022-08-03T20:58:05.369Z"
   },
   {
    "duration": 33,
    "start_time": "2022-08-03T20:58:11.849Z"
   },
   {
    "duration": 3,
    "start_time": "2022-08-03T21:00:40.488Z"
   },
   {
    "duration": 3,
    "start_time": "2022-08-03T21:00:46.845Z"
   },
   {
    "duration": 4,
    "start_time": "2022-08-03T21:01:03.737Z"
   },
   {
    "duration": 97,
    "start_time": "2022-08-03T21:03:12.201Z"
   },
   {
    "duration": 3,
    "start_time": "2022-08-03T21:03:19.647Z"
   },
   {
    "duration": 1400857,
    "start_time": "2022-08-03T21:03:32.685Z"
   },
   {
    "duration": 9,
    "start_time": "2022-08-03T21:32:50.028Z"
   },
   {
    "duration": 9,
    "start_time": "2022-08-03T21:33:12.141Z"
   },
   {
    "duration": 17,
    "start_time": "2022-08-03T21:33:26.532Z"
   },
   {
    "duration": 2346,
    "start_time": "2022-08-03T21:33:53.645Z"
   },
   {
    "duration": 1800,
    "start_time": "2022-08-04T07:51:57.723Z"
   },
   {
    "duration": 6,
    "start_time": "2022-08-04T07:52:28.370Z"
   },
   {
    "duration": 2634,
    "start_time": "2022-08-04T07:52:28.379Z"
   },
   {
    "duration": 31,
    "start_time": "2022-08-04T07:52:31.015Z"
   },
   {
    "duration": 28,
    "start_time": "2022-08-04T07:52:31.047Z"
   },
   {
    "duration": 272,
    "start_time": "2022-08-04T07:52:31.077Z"
   },
   {
    "duration": 161,
    "start_time": "2022-08-04T07:52:31.351Z"
   },
   {
    "duration": 6,
    "start_time": "2022-08-04T07:52:31.514Z"
   },
   {
    "duration": 80,
    "start_time": "2022-08-04T07:52:31.522Z"
   },
   {
    "duration": 5,
    "start_time": "2022-08-04T07:52:31.603Z"
   },
   {
    "duration": 69,
    "start_time": "2022-08-04T07:52:31.609Z"
   },
   {
    "duration": 243,
    "start_time": "2022-08-04T07:52:31.680Z"
   },
   {
    "duration": 72751,
    "start_time": "2022-08-04T07:52:31.925Z"
   },
   {
    "duration": 73521,
    "start_time": "2022-08-04T07:53:44.677Z"
   },
   {
    "duration": 170,
    "start_time": "2022-08-04T08:44:15.253Z"
   },
   {
    "duration": 3,
    "start_time": "2022-08-04T08:44:19.815Z"
   },
   {
    "duration": 3,
    "start_time": "2022-08-04T08:44:22.549Z"
   },
   {
    "duration": 3,
    "start_time": "2022-08-04T09:10:33.978Z"
   },
   {
    "duration": 134,
    "start_time": "2022-08-04T09:18:42.896Z"
   },
   {
    "duration": 4,
    "start_time": "2022-08-04T09:19:02.713Z"
   },
   {
    "duration": 3,
    "start_time": "2022-08-04T09:20:25.031Z"
   },
   {
    "duration": 2,
    "start_time": "2022-08-04T09:20:30.678Z"
   },
   {
    "duration": 3,
    "start_time": "2022-08-04T09:21:12.204Z"
   },
   {
    "duration": 3,
    "start_time": "2022-08-04T09:24:03.439Z"
   },
   {
    "duration": 3,
    "start_time": "2022-08-04T09:31:18.245Z"
   },
   {
    "duration": 3,
    "start_time": "2022-08-04T09:31:23.843Z"
   },
   {
    "duration": 2,
    "start_time": "2022-08-04T09:31:56.636Z"
   },
   {
    "duration": 9,
    "start_time": "2022-08-04T09:32:07.583Z"
   },
   {
    "duration": 4,
    "start_time": "2022-08-04T09:32:14.733Z"
   },
   {
    "duration": 45,
    "start_time": "2022-08-04T09:33:54.523Z"
   },
   {
    "duration": 4,
    "start_time": "2022-08-04T09:34:04.520Z"
   },
   {
    "duration": 73,
    "start_time": "2022-08-04T09:34:16.976Z"
   },
   {
    "duration": 4,
    "start_time": "2022-08-04T09:34:32.914Z"
   },
   {
    "duration": 4,
    "start_time": "2022-08-04T09:34:35.092Z"
   },
   {
    "duration": 3,
    "start_time": "2022-08-04T09:35:14.341Z"
   },
   {
    "duration": 3,
    "start_time": "2022-08-04T09:35:24.480Z"
   },
   {
    "duration": 4,
    "start_time": "2022-08-04T09:35:29.183Z"
   },
   {
    "duration": 2,
    "start_time": "2022-08-04T09:36:09.675Z"
   },
   {
    "duration": 4,
    "start_time": "2022-08-04T09:36:33.597Z"
   },
   {
    "duration": 9,
    "start_time": "2022-08-04T09:36:59.627Z"
   },
   {
    "duration": 3,
    "start_time": "2022-08-04T09:37:07.657Z"
   },
   {
    "duration": 8,
    "start_time": "2022-08-04T09:37:13.584Z"
   },
   {
    "duration": 2,
    "start_time": "2022-08-04T09:38:21.474Z"
   },
   {
    "duration": 51,
    "start_time": "2022-08-04T09:38:37.259Z"
   },
   {
    "duration": 4,
    "start_time": "2022-08-04T09:38:39.253Z"
   },
   {
    "duration": 3,
    "start_time": "2022-08-04T09:39:58.915Z"
   },
   {
    "duration": 4,
    "start_time": "2022-08-04T09:40:00.532Z"
   },
   {
    "duration": 3,
    "start_time": "2022-08-04T09:56:25.521Z"
   },
   {
    "duration": 2022,
    "start_time": "2022-08-04T10:00:01.006Z"
   },
   {
    "duration": 892,
    "start_time": "2022-08-04T10:00:03.030Z"
   },
   {
    "duration": 25,
    "start_time": "2022-08-04T10:00:03.924Z"
   },
   {
    "duration": 22,
    "start_time": "2022-08-04T10:00:03.951Z"
   },
   {
    "duration": 249,
    "start_time": "2022-08-04T10:00:03.974Z"
   },
   {
    "duration": 127,
    "start_time": "2022-08-04T10:00:04.224Z"
   },
   {
    "duration": 4,
    "start_time": "2022-08-04T10:00:04.352Z"
   },
   {
    "duration": 68,
    "start_time": "2022-08-04T10:00:04.358Z"
   },
   {
    "duration": 4,
    "start_time": "2022-08-04T10:00:04.427Z"
   },
   {
    "duration": 6,
    "start_time": "2022-08-04T10:00:04.433Z"
   },
   {
    "duration": 157,
    "start_time": "2022-08-04T10:00:04.440Z"
   },
   {
    "duration": 69605,
    "start_time": "2022-08-04T10:00:04.599Z"
   },
   {
    "duration": 67906,
    "start_time": "2022-08-04T10:01:14.205Z"
   },
   {
    "duration": 4,
    "start_time": "2022-08-04T10:02:22.113Z"
   },
   {
    "duration": 5,
    "start_time": "2022-08-04T10:02:22.119Z"
   },
   {
    "duration": 5,
    "start_time": "2022-08-04T10:02:22.126Z"
   },
   {
    "duration": 11,
    "start_time": "2022-08-04T10:02:22.132Z"
   },
   {
    "duration": 7,
    "start_time": "2022-08-04T10:02:22.145Z"
   },
   {
    "duration": 5,
    "start_time": "2022-08-04T10:02:22.153Z"
   },
   {
    "duration": 5,
    "start_time": "2022-08-04T10:02:22.159Z"
   },
   {
    "duration": 6,
    "start_time": "2022-08-04T10:02:22.166Z"
   },
   {
    "duration": 141,
    "start_time": "2022-08-04T10:02:22.174Z"
   },
   {
    "duration": 0,
    "start_time": "2022-08-04T10:02:22.317Z"
   },
   {
    "duration": 0,
    "start_time": "2022-08-04T10:02:22.318Z"
   },
   {
    "duration": 0,
    "start_time": "2022-08-04T10:02:22.319Z"
   },
   {
    "duration": 0,
    "start_time": "2022-08-04T10:02:22.320Z"
   },
   {
    "duration": 0,
    "start_time": "2022-08-04T10:02:22.321Z"
   },
   {
    "duration": 0,
    "start_time": "2022-08-04T10:02:22.322Z"
   },
   {
    "duration": 0,
    "start_time": "2022-08-04T10:02:22.323Z"
   },
   {
    "duration": 0,
    "start_time": "2022-08-04T10:02:22.324Z"
   },
   {
    "duration": 0,
    "start_time": "2022-08-04T10:02:22.325Z"
   },
   {
    "duration": 0,
    "start_time": "2022-08-04T10:02:22.326Z"
   },
   {
    "duration": 0,
    "start_time": "2022-08-04T10:02:22.328Z"
   },
   {
    "duration": 1498,
    "start_time": "2022-08-04T10:02:54.554Z"
   },
   {
    "duration": 915,
    "start_time": "2022-08-04T10:02:56.054Z"
   },
   {
    "duration": 28,
    "start_time": "2022-08-04T10:02:56.970Z"
   },
   {
    "duration": 32,
    "start_time": "2022-08-04T10:02:57.000Z"
   },
   {
    "duration": 247,
    "start_time": "2022-08-04T10:02:57.033Z"
   },
   {
    "duration": 130,
    "start_time": "2022-08-04T10:02:57.281Z"
   },
   {
    "duration": 5,
    "start_time": "2022-08-04T10:02:57.412Z"
   },
   {
    "duration": 77,
    "start_time": "2022-08-04T10:02:57.418Z"
   },
   {
    "duration": 4,
    "start_time": "2022-08-04T10:02:57.496Z"
   },
   {
    "duration": 4,
    "start_time": "2022-08-04T10:02:57.512Z"
   },
   {
    "duration": 229,
    "start_time": "2022-08-04T10:02:57.518Z"
   },
   {
    "duration": 70346,
    "start_time": "2022-08-04T10:02:57.749Z"
   },
   {
    "duration": 69050,
    "start_time": "2022-08-04T10:04:08.096Z"
   },
   {
    "duration": 4,
    "start_time": "2022-08-04T10:05:17.148Z"
   },
   {
    "duration": 10,
    "start_time": "2022-08-04T10:05:17.153Z"
   },
   {
    "duration": 16,
    "start_time": "2022-08-04T10:05:17.165Z"
   },
   {
    "duration": 17,
    "start_time": "2022-08-04T10:05:17.182Z"
   },
   {
    "duration": 7,
    "start_time": "2022-08-04T10:05:17.200Z"
   },
   {
    "duration": 6,
    "start_time": "2022-08-04T10:05:17.208Z"
   },
   {
    "duration": 4,
    "start_time": "2022-08-04T10:05:17.216Z"
   },
   {
    "duration": 4,
    "start_time": "2022-08-04T10:05:17.221Z"
   },
   {
    "duration": 304429,
    "start_time": "2022-08-04T10:05:17.227Z"
   },
   {
    "duration": 3405,
    "start_time": "2022-08-04T10:10:21.658Z"
   },
   {
    "duration": 3,
    "start_time": "2022-08-04T10:10:25.064Z"
   },
   {
    "duration": 6,
    "start_time": "2022-08-04T10:10:25.069Z"
   },
   {
    "duration": 4,
    "start_time": "2022-08-04T10:10:25.076Z"
   },
   {
    "duration": 176,
    "start_time": "2022-08-04T10:10:25.081Z"
   },
   {
    "duration": 0,
    "start_time": "2022-08-04T10:10:25.259Z"
   },
   {
    "duration": 0,
    "start_time": "2022-08-04T10:10:25.260Z"
   },
   {
    "duration": 0,
    "start_time": "2022-08-04T10:10:25.260Z"
   },
   {
    "duration": 0,
    "start_time": "2022-08-04T10:10:25.261Z"
   },
   {
    "duration": 0,
    "start_time": "2022-08-04T10:10:25.262Z"
   },
   {
    "duration": 0,
    "start_time": "2022-08-04T10:10:25.263Z"
   },
   {
    "duration": 3,
    "start_time": "2022-08-04T10:12:14.306Z"
   },
   {
    "duration": 7,
    "start_time": "2022-08-04T10:12:14.311Z"
   },
   {
    "duration": 4,
    "start_time": "2022-08-04T10:12:14.319Z"
   },
   {
    "duration": 13,
    "start_time": "2022-08-04T10:12:14.325Z"
   },
   {
    "duration": 0,
    "start_time": "2022-08-04T10:12:14.339Z"
   },
   {
    "duration": 0,
    "start_time": "2022-08-04T10:12:14.341Z"
   },
   {
    "duration": 0,
    "start_time": "2022-08-04T10:12:14.342Z"
   },
   {
    "duration": 0,
    "start_time": "2022-08-04T10:12:14.343Z"
   },
   {
    "duration": 8,
    "start_time": "2022-08-04T10:12:14.348Z"
   },
   {
    "duration": 0,
    "start_time": "2022-08-04T10:12:14.358Z"
   },
   {
    "duration": 4,
    "start_time": "2022-08-04T10:12:30.862Z"
   },
   {
    "duration": 84,
    "start_time": "2022-08-04T10:13:58.278Z"
   },
   {
    "duration": 3,
    "start_time": "2022-08-04T10:14:22.911Z"
   },
   {
    "duration": 3,
    "start_time": "2022-08-04T10:15:20.911Z"
   },
   {
    "duration": 4,
    "start_time": "2022-08-04T10:15:29.324Z"
   },
   {
    "duration": 3,
    "start_time": "2022-08-04T10:16:22.947Z"
   },
   {
    "duration": 3,
    "start_time": "2022-08-04T10:17:01.371Z"
   },
   {
    "duration": 3,
    "start_time": "2022-08-04T10:17:05.053Z"
   },
   {
    "duration": 287,
    "start_time": "2022-08-04T10:17:09.406Z"
   },
   {
    "duration": 3,
    "start_time": "2022-08-04T10:17:59.018Z"
   },
   {
    "duration": 5,
    "start_time": "2022-08-04T10:17:59.023Z"
   },
   {
    "duration": 496712,
    "start_time": "2022-08-04T10:17:59.030Z"
   },
   {
    "duration": 2895,
    "start_time": "2022-08-04T10:26:15.744Z"
   },
   {
    "duration": 332,
    "start_time": "2022-08-04T10:26:18.640Z"
   },
   {
    "duration": 4,
    "start_time": "2022-08-04T10:36:43.573Z"
   },
   {
    "duration": 3,
    "start_time": "2022-08-04T10:36:45.028Z"
   },
   {
    "duration": 1549,
    "start_time": "2022-08-04T10:40:08.807Z"
   },
   {
    "duration": 968,
    "start_time": "2022-08-04T10:40:10.358Z"
   },
   {
    "duration": 28,
    "start_time": "2022-08-04T10:40:11.327Z"
   },
   {
    "duration": 24,
    "start_time": "2022-08-04T10:40:11.357Z"
   },
   {
    "duration": 264,
    "start_time": "2022-08-04T10:40:11.382Z"
   },
   {
    "duration": 131,
    "start_time": "2022-08-04T10:40:11.647Z"
   },
   {
    "duration": 4,
    "start_time": "2022-08-04T10:40:11.780Z"
   },
   {
    "duration": 72,
    "start_time": "2022-08-04T10:40:11.786Z"
   },
   {
    "duration": 4,
    "start_time": "2022-08-04T10:40:11.859Z"
   },
   {
    "duration": 8,
    "start_time": "2022-08-04T10:40:11.866Z"
   },
   {
    "duration": 248,
    "start_time": "2022-08-04T10:40:11.875Z"
   },
   {
    "duration": 72131,
    "start_time": "2022-08-04T10:40:12.126Z"
   },
   {
    "duration": 73144,
    "start_time": "2022-08-04T10:41:24.259Z"
   },
   {
    "duration": 7,
    "start_time": "2022-08-04T10:42:37.404Z"
   },
   {
    "duration": 21,
    "start_time": "2022-08-04T10:42:37.413Z"
   },
   {
    "duration": 23,
    "start_time": "2022-08-04T10:42:37.436Z"
   },
   {
    "duration": 10037,
    "start_time": "2022-08-04T10:42:37.461Z"
   },
   {
    "duration": 5,
    "start_time": "2022-08-04T10:42:47.499Z"
   },
   {
    "duration": 9,
    "start_time": "2022-08-04T10:42:47.505Z"
   },
   {
    "duration": 4,
    "start_time": "2022-08-04T10:42:47.516Z"
   },
   {
    "duration": 5,
    "start_time": "2022-08-04T10:42:47.521Z"
   },
   {
    "duration": 320100,
    "start_time": "2022-08-04T10:42:47.527Z"
   },
   {
    "duration": 3451,
    "start_time": "2022-08-04T10:48:07.629Z"
   },
   {
    "duration": 3343728,
    "start_time": "2022-08-04T10:48:11.082Z"
   },
   {
    "duration": 737,
    "start_time": "2022-08-04T11:43:54.812Z"
   },
   {
    "duration": 0,
    "start_time": "2022-08-04T11:43:55.550Z"
   },
   {
    "duration": 1,
    "start_time": "2022-08-04T11:43:55.551Z"
   },
   {
    "duration": 0,
    "start_time": "2022-08-04T11:43:55.553Z"
   },
   {
    "duration": 0,
    "start_time": "2022-08-04T11:43:55.554Z"
   },
   {
    "duration": 0,
    "start_time": "2022-08-04T11:43:55.554Z"
   },
   {
    "duration": 409,
    "start_time": "2022-08-04T12:05:23.123Z"
   },
   {
    "duration": 3,
    "start_time": "2022-08-04T12:05:23.534Z"
   },
   {
    "duration": 8,
    "start_time": "2022-08-04T12:05:23.539Z"
   },
   {
    "duration": 525086,
    "start_time": "2022-08-04T12:05:23.549Z"
   },
   {
    "duration": 2677,
    "start_time": "2022-08-04T12:14:08.636Z"
   },
   {
    "duration": 291,
    "start_time": "2022-08-04T12:14:11.314Z"
   },
   {
    "duration": 68235,
    "start_time": "2022-08-04T12:19:05.054Z"
   },
   {
    "duration": 6,
    "start_time": "2022-08-04T12:20:50.285Z"
   },
   {
    "duration": 828,
    "start_time": "2022-08-04T12:20:50.295Z"
   },
   {
    "duration": 28,
    "start_time": "2022-08-04T12:20:51.124Z"
   },
   {
    "duration": 27,
    "start_time": "2022-08-04T12:20:51.835Z"
   },
   {
    "duration": 249,
    "start_time": "2022-08-04T12:20:51.864Z"
   },
   {
    "duration": 125,
    "start_time": "2022-08-04T12:20:55.388Z"
   },
   {
    "duration": 5,
    "start_time": "2022-08-04T12:20:55.515Z"
   },
   {
    "duration": 81,
    "start_time": "2022-08-04T12:20:55.521Z"
   },
   {
    "duration": 9,
    "start_time": "2022-08-04T12:20:55.604Z"
   },
   {
    "duration": 4,
    "start_time": "2022-08-04T12:20:55.615Z"
   },
   {
    "duration": 169,
    "start_time": "2022-08-04T12:20:55.621Z"
   },
   {
    "duration": 69737,
    "start_time": "2022-08-04T12:20:55.791Z"
   },
   {
    "duration": 68847,
    "start_time": "2022-08-04T12:22:05.530Z"
   },
   {
    "duration": 140,
    "start_time": "2022-08-04T12:23:14.379Z"
   },
   {
    "duration": 141,
    "start_time": "2022-08-04T12:23:14.520Z"
   },
   {
    "duration": 133,
    "start_time": "2022-08-04T12:23:14.662Z"
   },
   {
    "duration": 128,
    "start_time": "2022-08-04T12:23:14.797Z"
   },
   {
    "duration": 4,
    "start_time": "2022-08-04T12:23:14.927Z"
   },
   {
    "duration": 6,
    "start_time": "2022-08-04T12:23:14.934Z"
   },
   {
    "duration": 14,
    "start_time": "2022-08-04T12:23:14.942Z"
   },
   {
    "duration": 9820,
    "start_time": "2022-08-04T12:23:14.957Z"
   },
   {
    "duration": 4,
    "start_time": "2022-08-04T12:23:24.779Z"
   },
   {
    "duration": 7,
    "start_time": "2022-08-04T12:23:24.784Z"
   },
   {
    "duration": 4,
    "start_time": "2022-08-04T12:23:24.793Z"
   },
   {
    "duration": 4,
    "start_time": "2022-08-04T12:23:24.811Z"
   },
   {
    "duration": 32,
    "start_time": "2022-08-04T12:23:24.817Z"
   },
   {
    "duration": 0,
    "start_time": "2022-08-04T12:23:24.851Z"
   },
   {
    "duration": 0,
    "start_time": "2022-08-04T12:23:24.853Z"
   },
   {
    "duration": 0,
    "start_time": "2022-08-04T12:23:24.854Z"
   },
   {
    "duration": 0,
    "start_time": "2022-08-04T12:23:24.856Z"
   },
   {
    "duration": 0,
    "start_time": "2022-08-04T12:23:24.857Z"
   },
   {
    "duration": 0,
    "start_time": "2022-08-04T12:23:24.858Z"
   },
   {
    "duration": 0,
    "start_time": "2022-08-04T12:23:24.860Z"
   },
   {
    "duration": 0,
    "start_time": "2022-08-04T12:23:24.861Z"
   },
   {
    "duration": 125,
    "start_time": "2022-08-04T12:27:36.927Z"
   },
   {
    "duration": 6,
    "start_time": "2022-08-04T12:28:03.245Z"
   },
   {
    "duration": 144,
    "start_time": "2022-08-04T12:28:16.189Z"
   },
   {
    "duration": 139,
    "start_time": "2022-08-04T12:28:16.335Z"
   },
   {
    "duration": 129,
    "start_time": "2022-08-04T12:28:16.475Z"
   },
   {
    "duration": 132,
    "start_time": "2022-08-04T12:28:16.610Z"
   },
   {
    "duration": 8,
    "start_time": "2022-08-04T12:28:16.744Z"
   },
   {
    "duration": 11,
    "start_time": "2022-08-04T12:28:16.753Z"
   },
   {
    "duration": 4,
    "start_time": "2022-08-04T12:28:16.766Z"
   },
   {
    "duration": 6,
    "start_time": "2022-08-04T12:28:16.771Z"
   },
   {
    "duration": 4,
    "start_time": "2022-08-04T12:28:16.779Z"
   },
   {
    "duration": 9503,
    "start_time": "2022-08-04T12:28:16.785Z"
   },
   {
    "duration": 4,
    "start_time": "2022-08-04T12:28:26.289Z"
   },
   {
    "duration": 10,
    "start_time": "2022-08-04T12:28:26.294Z"
   },
   {
    "duration": 3,
    "start_time": "2022-08-04T12:28:26.311Z"
   },
   {
    "duration": 7,
    "start_time": "2022-08-04T12:28:26.316Z"
   },
   {
    "duration": 295303,
    "start_time": "2022-08-04T12:28:26.324Z"
   },
   {
    "duration": 3320,
    "start_time": "2022-08-04T12:33:21.629Z"
   },
   {
    "duration": 281798,
    "start_time": "2022-08-04T12:33:24.950Z"
   },
   {
    "duration": 0,
    "start_time": "2022-08-04T12:38:06.750Z"
   },
   {
    "duration": 0,
    "start_time": "2022-08-04T12:38:06.752Z"
   },
   {
    "duration": 0,
    "start_time": "2022-08-04T12:38:06.753Z"
   },
   {
    "duration": 0,
    "start_time": "2022-08-04T12:38:06.754Z"
   },
   {
    "duration": 0,
    "start_time": "2022-08-04T12:38:06.754Z"
   },
   {
    "duration": 0,
    "start_time": "2022-08-04T12:38:06.755Z"
   },
   {
    "duration": 11,
    "start_time": "2022-08-04T12:38:12.328Z"
   },
   {
    "duration": 0,
    "start_time": "2022-08-04T12:38:12.340Z"
   },
   {
    "duration": 0,
    "start_time": "2022-08-04T12:38:12.342Z"
   },
   {
    "duration": 7,
    "start_time": "2022-08-04T12:38:12.343Z"
   },
   {
    "duration": 869804,
    "start_time": "2022-08-04T12:38:12.351Z"
   },
   {
    "duration": 0,
    "start_time": "2022-08-04T12:52:42.156Z"
   },
   {
    "duration": 0,
    "start_time": "2022-08-04T12:52:42.157Z"
   },
   {
    "duration": 0,
    "start_time": "2022-08-04T12:52:42.158Z"
   },
   {
    "duration": 1532,
    "start_time": "2022-08-04T12:53:12.516Z"
   },
   {
    "duration": 913,
    "start_time": "2022-08-04T12:53:14.050Z"
   },
   {
    "duration": 29,
    "start_time": "2022-08-04T12:53:14.964Z"
   },
   {
    "duration": 34,
    "start_time": "2022-08-04T12:53:14.996Z"
   },
   {
    "duration": 251,
    "start_time": "2022-08-04T12:53:15.031Z"
   },
   {
    "duration": 129,
    "start_time": "2022-08-04T12:53:15.283Z"
   },
   {
    "duration": 4,
    "start_time": "2022-08-04T12:53:15.414Z"
   },
   {
    "duration": 63,
    "start_time": "2022-08-04T12:53:15.420Z"
   },
   {
    "duration": 4,
    "start_time": "2022-08-04T12:53:15.484Z"
   },
   {
    "duration": 23,
    "start_time": "2022-08-04T12:53:15.491Z"
   },
   {
    "duration": 175,
    "start_time": "2022-08-04T12:53:15.516Z"
   },
   {
    "duration": 70354,
    "start_time": "2022-08-04T12:53:15.693Z"
   },
   {
    "duration": 70323,
    "start_time": "2022-08-04T12:54:26.048Z"
   },
   {
    "duration": 147,
    "start_time": "2022-08-04T12:55:36.373Z"
   },
   {
    "duration": 149,
    "start_time": "2022-08-04T12:55:36.522Z"
   },
   {
    "duration": 132,
    "start_time": "2022-08-04T12:55:36.673Z"
   },
   {
    "duration": 134,
    "start_time": "2022-08-04T12:55:36.810Z"
   },
   {
    "duration": 5,
    "start_time": "2022-08-04T12:55:36.946Z"
   },
   {
    "duration": 6,
    "start_time": "2022-08-04T12:55:36.952Z"
   },
   {
    "duration": 4,
    "start_time": "2022-08-04T12:55:36.960Z"
   },
   {
    "duration": 6,
    "start_time": "2022-08-04T12:55:36.966Z"
   },
   {
    "duration": 6,
    "start_time": "2022-08-04T12:55:36.973Z"
   },
   {
    "duration": 9509,
    "start_time": "2022-08-04T12:55:36.980Z"
   },
   {
    "duration": 4,
    "start_time": "2022-08-04T12:55:46.490Z"
   },
   {
    "duration": 10,
    "start_time": "2022-08-04T12:55:46.496Z"
   },
   {
    "duration": 2,
    "start_time": "2022-08-04T12:55:46.511Z"
   },
   {
    "duration": 11,
    "start_time": "2022-08-04T12:55:46.515Z"
   },
   {
    "duration": 296929,
    "start_time": "2022-08-04T12:55:46.529Z"
   },
   {
    "duration": 3453,
    "start_time": "2022-08-04T13:00:43.460Z"
   },
   {
    "duration": 2547594,
    "start_time": "2022-08-04T13:00:46.915Z"
   },
   {
    "duration": 435,
    "start_time": "2022-08-04T13:43:14.511Z"
   },
   {
    "duration": 3,
    "start_time": "2022-08-04T13:43:14.947Z"
   },
   {
    "duration": 5,
    "start_time": "2022-08-04T13:43:14.952Z"
   },
   {
    "duration": 1588,
    "start_time": "2022-08-04T15:12:15.700Z"
   },
   {
    "duration": 902,
    "start_time": "2022-08-04T15:12:17.290Z"
   },
   {
    "duration": 32,
    "start_time": "2022-08-04T15:12:18.194Z"
   },
   {
    "duration": 54,
    "start_time": "2022-08-04T15:12:18.229Z"
   },
   {
    "duration": 267,
    "start_time": "2022-08-04T15:12:18.284Z"
   },
   {
    "duration": 124,
    "start_time": "2022-08-04T15:12:18.553Z"
   },
   {
    "duration": 4,
    "start_time": "2022-08-04T15:12:18.679Z"
   },
   {
    "duration": 81,
    "start_time": "2022-08-04T15:12:18.684Z"
   },
   {
    "duration": 4,
    "start_time": "2022-08-04T15:12:18.767Z"
   },
   {
    "duration": 32,
    "start_time": "2022-08-04T15:12:18.774Z"
   },
   {
    "duration": 237,
    "start_time": "2022-08-04T15:12:18.807Z"
   },
   {
    "duration": 73260,
    "start_time": "2022-08-04T15:12:19.045Z"
   },
   {
    "duration": 71751,
    "start_time": "2022-08-04T15:13:32.310Z"
   },
   {
    "duration": 143,
    "start_time": "2022-08-04T15:14:44.062Z"
   },
   {
    "duration": 150,
    "start_time": "2022-08-04T15:14:44.206Z"
   },
   {
    "duration": 136,
    "start_time": "2022-08-04T15:14:44.357Z"
   },
   {
    "duration": 151,
    "start_time": "2022-08-04T15:14:44.494Z"
   },
   {
    "duration": 6,
    "start_time": "2022-08-04T15:14:44.647Z"
   },
   {
    "duration": 9,
    "start_time": "2022-08-04T15:14:44.655Z"
   },
   {
    "duration": 5,
    "start_time": "2022-08-04T15:14:44.666Z"
   },
   {
    "duration": 3,
    "start_time": "2022-08-04T15:14:44.672Z"
   },
   {
    "duration": 5,
    "start_time": "2022-08-04T15:14:44.676Z"
   },
   {
    "duration": 9732,
    "start_time": "2022-08-04T15:14:44.682Z"
   },
   {
    "duration": 3,
    "start_time": "2022-08-04T15:14:54.416Z"
   },
   {
    "duration": 8,
    "start_time": "2022-08-04T15:14:54.421Z"
   },
   {
    "duration": 5,
    "start_time": "2022-08-04T15:14:54.431Z"
   },
   {
    "duration": 13,
    "start_time": "2022-08-04T15:14:54.438Z"
   },
   {
    "duration": 302708,
    "start_time": "2022-08-04T15:14:54.455Z"
   },
   {
    "duration": 3408,
    "start_time": "2022-08-04T15:19:57.165Z"
   },
   {
    "duration": 2595971,
    "start_time": "2022-08-04T15:20:00.574Z"
   },
   {
    "duration": 427,
    "start_time": "2022-08-04T16:03:16.547Z"
   },
   {
    "duration": 4,
    "start_time": "2022-08-04T16:03:16.976Z"
   },
   {
    "duration": 9,
    "start_time": "2022-08-04T16:03:16.981Z"
   },
   {
    "duration": 0,
    "start_time": "2022-08-04T17:20:18.658Z"
   },
   {
    "duration": 0,
    "start_time": "2022-08-04T17:20:18.659Z"
   },
   {
    "duration": 0,
    "start_time": "2022-08-04T17:20:18.659Z"
   },
   {
    "duration": 0,
    "start_time": "2022-08-04T17:20:18.664Z"
   },
   {
    "duration": 0,
    "start_time": "2022-08-04T17:20:18.665Z"
   },
   {
    "duration": 0,
    "start_time": "2022-08-04T17:20:18.666Z"
   },
   {
    "duration": 0,
    "start_time": "2022-08-04T17:20:18.666Z"
   },
   {
    "duration": 4,
    "start_time": "2022-08-04T17:45:22.246Z"
   },
   {
    "duration": 990,
    "start_time": "2022-08-04T17:45:22.256Z"
   },
   {
    "duration": 28,
    "start_time": "2022-08-04T17:45:23.248Z"
   },
   {
    "duration": 75,
    "start_time": "2022-08-04T17:45:23.278Z"
   },
   {
    "duration": 266,
    "start_time": "2022-08-04T17:45:23.355Z"
   },
   {
    "duration": 110,
    "start_time": "2022-08-04T17:45:23.627Z"
   },
   {
    "duration": 5,
    "start_time": "2022-08-04T17:45:23.739Z"
   },
   {
    "duration": 110,
    "start_time": "2022-08-04T17:45:23.745Z"
   },
   {
    "duration": 3,
    "start_time": "2022-08-04T17:45:23.857Z"
   },
   {
    "duration": 37,
    "start_time": "2022-08-04T17:45:23.862Z"
   },
   {
    "duration": 237,
    "start_time": "2022-08-04T17:45:23.901Z"
   },
   {
    "duration": 75241,
    "start_time": "2022-08-04T17:45:24.140Z"
   },
   {
    "duration": 74885,
    "start_time": "2022-08-04T17:46:39.383Z"
   },
   {
    "duration": 324,
    "start_time": "2022-08-04T17:47:54.269Z"
   },
   {
    "duration": 327,
    "start_time": "2022-08-04T17:47:54.597Z"
   },
   {
    "duration": 265,
    "start_time": "2022-08-04T17:47:54.926Z"
   },
   {
    "duration": 320,
    "start_time": "2022-08-04T17:47:55.193Z"
   },
   {
    "duration": 11,
    "start_time": "2022-08-04T17:47:55.518Z"
   },
   {
    "duration": 13,
    "start_time": "2022-08-04T17:47:55.532Z"
   },
   {
    "duration": 5,
    "start_time": "2022-08-04T17:47:55.547Z"
   },
   {
    "duration": 8,
    "start_time": "2022-08-04T17:47:55.554Z"
   },
   {
    "duration": 5,
    "start_time": "2022-08-04T17:47:55.564Z"
   },
   {
    "duration": 11115,
    "start_time": "2022-08-04T17:47:55.570Z"
   },
   {
    "duration": 5,
    "start_time": "2022-08-04T17:48:06.686Z"
   },
   {
    "duration": 10,
    "start_time": "2022-08-04T17:48:06.692Z"
   },
   {
    "duration": 3,
    "start_time": "2022-08-04T17:48:06.716Z"
   },
   {
    "duration": 16,
    "start_time": "2022-08-04T17:48:06.721Z"
   },
   {
    "duration": 320807,
    "start_time": "2022-08-04T17:48:06.739Z"
   },
   {
    "duration": 3486,
    "start_time": "2022-08-04T17:53:27.547Z"
   },
   {
    "duration": 2683747,
    "start_time": "2022-08-04T17:53:31.035Z"
   },
   {
    "duration": 421,
    "start_time": "2022-08-04T18:38:14.784Z"
   },
   {
    "duration": 31,
    "start_time": "2022-08-04T18:38:15.214Z"
   },
   {
    "duration": 432570,
    "start_time": "2022-08-04T18:38:15.247Z"
   },
   {
    "duration": 0,
    "start_time": "2022-08-04T18:45:27.820Z"
   },
   {
    "duration": 0,
    "start_time": "2022-08-04T18:45:27.821Z"
   },
   {
    "duration": 295,
    "start_time": "2022-08-04T18:45:47.426Z"
   },
   {
    "duration": 5,
    "start_time": "2022-08-04T18:46:17.157Z"
   },
   {
    "duration": 840,
    "start_time": "2022-08-04T18:46:17.252Z"
   },
   {
    "duration": 36,
    "start_time": "2022-08-04T18:46:18.094Z"
   },
   {
    "duration": 36,
    "start_time": "2022-08-04T18:46:18.132Z"
   },
   {
    "duration": 259,
    "start_time": "2022-08-04T18:46:18.170Z"
   },
   {
    "duration": 119,
    "start_time": "2022-08-04T18:46:18.431Z"
   },
   {
    "duration": 3,
    "start_time": "2022-08-04T18:46:18.552Z"
   },
   {
    "duration": 79,
    "start_time": "2022-08-04T18:46:18.557Z"
   },
   {
    "duration": 4,
    "start_time": "2022-08-04T18:46:18.637Z"
   },
   {
    "duration": 8,
    "start_time": "2022-08-04T18:46:18.642Z"
   },
   {
    "duration": 151,
    "start_time": "2022-08-04T18:46:18.651Z"
   },
   {
    "duration": 75218,
    "start_time": "2022-08-04T18:46:18.804Z"
   },
   {
    "duration": 75188,
    "start_time": "2022-08-04T18:47:34.027Z"
   },
   {
    "duration": 12,
    "start_time": "2022-08-04T18:48:49.219Z"
   },
   {
    "duration": 12,
    "start_time": "2022-08-04T18:48:49.234Z"
   },
   {
    "duration": 8,
    "start_time": "2022-08-04T18:48:49.248Z"
   },
   {
    "duration": 11039,
    "start_time": "2022-08-04T18:48:49.258Z"
   },
   {
    "duration": 3,
    "start_time": "2022-08-04T18:49:00.299Z"
   },
   {
    "duration": 36,
    "start_time": "2022-08-04T18:49:00.304Z"
   },
   {
    "duration": 10,
    "start_time": "2022-08-04T18:49:38.586Z"
   },
   {
    "duration": 3,
    "start_time": "2022-08-04T18:50:12.730Z"
   },
   {
    "duration": 3,
    "start_time": "2022-08-04T18:50:18.848Z"
   },
   {
    "duration": 3,
    "start_time": "2022-08-04T18:50:21.489Z"
   },
   {
    "duration": 533572,
    "start_time": "2022-08-04T18:50:24.777Z"
   },
   {
    "duration": 2990,
    "start_time": "2022-08-04T18:59:33.972Z"
   },
   {
    "duration": 338,
    "start_time": "2022-08-04T18:59:36.963Z"
   },
   {
    "duration": 9,
    "start_time": "2022-08-04T19:00:45.845Z"
   },
   {
    "duration": 3,
    "start_time": "2022-08-04T19:00:49.573Z"
   },
   {
    "duration": 347437,
    "start_time": "2022-08-04T19:00:52.235Z"
   },
   {
    "duration": 3678,
    "start_time": "2022-08-04T19:06:44.663Z"
   },
   {
    "duration": 2728349,
    "start_time": "2022-08-04T19:07:01.251Z"
   },
   {
    "duration": 410,
    "start_time": "2022-08-04T19:52:38.850Z"
   },
   {
    "duration": 1857,
    "start_time": "2022-08-05T15:12:10.885Z"
   },
   {
    "duration": 3973,
    "start_time": "2022-08-05T15:12:12.743Z"
   },
   {
    "duration": 32,
    "start_time": "2022-08-05T15:12:16.717Z"
   },
   {
    "duration": 34,
    "start_time": "2022-08-05T15:12:16.751Z"
   },
   {
    "duration": 243,
    "start_time": "2022-08-05T15:12:16.787Z"
   },
   {
    "duration": 135,
    "start_time": "2022-08-05T15:12:17.032Z"
   },
   {
    "duration": 4,
    "start_time": "2022-08-05T15:12:17.169Z"
   },
   {
    "duration": 82,
    "start_time": "2022-08-05T15:12:17.174Z"
   },
   {
    "duration": 4,
    "start_time": "2022-08-05T15:12:17.258Z"
   },
   {
    "duration": 4,
    "start_time": "2022-08-05T15:12:17.264Z"
   },
   {
    "duration": 205,
    "start_time": "2022-08-05T15:12:17.270Z"
   },
   {
    "duration": 73179,
    "start_time": "2022-08-05T15:12:17.477Z"
   },
   {
    "duration": 74125,
    "start_time": "2022-08-05T15:13:30.657Z"
   },
   {
    "duration": 202,
    "start_time": "2022-08-05T15:14:44.783Z"
   },
   {
    "duration": 2,
    "start_time": "2022-08-05T15:14:44.987Z"
   },
   {
    "duration": 31,
    "start_time": "2022-08-05T15:14:44.991Z"
   },
   {
    "duration": 10,
    "start_time": "2022-08-05T15:14:45.024Z"
   },
   {
    "duration": 4,
    "start_time": "2022-08-05T15:14:45.036Z"
   },
   {
    "duration": 5,
    "start_time": "2022-08-05T15:14:45.042Z"
   },
   {
    "duration": 10,
    "start_time": "2022-08-05T15:14:45.049Z"
   },
   {
    "duration": 5,
    "start_time": "2022-08-05T15:14:45.061Z"
   },
   {
    "duration": 344759,
    "start_time": "2022-08-05T15:14:45.068Z"
   },
   {
    "duration": 3994,
    "start_time": "2022-08-05T15:20:29.829Z"
   },
   {
    "duration": 5,
    "start_time": "2022-08-05T15:20:33.825Z"
   },
   {
    "duration": 116,
    "start_time": "2022-08-05T15:20:33.832Z"
   },
   {
    "duration": 0,
    "start_time": "2022-08-05T15:20:33.949Z"
   },
   {
    "duration": 0,
    "start_time": "2022-08-05T15:20:33.951Z"
   },
   {
    "duration": 0,
    "start_time": "2022-08-05T15:20:33.952Z"
   },
   {
    "duration": 0,
    "start_time": "2022-08-05T15:20:33.954Z"
   },
   {
    "duration": 0,
    "start_time": "2022-08-05T15:20:33.955Z"
   },
   {
    "duration": 0,
    "start_time": "2022-08-05T15:20:33.955Z"
   },
   {
    "duration": 0,
    "start_time": "2022-08-05T15:20:33.957Z"
   },
   {
    "duration": 4,
    "start_time": "2022-08-05T15:38:09.817Z"
   },
   {
    "duration": 131,
    "start_time": "2022-08-05T15:38:09.826Z"
   },
   {
    "duration": 0,
    "start_time": "2022-08-05T15:38:09.959Z"
   },
   {
    "duration": 0,
    "start_time": "2022-08-05T15:38:09.961Z"
   },
   {
    "duration": 0,
    "start_time": "2022-08-05T15:38:09.962Z"
   },
   {
    "duration": 0,
    "start_time": "2022-08-05T15:38:09.964Z"
   },
   {
    "duration": 0,
    "start_time": "2022-08-05T15:38:09.965Z"
   },
   {
    "duration": 15,
    "start_time": "2022-08-05T15:38:10.040Z"
   },
   {
    "duration": 3,
    "start_time": "2022-08-05T15:38:51.355Z"
   },
   {
    "duration": 3,
    "start_time": "2022-08-05T15:39:05.652Z"
   },
   {
    "duration": 29,
    "start_time": "2022-08-05T15:39:14.086Z"
   },
   {
    "duration": 0,
    "start_time": "2022-08-05T15:39:14.117Z"
   },
   {
    "duration": 0,
    "start_time": "2022-08-05T15:39:14.118Z"
   },
   {
    "duration": 0,
    "start_time": "2022-08-05T15:39:14.119Z"
   },
   {
    "duration": 15,
    "start_time": "2022-08-05T15:39:14.205Z"
   },
   {
    "duration": 0,
    "start_time": "2022-08-05T15:39:14.221Z"
   },
   {
    "duration": 0,
    "start_time": "2022-08-05T15:39:14.223Z"
   },
   {
    "duration": 41,
    "start_time": "2022-08-05T15:40:22.668Z"
   },
   {
    "duration": 3,
    "start_time": "2022-08-05T15:40:48.180Z"
   },
   {
    "duration": 7,
    "start_time": "2022-08-05T15:40:57.991Z"
   },
   {
    "duration": 4,
    "start_time": "2022-08-05T15:41:03.544Z"
   },
   {
    "duration": 4,
    "start_time": "2022-08-05T15:43:10.019Z"
   },
   {
    "duration": 9,
    "start_time": "2022-08-05T15:43:10.024Z"
   },
   {
    "duration": 552152,
    "start_time": "2022-08-05T15:43:10.035Z"
   },
   {
    "duration": 3314,
    "start_time": "2022-08-05T15:52:22.189Z"
   },
   {
    "duration": 399,
    "start_time": "2022-08-05T15:52:25.504Z"
   },
   {
    "duration": 5,
    "start_time": "2022-08-05T15:59:43.814Z"
   },
   {
    "duration": 5,
    "start_time": "2022-08-05T16:00:04.360Z"
   },
   {
    "duration": 5,
    "start_time": "2022-08-05T16:00:21.876Z"
   },
   {
    "duration": 5,
    "start_time": "2022-08-05T16:00:32.777Z"
   },
   {
    "duration": 3,
    "start_time": "2022-08-05T16:00:57.777Z"
   },
   {
    "duration": 48,
    "start_time": "2022-08-05T16:01:01.216Z"
   },
   {
    "duration": 12225,
    "start_time": "2022-08-05T16:01:14.965Z"
   },
   {
    "duration": 11,
    "start_time": "2022-08-05T16:01:27.198Z"
   },
   {
    "duration": 10,
    "start_time": "2022-08-05T16:01:27.217Z"
   },
   {
    "duration": 2491296,
    "start_time": "2022-08-05T16:03:32.072Z"
   },
   {
    "duration": 2811052,
    "start_time": "2022-08-05T16:47:46.423Z"
   },
   {
    "duration": 637,
    "start_time": "2022-08-05T17:34:46.488Z"
   }
  ],
  "kernelspec": {
   "display_name": "Python 3 (ipykernel)",
   "language": "python",
   "name": "python3"
  },
  "language_info": {
   "codemirror_mode": {
    "name": "ipython",
    "version": 3
   },
   "file_extension": ".py",
   "mimetype": "text/x-python",
   "name": "python",
   "nbconvert_exporter": "python",
   "pygments_lexer": "ipython3",
   "version": "3.9.5"
  },
  "toc": {
   "base_numbering": 1,
   "nav_menu": {
    "height": "222px",
    "width": "448px"
   },
   "number_sections": true,
   "sideBar": true,
   "skip_h1_title": true,
   "title_cell": "Table of Contents",
   "title_sidebar": "Contents",
   "toc_cell": false,
   "toc_position": {
    "height": "508px",
    "left": "459px",
    "top": "173.125px",
    "width": "289.6px"
   },
   "toc_section_display": true,
   "toc_window_display": false
  }
 },
 "nbformat": 4,
 "nbformat_minor": 5
}
