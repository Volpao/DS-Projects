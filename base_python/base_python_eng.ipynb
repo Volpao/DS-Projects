{
 "cells": [
  {
   "cell_type": "markdown",
   "metadata": {
    "id": "E0vqbgi9ay0H"
   },
   "source": [
    "# Study of Yandex.Music"
   ]
  },
  {
   "cell_type": "markdown",
   "metadata": {
    "id": "VUC88oWjTJw2"
   },
   "source": [
    "Comparison of Moscow and St. Petersburg is surrounded by myths. For example:\n",
    " * Moscow is a metropolis subject to the rigid rhythm of the working week;\n",
    " * St. Petersburg is a cultural capital, with its own tastes.\n",
    "\n",
    "Using Yandex.Music data, we will compare the behavior of users in the two capitals.\n",
    "\n",
    "**The purpose of the study** is to test three hypotheses:\n",
    "1. User activity depends on the week day. Moreover, in Moscow and St. Petersburg this manifests itself in different ways.\n",
    "2. On Monday morning, certain genres prevail in Moscow, while others prevail in St. Petersburg. Likewise, Friday nights are dominated by different genres, depending on the city.\n",
    "3. Moscow and St. Petersburg prefer different genres of music. In Moscow, they listen to pop music more often, in St. Petersburg - Russian rap.\n",
    "\n",
    "**Research Progress**\n",
    "\n",
    "We will retrieve data on the users' behavior from the `yandex_music_project.csv` file. Nothing is yet known about the quality of the data. Therefore, before testing hypotheses we first review  the data.\n",
    "\n",
    "We will check the error data and assess its impact on the study. Then, in the pre-processing phase, we will eventually correct the most critical data errors.\n",
    " \n",
    "Thus, the study will take place in three stages:\n",
    " 1. Data overview.\n",
    " 2. Data preprocessing.\n",
    " 3. Testing the hypothesis.\n",
    "\n",
    "\n"
   ]
  },
  {
   "cell_type": "markdown",
   "metadata": {
    "id": "Ml1hmfXC_Zcs"
   },
   "source": [
    "## Data Overview\n",
    "\n",
    "Let's have the first glance at the Yandex.Music data.\n",
    "\n",
    "\n"
   ]
  },
  {
   "cell_type": "markdown",
   "metadata": {
    "id": "57eAOGIz_Zcs"
   },
   "source": [
    "Our principal tool is going to be `pandas` library. Let's import it."
   ]
  },
  {
   "cell_type": "code",
   "execution_count": 1,
   "metadata": {
    "id": "AXN7PHPN_Zcs"
   },
   "outputs": [],
   "source": [
    "import pandas as pd  # importing pandas library"
   ]
  },
  {
   "cell_type": "markdown",
   "metadata": {
    "id": "SG23P8tt_Zcs"
   },
   "source": [
    "We will read the file  `yandex_music_project.csv` and save it as `df`:"
   ]
  },
  {
   "cell_type": "code",
   "execution_count": 2,
   "metadata": {
    "id": "fFVu7vqh_Zct"
   },
   "outputs": [],
   "source": [
    "df = pd.read_csv('yandex_music_project.csv')  # reading csv file and saving it to df"
   ]
  },
  {
   "cell_type": "markdown",
   "metadata": {
    "id": "rDoOMd3uTqnZ"
   },
   "source": [
    "Let's display the first 10 rows of the dataframe:"
   ]
  },
  {
   "cell_type": "code",
   "execution_count": 3,
   "metadata": {
    "id": "oWTVX3gW_Zct"
   },
   "outputs": [
    {
     "data": {
      "text/html": [
       "<div>\n",
       "<style scoped>\n",
       "    .dataframe tbody tr th:only-of-type {\n",
       "        vertical-align: middle;\n",
       "    }\n",
       "\n",
       "    .dataframe tbody tr th {\n",
       "        vertical-align: top;\n",
       "    }\n",
       "\n",
       "    .dataframe thead th {\n",
       "        text-align: right;\n",
       "    }\n",
       "</style>\n",
       "<table border=\"1\" class=\"dataframe\">\n",
       "  <thead>\n",
       "    <tr style=\"text-align: right;\">\n",
       "      <th></th>\n",
       "      <th>userID</th>\n",
       "      <th>Track</th>\n",
       "      <th>artist</th>\n",
       "      <th>genre</th>\n",
       "      <th>City</th>\n",
       "      <th>time</th>\n",
       "      <th>Day</th>\n",
       "    </tr>\n",
       "  </thead>\n",
       "  <tbody>\n",
       "    <tr>\n",
       "      <th>0</th>\n",
       "      <td>FFB692EC</td>\n",
       "      <td>Kamigata To Boots</td>\n",
       "      <td>The Mass Missile</td>\n",
       "      <td>rock</td>\n",
       "      <td>Saint-Petersburg</td>\n",
       "      <td>20:28:33</td>\n",
       "      <td>Wednesday</td>\n",
       "    </tr>\n",
       "    <tr>\n",
       "      <th>1</th>\n",
       "      <td>55204538</td>\n",
       "      <td>Delayed Because of Accident</td>\n",
       "      <td>Andreas Rönnberg</td>\n",
       "      <td>rock</td>\n",
       "      <td>Moscow</td>\n",
       "      <td>14:07:09</td>\n",
       "      <td>Friday</td>\n",
       "    </tr>\n",
       "    <tr>\n",
       "      <th>2</th>\n",
       "      <td>20EC38</td>\n",
       "      <td>Funiculì funiculà</td>\n",
       "      <td>Mario Lanza</td>\n",
       "      <td>pop</td>\n",
       "      <td>Saint-Petersburg</td>\n",
       "      <td>20:58:07</td>\n",
       "      <td>Wednesday</td>\n",
       "    </tr>\n",
       "    <tr>\n",
       "      <th>3</th>\n",
       "      <td>A3DD03C9</td>\n",
       "      <td>Dragons in the Sunset</td>\n",
       "      <td>Fire + Ice</td>\n",
       "      <td>folk</td>\n",
       "      <td>Saint-Petersburg</td>\n",
       "      <td>08:37:09</td>\n",
       "      <td>Monday</td>\n",
       "    </tr>\n",
       "    <tr>\n",
       "      <th>4</th>\n",
       "      <td>E2DC1FAE</td>\n",
       "      <td>Soul People</td>\n",
       "      <td>Space Echo</td>\n",
       "      <td>dance</td>\n",
       "      <td>Moscow</td>\n",
       "      <td>08:34:34</td>\n",
       "      <td>Monday</td>\n",
       "    </tr>\n",
       "    <tr>\n",
       "      <th>5</th>\n",
       "      <td>842029A1</td>\n",
       "      <td>Преданная</td>\n",
       "      <td>IMPERVTOR</td>\n",
       "      <td>rusrap</td>\n",
       "      <td>Saint-Petersburg</td>\n",
       "      <td>13:09:41</td>\n",
       "      <td>Friday</td>\n",
       "    </tr>\n",
       "    <tr>\n",
       "      <th>6</th>\n",
       "      <td>4CB90AA5</td>\n",
       "      <td>True</td>\n",
       "      <td>Roman Messer</td>\n",
       "      <td>dance</td>\n",
       "      <td>Moscow</td>\n",
       "      <td>13:00:07</td>\n",
       "      <td>Wednesday</td>\n",
       "    </tr>\n",
       "    <tr>\n",
       "      <th>7</th>\n",
       "      <td>F03E1C1F</td>\n",
       "      <td>Feeling This Way</td>\n",
       "      <td>Polina Griffith</td>\n",
       "      <td>dance</td>\n",
       "      <td>Moscow</td>\n",
       "      <td>20:47:49</td>\n",
       "      <td>Wednesday</td>\n",
       "    </tr>\n",
       "    <tr>\n",
       "      <th>8</th>\n",
       "      <td>8FA1D3BE</td>\n",
       "      <td>И вновь продолжается бой</td>\n",
       "      <td>NaN</td>\n",
       "      <td>ruspop</td>\n",
       "      <td>Moscow</td>\n",
       "      <td>09:17:40</td>\n",
       "      <td>Friday</td>\n",
       "    </tr>\n",
       "    <tr>\n",
       "      <th>9</th>\n",
       "      <td>E772D5C0</td>\n",
       "      <td>Pessimist</td>\n",
       "      <td>NaN</td>\n",
       "      <td>dance</td>\n",
       "      <td>Saint-Petersburg</td>\n",
       "      <td>21:20:49</td>\n",
       "      <td>Wednesday</td>\n",
       "    </tr>\n",
       "  </tbody>\n",
       "</table>\n",
       "</div>"
      ],
      "text/plain": [
       "     userID                        Track            artist   genre  \\\n",
       "0  FFB692EC            Kamigata To Boots  The Mass Missile    rock   \n",
       "1  55204538  Delayed Because of Accident  Andreas Rönnberg    rock   \n",
       "2    20EC38            Funiculì funiculà       Mario Lanza     pop   \n",
       "3  A3DD03C9        Dragons in the Sunset        Fire + Ice    folk   \n",
       "4  E2DC1FAE                  Soul People        Space Echo   dance   \n",
       "5  842029A1                    Преданная         IMPERVTOR  rusrap   \n",
       "6  4CB90AA5                         True      Roman Messer   dance   \n",
       "7  F03E1C1F             Feeling This Way   Polina Griffith   dance   \n",
       "8  8FA1D3BE     И вновь продолжается бой               NaN  ruspop   \n",
       "9  E772D5C0                    Pessimist               NaN   dance   \n",
       "\n",
       "             City        time        Day  \n",
       "0  Saint-Petersburg  20:28:33  Wednesday  \n",
       "1            Moscow  14:07:09     Friday  \n",
       "2  Saint-Petersburg  20:58:07  Wednesday  \n",
       "3  Saint-Petersburg  08:37:09     Monday  \n",
       "4            Moscow  08:34:34     Monday  \n",
       "5  Saint-Petersburg  13:09:41     Friday  \n",
       "6            Moscow  13:00:07  Wednesday  \n",
       "7            Moscow  20:47:49  Wednesday  \n",
       "8            Moscow  09:17:40     Friday  \n",
       "9  Saint-Petersburg  21:20:49  Wednesday  "
      ]
     },
     "execution_count": 3,
     "metadata": {},
     "output_type": "execute_result"
    }
   ],
   "source": [
    "df.head(10) # displaying first 10 df rows"
   ]
  },
  {
   "cell_type": "markdown",
   "metadata": {
    "id": "EO73Kwic_Zct"
   },
   "source": [
    "Let's also get the general information on the dataframe:"
   ]
  },
  {
   "cell_type": "code",
   "execution_count": 4,
   "metadata": {
    "id": "DSf2kIb-_Zct"
   },
   "outputs": [
    {
     "name": "stdout",
     "output_type": "stream",
     "text": [
      "<class 'pandas.core.frame.DataFrame'>\n",
      "RangeIndex: 65079 entries, 0 to 65078\n",
      "Data columns (total 7 columns):\n",
      " #   Column    Non-Null Count  Dtype \n",
      "---  ------    --------------  ----- \n",
      " 0     userID  65079 non-null  object\n",
      " 1   Track     63848 non-null  object\n",
      " 2   artist    57876 non-null  object\n",
      " 3   genre     63881 non-null  object\n",
      " 4     City    65079 non-null  object\n",
      " 5   time      65079 non-null  object\n",
      " 6   Day       65079 non-null  object\n",
      "dtypes: object(7)\n",
      "memory usage: 3.5+ MB\n"
     ]
    }
   ],
   "source": [
    "df.info()  # getting general info on the df"
   ]
  },
  {
   "cell_type": "markdown",
   "metadata": {
    "id": "TaQ2Iwbr_Zct"
   },
   "source": [
    "So, as we can observe, the dataframe has seven columns. The data type in all columns is `object`.\n",
    "\n",
    "According to the data documentation:\n",
    "* `userID` - user ID;\n",
    "* `Track` — track name;\n",
    "* `artist` — artist name;\n",
    "* `genre` — genre name;\n",
    "* `City` - user's city;\n",
    "* `time` - start time of listening;\n",
    "* `Day` is the weekday.\n",
    "\n",
    "There are three style non-conformities in the column headings:\n",
    "1. Lowercase letters are combined with uppercase.\n",
    "2. There are spaces.\n",
    "3. Compound names do not use snake case.\n",
    "\n",
    "\n",
    "The number of values in the columns varies. This means there are missing values in the data.\n"
   ]
  },
  {
   "cell_type": "markdown",
   "metadata": {
    "id": "MCB6-dXG_Zct"
   },
   "source": [
    "**Conclusions**\n",
    "\n",
    "Each row of the dataframe contains data about the track that has been listened to. Some of the columns describe the composition itself: title, artist and genre. The rest of the data tells us about the user: what city she/he is from, when she/he listened to music.\n",
    "\n",
    "Preliminarily, we can suppose that there is enough data to test hypotheses. But there are missing values in the data, and discrepancies in the names of the columns: this does not not comply with the PEP 8.\n",
    "\n",
    "To move forward, we need to fix problems in the data.\n"
   ]
  },
  {
   "cell_type": "markdown",
   "metadata": {
    "id": "SjYF6Ub9_Zct"
   },
   "source": [
    "## Data Preprocessing\n",
    "We shall correct the column names stye, fill in the missiinmg values. Further we will check the data on redundant rows."
   ]
  },
  {
   "cell_type": "markdown",
   "metadata": {
    "id": "dIaKXr29_Zct"
   },
   "source": [
    "### Column header's style\n",
    "Let's display the columns' names:"
   ]
  },
  {
   "cell_type": "code",
   "execution_count": 5,
   "metadata": {
    "id": "oKOTdF_Q_Zct"
   },
   "outputs": [
    {
     "data": {
      "text/plain": [
       "Index(['  userID', 'Track', 'artist', 'genre', '  City  ', 'time', 'Day'], dtype='object')"
      ]
     },
     "execution_count": 5,
     "metadata": {},
     "output_type": "execute_result"
    }
   ],
   "source": [
    "df.columns  # getting list of the df columns"
   ]
  },
  {
   "cell_type": "markdown",
   "metadata": {
    "id": "zj5534cv_Zct"
   },
   "source": [
    "We will bring the column headers in line with the  good style, i.e.:\n",
    "* put more words in the header in \"snake_case\",\n",
    "* make all characters lowercase,\n",
    "* eliminate spaces.\n",
    "\n",
    "To do this, let's rename the columns like this:\n",
    "* `'  userID'` → `'user_id'`;\n",
    "* `'Track'` → `'track'`;\n",
    "* `'  City  '` → `'city'`;\n",
    "* `'Day'` → `'day'`."
   ]
  },
  {
   "cell_type": "code",
   "execution_count": 6,
   "metadata": {
    "id": "ISlFqs5y_Zct"
   },
   "outputs": [],
   "source": [
    "df = df.rename(columns={'  userID': 'user_id', 'Track': 'track', '  City  ': 'city', 'Day': 'day'})  # renaming columns"
   ]
  },
  {
   "cell_type": "markdown",
   "metadata": {
    "id": "1dqbh00J_Zct"
   },
   "source": [
    "Let's check the result displaying one more time the column headers:"
   ]
  },
  {
   "cell_type": "code",
   "execution_count": 7,
   "metadata": {
    "id": "d4NOAmTW_Zct"
   },
   "outputs": [
    {
     "data": {
      "text/plain": [
       "Index(['user_id', 'track', 'artist', 'genre', 'city', 'time', 'day'], dtype='object')"
      ]
     },
     "execution_count": 7,
     "metadata": {},
     "output_type": "execute_result"
    }
   ],
   "source": [
    "df.columns # displaying the list of column names"
   ]
  },
  {
   "cell_type": "markdown",
   "metadata": {
    "id": "5ISfbcfY_Zct"
   },
   "source": [
    "### Missing Values\n",
    "Let's count how many missing values are in the dataframe. To do this, we need to call two standard `pandas` methods:"
   ]
  },
  {
   "cell_type": "code",
   "execution_count": 8,
   "metadata": {
    "id": "RskX29qr_Zct"
   },
   "outputs": [
    {
     "data": {
      "text/plain": [
       "user_id       0\n",
       "track      1231\n",
       "artist     7203\n",
       "genre      1198\n",
       "city          0\n",
       "time          0\n",
       "day           0\n",
       "dtype: int64"
      ]
     },
     "execution_count": 8,
     "metadata": {},
     "output_type": "execute_result"
    }
   ],
   "source": [
    "df.isna().sum()# counting the missing values"
   ]
  },
  {
   "cell_type": "markdown",
   "metadata": {
    "id": "qubhgnlO_Zct"
   },
   "source": [
    "Not all missing values affect the study. Thus, in `track` and `artist` columns the missing values are not important for our work. It will be enough to replace them with the explicit notation.\n",
    "\n",
    "But omissions in `genre` may interfere with the comparison of musical tastes in Moscow and St. Petersburg. In practice, it would be correct to determine the cause of this omissions and restore the data, but such an option is not available. so we have to:\n",
    "* fill in these missing values with explicit notation,\n",
    "* estimate how much they will damage the calculations.\n"
   ]
  },
  {
   "cell_type": "markdown",
   "metadata": {
    "id": "fSv2laPA_Zct"
   },
   "source": [
    "Let's replace the missing values in the columns `track`, `artist` and `genre` with the value `'unknown'`. To do this, first we will create a list `columns_to_replace`, then iterate it with the use of  `for`, and replace the missing values in each column:"
   ]
  },
  {
   "cell_type": "code",
   "execution_count": 9,
   "metadata": {
    "id": "KplB5qWs_Zct"
   },
   "outputs": [],
   "source": [
    "columns_to_replace = ['track', 'artist', 'genre']  # creating list of the columns to fill in\n",
    "for column in columns_to_replace:  # iterating column headers \n",
    "    df[column] = df[column].fillna('unknown')  # replacing missing values with 'unknown'\n",
    "    "
   ]
  },
  {
   "cell_type": "markdown",
   "metadata": {
    "id": "Ilsm-MZo_Zct"
   },
   "source": [
    "Let's make sure there are no more missing values in the dataframe. To do this, we shall count missing values one more time."
   ]
  },
  {
   "cell_type": "code",
   "execution_count": 10,
   "metadata": {
    "id": "Tq4nYRX4_Zct"
   },
   "outputs": [
    {
     "data": {
      "text/plain": [
       "user_id    0\n",
       "track      0\n",
       "artist     0\n",
       "genre      0\n",
       "city       0\n",
       "time       0\n",
       "day        0\n",
       "dtype: int64"
      ]
     },
     "execution_count": 10,
     "metadata": {},
     "output_type": "execute_result"
    }
   ],
   "source": [
    "df.isna().sum()  # counting the missing values"
   ]
  },
  {
   "cell_type": "markdown",
   "metadata": {
    "id": "BWKRtBJ3_Zct"
   },
   "source": [
    "### Duplicates\n",
    "Let's count with one comand hom many explicit dublicates are in the dataframe:"
   ]
  },
  {
   "cell_type": "code",
   "execution_count": 11,
   "metadata": {
    "id": "36eES_S0_Zct"
   },
   "outputs": [
    {
     "data": {
      "text/plain": [
       "3826"
      ]
     },
     "execution_count": 11,
     "metadata": {},
     "output_type": "execute_result"
    }
   ],
   "source": [
    "df.duplicated().sum()# counting explicit duplicates"
   ]
  },
  {
   "cell_type": "markdown",
   "metadata": {
    "id": "Ot25h6XR_Zct"
   },
   "source": [
    "Now we will call a `pandas` method to delete the explicit duplicates:"
   ]
  },
  {
   "cell_type": "code",
   "execution_count": 12,
   "metadata": {
    "id": "exFHq6tt_Zct"
   },
   "outputs": [],
   "source": [
    "df = df.drop_duplicates().reset_index(drop=True)  # deleting explicit duplicates together with dropping indexes"
   ]
  },
  {
   "cell_type": "markdown",
   "metadata": {
    "id": "Im2YwBEG_Zct"
   },
   "source": [
    "Let's count once again explicit duplicates in the dataframe to make sure their sum is equal to zero:"
   ]
  },
  {
   "cell_type": "code",
   "execution_count": 13,
   "metadata": {
    "id": "-8PuNWQ0_Zct"
   },
   "outputs": [
    {
     "data": {
      "text/plain": [
       "0"
      ]
     },
     "execution_count": 13,
     "metadata": {},
     "output_type": "execute_result"
    }
   ],
   "source": [
    "df.duplicated().sum()  # making sure the duplicates are absent"
   ]
  },
  {
   "cell_type": "markdown",
   "metadata": {
    "id": "QlFBsxAr_Zct"
   },
   "source": [
    "Now we will get rid of the implicit duplicates in the `genre` column. For example, the name of the same genre can be specified in slightly different ways. Such errors will also affect the result of the study.\n"
   ]
  },
  {
   "cell_type": "markdown",
   "metadata": {
    "id": "eSjWwsOh_Zct"
   },
   "source": [
    "Let's display the list of unique genre names sorted alphabetically. To do this, we need to:\n",
    "* extract the proper dataframe column,\n",
    "* apply a sort method to it,\n",
    "* call a method  for the  sorted column, that will return the unique values from the column.\n"
   ]
  },
  {
   "cell_type": "code",
   "execution_count": 14,
   "metadata": {
    "id": "JIUcqzZN_Zct"
   },
   "outputs": [
    {
     "data": {
      "text/plain": [
       "array(['acid', 'acoustic', 'action', 'adult', 'africa', 'afrikaans',\n",
       "       'alternative', 'alternativepunk', 'ambient', 'americana',\n",
       "       'animated', 'anime', 'arabesk', 'arabic', 'arena',\n",
       "       'argentinetango', 'art', 'audiobook', 'author', 'avantgarde',\n",
       "       'axé', 'baile', 'balkan', 'beats', 'bigroom', 'black', 'bluegrass',\n",
       "       'blues', 'bollywood', 'bossa', 'brazilian', 'breakbeat', 'breaks',\n",
       "       'broadway', 'cantautori', 'cantopop', 'canzone', 'caribbean',\n",
       "       'caucasian', 'celtic', 'chamber', 'chanson', 'children', 'chill',\n",
       "       'chinese', 'choral', 'christian', 'christmas', 'classical',\n",
       "       'classicmetal', 'club', 'colombian', 'comedy', 'conjazz',\n",
       "       'contemporary', 'country', 'cuban', 'dance', 'dancehall',\n",
       "       'dancepop', 'dark', 'death', 'deep', 'deutschrock', 'deutschspr',\n",
       "       'dirty', 'disco', 'dnb', 'documentary', 'downbeat', 'downtempo',\n",
       "       'drum', 'dub', 'dubstep', 'eastern', 'easy', 'electronic',\n",
       "       'electropop', 'emo', 'entehno', 'epicmetal', 'estrada', 'ethnic',\n",
       "       'eurofolk', 'european', 'experimental', 'extrememetal', 'fado',\n",
       "       'fairytail', 'film', 'fitness', 'flamenco', 'folk', 'folklore',\n",
       "       'folkmetal', 'folkrock', 'folktronica', 'forró', 'frankreich',\n",
       "       'französisch', 'french', 'funk', 'future', 'gangsta', 'garage',\n",
       "       'german', 'ghazal', 'gitarre', 'glitch', 'gospel', 'gothic',\n",
       "       'grime', 'grunge', 'gypsy', 'handsup', \"hard'n'heavy\", 'hardcore',\n",
       "       'hardstyle', 'hardtechno', 'hip', 'hip-hop', 'hiphop',\n",
       "       'historisch', 'holiday', 'hop', 'horror', 'house', 'hymn', 'idm',\n",
       "       'independent', 'indian', 'indie', 'indipop', 'industrial',\n",
       "       'inspirational', 'instrumental', 'international', 'irish', 'jam',\n",
       "       'japanese', 'jazz', 'jewish', 'jpop', 'jungle', 'k-pop',\n",
       "       'karadeniz', 'karaoke', 'kayokyoku', 'korean', 'laiko', 'latin',\n",
       "       'latino', 'leftfield', 'local', 'lounge', 'loungeelectronic',\n",
       "       'lovers', 'malaysian', 'mandopop', 'marschmusik', 'meditative',\n",
       "       'mediterranean', 'melodic', 'metal', 'metalcore', 'mexican',\n",
       "       'middle', 'minimal', 'miscellaneous', 'modern', 'mood', 'mpb',\n",
       "       'muslim', 'native', 'neoklassik', 'neue', 'new', 'newage',\n",
       "       'newwave', 'nu', 'nujazz', 'numetal', 'oceania', 'old', 'opera',\n",
       "       'orchestral', 'other', 'piano', 'podcasts', 'pop', 'popdance',\n",
       "       'popelectronic', 'popeurodance', 'poprussian', 'post',\n",
       "       'posthardcore', 'postrock', 'power', 'progmetal', 'progressive',\n",
       "       'psychedelic', 'punjabi', 'punk', 'quebecois', 'ragga', 'ram',\n",
       "       'rancheras', 'rap', 'rave', 'reggae', 'reggaeton', 'regional',\n",
       "       'relax', 'religious', 'retro', 'rhythm', 'rnb', 'rnr', 'rock',\n",
       "       'rockabilly', 'rockalternative', 'rockindie', 'rockother',\n",
       "       'romance', 'roots', 'ruspop', 'rusrap', 'rusrock', 'russian',\n",
       "       'salsa', 'samba', 'scenic', 'schlager', 'self', 'sertanejo',\n",
       "       'shanson', 'shoegazing', 'showtunes', 'singer', 'ska', 'skarock',\n",
       "       'slow', 'smooth', 'soft', 'soul', 'soulful', 'sound', 'soundtrack',\n",
       "       'southern', 'specialty', 'speech', 'spiritual', 'sport',\n",
       "       'stonerrock', 'surf', 'swing', 'synthpop', 'synthrock',\n",
       "       'sängerportrait', 'tango', 'tanzorchester', 'taraftar', 'tatar',\n",
       "       'tech', 'techno', 'teen', 'thrash', 'top', 'traditional',\n",
       "       'tradjazz', 'trance', 'tribal', 'trip', 'triphop', 'tropical',\n",
       "       'türk', 'türkçe', 'ukrrock', 'unknown', 'urban', 'uzbek',\n",
       "       'variété', 'vi', 'videogame', 'vocal', 'western', 'world',\n",
       "       'worldbeat', 'ïîï', 'электроника'], dtype=object)"
      ]
     },
     "execution_count": 14,
     "metadata": {},
     "output_type": "execute_result"
    }
   ],
   "source": [
    "df['genre'].sort_values().unique()  # dispaying the list of unique values in 'genre' column"
   ]
  },
  {
   "cell_type": "markdown",
   "metadata": {
    "id": "qej-Qmuo_Zct"
   },
   "source": [
    "Let's look through the list and look for implicit duplicates of the name `hiphop`. These may be misspelled words or synonims in the same genre.\n",
    "\n",
    "We've noticed the following implicit duplicates:\n",
    "**hip*,\n",
    "**hop*,\n",
    "**hip-hop*.\n",
    "\n",
    "To clear the dataframe of them,  we will define a `replace_wrong_genres()` function with two parameters:\n",
    "* `wrong_genres` - list of duplicates,\n",
    "* `correct_genre` - a string with the correct value.\n",
    "\n",
    "The function should correct the `genre` column in the `df` table: replace each value from the `wrong_genres` list with a value from `correct_genre`.\n"
   ]
  },
  {
   "cell_type": "code",
   "execution_count": 15,
   "metadata": {
    "id": "ErNDkmns_Zct"
   },
   "outputs": [],
   "source": [
    "# Defining a function for replacement of the implicit duplicates:\n",
    "def replace_wrong_genres(wrong_genres, correct_genre):  \n",
    "    for wrong_genre in wrong_genres: # iterating implicit duplicates\n",
    "        df['genre'] = df['genre'].replace(wrong_genre, correct_genre) #  calling replace() method for each duplicate\n",
    "  \n",
    "    "
   ]
  },
  {
   "cell_type": "markdown",
   "metadata": {
    "id": "aDoBJxbA_Zct"
   },
   "source": [
    "Let's call the `replace_wrong_genres()` and pass it arguments such that it eliminates implicit duplicates: instead of `hip`, `hop` and `hip-hop` the dataframe should have the value `hiphop`:\n"
   ]
  },
  {
   "cell_type": "code",
   "execution_count": 16,
   "metadata": {
    "id": "YN5i2hpmSo09"
   },
   "outputs": [],
   "source": [
    "duplicates = ['hip', 'hop', 'hip-hop']  # creating a list of duplicates\n",
    "correct_name = 'hiphop'  # assigning the correct string value, we will use for replacement\n",
    "replace_wrong_genres(duplicates, correct_name)  # eliminating implicit diplicates through calling the function"
   ]
  },
  {
   "cell_type": "markdown",
   "metadata": {
    "id": "zQKF16_RG15m"
   },
   "source": [
    "Let's check out if we've managed to clear the dataframe of the incorrect names:\n",
    "\n",
    "*   hip\n",
    "*   hop\n",
    "*   hip-hop\n",
    "\n",
    "by displaying the sorted list of unique values of the column `genre`:"
   ]
  },
  {
   "cell_type": "code",
   "execution_count": 17,
   "metadata": {
    "id": "wvixALnFG15m"
   },
   "outputs": [
    {
     "data": {
      "text/plain": [
       "array(['acid', 'acoustic', 'action', 'adult', 'africa', 'afrikaans',\n",
       "       'alternative', 'alternativepunk', 'ambient', 'americana',\n",
       "       'animated', 'anime', 'arabesk', 'arabic', 'arena',\n",
       "       'argentinetango', 'art', 'audiobook', 'author', 'avantgarde',\n",
       "       'axé', 'baile', 'balkan', 'beats', 'bigroom', 'black', 'bluegrass',\n",
       "       'blues', 'bollywood', 'bossa', 'brazilian', 'breakbeat', 'breaks',\n",
       "       'broadway', 'cantautori', 'cantopop', 'canzone', 'caribbean',\n",
       "       'caucasian', 'celtic', 'chamber', 'chanson', 'children', 'chill',\n",
       "       'chinese', 'choral', 'christian', 'christmas', 'classical',\n",
       "       'classicmetal', 'club', 'colombian', 'comedy', 'conjazz',\n",
       "       'contemporary', 'country', 'cuban', 'dance', 'dancehall',\n",
       "       'dancepop', 'dark', 'death', 'deep', 'deutschrock', 'deutschspr',\n",
       "       'dirty', 'disco', 'dnb', 'documentary', 'downbeat', 'downtempo',\n",
       "       'drum', 'dub', 'dubstep', 'eastern', 'easy', 'electronic',\n",
       "       'electropop', 'emo', 'entehno', 'epicmetal', 'estrada', 'ethnic',\n",
       "       'eurofolk', 'european', 'experimental', 'extrememetal', 'fado',\n",
       "       'fairytail', 'film', 'fitness', 'flamenco', 'folk', 'folklore',\n",
       "       'folkmetal', 'folkrock', 'folktronica', 'forró', 'frankreich',\n",
       "       'französisch', 'french', 'funk', 'future', 'gangsta', 'garage',\n",
       "       'german', 'ghazal', 'gitarre', 'glitch', 'gospel', 'gothic',\n",
       "       'grime', 'grunge', 'gypsy', 'handsup', \"hard'n'heavy\", 'hardcore',\n",
       "       'hardstyle', 'hardtechno', 'hiphop', 'historisch', 'holiday',\n",
       "       'horror', 'house', 'hymn', 'idm', 'independent', 'indian', 'indie',\n",
       "       'indipop', 'industrial', 'inspirational', 'instrumental',\n",
       "       'international', 'irish', 'jam', 'japanese', 'jazz', 'jewish',\n",
       "       'jpop', 'jungle', 'k-pop', 'karadeniz', 'karaoke', 'kayokyoku',\n",
       "       'korean', 'laiko', 'latin', 'latino', 'leftfield', 'local',\n",
       "       'lounge', 'loungeelectronic', 'lovers', 'malaysian', 'mandopop',\n",
       "       'marschmusik', 'meditative', 'mediterranean', 'melodic', 'metal',\n",
       "       'metalcore', 'mexican', 'middle', 'minimal', 'miscellaneous',\n",
       "       'modern', 'mood', 'mpb', 'muslim', 'native', 'neoklassik', 'neue',\n",
       "       'new', 'newage', 'newwave', 'nu', 'nujazz', 'numetal', 'oceania',\n",
       "       'old', 'opera', 'orchestral', 'other', 'piano', 'podcasts', 'pop',\n",
       "       'popdance', 'popelectronic', 'popeurodance', 'poprussian', 'post',\n",
       "       'posthardcore', 'postrock', 'power', 'progmetal', 'progressive',\n",
       "       'psychedelic', 'punjabi', 'punk', 'quebecois', 'ragga', 'ram',\n",
       "       'rancheras', 'rap', 'rave', 'reggae', 'reggaeton', 'regional',\n",
       "       'relax', 'religious', 'retro', 'rhythm', 'rnb', 'rnr', 'rock',\n",
       "       'rockabilly', 'rockalternative', 'rockindie', 'rockother',\n",
       "       'romance', 'roots', 'ruspop', 'rusrap', 'rusrock', 'russian',\n",
       "       'salsa', 'samba', 'scenic', 'schlager', 'self', 'sertanejo',\n",
       "       'shanson', 'shoegazing', 'showtunes', 'singer', 'ska', 'skarock',\n",
       "       'slow', 'smooth', 'soft', 'soul', 'soulful', 'sound', 'soundtrack',\n",
       "       'southern', 'specialty', 'speech', 'spiritual', 'sport',\n",
       "       'stonerrock', 'surf', 'swing', 'synthpop', 'synthrock',\n",
       "       'sängerportrait', 'tango', 'tanzorchester', 'taraftar', 'tatar',\n",
       "       'tech', 'techno', 'teen', 'thrash', 'top', 'traditional',\n",
       "       'tradjazz', 'trance', 'tribal', 'trip', 'triphop', 'tropical',\n",
       "       'türk', 'türkçe', 'ukrrock', 'unknown', 'urban', 'uzbek',\n",
       "       'variété', 'vi', 'videogame', 'vocal', 'western', 'world',\n",
       "       'worldbeat', 'ïîï', 'электроника'], dtype=object)"
      ]
     },
     "execution_count": 17,
     "metadata": {},
     "output_type": "execute_result"
    }
   ],
   "source": [
    "df['genre'].sort_values().unique()  # checking the implicit duplicates"
   ]
  },
  {
   "cell_type": "markdown",
   "metadata": {
    "id": "jz6a9-7HQUDd"
   },
   "source": [
    "**Conclusions**\n",
    "\n",
    "Preprocessing revealed three problems in the data:\n",
    "\n",
    "- headers style non-conformity,\n",
    "- missing values,\n",
    "- duplicates: explicit and implicit ones.\n",
    "\n",
    "We have fixed the column headers to make the dataframe easier to work with. Without duplicates, the study will become more accurate.\n",
    "\n",
    "We have replaced the missing values with `'unknown'`. We still have to find out whether the missing values in the `genre` column will harm the study.\n",
    "\n",
    "Now we can move on to hypothesis testing.\n"
   ]
  },
  {
   "cell_type": "markdown",
   "metadata": {
    "id": "WttZHXH0SqKk"
   },
   "source": [
    "## Hypothesis Testing"
   ]
  },
  {
   "cell_type": "markdown",
   "metadata": {
    "id": "Im936VVi_Zcu"
   },
   "source": [
    "### Comparison of users behaviorin the two capitals "
   ]
  },
  {
   "cell_type": "markdown",
   "metadata": {
    "id": "nwt_MuaL_Zcu"
   },
   "source": [
    "The first hypothesis states that users listen to music differently in Moscow and St. Petersburg. We'll check this assumption against the data on the three days of the week - Monday, Wednesday and Friday. To do this, we will:\n",
    "\n",
    "* separate Moscow and St. Petersburg users\n",
    "* compare how many tracks each user group listened to on Monday, Wednesday and Friday.\n",
    "\n"
   ]
  },
  {
   "cell_type": "markdown",
   "metadata": {
    "id": "8Dw_YMmT_Zcu"
   },
   "source": [
    "First, we will have a look at the users activity in each city. We will group the data by the city and count playbacks in each group.\n",
    "\n"
   ]
  },
  {
   "cell_type": "code",
   "execution_count": 18,
   "metadata": {
    "id": "0_Qs96oh_Zcu"
   },
   "outputs": [
    {
     "data": {
      "text/plain": [
       "city\n",
       "Moscow              42741\n",
       "Saint-Petersburg    18512\n",
       "Name: track, dtype: int64"
      ]
     },
     "execution_count": 18,
     "metadata": {},
     "output_type": "execute_result"
    }
   ],
   "source": [
    "df.groupby('city')['track'].count()  # counting playbacks in each city"
   ]
  },
  {
   "cell_type": "markdown",
   "metadata": {
    "id": "dzli3w8o_Zcu"
   },
   "source": [
    "There are more playbacks in Moscow than in St. Petersburg. It does not imply Moscow users listen to music more often. There are simply more users in Moscow.\n",
    "\n",
    "Now let's group the data by weekday and count the playbacks on Monday, Wednesday, and Friday. Please note that the data only contains information about the playbacks for these days only.\n",
    "\n"
   ]
  },
  {
   "cell_type": "code",
   "execution_count": 19,
   "metadata": {
    "id": "uZMKjiJz_Zcu"
   },
   "outputs": [
    {
     "data": {
      "text/plain": [
       "day\n",
       "Friday       21840\n",
       "Monday       21354\n",
       "Wednesday    18059\n",
       "Name: track, dtype: int64"
      ]
     },
     "execution_count": 19,
     "metadata": {},
     "output_type": "execute_result"
    }
   ],
   "source": [
    "df.groupby('day')['track'].count()  # counting playbacks on each of three weekdays"
   ]
  },
  {
   "cell_type": "markdown",
   "metadata": {
    "id": "cC2tNrlL_Zcu"
   },
   "source": [
    "On average, in both cities the users are less active on Wednesday. Anyway, this may change, if we analyze each city separately. "
   ]
  },
  {
   "cell_type": "markdown",
   "metadata": {
    "id": "POzs8bGa_Zcu"
   },
   "source": [
    "We have seen how grouping by city and by weekday works. Now we will define a function that combines these two calculations.\n",
    "\n",
    "Let's create a `number_tracks()` function that will count the playbacks for a given day and city. It needs two parameters:\n",
    "* weekday,\n",
    "* city name.\n",
    "\n",
    "In the function we will be saving to a variable the rows of the source dataframe that having the following values:\n",
    "  * the `day` column value is equal to the `day` parameter,\n",
    "  * the `city` column value is equal to the `city` parameter.\n",
    "\n",
    "To do this,  we will apply sequential filtering with logical indexing.\n",
    "\n",
    "Then we will count the values in the `user_id` column of the resulting table. We will save the result to a new variable and return it from the function.\n"
   ]
  },
  {
   "cell_type": "code",
   "execution_count": 20,
   "metadata": {
    "id": "Nz3GdQB1_Zcu"
   },
   "outputs": [],
   "source": [
    "# defining a function with two parameters: day, city:\n",
    "def number_tracks(day, city):\n",
    "    track_list = df[df['day']==day]  # saving to the variable track_list those df rows where 'day' column values is equal to the day parameter\n",
    "    track_list = track_list[track_list['city']==city]  # filtering the variable by city parameter \n",
    "    track_list_count = track_list['user_id'].count()  # saving to the variable track_list_count count of the column 'user_id'\n",
    "    return track_list_count# the functions returns a number: value of track_list_count.\n"
   ]
  },
  {
   "cell_type": "markdown",
   "metadata": {
    "id": "8_yzFtW3_Zcu"
   },
   "source": [
    "Let's create two lists and iterate each couple of values calling the function."
   ]
  },
  {
   "cell_type": "code",
   "execution_count": 21,
   "metadata": {},
   "outputs": [
    {
     "name": "stdout",
     "output_type": "stream",
     "text": [
      "Monday Moscow 15740\n",
      "Monday Saint-Petersburg 5614\n",
      "Wednesday Moscow 11056\n",
      "Wednesday Saint-Petersburg 7003\n",
      "Friday Moscow 15945\n",
      "Friday Saint-Petersburg 5895\n"
     ]
    }
   ],
   "source": [
    "cities = ['Moscow', 'Saint-Petersburg'] # creating a list of cities\n",
    "days = ['Monday', 'Wednesday','Friday']  # creating a list of weekdays\n",
    "for day in days: # iterating the days\n",
    "    for city in cities:  #iterating the cities\n",
    "        print(day, city, number_tracks(day, city)) #printing the results for each couple\n",
    "        "
   ]
  },
  {
   "cell_type": "markdown",
   "metadata": {
    "id": "7QXffbO-_Zcu"
   },
   "source": [
    "With the use of constructor `pd.DataFrame` we will create a new dataframe with the following parameters:\n",
    "* columns — `['city', 'monday', 'wednesday', 'friday']`;\n",
    "* data — the results we got due to `number_tracks` function."
   ]
  },
  {
   "cell_type": "code",
   "execution_count": 22,
   "metadata": {
    "id": "APAcLpOr_Zcu"
   },
   "outputs": [
    {
     "data": {
      "text/html": [
       "<div>\n",
       "<style scoped>\n",
       "    .dataframe tbody tr th:only-of-type {\n",
       "        vertical-align: middle;\n",
       "    }\n",
       "\n",
       "    .dataframe tbody tr th {\n",
       "        vertical-align: top;\n",
       "    }\n",
       "\n",
       "    .dataframe thead th {\n",
       "        text-align: right;\n",
       "    }\n",
       "</style>\n",
       "<table border=\"1\" class=\"dataframe\">\n",
       "  <thead>\n",
       "    <tr style=\"text-align: right;\">\n",
       "      <th></th>\n",
       "      <th>city</th>\n",
       "      <th>monday</th>\n",
       "      <th>wednesday</th>\n",
       "      <th>friday</th>\n",
       "    </tr>\n",
       "  </thead>\n",
       "  <tbody>\n",
       "    <tr>\n",
       "      <th>0</th>\n",
       "      <td>Moscow</td>\n",
       "      <td>15740</td>\n",
       "      <td>11056</td>\n",
       "      <td>15945</td>\n",
       "    </tr>\n",
       "    <tr>\n",
       "      <th>1</th>\n",
       "      <td>Saint-Petersburg</td>\n",
       "      <td>5614</td>\n",
       "      <td>7003</td>\n",
       "      <td>5895</td>\n",
       "    </tr>\n",
       "  </tbody>\n",
       "</table>\n",
       "</div>"
      ],
      "text/plain": [
       "               city  monday  wednesday  friday\n",
       "0            Moscow   15740      11056   15945\n",
       "1  Saint-Petersburg    5614       7003    5895"
      ]
     },
     "execution_count": 22,
     "metadata": {},
     "output_type": "execute_result"
    }
   ],
   "source": [
    "columns = ['city', 'monday', 'wednesday', 'friday'] # creating a list with the column names\n",
    "data = [['Moscow', 15740, 11056, 15945], ['Saint-Petersburg', 5614, 7003, 5895]] # creating a list with the data\n",
    "result = pd.DataFrame(data = data, columns = columns)  # the new dataframe\n",
    "result.head() # checking the results"
   ]
  },
  {
   "cell_type": "markdown",
   "metadata": {
    "id": "-EgPIHYu_Zcu"
   },
   "source": [
    "**Conclusions**\n",
    "\n",
    "The data shows the difference in user behavior:\n",
    "\n",
    "- In Moscow, the peak of listening falls on Monday and Friday, and on Wednesday there is a noticeable decline.\n",
    "- In St. Petersburg, on the contrary, they listen to music more on Wednesdays. Activity on Monday and Friday here is almost equally inferior to Wednesday.\n",
    "\n",
    "So the data is definitely in favour of the first hypothesis.\n"
   ]
  },
  {
   "cell_type": "markdown",
   "metadata": {
    "id": "atZAxtq4_Zcu"
   },
   "source": [
    "### Music in the beginning and in the end of the week"
   ]
  },
  {
   "cell_type": "markdown",
   "metadata": {
    "id": "eXrQqXFH_Zcu"
   },
   "source": [
    "According to the second hypothesis, on Monday morning certain genres prevail in Moscow, while others dominate in St. Petersburg. Similarly, Friday evenings are dominated by different genres, depending on the city."
   ]
  },
  {
   "cell_type": "markdown",
   "metadata": {
    "id": "S8UcW6Hw_Zcu"
   },
   "source": [
    "We will save the date to two variables:\n",
    "* related to Moscow — to `moscow_general`;\n",
    "* related to St. Petersburg — to `spb_general`."
   ]
  },
  {
   "cell_type": "code",
   "execution_count": 23,
   "metadata": {
    "id": "qeaFfM_P_Zcu"
   },
   "outputs": [
    {
     "data": {
      "text/html": [
       "<div>\n",
       "<style scoped>\n",
       "    .dataframe tbody tr th:only-of-type {\n",
       "        vertical-align: middle;\n",
       "    }\n",
       "\n",
       "    .dataframe tbody tr th {\n",
       "        vertical-align: top;\n",
       "    }\n",
       "\n",
       "    .dataframe thead th {\n",
       "        text-align: right;\n",
       "    }\n",
       "</style>\n",
       "<table border=\"1\" class=\"dataframe\">\n",
       "  <thead>\n",
       "    <tr style=\"text-align: right;\">\n",
       "      <th></th>\n",
       "      <th>user_id</th>\n",
       "      <th>track</th>\n",
       "      <th>artist</th>\n",
       "      <th>genre</th>\n",
       "      <th>city</th>\n",
       "      <th>time</th>\n",
       "      <th>day</th>\n",
       "    </tr>\n",
       "  </thead>\n",
       "  <tbody>\n",
       "    <tr>\n",
       "      <th>1</th>\n",
       "      <td>55204538</td>\n",
       "      <td>Delayed Because of Accident</td>\n",
       "      <td>Andreas Rönnberg</td>\n",
       "      <td>rock</td>\n",
       "      <td>Moscow</td>\n",
       "      <td>14:07:09</td>\n",
       "      <td>Friday</td>\n",
       "    </tr>\n",
       "    <tr>\n",
       "      <th>4</th>\n",
       "      <td>E2DC1FAE</td>\n",
       "      <td>Soul People</td>\n",
       "      <td>Space Echo</td>\n",
       "      <td>dance</td>\n",
       "      <td>Moscow</td>\n",
       "      <td>08:34:34</td>\n",
       "      <td>Monday</td>\n",
       "    </tr>\n",
       "    <tr>\n",
       "      <th>6</th>\n",
       "      <td>4CB90AA5</td>\n",
       "      <td>True</td>\n",
       "      <td>Roman Messer</td>\n",
       "      <td>dance</td>\n",
       "      <td>Moscow</td>\n",
       "      <td>13:00:07</td>\n",
       "      <td>Wednesday</td>\n",
       "    </tr>\n",
       "    <tr>\n",
       "      <th>7</th>\n",
       "      <td>F03E1C1F</td>\n",
       "      <td>Feeling This Way</td>\n",
       "      <td>Polina Griffith</td>\n",
       "      <td>dance</td>\n",
       "      <td>Moscow</td>\n",
       "      <td>20:47:49</td>\n",
       "      <td>Wednesday</td>\n",
       "    </tr>\n",
       "    <tr>\n",
       "      <th>8</th>\n",
       "      <td>8FA1D3BE</td>\n",
       "      <td>И вновь продолжается бой</td>\n",
       "      <td>unknown</td>\n",
       "      <td>ruspop</td>\n",
       "      <td>Moscow</td>\n",
       "      <td>09:17:40</td>\n",
       "      <td>Friday</td>\n",
       "    </tr>\n",
       "  </tbody>\n",
       "</table>\n",
       "</div>"
      ],
      "text/plain": [
       "    user_id                        track            artist   genre    city  \\\n",
       "1  55204538  Delayed Because of Accident  Andreas Rönnberg    rock  Moscow   \n",
       "4  E2DC1FAE                  Soul People        Space Echo   dance  Moscow   \n",
       "6  4CB90AA5                         True      Roman Messer   dance  Moscow   \n",
       "7  F03E1C1F             Feeling This Way   Polina Griffith   dance  Moscow   \n",
       "8  8FA1D3BE     И вновь продолжается бой           unknown  ruspop  Moscow   \n",
       "\n",
       "       time        day  \n",
       "1  14:07:09     Friday  \n",
       "4  08:34:34     Monday  \n",
       "6  13:00:07  Wednesday  \n",
       "7  20:47:49  Wednesday  \n",
       "8  09:17:40     Friday  "
      ]
     },
     "execution_count": 23,
     "metadata": {},
     "output_type": "execute_result"
    }
   ],
   "source": [
    "moscow_general = df[df['city']=='Moscow']  # creating the datframe 'moscow_general' from those rows of df, where the values of the 'city' column is 'Moscow'\n",
    "moscow_general.head()  # checking the result"
   ]
  },
  {
   "cell_type": "code",
   "execution_count": 24,
   "metadata": {
    "id": "ORaVRKto_Zcu"
   },
   "outputs": [
    {
     "data": {
      "text/html": [
       "<div>\n",
       "<style scoped>\n",
       "    .dataframe tbody tr th:only-of-type {\n",
       "        vertical-align: middle;\n",
       "    }\n",
       "\n",
       "    .dataframe tbody tr th {\n",
       "        vertical-align: top;\n",
       "    }\n",
       "\n",
       "    .dataframe thead th {\n",
       "        text-align: right;\n",
       "    }\n",
       "</style>\n",
       "<table border=\"1\" class=\"dataframe\">\n",
       "  <thead>\n",
       "    <tr style=\"text-align: right;\">\n",
       "      <th></th>\n",
       "      <th>user_id</th>\n",
       "      <th>track</th>\n",
       "      <th>artist</th>\n",
       "      <th>genre</th>\n",
       "      <th>city</th>\n",
       "      <th>time</th>\n",
       "      <th>day</th>\n",
       "    </tr>\n",
       "  </thead>\n",
       "  <tbody>\n",
       "    <tr>\n",
       "      <th>0</th>\n",
       "      <td>FFB692EC</td>\n",
       "      <td>Kamigata To Boots</td>\n",
       "      <td>The Mass Missile</td>\n",
       "      <td>rock</td>\n",
       "      <td>Saint-Petersburg</td>\n",
       "      <td>20:28:33</td>\n",
       "      <td>Wednesday</td>\n",
       "    </tr>\n",
       "    <tr>\n",
       "      <th>2</th>\n",
       "      <td>20EC38</td>\n",
       "      <td>Funiculì funiculà</td>\n",
       "      <td>Mario Lanza</td>\n",
       "      <td>pop</td>\n",
       "      <td>Saint-Petersburg</td>\n",
       "      <td>20:58:07</td>\n",
       "      <td>Wednesday</td>\n",
       "    </tr>\n",
       "    <tr>\n",
       "      <th>3</th>\n",
       "      <td>A3DD03C9</td>\n",
       "      <td>Dragons in the Sunset</td>\n",
       "      <td>Fire + Ice</td>\n",
       "      <td>folk</td>\n",
       "      <td>Saint-Petersburg</td>\n",
       "      <td>08:37:09</td>\n",
       "      <td>Monday</td>\n",
       "    </tr>\n",
       "    <tr>\n",
       "      <th>5</th>\n",
       "      <td>842029A1</td>\n",
       "      <td>Преданная</td>\n",
       "      <td>IMPERVTOR</td>\n",
       "      <td>rusrap</td>\n",
       "      <td>Saint-Petersburg</td>\n",
       "      <td>13:09:41</td>\n",
       "      <td>Friday</td>\n",
       "    </tr>\n",
       "    <tr>\n",
       "      <th>9</th>\n",
       "      <td>E772D5C0</td>\n",
       "      <td>Pessimist</td>\n",
       "      <td>unknown</td>\n",
       "      <td>dance</td>\n",
       "      <td>Saint-Petersburg</td>\n",
       "      <td>21:20:49</td>\n",
       "      <td>Wednesday</td>\n",
       "    </tr>\n",
       "  </tbody>\n",
       "</table>\n",
       "</div>"
      ],
      "text/plain": [
       "    user_id                  track            artist   genre  \\\n",
       "0  FFB692EC      Kamigata To Boots  The Mass Missile    rock   \n",
       "2    20EC38      Funiculì funiculà       Mario Lanza     pop   \n",
       "3  A3DD03C9  Dragons in the Sunset        Fire + Ice    folk   \n",
       "5  842029A1              Преданная         IMPERVTOR  rusrap   \n",
       "9  E772D5C0              Pessimist           unknown   dance   \n",
       "\n",
       "               city      time        day  \n",
       "0  Saint-Petersburg  20:28:33  Wednesday  \n",
       "2  Saint-Petersburg  20:58:07  Wednesday  \n",
       "3  Saint-Petersburg  08:37:09     Monday  \n",
       "5  Saint-Petersburg  13:09:41     Friday  \n",
       "9  Saint-Petersburg  21:20:49  Wednesday  "
      ]
     },
     "execution_count": 24,
     "metadata": {},
     "output_type": "execute_result"
    }
   ],
   "source": [
    "spb_general = df[df['city']=='Saint-Petersburg']  # creating the datframe 'spb_general' from those rows of df, where the values of the 'city' column is 'Saint-Petersburg'\n",
    "spb_general.head()  # checking the result"
   ]
  },
  {
   "cell_type": "markdown",
   "metadata": {
    "id": "MEJV-CX2_Zcu"
   },
   "source": [
    "Let's create a function `genre_weekday()` with four parameters:\n",
    "* dataframe with data,\n",
    "* weekwday,\n",
    "* start timestamp in 'hh:mm' format,\n",
    "* last timestamp in 'hh:mm' format.\n",
    "\n",
    "The function should return information about the top 10 genres of those tracks that were listened to on the specified day, in the interval between two timestamps.\n"
   ]
  },
  {
   "cell_type": "code",
   "execution_count": 25,
   "metadata": {
    "id": "laJT9BYl_Zcu"
   },
   "outputs": [],
   "source": [
    "# Defining the function genre_weekday() with the parameters table, day, time1, time2:\n",
    "def genre_weekday(table, day, time1, time2):\n",
    "    genre_df = table[table['day']==day]  # filtering and saving to genre_df those rows where the column day value is equal to the day argument\n",
    "    genre_df = genre_df[genre_df['time']>time1]  # where time value is major than time1 value\n",
    "    genre_df = genre_df[genre_df['time']<time2]  # where time value is minor than time2 value\n",
    "    genre_df_count = genre_df.groupby('genre')['track'].count()  # grouping genre_df by the column genre and counting tracks for each genre \n",
    "    genre_df_sorted = genre_df_count.sort_values(ascending=False)  #  sorting genre_df_count in descending order and saving the variable genre_df_sorted\n",
    "    return genre_df_sorted[:10]  # returning top 10 values in the genre_df_sorted (on a certian day, at certain hours)"
   ]
  },
  {
   "cell_type": "markdown",
   "metadata": {
    "id": "la2s2_PF_Zcu"
   },
   "source": [
    "Let's compare the results of the `genre_weekday()` function for Moscow and St. Petersburg on Monday morning (from 7:00 to 11:00) and Friday evening (from 17:00 to 23:00):\n"
   ]
  },
  {
   "cell_type": "code",
   "execution_count": 26,
   "metadata": {
    "id": "yz7itPUQ_Zcu"
   },
   "outputs": [
    {
     "data": {
      "text/plain": [
       "genre\n",
       "pop            781\n",
       "dance          549\n",
       "electronic     480\n",
       "rock           474\n",
       "hiphop         286\n",
       "ruspop         186\n",
       "world          181\n",
       "rusrap         175\n",
       "alternative    164\n",
       "unknown        161\n",
       "Name: track, dtype: int64"
      ]
     },
     "execution_count": 26,
     "metadata": {},
     "output_type": "execute_result"
    }
   ],
   "source": [
    "genre_weekday(moscow_general, 'Monday', '07:00', '11:00') # calling the function for Monday morning in Moscow \n"
   ]
  },
  {
   "cell_type": "code",
   "execution_count": 27,
   "metadata": {
    "id": "kwUcHPdy_Zcu"
   },
   "outputs": [
    {
     "data": {
      "text/plain": [
       "genre\n",
       "pop            218\n",
       "dance          182\n",
       "rock           162\n",
       "electronic     147\n",
       "hiphop          80\n",
       "ruspop          64\n",
       "alternative     58\n",
       "rusrap          55\n",
       "jazz            44\n",
       "classical       40\n",
       "Name: track, dtype: int64"
      ]
     },
     "execution_count": 27,
     "metadata": {},
     "output_type": "execute_result"
    }
   ],
   "source": [
    "genre_weekday(spb_general, 'Monday', '07:00', '11:00')  # calling the function for Monday morning in St. Petersburg "
   ]
  },
  {
   "cell_type": "code",
   "execution_count": 28,
   "metadata": {
    "id": "EzXVRE1o_Zcu"
   },
   "outputs": [
    {
     "data": {
      "text/plain": [
       "genre\n",
       "pop            713\n",
       "rock           517\n",
       "dance          495\n",
       "electronic     482\n",
       "hiphop         273\n",
       "world          208\n",
       "ruspop         170\n",
       "alternative    163\n",
       "classical      163\n",
       "rusrap         142\n",
       "Name: track, dtype: int64"
      ]
     },
     "execution_count": 28,
     "metadata": {},
     "output_type": "execute_result"
    }
   ],
   "source": [
    "genre_weekday(moscow_general, 'Friday', '17:00', '23:00')  # calling the function for Friday night in Moscow "
   ]
  },
  {
   "cell_type": "code",
   "execution_count": 29,
   "metadata": {
    "id": "JZaEKu5v_Zcu"
   },
   "outputs": [
    {
     "data": {
      "text/plain": [
       "genre\n",
       "pop            256\n",
       "electronic     216\n",
       "rock           216\n",
       "dance          210\n",
       "hiphop          97\n",
       "alternative     63\n",
       "jazz            61\n",
       "classical       60\n",
       "rusrap          59\n",
       "world           54\n",
       "Name: track, dtype: int64"
      ]
     },
     "execution_count": 29,
     "metadata": {},
     "output_type": "execute_result"
    }
   ],
   "source": [
    "genre_weekday(spb_general, 'Friday', '17:00', '23:00')  # calling the function for Friday night in St. Petersburg "
   ]
  },
  {
   "cell_type": "markdown",
   "metadata": {
    "id": "wrCe4MNX_Zcu"
   },
   "source": [
    "**Conclusions**\n",
    "\n",
    "If we compare the top 10 genres on Monday morning, we can draw the following conclusions:\n",
    "1. In Moscow and St. Petersburg they listen to similar music. The only difference is that the Moscow rating includes the “world” genre, while the St. Petersburg rating includes jazz and classical.\n",
    "\n",
    "2. There were so many missing values in Moscow that the value `'unknown'` took tenth place among the most popular genres. This means that missing values have a significant share in the data and threaten the reliability of the study.\n",
    "\n",
    "Friday night does not change this picture. Some genres rise a little higher, others go down, but overall the top 10 stays the same.\n",
    "\n",
    "Thus, the second hypothesis has been only partially confirmed:\n",
    "* Users listen to similar music in the beginning of the week and in the end.\n",
    "* The difference between Moscow and St. Petersburg is not very pronounced. In Moscow, they listen to Russian popular music more often, in St. Petersburg - jazz.\n",
    "\n",
    "However, missing values in the data cast doubt on this result. There are so many of them in Moscow that the top 10 ranking could look different if there were not the lost genre data.\n"
   ]
  },
  {
   "cell_type": "markdown",
   "metadata": {
    "id": "JolODAqr_Zcu"
   },
   "source": [
    "### Genre preferences in Moscow and St. Petersburg\n",
    "\n",
    "Hypothesis: St. Petersburg is the capital of rap, the music of this genre is listened to more often than in Moscow. And Moscow is a city of contrasts, which, nevertheless, is dominated by pop music."
   ]
  },
  {
   "cell_type": "markdown",
   "metadata": {
    "id": "DlegSvaT_Zcu"
   },
   "source": [
    "Let's group the `moscow_general` table by genre and count the playbacks of each genre's tracks using the `count()` method. Then sort the result in descending order and store it in the `moscow_genres` table.\n"
   ]
  },
  {
   "cell_type": "code",
   "execution_count": 30,
   "metadata": {
    "id": "r19lIPke_Zcu"
   },
   "outputs": [],
   "source": [
    "moscow_genres = moscow_general.groupby('genre')['genre'].count().sort_values(ascending=False) #  getting the dataframe moscow_genres\n"
   ]
  },
  {
   "cell_type": "markdown",
   "metadata": {
    "id": "6kMuomxTiIr8"
   },
   "source": [
    "Let's display the top 10 of `moscow_genres`:"
   ]
  },
  {
   "cell_type": "code",
   "execution_count": 31,
   "metadata": {
    "id": "WhCSooF8_Zcv"
   },
   "outputs": [
    {
     "data": {
      "text/plain": [
       "genre\n",
       "pop            5892\n",
       "dance          4435\n",
       "rock           3965\n",
       "electronic     3786\n",
       "hiphop         2096\n",
       "classical      1616\n",
       "world          1432\n",
       "alternative    1379\n",
       "ruspop         1372\n",
       "rusrap         1161\n",
       "Name: genre, dtype: int64"
      ]
     },
     "execution_count": 31,
     "metadata": {},
     "output_type": "execute_result"
    }
   ],
   "source": [
    "moscow_genres.head(10)  # displaying the top 10 of moscow_genres"
   ]
  },
  {
   "cell_type": "markdown",
   "metadata": {
    "id": "cnPG2vnN_Zcv"
   },
   "source": [
    "Now we will carry out the same for Petersburg.\n",
    "\n",
    "We will group the `spb_general` table by genre, count the number of playbacks for tracks of each genre, after we will sort the result in descending order and store them in the `spb_genres` table:\n",
    "\n"
   ]
  },
  {
   "cell_type": "code",
   "execution_count": 32,
   "metadata": {
    "id": "gluLIpE7_Zcv"
   },
   "outputs": [],
   "source": [
    "spb_genres = spb_general.groupby('genre')['genre'].count().sort_values(ascending=False)  # getting the dataframe spb_genres"
   ]
  },
  {
   "cell_type": "markdown",
   "metadata": {
    "id": "5Doha_ODgyQ8"
   },
   "source": [
    "As above, we will display the top 10 of `spb_genres`:"
   ]
  },
  {
   "cell_type": "code",
   "execution_count": 33,
   "metadata": {
    "id": "uaGJHjVU_Zcv"
   },
   "outputs": [
    {
     "data": {
      "text/plain": [
       "genre\n",
       "pop            2431\n",
       "dance          1932\n",
       "rock           1879\n",
       "electronic     1736\n",
       "hiphop          960\n",
       "alternative     649\n",
       "classical       646\n",
       "rusrap          564\n",
       "ruspop          538\n",
       "world           515\n",
       "Name: genre, dtype: int64"
      ]
     },
     "execution_count": 33,
     "metadata": {},
     "output_type": "execute_result"
    }
   ],
   "source": [
    "spb_genres.head(10)  # displaying the top 10 of spb_genres"
   ]
  },
  {
   "cell_type": "markdown",
   "metadata": {
    "id": "RY51YJYu_Zcv"
   },
   "source": [
    "**Conclusions**"
   ]
  },
  {
   "cell_type": "markdown",
   "metadata": {
    "id": "nVhnJEm__Zcv"
   },
   "source": [
    "The hypothesis has been partially confirmed:\n",
    "* Pop music is the most popular genre in Moscow, as the hypothesis suggested. Moreover, in the top 10 genres there is a similar genre - Russian popular music.\n",
    "* Contrary to expectations, rap is equally popular in Moscow and St. Petersburg.\n",
    "\n"
   ]
  },
  {
   "cell_type": "markdown",
   "metadata": {
    "id": "ykKQ0N65_Zcv"
   },
   "source": [
    "## Study Results"
   ]
  },
  {
   "cell_type": "markdown",
   "metadata": {
    "id": "tjUwbHb3_Zcv"
   },
   "source": [
    "We have tested three hypotheses and found out that:\n",
    "\n",
    "1. The weekday has a different effect on the activity of users in Moscow and St. Petersburg.\n",
    "\n",
    "The first hypothesis has been fully confirmed.\n",
    "\n",
    "2. Musical preferences do not change much during the week - either in Moscow or St. Petersburg. Insignificant differences are noticeable in the beginning of the week, on Mondays:\n",
    "* in Moscow they listen to music of the “world” genre,\n",
    "* in St. Petersburg - jazz and classical music.\n",
    "\n",
    "Thus, the second hypothesis has been only partly confirmed. This result could have been different if there had not been missing values in the data.\n",
    "\n",
    "3. The tastes of users of Moscow and St. Petersburg have more in common than differences. Contrary to expectations, genre preferences in St. Petersburg resemble those in Moscow.\n",
    "\n",
    "The third hypothesis has not been confirmed. If there are differences in preferences, they are invisible to the bulk of users.\n",
    "\n",
    "**In practice, studies contain tests of statistical hypotheses.**\n",
    "Baes on the data of one service, it is not always possible to draw a conclusion about all the inhabitants of the city.\n",
    "Tests of statistical hypotheses will show how reliable they are, based on the available data.\n"
   ]
  }
 ],
 "metadata": {
  "ExecuteTimeLog": [
   {
    "duration": 338,
    "start_time": "2022-02-22T15:33:22.413Z"
   },
   {
    "duration": 706,
    "start_time": "2022-02-22T15:35:29.602Z"
   },
   {
    "duration": 671,
    "start_time": "2022-02-22T15:35:36.603Z"
   },
   {
    "duration": 7870,
    "start_time": "2022-02-22T15:35:40.492Z"
   },
   {
    "duration": 2346,
    "start_time": "2022-02-22T15:38:01.560Z"
   },
   {
    "duration": 147,
    "start_time": "2022-02-22T15:39:21.298Z"
   },
   {
    "duration": 107,
    "start_time": "2022-02-22T15:39:29.358Z"
   },
   {
    "duration": 15,
    "start_time": "2022-02-22T15:39:39.317Z"
   },
   {
    "duration": 31,
    "start_time": "2022-02-22T15:43:23.629Z"
   },
   {
    "duration": 4,
    "start_time": "2022-02-22T15:48:15.944Z"
   },
   {
    "duration": 116,
    "start_time": "2022-02-22T15:49:53.229Z"
   },
   {
    "duration": 36,
    "start_time": "2022-02-22T15:50:09.981Z"
   },
   {
    "duration": 4,
    "start_time": "2022-02-22T15:50:45.602Z"
   },
   {
    "duration": 35,
    "start_time": "2022-02-22T15:51:22.440Z"
   },
   {
    "duration": 5,
    "start_time": "2022-02-22T15:51:31.168Z"
   },
   {
    "duration": 3,
    "start_time": "2022-02-22T15:51:53.072Z"
   },
   {
    "duration": 22,
    "start_time": "2022-02-22T15:52:10.101Z"
   },
   {
    "duration": 4,
    "start_time": "2022-02-22T15:52:18.261Z"
   },
   {
    "duration": 3,
    "start_time": "2022-02-22T15:54:54.761Z"
   },
   {
    "duration": 4,
    "start_time": "2022-02-22T15:55:06.290Z"
   },
   {
    "duration": 30,
    "start_time": "2022-02-22T15:55:16.983Z"
   },
   {
    "duration": 5,
    "start_time": "2022-02-22T15:55:26.936Z"
   },
   {
    "duration": 15,
    "start_time": "2022-02-22T15:57:18.371Z"
   },
   {
    "duration": 4,
    "start_time": "2022-02-22T15:57:28.466Z"
   },
   {
    "duration": 22,
    "start_time": "2022-02-22T15:58:37.407Z"
   },
   {
    "duration": 14,
    "start_time": "2022-02-22T16:11:31.503Z"
   },
   {
    "duration": 22,
    "start_time": "2022-02-22T16:11:57.983Z"
   },
   {
    "duration": 16,
    "start_time": "2022-02-22T16:24:53.029Z"
   },
   {
    "duration": 21,
    "start_time": "2022-02-22T16:24:56.587Z"
   },
   {
    "duration": 86,
    "start_time": "2022-02-22T16:25:39.281Z"
   },
   {
    "duration": 63,
    "start_time": "2022-02-22T16:26:55.600Z"
   },
   {
    "duration": 46,
    "start_time": "2022-02-22T16:27:11.068Z"
   },
   {
    "duration": 93,
    "start_time": "2022-02-22T16:28:42.319Z"
   },
   {
    "duration": 9,
    "start_time": "2022-02-22T16:28:51.264Z"
   },
   {
    "duration": 283,
    "start_time": "2022-02-22T16:46:31.768Z"
   },
   {
    "duration": 3,
    "start_time": "2022-02-22T16:46:45.077Z"
   },
   {
    "duration": 10,
    "start_time": "2022-02-22T16:46:48.635Z"
   },
   {
    "duration": 8,
    "start_time": "2022-02-22T16:47:25.101Z"
   },
   {
    "duration": 10,
    "start_time": "2022-02-22T16:53:07.893Z"
   },
   {
    "duration": 11,
    "start_time": "2022-02-22T16:55:03.208Z"
   },
   {
    "duration": 3,
    "start_time": "2022-02-22T17:17:56.067Z"
   },
   {
    "duration": 19,
    "start_time": "2022-02-22T17:18:00.733Z"
   },
   {
    "duration": 19,
    "start_time": "2022-02-22T17:18:18.745Z"
   },
   {
    "duration": 20,
    "start_time": "2022-02-22T17:18:23.992Z"
   },
   {
    "duration": 18,
    "start_time": "2022-02-22T17:18:31.679Z"
   },
   {
    "duration": 20,
    "start_time": "2022-02-22T17:18:37.003Z"
   },
   {
    "duration": 17,
    "start_time": "2022-02-22T17:18:39.087Z"
   },
   {
    "duration": 4,
    "start_time": "2022-02-22T17:23:49.789Z"
   },
   {
    "duration": 15,
    "start_time": "2022-02-22T17:23:53.779Z"
   },
   {
    "duration": 15,
    "start_time": "2022-02-22T17:23:56.640Z"
   },
   {
    "duration": 14,
    "start_time": "2022-02-22T17:24:00.488Z"
   },
   {
    "duration": 13,
    "start_time": "2022-02-22T17:24:04.160Z"
   },
   {
    "duration": 15,
    "start_time": "2022-02-22T17:24:07.777Z"
   },
   {
    "duration": 15,
    "start_time": "2022-02-22T17:26:02.587Z"
   },
   {
    "duration": 334,
    "start_time": "2022-02-22T17:27:24.848Z"
   },
   {
    "duration": 4,
    "start_time": "2022-02-22T17:28:28.970Z"
   },
   {
    "duration": 8,
    "start_time": "2022-02-22T17:28:42.652Z"
   },
   {
    "duration": 5,
    "start_time": "2022-02-22T17:35:41.104Z"
   },
   {
    "duration": 402,
    "start_time": "2022-02-22T17:36:32.840Z"
   },
   {
    "duration": 5,
    "start_time": "2022-02-22T17:37:13.804Z"
   },
   {
    "duration": 6,
    "start_time": "2022-02-22T17:37:19.915Z"
   },
   {
    "duration": 326,
    "start_time": "2022-02-22T17:37:26.047Z"
   },
   {
    "duration": 9,
    "start_time": "2022-02-22T17:37:44.653Z"
   },
   {
    "duration": 303,
    "start_time": "2022-02-23T10:43:57.359Z"
   },
   {
    "duration": 518,
    "start_time": "2022-02-23T10:44:27.172Z"
   },
   {
    "duration": 131,
    "start_time": "2022-02-23T10:44:29.715Z"
   },
   {
    "duration": 15,
    "start_time": "2022-02-23T10:44:32.816Z"
   },
   {
    "duration": 24,
    "start_time": "2022-02-23T10:44:37.598Z"
   },
   {
    "duration": 3,
    "start_time": "2022-02-23T10:44:43.971Z"
   },
   {
    "duration": 20,
    "start_time": "2022-02-23T10:44:49.061Z"
   },
   {
    "duration": 4,
    "start_time": "2022-02-23T10:44:53.160Z"
   },
   {
    "duration": 20,
    "start_time": "2022-02-23T10:44:57.949Z"
   },
   {
    "duration": 16,
    "start_time": "2022-02-23T10:45:03.488Z"
   },
   {
    "duration": 23,
    "start_time": "2022-02-23T10:45:05.734Z"
   },
   {
    "duration": 53,
    "start_time": "2022-02-23T10:45:11.516Z"
   },
   {
    "duration": 70,
    "start_time": "2022-02-23T10:45:15.953Z"
   },
   {
    "duration": 46,
    "start_time": "2022-02-23T10:45:20.393Z"
   },
   {
    "duration": 9,
    "start_time": "2022-02-23T10:45:25.294Z"
   },
   {
    "duration": 3,
    "start_time": "2022-02-23T10:45:35.948Z"
   },
   {
    "duration": 11,
    "start_time": "2022-02-23T10:45:38.001Z"
   },
   {
    "duration": 8,
    "start_time": "2022-02-23T10:45:43.202Z"
   },
   {
    "duration": 12,
    "start_time": "2022-02-23T10:45:49.163Z"
   },
   {
    "duration": 12,
    "start_time": "2022-02-23T10:45:51.464Z"
   },
   {
    "duration": 3,
    "start_time": "2022-02-23T10:46:02.067Z"
   },
   {
    "duration": 16,
    "start_time": "2022-02-23T10:46:06.923Z"
   },
   {
    "duration": 16,
    "start_time": "2022-02-23T10:46:10.026Z"
   },
   {
    "duration": 14,
    "start_time": "2022-02-23T10:46:12.282Z"
   },
   {
    "duration": 13,
    "start_time": "2022-02-23T10:46:14.336Z"
   },
   {
    "duration": 15,
    "start_time": "2022-02-23T10:46:17.128Z"
   },
   {
    "duration": 14,
    "start_time": "2022-02-23T10:46:21.322Z"
   },
   {
    "duration": 4,
    "start_time": "2022-02-23T10:46:28.400Z"
   },
   {
    "duration": 9,
    "start_time": "2022-02-23T10:46:39.223Z"
   },
   {
    "duration": 8,
    "start_time": "2022-02-23T10:46:43.832Z"
   },
   {
    "duration": 19,
    "start_time": "2022-02-23T10:46:56.313Z"
   },
   {
    "duration": 19,
    "start_time": "2022-02-23T10:46:58.363Z"
   },
   {
    "duration": 18,
    "start_time": "2022-02-23T10:47:19.922Z"
   },
   {
    "duration": 99,
    "start_time": "2022-02-23T10:55:09.972Z"
   },
   {
    "duration": 4,
    "start_time": "2022-02-23T10:55:29.038Z"
   },
   {
    "duration": 17,
    "start_time": "2022-02-23T10:57:41.689Z"
   },
   {
    "duration": 11,
    "start_time": "2022-02-23T10:59:19.742Z"
   },
   {
    "duration": 12,
    "start_time": "2022-02-23T11:00:30.913Z"
   },
   {
    "duration": 15,
    "start_time": "2022-02-23T11:00:42.479Z"
   },
   {
    "duration": 8,
    "start_time": "2022-02-23T11:05:12.572Z"
   },
   {
    "duration": 10,
    "start_time": "2022-02-23T11:05:29.196Z"
   },
   {
    "duration": 4,
    "start_time": "2022-02-23T11:06:06.026Z"
   },
   {
    "duration": 6,
    "start_time": "2022-02-23T11:07:05.085Z"
   },
   {
    "duration": 5,
    "start_time": "2022-02-23T11:07:12.432Z"
   },
   {
    "duration": 20,
    "start_time": "2022-02-23T11:30:15.748Z"
   },
   {
    "duration": 15,
    "start_time": "2022-02-23T11:32:10.241Z"
   },
   {
    "duration": 21,
    "start_time": "2022-02-23T11:32:13.857Z"
   },
   {
    "duration": 57,
    "start_time": "2022-02-23T11:33:29.180Z"
   },
   {
    "duration": 45,
    "start_time": "2022-02-23T11:33:42.618Z"
   },
   {
    "duration": 9,
    "start_time": "2022-02-23T11:33:53.589Z"
   },
   {
    "duration": 9,
    "start_time": "2022-02-23T11:36:37.492Z"
   },
   {
    "duration": 8,
    "start_time": "2022-02-23T11:36:48.098Z"
   },
   {
    "duration": 11,
    "start_time": "2022-02-23T11:37:19.697Z"
   },
   {
    "duration": 11,
    "start_time": "2022-02-23T11:37:34.590Z"
   },
   {
    "duration": 11,
    "start_time": "2022-02-23T11:38:19.238Z"
   },
   {
    "duration": 8,
    "start_time": "2022-02-23T11:41:13.944Z"
   },
   {
    "duration": 16,
    "start_time": "2022-02-23T11:49:04.435Z"
   },
   {
    "duration": 14,
    "start_time": "2022-02-23T11:49:32.628Z"
   },
   {
    "duration": 16,
    "start_time": "2022-02-23T11:49:37.839Z"
   },
   {
    "duration": 13,
    "start_time": "2022-02-23T11:49:39.989Z"
   },
   {
    "duration": 14,
    "start_time": "2022-02-23T11:49:42.740Z"
   },
   {
    "duration": 14,
    "start_time": "2022-02-23T11:49:45.145Z"
   },
   {
    "duration": 4,
    "start_time": "2022-02-23T11:54:36.668Z"
   },
   {
    "duration": 9,
    "start_time": "2022-02-23T11:55:02.573Z"
   },
   {
    "duration": 8,
    "start_time": "2022-02-23T11:55:16.709Z"
   },
   {
    "duration": 16,
    "start_time": "2022-02-23T12:01:03.381Z"
   },
   {
    "duration": 11,
    "start_time": "2022-02-23T12:01:18.047Z"
   },
   {
    "duration": 15,
    "start_time": "2022-02-23T12:01:24.666Z"
   },
   {
    "duration": 12,
    "start_time": "2022-02-23T12:01:30.468Z"
   },
   {
    "duration": 4,
    "start_time": "2022-02-23T12:02:48.497Z"
   },
   {
    "duration": 7,
    "start_time": "2022-02-23T12:03:11.063Z"
   },
   {
    "duration": 6,
    "start_time": "2022-02-23T12:03:36.283Z"
   },
   {
    "duration": 5,
    "start_time": "2022-02-23T12:03:40.258Z"
   },
   {
    "duration": 556,
    "start_time": "2022-03-05T21:43:54.074Z"
   },
   {
    "duration": 138,
    "start_time": "2022-03-05T21:43:54.632Z"
   },
   {
    "duration": 17,
    "start_time": "2022-03-05T21:43:54.771Z"
   },
   {
    "duration": 26,
    "start_time": "2022-03-05T21:43:54.790Z"
   },
   {
    "duration": 4,
    "start_time": "2022-03-05T21:43:54.838Z"
   },
   {
    "duration": 25,
    "start_time": "2022-03-05T21:43:54.843Z"
   },
   {
    "duration": 4,
    "start_time": "2022-03-05T21:43:54.870Z"
   },
   {
    "duration": 28,
    "start_time": "2022-03-05T21:43:54.877Z"
   },
   {
    "duration": 39,
    "start_time": "2022-03-05T21:43:54.907Z"
   },
   {
    "duration": 23,
    "start_time": "2022-03-05T21:43:54.947Z"
   },
   {
    "duration": 80,
    "start_time": "2022-03-05T21:43:54.972Z"
   },
   {
    "duration": 69,
    "start_time": "2022-03-05T21:43:55.054Z"
   },
   {
    "duration": 61,
    "start_time": "2022-03-05T21:43:55.125Z"
   },
   {
    "duration": 9,
    "start_time": "2022-03-05T21:43:55.188Z"
   },
   {
    "duration": 3,
    "start_time": "2022-03-05T21:43:55.199Z"
   },
   {
    "duration": 39,
    "start_time": "2022-03-05T21:43:55.204Z"
   },
   {
    "duration": 9,
    "start_time": "2022-03-05T21:43:55.245Z"
   },
   {
    "duration": 14,
    "start_time": "2022-03-05T21:43:55.255Z"
   },
   {
    "duration": 11,
    "start_time": "2022-03-05T21:43:55.270Z"
   },
   {
    "duration": 7,
    "start_time": "2022-03-05T21:43:55.282Z"
   },
   {
    "duration": 25,
    "start_time": "2022-03-05T21:43:55.291Z"
   },
   {
    "duration": 34,
    "start_time": "2022-03-05T21:43:55.318Z"
   },
   {
    "duration": 16,
    "start_time": "2022-03-05T21:43:55.355Z"
   },
   {
    "duration": 14,
    "start_time": "2022-03-05T21:43:55.373Z"
   },
   {
    "duration": 50,
    "start_time": "2022-03-05T21:43:55.389Z"
   },
   {
    "duration": 16,
    "start_time": "2022-03-05T21:43:55.440Z"
   },
   {
    "duration": 4,
    "start_time": "2022-03-05T21:43:55.458Z"
   },
   {
    "duration": 16,
    "start_time": "2022-03-05T21:43:55.464Z"
   },
   {
    "duration": 16,
    "start_time": "2022-03-05T21:43:55.482Z"
   },
   {
    "duration": 3,
    "start_time": "2022-03-05T21:43:55.500Z"
   },
   {
    "duration": 42,
    "start_time": "2022-03-05T21:43:55.505Z"
   },
   {
    "duration": 13,
    "start_time": "2022-03-05T21:43:55.549Z"
   },
   {
    "duration": 17,
    "start_time": "2022-03-05T21:43:55.564Z"
   },
   {
    "duration": 12,
    "start_time": "2022-03-05T21:43:55.583Z"
   },
   {
    "duration": 8,
    "start_time": "2022-03-05T21:43:55.597Z"
   },
   {
    "duration": 33,
    "start_time": "2022-03-05T21:43:55.607Z"
   },
   {
    "duration": 11,
    "start_time": "2022-03-05T21:43:55.642Z"
   },
   {
    "duration": 6,
    "start_time": "2022-03-05T21:43:55.655Z"
   },
   {
    "duration": 10,
    "start_time": "2022-03-05T21:45:54.159Z"
   },
   {
    "duration": 80,
    "start_time": "2022-03-06T10:45:59.873Z"
   },
   {
    "duration": 99,
    "start_time": "2022-03-06T10:48:14.476Z"
   },
   {
    "duration": 88,
    "start_time": "2022-03-06T10:48:19.044Z"
   },
   {
    "duration": 75,
    "start_time": "2022-03-06T10:48:43.977Z"
   },
   {
    "duration": 283,
    "start_time": "2022-03-06T10:58:11.821Z"
   },
   {
    "duration": 728,
    "start_time": "2022-03-06T10:58:28.196Z"
   },
   {
    "duration": 183,
    "start_time": "2022-03-06T10:58:31.917Z"
   },
   {
    "duration": 26,
    "start_time": "2022-03-06T10:58:34.909Z"
   },
   {
    "duration": 72,
    "start_time": "2022-03-06T10:59:55.811Z"
   },
   {
    "duration": 7,
    "start_time": "2022-03-06T11:01:44.756Z"
   },
   {
    "duration": 5,
    "start_time": "2022-03-06T11:03:30.370Z"
   },
   {
    "duration": 289,
    "start_time": "2022-03-06T11:13:16.156Z"
   },
   {
    "duration": 13,
    "start_time": "2022-03-06T11:13:23.497Z"
   },
   {
    "duration": 13,
    "start_time": "2022-03-06T11:13:49.534Z"
   },
   {
    "duration": 88,
    "start_time": "2022-03-06T11:14:16.999Z"
   },
   {
    "duration": 5575,
    "start_time": "2022-03-06T11:15:35.569Z"
   },
   {
    "duration": 12,
    "start_time": "2022-03-06T11:15:58.543Z"
   },
   {
    "duration": 3,
    "start_time": "2022-03-06T11:16:20.959Z"
   },
   {
    "duration": 195,
    "start_time": "2022-03-06T11:16:20.967Z"
   },
   {
    "duration": 18,
    "start_time": "2022-03-06T11:16:21.165Z"
   },
   {
    "duration": 16,
    "start_time": "2022-03-06T11:16:21.186Z"
   },
   {
    "duration": 64,
    "start_time": "2022-03-06T11:16:21.204Z"
   },
   {
    "duration": 6,
    "start_time": "2022-03-06T11:16:21.271Z"
   },
   {
    "duration": 24,
    "start_time": "2022-03-06T11:16:21.279Z"
   },
   {
    "duration": 6,
    "start_time": "2022-03-06T11:16:21.306Z"
   },
   {
    "duration": 64,
    "start_time": "2022-03-06T11:16:21.316Z"
   },
   {
    "duration": 23,
    "start_time": "2022-03-06T11:16:21.383Z"
   },
   {
    "duration": 59,
    "start_time": "2022-03-06T11:16:21.408Z"
   },
   {
    "duration": 106,
    "start_time": "2022-03-06T11:16:21.469Z"
   },
   {
    "duration": 113,
    "start_time": "2022-03-06T11:16:21.578Z"
   },
   {
    "duration": 83,
    "start_time": "2022-03-06T11:16:21.693Z"
   },
   {
    "duration": 14,
    "start_time": "2022-03-06T11:16:21.779Z"
   },
   {
    "duration": 20,
    "start_time": "2022-03-06T11:16:21.795Z"
   },
   {
    "duration": 33,
    "start_time": "2022-03-06T11:16:21.818Z"
   },
   {
    "duration": 14,
    "start_time": "2022-03-06T11:16:21.853Z"
   },
   {
    "duration": 18,
    "start_time": "2022-03-06T11:16:21.869Z"
   },
   {
    "duration": 22,
    "start_time": "2022-03-06T11:16:21.890Z"
   },
   {
    "duration": 6,
    "start_time": "2022-03-06T11:16:21.951Z"
   },
   {
    "duration": 40,
    "start_time": "2022-03-06T11:16:21.959Z"
   },
   {
    "duration": 28,
    "start_time": "2022-03-06T11:16:22.002Z"
   },
   {
    "duration": 18,
    "start_time": "2022-03-06T11:16:22.054Z"
   },
   {
    "duration": 18,
    "start_time": "2022-03-06T11:16:22.075Z"
   },
   {
    "duration": 57,
    "start_time": "2022-03-06T11:16:22.096Z"
   },
   {
    "duration": 19,
    "start_time": "2022-03-06T11:16:22.155Z"
   },
   {
    "duration": 21,
    "start_time": "2022-03-06T11:16:22.177Z"
   },
   {
    "duration": 53,
    "start_time": "2022-03-06T11:16:22.200Z"
   },
   {
    "duration": 12,
    "start_time": "2022-03-06T11:16:22.255Z"
   },
   {
    "duration": 14,
    "start_time": "2022-03-06T11:16:22.269Z"
   },
   {
    "duration": 35,
    "start_time": "2022-03-06T11:16:22.285Z"
   },
   {
    "duration": 38,
    "start_time": "2022-03-06T11:16:22.322Z"
   },
   {
    "duration": 22,
    "start_time": "2022-03-06T11:16:22.362Z"
   },
   {
    "duration": 17,
    "start_time": "2022-03-06T11:16:22.386Z"
   },
   {
    "duration": 48,
    "start_time": "2022-03-06T11:16:22.405Z"
   },
   {
    "duration": 6,
    "start_time": "2022-03-06T11:16:22.456Z"
   },
   {
    "duration": 22,
    "start_time": "2022-03-06T11:16:22.464Z"
   },
   {
    "duration": 13,
    "start_time": "2022-03-06T11:16:22.488Z"
   },
   {
    "duration": 24,
    "start_time": "2022-03-06T11:16:47.545Z"
   },
   {
    "duration": 7,
    "start_time": "2022-03-06T11:18:46.337Z"
   },
   {
    "duration": 6,
    "start_time": "2022-03-06T11:19:11.067Z"
   },
   {
    "duration": 77,
    "start_time": "2022-03-06T11:26:56.760Z"
   },
   {
    "duration": 56,
    "start_time": "2022-03-06T11:27:20.586Z"
   },
   {
    "duration": 57,
    "start_time": "2022-03-06T11:34:24.713Z"
   },
   {
    "duration": 19,
    "start_time": "2022-03-06T11:35:12.358Z"
   },
   {
    "duration": 78,
    "start_time": "2022-03-06T11:35:52.434Z"
   },
   {
    "duration": 76,
    "start_time": "2022-03-06T11:35:57.676Z"
   },
   {
    "duration": 73,
    "start_time": "2022-03-06T11:37:08.261Z"
   },
   {
    "duration": 14,
    "start_time": "2022-03-06T11:40:49.678Z"
   },
   {
    "duration": 4,
    "start_time": "2022-03-06T11:44:22.083Z"
   },
   {
    "duration": 194,
    "start_time": "2022-03-06T11:44:22.092Z"
   },
   {
    "duration": 15,
    "start_time": "2022-03-06T11:44:22.289Z"
   },
   {
    "duration": 16,
    "start_time": "2022-03-06T11:44:22.307Z"
   },
   {
    "duration": 52,
    "start_time": "2022-03-06T11:44:22.326Z"
   },
   {
    "duration": 7,
    "start_time": "2022-03-06T11:44:22.381Z"
   },
   {
    "duration": 25,
    "start_time": "2022-03-06T11:44:22.391Z"
   },
   {
    "duration": 35,
    "start_time": "2022-03-06T11:44:22.418Z"
   },
   {
    "duration": 31,
    "start_time": "2022-03-06T11:44:22.457Z"
   },
   {
    "duration": 21,
    "start_time": "2022-03-06T11:44:22.492Z"
   },
   {
    "duration": 62,
    "start_time": "2022-03-06T11:44:22.515Z"
   },
   {
    "duration": 100,
    "start_time": "2022-03-06T11:44:22.579Z"
   },
   {
    "duration": 100,
    "start_time": "2022-03-06T11:44:22.681Z"
   },
   {
    "duration": 88,
    "start_time": "2022-03-06T11:44:22.783Z"
   },
   {
    "duration": 20,
    "start_time": "2022-03-06T11:44:22.874Z"
   },
   {
    "duration": 5,
    "start_time": "2022-03-06T11:44:22.897Z"
   },
   {
    "duration": 23,
    "start_time": "2022-03-06T11:44:22.904Z"
   },
   {
    "duration": 20,
    "start_time": "2022-03-06T11:44:22.953Z"
   },
   {
    "duration": 25,
    "start_time": "2022-03-06T11:44:22.976Z"
   },
   {
    "duration": 48,
    "start_time": "2022-03-06T11:44:23.003Z"
   },
   {
    "duration": 4,
    "start_time": "2022-03-06T11:44:23.053Z"
   },
   {
    "duration": 24,
    "start_time": "2022-03-06T11:44:23.060Z"
   },
   {
    "duration": 20,
    "start_time": "2022-03-06T11:44:23.086Z"
   },
   {
    "duration": 48,
    "start_time": "2022-03-06T11:44:23.110Z"
   },
   {
    "duration": 21,
    "start_time": "2022-03-06T11:44:23.161Z"
   },
   {
    "duration": 20,
    "start_time": "2022-03-06T11:44:23.185Z"
   },
   {
    "duration": 51,
    "start_time": "2022-03-06T11:44:23.207Z"
   },
   {
    "duration": 12,
    "start_time": "2022-03-06T11:44:23.261Z"
   },
   {
    "duration": 26,
    "start_time": "2022-03-06T11:44:23.275Z"
   },
   {
    "duration": 58,
    "start_time": "2022-03-06T11:44:23.303Z"
   },
   {
    "duration": 4,
    "start_time": "2022-03-06T11:44:23.364Z"
   },
   {
    "duration": 31,
    "start_time": "2022-03-06T11:44:23.371Z"
   },
   {
    "duration": 49,
    "start_time": "2022-03-06T11:44:23.404Z"
   },
   {
    "duration": 22,
    "start_time": "2022-03-06T11:44:23.455Z"
   },
   {
    "duration": 16,
    "start_time": "2022-03-06T11:44:23.479Z"
   },
   {
    "duration": 11,
    "start_time": "2022-03-06T11:44:23.497Z"
   },
   {
    "duration": 43,
    "start_time": "2022-03-06T11:44:23.510Z"
   },
   {
    "duration": 11,
    "start_time": "2022-03-06T11:44:23.555Z"
   },
   {
    "duration": 6,
    "start_time": "2022-03-06T11:44:23.569Z"
   },
   {
    "duration": 4,
    "start_time": "2022-03-06T11:45:09.250Z"
   },
   {
    "duration": 192,
    "start_time": "2022-03-06T11:45:09.259Z"
   },
   {
    "duration": 19,
    "start_time": "2022-03-06T11:45:09.454Z"
   },
   {
    "duration": 18,
    "start_time": "2022-03-06T11:45:09.476Z"
   },
   {
    "duration": 56,
    "start_time": "2022-03-06T11:45:09.496Z"
   },
   {
    "duration": 5,
    "start_time": "2022-03-06T11:45:09.555Z"
   },
   {
    "duration": 19,
    "start_time": "2022-03-06T11:45:09.563Z"
   },
   {
    "duration": 5,
    "start_time": "2022-03-06T11:45:09.585Z"
   },
   {
    "duration": 70,
    "start_time": "2022-03-06T11:45:09.594Z"
   },
   {
    "duration": 23,
    "start_time": "2022-03-06T11:45:09.667Z"
   },
   {
    "duration": 30,
    "start_time": "2022-03-06T11:45:09.693Z"
   },
   {
    "duration": 80,
    "start_time": "2022-03-06T11:45:09.751Z"
   },
   {
    "duration": 93,
    "start_time": "2022-03-06T11:45:09.833Z"
   },
   {
    "duration": 86,
    "start_time": "2022-03-06T11:45:09.928Z"
   },
   {
    "duration": 67,
    "start_time": "2022-03-06T11:45:10.016Z"
   },
   {
    "duration": 5,
    "start_time": "2022-03-06T11:45:10.086Z"
   },
   {
    "duration": 21,
    "start_time": "2022-03-06T11:45:10.093Z"
   },
   {
    "duration": 42,
    "start_time": "2022-03-06T11:45:10.117Z"
   },
   {
    "duration": 21,
    "start_time": "2022-03-06T11:45:10.162Z"
   },
   {
    "duration": 16,
    "start_time": "2022-03-06T11:45:10.186Z"
   },
   {
    "duration": 5,
    "start_time": "2022-03-06T11:45:10.205Z"
   },
   {
    "duration": 26,
    "start_time": "2022-03-06T11:45:10.252Z"
   },
   {
    "duration": 18,
    "start_time": "2022-03-06T11:45:10.280Z"
   },
   {
    "duration": 18,
    "start_time": "2022-03-06T11:45:10.304Z"
   },
   {
    "duration": 18,
    "start_time": "2022-03-06T11:45:10.351Z"
   },
   {
    "duration": 21,
    "start_time": "2022-03-06T11:45:10.372Z"
   },
   {
    "duration": 18,
    "start_time": "2022-03-06T11:45:10.396Z"
   },
   {
    "duration": 44,
    "start_time": "2022-03-06T11:45:10.417Z"
   },
   {
    "duration": 27,
    "start_time": "2022-03-06T11:45:10.463Z"
   },
   {
    "duration": 60,
    "start_time": "2022-03-06T11:45:10.493Z"
   },
   {
    "duration": 5,
    "start_time": "2022-03-06T11:45:10.556Z"
   },
   {
    "duration": 27,
    "start_time": "2022-03-06T11:45:10.564Z"
   },
   {
    "duration": 17,
    "start_time": "2022-03-06T11:45:10.594Z"
   },
   {
    "duration": 58,
    "start_time": "2022-03-06T11:45:10.613Z"
   },
   {
    "duration": 16,
    "start_time": "2022-03-06T11:45:10.673Z"
   },
   {
    "duration": 11,
    "start_time": "2022-03-06T11:45:10.691Z"
   },
   {
    "duration": 6,
    "start_time": "2022-03-06T11:45:10.704Z"
   },
   {
    "duration": 44,
    "start_time": "2022-03-06T11:45:10.712Z"
   },
   {
    "duration": 7,
    "start_time": "2022-03-06T11:45:10.758Z"
   },
   {
    "duration": 16,
    "start_time": "2022-03-06T11:46:01.171Z"
   },
   {
    "duration": 30,
    "start_time": "2022-03-06T11:46:01.189Z"
   },
   {
    "duration": 6,
    "start_time": "2022-03-06T11:46:01.224Z"
   },
   {
    "duration": 52,
    "start_time": "2022-03-06T11:46:01.233Z"
   },
   {
    "duration": 22,
    "start_time": "2022-03-06T11:46:01.288Z"
   },
   {
    "duration": 28,
    "start_time": "2022-03-06T11:46:01.314Z"
   },
   {
    "duration": 24,
    "start_time": "2022-03-06T11:46:01.354Z"
   },
   {
    "duration": 24,
    "start_time": "2022-03-06T11:46:01.382Z"
   },
   {
    "duration": 56,
    "start_time": "2022-03-06T11:46:01.410Z"
   },
   {
    "duration": 14,
    "start_time": "2022-03-06T11:46:01.468Z"
   },
   {
    "duration": 35,
    "start_time": "2022-03-06T11:46:01.484Z"
   },
   {
    "duration": 46,
    "start_time": "2022-03-06T11:46:01.522Z"
   },
   {
    "duration": 5,
    "start_time": "2022-03-06T11:46:01.571Z"
   },
   {
    "duration": 50,
    "start_time": "2022-03-06T11:46:01.578Z"
   },
   {
    "duration": 21,
    "start_time": "2022-03-06T11:46:01.631Z"
   },
   {
    "duration": 39,
    "start_time": "2022-03-06T11:46:01.655Z"
   },
   {
    "duration": 31,
    "start_time": "2022-03-06T11:46:01.696Z"
   },
   {
    "duration": 10,
    "start_time": "2022-03-06T11:46:01.730Z"
   },
   {
    "duration": 15,
    "start_time": "2022-03-06T11:46:01.743Z"
   },
   {
    "duration": 16,
    "start_time": "2022-03-06T11:46:01.760Z"
   },
   {
    "duration": 17,
    "start_time": "2022-03-06T11:46:01.778Z"
   },
   {
    "duration": 4,
    "start_time": "2022-03-06T11:47:26.371Z"
   },
   {
    "duration": 185,
    "start_time": "2022-03-06T11:47:26.379Z"
   },
   {
    "duration": 16,
    "start_time": "2022-03-06T11:47:26.567Z"
   },
   {
    "duration": 14,
    "start_time": "2022-03-06T11:47:26.587Z"
   },
   {
    "duration": 73,
    "start_time": "2022-03-06T11:47:26.604Z"
   },
   {
    "duration": 4,
    "start_time": "2022-03-06T11:47:26.680Z"
   },
   {
    "duration": 22,
    "start_time": "2022-03-06T11:47:26.686Z"
   },
   {
    "duration": 42,
    "start_time": "2022-03-06T11:47:26.710Z"
   },
   {
    "duration": 29,
    "start_time": "2022-03-06T11:47:26.756Z"
   },
   {
    "duration": 24,
    "start_time": "2022-03-06T11:47:26.789Z"
   },
   {
    "duration": 64,
    "start_time": "2022-03-06T11:47:26.816Z"
   },
   {
    "duration": 107,
    "start_time": "2022-03-06T11:47:26.882Z"
   },
   {
    "duration": 104,
    "start_time": "2022-03-06T11:47:26.992Z"
   },
   {
    "duration": 82,
    "start_time": "2022-03-06T11:47:27.099Z"
   },
   {
    "duration": 70,
    "start_time": "2022-03-06T11:47:27.183Z"
   },
   {
    "duration": 3,
    "start_time": "2022-03-06T11:47:27.256Z"
   },
   {
    "duration": 20,
    "start_time": "2022-03-06T11:47:27.261Z"
   },
   {
    "duration": 76,
    "start_time": "2022-03-06T11:47:27.284Z"
   },
   {
    "duration": 16,
    "start_time": "2022-03-06T11:47:27.362Z"
   },
   {
    "duration": 15,
    "start_time": "2022-03-06T11:47:27.380Z"
   },
   {
    "duration": 6,
    "start_time": "2022-03-06T11:47:27.398Z"
   },
   {
    "duration": 66,
    "start_time": "2022-03-06T11:47:27.407Z"
   },
   {
    "duration": 27,
    "start_time": "2022-03-06T11:47:27.476Z"
   },
   {
    "duration": 51,
    "start_time": "2022-03-06T11:47:27.510Z"
   },
   {
    "duration": 22,
    "start_time": "2022-03-06T11:47:27.564Z"
   },
   {
    "duration": 24,
    "start_time": "2022-03-06T11:47:27.589Z"
   },
   {
    "duration": 49,
    "start_time": "2022-03-06T11:47:27.616Z"
   },
   {
    "duration": 12,
    "start_time": "2022-03-06T11:47:27.667Z"
   },
   {
    "duration": 27,
    "start_time": "2022-03-06T11:47:27.682Z"
   },
   {
    "duration": 56,
    "start_time": "2022-03-06T11:47:27.712Z"
   },
   {
    "duration": 5,
    "start_time": "2022-03-06T11:47:27.771Z"
   },
   {
    "duration": 25,
    "start_time": "2022-03-06T11:47:27.778Z"
   },
   {
    "duration": 52,
    "start_time": "2022-03-06T11:47:27.806Z"
   },
   {
    "duration": 22,
    "start_time": "2022-03-06T11:47:27.861Z"
   },
   {
    "duration": 15,
    "start_time": "2022-03-06T11:47:27.886Z"
   },
   {
    "duration": 55,
    "start_time": "2022-03-06T11:47:27.904Z"
   },
   {
    "duration": 6,
    "start_time": "2022-03-06T11:47:27.961Z"
   },
   {
    "duration": 10,
    "start_time": "2022-03-06T11:47:27.969Z"
   },
   {
    "duration": 6,
    "start_time": "2022-03-06T11:47:27.981Z"
   },
   {
    "duration": 89,
    "start_time": "2022-03-06T12:00:43.775Z"
   },
   {
    "duration": 85,
    "start_time": "2022-03-06T12:00:48.865Z"
   },
   {
    "duration": 6,
    "start_time": "2022-03-06T12:02:37.235Z"
   },
   {
    "duration": 80,
    "start_time": "2022-03-06T12:04:13.940Z"
   },
   {
    "duration": 79,
    "start_time": "2022-03-06T12:07:23.690Z"
   },
   {
    "duration": 75,
    "start_time": "2022-03-06T12:09:27.039Z"
   },
   {
    "duration": 92,
    "start_time": "2022-03-06T12:10:13.181Z"
   },
   {
    "duration": 85,
    "start_time": "2022-03-06T12:11:11.837Z"
   },
   {
    "duration": 5,
    "start_time": "2022-03-06T12:17:29.839Z"
   },
   {
    "duration": 3,
    "start_time": "2022-03-06T12:18:23.757Z"
   },
   {
    "duration": 174,
    "start_time": "2022-03-06T12:18:23.765Z"
   },
   {
    "duration": 24,
    "start_time": "2022-03-06T12:18:23.941Z"
   },
   {
    "duration": 17,
    "start_time": "2022-03-06T12:18:23.968Z"
   },
   {
    "duration": 33,
    "start_time": "2022-03-06T12:18:23.988Z"
   },
   {
    "duration": 7,
    "start_time": "2022-03-06T12:18:24.052Z"
   },
   {
    "duration": 20,
    "start_time": "2022-03-06T12:18:24.062Z"
   },
   {
    "duration": 6,
    "start_time": "2022-03-06T12:18:24.085Z"
   },
   {
    "duration": 73,
    "start_time": "2022-03-06T12:18:24.095Z"
   },
   {
    "duration": 22,
    "start_time": "2022-03-06T12:18:24.171Z"
   },
   {
    "duration": 57,
    "start_time": "2022-03-06T12:18:24.195Z"
   },
   {
    "duration": 77,
    "start_time": "2022-03-06T12:18:24.255Z"
   },
   {
    "duration": 82,
    "start_time": "2022-03-06T12:18:24.351Z"
   },
   {
    "duration": 81,
    "start_time": "2022-03-06T12:18:24.436Z"
   },
   {
    "duration": 70,
    "start_time": "2022-03-06T12:18:24.520Z"
   },
   {
    "duration": 4,
    "start_time": "2022-03-06T12:18:24.592Z"
   },
   {
    "duration": 15,
    "start_time": "2022-03-06T12:18:24.598Z"
   },
   {
    "duration": 77,
    "start_time": "2022-03-06T12:18:24.615Z"
   },
   {
    "duration": 15,
    "start_time": "2022-03-06T12:18:24.694Z"
   },
   {
    "duration": 13,
    "start_time": "2022-03-06T12:18:24.711Z"
   },
   {
    "duration": 5,
    "start_time": "2022-03-06T12:18:24.751Z"
   },
   {
    "duration": 20,
    "start_time": "2022-03-06T12:18:24.761Z"
   },
   {
    "duration": 18,
    "start_time": "2022-03-06T12:18:24.784Z"
   },
   {
    "duration": 48,
    "start_time": "2022-03-06T12:18:24.804Z"
   },
   {
    "duration": 17,
    "start_time": "2022-03-06T12:18:24.855Z"
   },
   {
    "duration": 19,
    "start_time": "2022-03-06T12:18:24.874Z"
   },
   {
    "duration": 18,
    "start_time": "2022-03-06T12:18:24.895Z"
   },
   {
    "duration": 6,
    "start_time": "2022-03-06T12:18:24.952Z"
   },
   {
    "duration": 16,
    "start_time": "2022-03-06T12:18:24.960Z"
   },
   {
    "duration": 25,
    "start_time": "2022-03-06T12:18:24.978Z"
   },
   {
    "duration": 54,
    "start_time": "2022-03-06T12:18:25.006Z"
   },
   {
    "duration": 5,
    "start_time": "2022-03-06T12:18:25.063Z"
   },
   {
    "duration": 572,
    "start_time": "2022-03-06T12:18:25.070Z"
   },
   {
    "duration": -524,
    "start_time": "2022-03-06T12:18:26.169Z"
   },
   {
    "duration": -527,
    "start_time": "2022-03-06T12:18:26.173Z"
   },
   {
    "duration": -529,
    "start_time": "2022-03-06T12:18:26.176Z"
   },
   {
    "duration": -532,
    "start_time": "2022-03-06T12:18:26.181Z"
   },
   {
    "duration": -534,
    "start_time": "2022-03-06T12:18:26.184Z"
   },
   {
    "duration": -536,
    "start_time": "2022-03-06T12:18:26.188Z"
   },
   {
    "duration": -538,
    "start_time": "2022-03-06T12:18:26.191Z"
   },
   {
    "duration": 5,
    "start_time": "2022-03-06T12:24:02.037Z"
   },
   {
    "duration": 531,
    "start_time": "2022-03-06T12:24:08.942Z"
   },
   {
    "duration": 5,
    "start_time": "2022-03-06T12:24:24.040Z"
   },
   {
    "duration": 26,
    "start_time": "2022-03-06T12:24:28.295Z"
   },
   {
    "duration": 26,
    "start_time": "2022-03-06T12:27:09.000Z"
   },
   {
    "duration": 238,
    "start_time": "2022-03-06T12:27:49.473Z"
   },
   {
    "duration": 23,
    "start_time": "2022-03-06T12:28:00.362Z"
   },
   {
    "duration": 7,
    "start_time": "2022-03-06T12:28:34.651Z"
   },
   {
    "duration": 25,
    "start_time": "2022-03-06T12:28:39.345Z"
   },
   {
    "duration": 31,
    "start_time": "2022-03-06T12:29:17.065Z"
   },
   {
    "duration": 34,
    "start_time": "2022-03-06T12:29:26.908Z"
   },
   {
    "duration": 6,
    "start_time": "2022-03-06T12:29:35.154Z"
   },
   {
    "duration": 24,
    "start_time": "2022-03-06T12:29:38.895Z"
   },
   {
    "duration": 5,
    "start_time": "2022-03-06T12:31:07.310Z"
   },
   {
    "duration": 24,
    "start_time": "2022-03-06T12:31:13.674Z"
   },
   {
    "duration": 17,
    "start_time": "2022-03-06T12:31:37.366Z"
   },
   {
    "duration": 4,
    "start_time": "2022-03-06T12:31:48.405Z"
   },
   {
    "duration": 190,
    "start_time": "2022-03-06T12:31:48.414Z"
   },
   {
    "duration": 16,
    "start_time": "2022-03-06T12:31:48.606Z"
   },
   {
    "duration": 32,
    "start_time": "2022-03-06T12:31:48.625Z"
   },
   {
    "duration": 34,
    "start_time": "2022-03-06T12:31:48.660Z"
   },
   {
    "duration": 8,
    "start_time": "2022-03-06T12:31:48.697Z"
   },
   {
    "duration": 60,
    "start_time": "2022-03-06T12:31:48.708Z"
   },
   {
    "duration": 6,
    "start_time": "2022-03-06T12:31:48.770Z"
   },
   {
    "duration": 29,
    "start_time": "2022-03-06T12:31:48.780Z"
   },
   {
    "duration": 50,
    "start_time": "2022-03-06T12:31:48.812Z"
   },
   {
    "duration": 29,
    "start_time": "2022-03-06T12:31:48.864Z"
   },
   {
    "duration": 113,
    "start_time": "2022-03-06T12:31:48.895Z"
   },
   {
    "duration": 100,
    "start_time": "2022-03-06T12:31:49.010Z"
   },
   {
    "duration": 81,
    "start_time": "2022-03-06T12:31:49.113Z"
   },
   {
    "duration": 64,
    "start_time": "2022-03-06T12:31:49.197Z"
   },
   {
    "duration": 4,
    "start_time": "2022-03-06T12:31:49.263Z"
   },
   {
    "duration": 17,
    "start_time": "2022-03-06T12:31:49.269Z"
   },
   {
    "duration": 74,
    "start_time": "2022-03-06T12:31:49.288Z"
   },
   {
    "duration": 15,
    "start_time": "2022-03-06T12:31:49.364Z"
   },
   {
    "duration": 14,
    "start_time": "2022-03-06T12:31:49.381Z"
   },
   {
    "duration": 4,
    "start_time": "2022-03-06T12:31:49.398Z"
   },
   {
    "duration": 63,
    "start_time": "2022-03-06T12:31:49.404Z"
   },
   {
    "duration": 18,
    "start_time": "2022-03-06T12:31:49.470Z"
   },
   {
    "duration": 17,
    "start_time": "2022-03-06T12:31:49.493Z"
   },
   {
    "duration": 45,
    "start_time": "2022-03-06T12:31:49.513Z"
   },
   {
    "duration": 20,
    "start_time": "2022-03-06T12:31:49.560Z"
   },
   {
    "duration": 18,
    "start_time": "2022-03-06T12:31:49.582Z"
   },
   {
    "duration": 5,
    "start_time": "2022-03-06T12:31:49.602Z"
   },
   {
    "duration": 52,
    "start_time": "2022-03-06T12:31:49.609Z"
   },
   {
    "duration": 26,
    "start_time": "2022-03-06T12:31:49.663Z"
   },
   {
    "duration": 22,
    "start_time": "2022-03-06T12:31:49.692Z"
   },
   {
    "duration": 37,
    "start_time": "2022-03-06T12:31:49.717Z"
   },
   {
    "duration": 29,
    "start_time": "2022-03-06T12:31:49.757Z"
   },
   {
    "duration": 17,
    "start_time": "2022-03-06T12:31:49.788Z"
   },
   {
    "duration": 49,
    "start_time": "2022-03-06T12:31:49.807Z"
   },
   {
    "duration": 16,
    "start_time": "2022-03-06T12:31:49.859Z"
   },
   {
    "duration": 11,
    "start_time": "2022-03-06T12:31:49.877Z"
   },
   {
    "duration": 7,
    "start_time": "2022-03-06T12:31:49.890Z"
   },
   {
    "duration": 8,
    "start_time": "2022-03-06T12:31:49.899Z"
   },
   {
    "duration": 43,
    "start_time": "2022-03-06T12:31:49.909Z"
   },
   {
    "duration": 633,
    "start_time": "2022-03-06T21:37:11.960Z"
   },
   {
    "duration": 145,
    "start_time": "2022-03-06T21:37:12.594Z"
   },
   {
    "duration": 17,
    "start_time": "2022-03-06T21:37:12.741Z"
   },
   {
    "duration": 18,
    "start_time": "2022-03-06T21:37:12.760Z"
   },
   {
    "duration": 26,
    "start_time": "2022-03-06T21:37:12.779Z"
   },
   {
    "duration": 5,
    "start_time": "2022-03-06T21:37:12.807Z"
   },
   {
    "duration": 26,
    "start_time": "2022-03-06T21:37:12.813Z"
   },
   {
    "duration": 3,
    "start_time": "2022-03-06T21:37:12.842Z"
   },
   {
    "duration": 24,
    "start_time": "2022-03-06T21:37:12.876Z"
   },
   {
    "duration": 21,
    "start_time": "2022-03-06T21:37:12.902Z"
   },
   {
    "duration": 24,
    "start_time": "2022-03-06T21:37:12.925Z"
   },
   {
    "duration": 85,
    "start_time": "2022-03-06T21:37:12.951Z"
   },
   {
    "duration": 86,
    "start_time": "2022-03-06T21:37:13.038Z"
   },
   {
    "duration": 64,
    "start_time": "2022-03-06T21:37:13.125Z"
   },
   {
    "duration": 42,
    "start_time": "2022-03-06T21:37:13.191Z"
   },
   {
    "duration": 4,
    "start_time": "2022-03-06T21:37:13.235Z"
   },
   {
    "duration": 26,
    "start_time": "2022-03-06T21:37:13.241Z"
   },
   {
    "duration": 47,
    "start_time": "2022-03-06T21:37:13.268Z"
   },
   {
    "duration": 12,
    "start_time": "2022-03-06T21:37:13.317Z"
   },
   {
    "duration": 12,
    "start_time": "2022-03-06T21:37:13.331Z"
   },
   {
    "duration": 14,
    "start_time": "2022-03-06T21:37:13.345Z"
   },
   {
    "duration": 18,
    "start_time": "2022-03-06T21:37:13.377Z"
   },
   {
    "duration": 16,
    "start_time": "2022-03-06T21:37:13.398Z"
   },
   {
    "duration": 16,
    "start_time": "2022-03-06T21:37:13.416Z"
   },
   {
    "duration": 44,
    "start_time": "2022-03-06T21:37:13.434Z"
   },
   {
    "duration": 18,
    "start_time": "2022-03-06T21:37:13.479Z"
   },
   {
    "duration": 28,
    "start_time": "2022-03-06T21:37:13.498Z"
   },
   {
    "duration": 12,
    "start_time": "2022-03-06T21:37:13.528Z"
   },
   {
    "duration": 22,
    "start_time": "2022-03-06T21:37:13.541Z"
   },
   {
    "duration": 35,
    "start_time": "2022-03-06T21:37:13.564Z"
   },
   {
    "duration": 29,
    "start_time": "2022-03-06T21:37:13.600Z"
   },
   {
    "duration": 16,
    "start_time": "2022-03-06T21:37:13.630Z"
   },
   {
    "duration": 46,
    "start_time": "2022-03-06T21:37:13.647Z"
   },
   {
    "duration": 21,
    "start_time": "2022-03-06T21:37:13.695Z"
   },
   {
    "duration": 42,
    "start_time": "2022-03-06T21:37:13.717Z"
   },
   {
    "duration": 14,
    "start_time": "2022-03-06T21:37:13.761Z"
   },
   {
    "duration": 12,
    "start_time": "2022-03-06T21:37:13.776Z"
   },
   {
    "duration": 21,
    "start_time": "2022-03-06T21:37:13.790Z"
   },
   {
    "duration": 18,
    "start_time": "2022-03-06T21:37:13.812Z"
   },
   {
    "duration": 16,
    "start_time": "2022-03-06T21:37:13.832Z"
   }
  ],
  "colab": {
   "collapsed_sections": [
    "E0vqbgi9ay0H",
    "VUC88oWjTJw2"
   ],
   "name": "yandex_music_project_2021.2.ipynb",
   "provenance": []
  },
  "kernelspec": {
   "display_name": "Python 3 (ipykernel)",
   "language": "python",
   "name": "python3"
  },
  "language_info": {
   "codemirror_mode": {
    "name": "ipython",
    "version": 3
   },
   "file_extension": ".py",
   "mimetype": "text/x-python",
   "name": "python",
   "nbconvert_exporter": "python",
   "pygments_lexer": "ipython3",
   "version": "3.7.8"
  },
  "toc": {
   "base_numbering": 1,
   "nav_menu": {
    "height": "12px",
    "width": "376px"
   },
   "number_sections": true,
   "sideBar": true,
   "skip_h1_title": true,
   "title_cell": "Table of Contents",
   "title_sidebar": "Contents",
   "toc_cell": false,
   "toc_position": {
    "height": "calc(100% - 180px)",
    "left": "10px",
    "top": "150px",
    "width": "255.198px"
   },
   "toc_section_display": true,
   "toc_window_display": true
  }
 },
 "nbformat": 4,
 "nbformat_minor": 1
}
