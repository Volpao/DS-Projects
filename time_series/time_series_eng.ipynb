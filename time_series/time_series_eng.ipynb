{
 "cells": [
  {
   "cell_type": "markdown",
   "id": "ecad36fb",
   "metadata": {},
   "source": [
    "# Cab Orders Forecast"
   ]
  },
  {
   "cell_type": "markdown",
   "id": "4ec0bc19",
   "metadata": {},
   "source": [
    "The goal of any business is to make a profit.\n",
    "Depending on the type of enterprise, various factors can influence profits, including the correct allocation of resources, as well as the modulation of supply depending on demand. Taxi services are no exception.\n",
    "\n",
    "A taxi company has collected historical data on taxi orders at airports. In order to attract more drivers during the peak period, and, accordingly, increase profits, we need to predict the number of taxi orders for the next hour.\n",
    "Our task is to build a model for predicting the number of orders, which will produce the highest quality forecast at the output.\n",
    "To build the model, we have at our disposal historical data on dates / times and the number of taxi orders stored in the following csv file: '/datasets/taxi.csv.\n",
    "\n",
    "We know from the assignment that the number of orders is in the 'num_orders' column.\n",
    "\n",
    "\n",
    "**The purpose of this study** is to prepare a prototype of a machine learning model for the taxi service, taking into account the fact that the quality of prediction is important for the customer. To assess the quality of the model, we will use the standard metric **RMSE, that is, the square root of the mean squared error, which should not exceed 48**.\n",
    "\n",
    "**Research progress**:\n",
    "\n",
    "We will try to build both traditional regression and gradient boosting models by fitting the best hyperparameters, train them and select the best hyperparameters through cross-validation, and then evaluate as RMSE on the test sample.\n",
    "\n",
    "\n",
    "Thus, this project will include the following steps:\n",
    "* data preprocessing and analysis\n",
    "* building models and fitting them\n",
    "* assessment of the quality of the model"
   ]
  },
  {
   "cell_type": "markdown",
   "id": "7df204d0",
   "metadata": {},
   "source": [
    "## Data Preprocessing\n",
    "\n"
   ]
  },
  {
   "cell_type": "code",
   "execution_count": 1,
   "id": "ed046b58",
   "metadata": {},
   "outputs": [],
   "source": [
    "import numpy as np  # importing numpy\n",
    "import pandas as pd  # importing pandas\n",
    "import os.path as path # importing os.path for path handling\n",
    "from sklearn.linear_model import LinearRegression # importing linear regression\n",
    "import warnings # importing warnings \n",
    "warnings.simplefilter(\"ignore\")\n",
    "from sklearn.metrics  import  make_scorer # importing for customizing score\n",
    "from sklearn.ensemble import RandomForestRegressor # importing random forest\n",
    "from sklearn.dummy import DummyRegressor # importing DummyRegressor for baseline model\n",
    "from catboost import CatBoostRegressor # importing Catboost\n",
    "from lightgbm import LGBMRegressor # importing LGBM\n",
    "from sklearn.model_selection import train_test_split  # importing the function for splitting dataset\n",
    "from sklearn.metrics import mean_squared_error # importing MSE\n",
    "from sklearn.model_selection import  RandomizedSearchCV # importing RandomSearchCV to search for the best hyperparameters\n",
    "from statsmodels.tsa.seasonal import seasonal_decompose # importing the function to analyze trends and seasons\n",
    "from sklearn.model_selection import TimeSeriesSplit # importing thr class for splitting Time Series"
   ]
  },
  {
   "cell_type": "markdown",
   "id": "2a45e1a4",
   "metadata": {},
   "source": [
    "### Data Overview and Basic Data Analysis\n",
    "Let's make the first idea about the data. To view and analyze, we will read the file in csv format, save them to a variable, and also look at the first 10 lines."
   ]
  },
  {
   "cell_type": "code",
   "execution_count": 2,
   "id": "7d068f91",
   "metadata": {},
   "outputs": [
    {
     "data": {
      "text/html": [
       "<div>\n",
       "<style scoped>\n",
       "    .dataframe tbody tr th:only-of-type {\n",
       "        vertical-align: middle;\n",
       "    }\n",
       "\n",
       "    .dataframe tbody tr th {\n",
       "        vertical-align: top;\n",
       "    }\n",
       "\n",
       "    .dataframe thead th {\n",
       "        text-align: right;\n",
       "    }\n",
       "</style>\n",
       "<table border=\"1\" class=\"dataframe\">\n",
       "  <thead>\n",
       "    <tr style=\"text-align: right;\">\n",
       "      <th></th>\n",
       "      <th>num_orders</th>\n",
       "    </tr>\n",
       "    <tr>\n",
       "      <th>datetime</th>\n",
       "      <th></th>\n",
       "    </tr>\n",
       "  </thead>\n",
       "  <tbody>\n",
       "    <tr>\n",
       "      <th>2018-03-01 00:00:00</th>\n",
       "      <td>9</td>\n",
       "    </tr>\n",
       "    <tr>\n",
       "      <th>2018-03-01 00:10:00</th>\n",
       "      <td>14</td>\n",
       "    </tr>\n",
       "    <tr>\n",
       "      <th>2018-03-01 00:20:00</th>\n",
       "      <td>28</td>\n",
       "    </tr>\n",
       "    <tr>\n",
       "      <th>2018-03-01 00:30:00</th>\n",
       "      <td>20</td>\n",
       "    </tr>\n",
       "    <tr>\n",
       "      <th>2018-03-01 00:40:00</th>\n",
       "      <td>32</td>\n",
       "    </tr>\n",
       "    <tr>\n",
       "      <th>2018-03-01 00:50:00</th>\n",
       "      <td>21</td>\n",
       "    </tr>\n",
       "    <tr>\n",
       "      <th>2018-03-01 01:00:00</th>\n",
       "      <td>7</td>\n",
       "    </tr>\n",
       "    <tr>\n",
       "      <th>2018-03-01 01:10:00</th>\n",
       "      <td>5</td>\n",
       "    </tr>\n",
       "    <tr>\n",
       "      <th>2018-03-01 01:20:00</th>\n",
       "      <td>17</td>\n",
       "    </tr>\n",
       "    <tr>\n",
       "      <th>2018-03-01 01:30:00</th>\n",
       "      <td>12</td>\n",
       "    </tr>\n",
       "  </tbody>\n",
       "</table>\n",
       "</div>"
      ],
      "text/plain": [
       "                     num_orders\n",
       "datetime                       \n",
       "2018-03-01 00:00:00           9\n",
       "2018-03-01 00:10:00          14\n",
       "2018-03-01 00:20:00          28\n",
       "2018-03-01 00:30:00          20\n",
       "2018-03-01 00:40:00          32\n",
       "2018-03-01 00:50:00          21\n",
       "2018-03-01 01:00:00           7\n",
       "2018-03-01 01:10:00           5\n",
       "2018-03-01 01:20:00          17\n",
       "2018-03-01 01:30:00          12"
      ]
     },
     "metadata": {},
     "output_type": "display_data"
    }
   ],
   "source": [
    "# reading the csv file and saving to df\n",
    "try:\n",
    "    base_path = 'taxi.csv' \n",
    "    df = pd.read_csv(base_path, index_col=[0], parse_dates=[0]) if path.exists(base_path) else pd.read_csv(f'/datasets/{base_path}', index_col=[0], parse_dates=[0]) # checking the path\n",
    "    display(df.head(10))  # getting the first 10 rows\n",
    "except:\n",
    "     print('File not found') # if no path is correct, an error message will be printed\n"
   ]
  },
  {
   "cell_type": "markdown",
   "id": "a6324a49",
   "metadata": {},
   "source": [
    "Next, we will get general information about the dataset and check the quality of the data. "
   ]
  },
  {
   "cell_type": "code",
   "execution_count": 3,
   "id": "5903e3b5",
   "metadata": {},
   "outputs": [
    {
     "name": "stdout",
     "output_type": "stream",
     "text": [
      "<class 'pandas.core.frame.DataFrame'>\n",
      "DatetimeIndex: 26496 entries, 2018-03-01 00:00:00 to 2018-08-31 23:50:00\n",
      "Data columns (total 1 columns):\n",
      " #   Column      Non-Null Count  Dtype\n",
      "---  ------      --------------  -----\n",
      " 0   num_orders  26496 non-null  int64\n",
      "dtypes: int64(1)\n",
      "memory usage: 414.0 KB\n"
     ]
    }
   ],
   "source": [
    "df.info() # getting general information on the df\n"
   ]
  },
  {
   "cell_type": "markdown",
   "id": "f95c98b9",
   "metadata": {},
   "source": [
    "So, from the first overview of the dataset, we can conclude that it contains 1 feature - the number of taxi orders, which will also be the target for us. This feature is quantitative, hence the data type is as expected. The index contains the date and time with an interval of 10 minutes.\n",
    " "
   ]
  },
  {
   "cell_type": "markdown",
   "id": "44ee8a3f",
   "metadata": {},
   "source": [
    "Since there is only one feature, and there is a possibility that the number of orders for the selected interval is repeated, it makes no sense to check the dataframe for full duplicates. In any case, even if we didn't use 'datatime' as an index, there would still be no full duplicates. Since some regression models are sensitive to missing values,  let's check the df for them:"
   ]
  },
  {
   "cell_type": "code",
   "execution_count": 4,
   "id": "4e2b86c4",
   "metadata": {},
   "outputs": [
    {
     "data": {
      "text/plain": [
       "num_orders    0.0\n",
       "dtype: float64"
      ]
     },
     "execution_count": 4,
     "metadata": {},
     "output_type": "execute_result"
    }
   ],
   "source": [
    "df.isna().mean() # checking the df for NaNs"
   ]
  },
  {
   "cell_type": "markdown",
   "id": "3f36a84c",
   "metadata": {},
   "source": [
    "So, there are no missing values in our dataframe, then we will analyze the range of indexes, which are the date and time, as well as the distribution of the feature.\n"
   ]
  },
  {
   "cell_type": "code",
   "execution_count": 5,
   "id": "4dd5b7ca",
   "metadata": {},
   "outputs": [
    {
     "data": {
      "text/plain": [
       "True"
      ]
     },
     "execution_count": 5,
     "metadata": {},
     "output_type": "execute_result"
    }
   ],
   "source": [
    "df.index.is_monotonic # checking if the index order is proper"
   ]
  },
  {
   "cell_type": "markdown",
   "id": "f57f8617",
   "metadata": {},
   "source": [
    "So, the order in the index is observed, there is no need to sort it. Next, let's see what range of dates and times our dataframe covers:\n"
   ]
  },
  {
   "cell_type": "code",
   "execution_count": 6,
   "id": "59572daa",
   "metadata": {},
   "outputs": [
    {
     "data": {
      "text/plain": [
       "Timestamp('2018-03-01 00:00:00')"
      ]
     },
     "execution_count": 6,
     "metadata": {},
     "output_type": "execute_result"
    }
   ],
   "source": [
    "df.index.min() # displaying the min index"
   ]
  },
  {
   "cell_type": "code",
   "execution_count": 7,
   "id": "04185f48",
   "metadata": {},
   "outputs": [
    {
     "data": {
      "text/plain": [
       "Timestamp('2018-08-31 23:50:00')"
      ]
     },
     "execution_count": 7,
     "metadata": {},
     "output_type": "execute_result"
    }
   ],
   "source": [
    "df.index.max() # displaying the max index"
   ]
  },
  {
   "cell_type": "markdown",
   "id": "ce1f02fd",
   "metadata": {},
   "source": [
    "The minimum and maximum index tell us that the data covers several months of only one year, namely the period from zero am on March 1 to 11 pm on August 31, 2018. We will need this data later when creating features."
   ]
  },
  {
   "cell_type": "code",
   "execution_count": 8,
   "id": "3d0adeb4",
   "metadata": {},
   "outputs": [
    {
     "data": {
      "image/png": "[encoded data removed]",
      "text/plain": [
       "<Figure size 1152x576 with 1 Axes>"
      ]
     },
     "metadata": {
      "needs_background": "light"
     },
     "output_type": "display_data"
    }
   ],
   "source": [
    "df.plot(figsize=(16,8)); # plotting the orders' number distribution"
   ]
  },
  {
   "cell_type": "markdown",
   "id": "d745b705",
   "metadata": {},
   "source": [
    "The distribution from March to June resembles a stationary series, but further, in the last two months of observations, the number of orders is clearly growing (summer is a vacation period, more people travel), respectively, their arithmetic mean also increases.\n",
    "\n",
    "Further, in accordance with the task, we should resample the feature for one hour, calculate the total number of orders in each group, and then look again at its distribution:"
   ]
  },
  {
   "cell_type": "code",
   "execution_count": 9,
   "id": "f38ba7d9",
   "metadata": {},
   "outputs": [],
   "source": [
    "df = df.resample('1H').sum()# resampling the df"
   ]
  },
  {
   "cell_type": "code",
   "execution_count": 10,
   "id": "61cddc3e",
   "metadata": {},
   "outputs": [
    {
     "data": {
      "image/png": "[encoded data removed]",
      "text/plain": [
       "<Figure size 1152x576 with 1 Axes>"
      ]
     },
     "metadata": {
      "needs_background": "light"
     },
     "output_type": "display_data"
    }
   ],
   "source": [
    "df.plot(figsize=(16,8)); # plotiing the distribution after resampling"
   ]
  },
  {
   "cell_type": "markdown",
   "id": "c0572f5e",
   "metadata": {},
   "source": [
    "A certain, not very strong, enlargement of the feature is noticeable, the same trend is visible in the distribution."
   ]
  },
  {
   "cell_type": "markdown",
   "id": "b6424753",
   "metadata": {},
   "source": [
    "Next, let's analyze our time series for trends. Since we know that the data are presented only for a few months of one year, it is not possible to analyze them for seasonality."
   ]
  },
  {
   "cell_type": "code",
   "execution_count": 11,
   "id": "61d69668",
   "metadata": {},
   "outputs": [],
   "source": [
    "decomposed = seasonal_decompose(df) # splitting the data"
   ]
  },
  {
   "cell_type": "code",
   "execution_count": 12,
   "id": "6813ecf2",
   "metadata": {},
   "outputs": [
    {
     "data": {
      "image/png": "[encoded data removed]",
      "text/plain": [
       "<Figure size 1152x576 with 1 Axes>"
      ]
     },
     "metadata": {
      "needs_background": "light"
     },
     "output_type": "display_data"
    }
   ],
   "source": [
    "decomposed.trend.plot(title='Trend', figsize=(16,8)); # plotting the trend"
   ]
  },
  {
   "cell_type": "markdown",
   "id": "a76ea5ec",
   "metadata": {},
   "source": [
    "So, based on the plot, we see a trend towards an increase in taxi orders as we move from spring to summer. You can notice a certain surge in mid-May (perhaps this is due to the May holidays or the combination of holidays and additional vacation days), then, in the first half of June, a certain drop in demand (if you flew away on vacation in May, they are unlikely to fly again in 2 weeks), and then, from mid-June, a steady upward trend in demand: as we mentioned above, this is most likely due to the holiday period.\n"
   ]
  },
  {
   "cell_type": "markdown",
   "id": "ca9a0301",
   "metadata": {},
   "source": [
    "**Conclusions**\n",
    "\n",
    "So, we did a overview and basic analysis of the data: the quality of the data was satisfactory, we did not have to deal with duplicates or NaNs, we also analyzed the range of the index and the distribution of the feature, revealing an upward trend in the summer months. Next, let's move on to the special preparation of the dataset necessary for building the model.\n"
   ]
  },
  {
   "cell_type": "markdown",
   "id": "2d59e20d",
   "metadata": {},
   "source": [
    "### Preparing Data for Modelling\n",
    "The task of time series forecast is to build a model that, based on historical data, will predict the future values of the time series. In our case, we should predict the number of orders for the next hour, that is, the forecasting horizon in our case is an hour, and we are faced with the regression task.\n",
    "\n",
    "To fit models, we first need to create features. To do this, we are about to define a standard function,\n",
    "which will return dataframe wit the new features:\n",
    " - calendar features to identify the trend and seasonality, which we will extract from the index. Taking into account the forecasting horizon and the fact that the data is only for 2018, we should add the following calendar features: day of the week, hour of the day.\n",
    " - the so-called \"lagging values\", which will tell us whether the value function of the time series x(t) will increase or decrease.\n",
    " - rolling mean, which will reduce fluctuations and set the general trend of the time series, not including the current value of the series."
   ]
  },
  {
   "cell_type": "code",
   "execution_count": 13,
   "id": "e4d87f9b",
   "metadata": {},
   "outputs": [],
   "source": [
    "# defining a function which return a new df with features \n",
    "def make_features(data, max_lag, rolling_mean_size):\n",
    "    feature_data = data.copy()\n",
    "    feature_data['dayofweek'] = feature_data.index.dayofweek\n",
    "    feature_data['hour'] = feature_data.index.hour\n",
    "    \n",
    "    for lag in range(1, max_lag + 1):\n",
    "        feature_data['lag_{}'.format(lag)] = feature_data['num_orders'].shift(lag)\n",
    "\n",
    "    feature_data['rolling_mean'] = feature_data['num_orders'].shift().rolling(rolling_mean_size).mean()\n",
    "    return feature_data"
   ]
  },
  {
   "cell_type": "markdown",
   "id": "a6e5e90e",
   "metadata": {},
   "source": [
    "Let's apply the function to our dataset. Let's try 1 as lagging value because it makes sense to think that the orders of the previous hour influence the orders of the current hour and 24 as the rolling value, in order to smooth order fluctations for a day (24 hours)."
   ]
  },
  {
   "cell_type": "code",
   "execution_count": 14,
   "id": "3e6fc367",
   "metadata": {},
   "outputs": [
    {
     "data": {
      "text/html": [
       "<div>\n",
       "<style scoped>\n",
       "    .dataframe tbody tr th:only-of-type {\n",
       "        vertical-align: middle;\n",
       "    }\n",
       "\n",
       "    .dataframe tbody tr th {\n",
       "        vertical-align: top;\n",
       "    }\n",
       "\n",
       "    .dataframe thead th {\n",
       "        text-align: right;\n",
       "    }\n",
       "</style>\n",
       "<table border=\"1\" class=\"dataframe\">\n",
       "  <thead>\n",
       "    <tr style=\"text-align: right;\">\n",
       "      <th></th>\n",
       "      <th>num_orders</th>\n",
       "      <th>dayofweek</th>\n",
       "      <th>hour</th>\n",
       "      <th>lag_1</th>\n",
       "      <th>rolling_mean</th>\n",
       "    </tr>\n",
       "    <tr>\n",
       "      <th>datetime</th>\n",
       "      <th></th>\n",
       "      <th></th>\n",
       "      <th></th>\n",
       "      <th></th>\n",
       "      <th></th>\n",
       "    </tr>\n",
       "  </thead>\n",
       "  <tbody>\n",
       "    <tr>\n",
       "      <th>2018-03-01 00:00:00</th>\n",
       "      <td>124</td>\n",
       "      <td>3</td>\n",
       "      <td>0</td>\n",
       "      <td>NaN</td>\n",
       "      <td>NaN</td>\n",
       "    </tr>\n",
       "    <tr>\n",
       "      <th>2018-03-01 01:00:00</th>\n",
       "      <td>85</td>\n",
       "      <td>3</td>\n",
       "      <td>1</td>\n",
       "      <td>124.0</td>\n",
       "      <td>NaN</td>\n",
       "    </tr>\n",
       "    <tr>\n",
       "      <th>2018-03-01 02:00:00</th>\n",
       "      <td>71</td>\n",
       "      <td>3</td>\n",
       "      <td>2</td>\n",
       "      <td>85.0</td>\n",
       "      <td>NaN</td>\n",
       "    </tr>\n",
       "    <tr>\n",
       "      <th>2018-03-01 03:00:00</th>\n",
       "      <td>66</td>\n",
       "      <td>3</td>\n",
       "      <td>3</td>\n",
       "      <td>71.0</td>\n",
       "      <td>NaN</td>\n",
       "    </tr>\n",
       "    <tr>\n",
       "      <th>2018-03-01 04:00:00</th>\n",
       "      <td>43</td>\n",
       "      <td>3</td>\n",
       "      <td>4</td>\n",
       "      <td>66.0</td>\n",
       "      <td>NaN</td>\n",
       "    </tr>\n",
       "  </tbody>\n",
       "</table>\n",
       "</div>"
      ],
      "text/plain": [
       "                     num_orders  dayofweek  hour  lag_1  rolling_mean\n",
       "datetime                                                             \n",
       "2018-03-01 00:00:00         124          3     0    NaN           NaN\n",
       "2018-03-01 01:00:00          85          3     1  124.0           NaN\n",
       "2018-03-01 02:00:00          71          3     2   85.0           NaN\n",
       "2018-03-01 03:00:00          66          3     3   71.0           NaN\n",
       "2018-03-01 04:00:00          43          3     4   66.0           NaN"
      ]
     },
     "execution_count": 14,
     "metadata": {},
     "output_type": "execute_result"
    }
   ],
   "source": [
    "feature_data = make_features(df, 1, 24) # creating a new df with features\n",
    "feature_data.head() # checking the result\n"
   ]
  },
  {
   "cell_type": "markdown",
   "id": "22684989",
   "metadata": {},
   "source": [
    "Next, we shall divide the dataframe into training and test samples. In accordance with the task, the size of the test sample should be 10% of the original data. We cannot mix samples in a time series forecasting. The training sample data must precede the test sample data, otherwise testing the model will be incorrect: the model should not be trained on data from the future. To avoid data shuffling, set the shuffle argument to False:"
   ]
  },
  {
   "cell_type": "code",
   "execution_count": 15,
   "id": "bde6865c",
   "metadata": {},
   "outputs": [],
   "source": [
    "train, test = train_test_split(feature_data, shuffle=False, test_size=0.1) # splitting the data into trai and test samples"
   ]
  },
  {
   "cell_type": "markdown",
   "id": "80addc04",
   "metadata": {},
   "source": [
    "Let's check is the split has occured properly:"
   ]
  },
  {
   "cell_type": "code",
   "execution_count": 16,
   "id": "afe8b9d1",
   "metadata": {},
   "outputs": [
    {
     "name": "stdout",
     "output_type": "stream",
     "text": [
      "442\n",
      "3974\n",
      "True\n"
     ]
    }
   ],
   "source": [
    "print(len(test), len(train), len(train)+len(test)==len(df), sep='\\n') # checking if the split was correct"
   ]
  },
  {
   "cell_type": "code",
   "execution_count": 17,
   "id": "711c248d",
   "metadata": {},
   "outputs": [
    {
     "name": "stdout",
     "output_type": "stream",
     "text": [
      "2018-08-13 13:00:00\n",
      "2018-08-13 14:00:00\n"
     ]
    }
   ],
   "source": [
    "print(train.index.max(), test.index.min(), sep='\\n') # checking if the split was correct"
   ]
  },
  {
   "cell_type": "markdown",
   "id": "8ffbc6d5",
   "metadata": {},
   "source": [
    "According to the task, we need to test several regression models, including traditional ones. We know that they do not handle missing values, and the NaNs after the features creation appeared. Let's create a separate sample for traditional models by removing missing values. Taking into account the specifics of the breakdown of the dataset, there are missing values only in the training sample:"
   ]
  },
  {
   "cell_type": "code",
   "execution_count": 18,
   "id": "7338e161",
   "metadata": {},
   "outputs": [
    {
     "data": {
      "text/html": [
       "<div>\n",
       "<style scoped>\n",
       "    .dataframe tbody tr th:only-of-type {\n",
       "        vertical-align: middle;\n",
       "    }\n",
       "\n",
       "    .dataframe tbody tr th {\n",
       "        vertical-align: top;\n",
       "    }\n",
       "\n",
       "    .dataframe thead th {\n",
       "        text-align: right;\n",
       "    }\n",
       "</style>\n",
       "<table border=\"1\" class=\"dataframe\">\n",
       "  <thead>\n",
       "    <tr style=\"text-align: right;\">\n",
       "      <th></th>\n",
       "      <th>num_orders</th>\n",
       "      <th>dayofweek</th>\n",
       "      <th>hour</th>\n",
       "      <th>lag_1</th>\n",
       "      <th>rolling_mean</th>\n",
       "    </tr>\n",
       "    <tr>\n",
       "      <th>datetime</th>\n",
       "      <th></th>\n",
       "      <th></th>\n",
       "      <th></th>\n",
       "      <th></th>\n",
       "      <th></th>\n",
       "    </tr>\n",
       "  </thead>\n",
       "  <tbody>\n",
       "    <tr>\n",
       "      <th>2018-03-02 00:00:00</th>\n",
       "      <td>90</td>\n",
       "      <td>4</td>\n",
       "      <td>0</td>\n",
       "      <td>58.0</td>\n",
       "      <td>56.833333</td>\n",
       "    </tr>\n",
       "    <tr>\n",
       "      <th>2018-03-02 01:00:00</th>\n",
       "      <td>120</td>\n",
       "      <td>4</td>\n",
       "      <td>1</td>\n",
       "      <td>90.0</td>\n",
       "      <td>55.416667</td>\n",
       "    </tr>\n",
       "    <tr>\n",
       "      <th>2018-03-02 02:00:00</th>\n",
       "      <td>75</td>\n",
       "      <td>4</td>\n",
       "      <td>2</td>\n",
       "      <td>120.0</td>\n",
       "      <td>56.875000</td>\n",
       "    </tr>\n",
       "    <tr>\n",
       "      <th>2018-03-02 03:00:00</th>\n",
       "      <td>64</td>\n",
       "      <td>4</td>\n",
       "      <td>3</td>\n",
       "      <td>75.0</td>\n",
       "      <td>57.041667</td>\n",
       "    </tr>\n",
       "    <tr>\n",
       "      <th>2018-03-02 04:00:00</th>\n",
       "      <td>20</td>\n",
       "      <td>4</td>\n",
       "      <td>4</td>\n",
       "      <td>64.0</td>\n",
       "      <td>56.958333</td>\n",
       "    </tr>\n",
       "  </tbody>\n",
       "</table>\n",
       "</div>"
      ],
      "text/plain": [
       "                     num_orders  dayofweek  hour  lag_1  rolling_mean\n",
       "datetime                                                             \n",
       "2018-03-02 00:00:00          90          4     0   58.0     56.833333\n",
       "2018-03-02 01:00:00         120          4     1   90.0     55.416667\n",
       "2018-03-02 02:00:00          75          4     2  120.0     56.875000\n",
       "2018-03-02 03:00:00          64          4     3   75.0     57.041667\n",
       "2018-03-02 04:00:00          20          4     4   64.0     56.958333"
      ]
     },
     "execution_count": 18,
     "metadata": {},
     "output_type": "execute_result"
    }
   ],
   "source": [
    "train_trad = train.dropna() # dropping missing values\n",
    "train_trad.head() #  checking the result"
   ]
  },
  {
   "cell_type": "markdown",
   "id": "e8c4d11f",
   "metadata": {},
   "source": [
    "Let's separate the target in each sample:"
   ]
  },
  {
   "cell_type": "code",
   "execution_count": 19,
   "id": "333c0466",
   "metadata": {},
   "outputs": [],
   "source": [
    "# separating the target  from the features\n",
    "target_train = train['num_orders']\n",
    "features_train = train.drop(columns=['num_orders'])\n",
    "target_train_trad = train_trad['num_orders']\n",
    "features_train_trad = train_trad.drop(columns=['num_orders'])\n",
    "target_test = test['num_orders']\n",
    "features_test = test.drop(columns=['num_orders'])\n"
   ]
  },
  {
   "cell_type": "markdown",
   "id": "f41a7f93",
   "metadata": {},
   "source": [
    "**Conclusions:**\n",
    "\n",
    "So, we have carried out a special preprocessing of the dataframe, which will allow us to build, fit models and get predictions. It's time to move on to choosing the best of them by searching for optimal hyperparameters."
   ]
  },
  {
   "cell_type": "markdown",
   "id": "976f6a8a",
   "metadata": {},
   "source": [
    "## Models\n",
    "\n",
    "### Traditional Models\n",
    "\n",
    "So our goal is to predict the number of orders for the next hour and adjust the number of available taxis accordingly. There can be many answers to this question, these will be specific numbers, so our target feature is quantitative, and we are solving a regression problem.\n",
    "To solve this problem, we will test 2 traditional models: random forest and linear regression. We will check the quality of training by cross-validation, estimating the square root of the mean squared error (RMSE). According to the assignment, this metric should not exceed the value of 48.\n",
    "The results will be presented in a pivot table."
   ]
  },
  {
   "cell_type": "code",
   "execution_count": 20,
   "id": "6ca6a711",
   "metadata": {},
   "outputs": [],
   "source": [
    "models = ['linear regression', 'random forest', 'catboost', 'lgbm'] # creating a list of models\n",
    "rmse = [] # creating an empty list for rmse resultys\n"
   ]
  },
  {
   "cell_type": "markdown",
   "id": "6e7061b6",
   "metadata": {},
   "source": [
    "Let's start with the linear regression but first we shall define a function to calculate the selected quality metrics:"
   ]
  },
  {
   "cell_type": "code",
   "execution_count": 21,
   "id": "44d82f53",
   "metadata": {},
   "outputs": [],
   "source": [
    "# defining a function to calculate RMSE\n",
    "def RMSE(target,predictions):\n",
    "    MSE = mean_squared_error(target, predictions)\n",
    "    return MSE ** 0.5\n",
    "RMSE_score = make_scorer(RMSE, greater_is_better=False)"
   ]
  },
  {
   "cell_type": "code",
   "execution_count": 22,
   "id": "17360498",
   "metadata": {},
   "outputs": [
    {
     "name": "stdout",
     "output_type": "stream",
     "text": [
      "RSME of the best linear regression is -31.324746747745746 with the following hyperparameters {'normalize': True, 'fit_intercept': False}\n"
     ]
    }
   ],
   "source": [
    "model = LinearRegression()  # creating a model\n",
    "param_distributions = {'fit_intercept': [True, False], 'normalize': [True, False]}  #  setting the parameters\n",
    "tscv = TimeSeriesSplit(n_splits=8) # setting the number of folds for time series cross validation\n",
    "grid_linear_r = RandomizedSearchCV(model, param_distributions, scoring = RMSE_score, cv=tscv, n_jobs=-1) # creating a  RandomSearchCV\n",
    "grid_linear_r.fit(features_train_trad, target_train_trad) #  fitting the model\n",
    "print('RSME of the best linear regression is', (grid_linear_r.best_score_), 'with the following hyperparameters', grid_linear_r.best_params_) # displaying the best result\n",
    "\n"
   ]
  },
  {
   "cell_type": "markdown",
   "id": "67a510a5",
   "metadata": {},
   "source": [
    "Thus, we have found the best linear regression hyperparameters on the training set. Now let's check the quality of the predictions on the test set."
   ]
  },
  {
   "cell_type": "code",
   "execution_count": 23,
   "id": "b2081d1f",
   "metadata": {},
   "outputs": [
    {
     "data": {
      "text/plain": [
       "51.10828356992224"
      ]
     },
     "execution_count": 23,
     "metadata": {},
     "output_type": "execute_result"
    }
   ],
   "source": [
    "model =  LinearRegression(normalize=True, fit_intercept=False)  # creating a model\n",
    "model.fit(features_train_trad, target_train_trad) # fitting the model\n",
    "predictions = model.predict(features_test) # predicting the target\n",
    "rmse_linear_regression = RMSE(target_test, predictions) # calculating RMSE\n",
    "rmse.append(rmse_linear_regression) # appending rmse to the list\n",
    "rmse_linear_regression"
   ]
  },
  {
   "cell_type": "markdown",
   "id": "7b7beae9",
   "metadata": {},
   "source": [
    "Both fitting and predicting of the  linear regression are quite fast. The result of the prediction quality on the training sample is very high, but on the test sample it is much lower (apparently, the model has been retrained) and, in any case, the square root of the mean squared error is too high - it exceeds the set threshold of 48. Therefore, this model does not fit us.\n",
    "\n",
    "Next, we will try  a traditionally fairly accurate but slow random forest model:"
   ]
  },
  {
   "cell_type": "code",
   "execution_count": 24,
   "id": "ef55aee8",
   "metadata": {},
   "outputs": [
    {
     "name": "stdout",
     "output_type": "stream",
     "text": [
      "RSME of the best random forest is -24.878786885681663 with the following hyperparameters {'n_estimators': 70, 'max_depth': 10}\n"
     ]
    }
   ],
   "source": [
    "model = RandomForestRegressor(random_state=12345) #  creating a model\n",
    "tscv = TimeSeriesSplit(n_splits=8) # setting the number of folds for time series cross validation\n",
    "param_distributions = {'n_estimators': range (10, 110, 10), 'max_depth': range (1,11)}   #  setting the parameters\n",
    "grid_forest_r = RandomizedSearchCV(model, param_distributions, scoring=RMSE_score, cv=tscv, n_jobs=-1) # creating a  RandomSearchCV\n",
    "grid_forest_r.fit(features_train_trad, target_train_trad) #  fitting the model\n",
    "print('RSME of the best random forest is', grid_forest_r.best_score_, 'with the following hyperparameters', grid_forest_r.best_params_ ) # displaying the best result\n"
   ]
  },
  {
   "cell_type": "markdown",
   "id": "ee0886fc",
   "metadata": {},
   "source": [
    "The optimal random forest parameters for our data have been found. Now let's test its quality on test data:"
   ]
  },
  {
   "cell_type": "code",
   "execution_count": 25,
   "id": "454a6a8e",
   "metadata": {},
   "outputs": [
    {
     "data": {
      "text/plain": [
       "47.58075821423484"
      ]
     },
     "execution_count": 25,
     "metadata": {},
     "output_type": "execute_result"
    }
   ],
   "source": [
    "model =  RandomForestRegressor(random_state=12345, n_estimators=100, max_depth=9)  # creating a model\n",
    "model.fit(features_train_trad, target_train_trad) # fitting the model\n",
    "predictions = model.predict(features_test) # predicting the target\n",
    "rmse_random_forest = RMSE(target_test, predictions) # calculating RMSE\n",
    "rmse.append(rmse_random_forest) # appending rmse to the list\n",
    "rmse_random_forest"
   ]
  },
  {
   "cell_type": "markdown",
   "id": "7982273d",
   "metadata": {},
   "source": [
    "So, in this case, the model learned and predicted the target feature fairly quickly. As in the previous case, the quality metric of random forest predictions on the training sample is much higher than on the test sample, however, the resulting value already satisfies the threshold set in the task."
   ]
  },
  {
   "cell_type": "markdown",
   "id": "225da097",
   "metadata": {},
   "source": [
    "### Gradient Boosting\n",
    "\n",
    "Next, we will test the gradient boosting models. We know that they themselves are able to handle NaNs, so we will train them on a sample containing NaNs. Let's start with CatBoost:"
   ]
  },
  {
   "cell_type": "code",
   "execution_count": 26,
   "id": "9ff7f955",
   "metadata": {},
   "outputs": [
    {
     "name": "stdout",
     "output_type": "stream",
     "text": [
      "0:\tlearn: 36.8218796\ttotal: 128ms\tremaining: 11.4s\n",
      "10:\tlearn: 26.8219519\ttotal: 210ms\tremaining: 1.51s\n",
      "20:\tlearn: 23.8449070\ttotal: 287ms\tremaining: 943ms\n",
      "30:\tlearn: 22.6263296\ttotal: 365ms\tremaining: 694ms\n",
      "40:\tlearn: 21.8954860\ttotal: 440ms\tremaining: 526ms\n",
      "50:\tlearn: 21.1119413\ttotal: 513ms\tremaining: 393ms\n",
      "60:\tlearn: 20.5648969\ttotal: 577ms\tremaining: 274ms\n",
      "70:\tlearn: 20.1690804\ttotal: 661ms\tremaining: 177ms\n",
      "80:\tlearn: 19.7214588\ttotal: 770ms\tremaining: 85.5ms\n",
      "89:\tlearn: 19.3174010\ttotal: 855ms\tremaining: 0us\n",
      "RSME of the best Catboost is -24.49762522976986 with the following hyperparameters {'max_depth': 9, 'learning_rate': 0.1, 'iterations': 90}\n"
     ]
    }
   ],
   "source": [
    "model = CatBoostRegressor(random_seed=12345) #  creating a model\n",
    "tscv = TimeSeriesSplit(n_splits=8) # setting the number of folds for time series cross validation\n",
    "param_distributions = {'iterations': range (10, 110, 10), 'max_depth': range (1,11), 'learning_rate': [0.1, 0.2, 0.3]}   #  setting the parameters\n",
    "clf_b = RandomizedSearchCV(model, param_distributions, scoring=RMSE_score, cv=tscv, n_jobs=-1) # creating a  RandomSearchCV\n",
    "clf_b.fit(features_train, target_train,  verbose=10) # fitting the model\n",
    "print('RSME of the best Catboost is', clf_b.best_score_, 'with the following hyperparameters', clf_b.best_params_ ) # displaying the best result\n"
   ]
  },
  {
   "cell_type": "code",
   "execution_count": 27,
   "id": "e44a5f03",
   "metadata": {},
   "outputs": [
    {
     "name": "stdout",
     "output_type": "stream",
     "text": [
      "0:\tlearn: 33.6911232\ttotal: 7.77ms\tremaining: 458ms\n",
      "10:\tlearn: 23.9785638\ttotal: 34.2ms\tremaining: 152ms\n",
      "20:\tlearn: 22.1312639\ttotal: 54.3ms\tremaining: 101ms\n",
      "30:\tlearn: 21.1185669\ttotal: 69ms\tremaining: 64.6ms\n",
      "40:\tlearn: 20.3257513\ttotal: 87.4ms\tremaining: 40.5ms\n",
      "50:\tlearn: 19.6199876\ttotal: 102ms\tremaining: 18.1ms\n",
      "59:\tlearn: 19.0943358\ttotal: 132ms\tremaining: 0us\n"
     ]
    },
    {
     "data": {
      "text/plain": [
       "45.15194748653677"
      ]
     },
     "execution_count": 27,
     "metadata": {},
     "output_type": "execute_result"
    }
   ],
   "source": [
    "model =  CatBoostRegressor(random_seed=12345, max_depth=6, learning_rate=0.3, iterations=60)  # creating a model\n",
    "model.fit(features_train, target_train,  verbose=10) # fitting the model\n",
    "predictions = model.predict(features_test) # predicting the target\n",
    "rmse_catboost = RMSE(target_test, predictions) # calculating RMSE\n",
    "rmse.append(rmse_catboost) # appending rmse to the list\n",
    "rmse_catboost"
   ]
  },
  {
   "cell_type": "markdown",
   "id": "c5ee5672",
   "metadata": {},
   "source": [
    "The results of CatBoost show the same trend as in traditional machine learning models: on the training sample, the value of the square root of the mean squared error is almost two times less than on the test sample. However, this time the result is even less than 48, so this model suits us.\n",
    "Next, let's test the last model in our list -LGBM:"
   ]
  },
  {
   "cell_type": "code",
   "execution_count": 28,
   "id": "509b164f",
   "metadata": {},
   "outputs": [
    {
     "name": "stdout",
     "output_type": "stream",
     "text": [
      "RSME of the best LGBM is -24.580930924973586 with the following parameters {'num_leaves': 31, 'n_estimators': 30, 'max_depth': 8, 'learning_rate': 0.3}\n"
     ]
    }
   ],
   "source": [
    "model =  LGBMRegressor(random_seed=12345) # creating a model\n",
    "tscv = TimeSeriesSplit(n_splits=8) # setting the number of folds for time series cross validation\n",
    "param_distributions = {'n_estimators': range (10, 110, 10), 'num_leaves': [10,20,31], 'max_depth': range (1,11), 'learning_rate': [0.1, 0.2, 0.3]}   #  setting the parameters\n",
    "clf_l = RandomizedSearchCV(model, param_distributions, scoring=RMSE_score, cv=tscv, n_jobs=-1) # creating a  RandomSearchCV\n",
    "clf_l.fit(features_train, target_train) #  fitting the model\n",
    "print('RSME of the best LGBM is', clf_l.best_score_, 'with the following parameters', clf_l.best_params_ ) # displaying the best result\n",
    "\n"
   ]
  },
  {
   "cell_type": "code",
   "execution_count": 29,
   "id": "867cdaa0",
   "metadata": {},
   "outputs": [
    {
     "data": {
      "text/plain": [
       "43.64579374389063"
      ]
     },
     "execution_count": 29,
     "metadata": {},
     "output_type": "execute_result"
    }
   ],
   "source": [
    "model =  LGBMRegressor(random_seed=12345, num_leaves = 10, max_depth=5, learning_rate=0.3, n_estimators=60)  # creating a model\n",
    "model.fit(features_train, target_train) # fitting the model\n",
    "predictions = model.predict(features_test) # predicting the target\n",
    "rmse_lgbm = RMSE(target_test, predictions) # calculating RMSE\n",
    "rmse.append(rmse_lgbm) # appending rmse to the list\n",
    "rmse_lgbm"
   ]
  },
  {
   "cell_type": "markdown",
   "id": "9de52d43",
   "metadata": {},
   "source": [
    "So, in terms of fitting rate and quality of predictions on the training sample, the results of both gradient boosting models are comparable. However, LGBM showed a slightly better result than CatBoost, and the best among all models."
   ]
  },
  {
   "cell_type": "markdown",
   "id": "c8cb8eed",
   "metadata": {},
   "source": [
    "So, before making the final choice, we will compile a summary table for all models, and also compare the results of the leader with the baseline models."
   ]
  },
  {
   "cell_type": "code",
   "execution_count": 30,
   "id": "ad91241e",
   "metadata": {},
   "outputs": [
    {
     "data": {
      "text/html": [
       "<div>\n",
       "<style scoped>\n",
       "    .dataframe tbody tr th:only-of-type {\n",
       "        vertical-align: middle;\n",
       "    }\n",
       "\n",
       "    .dataframe tbody tr th {\n",
       "        vertical-align: top;\n",
       "    }\n",
       "\n",
       "    .dataframe thead th {\n",
       "        text-align: right;\n",
       "    }\n",
       "</style>\n",
       "<table border=\"1\" class=\"dataframe\">\n",
       "  <thead>\n",
       "    <tr style=\"text-align: right;\">\n",
       "      <th></th>\n",
       "      <th>rmse</th>\n",
       "    </tr>\n",
       "  </thead>\n",
       "  <tbody>\n",
       "    <tr>\n",
       "      <th>linear regression</th>\n",
       "      <td>51.108284</td>\n",
       "    </tr>\n",
       "    <tr>\n",
       "      <th>random forest</th>\n",
       "      <td>47.580758</td>\n",
       "    </tr>\n",
       "    <tr>\n",
       "      <th>catboost</th>\n",
       "      <td>45.151947</td>\n",
       "    </tr>\n",
       "    <tr>\n",
       "      <th>lgbm</th>\n",
       "      <td>43.645794</td>\n",
       "    </tr>\n",
       "  </tbody>\n",
       "</table>\n",
       "</div>"
      ],
      "text/plain": [
       "                        rmse\n",
       "linear regression  51.108284\n",
       "random forest      47.580758\n",
       "catboost           45.151947\n",
       "lgbm               43.645794"
      ]
     },
     "execution_count": 30,
     "metadata": {},
     "output_type": "execute_result"
    }
   ],
   "source": [
    "Models = pd.DataFrame({'rmse': rmse}, index=models) # creating a summary df on all tested models\n",
    "Models\n"
   ]
  },
  {
   "cell_type": "markdown",
   "id": "1d23b466",
   "metadata": {},
   "source": [
    "Let's use two strategies for building a baseline model and compare the results with the results of LGBM:\n",
    "* all values of the test sample will be predicted by the same number (arithmetic mean);\n",
    "* the new value of x(t) is predicted by the previous value of the series, i.e. x(t-1)."
   ]
  },
  {
   "cell_type": "code",
   "execution_count": 31,
   "id": "2b2cd0d4",
   "metadata": {},
   "outputs": [],
   "source": [
    "dummy_regr_r = DummyRegressor(strategy=\"mean\") # сcreating a baseline model\n",
    "dummy_regr_r.fit(features_train, target_train) # fitting it\n",
    "dummy_predictions = dummy_regr_r.predict(features_test) # predicting the target"
   ]
  },
  {
   "cell_type": "code",
   "execution_count": 32,
   "id": "8e5b7f95",
   "metadata": {},
   "outputs": [
    {
     "data": {
      "text/plain": [
       "84.74414402014742"
      ]
     },
     "execution_count": 32,
     "metadata": {},
     "output_type": "execute_result"
    }
   ],
   "source": [
    "rmse_dummy = RMSE(target_test, dummy_predictions) # calculating RMSE\n",
    "rmse_dummy"
   ]
  },
  {
   "cell_type": "code",
   "execution_count": 33,
   "id": "3f0c0a7a",
   "metadata": {},
   "outputs": [],
   "source": [
    "pred_previous = target_test.shift() # with the use of shift filling in each observation with the previous one\n",
    "pred_previous.iloc[0] = target_train.iloc[len(target_train)-1] # filling in the first observation with the last one of the train sample"
   ]
  },
  {
   "cell_type": "code",
   "execution_count": 34,
   "id": "9803e1f8",
   "metadata": {},
   "outputs": [
    {
     "data": {
      "text/plain": [
       "58.856486242815066"
      ]
     },
     "execution_count": 34,
     "metadata": {},
     "output_type": "execute_result"
    }
   ],
   "source": [
    "rmse_previous = RMSE(target_test, pred_previous) # calculating RMSE\n",
    "rmse_previous"
   ]
  },
  {
   "cell_type": "markdown",
   "id": "34dabab9",
   "metadata": {},
   "source": [
    "So, the baseline model showed different from all other models, and most importantly, the worst results.\n",
    "Next, we will graphically display the predictions of the best model and the actual values of the target feature. Let's select values for only a few days, so that the plot is clear:"
   ]
  },
  {
   "cell_type": "code",
   "execution_count": 35,
   "id": "6f14de9a",
   "metadata": {},
   "outputs": [
    {
     "data": {
      "image/png": "[encoded data removed]",
      "text/plain": [
       "<Figure size 1152x576 with 1 Axes>"
      ]
     },
     "metadata": {
      "needs_background": "light"
     },
     "output_type": "display_data"
    }
   ],
   "source": [
    "# plotting the real target values and the predicted ones\n",
    "graph = target_test.copy()\n",
    "predictions_taxi = pd.DataFrame(data = predictions, columns = ['predictions'], index = target_test.index.copy())\n",
    "df_to_plot = pd.merge(graph, predictions_taxi, how = 'left', left_index = True, right_index = True)\n",
    "df_to_plot['predictions'] = df_to_plot['predictions'].astype('int64')\n",
    "df_to_plot['2018-08-14':'2018-08-16'].plot(figsize=(16,8), title='Comprarison Between Real Number of Orders and the Predicted Ones');\n"
   ]
  },
  {
   "cell_type": "markdown",
   "id": "ddb1e61f",
   "metadata": {},
   "source": [
    "So, the prediction line appears to be smoother than the real values line: our model is not so good at predicting sharp declines and increases in the number of orders, but, nevertheless, follows the trend of real values.\n",
    "Nevertheless, the selected model reaches the established quality threshold, it is adequate, therefore, it can go into production."
   ]
  },
  {
   "cell_type": "markdown",
   "id": "e2fd5632",
   "metadata": {},
   "source": [
    "## Study Results\n",
    "In the course of this study, we prepared and analyzed the data, added features for predicting time series, created 2 samples with and without missing valuesfor 2 groups of regression models, respectively.\n",
    "\n",
    "We checked the results of model training by cross-validation, choosing the optimal hyperparameters.\n",
    "According to the results of the comparison, it turned out that  ** the gradient boosting, namely, LGBM predicts most qualitatively  the number of orders for the next hour in our sample (with a minimum value of RMSE equal to about 43.6 - below the established threshold).**\n",
    "\n",
    "Perhaps the result would be even better if we applied alternative regression models not yet known to us, and also if we passed different arguments to the feature creation function for time series prediction."
   ]
  }
 ],
 "metadata": {
  "ExecuteTimeLog": [
   {
    "duration": 667,
    "start_time": "2022-03-08T15:34:14.246Z"
   },
   {
    "duration": 44,
    "start_time": "2022-03-08T15:34:38.925Z"
   },
   {
    "duration": 40,
    "start_time": "2022-03-08T15:34:39.882Z"
   },
   {
    "duration": 55,
    "start_time": "2022-03-08T15:34:49.258Z"
   },
   {
    "duration": 55,
    "start_time": "2022-03-08T15:35:23.556Z"
   },
   {
    "duration": 17,
    "start_time": "2022-03-08T15:46:17.513Z"
   },
   {
    "duration": 14,
    "start_time": "2022-03-08T15:46:52.976Z"
   },
   {
    "duration": 56,
    "start_time": "2022-03-08T15:49:44.344Z"
   },
   {
    "duration": 31,
    "start_time": "2022-03-08T15:52:03.568Z"
   },
   {
    "duration": 21,
    "start_time": "2022-03-08T15:55:13.609Z"
   },
   {
    "duration": 15,
    "start_time": "2022-03-08T15:55:29.176Z"
   },
   {
    "duration": 13,
    "start_time": "2022-03-08T15:55:39.020Z"
   },
   {
    "duration": 12,
    "start_time": "2022-03-08T15:55:54.155Z"
   },
   {
    "duration": 32,
    "start_time": "2022-03-08T16:03:58.644Z"
   },
   {
    "duration": 13,
    "start_time": "2022-03-08T16:05:29.577Z"
   },
   {
    "duration": 357,
    "start_time": "2022-03-08T16:08:53.653Z"
   },
   {
    "duration": 28,
    "start_time": "2022-03-08T16:09:22.196Z"
   },
   {
    "duration": 245,
    "start_time": "2022-03-08T16:10:05.863Z"
   },
   {
    "duration": 26,
    "start_time": "2022-03-08T16:10:21.729Z"
   },
   {
    "duration": 24,
    "start_time": "2022-03-08T16:11:28.314Z"
   },
   {
    "duration": 15,
    "start_time": "2022-03-08T16:13:46.039Z"
   },
   {
    "duration": 22,
    "start_time": "2022-03-08T16:20:36.997Z"
   },
   {
    "duration": 22,
    "start_time": "2022-03-08T16:21:00.502Z"
   },
   {
    "duration": 20,
    "start_time": "2022-03-08T16:21:11.356Z"
   },
   {
    "duration": 21,
    "start_time": "2022-03-08T16:22:44.768Z"
   },
   {
    "duration": 18,
    "start_time": "2022-03-08T16:23:04.185Z"
   },
   {
    "duration": 61,
    "start_time": "2022-03-08T16:23:16.270Z"
   },
   {
    "duration": 20,
    "start_time": "2022-03-08T16:23:16.333Z"
   },
   {
    "duration": 10,
    "start_time": "2022-03-08T16:27:47.184Z"
   },
   {
    "duration": 10,
    "start_time": "2022-03-08T16:27:48.569Z"
   },
   {
    "duration": 23,
    "start_time": "2022-03-08T16:31:29.349Z"
   },
   {
    "duration": 29,
    "start_time": "2022-03-08T16:40:11.762Z"
   },
   {
    "duration": 13,
    "start_time": "2022-03-08T16:43:03.827Z"
   },
   {
    "duration": 16,
    "start_time": "2022-03-08T16:50:12.822Z"
   },
   {
    "duration": 12,
    "start_time": "2022-03-08T16:51:08.365Z"
   },
   {
    "duration": 15,
    "start_time": "2022-03-08T16:55:50.479Z"
   },
   {
    "duration": 25,
    "start_time": "2022-03-08T16:56:45.138Z"
   },
   {
    "duration": 37,
    "start_time": "2022-03-08T16:56:52.361Z"
   },
   {
    "duration": 41,
    "start_time": "2022-03-08T16:58:09.738Z"
   },
   {
    "duration": 4526,
    "start_time": "2022-03-08T17:00:42.767Z"
   },
   {
    "duration": 4486,
    "start_time": "2022-03-08T17:02:59.102Z"
   },
   {
    "duration": 58,
    "start_time": "2022-03-08T17:03:32.191Z"
   },
   {
    "duration": 62,
    "start_time": "2022-03-08T17:09:27.759Z"
   },
   {
    "duration": 21,
    "start_time": "2022-03-08T17:09:27.824Z"
   },
   {
    "duration": 30,
    "start_time": "2022-03-08T17:09:27.979Z"
   },
   {
    "duration": 14,
    "start_time": "2022-03-08T17:09:28.012Z"
   },
   {
    "duration": 78,
    "start_time": "2022-03-08T17:09:28.028Z"
   },
   {
    "duration": 5,
    "start_time": "2022-03-08T17:13:58.107Z"
   },
   {
    "duration": 6,
    "start_time": "2022-03-08T17:14:05.436Z"
   },
   {
    "duration": 6,
    "start_time": "2022-03-08T17:14:22.178Z"
   },
   {
    "duration": 61,
    "start_time": "2022-03-08T17:14:46.655Z"
   },
   {
    "duration": 21,
    "start_time": "2022-03-08T17:14:46.718Z"
   },
   {
    "duration": 36,
    "start_time": "2022-03-08T17:14:46.741Z"
   },
   {
    "duration": 13,
    "start_time": "2022-03-08T17:14:46.778Z"
   },
   {
    "duration": 82,
    "start_time": "2022-03-08T17:14:46.813Z"
   },
   {
    "duration": 7,
    "start_time": "2022-03-08T17:14:46.898Z"
   },
   {
    "duration": 190,
    "start_time": "2022-03-08T17:15:14.389Z"
   },
   {
    "duration": 11,
    "start_time": "2022-03-08T17:15:23.488Z"
   },
   {
    "duration": 12,
    "start_time": "2022-03-08T17:15:54.694Z"
   },
   {
    "duration": 12,
    "start_time": "2022-03-08T17:16:03.402Z"
   },
   {
    "duration": 8,
    "start_time": "2022-03-08T17:16:51.157Z"
   },
   {
    "duration": 12,
    "start_time": "2022-03-08T17:17:44.640Z"
   },
   {
    "duration": 19,
    "start_time": "2022-03-08T17:20:44.148Z"
   },
   {
    "duration": 743,
    "start_time": "2022-03-09T07:35:42.722Z"
   },
   {
    "duration": 18,
    "start_time": "2022-03-09T07:35:43.467Z"
   },
   {
    "duration": 23,
    "start_time": "2022-03-09T07:35:43.486Z"
   },
   {
    "duration": 11,
    "start_time": "2022-03-09T07:35:43.510Z"
   },
   {
    "duration": 80,
    "start_time": "2022-03-09T07:35:43.522Z"
   },
   {
    "duration": 14,
    "start_time": "2022-03-09T07:35:43.603Z"
   },
   {
    "duration": 197,
    "start_time": "2022-03-09T07:35:43.619Z"
   },
   {
    "duration": 55,
    "start_time": "2022-03-09T07:35:56.589Z"
   },
   {
    "duration": 18,
    "start_time": "2022-03-09T07:35:56.645Z"
   },
   {
    "duration": 39,
    "start_time": "2022-03-09T07:35:56.665Z"
   },
   {
    "duration": 10,
    "start_time": "2022-03-09T07:35:56.706Z"
   },
   {
    "duration": 58,
    "start_time": "2022-03-09T07:35:56.718Z"
   },
   {
    "duration": 35,
    "start_time": "2022-03-09T07:35:56.777Z"
   },
   {
    "duration": 16,
    "start_time": "2022-03-09T07:35:56.814Z"
   },
   {
    "duration": 5,
    "start_time": "2022-03-09T08:00:43.756Z"
   },
   {
    "duration": 1428,
    "start_time": "2022-03-09T08:12:01.438Z"
   },
   {
    "duration": 149,
    "start_time": "2022-03-09T08:12:24.028Z"
   },
   {
    "duration": 162,
    "start_time": "2022-03-09T08:12:38.873Z"
   },
   {
    "duration": 157,
    "start_time": "2022-03-09T08:13:22.396Z"
   },
   {
    "duration": 161,
    "start_time": "2022-03-09T08:14:13.402Z"
   },
   {
    "duration": 66,
    "start_time": "2022-03-09T08:14:48.413Z"
   },
   {
    "duration": 19,
    "start_time": "2022-03-09T08:14:48.481Z"
   },
   {
    "duration": 25,
    "start_time": "2022-03-09T08:14:48.502Z"
   },
   {
    "duration": 12,
    "start_time": "2022-03-09T08:14:48.529Z"
   },
   {
    "duration": 83,
    "start_time": "2022-03-09T08:14:48.543Z"
   },
   {
    "duration": 14,
    "start_time": "2022-03-09T08:14:48.628Z"
   },
   {
    "duration": 25,
    "start_time": "2022-03-09T08:14:48.643Z"
   },
   {
    "duration": 201,
    "start_time": "2022-03-09T08:14:48.670Z"
   },
   {
    "duration": 1230,
    "start_time": "2022-03-09T08:15:41.094Z"
   },
   {
    "duration": 179,
    "start_time": "2022-03-09T08:23:47.339Z"
   },
   {
    "duration": 19,
    "start_time": "2022-03-09T08:25:32.427Z"
   },
   {
    "duration": 19,
    "start_time": "2022-03-09T08:25:57.332Z"
   },
   {
    "duration": 331,
    "start_time": "2022-03-09T09:38:33.598Z"
   },
   {
    "duration": 293,
    "start_time": "2022-03-09T09:38:43.072Z"
   },
   {
    "duration": 16,
    "start_time": "2022-03-09T09:38:59.531Z"
   },
   {
    "duration": 15,
    "start_time": "2022-03-09T09:39:02.904Z"
   },
   {
    "duration": 25,
    "start_time": "2022-03-09T09:39:24.812Z"
   },
   {
    "duration": 11,
    "start_time": "2022-03-09T09:42:07.475Z"
   },
   {
    "duration": 93,
    "start_time": "2022-03-09T09:42:24.726Z"
   },
   {
    "duration": 761,
    "start_time": "2022-03-09T09:42:34.730Z"
   },
   {
    "duration": 769,
    "start_time": "2022-03-09T09:42:47.259Z"
   },
   {
    "duration": 814,
    "start_time": "2022-03-09T09:43:02.898Z"
   },
   {
    "duration": 295,
    "start_time": "2022-03-09T09:43:25.199Z"
   },
   {
    "duration": 35,
    "start_time": "2022-03-09T09:43:38.341Z"
   },
   {
    "duration": 11,
    "start_time": "2022-03-09T09:48:54.516Z"
   },
   {
    "duration": 11,
    "start_time": "2022-03-09T09:49:05.247Z"
   },
   {
    "duration": 23,
    "start_time": "2022-03-09T09:49:26.359Z"
   },
   {
    "duration": 12,
    "start_time": "2022-03-09T09:51:52.412Z"
   },
   {
    "duration": 12,
    "start_time": "2022-03-09T09:52:02.595Z"
   },
   {
    "duration": 105,
    "start_time": "2022-03-09T09:52:51.862Z"
   },
   {
    "duration": 308,
    "start_time": "2022-03-09T09:53:01.865Z"
   },
   {
    "duration": 13,
    "start_time": "2022-03-09T09:54:14.933Z"
   },
   {
    "duration": 7454,
    "start_time": "2022-03-09T09:58:38.132Z"
   },
   {
    "duration": 78,
    "start_time": "2022-03-09T09:59:05.667Z"
   },
   {
    "duration": 26,
    "start_time": "2022-03-09T09:59:05.747Z"
   },
   {
    "duration": 36,
    "start_time": "2022-03-09T09:59:05.775Z"
   },
   {
    "duration": 12,
    "start_time": "2022-03-09T09:59:05.812Z"
   },
   {
    "duration": 86,
    "start_time": "2022-03-09T09:59:05.825Z"
   },
   {
    "duration": 16,
    "start_time": "2022-03-09T09:59:05.913Z"
   },
   {
    "duration": 18,
    "start_time": "2022-03-09T09:59:05.930Z"
   },
   {
    "duration": 50,
    "start_time": "2022-03-09T09:59:05.951Z"
   },
   {
    "duration": 11,
    "start_time": "2022-03-09T09:59:06.003Z"
   },
   {
    "duration": 33,
    "start_time": "2022-03-09T10:00:09.487Z"
   },
   {
    "duration": 119,
    "start_time": "2022-03-09T10:03:33.655Z"
   },
   {
    "duration": 18,
    "start_time": "2022-03-09T10:03:40.220Z"
   },
   {
    "duration": 17,
    "start_time": "2022-03-09T10:04:35.617Z"
   },
   {
    "duration": 28,
    "start_time": "2022-03-09T10:14:33.587Z"
   },
   {
    "duration": 40,
    "start_time": "2022-03-09T10:15:53.935Z"
   },
   {
    "duration": 60,
    "start_time": "2022-03-09T10:17:04.751Z"
   },
   {
    "duration": 57,
    "start_time": "2022-03-09T10:24:01.931Z"
   },
   {
    "duration": 137,
    "start_time": "2022-03-09T10:26:10.605Z"
   },
   {
    "duration": 69,
    "start_time": "2022-03-09T10:26:25.196Z"
   },
   {
    "duration": 58,
    "start_time": "2022-03-09T10:26:47.064Z"
   },
   {
    "duration": 61,
    "start_time": "2022-03-09T10:29:04.203Z"
   },
   {
    "duration": 58,
    "start_time": "2022-03-09T10:29:58.009Z"
   },
   {
    "duration": 60,
    "start_time": "2022-03-09T10:32:55.491Z"
   },
   {
    "duration": 7545,
    "start_time": "2022-03-09T10:43:37.987Z"
   },
   {
    "duration": 56,
    "start_time": "2022-03-09T10:44:08.219Z"
   },
   {
    "duration": 17,
    "start_time": "2022-03-09T10:44:08.277Z"
   },
   {
    "duration": 25,
    "start_time": "2022-03-09T10:44:08.296Z"
   },
   {
    "duration": 11,
    "start_time": "2022-03-09T10:44:08.323Z"
   },
   {
    "duration": 88,
    "start_time": "2022-03-09T10:44:08.336Z"
   },
   {
    "duration": 15,
    "start_time": "2022-03-09T10:44:08.425Z"
   },
   {
    "duration": 20,
    "start_time": "2022-03-09T10:44:08.442Z"
   },
   {
    "duration": 48,
    "start_time": "2022-03-09T10:44:08.464Z"
   },
   {
    "duration": 90,
    "start_time": "2022-03-09T10:44:08.514Z"
   },
   {
    "duration": 113,
    "start_time": "2022-03-09T10:57:53.322Z"
   },
   {
    "duration": 662,
    "start_time": "2022-03-09T15:12:32.045Z"
   },
   {
    "duration": 21,
    "start_time": "2022-03-09T15:21:47.294Z"
   },
   {
    "duration": 19,
    "start_time": "2022-03-09T15:27:57.697Z"
   },
   {
    "duration": 62,
    "start_time": "2022-03-09T15:28:05.579Z"
   },
   {
    "duration": 18,
    "start_time": "2022-03-09T15:28:05.643Z"
   },
   {
    "duration": 28,
    "start_time": "2022-03-09T15:28:05.663Z"
   },
   {
    "duration": 11,
    "start_time": "2022-03-09T15:28:05.693Z"
   },
   {
    "duration": 100,
    "start_time": "2022-03-09T15:28:05.706Z"
   },
   {
    "duration": 37,
    "start_time": "2022-03-09T15:28:05.808Z"
   },
   {
    "duration": 20,
    "start_time": "2022-03-09T15:28:05.847Z"
   },
   {
    "duration": 20,
    "start_time": "2022-03-09T15:28:05.869Z"
   },
   {
    "duration": 99,
    "start_time": "2022-03-09T15:28:05.891Z"
   },
   {
    "duration": 62,
    "start_time": "2022-03-09T16:02:55.436Z"
   },
   {
    "duration": 54,
    "start_time": "2022-03-09T16:09:56.757Z"
   },
   {
    "duration": 55,
    "start_time": "2022-03-09T16:10:23.085Z"
   },
   {
    "duration": 64,
    "start_time": "2022-03-09T16:10:45.660Z"
   },
   {
    "duration": 62,
    "start_time": "2022-03-09T16:10:54.414Z"
   },
   {
    "duration": 49,
    "start_time": "2022-03-09T16:11:12.138Z"
   },
   {
    "duration": 53,
    "start_time": "2022-03-09T16:11:26.730Z"
   },
   {
    "duration": 69,
    "start_time": "2022-03-09T16:13:02.845Z"
   },
   {
    "duration": 52,
    "start_time": "2022-03-09T16:14:43.797Z"
   },
   {
    "duration": 56,
    "start_time": "2022-03-09T16:15:18.751Z"
   },
   {
    "duration": 50,
    "start_time": "2022-03-09T16:15:30.432Z"
   },
   {
    "duration": 51,
    "start_time": "2022-03-09T16:15:35.276Z"
   },
   {
    "duration": 281,
    "start_time": "2022-03-09T16:16:57.235Z"
   },
   {
    "duration": 48,
    "start_time": "2022-03-09T16:17:04.936Z"
   },
   {
    "duration": 67,
    "start_time": "2022-03-09T16:17:34.450Z"
   },
   {
    "duration": 105,
    "start_time": "2022-03-09T16:43:34.459Z"
   },
   {
    "duration": 15,
    "start_time": "2022-03-09T16:53:12.332Z"
   },
   {
    "duration": 9,
    "start_time": "2022-03-09T16:56:23.830Z"
   },
   {
    "duration": 21,
    "start_time": "2022-03-09T17:07:16.034Z"
   },
   {
    "duration": 58,
    "start_time": "2022-03-09T17:20:04.571Z"
   },
   {
    "duration": 205,
    "start_time": "2022-03-09T17:28:10.818Z"
   },
   {
    "duration": 60,
    "start_time": "2022-03-09T17:28:37.253Z"
   },
   {
    "duration": 14,
    "start_time": "2022-03-09T17:28:37.314Z"
   },
   {
    "duration": 8,
    "start_time": "2022-03-09T17:28:37.330Z"
   },
   {
    "duration": 20,
    "start_time": "2022-03-09T17:28:37.340Z"
   },
   {
    "duration": 16,
    "start_time": "2022-03-09T17:28:37.361Z"
   },
   {
    "duration": 98,
    "start_time": "2022-03-09T17:28:37.379Z"
   },
   {
    "duration": 16,
    "start_time": "2022-03-09T17:28:37.479Z"
   },
   {
    "duration": 49,
    "start_time": "2022-03-09T17:28:37.497Z"
   },
   {
    "duration": 22,
    "start_time": "2022-03-09T17:28:37.548Z"
   },
   {
    "duration": 93,
    "start_time": "2022-03-09T17:28:37.571Z"
   },
   {
    "duration": 654,
    "start_time": "2022-03-10T08:27:02.883Z"
   },
   {
    "duration": 14,
    "start_time": "2022-03-10T08:27:03.538Z"
   },
   {
    "duration": 10,
    "start_time": "2022-03-10T08:27:03.554Z"
   },
   {
    "duration": 36,
    "start_time": "2022-03-10T08:27:03.566Z"
   },
   {
    "duration": 17,
    "start_time": "2022-03-10T08:27:03.603Z"
   },
   {
    "duration": 96,
    "start_time": "2022-03-10T08:27:03.622Z"
   },
   {
    "duration": 14,
    "start_time": "2022-03-10T08:27:03.720Z"
   },
   {
    "duration": 14,
    "start_time": "2022-03-10T08:27:03.736Z"
   },
   {
    "duration": 19,
    "start_time": "2022-03-10T08:27:03.751Z"
   },
   {
    "duration": 438,
    "start_time": "2022-03-10T08:27:03.771Z"
   },
   {
    "duration": 96,
    "start_time": "2022-03-10T08:27:53.724Z"
   },
   {
    "duration": 15,
    "start_time": "2022-03-10T08:28:19.883Z"
   },
   {
    "duration": 21,
    "start_time": "2022-03-10T08:29:21.248Z"
   },
   {
    "duration": 14,
    "start_time": "2022-03-10T08:29:37.885Z"
   },
   {
    "duration": 21,
    "start_time": "2022-03-10T08:33:12.109Z"
   },
   {
    "duration": 7446,
    "start_time": "2022-03-10T08:47:53.539Z"
   },
   {
    "duration": 34,
    "start_time": "2022-03-10T08:55:56.335Z"
   },
   {
    "duration": 63,
    "start_time": "2022-03-10T08:56:03.508Z"
   },
   {
    "duration": 12,
    "start_time": "2022-03-10T08:56:03.573Z"
   },
   {
    "duration": 8,
    "start_time": "2022-03-10T08:56:03.587Z"
   },
   {
    "duration": 18,
    "start_time": "2022-03-10T08:56:03.624Z"
   },
   {
    "duration": 16,
    "start_time": "2022-03-10T08:56:03.644Z"
   },
   {
    "duration": 32,
    "start_time": "2022-03-10T08:56:03.662Z"
   },
   {
    "duration": 37,
    "start_time": "2022-03-10T08:56:03.696Z"
   },
   {
    "duration": 14,
    "start_time": "2022-03-10T08:56:03.734Z"
   },
   {
    "duration": 21,
    "start_time": "2022-03-10T08:56:03.749Z"
   },
   {
    "duration": 45,
    "start_time": "2022-03-10T08:56:03.771Z"
   },
   {
    "duration": 63,
    "start_time": "2022-03-10T08:56:03.818Z"
   },
   {
    "duration": 7627,
    "start_time": "2022-03-10T08:57:53.559Z"
   },
   {
    "duration": 43,
    "start_time": "2022-03-10T08:59:08.955Z"
   },
   {
    "duration": 62,
    "start_time": "2022-03-10T08:59:18.078Z"
   },
   {
    "duration": 11,
    "start_time": "2022-03-10T08:59:18.142Z"
   },
   {
    "duration": 7,
    "start_time": "2022-03-10T08:59:18.155Z"
   },
   {
    "duration": 39,
    "start_time": "2022-03-10T08:59:18.163Z"
   },
   {
    "duration": 22,
    "start_time": "2022-03-10T08:59:18.204Z"
   },
   {
    "duration": 36,
    "start_time": "2022-03-10T08:59:18.228Z"
   },
   {
    "duration": 59,
    "start_time": "2022-03-10T08:59:18.266Z"
   },
   {
    "duration": 13,
    "start_time": "2022-03-10T08:59:18.326Z"
   },
   {
    "duration": 17,
    "start_time": "2022-03-10T08:59:18.341Z"
   },
   {
    "duration": 52,
    "start_time": "2022-03-10T08:59:18.359Z"
   },
   {
    "duration": 62,
    "start_time": "2022-03-10T08:59:18.413Z"
   },
   {
    "duration": 42,
    "start_time": "2022-03-10T08:59:39.434Z"
   },
   {
    "duration": 11,
    "start_time": "2022-03-10T09:00:23.840Z"
   },
   {
    "duration": 21,
    "start_time": "2022-03-10T09:00:34.992Z"
   },
   {
    "duration": 54,
    "start_time": "2022-03-10T09:00:42.400Z"
   },
   {
    "duration": 12,
    "start_time": "2022-03-10T09:00:42.455Z"
   },
   {
    "duration": 7,
    "start_time": "2022-03-10T09:00:42.469Z"
   },
   {
    "duration": 26,
    "start_time": "2022-03-10T09:00:42.478Z"
   },
   {
    "duration": 16,
    "start_time": "2022-03-10T09:00:42.520Z"
   },
   {
    "duration": 21,
    "start_time": "2022-03-10T09:00:42.538Z"
   },
   {
    "duration": 54,
    "start_time": "2022-03-10T09:00:42.561Z"
   },
   {
    "duration": 15,
    "start_time": "2022-03-10T09:00:42.616Z"
   },
   {
    "duration": 18,
    "start_time": "2022-03-10T09:00:42.639Z"
   },
   {
    "duration": 24,
    "start_time": "2022-03-10T09:00:42.659Z"
   },
   {
    "duration": 65,
    "start_time": "2022-03-10T09:00:42.701Z"
   },
   {
    "duration": 36,
    "start_time": "2022-03-10T09:03:05.606Z"
   },
   {
    "duration": 33,
    "start_time": "2022-03-10T09:03:11.342Z"
   },
   {
    "duration": 66,
    "start_time": "2022-03-10T09:03:20.741Z"
   },
   {
    "duration": 14,
    "start_time": "2022-03-10T09:03:20.808Z"
   },
   {
    "duration": 8,
    "start_time": "2022-03-10T09:03:20.824Z"
   },
   {
    "duration": 19,
    "start_time": "2022-03-10T09:03:20.833Z"
   },
   {
    "duration": 17,
    "start_time": "2022-03-10T09:03:20.948Z"
   },
   {
    "duration": 34,
    "start_time": "2022-03-10T09:03:20.967Z"
   },
   {
    "duration": 36,
    "start_time": "2022-03-10T09:03:21.003Z"
   },
   {
    "duration": 15,
    "start_time": "2022-03-10T09:03:21.041Z"
   },
   {
    "duration": 49,
    "start_time": "2022-03-10T09:03:21.057Z"
   },
   {
    "duration": 21,
    "start_time": "2022-03-10T09:03:21.159Z"
   },
   {
    "duration": 62,
    "start_time": "2022-03-10T09:03:21.182Z"
   },
   {
    "duration": 40,
    "start_time": "2022-03-10T09:03:36.919Z"
   },
   {
    "duration": 38,
    "start_time": "2022-03-10T09:05:40.182Z"
   },
   {
    "duration": 67,
    "start_time": "2022-03-10T09:05:46.306Z"
   },
   {
    "duration": 13,
    "start_time": "2022-03-10T09:05:46.375Z"
   },
   {
    "duration": 7,
    "start_time": "2022-03-10T09:05:46.390Z"
   },
   {
    "duration": 20,
    "start_time": "2022-03-10T09:05:46.399Z"
   },
   {
    "duration": 17,
    "start_time": "2022-03-10T09:05:46.459Z"
   },
   {
    "duration": 40,
    "start_time": "2022-03-10T09:05:46.478Z"
   },
   {
    "duration": 38,
    "start_time": "2022-03-10T09:05:46.519Z"
   },
   {
    "duration": 15,
    "start_time": "2022-03-10T09:05:46.559Z"
   },
   {
    "duration": 19,
    "start_time": "2022-03-10T09:05:46.602Z"
   },
   {
    "duration": 23,
    "start_time": "2022-03-10T09:05:46.623Z"
   },
   {
    "duration": 98,
    "start_time": "2022-03-10T09:05:46.647Z"
   },
   {
    "duration": 67,
    "start_time": "2022-03-10T09:06:29.540Z"
   },
   {
    "duration": 12,
    "start_time": "2022-03-10T09:06:29.609Z"
   },
   {
    "duration": 7,
    "start_time": "2022-03-10T09:06:29.623Z"
   },
   {
    "duration": 19,
    "start_time": "2022-03-10T09:06:29.631Z"
   },
   {
    "duration": 17,
    "start_time": "2022-03-10T09:06:29.656Z"
   },
   {
    "duration": 60,
    "start_time": "2022-03-10T09:06:29.675Z"
   },
   {
    "duration": 35,
    "start_time": "2022-03-10T09:06:29.737Z"
   },
   {
    "duration": 14,
    "start_time": "2022-03-10T09:06:29.802Z"
   },
   {
    "duration": 21,
    "start_time": "2022-03-10T09:06:29.818Z"
   },
   {
    "duration": 19,
    "start_time": "2022-03-10T09:06:29.840Z"
   },
   {
    "duration": 82,
    "start_time": "2022-03-10T09:06:29.861Z"
   },
   {
    "duration": 55,
    "start_time": "2022-03-10T09:19:54.396Z"
   },
   {
    "duration": 13,
    "start_time": "2022-03-10T09:19:54.452Z"
   },
   {
    "duration": 9,
    "start_time": "2022-03-10T09:19:54.467Z"
   },
   {
    "duration": 35,
    "start_time": "2022-03-10T09:19:54.478Z"
   },
   {
    "duration": 15,
    "start_time": "2022-03-10T09:19:54.514Z"
   },
   {
    "duration": 34,
    "start_time": "2022-03-10T09:19:54.560Z"
   },
   {
    "duration": 38,
    "start_time": "2022-03-10T09:19:54.596Z"
   },
   {
    "duration": 16,
    "start_time": "2022-03-10T09:19:54.636Z"
   },
   {
    "duration": 21,
    "start_time": "2022-03-10T09:19:54.654Z"
   },
   {
    "duration": 20,
    "start_time": "2022-03-10T09:19:54.701Z"
   },
   {
    "duration": 80,
    "start_time": "2022-03-10T09:19:54.722Z"
   },
   {
    "duration": 67,
    "start_time": "2022-03-10T09:37:12.942Z"
   },
   {
    "duration": 12,
    "start_time": "2022-03-10T09:37:13.010Z"
   },
   {
    "duration": 8,
    "start_time": "2022-03-10T09:37:13.024Z"
   },
   {
    "duration": 18,
    "start_time": "2022-03-10T09:37:13.034Z"
   },
   {
    "duration": 17,
    "start_time": "2022-03-10T09:37:13.054Z"
   },
   {
    "duration": 35,
    "start_time": "2022-03-10T09:37:13.101Z"
   },
   {
    "duration": 36,
    "start_time": "2022-03-10T09:37:13.138Z"
   },
   {
    "duration": 39,
    "start_time": "2022-03-10T09:37:13.175Z"
   },
   {
    "duration": 18,
    "start_time": "2022-03-10T09:37:13.215Z"
   },
   {
    "duration": 21,
    "start_time": "2022-03-10T09:37:13.235Z"
   },
   {
    "duration": 87,
    "start_time": "2022-03-10T09:37:13.257Z"
   },
   {
    "duration": 34,
    "start_time": "2022-03-10T09:38:26.476Z"
   },
   {
    "duration": 54,
    "start_time": "2022-03-10T09:38:37.038Z"
   },
   {
    "duration": 12,
    "start_time": "2022-03-10T09:38:37.094Z"
   },
   {
    "duration": 8,
    "start_time": "2022-03-10T09:38:37.108Z"
   },
   {
    "duration": 17,
    "start_time": "2022-03-10T09:38:37.117Z"
   },
   {
    "duration": 15,
    "start_time": "2022-03-10T09:38:37.136Z"
   },
   {
    "duration": 60,
    "start_time": "2022-03-10T09:38:37.152Z"
   },
   {
    "duration": 36,
    "start_time": "2022-03-10T09:38:37.214Z"
   },
   {
    "duration": 13,
    "start_time": "2022-03-10T09:38:37.252Z"
   },
   {
    "duration": 47,
    "start_time": "2022-03-10T09:38:37.267Z"
   },
   {
    "duration": 19,
    "start_time": "2022-03-10T09:38:37.315Z"
   },
   {
    "duration": 84,
    "start_time": "2022-03-10T09:38:37.335Z"
   },
   {
    "duration": 9130,
    "start_time": "2022-03-10T10:11:44.713Z"
   },
   {
    "duration": 7420,
    "start_time": "2022-03-10T10:12:59.840Z"
   },
   {
    "duration": 7390,
    "start_time": "2022-03-10T10:13:21.016Z"
   },
   {
    "duration": 57,
    "start_time": "2022-03-10T10:13:34.723Z"
   },
   {
    "duration": 13,
    "start_time": "2022-03-10T10:13:34.781Z"
   },
   {
    "duration": 8,
    "start_time": "2022-03-10T10:13:34.797Z"
   },
   {
    "duration": 21,
    "start_time": "2022-03-10T10:13:34.807Z"
   },
   {
    "duration": 18,
    "start_time": "2022-03-10T10:13:34.830Z"
   },
   {
    "duration": 66,
    "start_time": "2022-03-10T10:13:34.850Z"
   },
   {
    "duration": 20,
    "start_time": "2022-03-10T10:13:34.918Z"
   },
   {
    "duration": 18,
    "start_time": "2022-03-10T10:13:34.940Z"
   },
   {
    "duration": 50,
    "start_time": "2022-03-10T10:13:34.959Z"
   },
   {
    "duration": 20,
    "start_time": "2022-03-10T10:13:35.011Z"
   },
   {
    "duration": 22,
    "start_time": "2022-03-10T10:13:35.033Z"
   },
   {
    "duration": 93,
    "start_time": "2022-03-10T10:13:35.057Z"
   },
   {
    "duration": 7565,
    "start_time": "2022-03-10T10:17:16.919Z"
   },
   {
    "duration": 55,
    "start_time": "2022-03-10T10:17:28.836Z"
   },
   {
    "duration": 14,
    "start_time": "2022-03-10T10:17:28.893Z"
   },
   {
    "duration": 8,
    "start_time": "2022-03-10T10:17:28.909Z"
   },
   {
    "duration": 17,
    "start_time": "2022-03-10T10:17:28.919Z"
   },
   {
    "duration": 15,
    "start_time": "2022-03-10T10:17:28.938Z"
   },
   {
    "duration": 60,
    "start_time": "2022-03-10T10:17:28.955Z"
   },
   {
    "duration": 18,
    "start_time": "2022-03-10T10:17:29.017Z"
   },
   {
    "duration": 12,
    "start_time": "2022-03-10T10:17:29.037Z"
   },
   {
    "duration": 16,
    "start_time": "2022-03-10T10:17:29.050Z"
   },
   {
    "duration": 47,
    "start_time": "2022-03-10T10:17:29.067Z"
   },
   {
    "duration": 19,
    "start_time": "2022-03-10T10:17:29.115Z"
   },
   {
    "duration": 80,
    "start_time": "2022-03-10T10:17:29.136Z"
   },
   {
    "duration": 112,
    "start_time": "2022-03-10T10:22:35.630Z"
   },
   {
    "duration": 6,
    "start_time": "2022-03-10T10:23:09.778Z"
   },
   {
    "duration": 119,
    "start_time": "2022-03-10T10:26:51.322Z"
   },
   {
    "duration": 1899,
    "start_time": "2022-03-10T10:35:58.511Z"
   },
   {
    "duration": 5,
    "start_time": "2022-03-10T10:36:15.506Z"
   },
   {
    "duration": 4,
    "start_time": "2022-03-10T10:36:23.347Z"
   },
   {
    "duration": 6,
    "start_time": "2022-03-10T10:36:37.385Z"
   },
   {
    "duration": 6,
    "start_time": "2022-03-10T10:37:05.259Z"
   },
   {
    "duration": 286,
    "start_time": "2022-03-10T10:45:02.650Z"
   },
   {
    "duration": 56,
    "start_time": "2022-03-10T10:45:10.806Z"
   },
   {
    "duration": 17,
    "start_time": "2022-03-10T10:45:10.863Z"
   },
   {
    "duration": 21,
    "start_time": "2022-03-10T10:45:10.882Z"
   },
   {
    "duration": 19,
    "start_time": "2022-03-10T10:45:10.904Z"
   },
   {
    "duration": 16,
    "start_time": "2022-03-10T10:45:10.925Z"
   },
   {
    "duration": 60,
    "start_time": "2022-03-10T10:45:10.943Z"
   },
   {
    "duration": 22,
    "start_time": "2022-03-10T10:45:11.005Z"
   },
   {
    "duration": 19,
    "start_time": "2022-03-10T10:45:11.029Z"
   },
   {
    "duration": 8,
    "start_time": "2022-03-10T10:45:11.050Z"
   },
   {
    "duration": 43,
    "start_time": "2022-03-10T10:45:11.059Z"
   },
   {
    "duration": 295,
    "start_time": "2022-03-10T10:45:11.104Z"
   },
   {
    "duration": 209,
    "start_time": "2022-03-10T10:45:11.191Z"
   },
   {
    "duration": 203,
    "start_time": "2022-03-10T10:45:11.199Z"
   },
   {
    "duration": 200,
    "start_time": "2022-03-10T10:45:11.202Z"
   },
   {
    "duration": 198,
    "start_time": "2022-03-10T10:45:11.206Z"
   },
   {
    "duration": 17,
    "start_time": "2022-03-10T10:45:32.916Z"
   },
   {
    "duration": 16,
    "start_time": "2022-03-10T10:47:29.033Z"
   },
   {
    "duration": 7,
    "start_time": "2022-03-10T10:48:12.295Z"
   },
   {
    "duration": 5,
    "start_time": "2022-03-10T10:48:36.311Z"
   },
   {
    "duration": 17,
    "start_time": "2022-03-10T10:49:35.530Z"
   },
   {
    "duration": 16,
    "start_time": "2022-03-10T10:51:17.503Z"
   },
   {
    "duration": 66,
    "start_time": "2022-03-10T10:51:51.583Z"
   },
   {
    "duration": 13,
    "start_time": "2022-03-10T10:51:51.651Z"
   },
   {
    "duration": 8,
    "start_time": "2022-03-10T10:51:51.665Z"
   },
   {
    "duration": 40,
    "start_time": "2022-03-10T10:51:51.675Z"
   },
   {
    "duration": 18,
    "start_time": "2022-03-10T10:51:51.717Z"
   },
   {
    "duration": 34,
    "start_time": "2022-03-10T10:51:51.736Z"
   },
   {
    "duration": 40,
    "start_time": "2022-03-10T10:51:51.771Z"
   },
   {
    "duration": 13,
    "start_time": "2022-03-10T10:51:51.814Z"
   },
   {
    "duration": 8,
    "start_time": "2022-03-10T10:51:51.828Z"
   },
   {
    "duration": 6,
    "start_time": "2022-03-10T10:51:51.838Z"
   },
   {
    "duration": 16,
    "start_time": "2022-03-10T10:51:51.845Z"
   },
   {
    "duration": 52,
    "start_time": "2022-03-10T10:51:51.863Z"
   },
   {
    "duration": 19,
    "start_time": "2022-03-10T10:51:51.917Z"
   },
   {
    "duration": 1412,
    "start_time": "2022-03-10T10:51:51.938Z"
   },
   {
    "duration": 802,
    "start_time": "2022-03-10T10:51:52.550Z"
   },
   {
    "duration": 313,
    "start_time": "2022-03-10T10:58:20.314Z"
   },
   {
    "duration": 377,
    "start_time": "2022-03-10T10:59:24.818Z"
   },
   {
    "duration": 497,
    "start_time": "2022-03-10T11:01:11.493Z"
   },
   {
    "duration": 307,
    "start_time": "2022-03-10T11:04:16.854Z"
   },
   {
    "duration": 53,
    "start_time": "2022-03-10T11:04:25.089Z"
   },
   {
    "duration": 13,
    "start_time": "2022-03-10T11:04:25.144Z"
   },
   {
    "duration": 8,
    "start_time": "2022-03-10T11:04:25.158Z"
   },
   {
    "duration": 42,
    "start_time": "2022-03-10T11:04:25.168Z"
   },
   {
    "duration": 15,
    "start_time": "2022-03-10T11:04:25.211Z"
   },
   {
    "duration": 35,
    "start_time": "2022-03-10T11:04:25.227Z"
   },
   {
    "duration": 44,
    "start_time": "2022-03-10T11:04:25.264Z"
   },
   {
    "duration": 12,
    "start_time": "2022-03-10T11:04:25.310Z"
   },
   {
    "duration": 6,
    "start_time": "2022-03-10T11:04:25.324Z"
   },
   {
    "duration": 5,
    "start_time": "2022-03-10T11:04:25.332Z"
   },
   {
    "duration": 16,
    "start_time": "2022-03-10T11:04:25.339Z"
   },
   {
    "duration": 7,
    "start_time": "2022-03-10T11:04:25.357Z"
   },
   {
    "duration": 37,
    "start_time": "2022-03-10T11:04:25.366Z"
   },
   {
    "duration": 11,
    "start_time": "2022-03-10T11:04:25.404Z"
   },
   {
    "duration": 18,
    "start_time": "2022-03-10T11:04:25.416Z"
   },
   {
    "duration": 1375,
    "start_time": "2022-03-10T11:04:25.435Z"
   },
   {
    "duration": 864,
    "start_time": "2022-03-10T11:04:25.947Z"
   },
   {
    "duration": 93,
    "start_time": "2022-03-10T11:16:39.913Z"
   },
   {
    "duration": 53,
    "start_time": "2022-03-10T11:16:44.841Z"
   },
   {
    "duration": 13,
    "start_time": "2022-03-10T11:16:44.896Z"
   },
   {
    "duration": 8,
    "start_time": "2022-03-10T11:16:44.912Z"
   },
   {
    "duration": 19,
    "start_time": "2022-03-10T11:16:44.922Z"
   },
   {
    "duration": 17,
    "start_time": "2022-03-10T11:16:44.943Z"
   },
   {
    "duration": 73,
    "start_time": "2022-03-10T11:16:44.961Z"
   },
   {
    "duration": 16,
    "start_time": "2022-03-10T11:16:45.036Z"
   },
   {
    "duration": 12,
    "start_time": "2022-03-10T11:16:45.054Z"
   },
   {
    "duration": 8,
    "start_time": "2022-03-10T11:16:45.067Z"
   },
   {
    "duration": 5,
    "start_time": "2022-03-10T11:16:45.101Z"
   },
   {
    "duration": 17,
    "start_time": "2022-03-10T11:16:45.107Z"
   },
   {
    "duration": 10,
    "start_time": "2022-03-10T11:16:45.125Z"
   },
   {
    "duration": 129,
    "start_time": "2022-03-10T11:16:45.136Z"
   },
   {
    "duration": 727,
    "start_time": "2022-03-10T11:16:44.540Z"
   },
   {
    "duration": 724,
    "start_time": "2022-03-10T11:16:44.543Z"
   },
   {
    "duration": 724,
    "start_time": "2022-03-10T11:16:44.545Z"
   },
   {
    "duration": 678,
    "start_time": "2022-03-10T11:16:44.592Z"
   },
   {
    "duration": 55,
    "start_time": "2022-03-10T11:18:09.561Z"
   },
   {
    "duration": 12,
    "start_time": "2022-03-10T11:18:09.618Z"
   },
   {
    "duration": 33,
    "start_time": "2022-03-10T11:18:09.632Z"
   },
   {
    "duration": 31,
    "start_time": "2022-03-10T11:18:09.666Z"
   },
   {
    "duration": 14,
    "start_time": "2022-03-10T11:18:09.699Z"
   },
   {
    "duration": 50,
    "start_time": "2022-03-10T11:18:09.715Z"
   },
   {
    "duration": 14,
    "start_time": "2022-03-10T11:18:09.767Z"
   },
   {
    "duration": 23,
    "start_time": "2022-03-10T11:18:09.783Z"
   },
   {
    "duration": 20,
    "start_time": "2022-03-10T11:18:09.808Z"
   },
   {
    "duration": 26,
    "start_time": "2022-03-10T11:18:09.829Z"
   },
   {
    "duration": 23,
    "start_time": "2022-03-10T11:18:09.857Z"
   },
   {
    "duration": 20,
    "start_time": "2022-03-10T11:18:09.881Z"
   },
   {
    "duration": 24,
    "start_time": "2022-03-10T11:18:09.902Z"
   },
   {
    "duration": 28,
    "start_time": "2022-03-10T11:18:09.927Z"
   },
   {
    "duration": 38,
    "start_time": "2022-03-10T11:18:09.956Z"
   },
   {
    "duration": 1422,
    "start_time": "2022-03-10T11:18:09.995Z"
   },
   {
    "duration": 571,
    "start_time": "2022-03-10T11:18:10.847Z"
   },
   {
    "duration": 57,
    "start_time": "2022-03-10T11:21:22.602Z"
   },
   {
    "duration": 15,
    "start_time": "2022-03-10T11:21:22.661Z"
   },
   {
    "duration": 24,
    "start_time": "2022-03-10T11:21:22.678Z"
   },
   {
    "duration": 18,
    "start_time": "2022-03-10T11:21:22.704Z"
   },
   {
    "duration": 15,
    "start_time": "2022-03-10T11:21:22.724Z"
   },
   {
    "duration": 60,
    "start_time": "2022-03-10T11:21:22.741Z"
   },
   {
    "duration": 15,
    "start_time": "2022-03-10T11:21:22.803Z"
   },
   {
    "duration": 13,
    "start_time": "2022-03-10T11:21:22.820Z"
   },
   {
    "duration": 6,
    "start_time": "2022-03-10T11:21:22.835Z"
   },
   {
    "duration": 6,
    "start_time": "2022-03-10T11:21:22.842Z"
   },
   {
    "duration": 108,
    "start_time": "2022-03-10T11:21:22.849Z"
   },
   {
    "duration": 561,
    "start_time": "2022-03-10T11:21:22.397Z"
   },
   {
    "duration": 558,
    "start_time": "2022-03-10T11:21:22.401Z"
   },
   {
    "duration": 553,
    "start_time": "2022-03-10T11:21:22.407Z"
   },
   {
    "duration": 548,
    "start_time": "2022-03-10T11:21:22.413Z"
   },
   {
    "duration": 543,
    "start_time": "2022-03-10T11:21:22.418Z"
   },
   {
    "duration": 540,
    "start_time": "2022-03-10T11:21:22.422Z"
   },
   {
    "duration": 614,
    "start_time": "2022-03-10T14:37:18.510Z"
   },
   {
    "duration": 11,
    "start_time": "2022-03-10T14:37:19.126Z"
   },
   {
    "duration": 20,
    "start_time": "2022-03-10T14:37:19.139Z"
   },
   {
    "duration": 34,
    "start_time": "2022-03-10T14:37:19.160Z"
   },
   {
    "duration": 18,
    "start_time": "2022-03-10T14:37:19.195Z"
   },
   {
    "duration": 40,
    "start_time": "2022-03-10T14:37:19.214Z"
   },
   {
    "duration": 15,
    "start_time": "2022-03-10T14:37:19.255Z"
   },
   {
    "duration": 12,
    "start_time": "2022-03-10T14:37:19.272Z"
   },
   {
    "duration": 22,
    "start_time": "2022-03-10T14:37:19.285Z"
   },
   {
    "duration": 6,
    "start_time": "2022-03-10T14:37:19.308Z"
   },
   {
    "duration": 18,
    "start_time": "2022-03-10T14:37:19.315Z"
   },
   {
    "duration": 23,
    "start_time": "2022-03-10T14:37:19.334Z"
   },
   {
    "duration": 8,
    "start_time": "2022-03-10T14:37:19.359Z"
   },
   {
    "duration": 19,
    "start_time": "2022-03-10T14:37:19.369Z"
   },
   {
    "duration": 35,
    "start_time": "2022-03-10T14:37:19.390Z"
   },
   {
    "duration": 18,
    "start_time": "2022-03-10T14:37:19.426Z"
   },
   {
    "duration": 67,
    "start_time": "2022-03-10T14:37:19.445Z"
   },
   {
    "duration": 18,
    "start_time": "2022-03-10T15:11:59.861Z"
   },
   {
    "duration": 16,
    "start_time": "2022-03-10T15:27:35.044Z"
   },
   {
    "duration": 19,
    "start_time": "2022-03-10T15:28:00.673Z"
   },
   {
    "duration": 2,
    "start_time": "2022-03-10T15:34:52.303Z"
   },
   {
    "duration": 20,
    "start_time": "2022-03-10T15:48:28.040Z"
   },
   {
    "duration": 19,
    "start_time": "2022-03-10T15:50:22.324Z"
   },
   {
    "duration": 17,
    "start_time": "2022-03-10T15:52:16.317Z"
   },
   {
    "duration": 17,
    "start_time": "2022-03-10T15:52:26.782Z"
   },
   {
    "duration": 22,
    "start_time": "2022-03-10T15:53:10.174Z"
   },
   {
    "duration": 22,
    "start_time": "2022-03-10T15:55:13.200Z"
   },
   {
    "duration": 21,
    "start_time": "2022-03-10T15:55:31.274Z"
   },
   {
    "duration": 20,
    "start_time": "2022-03-10T15:59:32.039Z"
   },
   {
    "duration": 23,
    "start_time": "2022-03-10T16:03:12.247Z"
   },
   {
    "duration": 20,
    "start_time": "2022-03-10T16:05:49.466Z"
   },
   {
    "duration": 53,
    "start_time": "2022-03-10T16:46:42.478Z"
   },
   {
    "duration": 13,
    "start_time": "2022-03-10T16:46:42.533Z"
   },
   {
    "duration": 8,
    "start_time": "2022-03-10T16:46:42.586Z"
   },
   {
    "duration": 17,
    "start_time": "2022-03-10T16:46:42.597Z"
   },
   {
    "duration": 22,
    "start_time": "2022-03-10T16:46:42.706Z"
   },
   {
    "duration": 52,
    "start_time": "2022-03-10T16:46:42.730Z"
   },
   {
    "duration": 37,
    "start_time": "2022-03-10T16:46:42.784Z"
   },
   {
    "duration": 14,
    "start_time": "2022-03-10T16:46:42.823Z"
   },
   {
    "duration": 7,
    "start_time": "2022-03-10T16:46:42.838Z"
   },
   {
    "duration": 6,
    "start_time": "2022-03-10T16:46:42.847Z"
   },
   {
    "duration": 8,
    "start_time": "2022-03-10T16:46:42.854Z"
   },
   {
    "duration": 10,
    "start_time": "2022-03-10T16:46:42.905Z"
   },
   {
    "duration": 9,
    "start_time": "2022-03-10T16:46:42.916Z"
   },
   {
    "duration": 11,
    "start_time": "2022-03-10T16:46:42.927Z"
   },
   {
    "duration": 18,
    "start_time": "2022-03-10T16:46:42.945Z"
   },
   {
    "duration": 44,
    "start_time": "2022-03-10T16:46:42.964Z"
   },
   {
    "duration": 25,
    "start_time": "2022-03-10T16:46:43.010Z"
   },
   {
    "duration": 27,
    "start_time": "2022-03-10T16:46:43.037Z"
   },
   {
    "duration": 27,
    "start_time": "2022-03-10T16:46:43.126Z"
   },
   {
    "duration": 24,
    "start_time": "2022-03-10T16:46:43.155Z"
   },
   {
    "duration": 546,
    "start_time": "2022-03-10T16:53:19.384Z"
   },
   {
    "duration": 529,
    "start_time": "2022-03-10T16:53:19.402Z"
   },
   {
    "duration": 520,
    "start_time": "2022-03-10T16:53:19.411Z"
   },
   {
    "duration": 452,
    "start_time": "2022-03-10T16:53:19.480Z"
   },
   {
    "duration": 446,
    "start_time": "2022-03-10T16:53:19.487Z"
   },
   {
    "duration": 442,
    "start_time": "2022-03-10T16:53:19.492Z"
   },
   {
    "duration": 437,
    "start_time": "2022-03-10T16:53:19.498Z"
   },
   {
    "duration": 434,
    "start_time": "2022-03-10T16:53:19.502Z"
   },
   {
    "duration": 425,
    "start_time": "2022-03-10T16:53:19.512Z"
   },
   {
    "duration": 419,
    "start_time": "2022-03-10T16:53:19.520Z"
   },
   {
    "duration": 362,
    "start_time": "2022-03-10T16:53:19.578Z"
   },
   {
    "duration": 357,
    "start_time": "2022-03-10T16:53:19.583Z"
   },
   {
    "duration": 353,
    "start_time": "2022-03-10T16:53:19.589Z"
   },
   {
    "duration": 349,
    "start_time": "2022-03-10T16:53:19.593Z"
   },
   {
    "duration": 345,
    "start_time": "2022-03-10T16:53:19.598Z"
   },
   {
    "duration": 337,
    "start_time": "2022-03-10T16:53:19.607Z"
   },
   {
    "duration": 335,
    "start_time": "2022-03-10T16:53:19.610Z"
   },
   {
    "duration": 311,
    "start_time": "2022-03-10T16:53:19.635Z"
   },
   {
    "duration": 309,
    "start_time": "2022-03-10T16:53:19.638Z"
   },
   {
    "duration": 272,
    "start_time": "2022-03-10T16:53:19.676Z"
   },
   {
    "duration": 7425,
    "start_time": "2022-03-10T16:53:33.729Z"
   },
   {
    "duration": 83,
    "start_time": "2022-03-10T16:53:47.950Z"
   },
   {
    "duration": 18,
    "start_time": "2022-03-10T16:53:48.035Z"
   },
   {
    "duration": 9,
    "start_time": "2022-03-10T16:53:48.055Z"
   },
   {
    "duration": 43,
    "start_time": "2022-03-10T16:53:48.066Z"
   },
   {
    "duration": 22,
    "start_time": "2022-03-10T16:53:48.111Z"
   },
   {
    "duration": 51,
    "start_time": "2022-03-10T16:53:48.134Z"
   },
   {
    "duration": 21,
    "start_time": "2022-03-10T16:53:48.205Z"
   },
   {
    "duration": 21,
    "start_time": "2022-03-10T16:53:48.228Z"
   },
   {
    "duration": 6,
    "start_time": "2022-03-10T16:53:48.251Z"
   },
   {
    "duration": 8,
    "start_time": "2022-03-10T16:53:48.258Z"
   },
   {
    "duration": 42,
    "start_time": "2022-03-10T16:53:48.267Z"
   },
   {
    "duration": 11,
    "start_time": "2022-03-10T16:53:48.310Z"
   },
   {
    "duration": 10,
    "start_time": "2022-03-10T16:53:48.322Z"
   },
   {
    "duration": 12,
    "start_time": "2022-03-10T16:53:48.333Z"
   },
   {
    "duration": 20,
    "start_time": "2022-03-10T16:53:48.347Z"
   },
   {
    "duration": 37,
    "start_time": "2022-03-10T16:53:48.369Z"
   },
   {
    "duration": 21,
    "start_time": "2022-03-10T16:53:48.408Z"
   },
   {
    "duration": 20,
    "start_time": "2022-03-10T16:53:48.430Z"
   },
   {
    "duration": 17,
    "start_time": "2022-03-10T16:53:48.451Z"
   },
   {
    "duration": 45,
    "start_time": "2022-03-10T16:53:48.469Z"
   },
   {
    "duration": 8,
    "start_time": "2022-03-10T16:55:29.550Z"
   },
   {
    "duration": 33,
    "start_time": "2022-03-10T16:59:58.368Z"
   },
   {
    "duration": 7303,
    "start_time": "2022-03-10T17:01:36.131Z"
   },
   {
    "duration": 59,
    "start_time": "2022-03-10T17:01:50.954Z"
   },
   {
    "duration": 15,
    "start_time": "2022-03-10T17:01:51.015Z"
   },
   {
    "duration": 9,
    "start_time": "2022-03-10T17:01:51.032Z"
   },
   {
    "duration": 20,
    "start_time": "2022-03-10T17:01:51.043Z"
   },
   {
    "duration": 48,
    "start_time": "2022-03-10T17:01:51.065Z"
   },
   {
    "duration": 40,
    "start_time": "2022-03-10T17:01:51.115Z"
   },
   {
    "duration": 16,
    "start_time": "2022-03-10T17:01:51.157Z"
   },
   {
    "duration": 14,
    "start_time": "2022-03-10T17:01:51.205Z"
   },
   {
    "duration": 8,
    "start_time": "2022-03-10T17:01:51.220Z"
   },
   {
    "duration": 8,
    "start_time": "2022-03-10T17:01:51.229Z"
   },
   {
    "duration": 8,
    "start_time": "2022-03-10T17:01:51.238Z"
   },
   {
    "duration": 10,
    "start_time": "2022-03-10T17:01:51.248Z"
   },
   {
    "duration": 50,
    "start_time": "2022-03-10T17:01:51.260Z"
   },
   {
    "duration": 11,
    "start_time": "2022-03-10T17:01:51.312Z"
   },
   {
    "duration": 20,
    "start_time": "2022-03-10T17:01:51.325Z"
   },
   {
    "duration": 20,
    "start_time": "2022-03-10T17:01:51.347Z"
   },
   {
    "duration": 50,
    "start_time": "2022-03-10T17:01:51.369Z"
   },
   {
    "duration": 20,
    "start_time": "2022-03-10T17:01:51.420Z"
   },
   {
    "duration": 19,
    "start_time": "2022-03-10T17:01:51.442Z"
   },
   {
    "duration": 49,
    "start_time": "2022-03-10T17:01:51.462Z"
   },
   {
    "duration": 7442,
    "start_time": "2022-03-10T17:02:53.812Z"
   },
   {
    "duration": 325,
    "start_time": "2022-03-10T17:08:20.324Z"
   },
   {
    "duration": 66,
    "start_time": "2022-03-10T17:16:31.799Z"
   },
   {
    "duration": 13,
    "start_time": "2022-03-10T17:16:31.867Z"
   },
   {
    "duration": 7,
    "start_time": "2022-03-10T17:16:31.882Z"
   },
   {
    "duration": 18,
    "start_time": "2022-03-10T17:16:31.891Z"
   },
   {
    "duration": 14,
    "start_time": "2022-03-10T17:16:31.911Z"
   },
   {
    "duration": 38,
    "start_time": "2022-03-10T17:16:31.926Z"
   },
   {
    "duration": 42,
    "start_time": "2022-03-10T17:16:31.965Z"
   },
   {
    "duration": 11,
    "start_time": "2022-03-10T17:16:32.009Z"
   },
   {
    "duration": 7,
    "start_time": "2022-03-10T17:16:32.022Z"
   },
   {
    "duration": 6,
    "start_time": "2022-03-10T17:16:32.030Z"
   },
   {
    "duration": 7,
    "start_time": "2022-03-10T17:16:32.038Z"
   },
   {
    "duration": 9,
    "start_time": "2022-03-10T17:16:32.047Z"
   },
   {
    "duration": 9,
    "start_time": "2022-03-10T17:16:32.057Z"
   },
   {
    "duration": 44,
    "start_time": "2022-03-10T17:16:32.068Z"
   },
   {
    "duration": 19,
    "start_time": "2022-03-10T17:16:32.113Z"
   },
   {
    "duration": 17,
    "start_time": "2022-03-10T17:16:32.133Z"
   },
   {
    "duration": 19,
    "start_time": "2022-03-10T17:16:32.151Z"
   },
   {
    "duration": 38,
    "start_time": "2022-03-10T17:16:32.171Z"
   },
   {
    "duration": 19,
    "start_time": "2022-03-10T17:16:32.210Z"
   },
   {
    "duration": 18,
    "start_time": "2022-03-10T17:16:32.230Z"
   },
   {
    "duration": 14,
    "start_time": "2022-03-19T15:49:52.608Z"
   },
   {
    "duration": 4,
    "start_time": "2022-03-19T15:50:10.635Z"
   },
   {
    "duration": 70,
    "start_time": "2022-03-20T11:25:21.254Z"
   },
   {
    "duration": 64,
    "start_time": "2022-03-20T11:30:09.944Z"
   },
   {
    "duration": 477,
    "start_time": "2022-03-20T11:34:52.125Z"
   },
   {
    "duration": 5,
    "start_time": "2022-03-20T11:34:52.604Z"
   },
   {
    "duration": 0,
    "start_time": "2022-03-20T11:34:52.612Z"
   },
   {
    "duration": 0,
    "start_time": "2022-03-20T11:34:52.613Z"
   },
   {
    "duration": 0,
    "start_time": "2022-03-20T11:34:52.614Z"
   },
   {
    "duration": 0,
    "start_time": "2022-03-20T11:34:52.616Z"
   },
   {
    "duration": 0,
    "start_time": "2022-03-20T11:34:52.617Z"
   },
   {
    "duration": 0,
    "start_time": "2022-03-20T11:34:52.618Z"
   },
   {
    "duration": 0,
    "start_time": "2022-03-20T11:34:52.619Z"
   },
   {
    "duration": 0,
    "start_time": "2022-03-20T11:34:52.621Z"
   },
   {
    "duration": 0,
    "start_time": "2022-03-20T11:34:52.622Z"
   },
   {
    "duration": 0,
    "start_time": "2022-03-20T11:34:52.623Z"
   },
   {
    "duration": 0,
    "start_time": "2022-03-20T11:34:52.624Z"
   },
   {
    "duration": 0,
    "start_time": "2022-03-20T11:34:52.626Z"
   },
   {
    "duration": 0,
    "start_time": "2022-03-20T11:34:52.627Z"
   },
   {
    "duration": 0,
    "start_time": "2022-03-20T11:34:52.628Z"
   },
   {
    "duration": 0,
    "start_time": "2022-03-20T11:34:52.629Z"
   },
   {
    "duration": 0,
    "start_time": "2022-03-20T11:34:52.630Z"
   },
   {
    "duration": 0,
    "start_time": "2022-03-20T11:34:52.631Z"
   },
   {
    "duration": 0,
    "start_time": "2022-03-20T11:34:52.632Z"
   },
   {
    "duration": 67,
    "start_time": "2022-03-20T11:35:17.971Z"
   },
   {
    "duration": 4,
    "start_time": "2022-03-20T11:35:18.040Z"
   },
   {
    "duration": 0,
    "start_time": "2022-03-20T11:35:18.046Z"
   },
   {
    "duration": 0,
    "start_time": "2022-03-20T11:35:18.048Z"
   },
   {
    "duration": 0,
    "start_time": "2022-03-20T11:35:18.049Z"
   },
   {
    "duration": 0,
    "start_time": "2022-03-20T11:35:18.050Z"
   },
   {
    "duration": 0,
    "start_time": "2022-03-20T11:35:18.051Z"
   },
   {
    "duration": 0,
    "start_time": "2022-03-20T11:35:18.053Z"
   },
   {
    "duration": 0,
    "start_time": "2022-03-20T11:35:18.054Z"
   },
   {
    "duration": 0,
    "start_time": "2022-03-20T11:35:18.054Z"
   },
   {
    "duration": 0,
    "start_time": "2022-03-20T11:35:18.055Z"
   },
   {
    "duration": 0,
    "start_time": "2022-03-20T11:35:18.057Z"
   },
   {
    "duration": 63,
    "start_time": "2022-03-20T11:35:18.060Z"
   },
   {
    "duration": 21,
    "start_time": "2022-03-20T11:35:18.125Z"
   },
   {
    "duration": 77,
    "start_time": "2022-03-20T11:35:18.149Z"
   },
   {
    "duration": 23,
    "start_time": "2022-03-20T11:35:18.228Z"
   },
   {
    "duration": 57,
    "start_time": "2022-03-20T11:35:18.252Z"
   },
   {
    "duration": 22,
    "start_time": "2022-03-20T11:35:18.311Z"
   },
   {
    "duration": 21,
    "start_time": "2022-03-20T11:35:18.334Z"
   },
   {
    "duration": 21,
    "start_time": "2022-03-20T11:35:18.357Z"
   },
   {
    "duration": 79,
    "start_time": "2022-03-20T11:35:48.679Z"
   },
   {
    "duration": 1576,
    "start_time": "2022-03-20T11:35:48.760Z"
   },
   {
    "duration": 1,
    "start_time": "2022-03-20T11:35:50.339Z"
   },
   {
    "duration": 0,
    "start_time": "2022-03-20T11:35:50.341Z"
   },
   {
    "duration": 0,
    "start_time": "2022-03-20T11:35:50.342Z"
   },
   {
    "duration": 0,
    "start_time": "2022-03-20T11:35:50.344Z"
   },
   {
    "duration": 0,
    "start_time": "2022-03-20T11:35:50.345Z"
   },
   {
    "duration": 0,
    "start_time": "2022-03-20T11:35:50.347Z"
   },
   {
    "duration": 0,
    "start_time": "2022-03-20T11:35:50.348Z"
   },
   {
    "duration": 0,
    "start_time": "2022-03-20T11:35:50.350Z"
   },
   {
    "duration": 0,
    "start_time": "2022-03-20T11:35:50.351Z"
   },
   {
    "duration": 0,
    "start_time": "2022-03-20T11:35:50.353Z"
   },
   {
    "duration": 0,
    "start_time": "2022-03-20T11:35:50.354Z"
   },
   {
    "duration": 0,
    "start_time": "2022-03-20T11:35:50.355Z"
   },
   {
    "duration": 0,
    "start_time": "2022-03-20T11:35:50.357Z"
   },
   {
    "duration": 0,
    "start_time": "2022-03-20T11:35:50.359Z"
   },
   {
    "duration": 0,
    "start_time": "2022-03-20T11:35:50.360Z"
   },
   {
    "duration": 0,
    "start_time": "2022-03-20T11:35:50.361Z"
   },
   {
    "duration": 0,
    "start_time": "2022-03-20T11:35:50.363Z"
   },
   {
    "duration": 0,
    "start_time": "2022-03-20T11:35:50.364Z"
   },
   {
    "duration": 72,
    "start_time": "2022-03-20T11:40:39.486Z"
   },
   {
    "duration": 1254,
    "start_time": "2022-03-20T11:40:39.560Z"
   },
   {
    "duration": 0,
    "start_time": "2022-03-20T11:40:40.816Z"
   },
   {
    "duration": 0,
    "start_time": "2022-03-20T11:40:40.818Z"
   },
   {
    "duration": 0,
    "start_time": "2022-03-20T11:40:40.819Z"
   },
   {
    "duration": 0,
    "start_time": "2022-03-20T11:40:40.821Z"
   },
   {
    "duration": 0,
    "start_time": "2022-03-20T11:40:40.822Z"
   },
   {
    "duration": 0,
    "start_time": "2022-03-20T11:40:40.824Z"
   },
   {
    "duration": 0,
    "start_time": "2022-03-20T11:40:40.826Z"
   },
   {
    "duration": 0,
    "start_time": "2022-03-20T11:40:40.827Z"
   },
   {
    "duration": 0,
    "start_time": "2022-03-20T11:40:40.828Z"
   },
   {
    "duration": 0,
    "start_time": "2022-03-20T11:40:40.830Z"
   },
   {
    "duration": 0,
    "start_time": "2022-03-20T11:40:40.832Z"
   },
   {
    "duration": 0,
    "start_time": "2022-03-20T11:40:40.834Z"
   },
   {
    "duration": 0,
    "start_time": "2022-03-20T11:40:40.835Z"
   },
   {
    "duration": 0,
    "start_time": "2022-03-20T11:40:40.836Z"
   },
   {
    "duration": 0,
    "start_time": "2022-03-20T11:40:40.837Z"
   },
   {
    "duration": 0,
    "start_time": "2022-03-20T11:40:40.838Z"
   },
   {
    "duration": 0,
    "start_time": "2022-03-20T11:40:40.839Z"
   },
   {
    "duration": 0,
    "start_time": "2022-03-20T11:40:40.840Z"
   },
   {
    "duration": 7,
    "start_time": "2022-03-20T11:42:48.074Z"
   },
   {
    "duration": 72,
    "start_time": "2022-03-20T11:42:53.516Z"
   },
   {
    "duration": 19,
    "start_time": "2022-03-20T11:42:53.591Z"
   },
   {
    "duration": 1,
    "start_time": "2022-03-20T11:42:53.612Z"
   },
   {
    "duration": 0,
    "start_time": "2022-03-20T11:42:53.614Z"
   },
   {
    "duration": 0,
    "start_time": "2022-03-20T11:42:53.616Z"
   },
   {
    "duration": 0,
    "start_time": "2022-03-20T11:42:53.617Z"
   },
   {
    "duration": 0,
    "start_time": "2022-03-20T11:42:53.618Z"
   },
   {
    "duration": 0,
    "start_time": "2022-03-20T11:42:53.620Z"
   },
   {
    "duration": 0,
    "start_time": "2022-03-20T11:42:53.620Z"
   },
   {
    "duration": 0,
    "start_time": "2022-03-20T11:42:53.622Z"
   },
   {
    "duration": 0,
    "start_time": "2022-03-20T11:42:53.623Z"
   },
   {
    "duration": 0,
    "start_time": "2022-03-20T11:42:53.625Z"
   },
   {
    "duration": 0,
    "start_time": "2022-03-20T11:42:53.626Z"
   },
   {
    "duration": 0,
    "start_time": "2022-03-20T11:42:53.627Z"
   },
   {
    "duration": 0,
    "start_time": "2022-03-20T11:42:53.629Z"
   },
   {
    "duration": 82,
    "start_time": "2022-03-20T11:42:53.632Z"
   },
   {
    "duration": 24,
    "start_time": "2022-03-20T11:42:53.715Z"
   },
   {
    "duration": 20,
    "start_time": "2022-03-20T11:42:53.741Z"
   },
   {
    "duration": 54,
    "start_time": "2022-03-20T11:42:53.763Z"
   },
   {
    "duration": 0,
    "start_time": "2022-03-20T11:42:53.818Z"
   },
   {
    "duration": 12,
    "start_time": "2022-03-20T11:43:08.161Z"
   },
   {
    "duration": 1328,
    "start_time": "2022-03-20T11:45:45.802Z"
   },
   {
    "duration": 4,
    "start_time": "2022-03-20T11:48:06.209Z"
   },
   {
    "duration": 71,
    "start_time": "2022-03-20T11:48:20.762Z"
   },
   {
    "duration": 4,
    "start_time": "2022-03-20T11:49:13.123Z"
   },
   {
    "duration": 13,
    "start_time": "2022-03-20T11:50:50.021Z"
   },
   {
    "duration": 14,
    "start_time": "2022-03-20T11:51:08.222Z"
   },
   {
    "duration": 74,
    "start_time": "2022-03-20T11:55:20.783Z"
   },
   {
    "duration": 24,
    "start_time": "2022-03-20T11:56:22.424Z"
   },
   {
    "duration": 24,
    "start_time": "2022-03-20T11:56:57.254Z"
   },
   {
    "duration": 18,
    "start_time": "2022-03-20T11:57:42.094Z"
   },
   {
    "duration": 26,
    "start_time": "2022-03-20T11:59:04.170Z"
   },
   {
    "duration": 58,
    "start_time": "2022-03-20T11:59:04.198Z"
   },
   {
    "duration": 59,
    "start_time": "2022-03-20T11:59:04.257Z"
   },
   {
    "duration": 31,
    "start_time": "2022-03-20T11:59:04.318Z"
   },
   {
    "duration": 48,
    "start_time": "2022-03-20T11:59:04.351Z"
   },
   {
    "duration": 20,
    "start_time": "2022-03-20T11:59:04.401Z"
   },
   {
    "duration": 62,
    "start_time": "2022-03-20T11:59:49.171Z"
   },
   {
    "duration": 68,
    "start_time": "2022-03-20T12:00:12.002Z"
   },
   {
    "duration": 13,
    "start_time": "2022-03-20T12:00:12.072Z"
   },
   {
    "duration": 30,
    "start_time": "2022-03-20T12:00:12.087Z"
   },
   {
    "duration": 28,
    "start_time": "2022-03-20T12:00:12.119Z"
   },
   {
    "duration": 18,
    "start_time": "2022-03-20T12:00:12.149Z"
   },
   {
    "duration": 79,
    "start_time": "2022-03-20T12:00:12.169Z"
   },
   {
    "duration": 19,
    "start_time": "2022-03-20T12:00:12.250Z"
   },
   {
    "duration": 48,
    "start_time": "2022-03-20T12:00:12.271Z"
   },
   {
    "duration": 7,
    "start_time": "2022-03-20T12:00:12.321Z"
   },
   {
    "duration": 6,
    "start_time": "2022-03-20T12:00:12.331Z"
   },
   {
    "duration": 8,
    "start_time": "2022-03-20T12:00:12.338Z"
   },
   {
    "duration": 12,
    "start_time": "2022-03-20T12:00:12.347Z"
   },
   {
    "duration": 53,
    "start_time": "2022-03-20T12:00:12.361Z"
   },
   {
    "duration": 12,
    "start_time": "2022-03-20T12:00:12.416Z"
   },
   {
    "duration": 22,
    "start_time": "2022-03-20T12:00:12.430Z"
   },
   {
    "duration": 19,
    "start_time": "2022-03-20T12:00:12.453Z"
   },
   {
    "duration": 55,
    "start_time": "2022-03-20T12:00:12.474Z"
   },
   {
    "duration": 19,
    "start_time": "2022-03-20T12:00:12.531Z"
   },
   {
    "duration": 20,
    "start_time": "2022-03-20T12:00:12.552Z"
   },
   {
    "duration": 54,
    "start_time": "2022-03-20T12:00:12.574Z"
   },
   {
    "duration": 8,
    "start_time": "2022-03-20T12:26:37.214Z"
   },
   {
    "duration": 62,
    "start_time": "2022-03-20T12:44:28.867Z"
   },
   {
    "duration": 62,
    "start_time": "2022-03-20T12:48:23.188Z"
   },
   {
    "duration": 22,
    "start_time": "2022-03-20T12:48:55.591Z"
   },
   {
    "duration": 24,
    "start_time": "2022-03-20T12:49:23.101Z"
   },
   {
    "duration": 22,
    "start_time": "2022-03-20T12:49:37.953Z"
   },
   {
    "duration": 21,
    "start_time": "2022-03-20T12:49:48.827Z"
   },
   {
    "duration": 35,
    "start_time": "2022-03-20T12:54:52.713Z"
   },
   {
    "duration": 72,
    "start_time": "2022-03-20T12:57:11.343Z"
   },
   {
    "duration": 17,
    "start_time": "2022-03-20T12:57:11.418Z"
   },
   {
    "duration": 9,
    "start_time": "2022-03-20T12:57:11.436Z"
   },
   {
    "duration": 25,
    "start_time": "2022-03-20T12:57:11.447Z"
   },
   {
    "duration": 27,
    "start_time": "2022-03-20T12:57:11.509Z"
   },
   {
    "duration": 43,
    "start_time": "2022-03-20T12:57:11.538Z"
   },
   {
    "duration": 52,
    "start_time": "2022-03-20T12:57:11.583Z"
   },
   {
    "duration": 15,
    "start_time": "2022-03-20T12:57:11.637Z"
   },
   {
    "duration": 10,
    "start_time": "2022-03-20T12:57:11.653Z"
   },
   {
    "duration": 53,
    "start_time": "2022-03-20T12:57:11.665Z"
   },
   {
    "duration": 7,
    "start_time": "2022-03-20T12:57:11.721Z"
   },
   {
    "duration": 7,
    "start_time": "2022-03-20T12:57:11.729Z"
   },
   {
    "duration": 14,
    "start_time": "2022-03-20T12:57:11.737Z"
   },
   {
    "duration": 65,
    "start_time": "2022-03-20T12:57:11.753Z"
   },
   {
    "duration": 15,
    "start_time": "2022-03-20T12:57:11.821Z"
   },
   {
    "duration": 18,
    "start_time": "2022-03-20T12:57:11.838Z"
   },
   {
    "duration": 23,
    "start_time": "2022-03-20T12:57:11.858Z"
   },
   {
    "duration": 32,
    "start_time": "2022-03-20T12:57:11.916Z"
   },
   {
    "duration": 0,
    "start_time": "2022-03-20T12:57:11.949Z"
   },
   {
    "duration": 0,
    "start_time": "2022-03-20T12:57:11.951Z"
   },
   {
    "duration": 0,
    "start_time": "2022-03-20T12:57:11.952Z"
   },
   {
    "duration": 21,
    "start_time": "2022-03-20T12:58:37.693Z"
   },
   {
    "duration": 73,
    "start_time": "2022-03-20T13:00:11.439Z"
   },
   {
    "duration": 26,
    "start_time": "2022-03-20T13:02:28.810Z"
   },
   {
    "duration": 18,
    "start_time": "2022-03-20T13:03:17.669Z"
   },
   {
    "duration": 24,
    "start_time": "2022-03-20T13:03:55.306Z"
   },
   {
    "duration": 81,
    "start_time": "2022-03-20T13:03:59.564Z"
   },
   {
    "duration": 13,
    "start_time": "2022-03-20T13:03:59.646Z"
   },
   {
    "duration": 9,
    "start_time": "2022-03-20T13:03:59.661Z"
   },
   {
    "duration": 51,
    "start_time": "2022-03-20T13:03:59.672Z"
   },
   {
    "duration": 18,
    "start_time": "2022-03-20T13:03:59.726Z"
   },
   {
    "duration": 82,
    "start_time": "2022-03-20T13:03:59.746Z"
   },
   {
    "duration": 19,
    "start_time": "2022-03-20T13:03:59.830Z"
   },
   {
    "duration": 14,
    "start_time": "2022-03-20T13:03:59.850Z"
   },
   {
    "duration": 47,
    "start_time": "2022-03-20T13:03:59.866Z"
   },
   {
    "duration": 12,
    "start_time": "2022-03-20T13:03:59.916Z"
   },
   {
    "duration": 14,
    "start_time": "2022-03-20T13:03:59.929Z"
   },
   {
    "duration": 8,
    "start_time": "2022-03-20T13:03:59.945Z"
   },
   {
    "duration": 62,
    "start_time": "2022-03-20T13:03:59.955Z"
   },
   {
    "duration": 19,
    "start_time": "2022-03-20T13:04:00.018Z"
   },
   {
    "duration": 14,
    "start_time": "2022-03-20T13:04:00.040Z"
   },
   {
    "duration": 26,
    "start_time": "2022-03-20T13:04:00.056Z"
   },
   {
    "duration": 27,
    "start_time": "2022-03-20T13:04:00.111Z"
   },
   {
    "duration": 18,
    "start_time": "2022-03-20T13:04:00.139Z"
   },
   {
    "duration": 0,
    "start_time": "2022-03-20T13:04:00.159Z"
   },
   {
    "duration": 0,
    "start_time": "2022-03-20T13:04:00.160Z"
   },
   {
    "duration": 0,
    "start_time": "2022-03-20T13:04:00.162Z"
   },
   {
    "duration": 18,
    "start_time": "2022-03-20T13:04:46.982Z"
   },
   {
    "duration": 18,
    "start_time": "2022-03-20T13:05:30.451Z"
   },
   {
    "duration": 24,
    "start_time": "2022-03-20T13:10:00.980Z"
   },
   {
    "duration": 16,
    "start_time": "2022-03-20T13:19:14.981Z"
   },
   {
    "duration": 56,
    "start_time": "2022-03-20T13:20:50.626Z"
   },
   {
    "duration": 26,
    "start_time": "2022-03-20T13:21:24.360Z"
   },
   {
    "duration": 67,
    "start_time": "2022-03-20T13:25:28.814Z"
   },
   {
    "duration": 1110,
    "start_time": "2022-03-20T13:25:39.449Z"
   },
   {
    "duration": 1652,
    "start_time": "2022-03-20T13:26:04.052Z"
   },
   {
    "duration": 1083,
    "start_time": "2022-03-20T13:26:34.886Z"
   },
   {
    "duration": 23,
    "start_time": "2022-03-20T13:27:39.127Z"
   },
   {
    "duration": 1172,
    "start_time": "2022-03-20T13:28:29.683Z"
   },
   {
    "duration": 85,
    "start_time": "2022-03-20T13:29:45.021Z"
   },
   {
    "duration": 1129,
    "start_time": "2022-03-20T13:30:15.844Z"
   },
   {
    "duration": 28,
    "start_time": "2022-03-20T13:38:09.628Z"
   },
   {
    "duration": 8,
    "start_time": "2022-03-20T13:39:49.052Z"
   },
   {
    "duration": 28,
    "start_time": "2022-03-20T13:40:28.277Z"
   },
   {
    "duration": 10,
    "start_time": "2022-03-20T13:40:55.082Z"
   },
   {
    "duration": 18,
    "start_time": "2022-03-20T13:41:55.801Z"
   },
   {
    "duration": 9,
    "start_time": "2022-03-20T13:42:20.124Z"
   },
   {
    "duration": 22,
    "start_time": "2022-03-20T13:42:32.144Z"
   },
   {
    "duration": 18,
    "start_time": "2022-03-20T13:42:59.576Z"
   },
   {
    "duration": 8,
    "start_time": "2022-03-20T13:43:29.386Z"
   },
   {
    "duration": 23,
    "start_time": "2022-03-20T13:43:44.517Z"
   },
   {
    "duration": 23,
    "start_time": "2022-03-20T13:45:14.725Z"
   },
   {
    "duration": 77,
    "start_time": "2022-03-20T13:45:39.386Z"
   },
   {
    "duration": 13,
    "start_time": "2022-03-20T13:45:39.465Z"
   },
   {
    "duration": 9,
    "start_time": "2022-03-20T13:45:39.479Z"
   },
   {
    "duration": 35,
    "start_time": "2022-03-20T13:45:39.509Z"
   },
   {
    "duration": 18,
    "start_time": "2022-03-20T13:45:39.545Z"
   },
   {
    "duration": 86,
    "start_time": "2022-03-20T13:45:39.564Z"
   },
   {
    "duration": 19,
    "start_time": "2022-03-20T13:45:39.652Z"
   },
   {
    "duration": 57,
    "start_time": "2022-03-20T13:45:39.672Z"
   },
   {
    "duration": 9,
    "start_time": "2022-03-20T13:45:39.731Z"
   },
   {
    "duration": 6,
    "start_time": "2022-03-20T13:45:39.742Z"
   },
   {
    "duration": 8,
    "start_time": "2022-03-20T13:45:39.750Z"
   },
   {
    "duration": 7,
    "start_time": "2022-03-20T13:45:39.760Z"
   },
   {
    "duration": 21,
    "start_time": "2022-03-20T13:45:39.812Z"
   },
   {
    "duration": 12,
    "start_time": "2022-03-20T13:45:39.834Z"
   },
   {
    "duration": 11,
    "start_time": "2022-03-20T13:45:39.849Z"
   },
   {
    "duration": 47,
    "start_time": "2022-03-20T13:45:39.862Z"
   },
   {
    "duration": 30,
    "start_time": "2022-03-20T13:45:39.913Z"
   },
   {
    "duration": 23,
    "start_time": "2022-03-20T13:45:39.945Z"
   },
   {
    "duration": 45,
    "start_time": "2022-03-20T13:45:39.970Z"
   },
   {
    "duration": 27,
    "start_time": "2022-03-20T13:45:40.017Z"
   },
   {
    "duration": 21,
    "start_time": "2022-03-20T13:45:40.046Z"
   },
   {
    "duration": 19,
    "start_time": "2022-03-20T14:06:00.764Z"
   },
   {
    "duration": 30,
    "start_time": "2022-03-20T14:07:39.802Z"
   },
   {
    "duration": 20,
    "start_time": "2022-03-20T14:08:00.353Z"
   },
   {
    "duration": 1418,
    "start_time": "2022-03-20T14:08:37.645Z"
   },
   {
    "duration": 18,
    "start_time": "2022-03-20T14:08:58.230Z"
   },
   {
    "duration": 17,
    "start_time": "2022-03-20T14:09:15.590Z"
   },
   {
    "duration": 66,
    "start_time": "2022-03-20T14:09:50.544Z"
   },
   {
    "duration": 1375,
    "start_time": "2022-03-20T14:11:53.439Z"
   },
   {
    "duration": 1181,
    "start_time": "2022-03-20T14:12:29.274Z"
   },
   {
    "duration": 31,
    "start_time": "2022-03-20T14:13:50.321Z"
   },
   {
    "duration": 28,
    "start_time": "2022-03-20T14:14:15.274Z"
   },
   {
    "duration": 1196,
    "start_time": "2022-03-20T14:15:06.750Z"
   },
   {
    "duration": 67,
    "start_time": "2022-03-20T14:16:59.568Z"
   },
   {
    "duration": 27,
    "start_time": "2022-03-20T14:17:09.905Z"
   },
   {
    "duration": 19,
    "start_time": "2022-03-20T14:18:14.048Z"
   },
   {
    "duration": 17,
    "start_time": "2022-03-20T14:24:07.077Z"
   },
   {
    "duration": 18,
    "start_time": "2022-03-20T14:24:59.221Z"
   },
   {
    "duration": 65,
    "start_time": "2022-03-20T14:26:02.670Z"
   },
   {
    "duration": 18,
    "start_time": "2022-03-20T14:26:10.652Z"
   },
   {
    "duration": 968,
    "start_time": "2022-03-20T14:29:31.524Z"
   },
   {
    "duration": 888,
    "start_time": "2022-03-20T14:29:57.555Z"
   },
   {
    "duration": 19,
    "start_time": "2022-03-20T14:31:24.419Z"
   },
   {
    "duration": 15,
    "start_time": "2022-03-20T14:32:01.257Z"
   },
   {
    "duration": 21,
    "start_time": "2022-03-20T14:32:22.212Z"
   },
   {
    "duration": 44,
    "start_time": "2022-03-20T14:32:34.992Z"
   },
   {
    "duration": 34,
    "start_time": "2022-03-20T14:32:56.864Z"
   },
   {
    "duration": 28,
    "start_time": "2022-03-20T14:34:28.661Z"
   },
   {
    "duration": 37,
    "start_time": "2022-03-20T14:35:16.702Z"
   },
   {
    "duration": 4,
    "start_time": "2022-03-20T15:21:09.594Z"
   },
   {
    "duration": 9,
    "start_time": "2022-03-20T15:21:27.291Z"
   },
   {
    "duration": 20,
    "start_time": "2022-03-20T15:21:50.122Z"
   },
   {
    "duration": 18,
    "start_time": "2022-03-20T15:23:16.536Z"
   },
   {
    "duration": 18,
    "start_time": "2022-03-20T15:24:45.328Z"
   },
   {
    "duration": 100,
    "start_time": "2022-03-20T15:25:09.553Z"
   },
   {
    "duration": 8,
    "start_time": "2022-03-20T15:25:22.840Z"
   },
   {
    "duration": 17,
    "start_time": "2022-03-20T15:25:41.976Z"
   },
   {
    "duration": 96,
    "start_time": "2022-03-20T15:26:18.995Z"
   },
   {
    "duration": 18,
    "start_time": "2022-03-20T15:26:35.390Z"
   },
   {
    "duration": 74,
    "start_time": "2022-03-20T15:29:02.367Z"
   },
   {
    "duration": 557,
    "start_time": "2022-03-20T15:29:42.567Z"
   },
   {
    "duration": 19,
    "start_time": "2022-03-20T15:31:06.918Z"
   },
   {
    "duration": 17,
    "start_time": "2022-03-20T15:31:40.889Z"
   },
   {
    "duration": 20,
    "start_time": "2022-03-20T15:32:34.367Z"
   },
   {
    "duration": 11,
    "start_time": "2022-03-20T15:33:27.989Z"
   },
   {
    "duration": 61,
    "start_time": "2022-03-20T15:35:42.663Z"
   },
   {
    "duration": 23,
    "start_time": "2022-03-20T15:35:54.549Z"
   },
   {
    "duration": 17,
    "start_time": "2022-03-20T15:36:25.226Z"
   },
   {
    "duration": 17,
    "start_time": "2022-03-20T15:36:30.524Z"
   },
   {
    "duration": 18,
    "start_time": "2022-03-20T15:36:46.562Z"
   },
   {
    "duration": 17,
    "start_time": "2022-03-20T15:37:08.542Z"
   },
   {
    "duration": 17,
    "start_time": "2022-03-20T15:37:30.625Z"
   },
   {
    "duration": 16,
    "start_time": "2022-03-20T15:38:58.153Z"
   },
   {
    "duration": 22,
    "start_time": "2022-03-20T15:39:10.329Z"
   },
   {
    "duration": 17,
    "start_time": "2022-03-20T15:39:31.050Z"
   },
   {
    "duration": 15,
    "start_time": "2022-03-20T15:39:54.051Z"
   },
   {
    "duration": 22,
    "start_time": "2022-03-20T15:40:08.703Z"
   },
   {
    "duration": 17,
    "start_time": "2022-03-20T15:40:20.727Z"
   },
   {
    "duration": 16,
    "start_time": "2022-03-20T15:40:34.681Z"
   },
   {
    "duration": 113,
    "start_time": "2022-03-20T15:42:37.341Z"
   },
   {
    "duration": 17,
    "start_time": "2022-03-20T15:42:52.977Z"
   },
   {
    "duration": 16,
    "start_time": "2022-03-20T15:44:11.822Z"
   },
   {
    "duration": 22,
    "start_time": "2022-03-20T15:44:42.215Z"
   },
   {
    "duration": 17,
    "start_time": "2022-03-20T15:44:48.853Z"
   },
   {
    "duration": 22,
    "start_time": "2022-03-20T15:45:05.708Z"
   },
   {
    "duration": 18,
    "start_time": "2022-03-20T15:46:46.757Z"
   },
   {
    "duration": 19,
    "start_time": "2022-03-20T15:49:19.863Z"
   },
   {
    "duration": 18,
    "start_time": "2022-03-20T15:49:32.350Z"
   },
   {
    "duration": 19,
    "start_time": "2022-03-20T15:50:41.052Z"
   },
   {
    "duration": 16,
    "start_time": "2022-03-20T15:53:39.817Z"
   },
   {
    "duration": 21,
    "start_time": "2022-03-20T15:54:46.710Z"
   },
   {
    "duration": 15,
    "start_time": "2022-03-20T15:55:19.056Z"
   },
   {
    "duration": 15,
    "start_time": "2022-03-20T15:55:31.754Z"
   },
   {
    "duration": 17,
    "start_time": "2022-03-20T15:59:10.404Z"
   },
   {
    "duration": 16,
    "start_time": "2022-03-20T16:00:58.559Z"
   },
   {
    "duration": 17,
    "start_time": "2022-03-20T16:07:17.720Z"
   },
   {
    "duration": 18,
    "start_time": "2022-03-20T16:10:06.832Z"
   },
   {
    "duration": 19,
    "start_time": "2022-03-20T16:14:25.209Z"
   },
   {
    "duration": 19,
    "start_time": "2022-03-20T16:14:51.238Z"
   },
   {
    "duration": 30,
    "start_time": "2022-03-20T16:16:53.405Z"
   },
   {
    "duration": 18,
    "start_time": "2022-03-20T16:18:13.133Z"
   },
   {
    "duration": 20,
    "start_time": "2022-03-20T16:19:46.487Z"
   },
   {
    "duration": 14,
    "start_time": "2022-03-20T16:28:54.645Z"
   },
   {
    "duration": 193,
    "start_time": "2022-03-20T16:36:53.704Z"
   },
   {
    "duration": 23,
    "start_time": "2022-03-20T16:36:53.900Z"
   },
   {
    "duration": 13,
    "start_time": "2022-03-20T16:36:53.925Z"
   },
   {
    "duration": 8,
    "start_time": "2022-03-20T16:36:53.940Z"
   },
   {
    "duration": 25,
    "start_time": "2022-03-20T16:36:53.949Z"
   },
   {
    "duration": 48,
    "start_time": "2022-03-20T16:36:53.976Z"
   },
   {
    "duration": 44,
    "start_time": "2022-03-20T16:36:54.026Z"
   },
   {
    "duration": 48,
    "start_time": "2022-03-20T16:36:54.072Z"
   },
   {
    "duration": 16,
    "start_time": "2022-03-20T16:36:54.125Z"
   },
   {
    "duration": 7,
    "start_time": "2022-03-20T16:36:54.143Z"
   },
   {
    "duration": 7,
    "start_time": "2022-03-20T16:36:54.151Z"
   },
   {
    "duration": 8,
    "start_time": "2022-03-20T16:36:54.160Z"
   },
   {
    "duration": 15,
    "start_time": "2022-03-20T16:36:54.211Z"
   },
   {
    "duration": 13,
    "start_time": "2022-03-20T16:36:54.228Z"
   },
   {
    "duration": 11,
    "start_time": "2022-03-20T16:36:54.243Z"
   },
   {
    "duration": 12,
    "start_time": "2022-03-20T16:36:54.256Z"
   },
   {
    "duration": 66,
    "start_time": "2022-03-20T16:36:54.270Z"
   },
   {
    "duration": 21,
    "start_time": "2022-03-20T16:36:54.337Z"
   },
   {
    "duration": 19,
    "start_time": "2022-03-20T16:36:54.360Z"
   },
   {
    "duration": 47,
    "start_time": "2022-03-20T16:36:54.382Z"
   },
   {
    "duration": 18,
    "start_time": "2022-03-20T16:36:54.431Z"
   },
   {
    "duration": 19,
    "start_time": "2022-03-20T16:36:54.451Z"
   },
   {
    "duration": 70,
    "start_time": "2022-03-20T16:39:11.288Z"
   },
   {
    "duration": 11,
    "start_time": "2022-03-20T16:45:01.458Z"
   },
   {
    "duration": 69,
    "start_time": "2022-03-20T16:45:07.873Z"
   },
   {
    "duration": 14,
    "start_time": "2022-03-20T16:45:07.944Z"
   },
   {
    "duration": 15,
    "start_time": "2022-03-20T16:45:07.960Z"
   },
   {
    "duration": 32,
    "start_time": "2022-03-20T16:45:07.977Z"
   },
   {
    "duration": 9,
    "start_time": "2022-03-20T16:45:08.011Z"
   },
   {
    "duration": 25,
    "start_time": "2022-03-20T16:45:08.022Z"
   },
   {
    "duration": 17,
    "start_time": "2022-03-20T16:45:08.048Z"
   },
   {
    "duration": 79,
    "start_time": "2022-03-20T16:45:08.067Z"
   },
   {
    "duration": 23,
    "start_time": "2022-03-20T16:45:08.149Z"
   },
   {
    "duration": 45,
    "start_time": "2022-03-20T16:45:08.175Z"
   },
   {
    "duration": 16,
    "start_time": "2022-03-20T16:45:08.222Z"
   },
   {
    "duration": 12,
    "start_time": "2022-03-20T16:45:08.240Z"
   },
   {
    "duration": 17,
    "start_time": "2022-03-20T16:45:08.254Z"
   },
   {
    "duration": 8,
    "start_time": "2022-03-20T16:45:08.273Z"
   },
   {
    "duration": 27,
    "start_time": "2022-03-20T16:45:08.283Z"
   },
   {
    "duration": 13,
    "start_time": "2022-03-20T16:45:08.312Z"
   },
   {
    "duration": 13,
    "start_time": "2022-03-20T16:45:08.326Z"
   },
   {
    "duration": 24,
    "start_time": "2022-03-20T16:45:08.341Z"
   },
   {
    "duration": 50,
    "start_time": "2022-03-20T16:45:08.367Z"
   },
   {
    "duration": 26,
    "start_time": "2022-03-20T16:45:08.420Z"
   },
   {
    "duration": 19,
    "start_time": "2022-03-20T16:45:08.448Z"
   },
   {
    "duration": 41,
    "start_time": "2022-03-20T16:45:08.469Z"
   },
   {
    "duration": 21,
    "start_time": "2022-03-20T16:45:08.511Z"
   },
   {
    "duration": 4,
    "start_time": "2022-03-20T16:48:32.280Z"
   },
   {
    "duration": 18,
    "start_time": "2022-03-20T16:48:40.546Z"
   },
   {
    "duration": 66,
    "start_time": "2022-03-20T16:49:34.143Z"
   },
   {
    "duration": 15,
    "start_time": "2022-03-20T16:49:34.211Z"
   },
   {
    "duration": 11,
    "start_time": "2022-03-20T16:49:34.228Z"
   },
   {
    "duration": 16,
    "start_time": "2022-03-20T16:49:34.241Z"
   },
   {
    "duration": 52,
    "start_time": "2022-03-20T16:49:34.259Z"
   },
   {
    "duration": 10,
    "start_time": "2022-03-20T16:49:34.313Z"
   },
   {
    "duration": 26,
    "start_time": "2022-03-20T16:49:34.325Z"
   },
   {
    "duration": 19,
    "start_time": "2022-03-20T16:49:34.353Z"
   },
   {
    "duration": 50,
    "start_time": "2022-03-20T16:49:34.408Z"
   },
   {
    "duration": 55,
    "start_time": "2022-03-20T16:49:34.461Z"
   },
   {
    "duration": 17,
    "start_time": "2022-03-20T16:49:34.518Z"
   },
   {
    "duration": 8,
    "start_time": "2022-03-20T16:49:34.537Z"
   },
   {
    "duration": 7,
    "start_time": "2022-03-20T16:49:34.547Z"
   },
   {
    "duration": 10,
    "start_time": "2022-03-20T16:49:34.555Z"
   },
   {
    "duration": 43,
    "start_time": "2022-03-20T16:49:34.567Z"
   },
   {
    "duration": 14,
    "start_time": "2022-03-20T16:49:34.612Z"
   },
   {
    "duration": 13,
    "start_time": "2022-03-20T16:49:34.628Z"
   },
   {
    "duration": 15,
    "start_time": "2022-03-20T16:49:34.643Z"
   },
   {
    "duration": 59,
    "start_time": "2022-03-20T16:49:34.660Z"
   },
   {
    "duration": 25,
    "start_time": "2022-03-20T16:49:34.721Z"
   },
   {
    "duration": 19,
    "start_time": "2022-03-20T16:49:34.748Z"
   },
   {
    "duration": 41,
    "start_time": "2022-03-20T16:49:34.769Z"
   },
   {
    "duration": 21,
    "start_time": "2022-03-20T16:49:34.811Z"
   },
   {
    "duration": 25,
    "start_time": "2022-03-20T16:49:34.834Z"
   },
   {
    "duration": 19,
    "start_time": "2022-03-20T16:58:45.086Z"
   },
   {
    "duration": 22,
    "start_time": "2022-03-20T17:00:06.261Z"
   },
   {
    "duration": 19,
    "start_time": "2022-03-20T17:00:17.027Z"
   },
   {
    "duration": 19,
    "start_time": "2022-03-20T17:02:40.959Z"
   },
   {
    "duration": 102,
    "start_time": "2022-03-20T17:03:35.492Z"
   },
   {
    "duration": 19,
    "start_time": "2022-03-20T17:03:47.845Z"
   },
   {
    "duration": 19,
    "start_time": "2022-03-20T17:03:59.953Z"
   },
   {
    "duration": 19,
    "start_time": "2022-03-20T17:04:07.113Z"
   },
   {
    "duration": 21,
    "start_time": "2022-03-20T17:04:21.863Z"
   },
   {
    "duration": 8,
    "start_time": "2022-03-20T17:08:36.888Z"
   },
   {
    "duration": 72,
    "start_time": "2022-03-20T17:08:41.541Z"
   },
   {
    "duration": 16,
    "start_time": "2022-03-20T17:08:41.615Z"
   },
   {
    "duration": 12,
    "start_time": "2022-03-20T17:08:41.632Z"
   },
   {
    "duration": 18,
    "start_time": "2022-03-20T17:08:41.646Z"
   },
   {
    "duration": 5,
    "start_time": "2022-03-20T17:08:41.666Z"
   },
   {
    "duration": 43,
    "start_time": "2022-03-20T17:08:41.673Z"
   },
   {
    "duration": 26,
    "start_time": "2022-03-20T17:08:41.717Z"
   },
   {
    "duration": 18,
    "start_time": "2022-03-20T17:08:41.745Z"
   },
   {
    "duration": 83,
    "start_time": "2022-03-20T17:08:41.764Z"
   },
   {
    "duration": 20,
    "start_time": "2022-03-20T17:08:41.850Z"
   },
   {
    "duration": 40,
    "start_time": "2022-03-20T17:08:41.872Z"
   },
   {
    "duration": 8,
    "start_time": "2022-03-20T17:08:41.913Z"
   },
   {
    "duration": 8,
    "start_time": "2022-03-20T17:08:41.923Z"
   },
   {
    "duration": 10,
    "start_time": "2022-03-20T17:08:41.933Z"
   },
   {
    "duration": 6,
    "start_time": "2022-03-20T17:08:41.944Z"
   },
   {
    "duration": 13,
    "start_time": "2022-03-20T17:08:41.952Z"
   },
   {
    "duration": 51,
    "start_time": "2022-03-20T17:08:41.967Z"
   },
   {
    "duration": 13,
    "start_time": "2022-03-20T17:08:42.020Z"
   },
   {
    "duration": 23,
    "start_time": "2022-03-20T17:08:42.035Z"
   },
   {
    "duration": 20,
    "start_time": "2022-03-20T17:08:42.059Z"
   },
   {
    "duration": 26,
    "start_time": "2022-03-20T17:08:42.109Z"
   },
   {
    "duration": 21,
    "start_time": "2022-03-20T17:08:42.137Z"
   },
   {
    "duration": 19,
    "start_time": "2022-03-20T17:08:42.160Z"
   },
   {
    "duration": 44,
    "start_time": "2022-03-20T17:08:42.181Z"
   },
   {
    "duration": 68,
    "start_time": "2022-03-20T17:12:54.972Z"
   },
   {
    "duration": 17,
    "start_time": "2022-03-20T17:12:55.043Z"
   },
   {
    "duration": 13,
    "start_time": "2022-03-20T17:12:55.062Z"
   },
   {
    "duration": 51,
    "start_time": "2022-03-20T17:12:55.078Z"
   },
   {
    "duration": 6,
    "start_time": "2022-03-20T17:12:55.131Z"
   },
   {
    "duration": 12,
    "start_time": "2022-03-20T17:12:55.139Z"
   },
   {
    "duration": 19,
    "start_time": "2022-03-20T17:12:55.153Z"
   },
   {
    "duration": 79,
    "start_time": "2022-03-20T17:12:55.174Z"
   },
   {
    "duration": 20,
    "start_time": "2022-03-20T17:12:55.255Z"
   },
   {
    "duration": 43,
    "start_time": "2022-03-20T17:12:55.278Z"
   },
   {
    "duration": 11,
    "start_time": "2022-03-20T17:12:55.323Z"
   },
   {
    "duration": 6,
    "start_time": "2022-03-20T17:12:55.336Z"
   },
   {
    "duration": 7,
    "start_time": "2022-03-20T17:12:55.344Z"
   },
   {
    "duration": 7,
    "start_time": "2022-03-20T17:12:55.353Z"
   },
   {
    "duration": 12,
    "start_time": "2022-03-20T17:12:55.362Z"
   },
   {
    "duration": 44,
    "start_time": "2022-03-20T17:12:55.375Z"
   },
   {
    "duration": 14,
    "start_time": "2022-03-20T17:12:55.420Z"
   },
   {
    "duration": 34,
    "start_time": "2022-03-20T17:12:55.436Z"
   },
   {
    "duration": 19,
    "start_time": "2022-03-20T17:12:55.472Z"
   },
   {
    "duration": 27,
    "start_time": "2022-03-20T17:12:55.509Z"
   },
   {
    "duration": 18,
    "start_time": "2022-03-20T17:12:55.538Z"
   },
   {
    "duration": 20,
    "start_time": "2022-03-20T17:12:55.558Z"
   },
   {
    "duration": 41,
    "start_time": "2022-03-20T17:12:55.580Z"
   },
   {
    "duration": 37,
    "start_time": "2022-03-20T17:18:33.394Z"
   },
   {
    "duration": 9,
    "start_time": "2022-03-20T17:37:43.715Z"
   },
   {
    "duration": 808,
    "start_time": "2022-03-20T17:37:51.371Z"
   },
   {
    "duration": 74,
    "start_time": "2022-03-20T17:41:31.177Z"
   },
   {
    "duration": 32,
    "start_time": "2022-03-20T17:41:38.262Z"
   },
   {
    "duration": 323,
    "start_time": "2022-03-20T17:42:01.032Z"
   },
   {
    "duration": 166,
    "start_time": "2022-03-20T17:45:32.869Z"
   },
   {
    "duration": 71,
    "start_time": "2022-03-20T17:48:39.694Z"
   },
   {
    "duration": 66,
    "start_time": "2022-03-20T17:50:12.560Z"
   },
   {
    "duration": 67,
    "start_time": "2022-03-20T17:50:20.104Z"
   },
   {
    "duration": 14,
    "start_time": "2022-03-20T17:51:36.581Z"
   },
   {
    "duration": 188,
    "start_time": "2022-03-20T17:51:42.672Z"
   },
   {
    "duration": 22,
    "start_time": "2022-03-20T17:52:00.011Z"
   },
   {
    "duration": 14,
    "start_time": "2022-03-20T17:52:09.833Z"
   },
   {
    "duration": 172,
    "start_time": "2022-03-20T17:52:41.358Z"
   },
   {
    "duration": 68,
    "start_time": "2022-03-20T17:53:50.822Z"
   },
   {
    "duration": 671,
    "start_time": "2022-03-20T17:57:11.660Z"
   },
   {
    "duration": 167,
    "start_time": "2022-03-20T17:57:48.900Z"
   },
   {
    "duration": 136,
    "start_time": "2022-03-20T18:00:05.107Z"
   },
   {
    "duration": 178,
    "start_time": "2022-03-20T18:00:53.276Z"
   },
   {
    "duration": 60,
    "start_time": "2022-03-20T18:02:04.738Z"
   },
   {
    "duration": 62,
    "start_time": "2022-03-20T18:02:12.876Z"
   },
   {
    "duration": 70,
    "start_time": "2022-03-20T18:02:21.452Z"
   },
   {
    "duration": 183,
    "start_time": "2022-03-20T18:02:33.208Z"
   },
   {
    "duration": 74,
    "start_time": "2022-03-20T18:11:31.809Z"
   },
   {
    "duration": 181,
    "start_time": "2022-03-20T18:11:40.869Z"
   },
   {
    "duration": 188,
    "start_time": "2022-03-20T18:18:48.174Z"
   },
   {
    "duration": 361,
    "start_time": "2022-03-20T18:19:25.124Z"
   },
   {
    "duration": 213,
    "start_time": "2022-03-20T18:19:47.011Z"
   },
   {
    "duration": 219,
    "start_time": "2022-03-20T18:21:18.807Z"
   },
   {
    "duration": 185,
    "start_time": "2022-03-20T18:22:06.904Z"
   },
   {
    "duration": 75,
    "start_time": "2022-03-20T18:22:34.477Z"
   },
   {
    "duration": 16,
    "start_time": "2022-03-20T18:22:34.554Z"
   },
   {
    "duration": 11,
    "start_time": "2022-03-20T18:22:34.572Z"
   },
   {
    "duration": 37,
    "start_time": "2022-03-20T18:22:34.586Z"
   },
   {
    "duration": 183,
    "start_time": "2022-03-20T18:22:34.624Z"
   },
   {
    "duration": 183,
    "start_time": "2022-03-20T18:22:34.809Z"
   },
   {
    "duration": 0,
    "start_time": "2022-03-20T18:22:34.994Z"
   },
   {
    "duration": 0,
    "start_time": "2022-03-20T18:22:34.996Z"
   },
   {
    "duration": 0,
    "start_time": "2022-03-20T18:22:34.997Z"
   },
   {
    "duration": 0,
    "start_time": "2022-03-20T18:22:34.998Z"
   },
   {
    "duration": 0,
    "start_time": "2022-03-20T18:22:34.999Z"
   },
   {
    "duration": 0,
    "start_time": "2022-03-20T18:22:35.008Z"
   },
   {
    "duration": 0,
    "start_time": "2022-03-20T18:22:35.009Z"
   },
   {
    "duration": 0,
    "start_time": "2022-03-20T18:22:35.011Z"
   },
   {
    "duration": 0,
    "start_time": "2022-03-20T18:22:35.012Z"
   },
   {
    "duration": 0,
    "start_time": "2022-03-20T18:22:35.013Z"
   },
   {
    "duration": 0,
    "start_time": "2022-03-20T18:22:35.014Z"
   },
   {
    "duration": 0,
    "start_time": "2022-03-20T18:22:35.015Z"
   },
   {
    "duration": 0,
    "start_time": "2022-03-20T18:22:35.016Z"
   },
   {
    "duration": 0,
    "start_time": "2022-03-20T18:22:35.017Z"
   },
   {
    "duration": 0,
    "start_time": "2022-03-20T18:22:35.018Z"
   },
   {
    "duration": 0,
    "start_time": "2022-03-20T18:22:35.019Z"
   },
   {
    "duration": 0,
    "start_time": "2022-03-20T18:22:35.020Z"
   },
   {
    "duration": 0,
    "start_time": "2022-03-20T18:22:35.021Z"
   },
   {
    "duration": 0,
    "start_time": "2022-03-20T18:22:35.022Z"
   },
   {
    "duration": 167,
    "start_time": "2022-03-20T18:23:30.484Z"
   },
   {
    "duration": 159,
    "start_time": "2022-03-20T18:23:41.655Z"
   },
   {
    "duration": 71,
    "start_time": "2022-03-20T18:23:51.281Z"
   },
   {
    "duration": 15,
    "start_time": "2022-03-20T18:23:51.354Z"
   },
   {
    "duration": 12,
    "start_time": "2022-03-20T18:23:51.371Z"
   },
   {
    "duration": 39,
    "start_time": "2022-03-20T18:23:51.385Z"
   },
   {
    "duration": 184,
    "start_time": "2022-03-20T18:23:51.425Z"
   },
   {
    "duration": 172,
    "start_time": "2022-03-20T18:23:51.610Z"
   },
   {
    "duration": 6,
    "start_time": "2022-03-20T18:23:51.784Z"
   },
   {
    "duration": 20,
    "start_time": "2022-03-20T18:23:51.792Z"
   },
   {
    "duration": 19,
    "start_time": "2022-03-20T18:23:51.814Z"
   },
   {
    "duration": 39,
    "start_time": "2022-03-20T18:23:51.836Z"
   },
   {
    "duration": 48,
    "start_time": "2022-03-20T18:23:51.876Z"
   },
   {
    "duration": 16,
    "start_time": "2022-03-20T18:23:51.925Z"
   },
   {
    "duration": 11,
    "start_time": "2022-03-20T18:23:51.942Z"
   },
   {
    "duration": 7,
    "start_time": "2022-03-20T18:23:51.955Z"
   },
   {
    "duration": 7,
    "start_time": "2022-03-20T18:23:51.963Z"
   },
   {
    "duration": 42,
    "start_time": "2022-03-20T18:23:51.972Z"
   },
   {
    "duration": 14,
    "start_time": "2022-03-20T18:23:52.015Z"
   },
   {
    "duration": 12,
    "start_time": "2022-03-20T18:23:52.031Z"
   },
   {
    "duration": 13,
    "start_time": "2022-03-20T18:23:52.044Z"
   },
   {
    "duration": 53,
    "start_time": "2022-03-20T18:23:52.059Z"
   },
   {
    "duration": 18,
    "start_time": "2022-03-20T18:23:52.114Z"
   },
   {
    "duration": 18,
    "start_time": "2022-03-20T18:23:52.134Z"
   },
   {
    "duration": 18,
    "start_time": "2022-03-20T18:23:52.153Z"
   },
   {
    "duration": 47,
    "start_time": "2022-03-20T18:23:52.172Z"
   },
   {
    "duration": 19,
    "start_time": "2022-03-20T18:23:52.220Z"
   },
   {
    "duration": 164,
    "start_time": "2022-03-20T18:25:35.825Z"
   },
   {
    "duration": 157,
    "start_time": "2022-03-20T18:25:42.877Z"
   },
   {
    "duration": 172,
    "start_time": "2022-03-20T18:25:51.897Z"
   },
   {
    "duration": 61,
    "start_time": "2022-03-20T18:26:59.269Z"
   },
   {
    "duration": 77,
    "start_time": "2022-03-20T18:28:01.036Z"
   },
   {
    "duration": 186,
    "start_time": "2022-03-20T18:28:12.122Z"
   },
   {
    "duration": 227,
    "start_time": "2022-03-20T18:29:18.787Z"
   },
   {
    "duration": 146,
    "start_time": "2022-03-20T18:42:15.617Z"
   },
   {
    "duration": 273,
    "start_time": "2022-03-20T18:44:56.418Z"
   },
   {
    "duration": 392,
    "start_time": "2022-03-20T18:52:00.557Z"
   },
   {
    "duration": 108,
    "start_time": "2022-03-20T18:57:36.534Z"
   },
   {
    "duration": 73,
    "start_time": "2022-03-20T18:59:53.629Z"
   },
   {
    "duration": 16,
    "start_time": "2022-03-20T18:59:53.706Z"
   },
   {
    "duration": 11,
    "start_time": "2022-03-20T18:59:53.723Z"
   },
   {
    "duration": 16,
    "start_time": "2022-03-20T18:59:53.736Z"
   },
   {
    "duration": 192,
    "start_time": "2022-03-20T18:59:53.754Z"
   },
   {
    "duration": 282,
    "start_time": "2022-03-20T18:59:53.947Z"
   },
   {
    "duration": 221,
    "start_time": "2022-03-20T18:59:54.230Z"
   },
   {
    "duration": 6,
    "start_time": "2022-03-20T18:59:54.452Z"
   },
   {
    "duration": 9,
    "start_time": "2022-03-20T18:59:54.459Z"
   },
   {
    "duration": 39,
    "start_time": "2022-03-20T18:59:54.471Z"
   },
   {
    "duration": 34,
    "start_time": "2022-03-20T18:59:54.511Z"
   },
   {
    "duration": 19,
    "start_time": "2022-03-20T18:59:54.546Z"
   },
   {
    "duration": 44,
    "start_time": "2022-03-20T18:59:54.566Z"
   },
   {
    "duration": 8,
    "start_time": "2022-03-20T18:59:54.612Z"
   },
   {
    "duration": 9,
    "start_time": "2022-03-20T18:59:54.622Z"
   },
   {
    "duration": 7,
    "start_time": "2022-03-20T18:59:54.632Z"
   },
   {
    "duration": 7,
    "start_time": "2022-03-20T18:59:54.641Z"
   },
   {
    "duration": 13,
    "start_time": "2022-03-20T18:59:54.650Z"
   },
   {
    "duration": 45,
    "start_time": "2022-03-20T18:59:54.665Z"
   },
   {
    "duration": 15,
    "start_time": "2022-03-20T18:59:54.711Z"
   },
   {
    "duration": 24,
    "start_time": "2022-03-20T18:59:54.727Z"
   },
   {
    "duration": 19,
    "start_time": "2022-03-20T18:59:54.752Z"
   },
   {
    "duration": 39,
    "start_time": "2022-03-20T18:59:54.773Z"
   },
   {
    "duration": 19,
    "start_time": "2022-03-20T18:59:54.814Z"
   },
   {
    "duration": 17,
    "start_time": "2022-03-20T18:59:54.835Z"
   },
   {
    "duration": 17,
    "start_time": "2022-03-20T18:59:54.854Z"
   },
   {
    "duration": 166,
    "start_time": "2022-03-20T19:03:12.231Z"
   },
   {
    "duration": 291,
    "start_time": "2022-03-20T19:03:32.643Z"
   },
   {
    "duration": 225,
    "start_time": "2022-03-20T19:05:12.229Z"
   },
   {
    "duration": 77,
    "start_time": "2022-03-20T19:08:02.874Z"
   },
   {
    "duration": 15,
    "start_time": "2022-03-20T19:08:02.953Z"
   },
   {
    "duration": 12,
    "start_time": "2022-03-20T19:08:02.969Z"
   },
   {
    "duration": 43,
    "start_time": "2022-03-20T19:08:02.983Z"
   },
   {
    "duration": 185,
    "start_time": "2022-03-20T19:08:03.027Z"
   },
   {
    "duration": 287,
    "start_time": "2022-03-20T19:08:03.214Z"
   },
   {
    "duration": 238,
    "start_time": "2022-03-20T19:08:03.503Z"
   },
   {
    "duration": 7,
    "start_time": "2022-03-20T19:08:03.743Z"
   },
   {
    "duration": 9,
    "start_time": "2022-03-20T19:08:03.752Z"
   },
   {
    "duration": 44,
    "start_time": "2022-03-20T19:08:03.765Z"
   },
   {
    "duration": 35,
    "start_time": "2022-03-20T19:08:03.811Z"
   },
   {
    "duration": 23,
    "start_time": "2022-03-20T19:08:03.848Z"
   },
   {
    "duration": 17,
    "start_time": "2022-03-20T19:08:03.908Z"
   },
   {
    "duration": 8,
    "start_time": "2022-03-20T19:08:03.927Z"
   },
   {
    "duration": 6,
    "start_time": "2022-03-20T19:08:03.937Z"
   },
   {
    "duration": 8,
    "start_time": "2022-03-20T19:08:03.945Z"
   },
   {
    "duration": 7,
    "start_time": "2022-03-20T19:08:03.955Z"
   },
   {
    "duration": 50,
    "start_time": "2022-03-20T19:08:03.964Z"
   },
   {
    "duration": 13,
    "start_time": "2022-03-20T19:08:04.016Z"
   },
   {
    "duration": 14,
    "start_time": "2022-03-20T19:08:04.031Z"
   },
   {
    "duration": 20,
    "start_time": "2022-03-20T19:08:04.046Z"
   },
   {
    "duration": 51,
    "start_time": "2022-03-20T19:08:04.068Z"
   },
   {
    "duration": 24,
    "start_time": "2022-03-20T19:08:04.121Z"
   },
   {
    "duration": 17,
    "start_time": "2022-03-20T19:08:04.146Z"
   },
   {
    "duration": 17,
    "start_time": "2022-03-20T19:08:04.165Z"
   },
   {
    "duration": 40,
    "start_time": "2022-03-20T19:08:04.184Z"
   },
   {
    "duration": 79,
    "start_time": "2022-03-20T19:09:16.821Z"
   },
   {
    "duration": 16,
    "start_time": "2022-03-20T19:09:16.902Z"
   },
   {
    "duration": 11,
    "start_time": "2022-03-20T19:09:16.919Z"
   },
   {
    "duration": 21,
    "start_time": "2022-03-20T19:09:16.932Z"
   },
   {
    "duration": 196,
    "start_time": "2022-03-20T19:09:16.954Z"
   },
   {
    "duration": 426,
    "start_time": "2022-03-20T19:09:17.151Z"
   },
   {
    "duration": 234,
    "start_time": "2022-03-20T19:09:17.578Z"
   },
   {
    "duration": 6,
    "start_time": "2022-03-20T19:09:17.813Z"
   },
   {
    "duration": 8,
    "start_time": "2022-03-20T19:09:17.821Z"
   },
   {
    "duration": 19,
    "start_time": "2022-03-20T19:09:17.832Z"
   },
   {
    "duration": 66,
    "start_time": "2022-03-20T19:09:17.852Z"
   },
   {
    "duration": 18,
    "start_time": "2022-03-20T19:09:17.920Z"
   },
   {
    "duration": 15,
    "start_time": "2022-03-20T19:09:17.940Z"
   },
   {
    "duration": 7,
    "start_time": "2022-03-20T19:09:17.957Z"
   },
   {
    "duration": 44,
    "start_time": "2022-03-20T19:09:17.966Z"
   },
   {
    "duration": 8,
    "start_time": "2022-03-20T19:09:18.012Z"
   },
   {
    "duration": 7,
    "start_time": "2022-03-20T19:09:18.021Z"
   },
   {
    "duration": 13,
    "start_time": "2022-03-20T19:09:18.030Z"
   },
   {
    "duration": 12,
    "start_time": "2022-03-20T19:09:18.044Z"
   },
   {
    "duration": 13,
    "start_time": "2022-03-20T19:09:18.058Z"
   },
   {
    "duration": 21,
    "start_time": "2022-03-20T19:09:18.109Z"
   },
   {
    "duration": 20,
    "start_time": "2022-03-20T19:09:18.132Z"
   },
   {
    "duration": 25,
    "start_time": "2022-03-20T19:09:18.153Z"
   },
   {
    "duration": 38,
    "start_time": "2022-03-20T19:09:18.180Z"
   },
   {
    "duration": 19,
    "start_time": "2022-03-20T19:09:18.220Z"
   },
   {
    "duration": 18,
    "start_time": "2022-03-20T19:09:18.241Z"
   },
   {
    "duration": 81,
    "start_time": "2022-03-20T19:15:55.667Z"
   },
   {
    "duration": 18,
    "start_time": "2022-03-20T19:15:55.750Z"
   },
   {
    "duration": 11,
    "start_time": "2022-03-20T19:15:55.769Z"
   },
   {
    "duration": 39,
    "start_time": "2022-03-20T19:15:55.782Z"
   },
   {
    "duration": 192,
    "start_time": "2022-03-20T19:15:55.823Z"
   },
   {
    "duration": 310,
    "start_time": "2022-03-20T19:15:56.017Z"
   },
   {
    "duration": 247,
    "start_time": "2022-03-20T19:15:56.329Z"
   },
   {
    "duration": 7,
    "start_time": "2022-03-20T19:15:56.578Z"
   },
   {
    "duration": 24,
    "start_time": "2022-03-20T19:15:56.587Z"
   },
   {
    "duration": 21,
    "start_time": "2022-03-20T19:15:56.614Z"
   },
   {
    "duration": 36,
    "start_time": "2022-03-20T19:15:56.636Z"
   },
   {
    "duration": 47,
    "start_time": "2022-03-20T19:15:56.674Z"
   },
   {
    "duration": 16,
    "start_time": "2022-03-20T19:15:56.723Z"
   },
   {
    "duration": 8,
    "start_time": "2022-03-20T19:15:56.740Z"
   },
   {
    "duration": 7,
    "start_time": "2022-03-20T19:15:56.749Z"
   },
   {
    "duration": 7,
    "start_time": "2022-03-20T19:15:56.758Z"
   },
   {
    "duration": 47,
    "start_time": "2022-03-20T19:15:56.768Z"
   },
   {
    "duration": 13,
    "start_time": "2022-03-20T19:15:56.817Z"
   },
   {
    "duration": 14,
    "start_time": "2022-03-20T19:15:56.832Z"
   },
   {
    "duration": 14,
    "start_time": "2022-03-20T19:15:56.848Z"
   },
   {
    "duration": 60,
    "start_time": "2022-03-20T19:15:56.864Z"
   },
   {
    "duration": 28,
    "start_time": "2022-03-20T19:15:56.926Z"
   },
   {
    "duration": 21,
    "start_time": "2022-03-20T19:15:56.956Z"
   },
   {
    "duration": 43,
    "start_time": "2022-03-20T19:15:56.979Z"
   },
   {
    "duration": 19,
    "start_time": "2022-03-20T19:15:57.024Z"
   },
   {
    "duration": 19,
    "start_time": "2022-03-20T19:15:57.045Z"
   },
   {
    "duration": 1699,
    "start_time": "2022-05-04T09:41:51.772Z"
   },
   {
    "duration": 112,
    "start_time": "2022-05-04T09:42:26.213Z"
   },
   {
    "duration": 4,
    "start_time": "2022-05-04T09:42:34.345Z"
   },
   {
    "duration": 88,
    "start_time": "2022-05-04T09:42:34.354Z"
   },
   {
    "duration": 4965,
    "start_time": "2022-05-04T09:42:34.444Z"
   },
   {
    "duration": 7,
    "start_time": "2022-05-04T09:42:39.411Z"
   },
   {
    "duration": 8,
    "start_time": "2022-05-04T09:42:39.420Z"
   },
   {
    "duration": 6,
    "start_time": "2022-05-04T09:42:39.430Z"
   },
   {
    "duration": 8,
    "start_time": "2022-05-04T09:42:39.437Z"
   },
   {
    "duration": 7,
    "start_time": "2022-05-04T09:42:39.446Z"
   },
   {
    "duration": 81,
    "start_time": "2022-05-04T09:42:39.454Z"
   },
   {
    "duration": 23304,
    "start_time": "2022-05-04T09:42:39.537Z"
   },
   {
    "duration": 893,
    "start_time": "2022-05-04T09:43:02.844Z"
   },
   {
    "duration": 136,
    "start_time": "2022-05-04T09:43:03.739Z"
   },
   {
    "duration": 5,
    "start_time": "2022-05-04T09:43:03.876Z"
   },
   {
    "duration": 16,
    "start_time": "2022-05-04T09:43:03.883Z"
   },
   {
    "duration": 4638,
    "start_time": "2022-05-04T09:55:44.085Z"
   },
   {
    "duration": 4923,
    "start_time": "2022-05-04T09:59:58.109Z"
   },
   {
    "duration": 127,
    "start_time": "2022-05-04T10:54:46.168Z"
   },
   {
    "duration": 12,
    "start_time": "2022-05-04T10:56:32.643Z"
   },
   {
    "duration": 7,
    "start_time": "2022-05-04T10:57:12.871Z"
   },
   {
    "duration": 7,
    "start_time": "2022-05-04T10:58:19.586Z"
   },
   {
    "duration": 150,
    "start_time": "2022-05-04T10:59:51.089Z"
   },
   {
    "duration": 141,
    "start_time": "2022-05-04T11:58:34.364Z"
   },
   {
    "duration": 7,
    "start_time": "2022-05-04T11:59:30.389Z"
   },
   {
    "duration": 12,
    "start_time": "2022-05-04T12:00:08.712Z"
   },
   {
    "duration": 12,
    "start_time": "2022-05-04T12:01:48.912Z"
   },
   {
    "duration": 7,
    "start_time": "2022-05-04T12:01:50.830Z"
   },
   {
    "duration": 153,
    "start_time": "2022-05-04T12:02:04.164Z"
   },
   {
    "duration": 151,
    "start_time": "2022-05-04T12:05:51.929Z"
   },
   {
    "duration": 69,
    "start_time": "2022-05-04T12:23:46.578Z"
   },
   {
    "duration": 11,
    "start_time": "2022-05-04T12:29:01.957Z"
   },
   {
    "duration": 5,
    "start_time": "2022-05-04T12:29:20.482Z"
   },
   {
    "duration": 312,
    "start_time": "2022-05-04T12:29:36.332Z"
   },
   {
    "duration": 5,
    "start_time": "2022-05-04T12:30:14.969Z"
   },
   {
    "duration": 108,
    "start_time": "2022-05-04T12:30:14.980Z"
   },
   {
    "duration": 4990,
    "start_time": "2022-05-04T12:30:15.090Z"
   },
   {
    "duration": 7,
    "start_time": "2022-05-04T12:30:20.081Z"
   },
   {
    "duration": 6,
    "start_time": "2022-05-04T12:30:20.091Z"
   },
   {
    "duration": 9,
    "start_time": "2022-05-04T12:30:20.099Z"
   },
   {
    "duration": 6,
    "start_time": "2022-05-04T12:30:20.109Z"
   },
   {
    "duration": 7,
    "start_time": "2022-05-04T12:30:20.117Z"
   },
   {
    "duration": 96,
    "start_time": "2022-05-04T12:30:20.126Z"
   },
   {
    "duration": 326,
    "start_time": "2022-05-04T12:30:20.224Z"
   },
   {
    "duration": 22852,
    "start_time": "2022-05-04T12:30:20.553Z"
   },
   {
    "duration": 845,
    "start_time": "2022-05-04T12:30:43.407Z"
   },
   {
    "duration": 6,
    "start_time": "2022-05-04T12:30:44.254Z"
   },
   {
    "duration": 11,
    "start_time": "2022-05-04T12:30:44.274Z"
   },
   {
    "duration": 156,
    "start_time": "2022-05-04T12:30:44.286Z"
   },
   {
    "duration": 4,
    "start_time": "2022-05-04T12:30:44.443Z"
   },
   {
    "duration": 9,
    "start_time": "2022-05-04T12:30:44.449Z"
   },
   {
    "duration": 330,
    "start_time": "2022-05-04T12:35:27.457Z"
   },
   {
    "duration": 62,
    "start_time": "2022-06-03T08:15:43.843Z"
   },
   {
    "duration": 51,
    "start_time": "2022-06-15T19:15:38.994Z"
   },
   {
    "duration": 1526,
    "start_time": "2022-06-15T19:15:48.195Z"
   },
   {
    "duration": 844,
    "start_time": "2022-06-15T19:15:49.724Z"
   },
   {
    "duration": 20,
    "start_time": "2022-06-15T19:15:50.570Z"
   },
   {
    "duration": 422,
    "start_time": "2022-06-15T19:15:50.593Z"
   },
   {
    "duration": 14,
    "start_time": "2022-06-15T19:15:51.017Z"
   },
   {
    "duration": 1879,
    "start_time": "2022-06-15T19:15:51.033Z"
   },
   {
    "duration": 25,
    "start_time": "2022-06-15T19:15:52.914Z"
   },
   {
    "duration": 3,
    "start_time": "2022-06-15T19:15:52.942Z"
   },
   {
    "duration": 15,
    "start_time": "2022-06-15T19:15:52.947Z"
   },
   {
    "duration": 6,
    "start_time": "2022-06-15T19:15:52.966Z"
   },
   {
    "duration": 8,
    "start_time": "2022-06-15T19:15:52.974Z"
   },
   {
    "duration": 14,
    "start_time": "2022-06-15T19:15:52.983Z"
   },
   {
    "duration": 54,
    "start_time": "2022-06-15T19:15:52.999Z"
   },
   {
    "duration": 199,
    "start_time": "2022-06-15T19:15:53.055Z"
   },
   {
    "duration": 32,
    "start_time": "2022-06-15T19:15:53.256Z"
   },
   {
    "duration": 13,
    "start_time": "2022-06-15T19:15:53.290Z"
   },
   {
    "duration": 29,
    "start_time": "2022-06-15T19:15:53.304Z"
   },
   {
    "duration": 6,
    "start_time": "2022-06-15T19:15:53.335Z"
   },
   {
    "duration": 13,
    "start_time": "2022-06-15T19:15:53.343Z"
   },
   {
    "duration": 10,
    "start_time": "2022-06-15T19:15:53.357Z"
   },
   {
    "duration": 1752,
    "start_time": "2022-06-15T19:15:53.369Z"
   },
   {
    "duration": 8,
    "start_time": "2022-06-15T19:15:55.123Z"
   },
   {
    "duration": 1749,
    "start_time": "2022-06-15T19:15:55.133Z"
   },
   {
    "duration": 8,
    "start_time": "2022-06-15T19:15:56.884Z"
   },
   {
    "duration": 1626,
    "start_time": "2022-06-15T19:15:56.894Z"
   },
   {
    "duration": 226,
    "start_time": "2022-06-15T19:15:58.522Z"
   },
   {
    "duration": 451,
    "start_time": "2022-06-15T19:18:03.207Z"
   },
   {
    "duration": 414,
    "start_time": "2022-06-15T19:18:11.890Z"
   },
   {
    "duration": 539,
    "start_time": "2022-06-15T19:19:56.908Z"
   },
   {
    "duration": 4,
    "start_time": "2022-06-15T19:49:38.967Z"
   },
   {
    "duration": 11,
    "start_time": "2022-06-15T19:52:27.329Z"
   },
   {
    "duration": 5,
    "start_time": "2022-06-15T19:52:41.734Z"
   },
   {
    "duration": 324,
    "start_time": "2022-06-15T19:52:41.741Z"
   },
   {
    "duration": 16,
    "start_time": "2022-06-15T19:52:42.067Z"
   },
   {
    "duration": 110,
    "start_time": "2022-06-15T19:52:42.085Z"
   },
   {
    "duration": 14,
    "start_time": "2022-06-15T19:52:42.197Z"
   },
   {
    "duration": 412,
    "start_time": "2022-06-15T19:52:42.227Z"
   },
   {
    "duration": 26,
    "start_time": "2022-06-15T19:52:42.641Z"
   },
   {
    "duration": 4,
    "start_time": "2022-06-15T19:52:42.669Z"
   },
   {
    "duration": 24,
    "start_time": "2022-06-15T19:52:42.674Z"
   },
   {
    "duration": 7,
    "start_time": "2022-06-15T19:52:42.700Z"
   },
   {
    "duration": 18,
    "start_time": "2022-06-15T19:52:42.710Z"
   },
   {
    "duration": 21,
    "start_time": "2022-06-15T19:52:42.729Z"
   },
   {
    "duration": 48,
    "start_time": "2022-06-15T19:52:42.752Z"
   },
   {
    "duration": 204,
    "start_time": "2022-06-15T19:52:42.802Z"
   },
   {
    "duration": 35,
    "start_time": "2022-06-15T19:52:43.008Z"
   },
   {
    "duration": 9,
    "start_time": "2022-06-15T19:52:43.045Z"
   },
   {
    "duration": 22,
    "start_time": "2022-06-15T19:52:43.056Z"
   },
   {
    "duration": 7,
    "start_time": "2022-06-15T19:52:43.079Z"
   },
   {
    "duration": 10,
    "start_time": "2022-06-15T19:52:43.088Z"
   },
   {
    "duration": 29,
    "start_time": "2022-06-15T19:52:43.100Z"
   },
   {
    "duration": 1896,
    "start_time": "2022-06-15T19:52:43.130Z"
   },
   {
    "duration": 11,
    "start_time": "2022-06-15T19:52:45.028Z"
   },
   {
    "duration": 1671,
    "start_time": "2022-06-15T19:52:45.040Z"
   },
   {
    "duration": 14,
    "start_time": "2022-06-15T19:52:46.713Z"
   },
   {
    "duration": 1602,
    "start_time": "2022-06-15T19:52:46.729Z"
   },
   {
    "duration": 564,
    "start_time": "2022-06-15T19:52:48.334Z"
   },
   {
    "duration": 7,
    "start_time": "2022-06-15T19:52:48.900Z"
   },
   {
    "duration": 40,
    "start_time": "2022-06-15T19:52:48.909Z"
   },
   {
    "duration": 6,
    "start_time": "2022-06-15T19:52:48.954Z"
   },
   {
    "duration": 2160,
    "start_time": "2022-06-15T19:52:48.963Z"
   },
   {
    "duration": 5,
    "start_time": "2022-06-15T19:52:51.127Z"
   },
   {
    "duration": 48,
    "start_time": "2022-06-15T19:52:51.133Z"
   },
   {
    "duration": 10,
    "start_time": "2022-06-15T19:52:51.183Z"
   },
   {
    "duration": 14,
    "start_time": "2022-06-15T19:52:51.195Z"
   },
   {
    "duration": 19,
    "start_time": "2022-06-15T19:52:51.211Z"
   },
   {
    "duration": 20,
    "start_time": "2022-06-15T19:52:51.232Z"
   },
   {
    "duration": 30,
    "start_time": "2022-06-15T19:52:51.253Z"
   },
   {
    "duration": 18,
    "start_time": "2022-06-15T19:52:51.286Z"
   },
   {
    "duration": 22,
    "start_time": "2022-06-15T19:52:51.306Z"
   },
   {
    "duration": 13,
    "start_time": "2022-06-15T19:52:51.330Z"
   },
   {
    "duration": 11,
    "start_time": "2022-06-15T19:52:51.346Z"
   },
   {
    "duration": 51,
    "start_time": "2022-06-15T19:52:51.359Z"
   },
   {
    "duration": 26345,
    "start_time": "2022-06-15T19:52:51.412Z"
   },
   {
    "duration": 4,
    "start_time": "2022-06-15T19:53:17.759Z"
   },
   {
    "duration": 1075350,
    "start_time": "2022-06-15T19:53:39.793Z"
   },
   {
    "duration": 5,
    "start_time": "2022-06-15T20:11:35.145Z"
   },
   {
    "duration": 7,
    "start_time": "2022-06-15T20:12:00.930Z"
   },
   {
    "duration": 5,
    "start_time": "2022-06-15T20:12:53.663Z"
   },
   {
    "duration": 4,
    "start_time": "2022-06-15T20:13:07.664Z"
   },
   {
    "duration": 4,
    "start_time": "2022-06-15T20:14:00.549Z"
   },
   {
    "duration": 4,
    "start_time": "2022-06-15T20:16:04.916Z"
   },
   {
    "duration": 8,
    "start_time": "2022-06-15T20:16:52.291Z"
   },
   {
    "duration": 4,
    "start_time": "2022-06-15T20:19:30.608Z"
   },
   {
    "duration": 5,
    "start_time": "2022-06-15T20:19:32.142Z"
   },
   {
    "duration": 8,
    "start_time": "2022-06-15T20:19:42.007Z"
   },
   {
    "duration": 58,
    "start_time": "2022-06-15T20:22:39.316Z"
   },
   {
    "duration": 1943163,
    "start_time": "2022-06-15T20:26:34.299Z"
   },
   {
    "duration": 3,
    "start_time": "2022-06-15T20:58:57.465Z"
   },
   {
    "duration": 8,
    "start_time": "2022-06-15T21:19:17.777Z"
   },
   {
    "duration": 29,
    "start_time": "2022-06-15T21:19:27.503Z"
   },
   {
    "duration": 8,
    "start_time": "2022-06-15T21:19:31.761Z"
   },
   {
    "duration": 5,
    "start_time": "2022-06-15T21:22:43.096Z"
   },
   {
    "duration": 332,
    "start_time": "2022-06-15T21:22:43.105Z"
   },
   {
    "duration": 15,
    "start_time": "2022-06-15T21:22:43.439Z"
   },
   {
    "duration": 116,
    "start_time": "2022-06-15T21:22:46.293Z"
   },
   {
    "duration": 22,
    "start_time": "2022-06-15T21:22:46.410Z"
   },
   {
    "duration": 375,
    "start_time": "2022-06-15T21:22:46.433Z"
   },
   {
    "duration": 23,
    "start_time": "2022-06-15T21:22:46.810Z"
   },
   {
    "duration": 2,
    "start_time": "2022-06-15T21:22:46.836Z"
   },
   {
    "duration": 12,
    "start_time": "2022-06-15T21:22:46.840Z"
   },
   {
    "duration": 5,
    "start_time": "2022-06-15T21:22:46.854Z"
   },
   {
    "duration": 8,
    "start_time": "2022-06-15T21:22:46.861Z"
   },
   {
    "duration": 10,
    "start_time": "2022-06-15T21:22:46.871Z"
   },
   {
    "duration": 47,
    "start_time": "2022-06-15T21:22:46.882Z"
   },
   {
    "duration": 181,
    "start_time": "2022-06-15T21:22:46.931Z"
   },
   {
    "duration": 32,
    "start_time": "2022-06-15T21:22:47.113Z"
   },
   {
    "duration": 10,
    "start_time": "2022-06-15T21:22:47.147Z"
   },
   {
    "duration": 7,
    "start_time": "2022-06-15T21:22:47.159Z"
   },
   {
    "duration": 5,
    "start_time": "2022-06-15T21:22:47.167Z"
   },
   {
    "duration": 13,
    "start_time": "2022-06-15T21:22:47.173Z"
   },
   {
    "duration": 39,
    "start_time": "2022-06-15T21:22:47.188Z"
   },
   {
    "duration": 1587,
    "start_time": "2022-06-15T21:22:47.229Z"
   },
   {
    "duration": 10,
    "start_time": "2022-06-15T21:22:48.818Z"
   },
   {
    "duration": 1688,
    "start_time": "2022-06-15T21:22:48.830Z"
   },
   {
    "duration": 12,
    "start_time": "2022-06-15T21:22:50.520Z"
   },
   {
    "duration": 1711,
    "start_time": "2022-06-15T21:22:50.533Z"
   },
   {
    "duration": 584,
    "start_time": "2022-06-15T21:22:52.246Z"
   },
   {
    "duration": 4,
    "start_time": "2022-06-15T21:22:52.832Z"
   },
   {
    "duration": 11,
    "start_time": "2022-06-15T21:22:52.838Z"
   },
   {
    "duration": 17,
    "start_time": "2022-06-15T21:22:52.851Z"
   },
   {
    "duration": 2303,
    "start_time": "2022-06-15T21:22:52.870Z"
   },
   {
    "duration": 3,
    "start_time": "2022-06-15T21:22:55.175Z"
   },
   {
    "duration": 28,
    "start_time": "2022-06-15T21:22:55.180Z"
   },
   {
    "duration": 4,
    "start_time": "2022-06-15T21:22:55.209Z"
   },
   {
    "duration": 9,
    "start_time": "2022-06-15T21:22:55.214Z"
   },
   {
    "duration": 16,
    "start_time": "2022-06-15T21:22:55.224Z"
   },
   {
    "duration": 8,
    "start_time": "2022-06-15T21:22:55.241Z"
   },
   {
    "duration": 14,
    "start_time": "2022-06-15T21:22:55.250Z"
   },
   {
    "duration": 8,
    "start_time": "2022-06-15T21:22:55.266Z"
   },
   {
    "duration": 17,
    "start_time": "2022-06-15T21:22:55.275Z"
   },
   {
    "duration": 30,
    "start_time": "2022-06-15T21:22:55.293Z"
   },
   {
    "duration": 9,
    "start_time": "2022-06-15T21:22:55.324Z"
   },
   {
    "duration": 34,
    "start_time": "2022-06-15T21:22:55.334Z"
   },
   {
    "duration": 25077,
    "start_time": "2022-06-15T21:22:55.370Z"
   },
   {
    "duration": 3,
    "start_time": "2022-06-15T21:23:20.451Z"
   },
   {
    "duration": 1139329,
    "start_time": "2022-06-15T21:23:20.456Z"
   },
   {
    "duration": 4,
    "start_time": "2022-06-15T21:42:19.786Z"
   },
   {
    "duration": 11141,
    "start_time": "2022-06-15T21:42:19.791Z"
   },
   {
    "duration": 93,
    "start_time": "2022-06-15T21:42:30.935Z"
   },
   {
    "duration": 130074,
    "start_time": "2022-06-15T21:42:31.031Z"
   },
   {
    "duration": 0,
    "start_time": "2022-06-15T21:44:41.107Z"
   },
   {
    "duration": 0,
    "start_time": "2022-06-15T21:44:41.108Z"
   },
   {
    "duration": 0,
    "start_time": "2022-06-15T21:44:41.109Z"
   },
   {
    "duration": 0,
    "start_time": "2022-06-15T21:44:41.110Z"
   },
   {
    "duration": 0,
    "start_time": "2022-06-15T21:44:41.111Z"
   },
   {
    "duration": 0,
    "start_time": "2022-06-15T21:44:41.112Z"
   },
   {
    "duration": 0,
    "start_time": "2022-06-15T21:44:41.113Z"
   },
   {
    "duration": 4,
    "start_time": "2022-06-15T21:51:22.503Z"
   },
   {
    "duration": 61897,
    "start_time": "2022-06-15T21:51:22.515Z"
   },
   {
    "duration": 0,
    "start_time": "2022-06-15T21:52:24.414Z"
   },
   {
    "duration": 0,
    "start_time": "2022-06-15T21:52:24.416Z"
   },
   {
    "duration": 0,
    "start_time": "2022-06-15T21:52:24.417Z"
   },
   {
    "duration": 0,
    "start_time": "2022-06-15T21:52:24.419Z"
   },
   {
    "duration": 0,
    "start_time": "2022-06-15T21:52:24.420Z"
   },
   {
    "duration": 0,
    "start_time": "2022-06-15T21:52:24.422Z"
   },
   {
    "duration": 0,
    "start_time": "2022-06-15T21:52:24.423Z"
   },
   {
    "duration": 129281,
    "start_time": "2022-06-15T21:54:53.801Z"
   },
   {
    "duration": 0,
    "start_time": "2022-06-15T21:57:03.085Z"
   },
   {
    "duration": 0,
    "start_time": "2022-06-15T21:57:03.087Z"
   },
   {
    "duration": 0,
    "start_time": "2022-06-15T21:57:03.088Z"
   },
   {
    "duration": 0,
    "start_time": "2022-06-15T21:57:03.090Z"
   },
   {
    "duration": 1,
    "start_time": "2022-06-15T21:57:03.091Z"
   },
   {
    "duration": 0,
    "start_time": "2022-06-15T21:57:03.093Z"
   },
   {
    "duration": 0,
    "start_time": "2022-06-15T21:57:03.095Z"
   },
   {
    "duration": 10,
    "start_time": "2022-06-15T21:57:32.825Z"
   },
   {
    "duration": 9,
    "start_time": "2022-06-15T21:58:51.695Z"
   },
   {
    "duration": 5,
    "start_time": "2022-06-15T21:59:00.935Z"
   },
   {
    "duration": 410,
    "start_time": "2022-06-15T21:59:00.944Z"
   },
   {
    "duration": 16,
    "start_time": "2022-06-15T21:59:01.356Z"
   },
   {
    "duration": 139,
    "start_time": "2022-06-15T21:59:01.373Z"
   },
   {
    "duration": 15,
    "start_time": "2022-06-15T21:59:01.515Z"
   },
   {
    "duration": 399,
    "start_time": "2022-06-15T21:59:01.532Z"
   },
   {
    "duration": 18,
    "start_time": "2022-06-15T21:59:01.932Z"
   },
   {
    "duration": 6,
    "start_time": "2022-06-15T21:59:01.952Z"
   },
   {
    "duration": 44,
    "start_time": "2022-06-15T21:59:01.960Z"
   },
   {
    "duration": 23,
    "start_time": "2022-06-15T21:59:02.005Z"
   },
   {
    "duration": 19,
    "start_time": "2022-06-15T21:59:02.033Z"
   },
   {
    "duration": 41,
    "start_time": "2022-06-15T21:59:02.054Z"
   },
   {
    "duration": 51,
    "start_time": "2022-06-15T21:59:02.096Z"
   },
   {
    "duration": 207,
    "start_time": "2022-06-15T21:59:02.148Z"
   },
   {
    "duration": 25,
    "start_time": "2022-06-15T21:59:02.356Z"
   },
   {
    "duration": 16,
    "start_time": "2022-06-15T21:59:02.383Z"
   },
   {
    "duration": 21,
    "start_time": "2022-06-15T21:59:02.401Z"
   },
   {
    "duration": 19,
    "start_time": "2022-06-15T21:59:02.423Z"
   },
   {
    "duration": 22,
    "start_time": "2022-06-15T21:59:02.443Z"
   },
   {
    "duration": 25,
    "start_time": "2022-06-15T21:59:02.466Z"
   },
   {
    "duration": 1659,
    "start_time": "2022-06-15T21:59:02.493Z"
   },
   {
    "duration": 11,
    "start_time": "2022-06-15T21:59:04.154Z"
   },
   {
    "duration": 1690,
    "start_time": "2022-06-15T21:59:04.167Z"
   },
   {
    "duration": 9,
    "start_time": "2022-06-15T21:59:05.858Z"
   },
   {
    "duration": 1508,
    "start_time": "2022-06-15T21:59:05.868Z"
   },
   {
    "duration": 356,
    "start_time": "2022-06-15T21:59:07.378Z"
   },
   {
    "duration": 5,
    "start_time": "2022-06-15T21:59:07.736Z"
   },
   {
    "duration": 9,
    "start_time": "2022-06-15T21:59:07.742Z"
   },
   {
    "duration": 4,
    "start_time": "2022-06-15T21:59:07.754Z"
   },
   {
    "duration": 1938,
    "start_time": "2022-06-15T21:59:07.759Z"
   },
   {
    "duration": 4,
    "start_time": "2022-06-15T21:59:09.699Z"
   },
   {
    "duration": 35,
    "start_time": "2022-06-15T21:59:09.704Z"
   },
   {
    "duration": 4,
    "start_time": "2022-06-15T21:59:09.741Z"
   },
   {
    "duration": 10,
    "start_time": "2022-06-15T21:59:09.746Z"
   },
   {
    "duration": 12,
    "start_time": "2022-06-15T21:59:09.757Z"
   },
   {
    "duration": 11,
    "start_time": "2022-06-15T21:59:09.770Z"
   },
   {
    "duration": 11,
    "start_time": "2022-06-15T21:59:09.783Z"
   },
   {
    "duration": 8,
    "start_time": "2022-06-15T21:59:09.796Z"
   },
   {
    "duration": 9,
    "start_time": "2022-06-15T21:59:09.806Z"
   },
   {
    "duration": 10,
    "start_time": "2022-06-15T21:59:09.816Z"
   },
   {
    "duration": 7,
    "start_time": "2022-06-15T21:59:09.827Z"
   },
   {
    "duration": 27,
    "start_time": "2022-06-15T21:59:09.835Z"
   },
   {
    "duration": 24048,
    "start_time": "2022-06-15T21:59:09.863Z"
   },
   {
    "duration": 4,
    "start_time": "2022-06-15T21:59:33.913Z"
   },
   {
    "duration": 41382,
    "start_time": "2022-06-15T21:59:33.918Z"
   },
   {
    "duration": 0,
    "start_time": "2022-06-15T22:00:15.302Z"
   },
   {
    "duration": 0,
    "start_time": "2022-06-15T22:00:15.303Z"
   },
   {
    "duration": 0,
    "start_time": "2022-06-15T22:00:15.304Z"
   },
   {
    "duration": 0,
    "start_time": "2022-06-15T22:00:15.305Z"
   },
   {
    "duration": 0,
    "start_time": "2022-06-15T22:00:15.306Z"
   },
   {
    "duration": 0,
    "start_time": "2022-06-15T22:00:15.307Z"
   },
   {
    "duration": 0,
    "start_time": "2022-06-15T22:00:15.308Z"
   },
   {
    "duration": 0,
    "start_time": "2022-06-15T22:00:15.309Z"
   },
   {
    "duration": 0,
    "start_time": "2022-06-15T22:00:15.310Z"
   },
   {
    "duration": 0,
    "start_time": "2022-06-15T22:00:15.312Z"
   },
   {
    "duration": 0,
    "start_time": "2022-06-15T22:00:15.325Z"
   },
   {
    "duration": 0,
    "start_time": "2022-06-15T22:03:16.226Z"
   },
   {
    "duration": 0,
    "start_time": "2022-06-15T22:03:16.227Z"
   },
   {
    "duration": 0,
    "start_time": "2022-06-15T22:03:16.228Z"
   },
   {
    "duration": 0,
    "start_time": "2022-06-15T22:03:16.229Z"
   },
   {
    "duration": 0,
    "start_time": "2022-06-15T22:03:16.230Z"
   },
   {
    "duration": 0,
    "start_time": "2022-06-15T22:03:16.231Z"
   },
   {
    "duration": 0,
    "start_time": "2022-06-15T22:03:16.232Z"
   },
   {
    "duration": 0,
    "start_time": "2022-06-15T22:03:16.233Z"
   },
   {
    "duration": 0,
    "start_time": "2022-06-15T22:03:16.234Z"
   },
   {
    "duration": 0,
    "start_time": "2022-06-15T22:03:16.235Z"
   },
   {
    "duration": 0,
    "start_time": "2022-06-15T22:03:16.236Z"
   },
   {
    "duration": 0,
    "start_time": "2022-06-15T22:03:16.237Z"
   },
   {
    "duration": 0,
    "start_time": "2022-06-15T22:03:16.237Z"
   },
   {
    "duration": 0,
    "start_time": "2022-06-15T22:03:16.238Z"
   },
   {
    "duration": 0,
    "start_time": "2022-06-15T22:03:16.239Z"
   },
   {
    "duration": 0,
    "start_time": "2022-06-15T22:03:16.240Z"
   },
   {
    "duration": 0,
    "start_time": "2022-06-15T22:03:16.241Z"
   },
   {
    "duration": 0,
    "start_time": "2022-06-15T22:03:16.242Z"
   },
   {
    "duration": 0,
    "start_time": "2022-06-15T22:03:16.243Z"
   },
   {
    "duration": 0,
    "start_time": "2022-06-15T22:03:16.244Z"
   },
   {
    "duration": 0,
    "start_time": "2022-06-15T22:03:16.245Z"
   },
   {
    "duration": 0,
    "start_time": "2022-06-15T22:03:16.245Z"
   },
   {
    "duration": 0,
    "start_time": "2022-06-15T22:03:16.247Z"
   },
   {
    "duration": 0,
    "start_time": "2022-06-15T22:03:16.247Z"
   },
   {
    "duration": 0,
    "start_time": "2022-06-15T22:03:16.248Z"
   },
   {
    "duration": 0,
    "start_time": "2022-06-15T22:03:16.249Z"
   },
   {
    "duration": 0,
    "start_time": "2022-06-15T22:03:16.250Z"
   },
   {
    "duration": 0,
    "start_time": "2022-06-15T22:03:16.251Z"
   },
   {
    "duration": 0,
    "start_time": "2022-06-15T22:03:16.252Z"
   },
   {
    "duration": 0,
    "start_time": "2022-06-15T22:03:16.253Z"
   },
   {
    "duration": 0,
    "start_time": "2022-06-15T22:03:16.254Z"
   },
   {
    "duration": 0,
    "start_time": "2022-06-15T22:03:16.255Z"
   },
   {
    "duration": 0,
    "start_time": "2022-06-15T22:03:16.256Z"
   },
   {
    "duration": 0,
    "start_time": "2022-06-15T22:03:16.257Z"
   },
   {
    "duration": 0,
    "start_time": "2022-06-15T22:03:16.258Z"
   },
   {
    "duration": 0,
    "start_time": "2022-06-15T22:03:16.260Z"
   },
   {
    "duration": 0,
    "start_time": "2022-06-15T22:03:16.261Z"
   },
   {
    "duration": 0,
    "start_time": "2022-06-15T22:03:16.262Z"
   },
   {
    "duration": 0,
    "start_time": "2022-06-15T22:03:16.263Z"
   },
   {
    "duration": 0,
    "start_time": "2022-06-15T22:03:16.326Z"
   },
   {
    "duration": 0,
    "start_time": "2022-06-15T22:03:16.328Z"
   },
   {
    "duration": 0,
    "start_time": "2022-06-15T22:03:16.329Z"
   },
   {
    "duration": 0,
    "start_time": "2022-06-15T22:03:16.330Z"
   },
   {
    "duration": 0,
    "start_time": "2022-06-15T22:03:16.331Z"
   },
   {
    "duration": 0,
    "start_time": "2022-06-15T22:03:16.332Z"
   },
   {
    "duration": 0,
    "start_time": "2022-06-15T22:03:16.333Z"
   },
   {
    "duration": 0,
    "start_time": "2022-06-15T22:03:16.334Z"
   },
   {
    "duration": 0,
    "start_time": "2022-06-15T22:03:16.335Z"
   },
   {
    "duration": 0,
    "start_time": "2022-06-15T22:03:16.336Z"
   },
   {
    "duration": 0,
    "start_time": "2022-06-15T22:03:16.337Z"
   },
   {
    "duration": 0,
    "start_time": "2022-06-15T22:03:16.338Z"
   },
   {
    "duration": 0,
    "start_time": "2022-06-15T22:03:16.339Z"
   },
   {
    "duration": 0,
    "start_time": "2022-06-15T22:03:16.340Z"
   },
   {
    "duration": 0,
    "start_time": "2022-06-15T22:03:16.341Z"
   },
   {
    "duration": 0,
    "start_time": "2022-06-15T22:03:16.342Z"
   },
   {
    "duration": 0,
    "start_time": "2022-06-15T22:03:16.343Z"
   },
   {
    "duration": 4,
    "start_time": "2022-06-15T22:03:21.652Z"
   },
   {
    "duration": 366,
    "start_time": "2022-06-15T22:03:21.660Z"
   },
   {
    "duration": 18,
    "start_time": "2022-06-15T22:03:22.028Z"
   },
   {
    "duration": 100,
    "start_time": "2022-06-15T22:03:22.047Z"
   },
   {
    "duration": 15,
    "start_time": "2022-06-15T22:03:22.149Z"
   },
   {
    "duration": 380,
    "start_time": "2022-06-15T22:03:22.165Z"
   },
   {
    "duration": 17,
    "start_time": "2022-06-15T22:03:22.547Z"
   },
   {
    "duration": 3,
    "start_time": "2022-06-15T22:03:22.566Z"
   },
   {
    "duration": 14,
    "start_time": "2022-06-15T22:03:22.571Z"
   },
   {
    "duration": 6,
    "start_time": "2022-06-15T22:03:22.587Z"
   },
   {
    "duration": 19,
    "start_time": "2022-06-15T22:03:22.596Z"
   },
   {
    "duration": 10,
    "start_time": "2022-06-15T22:03:22.626Z"
   },
   {
    "duration": 37,
    "start_time": "2022-06-15T22:03:22.637Z"
   },
   {
    "duration": 193,
    "start_time": "2022-06-15T22:03:22.676Z"
   },
   {
    "duration": 24,
    "start_time": "2022-06-15T22:03:22.871Z"
   },
   {
    "duration": 9,
    "start_time": "2022-06-15T22:03:22.897Z"
   },
   {
    "duration": 24,
    "start_time": "2022-06-15T22:03:22.908Z"
   },
   {
    "duration": 14,
    "start_time": "2022-06-15T22:03:22.933Z"
   },
   {
    "duration": 19,
    "start_time": "2022-06-15T22:03:22.949Z"
   },
   {
    "duration": 9,
    "start_time": "2022-06-15T22:03:22.970Z"
   },
   {
    "duration": 1705,
    "start_time": "2022-06-15T22:03:22.980Z"
   },
   {
    "duration": 10,
    "start_time": "2022-06-15T22:03:24.686Z"
   },
   {
    "duration": 1775,
    "start_time": "2022-06-15T22:03:24.697Z"
   },
   {
    "duration": 10,
    "start_time": "2022-06-15T22:03:26.473Z"
   },
   {
    "duration": 1590,
    "start_time": "2022-06-15T22:03:26.484Z"
   },
   {
    "duration": 377,
    "start_time": "2022-06-15T22:03:28.075Z"
   },
   {
    "duration": 4,
    "start_time": "2022-06-15T22:03:28.454Z"
   },
   {
    "duration": 8,
    "start_time": "2022-06-15T22:03:28.460Z"
   },
   {
    "duration": 3,
    "start_time": "2022-06-15T22:03:28.472Z"
   },
   {
    "duration": 2005,
    "start_time": "2022-06-15T22:03:28.477Z"
   },
   {
    "duration": 4,
    "start_time": "2022-06-15T22:03:30.484Z"
   },
   {
    "duration": 70,
    "start_time": "2022-06-15T22:03:30.490Z"
   },
   {
    "duration": 5,
    "start_time": "2022-06-15T22:03:30.561Z"
   },
   {
    "duration": 18,
    "start_time": "2022-06-15T22:03:30.568Z"
   },
   {
    "duration": 31,
    "start_time": "2022-06-15T22:03:30.588Z"
   },
   {
    "duration": 20,
    "start_time": "2022-06-15T22:03:30.621Z"
   },
   {
    "duration": 27,
    "start_time": "2022-06-15T22:03:30.643Z"
   },
   {
    "duration": 12,
    "start_time": "2022-06-15T22:03:30.672Z"
   },
   {
    "duration": 13,
    "start_time": "2022-06-15T22:03:30.686Z"
   },
   {
    "duration": 20,
    "start_time": "2022-06-15T22:03:30.701Z"
   },
   {
    "duration": 24,
    "start_time": "2022-06-15T22:03:30.723Z"
   },
   {
    "duration": 51,
    "start_time": "2022-06-15T22:03:30.750Z"
   },
   {
    "duration": 24654,
    "start_time": "2022-06-15T22:03:30.803Z"
   },
   {
    "duration": 3,
    "start_time": "2022-06-15T22:03:55.459Z"
   },
   {
    "duration": 762983,
    "start_time": "2022-06-15T22:03:55.464Z"
   },
   {
    "duration": 3,
    "start_time": "2022-06-15T22:16:38.449Z"
   },
   {
    "duration": 10583,
    "start_time": "2022-06-15T22:16:38.454Z"
   },
   {
    "duration": 7,
    "start_time": "2022-06-15T22:16:49.127Z"
   },
   {
    "duration": 293768,
    "start_time": "2022-06-15T22:16:49.137Z"
   },
   {
    "duration": 4,
    "start_time": "2022-06-15T22:21:42.906Z"
   },
   {
    "duration": 23,
    "start_time": "2022-06-15T22:21:42.911Z"
   },
   {
    "duration": 8,
    "start_time": "2022-06-15T22:21:42.936Z"
   },
   {
    "duration": 16,
    "start_time": "2022-06-15T22:21:42.945Z"
   },
   {
    "duration": 6,
    "start_time": "2022-06-15T22:21:42.963Z"
   },
   {
    "duration": 7,
    "start_time": "2022-06-15T22:21:42.970Z"
   },
   {
    "duration": 13,
    "start_time": "2022-06-15T22:21:42.978Z"
   },
   {
    "duration": 1430,
    "start_time": "2022-07-27T06:56:09.215Z"
   },
   {
    "duration": 189,
    "start_time": "2022-07-27T06:56:10.647Z"
   },
   {
    "duration": 10,
    "start_time": "2022-07-27T06:56:10.837Z"
   },
   {
    "duration": 16,
    "start_time": "2022-07-27T06:56:10.849Z"
   },
   {
    "duration": 24,
    "start_time": "2022-07-27T06:56:10.867Z"
   },
   {
    "duration": 8,
    "start_time": "2022-07-27T06:56:10.892Z"
   },
   {
    "duration": 7,
    "start_time": "2022-07-27T06:56:10.902Z"
   },
   {
    "duration": 1174,
    "start_time": "2022-07-27T06:56:10.910Z"
   },
   {
    "duration": 18,
    "start_time": "2022-07-27T06:56:12.086Z"
   },
   {
    "duration": 286,
    "start_time": "2022-07-27T06:56:12.106Z"
   },
   {
    "duration": 4,
    "start_time": "2022-07-27T06:56:12.394Z"
   },
   {
    "duration": 139,
    "start_time": "2022-07-27T06:56:12.400Z"
   },
   {
    "duration": 25,
    "start_time": "2022-07-27T06:56:27.151Z"
   },
   {
    "duration": 19,
    "start_time": "2022-07-27T06:57:05.289Z"
   },
   {
    "duration": 13,
    "start_time": "2022-07-27T06:57:13.415Z"
   },
   {
    "duration": 5,
    "start_time": "2022-07-27T06:57:29.504Z"
   },
   {
    "duration": 85,
    "start_time": "2022-07-27T06:57:29.513Z"
   },
   {
    "duration": 11,
    "start_time": "2022-07-27T06:57:29.600Z"
   },
   {
    "duration": 6,
    "start_time": "2022-07-27T06:57:29.612Z"
   },
   {
    "duration": 6,
    "start_time": "2022-07-27T06:57:29.620Z"
   },
   {
    "duration": 5,
    "start_time": "2022-07-27T06:57:29.627Z"
   },
   {
    "duration": 26,
    "start_time": "2022-07-27T06:57:29.634Z"
   },
   {
    "duration": 714,
    "start_time": "2022-07-27T06:57:29.663Z"
   },
   {
    "duration": 7,
    "start_time": "2022-07-27T06:57:30.378Z"
   },
   {
    "duration": 300,
    "start_time": "2022-07-27T06:57:30.386Z"
   },
   {
    "duration": 6,
    "start_time": "2022-07-27T06:57:30.689Z"
   },
   {
    "duration": 49,
    "start_time": "2022-07-27T06:57:30.696Z"
   },
   {
    "duration": 20,
    "start_time": "2022-07-27T06:57:30.746Z"
   },
   {
    "duration": 5,
    "start_time": "2022-07-27T07:00:36.005Z"
   },
   {
    "duration": 183,
    "start_time": "2022-07-27T07:00:36.016Z"
   },
   {
    "duration": 14,
    "start_time": "2022-07-27T07:00:36.201Z"
   },
   {
    "duration": 20,
    "start_time": "2022-07-27T07:00:36.217Z"
   },
   {
    "duration": 12,
    "start_time": "2022-07-27T07:00:36.240Z"
   },
   {
    "duration": 8,
    "start_time": "2022-07-27T07:00:36.254Z"
   },
   {
    "duration": 13,
    "start_time": "2022-07-27T07:00:36.263Z"
   },
   {
    "duration": 796,
    "start_time": "2022-07-27T07:00:36.278Z"
   },
   {
    "duration": 8,
    "start_time": "2022-07-27T07:00:37.077Z"
   },
   {
    "duration": 284,
    "start_time": "2022-07-27T07:00:37.086Z"
   },
   {
    "duration": 5,
    "start_time": "2022-07-27T07:00:37.371Z"
   },
   {
    "duration": 30,
    "start_time": "2022-07-27T07:00:37.377Z"
   },
   {
    "duration": 7,
    "start_time": "2022-07-27T07:00:37.409Z"
   },
   {
    "duration": 77,
    "start_time": "2022-07-27T07:23:00.910Z"
   },
   {
    "duration": 409,
    "start_time": "2022-07-27T07:26:42.525Z"
   },
   {
    "duration": 17,
    "start_time": "2022-07-27T07:36:40.892Z"
   },
   {
    "duration": 282,
    "start_time": "2022-07-27T07:38:24.522Z"
   },
   {
    "duration": 218,
    "start_time": "2022-07-27T07:38:39.318Z"
   },
   {
    "duration": 309,
    "start_time": "2022-07-27T07:40:53.991Z"
   },
   {
    "duration": 223,
    "start_time": "2022-07-27T07:41:19.726Z"
   },
   {
    "duration": 6,
    "start_time": "2022-07-27T07:50:00.127Z"
   },
   {
    "duration": 6,
    "start_time": "2022-07-27T07:50:10.118Z"
   },
   {
    "duration": 25,
    "start_time": "2022-07-27T07:50:49.418Z"
   },
   {
    "duration": 19,
    "start_time": "2022-07-27T07:52:32.679Z"
   },
   {
    "duration": 7,
    "start_time": "2022-07-27T08:05:41.581Z"
   },
   {
    "duration": 250,
    "start_time": "2022-07-27T08:06:00.582Z"
   },
   {
    "duration": 9,
    "start_time": "2022-07-27T08:24:57.277Z"
   },
   {
    "duration": 8,
    "start_time": "2022-07-27T08:35:05.284Z"
   },
   {
    "duration": 4,
    "start_time": "2022-07-27T08:35:07.283Z"
   },
   {
    "duration": 5,
    "start_time": "2022-07-27T08:35:10.278Z"
   },
   {
    "duration": 8,
    "start_time": "2022-07-27T08:36:58.651Z"
   },
   {
    "duration": 150,
    "start_time": "2022-07-27T08:36:58.662Z"
   },
   {
    "duration": 10,
    "start_time": "2022-07-27T08:36:58.814Z"
   },
   {
    "duration": 16,
    "start_time": "2022-07-27T08:36:58.825Z"
   },
   {
    "duration": 42,
    "start_time": "2022-07-27T08:36:58.844Z"
   },
   {
    "duration": 28,
    "start_time": "2022-07-27T08:36:58.888Z"
   },
   {
    "duration": 13,
    "start_time": "2022-07-27T08:36:58.917Z"
   },
   {
    "duration": 862,
    "start_time": "2022-07-27T08:36:58.932Z"
   },
   {
    "duration": 9,
    "start_time": "2022-07-27T08:36:59.797Z"
   },
   {
    "duration": 335,
    "start_time": "2022-07-27T08:36:59.808Z"
   },
   {
    "duration": 15,
    "start_time": "2022-07-27T08:37:00.147Z"
   },
   {
    "duration": 404,
    "start_time": "2022-07-27T08:37:00.168Z"
   },
   {
    "duration": 6,
    "start_time": "2022-07-27T08:37:00.574Z"
   },
   {
    "duration": 57,
    "start_time": "2022-07-27T08:37:00.582Z"
   },
   {
    "duration": 17,
    "start_time": "2022-07-27T08:37:00.641Z"
   },
   {
    "duration": 57,
    "start_time": "2022-07-27T08:37:00.660Z"
   },
   {
    "duration": 22,
    "start_time": "2022-07-27T08:37:00.720Z"
   },
   {
    "duration": 29,
    "start_time": "2022-07-27T08:37:00.744Z"
   },
   {
    "duration": 22,
    "start_time": "2022-07-27T08:37:00.775Z"
   },
   {
    "duration": 262,
    "start_time": "2022-07-27T08:42:44.629Z"
   },
   {
    "duration": 16,
    "start_time": "2022-07-27T08:46:47.946Z"
   },
   {
    "duration": 3,
    "start_time": "2022-07-27T08:46:55.159Z"
   },
   {
    "duration": 3,
    "start_time": "2022-07-27T08:46:57.200Z"
   },
   {
    "duration": 105,
    "start_time": "2022-07-27T08:47:00.709Z"
   },
   {
    "duration": 16,
    "start_time": "2022-07-27T08:54:30.166Z"
   },
   {
    "duration": 7,
    "start_time": "2022-07-27T08:55:49.782Z"
   },
   {
    "duration": 106,
    "start_time": "2022-07-27T08:55:55.535Z"
   },
   {
    "duration": 3,
    "start_time": "2022-07-27T08:56:07.421Z"
   },
   {
    "duration": 1530,
    "start_time": "2022-07-27T08:56:22.980Z"
   },
   {
    "duration": 112,
    "start_time": "2022-07-27T08:56:24.512Z"
   },
   {
    "duration": 10,
    "start_time": "2022-07-27T08:56:24.625Z"
   },
   {
    "duration": 6,
    "start_time": "2022-07-27T08:56:24.637Z"
   },
   {
    "duration": 11,
    "start_time": "2022-07-27T08:56:24.644Z"
   },
   {
    "duration": 15,
    "start_time": "2022-07-27T08:56:24.656Z"
   },
   {
    "duration": 31,
    "start_time": "2022-07-27T08:56:24.673Z"
   },
   {
    "duration": 1019,
    "start_time": "2022-07-27T08:56:24.707Z"
   },
   {
    "duration": 9,
    "start_time": "2022-07-27T08:56:25.728Z"
   },
   {
    "duration": 348,
    "start_time": "2022-07-27T08:56:25.740Z"
   },
   {
    "duration": 8,
    "start_time": "2022-07-27T08:56:26.091Z"
   },
   {
    "duration": 237,
    "start_time": "2022-07-27T08:56:26.101Z"
   },
   {
    "duration": 4,
    "start_time": "2022-07-27T08:56:26.340Z"
   },
   {
    "duration": 25,
    "start_time": "2022-07-27T08:56:26.347Z"
   },
   {
    "duration": 21,
    "start_time": "2022-07-27T08:56:26.374Z"
   },
   {
    "duration": 21,
    "start_time": "2022-07-27T08:56:26.398Z"
   },
   {
    "duration": 11,
    "start_time": "2022-07-27T08:56:26.421Z"
   },
   {
    "duration": 29,
    "start_time": "2022-07-27T08:56:26.435Z"
   },
   {
    "duration": 33,
    "start_time": "2022-07-27T08:56:26.468Z"
   },
   {
    "duration": 22,
    "start_time": "2022-07-27T08:56:26.504Z"
   },
   {
    "duration": 15,
    "start_time": "2022-07-27T08:56:26.528Z"
   },
   {
    "duration": 160,
    "start_time": "2022-07-27T08:56:26.545Z"
   },
   {
    "duration": 12,
    "start_time": "2022-07-27T08:56:26.708Z"
   },
   {
    "duration": 10198,
    "start_time": "2022-07-27T08:56:26.723Z"
   },
   {
    "duration": 608,
    "start_time": "2022-07-27T08:56:36.923Z"
   },
   {
    "duration": 36506,
    "start_time": "2022-07-27T08:56:37.533Z"
   },
   {
    "duration": 695,
    "start_time": "2022-07-27T08:57:14.041Z"
   },
   {
    "duration": 1926516,
    "start_time": "2022-07-27T08:57:14.739Z"
   },
   {
    "duration": 0,
    "start_time": "2022-07-27T09:29:21.257Z"
   },
   {
    "duration": 0,
    "start_time": "2022-07-27T09:29:21.258Z"
   },
   {
    "duration": 0,
    "start_time": "2022-07-27T09:29:21.260Z"
   },
   {
    "duration": 0,
    "start_time": "2022-07-27T09:29:21.261Z"
   },
   {
    "duration": 0,
    "start_time": "2022-07-27T09:29:21.262Z"
   },
   {
    "duration": 0,
    "start_time": "2022-07-27T09:29:21.264Z"
   },
   {
    "duration": 0,
    "start_time": "2022-07-27T09:29:21.267Z"
   },
   {
    "duration": 4,
    "start_time": "2022-07-27T09:29:32.726Z"
   },
   {
    "duration": 98,
    "start_time": "2022-07-27T09:29:32.735Z"
   },
   {
    "duration": 9,
    "start_time": "2022-07-27T09:29:32.835Z"
   },
   {
    "duration": 13,
    "start_time": "2022-07-27T09:29:32.846Z"
   },
   {
    "duration": 24,
    "start_time": "2022-07-27T09:29:32.862Z"
   },
   {
    "duration": 9,
    "start_time": "2022-07-27T09:29:32.888Z"
   },
   {
    "duration": 12,
    "start_time": "2022-07-27T09:29:32.899Z"
   },
   {
    "duration": 788,
    "start_time": "2022-07-27T09:29:32.913Z"
   },
   {
    "duration": 7,
    "start_time": "2022-07-27T09:29:33.702Z"
   },
   {
    "duration": 283,
    "start_time": "2022-07-27T09:29:33.710Z"
   },
   {
    "duration": 8,
    "start_time": "2022-07-27T09:29:33.995Z"
   },
   {
    "duration": 216,
    "start_time": "2022-07-27T09:29:34.004Z"
   },
   {
    "duration": 3,
    "start_time": "2022-07-27T09:29:34.222Z"
   },
   {
    "duration": 21,
    "start_time": "2022-07-27T09:29:34.227Z"
   },
   {
    "duration": 11,
    "start_time": "2022-07-27T09:29:34.250Z"
   },
   {
    "duration": 25,
    "start_time": "2022-07-27T09:29:34.263Z"
   },
   {
    "duration": 9,
    "start_time": "2022-07-27T09:29:34.290Z"
   },
   {
    "duration": 13,
    "start_time": "2022-07-27T09:29:34.300Z"
   },
   {
    "duration": 6,
    "start_time": "2022-07-27T09:29:34.315Z"
   },
   {
    "duration": 7,
    "start_time": "2022-07-27T09:29:34.323Z"
   },
   {
    "duration": 9,
    "start_time": "2022-07-27T09:29:34.332Z"
   },
   {
    "duration": 116,
    "start_time": "2022-07-27T09:29:34.342Z"
   },
   {
    "duration": 13,
    "start_time": "2022-07-27T09:29:34.459Z"
   },
   {
    "duration": 8960,
    "start_time": "2022-07-27T09:29:34.474Z"
   },
   {
    "duration": 541,
    "start_time": "2022-07-27T09:29:43.436Z"
   },
   {
    "duration": 32315,
    "start_time": "2022-07-27T09:29:43.979Z"
   },
   {
    "duration": 733,
    "start_time": "2022-07-27T09:30:16.304Z"
   },
   {
    "duration": 518928,
    "start_time": "2022-07-27T09:30:17.039Z"
   },
   {
    "duration": 4490,
    "start_time": "2022-07-27T09:38:55.972Z"
   },
   {
    "duration": 12,
    "start_time": "2022-07-27T09:39:00.465Z"
   },
   {
    "duration": 19,
    "start_time": "2022-07-27T09:39:00.478Z"
   },
   {
    "duration": 20,
    "start_time": "2022-07-27T09:39:00.498Z"
   },
   {
    "duration": 20,
    "start_time": "2022-07-27T09:39:00.520Z"
   },
   {
    "duration": 27,
    "start_time": "2022-07-27T09:39:00.542Z"
   },
   {
    "duration": 4,
    "start_time": "2022-07-27T09:48:21.281Z"
   },
   {
    "duration": 96,
    "start_time": "2022-07-27T09:49:58.114Z"
   },
   {
    "duration": 102,
    "start_time": "2022-07-27T09:50:20.363Z"
   },
   {
    "duration": 3,
    "start_time": "2022-07-27T09:50:25.587Z"
   },
   {
    "duration": 97,
    "start_time": "2022-07-27T09:51:24.213Z"
   },
   {
    "duration": 100,
    "start_time": "2022-07-27T09:51:31.997Z"
   },
   {
    "duration": 100,
    "start_time": "2022-07-27T09:51:41.421Z"
   },
   {
    "duration": 14,
    "start_time": "2022-07-27T09:51:48.563Z"
   },
   {
    "duration": 105,
    "start_time": "2022-07-27T09:51:50.296Z"
   },
   {
    "duration": 96,
    "start_time": "2022-07-27T09:51:57.136Z"
   },
   {
    "duration": 104,
    "start_time": "2022-07-27T09:52:05.507Z"
   },
   {
    "duration": 6,
    "start_time": "2022-07-27T09:52:14.909Z"
   },
   {
    "duration": 92,
    "start_time": "2022-07-27T09:52:14.918Z"
   },
   {
    "duration": 12,
    "start_time": "2022-07-27T09:52:15.013Z"
   },
   {
    "duration": 7,
    "start_time": "2022-07-27T09:52:15.027Z"
   },
   {
    "duration": 8,
    "start_time": "2022-07-27T09:52:15.036Z"
   },
   {
    "duration": 11,
    "start_time": "2022-07-27T09:52:15.046Z"
   },
   {
    "duration": 27,
    "start_time": "2022-07-27T09:52:15.059Z"
   },
   {
    "duration": 705,
    "start_time": "2022-07-27T09:52:15.087Z"
   },
   {
    "duration": 7,
    "start_time": "2022-07-27T09:52:15.793Z"
   },
   {
    "duration": 352,
    "start_time": "2022-07-27T09:52:15.801Z"
   },
   {
    "duration": 8,
    "start_time": "2022-07-27T09:52:16.161Z"
   },
   {
    "duration": 276,
    "start_time": "2022-07-27T09:52:16.173Z"
   },
   {
    "duration": 4,
    "start_time": "2022-07-27T09:52:16.451Z"
   },
   {
    "duration": 46,
    "start_time": "2022-07-27T09:52:16.464Z"
   },
   {
    "duration": 23,
    "start_time": "2022-07-27T09:52:16.513Z"
   },
   {
    "duration": 15,
    "start_time": "2022-07-27T09:52:16.538Z"
   },
   {
    "duration": 42,
    "start_time": "2022-07-27T09:52:16.555Z"
   },
   {
    "duration": 28,
    "start_time": "2022-07-27T09:52:16.599Z"
   },
   {
    "duration": 23,
    "start_time": "2022-07-27T09:52:16.628Z"
   },
   {
    "duration": 43,
    "start_time": "2022-07-27T09:52:16.653Z"
   },
   {
    "duration": 11,
    "start_time": "2022-07-27T09:52:16.698Z"
   },
   {
    "duration": 114,
    "start_time": "2022-07-27T09:52:16.711Z"
   },
   {
    "duration": 238,
    "start_time": "2022-07-27T09:57:24.651Z"
   },
   {
    "duration": 98,
    "start_time": "2022-07-27T10:03:58.816Z"
   },
   {
    "duration": 93,
    "start_time": "2022-07-27T10:04:44.391Z"
   },
   {
    "duration": 165,
    "start_time": "2022-07-27T10:17:32.809Z"
   },
   {
    "duration": 93,
    "start_time": "2022-07-27T10:17:46.477Z"
   },
   {
    "duration": 111,
    "start_time": "2022-07-27T10:17:52.337Z"
   },
   {
    "duration": 120,
    "start_time": "2022-07-27T10:17:57.661Z"
   },
   {
    "duration": 142,
    "start_time": "2022-07-27T10:18:03.784Z"
   },
   {
    "duration": 177,
    "start_time": "2022-07-27T10:18:08.686Z"
   },
   {
    "duration": 146,
    "start_time": "2022-07-27T10:18:13.543Z"
   },
   {
    "duration": 158,
    "start_time": "2022-07-27T10:18:19.059Z"
   },
   {
    "duration": 179,
    "start_time": "2022-07-27T10:18:23.741Z"
   },
   {
    "duration": 414,
    "start_time": "2022-07-27T10:18:32.163Z"
   },
   {
    "duration": 1516,
    "start_time": "2022-07-27T10:18:40.229Z"
   },
   {
    "duration": 160,
    "start_time": "2022-07-27T10:18:48.759Z"
   },
   {
    "duration": 182,
    "start_time": "2022-07-27T10:37:31.353Z"
   },
   {
    "duration": 6,
    "start_time": "2022-07-27T10:38:32.828Z"
   },
   {
    "duration": 11,
    "start_time": "2022-07-27T10:38:41.585Z"
   },
   {
    "duration": 1465,
    "start_time": "2022-07-27T10:46:17.815Z"
   },
   {
    "duration": 86,
    "start_time": "2022-07-27T10:46:19.282Z"
   },
   {
    "duration": 15,
    "start_time": "2022-07-27T10:46:19.370Z"
   },
   {
    "duration": 13,
    "start_time": "2022-07-27T10:46:19.387Z"
   },
   {
    "duration": 6,
    "start_time": "2022-07-27T10:46:19.403Z"
   },
   {
    "duration": 11,
    "start_time": "2022-07-27T10:46:19.411Z"
   },
   {
    "duration": 7,
    "start_time": "2022-07-27T10:46:19.424Z"
   },
   {
    "duration": 938,
    "start_time": "2022-07-27T10:46:19.432Z"
   },
   {
    "duration": 11,
    "start_time": "2022-07-27T10:46:20.373Z"
   },
   {
    "duration": 332,
    "start_time": "2022-07-27T10:46:20.388Z"
   },
   {
    "duration": 11,
    "start_time": "2022-07-27T10:46:20.722Z"
   },
   {
    "duration": 279,
    "start_time": "2022-07-27T10:46:20.735Z"
   },
   {
    "duration": 4,
    "start_time": "2022-07-27T10:46:21.016Z"
   },
   {
    "duration": 68,
    "start_time": "2022-07-27T10:46:21.021Z"
   },
   {
    "duration": 4,
    "start_time": "2022-07-27T10:46:21.091Z"
   },
   {
    "duration": 8,
    "start_time": "2022-07-27T10:46:21.096Z"
   },
   {
    "duration": 13,
    "start_time": "2022-07-27T10:46:21.106Z"
   },
   {
    "duration": 21,
    "start_time": "2022-07-27T10:46:21.121Z"
   },
   {
    "duration": 7,
    "start_time": "2022-07-27T10:46:21.144Z"
   },
   {
    "duration": 12,
    "start_time": "2022-07-27T10:46:21.152Z"
   },
   {
    "duration": 18,
    "start_time": "2022-07-27T10:46:21.167Z"
   },
   {
    "duration": 164,
    "start_time": "2022-07-27T10:46:21.187Z"
   },
   {
    "duration": 21,
    "start_time": "2022-07-27T10:46:21.352Z"
   },
   {
    "duration": 19,
    "start_time": "2022-07-27T10:46:21.375Z"
   },
   {
    "duration": 14529,
    "start_time": "2022-07-27T10:46:21.395Z"
   },
   {
    "duration": 599,
    "start_time": "2022-07-27T10:46:35.927Z"
   },
   {
    "duration": 44973,
    "start_time": "2022-07-27T10:46:36.528Z"
   },
   {
    "duration": 539,
    "start_time": "2022-07-27T10:47:21.504Z"
   }
  ],
  "kernelspec": {
   "display_name": "Python 3 (ipykernel)",
   "language": "python",
   "name": "python3"
  },
  "language_info": {
   "codemirror_mode": {
    "name": "ipython",
    "version": 3
   },
   "file_extension": ".py",
   "mimetype": "text/x-python",
   "name": "python",
   "nbconvert_exporter": "python",
   "pygments_lexer": "ipython3",
   "version": "3.7.8"
  },
  "toc": {
   "base_numbering": 1,
   "nav_menu": {
    "height": "222px",
    "width": "448px"
   },
   "number_sections": true,
   "sideBar": true,
   "skip_h1_title": true,
   "title_cell": "Table of Contents",
   "title_sidebar": "Contents",
   "toc_cell": false,
   "toc_position": {
    "height": "508px",
    "left": "459px",
    "top": "173.125px",
    "width": "165px"
   },
   "toc_section_display": true,
   "toc_window_display": true
  }
 },
 "nbformat": 4,
 "nbformat_minor": 5
}
