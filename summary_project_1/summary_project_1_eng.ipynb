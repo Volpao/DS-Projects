{
 "cells": [
  {
   "cell_type": "markdown",
   "id": "ecad36fb",
   "metadata": {},
   "source": [
    "# Study on Games Sales"
   ]
  },
  {
   "cell_type": "markdown",
   "id": "8408564a",
   "metadata": {},
   "source": [
    "The goal of any business is to make a profit. Distribution of resources is also associated with profit: it makes sense to invest the resources of the enterprise in what brings it.\n",
    "Online stores selling computer games are no exception. To get the biggest revenue, among the huge variety of games in the assortment, you need to include those with the highest popularity. Accordingly, such games should be included in the advertising campaign.\n",
    "In this study, we will analyze historical data (up to 2016) from open sources, including game sales, user and expert ratings, genres and platforms. Data is needed to determine the patterns of success of the game. This will allow you to bid on a potentially popular product and plan advertising campaigns.\n",
    "\n",
    "We will get the above data from the following csv file: '/datasets/games.csv'.\n",
    "\n",
    "From the assignment, we know that these files contain the following metrics:\n",
    "\n",
    "- Name - the name of the game\n",
    "- Platform - platform\n",
    "- Year_of_Release - year of release\n",
    "- Genre - game genre\n",
    "- NA_sales - sales in North America (millions of copies sold)\n",
    "- EU_sales - sales in Europe (millions of copies sold)\n",
    "- JP_sales - sales in Japan (millions of copies sold)\n",
    "- Other_sales - sales in other countries (millions of copies sold)\n",
    "- Critic_Score - Critics score (maximum 100)\n",
    "- User_Score - user rating (maximum 10)\n",
    "- Rating — rating from the ESRB (Entertainment Software Rating Board). This association determines the rating of computer games and assigns them an appropriate age category.\n",
    "\n",
    "**The purpose of this study** is to test the following null hypotheses:\n",
    "1. The average user scores of the Xbox One and PC platforms are equal;\n",
    "2. The average user scores for the Action and Sports genres are equal.\n",
    "\n",
    "According to the results of the analysis, the hypotheses will either be accepted or rejected in favor of alternative ones: accordingly, the average user scores of the Xbox One and PC platforms differ, and the average user scores of the Action and Sports genres differ.\n",
    "\n",
    "**Research progress**:\n",
    "\n",
    "We will try to test the above hypotheses based on the above gaming data. Since we do not have information about the format (except for the column names) and the quality of the data, before testing the hypotheses, we will review the data and pre-process it, as well as perform data discovery and statistical analysis: all this is necessary to avoid errors that may affect the conclusions.\n",
    "\n",
    "\n",
    "Thus, this study will include the following steps:\n",
    "\n",
    "* data overview\n",
    "* data preprocessing\n",
    "* data discovery and and statistical analysis\n",
    "* testing hypotheses\n"
   ]
  },
  {
   "cell_type": "markdown",
   "id": "7df204d0",
   "metadata": {},
   "source": [
    "## Обзор данных\n",
    "\n"
   ]
  },
  {
   "cell_type": "code",
   "execution_count": 54,
   "id": "ed046b58",
   "metadata": {},
   "outputs": [],
   "source": [
    "import numpy as np  # importing numpy\n",
    "import pandas as pd  # importing pandas\n",
    "import os.path as path # importing os.path to handle file path\n",
    "import seaborn as sns # importing seaborn for plotting\n",
    "import matplotlib.pyplot as plt  # importing matplotlib for plotting\n",
    "from scipy import stats as st # importing statistic functions"
   ]
  },
  {
   "cell_type": "markdown",
   "id": "2a45e1a4",
   "metadata": {},
   "source": [
    "Let's make the first idea about the data. Beforwe viewing and analysis, we read the file in csv format, save it as dataframe, and also look at the first 10 lines. Next, using the info() method,  we will display general information about the table:\n"
   ]
  },
  {
   "cell_type": "code",
   "execution_count": 55,
   "id": "7d068f91",
   "metadata": {},
   "outputs": [
    {
     "data": {
      "text/html": [
       "<div>\n",
       "<style scoped>\n",
       "    .dataframe tbody tr th:only-of-type {\n",
       "        vertical-align: middle;\n",
       "    }\n",
       "\n",
       "    .dataframe tbody tr th {\n",
       "        vertical-align: top;\n",
       "    }\n",
       "\n",
       "    .dataframe thead th {\n",
       "        text-align: right;\n",
       "    }\n",
       "</style>\n",
       "<table border=\"1\" class=\"dataframe\">\n",
       "  <thead>\n",
       "    <tr style=\"text-align: right;\">\n",
       "      <th></th>\n",
       "      <th>Name</th>\n",
       "      <th>Platform</th>\n",
       "      <th>Year_of_Release</th>\n",
       "      <th>Genre</th>\n",
       "      <th>NA_sales</th>\n",
       "      <th>EU_sales</th>\n",
       "      <th>JP_sales</th>\n",
       "      <th>Other_sales</th>\n",
       "      <th>Critic_Score</th>\n",
       "      <th>User_Score</th>\n",
       "      <th>Rating</th>\n",
       "    </tr>\n",
       "  </thead>\n",
       "  <tbody>\n",
       "    <tr>\n",
       "      <th>0</th>\n",
       "      <td>Wii Sports</td>\n",
       "      <td>Wii</td>\n",
       "      <td>2006.0</td>\n",
       "      <td>Sports</td>\n",
       "      <td>41.36</td>\n",
       "      <td>28.96</td>\n",
       "      <td>3.77</td>\n",
       "      <td>8.45</td>\n",
       "      <td>76.0</td>\n",
       "      <td>8</td>\n",
       "      <td>E</td>\n",
       "    </tr>\n",
       "    <tr>\n",
       "      <th>1</th>\n",
       "      <td>Super Mario Bros.</td>\n",
       "      <td>NES</td>\n",
       "      <td>1985.0</td>\n",
       "      <td>Platform</td>\n",
       "      <td>29.08</td>\n",
       "      <td>3.58</td>\n",
       "      <td>6.81</td>\n",
       "      <td>0.77</td>\n",
       "      <td>NaN</td>\n",
       "      <td>NaN</td>\n",
       "      <td>NaN</td>\n",
       "    </tr>\n",
       "    <tr>\n",
       "      <th>2</th>\n",
       "      <td>Mario Kart Wii</td>\n",
       "      <td>Wii</td>\n",
       "      <td>2008.0</td>\n",
       "      <td>Racing</td>\n",
       "      <td>15.68</td>\n",
       "      <td>12.76</td>\n",
       "      <td>3.79</td>\n",
       "      <td>3.29</td>\n",
       "      <td>82.0</td>\n",
       "      <td>8.3</td>\n",
       "      <td>E</td>\n",
       "    </tr>\n",
       "    <tr>\n",
       "      <th>3</th>\n",
       "      <td>Wii Sports Resort</td>\n",
       "      <td>Wii</td>\n",
       "      <td>2009.0</td>\n",
       "      <td>Sports</td>\n",
       "      <td>15.61</td>\n",
       "      <td>10.93</td>\n",
       "      <td>3.28</td>\n",
       "      <td>2.95</td>\n",
       "      <td>80.0</td>\n",
       "      <td>8</td>\n",
       "      <td>E</td>\n",
       "    </tr>\n",
       "    <tr>\n",
       "      <th>4</th>\n",
       "      <td>Pokemon Red/Pokemon Blue</td>\n",
       "      <td>GB</td>\n",
       "      <td>1996.0</td>\n",
       "      <td>Role-Playing</td>\n",
       "      <td>11.27</td>\n",
       "      <td>8.89</td>\n",
       "      <td>10.22</td>\n",
       "      <td>1.00</td>\n",
       "      <td>NaN</td>\n",
       "      <td>NaN</td>\n",
       "      <td>NaN</td>\n",
       "    </tr>\n",
       "    <tr>\n",
       "      <th>5</th>\n",
       "      <td>Tetris</td>\n",
       "      <td>GB</td>\n",
       "      <td>1989.0</td>\n",
       "      <td>Puzzle</td>\n",
       "      <td>23.20</td>\n",
       "      <td>2.26</td>\n",
       "      <td>4.22</td>\n",
       "      <td>0.58</td>\n",
       "      <td>NaN</td>\n",
       "      <td>NaN</td>\n",
       "      <td>NaN</td>\n",
       "    </tr>\n",
       "    <tr>\n",
       "      <th>6</th>\n",
       "      <td>New Super Mario Bros.</td>\n",
       "      <td>DS</td>\n",
       "      <td>2006.0</td>\n",
       "      <td>Platform</td>\n",
       "      <td>11.28</td>\n",
       "      <td>9.14</td>\n",
       "      <td>6.50</td>\n",
       "      <td>2.88</td>\n",
       "      <td>89.0</td>\n",
       "      <td>8.5</td>\n",
       "      <td>E</td>\n",
       "    </tr>\n",
       "    <tr>\n",
       "      <th>7</th>\n",
       "      <td>Wii Play</td>\n",
       "      <td>Wii</td>\n",
       "      <td>2006.0</td>\n",
       "      <td>Misc</td>\n",
       "      <td>13.96</td>\n",
       "      <td>9.18</td>\n",
       "      <td>2.93</td>\n",
       "      <td>2.84</td>\n",
       "      <td>58.0</td>\n",
       "      <td>6.6</td>\n",
       "      <td>E</td>\n",
       "    </tr>\n",
       "    <tr>\n",
       "      <th>8</th>\n",
       "      <td>New Super Mario Bros. Wii</td>\n",
       "      <td>Wii</td>\n",
       "      <td>2009.0</td>\n",
       "      <td>Platform</td>\n",
       "      <td>14.44</td>\n",
       "      <td>6.94</td>\n",
       "      <td>4.70</td>\n",
       "      <td>2.24</td>\n",
       "      <td>87.0</td>\n",
       "      <td>8.4</td>\n",
       "      <td>E</td>\n",
       "    </tr>\n",
       "    <tr>\n",
       "      <th>9</th>\n",
       "      <td>Duck Hunt</td>\n",
       "      <td>NES</td>\n",
       "      <td>1984.0</td>\n",
       "      <td>Shooter</td>\n",
       "      <td>26.93</td>\n",
       "      <td>0.63</td>\n",
       "      <td>0.28</td>\n",
       "      <td>0.47</td>\n",
       "      <td>NaN</td>\n",
       "      <td>NaN</td>\n",
       "      <td>NaN</td>\n",
       "    </tr>\n",
       "  </tbody>\n",
       "</table>\n",
       "</div>"
      ],
      "text/plain": [
       "                        Name Platform  Year_of_Release         Genre  \\\n",
       "0                 Wii Sports      Wii           2006.0        Sports   \n",
       "1          Super Mario Bros.      NES           1985.0      Platform   \n",
       "2             Mario Kart Wii      Wii           2008.0        Racing   \n",
       "3          Wii Sports Resort      Wii           2009.0        Sports   \n",
       "4   Pokemon Red/Pokemon Blue       GB           1996.0  Role-Playing   \n",
       "5                     Tetris       GB           1989.0        Puzzle   \n",
       "6      New Super Mario Bros.       DS           2006.0      Platform   \n",
       "7                   Wii Play      Wii           2006.0          Misc   \n",
       "8  New Super Mario Bros. Wii      Wii           2009.0      Platform   \n",
       "9                  Duck Hunt      NES           1984.0       Shooter   \n",
       "\n",
       "   NA_sales  EU_sales  JP_sales  Other_sales  Critic_Score User_Score Rating  \n",
       "0     41.36     28.96      3.77         8.45          76.0          8      E  \n",
       "1     29.08      3.58      6.81         0.77           NaN        NaN    NaN  \n",
       "2     15.68     12.76      3.79         3.29          82.0        8.3      E  \n",
       "3     15.61     10.93      3.28         2.95          80.0          8      E  \n",
       "4     11.27      8.89     10.22         1.00           NaN        NaN    NaN  \n",
       "5     23.20      2.26      4.22         0.58           NaN        NaN    NaN  \n",
       "6     11.28      9.14      6.50         2.88          89.0        8.5      E  \n",
       "7     13.96      9.18      2.93         2.84          58.0        6.6      E  \n",
       "8     14.44      6.94      4.70         2.24          87.0        8.4      E  \n",
       "9     26.93      0.63      0.28         0.47           NaN        NaN    NaN  "
      ]
     },
     "metadata": {},
     "output_type": "display_data"
    }
   ],
   "source": [
    "# reading the file and saving to df\n",
    "try:\n",
    "    base_path = 'games.csv'\n",
    "    df = pd.read_csv(base_path) if path.exists(base_path) else pd.read_csv(f'/datasets/{base_path}') # checking the file path\n",
    "    display(df.head(10))  # gettin firs 10 rows of the df\n",
    "except:\n",
    "     print('File not found') # if no path is correct, printing error message\n"
   ]
  },
  {
   "cell_type": "code",
   "execution_count": 56,
   "id": "99ee9f19",
   "metadata": {},
   "outputs": [
    {
     "name": "stdout",
     "output_type": "stream",
     "text": [
      "<class 'pandas.core.frame.DataFrame'>\n",
      "RangeIndex: 16715 entries, 0 to 16714\n",
      "Data columns (total 11 columns):\n",
      " #   Column           Non-Null Count  Dtype  \n",
      "---  ------           --------------  -----  \n",
      " 0   Name             16713 non-null  object \n",
      " 1   Platform         16715 non-null  object \n",
      " 2   Year_of_Release  16446 non-null  float64\n",
      " 3   Genre            16713 non-null  object \n",
      " 4   NA_sales         16715 non-null  float64\n",
      " 5   EU_sales         16715 non-null  float64\n",
      " 6   JP_sales         16715 non-null  float64\n",
      " 7   Other_sales      16715 non-null  float64\n",
      " 8   Critic_Score     8137 non-null   float64\n",
      " 9   User_Score       10014 non-null  object \n",
      " 10  Rating           9949 non-null   object \n",
      "dtypes: float64(6), object(5)\n",
      "memory usage: 1.4+ MB\n"
     ]
    }
   ],
   "source": [
    "df.info() # displaying general info on df"
   ]
  },
  {
   "cell_type": "markdown",
   "id": "a770a148",
   "metadata": {},
   "source": [
    "At first glance, it is clear that the data contains some anomalies: non-optimized column names, as well as the data type in some of them does not correspond to the metric  meaning.\n",
    "Next, let's check the dataset for full duplicates. If there are any, we will remove them, since duplicates may\n",
    "distort the results of our study:\n"
   ]
  },
  {
   "cell_type": "code",
   "execution_count": 57,
   "id": "4fae975b",
   "metadata": {},
   "outputs": [
    {
     "data": {
      "text/plain": [
       "0"
      ]
     },
     "execution_count": 57,
     "metadata": {},
     "output_type": "execute_result"
    }
   ],
   "source": [
    "df.duplicated().sum() # checking df for explicit duplicates"
   ]
  },
  {
   "cell_type": "markdown",
   "id": "3fec3336",
   "metadata": {},
   "source": [
    "There is not a single full duplicate in the present dataframe, therefore, each observation is unique.\n",
    "Next, we will check each column of the table for missing values:\n"
   ]
  },
  {
   "cell_type": "code",
   "execution_count": 58,
   "id": "a79e9a4c",
   "metadata": {},
   "outputs": [
    {
     "data": {
      "text/plain": [
       "Name                0.011965\n",
       "Platform            0.000000\n",
       "Year_of_Release     1.609333\n",
       "Genre               0.011965\n",
       "NA_sales            0.000000\n",
       "EU_sales            0.000000\n",
       "JP_sales            0.000000\n",
       "Other_sales         0.000000\n",
       "Critic_Score       51.319174\n",
       "User_Score         40.089740\n",
       "Rating             40.478612\n",
       "dtype: float64"
      ]
     },
     "execution_count": 58,
     "metadata": {},
     "output_type": "execute_result"
    }
   ],
   "source": [
    "(df.isna().mean()) * 100 # displaying the % of NaN in each column"
   ]
  },
  {
   "cell_type": "markdown",
   "id": "e89bc8cb",
   "metadata": {},
   "source": [
    "As we can notice, missing values are present in 6 out of 11 columns, and if in the first three of them the proportion of such values is extremely small ('name', 'year_of_release', 'genre'), then in the next three ('critic_score', 'user_score ', 'rating') it is critical: more than half and about 40%, respectively.\n"
   ]
  },
  {
   "cell_type": "markdown",
   "id": "85732b9d",
   "metadata": {},
   "source": [
    "**Conclusions**\n",
    "During the data overview, we identified the following anomalies: column names, data types that do not match the declared metrics, as well as missing values. In the next section of the study, we will have to eliminate / process all listed anomalies in order to maximize the quality of our study.\n"
   ]
  },
  {
   "cell_type": "markdown",
   "id": "ee7b9de3",
   "metadata": {},
   "source": [
    "## Data Preprocessing and Anomalies Elimination\n",
    "### Optimizing Column Names\n",
    "\n"
   ]
  },
  {
   "cell_type": "markdown",
   "id": "5ee32dfb",
   "metadata": {},
   "source": [
    "So, we noticed earlier that not all column names are optimized. To improve the perception of the dataframe, we will bring the names of all columns to lower case:\n"
   ]
  },
  {
   "cell_type": "code",
   "execution_count": 59,
   "id": "cdee4221",
   "metadata": {},
   "outputs": [
    {
     "data": {
      "text/html": [
       "<div>\n",
       "<style scoped>\n",
       "    .dataframe tbody tr th:only-of-type {\n",
       "        vertical-align: middle;\n",
       "    }\n",
       "\n",
       "    .dataframe tbody tr th {\n",
       "        vertical-align: top;\n",
       "    }\n",
       "\n",
       "    .dataframe thead th {\n",
       "        text-align: right;\n",
       "    }\n",
       "</style>\n",
       "<table border=\"1\" class=\"dataframe\">\n",
       "  <thead>\n",
       "    <tr style=\"text-align: right;\">\n",
       "      <th></th>\n",
       "      <th>name</th>\n",
       "      <th>platform</th>\n",
       "      <th>year_of_release</th>\n",
       "      <th>genre</th>\n",
       "      <th>na_sales</th>\n",
       "      <th>eu_sales</th>\n",
       "      <th>jp_sales</th>\n",
       "      <th>other_sales</th>\n",
       "      <th>critic_score</th>\n",
       "      <th>user_score</th>\n",
       "      <th>rating</th>\n",
       "    </tr>\n",
       "  </thead>\n",
       "  <tbody>\n",
       "    <tr>\n",
       "      <th>0</th>\n",
       "      <td>Wii Sports</td>\n",
       "      <td>Wii</td>\n",
       "      <td>2006.0</td>\n",
       "      <td>Sports</td>\n",
       "      <td>41.36</td>\n",
       "      <td>28.96</td>\n",
       "      <td>3.77</td>\n",
       "      <td>8.45</td>\n",
       "      <td>76.0</td>\n",
       "      <td>8</td>\n",
       "      <td>E</td>\n",
       "    </tr>\n",
       "    <tr>\n",
       "      <th>1</th>\n",
       "      <td>Super Mario Bros.</td>\n",
       "      <td>NES</td>\n",
       "      <td>1985.0</td>\n",
       "      <td>Platform</td>\n",
       "      <td>29.08</td>\n",
       "      <td>3.58</td>\n",
       "      <td>6.81</td>\n",
       "      <td>0.77</td>\n",
       "      <td>NaN</td>\n",
       "      <td>NaN</td>\n",
       "      <td>NaN</td>\n",
       "    </tr>\n",
       "    <tr>\n",
       "      <th>2</th>\n",
       "      <td>Mario Kart Wii</td>\n",
       "      <td>Wii</td>\n",
       "      <td>2008.0</td>\n",
       "      <td>Racing</td>\n",
       "      <td>15.68</td>\n",
       "      <td>12.76</td>\n",
       "      <td>3.79</td>\n",
       "      <td>3.29</td>\n",
       "      <td>82.0</td>\n",
       "      <td>8.3</td>\n",
       "      <td>E</td>\n",
       "    </tr>\n",
       "    <tr>\n",
       "      <th>3</th>\n",
       "      <td>Wii Sports Resort</td>\n",
       "      <td>Wii</td>\n",
       "      <td>2009.0</td>\n",
       "      <td>Sports</td>\n",
       "      <td>15.61</td>\n",
       "      <td>10.93</td>\n",
       "      <td>3.28</td>\n",
       "      <td>2.95</td>\n",
       "      <td>80.0</td>\n",
       "      <td>8</td>\n",
       "      <td>E</td>\n",
       "    </tr>\n",
       "    <tr>\n",
       "      <th>4</th>\n",
       "      <td>Pokemon Red/Pokemon Blue</td>\n",
       "      <td>GB</td>\n",
       "      <td>1996.0</td>\n",
       "      <td>Role-Playing</td>\n",
       "      <td>11.27</td>\n",
       "      <td>8.89</td>\n",
       "      <td>10.22</td>\n",
       "      <td>1.00</td>\n",
       "      <td>NaN</td>\n",
       "      <td>NaN</td>\n",
       "      <td>NaN</td>\n",
       "    </tr>\n",
       "  </tbody>\n",
       "</table>\n",
       "</div>"
      ],
      "text/plain": [
       "                       name platform  year_of_release         genre  na_sales  \\\n",
       "0                Wii Sports      Wii           2006.0        Sports     41.36   \n",
       "1         Super Mario Bros.      NES           1985.0      Platform     29.08   \n",
       "2            Mario Kart Wii      Wii           2008.0        Racing     15.68   \n",
       "3         Wii Sports Resort      Wii           2009.0        Sports     15.61   \n",
       "4  Pokemon Red/Pokemon Blue       GB           1996.0  Role-Playing     11.27   \n",
       "\n",
       "   eu_sales  jp_sales  other_sales  critic_score user_score rating  \n",
       "0     28.96      3.77         8.45          76.0          8      E  \n",
       "1      3.58      6.81         0.77           NaN        NaN    NaN  \n",
       "2     12.76      3.79         3.29          82.0        8.3      E  \n",
       "3     10.93      3.28         2.95          80.0          8      E  \n",
       "4      8.89     10.22         1.00           NaN        NaN    NaN  "
      ]
     },
     "execution_count": 59,
     "metadata": {},
     "output_type": "execute_result"
    }
   ],
   "source": [
    "df.columns = df.columns.str.lower() # putting all column names to lower case\n",
    "df.head()  # visualizing the result"
   ]
  },
  {
   "cell_type": "markdown",
   "id": "22caf57f",
   "metadata": {},
   "source": [
    "Next, let's move on to the most delicate stage - the processing of missing values.\n",
    "\n"
   ]
  },
  {
   "cell_type": "markdown",
   "id": "4bc7bd09",
   "metadata": {},
   "source": [
    "###  Processing Missing Values\n",
    "So, we found out that the missing values are present in 6 columns. Three of them ('name', 'year_of_release', 'genre') have a very low percentage of missing values (between 0.12 and 1.6%), well below the 10% threshold. So we can just delete rows where column data values are missing.\n",
    "\n"
   ]
  },
  {
   "cell_type": "code",
   "execution_count": 60,
   "id": "04b9189c",
   "metadata": {},
   "outputs": [
    {
     "data": {
      "text/plain": [
       "name                0.000000\n",
       "platform            0.000000\n",
       "year_of_release     0.000000\n",
       "genre               0.000000\n",
       "na_sales            0.000000\n",
       "eu_sales            0.000000\n",
       "jp_sales            0.000000\n",
       "other_sales         0.000000\n",
       "critic_score       51.453418\n",
       "user_score         40.166626\n",
       "rating             40.598395\n",
       "dtype: float64"
      ]
     },
     "execution_count": 60,
     "metadata": {},
     "output_type": "execute_result"
    }
   ],
   "source": [
    "df = df.query('name.notna() & year_of_release.notna() & genre.notna()')  # removing the rows where  'name', 'year_of_release', 'genre' are NaN\n",
    "(df.isna().mean()) * 100  # checking the result\n"
   ]
  },
  {
   "cell_type": "markdown",
   "id": "49ffb831",
   "metadata": {},
   "source": [
    "As for the next three columns, which are missing a significant amount of values, it makes sense to check whether there is a  relationship between such missing values:\n",
    "\n"
   ]
  },
  {
   "cell_type": "code",
   "execution_count": 61,
   "id": "7d9992f4",
   "metadata": {},
   "outputs": [
    {
     "data": {
      "text/html": [
       "<div>\n",
       "<style scoped>\n",
       "    .dataframe tbody tr th:only-of-type {\n",
       "        vertical-align: middle;\n",
       "    }\n",
       "\n",
       "    .dataframe tbody tr th {\n",
       "        vertical-align: top;\n",
       "    }\n",
       "\n",
       "    .dataframe thead th {\n",
       "        text-align: right;\n",
       "    }\n",
       "</style>\n",
       "<table border=\"1\" class=\"dataframe\">\n",
       "  <thead>\n",
       "    <tr style=\"text-align: right;\">\n",
       "      <th></th>\n",
       "      <th>critic_score</th>\n",
       "      <th>user_score</th>\n",
       "      <th>rating</th>\n",
       "    </tr>\n",
       "  </thead>\n",
       "  <tbody>\n",
       "    <tr>\n",
       "      <th>1</th>\n",
       "      <td>NaN</td>\n",
       "      <td>NaN</td>\n",
       "      <td>NaN</td>\n",
       "    </tr>\n",
       "    <tr>\n",
       "      <th>4</th>\n",
       "      <td>NaN</td>\n",
       "      <td>NaN</td>\n",
       "      <td>NaN</td>\n",
       "    </tr>\n",
       "    <tr>\n",
       "      <th>5</th>\n",
       "      <td>NaN</td>\n",
       "      <td>NaN</td>\n",
       "      <td>NaN</td>\n",
       "    </tr>\n",
       "    <tr>\n",
       "      <th>9</th>\n",
       "      <td>NaN</td>\n",
       "      <td>NaN</td>\n",
       "      <td>NaN</td>\n",
       "    </tr>\n",
       "    <tr>\n",
       "      <th>10</th>\n",
       "      <td>NaN</td>\n",
       "      <td>NaN</td>\n",
       "      <td>NaN</td>\n",
       "    </tr>\n",
       "    <tr>\n",
       "      <th>12</th>\n",
       "      <td>NaN</td>\n",
       "      <td>NaN</td>\n",
       "      <td>NaN</td>\n",
       "    </tr>\n",
       "    <tr>\n",
       "      <th>18</th>\n",
       "      <td>NaN</td>\n",
       "      <td>NaN</td>\n",
       "      <td>NaN</td>\n",
       "    </tr>\n",
       "    <tr>\n",
       "      <th>20</th>\n",
       "      <td>NaN</td>\n",
       "      <td>NaN</td>\n",
       "      <td>NaN</td>\n",
       "    </tr>\n",
       "    <tr>\n",
       "      <th>21</th>\n",
       "      <td>NaN</td>\n",
       "      <td>NaN</td>\n",
       "      <td>NaN</td>\n",
       "    </tr>\n",
       "    <tr>\n",
       "      <th>22</th>\n",
       "      <td>NaN</td>\n",
       "      <td>NaN</td>\n",
       "      <td>NaN</td>\n",
       "    </tr>\n",
       "    <tr>\n",
       "      <th>25</th>\n",
       "      <td>NaN</td>\n",
       "      <td>NaN</td>\n",
       "      <td>NaN</td>\n",
       "    </tr>\n",
       "    <tr>\n",
       "      <th>27</th>\n",
       "      <td>NaN</td>\n",
       "      <td>NaN</td>\n",
       "      <td>NaN</td>\n",
       "    </tr>\n",
       "    <tr>\n",
       "      <th>30</th>\n",
       "      <td>NaN</td>\n",
       "      <td>NaN</td>\n",
       "      <td>NaN</td>\n",
       "    </tr>\n",
       "    <tr>\n",
       "      <th>31</th>\n",
       "      <td>NaN</td>\n",
       "      <td>NaN</td>\n",
       "      <td>NaN</td>\n",
       "    </tr>\n",
       "    <tr>\n",
       "      <th>33</th>\n",
       "      <td>NaN</td>\n",
       "      <td>NaN</td>\n",
       "      <td>NaN</td>\n",
       "    </tr>\n",
       "    <tr>\n",
       "      <th>45</th>\n",
       "      <td>NaN</td>\n",
       "      <td>NaN</td>\n",
       "      <td>NaN</td>\n",
       "    </tr>\n",
       "    <tr>\n",
       "      <th>46</th>\n",
       "      <td>NaN</td>\n",
       "      <td>NaN</td>\n",
       "      <td>NaN</td>\n",
       "    </tr>\n",
       "    <tr>\n",
       "      <th>47</th>\n",
       "      <td>NaN</td>\n",
       "      <td>NaN</td>\n",
       "      <td>NaN</td>\n",
       "    </tr>\n",
       "    <tr>\n",
       "      <th>50</th>\n",
       "      <td>NaN</td>\n",
       "      <td>NaN</td>\n",
       "      <td>NaN</td>\n",
       "    </tr>\n",
       "    <tr>\n",
       "      <th>56</th>\n",
       "      <td>NaN</td>\n",
       "      <td>NaN</td>\n",
       "      <td>NaN</td>\n",
       "    </tr>\n",
       "    <tr>\n",
       "      <th>58</th>\n",
       "      <td>NaN</td>\n",
       "      <td>NaN</td>\n",
       "      <td>NaN</td>\n",
       "    </tr>\n",
       "    <tr>\n",
       "      <th>59</th>\n",
       "      <td>NaN</td>\n",
       "      <td>NaN</td>\n",
       "      <td>NaN</td>\n",
       "    </tr>\n",
       "    <tr>\n",
       "      <th>63</th>\n",
       "      <td>NaN</td>\n",
       "      <td>NaN</td>\n",
       "      <td>NaN</td>\n",
       "    </tr>\n",
       "    <tr>\n",
       "      <th>71</th>\n",
       "      <td>NaN</td>\n",
       "      <td>NaN</td>\n",
       "      <td>NaN</td>\n",
       "    </tr>\n",
       "    <tr>\n",
       "      <th>72</th>\n",
       "      <td>NaN</td>\n",
       "      <td>NaN</td>\n",
       "      <td>NaN</td>\n",
       "    </tr>\n",
       "  </tbody>\n",
       "</table>\n",
       "</div>"
      ],
      "text/plain": [
       "    critic_score user_score rating\n",
       "1            NaN        NaN    NaN\n",
       "4            NaN        NaN    NaN\n",
       "5            NaN        NaN    NaN\n",
       "9            NaN        NaN    NaN\n",
       "10           NaN        NaN    NaN\n",
       "12           NaN        NaN    NaN\n",
       "18           NaN        NaN    NaN\n",
       "20           NaN        NaN    NaN\n",
       "21           NaN        NaN    NaN\n",
       "22           NaN        NaN    NaN\n",
       "25           NaN        NaN    NaN\n",
       "27           NaN        NaN    NaN\n",
       "30           NaN        NaN    NaN\n",
       "31           NaN        NaN    NaN\n",
       "33           NaN        NaN    NaN\n",
       "45           NaN        NaN    NaN\n",
       "46           NaN        NaN    NaN\n",
       "47           NaN        NaN    NaN\n",
       "50           NaN        NaN    NaN\n",
       "56           NaN        NaN    NaN\n",
       "58           NaN        NaN    NaN\n",
       "59           NaN        NaN    NaN\n",
       "63           NaN        NaN    NaN\n",
       "71           NaN        NaN    NaN\n",
       "72           NaN        NaN    NaN"
      ]
     },
     "execution_count": 61,
     "metadata": {},
     "output_type": "execute_result"
    }
   ],
   "source": [
    "df[df['critic_score'].isna()][['critic_score', 'user_score', 'rating']].head(25) # checking for the relation"
   ]
  },
  {
   "cell_type": "markdown",
   "id": "790e555b",
   "metadata": {},
   "source": [
    "So, we can suppose that there is some relationship, that is, if there is no data in a cell of one of the three columns, in almost 100% of cases they will be absent in the corresponding two other cells of the same row.\n",
    "What can explain the presence of these missing values? Since we know from the assignment that the dataframe is made up of data from different open sources over a large number of years, perhaps the data were not available in the original sources. Otherwise, a large number of missing values can be explained by technical failures when retrieving data.\n"
   ]
  },
  {
   "cell_type": "markdown",
   "id": "c4afef88",
   "metadata": {},
   "source": [
    "Next, we will analyze the missing values in the 'rating' column, which has more than 40% of them. From the assignment, we know that this column implies which age group, according to the Entertainment Software Rating Board, a game fits for. Let's check the unique values of this column:\n",
    "\n"
   ]
  },
  {
   "cell_type": "code",
   "execution_count": 62,
   "id": "3794ce44",
   "metadata": {},
   "outputs": [
    {
     "data": {
      "text/plain": [
       "array(['E', nan, 'M', 'T', 'E10+', 'K-A', 'AO', 'EC', 'RP'], dtype=object)"
      ]
     },
     "execution_count": 62,
     "metadata": {},
     "output_type": "execute_result"
    }
   ],
   "source": [
    "df['rating'].unique()  # displaying thecolumn unique values"
   ]
  },
  {
   "cell_type": "markdown",
   "id": "a86c2b49",
   "metadata": {},
   "source": [
    "So, we can notice that the data is uniquely categorical. In addition to missin values, they contain the value 'RP' (rating pending), which means that, in fact, there is no rating.\n",
    "In this situation, we have nothing to rely on to fill in the missing values. On the other hand, their percentage\n",
    "is very high, so we cannot remove the rows. Let's fill in the missing values of the 'rating' column with the string 'unknown' and check the result:\n",
    "\n"
   ]
  },
  {
   "cell_type": "code",
   "execution_count": 63,
   "id": "b9de50ab",
   "metadata": {},
   "outputs": [
    {
     "data": {
      "text/plain": [
       "0.0"
      ]
     },
     "execution_count": 63,
     "metadata": {},
     "output_type": "execute_result"
    }
   ],
   "source": [
    "df['rating'].fillna('unknown', inplace=True) # filling in NaNs with the selected value\n",
    "df['rating'].isna().mean()  # checking the result"
   ]
  },
  {
   "cell_type": "markdown",
   "id": "50783f86",
   "metadata": {},
   "source": [
    "Let's move on to the 'critic_score' column - the leader in the number of missing values (more than a half). From the assignment and data overview, we know that this variable is quantitative with a ceiling of 100 points, discrete. For this reason, it makes no sense to look at the unique values it takes in the dataframe. Naturally, in this case, as in the previous one, we cannot remove more than half of the rows from the dataframe, so we will leave them in the dataframe without further processing.\n"
   ]
  },
  {
   "cell_type": "markdown",
   "id": "62abf861",
   "metadata": {},
   "source": [
    "The last column with missing values is 'user_score' (over 40%). And this variable is quantitative with a ceiling of 10 points, but, unlike the previous one, it is continuous. At the same time, we know from the task that it contains 1 non-quantitative value - 'tbd'. Let's see how often it occurs:\n"
   ]
  },
  {
   "cell_type": "code",
   "execution_count": 64,
   "id": "4004bc6f",
   "metadata": {},
   "outputs": [
    {
     "data": {
      "text/plain": [
       "2376"
      ]
     },
     "execution_count": 64,
     "metadata": {},
     "output_type": "execute_result"
    }
   ],
   "source": [
    "len(df[df['user_score']=='tbd'])  # checking the value frequency in the column"
   ]
  },
  {
   "cell_type": "markdown",
   "id": "f32012f3",
   "metadata": {},
   "source": [
    "'tbd' means ' to be defined' or its synonyms, i.e. the score is yet to be given (possibly data is being collected and processed). Given this value, information is missing for more than half of the games.\n",
    "Therefore, the logic applied to the 'user_score' column is the same as described above: there are too many missinmg values to be removed from the dataframe. For the same reason filling in with mean or median would deteriorate the analysis quality, therefore will will keep such missing values as they are.\n"
   ]
  },
  {
   "cell_type": "code",
   "execution_count": 65,
   "id": "a942a9aa",
   "metadata": {},
   "outputs": [],
   "source": [
    "df['user_score'] = pd.to_numeric(df['user_score'], errors='coerce')  # changing data type in the selected column\n",
    "\n"
   ]
  },
  {
   "cell_type": "markdown",
   "id": "1bfeab8c",
   "metadata": {},
   "source": [
    "As a result of this transformation, the 'tbd' values turned into 'NaN'. As in the case of the critics' scores, since there is no reason to choose any value to fill in the missing values, we will leave them without further processing.\n",
    "\n"
   ]
  },
  {
   "cell_type": "code",
   "execution_count": 66,
   "id": "9295f910",
   "metadata": {},
   "outputs": [
    {
     "data": {
      "text/plain": [
       "name               0.000000\n",
       "platform           0.000000\n",
       "year_of_release    0.000000\n",
       "genre              0.000000\n",
       "na_sales           0.000000\n",
       "eu_sales           0.000000\n",
       "jp_sales           0.000000\n",
       "other_sales        0.000000\n",
       "critic_score       0.514534\n",
       "user_score         0.546157\n",
       "rating             0.000000\n",
       "dtype: float64"
      ]
     },
     "execution_count": 66,
     "metadata": {},
     "output_type": "execute_result"
    }
   ],
   "source": [
    "df.isna().mean()  # checking the NaN processing result\n"
   ]
  },
  {
   "cell_type": "markdown",
   "id": "8a5093d0",
   "metadata": {},
   "source": [
    "The missing values have been processed, let's move on to changing the data type in the columns that have not been yet affected.\n"
   ]
  },
  {
   "cell_type": "markdown",
   "id": "f74a7783",
   "metadata": {},
   "source": [
    "### Changing Data Types\n",
    "From the the data overview, it became clear that the data in terms of the columns did not correspond to the declared metric. We will process each such a case by converting the data type.\n",
    "We are talking about the columns 'year_of_release' and 'critic_score', in both the actual data type is float, and the expected data type is integers. And if things are pretty clear over the years, as far as critic scores are concerned, unlike user ratings, there are no fractional ratings in this column, so it makes sense to reduce them to whole numbers.\n"
   ]
  },
  {
   "cell_type": "code",
   "execution_count": 67,
   "id": "ca2418a4",
   "metadata": {},
   "outputs": [
    {
     "name": "stdout",
     "output_type": "stream",
     "text": [
      "<class 'pandas.core.frame.DataFrame'>\n",
      "Int64Index: 16444 entries, 0 to 16714\n",
      "Data columns (total 11 columns):\n",
      " #   Column           Non-Null Count  Dtype  \n",
      "---  ------           --------------  -----  \n",
      " 0   name             16444 non-null  object \n",
      " 1   platform         16444 non-null  object \n",
      " 2   year_of_release  16444 non-null  Int64  \n",
      " 3   genre            16444 non-null  object \n",
      " 4   na_sales         16444 non-null  float64\n",
      " 5   eu_sales         16444 non-null  float64\n",
      " 6   jp_sales         16444 non-null  float64\n",
      " 7   other_sales      16444 non-null  float64\n",
      " 8   critic_score     7983 non-null   Int64  \n",
      " 9   user_score       7463 non-null   float64\n",
      " 10  rating           16444 non-null  object \n",
      "dtypes: Int64(2), float64(5), object(4)\n",
      "memory usage: 1.5+ MB\n"
     ]
    }
   ],
   "source": [
    "for col in ['year_of_release', 'critic_score']:  # iterating the list of columns\n",
    "    df[col] = pd.to_numeric(df[col], errors='coerce').astype('Int64') # changing the data type to int\n",
    "df.info(10)  # visualizing the result\n"
   ]
  },
  {
   "cell_type": "markdown",
   "id": "c8e28fa9",
   "metadata": {},
   "source": [
    "The data in the dataframe have been processed, now we will add some calculated features.\n"
   ]
  },
  {
   "cell_type": "markdown",
   "id": "9843428e",
   "metadata": {},
   "source": [
    "### Adding Calculated Features\n",
    "As we know from the task, the table contains data on sales of games by region. Let's add a column to the table that will show the total sales for each game worldwide:\n",
    "\n"
   ]
  },
  {
   "cell_type": "code",
   "execution_count": 68,
   "id": "d17f23d1",
   "metadata": {},
   "outputs": [],
   "source": [
    "df['total_sales'] = df['eu_sales'] + df['na_sales'] + df['jp_sales'] + df['other_sales']# adding a column with global sales\n"
   ]
  },
  {
   "cell_type": "markdown",
   "id": "6d28f357",
   "metadata": {},
   "source": [
    "**Conclusions**\n",
    "In the course of data preprocessing, we optimized the column names, processed missing values, and also changed the type of some data to match the metrics. All  these conversions should have cleared as much as possible\n",
    "dataframe and improved its quality.\n",
    "Now we have everything we need to conduct data discovery and statistical analysis, as well as hypothesis testing.\n",
    "\n"
   ]
  },
  {
   "cell_type": "markdown",
   "id": "e71acae4",
   "metadata": {},
   "source": [
    "## Data Discovery and Statistical Analysis"
   ]
  },
  {
   "cell_type": "markdown",
   "id": "347cf8d5",
   "metadata": {},
   "source": [
    "From the task, we know that the data in the dataframe has been collected over several years. To assess whether we need the whole period to plan an advertising campaign for 2017, let's group and sort the dataframe by year:\n",
    "\n"
   ]
  },
  {
   "cell_type": "code",
   "execution_count": 69,
   "id": "6866a41d",
   "metadata": {},
   "outputs": [
    {
     "data": {
      "text/html": [
       "<div>\n",
       "<style scoped>\n",
       "    .dataframe tbody tr th:only-of-type {\n",
       "        vertical-align: middle;\n",
       "    }\n",
       "\n",
       "    .dataframe tbody tr th {\n",
       "        vertical-align: top;\n",
       "    }\n",
       "\n",
       "    .dataframe thead th {\n",
       "        text-align: right;\n",
       "    }\n",
       "</style>\n",
       "<table border=\"1\" class=\"dataframe\">\n",
       "  <thead>\n",
       "    <tr style=\"text-align: right;\">\n",
       "      <th></th>\n",
       "      <th>year_of_release</th>\n",
       "      <th>number_by_year</th>\n",
       "    </tr>\n",
       "  </thead>\n",
       "  <tbody>\n",
       "    <tr>\n",
       "      <th>0</th>\n",
       "      <td>1980</td>\n",
       "      <td>9</td>\n",
       "    </tr>\n",
       "    <tr>\n",
       "      <th>1</th>\n",
       "      <td>1981</td>\n",
       "      <td>46</td>\n",
       "    </tr>\n",
       "    <tr>\n",
       "      <th>2</th>\n",
       "      <td>1982</td>\n",
       "      <td>36</td>\n",
       "    </tr>\n",
       "    <tr>\n",
       "      <th>3</th>\n",
       "      <td>1983</td>\n",
       "      <td>17</td>\n",
       "    </tr>\n",
       "    <tr>\n",
       "      <th>4</th>\n",
       "      <td>1984</td>\n",
       "      <td>14</td>\n",
       "    </tr>\n",
       "    <tr>\n",
       "      <th>5</th>\n",
       "      <td>1985</td>\n",
       "      <td>14</td>\n",
       "    </tr>\n",
       "    <tr>\n",
       "      <th>6</th>\n",
       "      <td>1986</td>\n",
       "      <td>21</td>\n",
       "    </tr>\n",
       "    <tr>\n",
       "      <th>7</th>\n",
       "      <td>1987</td>\n",
       "      <td>16</td>\n",
       "    </tr>\n",
       "    <tr>\n",
       "      <th>8</th>\n",
       "      <td>1988</td>\n",
       "      <td>15</td>\n",
       "    </tr>\n",
       "    <tr>\n",
       "      <th>9</th>\n",
       "      <td>1989</td>\n",
       "      <td>17</td>\n",
       "    </tr>\n",
       "    <tr>\n",
       "      <th>10</th>\n",
       "      <td>1990</td>\n",
       "      <td>16</td>\n",
       "    </tr>\n",
       "    <tr>\n",
       "      <th>11</th>\n",
       "      <td>1991</td>\n",
       "      <td>41</td>\n",
       "    </tr>\n",
       "    <tr>\n",
       "      <th>12</th>\n",
       "      <td>1992</td>\n",
       "      <td>43</td>\n",
       "    </tr>\n",
       "    <tr>\n",
       "      <th>13</th>\n",
       "      <td>1993</td>\n",
       "      <td>60</td>\n",
       "    </tr>\n",
       "    <tr>\n",
       "      <th>14</th>\n",
       "      <td>1994</td>\n",
       "      <td>121</td>\n",
       "    </tr>\n",
       "    <tr>\n",
       "      <th>15</th>\n",
       "      <td>1995</td>\n",
       "      <td>219</td>\n",
       "    </tr>\n",
       "    <tr>\n",
       "      <th>16</th>\n",
       "      <td>1996</td>\n",
       "      <td>263</td>\n",
       "    </tr>\n",
       "    <tr>\n",
       "      <th>17</th>\n",
       "      <td>1997</td>\n",
       "      <td>289</td>\n",
       "    </tr>\n",
       "    <tr>\n",
       "      <th>18</th>\n",
       "      <td>1998</td>\n",
       "      <td>379</td>\n",
       "    </tr>\n",
       "    <tr>\n",
       "      <th>19</th>\n",
       "      <td>1999</td>\n",
       "      <td>338</td>\n",
       "    </tr>\n",
       "    <tr>\n",
       "      <th>20</th>\n",
       "      <td>2000</td>\n",
       "      <td>350</td>\n",
       "    </tr>\n",
       "    <tr>\n",
       "      <th>21</th>\n",
       "      <td>2001</td>\n",
       "      <td>482</td>\n",
       "    </tr>\n",
       "    <tr>\n",
       "      <th>22</th>\n",
       "      <td>2002</td>\n",
       "      <td>829</td>\n",
       "    </tr>\n",
       "    <tr>\n",
       "      <th>23</th>\n",
       "      <td>2003</td>\n",
       "      <td>775</td>\n",
       "    </tr>\n",
       "    <tr>\n",
       "      <th>24</th>\n",
       "      <td>2004</td>\n",
       "      <td>762</td>\n",
       "    </tr>\n",
       "    <tr>\n",
       "      <th>25</th>\n",
       "      <td>2005</td>\n",
       "      <td>939</td>\n",
       "    </tr>\n",
       "    <tr>\n",
       "      <th>26</th>\n",
       "      <td>2006</td>\n",
       "      <td>1006</td>\n",
       "    </tr>\n",
       "    <tr>\n",
       "      <th>27</th>\n",
       "      <td>2007</td>\n",
       "      <td>1197</td>\n",
       "    </tr>\n",
       "    <tr>\n",
       "      <th>28</th>\n",
       "      <td>2008</td>\n",
       "      <td>1427</td>\n",
       "    </tr>\n",
       "    <tr>\n",
       "      <th>29</th>\n",
       "      <td>2009</td>\n",
       "      <td>1426</td>\n",
       "    </tr>\n",
       "    <tr>\n",
       "      <th>30</th>\n",
       "      <td>2010</td>\n",
       "      <td>1255</td>\n",
       "    </tr>\n",
       "    <tr>\n",
       "      <th>31</th>\n",
       "      <td>2011</td>\n",
       "      <td>1136</td>\n",
       "    </tr>\n",
       "    <tr>\n",
       "      <th>32</th>\n",
       "      <td>2012</td>\n",
       "      <td>653</td>\n",
       "    </tr>\n",
       "    <tr>\n",
       "      <th>33</th>\n",
       "      <td>2013</td>\n",
       "      <td>544</td>\n",
       "    </tr>\n",
       "    <tr>\n",
       "      <th>34</th>\n",
       "      <td>2014</td>\n",
       "      <td>581</td>\n",
       "    </tr>\n",
       "    <tr>\n",
       "      <th>35</th>\n",
       "      <td>2015</td>\n",
       "      <td>606</td>\n",
       "    </tr>\n",
       "    <tr>\n",
       "      <th>36</th>\n",
       "      <td>2016</td>\n",
       "      <td>502</td>\n",
       "    </tr>\n",
       "  </tbody>\n",
       "</table>\n",
       "</div>"
      ],
      "text/plain": [
       "    year_of_release  number_by_year\n",
       "0              1980               9\n",
       "1              1981              46\n",
       "2              1982              36\n",
       "3              1983              17\n",
       "4              1984              14\n",
       "5              1985              14\n",
       "6              1986              21\n",
       "7              1987              16\n",
       "8              1988              15\n",
       "9              1989              17\n",
       "10             1990              16\n",
       "11             1991              41\n",
       "12             1992              43\n",
       "13             1993              60\n",
       "14             1994             121\n",
       "15             1995             219\n",
       "16             1996             263\n",
       "17             1997             289\n",
       "18             1998             379\n",
       "19             1999             338\n",
       "20             2000             350\n",
       "21             2001             482\n",
       "22             2002             829\n",
       "23             2003             775\n",
       "24             2004             762\n",
       "25             2005             939\n",
       "26             2006            1006\n",
       "27             2007            1197\n",
       "28             2008            1427\n",
       "29             2009            1426\n",
       "30             2010            1255\n",
       "31             2011            1136\n",
       "32             2012             653\n",
       "33             2013             544\n",
       "34             2014             581\n",
       "35             2015             606\n",
       "36             2016             502"
      ]
     },
     "execution_count": 69,
     "metadata": {},
     "output_type": "execute_result"
    }
   ],
   "source": [
    "games_by_year = df.pivot_table(index='year_of_release', values='name', aggfunc='count').reset_index() # creating a pivot table on the years\n",
    "games_by_year.rename(columns={'name': 'number_by_year'}, inplace=True) # renaming a column\n",
    "games_by_year.head(37) # visualizing the game amount per year\n"
   ]
  },
  {
   "cell_type": "markdown",
   "id": "a007c569",
   "metadata": {},
   "source": [
    "Let's visualize the result for a better understanding:"
   ]
  },
  {
   "cell_type": "code",
   "execution_count": 70,
   "id": "8821ca48",
   "metadata": {},
   "outputs": [
    {
     "data": {
      "image/png": "[encoded data removed]",
      "text/plain": [
       "<Figure size 864x720 with 1 Axes>"
      ]
     },
     "metadata": {},
     "output_type": "display_data"
    }
   ],
   "source": [
    "ax = sns.barplot(x='year_of_release', y='number_by_year', data=games_by_year, palette=\"Blues_d\")  # plotting a barplot on the amount of games per year\n",
    "sns.set(rc = {'figure.figsize':(12,10)}) # setting the plot dimensions\n",
    "ax.set_ylabel(\"Total Number of Games\") # settng a lable for y axis\n",
    "ax.set_xlabel(\"Years\") # settng a lable for x axis\n",
    "ax.set_xticklabels(ax.get_xticklabels(),rotation=60) # rotating ticks titles on the x axis\n",
    "ax.set_title('Games Distribution by Year'); # setting the plot title\n"
   ]
  },
  {
   "cell_type": "markdown",
   "id": "407a3258",
   "metadata": {},
   "source": [
    "По результатам группировки можно заметить, что все охваченные годы (с 1980 по 2016) можно разделить на несколько периодов, в зависимости от количества выпускаемых игр: 1980-1994, 1995-2001, 2002-2004, 2005-2011, 2012-2016.\n",
    "Несмотря на ожидания, пик выхода новых игр приходится не на последние годы, а на период с 2005 по 2011 гг, после чего выпуск игр падает почти в два раза. "
   ]
  },
  {
   "cell_type": "markdown",
   "id": "8d6cfb39",
   "metadata": {},
   "source": [
    "Next, let's look at how sales have been changing by platform. Let's choose platforms with the highest total sales:\n",
    "\n"
   ]
  },
  {
   "cell_type": "code",
   "execution_count": 71,
   "id": "6af4acfe",
   "metadata": {},
   "outputs": [
    {
     "data": {
      "text/html": [
       "<div>\n",
       "<style scoped>\n",
       "    .dataframe tbody tr th:only-of-type {\n",
       "        vertical-align: middle;\n",
       "    }\n",
       "\n",
       "    .dataframe tbody tr th {\n",
       "        vertical-align: top;\n",
       "    }\n",
       "\n",
       "    .dataframe thead th {\n",
       "        text-align: right;\n",
       "    }\n",
       "</style>\n",
       "<table border=\"1\" class=\"dataframe\">\n",
       "  <thead>\n",
       "    <tr style=\"text-align: right;\">\n",
       "      <th></th>\n",
       "      <th>platform</th>\n",
       "      <th>total_sales</th>\n",
       "    </tr>\n",
       "  </thead>\n",
       "  <tbody>\n",
       "    <tr>\n",
       "      <th>0</th>\n",
       "      <td>PCFX</td>\n",
       "      <td>0.03</td>\n",
       "    </tr>\n",
       "    <tr>\n",
       "      <th>1</th>\n",
       "      <td>GG</td>\n",
       "      <td>0.04</td>\n",
       "    </tr>\n",
       "    <tr>\n",
       "      <th>2</th>\n",
       "      <td>3DO</td>\n",
       "      <td>0.10</td>\n",
       "    </tr>\n",
       "    <tr>\n",
       "      <th>3</th>\n",
       "      <td>TG16</td>\n",
       "      <td>0.16</td>\n",
       "    </tr>\n",
       "    <tr>\n",
       "      <th>4</th>\n",
       "      <td>WS</td>\n",
       "      <td>1.42</td>\n",
       "    </tr>\n",
       "    <tr>\n",
       "      <th>5</th>\n",
       "      <td>NG</td>\n",
       "      <td>1.44</td>\n",
       "    </tr>\n",
       "    <tr>\n",
       "      <th>6</th>\n",
       "      <td>SCD</td>\n",
       "      <td>1.86</td>\n",
       "    </tr>\n",
       "    <tr>\n",
       "      <th>7</th>\n",
       "      <td>DC</td>\n",
       "      <td>15.95</td>\n",
       "    </tr>\n",
       "    <tr>\n",
       "      <th>8</th>\n",
       "      <td>GEN</td>\n",
       "      <td>28.35</td>\n",
       "    </tr>\n",
       "    <tr>\n",
       "      <th>9</th>\n",
       "      <td>SAT</td>\n",
       "      <td>33.59</td>\n",
       "    </tr>\n",
       "    <tr>\n",
       "      <th>10</th>\n",
       "      <td>PSV</td>\n",
       "      <td>53.81</td>\n",
       "    </tr>\n",
       "    <tr>\n",
       "      <th>11</th>\n",
       "      <td>WiiU</td>\n",
       "      <td>82.19</td>\n",
       "    </tr>\n",
       "    <tr>\n",
       "      <th>12</th>\n",
       "      <td>2600</td>\n",
       "      <td>86.48</td>\n",
       "    </tr>\n",
       "    <tr>\n",
       "      <th>13</th>\n",
       "      <td>XOne</td>\n",
       "      <td>159.32</td>\n",
       "    </tr>\n",
       "    <tr>\n",
       "      <th>14</th>\n",
       "      <td>GC</td>\n",
       "      <td>196.73</td>\n",
       "    </tr>\n",
       "    <tr>\n",
       "      <th>15</th>\n",
       "      <td>SNES</td>\n",
       "      <td>200.04</td>\n",
       "    </tr>\n",
       "    <tr>\n",
       "      <th>16</th>\n",
       "      <td>N64</td>\n",
       "      <td>218.01</td>\n",
       "    </tr>\n",
       "    <tr>\n",
       "      <th>17</th>\n",
       "      <td>NES</td>\n",
       "      <td>251.05</td>\n",
       "    </tr>\n",
       "    <tr>\n",
       "      <th>18</th>\n",
       "      <td>XB</td>\n",
       "      <td>251.57</td>\n",
       "    </tr>\n",
       "    <tr>\n",
       "      <th>19</th>\n",
       "      <td>GB</td>\n",
       "      <td>254.43</td>\n",
       "    </tr>\n",
       "    <tr>\n",
       "      <th>20</th>\n",
       "      <td>PC</td>\n",
       "      <td>255.76</td>\n",
       "    </tr>\n",
       "    <tr>\n",
       "      <th>21</th>\n",
       "      <td>3DS</td>\n",
       "      <td>257.81</td>\n",
       "    </tr>\n",
       "    <tr>\n",
       "      <th>22</th>\n",
       "      <td>PSP</td>\n",
       "      <td>289.53</td>\n",
       "    </tr>\n",
       "    <tr>\n",
       "      <th>23</th>\n",
       "      <td>GBA</td>\n",
       "      <td>312.88</td>\n",
       "    </tr>\n",
       "    <tr>\n",
       "      <th>24</th>\n",
       "      <td>PS4</td>\n",
       "      <td>314.14</td>\n",
       "    </tr>\n",
       "    <tr>\n",
       "      <th>25</th>\n",
       "      <td>PS</td>\n",
       "      <td>727.58</td>\n",
       "    </tr>\n",
       "    <tr>\n",
       "      <th>26</th>\n",
       "      <td>DS</td>\n",
       "      <td>802.78</td>\n",
       "    </tr>\n",
       "    <tr>\n",
       "      <th>27</th>\n",
       "      <td>Wii</td>\n",
       "      <td>891.18</td>\n",
       "    </tr>\n",
       "    <tr>\n",
       "      <th>28</th>\n",
       "      <td>PS3</td>\n",
       "      <td>931.34</td>\n",
       "    </tr>\n",
       "    <tr>\n",
       "      <th>29</th>\n",
       "      <td>X360</td>\n",
       "      <td>961.24</td>\n",
       "    </tr>\n",
       "    <tr>\n",
       "      <th>30</th>\n",
       "      <td>PS2</td>\n",
       "      <td>1233.56</td>\n",
       "    </tr>\n",
       "  </tbody>\n",
       "</table>\n",
       "</div>"
      ],
      "text/plain": [
       "   platform  total_sales\n",
       "0      PCFX         0.03\n",
       "1        GG         0.04\n",
       "2       3DO         0.10\n",
       "3      TG16         0.16\n",
       "4        WS         1.42\n",
       "5        NG         1.44\n",
       "6       SCD         1.86\n",
       "7        DC        15.95\n",
       "8       GEN        28.35\n",
       "9       SAT        33.59\n",
       "10      PSV        53.81\n",
       "11     WiiU        82.19\n",
       "12     2600        86.48\n",
       "13     XOne       159.32\n",
       "14       GC       196.73\n",
       "15     SNES       200.04\n",
       "16      N64       218.01\n",
       "17      NES       251.05\n",
       "18       XB       251.57\n",
       "19       GB       254.43\n",
       "20       PC       255.76\n",
       "21      3DS       257.81\n",
       "22      PSP       289.53\n",
       "23      GBA       312.88\n",
       "24      PS4       314.14\n",
       "25       PS       727.58\n",
       "26       DS       802.78\n",
       "27      Wii       891.18\n",
       "28      PS3       931.34\n",
       "29     X360       961.24\n",
       "30      PS2      1233.56"
      ]
     },
     "execution_count": 71,
     "metadata": {},
     "output_type": "execute_result"
    }
   ],
   "source": [
    "sales_by_platform = df.pivot_table(index='platform', values='total_sales', aggfunc='sum').sort_values(by='total_sales').reset_index()  # creating a pivot table\n",
    "sales_by_platform.head(31) # displaying the global sales per platform\n"
   ]
  },
  {
   "cell_type": "markdown",
   "id": "32669edf",
   "metadata": {},
   "source": [
    "Let's visualize the result with a barplot:"
   ]
  },
  {
   "cell_type": "code",
   "execution_count": 72,
   "id": "443b211c",
   "metadata": {},
   "outputs": [
    {
     "data": {
      "image/png": "[encoded data removed]",
      "text/plain": [
       "<Figure size 864x720 with 1 Axes>"
      ]
     },
     "metadata": {},
     "output_type": "display_data"
    }
   ],
   "source": [
    "\n",
    "ax = sns.barplot(x='platform', y='total_sales', data=sales_by_platform, palette=\"Reds_d\")  # plotting a barlop om globals sales divided by platform\n",
    "sns.set(rc = {'figure.figsize':(12,10)}) # setting the plot dimensions\n",
    "ax.set_ylabel(\"Global Sales for the Whole Period\") # settng a lable for y axis\n",
    "ax.set_xlabel(\"Platforms\") # settng a lable for x axis\n",
    "ax.set_xticklabels(ax.get_xticklabels(),rotation=60) # rotating ticks titles on the x axis\n",
    "ax.set_title('Sales Distribution by Platform'); # setting the plot title"
   ]
  },
  {
   "cell_type": "markdown",
   "id": "c3bda52c",
   "metadata": {},
   "source": [
    "Further we will sales distribution over the years for top-5 platforms, i.e. PS2, X360, PS3, Wii, DS:"
   ]
  },
  {
   "cell_type": "code",
   "execution_count": 73,
   "id": "948c219f",
   "metadata": {},
   "outputs": [
    {
     "data": {
      "text/html": [
       "<div>\n",
       "<style scoped>\n",
       "    .dataframe tbody tr th:only-of-type {\n",
       "        vertical-align: middle;\n",
       "    }\n",
       "\n",
       "    .dataframe tbody tr th {\n",
       "        vertical-align: top;\n",
       "    }\n",
       "\n",
       "    .dataframe thead th {\n",
       "        text-align: right;\n",
       "    }\n",
       "</style>\n",
       "<table border=\"1\" class=\"dataframe\">\n",
       "  <thead>\n",
       "    <tr style=\"text-align: right;\">\n",
       "      <th>platform</th>\n",
       "      <th>DS</th>\n",
       "      <th>PS2</th>\n",
       "      <th>PS3</th>\n",
       "      <th>Wii</th>\n",
       "      <th>X360</th>\n",
       "    </tr>\n",
       "    <tr>\n",
       "      <th>year_of_release</th>\n",
       "      <th></th>\n",
       "      <th></th>\n",
       "      <th></th>\n",
       "      <th></th>\n",
       "      <th></th>\n",
       "    </tr>\n",
       "  </thead>\n",
       "  <tbody>\n",
       "    <tr>\n",
       "      <th>1985</th>\n",
       "      <td>0.02</td>\n",
       "      <td>NaN</td>\n",
       "      <td>NaN</td>\n",
       "      <td>NaN</td>\n",
       "      <td>NaN</td>\n",
       "    </tr>\n",
       "    <tr>\n",
       "      <th>2000</th>\n",
       "      <td>NaN</td>\n",
       "      <td>39.17</td>\n",
       "      <td>NaN</td>\n",
       "      <td>NaN</td>\n",
       "      <td>NaN</td>\n",
       "    </tr>\n",
       "    <tr>\n",
       "      <th>2001</th>\n",
       "      <td>NaN</td>\n",
       "      <td>166.43</td>\n",
       "      <td>NaN</td>\n",
       "      <td>NaN</td>\n",
       "      <td>NaN</td>\n",
       "    </tr>\n",
       "    <tr>\n",
       "      <th>2002</th>\n",
       "      <td>NaN</td>\n",
       "      <td>205.38</td>\n",
       "      <td>NaN</td>\n",
       "      <td>NaN</td>\n",
       "      <td>NaN</td>\n",
       "    </tr>\n",
       "    <tr>\n",
       "      <th>2003</th>\n",
       "      <td>NaN</td>\n",
       "      <td>184.31</td>\n",
       "      <td>NaN</td>\n",
       "      <td>NaN</td>\n",
       "      <td>NaN</td>\n",
       "    </tr>\n",
       "    <tr>\n",
       "      <th>2004</th>\n",
       "      <td>17.27</td>\n",
       "      <td>211.81</td>\n",
       "      <td>NaN</td>\n",
       "      <td>NaN</td>\n",
       "      <td>NaN</td>\n",
       "    </tr>\n",
       "    <tr>\n",
       "      <th>2005</th>\n",
       "      <td>130.14</td>\n",
       "      <td>160.66</td>\n",
       "      <td>NaN</td>\n",
       "      <td>NaN</td>\n",
       "      <td>8.25</td>\n",
       "    </tr>\n",
       "    <tr>\n",
       "      <th>2006</th>\n",
       "      <td>119.81</td>\n",
       "      <td>103.42</td>\n",
       "      <td>20.96</td>\n",
       "      <td>137.15</td>\n",
       "      <td>51.62</td>\n",
       "    </tr>\n",
       "    <tr>\n",
       "      <th>2007</th>\n",
       "      <td>146.94</td>\n",
       "      <td>75.99</td>\n",
       "      <td>73.19</td>\n",
       "      <td>152.77</td>\n",
       "      <td>95.41</td>\n",
       "    </tr>\n",
       "    <tr>\n",
       "      <th>2008</th>\n",
       "      <td>145.31</td>\n",
       "      <td>53.90</td>\n",
       "      <td>118.52</td>\n",
       "      <td>171.32</td>\n",
       "      <td>135.26</td>\n",
       "    </tr>\n",
       "    <tr>\n",
       "      <th>2009</th>\n",
       "      <td>119.54</td>\n",
       "      <td>26.40</td>\n",
       "      <td>130.93</td>\n",
       "      <td>206.97</td>\n",
       "      <td>120.29</td>\n",
       "    </tr>\n",
       "    <tr>\n",
       "      <th>2010</th>\n",
       "      <td>85.02</td>\n",
       "      <td>5.64</td>\n",
       "      <td>142.17</td>\n",
       "      <td>127.95</td>\n",
       "      <td>170.03</td>\n",
       "    </tr>\n",
       "    <tr>\n",
       "      <th>2011</th>\n",
       "      <td>26.18</td>\n",
       "      <td>0.45</td>\n",
       "      <td>156.78</td>\n",
       "      <td>59.65</td>\n",
       "      <td>143.84</td>\n",
       "    </tr>\n",
       "    <tr>\n",
       "      <th>2012</th>\n",
       "      <td>11.01</td>\n",
       "      <td>NaN</td>\n",
       "      <td>107.36</td>\n",
       "      <td>21.71</td>\n",
       "      <td>99.74</td>\n",
       "    </tr>\n",
       "    <tr>\n",
       "      <th>2013</th>\n",
       "      <td>1.54</td>\n",
       "      <td>NaN</td>\n",
       "      <td>113.25</td>\n",
       "      <td>8.59</td>\n",
       "      <td>88.58</td>\n",
       "    </tr>\n",
       "    <tr>\n",
       "      <th>2014</th>\n",
       "      <td>NaN</td>\n",
       "      <td>NaN</td>\n",
       "      <td>47.76</td>\n",
       "      <td>3.75</td>\n",
       "      <td>34.74</td>\n",
       "    </tr>\n",
       "    <tr>\n",
       "      <th>2015</th>\n",
       "      <td>NaN</td>\n",
       "      <td>NaN</td>\n",
       "      <td>16.82</td>\n",
       "      <td>1.14</td>\n",
       "      <td>11.96</td>\n",
       "    </tr>\n",
       "    <tr>\n",
       "      <th>2016</th>\n",
       "      <td>NaN</td>\n",
       "      <td>NaN</td>\n",
       "      <td>3.60</td>\n",
       "      <td>0.18</td>\n",
       "      <td>1.52</td>\n",
       "    </tr>\n",
       "  </tbody>\n",
       "</table>\n",
       "</div>"
      ],
      "text/plain": [
       "platform             DS     PS2     PS3     Wii    X360\n",
       "year_of_release                                        \n",
       "1985               0.02     NaN     NaN     NaN     NaN\n",
       "2000                NaN   39.17     NaN     NaN     NaN\n",
       "2001                NaN  166.43     NaN     NaN     NaN\n",
       "2002                NaN  205.38     NaN     NaN     NaN\n",
       "2003                NaN  184.31     NaN     NaN     NaN\n",
       "2004              17.27  211.81     NaN     NaN     NaN\n",
       "2005             130.14  160.66     NaN     NaN    8.25\n",
       "2006             119.81  103.42   20.96  137.15   51.62\n",
       "2007             146.94   75.99   73.19  152.77   95.41\n",
       "2008             145.31   53.90  118.52  171.32  135.26\n",
       "2009             119.54   26.40  130.93  206.97  120.29\n",
       "2010              85.02    5.64  142.17  127.95  170.03\n",
       "2011              26.18    0.45  156.78   59.65  143.84\n",
       "2012              11.01     NaN  107.36   21.71   99.74\n",
       "2013               1.54     NaN  113.25    8.59   88.58\n",
       "2014                NaN     NaN   47.76    3.75   34.74\n",
       "2015                NaN     NaN   16.82    1.14   11.96\n",
       "2016                NaN     NaN    3.60    0.18    1.52"
      ]
     },
     "execution_count": 73,
     "metadata": {},
     "output_type": "execute_result"
    }
   ],
   "source": [
    "top_5 = df.query('platform in [\"PS2\", \"X360\", \"PS3\", \"Wii\", \"DS\"]').pivot_table(index='year_of_release', values='total_sales', columns='platform', aggfunc='sum')  # creating a separate df with top 5 platforms\n",
    "top_5.head(18)  # visualizing the result\n"
   ]
  },
  {
   "cell_type": "code",
   "execution_count": 74,
   "id": "b29a6f9d",
   "metadata": {},
   "outputs": [
    {
     "data": {
      "image/png": "[encoded data removed]",
      "text/plain": [
       "<Figure size 1152x720 with 1 Axes>"
      ]
     },
     "metadata": {},
     "output_type": "display_data"
    }
   ],
   "source": [
    "for i in [\"PS2\", \"X360\", \"PS3\", \"Wii\", \"DS\"]:  # iterating the columns\n",
    "    ax = top_5[i].plot(legend=True, figsize=(16,10), lw=3, fontsize=16, grid=True)  # plotting distribution for each during the years\n",
    "    ax.set_ylabel(\"Global Sales\") # settng a lable for y axis\n",
    "    ax.set_xlabel(\"Years\") # settng a lable for x axis\n",
    "    ax.set(xlim=(2000, 2016)) # setting min and max values on the x axis\n",
    "    ax.set_title('Top-5 Platforms Sales'); # setting the plot title"
   ]
  },
  {
   "cell_type": "markdown",
   "id": "da7a51ce",
   "metadata": {},
   "source": [
    "After analyzing the distributions above, we can deduce that the \"lifetime\" of platforms (the period when new ones appear and old ones disappear) is approximately 10-11 years. At the beginning of this period, platform sales rise, reach peak or peaks at the midpoint, and then decline.\n",
    "\n"
   ]
  },
  {
   "cell_type": "markdown",
   "id": "11cf3dff",
   "metadata": {},
   "source": [
    "Taking into account the data on the games release, we will choose the period from 2012 to 2016 as the relevant period. This period provides a sufficient number of observations, includes the last cycle in terms of game release volume.\n",
    "Let's select the data for the selected period in a separate dataframe:\n",
    "\n"
   ]
  },
  {
   "cell_type": "code",
   "execution_count": 75,
   "id": "e7c8632c",
   "metadata": {},
   "outputs": [
    {
     "data": {
      "text/html": [
       "<div>\n",
       "<style scoped>\n",
       "    .dataframe tbody tr th:only-of-type {\n",
       "        vertical-align: middle;\n",
       "    }\n",
       "\n",
       "    .dataframe tbody tr th {\n",
       "        vertical-align: top;\n",
       "    }\n",
       "\n",
       "    .dataframe thead th {\n",
       "        text-align: right;\n",
       "    }\n",
       "</style>\n",
       "<table border=\"1\" class=\"dataframe\">\n",
       "  <thead>\n",
       "    <tr style=\"text-align: right;\">\n",
       "      <th></th>\n",
       "      <th>name</th>\n",
       "      <th>platform</th>\n",
       "      <th>year_of_release</th>\n",
       "      <th>genre</th>\n",
       "      <th>na_sales</th>\n",
       "      <th>eu_sales</th>\n",
       "      <th>jp_sales</th>\n",
       "      <th>other_sales</th>\n",
       "      <th>critic_score</th>\n",
       "      <th>user_score</th>\n",
       "      <th>rating</th>\n",
       "      <th>total_sales</th>\n",
       "    </tr>\n",
       "  </thead>\n",
       "  <tbody>\n",
       "    <tr>\n",
       "      <th>16</th>\n",
       "      <td>Grand Theft Auto V</td>\n",
       "      <td>PS3</td>\n",
       "      <td>2013</td>\n",
       "      <td>Action</td>\n",
       "      <td>7.02</td>\n",
       "      <td>9.09</td>\n",
       "      <td>0.98</td>\n",
       "      <td>3.96</td>\n",
       "      <td>97</td>\n",
       "      <td>8.2</td>\n",
       "      <td>M</td>\n",
       "      <td>21.05</td>\n",
       "    </tr>\n",
       "    <tr>\n",
       "      <th>23</th>\n",
       "      <td>Grand Theft Auto V</td>\n",
       "      <td>X360</td>\n",
       "      <td>2013</td>\n",
       "      <td>Action</td>\n",
       "      <td>9.66</td>\n",
       "      <td>5.14</td>\n",
       "      <td>0.06</td>\n",
       "      <td>1.41</td>\n",
       "      <td>97</td>\n",
       "      <td>8.1</td>\n",
       "      <td>M</td>\n",
       "      <td>16.27</td>\n",
       "    </tr>\n",
       "    <tr>\n",
       "      <th>31</th>\n",
       "      <td>Call of Duty: Black Ops 3</td>\n",
       "      <td>PS4</td>\n",
       "      <td>2015</td>\n",
       "      <td>Shooter</td>\n",
       "      <td>6.03</td>\n",
       "      <td>5.86</td>\n",
       "      <td>0.36</td>\n",
       "      <td>2.38</td>\n",
       "      <td>&lt;NA&gt;</td>\n",
       "      <td>NaN</td>\n",
       "      <td>unknown</td>\n",
       "      <td>14.63</td>\n",
       "    </tr>\n",
       "    <tr>\n",
       "      <th>33</th>\n",
       "      <td>Pokemon X/Pokemon Y</td>\n",
       "      <td>3DS</td>\n",
       "      <td>2013</td>\n",
       "      <td>Role-Playing</td>\n",
       "      <td>5.28</td>\n",
       "      <td>4.19</td>\n",
       "      <td>4.35</td>\n",
       "      <td>0.78</td>\n",
       "      <td>&lt;NA&gt;</td>\n",
       "      <td>NaN</td>\n",
       "      <td>unknown</td>\n",
       "      <td>14.60</td>\n",
       "    </tr>\n",
       "    <tr>\n",
       "      <th>34</th>\n",
       "      <td>Call of Duty: Black Ops II</td>\n",
       "      <td>PS3</td>\n",
       "      <td>2012</td>\n",
       "      <td>Shooter</td>\n",
       "      <td>4.99</td>\n",
       "      <td>5.73</td>\n",
       "      <td>0.65</td>\n",
       "      <td>2.42</td>\n",
       "      <td>83</td>\n",
       "      <td>5.3</td>\n",
       "      <td>M</td>\n",
       "      <td>13.79</td>\n",
       "    </tr>\n",
       "    <tr>\n",
       "      <th>35</th>\n",
       "      <td>Call of Duty: Black Ops II</td>\n",
       "      <td>X360</td>\n",
       "      <td>2012</td>\n",
       "      <td>Shooter</td>\n",
       "      <td>8.25</td>\n",
       "      <td>4.24</td>\n",
       "      <td>0.07</td>\n",
       "      <td>1.12</td>\n",
       "      <td>83</td>\n",
       "      <td>4.8</td>\n",
       "      <td>M</td>\n",
       "      <td>13.68</td>\n",
       "    </tr>\n",
       "    <tr>\n",
       "      <th>42</th>\n",
       "      <td>Grand Theft Auto V</td>\n",
       "      <td>PS4</td>\n",
       "      <td>2014</td>\n",
       "      <td>Action</td>\n",
       "      <td>3.96</td>\n",
       "      <td>6.31</td>\n",
       "      <td>0.38</td>\n",
       "      <td>1.97</td>\n",
       "      <td>97</td>\n",
       "      <td>8.3</td>\n",
       "      <td>M</td>\n",
       "      <td>12.62</td>\n",
       "    </tr>\n",
       "    <tr>\n",
       "      <th>47</th>\n",
       "      <td>Pokemon Omega Ruby/Pokemon Alpha Sapphire</td>\n",
       "      <td>3DS</td>\n",
       "      <td>2014</td>\n",
       "      <td>Role-Playing</td>\n",
       "      <td>4.35</td>\n",
       "      <td>3.49</td>\n",
       "      <td>3.10</td>\n",
       "      <td>0.74</td>\n",
       "      <td>&lt;NA&gt;</td>\n",
       "      <td>NaN</td>\n",
       "      <td>unknown</td>\n",
       "      <td>11.68</td>\n",
       "    </tr>\n",
       "    <tr>\n",
       "      <th>60</th>\n",
       "      <td>Call of Duty: Ghosts</td>\n",
       "      <td>X360</td>\n",
       "      <td>2013</td>\n",
       "      <td>Shooter</td>\n",
       "      <td>6.73</td>\n",
       "      <td>2.56</td>\n",
       "      <td>0.04</td>\n",
       "      <td>0.91</td>\n",
       "      <td>73</td>\n",
       "      <td>2.6</td>\n",
       "      <td>M</td>\n",
       "      <td>10.24</td>\n",
       "    </tr>\n",
       "    <tr>\n",
       "      <th>62</th>\n",
       "      <td>New Super Mario Bros. 2</td>\n",
       "      <td>3DS</td>\n",
       "      <td>2012</td>\n",
       "      <td>Platform</td>\n",
       "      <td>3.66</td>\n",
       "      <td>3.14</td>\n",
       "      <td>2.47</td>\n",
       "      <td>0.63</td>\n",
       "      <td>78</td>\n",
       "      <td>7.2</td>\n",
       "      <td>E</td>\n",
       "      <td>9.90</td>\n",
       "    </tr>\n",
       "    <tr>\n",
       "      <th>66</th>\n",
       "      <td>Halo 4</td>\n",
       "      <td>X360</td>\n",
       "      <td>2012</td>\n",
       "      <td>Shooter</td>\n",
       "      <td>6.65</td>\n",
       "      <td>2.28</td>\n",
       "      <td>0.04</td>\n",
       "      <td>0.74</td>\n",
       "      <td>87</td>\n",
       "      <td>7.0</td>\n",
       "      <td>M</td>\n",
       "      <td>9.71</td>\n",
       "    </tr>\n",
       "    <tr>\n",
       "      <th>69</th>\n",
       "      <td>Call of Duty: Ghosts</td>\n",
       "      <td>PS3</td>\n",
       "      <td>2013</td>\n",
       "      <td>Shooter</td>\n",
       "      <td>4.10</td>\n",
       "      <td>3.63</td>\n",
       "      <td>0.38</td>\n",
       "      <td>1.25</td>\n",
       "      <td>71</td>\n",
       "      <td>2.6</td>\n",
       "      <td>M</td>\n",
       "      <td>9.36</td>\n",
       "    </tr>\n",
       "    <tr>\n",
       "      <th>72</th>\n",
       "      <td>Minecraft</td>\n",
       "      <td>X360</td>\n",
       "      <td>2013</td>\n",
       "      <td>Misc</td>\n",
       "      <td>5.70</td>\n",
       "      <td>2.65</td>\n",
       "      <td>0.02</td>\n",
       "      <td>0.81</td>\n",
       "      <td>&lt;NA&gt;</td>\n",
       "      <td>NaN</td>\n",
       "      <td>unknown</td>\n",
       "      <td>9.18</td>\n",
       "    </tr>\n",
       "    <tr>\n",
       "      <th>73</th>\n",
       "      <td>Animal Crossing: New Leaf</td>\n",
       "      <td>3DS</td>\n",
       "      <td>2012</td>\n",
       "      <td>Simulation</td>\n",
       "      <td>2.03</td>\n",
       "      <td>2.36</td>\n",
       "      <td>4.39</td>\n",
       "      <td>0.39</td>\n",
       "      <td>88</td>\n",
       "      <td>8.7</td>\n",
       "      <td>E</td>\n",
       "      <td>9.17</td>\n",
       "    </tr>\n",
       "    <tr>\n",
       "      <th>77</th>\n",
       "      <td>FIFA 16</td>\n",
       "      <td>PS4</td>\n",
       "      <td>2015</td>\n",
       "      <td>Sports</td>\n",
       "      <td>1.12</td>\n",
       "      <td>6.12</td>\n",
       "      <td>0.06</td>\n",
       "      <td>1.28</td>\n",
       "      <td>82</td>\n",
       "      <td>4.3</td>\n",
       "      <td>E</td>\n",
       "      <td>8.58</td>\n",
       "    </tr>\n",
       "  </tbody>\n",
       "</table>\n",
       "</div>"
      ],
      "text/plain": [
       "                                         name platform  year_of_release  \\\n",
       "16                         Grand Theft Auto V      PS3             2013   \n",
       "23                         Grand Theft Auto V     X360             2013   \n",
       "31                  Call of Duty: Black Ops 3      PS4             2015   \n",
       "33                        Pokemon X/Pokemon Y      3DS             2013   \n",
       "34                 Call of Duty: Black Ops II      PS3             2012   \n",
       "35                 Call of Duty: Black Ops II     X360             2012   \n",
       "42                         Grand Theft Auto V      PS4             2014   \n",
       "47  Pokemon Omega Ruby/Pokemon Alpha Sapphire      3DS             2014   \n",
       "60                       Call of Duty: Ghosts     X360             2013   \n",
       "62                    New Super Mario Bros. 2      3DS             2012   \n",
       "66                                     Halo 4     X360             2012   \n",
       "69                       Call of Duty: Ghosts      PS3             2013   \n",
       "72                                  Minecraft     X360             2013   \n",
       "73                  Animal Crossing: New Leaf      3DS             2012   \n",
       "77                                    FIFA 16      PS4             2015   \n",
       "\n",
       "           genre  na_sales  eu_sales  jp_sales  other_sales  critic_score  \\\n",
       "16        Action      7.02      9.09      0.98         3.96            97   \n",
       "23        Action      9.66      5.14      0.06         1.41            97   \n",
       "31       Shooter      6.03      5.86      0.36         2.38          <NA>   \n",
       "33  Role-Playing      5.28      4.19      4.35         0.78          <NA>   \n",
       "34       Shooter      4.99      5.73      0.65         2.42            83   \n",
       "35       Shooter      8.25      4.24      0.07         1.12            83   \n",
       "42        Action      3.96      6.31      0.38         1.97            97   \n",
       "47  Role-Playing      4.35      3.49      3.10         0.74          <NA>   \n",
       "60       Shooter      6.73      2.56      0.04         0.91            73   \n",
       "62      Platform      3.66      3.14      2.47         0.63            78   \n",
       "66       Shooter      6.65      2.28      0.04         0.74            87   \n",
       "69       Shooter      4.10      3.63      0.38         1.25            71   \n",
       "72          Misc      5.70      2.65      0.02         0.81          <NA>   \n",
       "73    Simulation      2.03      2.36      4.39         0.39            88   \n",
       "77        Sports      1.12      6.12      0.06         1.28            82   \n",
       "\n",
       "    user_score   rating  total_sales  \n",
       "16         8.2        M        21.05  \n",
       "23         8.1        M        16.27  \n",
       "31         NaN  unknown        14.63  \n",
       "33         NaN  unknown        14.60  \n",
       "34         5.3        M        13.79  \n",
       "35         4.8        M        13.68  \n",
       "42         8.3        M        12.62  \n",
       "47         NaN  unknown        11.68  \n",
       "60         2.6        M        10.24  \n",
       "62         7.2        E         9.90  \n",
       "66         7.0        M         9.71  \n",
       "69         2.6        M         9.36  \n",
       "72         NaN  unknown         9.18  \n",
       "73         8.7        E         9.17  \n",
       "77         4.3        E         8.58  "
      ]
     },
     "execution_count": 75,
     "metadata": {},
     "output_type": "execute_result"
    }
   ],
   "source": [
    "relevant_data = df.query('2012 <= year_of_release <= 2016') # creating a separate df with the data referred to the relevant period\n",
    "relevant_data.head(15) # visualizing the result"
   ]
  },
  {
   "cell_type": "markdown",
   "id": "da1c8bf5",
   "metadata": {},
   "source": [
    "Next, we should determine which platforms are leading in sales, rising or falling. To do that, let's plot the once again total sales distribution:\n",
    "\n"
   ]
  },
  {
   "cell_type": "code",
   "execution_count": 76,
   "id": "d7588bd2",
   "metadata": {},
   "outputs": [
    {
     "data": {
      "image/png": "[encoded data removed]",
      "text/plain": [
       "<Figure size 720x1728 with 11 Axes>"
      ]
     },
     "metadata": {},
     "output_type": "display_data"
    }
   ],
   "source": [
    "ax =  relevant_data.pivot_table(index='year_of_release', values='total_sales', columns='platform', aggfunc='sum').plot(subplots=True, legend=True, xticks=[2012, 2013, 2014, 2015, 2016], yticks=[0, 25, 50, 75, 100], figsize=(10, 24), lw=3, fontsize=10, grid=True, title='Global Sales By Platform&Year', xlabel='Years', ylabel='Sales'); # plotting sales distribution for each platform\n"
   ]
  },
  {
   "cell_type": "markdown",
   "id": "e879d3ca",
   "metadata": {},
   "source": [
    "From the assignment, we know that the data for 2016 is incomplete, so the drop in sales compared to 2015 is most likely illusory.\n",
    "Based on the above of global sales distributions, some platforms simply do not exist in 2016 (their sales are 0), for example, XB, GC, GBA, DS, PS2. Others are approaching the end of their life cycle or are in decline after the peak: X360, Wii, PSP, PS3, PC.\n",
    "Potentially interesting platforms for us, on which, from a business point of view, we should bet, and in whose advertising campaign it is worth investing, are those that have appeared relatively recently, and for which we observe a positive trend in global sales (sales themselves should be at a high level). Based on the trends such platforms are XOne, PS4. As for the 3DS - more likely no than yes, as there has been a downward trend in sales since 2013.\n",
    "\n"
   ]
  },
  {
   "cell_type": "markdown",
   "id": "4ab5bc0b",
   "metadata": {},
   "source": [
    "Next, we will plot a boxplot on global game sales from the relevant data broken down by platform."
   ]
  },
  {
   "cell_type": "code",
   "execution_count": 77,
   "id": "5a668a99",
   "metadata": {},
   "outputs": [
    {
     "data": {
      "image/png": "[encoded data removed]",
      "text/plain": [
       "<Figure size 864x720 with 1 Axes>"
      ]
     },
     "metadata": {},
     "output_type": "display_data"
    }
   ],
   "source": [
    "ax = sns.boxplot(data=relevant_data, x='total_sales', y='platform') # plotting a boxplot on the platform sales\n",
    "sns.set(rc = {'figure.figsize':(24, 24)}) # setting the plot dimensions\n",
    "ax.set_xticks(range(0, 2, 1))  # setting ticks intervals on x axis \n",
    "ax.set_xticklabels(range(0,2, 1))  # setting ticks values on x axis\n",
    "plt.xlim([0,2]);  # setting min and max values on x axis\n",
    "ax.set_ylabel(\"Platforms\") # settng a lable for y axis\n",
    "ax.set_xlabel(\"Global Sales\") # settng a lable for x axis\n",
    "ax.set_title('Relevant Global Sales by Platform'); # setting the plot title"
   ]
  },
  {
   "cell_type": "markdown",
   "id": "ab1b9cf8",
   "metadata": {},
   "source": [
    "As we can see from the boxplot, there is a large number of outliers for almost every platform: this is due to the fact that not all games are sold in the same way, there are bestsellers whose global sales have reached more than 80 million copies, but such games are just rare and outlier values, since the median of the absolute majority of platforms is 0.1-0.3 million copies. PS3, PS4, XOne, X360 have the best performance in global sales: on these platforms, sales of 1.7 million still fall into the \"mustache\" range, therefore, they are not so rare.\n",
    "\n"
   ]
  },
  {
   "cell_type": "markdown",
   "id": "863859c3",
   "metadata": {},
   "source": [
    "Considering the range of the data, we should analyze the mean, variance, and standard deviation of global sales for each platform. Since our data is a population sample, when calculating the variance and standard deviation, the parameter ddof=1 should be used, which is the default value in pandas built-in methods.\n",
    "\n"
   ]
  },
  {
   "cell_type": "code",
   "execution_count": 78,
   "id": "86cd9e67",
   "metadata": {},
   "outputs": [
    {
     "data": {
      "text/html": [
       "<div>\n",
       "<style scoped>\n",
       "    .dataframe tbody tr th:only-of-type {\n",
       "        vertical-align: middle;\n",
       "    }\n",
       "\n",
       "    .dataframe tbody tr th {\n",
       "        vertical-align: top;\n",
       "    }\n",
       "\n",
       "    .dataframe thead th {\n",
       "        text-align: right;\n",
       "    }\n",
       "</style>\n",
       "<table border=\"1\" class=\"dataframe\">\n",
       "  <thead>\n",
       "    <tr style=\"text-align: right;\">\n",
       "      <th></th>\n",
       "      <th>_platform</th>\n",
       "      <th>total_sales_mean</th>\n",
       "      <th>total_sales_var</th>\n",
       "      <th>total_sales_std</th>\n",
       "    </tr>\n",
       "  </thead>\n",
       "  <tbody>\n",
       "    <tr>\n",
       "      <th>0</th>\n",
       "      <td>3DS</td>\n",
       "      <td>0.491439</td>\n",
       "      <td>1.924217</td>\n",
       "      <td>1.387161</td>\n",
       "    </tr>\n",
       "    <tr>\n",
       "      <th>1</th>\n",
       "      <td>DS</td>\n",
       "      <td>0.404839</td>\n",
       "      <td>2.071426</td>\n",
       "      <td>1.439245</td>\n",
       "    </tr>\n",
       "    <tr>\n",
       "      <th>2</th>\n",
       "      <td>PC</td>\n",
       "      <td>0.250600</td>\n",
       "      <td>0.244669</td>\n",
       "      <td>0.494640</td>\n",
       "    </tr>\n",
       "    <tr>\n",
       "      <th>3</th>\n",
       "      <td>PS3</td>\n",
       "      <td>0.585781</td>\n",
       "      <td>2.139946</td>\n",
       "      <td>1.462855</td>\n",
       "    </tr>\n",
       "    <tr>\n",
       "      <th>4</th>\n",
       "      <td>PS4</td>\n",
       "      <td>0.801378</td>\n",
       "      <td>2.590350</td>\n",
       "      <td>1.609456</td>\n",
       "    </tr>\n",
       "    <tr>\n",
       "      <th>5</th>\n",
       "      <td>PSP</td>\n",
       "      <td>0.064682</td>\n",
       "      <td>0.005083</td>\n",
       "      <td>0.071296</td>\n",
       "    </tr>\n",
       "    <tr>\n",
       "      <th>6</th>\n",
       "      <td>PSV</td>\n",
       "      <td>0.119659</td>\n",
       "      <td>0.041214</td>\n",
       "      <td>0.203011</td>\n",
       "    </tr>\n",
       "    <tr>\n",
       "      <th>7</th>\n",
       "      <td>Wii</td>\n",
       "      <td>0.655000</td>\n",
       "      <td>1.358267</td>\n",
       "      <td>1.165447</td>\n",
       "    </tr>\n",
       "    <tr>\n",
       "      <th>8</th>\n",
       "      <td>WiiU</td>\n",
       "      <td>0.559116</td>\n",
       "      <td>1.121133</td>\n",
       "      <td>1.058836</td>\n",
       "    </tr>\n",
       "    <tr>\n",
       "      <th>9</th>\n",
       "      <td>X360</td>\n",
       "      <td>0.810068</td>\n",
       "      <td>2.931181</td>\n",
       "      <td>1.712069</td>\n",
       "    </tr>\n",
       "    <tr>\n",
       "      <th>10</th>\n",
       "      <td>XOne</td>\n",
       "      <td>0.645020</td>\n",
       "      <td>1.073584</td>\n",
       "      <td>1.036139</td>\n",
       "    </tr>\n",
       "  </tbody>\n",
       "</table>\n",
       "</div>"
      ],
      "text/plain": [
       "   _platform  total_sales_mean  total_sales_var  total_sales_std\n",
       "0        3DS          0.491439         1.924217         1.387161\n",
       "1         DS          0.404839         2.071426         1.439245\n",
       "2         PC          0.250600         0.244669         0.494640\n",
       "3        PS3          0.585781         2.139946         1.462855\n",
       "4        PS4          0.801378         2.590350         1.609456\n",
       "5        PSP          0.064682         0.005083         0.071296\n",
       "6        PSV          0.119659         0.041214         0.203011\n",
       "7        Wii          0.655000         1.358267         1.165447\n",
       "8       WiiU          0.559116         1.121133         1.058836\n",
       "9       X360          0.810068         2.931181         1.712069\n",
       "10      XOne          0.645020         1.073584         1.036139"
      ]
     },
     "execution_count": 78,
     "metadata": {},
     "output_type": "execute_result"
    }
   ],
   "source": [
    "sales_stats_by_platform = relevant_data.pivot_table(index='platform', values='total_sales', aggfunc=['mean', 'var', 'std']).reset_index()  # creating a pivot tables with the stats\n",
    "sales_stats_by_platform.columns = [\"_\".join((j,i)).strip() for i,j in sales_stats_by_platform.columns] # modifiying the column names\n",
    "sales_stats_by_platform.head(16)  # visualizing the result"
   ]
  },
  {
   "cell_type": "markdown",
   "id": "2ce691c8",
   "metadata": {},
   "source": [
    "Despite our expectations after the boxplot, averages across all platforms are in the range of 1 million copies and below.\n",
    "With regard to variance and standard deviation, we know that these statistics are interrelated (standard deviation is the square root of the variance), so to analyze the dispertion of values around the mean, it is enough to analyze one of them. We see the highest standard deviation among the top sellers during the relevant period for PS3, PS4, X360, as well as 3DS, DS. DC has the lowest dispertion, as do their mean and global sales.\n",
    "\n"
   ]
  },
  {
   "cell_type": "markdown",
   "id": "9b2756ef",
   "metadata": {},
   "source": [
    "Next, we will check how the reviews of experts and ordinary users affect the global sales of platforms. Let's visualize a similar relationship using a scatterplot, where the x-axis will be plotted by the scores of users and critics, respectively, and the y-axis will be the global sales. As an example, let's choose one of the popular platforms, e.g. PS3:\n",
    "\n"
   ]
  },
  {
   "cell_type": "code",
   "execution_count": 79,
   "id": "b87a1f69",
   "metadata": {},
   "outputs": [
    {
     "data": {
      "image/png": "[encoded data removed]",
      "text/plain": [
       "<Figure size 648x648 with 1 Axes>"
      ]
     },
     "metadata": {},
     "output_type": "display_data"
    },
    {
     "data": {
      "image/png": "[encoded data removed]",
      "text/plain": [
       "<Figure size 648x648 with 1 Axes>"
      ]
     },
     "metadata": {},
     "output_type": "display_data"
    }
   ],
   "source": [
    "ax1 = relevant_data.query('platform==\"PS3\"').plot(x='critic_score', y='total_sales', kind='scatter', color='blue', grid=True, alpha=0.3, figsize=(9,9), title='Correlation between Rating by Experts and Global Sales', xlabel='Points Given by Experts', ylabel='Global Sales') # plotting a scatter plot for the selected column \n",
    "ax2 = relevant_data.query('platform==\"PS3\"').plot(x='user_score', y='total_sales', kind='scatter', color='blue', grid=True, alpha=0.3, figsize=(9,9), title='Correlation between Rating by Gamers and Global Sales', xlabel='Points Given by Gamers', ylabel='Global Sales')  # plotting a scatter plot for the selected column    "
   ]
  },
  {
   "cell_type": "markdown",
   "id": "2b2d9ba2",
   "metadata": {},
   "source": [
    "Both plots clearly show some relation, especially between critics' ratings and sales, the higher the scores are, the higher the game's sales are for the platform.\n",
    "Let's check the conclusions by calculating the correlation coefficient between these metrics:\n",
    "\n"
   ]
  },
  {
   "cell_type": "code",
   "execution_count": 80,
   "id": "5702ad64",
   "metadata": {},
   "outputs": [
    {
     "data": {
      "text/html": [
       "<div>\n",
       "<style scoped>\n",
       "    .dataframe tbody tr th:only-of-type {\n",
       "        vertical-align: middle;\n",
       "    }\n",
       "\n",
       "    .dataframe tbody tr th {\n",
       "        vertical-align: top;\n",
       "    }\n",
       "\n",
       "    .dataframe thead th {\n",
       "        text-align: right;\n",
       "    }\n",
       "</style>\n",
       "<table border=\"1\" class=\"dataframe\">\n",
       "  <thead>\n",
       "    <tr style=\"text-align: right;\">\n",
       "      <th></th>\n",
       "      <th>total_sales</th>\n",
       "      <th>critic_score</th>\n",
       "      <th>user_score</th>\n",
       "    </tr>\n",
       "  </thead>\n",
       "  <tbody>\n",
       "    <tr>\n",
       "      <th>total_sales</th>\n",
       "      <td>1.000000</td>\n",
       "      <td>0.331497</td>\n",
       "      <td>-0.005144</td>\n",
       "    </tr>\n",
       "    <tr>\n",
       "      <th>critic_score</th>\n",
       "      <td>0.331497</td>\n",
       "      <td>1.000000</td>\n",
       "      <td>0.539456</td>\n",
       "    </tr>\n",
       "    <tr>\n",
       "      <th>user_score</th>\n",
       "      <td>-0.005144</td>\n",
       "      <td>0.539456</td>\n",
       "      <td>1.000000</td>\n",
       "    </tr>\n",
       "  </tbody>\n",
       "</table>\n",
       "</div>"
      ],
      "text/plain": [
       "              total_sales  critic_score  user_score\n",
       "total_sales      1.000000      0.331497   -0.005144\n",
       "critic_score     0.331497      1.000000    0.539456\n",
       "user_score      -0.005144      0.539456    1.000000"
      ]
     },
     "execution_count": 80,
     "metadata": {},
     "output_type": "execute_result"
    }
   ],
   "source": [
    "relevant_data.query('platform==\"PS3\"')[['total_sales', 'critic_score', 'user_score']].corr() # calculating correlation for the selected columns"
   ]
  },
  {
   "cell_type": "markdown",
   "id": "39eaa242",
   "metadata": {},
   "source": [
    "The calculated correlation coefficient confirms our conclusions: there is a direct correlation between critics' scores and global sales, it is about 0.3: not the strongest, but, nevertheless, it is there.\n",
    "At the same time, the correlation between sales and user ratings, on the contrary, is negative, but very weak (less than -0.01).\n",
    "It is worth noting the high correlation between the scoress of users and critics (more than 0.5): apparently, opinions often coincide, and if the rating of critics is high, in 54% of cases it will also be high among gamers, and vice versa.\n",
    "\n"
   ]
  },
  {
   "cell_type": "markdown",
   "id": "3395e7cb",
   "metadata": {},
   "source": [
    "Next, we will check whether these conclusions are valid for all other platforms in general. We plot the relative scatterplot and calculate the correlation coefficients:\n",
    "\n"
   ]
  },
  {
   "cell_type": "code",
   "execution_count": 81,
   "id": "aeb23359",
   "metadata": {},
   "outputs": [
    {
     "data": {
      "image/png": "[encoded data removed]",
      "text/plain": [
       "<Figure size 648x648 with 1 Axes>"
      ]
     },
     "metadata": {},
     "output_type": "display_data"
    },
    {
     "data": {
      "image/png": "[encoded data removed]",
      "text/plain": [
       "<Figure size 648x648 with 1 Axes>"
      ]
     },
     "metadata": {},
     "output_type": "display_data"
    }
   ],
   "source": [
    "ax1 = relevant_data.query('platform!=\"PS3\"').plot(x='critic_score', y='total_sales', kind='scatter', color='orange', grid=True, alpha=0.3, figsize=(9,9), title='Correlation between Rating by Experts and Global Sales', xlabel='Points Given by Experts', ylabel='Global Sales') # plotting a scatter plot for the selected column  \n",
    "ax2 = relevant_data.query('platform!=\"PS3\"').plot(x='user_score', y='total_sales', kind='scatter', color='orange', grid=True, alpha=0.3, figsize=(9,9), title='Correlation between Rating by Gamers and Global Sales', xlabel='Points Given by Gamers', ylabel='Global Sales')  # plotting a scatter plot for the selected column "
   ]
  },
  {
   "cell_type": "code",
   "execution_count": 82,
   "id": "08375231",
   "metadata": {},
   "outputs": [
    {
     "data": {
      "text/html": [
       "<div>\n",
       "<style scoped>\n",
       "    .dataframe tbody tr th:only-of-type {\n",
       "        vertical-align: middle;\n",
       "    }\n",
       "\n",
       "    .dataframe tbody tr th {\n",
       "        vertical-align: top;\n",
       "    }\n",
       "\n",
       "    .dataframe thead th {\n",
       "        text-align: right;\n",
       "    }\n",
       "</style>\n",
       "<table border=\"1\" class=\"dataframe\">\n",
       "  <thead>\n",
       "    <tr style=\"text-align: right;\">\n",
       "      <th></th>\n",
       "      <th>total_sales</th>\n",
       "      <th>critic_score</th>\n",
       "      <th>user_score</th>\n",
       "    </tr>\n",
       "  </thead>\n",
       "  <tbody>\n",
       "    <tr>\n",
       "      <th>total_sales</th>\n",
       "      <td>1.000000</td>\n",
       "      <td>0.307659</td>\n",
       "      <td>0.009781</td>\n",
       "    </tr>\n",
       "    <tr>\n",
       "      <th>critic_score</th>\n",
       "      <td>0.307659</td>\n",
       "      <td>1.000000</td>\n",
       "      <td>0.512974</td>\n",
       "    </tr>\n",
       "    <tr>\n",
       "      <th>user_score</th>\n",
       "      <td>0.009781</td>\n",
       "      <td>0.512974</td>\n",
       "      <td>1.000000</td>\n",
       "    </tr>\n",
       "  </tbody>\n",
       "</table>\n",
       "</div>"
      ],
      "text/plain": [
       "              total_sales  critic_score  user_score\n",
       "total_sales      1.000000      0.307659    0.009781\n",
       "critic_score     0.307659      1.000000    0.512974\n",
       "user_score       0.009781      0.512974    1.000000"
      ]
     },
     "execution_count": 82,
     "metadata": {},
     "output_type": "execute_result"
    }
   ],
   "source": [
    "relevant_data.query('platform!=\"PS3\"')[['total_sales', 'critic_score', 'user_score']].corr() # calculating correlation for the selected columns\n"
   ]
  },
  {
   "cell_type": "markdown",
   "id": "4d6ecd6e",
   "metadata": {},
   "source": [
    "So, for other platforms, there is also a certain direct relation between global sales and scores, but it is weaker: the correlation coefficient of global sales and critic scores is about 0.3, while global sales and user scores are extremely low: it does not even reach 0.01.\n",
    "The reason for the lower correlation cannot be pinpointed with certainty: possibly due to platform aggregation, including the most unpopular, for which the sales are low, there were games with a high rating.\n",
    "At the same time, the correlation between the scores of users and critics, as in the case of a single PS3 platform, is high.\n",
    "\n"
   ]
  },
  {
   "cell_type": "markdown",
   "id": "0e5c0681",
   "metadata": {},
   "source": [
    "Next, we will analyze how genres and global game sales correlate, and whether there is a difference in sales depending on the genre. To do this, we will plot a bar chart:\n",
    "\n"
   ]
  },
  {
   "cell_type": "code",
   "execution_count": 83,
   "id": "50e710d6",
   "metadata": {},
   "outputs": [
    {
     "data": {
      "image/png": "[encoded data removed]",
      "text/plain": [
       "<Figure size 1728x1728 with 1 Axes>"
      ]
     },
     "metadata": {},
     "output_type": "display_data"
    }
   ],
   "source": [
    "sorted_genres = relevant_data.pivot_table(index='genre', values='total_sales', aggfunc=sum).reset_index().sort_values(by='total_sales', ascending=False) # creating a pivot table on genresп sorting by global sales\n",
    "order = sorted_genres['genre'] # setting an order to pass as parameter\n",
    "ax = sns.barplot(x='genre', y='total_sales', estimator=sum, data=relevant_data, order=order)  # plotting a barplot on global sales divided by genre\n",
    "sns.set(rc = {'figure.figsize':(10,8)}) # setting the plot dimensions\n",
    "ax.set_ylabel(\"Genres\") # settng a lable for y axis\n",
    "ax.set_xlabel(\"Global Sales\") # settng a lable for x axis\n",
    "ax.set_title('Global Sales Divided by Genre During the Relevant Period'); # setting the plot title\n"
   ]
  },
  {
   "cell_type": "markdown",
   "id": "f205facb",
   "metadata": {},
   "source": [
    "From the plot, we can clearly see that sales among game genres are unevenly distributed. The top three are\n",
    "action games, shooting games take the second place, and role-playing games close the podium. As for outsiders, puzzles are the least sold in the world, gamers like strategies a little more, and, finally, the adventure genre occupies the third place from the bottom.\n",
    "\n"
   ]
  },
  {
   "cell_type": "markdown",
   "id": "86e1203a",
   "metadata": {},
   "source": [
    "Next, we will try to create a user portrait depending on the region. To do this, for each of them (NA, EU, JP), we will identify the 5 most popular platforms and genres of games.\n",
    "Let's start with the top 5 gaming platforms:\n",
    "\n"
   ]
  },
  {
   "cell_type": "code",
   "execution_count": 84,
   "id": "f34780d2",
   "metadata": {},
   "outputs": [
    {
     "data": {
      "text/plain": [
       "platform\n",
       "X360    140.05\n",
       "PS4     108.74\n",
       "PS3     103.38\n",
       "XOne     93.12\n",
       "3DS      55.31\n",
       "Name: na_sales, dtype: float64"
      ]
     },
     "execution_count": 84,
     "metadata": {},
     "output_type": "execute_result"
    }
   ],
   "source": [
    "platforms_na = relevant_data.groupby('platform')['na_sales'].sum().sort_values(ascending=False) # creating a separate df with NA sales\n",
    "platforms_na.head(5) # displaying top 5"
   ]
  },
  {
   "cell_type": "code",
   "execution_count": 85,
   "id": "f2c1c810",
   "metadata": {},
   "outputs": [
    {
     "data": {
      "text/plain": [
       "platform\n",
       "PS4     141.09\n",
       "PS3     106.86\n",
       "X360     74.52\n",
       "XOne     51.59\n",
       "3DS      42.64\n",
       "Name: eu_sales, dtype: float64"
      ]
     },
     "execution_count": 85,
     "metadata": {},
     "output_type": "execute_result"
    }
   ],
   "source": [
    "platforms_eu = relevant_data.groupby('platform')['eu_sales'].sum().sort_values(ascending=False)  # creating a separate df with EU sales\n",
    "platforms_eu.head(5)  # displaying top 5"
   ]
  },
  {
   "cell_type": "code",
   "execution_count": 86,
   "id": "3933797f",
   "metadata": {},
   "outputs": [
    {
     "data": {
      "text/plain": [
       "platform\n",
       "3DS     87.79\n",
       "PS3     35.29\n",
       "PSV     21.04\n",
       "PS4     15.96\n",
       "WiiU    13.01\n",
       "Name: jp_sales, dtype: float64"
      ]
     },
     "execution_count": 86,
     "metadata": {},
     "output_type": "execute_result"
    }
   ],
   "source": [
    "platforms_jp = relevant_data.groupby('platform')['jp_sales'].sum().sort_values(ascending=False)  # creating a separate df with JP sales\n",
    "platforms_jp.head(5)  # displaying top 5"
   ]
  },
  {
   "cell_type": "markdown",
   "id": "75cbcf7a",
   "metadata": {},
   "source": [
    "Based on sales by platform in 3 selected regions, we can see the following: everywhere in the top 5, occupying different places, there are PS3 and PS4. At the same time, in Europe and North America, all 5 most popular platforms are the same, but gamers from Japan have other preferences: the top five also includes 3DS and PSV, which do not lead the others regions.\n",
    "Next, we highlight the favorite genres depending on the continent:\n",
    "\n"
   ]
  },
  {
   "cell_type": "code",
   "execution_count": 87,
   "id": "eb748d24",
   "metadata": {},
   "outputs": [
    {
     "data": {
      "text/plain": [
       "genre\n",
       "Action          177.84\n",
       "Shooter         144.77\n",
       "Sports           81.53\n",
       "Role-Playing     64.00\n",
       "Misc             38.19\n",
       "Name: na_sales, dtype: float64"
      ]
     },
     "execution_count": 87,
     "metadata": {},
     "output_type": "execute_result"
    }
   ],
   "source": [
    "genres_na = relevant_data.groupby('genre')['na_sales'].sum().sort_values(ascending=False)  # creating a separate df with NA sales\n",
    "genres_na.head(5)  # displaying top 5"
   ]
  },
  {
   "cell_type": "code",
   "execution_count": 88,
   "id": "de4ac02c",
   "metadata": {},
   "outputs": [
    {
     "data": {
      "text/plain": [
       "genre\n",
       "Action          159.34\n",
       "Shooter         113.47\n",
       "Sports           69.09\n",
       "Role-Playing     48.53\n",
       "Racing           27.29\n",
       "Name: eu_sales, dtype: float64"
      ]
     },
     "execution_count": 88,
     "metadata": {},
     "output_type": "execute_result"
    }
   ],
   "source": [
    "genres_eu = relevant_data.groupby('genre')['eu_sales'].sum().sort_values(ascending=False)  # creating a separate df with EU sales\n",
    "genres_eu.head(5)  # displaying top 5"
   ]
  },
  {
   "cell_type": "code",
   "execution_count": 89,
   "id": "9b0e5dcb",
   "metadata": {},
   "outputs": [
    {
     "data": {
      "text/plain": [
       "genre\n",
       "Role-Playing    65.44\n",
       "Action          52.80\n",
       "Misc            12.86\n",
       "Simulation      10.41\n",
       "Fighting         9.44\n",
       "Name: jp_sales, dtype: float64"
      ]
     },
     "execution_count": 89,
     "metadata": {},
     "output_type": "execute_result"
    }
   ],
   "source": [
    "genres_jp = relevant_data.groupby('genre')['jp_sales'].sum().sort_values(ascending=False)  # creating a separate df with JP sales\n",
    "genres_jp.head(5)  # displaying top 5"
   ]
  },
  {
   "cell_type": "markdown",
   "id": "642ba13a",
   "metadata": {},
   "source": [
    "As far as it concerns genres, the dynamics are similar to platforms. Gamers from Europe and North America have more in common: both prefer action games first, then shooting games, and finally sports games. In Japan, action is already descending to 2nd place, the leader is role-playing games.\n"
   ]
  },
  {
   "cell_type": "markdown",
   "id": "e14a1283",
   "metadata": {},
   "source": [
    "Next, let's check whether the ESRB rating, that is, the categorization of games by age groups, affects sales in a particular region, for this we will group sales in each of the regions according to the available ESRB categories:\n",
    "\n"
   ]
  },
  {
   "cell_type": "code",
   "execution_count": 90,
   "id": "db6d5874",
   "metadata": {},
   "outputs": [
    {
     "data": {
      "text/plain": [
       "rating\n",
       "M          231.57\n",
       "E          114.37\n",
       "unknown    103.31\n",
       "E10+        75.70\n",
       "T           66.02\n",
       "Name: na_sales, dtype: float64"
      ]
     },
     "execution_count": 90,
     "metadata": {},
     "output_type": "execute_result"
    }
   ],
   "source": [
    "rating_na = relevant_data.groupby('rating')['na_sales'].sum().sort_values(ascending=False)  # creating a separate df with NA sales\n",
    "rating_na.head(5)  # displaying top 5"
   ]
  },
  {
   "cell_type": "code",
   "execution_count": 91,
   "id": "d9198a44",
   "metadata": {},
   "outputs": [
    {
     "data": {
      "text/plain": [
       "rating\n",
       "M          193.96\n",
       "E          113.03\n",
       "unknown     91.50\n",
       "E10+        55.37\n",
       "T           52.96\n",
       "Name: eu_sales, dtype: float64"
      ]
     },
     "execution_count": 91,
     "metadata": {},
     "output_type": "execute_result"
    }
   ],
   "source": [
    "rating_eu = relevant_data.groupby('rating')['eu_sales'].sum().sort_values(ascending=False)  # creating a separate df with EU sales\n",
    "rating_eu.head(5)  # displaying top 5"
   ]
  },
  {
   "cell_type": "code",
   "execution_count": 92,
   "id": "bc67e791",
   "metadata": {},
   "outputs": [
    {
     "data": {
      "text/plain": [
       "rating\n",
       "unknown    108.84\n",
       "E           28.33\n",
       "T           26.02\n",
       "M           21.20\n",
       "E10+         8.19\n",
       "Name: jp_sales, dtype: float64"
      ]
     },
     "execution_count": 92,
     "metadata": {},
     "output_type": "execute_result"
    }
   ],
   "source": [
    "rating_jp = relevant_data.groupby('rating')['jp_sales'].sum().sort_values(ascending=False)  # creating a separate df with JP sales\n",
    "rating_jp.head(5)  # displaying top 5"
   ]
  },
  {
   "cell_type": "markdown",
   "id": "d911aadc",
   "metadata": {},
   "source": [
    "As for the sales ratio and ESRB rating, in this case, the leading age categories are completely the same\n",
    "in North America and Europe. At the same time, in both regions, the game with an unknown rating is in third place in terms of sales. As far as Japan is concerned, such games are in the first place by a decisive margin.\n",
    "Referring to the ESRB website, we can find a transcript for each category:\n",
    "\n",
    "* E - \"For all\";\n",
    "* T - \"Teenagers\";\n",
    "*  M - \"For adults\";\n",
    "*E10+ - \"For everyone from 10 years and older\";\n",
    "* K-A - \"For everyone\", then replaced by E.\n",
    "* AO - \"Adults Only\"\n",
    "\n",
    "As for the influence of the rating on sales in a particular region, this ratio cannot be called \"influence\", but rather a correlation: the age category of the game is an objective characteristic. In the first place in Europe and America are games for adults, possibly with scenes of violence, which is typical for the action genre, which is also among the leaders. It is followed by games for which there are no age restrictions: available for everyone - everyone buys. It is also logical, for example, that we see games for teenagers among the top sellers: this is one of the target audiences for game creators, since due to age and free time availability, in most cases it is teenagers who play computer games.\n",
    "A separate issue is the category of unrated games, which ranks first in Japan by a wide margin. If these games basically do not have a rating, that is, there are no age restrictions, then we can say that it is logical that many users buy such games, they are available to everyone. Instead, in case a game has a rating, but it is not in our dataset, the situation with the real distribution of sales and the impact of the rating on sales is unpredictable.\n",
    "\n"
   ]
  },
  {
   "cell_type": "markdown",
   "id": "a8d0e481",
   "metadata": {},
   "source": [
    "**Conclusions**\n",
    "So, we have conducted a data discovery and a statistical analysis of the data presented for the identified relevant period: we considered the distribution of games by years, global sales by platforms, analyzed the statistics (median, mean, standard deviation) of global sales, calculated the correlation between sales and scores, described user behavior depending on the region of residence. We have a fairly clear picture of the platforms and genres of games that bring more revenue.\n",
    "Let's move on to the last stage of our project - testing hypotheses about the absence of a difference between the individual categories of the sample.\n"
   ]
  },
  {
   "cell_type": "markdown",
   "id": "2e2a8195",
   "metadata": {},
   "source": [
    "## Hypothesis Testing"
   ]
  },
  {
   "cell_type": "markdown",
   "id": "982de46a",
   "metadata": {},
   "source": [
    "Ideally, to test our hypotheses, we would compare the means of  user score populations for the Xbox One and PC platforms and the Action and Sports genres, respectively. However, the data at our disposal are not global, their volume varies from year to year. For this reason, we will divide the dataset for the relevant period into appropriate subgroups and compare the  samples means using a t-test.\n",
    "\n",
    "First, let's test the first pair of hypotheses:\n",
    " - H0: The average user scores of the Xbox One and PC platforms are equal;\n",
    " - H1: The average user scores of the Xbox One and PC platforms differ.\n",
    " \n",
    " Let's separate data on user scores for two selected platforms into separate dataframes.\n",
    "\n"
   ]
  },
  {
   "cell_type": "code",
   "execution_count": 93,
   "id": "71c74680",
   "metadata": {},
   "outputs": [
    {
     "data": {
      "text/plain": [
       "165    7.9\n",
       "179    5.4\n",
       "242    6.4\n",
       "270    6.2\n",
       "373    4.1\n",
       "398    5.5\n",
       "413    7.5\n",
       "417    4.4\n",
       "422    7.2\n",
       "484    6.4\n",
       "Name: user_score, dtype: float64"
      ]
     },
     "execution_count": 93,
     "metadata": {},
     "output_type": "execute_result"
    }
   ],
   "source": [
    "xone_user_rating = relevant_data.query('platform==\"XOne\"')['user_score'].dropna()  # creating a df for Xbox One\n",
    "xone_user_rating.head(10) # visualizing the result\n"
   ]
  },
  {
   "cell_type": "code",
   "execution_count": 94,
   "id": "7a54b51a",
   "metadata": {},
   "outputs": [
    {
     "data": {
      "text/plain": [
       "192     4.0\n",
       "458     3.9\n",
       "688     7.9\n",
       "959     4.8\n",
       "1095    7.9\n",
       "1227    4.2\n",
       "1351    2.2\n",
       "1437    6.0\n",
       "1530    5.4\n",
       "1730    7.9\n",
       "Name: user_score, dtype: float64"
      ]
     },
     "execution_count": 94,
     "metadata": {},
     "output_type": "execute_result"
    }
   ],
   "source": [
    "pc_user_rating = relevant_data.query('platform==\"PC\"')['user_score'].dropna()  # creating a df for РС\n",
    "pc_user_rating.head(10) # visualizing the result"
   ]
  },
  {
   "cell_type": "markdown",
   "id": "86186c6d",
   "metadata": {},
   "source": [
    "Our task is to compare the means of two independent populations based on the samples taken from them, so we will use the scipy.stats.ttest_ind() method, where the equal_var = False parameter, since the samples are of different sizes and there is no certainty that their variances are equal.\n"
   ]
  },
  {
   "cell_type": "code",
   "execution_count": 95,
   "id": "512bbf95",
   "metadata": {},
   "outputs": [
    {
     "name": "stdout",
     "output_type": "stream",
     "text": [
      "p-значение: 0.5489537965134912\n",
      "Failed to reject the null hypothesis\n"
     ]
    }
   ],
   "source": [
    "alpha = 0.05 # setting a significance level\n",
    "results = st.ttest_ind(xone_user_rating, pc_user_rating, equal_var = False) #  testing the hypotesis on equality of two independent populations means\n",
    "print('p-значение:', results.pvalue)\n",
    "if results.pvalue < alpha:\n",
    "    print(\"Rejecting the null hypothesis\")\n",
    "else:\n",
    "    print(\"Failed to reject the null hypothesis\")"
   ]
  },
  {
   "cell_type": "markdown",
   "id": "84428415",
   "metadata": {},
   "source": [
    "So, the p-value obtained as a result of the Student's test is significantly greater than the given level of statistical significance, thus, we can definitely accept the null hypothesis, which means that **the average user scores of the Xbox One and PC platforms are equal.**\n",
    "\n"
   ]
  },
  {
   "cell_type": "markdown",
   "id": "29f2818a",
   "metadata": {},
   "source": [
    "Next, we will test the second pair of hypotheses:\n",
    "* H0: The average user scores for the Action and Sports genres are equal.\n",
    "* H1: The average user scores for the Action and Sports genres are different.\n",
    "\n",
    "To do this, we will make two selections from the available data depending on the genre:\n",
    "\n"
   ]
  },
  {
   "cell_type": "code",
   "execution_count": 96,
   "id": "220d8a6e",
   "metadata": {},
   "outputs": [
    {
     "data": {
      "text/plain": [
       "16     8.2\n",
       "23     8.1\n",
       "42     8.3\n",
       "81     6.6\n",
       "127    6.9\n",
       "149    9.1\n",
       "165    7.9\n",
       "176    6.7\n",
       "190    6.1\n",
       "231    8.1\n",
       "Name: user_score, dtype: float64"
      ]
     },
     "execution_count": 96,
     "metadata": {},
     "output_type": "execute_result"
    }
   ],
   "source": [
    "action_user_rating = relevant_data.query('genre==\"Action\"')['user_score'].dropna()  # creating a df for Action genre\n",
    "action_user_rating.head(10) # visualizing the result"
   ]
  },
  {
   "cell_type": "code",
   "execution_count": 97,
   "id": "460c6067",
   "metadata": {},
   "outputs": [
    {
     "data": {
      "text/plain": [
       "77     4.3\n",
       "94     5.0\n",
       "126    4.3\n",
       "143    5.7\n",
       "264    4.5\n",
       "271    4.2\n",
       "314    6.7\n",
       "417    4.4\n",
       "420    5.9\n",
       "469    6.3\n",
       "Name: user_score, dtype: float64"
      ]
     },
     "execution_count": 97,
     "metadata": {},
     "output_type": "execute_result"
    }
   ],
   "source": [
    "sports_user_rating = relevant_data.query('genre==\"Sports\"')['user_score'].dropna()  # creating a df for Sports genre\n",
    "sports_user_rating.head(10) # visualizing the result"
   ]
  },
  {
   "cell_type": "code",
   "execution_count": 98,
   "id": "d548e5f8",
   "metadata": {},
   "outputs": [
    {
     "name": "stdout",
     "output_type": "stream",
     "text": [
      "p-значение: 4.24307776572644e-20\n",
      "Rejecting the null hypothesis\n"
     ]
    }
   ],
   "source": [
    "alpha = 0.05 # setting a significance level\n",
    "results = st.ttest_ind(action_user_rating, sports_user_rating, equal_var = False) # testing the hypotesis on equality of two independent populations means\n",
    "print('p-значение:', results.pvalue)\n",
    "if results.pvalue < alpha:\n",
    "    print(\"Rejecting the null hypothesis\")\n",
    "else:\n",
    "    print(\"Failed to reject the null hypothesis\")"
   ]
  },
  {
   "cell_type": "markdown",
   "id": "1994701f",
   "metadata": {},
   "source": [
    "The p-value is extremely low: it means that the probability of getting the same means in both populations\n",
    "is also low. Thus, we reject the null hypothesis: **Average user scores for the Action and Sports genres are different.**\n"
   ]
  },
  {
   "cell_type": "markdown",
   "id": "e2fd5632",
   "metadata": {},
   "source": [
    "## Study Results\n",
    "In the course of this study, we processed and analyzed the dataset.\n",
    "We've been able to track game releases year by year since 1985, identifying the platforms with the highest sales (PS2, X360 and PS3), but given the platform life cycle (10-11 years), we found that none of them , being in the last phase of the life cycle, is worth the advertising investment. In terms of advertising budget, the most interesting platforms are XOne and PS4.\n",
    "Taking into account the distribution of sales by years, we set the relevant period for forecasts for 2017, which is, from 2012 to 2016, and further used the data sample only for this period.\n",
    "In addition, we were able to prove that, for example, we should not rely on user score: the correlation between user score and sales is extremely low. Regarding the expert assessments, both in the particular and in the general case, we found a fairly high positive correlation. However, relying on it makes sense only if we have confidence that the games were not evaluated by experts afterwards.\n",
    "We have determined that across all regions it is worthwhile to invest advertising resources in the top-selling genres: action, shooters, sports and role-playing games. However, when selling worldwide, depending on the region, it is worth adjusting the budget in one direction or another. For example, in Japan it makes sense to promote all kinds of role-playing games.\n",
    "In the same region, you can ignore the presence of the ESRB rating.\n",
    "\n",
    "Next, we tested two null hypotheses:\n",
    "1. The average user scores of the Xbox One and PC platforms are equal.\n",
    "This hypothesis has been accepted based on the results of the t-test.\n",
    "2. The average user scores for the Action and Sports genres are equal.\n",
    "This hypothesis, based on the results of the t-test, has been rejected in favor of an alternative one.\n",
    "\n",
    "From the classical statistics point of view, the conclusions that we came to from the results of hypothesis testing are quite reliable: the number of elements in each of the subsamples formed from the available data from the general populations of all games was more than 30 observations. The result would have certainly been more accurate if we had tested it on several samples of a similar size from the general\n",
    "populsations, and not just one. "
   ]
  }
 ],
 "metadata": {
  "ExecuteTimeLog": [
   {
    "duration": 667,
    "start_time": "2022-03-08T15:34:14.246Z"
   },
   {
    "duration": 44,
    "start_time": "2022-03-08T15:34:38.925Z"
   },
   {
    "duration": 40,
    "start_time": "2022-03-08T15:34:39.882Z"
   },
   {
    "duration": 55,
    "start_time": "2022-03-08T15:34:49.258Z"
   },
   {
    "duration": 55,
    "start_time": "2022-03-08T15:35:23.556Z"
   },
   {
    "duration": 17,
    "start_time": "2022-03-08T15:46:17.513Z"
   },
   {
    "duration": 14,
    "start_time": "2022-03-08T15:46:52.976Z"
   },
   {
    "duration": 56,
    "start_time": "2022-03-08T15:49:44.344Z"
   },
   {
    "duration": 31,
    "start_time": "2022-03-08T15:52:03.568Z"
   },
   {
    "duration": 21,
    "start_time": "2022-03-08T15:55:13.609Z"
   },
   {
    "duration": 15,
    "start_time": "2022-03-08T15:55:29.176Z"
   },
   {
    "duration": 13,
    "start_time": "2022-03-08T15:55:39.020Z"
   },
   {
    "duration": 12,
    "start_time": "2022-03-08T15:55:54.155Z"
   },
   {
    "duration": 32,
    "start_time": "2022-03-08T16:03:58.644Z"
   },
   {
    "duration": 13,
    "start_time": "2022-03-08T16:05:29.577Z"
   },
   {
    "duration": 357,
    "start_time": "2022-03-08T16:08:53.653Z"
   },
   {
    "duration": 28,
    "start_time": "2022-03-08T16:09:22.196Z"
   },
   {
    "duration": 245,
    "start_time": "2022-03-08T16:10:05.863Z"
   },
   {
    "duration": 26,
    "start_time": "2022-03-08T16:10:21.729Z"
   },
   {
    "duration": 24,
    "start_time": "2022-03-08T16:11:28.314Z"
   },
   {
    "duration": 15,
    "start_time": "2022-03-08T16:13:46.039Z"
   },
   {
    "duration": 22,
    "start_time": "2022-03-08T16:20:36.997Z"
   },
   {
    "duration": 22,
    "start_time": "2022-03-08T16:21:00.502Z"
   },
   {
    "duration": 20,
    "start_time": "2022-03-08T16:21:11.356Z"
   },
   {
    "duration": 21,
    "start_time": "2022-03-08T16:22:44.768Z"
   },
   {
    "duration": 18,
    "start_time": "2022-03-08T16:23:04.185Z"
   },
   {
    "duration": 61,
    "start_time": "2022-03-08T16:23:16.270Z"
   },
   {
    "duration": 20,
    "start_time": "2022-03-08T16:23:16.333Z"
   },
   {
    "duration": 10,
    "start_time": "2022-03-08T16:27:47.184Z"
   },
   {
    "duration": 10,
    "start_time": "2022-03-08T16:27:48.569Z"
   },
   {
    "duration": 23,
    "start_time": "2022-03-08T16:31:29.349Z"
   },
   {
    "duration": 29,
    "start_time": "2022-03-08T16:40:11.762Z"
   },
   {
    "duration": 13,
    "start_time": "2022-03-08T16:43:03.827Z"
   },
   {
    "duration": 16,
    "start_time": "2022-03-08T16:50:12.822Z"
   },
   {
    "duration": 12,
    "start_time": "2022-03-08T16:51:08.365Z"
   },
   {
    "duration": 15,
    "start_time": "2022-03-08T16:55:50.479Z"
   },
   {
    "duration": 25,
    "start_time": "2022-03-08T16:56:45.138Z"
   },
   {
    "duration": 37,
    "start_time": "2022-03-08T16:56:52.361Z"
   },
   {
    "duration": 41,
    "start_time": "2022-03-08T16:58:09.738Z"
   },
   {
    "duration": 4526,
    "start_time": "2022-03-08T17:00:42.767Z"
   },
   {
    "duration": 4486,
    "start_time": "2022-03-08T17:02:59.102Z"
   },
   {
    "duration": 58,
    "start_time": "2022-03-08T17:03:32.191Z"
   },
   {
    "duration": 62,
    "start_time": "2022-03-08T17:09:27.759Z"
   },
   {
    "duration": 21,
    "start_time": "2022-03-08T17:09:27.824Z"
   },
   {
    "duration": 30,
    "start_time": "2022-03-08T17:09:27.979Z"
   },
   {
    "duration": 14,
    "start_time": "2022-03-08T17:09:28.012Z"
   },
   {
    "duration": 78,
    "start_time": "2022-03-08T17:09:28.028Z"
   },
   {
    "duration": 5,
    "start_time": "2022-03-08T17:13:58.107Z"
   },
   {
    "duration": 6,
    "start_time": "2022-03-08T17:14:05.436Z"
   },
   {
    "duration": 6,
    "start_time": "2022-03-08T17:14:22.178Z"
   },
   {
    "duration": 61,
    "start_time": "2022-03-08T17:14:46.655Z"
   },
   {
    "duration": 21,
    "start_time": "2022-03-08T17:14:46.718Z"
   },
   {
    "duration": 36,
    "start_time": "2022-03-08T17:14:46.741Z"
   },
   {
    "duration": 13,
    "start_time": "2022-03-08T17:14:46.778Z"
   },
   {
    "duration": 82,
    "start_time": "2022-03-08T17:14:46.813Z"
   },
   {
    "duration": 7,
    "start_time": "2022-03-08T17:14:46.898Z"
   },
   {
    "duration": 190,
    "start_time": "2022-03-08T17:15:14.389Z"
   },
   {
    "duration": 11,
    "start_time": "2022-03-08T17:15:23.488Z"
   },
   {
    "duration": 12,
    "start_time": "2022-03-08T17:15:54.694Z"
   },
   {
    "duration": 12,
    "start_time": "2022-03-08T17:16:03.402Z"
   },
   {
    "duration": 8,
    "start_time": "2022-03-08T17:16:51.157Z"
   },
   {
    "duration": 12,
    "start_time": "2022-03-08T17:17:44.640Z"
   },
   {
    "duration": 19,
    "start_time": "2022-03-08T17:20:44.148Z"
   },
   {
    "duration": 743,
    "start_time": "2022-03-09T07:35:42.722Z"
   },
   {
    "duration": 18,
    "start_time": "2022-03-09T07:35:43.467Z"
   },
   {
    "duration": 23,
    "start_time": "2022-03-09T07:35:43.486Z"
   },
   {
    "duration": 11,
    "start_time": "2022-03-09T07:35:43.510Z"
   },
   {
    "duration": 80,
    "start_time": "2022-03-09T07:35:43.522Z"
   },
   {
    "duration": 14,
    "start_time": "2022-03-09T07:35:43.603Z"
   },
   {
    "duration": 197,
    "start_time": "2022-03-09T07:35:43.619Z"
   },
   {
    "duration": 55,
    "start_time": "2022-03-09T07:35:56.589Z"
   },
   {
    "duration": 18,
    "start_time": "2022-03-09T07:35:56.645Z"
   },
   {
    "duration": 39,
    "start_time": "2022-03-09T07:35:56.665Z"
   },
   {
    "duration": 10,
    "start_time": "2022-03-09T07:35:56.706Z"
   },
   {
    "duration": 58,
    "start_time": "2022-03-09T07:35:56.718Z"
   },
   {
    "duration": 35,
    "start_time": "2022-03-09T07:35:56.777Z"
   },
   {
    "duration": 16,
    "start_time": "2022-03-09T07:35:56.814Z"
   },
   {
    "duration": 5,
    "start_time": "2022-03-09T08:00:43.756Z"
   },
   {
    "duration": 1428,
    "start_time": "2022-03-09T08:12:01.438Z"
   },
   {
    "duration": 149,
    "start_time": "2022-03-09T08:12:24.028Z"
   },
   {
    "duration": 162,
    "start_time": "2022-03-09T08:12:38.873Z"
   },
   {
    "duration": 157,
    "start_time": "2022-03-09T08:13:22.396Z"
   },
   {
    "duration": 161,
    "start_time": "2022-03-09T08:14:13.402Z"
   },
   {
    "duration": 66,
    "start_time": "2022-03-09T08:14:48.413Z"
   },
   {
    "duration": 19,
    "start_time": "2022-03-09T08:14:48.481Z"
   },
   {
    "duration": 25,
    "start_time": "2022-03-09T08:14:48.502Z"
   },
   {
    "duration": 12,
    "start_time": "2022-03-09T08:14:48.529Z"
   },
   {
    "duration": 83,
    "start_time": "2022-03-09T08:14:48.543Z"
   },
   {
    "duration": 14,
    "start_time": "2022-03-09T08:14:48.628Z"
   },
   {
    "duration": 25,
    "start_time": "2022-03-09T08:14:48.643Z"
   },
   {
    "duration": 201,
    "start_time": "2022-03-09T08:14:48.670Z"
   },
   {
    "duration": 1230,
    "start_time": "2022-03-09T08:15:41.094Z"
   },
   {
    "duration": 179,
    "start_time": "2022-03-09T08:23:47.339Z"
   },
   {
    "duration": 19,
    "start_time": "2022-03-09T08:25:32.427Z"
   },
   {
    "duration": 19,
    "start_time": "2022-03-09T08:25:57.332Z"
   },
   {
    "duration": 331,
    "start_time": "2022-03-09T09:38:33.598Z"
   },
   {
    "duration": 293,
    "start_time": "2022-03-09T09:38:43.072Z"
   },
   {
    "duration": 16,
    "start_time": "2022-03-09T09:38:59.531Z"
   },
   {
    "duration": 15,
    "start_time": "2022-03-09T09:39:02.904Z"
   },
   {
    "duration": 25,
    "start_time": "2022-03-09T09:39:24.812Z"
   },
   {
    "duration": 11,
    "start_time": "2022-03-09T09:42:07.475Z"
   },
   {
    "duration": 93,
    "start_time": "2022-03-09T09:42:24.726Z"
   },
   {
    "duration": 761,
    "start_time": "2022-03-09T09:42:34.730Z"
   },
   {
    "duration": 769,
    "start_time": "2022-03-09T09:42:47.259Z"
   },
   {
    "duration": 814,
    "start_time": "2022-03-09T09:43:02.898Z"
   },
   {
    "duration": 295,
    "start_time": "2022-03-09T09:43:25.199Z"
   },
   {
    "duration": 35,
    "start_time": "2022-03-09T09:43:38.341Z"
   },
   {
    "duration": 11,
    "start_time": "2022-03-09T09:48:54.516Z"
   },
   {
    "duration": 11,
    "start_time": "2022-03-09T09:49:05.247Z"
   },
   {
    "duration": 23,
    "start_time": "2022-03-09T09:49:26.359Z"
   },
   {
    "duration": 12,
    "start_time": "2022-03-09T09:51:52.412Z"
   },
   {
    "duration": 12,
    "start_time": "2022-03-09T09:52:02.595Z"
   },
   {
    "duration": 105,
    "start_time": "2022-03-09T09:52:51.862Z"
   },
   {
    "duration": 308,
    "start_time": "2022-03-09T09:53:01.865Z"
   },
   {
    "duration": 13,
    "start_time": "2022-03-09T09:54:14.933Z"
   },
   {
    "duration": 7454,
    "start_time": "2022-03-09T09:58:38.132Z"
   },
   {
    "duration": 78,
    "start_time": "2022-03-09T09:59:05.667Z"
   },
   {
    "duration": 26,
    "start_time": "2022-03-09T09:59:05.747Z"
   },
   {
    "duration": 36,
    "start_time": "2022-03-09T09:59:05.775Z"
   },
   {
    "duration": 12,
    "start_time": "2022-03-09T09:59:05.812Z"
   },
   {
    "duration": 86,
    "start_time": "2022-03-09T09:59:05.825Z"
   },
   {
    "duration": 16,
    "start_time": "2022-03-09T09:59:05.913Z"
   },
   {
    "duration": 18,
    "start_time": "2022-03-09T09:59:05.930Z"
   },
   {
    "duration": 50,
    "start_time": "2022-03-09T09:59:05.951Z"
   },
   {
    "duration": 11,
    "start_time": "2022-03-09T09:59:06.003Z"
   },
   {
    "duration": 33,
    "start_time": "2022-03-09T10:00:09.487Z"
   },
   {
    "duration": 119,
    "start_time": "2022-03-09T10:03:33.655Z"
   },
   {
    "duration": 18,
    "start_time": "2022-03-09T10:03:40.220Z"
   },
   {
    "duration": 17,
    "start_time": "2022-03-09T10:04:35.617Z"
   },
   {
    "duration": 28,
    "start_time": "2022-03-09T10:14:33.587Z"
   },
   {
    "duration": 40,
    "start_time": "2022-03-09T10:15:53.935Z"
   },
   {
    "duration": 60,
    "start_time": "2022-03-09T10:17:04.751Z"
   },
   {
    "duration": 57,
    "start_time": "2022-03-09T10:24:01.931Z"
   },
   {
    "duration": 137,
    "start_time": "2022-03-09T10:26:10.605Z"
   },
   {
    "duration": 69,
    "start_time": "2022-03-09T10:26:25.196Z"
   },
   {
    "duration": 58,
    "start_time": "2022-03-09T10:26:47.064Z"
   },
   {
    "duration": 61,
    "start_time": "2022-03-09T10:29:04.203Z"
   },
   {
    "duration": 58,
    "start_time": "2022-03-09T10:29:58.009Z"
   },
   {
    "duration": 60,
    "start_time": "2022-03-09T10:32:55.491Z"
   },
   {
    "duration": 7545,
    "start_time": "2022-03-09T10:43:37.987Z"
   },
   {
    "duration": 56,
    "start_time": "2022-03-09T10:44:08.219Z"
   },
   {
    "duration": 17,
    "start_time": "2022-03-09T10:44:08.277Z"
   },
   {
    "duration": 25,
    "start_time": "2022-03-09T10:44:08.296Z"
   },
   {
    "duration": 11,
    "start_time": "2022-03-09T10:44:08.323Z"
   },
   {
    "duration": 88,
    "start_time": "2022-03-09T10:44:08.336Z"
   },
   {
    "duration": 15,
    "start_time": "2022-03-09T10:44:08.425Z"
   },
   {
    "duration": 20,
    "start_time": "2022-03-09T10:44:08.442Z"
   },
   {
    "duration": 48,
    "start_time": "2022-03-09T10:44:08.464Z"
   },
   {
    "duration": 90,
    "start_time": "2022-03-09T10:44:08.514Z"
   },
   {
    "duration": 113,
    "start_time": "2022-03-09T10:57:53.322Z"
   },
   {
    "duration": 662,
    "start_time": "2022-03-09T15:12:32.045Z"
   },
   {
    "duration": 21,
    "start_time": "2022-03-09T15:21:47.294Z"
   },
   {
    "duration": 19,
    "start_time": "2022-03-09T15:27:57.697Z"
   },
   {
    "duration": 62,
    "start_time": "2022-03-09T15:28:05.579Z"
   },
   {
    "duration": 18,
    "start_time": "2022-03-09T15:28:05.643Z"
   },
   {
    "duration": 28,
    "start_time": "2022-03-09T15:28:05.663Z"
   },
   {
    "duration": 11,
    "start_time": "2022-03-09T15:28:05.693Z"
   },
   {
    "duration": 100,
    "start_time": "2022-03-09T15:28:05.706Z"
   },
   {
    "duration": 37,
    "start_time": "2022-03-09T15:28:05.808Z"
   },
   {
    "duration": 20,
    "start_time": "2022-03-09T15:28:05.847Z"
   },
   {
    "duration": 20,
    "start_time": "2022-03-09T15:28:05.869Z"
   },
   {
    "duration": 99,
    "start_time": "2022-03-09T15:28:05.891Z"
   },
   {
    "duration": 62,
    "start_time": "2022-03-09T16:02:55.436Z"
   },
   {
    "duration": 54,
    "start_time": "2022-03-09T16:09:56.757Z"
   },
   {
    "duration": 55,
    "start_time": "2022-03-09T16:10:23.085Z"
   },
   {
    "duration": 64,
    "start_time": "2022-03-09T16:10:45.660Z"
   },
   {
    "duration": 62,
    "start_time": "2022-03-09T16:10:54.414Z"
   },
   {
    "duration": 49,
    "start_time": "2022-03-09T16:11:12.138Z"
   },
   {
    "duration": 53,
    "start_time": "2022-03-09T16:11:26.730Z"
   },
   {
    "duration": 69,
    "start_time": "2022-03-09T16:13:02.845Z"
   },
   {
    "duration": 52,
    "start_time": "2022-03-09T16:14:43.797Z"
   },
   {
    "duration": 56,
    "start_time": "2022-03-09T16:15:18.751Z"
   },
   {
    "duration": 50,
    "start_time": "2022-03-09T16:15:30.432Z"
   },
   {
    "duration": 51,
    "start_time": "2022-03-09T16:15:35.276Z"
   },
   {
    "duration": 281,
    "start_time": "2022-03-09T16:16:57.235Z"
   },
   {
    "duration": 48,
    "start_time": "2022-03-09T16:17:04.936Z"
   },
   {
    "duration": 67,
    "start_time": "2022-03-09T16:17:34.450Z"
   },
   {
    "duration": 105,
    "start_time": "2022-03-09T16:43:34.459Z"
   },
   {
    "duration": 15,
    "start_time": "2022-03-09T16:53:12.332Z"
   },
   {
    "duration": 9,
    "start_time": "2022-03-09T16:56:23.830Z"
   },
   {
    "duration": 21,
    "start_time": "2022-03-09T17:07:16.034Z"
   },
   {
    "duration": 58,
    "start_time": "2022-03-09T17:20:04.571Z"
   },
   {
    "duration": 205,
    "start_time": "2022-03-09T17:28:10.818Z"
   },
   {
    "duration": 60,
    "start_time": "2022-03-09T17:28:37.253Z"
   },
   {
    "duration": 14,
    "start_time": "2022-03-09T17:28:37.314Z"
   },
   {
    "duration": 8,
    "start_time": "2022-03-09T17:28:37.330Z"
   },
   {
    "duration": 20,
    "start_time": "2022-03-09T17:28:37.340Z"
   },
   {
    "duration": 16,
    "start_time": "2022-03-09T17:28:37.361Z"
   },
   {
    "duration": 98,
    "start_time": "2022-03-09T17:28:37.379Z"
   },
   {
    "duration": 16,
    "start_time": "2022-03-09T17:28:37.479Z"
   },
   {
    "duration": 49,
    "start_time": "2022-03-09T17:28:37.497Z"
   },
   {
    "duration": 22,
    "start_time": "2022-03-09T17:28:37.548Z"
   },
   {
    "duration": 93,
    "start_time": "2022-03-09T17:28:37.571Z"
   },
   {
    "duration": 654,
    "start_time": "2022-03-10T08:27:02.883Z"
   },
   {
    "duration": 14,
    "start_time": "2022-03-10T08:27:03.538Z"
   },
   {
    "duration": 10,
    "start_time": "2022-03-10T08:27:03.554Z"
   },
   {
    "duration": 36,
    "start_time": "2022-03-10T08:27:03.566Z"
   },
   {
    "duration": 17,
    "start_time": "2022-03-10T08:27:03.603Z"
   },
   {
    "duration": 96,
    "start_time": "2022-03-10T08:27:03.622Z"
   },
   {
    "duration": 14,
    "start_time": "2022-03-10T08:27:03.720Z"
   },
   {
    "duration": 14,
    "start_time": "2022-03-10T08:27:03.736Z"
   },
   {
    "duration": 19,
    "start_time": "2022-03-10T08:27:03.751Z"
   },
   {
    "duration": 438,
    "start_time": "2022-03-10T08:27:03.771Z"
   },
   {
    "duration": 96,
    "start_time": "2022-03-10T08:27:53.724Z"
   },
   {
    "duration": 15,
    "start_time": "2022-03-10T08:28:19.883Z"
   },
   {
    "duration": 21,
    "start_time": "2022-03-10T08:29:21.248Z"
   },
   {
    "duration": 14,
    "start_time": "2022-03-10T08:29:37.885Z"
   },
   {
    "duration": 21,
    "start_time": "2022-03-10T08:33:12.109Z"
   },
   {
    "duration": 7446,
    "start_time": "2022-03-10T08:47:53.539Z"
   },
   {
    "duration": 34,
    "start_time": "2022-03-10T08:55:56.335Z"
   },
   {
    "duration": 63,
    "start_time": "2022-03-10T08:56:03.508Z"
   },
   {
    "duration": 12,
    "start_time": "2022-03-10T08:56:03.573Z"
   },
   {
    "duration": 8,
    "start_time": "2022-03-10T08:56:03.587Z"
   },
   {
    "duration": 18,
    "start_time": "2022-03-10T08:56:03.624Z"
   },
   {
    "duration": 16,
    "start_time": "2022-03-10T08:56:03.644Z"
   },
   {
    "duration": 32,
    "start_time": "2022-03-10T08:56:03.662Z"
   },
   {
    "duration": 37,
    "start_time": "2022-03-10T08:56:03.696Z"
   },
   {
    "duration": 14,
    "start_time": "2022-03-10T08:56:03.734Z"
   },
   {
    "duration": 21,
    "start_time": "2022-03-10T08:56:03.749Z"
   },
   {
    "duration": 45,
    "start_time": "2022-03-10T08:56:03.771Z"
   },
   {
    "duration": 63,
    "start_time": "2022-03-10T08:56:03.818Z"
   },
   {
    "duration": 7627,
    "start_time": "2022-03-10T08:57:53.559Z"
   },
   {
    "duration": 43,
    "start_time": "2022-03-10T08:59:08.955Z"
   },
   {
    "duration": 62,
    "start_time": "2022-03-10T08:59:18.078Z"
   },
   {
    "duration": 11,
    "start_time": "2022-03-10T08:59:18.142Z"
   },
   {
    "duration": 7,
    "start_time": "2022-03-10T08:59:18.155Z"
   },
   {
    "duration": 39,
    "start_time": "2022-03-10T08:59:18.163Z"
   },
   {
    "duration": 22,
    "start_time": "2022-03-10T08:59:18.204Z"
   },
   {
    "duration": 36,
    "start_time": "2022-03-10T08:59:18.228Z"
   },
   {
    "duration": 59,
    "start_time": "2022-03-10T08:59:18.266Z"
   },
   {
    "duration": 13,
    "start_time": "2022-03-10T08:59:18.326Z"
   },
   {
    "duration": 17,
    "start_time": "2022-03-10T08:59:18.341Z"
   },
   {
    "duration": 52,
    "start_time": "2022-03-10T08:59:18.359Z"
   },
   {
    "duration": 62,
    "start_time": "2022-03-10T08:59:18.413Z"
   },
   {
    "duration": 42,
    "start_time": "2022-03-10T08:59:39.434Z"
   },
   {
    "duration": 11,
    "start_time": "2022-03-10T09:00:23.840Z"
   },
   {
    "duration": 21,
    "start_time": "2022-03-10T09:00:34.992Z"
   },
   {
    "duration": 54,
    "start_time": "2022-03-10T09:00:42.400Z"
   },
   {
    "duration": 12,
    "start_time": "2022-03-10T09:00:42.455Z"
   },
   {
    "duration": 7,
    "start_time": "2022-03-10T09:00:42.469Z"
   },
   {
    "duration": 26,
    "start_time": "2022-03-10T09:00:42.478Z"
   },
   {
    "duration": 16,
    "start_time": "2022-03-10T09:00:42.520Z"
   },
   {
    "duration": 21,
    "start_time": "2022-03-10T09:00:42.538Z"
   },
   {
    "duration": 54,
    "start_time": "2022-03-10T09:00:42.561Z"
   },
   {
    "duration": 15,
    "start_time": "2022-03-10T09:00:42.616Z"
   },
   {
    "duration": 18,
    "start_time": "2022-03-10T09:00:42.639Z"
   },
   {
    "duration": 24,
    "start_time": "2022-03-10T09:00:42.659Z"
   },
   {
    "duration": 65,
    "start_time": "2022-03-10T09:00:42.701Z"
   },
   {
    "duration": 36,
    "start_time": "2022-03-10T09:03:05.606Z"
   },
   {
    "duration": 33,
    "start_time": "2022-03-10T09:03:11.342Z"
   },
   {
    "duration": 66,
    "start_time": "2022-03-10T09:03:20.741Z"
   },
   {
    "duration": 14,
    "start_time": "2022-03-10T09:03:20.808Z"
   },
   {
    "duration": 8,
    "start_time": "2022-03-10T09:03:20.824Z"
   },
   {
    "duration": 19,
    "start_time": "2022-03-10T09:03:20.833Z"
   },
   {
    "duration": 17,
    "start_time": "2022-03-10T09:03:20.948Z"
   },
   {
    "duration": 34,
    "start_time": "2022-03-10T09:03:20.967Z"
   },
   {
    "duration": 36,
    "start_time": "2022-03-10T09:03:21.003Z"
   },
   {
    "duration": 15,
    "start_time": "2022-03-10T09:03:21.041Z"
   },
   {
    "duration": 49,
    "start_time": "2022-03-10T09:03:21.057Z"
   },
   {
    "duration": 21,
    "start_time": "2022-03-10T09:03:21.159Z"
   },
   {
    "duration": 62,
    "start_time": "2022-03-10T09:03:21.182Z"
   },
   {
    "duration": 40,
    "start_time": "2022-03-10T09:03:36.919Z"
   },
   {
    "duration": 38,
    "start_time": "2022-03-10T09:05:40.182Z"
   },
   {
    "duration": 67,
    "start_time": "2022-03-10T09:05:46.306Z"
   },
   {
    "duration": 13,
    "start_time": "2022-03-10T09:05:46.375Z"
   },
   {
    "duration": 7,
    "start_time": "2022-03-10T09:05:46.390Z"
   },
   {
    "duration": 20,
    "start_time": "2022-03-10T09:05:46.399Z"
   },
   {
    "duration": 17,
    "start_time": "2022-03-10T09:05:46.459Z"
   },
   {
    "duration": 40,
    "start_time": "2022-03-10T09:05:46.478Z"
   },
   {
    "duration": 38,
    "start_time": "2022-03-10T09:05:46.519Z"
   },
   {
    "duration": 15,
    "start_time": "2022-03-10T09:05:46.559Z"
   },
   {
    "duration": 19,
    "start_time": "2022-03-10T09:05:46.602Z"
   },
   {
    "duration": 23,
    "start_time": "2022-03-10T09:05:46.623Z"
   },
   {
    "duration": 98,
    "start_time": "2022-03-10T09:05:46.647Z"
   },
   {
    "duration": 67,
    "start_time": "2022-03-10T09:06:29.540Z"
   },
   {
    "duration": 12,
    "start_time": "2022-03-10T09:06:29.609Z"
   },
   {
    "duration": 7,
    "start_time": "2022-03-10T09:06:29.623Z"
   },
   {
    "duration": 19,
    "start_time": "2022-03-10T09:06:29.631Z"
   },
   {
    "duration": 17,
    "start_time": "2022-03-10T09:06:29.656Z"
   },
   {
    "duration": 60,
    "start_time": "2022-03-10T09:06:29.675Z"
   },
   {
    "duration": 35,
    "start_time": "2022-03-10T09:06:29.737Z"
   },
   {
    "duration": 14,
    "start_time": "2022-03-10T09:06:29.802Z"
   },
   {
    "duration": 21,
    "start_time": "2022-03-10T09:06:29.818Z"
   },
   {
    "duration": 19,
    "start_time": "2022-03-10T09:06:29.840Z"
   },
   {
    "duration": 82,
    "start_time": "2022-03-10T09:06:29.861Z"
   },
   {
    "duration": 55,
    "start_time": "2022-03-10T09:19:54.396Z"
   },
   {
    "duration": 13,
    "start_time": "2022-03-10T09:19:54.452Z"
   },
   {
    "duration": 9,
    "start_time": "2022-03-10T09:19:54.467Z"
   },
   {
    "duration": 35,
    "start_time": "2022-03-10T09:19:54.478Z"
   },
   {
    "duration": 15,
    "start_time": "2022-03-10T09:19:54.514Z"
   },
   {
    "duration": 34,
    "start_time": "2022-03-10T09:19:54.560Z"
   },
   {
    "duration": 38,
    "start_time": "2022-03-10T09:19:54.596Z"
   },
   {
    "duration": 16,
    "start_time": "2022-03-10T09:19:54.636Z"
   },
   {
    "duration": 21,
    "start_time": "2022-03-10T09:19:54.654Z"
   },
   {
    "duration": 20,
    "start_time": "2022-03-10T09:19:54.701Z"
   },
   {
    "duration": 80,
    "start_time": "2022-03-10T09:19:54.722Z"
   },
   {
    "duration": 67,
    "start_time": "2022-03-10T09:37:12.942Z"
   },
   {
    "duration": 12,
    "start_time": "2022-03-10T09:37:13.010Z"
   },
   {
    "duration": 8,
    "start_time": "2022-03-10T09:37:13.024Z"
   },
   {
    "duration": 18,
    "start_time": "2022-03-10T09:37:13.034Z"
   },
   {
    "duration": 17,
    "start_time": "2022-03-10T09:37:13.054Z"
   },
   {
    "duration": 35,
    "start_time": "2022-03-10T09:37:13.101Z"
   },
   {
    "duration": 36,
    "start_time": "2022-03-10T09:37:13.138Z"
   },
   {
    "duration": 39,
    "start_time": "2022-03-10T09:37:13.175Z"
   },
   {
    "duration": 18,
    "start_time": "2022-03-10T09:37:13.215Z"
   },
   {
    "duration": 21,
    "start_time": "2022-03-10T09:37:13.235Z"
   },
   {
    "duration": 87,
    "start_time": "2022-03-10T09:37:13.257Z"
   },
   {
    "duration": 34,
    "start_time": "2022-03-10T09:38:26.476Z"
   },
   {
    "duration": 54,
    "start_time": "2022-03-10T09:38:37.038Z"
   },
   {
    "duration": 12,
    "start_time": "2022-03-10T09:38:37.094Z"
   },
   {
    "duration": 8,
    "start_time": "2022-03-10T09:38:37.108Z"
   },
   {
    "duration": 17,
    "start_time": "2022-03-10T09:38:37.117Z"
   },
   {
    "duration": 15,
    "start_time": "2022-03-10T09:38:37.136Z"
   },
   {
    "duration": 60,
    "start_time": "2022-03-10T09:38:37.152Z"
   },
   {
    "duration": 36,
    "start_time": "2022-03-10T09:38:37.214Z"
   },
   {
    "duration": 13,
    "start_time": "2022-03-10T09:38:37.252Z"
   },
   {
    "duration": 47,
    "start_time": "2022-03-10T09:38:37.267Z"
   },
   {
    "duration": 19,
    "start_time": "2022-03-10T09:38:37.315Z"
   },
   {
    "duration": 84,
    "start_time": "2022-03-10T09:38:37.335Z"
   },
   {
    "duration": 9130,
    "start_time": "2022-03-10T10:11:44.713Z"
   },
   {
    "duration": 7420,
    "start_time": "2022-03-10T10:12:59.840Z"
   },
   {
    "duration": 7390,
    "start_time": "2022-03-10T10:13:21.016Z"
   },
   {
    "duration": 57,
    "start_time": "2022-03-10T10:13:34.723Z"
   },
   {
    "duration": 13,
    "start_time": "2022-03-10T10:13:34.781Z"
   },
   {
    "duration": 8,
    "start_time": "2022-03-10T10:13:34.797Z"
   },
   {
    "duration": 21,
    "start_time": "2022-03-10T10:13:34.807Z"
   },
   {
    "duration": 18,
    "start_time": "2022-03-10T10:13:34.830Z"
   },
   {
    "duration": 66,
    "start_time": "2022-03-10T10:13:34.850Z"
   },
   {
    "duration": 20,
    "start_time": "2022-03-10T10:13:34.918Z"
   },
   {
    "duration": 18,
    "start_time": "2022-03-10T10:13:34.940Z"
   },
   {
    "duration": 50,
    "start_time": "2022-03-10T10:13:34.959Z"
   },
   {
    "duration": 20,
    "start_time": "2022-03-10T10:13:35.011Z"
   },
   {
    "duration": 22,
    "start_time": "2022-03-10T10:13:35.033Z"
   },
   {
    "duration": 93,
    "start_time": "2022-03-10T10:13:35.057Z"
   },
   {
    "duration": 7565,
    "start_time": "2022-03-10T10:17:16.919Z"
   },
   {
    "duration": 55,
    "start_time": "2022-03-10T10:17:28.836Z"
   },
   {
    "duration": 14,
    "start_time": "2022-03-10T10:17:28.893Z"
   },
   {
    "duration": 8,
    "start_time": "2022-03-10T10:17:28.909Z"
   },
   {
    "duration": 17,
    "start_time": "2022-03-10T10:17:28.919Z"
   },
   {
    "duration": 15,
    "start_time": "2022-03-10T10:17:28.938Z"
   },
   {
    "duration": 60,
    "start_time": "2022-03-10T10:17:28.955Z"
   },
   {
    "duration": 18,
    "start_time": "2022-03-10T10:17:29.017Z"
   },
   {
    "duration": 12,
    "start_time": "2022-03-10T10:17:29.037Z"
   },
   {
    "duration": 16,
    "start_time": "2022-03-10T10:17:29.050Z"
   },
   {
    "duration": 47,
    "start_time": "2022-03-10T10:17:29.067Z"
   },
   {
    "duration": 19,
    "start_time": "2022-03-10T10:17:29.115Z"
   },
   {
    "duration": 80,
    "start_time": "2022-03-10T10:17:29.136Z"
   },
   {
    "duration": 112,
    "start_time": "2022-03-10T10:22:35.630Z"
   },
   {
    "duration": 6,
    "start_time": "2022-03-10T10:23:09.778Z"
   },
   {
    "duration": 119,
    "start_time": "2022-03-10T10:26:51.322Z"
   },
   {
    "duration": 1899,
    "start_time": "2022-03-10T10:35:58.511Z"
   },
   {
    "duration": 5,
    "start_time": "2022-03-10T10:36:15.506Z"
   },
   {
    "duration": 4,
    "start_time": "2022-03-10T10:36:23.347Z"
   },
   {
    "duration": 6,
    "start_time": "2022-03-10T10:36:37.385Z"
   },
   {
    "duration": 6,
    "start_time": "2022-03-10T10:37:05.259Z"
   },
   {
    "duration": 286,
    "start_time": "2022-03-10T10:45:02.650Z"
   },
   {
    "duration": 56,
    "start_time": "2022-03-10T10:45:10.806Z"
   },
   {
    "duration": 17,
    "start_time": "2022-03-10T10:45:10.863Z"
   },
   {
    "duration": 21,
    "start_time": "2022-03-10T10:45:10.882Z"
   },
   {
    "duration": 19,
    "start_time": "2022-03-10T10:45:10.904Z"
   },
   {
    "duration": 16,
    "start_time": "2022-03-10T10:45:10.925Z"
   },
   {
    "duration": 60,
    "start_time": "2022-03-10T10:45:10.943Z"
   },
   {
    "duration": 22,
    "start_time": "2022-03-10T10:45:11.005Z"
   },
   {
    "duration": 19,
    "start_time": "2022-03-10T10:45:11.029Z"
   },
   {
    "duration": 8,
    "start_time": "2022-03-10T10:45:11.050Z"
   },
   {
    "duration": 43,
    "start_time": "2022-03-10T10:45:11.059Z"
   },
   {
    "duration": 295,
    "start_time": "2022-03-10T10:45:11.104Z"
   },
   {
    "duration": 209,
    "start_time": "2022-03-10T10:45:11.191Z"
   },
   {
    "duration": 203,
    "start_time": "2022-03-10T10:45:11.199Z"
   },
   {
    "duration": 200,
    "start_time": "2022-03-10T10:45:11.202Z"
   },
   {
    "duration": 198,
    "start_time": "2022-03-10T10:45:11.206Z"
   },
   {
    "duration": 17,
    "start_time": "2022-03-10T10:45:32.916Z"
   },
   {
    "duration": 16,
    "start_time": "2022-03-10T10:47:29.033Z"
   },
   {
    "duration": 7,
    "start_time": "2022-03-10T10:48:12.295Z"
   },
   {
    "duration": 5,
    "start_time": "2022-03-10T10:48:36.311Z"
   },
   {
    "duration": 17,
    "start_time": "2022-03-10T10:49:35.530Z"
   },
   {
    "duration": 16,
    "start_time": "2022-03-10T10:51:17.503Z"
   },
   {
    "duration": 66,
    "start_time": "2022-03-10T10:51:51.583Z"
   },
   {
    "duration": 13,
    "start_time": "2022-03-10T10:51:51.651Z"
   },
   {
    "duration": 8,
    "start_time": "2022-03-10T10:51:51.665Z"
   },
   {
    "duration": 40,
    "start_time": "2022-03-10T10:51:51.675Z"
   },
   {
    "duration": 18,
    "start_time": "2022-03-10T10:51:51.717Z"
   },
   {
    "duration": 34,
    "start_time": "2022-03-10T10:51:51.736Z"
   },
   {
    "duration": 40,
    "start_time": "2022-03-10T10:51:51.771Z"
   },
   {
    "duration": 13,
    "start_time": "2022-03-10T10:51:51.814Z"
   },
   {
    "duration": 8,
    "start_time": "2022-03-10T10:51:51.828Z"
   },
   {
    "duration": 6,
    "start_time": "2022-03-10T10:51:51.838Z"
   },
   {
    "duration": 16,
    "start_time": "2022-03-10T10:51:51.845Z"
   },
   {
    "duration": 52,
    "start_time": "2022-03-10T10:51:51.863Z"
   },
   {
    "duration": 19,
    "start_time": "2022-03-10T10:51:51.917Z"
   },
   {
    "duration": 1412,
    "start_time": "2022-03-10T10:51:51.938Z"
   },
   {
    "duration": 802,
    "start_time": "2022-03-10T10:51:52.550Z"
   },
   {
    "duration": 313,
    "start_time": "2022-03-10T10:58:20.314Z"
   },
   {
    "duration": 377,
    "start_time": "2022-03-10T10:59:24.818Z"
   },
   {
    "duration": 497,
    "start_time": "2022-03-10T11:01:11.493Z"
   },
   {
    "duration": 307,
    "start_time": "2022-03-10T11:04:16.854Z"
   },
   {
    "duration": 53,
    "start_time": "2022-03-10T11:04:25.089Z"
   },
   {
    "duration": 13,
    "start_time": "2022-03-10T11:04:25.144Z"
   },
   {
    "duration": 8,
    "start_time": "2022-03-10T11:04:25.158Z"
   },
   {
    "duration": 42,
    "start_time": "2022-03-10T11:04:25.168Z"
   },
   {
    "duration": 15,
    "start_time": "2022-03-10T11:04:25.211Z"
   },
   {
    "duration": 35,
    "start_time": "2022-03-10T11:04:25.227Z"
   },
   {
    "duration": 44,
    "start_time": "2022-03-10T11:04:25.264Z"
   },
   {
    "duration": 12,
    "start_time": "2022-03-10T11:04:25.310Z"
   },
   {
    "duration": 6,
    "start_time": "2022-03-10T11:04:25.324Z"
   },
   {
    "duration": 5,
    "start_time": "2022-03-10T11:04:25.332Z"
   },
   {
    "duration": 16,
    "start_time": "2022-03-10T11:04:25.339Z"
   },
   {
    "duration": 7,
    "start_time": "2022-03-10T11:04:25.357Z"
   },
   {
    "duration": 37,
    "start_time": "2022-03-10T11:04:25.366Z"
   },
   {
    "duration": 11,
    "start_time": "2022-03-10T11:04:25.404Z"
   },
   {
    "duration": 18,
    "start_time": "2022-03-10T11:04:25.416Z"
   },
   {
    "duration": 1375,
    "start_time": "2022-03-10T11:04:25.435Z"
   },
   {
    "duration": 864,
    "start_time": "2022-03-10T11:04:25.947Z"
   },
   {
    "duration": 93,
    "start_time": "2022-03-10T11:16:39.913Z"
   },
   {
    "duration": 53,
    "start_time": "2022-03-10T11:16:44.841Z"
   },
   {
    "duration": 13,
    "start_time": "2022-03-10T11:16:44.896Z"
   },
   {
    "duration": 8,
    "start_time": "2022-03-10T11:16:44.912Z"
   },
   {
    "duration": 19,
    "start_time": "2022-03-10T11:16:44.922Z"
   },
   {
    "duration": 17,
    "start_time": "2022-03-10T11:16:44.943Z"
   },
   {
    "duration": 73,
    "start_time": "2022-03-10T11:16:44.961Z"
   },
   {
    "duration": 16,
    "start_time": "2022-03-10T11:16:45.036Z"
   },
   {
    "duration": 12,
    "start_time": "2022-03-10T11:16:45.054Z"
   },
   {
    "duration": 8,
    "start_time": "2022-03-10T11:16:45.067Z"
   },
   {
    "duration": 5,
    "start_time": "2022-03-10T11:16:45.101Z"
   },
   {
    "duration": 17,
    "start_time": "2022-03-10T11:16:45.107Z"
   },
   {
    "duration": 10,
    "start_time": "2022-03-10T11:16:45.125Z"
   },
   {
    "duration": 129,
    "start_time": "2022-03-10T11:16:45.136Z"
   },
   {
    "duration": 727,
    "start_time": "2022-03-10T11:16:44.540Z"
   },
   {
    "duration": 724,
    "start_time": "2022-03-10T11:16:44.543Z"
   },
   {
    "duration": 724,
    "start_time": "2022-03-10T11:16:44.545Z"
   },
   {
    "duration": 678,
    "start_time": "2022-03-10T11:16:44.592Z"
   },
   {
    "duration": 55,
    "start_time": "2022-03-10T11:18:09.561Z"
   },
   {
    "duration": 12,
    "start_time": "2022-03-10T11:18:09.618Z"
   },
   {
    "duration": 33,
    "start_time": "2022-03-10T11:18:09.632Z"
   },
   {
    "duration": 31,
    "start_time": "2022-03-10T11:18:09.666Z"
   },
   {
    "duration": 14,
    "start_time": "2022-03-10T11:18:09.699Z"
   },
   {
    "duration": 50,
    "start_time": "2022-03-10T11:18:09.715Z"
   },
   {
    "duration": 14,
    "start_time": "2022-03-10T11:18:09.767Z"
   },
   {
    "duration": 23,
    "start_time": "2022-03-10T11:18:09.783Z"
   },
   {
    "duration": 20,
    "start_time": "2022-03-10T11:18:09.808Z"
   },
   {
    "duration": 26,
    "start_time": "2022-03-10T11:18:09.829Z"
   },
   {
    "duration": 23,
    "start_time": "2022-03-10T11:18:09.857Z"
   },
   {
    "duration": 20,
    "start_time": "2022-03-10T11:18:09.881Z"
   },
   {
    "duration": 24,
    "start_time": "2022-03-10T11:18:09.902Z"
   },
   {
    "duration": 28,
    "start_time": "2022-03-10T11:18:09.927Z"
   },
   {
    "duration": 38,
    "start_time": "2022-03-10T11:18:09.956Z"
   },
   {
    "duration": 1422,
    "start_time": "2022-03-10T11:18:09.995Z"
   },
   {
    "duration": 571,
    "start_time": "2022-03-10T11:18:10.847Z"
   },
   {
    "duration": 57,
    "start_time": "2022-03-10T11:21:22.602Z"
   },
   {
    "duration": 15,
    "start_time": "2022-03-10T11:21:22.661Z"
   },
   {
    "duration": 24,
    "start_time": "2022-03-10T11:21:22.678Z"
   },
   {
    "duration": 18,
    "start_time": "2022-03-10T11:21:22.704Z"
   },
   {
    "duration": 15,
    "start_time": "2022-03-10T11:21:22.724Z"
   },
   {
    "duration": 60,
    "start_time": "2022-03-10T11:21:22.741Z"
   },
   {
    "duration": 15,
    "start_time": "2022-03-10T11:21:22.803Z"
   },
   {
    "duration": 13,
    "start_time": "2022-03-10T11:21:22.820Z"
   },
   {
    "duration": 6,
    "start_time": "2022-03-10T11:21:22.835Z"
   },
   {
    "duration": 6,
    "start_time": "2022-03-10T11:21:22.842Z"
   },
   {
    "duration": 108,
    "start_time": "2022-03-10T11:21:22.849Z"
   },
   {
    "duration": 561,
    "start_time": "2022-03-10T11:21:22.397Z"
   },
   {
    "duration": 558,
    "start_time": "2022-03-10T11:21:22.401Z"
   },
   {
    "duration": 553,
    "start_time": "2022-03-10T11:21:22.407Z"
   },
   {
    "duration": 548,
    "start_time": "2022-03-10T11:21:22.413Z"
   },
   {
    "duration": 543,
    "start_time": "2022-03-10T11:21:22.418Z"
   },
   {
    "duration": 540,
    "start_time": "2022-03-10T11:21:22.422Z"
   },
   {
    "duration": 614,
    "start_time": "2022-03-10T14:37:18.510Z"
   },
   {
    "duration": 11,
    "start_time": "2022-03-10T14:37:19.126Z"
   },
   {
    "duration": 20,
    "start_time": "2022-03-10T14:37:19.139Z"
   },
   {
    "duration": 34,
    "start_time": "2022-03-10T14:37:19.160Z"
   },
   {
    "duration": 18,
    "start_time": "2022-03-10T14:37:19.195Z"
   },
   {
    "duration": 40,
    "start_time": "2022-03-10T14:37:19.214Z"
   },
   {
    "duration": 15,
    "start_time": "2022-03-10T14:37:19.255Z"
   },
   {
    "duration": 12,
    "start_time": "2022-03-10T14:37:19.272Z"
   },
   {
    "duration": 22,
    "start_time": "2022-03-10T14:37:19.285Z"
   },
   {
    "duration": 6,
    "start_time": "2022-03-10T14:37:19.308Z"
   },
   {
    "duration": 18,
    "start_time": "2022-03-10T14:37:19.315Z"
   },
   {
    "duration": 23,
    "start_time": "2022-03-10T14:37:19.334Z"
   },
   {
    "duration": 8,
    "start_time": "2022-03-10T14:37:19.359Z"
   },
   {
    "duration": 19,
    "start_time": "2022-03-10T14:37:19.369Z"
   },
   {
    "duration": 35,
    "start_time": "2022-03-10T14:37:19.390Z"
   },
   {
    "duration": 18,
    "start_time": "2022-03-10T14:37:19.426Z"
   },
   {
    "duration": 67,
    "start_time": "2022-03-10T14:37:19.445Z"
   },
   {
    "duration": 18,
    "start_time": "2022-03-10T15:11:59.861Z"
   },
   {
    "duration": 16,
    "start_time": "2022-03-10T15:27:35.044Z"
   },
   {
    "duration": 19,
    "start_time": "2022-03-10T15:28:00.673Z"
   },
   {
    "duration": 2,
    "start_time": "2022-03-10T15:34:52.303Z"
   },
   {
    "duration": 20,
    "start_time": "2022-03-10T15:48:28.040Z"
   },
   {
    "duration": 19,
    "start_time": "2022-03-10T15:50:22.324Z"
   },
   {
    "duration": 17,
    "start_time": "2022-03-10T15:52:16.317Z"
   },
   {
    "duration": 17,
    "start_time": "2022-03-10T15:52:26.782Z"
   },
   {
    "duration": 22,
    "start_time": "2022-03-10T15:53:10.174Z"
   },
   {
    "duration": 22,
    "start_time": "2022-03-10T15:55:13.200Z"
   },
   {
    "duration": 21,
    "start_time": "2022-03-10T15:55:31.274Z"
   },
   {
    "duration": 20,
    "start_time": "2022-03-10T15:59:32.039Z"
   },
   {
    "duration": 23,
    "start_time": "2022-03-10T16:03:12.247Z"
   },
   {
    "duration": 20,
    "start_time": "2022-03-10T16:05:49.466Z"
   },
   {
    "duration": 53,
    "start_time": "2022-03-10T16:46:42.478Z"
   },
   {
    "duration": 13,
    "start_time": "2022-03-10T16:46:42.533Z"
   },
   {
    "duration": 8,
    "start_time": "2022-03-10T16:46:42.586Z"
   },
   {
    "duration": 17,
    "start_time": "2022-03-10T16:46:42.597Z"
   },
   {
    "duration": 22,
    "start_time": "2022-03-10T16:46:42.706Z"
   },
   {
    "duration": 52,
    "start_time": "2022-03-10T16:46:42.730Z"
   },
   {
    "duration": 37,
    "start_time": "2022-03-10T16:46:42.784Z"
   },
   {
    "duration": 14,
    "start_time": "2022-03-10T16:46:42.823Z"
   },
   {
    "duration": 7,
    "start_time": "2022-03-10T16:46:42.838Z"
   },
   {
    "duration": 6,
    "start_time": "2022-03-10T16:46:42.847Z"
   },
   {
    "duration": 8,
    "start_time": "2022-03-10T16:46:42.854Z"
   },
   {
    "duration": 10,
    "start_time": "2022-03-10T16:46:42.905Z"
   },
   {
    "duration": 9,
    "start_time": "2022-03-10T16:46:42.916Z"
   },
   {
    "duration": 11,
    "start_time": "2022-03-10T16:46:42.927Z"
   },
   {
    "duration": 18,
    "start_time": "2022-03-10T16:46:42.945Z"
   },
   {
    "duration": 44,
    "start_time": "2022-03-10T16:46:42.964Z"
   },
   {
    "duration": 25,
    "start_time": "2022-03-10T16:46:43.010Z"
   },
   {
    "duration": 27,
    "start_time": "2022-03-10T16:46:43.037Z"
   },
   {
    "duration": 27,
    "start_time": "2022-03-10T16:46:43.126Z"
   },
   {
    "duration": 24,
    "start_time": "2022-03-10T16:46:43.155Z"
   },
   {
    "duration": 546,
    "start_time": "2022-03-10T16:53:19.384Z"
   },
   {
    "duration": 529,
    "start_time": "2022-03-10T16:53:19.402Z"
   },
   {
    "duration": 520,
    "start_time": "2022-03-10T16:53:19.411Z"
   },
   {
    "duration": 452,
    "start_time": "2022-03-10T16:53:19.480Z"
   },
   {
    "duration": 446,
    "start_time": "2022-03-10T16:53:19.487Z"
   },
   {
    "duration": 442,
    "start_time": "2022-03-10T16:53:19.492Z"
   },
   {
    "duration": 437,
    "start_time": "2022-03-10T16:53:19.498Z"
   },
   {
    "duration": 434,
    "start_time": "2022-03-10T16:53:19.502Z"
   },
   {
    "duration": 425,
    "start_time": "2022-03-10T16:53:19.512Z"
   },
   {
    "duration": 419,
    "start_time": "2022-03-10T16:53:19.520Z"
   },
   {
    "duration": 362,
    "start_time": "2022-03-10T16:53:19.578Z"
   },
   {
    "duration": 357,
    "start_time": "2022-03-10T16:53:19.583Z"
   },
   {
    "duration": 353,
    "start_time": "2022-03-10T16:53:19.589Z"
   },
   {
    "duration": 349,
    "start_time": "2022-03-10T16:53:19.593Z"
   },
   {
    "duration": 345,
    "start_time": "2022-03-10T16:53:19.598Z"
   },
   {
    "duration": 337,
    "start_time": "2022-03-10T16:53:19.607Z"
   },
   {
    "duration": 335,
    "start_time": "2022-03-10T16:53:19.610Z"
   },
   {
    "duration": 311,
    "start_time": "2022-03-10T16:53:19.635Z"
   },
   {
    "duration": 309,
    "start_time": "2022-03-10T16:53:19.638Z"
   },
   {
    "duration": 272,
    "start_time": "2022-03-10T16:53:19.676Z"
   },
   {
    "duration": 7425,
    "start_time": "2022-03-10T16:53:33.729Z"
   },
   {
    "duration": 83,
    "start_time": "2022-03-10T16:53:47.950Z"
   },
   {
    "duration": 18,
    "start_time": "2022-03-10T16:53:48.035Z"
   },
   {
    "duration": 9,
    "start_time": "2022-03-10T16:53:48.055Z"
   },
   {
    "duration": 43,
    "start_time": "2022-03-10T16:53:48.066Z"
   },
   {
    "duration": 22,
    "start_time": "2022-03-10T16:53:48.111Z"
   },
   {
    "duration": 51,
    "start_time": "2022-03-10T16:53:48.134Z"
   },
   {
    "duration": 21,
    "start_time": "2022-03-10T16:53:48.205Z"
   },
   {
    "duration": 21,
    "start_time": "2022-03-10T16:53:48.228Z"
   },
   {
    "duration": 6,
    "start_time": "2022-03-10T16:53:48.251Z"
   },
   {
    "duration": 8,
    "start_time": "2022-03-10T16:53:48.258Z"
   },
   {
    "duration": 42,
    "start_time": "2022-03-10T16:53:48.267Z"
   },
   {
    "duration": 11,
    "start_time": "2022-03-10T16:53:48.310Z"
   },
   {
    "duration": 10,
    "start_time": "2022-03-10T16:53:48.322Z"
   },
   {
    "duration": 12,
    "start_time": "2022-03-10T16:53:48.333Z"
   },
   {
    "duration": 20,
    "start_time": "2022-03-10T16:53:48.347Z"
   },
   {
    "duration": 37,
    "start_time": "2022-03-10T16:53:48.369Z"
   },
   {
    "duration": 21,
    "start_time": "2022-03-10T16:53:48.408Z"
   },
   {
    "duration": 20,
    "start_time": "2022-03-10T16:53:48.430Z"
   },
   {
    "duration": 17,
    "start_time": "2022-03-10T16:53:48.451Z"
   },
   {
    "duration": 45,
    "start_time": "2022-03-10T16:53:48.469Z"
   },
   {
    "duration": 8,
    "start_time": "2022-03-10T16:55:29.550Z"
   },
   {
    "duration": 33,
    "start_time": "2022-03-10T16:59:58.368Z"
   },
   {
    "duration": 7303,
    "start_time": "2022-03-10T17:01:36.131Z"
   },
   {
    "duration": 59,
    "start_time": "2022-03-10T17:01:50.954Z"
   },
   {
    "duration": 15,
    "start_time": "2022-03-10T17:01:51.015Z"
   },
   {
    "duration": 9,
    "start_time": "2022-03-10T17:01:51.032Z"
   },
   {
    "duration": 20,
    "start_time": "2022-03-10T17:01:51.043Z"
   },
   {
    "duration": 48,
    "start_time": "2022-03-10T17:01:51.065Z"
   },
   {
    "duration": 40,
    "start_time": "2022-03-10T17:01:51.115Z"
   },
   {
    "duration": 16,
    "start_time": "2022-03-10T17:01:51.157Z"
   },
   {
    "duration": 14,
    "start_time": "2022-03-10T17:01:51.205Z"
   },
   {
    "duration": 8,
    "start_time": "2022-03-10T17:01:51.220Z"
   },
   {
    "duration": 8,
    "start_time": "2022-03-10T17:01:51.229Z"
   },
   {
    "duration": 8,
    "start_time": "2022-03-10T17:01:51.238Z"
   },
   {
    "duration": 10,
    "start_time": "2022-03-10T17:01:51.248Z"
   },
   {
    "duration": 50,
    "start_time": "2022-03-10T17:01:51.260Z"
   },
   {
    "duration": 11,
    "start_time": "2022-03-10T17:01:51.312Z"
   },
   {
    "duration": 20,
    "start_time": "2022-03-10T17:01:51.325Z"
   },
   {
    "duration": 20,
    "start_time": "2022-03-10T17:01:51.347Z"
   },
   {
    "duration": 50,
    "start_time": "2022-03-10T17:01:51.369Z"
   },
   {
    "duration": 20,
    "start_time": "2022-03-10T17:01:51.420Z"
   },
   {
    "duration": 19,
    "start_time": "2022-03-10T17:01:51.442Z"
   },
   {
    "duration": 49,
    "start_time": "2022-03-10T17:01:51.462Z"
   },
   {
    "duration": 7442,
    "start_time": "2022-03-10T17:02:53.812Z"
   },
   {
    "duration": 325,
    "start_time": "2022-03-10T17:08:20.324Z"
   },
   {
    "duration": 66,
    "start_time": "2022-03-10T17:16:31.799Z"
   },
   {
    "duration": 13,
    "start_time": "2022-03-10T17:16:31.867Z"
   },
   {
    "duration": 7,
    "start_time": "2022-03-10T17:16:31.882Z"
   },
   {
    "duration": 18,
    "start_time": "2022-03-10T17:16:31.891Z"
   },
   {
    "duration": 14,
    "start_time": "2022-03-10T17:16:31.911Z"
   },
   {
    "duration": 38,
    "start_time": "2022-03-10T17:16:31.926Z"
   },
   {
    "duration": 42,
    "start_time": "2022-03-10T17:16:31.965Z"
   },
   {
    "duration": 11,
    "start_time": "2022-03-10T17:16:32.009Z"
   },
   {
    "duration": 7,
    "start_time": "2022-03-10T17:16:32.022Z"
   },
   {
    "duration": 6,
    "start_time": "2022-03-10T17:16:32.030Z"
   },
   {
    "duration": 7,
    "start_time": "2022-03-10T17:16:32.038Z"
   },
   {
    "duration": 9,
    "start_time": "2022-03-10T17:16:32.047Z"
   },
   {
    "duration": 9,
    "start_time": "2022-03-10T17:16:32.057Z"
   },
   {
    "duration": 44,
    "start_time": "2022-03-10T17:16:32.068Z"
   },
   {
    "duration": 19,
    "start_time": "2022-03-10T17:16:32.113Z"
   },
   {
    "duration": 17,
    "start_time": "2022-03-10T17:16:32.133Z"
   },
   {
    "duration": 19,
    "start_time": "2022-03-10T17:16:32.151Z"
   },
   {
    "duration": 38,
    "start_time": "2022-03-10T17:16:32.171Z"
   },
   {
    "duration": 19,
    "start_time": "2022-03-10T17:16:32.210Z"
   },
   {
    "duration": 18,
    "start_time": "2022-03-10T17:16:32.230Z"
   },
   {
    "duration": 14,
    "start_time": "2022-03-19T15:49:52.608Z"
   },
   {
    "duration": 4,
    "start_time": "2022-03-19T15:50:10.635Z"
   },
   {
    "duration": 70,
    "start_time": "2022-03-20T11:25:21.254Z"
   },
   {
    "duration": 64,
    "start_time": "2022-03-20T11:30:09.944Z"
   },
   {
    "duration": 477,
    "start_time": "2022-03-20T11:34:52.125Z"
   },
   {
    "duration": 5,
    "start_time": "2022-03-20T11:34:52.604Z"
   },
   {
    "duration": 0,
    "start_time": "2022-03-20T11:34:52.612Z"
   },
   {
    "duration": 0,
    "start_time": "2022-03-20T11:34:52.613Z"
   },
   {
    "duration": 0,
    "start_time": "2022-03-20T11:34:52.614Z"
   },
   {
    "duration": 0,
    "start_time": "2022-03-20T11:34:52.616Z"
   },
   {
    "duration": 0,
    "start_time": "2022-03-20T11:34:52.617Z"
   },
   {
    "duration": 0,
    "start_time": "2022-03-20T11:34:52.618Z"
   },
   {
    "duration": 0,
    "start_time": "2022-03-20T11:34:52.619Z"
   },
   {
    "duration": 0,
    "start_time": "2022-03-20T11:34:52.621Z"
   },
   {
    "duration": 0,
    "start_time": "2022-03-20T11:34:52.622Z"
   },
   {
    "duration": 0,
    "start_time": "2022-03-20T11:34:52.623Z"
   },
   {
    "duration": 0,
    "start_time": "2022-03-20T11:34:52.624Z"
   },
   {
    "duration": 0,
    "start_time": "2022-03-20T11:34:52.626Z"
   },
   {
    "duration": 0,
    "start_time": "2022-03-20T11:34:52.627Z"
   },
   {
    "duration": 0,
    "start_time": "2022-03-20T11:34:52.628Z"
   },
   {
    "duration": 0,
    "start_time": "2022-03-20T11:34:52.629Z"
   },
   {
    "duration": 0,
    "start_time": "2022-03-20T11:34:52.630Z"
   },
   {
    "duration": 0,
    "start_time": "2022-03-20T11:34:52.631Z"
   },
   {
    "duration": 0,
    "start_time": "2022-03-20T11:34:52.632Z"
   },
   {
    "duration": 67,
    "start_time": "2022-03-20T11:35:17.971Z"
   },
   {
    "duration": 4,
    "start_time": "2022-03-20T11:35:18.040Z"
   },
   {
    "duration": 0,
    "start_time": "2022-03-20T11:35:18.046Z"
   },
   {
    "duration": 0,
    "start_time": "2022-03-20T11:35:18.048Z"
   },
   {
    "duration": 0,
    "start_time": "2022-03-20T11:35:18.049Z"
   },
   {
    "duration": 0,
    "start_time": "2022-03-20T11:35:18.050Z"
   },
   {
    "duration": 0,
    "start_time": "2022-03-20T11:35:18.051Z"
   },
   {
    "duration": 0,
    "start_time": "2022-03-20T11:35:18.053Z"
   },
   {
    "duration": 0,
    "start_time": "2022-03-20T11:35:18.054Z"
   },
   {
    "duration": 0,
    "start_time": "2022-03-20T11:35:18.054Z"
   },
   {
    "duration": 0,
    "start_time": "2022-03-20T11:35:18.055Z"
   },
   {
    "duration": 0,
    "start_time": "2022-03-20T11:35:18.057Z"
   },
   {
    "duration": 63,
    "start_time": "2022-03-20T11:35:18.060Z"
   },
   {
    "duration": 21,
    "start_time": "2022-03-20T11:35:18.125Z"
   },
   {
    "duration": 77,
    "start_time": "2022-03-20T11:35:18.149Z"
   },
   {
    "duration": 23,
    "start_time": "2022-03-20T11:35:18.228Z"
   },
   {
    "duration": 57,
    "start_time": "2022-03-20T11:35:18.252Z"
   },
   {
    "duration": 22,
    "start_time": "2022-03-20T11:35:18.311Z"
   },
   {
    "duration": 21,
    "start_time": "2022-03-20T11:35:18.334Z"
   },
   {
    "duration": 21,
    "start_time": "2022-03-20T11:35:18.357Z"
   },
   {
    "duration": 79,
    "start_time": "2022-03-20T11:35:48.679Z"
   },
   {
    "duration": 1576,
    "start_time": "2022-03-20T11:35:48.760Z"
   },
   {
    "duration": 1,
    "start_time": "2022-03-20T11:35:50.339Z"
   },
   {
    "duration": 0,
    "start_time": "2022-03-20T11:35:50.341Z"
   },
   {
    "duration": 0,
    "start_time": "2022-03-20T11:35:50.342Z"
   },
   {
    "duration": 0,
    "start_time": "2022-03-20T11:35:50.344Z"
   },
   {
    "duration": 0,
    "start_time": "2022-03-20T11:35:50.345Z"
   },
   {
    "duration": 0,
    "start_time": "2022-03-20T11:35:50.347Z"
   },
   {
    "duration": 0,
    "start_time": "2022-03-20T11:35:50.348Z"
   },
   {
    "duration": 0,
    "start_time": "2022-03-20T11:35:50.350Z"
   },
   {
    "duration": 0,
    "start_time": "2022-03-20T11:35:50.351Z"
   },
   {
    "duration": 0,
    "start_time": "2022-03-20T11:35:50.353Z"
   },
   {
    "duration": 0,
    "start_time": "2022-03-20T11:35:50.354Z"
   },
   {
    "duration": 0,
    "start_time": "2022-03-20T11:35:50.355Z"
   },
   {
    "duration": 0,
    "start_time": "2022-03-20T11:35:50.357Z"
   },
   {
    "duration": 0,
    "start_time": "2022-03-20T11:35:50.359Z"
   },
   {
    "duration": 0,
    "start_time": "2022-03-20T11:35:50.360Z"
   },
   {
    "duration": 0,
    "start_time": "2022-03-20T11:35:50.361Z"
   },
   {
    "duration": 0,
    "start_time": "2022-03-20T11:35:50.363Z"
   },
   {
    "duration": 0,
    "start_time": "2022-03-20T11:35:50.364Z"
   },
   {
    "duration": 72,
    "start_time": "2022-03-20T11:40:39.486Z"
   },
   {
    "duration": 1254,
    "start_time": "2022-03-20T11:40:39.560Z"
   },
   {
    "duration": 0,
    "start_time": "2022-03-20T11:40:40.816Z"
   },
   {
    "duration": 0,
    "start_time": "2022-03-20T11:40:40.818Z"
   },
   {
    "duration": 0,
    "start_time": "2022-03-20T11:40:40.819Z"
   },
   {
    "duration": 0,
    "start_time": "2022-03-20T11:40:40.821Z"
   },
   {
    "duration": 0,
    "start_time": "2022-03-20T11:40:40.822Z"
   },
   {
    "duration": 0,
    "start_time": "2022-03-20T11:40:40.824Z"
   },
   {
    "duration": 0,
    "start_time": "2022-03-20T11:40:40.826Z"
   },
   {
    "duration": 0,
    "start_time": "2022-03-20T11:40:40.827Z"
   },
   {
    "duration": 0,
    "start_time": "2022-03-20T11:40:40.828Z"
   },
   {
    "duration": 0,
    "start_time": "2022-03-20T11:40:40.830Z"
   },
   {
    "duration": 0,
    "start_time": "2022-03-20T11:40:40.832Z"
   },
   {
    "duration": 0,
    "start_time": "2022-03-20T11:40:40.834Z"
   },
   {
    "duration": 0,
    "start_time": "2022-03-20T11:40:40.835Z"
   },
   {
    "duration": 0,
    "start_time": "2022-03-20T11:40:40.836Z"
   },
   {
    "duration": 0,
    "start_time": "2022-03-20T11:40:40.837Z"
   },
   {
    "duration": 0,
    "start_time": "2022-03-20T11:40:40.838Z"
   },
   {
    "duration": 0,
    "start_time": "2022-03-20T11:40:40.839Z"
   },
   {
    "duration": 0,
    "start_time": "2022-03-20T11:40:40.840Z"
   },
   {
    "duration": 7,
    "start_time": "2022-03-20T11:42:48.074Z"
   },
   {
    "duration": 72,
    "start_time": "2022-03-20T11:42:53.516Z"
   },
   {
    "duration": 19,
    "start_time": "2022-03-20T11:42:53.591Z"
   },
   {
    "duration": 1,
    "start_time": "2022-03-20T11:42:53.612Z"
   },
   {
    "duration": 0,
    "start_time": "2022-03-20T11:42:53.614Z"
   },
   {
    "duration": 0,
    "start_time": "2022-03-20T11:42:53.616Z"
   },
   {
    "duration": 0,
    "start_time": "2022-03-20T11:42:53.617Z"
   },
   {
    "duration": 0,
    "start_time": "2022-03-20T11:42:53.618Z"
   },
   {
    "duration": 0,
    "start_time": "2022-03-20T11:42:53.620Z"
   },
   {
    "duration": 0,
    "start_time": "2022-03-20T11:42:53.620Z"
   },
   {
    "duration": 0,
    "start_time": "2022-03-20T11:42:53.622Z"
   },
   {
    "duration": 0,
    "start_time": "2022-03-20T11:42:53.623Z"
   },
   {
    "duration": 0,
    "start_time": "2022-03-20T11:42:53.625Z"
   },
   {
    "duration": 0,
    "start_time": "2022-03-20T11:42:53.626Z"
   },
   {
    "duration": 0,
    "start_time": "2022-03-20T11:42:53.627Z"
   },
   {
    "duration": 0,
    "start_time": "2022-03-20T11:42:53.629Z"
   },
   {
    "duration": 82,
    "start_time": "2022-03-20T11:42:53.632Z"
   },
   {
    "duration": 24,
    "start_time": "2022-03-20T11:42:53.715Z"
   },
   {
    "duration": 20,
    "start_time": "2022-03-20T11:42:53.741Z"
   },
   {
    "duration": 54,
    "start_time": "2022-03-20T11:42:53.763Z"
   },
   {
    "duration": 0,
    "start_time": "2022-03-20T11:42:53.818Z"
   },
   {
    "duration": 12,
    "start_time": "2022-03-20T11:43:08.161Z"
   },
   {
    "duration": 1328,
    "start_time": "2022-03-20T11:45:45.802Z"
   },
   {
    "duration": 4,
    "start_time": "2022-03-20T11:48:06.209Z"
   },
   {
    "duration": 71,
    "start_time": "2022-03-20T11:48:20.762Z"
   },
   {
    "duration": 4,
    "start_time": "2022-03-20T11:49:13.123Z"
   },
   {
    "duration": 13,
    "start_time": "2022-03-20T11:50:50.021Z"
   },
   {
    "duration": 14,
    "start_time": "2022-03-20T11:51:08.222Z"
   },
   {
    "duration": 74,
    "start_time": "2022-03-20T11:55:20.783Z"
   },
   {
    "duration": 24,
    "start_time": "2022-03-20T11:56:22.424Z"
   },
   {
    "duration": 24,
    "start_time": "2022-03-20T11:56:57.254Z"
   },
   {
    "duration": 18,
    "start_time": "2022-03-20T11:57:42.094Z"
   },
   {
    "duration": 26,
    "start_time": "2022-03-20T11:59:04.170Z"
   },
   {
    "duration": 58,
    "start_time": "2022-03-20T11:59:04.198Z"
   },
   {
    "duration": 59,
    "start_time": "2022-03-20T11:59:04.257Z"
   },
   {
    "duration": 31,
    "start_time": "2022-03-20T11:59:04.318Z"
   },
   {
    "duration": 48,
    "start_time": "2022-03-20T11:59:04.351Z"
   },
   {
    "duration": 20,
    "start_time": "2022-03-20T11:59:04.401Z"
   },
   {
    "duration": 62,
    "start_time": "2022-03-20T11:59:49.171Z"
   },
   {
    "duration": 68,
    "start_time": "2022-03-20T12:00:12.002Z"
   },
   {
    "duration": 13,
    "start_time": "2022-03-20T12:00:12.072Z"
   },
   {
    "duration": 30,
    "start_time": "2022-03-20T12:00:12.087Z"
   },
   {
    "duration": 28,
    "start_time": "2022-03-20T12:00:12.119Z"
   },
   {
    "duration": 18,
    "start_time": "2022-03-20T12:00:12.149Z"
   },
   {
    "duration": 79,
    "start_time": "2022-03-20T12:00:12.169Z"
   },
   {
    "duration": 19,
    "start_time": "2022-03-20T12:00:12.250Z"
   },
   {
    "duration": 48,
    "start_time": "2022-03-20T12:00:12.271Z"
   },
   {
    "duration": 7,
    "start_time": "2022-03-20T12:00:12.321Z"
   },
   {
    "duration": 6,
    "start_time": "2022-03-20T12:00:12.331Z"
   },
   {
    "duration": 8,
    "start_time": "2022-03-20T12:00:12.338Z"
   },
   {
    "duration": 12,
    "start_time": "2022-03-20T12:00:12.347Z"
   },
   {
    "duration": 53,
    "start_time": "2022-03-20T12:00:12.361Z"
   },
   {
    "duration": 12,
    "start_time": "2022-03-20T12:00:12.416Z"
   },
   {
    "duration": 22,
    "start_time": "2022-03-20T12:00:12.430Z"
   },
   {
    "duration": 19,
    "start_time": "2022-03-20T12:00:12.453Z"
   },
   {
    "duration": 55,
    "start_time": "2022-03-20T12:00:12.474Z"
   },
   {
    "duration": 19,
    "start_time": "2022-03-20T12:00:12.531Z"
   },
   {
    "duration": 20,
    "start_time": "2022-03-20T12:00:12.552Z"
   },
   {
    "duration": 54,
    "start_time": "2022-03-20T12:00:12.574Z"
   },
   {
    "duration": 8,
    "start_time": "2022-03-20T12:26:37.214Z"
   },
   {
    "duration": 62,
    "start_time": "2022-03-20T12:44:28.867Z"
   },
   {
    "duration": 62,
    "start_time": "2022-03-20T12:48:23.188Z"
   },
   {
    "duration": 22,
    "start_time": "2022-03-20T12:48:55.591Z"
   },
   {
    "duration": 24,
    "start_time": "2022-03-20T12:49:23.101Z"
   },
   {
    "duration": 22,
    "start_time": "2022-03-20T12:49:37.953Z"
   },
   {
    "duration": 21,
    "start_time": "2022-03-20T12:49:48.827Z"
   },
   {
    "duration": 35,
    "start_time": "2022-03-20T12:54:52.713Z"
   },
   {
    "duration": 72,
    "start_time": "2022-03-20T12:57:11.343Z"
   },
   {
    "duration": 17,
    "start_time": "2022-03-20T12:57:11.418Z"
   },
   {
    "duration": 9,
    "start_time": "2022-03-20T12:57:11.436Z"
   },
   {
    "duration": 25,
    "start_time": "2022-03-20T12:57:11.447Z"
   },
   {
    "duration": 27,
    "start_time": "2022-03-20T12:57:11.509Z"
   },
   {
    "duration": 43,
    "start_time": "2022-03-20T12:57:11.538Z"
   },
   {
    "duration": 52,
    "start_time": "2022-03-20T12:57:11.583Z"
   },
   {
    "duration": 15,
    "start_time": "2022-03-20T12:57:11.637Z"
   },
   {
    "duration": 10,
    "start_time": "2022-03-20T12:57:11.653Z"
   },
   {
    "duration": 53,
    "start_time": "2022-03-20T12:57:11.665Z"
   },
   {
    "duration": 7,
    "start_time": "2022-03-20T12:57:11.721Z"
   },
   {
    "duration": 7,
    "start_time": "2022-03-20T12:57:11.729Z"
   },
   {
    "duration": 14,
    "start_time": "2022-03-20T12:57:11.737Z"
   },
   {
    "duration": 65,
    "start_time": "2022-03-20T12:57:11.753Z"
   },
   {
    "duration": 15,
    "start_time": "2022-03-20T12:57:11.821Z"
   },
   {
    "duration": 18,
    "start_time": "2022-03-20T12:57:11.838Z"
   },
   {
    "duration": 23,
    "start_time": "2022-03-20T12:57:11.858Z"
   },
   {
    "duration": 32,
    "start_time": "2022-03-20T12:57:11.916Z"
   },
   {
    "duration": 0,
    "start_time": "2022-03-20T12:57:11.949Z"
   },
   {
    "duration": 0,
    "start_time": "2022-03-20T12:57:11.951Z"
   },
   {
    "duration": 0,
    "start_time": "2022-03-20T12:57:11.952Z"
   },
   {
    "duration": 21,
    "start_time": "2022-03-20T12:58:37.693Z"
   },
   {
    "duration": 73,
    "start_time": "2022-03-20T13:00:11.439Z"
   },
   {
    "duration": 26,
    "start_time": "2022-03-20T13:02:28.810Z"
   },
   {
    "duration": 18,
    "start_time": "2022-03-20T13:03:17.669Z"
   },
   {
    "duration": 24,
    "start_time": "2022-03-20T13:03:55.306Z"
   },
   {
    "duration": 81,
    "start_time": "2022-03-20T13:03:59.564Z"
   },
   {
    "duration": 13,
    "start_time": "2022-03-20T13:03:59.646Z"
   },
   {
    "duration": 9,
    "start_time": "2022-03-20T13:03:59.661Z"
   },
   {
    "duration": 51,
    "start_time": "2022-03-20T13:03:59.672Z"
   },
   {
    "duration": 18,
    "start_time": "2022-03-20T13:03:59.726Z"
   },
   {
    "duration": 82,
    "start_time": "2022-03-20T13:03:59.746Z"
   },
   {
    "duration": 19,
    "start_time": "2022-03-20T13:03:59.830Z"
   },
   {
    "duration": 14,
    "start_time": "2022-03-20T13:03:59.850Z"
   },
   {
    "duration": 47,
    "start_time": "2022-03-20T13:03:59.866Z"
   },
   {
    "duration": 12,
    "start_time": "2022-03-20T13:03:59.916Z"
   },
   {
    "duration": 14,
    "start_time": "2022-03-20T13:03:59.929Z"
   },
   {
    "duration": 8,
    "start_time": "2022-03-20T13:03:59.945Z"
   },
   {
    "duration": 62,
    "start_time": "2022-03-20T13:03:59.955Z"
   },
   {
    "duration": 19,
    "start_time": "2022-03-20T13:04:00.018Z"
   },
   {
    "duration": 14,
    "start_time": "2022-03-20T13:04:00.040Z"
   },
   {
    "duration": 26,
    "start_time": "2022-03-20T13:04:00.056Z"
   },
   {
    "duration": 27,
    "start_time": "2022-03-20T13:04:00.111Z"
   },
   {
    "duration": 18,
    "start_time": "2022-03-20T13:04:00.139Z"
   },
   {
    "duration": 0,
    "start_time": "2022-03-20T13:04:00.159Z"
   },
   {
    "duration": 0,
    "start_time": "2022-03-20T13:04:00.160Z"
   },
   {
    "duration": 0,
    "start_time": "2022-03-20T13:04:00.162Z"
   },
   {
    "duration": 18,
    "start_time": "2022-03-20T13:04:46.982Z"
   },
   {
    "duration": 18,
    "start_time": "2022-03-20T13:05:30.451Z"
   },
   {
    "duration": 24,
    "start_time": "2022-03-20T13:10:00.980Z"
   },
   {
    "duration": 16,
    "start_time": "2022-03-20T13:19:14.981Z"
   },
   {
    "duration": 56,
    "start_time": "2022-03-20T13:20:50.626Z"
   },
   {
    "duration": 26,
    "start_time": "2022-03-20T13:21:24.360Z"
   },
   {
    "duration": 67,
    "start_time": "2022-03-20T13:25:28.814Z"
   },
   {
    "duration": 1110,
    "start_time": "2022-03-20T13:25:39.449Z"
   },
   {
    "duration": 1652,
    "start_time": "2022-03-20T13:26:04.052Z"
   },
   {
    "duration": 1083,
    "start_time": "2022-03-20T13:26:34.886Z"
   },
   {
    "duration": 23,
    "start_time": "2022-03-20T13:27:39.127Z"
   },
   {
    "duration": 1172,
    "start_time": "2022-03-20T13:28:29.683Z"
   },
   {
    "duration": 85,
    "start_time": "2022-03-20T13:29:45.021Z"
   },
   {
    "duration": 1129,
    "start_time": "2022-03-20T13:30:15.844Z"
   },
   {
    "duration": 28,
    "start_time": "2022-03-20T13:38:09.628Z"
   },
   {
    "duration": 8,
    "start_time": "2022-03-20T13:39:49.052Z"
   },
   {
    "duration": 28,
    "start_time": "2022-03-20T13:40:28.277Z"
   },
   {
    "duration": 10,
    "start_time": "2022-03-20T13:40:55.082Z"
   },
   {
    "duration": 18,
    "start_time": "2022-03-20T13:41:55.801Z"
   },
   {
    "duration": 9,
    "start_time": "2022-03-20T13:42:20.124Z"
   },
   {
    "duration": 22,
    "start_time": "2022-03-20T13:42:32.144Z"
   },
   {
    "duration": 18,
    "start_time": "2022-03-20T13:42:59.576Z"
   },
   {
    "duration": 8,
    "start_time": "2022-03-20T13:43:29.386Z"
   },
   {
    "duration": 23,
    "start_time": "2022-03-20T13:43:44.517Z"
   },
   {
    "duration": 23,
    "start_time": "2022-03-20T13:45:14.725Z"
   },
   {
    "duration": 77,
    "start_time": "2022-03-20T13:45:39.386Z"
   },
   {
    "duration": 13,
    "start_time": "2022-03-20T13:45:39.465Z"
   },
   {
    "duration": 9,
    "start_time": "2022-03-20T13:45:39.479Z"
   },
   {
    "duration": 35,
    "start_time": "2022-03-20T13:45:39.509Z"
   },
   {
    "duration": 18,
    "start_time": "2022-03-20T13:45:39.545Z"
   },
   {
    "duration": 86,
    "start_time": "2022-03-20T13:45:39.564Z"
   },
   {
    "duration": 19,
    "start_time": "2022-03-20T13:45:39.652Z"
   },
   {
    "duration": 57,
    "start_time": "2022-03-20T13:45:39.672Z"
   },
   {
    "duration": 9,
    "start_time": "2022-03-20T13:45:39.731Z"
   },
   {
    "duration": 6,
    "start_time": "2022-03-20T13:45:39.742Z"
   },
   {
    "duration": 8,
    "start_time": "2022-03-20T13:45:39.750Z"
   },
   {
    "duration": 7,
    "start_time": "2022-03-20T13:45:39.760Z"
   },
   {
    "duration": 21,
    "start_time": "2022-03-20T13:45:39.812Z"
   },
   {
    "duration": 12,
    "start_time": "2022-03-20T13:45:39.834Z"
   },
   {
    "duration": 11,
    "start_time": "2022-03-20T13:45:39.849Z"
   },
   {
    "duration": 47,
    "start_time": "2022-03-20T13:45:39.862Z"
   },
   {
    "duration": 30,
    "start_time": "2022-03-20T13:45:39.913Z"
   },
   {
    "duration": 23,
    "start_time": "2022-03-20T13:45:39.945Z"
   },
   {
    "duration": 45,
    "start_time": "2022-03-20T13:45:39.970Z"
   },
   {
    "duration": 27,
    "start_time": "2022-03-20T13:45:40.017Z"
   },
   {
    "duration": 21,
    "start_time": "2022-03-20T13:45:40.046Z"
   },
   {
    "duration": 19,
    "start_time": "2022-03-20T14:06:00.764Z"
   },
   {
    "duration": 30,
    "start_time": "2022-03-20T14:07:39.802Z"
   },
   {
    "duration": 20,
    "start_time": "2022-03-20T14:08:00.353Z"
   },
   {
    "duration": 1418,
    "start_time": "2022-03-20T14:08:37.645Z"
   },
   {
    "duration": 18,
    "start_time": "2022-03-20T14:08:58.230Z"
   },
   {
    "duration": 17,
    "start_time": "2022-03-20T14:09:15.590Z"
   },
   {
    "duration": 66,
    "start_time": "2022-03-20T14:09:50.544Z"
   },
   {
    "duration": 1375,
    "start_time": "2022-03-20T14:11:53.439Z"
   },
   {
    "duration": 1181,
    "start_time": "2022-03-20T14:12:29.274Z"
   },
   {
    "duration": 31,
    "start_time": "2022-03-20T14:13:50.321Z"
   },
   {
    "duration": 28,
    "start_time": "2022-03-20T14:14:15.274Z"
   },
   {
    "duration": 1196,
    "start_time": "2022-03-20T14:15:06.750Z"
   },
   {
    "duration": 67,
    "start_time": "2022-03-20T14:16:59.568Z"
   },
   {
    "duration": 27,
    "start_time": "2022-03-20T14:17:09.905Z"
   },
   {
    "duration": 19,
    "start_time": "2022-03-20T14:18:14.048Z"
   },
   {
    "duration": 17,
    "start_time": "2022-03-20T14:24:07.077Z"
   },
   {
    "duration": 18,
    "start_time": "2022-03-20T14:24:59.221Z"
   },
   {
    "duration": 65,
    "start_time": "2022-03-20T14:26:02.670Z"
   },
   {
    "duration": 18,
    "start_time": "2022-03-20T14:26:10.652Z"
   },
   {
    "duration": 968,
    "start_time": "2022-03-20T14:29:31.524Z"
   },
   {
    "duration": 888,
    "start_time": "2022-03-20T14:29:57.555Z"
   },
   {
    "duration": 19,
    "start_time": "2022-03-20T14:31:24.419Z"
   },
   {
    "duration": 15,
    "start_time": "2022-03-20T14:32:01.257Z"
   },
   {
    "duration": 21,
    "start_time": "2022-03-20T14:32:22.212Z"
   },
   {
    "duration": 44,
    "start_time": "2022-03-20T14:32:34.992Z"
   },
   {
    "duration": 34,
    "start_time": "2022-03-20T14:32:56.864Z"
   },
   {
    "duration": 28,
    "start_time": "2022-03-20T14:34:28.661Z"
   },
   {
    "duration": 37,
    "start_time": "2022-03-20T14:35:16.702Z"
   },
   {
    "duration": 4,
    "start_time": "2022-03-20T15:21:09.594Z"
   },
   {
    "duration": 9,
    "start_time": "2022-03-20T15:21:27.291Z"
   },
   {
    "duration": 20,
    "start_time": "2022-03-20T15:21:50.122Z"
   },
   {
    "duration": 18,
    "start_time": "2022-03-20T15:23:16.536Z"
   },
   {
    "duration": 18,
    "start_time": "2022-03-20T15:24:45.328Z"
   },
   {
    "duration": 100,
    "start_time": "2022-03-20T15:25:09.553Z"
   },
   {
    "duration": 8,
    "start_time": "2022-03-20T15:25:22.840Z"
   },
   {
    "duration": 17,
    "start_time": "2022-03-20T15:25:41.976Z"
   },
   {
    "duration": 96,
    "start_time": "2022-03-20T15:26:18.995Z"
   },
   {
    "duration": 18,
    "start_time": "2022-03-20T15:26:35.390Z"
   },
   {
    "duration": 74,
    "start_time": "2022-03-20T15:29:02.367Z"
   },
   {
    "duration": 557,
    "start_time": "2022-03-20T15:29:42.567Z"
   },
   {
    "duration": 19,
    "start_time": "2022-03-20T15:31:06.918Z"
   },
   {
    "duration": 17,
    "start_time": "2022-03-20T15:31:40.889Z"
   },
   {
    "duration": 20,
    "start_time": "2022-03-20T15:32:34.367Z"
   },
   {
    "duration": 11,
    "start_time": "2022-03-20T15:33:27.989Z"
   },
   {
    "duration": 61,
    "start_time": "2022-03-20T15:35:42.663Z"
   },
   {
    "duration": 23,
    "start_time": "2022-03-20T15:35:54.549Z"
   },
   {
    "duration": 17,
    "start_time": "2022-03-20T15:36:25.226Z"
   },
   {
    "duration": 17,
    "start_time": "2022-03-20T15:36:30.524Z"
   },
   {
    "duration": 18,
    "start_time": "2022-03-20T15:36:46.562Z"
   },
   {
    "duration": 17,
    "start_time": "2022-03-20T15:37:08.542Z"
   },
   {
    "duration": 17,
    "start_time": "2022-03-20T15:37:30.625Z"
   },
   {
    "duration": 16,
    "start_time": "2022-03-20T15:38:58.153Z"
   },
   {
    "duration": 22,
    "start_time": "2022-03-20T15:39:10.329Z"
   },
   {
    "duration": 17,
    "start_time": "2022-03-20T15:39:31.050Z"
   },
   {
    "duration": 15,
    "start_time": "2022-03-20T15:39:54.051Z"
   },
   {
    "duration": 22,
    "start_time": "2022-03-20T15:40:08.703Z"
   },
   {
    "duration": 17,
    "start_time": "2022-03-20T15:40:20.727Z"
   },
   {
    "duration": 16,
    "start_time": "2022-03-20T15:40:34.681Z"
   },
   {
    "duration": 113,
    "start_time": "2022-03-20T15:42:37.341Z"
   },
   {
    "duration": 17,
    "start_time": "2022-03-20T15:42:52.977Z"
   },
   {
    "duration": 16,
    "start_time": "2022-03-20T15:44:11.822Z"
   },
   {
    "duration": 22,
    "start_time": "2022-03-20T15:44:42.215Z"
   },
   {
    "duration": 17,
    "start_time": "2022-03-20T15:44:48.853Z"
   },
   {
    "duration": 22,
    "start_time": "2022-03-20T15:45:05.708Z"
   },
   {
    "duration": 18,
    "start_time": "2022-03-20T15:46:46.757Z"
   },
   {
    "duration": 19,
    "start_time": "2022-03-20T15:49:19.863Z"
   },
   {
    "duration": 18,
    "start_time": "2022-03-20T15:49:32.350Z"
   },
   {
    "duration": 19,
    "start_time": "2022-03-20T15:50:41.052Z"
   },
   {
    "duration": 16,
    "start_time": "2022-03-20T15:53:39.817Z"
   },
   {
    "duration": 21,
    "start_time": "2022-03-20T15:54:46.710Z"
   },
   {
    "duration": 15,
    "start_time": "2022-03-20T15:55:19.056Z"
   },
   {
    "duration": 15,
    "start_time": "2022-03-20T15:55:31.754Z"
   },
   {
    "duration": 17,
    "start_time": "2022-03-20T15:59:10.404Z"
   },
   {
    "duration": 16,
    "start_time": "2022-03-20T16:00:58.559Z"
   },
   {
    "duration": 17,
    "start_time": "2022-03-20T16:07:17.720Z"
   },
   {
    "duration": 18,
    "start_time": "2022-03-20T16:10:06.832Z"
   },
   {
    "duration": 19,
    "start_time": "2022-03-20T16:14:25.209Z"
   },
   {
    "duration": 19,
    "start_time": "2022-03-20T16:14:51.238Z"
   },
   {
    "duration": 30,
    "start_time": "2022-03-20T16:16:53.405Z"
   },
   {
    "duration": 18,
    "start_time": "2022-03-20T16:18:13.133Z"
   },
   {
    "duration": 20,
    "start_time": "2022-03-20T16:19:46.487Z"
   },
   {
    "duration": 14,
    "start_time": "2022-03-20T16:28:54.645Z"
   },
   {
    "duration": 193,
    "start_time": "2022-03-20T16:36:53.704Z"
   },
   {
    "duration": 23,
    "start_time": "2022-03-20T16:36:53.900Z"
   },
   {
    "duration": 13,
    "start_time": "2022-03-20T16:36:53.925Z"
   },
   {
    "duration": 8,
    "start_time": "2022-03-20T16:36:53.940Z"
   },
   {
    "duration": 25,
    "start_time": "2022-03-20T16:36:53.949Z"
   },
   {
    "duration": 48,
    "start_time": "2022-03-20T16:36:53.976Z"
   },
   {
    "duration": 44,
    "start_time": "2022-03-20T16:36:54.026Z"
   },
   {
    "duration": 48,
    "start_time": "2022-03-20T16:36:54.072Z"
   },
   {
    "duration": 16,
    "start_time": "2022-03-20T16:36:54.125Z"
   },
   {
    "duration": 7,
    "start_time": "2022-03-20T16:36:54.143Z"
   },
   {
    "duration": 7,
    "start_time": "2022-03-20T16:36:54.151Z"
   },
   {
    "duration": 8,
    "start_time": "2022-03-20T16:36:54.160Z"
   },
   {
    "duration": 15,
    "start_time": "2022-03-20T16:36:54.211Z"
   },
   {
    "duration": 13,
    "start_time": "2022-03-20T16:36:54.228Z"
   },
   {
    "duration": 11,
    "start_time": "2022-03-20T16:36:54.243Z"
   },
   {
    "duration": 12,
    "start_time": "2022-03-20T16:36:54.256Z"
   },
   {
    "duration": 66,
    "start_time": "2022-03-20T16:36:54.270Z"
   },
   {
    "duration": 21,
    "start_time": "2022-03-20T16:36:54.337Z"
   },
   {
    "duration": 19,
    "start_time": "2022-03-20T16:36:54.360Z"
   },
   {
    "duration": 47,
    "start_time": "2022-03-20T16:36:54.382Z"
   },
   {
    "duration": 18,
    "start_time": "2022-03-20T16:36:54.431Z"
   },
   {
    "duration": 19,
    "start_time": "2022-03-20T16:36:54.451Z"
   },
   {
    "duration": 70,
    "start_time": "2022-03-20T16:39:11.288Z"
   },
   {
    "duration": 11,
    "start_time": "2022-03-20T16:45:01.458Z"
   },
   {
    "duration": 69,
    "start_time": "2022-03-20T16:45:07.873Z"
   },
   {
    "duration": 14,
    "start_time": "2022-03-20T16:45:07.944Z"
   },
   {
    "duration": 15,
    "start_time": "2022-03-20T16:45:07.960Z"
   },
   {
    "duration": 32,
    "start_time": "2022-03-20T16:45:07.977Z"
   },
   {
    "duration": 9,
    "start_time": "2022-03-20T16:45:08.011Z"
   },
   {
    "duration": 25,
    "start_time": "2022-03-20T16:45:08.022Z"
   },
   {
    "duration": 17,
    "start_time": "2022-03-20T16:45:08.048Z"
   },
   {
    "duration": 79,
    "start_time": "2022-03-20T16:45:08.067Z"
   },
   {
    "duration": 23,
    "start_time": "2022-03-20T16:45:08.149Z"
   },
   {
    "duration": 45,
    "start_time": "2022-03-20T16:45:08.175Z"
   },
   {
    "duration": 16,
    "start_time": "2022-03-20T16:45:08.222Z"
   },
   {
    "duration": 12,
    "start_time": "2022-03-20T16:45:08.240Z"
   },
   {
    "duration": 17,
    "start_time": "2022-03-20T16:45:08.254Z"
   },
   {
    "duration": 8,
    "start_time": "2022-03-20T16:45:08.273Z"
   },
   {
    "duration": 27,
    "start_time": "2022-03-20T16:45:08.283Z"
   },
   {
    "duration": 13,
    "start_time": "2022-03-20T16:45:08.312Z"
   },
   {
    "duration": 13,
    "start_time": "2022-03-20T16:45:08.326Z"
   },
   {
    "duration": 24,
    "start_time": "2022-03-20T16:45:08.341Z"
   },
   {
    "duration": 50,
    "start_time": "2022-03-20T16:45:08.367Z"
   },
   {
    "duration": 26,
    "start_time": "2022-03-20T16:45:08.420Z"
   },
   {
    "duration": 19,
    "start_time": "2022-03-20T16:45:08.448Z"
   },
   {
    "duration": 41,
    "start_time": "2022-03-20T16:45:08.469Z"
   },
   {
    "duration": 21,
    "start_time": "2022-03-20T16:45:08.511Z"
   },
   {
    "duration": 4,
    "start_time": "2022-03-20T16:48:32.280Z"
   },
   {
    "duration": 18,
    "start_time": "2022-03-20T16:48:40.546Z"
   },
   {
    "duration": 66,
    "start_time": "2022-03-20T16:49:34.143Z"
   },
   {
    "duration": 15,
    "start_time": "2022-03-20T16:49:34.211Z"
   },
   {
    "duration": 11,
    "start_time": "2022-03-20T16:49:34.228Z"
   },
   {
    "duration": 16,
    "start_time": "2022-03-20T16:49:34.241Z"
   },
   {
    "duration": 52,
    "start_time": "2022-03-20T16:49:34.259Z"
   },
   {
    "duration": 10,
    "start_time": "2022-03-20T16:49:34.313Z"
   },
   {
    "duration": 26,
    "start_time": "2022-03-20T16:49:34.325Z"
   },
   {
    "duration": 19,
    "start_time": "2022-03-20T16:49:34.353Z"
   },
   {
    "duration": 50,
    "start_time": "2022-03-20T16:49:34.408Z"
   },
   {
    "duration": 55,
    "start_time": "2022-03-20T16:49:34.461Z"
   },
   {
    "duration": 17,
    "start_time": "2022-03-20T16:49:34.518Z"
   },
   {
    "duration": 8,
    "start_time": "2022-03-20T16:49:34.537Z"
   },
   {
    "duration": 7,
    "start_time": "2022-03-20T16:49:34.547Z"
   },
   {
    "duration": 10,
    "start_time": "2022-03-20T16:49:34.555Z"
   },
   {
    "duration": 43,
    "start_time": "2022-03-20T16:49:34.567Z"
   },
   {
    "duration": 14,
    "start_time": "2022-03-20T16:49:34.612Z"
   },
   {
    "duration": 13,
    "start_time": "2022-03-20T16:49:34.628Z"
   },
   {
    "duration": 15,
    "start_time": "2022-03-20T16:49:34.643Z"
   },
   {
    "duration": 59,
    "start_time": "2022-03-20T16:49:34.660Z"
   },
   {
    "duration": 25,
    "start_time": "2022-03-20T16:49:34.721Z"
   },
   {
    "duration": 19,
    "start_time": "2022-03-20T16:49:34.748Z"
   },
   {
    "duration": 41,
    "start_time": "2022-03-20T16:49:34.769Z"
   },
   {
    "duration": 21,
    "start_time": "2022-03-20T16:49:34.811Z"
   },
   {
    "duration": 25,
    "start_time": "2022-03-20T16:49:34.834Z"
   },
   {
    "duration": 19,
    "start_time": "2022-03-20T16:58:45.086Z"
   },
   {
    "duration": 22,
    "start_time": "2022-03-20T17:00:06.261Z"
   },
   {
    "duration": 19,
    "start_time": "2022-03-20T17:00:17.027Z"
   },
   {
    "duration": 19,
    "start_time": "2022-03-20T17:02:40.959Z"
   },
   {
    "duration": 102,
    "start_time": "2022-03-20T17:03:35.492Z"
   },
   {
    "duration": 19,
    "start_time": "2022-03-20T17:03:47.845Z"
   },
   {
    "duration": 19,
    "start_time": "2022-03-20T17:03:59.953Z"
   },
   {
    "duration": 19,
    "start_time": "2022-03-20T17:04:07.113Z"
   },
   {
    "duration": 21,
    "start_time": "2022-03-20T17:04:21.863Z"
   },
   {
    "duration": 8,
    "start_time": "2022-03-20T17:08:36.888Z"
   },
   {
    "duration": 72,
    "start_time": "2022-03-20T17:08:41.541Z"
   },
   {
    "duration": 16,
    "start_time": "2022-03-20T17:08:41.615Z"
   },
   {
    "duration": 12,
    "start_time": "2022-03-20T17:08:41.632Z"
   },
   {
    "duration": 18,
    "start_time": "2022-03-20T17:08:41.646Z"
   },
   {
    "duration": 5,
    "start_time": "2022-03-20T17:08:41.666Z"
   },
   {
    "duration": 43,
    "start_time": "2022-03-20T17:08:41.673Z"
   },
   {
    "duration": 26,
    "start_time": "2022-03-20T17:08:41.717Z"
   },
   {
    "duration": 18,
    "start_time": "2022-03-20T17:08:41.745Z"
   },
   {
    "duration": 83,
    "start_time": "2022-03-20T17:08:41.764Z"
   },
   {
    "duration": 20,
    "start_time": "2022-03-20T17:08:41.850Z"
   },
   {
    "duration": 40,
    "start_time": "2022-03-20T17:08:41.872Z"
   },
   {
    "duration": 8,
    "start_time": "2022-03-20T17:08:41.913Z"
   },
   {
    "duration": 8,
    "start_time": "2022-03-20T17:08:41.923Z"
   },
   {
    "duration": 10,
    "start_time": "2022-03-20T17:08:41.933Z"
   },
   {
    "duration": 6,
    "start_time": "2022-03-20T17:08:41.944Z"
   },
   {
    "duration": 13,
    "start_time": "2022-03-20T17:08:41.952Z"
   },
   {
    "duration": 51,
    "start_time": "2022-03-20T17:08:41.967Z"
   },
   {
    "duration": 13,
    "start_time": "2022-03-20T17:08:42.020Z"
   },
   {
    "duration": 23,
    "start_time": "2022-03-20T17:08:42.035Z"
   },
   {
    "duration": 20,
    "start_time": "2022-03-20T17:08:42.059Z"
   },
   {
    "duration": 26,
    "start_time": "2022-03-20T17:08:42.109Z"
   },
   {
    "duration": 21,
    "start_time": "2022-03-20T17:08:42.137Z"
   },
   {
    "duration": 19,
    "start_time": "2022-03-20T17:08:42.160Z"
   },
   {
    "duration": 44,
    "start_time": "2022-03-20T17:08:42.181Z"
   },
   {
    "duration": 68,
    "start_time": "2022-03-20T17:12:54.972Z"
   },
   {
    "duration": 17,
    "start_time": "2022-03-20T17:12:55.043Z"
   },
   {
    "duration": 13,
    "start_time": "2022-03-20T17:12:55.062Z"
   },
   {
    "duration": 51,
    "start_time": "2022-03-20T17:12:55.078Z"
   },
   {
    "duration": 6,
    "start_time": "2022-03-20T17:12:55.131Z"
   },
   {
    "duration": 12,
    "start_time": "2022-03-20T17:12:55.139Z"
   },
   {
    "duration": 19,
    "start_time": "2022-03-20T17:12:55.153Z"
   },
   {
    "duration": 79,
    "start_time": "2022-03-20T17:12:55.174Z"
   },
   {
    "duration": 20,
    "start_time": "2022-03-20T17:12:55.255Z"
   },
   {
    "duration": 43,
    "start_time": "2022-03-20T17:12:55.278Z"
   },
   {
    "duration": 11,
    "start_time": "2022-03-20T17:12:55.323Z"
   },
   {
    "duration": 6,
    "start_time": "2022-03-20T17:12:55.336Z"
   },
   {
    "duration": 7,
    "start_time": "2022-03-20T17:12:55.344Z"
   },
   {
    "duration": 7,
    "start_time": "2022-03-20T17:12:55.353Z"
   },
   {
    "duration": 12,
    "start_time": "2022-03-20T17:12:55.362Z"
   },
   {
    "duration": 44,
    "start_time": "2022-03-20T17:12:55.375Z"
   },
   {
    "duration": 14,
    "start_time": "2022-03-20T17:12:55.420Z"
   },
   {
    "duration": 34,
    "start_time": "2022-03-20T17:12:55.436Z"
   },
   {
    "duration": 19,
    "start_time": "2022-03-20T17:12:55.472Z"
   },
   {
    "duration": 27,
    "start_time": "2022-03-20T17:12:55.509Z"
   },
   {
    "duration": 18,
    "start_time": "2022-03-20T17:12:55.538Z"
   },
   {
    "duration": 20,
    "start_time": "2022-03-20T17:12:55.558Z"
   },
   {
    "duration": 41,
    "start_time": "2022-03-20T17:12:55.580Z"
   },
   {
    "duration": 37,
    "start_time": "2022-03-20T17:18:33.394Z"
   },
   {
    "duration": 9,
    "start_time": "2022-03-20T17:37:43.715Z"
   },
   {
    "duration": 808,
    "start_time": "2022-03-20T17:37:51.371Z"
   },
   {
    "duration": 74,
    "start_time": "2022-03-20T17:41:31.177Z"
   },
   {
    "duration": 32,
    "start_time": "2022-03-20T17:41:38.262Z"
   },
   {
    "duration": 323,
    "start_time": "2022-03-20T17:42:01.032Z"
   },
   {
    "duration": 166,
    "start_time": "2022-03-20T17:45:32.869Z"
   },
   {
    "duration": 71,
    "start_time": "2022-03-20T17:48:39.694Z"
   },
   {
    "duration": 66,
    "start_time": "2022-03-20T17:50:12.560Z"
   },
   {
    "duration": 67,
    "start_time": "2022-03-20T17:50:20.104Z"
   },
   {
    "duration": 14,
    "start_time": "2022-03-20T17:51:36.581Z"
   },
   {
    "duration": 188,
    "start_time": "2022-03-20T17:51:42.672Z"
   },
   {
    "duration": 22,
    "start_time": "2022-03-20T17:52:00.011Z"
   },
   {
    "duration": 14,
    "start_time": "2022-03-20T17:52:09.833Z"
   },
   {
    "duration": 172,
    "start_time": "2022-03-20T17:52:41.358Z"
   },
   {
    "duration": 68,
    "start_time": "2022-03-20T17:53:50.822Z"
   },
   {
    "duration": 671,
    "start_time": "2022-03-20T17:57:11.660Z"
   },
   {
    "duration": 167,
    "start_time": "2022-03-20T17:57:48.900Z"
   },
   {
    "duration": 136,
    "start_time": "2022-03-20T18:00:05.107Z"
   },
   {
    "duration": 178,
    "start_time": "2022-03-20T18:00:53.276Z"
   },
   {
    "duration": 60,
    "start_time": "2022-03-20T18:02:04.738Z"
   },
   {
    "duration": 62,
    "start_time": "2022-03-20T18:02:12.876Z"
   },
   {
    "duration": 70,
    "start_time": "2022-03-20T18:02:21.452Z"
   },
   {
    "duration": 183,
    "start_time": "2022-03-20T18:02:33.208Z"
   },
   {
    "duration": 74,
    "start_time": "2022-03-20T18:11:31.809Z"
   },
   {
    "duration": 181,
    "start_time": "2022-03-20T18:11:40.869Z"
   },
   {
    "duration": 188,
    "start_time": "2022-03-20T18:18:48.174Z"
   },
   {
    "duration": 361,
    "start_time": "2022-03-20T18:19:25.124Z"
   },
   {
    "duration": 213,
    "start_time": "2022-03-20T18:19:47.011Z"
   },
   {
    "duration": 219,
    "start_time": "2022-03-20T18:21:18.807Z"
   },
   {
    "duration": 185,
    "start_time": "2022-03-20T18:22:06.904Z"
   },
   {
    "duration": 75,
    "start_time": "2022-03-20T18:22:34.477Z"
   },
   {
    "duration": 16,
    "start_time": "2022-03-20T18:22:34.554Z"
   },
   {
    "duration": 11,
    "start_time": "2022-03-20T18:22:34.572Z"
   },
   {
    "duration": 37,
    "start_time": "2022-03-20T18:22:34.586Z"
   },
   {
    "duration": 183,
    "start_time": "2022-03-20T18:22:34.624Z"
   },
   {
    "duration": 183,
    "start_time": "2022-03-20T18:22:34.809Z"
   },
   {
    "duration": 0,
    "start_time": "2022-03-20T18:22:34.994Z"
   },
   {
    "duration": 0,
    "start_time": "2022-03-20T18:22:34.996Z"
   },
   {
    "duration": 0,
    "start_time": "2022-03-20T18:22:34.997Z"
   },
   {
    "duration": 0,
    "start_time": "2022-03-20T18:22:34.998Z"
   },
   {
    "duration": 0,
    "start_time": "2022-03-20T18:22:34.999Z"
   },
   {
    "duration": 0,
    "start_time": "2022-03-20T18:22:35.008Z"
   },
   {
    "duration": 0,
    "start_time": "2022-03-20T18:22:35.009Z"
   },
   {
    "duration": 0,
    "start_time": "2022-03-20T18:22:35.011Z"
   },
   {
    "duration": 0,
    "start_time": "2022-03-20T18:22:35.012Z"
   },
   {
    "duration": 0,
    "start_time": "2022-03-20T18:22:35.013Z"
   },
   {
    "duration": 0,
    "start_time": "2022-03-20T18:22:35.014Z"
   },
   {
    "duration": 0,
    "start_time": "2022-03-20T18:22:35.015Z"
   },
   {
    "duration": 0,
    "start_time": "2022-03-20T18:22:35.016Z"
   },
   {
    "duration": 0,
    "start_time": "2022-03-20T18:22:35.017Z"
   },
   {
    "duration": 0,
    "start_time": "2022-03-20T18:22:35.018Z"
   },
   {
    "duration": 0,
    "start_time": "2022-03-20T18:22:35.019Z"
   },
   {
    "duration": 0,
    "start_time": "2022-03-20T18:22:35.020Z"
   },
   {
    "duration": 0,
    "start_time": "2022-03-20T18:22:35.021Z"
   },
   {
    "duration": 0,
    "start_time": "2022-03-20T18:22:35.022Z"
   },
   {
    "duration": 167,
    "start_time": "2022-03-20T18:23:30.484Z"
   },
   {
    "duration": 159,
    "start_time": "2022-03-20T18:23:41.655Z"
   },
   {
    "duration": 71,
    "start_time": "2022-03-20T18:23:51.281Z"
   },
   {
    "duration": 15,
    "start_time": "2022-03-20T18:23:51.354Z"
   },
   {
    "duration": 12,
    "start_time": "2022-03-20T18:23:51.371Z"
   },
   {
    "duration": 39,
    "start_time": "2022-03-20T18:23:51.385Z"
   },
   {
    "duration": 184,
    "start_time": "2022-03-20T18:23:51.425Z"
   },
   {
    "duration": 172,
    "start_time": "2022-03-20T18:23:51.610Z"
   },
   {
    "duration": 6,
    "start_time": "2022-03-20T18:23:51.784Z"
   },
   {
    "duration": 20,
    "start_time": "2022-03-20T18:23:51.792Z"
   },
   {
    "duration": 19,
    "start_time": "2022-03-20T18:23:51.814Z"
   },
   {
    "duration": 39,
    "start_time": "2022-03-20T18:23:51.836Z"
   },
   {
    "duration": 48,
    "start_time": "2022-03-20T18:23:51.876Z"
   },
   {
    "duration": 16,
    "start_time": "2022-03-20T18:23:51.925Z"
   },
   {
    "duration": 11,
    "start_time": "2022-03-20T18:23:51.942Z"
   },
   {
    "duration": 7,
    "start_time": "2022-03-20T18:23:51.955Z"
   },
   {
    "duration": 7,
    "start_time": "2022-03-20T18:23:51.963Z"
   },
   {
    "duration": 42,
    "start_time": "2022-03-20T18:23:51.972Z"
   },
   {
    "duration": 14,
    "start_time": "2022-03-20T18:23:52.015Z"
   },
   {
    "duration": 12,
    "start_time": "2022-03-20T18:23:52.031Z"
   },
   {
    "duration": 13,
    "start_time": "2022-03-20T18:23:52.044Z"
   },
   {
    "duration": 53,
    "start_time": "2022-03-20T18:23:52.059Z"
   },
   {
    "duration": 18,
    "start_time": "2022-03-20T18:23:52.114Z"
   },
   {
    "duration": 18,
    "start_time": "2022-03-20T18:23:52.134Z"
   },
   {
    "duration": 18,
    "start_time": "2022-03-20T18:23:52.153Z"
   },
   {
    "duration": 47,
    "start_time": "2022-03-20T18:23:52.172Z"
   },
   {
    "duration": 19,
    "start_time": "2022-03-20T18:23:52.220Z"
   },
   {
    "duration": 164,
    "start_time": "2022-03-20T18:25:35.825Z"
   },
   {
    "duration": 157,
    "start_time": "2022-03-20T18:25:42.877Z"
   },
   {
    "duration": 172,
    "start_time": "2022-03-20T18:25:51.897Z"
   },
   {
    "duration": 61,
    "start_time": "2022-03-20T18:26:59.269Z"
   },
   {
    "duration": 77,
    "start_time": "2022-03-20T18:28:01.036Z"
   },
   {
    "duration": 186,
    "start_time": "2022-03-20T18:28:12.122Z"
   },
   {
    "duration": 227,
    "start_time": "2022-03-20T18:29:18.787Z"
   },
   {
    "duration": 146,
    "start_time": "2022-03-20T18:42:15.617Z"
   },
   {
    "duration": 273,
    "start_time": "2022-03-20T18:44:56.418Z"
   },
   {
    "duration": 392,
    "start_time": "2022-03-20T18:52:00.557Z"
   },
   {
    "duration": 108,
    "start_time": "2022-03-20T18:57:36.534Z"
   },
   {
    "duration": 73,
    "start_time": "2022-03-20T18:59:53.629Z"
   },
   {
    "duration": 16,
    "start_time": "2022-03-20T18:59:53.706Z"
   },
   {
    "duration": 11,
    "start_time": "2022-03-20T18:59:53.723Z"
   },
   {
    "duration": 16,
    "start_time": "2022-03-20T18:59:53.736Z"
   },
   {
    "duration": 192,
    "start_time": "2022-03-20T18:59:53.754Z"
   },
   {
    "duration": 282,
    "start_time": "2022-03-20T18:59:53.947Z"
   },
   {
    "duration": 221,
    "start_time": "2022-03-20T18:59:54.230Z"
   },
   {
    "duration": 6,
    "start_time": "2022-03-20T18:59:54.452Z"
   },
   {
    "duration": 9,
    "start_time": "2022-03-20T18:59:54.459Z"
   },
   {
    "duration": 39,
    "start_time": "2022-03-20T18:59:54.471Z"
   },
   {
    "duration": 34,
    "start_time": "2022-03-20T18:59:54.511Z"
   },
   {
    "duration": 19,
    "start_time": "2022-03-20T18:59:54.546Z"
   },
   {
    "duration": 44,
    "start_time": "2022-03-20T18:59:54.566Z"
   },
   {
    "duration": 8,
    "start_time": "2022-03-20T18:59:54.612Z"
   },
   {
    "duration": 9,
    "start_time": "2022-03-20T18:59:54.622Z"
   },
   {
    "duration": 7,
    "start_time": "2022-03-20T18:59:54.632Z"
   },
   {
    "duration": 7,
    "start_time": "2022-03-20T18:59:54.641Z"
   },
   {
    "duration": 13,
    "start_time": "2022-03-20T18:59:54.650Z"
   },
   {
    "duration": 45,
    "start_time": "2022-03-20T18:59:54.665Z"
   },
   {
    "duration": 15,
    "start_time": "2022-03-20T18:59:54.711Z"
   },
   {
    "duration": 24,
    "start_time": "2022-03-20T18:59:54.727Z"
   },
   {
    "duration": 19,
    "start_time": "2022-03-20T18:59:54.752Z"
   },
   {
    "duration": 39,
    "start_time": "2022-03-20T18:59:54.773Z"
   },
   {
    "duration": 19,
    "start_time": "2022-03-20T18:59:54.814Z"
   },
   {
    "duration": 17,
    "start_time": "2022-03-20T18:59:54.835Z"
   },
   {
    "duration": 17,
    "start_time": "2022-03-20T18:59:54.854Z"
   },
   {
    "duration": 166,
    "start_time": "2022-03-20T19:03:12.231Z"
   },
   {
    "duration": 291,
    "start_time": "2022-03-20T19:03:32.643Z"
   },
   {
    "duration": 225,
    "start_time": "2022-03-20T19:05:12.229Z"
   },
   {
    "duration": 77,
    "start_time": "2022-03-20T19:08:02.874Z"
   },
   {
    "duration": 15,
    "start_time": "2022-03-20T19:08:02.953Z"
   },
   {
    "duration": 12,
    "start_time": "2022-03-20T19:08:02.969Z"
   },
   {
    "duration": 43,
    "start_time": "2022-03-20T19:08:02.983Z"
   },
   {
    "duration": 185,
    "start_time": "2022-03-20T19:08:03.027Z"
   },
   {
    "duration": 287,
    "start_time": "2022-03-20T19:08:03.214Z"
   },
   {
    "duration": 238,
    "start_time": "2022-03-20T19:08:03.503Z"
   },
   {
    "duration": 7,
    "start_time": "2022-03-20T19:08:03.743Z"
   },
   {
    "duration": 9,
    "start_time": "2022-03-20T19:08:03.752Z"
   },
   {
    "duration": 44,
    "start_time": "2022-03-20T19:08:03.765Z"
   },
   {
    "duration": 35,
    "start_time": "2022-03-20T19:08:03.811Z"
   },
   {
    "duration": 23,
    "start_time": "2022-03-20T19:08:03.848Z"
   },
   {
    "duration": 17,
    "start_time": "2022-03-20T19:08:03.908Z"
   },
   {
    "duration": 8,
    "start_time": "2022-03-20T19:08:03.927Z"
   },
   {
    "duration": 6,
    "start_time": "2022-03-20T19:08:03.937Z"
   },
   {
    "duration": 8,
    "start_time": "2022-03-20T19:08:03.945Z"
   },
   {
    "duration": 7,
    "start_time": "2022-03-20T19:08:03.955Z"
   },
   {
    "duration": 50,
    "start_time": "2022-03-20T19:08:03.964Z"
   },
   {
    "duration": 13,
    "start_time": "2022-03-20T19:08:04.016Z"
   },
   {
    "duration": 14,
    "start_time": "2022-03-20T19:08:04.031Z"
   },
   {
    "duration": 20,
    "start_time": "2022-03-20T19:08:04.046Z"
   },
   {
    "duration": 51,
    "start_time": "2022-03-20T19:08:04.068Z"
   },
   {
    "duration": 24,
    "start_time": "2022-03-20T19:08:04.121Z"
   },
   {
    "duration": 17,
    "start_time": "2022-03-20T19:08:04.146Z"
   },
   {
    "duration": 17,
    "start_time": "2022-03-20T19:08:04.165Z"
   },
   {
    "duration": 40,
    "start_time": "2022-03-20T19:08:04.184Z"
   },
   {
    "duration": 79,
    "start_time": "2022-03-20T19:09:16.821Z"
   },
   {
    "duration": 16,
    "start_time": "2022-03-20T19:09:16.902Z"
   },
   {
    "duration": 11,
    "start_time": "2022-03-20T19:09:16.919Z"
   },
   {
    "duration": 21,
    "start_time": "2022-03-20T19:09:16.932Z"
   },
   {
    "duration": 196,
    "start_time": "2022-03-20T19:09:16.954Z"
   },
   {
    "duration": 426,
    "start_time": "2022-03-20T19:09:17.151Z"
   },
   {
    "duration": 234,
    "start_time": "2022-03-20T19:09:17.578Z"
   },
   {
    "duration": 6,
    "start_time": "2022-03-20T19:09:17.813Z"
   },
   {
    "duration": 8,
    "start_time": "2022-03-20T19:09:17.821Z"
   },
   {
    "duration": 19,
    "start_time": "2022-03-20T19:09:17.832Z"
   },
   {
    "duration": 66,
    "start_time": "2022-03-20T19:09:17.852Z"
   },
   {
    "duration": 18,
    "start_time": "2022-03-20T19:09:17.920Z"
   },
   {
    "duration": 15,
    "start_time": "2022-03-20T19:09:17.940Z"
   },
   {
    "duration": 7,
    "start_time": "2022-03-20T19:09:17.957Z"
   },
   {
    "duration": 44,
    "start_time": "2022-03-20T19:09:17.966Z"
   },
   {
    "duration": 8,
    "start_time": "2022-03-20T19:09:18.012Z"
   },
   {
    "duration": 7,
    "start_time": "2022-03-20T19:09:18.021Z"
   },
   {
    "duration": 13,
    "start_time": "2022-03-20T19:09:18.030Z"
   },
   {
    "duration": 12,
    "start_time": "2022-03-20T19:09:18.044Z"
   },
   {
    "duration": 13,
    "start_time": "2022-03-20T19:09:18.058Z"
   },
   {
    "duration": 21,
    "start_time": "2022-03-20T19:09:18.109Z"
   },
   {
    "duration": 20,
    "start_time": "2022-03-20T19:09:18.132Z"
   },
   {
    "duration": 25,
    "start_time": "2022-03-20T19:09:18.153Z"
   },
   {
    "duration": 38,
    "start_time": "2022-03-20T19:09:18.180Z"
   },
   {
    "duration": 19,
    "start_time": "2022-03-20T19:09:18.220Z"
   },
   {
    "duration": 18,
    "start_time": "2022-03-20T19:09:18.241Z"
   },
   {
    "duration": 81,
    "start_time": "2022-03-20T19:15:55.667Z"
   },
   {
    "duration": 18,
    "start_time": "2022-03-20T19:15:55.750Z"
   },
   {
    "duration": 11,
    "start_time": "2022-03-20T19:15:55.769Z"
   },
   {
    "duration": 39,
    "start_time": "2022-03-20T19:15:55.782Z"
   },
   {
    "duration": 192,
    "start_time": "2022-03-20T19:15:55.823Z"
   },
   {
    "duration": 310,
    "start_time": "2022-03-20T19:15:56.017Z"
   },
   {
    "duration": 247,
    "start_time": "2022-03-20T19:15:56.329Z"
   },
   {
    "duration": 7,
    "start_time": "2022-03-20T19:15:56.578Z"
   },
   {
    "duration": 24,
    "start_time": "2022-03-20T19:15:56.587Z"
   },
   {
    "duration": 21,
    "start_time": "2022-03-20T19:15:56.614Z"
   },
   {
    "duration": 36,
    "start_time": "2022-03-20T19:15:56.636Z"
   },
   {
    "duration": 47,
    "start_time": "2022-03-20T19:15:56.674Z"
   },
   {
    "duration": 16,
    "start_time": "2022-03-20T19:15:56.723Z"
   },
   {
    "duration": 8,
    "start_time": "2022-03-20T19:15:56.740Z"
   },
   {
    "duration": 7,
    "start_time": "2022-03-20T19:15:56.749Z"
   },
   {
    "duration": 7,
    "start_time": "2022-03-20T19:15:56.758Z"
   },
   {
    "duration": 47,
    "start_time": "2022-03-20T19:15:56.768Z"
   },
   {
    "duration": 13,
    "start_time": "2022-03-20T19:15:56.817Z"
   },
   {
    "duration": 14,
    "start_time": "2022-03-20T19:15:56.832Z"
   },
   {
    "duration": 14,
    "start_time": "2022-03-20T19:15:56.848Z"
   },
   {
    "duration": 60,
    "start_time": "2022-03-20T19:15:56.864Z"
   },
   {
    "duration": 28,
    "start_time": "2022-03-20T19:15:56.926Z"
   },
   {
    "duration": 21,
    "start_time": "2022-03-20T19:15:56.956Z"
   },
   {
    "duration": 43,
    "start_time": "2022-03-20T19:15:56.979Z"
   },
   {
    "duration": 19,
    "start_time": "2022-03-20T19:15:57.024Z"
   },
   {
    "duration": 19,
    "start_time": "2022-03-20T19:15:57.045Z"
   },
   {
    "duration": 1135,
    "start_time": "2022-04-28T23:58:53.983Z"
   },
   {
    "duration": 146,
    "start_time": "2022-04-28T23:58:55.119Z"
   },
   {
    "duration": 14,
    "start_time": "2022-04-28T23:58:55.267Z"
   },
   {
    "duration": 15,
    "start_time": "2022-04-28T23:58:55.284Z"
   },
   {
    "duration": 23,
    "start_time": "2022-04-28T23:58:55.300Z"
   },
   {
    "duration": 13,
    "start_time": "2022-04-28T23:58:55.324Z"
   },
   {
    "duration": 17,
    "start_time": "2022-04-28T23:58:55.339Z"
   },
   {
    "duration": 11,
    "start_time": "2022-04-28T23:58:55.357Z"
   },
   {
    "duration": 4,
    "start_time": "2022-04-28T23:58:55.369Z"
   },
   {
    "duration": 7,
    "start_time": "2022-04-28T23:58:55.376Z"
   },
   {
    "duration": 38,
    "start_time": "2022-04-28T23:58:55.385Z"
   },
   {
    "duration": 5,
    "start_time": "2022-04-28T23:58:55.425Z"
   },
   {
    "duration": 13,
    "start_time": "2022-04-28T23:58:55.432Z"
   },
   {
    "duration": 5,
    "start_time": "2022-04-28T23:58:55.446Z"
   },
   {
    "duration": 12,
    "start_time": "2022-04-28T23:58:55.453Z"
   },
   {
    "duration": 16,
    "start_time": "2022-04-28T23:58:55.466Z"
   },
   {
    "duration": 46,
    "start_time": "2022-04-28T23:58:55.484Z"
   },
   {
    "duration": 9,
    "start_time": "2022-04-28T23:58:55.531Z"
   },
   {
    "duration": 8,
    "start_time": "2022-04-28T23:58:55.542Z"
   },
   {
    "duration": 26,
    "start_time": "2022-04-28T23:58:55.551Z"
   },
   {
    "duration": 304,
    "start_time": "2022-04-28T23:58:55.579Z"
   },
   {
    "duration": 23,
    "start_time": "2022-04-28T23:58:55.885Z"
   },
   {
    "duration": 1525,
    "start_time": "2022-04-28T23:58:55.910Z"
   },
   {
    "duration": 271,
    "start_time": "2022-04-28T23:58:57.436Z"
   },
   {
    "duration": 36,
    "start_time": "2022-04-28T23:58:57.709Z"
   },
   {
    "duration": 307,
    "start_time": "2022-04-28T23:58:57.746Z"
   },
   {
    "duration": 13,
    "start_time": "2022-04-28T23:58:58.055Z"
   },
   {
    "duration": 362,
    "start_time": "2022-04-28T23:58:58.071Z"
   },
   {
    "duration": 13,
    "start_time": "2022-04-28T23:58:58.435Z"
   },
   {
    "duration": 1259,
    "start_time": "2022-04-28T23:58:58.449Z"
   },
   {
    "duration": 13,
    "start_time": "2022-04-28T23:58:59.710Z"
   },
   {
    "duration": 7,
    "start_time": "2022-04-28T23:58:59.724Z"
   },
   {
    "duration": 7,
    "start_time": "2022-04-28T23:58:59.732Z"
   },
   {
    "duration": 7,
    "start_time": "2022-04-28T23:58:59.740Z"
   },
   {
    "duration": 6,
    "start_time": "2022-04-28T23:58:59.748Z"
   },
   {
    "duration": 6,
    "start_time": "2022-04-28T23:58:59.755Z"
   },
   {
    "duration": 10,
    "start_time": "2022-04-28T23:58:59.762Z"
   },
   {
    "duration": 10,
    "start_time": "2022-04-28T23:58:59.774Z"
   },
   {
    "duration": 43,
    "start_time": "2022-04-28T23:58:59.786Z"
   },
   {
    "duration": 9,
    "start_time": "2022-04-28T23:58:59.831Z"
   },
   {
    "duration": 10,
    "start_time": "2022-04-28T23:58:59.841Z"
   },
   {
    "duration": 5,
    "start_time": "2022-04-28T23:58:59.852Z"
   },
   {
    "duration": 15,
    "start_time": "2022-04-28T23:58:59.859Z"
   },
   {
    "duration": 14,
    "start_time": "2022-04-28T23:58:59.875Z"
   },
   {
    "duration": 31,
    "start_time": "2022-04-28T23:58:59.891Z"
   },
   {
    "duration": 90,
    "start_time": "2022-04-29T00:57:44.909Z"
   },
   {
    "duration": 7,
    "start_time": "2022-04-29T00:57:50.938Z"
   },
   {
    "duration": 1106,
    "start_time": "2022-04-29T01:11:50.719Z"
   },
   {
    "duration": 1525,
    "start_time": "2022-04-29T01:12:02.797Z"
   },
   {
    "duration": 147,
    "start_time": "2022-04-29T01:12:04.324Z"
   },
   {
    "duration": 13,
    "start_time": "2022-04-29T01:12:04.473Z"
   },
   {
    "duration": 14,
    "start_time": "2022-04-29T01:12:04.488Z"
   },
   {
    "duration": 10,
    "start_time": "2022-04-29T01:12:04.504Z"
   },
   {
    "duration": 16,
    "start_time": "2022-04-29T01:12:04.522Z"
   },
   {
    "duration": 16,
    "start_time": "2022-04-29T01:12:04.540Z"
   },
   {
    "duration": 11,
    "start_time": "2022-04-29T01:12:04.558Z"
   },
   {
    "duration": 5,
    "start_time": "2022-04-29T01:12:04.570Z"
   },
   {
    "duration": 8,
    "start_time": "2022-04-29T01:12:04.577Z"
   },
   {
    "duration": 39,
    "start_time": "2022-04-29T01:12:04.587Z"
   },
   {
    "duration": 5,
    "start_time": "2022-04-29T01:12:04.628Z"
   },
   {
    "duration": 12,
    "start_time": "2022-04-29T01:12:04.635Z"
   },
   {
    "duration": 5,
    "start_time": "2022-04-29T01:12:04.648Z"
   },
   {
    "duration": 12,
    "start_time": "2022-04-29T01:12:04.654Z"
   },
   {
    "duration": 21,
    "start_time": "2022-04-29T01:12:04.668Z"
   },
   {
    "duration": 37,
    "start_time": "2022-04-29T01:12:04.690Z"
   },
   {
    "duration": 15,
    "start_time": "2022-04-29T01:12:04.728Z"
   },
   {
    "duration": 10,
    "start_time": "2022-04-29T01:12:04.745Z"
   },
   {
    "duration": 31,
    "start_time": "2022-04-29T01:12:04.757Z"
   },
   {
    "duration": 269,
    "start_time": "2022-04-29T01:12:04.790Z"
   },
   {
    "duration": 22,
    "start_time": "2022-04-29T01:12:05.061Z"
   },
   {
    "duration": 1539,
    "start_time": "2022-04-29T01:12:05.084Z"
   },
   {
    "duration": 282,
    "start_time": "2022-04-29T01:12:06.625Z"
   },
   {
    "duration": 36,
    "start_time": "2022-04-29T01:12:06.909Z"
   },
   {
    "duration": 306,
    "start_time": "2022-04-29T01:12:06.947Z"
   },
   {
    "duration": 12,
    "start_time": "2022-04-29T01:12:07.255Z"
   },
   {
    "duration": 368,
    "start_time": "2022-04-29T01:12:07.271Z"
   },
   {
    "duration": 14,
    "start_time": "2022-04-29T01:12:07.641Z"
   },
   {
    "duration": 1281,
    "start_time": "2022-04-29T01:12:07.656Z"
   },
   {
    "duration": 187,
    "start_time": "2022-04-29T01:12:08.938Z"
   },
   {
    "duration": 0,
    "start_time": "2022-04-29T01:12:09.127Z"
   },
   {
    "duration": 0,
    "start_time": "2022-04-29T01:12:09.128Z"
   },
   {
    "duration": 0,
    "start_time": "2022-04-29T01:12:09.129Z"
   },
   {
    "duration": 0,
    "start_time": "2022-04-29T01:12:09.130Z"
   },
   {
    "duration": 0,
    "start_time": "2022-04-29T01:12:09.131Z"
   },
   {
    "duration": 0,
    "start_time": "2022-04-29T01:12:09.132Z"
   },
   {
    "duration": 0,
    "start_time": "2022-04-29T01:12:09.132Z"
   },
   {
    "duration": 0,
    "start_time": "2022-04-29T01:12:09.133Z"
   },
   {
    "duration": 0,
    "start_time": "2022-04-29T01:12:09.135Z"
   },
   {
    "duration": 1,
    "start_time": "2022-04-29T01:12:09.135Z"
   },
   {
    "duration": 0,
    "start_time": "2022-04-29T01:12:09.137Z"
   },
   {
    "duration": 0,
    "start_time": "2022-04-29T01:12:09.138Z"
   },
   {
    "duration": 0,
    "start_time": "2022-04-29T01:12:09.139Z"
   },
   {
    "duration": 0,
    "start_time": "2022-04-29T01:12:09.140Z"
   },
   {
    "duration": 0,
    "start_time": "2022-04-29T01:12:09.140Z"
   },
   {
    "duration": 8,
    "start_time": "2022-04-29T01:14:18.511Z"
   },
   {
    "duration": 8,
    "start_time": "2022-04-29T01:14:19.608Z"
   },
   {
    "duration": 8,
    "start_time": "2022-04-29T01:14:33.976Z"
   },
   {
    "duration": 7,
    "start_time": "2022-04-29T01:14:34.626Z"
   },
   {
    "duration": 200,
    "start_time": "2022-04-29T01:15:05.285Z"
   },
   {
    "duration": 8,
    "start_time": "2022-04-29T01:15:08.173Z"
   },
   {
    "duration": 8,
    "start_time": "2022-04-29T01:15:11.943Z"
   },
   {
    "duration": 9,
    "start_time": "2022-04-29T01:15:12.694Z"
   },
   {
    "duration": 203,
    "start_time": "2022-04-29T01:15:30.390Z"
   },
   {
    "duration": 8,
    "start_time": "2022-04-29T01:15:35.759Z"
   },
   {
    "duration": 8,
    "start_time": "2022-04-29T01:15:36.109Z"
   },
   {
    "duration": 8,
    "start_time": "2022-04-29T01:15:37.377Z"
   },
   {
    "duration": 9,
    "start_time": "2022-04-29T01:17:35.575Z"
   },
   {
    "duration": 9,
    "start_time": "2022-04-29T01:17:40.678Z"
   },
   {
    "duration": 8,
    "start_time": "2022-04-29T01:17:56.600Z"
   },
   {
    "duration": 8,
    "start_time": "2022-04-29T01:17:57.048Z"
   },
   {
    "duration": 5,
    "start_time": "2022-04-29T01:17:57.651Z"
   },
   {
    "duration": 1237,
    "start_time": "2022-04-29T01:19:40.588Z"
   },
   {
    "duration": 144,
    "start_time": "2022-04-29T01:19:41.827Z"
   },
   {
    "duration": 13,
    "start_time": "2022-04-29T01:19:41.973Z"
   },
   {
    "duration": 14,
    "start_time": "2022-04-29T01:19:41.987Z"
   },
   {
    "duration": 10,
    "start_time": "2022-04-29T01:19:42.002Z"
   },
   {
    "duration": 3096,
    "start_time": "2022-04-29T01:19:52.667Z"
   },
   {
    "duration": 13,
    "start_time": "2022-04-29T01:20:11.784Z"
   },
   {
    "duration": 14,
    "start_time": "2022-04-29T01:20:15.563Z"
   },
   {
    "duration": 10,
    "start_time": "2022-04-29T01:20:39.969Z"
   },
   {
    "duration": 8,
    "start_time": "2022-04-29T01:20:42.635Z"
   },
   {
    "duration": 8,
    "start_time": "2022-04-29T01:20:48.815Z"
   },
   {
    "duration": 8,
    "start_time": "2022-04-29T01:20:49.810Z"
   },
   {
    "duration": 21,
    "start_time": "2022-04-29T01:20:58.798Z"
   },
   {
    "duration": 9,
    "start_time": "2022-04-29T01:21:02.794Z"
   },
   {
    "duration": 8,
    "start_time": "2022-04-29T01:21:03.672Z"
   },
   {
    "duration": 4,
    "start_time": "2022-04-29T01:21:04.109Z"
   },
   {
    "duration": 9,
    "start_time": "2022-04-29T01:21:18.876Z"
   },
   {
    "duration": 8,
    "start_time": "2022-04-29T01:21:19.333Z"
   },
   {
    "duration": 5,
    "start_time": "2022-04-29T01:21:20.868Z"
   },
   {
    "duration": 20,
    "start_time": "2022-04-29T01:21:40.957Z"
   },
   {
    "duration": 1185,
    "start_time": "2022-04-29T01:21:59.360Z"
   },
   {
    "duration": 154,
    "start_time": "2022-04-29T01:22:00.547Z"
   },
   {
    "duration": 14,
    "start_time": "2022-04-29T01:22:00.703Z"
   },
   {
    "duration": 15,
    "start_time": "2022-04-29T01:22:00.720Z"
   },
   {
    "duration": 11,
    "start_time": "2022-04-29T01:22:00.737Z"
   },
   {
    "duration": 19,
    "start_time": "2022-04-29T01:22:00.749Z"
   },
   {
    "duration": 37,
    "start_time": "2022-04-29T01:22:00.770Z"
   },
   {
    "duration": 16,
    "start_time": "2022-04-29T01:22:00.808Z"
   },
   {
    "duration": 4,
    "start_time": "2022-04-29T01:22:00.826Z"
   },
   {
    "duration": 11,
    "start_time": "2022-04-29T01:22:00.833Z"
   },
   {
    "duration": 6,
    "start_time": "2022-04-29T01:22:00.845Z"
   },
   {
    "duration": 25,
    "start_time": "2022-04-29T01:22:00.852Z"
   },
   {
    "duration": 28,
    "start_time": "2022-04-29T01:22:00.879Z"
   },
   {
    "duration": 7,
    "start_time": "2022-04-29T01:22:00.909Z"
   },
   {
    "duration": 13,
    "start_time": "2022-04-29T01:22:00.917Z"
   },
   {
    "duration": 28,
    "start_time": "2022-04-29T01:22:00.931Z"
   },
   {
    "duration": 23,
    "start_time": "2022-04-29T01:22:00.961Z"
   },
   {
    "duration": 7,
    "start_time": "2022-04-29T01:22:00.986Z"
   },
   {
    "duration": 29,
    "start_time": "2022-04-29T01:22:00.995Z"
   },
   {
    "duration": 45,
    "start_time": "2022-04-29T01:22:01.025Z"
   },
   {
    "duration": 283,
    "start_time": "2022-04-29T01:22:01.072Z"
   },
   {
    "duration": 22,
    "start_time": "2022-04-29T01:22:01.357Z"
   },
   {
    "duration": 1520,
    "start_time": "2022-04-29T01:22:01.381Z"
   },
   {
    "duration": 277,
    "start_time": "2022-04-29T01:22:02.902Z"
   },
   {
    "duration": 26,
    "start_time": "2022-04-29T01:22:03.181Z"
   },
   {
    "duration": 316,
    "start_time": "2022-04-29T01:22:03.209Z"
   },
   {
    "duration": 11,
    "start_time": "2022-04-29T01:22:03.527Z"
   },
   {
    "duration": 361,
    "start_time": "2022-04-29T01:22:03.542Z"
   },
   {
    "duration": 21,
    "start_time": "2022-04-29T01:22:03.905Z"
   },
   {
    "duration": 1254,
    "start_time": "2022-04-29T01:22:03.928Z"
   },
   {
    "duration": 9,
    "start_time": "2022-04-29T01:22:05.183Z"
   },
   {
    "duration": 18,
    "start_time": "2022-04-29T01:22:05.193Z"
   },
   {
    "duration": 16,
    "start_time": "2022-04-29T01:22:05.212Z"
   },
   {
    "duration": 10,
    "start_time": "2022-04-29T01:22:05.229Z"
   },
   {
    "duration": 14,
    "start_time": "2022-04-29T01:22:05.241Z"
   },
   {
    "duration": 18,
    "start_time": "2022-04-29T01:22:05.257Z"
   },
   {
    "duration": 16,
    "start_time": "2022-04-29T01:22:05.277Z"
   },
   {
    "duration": 16,
    "start_time": "2022-04-29T01:22:05.294Z"
   },
   {
    "duration": 27,
    "start_time": "2022-04-29T01:22:05.311Z"
   },
   {
    "duration": 12,
    "start_time": "2022-04-29T01:22:05.339Z"
   },
   {
    "duration": 15,
    "start_time": "2022-04-29T01:22:05.352Z"
   },
   {
    "duration": 16,
    "start_time": "2022-04-29T01:22:05.368Z"
   },
   {
    "duration": 29,
    "start_time": "2022-04-29T01:22:05.385Z"
   },
   {
    "duration": 29,
    "start_time": "2022-04-29T01:22:05.416Z"
   },
   {
    "duration": 14,
    "start_time": "2022-04-29T01:22:05.447Z"
   },
   {
    "duration": 189,
    "start_time": "2022-04-29T01:32:46.286Z"
   },
   {
    "duration": 1219,
    "start_time": "2022-04-29T01:43:21.113Z"
   },
   {
    "duration": 154,
    "start_time": "2022-04-29T01:43:22.334Z"
   },
   {
    "duration": 15,
    "start_time": "2022-04-29T01:43:22.489Z"
   },
   {
    "duration": 16,
    "start_time": "2022-04-29T01:43:22.506Z"
   },
   {
    "duration": 10,
    "start_time": "2022-04-29T01:43:22.524Z"
   },
   {
    "duration": 13,
    "start_time": "2022-04-29T01:43:22.535Z"
   },
   {
    "duration": 18,
    "start_time": "2022-04-29T01:43:22.549Z"
   },
   {
    "duration": 11,
    "start_time": "2022-04-29T01:43:22.568Z"
   },
   {
    "duration": 5,
    "start_time": "2022-04-29T01:43:22.580Z"
   },
   {
    "duration": 42,
    "start_time": "2022-04-29T01:43:22.586Z"
   },
   {
    "duration": 5,
    "start_time": "2022-04-29T01:43:22.629Z"
   },
   {
    "duration": 12,
    "start_time": "2022-04-29T01:43:22.636Z"
   },
   {
    "duration": 27,
    "start_time": "2022-04-29T01:43:22.649Z"
   },
   {
    "duration": 10,
    "start_time": "2022-04-29T01:43:22.679Z"
   },
   {
    "duration": 13,
    "start_time": "2022-04-29T01:43:22.691Z"
   },
   {
    "duration": 20,
    "start_time": "2022-04-29T01:43:22.705Z"
   },
   {
    "duration": 17,
    "start_time": "2022-04-29T01:43:22.726Z"
   },
   {
    "duration": 7,
    "start_time": "2022-04-29T01:43:22.744Z"
   },
   {
    "duration": 8,
    "start_time": "2022-04-29T01:43:22.753Z"
   },
   {
    "duration": 28,
    "start_time": "2022-04-29T01:43:22.762Z"
   },
   {
    "duration": 300,
    "start_time": "2022-04-29T01:43:22.791Z"
   },
   {
    "duration": 23,
    "start_time": "2022-04-29T01:43:23.093Z"
   },
   {
    "duration": 1508,
    "start_time": "2022-04-29T01:43:23.118Z"
   },
   {
    "duration": 273,
    "start_time": "2022-04-29T01:43:24.628Z"
   },
   {
    "duration": 37,
    "start_time": "2022-04-29T01:43:24.903Z"
   },
   {
    "duration": 297,
    "start_time": "2022-04-29T01:43:24.941Z"
   },
   {
    "duration": 12,
    "start_time": "2022-04-29T01:43:25.239Z"
   },
   {
    "duration": 354,
    "start_time": "2022-04-29T01:43:25.252Z"
   },
   {
    "duration": 21,
    "start_time": "2022-04-29T01:43:25.608Z"
   },
   {
    "duration": 1244,
    "start_time": "2022-04-29T01:43:25.631Z"
   },
   {
    "duration": 8,
    "start_time": "2022-04-29T01:43:26.876Z"
   },
   {
    "duration": 11,
    "start_time": "2022-04-29T01:43:26.886Z"
   },
   {
    "duration": 24,
    "start_time": "2022-04-29T01:43:26.898Z"
   },
   {
    "duration": 7,
    "start_time": "2022-04-29T01:43:26.924Z"
   },
   {
    "duration": 6,
    "start_time": "2022-04-29T01:43:26.933Z"
   },
   {
    "duration": 6,
    "start_time": "2022-04-29T01:43:26.941Z"
   },
   {
    "duration": 7,
    "start_time": "2022-04-29T01:43:26.949Z"
   },
   {
    "duration": 8,
    "start_time": "2022-04-29T01:43:26.957Z"
   },
   {
    "duration": 11,
    "start_time": "2022-04-29T01:43:26.967Z"
   },
   {
    "duration": 43,
    "start_time": "2022-04-29T01:43:26.980Z"
   },
   {
    "duration": 8,
    "start_time": "2022-04-29T01:43:27.027Z"
   },
   {
    "duration": 5,
    "start_time": "2022-04-29T01:43:27.036Z"
   },
   {
    "duration": 12,
    "start_time": "2022-04-29T01:43:27.043Z"
   },
   {
    "duration": 10,
    "start_time": "2022-04-29T01:43:27.056Z"
   },
   {
    "duration": 7,
    "start_time": "2022-04-29T01:43:27.067Z"
   },
   {
    "duration": 1380,
    "start_time": "2022-04-29T08:51:38.348Z"
   },
   {
    "duration": 86,
    "start_time": "2022-04-29T08:51:39.730Z"
   },
   {
    "duration": 16,
    "start_time": "2022-04-29T08:51:39.817Z"
   },
   {
    "duration": 20,
    "start_time": "2022-04-29T08:51:39.836Z"
   },
   {
    "duration": 11,
    "start_time": "2022-04-29T08:51:39.857Z"
   },
   {
    "duration": 39,
    "start_time": "2022-04-29T08:51:39.870Z"
   },
   {
    "duration": 21,
    "start_time": "2022-04-29T08:51:39.911Z"
   },
   {
    "duration": 13,
    "start_time": "2022-04-29T08:51:39.934Z"
   },
   {
    "duration": 5,
    "start_time": "2022-04-29T08:51:39.949Z"
   },
   {
    "duration": 12,
    "start_time": "2022-04-29T08:51:39.957Z"
   },
   {
    "duration": 40,
    "start_time": "2022-04-29T08:51:39.971Z"
   },
   {
    "duration": 9,
    "start_time": "2022-04-29T08:51:40.012Z"
   },
   {
    "duration": 15,
    "start_time": "2022-04-29T08:51:40.022Z"
   },
   {
    "duration": 5,
    "start_time": "2022-04-29T08:51:40.039Z"
   },
   {
    "duration": 11,
    "start_time": "2022-04-29T08:51:40.046Z"
   },
   {
    "duration": 51,
    "start_time": "2022-04-29T08:51:40.059Z"
   },
   {
    "duration": 20,
    "start_time": "2022-04-29T08:51:40.112Z"
   },
   {
    "duration": 8,
    "start_time": "2022-04-29T08:51:40.134Z"
   },
   {
    "duration": 9,
    "start_time": "2022-04-29T08:51:40.144Z"
   },
   {
    "duration": 59,
    "start_time": "2022-04-29T08:51:40.155Z"
   },
   {
    "duration": 312,
    "start_time": "2022-04-29T08:51:40.216Z"
   },
   {
    "duration": 25,
    "start_time": "2022-04-29T08:51:40.530Z"
   },
   {
    "duration": 1750,
    "start_time": "2022-04-29T08:51:40.557Z"
   },
   {
    "duration": 319,
    "start_time": "2022-04-29T08:51:42.309Z"
   },
   {
    "duration": 32,
    "start_time": "2022-04-29T08:51:42.630Z"
   },
   {
    "duration": 380,
    "start_time": "2022-04-29T08:51:42.663Z"
   },
   {
    "duration": 12,
    "start_time": "2022-04-29T08:51:43.045Z"
   },
   {
    "duration": 419,
    "start_time": "2022-04-29T08:51:43.061Z"
   },
   {
    "duration": 13,
    "start_time": "2022-04-29T08:51:43.482Z"
   },
   {
    "duration": 1388,
    "start_time": "2022-04-29T08:51:43.508Z"
   },
   {
    "duration": 15,
    "start_time": "2022-04-29T08:51:44.897Z"
   },
   {
    "duration": 8,
    "start_time": "2022-04-29T08:51:44.913Z"
   },
   {
    "duration": 8,
    "start_time": "2022-04-29T08:51:44.923Z"
   },
   {
    "duration": 9,
    "start_time": "2022-04-29T08:51:44.933Z"
   },
   {
    "duration": 8,
    "start_time": "2022-04-29T08:51:44.944Z"
   },
   {
    "duration": 8,
    "start_time": "2022-04-29T08:51:44.954Z"
   },
   {
    "duration": 9,
    "start_time": "2022-04-29T08:51:45.007Z"
   },
   {
    "duration": 14,
    "start_time": "2022-04-29T08:51:45.018Z"
   },
   {
    "duration": 12,
    "start_time": "2022-04-29T08:51:45.034Z"
   },
   {
    "duration": 8,
    "start_time": "2022-04-29T08:51:45.047Z"
   },
   {
    "duration": 9,
    "start_time": "2022-04-29T08:51:45.057Z"
   },
   {
    "duration": 4,
    "start_time": "2022-04-29T08:51:45.068Z"
   },
   {
    "duration": 40,
    "start_time": "2022-04-29T08:51:45.074Z"
   },
   {
    "duration": 9,
    "start_time": "2022-04-29T08:51:45.116Z"
   },
   {
    "duration": 4,
    "start_time": "2022-04-29T08:51:45.127Z"
   },
   {
    "duration": 8,
    "start_time": "2022-04-29T09:10:50.699Z"
   },
   {
    "duration": 5,
    "start_time": "2022-04-29T09:15:45.826Z"
   },
   {
    "duration": 6,
    "start_time": "2022-04-29T09:16:14.886Z"
   },
   {
    "duration": 7,
    "start_time": "2022-04-29T09:16:50.454Z"
   },
   {
    "duration": 104,
    "start_time": "2022-04-29T09:53:27.298Z"
   },
   {
    "duration": 170200,
    "start_time": "2022-04-29T09:56:08.256Z"
   },
   {
    "duration": 204099,
    "start_time": "2022-04-29T09:59:18.314Z"
   },
   {
    "duration": 49,
    "start_time": "2022-04-29T10:05:27.842Z"
   },
   {
    "duration": 1133,
    "start_time": "2022-04-29T10:06:28.490Z"
   },
   {
    "duration": 17,
    "start_time": "2022-04-29T10:08:18.647Z"
   },
   {
    "duration": 19,
    "start_time": "2022-04-29T10:09:17.205Z"
   },
   {
    "duration": 26,
    "start_time": "2022-04-29T10:09:26.617Z"
   },
   {
    "duration": 24,
    "start_time": "2022-04-29T10:09:41.790Z"
   },
   {
    "duration": 18,
    "start_time": "2022-04-29T10:10:25.227Z"
   },
   {
    "duration": 27,
    "start_time": "2022-04-29T10:11:03.823Z"
   },
   {
    "duration": 24,
    "start_time": "2022-04-29T10:11:08.468Z"
   },
   {
    "duration": 19,
    "start_time": "2022-04-29T10:11:17.377Z"
   },
   {
    "duration": 14,
    "start_time": "2022-04-29T10:13:39.268Z"
   },
   {
    "duration": 464,
    "start_time": "2022-04-29T10:13:55.325Z"
   },
   {
    "duration": 474,
    "start_time": "2022-04-29T10:14:18.664Z"
   },
   {
    "duration": 74,
    "start_time": "2022-04-29T10:16:52.108Z"
   },
   {
    "duration": 481,
    "start_time": "2022-04-29T10:31:28.841Z"
   },
   {
    "duration": 485,
    "start_time": "2022-04-29T10:32:42.633Z"
   },
   {
    "duration": 530,
    "start_time": "2022-04-29T10:33:52.335Z"
   },
   {
    "duration": 481,
    "start_time": "2022-04-29T10:34:07.047Z"
   },
   {
    "duration": 513,
    "start_time": "2022-04-29T10:34:53.889Z"
   },
   {
    "duration": 658,
    "start_time": "2022-04-29T10:36:17.945Z"
   },
   {
    "duration": 500,
    "start_time": "2022-04-29T10:36:32.750Z"
   },
   {
    "duration": 70,
    "start_time": "2022-04-29T10:37:36.207Z"
   },
   {
    "duration": 471,
    "start_time": "2022-04-29T10:38:50.463Z"
   },
   {
    "duration": 74,
    "start_time": "2022-04-29T10:39:46.183Z"
   },
   {
    "duration": 765,
    "start_time": "2022-04-29T10:39:54.122Z"
   },
   {
    "duration": 762,
    "start_time": "2022-04-29T10:40:12.057Z"
   },
   {
    "duration": 24,
    "start_time": "2022-04-29T10:42:28.621Z"
   },
   {
    "duration": 22,
    "start_time": "2022-04-29T10:42:56.220Z"
   },
   {
    "duration": 25,
    "start_time": "2022-04-29T10:44:34.424Z"
   },
   {
    "duration": 30,
    "start_time": "2022-04-29T10:45:24.780Z"
   },
   {
    "duration": 684,
    "start_time": "2022-04-29T10:46:01.307Z"
   },
   {
    "duration": 675,
    "start_time": "2022-04-29T10:46:55.520Z"
   },
   {
    "duration": 171,
    "start_time": "2022-04-29T10:51:01.753Z"
   },
   {
    "duration": 16,
    "start_time": "2022-04-29T10:51:24.482Z"
   },
   {
    "duration": 462,
    "start_time": "2022-04-29T10:51:43.110Z"
   },
   {
    "duration": 170,
    "start_time": "2022-04-29T10:54:04.709Z"
   },
   {
    "duration": 70,
    "start_time": "2022-04-29T10:58:29.288Z"
   },
   {
    "duration": 376,
    "start_time": "2022-04-29T10:58:43.827Z"
   },
   {
    "duration": 510,
    "start_time": "2022-04-29T11:00:44.989Z"
   },
   {
    "duration": 1612,
    "start_time": "2022-04-29T11:15:27.786Z"
   },
   {
    "duration": 1109,
    "start_time": "2022-04-29T11:15:54.341Z"
   },
   {
    "duration": 10,
    "start_time": "2022-04-29T11:16:08.795Z"
   },
   {
    "duration": 13,
    "start_time": "2022-04-29T11:16:20.713Z"
   },
   {
    "duration": 22,
    "start_time": "2022-04-29T11:17:25.601Z"
   },
   {
    "duration": 23,
    "start_time": "2022-04-29T11:18:08.269Z"
   },
   {
    "duration": 77,
    "start_time": "2022-04-29T11:18:43.204Z"
   },
   {
    "duration": 76,
    "start_time": "2022-04-29T11:18:54.503Z"
   },
   {
    "duration": 26,
    "start_time": "2022-04-29T11:18:59.901Z"
   },
   {
    "duration": 438,
    "start_time": "2022-04-29T11:19:30.176Z"
   },
   {
    "duration": 62,
    "start_time": "2022-04-29T11:32:41.108Z"
   },
   {
    "duration": 310,
    "start_time": "2022-04-29T11:45:38.516Z"
   },
   {
    "duration": 277,
    "start_time": "2022-04-29T11:47:45.807Z"
   },
   {
    "duration": 317,
    "start_time": "2022-04-29T11:51:07.938Z"
   },
   {
    "duration": 324,
    "start_time": "2022-04-29T11:51:25.864Z"
   },
   {
    "duration": 331,
    "start_time": "2022-04-29T11:51:56.842Z"
   },
   {
    "duration": 70,
    "start_time": "2022-04-29T12:00:25.192Z"
   },
   {
    "duration": 24,
    "start_time": "2022-04-29T12:00:58.566Z"
   },
   {
    "duration": 1222,
    "start_time": "2022-04-29T12:01:08.035Z"
   },
   {
    "duration": 24,
    "start_time": "2022-04-29T12:29:03.847Z"
   },
   {
    "duration": 1252,
    "start_time": "2022-04-29T12:29:23.652Z"
   },
   {
    "duration": 1357,
    "start_time": "2022-04-29T12:30:26.556Z"
   },
   {
    "duration": 1291,
    "start_time": "2022-04-29T12:59:01.481Z"
   },
   {
    "duration": 1534,
    "start_time": "2022-04-29T12:59:53.553Z"
   },
   {
    "duration": 6988,
    "start_time": "2022-04-29T13:01:38.358Z"
   },
   {
    "duration": 1263,
    "start_time": "2022-04-29T13:02:51.111Z"
   },
   {
    "duration": 1279,
    "start_time": "2022-04-29T13:03:25.240Z"
   },
   {
    "duration": 1624,
    "start_time": "2022-04-29T13:04:32.083Z"
   },
   {
    "duration": 467,
    "start_time": "2022-04-29T13:18:21.176Z"
   },
   {
    "duration": 303,
    "start_time": "2022-04-29T13:18:54.008Z"
   },
   {
    "duration": 441,
    "start_time": "2022-04-29T13:19:59.194Z"
   },
   {
    "duration": 189,
    "start_time": "2022-04-29T13:20:40.185Z"
   },
   {
    "duration": 428,
    "start_time": "2022-04-29T13:24:51.136Z"
   },
   {
    "duration": 405,
    "start_time": "2022-04-29T13:27:20.319Z"
   },
   {
    "duration": 605,
    "start_time": "2022-04-29T13:29:39.949Z"
   },
   {
    "duration": 407,
    "start_time": "2022-04-29T13:30:03.142Z"
   },
   {
    "duration": 443,
    "start_time": "2022-04-29T13:33:12.538Z"
   },
   {
    "duration": 382,
    "start_time": "2022-04-29T13:35:30.776Z"
   },
   {
    "duration": 403,
    "start_time": "2022-04-29T13:36:19.889Z"
   },
   {
    "duration": 496,
    "start_time": "2022-04-29T13:36:51.861Z"
   },
   {
    "duration": 408,
    "start_time": "2022-04-29T13:37:05.705Z"
   },
   {
    "duration": 400,
    "start_time": "2022-04-29T14:38:23.996Z"
   },
   {
    "duration": 68,
    "start_time": "2022-04-29T14:38:40.828Z"
   },
   {
    "duration": 387,
    "start_time": "2022-04-29T14:38:46.025Z"
   },
   {
    "duration": 382,
    "start_time": "2022-04-29T14:45:02.797Z"
   },
   {
    "duration": 419,
    "start_time": "2022-04-29T14:46:03.860Z"
   },
   {
    "duration": 508,
    "start_time": "2022-04-29T14:46:33.012Z"
   },
   {
    "duration": 384,
    "start_time": "2022-04-29T14:46:56.139Z"
   },
   {
    "duration": 354,
    "start_time": "2022-04-29T14:48:20.759Z"
   },
   {
    "duration": 357,
    "start_time": "2022-04-29T14:49:05.044Z"
   },
   {
    "duration": 69,
    "start_time": "2022-04-29T14:50:58.488Z"
   },
   {
    "duration": 363,
    "start_time": "2022-04-29T14:51:19.325Z"
   },
   {
    "duration": 386,
    "start_time": "2022-04-29T14:51:40.058Z"
   },
   {
    "duration": 76,
    "start_time": "2022-04-29T15:03:26.755Z"
   },
   {
    "duration": 68,
    "start_time": "2022-04-29T15:04:05.904Z"
   },
   {
    "duration": 73,
    "start_time": "2022-04-29T15:04:16.903Z"
   },
   {
    "duration": 337,
    "start_time": "2022-04-29T15:04:46.204Z"
   },
   {
    "duration": 367,
    "start_time": "2022-04-29T15:06:14.050Z"
   },
   {
    "duration": 361,
    "start_time": "2022-04-29T15:06:29.199Z"
   },
   {
    "duration": 429,
    "start_time": "2022-04-29T15:06:52.156Z"
   },
   {
    "duration": 212,
    "start_time": "2022-04-29T15:09:18.078Z"
   },
   {
    "duration": 345,
    "start_time": "2022-04-29T15:09:29.795Z"
   },
   {
    "duration": 344,
    "start_time": "2022-04-29T15:09:41.985Z"
   },
   {
    "duration": 367,
    "start_time": "2022-04-29T15:11:27.604Z"
   },
   {
    "duration": 436,
    "start_time": "2022-04-29T15:12:16.358Z"
   },
   {
    "duration": 427,
    "start_time": "2022-04-29T15:12:36.321Z"
   },
   {
    "duration": 14,
    "start_time": "2022-04-29T15:14:59.460Z"
   },
   {
    "duration": 13,
    "start_time": "2022-04-29T15:15:30.891Z"
   },
   {
    "duration": 5,
    "start_time": "2022-04-29T15:22:50.144Z"
   },
   {
    "duration": 7,
    "start_time": "2022-04-29T15:28:04.766Z"
   },
   {
    "duration": 7,
    "start_time": "2022-04-29T15:28:38.934Z"
   },
   {
    "duration": 3,
    "start_time": "2022-04-29T15:30:19.883Z"
   },
   {
    "duration": 349,
    "start_time": "2022-04-29T15:30:19.890Z"
   },
   {
    "duration": 14,
    "start_time": "2022-04-29T15:30:20.241Z"
   },
   {
    "duration": 17,
    "start_time": "2022-04-29T15:30:20.257Z"
   },
   {
    "duration": 36,
    "start_time": "2022-04-29T15:30:20.277Z"
   },
   {
    "duration": 16,
    "start_time": "2022-04-29T15:30:20.315Z"
   },
   {
    "duration": 22,
    "start_time": "2022-04-29T15:30:20.333Z"
   },
   {
    "duration": 12,
    "start_time": "2022-04-29T15:30:20.357Z"
   },
   {
    "duration": 4,
    "start_time": "2022-04-29T15:30:20.371Z"
   },
   {
    "duration": 7,
    "start_time": "2022-04-29T15:30:20.408Z"
   },
   {
    "duration": 10,
    "start_time": "2022-04-29T15:30:20.418Z"
   },
   {
    "duration": 7,
    "start_time": "2022-04-29T15:30:20.429Z"
   },
   {
    "duration": 9,
    "start_time": "2022-04-29T15:30:20.437Z"
   },
   {
    "duration": 16,
    "start_time": "2022-04-29T15:30:20.447Z"
   },
   {
    "duration": 2,
    "start_time": "2022-04-29T15:30:20.464Z"
   },
   {
    "duration": 44,
    "start_time": "2022-04-29T15:30:20.468Z"
   },
   {
    "duration": 17,
    "start_time": "2022-04-29T15:30:20.514Z"
   },
   {
    "duration": 19,
    "start_time": "2022-04-29T15:30:20.532Z"
   },
   {
    "duration": 16,
    "start_time": "2022-04-29T15:30:20.553Z"
   },
   {
    "duration": 628,
    "start_time": "2022-04-29T15:30:20.571Z"
   },
   {
    "duration": 24,
    "start_time": "2022-04-29T15:30:21.200Z"
   },
   {
    "duration": 406,
    "start_time": "2022-04-29T15:30:21.225Z"
   },
   {
    "duration": 28,
    "start_time": "2022-04-29T15:30:21.633Z"
   },
   {
    "duration": 465,
    "start_time": "2022-04-29T15:30:21.663Z"
   },
   {
    "duration": 24,
    "start_time": "2022-04-29T15:30:22.130Z"
   },
   {
    "duration": 1386,
    "start_time": "2022-04-29T15:30:22.156Z"
   },
   {
    "duration": 285,
    "start_time": "2022-04-29T15:30:23.543Z"
   },
   {
    "duration": 31,
    "start_time": "2022-04-29T15:30:23.830Z"
   },
   {
    "duration": 405,
    "start_time": "2022-04-29T15:30:23.865Z"
   },
   {
    "duration": 14,
    "start_time": "2022-04-29T15:30:24.271Z"
   },
   {
    "duration": 463,
    "start_time": "2022-04-29T15:30:24.286Z"
   },
   {
    "duration": 14,
    "start_time": "2022-04-29T15:30:24.750Z"
   },
   {
    "duration": 13,
    "start_time": "2022-04-29T15:30:24.766Z"
   },
   {
    "duration": 0,
    "start_time": "2022-04-29T15:30:24.781Z"
   },
   {
    "duration": 0,
    "start_time": "2022-04-29T15:30:24.782Z"
   },
   {
    "duration": 0,
    "start_time": "2022-04-29T15:30:24.807Z"
   },
   {
    "duration": 0,
    "start_time": "2022-04-29T15:30:24.809Z"
   },
   {
    "duration": 0,
    "start_time": "2022-04-29T15:30:24.810Z"
   },
   {
    "duration": 0,
    "start_time": "2022-04-29T15:30:24.812Z"
   },
   {
    "duration": 0,
    "start_time": "2022-04-29T15:30:24.813Z"
   },
   {
    "duration": 0,
    "start_time": "2022-04-29T15:30:24.814Z"
   },
   {
    "duration": 0,
    "start_time": "2022-04-29T15:30:24.815Z"
   },
   {
    "duration": 0,
    "start_time": "2022-04-29T15:30:24.817Z"
   },
   {
    "duration": 0,
    "start_time": "2022-04-29T15:30:24.818Z"
   },
   {
    "duration": 0,
    "start_time": "2022-04-29T15:30:24.819Z"
   },
   {
    "duration": 0,
    "start_time": "2022-04-29T15:30:24.821Z"
   },
   {
    "duration": 0,
    "start_time": "2022-04-29T15:30:24.822Z"
   },
   {
    "duration": 0,
    "start_time": "2022-04-29T15:30:24.823Z"
   },
   {
    "duration": 486,
    "start_time": "2022-04-29T15:32:26.819Z"
   },
   {
    "duration": 731,
    "start_time": "2022-04-29T15:40:29.409Z"
   },
   {
    "duration": 13,
    "start_time": "2022-04-29T15:40:52.728Z"
   },
   {
    "duration": 606,
    "start_time": "2022-04-29T15:41:18.429Z"
   },
   {
    "duration": 15,
    "start_time": "2022-04-29T15:49:57.348Z"
   },
   {
    "duration": 19,
    "start_time": "2022-04-29T15:53:49.261Z"
   },
   {
    "duration": 12,
    "start_time": "2022-04-29T15:53:59.077Z"
   },
   {
    "duration": 579,
    "start_time": "2022-04-29T15:55:23.446Z"
   },
   {
    "duration": 16,
    "start_time": "2022-04-29T15:56:05.895Z"
   },
   {
    "duration": 15,
    "start_time": "2022-04-29T15:56:22.737Z"
   },
   {
    "duration": 17,
    "start_time": "2022-04-29T15:57:09.918Z"
   },
   {
    "duration": 13,
    "start_time": "2022-04-29T15:57:21.735Z"
   },
   {
    "duration": 13,
    "start_time": "2022-04-29T15:57:40.077Z"
   },
   {
    "duration": 14,
    "start_time": "2022-04-29T15:57:51.819Z"
   },
   {
    "duration": 578,
    "start_time": "2022-04-29T15:58:23.979Z"
   },
   {
    "duration": 601,
    "start_time": "2022-04-29T15:58:50.728Z"
   },
   {
    "duration": 579,
    "start_time": "2022-04-29T15:59:56.534Z"
   },
   {
    "duration": 68,
    "start_time": "2022-04-29T16:00:48.025Z"
   },
   {
    "duration": 615,
    "start_time": "2022-04-29T16:03:07.390Z"
   },
   {
    "duration": 9,
    "start_time": "2022-04-29T16:22:50.263Z"
   },
   {
    "duration": 10,
    "start_time": "2022-04-29T16:22:52.040Z"
   },
   {
    "duration": 12,
    "start_time": "2022-04-29T16:22:53.865Z"
   },
   {
    "duration": 8,
    "start_time": "2022-04-29T16:23:01.462Z"
   },
   {
    "duration": 9,
    "start_time": "2022-04-29T16:23:04.015Z"
   },
   {
    "duration": 10,
    "start_time": "2022-04-29T16:23:10.845Z"
   },
   {
    "duration": 9,
    "start_time": "2022-04-29T16:24:00.216Z"
   },
   {
    "duration": 9,
    "start_time": "2022-04-29T16:24:06.803Z"
   },
   {
    "duration": 9,
    "start_time": "2022-04-29T16:24:14.916Z"
   },
   {
    "duration": 9,
    "start_time": "2022-04-29T16:25:27.140Z"
   },
   {
    "duration": 9,
    "start_time": "2022-04-29T16:58:06.912Z"
   },
   {
    "duration": 9,
    "start_time": "2022-04-29T16:58:09.360Z"
   },
   {
    "duration": 6,
    "start_time": "2022-04-29T16:58:13.603Z"
   },
   {
    "duration": 8,
    "start_time": "2022-04-29T17:18:39.102Z"
   },
   {
    "duration": 7,
    "start_time": "2022-04-29T17:18:53.794Z"
   },
   {
    "duration": 8,
    "start_time": "2022-04-29T17:19:02.766Z"
   },
   {
    "duration": 8,
    "start_time": "2022-04-29T17:23:43.033Z"
   },
   {
    "duration": 7,
    "start_time": "2022-04-29T17:23:46.996Z"
   },
   {
    "duration": 8,
    "start_time": "2022-04-29T17:23:50.055Z"
   },
   {
    "duration": 8,
    "start_time": "2022-04-29T17:25:43.897Z"
   },
   {
    "duration": 8,
    "start_time": "2022-04-29T17:25:51.428Z"
   },
   {
    "duration": 8,
    "start_time": "2022-04-29T17:26:09.624Z"
   },
   {
    "duration": 8,
    "start_time": "2022-04-29T17:27:01.502Z"
   },
   {
    "duration": 50,
    "start_time": "2022-04-29T19:10:01.501Z"
   },
   {
    "duration": 1321,
    "start_time": "2022-04-29T19:11:08.449Z"
   },
   {
    "duration": 87,
    "start_time": "2022-04-29T19:11:09.773Z"
   },
   {
    "duration": 16,
    "start_time": "2022-04-29T19:11:09.863Z"
   },
   {
    "duration": 27,
    "start_time": "2022-04-29T19:11:09.882Z"
   },
   {
    "duration": 13,
    "start_time": "2022-04-29T19:11:09.911Z"
   },
   {
    "duration": 16,
    "start_time": "2022-04-29T19:11:09.926Z"
   },
   {
    "duration": 22,
    "start_time": "2022-04-29T19:11:09.944Z"
   },
   {
    "duration": 51,
    "start_time": "2022-04-29T19:11:09.968Z"
   },
   {
    "duration": 6,
    "start_time": "2022-04-29T19:11:10.021Z"
   },
   {
    "duration": 8,
    "start_time": "2022-04-29T19:11:10.030Z"
   },
   {
    "duration": 7,
    "start_time": "2022-04-29T19:11:10.040Z"
   },
   {
    "duration": 10,
    "start_time": "2022-04-29T19:11:10.049Z"
   },
   {
    "duration": 4,
    "start_time": "2022-04-29T19:11:10.061Z"
   },
   {
    "duration": 49,
    "start_time": "2022-04-29T19:11:10.067Z"
   },
   {
    "duration": 18,
    "start_time": "2022-04-29T19:11:10.118Z"
   },
   {
    "duration": 20,
    "start_time": "2022-04-29T19:11:10.138Z"
   },
   {
    "duration": 48,
    "start_time": "2022-04-29T19:11:10.160Z"
   },
   {
    "duration": 391,
    "start_time": "2022-04-29T19:11:10.210Z"
   },
   {
    "duration": 19,
    "start_time": "2022-04-29T19:11:10.607Z"
   },
   {
    "duration": 423,
    "start_time": "2022-04-29T19:11:10.628Z"
   },
   {
    "duration": 31,
    "start_time": "2022-04-29T19:11:11.053Z"
   },
   {
    "duration": 362,
    "start_time": "2022-04-29T19:11:11.085Z"
   },
   {
    "duration": 23,
    "start_time": "2022-04-29T19:11:11.449Z"
   },
   {
    "duration": 1383,
    "start_time": "2022-04-29T19:11:11.473Z"
   },
   {
    "duration": 272,
    "start_time": "2022-04-29T19:11:12.858Z"
   },
   {
    "duration": 29,
    "start_time": "2022-04-29T19:11:13.131Z"
   },
   {
    "duration": 382,
    "start_time": "2022-04-29T19:11:13.162Z"
   },
   {
    "duration": 13,
    "start_time": "2022-04-29T19:11:13.548Z"
   },
   {
    "duration": 444,
    "start_time": "2022-04-29T19:11:13.563Z"
   },
   {
    "duration": 14,
    "start_time": "2022-04-29T19:11:14.009Z"
   },
   {
    "duration": 809,
    "start_time": "2022-04-29T19:11:14.025Z"
   },
   {
    "duration": 8,
    "start_time": "2022-04-29T19:11:14.836Z"
   },
   {
    "duration": 8,
    "start_time": "2022-04-29T19:11:14.845Z"
   },
   {
    "duration": 7,
    "start_time": "2022-04-29T19:11:14.855Z"
   },
   {
    "duration": 7,
    "start_time": "2022-04-29T19:11:14.864Z"
   },
   {
    "duration": 38,
    "start_time": "2022-04-29T19:11:14.873Z"
   },
   {
    "duration": 7,
    "start_time": "2022-04-29T19:11:14.913Z"
   },
   {
    "duration": 7,
    "start_time": "2022-04-29T19:11:14.922Z"
   },
   {
    "duration": 7,
    "start_time": "2022-04-29T19:11:14.931Z"
   },
   {
    "duration": 7,
    "start_time": "2022-04-29T19:11:14.940Z"
   },
   {
    "duration": 8,
    "start_time": "2022-04-29T19:11:14.949Z"
   },
   {
    "duration": 53,
    "start_time": "2022-04-29T19:11:14.959Z"
   },
   {
    "duration": 13,
    "start_time": "2022-04-29T19:11:15.014Z"
   },
   {
    "duration": 11,
    "start_time": "2022-04-29T19:11:15.029Z"
   },
   {
    "duration": 15,
    "start_time": "2022-04-29T19:11:15.041Z"
   },
   {
    "duration": 12,
    "start_time": "2022-04-29T19:11:15.057Z"
   },
   {
    "duration": 4,
    "start_time": "2022-04-29T19:11:43.191Z"
   },
   {
    "duration": 439,
    "start_time": "2022-04-29T19:12:30.355Z"
   },
   {
    "duration": 261,
    "start_time": "2022-04-29T19:14:24.047Z"
   },
   {
    "duration": 473,
    "start_time": "2022-04-29T19:14:55.741Z"
   },
   {
    "duration": 9,
    "start_time": "2022-04-29T19:18:58.530Z"
   },
   {
    "duration": 9,
    "start_time": "2022-04-29T19:19:06.341Z"
   },
   {
    "duration": 5,
    "start_time": "2022-04-29T19:19:14.039Z"
   },
   {
    "duration": 8,
    "start_time": "2022-04-29T19:20:37.353Z"
   },
   {
    "duration": 8,
    "start_time": "2022-04-29T19:20:42.196Z"
   },
   {
    "duration": 5,
    "start_time": "2022-04-29T19:20:48.713Z"
   },
   {
    "duration": 20,
    "start_time": "2022-04-29T19:23:00.230Z"
   },
   {
    "duration": 103,
    "start_time": "2022-04-29T19:23:00.252Z"
   },
   {
    "duration": 15,
    "start_time": "2022-04-29T19:23:00.357Z"
   },
   {
    "duration": 29,
    "start_time": "2022-04-29T19:23:00.373Z"
   },
   {
    "duration": 11,
    "start_time": "2022-04-29T19:23:00.403Z"
   },
   {
    "duration": 20,
    "start_time": "2022-04-29T19:23:00.416Z"
   },
   {
    "duration": 23,
    "start_time": "2022-04-29T19:23:00.438Z"
   },
   {
    "duration": 11,
    "start_time": "2022-04-29T19:23:00.462Z"
   },
   {
    "duration": 5,
    "start_time": "2022-04-29T19:23:00.478Z"
   },
   {
    "duration": 28,
    "start_time": "2022-04-29T19:23:00.484Z"
   },
   {
    "duration": 19,
    "start_time": "2022-04-29T19:23:00.514Z"
   },
   {
    "duration": 17,
    "start_time": "2022-04-29T19:23:00.534Z"
   },
   {
    "duration": 14,
    "start_time": "2022-04-29T19:23:00.553Z"
   },
   {
    "duration": 18,
    "start_time": "2022-04-29T19:23:00.568Z"
   },
   {
    "duration": 30,
    "start_time": "2022-04-29T19:23:00.587Z"
   },
   {
    "duration": 23,
    "start_time": "2022-04-29T19:23:00.619Z"
   },
   {
    "duration": 471,
    "start_time": "2022-04-29T19:23:00.644Z"
   },
   {
    "duration": 21,
    "start_time": "2022-04-29T19:23:01.117Z"
   },
   {
    "duration": 410,
    "start_time": "2022-04-29T19:23:01.140Z"
   },
   {
    "duration": 30,
    "start_time": "2022-04-29T19:23:01.552Z"
   },
   {
    "duration": 434,
    "start_time": "2022-04-29T19:23:01.584Z"
   },
   {
    "duration": 23,
    "start_time": "2022-04-29T19:23:02.019Z"
   },
   {
    "duration": 1236,
    "start_time": "2022-04-29T19:23:02.043Z"
   },
   {
    "duration": 254,
    "start_time": "2022-04-29T19:23:03.281Z"
   },
   {
    "duration": 27,
    "start_time": "2022-04-29T19:23:03.537Z"
   },
   {
    "duration": 368,
    "start_time": "2022-04-29T19:23:03.566Z"
   },
   {
    "duration": 12,
    "start_time": "2022-04-29T19:23:03.936Z"
   },
   {
    "duration": 427,
    "start_time": "2022-04-29T19:23:03.950Z"
   },
   {
    "duration": 13,
    "start_time": "2022-04-29T19:23:04.378Z"
   },
   {
    "duration": 758,
    "start_time": "2022-04-29T19:23:04.393Z"
   },
   {
    "duration": 8,
    "start_time": "2022-04-29T19:23:05.153Z"
   },
   {
    "duration": 10,
    "start_time": "2022-04-29T19:23:05.162Z"
   },
   {
    "duration": 8,
    "start_time": "2022-04-29T19:23:05.173Z"
   },
   {
    "duration": 29,
    "start_time": "2022-04-29T19:23:05.183Z"
   },
   {
    "duration": 9,
    "start_time": "2022-04-29T19:23:05.214Z"
   },
   {
    "duration": 12,
    "start_time": "2022-04-29T19:23:05.224Z"
   },
   {
    "duration": 8,
    "start_time": "2022-04-29T19:23:05.238Z"
   },
   {
    "duration": 7,
    "start_time": "2022-04-29T19:23:05.248Z"
   },
   {
    "duration": 7,
    "start_time": "2022-04-29T19:23:05.257Z"
   },
   {
    "duration": 47,
    "start_time": "2022-04-29T19:23:05.265Z"
   },
   {
    "duration": 14,
    "start_time": "2022-04-29T19:23:05.313Z"
   },
   {
    "duration": 11,
    "start_time": "2022-04-29T19:23:05.328Z"
   },
   {
    "duration": 12,
    "start_time": "2022-04-29T19:23:05.340Z"
   },
   {
    "duration": 8,
    "start_time": "2022-04-29T19:23:05.354Z"
   },
   {
    "duration": 6,
    "start_time": "2022-04-29T19:23:05.363Z"
   },
   {
    "duration": 7,
    "start_time": "2022-04-29T19:24:38.040Z"
   },
   {
    "duration": 360,
    "start_time": "2022-04-29T19:26:17.015Z"
   },
   {
    "duration": 698,
    "start_time": "2022-04-29T19:27:27.079Z"
   },
   {
    "duration": 572,
    "start_time": "2022-04-29T19:27:50.572Z"
   },
   {
    "duration": 570,
    "start_time": "2022-04-29T19:28:00.433Z"
   },
   {
    "duration": 582,
    "start_time": "2022-04-29T19:28:03.989Z"
   },
   {
    "duration": 590,
    "start_time": "2022-04-29T19:28:10.286Z"
   },
   {
    "duration": 592,
    "start_time": "2022-04-29T19:28:18.687Z"
   },
   {
    "duration": 560,
    "start_time": "2022-04-29T19:28:32.000Z"
   },
   {
    "duration": 576,
    "start_time": "2022-04-29T19:28:40.129Z"
   },
   {
    "duration": 561,
    "start_time": "2022-04-29T19:28:47.508Z"
   },
   {
    "duration": 702,
    "start_time": "2022-04-29T19:29:03.954Z"
   },
   {
    "duration": 244,
    "start_time": "2022-04-29T19:30:42.382Z"
   },
   {
    "duration": 396,
    "start_time": "2022-04-29T19:30:45.325Z"
   },
   {
    "duration": 375,
    "start_time": "2022-04-29T19:30:51.653Z"
   },
   {
    "duration": 773,
    "start_time": "2022-04-29T19:31:11.493Z"
   },
   {
    "duration": 595,
    "start_time": "2022-04-29T19:31:30.972Z"
   },
   {
    "duration": 1394,
    "start_time": "2022-04-30T07:08:14.793Z"
   },
   {
    "duration": 143,
    "start_time": "2022-04-30T07:08:16.189Z"
   },
   {
    "duration": 12,
    "start_time": "2022-04-30T07:08:16.334Z"
   },
   {
    "duration": 13,
    "start_time": "2022-04-30T07:08:16.348Z"
   },
   {
    "duration": 9,
    "start_time": "2022-04-30T07:08:16.363Z"
   },
   {
    "duration": 29,
    "start_time": "2022-04-30T07:08:16.374Z"
   },
   {
    "duration": 30,
    "start_time": "2022-04-30T07:08:16.406Z"
   },
   {
    "duration": 10,
    "start_time": "2022-04-30T07:08:16.438Z"
   },
   {
    "duration": 93,
    "start_time": "2022-04-30T07:08:43.008Z"
   },
   {
    "duration": 10,
    "start_time": "2022-04-30T07:09:16.718Z"
   },
   {
    "duration": 6,
    "start_time": "2022-04-30T07:26:26.359Z"
   },
   {
    "duration": 5,
    "start_time": "2022-04-30T07:26:44.679Z"
   },
   {
    "duration": 74,
    "start_time": "2022-04-30T08:50:32.485Z"
   },
   {
    "duration": 1895,
    "start_time": "2022-04-30T08:50:44.294Z"
   },
   {
    "duration": 125,
    "start_time": "2022-04-30T08:50:46.192Z"
   },
   {
    "duration": 22,
    "start_time": "2022-04-30T08:50:46.319Z"
   },
   {
    "duration": 43,
    "start_time": "2022-04-30T08:50:46.344Z"
   },
   {
    "duration": 15,
    "start_time": "2022-04-30T08:50:46.390Z"
   },
   {
    "duration": 22,
    "start_time": "2022-04-30T08:50:46.407Z"
   },
   {
    "duration": 57,
    "start_time": "2022-04-30T08:50:46.431Z"
   },
   {
    "duration": 18,
    "start_time": "2022-04-30T08:50:46.490Z"
   },
   {
    "duration": 7,
    "start_time": "2022-04-30T08:50:46.510Z"
   },
   {
    "duration": 14,
    "start_time": "2022-04-30T08:50:46.521Z"
   },
   {
    "duration": 44,
    "start_time": "2022-04-30T08:50:46.537Z"
   },
   {
    "duration": 9,
    "start_time": "2022-04-30T08:50:46.584Z"
   },
   {
    "duration": 15,
    "start_time": "2022-04-30T08:50:46.595Z"
   },
   {
    "duration": 12,
    "start_time": "2022-04-30T08:50:46.612Z"
   },
   {
    "duration": 19,
    "start_time": "2022-04-30T08:50:46.627Z"
   },
   {
    "duration": 47,
    "start_time": "2022-04-30T08:50:46.648Z"
   },
   {
    "duration": 28,
    "start_time": "2022-04-30T08:50:46.697Z"
   },
   {
    "duration": 24,
    "start_time": "2022-04-30T08:50:46.727Z"
   },
   {
    "duration": 606,
    "start_time": "2022-04-30T08:50:46.753Z"
   },
   {
    "duration": 29,
    "start_time": "2022-04-30T08:50:47.361Z"
   },
   {
    "duration": 659,
    "start_time": "2022-04-30T08:50:47.392Z"
   },
   {
    "duration": 53,
    "start_time": "2022-04-30T08:50:48.053Z"
   },
   {
    "duration": 1578,
    "start_time": "2022-04-30T08:50:48.108Z"
   },
   {
    "duration": 0,
    "start_time": "2022-04-30T08:50:49.689Z"
   },
   {
    "duration": 0,
    "start_time": "2022-04-30T08:50:49.692Z"
   },
   {
    "duration": 0,
    "start_time": "2022-04-30T08:50:49.694Z"
   },
   {
    "duration": 0,
    "start_time": "2022-04-30T08:50:49.695Z"
   },
   {
    "duration": 0,
    "start_time": "2022-04-30T08:50:49.697Z"
   },
   {
    "duration": 0,
    "start_time": "2022-04-30T08:50:49.698Z"
   },
   {
    "duration": 0,
    "start_time": "2022-04-30T08:50:49.700Z"
   },
   {
    "duration": 0,
    "start_time": "2022-04-30T08:50:49.702Z"
   },
   {
    "duration": 0,
    "start_time": "2022-04-30T08:50:49.703Z"
   },
   {
    "duration": 0,
    "start_time": "2022-04-30T08:50:49.705Z"
   },
   {
    "duration": 0,
    "start_time": "2022-04-30T08:50:49.706Z"
   },
   {
    "duration": 0,
    "start_time": "2022-04-30T08:50:49.708Z"
   },
   {
    "duration": 0,
    "start_time": "2022-04-30T08:50:49.709Z"
   },
   {
    "duration": 0,
    "start_time": "2022-04-30T08:50:49.711Z"
   },
   {
    "duration": 0,
    "start_time": "2022-04-30T08:50:49.713Z"
   },
   {
    "duration": 0,
    "start_time": "2022-04-30T08:50:49.714Z"
   },
   {
    "duration": 0,
    "start_time": "2022-04-30T08:50:49.716Z"
   },
   {
    "duration": 0,
    "start_time": "2022-04-30T08:50:49.717Z"
   },
   {
    "duration": 0,
    "start_time": "2022-04-30T08:50:49.719Z"
   },
   {
    "duration": 0,
    "start_time": "2022-04-30T08:50:49.720Z"
   },
   {
    "duration": 0,
    "start_time": "2022-04-30T08:50:49.721Z"
   },
   {
    "duration": 0,
    "start_time": "2022-04-30T08:50:49.723Z"
   },
   {
    "duration": 0,
    "start_time": "2022-04-30T08:50:49.724Z"
   },
   {
    "duration": 0,
    "start_time": "2022-04-30T08:50:49.782Z"
   },
   {
    "duration": 0,
    "start_time": "2022-04-30T08:50:49.783Z"
   },
   {
    "duration": 666,
    "start_time": "2022-04-30T08:53:35.088Z"
   },
   {
    "duration": 18,
    "start_time": "2022-04-30T08:54:03.877Z"
   },
   {
    "duration": 20396,
    "start_time": "2022-04-30T08:54:24.855Z"
   },
   {
    "duration": 0,
    "start_time": "2022-04-30T09:01:22.630Z"
   },
   {
    "duration": 1807,
    "start_time": "2022-04-30T09:01:26.329Z"
   },
   {
    "duration": 20,
    "start_time": "2022-04-30T09:02:42.262Z"
   },
   {
    "duration": 1722,
    "start_time": "2022-04-30T09:05:21.088Z"
   },
   {
    "duration": 1487,
    "start_time": "2022-04-30T09:05:35.049Z"
   },
   {
    "duration": 1487,
    "start_time": "2022-04-30T09:05:49.194Z"
   },
   {
    "duration": 1653,
    "start_time": "2022-04-30T09:06:20.864Z"
   },
   {
    "duration": 563,
    "start_time": "2022-04-30T09:09:34.772Z"
   }
  ],
  "kernelspec": {
   "display_name": "Python 3 (ipykernel)",
   "language": "python",
   "name": "python3"
  },
  "language_info": {
   "codemirror_mode": {
    "name": "ipython",
    "version": 3
   },
   "file_extension": ".py",
   "mimetype": "text/x-python",
   "name": "python",
   "nbconvert_exporter": "python",
   "pygments_lexer": "ipython3",
   "version": "3.7.8"
  },
  "toc": {
   "base_numbering": 1,
   "nav_menu": {
    "height": "222px",
    "width": "448px"
   },
   "number_sections": true,
   "sideBar": true,
   "skip_h1_title": true,
   "title_cell": "Table of Contents",
   "title_sidebar": "Contents",
   "toc_cell": false,
   "toc_position": {
    "height": "calc(100% - 180px)",
    "left": "10px",
    "top": "150px",
    "width": "289.6px"
   },
   "toc_section_display": true,
   "toc_window_display": true
  }
 },
 "nbformat": 4,
 "nbformat_minor": 5
}
