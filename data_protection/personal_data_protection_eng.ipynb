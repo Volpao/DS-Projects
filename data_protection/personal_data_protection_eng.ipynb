{
 "cells": [
  {
   "cell_type": "markdown",
   "id": "ecad36fb",
   "metadata": {},
   "source": [
    "# Personal Data Protection"
   ]
  },
  {
   "cell_type": "markdown",
   "id": "4ec0bc19",
   "metadata": {},
   "source": [
    "In today's world, personal data is extremely valuable information. Based on such data, for example, you can\n",
    "build prediction models and use them for business development, on the other hand, all kinds of fraudsters may use personal data, so there is a clear need to protect it.\n",
    "The realities of our time have led to the fact that the protection of personal data in many countries of the world is provided for by law, for this reason, companies that collect and store personal data of clients are obliged to protect them.\n",
    "\n",
    "\n",
    "In the course of this project, we will have to choose a data transformation method so that, on the one hand, it would be difficult to recover personal information from them, and on the other hand, so that this transformation would not affect the quality of the model.\n",
    "\n",
    "We will work with the data of an insurance company, stored in the following csv file: /datasets/insurance.csv, which contains the following columns:\n",
    "\n",
    " * Features: gender, age and salary of the insured, the number of members of his family.\n",
    "\n",
    " * Target feature: the number of insurance payments to the client over the past 5 years.\n",
    "\n",
    "\n",
    "\n",
    "**The purpose of this study** is to transform the data in such a way that it would be difficult to restore the original personal information about the clients from it, on the one hand, and on the other hand, not degrade the quality of the prediction model as a result of the transformation. The model that we will build on the original and transformed data is a linear regression, to assess the quality of which we will calculate **R2, i. e. the coefficient of determination**.\n",
    "\n",
    "**Research progress**:\n",
    "\n",
    "We will try to find the best way to transform the data, implement it, and then evaluate the quality of 2 linear regression models trained on the original and transformed data, respectively.\n",
    "\n",
    "\n",
    "Thus, this project will include the following steps:\n",
    "* data overview\n",
    "* selection and implementation of the transformation algorithm\n",
    "* algorithm check\n"
   ]
  },
  {
   "cell_type": "markdown",
   "id": "7df204d0",
   "metadata": {},
   "source": [
    "## Data Overview and Base Preprocessing\n",
    "\n"
   ]
  },
  {
   "cell_type": "code",
   "execution_count": 1,
   "id": "ed046b58",
   "metadata": {},
   "outputs": [],
   "source": [
    "import numpy as np  # importing numpy\n",
    "import pandas as pd  # importing pandas\n",
    "import os.path as path # importingos.path for path handling\n",
    "from sklearn.linear_model import LinearRegression # importing linear regression\n",
    "import warnings # importing warnings \n",
    "warnings.simplefilter(\"ignore\")\n",
    "from sklearn.preprocessing import StandardScaler  # importing StandardScaler to standartize quantitative features\n",
    "import seaborn as sns # importing seaborn for plotting\n",
    "from numpy.random import RandomState # importing RandomState class"
   ]
  },
  {
   "cell_type": "markdown",
   "id": "2a45e1a4",
   "metadata": {},
   "source": [
    "Let's get the first idea on the data. To view and analize, we will read the file in csv format, save it to a variable, and also have a look at the first 10 rows."
   ]
  },
  {
   "cell_type": "code",
   "execution_count": 2,
   "id": "7d068f91",
   "metadata": {},
   "outputs": [
    {
     "data": {
      "text/html": [
       "<div>\n",
       "<style scoped>\n",
       "    .dataframe tbody tr th:only-of-type {\n",
       "        vertical-align: middle;\n",
       "    }\n",
       "\n",
       "    .dataframe tbody tr th {\n",
       "        vertical-align: top;\n",
       "    }\n",
       "\n",
       "    .dataframe thead th {\n",
       "        text-align: right;\n",
       "    }\n",
       "</style>\n",
       "<table border=\"1\" class=\"dataframe\">\n",
       "  <thead>\n",
       "    <tr style=\"text-align: right;\">\n",
       "      <th></th>\n",
       "      <th>Пол</th>\n",
       "      <th>Возраст</th>\n",
       "      <th>Зарплата</th>\n",
       "      <th>Члены семьи</th>\n",
       "      <th>Страховые выплаты</th>\n",
       "    </tr>\n",
       "  </thead>\n",
       "  <tbody>\n",
       "    <tr>\n",
       "      <th>0</th>\n",
       "      <td>1</td>\n",
       "      <td>41.0</td>\n",
       "      <td>49600.0</td>\n",
       "      <td>1</td>\n",
       "      <td>0</td>\n",
       "    </tr>\n",
       "    <tr>\n",
       "      <th>1</th>\n",
       "      <td>0</td>\n",
       "      <td>46.0</td>\n",
       "      <td>38000.0</td>\n",
       "      <td>1</td>\n",
       "      <td>1</td>\n",
       "    </tr>\n",
       "    <tr>\n",
       "      <th>2</th>\n",
       "      <td>0</td>\n",
       "      <td>29.0</td>\n",
       "      <td>21000.0</td>\n",
       "      <td>0</td>\n",
       "      <td>0</td>\n",
       "    </tr>\n",
       "    <tr>\n",
       "      <th>3</th>\n",
       "      <td>0</td>\n",
       "      <td>21.0</td>\n",
       "      <td>41700.0</td>\n",
       "      <td>2</td>\n",
       "      <td>0</td>\n",
       "    </tr>\n",
       "    <tr>\n",
       "      <th>4</th>\n",
       "      <td>1</td>\n",
       "      <td>28.0</td>\n",
       "      <td>26100.0</td>\n",
       "      <td>0</td>\n",
       "      <td>0</td>\n",
       "    </tr>\n",
       "    <tr>\n",
       "      <th>5</th>\n",
       "      <td>1</td>\n",
       "      <td>43.0</td>\n",
       "      <td>41000.0</td>\n",
       "      <td>2</td>\n",
       "      <td>1</td>\n",
       "    </tr>\n",
       "    <tr>\n",
       "      <th>6</th>\n",
       "      <td>1</td>\n",
       "      <td>39.0</td>\n",
       "      <td>39700.0</td>\n",
       "      <td>2</td>\n",
       "      <td>0</td>\n",
       "    </tr>\n",
       "    <tr>\n",
       "      <th>7</th>\n",
       "      <td>1</td>\n",
       "      <td>25.0</td>\n",
       "      <td>38600.0</td>\n",
       "      <td>4</td>\n",
       "      <td>0</td>\n",
       "    </tr>\n",
       "    <tr>\n",
       "      <th>8</th>\n",
       "      <td>1</td>\n",
       "      <td>36.0</td>\n",
       "      <td>49700.0</td>\n",
       "      <td>1</td>\n",
       "      <td>0</td>\n",
       "    </tr>\n",
       "    <tr>\n",
       "      <th>9</th>\n",
       "      <td>1</td>\n",
       "      <td>32.0</td>\n",
       "      <td>51700.0</td>\n",
       "      <td>1</td>\n",
       "      <td>0</td>\n",
       "    </tr>\n",
       "  </tbody>\n",
       "</table>\n",
       "</div>"
      ],
      "text/plain": [
       "   Пол  Возраст  Зарплата  Члены семьи  Страховые выплаты\n",
       "0    1     41.0   49600.0            1                  0\n",
       "1    0     46.0   38000.0            1                  1\n",
       "2    0     29.0   21000.0            0                  0\n",
       "3    0     21.0   41700.0            2                  0\n",
       "4    1     28.0   26100.0            0                  0\n",
       "5    1     43.0   41000.0            2                  1\n",
       "6    1     39.0   39700.0            2                  0\n",
       "7    1     25.0   38600.0            4                  0\n",
       "8    1     36.0   49700.0            1                  0\n",
       "9    1     32.0   51700.0            1                  0"
      ]
     },
     "metadata": {},
     "output_type": "display_data"
    }
   ],
   "source": [
    "# reading csv file and saving to df_train\n",
    "try:\n",
    "    base_path = 'insurance.csv' \n",
    "    df = pd.read_csv(base_path) if path.exists(base_path) else pd.read_csv(f'/datasets/{base_path}') # checking path\n",
    "    display(df.head(10))  # visualizing first 10 rows\n",
    "except:\n",
    "     print('File not found') # if no path is correct, an error message will be printed\n"
   ]
  },
  {
   "cell_type": "markdown",
   "id": "a6324a49",
   "metadata": {},
   "source": [
    "Let's get the general information on the dataframe:"
   ]
  },
  {
   "cell_type": "code",
   "execution_count": 3,
   "id": "5903e3b5",
   "metadata": {},
   "outputs": [
    {
     "name": "stdout",
     "output_type": "stream",
     "text": [
      "<class 'pandas.core.frame.DataFrame'>\n",
      "RangeIndex: 5000 entries, 0 to 4999\n",
      "Data columns (total 5 columns):\n",
      " #   Column             Non-Null Count  Dtype  \n",
      "---  ------             --------------  -----  \n",
      " 0   Пол                5000 non-null   int64  \n",
      " 1   Возраст            5000 non-null   float64\n",
      " 2   Зарплата           5000 non-null   float64\n",
      " 3   Члены семьи        5000 non-null   int64  \n",
      " 4   Страховые выплаты  5000 non-null   int64  \n",
      "dtypes: float64(2), int64(3)\n",
      "memory usage: 195.4 KB\n"
     ]
    }
   ],
   "source": [
    "df.info() # getting general information on the df\n"
   ]
  },
  {
   "cell_type": "markdown",
   "id": "f95c98b9",
   "metadata": {},
   "source": [
    "So, from the first glance at the dataframe, we can conclude that it is relatively small in terms of  size (only 5000 objects) and contains a small number of features - 5, the last of which is the target. All characteristics, except for gender, which, nevertheless, is already expressed through numbers, are quantitative, the data corresponds to the expected type for all characteristics, except for age and salary: it is logical to use integers to indicate age. As for the salary, in this particular case, the values are rounded to integers, therefore, the most appropriate data type for this feature is integer.\n",
    "At first glance, it is clear that there are no missing values in the dataset.\n",
    "\n"
   ]
  },
  {
   "cell_type": "markdown",
   "id": "2a0acdd2",
   "metadata": {},
   "source": [
    "To begin with, for the convenience of further manipulations, we will rename the columns in the dataframe:\n",
    "\n"
   ]
  },
  {
   "cell_type": "code",
   "execution_count": 4,
   "id": "10a4902d",
   "metadata": {},
   "outputs": [
    {
     "data": {
      "text/html": [
       "<div>\n",
       "<style scoped>\n",
       "    .dataframe tbody tr th:only-of-type {\n",
       "        vertical-align: middle;\n",
       "    }\n",
       "\n",
       "    .dataframe tbody tr th {\n",
       "        vertical-align: top;\n",
       "    }\n",
       "\n",
       "    .dataframe thead th {\n",
       "        text-align: right;\n",
       "    }\n",
       "</style>\n",
       "<table border=\"1\" class=\"dataframe\">\n",
       "  <thead>\n",
       "    <tr style=\"text-align: right;\">\n",
       "      <th></th>\n",
       "      <th>gender</th>\n",
       "      <th>age</th>\n",
       "      <th>salary</th>\n",
       "      <th>family_members</th>\n",
       "      <th>payout</th>\n",
       "    </tr>\n",
       "  </thead>\n",
       "  <tbody>\n",
       "    <tr>\n",
       "      <th>0</th>\n",
       "      <td>1</td>\n",
       "      <td>41.0</td>\n",
       "      <td>49600.0</td>\n",
       "      <td>1</td>\n",
       "      <td>0</td>\n",
       "    </tr>\n",
       "    <tr>\n",
       "      <th>1</th>\n",
       "      <td>0</td>\n",
       "      <td>46.0</td>\n",
       "      <td>38000.0</td>\n",
       "      <td>1</td>\n",
       "      <td>1</td>\n",
       "    </tr>\n",
       "    <tr>\n",
       "      <th>2</th>\n",
       "      <td>0</td>\n",
       "      <td>29.0</td>\n",
       "      <td>21000.0</td>\n",
       "      <td>0</td>\n",
       "      <td>0</td>\n",
       "    </tr>\n",
       "    <tr>\n",
       "      <th>3</th>\n",
       "      <td>0</td>\n",
       "      <td>21.0</td>\n",
       "      <td>41700.0</td>\n",
       "      <td>2</td>\n",
       "      <td>0</td>\n",
       "    </tr>\n",
       "    <tr>\n",
       "      <th>4</th>\n",
       "      <td>1</td>\n",
       "      <td>28.0</td>\n",
       "      <td>26100.0</td>\n",
       "      <td>0</td>\n",
       "      <td>0</td>\n",
       "    </tr>\n",
       "  </tbody>\n",
       "</table>\n",
       "</div>"
      ],
      "text/plain": [
       "   gender   age   salary  family_members  payout\n",
       "0       1  41.0  49600.0               1       0\n",
       "1       0  46.0  38000.0               1       1\n",
       "2       0  29.0  21000.0               0       0\n",
       "3       0  21.0  41700.0               2       0\n",
       "4       1  28.0  26100.0               0       0"
      ]
     },
     "execution_count": 4,
     "metadata": {},
     "output_type": "execute_result"
    }
   ],
   "source": [
    "df.rename(columns={'Пол': 'gender', 'Возраст': 'age', 'Зарплата': 'salary', \n",
    "                   'Члены семьи': 'family_members', 'Страховые выплаты': 'payout'}, inplace=True) # renaming the columns\n",
    "df.head() # checking the result"
   ]
  },
  {
   "cell_type": "markdown",
   "id": "b219a532",
   "metadata": {},
   "source": [
    "Let's move to data type change for several features:"
   ]
  },
  {
   "cell_type": "code",
   "execution_count": 5,
   "id": "da1b2bd9",
   "metadata": {},
   "outputs": [
    {
     "data": {
      "text/html": [
       "<div>\n",
       "<style scoped>\n",
       "    .dataframe tbody tr th:only-of-type {\n",
       "        vertical-align: middle;\n",
       "    }\n",
       "\n",
       "    .dataframe tbody tr th {\n",
       "        vertical-align: top;\n",
       "    }\n",
       "\n",
       "    .dataframe thead th {\n",
       "        text-align: right;\n",
       "    }\n",
       "</style>\n",
       "<table border=\"1\" class=\"dataframe\">\n",
       "  <thead>\n",
       "    <tr style=\"text-align: right;\">\n",
       "      <th></th>\n",
       "      <th>gender</th>\n",
       "      <th>age</th>\n",
       "      <th>salary</th>\n",
       "      <th>family_members</th>\n",
       "      <th>payout</th>\n",
       "    </tr>\n",
       "  </thead>\n",
       "  <tbody>\n",
       "    <tr>\n",
       "      <th>0</th>\n",
       "      <td>1</td>\n",
       "      <td>41</td>\n",
       "      <td>49600</td>\n",
       "      <td>1</td>\n",
       "      <td>0</td>\n",
       "    </tr>\n",
       "    <tr>\n",
       "      <th>1</th>\n",
       "      <td>0</td>\n",
       "      <td>46</td>\n",
       "      <td>38000</td>\n",
       "      <td>1</td>\n",
       "      <td>1</td>\n",
       "    </tr>\n",
       "    <tr>\n",
       "      <th>2</th>\n",
       "      <td>0</td>\n",
       "      <td>29</td>\n",
       "      <td>21000</td>\n",
       "      <td>0</td>\n",
       "      <td>0</td>\n",
       "    </tr>\n",
       "    <tr>\n",
       "      <th>3</th>\n",
       "      <td>0</td>\n",
       "      <td>21</td>\n",
       "      <td>41700</td>\n",
       "      <td>2</td>\n",
       "      <td>0</td>\n",
       "    </tr>\n",
       "    <tr>\n",
       "      <th>4</th>\n",
       "      <td>1</td>\n",
       "      <td>28</td>\n",
       "      <td>26100</td>\n",
       "      <td>0</td>\n",
       "      <td>0</td>\n",
       "    </tr>\n",
       "  </tbody>\n",
       "</table>\n",
       "</div>"
      ],
      "text/plain": [
       "   gender  age  salary  family_members  payout\n",
       "0       1   41   49600               1       0\n",
       "1       0   46   38000               1       1\n",
       "2       0   29   21000               0       0\n",
       "3       0   21   41700               2       0\n",
       "4       1   28   26100               0       0"
      ]
     },
     "execution_count": 5,
     "metadata": {},
     "output_type": "execute_result"
    }
   ],
   "source": [
    "df[['age', 'salary']] = df[['age', 'salary']].astype('int') # changing the data type to int\n",
    "df.head() # проверяем результат"
   ]
  },
  {
   "cell_type": "markdown",
   "id": "79f7eade",
   "metadata": {},
   "source": [
    "Далее проверим, есть ли в датасетах полные дубликаты:"
   ]
  },
  {
   "cell_type": "code",
   "execution_count": 6,
   "id": "c82a9e4f",
   "metadata": {},
   "outputs": [
    {
     "data": {
      "text/plain": [
       "153"
      ]
     },
     "execution_count": 6,
     "metadata": {},
     "output_type": "execute_result"
    }
   ],
   "source": [
    "df.duplicated().sum() # проверяем датасет на наличие полных дубликатов"
   ]
  },
  {
   "cell_type": "markdown",
   "id": "76d95ecf",
   "metadata": {},
   "source": [
    "So, full duplicates are present and make up approx. 3% of the number of objects in the dataframe. Since there are few features, we are not 100% sure that these are not coincidences. On the other hand, the number of objects is also small relative to the number of complete matches to the data. We will clear the dataframe from full duplicates:"
   ]
  },
  {
   "cell_type": "code",
   "execution_count": 7,
   "id": "7cc11c70",
   "metadata": {},
   "outputs": [
    {
     "data": {
      "text/plain": [
       "4847"
      ]
     },
     "execution_count": 7,
     "metadata": {},
     "output_type": "execute_result"
    }
   ],
   "source": [
    "df.drop_duplicates(inplace=True) # dropping full duplicates\n",
    "len(df) # checking the result"
   ]
  },
  {
   "cell_type": "markdown",
   "id": "bd139648",
   "metadata": {},
   "source": [
    "Next, let's check the unique values that some features take. We will not carry out such a check only on salary, since this is a pronounced quantitative feature, therefore, there can be many unique values, and this is not a contradiction.\n"
   ]
  },
  {
   "cell_type": "code",
   "execution_count": 8,
   "id": "8fd02ce9",
   "metadata": {},
   "outputs": [
    {
     "name": "stdout",
     "output_type": "stream",
     "text": [
      "gender [1 0]\n",
      "age [41 46 29 21 28 43 39 25 36 32 38 23 40 34 26 42 27 33 47 30 19 31 22 20\n",
      " 24 18 37 48 45 44 52 49 35 56 65 55 57 54 50 53 51 58 59 60 61 62]\n",
      "family_members [1 0 2 4 3 5 6]\n",
      "payout [0 1 2 3 5 4]\n"
     ]
    }
   ],
   "source": [
    "for col in ['gender', 'age', 'family_members', 'payout']: # iterating over the features\n",
    "    print(col, df[col].unique()) # printing unique values for each feature"
   ]
  },
  {
   "cell_type": "markdown",
   "id": "9456ce8c",
   "metadata": {},
   "source": [
    "So, as far as the features are concerned, unique values do not raise questions, there are no anomalies. The target feature is the most interesting one from this point of view. From the task, we know that this is the number of insurance payouts to the client over the past 5 years, thus, the insurance company has never paid some client, and 5 times to someone (5 is the maximum number of payouts).\n",
    "\n"
   ]
  },
  {
   "cell_type": "markdown",
   "id": "1947218e",
   "metadata": {},
   "source": [
    "Further, in order to exclude possible multicollinearity, we will study the correlation in the quantitative features of the data. To do this, we will try to represent our dataset graphically and analyze if there is a correlation, and what is its strength between the individual df features:\n"
   ]
  },
  {
   "cell_type": "code",
   "execution_count": 9,
   "id": "da696c33",
   "metadata": {},
   "outputs": [
    {
     "data": {
      "image/png": "[encoded data removed]",
      "text/plain": [
       "<Figure size 576x576 with 2 Axes>"
      ]
     },
     "metadata": {},
     "output_type": "display_data"
    }
   ],
   "source": [
    "sns.set(rc = {'figure.figsize':(8,8)}); # setting the plot size\n",
    "sns.heatmap(df.drop(columns=['gender']).corr(), center=0, annot=True); # plotting  heatmap to evaluate correlation\n"
   ]
  },
  {
   "cell_type": "markdown",
   "id": "0529b014",
   "metadata": {},
   "source": [
    "The only fairly strong correlation is observed between age and the target attribute: in 65% of cases, the older the client is, the more payouts he/she received  from the insurance company.\n",
    "\n",
    "Next, we will divide the dataframe into two: features and target.\n"
   ]
  },
  {
   "cell_type": "code",
   "execution_count": 10,
   "id": "83b38d2e",
   "metadata": {},
   "outputs": [
    {
     "data": {
      "text/plain": [
       "0    0\n",
       "1    1\n",
       "2    0\n",
       "3    0\n",
       "4    0\n",
       "Name: payout, dtype: int64"
      ]
     },
     "execution_count": 10,
     "metadata": {},
     "output_type": "execute_result"
    }
   ],
   "source": [
    "target = df['payout'] # separating the target feature in a different dataframe\n",
    "target.head() # checking the result"
   ]
  },
  {
   "cell_type": "code",
   "execution_count": 11,
   "id": "bd42d248",
   "metadata": {},
   "outputs": [
    {
     "data": {
      "text/html": [
       "<div>\n",
       "<style scoped>\n",
       "    .dataframe tbody tr th:only-of-type {\n",
       "        vertical-align: middle;\n",
       "    }\n",
       "\n",
       "    .dataframe tbody tr th {\n",
       "        vertical-align: top;\n",
       "    }\n",
       "\n",
       "    .dataframe thead th {\n",
       "        text-align: right;\n",
       "    }\n",
       "</style>\n",
       "<table border=\"1\" class=\"dataframe\">\n",
       "  <thead>\n",
       "    <tr style=\"text-align: right;\">\n",
       "      <th></th>\n",
       "      <th>gender</th>\n",
       "      <th>age</th>\n",
       "      <th>salary</th>\n",
       "      <th>family_members</th>\n",
       "    </tr>\n",
       "  </thead>\n",
       "  <tbody>\n",
       "    <tr>\n",
       "      <th>0</th>\n",
       "      <td>1</td>\n",
       "      <td>41</td>\n",
       "      <td>49600</td>\n",
       "      <td>1</td>\n",
       "    </tr>\n",
       "    <tr>\n",
       "      <th>1</th>\n",
       "      <td>0</td>\n",
       "      <td>46</td>\n",
       "      <td>38000</td>\n",
       "      <td>1</td>\n",
       "    </tr>\n",
       "    <tr>\n",
       "      <th>2</th>\n",
       "      <td>0</td>\n",
       "      <td>29</td>\n",
       "      <td>21000</td>\n",
       "      <td>0</td>\n",
       "    </tr>\n",
       "    <tr>\n",
       "      <th>3</th>\n",
       "      <td>0</td>\n",
       "      <td>21</td>\n",
       "      <td>41700</td>\n",
       "      <td>2</td>\n",
       "    </tr>\n",
       "    <tr>\n",
       "      <th>4</th>\n",
       "      <td>1</td>\n",
       "      <td>28</td>\n",
       "      <td>26100</td>\n",
       "      <td>0</td>\n",
       "    </tr>\n",
       "  </tbody>\n",
       "</table>\n",
       "</div>"
      ],
      "text/plain": [
       "   gender  age  salary  family_members\n",
       "0       1   41   49600               1\n",
       "1       0   46   38000               1\n",
       "2       0   29   21000               0\n",
       "3       0   21   41700               2\n",
       "4       1   28   26100               0"
      ]
     },
     "execution_count": 11,
     "metadata": {},
     "output_type": "execute_result"
    }
   ],
   "source": [
    "features = df.drop(columns=['payout']) # separating features ina different dataframe\n",
    "features.head() # проверяем результат"
   ]
  },
  {
   "cell_type": "markdown",
   "id": "6fc042cb",
   "metadata": {},
   "source": [
    "We already know that models based on \"distance between features\" (Euclidean distance), including linear regression, which we will built, perform better if the features used in training are standardized. For this reason, we will standardize all quantitative features contained in the dataframe, that is, all features except gender:\n",
    "\n"
   ]
  },
  {
   "cell_type": "code",
   "execution_count": 12,
   "id": "3ed64768",
   "metadata": {},
   "outputs": [],
   "source": [
    "numeric = ['age', 'salary', 'family_members']# creating a list of quantitative features\n"
   ]
  },
  {
   "cell_type": "code",
   "execution_count": 13,
   "id": "3af61b56",
   "metadata": {},
   "outputs": [],
   "source": [
    "scaler = StandardScaler() # creating an StandardScaler object\n",
    "scaler.fit(features[numeric]) # fitting the StandardScaler object\n",
    "features[numeric] = scaler.transform(features[numeric]) # standartizing quantitative features"
   ]
  },
  {
   "cell_type": "code",
   "execution_count": 14,
   "id": "85e3f381",
   "metadata": {},
   "outputs": [
    {
     "data": {
      "text/html": [
       "<div>\n",
       "<style scoped>\n",
       "    .dataframe tbody tr th:only-of-type {\n",
       "        vertical-align: middle;\n",
       "    }\n",
       "\n",
       "    .dataframe tbody tr th {\n",
       "        vertical-align: top;\n",
       "    }\n",
       "\n",
       "    .dataframe thead th {\n",
       "        text-align: right;\n",
       "    }\n",
       "</style>\n",
       "<table border=\"1\" class=\"dataframe\">\n",
       "  <thead>\n",
       "    <tr style=\"text-align: right;\">\n",
       "      <th></th>\n",
       "      <th>gender</th>\n",
       "      <th>age</th>\n",
       "      <th>salary</th>\n",
       "      <th>family_members</th>\n",
       "    </tr>\n",
       "  </thead>\n",
       "  <tbody>\n",
       "    <tr>\n",
       "      <th>0</th>\n",
       "      <td>1</td>\n",
       "      <td>1.175436</td>\n",
       "      <td>0.973151</td>\n",
       "      <td>-0.185176</td>\n",
       "    </tr>\n",
       "    <tr>\n",
       "      <th>1</th>\n",
       "      <td>0</td>\n",
       "      <td>1.764564</td>\n",
       "      <td>-0.190115</td>\n",
       "      <td>-0.185176</td>\n",
       "    </tr>\n",
       "    <tr>\n",
       "      <th>2</th>\n",
       "      <td>0</td>\n",
       "      <td>-0.238471</td>\n",
       "      <td>-1.894901</td>\n",
       "      <td>-1.095466</td>\n",
       "    </tr>\n",
       "    <tr>\n",
       "      <th>3</th>\n",
       "      <td>0</td>\n",
       "      <td>-1.181076</td>\n",
       "      <td>0.180927</td>\n",
       "      <td>0.725115</td>\n",
       "    </tr>\n",
       "    <tr>\n",
       "      <th>4</th>\n",
       "      <td>1</td>\n",
       "      <td>-0.356297</td>\n",
       "      <td>-1.383465</td>\n",
       "      <td>-1.095466</td>\n",
       "    </tr>\n",
       "  </tbody>\n",
       "</table>\n",
       "</div>"
      ],
      "text/plain": [
       "   gender       age    salary  family_members\n",
       "0       1  1.175436  0.973151       -0.185176\n",
       "1       0  1.764564 -0.190115       -0.185176\n",
       "2       0 -0.238471 -1.894901       -1.095466\n",
       "3       0 -1.181076  0.180927        0.725115\n",
       "4       1 -0.356297 -1.383465       -1.095466"
      ]
     },
     "execution_count": 14,
     "metadata": {},
     "output_type": "execute_result"
    }
   ],
   "source": [
    "features.head() # checking the result"
   ]
  },
  {
   "cell_type": "markdown",
   "id": "a5e4fc0d",
   "metadata": {},
   "source": [
    "**Conclusions:**\n",
    "\n",
    "So, the data has been preprocessed, which will allow us to improve the quality of linear regression models. Let's move on to the next stage of the study - assessing the effect of multiplication of the feature matrix by the invertible one.\n",
    "\n",
    "\n"
   ]
  },
  {
   "cell_type": "markdown",
   "id": "44ee8a3f",
   "metadata": {},
   "source": [
    "## Selection and Implementation of the Data Transformation Algorithm\n",
    "\n",
    "### Multiplication by an invertible matrix\n",
    "\n",
    "So, first of all, we have to answer the question: will the quality of linear regression change if, in order to protect the data, we multiply the features by an invertible matrix. Let's try to figure this out, taking into account the linear regression learning formula:\n",
    "\n",
    "$$ w = arg min MSE (Xw,y) $$\n",
    "\n",
    "Further, we also know that the minimum MSE value is obtained when the weights are equal to the following value:\n",
    "\n",
    "$$ w = (X^{T}X)^{-1}X^{T}y $$\n",
    "\n",
    "where,\n",
    " - w: weight vector;\n",
    " - X - matrix of features;\n",
    " - y - vector of target values.\n",
    "\n",
    "Let's suppose we get a new matrix X_{1} by multiplying the feature matrix X by an invertible matrix H, the length of which will be equal to the width of the matrix X:\n",
    "$$ X_{1} = XH $$\n",
    "\n",
    "Next, we will substitute this product into the previous formula to calculate a new weight vector:\n",
    "$$ w_{1} = ((XH)^{T}(XH))^{-1}(XH)^{T}y $$\n",
    "\n",
    "Expanding the brackets:\n",
    "\n",
    "$$ w_{1} = (H^{T}(X^{T}X)H)^{-1}H^{T}X^{T}y $$\n",
    "\n",
    "$$ w_{1} = H^{-1}(X^{T}X)^{-1}(H^{T})^{-1}H^{T}X^{T}y $$\n",
    "\n",
    "We know that the product of a square matrix and the inverse gives the identity matrix,\n",
    "that is, for our invertible matrix H:\n",
    "$$ HH^{-1} = H^{-1}H = E $$\n",
    "$$ H^{T}(H^{T})^{-1} = (H^{T})^{-1}H^{T} = E $$\n",
    "Consequently:\n",
    "\n",
    "$$ w_{1} = H^{-1}(X^{T}X)^{-1}EX^{T}y $$\n",
    "\n",
    "When a matrix is multiplied by an identity one, the same matrix is obtained, therefore:\n",
    "\n",
    "$$ w_{1} = H^{-1}(X^{T}X)^{-1}X^{T}y $$\n",
    "\n",
    "In the formula above, let's replace $$ (X^{T}X)^{-1}X^{T}y $$ with w, resulting in:\n",
    "\n",
    "\n",
    "$$ w_{1} = H^{-1}w $$\n",
    "\n",
    "Next, we will turn to a simplified formula for the prediction vector, where a is the prediction vector:\n",
    "\n",
    "$$ a = Xw $$\n",
    "\n",
    "We will use the same formula for the prediction vector a_{1}:\n",
    "\n",
    "$$ a_{1} = X_{1}w_{1} $$\n",
    "\n",
    "Transforming, we get:\n",
    "\n",
    "$$ a_{1} = XHH^{-1}w $$,\n",
    "\n",
    "where the product of H by H-1 gives the identity matrix, therefore, knowing its properties:\n",
    "\n",
    "$$ a_{1} = Xw = a $$\n",
    "\n",
    "Thus, we have proved that when the feature matrix is multiplied by the invertible matrix, the prediction vector does not change, therefore, this operation does not affect the quality of the linear regression model.\n",
    "\n",
    "\n",
    "\n",
    "\n"
   ]
  },
  {
   "cell_type": "markdown",
   "id": "a4d3e978",
   "metadata": {},
   "source": [
    "### Choosing the Data Transformation Algorithm:\n",
    "\n",
    "So, we have proved that when the feature matrix is multiplied by the invertible matrix, the quality of the linear regression does not change. Next, we should propose a data transformation algorithm for solving the problem, i.e. we need to choose the appropriate invertible matrix.\n",
    "\n"
   ]
  },
  {
   "cell_type": "code",
   "execution_count": 15,
   "id": "8b38f108",
   "metadata": {},
   "outputs": [
    {
     "data": {
      "text/plain": [
       "array([[ 1.        ,  1.1754362 ,  0.97315113, -0.18517565],\n",
       "       [ 0.        ,  1.76456423, -0.1901149 , -0.18517565],\n",
       "       [ 0.        , -0.23847105, -1.89490132, -1.09546611],\n",
       "       ...,\n",
       "       [ 0.        , -1.29890149, -0.60126927,  0.7251148 ],\n",
       "       [ 1.        , -1.06325028, -0.72160713,  1.63540526],\n",
       "       [ 1.        , -0.35629665,  0.07061715, -0.18517565]])"
      ]
     },
     "execution_count": 15,
     "metadata": {},
     "output_type": "execute_result"
    }
   ],
   "source": [
    "matrix = features.values # creating a features matrix\n",
    "matrix #  checking the result"
   ]
  },
  {
   "cell_type": "code",
   "execution_count": 16,
   "id": "1c544e50",
   "metadata": {},
   "outputs": [
    {
     "data": {
      "text/plain": [
       "(4847, 4)"
      ]
     },
     "execution_count": 16,
     "metadata": {},
     "output_type": "execute_result"
    }
   ],
   "source": [
    "matrix.shape # printing the features matrix size"
   ]
  },
  {
   "cell_type": "markdown",
   "id": "19031481",
   "metadata": {},
   "source": [
    "We have recalled the dimensions of the feature matrix: it has 4847 rows and 4 columns. We remember that for matrix multiplication it is necessary that the width of the first matrix be equal to the length of the second. On the other hand, only square matrices are invertible. Therefore, we need a 4 x 4 matrix, we will generate a random matrix using the numpy library:\n"
   ]
  },
  {
   "cell_type": "code",
   "execution_count": 17,
   "id": "4d94ecbc",
   "metadata": {},
   "outputs": [
    {
     "data": {
      "text/plain": [
       "array([[ 0.49671415, -0.1382643 ,  0.64768854,  1.52302986],\n",
       "       [-0.23415337, -0.23413696,  1.57921282,  0.76743473],\n",
       "       [-0.46947439,  0.54256004, -0.46341769, -0.46572975],\n",
       "       [ 0.24196227, -1.91328024, -1.72491783, -0.56228753]])"
      ]
     },
     "execution_count": 17,
     "metadata": {},
     "output_type": "execute_result"
    }
   ],
   "source": [
    "np.random.seed(42)  # setting the random state\n",
    "mult_matrix = np.random.normal(size=(4, 4)) # creating a square random matrix\n",
    "mult_matrix # checking the result"
   ]
  },
  {
   "cell_type": "markdown",
   "id": "05db6423",
   "metadata": {},
   "source": [
    "Let's check our matrix for invertibility:"
   ]
  },
  {
   "cell_type": "code",
   "execution_count": 18,
   "id": "3692fe1b",
   "metadata": {},
   "outputs": [
    {
     "data": {
      "text/plain": [
       "array([[-0.33124857, -1.0333483 , -2.21070923, -0.47651024],\n",
       "       [ 0.12864778, -0.47781825,  0.15271687, -0.43017975],\n",
       "       [-0.51338817,  0.33588835, -0.8347692 , -0.24072429],\n",
       "       [ 0.99462192,  0.15079316,  1.08985145,  0.21872535]])"
      ]
     },
     "execution_count": 18,
     "metadata": {},
     "output_type": "execute_result"
    }
   ],
   "source": [
    "np.linalg.inv(mult_matrix) # checking if the random matrix is invertible"
   ]
  },
  {
   "cell_type": "markdown",
   "id": "8c757c92",
   "metadata": {},
   "source": [
    "So, the created matrix is invertible, let's move on to data transformation.\n",
    "\n",
    "\n",
    "### Implementation of the Data Transformation Algorithm\n",
    "\n",
    "So, to protect the data, we will multiply the feature matrix by the created 4 x 4 matrix:\n",
    "\n"
   ]
  },
  {
   "cell_type": "code",
   "execution_count": 19,
   "id": "35426629",
   "metadata": {},
   "outputs": [
    {
     "data": {
      "text/plain": [
       "array([[-0.28019325,  0.46880848,  2.37238979,  2.07599694],\n",
       "       [-0.36873012, -0.16200553,  3.19413783,  1.54685199],\n",
       "       [ 0.68038497,  1.12367081,  2.39112329,  1.31546789],\n",
       "       ...,\n",
       "       [ 0.76187311, -1.40945167, -3.02336652, -1.12451614],\n",
       "       [ 1.48016023, -3.40982189, -3.51794412,  0.12356059],\n",
       "       [ 0.50218375,  0.33776487,  0.37170785,  1.32082888]])"
      ]
     },
     "execution_count": 19,
     "metadata": {},
     "output_type": "execute_result"
    }
   ],
   "source": [
    "new_matrix = matrix @ mult_matrix # multiplying the features matrix to the random one\n",
    "new_matrix #  checking the result"
   ]
  },
  {
   "cell_type": "markdown",
   "id": "f41a7f93",
   "metadata": {},
   "source": [
    "**Conclusions:**\n",
    "\n",
    "So, personal data has been transformed, and, therefore, protected. Time to check in practice that the quality of linear regression does not change.\n",
    "\n",
    "## Algorithm Quality Check\n",
    "\n"
   ]
  },
  {
   "cell_type": "markdown",
   "id": "0b162567",
   "metadata": {},
   "source": [
    "So, we will check the quality of the data transformation algorithm by comparing the coefficient of determination, or the R2 metric, which calculates the share of the standard error of the model from the MSE of the mean, and then subtracts this value from 1. The higher the value of R2 is, the better the model is. Our goal is to prove that the coefficient of determination of a model trained on the original data will not differ significantly from the one trained on the transformed data.\n",
    "\n"
   ]
  },
  {
   "cell_type": "code",
   "execution_count": 20,
   "id": "0b716670",
   "metadata": {},
   "outputs": [
    {
     "name": "stdout",
     "output_type": "stream",
     "text": [
      "Coefficient of determination of the model fit on the initial features matrix is       0.4302010046633359.\n"
     ]
    }
   ],
   "source": [
    "model = LinearRegression() # creating a model of linear regression\n",
    "model.fit(matrix, target) #  fitting the model\n",
    "print(f'Coefficient of determination of the model fit on the initial features matrix is \\\n",
    "      {model.score(matrix, target)}.') # checking the quality metric\n",
    "\n"
   ]
  },
  {
   "cell_type": "code",
   "execution_count": 21,
   "id": "48b7ad31",
   "metadata": {},
   "outputs": [
    {
     "name": "stdout",
     "output_type": "stream",
     "text": [
      "Coefficient of determination of the model fit on the preprocessed features matrix is       0.4302010046633359.\n"
     ]
    }
   ],
   "source": [
    "model = LinearRegression() # reating a model of linear regression\n",
    "model.fit(new_matrix, target) # fitting the model\n",
    "print(f'Coefficient of determination of the model fit on the preprocessed features matrix is \\\n",
    "      {model.score(new_matrix, target)}.') # checking the quality metric\n",
    "\n"
   ]
  },
  {
   "cell_type": "markdown",
   "id": "163e59b9",
   "metadata": {},
   "source": [
    "**Conclusions:**\n",
    "\n",
    "So, the coefficients of determination of 2 linear regression models trained on the original and transformed data are just the same. Therefore, the chosen algorithm makes sense to be.\n",
    "\n"
   ]
  },
  {
   "cell_type": "markdown",
   "id": "e2fd5632",
   "metadata": {},
   "source": [
    "## Study Results \n",
    "In the course of this study, we overviewd and basicly  preprocessed data, proved the hypothesis that when multiplying a feature matrix by a invertible matrix, the quality of linear rergesion does not change. Next, we proposed a simple and intuitive data transformation algorithm, built two linear regression models and trained them on the original and transformed samples.\n",
    "**We checked the quality of the models through the coefficient of determination, the value of which practically did not change when changing the training sample**\n",
    "Thus, the goal has been achieved: we managed to protect the personal data of clients without negatively affecting the quality of predictions.\n",
    "\n"
   ]
  }
 ],
 "metadata": {
  "ExecuteTimeLog": [
   {
    "duration": 667,
    "start_time": "2022-03-08T15:34:14.246Z"
   },
   {
    "duration": 44,
    "start_time": "2022-03-08T15:34:38.925Z"
   },
   {
    "duration": 40,
    "start_time": "2022-03-08T15:34:39.882Z"
   },
   {
    "duration": 55,
    "start_time": "2022-03-08T15:34:49.258Z"
   },
   {
    "duration": 55,
    "start_time": "2022-03-08T15:35:23.556Z"
   },
   {
    "duration": 17,
    "start_time": "2022-03-08T15:46:17.513Z"
   },
   {
    "duration": 14,
    "start_time": "2022-03-08T15:46:52.976Z"
   },
   {
    "duration": 56,
    "start_time": "2022-03-08T15:49:44.344Z"
   },
   {
    "duration": 31,
    "start_time": "2022-03-08T15:52:03.568Z"
   },
   {
    "duration": 21,
    "start_time": "2022-03-08T15:55:13.609Z"
   },
   {
    "duration": 15,
    "start_time": "2022-03-08T15:55:29.176Z"
   },
   {
    "duration": 13,
    "start_time": "2022-03-08T15:55:39.020Z"
   },
   {
    "duration": 12,
    "start_time": "2022-03-08T15:55:54.155Z"
   },
   {
    "duration": 32,
    "start_time": "2022-03-08T16:03:58.644Z"
   },
   {
    "duration": 13,
    "start_time": "2022-03-08T16:05:29.577Z"
   },
   {
    "duration": 357,
    "start_time": "2022-03-08T16:08:53.653Z"
   },
   {
    "duration": 28,
    "start_time": "2022-03-08T16:09:22.196Z"
   },
   {
    "duration": 245,
    "start_time": "2022-03-08T16:10:05.863Z"
   },
   {
    "duration": 26,
    "start_time": "2022-03-08T16:10:21.729Z"
   },
   {
    "duration": 24,
    "start_time": "2022-03-08T16:11:28.314Z"
   },
   {
    "duration": 15,
    "start_time": "2022-03-08T16:13:46.039Z"
   },
   {
    "duration": 22,
    "start_time": "2022-03-08T16:20:36.997Z"
   },
   {
    "duration": 22,
    "start_time": "2022-03-08T16:21:00.502Z"
   },
   {
    "duration": 20,
    "start_time": "2022-03-08T16:21:11.356Z"
   },
   {
    "duration": 21,
    "start_time": "2022-03-08T16:22:44.768Z"
   },
   {
    "duration": 18,
    "start_time": "2022-03-08T16:23:04.185Z"
   },
   {
    "duration": 61,
    "start_time": "2022-03-08T16:23:16.270Z"
   },
   {
    "duration": 20,
    "start_time": "2022-03-08T16:23:16.333Z"
   },
   {
    "duration": 10,
    "start_time": "2022-03-08T16:27:47.184Z"
   },
   {
    "duration": 10,
    "start_time": "2022-03-08T16:27:48.569Z"
   },
   {
    "duration": 23,
    "start_time": "2022-03-08T16:31:29.349Z"
   },
   {
    "duration": 29,
    "start_time": "2022-03-08T16:40:11.762Z"
   },
   {
    "duration": 13,
    "start_time": "2022-03-08T16:43:03.827Z"
   },
   {
    "duration": 16,
    "start_time": "2022-03-08T16:50:12.822Z"
   },
   {
    "duration": 12,
    "start_time": "2022-03-08T16:51:08.365Z"
   },
   {
    "duration": 15,
    "start_time": "2022-03-08T16:55:50.479Z"
   },
   {
    "duration": 25,
    "start_time": "2022-03-08T16:56:45.138Z"
   },
   {
    "duration": 37,
    "start_time": "2022-03-08T16:56:52.361Z"
   },
   {
    "duration": 41,
    "start_time": "2022-03-08T16:58:09.738Z"
   },
   {
    "duration": 4526,
    "start_time": "2022-03-08T17:00:42.767Z"
   },
   {
    "duration": 4486,
    "start_time": "2022-03-08T17:02:59.102Z"
   },
   {
    "duration": 58,
    "start_time": "2022-03-08T17:03:32.191Z"
   },
   {
    "duration": 62,
    "start_time": "2022-03-08T17:09:27.759Z"
   },
   {
    "duration": 21,
    "start_time": "2022-03-08T17:09:27.824Z"
   },
   {
    "duration": 30,
    "start_time": "2022-03-08T17:09:27.979Z"
   },
   {
    "duration": 14,
    "start_time": "2022-03-08T17:09:28.012Z"
   },
   {
    "duration": 78,
    "start_time": "2022-03-08T17:09:28.028Z"
   },
   {
    "duration": 5,
    "start_time": "2022-03-08T17:13:58.107Z"
   },
   {
    "duration": 6,
    "start_time": "2022-03-08T17:14:05.436Z"
   },
   {
    "duration": 6,
    "start_time": "2022-03-08T17:14:22.178Z"
   },
   {
    "duration": 61,
    "start_time": "2022-03-08T17:14:46.655Z"
   },
   {
    "duration": 21,
    "start_time": "2022-03-08T17:14:46.718Z"
   },
   {
    "duration": 36,
    "start_time": "2022-03-08T17:14:46.741Z"
   },
   {
    "duration": 13,
    "start_time": "2022-03-08T17:14:46.778Z"
   },
   {
    "duration": 82,
    "start_time": "2022-03-08T17:14:46.813Z"
   },
   {
    "duration": 7,
    "start_time": "2022-03-08T17:14:46.898Z"
   },
   {
    "duration": 190,
    "start_time": "2022-03-08T17:15:14.389Z"
   },
   {
    "duration": 11,
    "start_time": "2022-03-08T17:15:23.488Z"
   },
   {
    "duration": 12,
    "start_time": "2022-03-08T17:15:54.694Z"
   },
   {
    "duration": 12,
    "start_time": "2022-03-08T17:16:03.402Z"
   },
   {
    "duration": 8,
    "start_time": "2022-03-08T17:16:51.157Z"
   },
   {
    "duration": 12,
    "start_time": "2022-03-08T17:17:44.640Z"
   },
   {
    "duration": 19,
    "start_time": "2022-03-08T17:20:44.148Z"
   },
   {
    "duration": 743,
    "start_time": "2022-03-09T07:35:42.722Z"
   },
   {
    "duration": 18,
    "start_time": "2022-03-09T07:35:43.467Z"
   },
   {
    "duration": 23,
    "start_time": "2022-03-09T07:35:43.486Z"
   },
   {
    "duration": 11,
    "start_time": "2022-03-09T07:35:43.510Z"
   },
   {
    "duration": 80,
    "start_time": "2022-03-09T07:35:43.522Z"
   },
   {
    "duration": 14,
    "start_time": "2022-03-09T07:35:43.603Z"
   },
   {
    "duration": 197,
    "start_time": "2022-03-09T07:35:43.619Z"
   },
   {
    "duration": 55,
    "start_time": "2022-03-09T07:35:56.589Z"
   },
   {
    "duration": 18,
    "start_time": "2022-03-09T07:35:56.645Z"
   },
   {
    "duration": 39,
    "start_time": "2022-03-09T07:35:56.665Z"
   },
   {
    "duration": 10,
    "start_time": "2022-03-09T07:35:56.706Z"
   },
   {
    "duration": 58,
    "start_time": "2022-03-09T07:35:56.718Z"
   },
   {
    "duration": 35,
    "start_time": "2022-03-09T07:35:56.777Z"
   },
   {
    "duration": 16,
    "start_time": "2022-03-09T07:35:56.814Z"
   },
   {
    "duration": 5,
    "start_time": "2022-03-09T08:00:43.756Z"
   },
   {
    "duration": 1428,
    "start_time": "2022-03-09T08:12:01.438Z"
   },
   {
    "duration": 149,
    "start_time": "2022-03-09T08:12:24.028Z"
   },
   {
    "duration": 162,
    "start_time": "2022-03-09T08:12:38.873Z"
   },
   {
    "duration": 157,
    "start_time": "2022-03-09T08:13:22.396Z"
   },
   {
    "duration": 161,
    "start_time": "2022-03-09T08:14:13.402Z"
   },
   {
    "duration": 66,
    "start_time": "2022-03-09T08:14:48.413Z"
   },
   {
    "duration": 19,
    "start_time": "2022-03-09T08:14:48.481Z"
   },
   {
    "duration": 25,
    "start_time": "2022-03-09T08:14:48.502Z"
   },
   {
    "duration": 12,
    "start_time": "2022-03-09T08:14:48.529Z"
   },
   {
    "duration": 83,
    "start_time": "2022-03-09T08:14:48.543Z"
   },
   {
    "duration": 14,
    "start_time": "2022-03-09T08:14:48.628Z"
   },
   {
    "duration": 25,
    "start_time": "2022-03-09T08:14:48.643Z"
   },
   {
    "duration": 201,
    "start_time": "2022-03-09T08:14:48.670Z"
   },
   {
    "duration": 1230,
    "start_time": "2022-03-09T08:15:41.094Z"
   },
   {
    "duration": 179,
    "start_time": "2022-03-09T08:23:47.339Z"
   },
   {
    "duration": 19,
    "start_time": "2022-03-09T08:25:32.427Z"
   },
   {
    "duration": 19,
    "start_time": "2022-03-09T08:25:57.332Z"
   },
   {
    "duration": 331,
    "start_time": "2022-03-09T09:38:33.598Z"
   },
   {
    "duration": 293,
    "start_time": "2022-03-09T09:38:43.072Z"
   },
   {
    "duration": 16,
    "start_time": "2022-03-09T09:38:59.531Z"
   },
   {
    "duration": 15,
    "start_time": "2022-03-09T09:39:02.904Z"
   },
   {
    "duration": 25,
    "start_time": "2022-03-09T09:39:24.812Z"
   },
   {
    "duration": 11,
    "start_time": "2022-03-09T09:42:07.475Z"
   },
   {
    "duration": 93,
    "start_time": "2022-03-09T09:42:24.726Z"
   },
   {
    "duration": 761,
    "start_time": "2022-03-09T09:42:34.730Z"
   },
   {
    "duration": 769,
    "start_time": "2022-03-09T09:42:47.259Z"
   },
   {
    "duration": 814,
    "start_time": "2022-03-09T09:43:02.898Z"
   },
   {
    "duration": 295,
    "start_time": "2022-03-09T09:43:25.199Z"
   },
   {
    "duration": 35,
    "start_time": "2022-03-09T09:43:38.341Z"
   },
   {
    "duration": 11,
    "start_time": "2022-03-09T09:48:54.516Z"
   },
   {
    "duration": 11,
    "start_time": "2022-03-09T09:49:05.247Z"
   },
   {
    "duration": 23,
    "start_time": "2022-03-09T09:49:26.359Z"
   },
   {
    "duration": 12,
    "start_time": "2022-03-09T09:51:52.412Z"
   },
   {
    "duration": 12,
    "start_time": "2022-03-09T09:52:02.595Z"
   },
   {
    "duration": 105,
    "start_time": "2022-03-09T09:52:51.862Z"
   },
   {
    "duration": 308,
    "start_time": "2022-03-09T09:53:01.865Z"
   },
   {
    "duration": 13,
    "start_time": "2022-03-09T09:54:14.933Z"
   },
   {
    "duration": 7454,
    "start_time": "2022-03-09T09:58:38.132Z"
   },
   {
    "duration": 78,
    "start_time": "2022-03-09T09:59:05.667Z"
   },
   {
    "duration": 26,
    "start_time": "2022-03-09T09:59:05.747Z"
   },
   {
    "duration": 36,
    "start_time": "2022-03-09T09:59:05.775Z"
   },
   {
    "duration": 12,
    "start_time": "2022-03-09T09:59:05.812Z"
   },
   {
    "duration": 86,
    "start_time": "2022-03-09T09:59:05.825Z"
   },
   {
    "duration": 16,
    "start_time": "2022-03-09T09:59:05.913Z"
   },
   {
    "duration": 18,
    "start_time": "2022-03-09T09:59:05.930Z"
   },
   {
    "duration": 50,
    "start_time": "2022-03-09T09:59:05.951Z"
   },
   {
    "duration": 11,
    "start_time": "2022-03-09T09:59:06.003Z"
   },
   {
    "duration": 33,
    "start_time": "2022-03-09T10:00:09.487Z"
   },
   {
    "duration": 119,
    "start_time": "2022-03-09T10:03:33.655Z"
   },
   {
    "duration": 18,
    "start_time": "2022-03-09T10:03:40.220Z"
   },
   {
    "duration": 17,
    "start_time": "2022-03-09T10:04:35.617Z"
   },
   {
    "duration": 28,
    "start_time": "2022-03-09T10:14:33.587Z"
   },
   {
    "duration": 40,
    "start_time": "2022-03-09T10:15:53.935Z"
   },
   {
    "duration": 60,
    "start_time": "2022-03-09T10:17:04.751Z"
   },
   {
    "duration": 57,
    "start_time": "2022-03-09T10:24:01.931Z"
   },
   {
    "duration": 137,
    "start_time": "2022-03-09T10:26:10.605Z"
   },
   {
    "duration": 69,
    "start_time": "2022-03-09T10:26:25.196Z"
   },
   {
    "duration": 58,
    "start_time": "2022-03-09T10:26:47.064Z"
   },
   {
    "duration": 61,
    "start_time": "2022-03-09T10:29:04.203Z"
   },
   {
    "duration": 58,
    "start_time": "2022-03-09T10:29:58.009Z"
   },
   {
    "duration": 60,
    "start_time": "2022-03-09T10:32:55.491Z"
   },
   {
    "duration": 7545,
    "start_time": "2022-03-09T10:43:37.987Z"
   },
   {
    "duration": 56,
    "start_time": "2022-03-09T10:44:08.219Z"
   },
   {
    "duration": 17,
    "start_time": "2022-03-09T10:44:08.277Z"
   },
   {
    "duration": 25,
    "start_time": "2022-03-09T10:44:08.296Z"
   },
   {
    "duration": 11,
    "start_time": "2022-03-09T10:44:08.323Z"
   },
   {
    "duration": 88,
    "start_time": "2022-03-09T10:44:08.336Z"
   },
   {
    "duration": 15,
    "start_time": "2022-03-09T10:44:08.425Z"
   },
   {
    "duration": 20,
    "start_time": "2022-03-09T10:44:08.442Z"
   },
   {
    "duration": 48,
    "start_time": "2022-03-09T10:44:08.464Z"
   },
   {
    "duration": 90,
    "start_time": "2022-03-09T10:44:08.514Z"
   },
   {
    "duration": 113,
    "start_time": "2022-03-09T10:57:53.322Z"
   },
   {
    "duration": 662,
    "start_time": "2022-03-09T15:12:32.045Z"
   },
   {
    "duration": 21,
    "start_time": "2022-03-09T15:21:47.294Z"
   },
   {
    "duration": 19,
    "start_time": "2022-03-09T15:27:57.697Z"
   },
   {
    "duration": 62,
    "start_time": "2022-03-09T15:28:05.579Z"
   },
   {
    "duration": 18,
    "start_time": "2022-03-09T15:28:05.643Z"
   },
   {
    "duration": 28,
    "start_time": "2022-03-09T15:28:05.663Z"
   },
   {
    "duration": 11,
    "start_time": "2022-03-09T15:28:05.693Z"
   },
   {
    "duration": 100,
    "start_time": "2022-03-09T15:28:05.706Z"
   },
   {
    "duration": 37,
    "start_time": "2022-03-09T15:28:05.808Z"
   },
   {
    "duration": 20,
    "start_time": "2022-03-09T15:28:05.847Z"
   },
   {
    "duration": 20,
    "start_time": "2022-03-09T15:28:05.869Z"
   },
   {
    "duration": 99,
    "start_time": "2022-03-09T15:28:05.891Z"
   },
   {
    "duration": 62,
    "start_time": "2022-03-09T16:02:55.436Z"
   },
   {
    "duration": 54,
    "start_time": "2022-03-09T16:09:56.757Z"
   },
   {
    "duration": 55,
    "start_time": "2022-03-09T16:10:23.085Z"
   },
   {
    "duration": 64,
    "start_time": "2022-03-09T16:10:45.660Z"
   },
   {
    "duration": 62,
    "start_time": "2022-03-09T16:10:54.414Z"
   },
   {
    "duration": 49,
    "start_time": "2022-03-09T16:11:12.138Z"
   },
   {
    "duration": 53,
    "start_time": "2022-03-09T16:11:26.730Z"
   },
   {
    "duration": 69,
    "start_time": "2022-03-09T16:13:02.845Z"
   },
   {
    "duration": 52,
    "start_time": "2022-03-09T16:14:43.797Z"
   },
   {
    "duration": 56,
    "start_time": "2022-03-09T16:15:18.751Z"
   },
   {
    "duration": 50,
    "start_time": "2022-03-09T16:15:30.432Z"
   },
   {
    "duration": 51,
    "start_time": "2022-03-09T16:15:35.276Z"
   },
   {
    "duration": 281,
    "start_time": "2022-03-09T16:16:57.235Z"
   },
   {
    "duration": 48,
    "start_time": "2022-03-09T16:17:04.936Z"
   },
   {
    "duration": 67,
    "start_time": "2022-03-09T16:17:34.450Z"
   },
   {
    "duration": 105,
    "start_time": "2022-03-09T16:43:34.459Z"
   },
   {
    "duration": 15,
    "start_time": "2022-03-09T16:53:12.332Z"
   },
   {
    "duration": 9,
    "start_time": "2022-03-09T16:56:23.830Z"
   },
   {
    "duration": 21,
    "start_time": "2022-03-09T17:07:16.034Z"
   },
   {
    "duration": 58,
    "start_time": "2022-03-09T17:20:04.571Z"
   },
   {
    "duration": 205,
    "start_time": "2022-03-09T17:28:10.818Z"
   },
   {
    "duration": 60,
    "start_time": "2022-03-09T17:28:37.253Z"
   },
   {
    "duration": 14,
    "start_time": "2022-03-09T17:28:37.314Z"
   },
   {
    "duration": 8,
    "start_time": "2022-03-09T17:28:37.330Z"
   },
   {
    "duration": 20,
    "start_time": "2022-03-09T17:28:37.340Z"
   },
   {
    "duration": 16,
    "start_time": "2022-03-09T17:28:37.361Z"
   },
   {
    "duration": 98,
    "start_time": "2022-03-09T17:28:37.379Z"
   },
   {
    "duration": 16,
    "start_time": "2022-03-09T17:28:37.479Z"
   },
   {
    "duration": 49,
    "start_time": "2022-03-09T17:28:37.497Z"
   },
   {
    "duration": 22,
    "start_time": "2022-03-09T17:28:37.548Z"
   },
   {
    "duration": 93,
    "start_time": "2022-03-09T17:28:37.571Z"
   },
   {
    "duration": 654,
    "start_time": "2022-03-10T08:27:02.883Z"
   },
   {
    "duration": 14,
    "start_time": "2022-03-10T08:27:03.538Z"
   },
   {
    "duration": 10,
    "start_time": "2022-03-10T08:27:03.554Z"
   },
   {
    "duration": 36,
    "start_time": "2022-03-10T08:27:03.566Z"
   },
   {
    "duration": 17,
    "start_time": "2022-03-10T08:27:03.603Z"
   },
   {
    "duration": 96,
    "start_time": "2022-03-10T08:27:03.622Z"
   },
   {
    "duration": 14,
    "start_time": "2022-03-10T08:27:03.720Z"
   },
   {
    "duration": 14,
    "start_time": "2022-03-10T08:27:03.736Z"
   },
   {
    "duration": 19,
    "start_time": "2022-03-10T08:27:03.751Z"
   },
   {
    "duration": 438,
    "start_time": "2022-03-10T08:27:03.771Z"
   },
   {
    "duration": 96,
    "start_time": "2022-03-10T08:27:53.724Z"
   },
   {
    "duration": 15,
    "start_time": "2022-03-10T08:28:19.883Z"
   },
   {
    "duration": 21,
    "start_time": "2022-03-10T08:29:21.248Z"
   },
   {
    "duration": 14,
    "start_time": "2022-03-10T08:29:37.885Z"
   },
   {
    "duration": 21,
    "start_time": "2022-03-10T08:33:12.109Z"
   },
   {
    "duration": 7446,
    "start_time": "2022-03-10T08:47:53.539Z"
   },
   {
    "duration": 34,
    "start_time": "2022-03-10T08:55:56.335Z"
   },
   {
    "duration": 63,
    "start_time": "2022-03-10T08:56:03.508Z"
   },
   {
    "duration": 12,
    "start_time": "2022-03-10T08:56:03.573Z"
   },
   {
    "duration": 8,
    "start_time": "2022-03-10T08:56:03.587Z"
   },
   {
    "duration": 18,
    "start_time": "2022-03-10T08:56:03.624Z"
   },
   {
    "duration": 16,
    "start_time": "2022-03-10T08:56:03.644Z"
   },
   {
    "duration": 32,
    "start_time": "2022-03-10T08:56:03.662Z"
   },
   {
    "duration": 37,
    "start_time": "2022-03-10T08:56:03.696Z"
   },
   {
    "duration": 14,
    "start_time": "2022-03-10T08:56:03.734Z"
   },
   {
    "duration": 21,
    "start_time": "2022-03-10T08:56:03.749Z"
   },
   {
    "duration": 45,
    "start_time": "2022-03-10T08:56:03.771Z"
   },
   {
    "duration": 63,
    "start_time": "2022-03-10T08:56:03.818Z"
   },
   {
    "duration": 7627,
    "start_time": "2022-03-10T08:57:53.559Z"
   },
   {
    "duration": 43,
    "start_time": "2022-03-10T08:59:08.955Z"
   },
   {
    "duration": 62,
    "start_time": "2022-03-10T08:59:18.078Z"
   },
   {
    "duration": 11,
    "start_time": "2022-03-10T08:59:18.142Z"
   },
   {
    "duration": 7,
    "start_time": "2022-03-10T08:59:18.155Z"
   },
   {
    "duration": 39,
    "start_time": "2022-03-10T08:59:18.163Z"
   },
   {
    "duration": 22,
    "start_time": "2022-03-10T08:59:18.204Z"
   },
   {
    "duration": 36,
    "start_time": "2022-03-10T08:59:18.228Z"
   },
   {
    "duration": 59,
    "start_time": "2022-03-10T08:59:18.266Z"
   },
   {
    "duration": 13,
    "start_time": "2022-03-10T08:59:18.326Z"
   },
   {
    "duration": 17,
    "start_time": "2022-03-10T08:59:18.341Z"
   },
   {
    "duration": 52,
    "start_time": "2022-03-10T08:59:18.359Z"
   },
   {
    "duration": 62,
    "start_time": "2022-03-10T08:59:18.413Z"
   },
   {
    "duration": 42,
    "start_time": "2022-03-10T08:59:39.434Z"
   },
   {
    "duration": 11,
    "start_time": "2022-03-10T09:00:23.840Z"
   },
   {
    "duration": 21,
    "start_time": "2022-03-10T09:00:34.992Z"
   },
   {
    "duration": 54,
    "start_time": "2022-03-10T09:00:42.400Z"
   },
   {
    "duration": 12,
    "start_time": "2022-03-10T09:00:42.455Z"
   },
   {
    "duration": 7,
    "start_time": "2022-03-10T09:00:42.469Z"
   },
   {
    "duration": 26,
    "start_time": "2022-03-10T09:00:42.478Z"
   },
   {
    "duration": 16,
    "start_time": "2022-03-10T09:00:42.520Z"
   },
   {
    "duration": 21,
    "start_time": "2022-03-10T09:00:42.538Z"
   },
   {
    "duration": 54,
    "start_time": "2022-03-10T09:00:42.561Z"
   },
   {
    "duration": 15,
    "start_time": "2022-03-10T09:00:42.616Z"
   },
   {
    "duration": 18,
    "start_time": "2022-03-10T09:00:42.639Z"
   },
   {
    "duration": 24,
    "start_time": "2022-03-10T09:00:42.659Z"
   },
   {
    "duration": 65,
    "start_time": "2022-03-10T09:00:42.701Z"
   },
   {
    "duration": 36,
    "start_time": "2022-03-10T09:03:05.606Z"
   },
   {
    "duration": 33,
    "start_time": "2022-03-10T09:03:11.342Z"
   },
   {
    "duration": 66,
    "start_time": "2022-03-10T09:03:20.741Z"
   },
   {
    "duration": 14,
    "start_time": "2022-03-10T09:03:20.808Z"
   },
   {
    "duration": 8,
    "start_time": "2022-03-10T09:03:20.824Z"
   },
   {
    "duration": 19,
    "start_time": "2022-03-10T09:03:20.833Z"
   },
   {
    "duration": 17,
    "start_time": "2022-03-10T09:03:20.948Z"
   },
   {
    "duration": 34,
    "start_time": "2022-03-10T09:03:20.967Z"
   },
   {
    "duration": 36,
    "start_time": "2022-03-10T09:03:21.003Z"
   },
   {
    "duration": 15,
    "start_time": "2022-03-10T09:03:21.041Z"
   },
   {
    "duration": 49,
    "start_time": "2022-03-10T09:03:21.057Z"
   },
   {
    "duration": 21,
    "start_time": "2022-03-10T09:03:21.159Z"
   },
   {
    "duration": 62,
    "start_time": "2022-03-10T09:03:21.182Z"
   },
   {
    "duration": 40,
    "start_time": "2022-03-10T09:03:36.919Z"
   },
   {
    "duration": 38,
    "start_time": "2022-03-10T09:05:40.182Z"
   },
   {
    "duration": 67,
    "start_time": "2022-03-10T09:05:46.306Z"
   },
   {
    "duration": 13,
    "start_time": "2022-03-10T09:05:46.375Z"
   },
   {
    "duration": 7,
    "start_time": "2022-03-10T09:05:46.390Z"
   },
   {
    "duration": 20,
    "start_time": "2022-03-10T09:05:46.399Z"
   },
   {
    "duration": 17,
    "start_time": "2022-03-10T09:05:46.459Z"
   },
   {
    "duration": 40,
    "start_time": "2022-03-10T09:05:46.478Z"
   },
   {
    "duration": 38,
    "start_time": "2022-03-10T09:05:46.519Z"
   },
   {
    "duration": 15,
    "start_time": "2022-03-10T09:05:46.559Z"
   },
   {
    "duration": 19,
    "start_time": "2022-03-10T09:05:46.602Z"
   },
   {
    "duration": 23,
    "start_time": "2022-03-10T09:05:46.623Z"
   },
   {
    "duration": 98,
    "start_time": "2022-03-10T09:05:46.647Z"
   },
   {
    "duration": 67,
    "start_time": "2022-03-10T09:06:29.540Z"
   },
   {
    "duration": 12,
    "start_time": "2022-03-10T09:06:29.609Z"
   },
   {
    "duration": 7,
    "start_time": "2022-03-10T09:06:29.623Z"
   },
   {
    "duration": 19,
    "start_time": "2022-03-10T09:06:29.631Z"
   },
   {
    "duration": 17,
    "start_time": "2022-03-10T09:06:29.656Z"
   },
   {
    "duration": 60,
    "start_time": "2022-03-10T09:06:29.675Z"
   },
   {
    "duration": 35,
    "start_time": "2022-03-10T09:06:29.737Z"
   },
   {
    "duration": 14,
    "start_time": "2022-03-10T09:06:29.802Z"
   },
   {
    "duration": 21,
    "start_time": "2022-03-10T09:06:29.818Z"
   },
   {
    "duration": 19,
    "start_time": "2022-03-10T09:06:29.840Z"
   },
   {
    "duration": 82,
    "start_time": "2022-03-10T09:06:29.861Z"
   },
   {
    "duration": 55,
    "start_time": "2022-03-10T09:19:54.396Z"
   },
   {
    "duration": 13,
    "start_time": "2022-03-10T09:19:54.452Z"
   },
   {
    "duration": 9,
    "start_time": "2022-03-10T09:19:54.467Z"
   },
   {
    "duration": 35,
    "start_time": "2022-03-10T09:19:54.478Z"
   },
   {
    "duration": 15,
    "start_time": "2022-03-10T09:19:54.514Z"
   },
   {
    "duration": 34,
    "start_time": "2022-03-10T09:19:54.560Z"
   },
   {
    "duration": 38,
    "start_time": "2022-03-10T09:19:54.596Z"
   },
   {
    "duration": 16,
    "start_time": "2022-03-10T09:19:54.636Z"
   },
   {
    "duration": 21,
    "start_time": "2022-03-10T09:19:54.654Z"
   },
   {
    "duration": 20,
    "start_time": "2022-03-10T09:19:54.701Z"
   },
   {
    "duration": 80,
    "start_time": "2022-03-10T09:19:54.722Z"
   },
   {
    "duration": 67,
    "start_time": "2022-03-10T09:37:12.942Z"
   },
   {
    "duration": 12,
    "start_time": "2022-03-10T09:37:13.010Z"
   },
   {
    "duration": 8,
    "start_time": "2022-03-10T09:37:13.024Z"
   },
   {
    "duration": 18,
    "start_time": "2022-03-10T09:37:13.034Z"
   },
   {
    "duration": 17,
    "start_time": "2022-03-10T09:37:13.054Z"
   },
   {
    "duration": 35,
    "start_time": "2022-03-10T09:37:13.101Z"
   },
   {
    "duration": 36,
    "start_time": "2022-03-10T09:37:13.138Z"
   },
   {
    "duration": 39,
    "start_time": "2022-03-10T09:37:13.175Z"
   },
   {
    "duration": 18,
    "start_time": "2022-03-10T09:37:13.215Z"
   },
   {
    "duration": 21,
    "start_time": "2022-03-10T09:37:13.235Z"
   },
   {
    "duration": 87,
    "start_time": "2022-03-10T09:37:13.257Z"
   },
   {
    "duration": 34,
    "start_time": "2022-03-10T09:38:26.476Z"
   },
   {
    "duration": 54,
    "start_time": "2022-03-10T09:38:37.038Z"
   },
   {
    "duration": 12,
    "start_time": "2022-03-10T09:38:37.094Z"
   },
   {
    "duration": 8,
    "start_time": "2022-03-10T09:38:37.108Z"
   },
   {
    "duration": 17,
    "start_time": "2022-03-10T09:38:37.117Z"
   },
   {
    "duration": 15,
    "start_time": "2022-03-10T09:38:37.136Z"
   },
   {
    "duration": 60,
    "start_time": "2022-03-10T09:38:37.152Z"
   },
   {
    "duration": 36,
    "start_time": "2022-03-10T09:38:37.214Z"
   },
   {
    "duration": 13,
    "start_time": "2022-03-10T09:38:37.252Z"
   },
   {
    "duration": 47,
    "start_time": "2022-03-10T09:38:37.267Z"
   },
   {
    "duration": 19,
    "start_time": "2022-03-10T09:38:37.315Z"
   },
   {
    "duration": 84,
    "start_time": "2022-03-10T09:38:37.335Z"
   },
   {
    "duration": 9130,
    "start_time": "2022-03-10T10:11:44.713Z"
   },
   {
    "duration": 7420,
    "start_time": "2022-03-10T10:12:59.840Z"
   },
   {
    "duration": 7390,
    "start_time": "2022-03-10T10:13:21.016Z"
   },
   {
    "duration": 57,
    "start_time": "2022-03-10T10:13:34.723Z"
   },
   {
    "duration": 13,
    "start_time": "2022-03-10T10:13:34.781Z"
   },
   {
    "duration": 8,
    "start_time": "2022-03-10T10:13:34.797Z"
   },
   {
    "duration": 21,
    "start_time": "2022-03-10T10:13:34.807Z"
   },
   {
    "duration": 18,
    "start_time": "2022-03-10T10:13:34.830Z"
   },
   {
    "duration": 66,
    "start_time": "2022-03-10T10:13:34.850Z"
   },
   {
    "duration": 20,
    "start_time": "2022-03-10T10:13:34.918Z"
   },
   {
    "duration": 18,
    "start_time": "2022-03-10T10:13:34.940Z"
   },
   {
    "duration": 50,
    "start_time": "2022-03-10T10:13:34.959Z"
   },
   {
    "duration": 20,
    "start_time": "2022-03-10T10:13:35.011Z"
   },
   {
    "duration": 22,
    "start_time": "2022-03-10T10:13:35.033Z"
   },
   {
    "duration": 93,
    "start_time": "2022-03-10T10:13:35.057Z"
   },
   {
    "duration": 7565,
    "start_time": "2022-03-10T10:17:16.919Z"
   },
   {
    "duration": 55,
    "start_time": "2022-03-10T10:17:28.836Z"
   },
   {
    "duration": 14,
    "start_time": "2022-03-10T10:17:28.893Z"
   },
   {
    "duration": 8,
    "start_time": "2022-03-10T10:17:28.909Z"
   },
   {
    "duration": 17,
    "start_time": "2022-03-10T10:17:28.919Z"
   },
   {
    "duration": 15,
    "start_time": "2022-03-10T10:17:28.938Z"
   },
   {
    "duration": 60,
    "start_time": "2022-03-10T10:17:28.955Z"
   },
   {
    "duration": 18,
    "start_time": "2022-03-10T10:17:29.017Z"
   },
   {
    "duration": 12,
    "start_time": "2022-03-10T10:17:29.037Z"
   },
   {
    "duration": 16,
    "start_time": "2022-03-10T10:17:29.050Z"
   },
   {
    "duration": 47,
    "start_time": "2022-03-10T10:17:29.067Z"
   },
   {
    "duration": 19,
    "start_time": "2022-03-10T10:17:29.115Z"
   },
   {
    "duration": 80,
    "start_time": "2022-03-10T10:17:29.136Z"
   },
   {
    "duration": 112,
    "start_time": "2022-03-10T10:22:35.630Z"
   },
   {
    "duration": 6,
    "start_time": "2022-03-10T10:23:09.778Z"
   },
   {
    "duration": 119,
    "start_time": "2022-03-10T10:26:51.322Z"
   },
   {
    "duration": 1899,
    "start_time": "2022-03-10T10:35:58.511Z"
   },
   {
    "duration": 5,
    "start_time": "2022-03-10T10:36:15.506Z"
   },
   {
    "duration": 4,
    "start_time": "2022-03-10T10:36:23.347Z"
   },
   {
    "duration": 6,
    "start_time": "2022-03-10T10:36:37.385Z"
   },
   {
    "duration": 6,
    "start_time": "2022-03-10T10:37:05.259Z"
   },
   {
    "duration": 286,
    "start_time": "2022-03-10T10:45:02.650Z"
   },
   {
    "duration": 56,
    "start_time": "2022-03-10T10:45:10.806Z"
   },
   {
    "duration": 17,
    "start_time": "2022-03-10T10:45:10.863Z"
   },
   {
    "duration": 21,
    "start_time": "2022-03-10T10:45:10.882Z"
   },
   {
    "duration": 19,
    "start_time": "2022-03-10T10:45:10.904Z"
   },
   {
    "duration": 16,
    "start_time": "2022-03-10T10:45:10.925Z"
   },
   {
    "duration": 60,
    "start_time": "2022-03-10T10:45:10.943Z"
   },
   {
    "duration": 22,
    "start_time": "2022-03-10T10:45:11.005Z"
   },
   {
    "duration": 19,
    "start_time": "2022-03-10T10:45:11.029Z"
   },
   {
    "duration": 8,
    "start_time": "2022-03-10T10:45:11.050Z"
   },
   {
    "duration": 43,
    "start_time": "2022-03-10T10:45:11.059Z"
   },
   {
    "duration": 295,
    "start_time": "2022-03-10T10:45:11.104Z"
   },
   {
    "duration": 209,
    "start_time": "2022-03-10T10:45:11.191Z"
   },
   {
    "duration": 203,
    "start_time": "2022-03-10T10:45:11.199Z"
   },
   {
    "duration": 200,
    "start_time": "2022-03-10T10:45:11.202Z"
   },
   {
    "duration": 198,
    "start_time": "2022-03-10T10:45:11.206Z"
   },
   {
    "duration": 17,
    "start_time": "2022-03-10T10:45:32.916Z"
   },
   {
    "duration": 16,
    "start_time": "2022-03-10T10:47:29.033Z"
   },
   {
    "duration": 7,
    "start_time": "2022-03-10T10:48:12.295Z"
   },
   {
    "duration": 5,
    "start_time": "2022-03-10T10:48:36.311Z"
   },
   {
    "duration": 17,
    "start_time": "2022-03-10T10:49:35.530Z"
   },
   {
    "duration": 16,
    "start_time": "2022-03-10T10:51:17.503Z"
   },
   {
    "duration": 66,
    "start_time": "2022-03-10T10:51:51.583Z"
   },
   {
    "duration": 13,
    "start_time": "2022-03-10T10:51:51.651Z"
   },
   {
    "duration": 8,
    "start_time": "2022-03-10T10:51:51.665Z"
   },
   {
    "duration": 40,
    "start_time": "2022-03-10T10:51:51.675Z"
   },
   {
    "duration": 18,
    "start_time": "2022-03-10T10:51:51.717Z"
   },
   {
    "duration": 34,
    "start_time": "2022-03-10T10:51:51.736Z"
   },
   {
    "duration": 40,
    "start_time": "2022-03-10T10:51:51.771Z"
   },
   {
    "duration": 13,
    "start_time": "2022-03-10T10:51:51.814Z"
   },
   {
    "duration": 8,
    "start_time": "2022-03-10T10:51:51.828Z"
   },
   {
    "duration": 6,
    "start_time": "2022-03-10T10:51:51.838Z"
   },
   {
    "duration": 16,
    "start_time": "2022-03-10T10:51:51.845Z"
   },
   {
    "duration": 52,
    "start_time": "2022-03-10T10:51:51.863Z"
   },
   {
    "duration": 19,
    "start_time": "2022-03-10T10:51:51.917Z"
   },
   {
    "duration": 1412,
    "start_time": "2022-03-10T10:51:51.938Z"
   },
   {
    "duration": 802,
    "start_time": "2022-03-10T10:51:52.550Z"
   },
   {
    "duration": 313,
    "start_time": "2022-03-10T10:58:20.314Z"
   },
   {
    "duration": 377,
    "start_time": "2022-03-10T10:59:24.818Z"
   },
   {
    "duration": 497,
    "start_time": "2022-03-10T11:01:11.493Z"
   },
   {
    "duration": 307,
    "start_time": "2022-03-10T11:04:16.854Z"
   },
   {
    "duration": 53,
    "start_time": "2022-03-10T11:04:25.089Z"
   },
   {
    "duration": 13,
    "start_time": "2022-03-10T11:04:25.144Z"
   },
   {
    "duration": 8,
    "start_time": "2022-03-10T11:04:25.158Z"
   },
   {
    "duration": 42,
    "start_time": "2022-03-10T11:04:25.168Z"
   },
   {
    "duration": 15,
    "start_time": "2022-03-10T11:04:25.211Z"
   },
   {
    "duration": 35,
    "start_time": "2022-03-10T11:04:25.227Z"
   },
   {
    "duration": 44,
    "start_time": "2022-03-10T11:04:25.264Z"
   },
   {
    "duration": 12,
    "start_time": "2022-03-10T11:04:25.310Z"
   },
   {
    "duration": 6,
    "start_time": "2022-03-10T11:04:25.324Z"
   },
   {
    "duration": 5,
    "start_time": "2022-03-10T11:04:25.332Z"
   },
   {
    "duration": 16,
    "start_time": "2022-03-10T11:04:25.339Z"
   },
   {
    "duration": 7,
    "start_time": "2022-03-10T11:04:25.357Z"
   },
   {
    "duration": 37,
    "start_time": "2022-03-10T11:04:25.366Z"
   },
   {
    "duration": 11,
    "start_time": "2022-03-10T11:04:25.404Z"
   },
   {
    "duration": 18,
    "start_time": "2022-03-10T11:04:25.416Z"
   },
   {
    "duration": 1375,
    "start_time": "2022-03-10T11:04:25.435Z"
   },
   {
    "duration": 864,
    "start_time": "2022-03-10T11:04:25.947Z"
   },
   {
    "duration": 93,
    "start_time": "2022-03-10T11:16:39.913Z"
   },
   {
    "duration": 53,
    "start_time": "2022-03-10T11:16:44.841Z"
   },
   {
    "duration": 13,
    "start_time": "2022-03-10T11:16:44.896Z"
   },
   {
    "duration": 8,
    "start_time": "2022-03-10T11:16:44.912Z"
   },
   {
    "duration": 19,
    "start_time": "2022-03-10T11:16:44.922Z"
   },
   {
    "duration": 17,
    "start_time": "2022-03-10T11:16:44.943Z"
   },
   {
    "duration": 73,
    "start_time": "2022-03-10T11:16:44.961Z"
   },
   {
    "duration": 16,
    "start_time": "2022-03-10T11:16:45.036Z"
   },
   {
    "duration": 12,
    "start_time": "2022-03-10T11:16:45.054Z"
   },
   {
    "duration": 8,
    "start_time": "2022-03-10T11:16:45.067Z"
   },
   {
    "duration": 5,
    "start_time": "2022-03-10T11:16:45.101Z"
   },
   {
    "duration": 17,
    "start_time": "2022-03-10T11:16:45.107Z"
   },
   {
    "duration": 10,
    "start_time": "2022-03-10T11:16:45.125Z"
   },
   {
    "duration": 129,
    "start_time": "2022-03-10T11:16:45.136Z"
   },
   {
    "duration": 727,
    "start_time": "2022-03-10T11:16:44.540Z"
   },
   {
    "duration": 724,
    "start_time": "2022-03-10T11:16:44.543Z"
   },
   {
    "duration": 724,
    "start_time": "2022-03-10T11:16:44.545Z"
   },
   {
    "duration": 678,
    "start_time": "2022-03-10T11:16:44.592Z"
   },
   {
    "duration": 55,
    "start_time": "2022-03-10T11:18:09.561Z"
   },
   {
    "duration": 12,
    "start_time": "2022-03-10T11:18:09.618Z"
   },
   {
    "duration": 33,
    "start_time": "2022-03-10T11:18:09.632Z"
   },
   {
    "duration": 31,
    "start_time": "2022-03-10T11:18:09.666Z"
   },
   {
    "duration": 14,
    "start_time": "2022-03-10T11:18:09.699Z"
   },
   {
    "duration": 50,
    "start_time": "2022-03-10T11:18:09.715Z"
   },
   {
    "duration": 14,
    "start_time": "2022-03-10T11:18:09.767Z"
   },
   {
    "duration": 23,
    "start_time": "2022-03-10T11:18:09.783Z"
   },
   {
    "duration": 20,
    "start_time": "2022-03-10T11:18:09.808Z"
   },
   {
    "duration": 26,
    "start_time": "2022-03-10T11:18:09.829Z"
   },
   {
    "duration": 23,
    "start_time": "2022-03-10T11:18:09.857Z"
   },
   {
    "duration": 20,
    "start_time": "2022-03-10T11:18:09.881Z"
   },
   {
    "duration": 24,
    "start_time": "2022-03-10T11:18:09.902Z"
   },
   {
    "duration": 28,
    "start_time": "2022-03-10T11:18:09.927Z"
   },
   {
    "duration": 38,
    "start_time": "2022-03-10T11:18:09.956Z"
   },
   {
    "duration": 1422,
    "start_time": "2022-03-10T11:18:09.995Z"
   },
   {
    "duration": 571,
    "start_time": "2022-03-10T11:18:10.847Z"
   },
   {
    "duration": 57,
    "start_time": "2022-03-10T11:21:22.602Z"
   },
   {
    "duration": 15,
    "start_time": "2022-03-10T11:21:22.661Z"
   },
   {
    "duration": 24,
    "start_time": "2022-03-10T11:21:22.678Z"
   },
   {
    "duration": 18,
    "start_time": "2022-03-10T11:21:22.704Z"
   },
   {
    "duration": 15,
    "start_time": "2022-03-10T11:21:22.724Z"
   },
   {
    "duration": 60,
    "start_time": "2022-03-10T11:21:22.741Z"
   },
   {
    "duration": 15,
    "start_time": "2022-03-10T11:21:22.803Z"
   },
   {
    "duration": 13,
    "start_time": "2022-03-10T11:21:22.820Z"
   },
   {
    "duration": 6,
    "start_time": "2022-03-10T11:21:22.835Z"
   },
   {
    "duration": 6,
    "start_time": "2022-03-10T11:21:22.842Z"
   },
   {
    "duration": 108,
    "start_time": "2022-03-10T11:21:22.849Z"
   },
   {
    "duration": 561,
    "start_time": "2022-03-10T11:21:22.397Z"
   },
   {
    "duration": 558,
    "start_time": "2022-03-10T11:21:22.401Z"
   },
   {
    "duration": 553,
    "start_time": "2022-03-10T11:21:22.407Z"
   },
   {
    "duration": 548,
    "start_time": "2022-03-10T11:21:22.413Z"
   },
   {
    "duration": 543,
    "start_time": "2022-03-10T11:21:22.418Z"
   },
   {
    "duration": 540,
    "start_time": "2022-03-10T11:21:22.422Z"
   },
   {
    "duration": 614,
    "start_time": "2022-03-10T14:37:18.510Z"
   },
   {
    "duration": 11,
    "start_time": "2022-03-10T14:37:19.126Z"
   },
   {
    "duration": 20,
    "start_time": "2022-03-10T14:37:19.139Z"
   },
   {
    "duration": 34,
    "start_time": "2022-03-10T14:37:19.160Z"
   },
   {
    "duration": 18,
    "start_time": "2022-03-10T14:37:19.195Z"
   },
   {
    "duration": 40,
    "start_time": "2022-03-10T14:37:19.214Z"
   },
   {
    "duration": 15,
    "start_time": "2022-03-10T14:37:19.255Z"
   },
   {
    "duration": 12,
    "start_time": "2022-03-10T14:37:19.272Z"
   },
   {
    "duration": 22,
    "start_time": "2022-03-10T14:37:19.285Z"
   },
   {
    "duration": 6,
    "start_time": "2022-03-10T14:37:19.308Z"
   },
   {
    "duration": 18,
    "start_time": "2022-03-10T14:37:19.315Z"
   },
   {
    "duration": 23,
    "start_time": "2022-03-10T14:37:19.334Z"
   },
   {
    "duration": 8,
    "start_time": "2022-03-10T14:37:19.359Z"
   },
   {
    "duration": 19,
    "start_time": "2022-03-10T14:37:19.369Z"
   },
   {
    "duration": 35,
    "start_time": "2022-03-10T14:37:19.390Z"
   },
   {
    "duration": 18,
    "start_time": "2022-03-10T14:37:19.426Z"
   },
   {
    "duration": 67,
    "start_time": "2022-03-10T14:37:19.445Z"
   },
   {
    "duration": 18,
    "start_time": "2022-03-10T15:11:59.861Z"
   },
   {
    "duration": 16,
    "start_time": "2022-03-10T15:27:35.044Z"
   },
   {
    "duration": 19,
    "start_time": "2022-03-10T15:28:00.673Z"
   },
   {
    "duration": 2,
    "start_time": "2022-03-10T15:34:52.303Z"
   },
   {
    "duration": 20,
    "start_time": "2022-03-10T15:48:28.040Z"
   },
   {
    "duration": 19,
    "start_time": "2022-03-10T15:50:22.324Z"
   },
   {
    "duration": 17,
    "start_time": "2022-03-10T15:52:16.317Z"
   },
   {
    "duration": 17,
    "start_time": "2022-03-10T15:52:26.782Z"
   },
   {
    "duration": 22,
    "start_time": "2022-03-10T15:53:10.174Z"
   },
   {
    "duration": 22,
    "start_time": "2022-03-10T15:55:13.200Z"
   },
   {
    "duration": 21,
    "start_time": "2022-03-10T15:55:31.274Z"
   },
   {
    "duration": 20,
    "start_time": "2022-03-10T15:59:32.039Z"
   },
   {
    "duration": 23,
    "start_time": "2022-03-10T16:03:12.247Z"
   },
   {
    "duration": 20,
    "start_time": "2022-03-10T16:05:49.466Z"
   },
   {
    "duration": 53,
    "start_time": "2022-03-10T16:46:42.478Z"
   },
   {
    "duration": 13,
    "start_time": "2022-03-10T16:46:42.533Z"
   },
   {
    "duration": 8,
    "start_time": "2022-03-10T16:46:42.586Z"
   },
   {
    "duration": 17,
    "start_time": "2022-03-10T16:46:42.597Z"
   },
   {
    "duration": 22,
    "start_time": "2022-03-10T16:46:42.706Z"
   },
   {
    "duration": 52,
    "start_time": "2022-03-10T16:46:42.730Z"
   },
   {
    "duration": 37,
    "start_time": "2022-03-10T16:46:42.784Z"
   },
   {
    "duration": 14,
    "start_time": "2022-03-10T16:46:42.823Z"
   },
   {
    "duration": 7,
    "start_time": "2022-03-10T16:46:42.838Z"
   },
   {
    "duration": 6,
    "start_time": "2022-03-10T16:46:42.847Z"
   },
   {
    "duration": 8,
    "start_time": "2022-03-10T16:46:42.854Z"
   },
   {
    "duration": 10,
    "start_time": "2022-03-10T16:46:42.905Z"
   },
   {
    "duration": 9,
    "start_time": "2022-03-10T16:46:42.916Z"
   },
   {
    "duration": 11,
    "start_time": "2022-03-10T16:46:42.927Z"
   },
   {
    "duration": 18,
    "start_time": "2022-03-10T16:46:42.945Z"
   },
   {
    "duration": 44,
    "start_time": "2022-03-10T16:46:42.964Z"
   },
   {
    "duration": 25,
    "start_time": "2022-03-10T16:46:43.010Z"
   },
   {
    "duration": 27,
    "start_time": "2022-03-10T16:46:43.037Z"
   },
   {
    "duration": 27,
    "start_time": "2022-03-10T16:46:43.126Z"
   },
   {
    "duration": 24,
    "start_time": "2022-03-10T16:46:43.155Z"
   },
   {
    "duration": 546,
    "start_time": "2022-03-10T16:53:19.384Z"
   },
   {
    "duration": 529,
    "start_time": "2022-03-10T16:53:19.402Z"
   },
   {
    "duration": 520,
    "start_time": "2022-03-10T16:53:19.411Z"
   },
   {
    "duration": 452,
    "start_time": "2022-03-10T16:53:19.480Z"
   },
   {
    "duration": 446,
    "start_time": "2022-03-10T16:53:19.487Z"
   },
   {
    "duration": 442,
    "start_time": "2022-03-10T16:53:19.492Z"
   },
   {
    "duration": 437,
    "start_time": "2022-03-10T16:53:19.498Z"
   },
   {
    "duration": 434,
    "start_time": "2022-03-10T16:53:19.502Z"
   },
   {
    "duration": 425,
    "start_time": "2022-03-10T16:53:19.512Z"
   },
   {
    "duration": 419,
    "start_time": "2022-03-10T16:53:19.520Z"
   },
   {
    "duration": 362,
    "start_time": "2022-03-10T16:53:19.578Z"
   },
   {
    "duration": 357,
    "start_time": "2022-03-10T16:53:19.583Z"
   },
   {
    "duration": 353,
    "start_time": "2022-03-10T16:53:19.589Z"
   },
   {
    "duration": 349,
    "start_time": "2022-03-10T16:53:19.593Z"
   },
   {
    "duration": 345,
    "start_time": "2022-03-10T16:53:19.598Z"
   },
   {
    "duration": 337,
    "start_time": "2022-03-10T16:53:19.607Z"
   },
   {
    "duration": 335,
    "start_time": "2022-03-10T16:53:19.610Z"
   },
   {
    "duration": 311,
    "start_time": "2022-03-10T16:53:19.635Z"
   },
   {
    "duration": 309,
    "start_time": "2022-03-10T16:53:19.638Z"
   },
   {
    "duration": 272,
    "start_time": "2022-03-10T16:53:19.676Z"
   },
   {
    "duration": 7425,
    "start_time": "2022-03-10T16:53:33.729Z"
   },
   {
    "duration": 83,
    "start_time": "2022-03-10T16:53:47.950Z"
   },
   {
    "duration": 18,
    "start_time": "2022-03-10T16:53:48.035Z"
   },
   {
    "duration": 9,
    "start_time": "2022-03-10T16:53:48.055Z"
   },
   {
    "duration": 43,
    "start_time": "2022-03-10T16:53:48.066Z"
   },
   {
    "duration": 22,
    "start_time": "2022-03-10T16:53:48.111Z"
   },
   {
    "duration": 51,
    "start_time": "2022-03-10T16:53:48.134Z"
   },
   {
    "duration": 21,
    "start_time": "2022-03-10T16:53:48.205Z"
   },
   {
    "duration": 21,
    "start_time": "2022-03-10T16:53:48.228Z"
   },
   {
    "duration": 6,
    "start_time": "2022-03-10T16:53:48.251Z"
   },
   {
    "duration": 8,
    "start_time": "2022-03-10T16:53:48.258Z"
   },
   {
    "duration": 42,
    "start_time": "2022-03-10T16:53:48.267Z"
   },
   {
    "duration": 11,
    "start_time": "2022-03-10T16:53:48.310Z"
   },
   {
    "duration": 10,
    "start_time": "2022-03-10T16:53:48.322Z"
   },
   {
    "duration": 12,
    "start_time": "2022-03-10T16:53:48.333Z"
   },
   {
    "duration": 20,
    "start_time": "2022-03-10T16:53:48.347Z"
   },
   {
    "duration": 37,
    "start_time": "2022-03-10T16:53:48.369Z"
   },
   {
    "duration": 21,
    "start_time": "2022-03-10T16:53:48.408Z"
   },
   {
    "duration": 20,
    "start_time": "2022-03-10T16:53:48.430Z"
   },
   {
    "duration": 17,
    "start_time": "2022-03-10T16:53:48.451Z"
   },
   {
    "duration": 45,
    "start_time": "2022-03-10T16:53:48.469Z"
   },
   {
    "duration": 8,
    "start_time": "2022-03-10T16:55:29.550Z"
   },
   {
    "duration": 33,
    "start_time": "2022-03-10T16:59:58.368Z"
   },
   {
    "duration": 7303,
    "start_time": "2022-03-10T17:01:36.131Z"
   },
   {
    "duration": 59,
    "start_time": "2022-03-10T17:01:50.954Z"
   },
   {
    "duration": 15,
    "start_time": "2022-03-10T17:01:51.015Z"
   },
   {
    "duration": 9,
    "start_time": "2022-03-10T17:01:51.032Z"
   },
   {
    "duration": 20,
    "start_time": "2022-03-10T17:01:51.043Z"
   },
   {
    "duration": 48,
    "start_time": "2022-03-10T17:01:51.065Z"
   },
   {
    "duration": 40,
    "start_time": "2022-03-10T17:01:51.115Z"
   },
   {
    "duration": 16,
    "start_time": "2022-03-10T17:01:51.157Z"
   },
   {
    "duration": 14,
    "start_time": "2022-03-10T17:01:51.205Z"
   },
   {
    "duration": 8,
    "start_time": "2022-03-10T17:01:51.220Z"
   },
   {
    "duration": 8,
    "start_time": "2022-03-10T17:01:51.229Z"
   },
   {
    "duration": 8,
    "start_time": "2022-03-10T17:01:51.238Z"
   },
   {
    "duration": 10,
    "start_time": "2022-03-10T17:01:51.248Z"
   },
   {
    "duration": 50,
    "start_time": "2022-03-10T17:01:51.260Z"
   },
   {
    "duration": 11,
    "start_time": "2022-03-10T17:01:51.312Z"
   },
   {
    "duration": 20,
    "start_time": "2022-03-10T17:01:51.325Z"
   },
   {
    "duration": 20,
    "start_time": "2022-03-10T17:01:51.347Z"
   },
   {
    "duration": 50,
    "start_time": "2022-03-10T17:01:51.369Z"
   },
   {
    "duration": 20,
    "start_time": "2022-03-10T17:01:51.420Z"
   },
   {
    "duration": 19,
    "start_time": "2022-03-10T17:01:51.442Z"
   },
   {
    "duration": 49,
    "start_time": "2022-03-10T17:01:51.462Z"
   },
   {
    "duration": 7442,
    "start_time": "2022-03-10T17:02:53.812Z"
   },
   {
    "duration": 325,
    "start_time": "2022-03-10T17:08:20.324Z"
   },
   {
    "duration": 66,
    "start_time": "2022-03-10T17:16:31.799Z"
   },
   {
    "duration": 13,
    "start_time": "2022-03-10T17:16:31.867Z"
   },
   {
    "duration": 7,
    "start_time": "2022-03-10T17:16:31.882Z"
   },
   {
    "duration": 18,
    "start_time": "2022-03-10T17:16:31.891Z"
   },
   {
    "duration": 14,
    "start_time": "2022-03-10T17:16:31.911Z"
   },
   {
    "duration": 38,
    "start_time": "2022-03-10T17:16:31.926Z"
   },
   {
    "duration": 42,
    "start_time": "2022-03-10T17:16:31.965Z"
   },
   {
    "duration": 11,
    "start_time": "2022-03-10T17:16:32.009Z"
   },
   {
    "duration": 7,
    "start_time": "2022-03-10T17:16:32.022Z"
   },
   {
    "duration": 6,
    "start_time": "2022-03-10T17:16:32.030Z"
   },
   {
    "duration": 7,
    "start_time": "2022-03-10T17:16:32.038Z"
   },
   {
    "duration": 9,
    "start_time": "2022-03-10T17:16:32.047Z"
   },
   {
    "duration": 9,
    "start_time": "2022-03-10T17:16:32.057Z"
   },
   {
    "duration": 44,
    "start_time": "2022-03-10T17:16:32.068Z"
   },
   {
    "duration": 19,
    "start_time": "2022-03-10T17:16:32.113Z"
   },
   {
    "duration": 17,
    "start_time": "2022-03-10T17:16:32.133Z"
   },
   {
    "duration": 19,
    "start_time": "2022-03-10T17:16:32.151Z"
   },
   {
    "duration": 38,
    "start_time": "2022-03-10T17:16:32.171Z"
   },
   {
    "duration": 19,
    "start_time": "2022-03-10T17:16:32.210Z"
   },
   {
    "duration": 18,
    "start_time": "2022-03-10T17:16:32.230Z"
   },
   {
    "duration": 14,
    "start_time": "2022-03-19T15:49:52.608Z"
   },
   {
    "duration": 4,
    "start_time": "2022-03-19T15:50:10.635Z"
   },
   {
    "duration": 70,
    "start_time": "2022-03-20T11:25:21.254Z"
   },
   {
    "duration": 64,
    "start_time": "2022-03-20T11:30:09.944Z"
   },
   {
    "duration": 477,
    "start_time": "2022-03-20T11:34:52.125Z"
   },
   {
    "duration": 5,
    "start_time": "2022-03-20T11:34:52.604Z"
   },
   {
    "duration": 0,
    "start_time": "2022-03-20T11:34:52.612Z"
   },
   {
    "duration": 0,
    "start_time": "2022-03-20T11:34:52.613Z"
   },
   {
    "duration": 0,
    "start_time": "2022-03-20T11:34:52.614Z"
   },
   {
    "duration": 0,
    "start_time": "2022-03-20T11:34:52.616Z"
   },
   {
    "duration": 0,
    "start_time": "2022-03-20T11:34:52.617Z"
   },
   {
    "duration": 0,
    "start_time": "2022-03-20T11:34:52.618Z"
   },
   {
    "duration": 0,
    "start_time": "2022-03-20T11:34:52.619Z"
   },
   {
    "duration": 0,
    "start_time": "2022-03-20T11:34:52.621Z"
   },
   {
    "duration": 0,
    "start_time": "2022-03-20T11:34:52.622Z"
   },
   {
    "duration": 0,
    "start_time": "2022-03-20T11:34:52.623Z"
   },
   {
    "duration": 0,
    "start_time": "2022-03-20T11:34:52.624Z"
   },
   {
    "duration": 0,
    "start_time": "2022-03-20T11:34:52.626Z"
   },
   {
    "duration": 0,
    "start_time": "2022-03-20T11:34:52.627Z"
   },
   {
    "duration": 0,
    "start_time": "2022-03-20T11:34:52.628Z"
   },
   {
    "duration": 0,
    "start_time": "2022-03-20T11:34:52.629Z"
   },
   {
    "duration": 0,
    "start_time": "2022-03-20T11:34:52.630Z"
   },
   {
    "duration": 0,
    "start_time": "2022-03-20T11:34:52.631Z"
   },
   {
    "duration": 0,
    "start_time": "2022-03-20T11:34:52.632Z"
   },
   {
    "duration": 67,
    "start_time": "2022-03-20T11:35:17.971Z"
   },
   {
    "duration": 4,
    "start_time": "2022-03-20T11:35:18.040Z"
   },
   {
    "duration": 0,
    "start_time": "2022-03-20T11:35:18.046Z"
   },
   {
    "duration": 0,
    "start_time": "2022-03-20T11:35:18.048Z"
   },
   {
    "duration": 0,
    "start_time": "2022-03-20T11:35:18.049Z"
   },
   {
    "duration": 0,
    "start_time": "2022-03-20T11:35:18.050Z"
   },
   {
    "duration": 0,
    "start_time": "2022-03-20T11:35:18.051Z"
   },
   {
    "duration": 0,
    "start_time": "2022-03-20T11:35:18.053Z"
   },
   {
    "duration": 0,
    "start_time": "2022-03-20T11:35:18.054Z"
   },
   {
    "duration": 0,
    "start_time": "2022-03-20T11:35:18.054Z"
   },
   {
    "duration": 0,
    "start_time": "2022-03-20T11:35:18.055Z"
   },
   {
    "duration": 0,
    "start_time": "2022-03-20T11:35:18.057Z"
   },
   {
    "duration": 63,
    "start_time": "2022-03-20T11:35:18.060Z"
   },
   {
    "duration": 21,
    "start_time": "2022-03-20T11:35:18.125Z"
   },
   {
    "duration": 77,
    "start_time": "2022-03-20T11:35:18.149Z"
   },
   {
    "duration": 23,
    "start_time": "2022-03-20T11:35:18.228Z"
   },
   {
    "duration": 57,
    "start_time": "2022-03-20T11:35:18.252Z"
   },
   {
    "duration": 22,
    "start_time": "2022-03-20T11:35:18.311Z"
   },
   {
    "duration": 21,
    "start_time": "2022-03-20T11:35:18.334Z"
   },
   {
    "duration": 21,
    "start_time": "2022-03-20T11:35:18.357Z"
   },
   {
    "duration": 79,
    "start_time": "2022-03-20T11:35:48.679Z"
   },
   {
    "duration": 1576,
    "start_time": "2022-03-20T11:35:48.760Z"
   },
   {
    "duration": 1,
    "start_time": "2022-03-20T11:35:50.339Z"
   },
   {
    "duration": 0,
    "start_time": "2022-03-20T11:35:50.341Z"
   },
   {
    "duration": 0,
    "start_time": "2022-03-20T11:35:50.342Z"
   },
   {
    "duration": 0,
    "start_time": "2022-03-20T11:35:50.344Z"
   },
   {
    "duration": 0,
    "start_time": "2022-03-20T11:35:50.345Z"
   },
   {
    "duration": 0,
    "start_time": "2022-03-20T11:35:50.347Z"
   },
   {
    "duration": 0,
    "start_time": "2022-03-20T11:35:50.348Z"
   },
   {
    "duration": 0,
    "start_time": "2022-03-20T11:35:50.350Z"
   },
   {
    "duration": 0,
    "start_time": "2022-03-20T11:35:50.351Z"
   },
   {
    "duration": 0,
    "start_time": "2022-03-20T11:35:50.353Z"
   },
   {
    "duration": 0,
    "start_time": "2022-03-20T11:35:50.354Z"
   },
   {
    "duration": 0,
    "start_time": "2022-03-20T11:35:50.355Z"
   },
   {
    "duration": 0,
    "start_time": "2022-03-20T11:35:50.357Z"
   },
   {
    "duration": 0,
    "start_time": "2022-03-20T11:35:50.359Z"
   },
   {
    "duration": 0,
    "start_time": "2022-03-20T11:35:50.360Z"
   },
   {
    "duration": 0,
    "start_time": "2022-03-20T11:35:50.361Z"
   },
   {
    "duration": 0,
    "start_time": "2022-03-20T11:35:50.363Z"
   },
   {
    "duration": 0,
    "start_time": "2022-03-20T11:35:50.364Z"
   },
   {
    "duration": 72,
    "start_time": "2022-03-20T11:40:39.486Z"
   },
   {
    "duration": 1254,
    "start_time": "2022-03-20T11:40:39.560Z"
   },
   {
    "duration": 0,
    "start_time": "2022-03-20T11:40:40.816Z"
   },
   {
    "duration": 0,
    "start_time": "2022-03-20T11:40:40.818Z"
   },
   {
    "duration": 0,
    "start_time": "2022-03-20T11:40:40.819Z"
   },
   {
    "duration": 0,
    "start_time": "2022-03-20T11:40:40.821Z"
   },
   {
    "duration": 0,
    "start_time": "2022-03-20T11:40:40.822Z"
   },
   {
    "duration": 0,
    "start_time": "2022-03-20T11:40:40.824Z"
   },
   {
    "duration": 0,
    "start_time": "2022-03-20T11:40:40.826Z"
   },
   {
    "duration": 0,
    "start_time": "2022-03-20T11:40:40.827Z"
   },
   {
    "duration": 0,
    "start_time": "2022-03-20T11:40:40.828Z"
   },
   {
    "duration": 0,
    "start_time": "2022-03-20T11:40:40.830Z"
   },
   {
    "duration": 0,
    "start_time": "2022-03-20T11:40:40.832Z"
   },
   {
    "duration": 0,
    "start_time": "2022-03-20T11:40:40.834Z"
   },
   {
    "duration": 0,
    "start_time": "2022-03-20T11:40:40.835Z"
   },
   {
    "duration": 0,
    "start_time": "2022-03-20T11:40:40.836Z"
   },
   {
    "duration": 0,
    "start_time": "2022-03-20T11:40:40.837Z"
   },
   {
    "duration": 0,
    "start_time": "2022-03-20T11:40:40.838Z"
   },
   {
    "duration": 0,
    "start_time": "2022-03-20T11:40:40.839Z"
   },
   {
    "duration": 0,
    "start_time": "2022-03-20T11:40:40.840Z"
   },
   {
    "duration": 7,
    "start_time": "2022-03-20T11:42:48.074Z"
   },
   {
    "duration": 72,
    "start_time": "2022-03-20T11:42:53.516Z"
   },
   {
    "duration": 19,
    "start_time": "2022-03-20T11:42:53.591Z"
   },
   {
    "duration": 1,
    "start_time": "2022-03-20T11:42:53.612Z"
   },
   {
    "duration": 0,
    "start_time": "2022-03-20T11:42:53.614Z"
   },
   {
    "duration": 0,
    "start_time": "2022-03-20T11:42:53.616Z"
   },
   {
    "duration": 0,
    "start_time": "2022-03-20T11:42:53.617Z"
   },
   {
    "duration": 0,
    "start_time": "2022-03-20T11:42:53.618Z"
   },
   {
    "duration": 0,
    "start_time": "2022-03-20T11:42:53.620Z"
   },
   {
    "duration": 0,
    "start_time": "2022-03-20T11:42:53.620Z"
   },
   {
    "duration": 0,
    "start_time": "2022-03-20T11:42:53.622Z"
   },
   {
    "duration": 0,
    "start_time": "2022-03-20T11:42:53.623Z"
   },
   {
    "duration": 0,
    "start_time": "2022-03-20T11:42:53.625Z"
   },
   {
    "duration": 0,
    "start_time": "2022-03-20T11:42:53.626Z"
   },
   {
    "duration": 0,
    "start_time": "2022-03-20T11:42:53.627Z"
   },
   {
    "duration": 0,
    "start_time": "2022-03-20T11:42:53.629Z"
   },
   {
    "duration": 82,
    "start_time": "2022-03-20T11:42:53.632Z"
   },
   {
    "duration": 24,
    "start_time": "2022-03-20T11:42:53.715Z"
   },
   {
    "duration": 20,
    "start_time": "2022-03-20T11:42:53.741Z"
   },
   {
    "duration": 54,
    "start_time": "2022-03-20T11:42:53.763Z"
   },
   {
    "duration": 0,
    "start_time": "2022-03-20T11:42:53.818Z"
   },
   {
    "duration": 12,
    "start_time": "2022-03-20T11:43:08.161Z"
   },
   {
    "duration": 1328,
    "start_time": "2022-03-20T11:45:45.802Z"
   },
   {
    "duration": 4,
    "start_time": "2022-03-20T11:48:06.209Z"
   },
   {
    "duration": 71,
    "start_time": "2022-03-20T11:48:20.762Z"
   },
   {
    "duration": 4,
    "start_time": "2022-03-20T11:49:13.123Z"
   },
   {
    "duration": 13,
    "start_time": "2022-03-20T11:50:50.021Z"
   },
   {
    "duration": 14,
    "start_time": "2022-03-20T11:51:08.222Z"
   },
   {
    "duration": 74,
    "start_time": "2022-03-20T11:55:20.783Z"
   },
   {
    "duration": 24,
    "start_time": "2022-03-20T11:56:22.424Z"
   },
   {
    "duration": 24,
    "start_time": "2022-03-20T11:56:57.254Z"
   },
   {
    "duration": 18,
    "start_time": "2022-03-20T11:57:42.094Z"
   },
   {
    "duration": 26,
    "start_time": "2022-03-20T11:59:04.170Z"
   },
   {
    "duration": 58,
    "start_time": "2022-03-20T11:59:04.198Z"
   },
   {
    "duration": 59,
    "start_time": "2022-03-20T11:59:04.257Z"
   },
   {
    "duration": 31,
    "start_time": "2022-03-20T11:59:04.318Z"
   },
   {
    "duration": 48,
    "start_time": "2022-03-20T11:59:04.351Z"
   },
   {
    "duration": 20,
    "start_time": "2022-03-20T11:59:04.401Z"
   },
   {
    "duration": 62,
    "start_time": "2022-03-20T11:59:49.171Z"
   },
   {
    "duration": 68,
    "start_time": "2022-03-20T12:00:12.002Z"
   },
   {
    "duration": 13,
    "start_time": "2022-03-20T12:00:12.072Z"
   },
   {
    "duration": 30,
    "start_time": "2022-03-20T12:00:12.087Z"
   },
   {
    "duration": 28,
    "start_time": "2022-03-20T12:00:12.119Z"
   },
   {
    "duration": 18,
    "start_time": "2022-03-20T12:00:12.149Z"
   },
   {
    "duration": 79,
    "start_time": "2022-03-20T12:00:12.169Z"
   },
   {
    "duration": 19,
    "start_time": "2022-03-20T12:00:12.250Z"
   },
   {
    "duration": 48,
    "start_time": "2022-03-20T12:00:12.271Z"
   },
   {
    "duration": 7,
    "start_time": "2022-03-20T12:00:12.321Z"
   },
   {
    "duration": 6,
    "start_time": "2022-03-20T12:00:12.331Z"
   },
   {
    "duration": 8,
    "start_time": "2022-03-20T12:00:12.338Z"
   },
   {
    "duration": 12,
    "start_time": "2022-03-20T12:00:12.347Z"
   },
   {
    "duration": 53,
    "start_time": "2022-03-20T12:00:12.361Z"
   },
   {
    "duration": 12,
    "start_time": "2022-03-20T12:00:12.416Z"
   },
   {
    "duration": 22,
    "start_time": "2022-03-20T12:00:12.430Z"
   },
   {
    "duration": 19,
    "start_time": "2022-03-20T12:00:12.453Z"
   },
   {
    "duration": 55,
    "start_time": "2022-03-20T12:00:12.474Z"
   },
   {
    "duration": 19,
    "start_time": "2022-03-20T12:00:12.531Z"
   },
   {
    "duration": 20,
    "start_time": "2022-03-20T12:00:12.552Z"
   },
   {
    "duration": 54,
    "start_time": "2022-03-20T12:00:12.574Z"
   },
   {
    "duration": 8,
    "start_time": "2022-03-20T12:26:37.214Z"
   },
   {
    "duration": 62,
    "start_time": "2022-03-20T12:44:28.867Z"
   },
   {
    "duration": 62,
    "start_time": "2022-03-20T12:48:23.188Z"
   },
   {
    "duration": 22,
    "start_time": "2022-03-20T12:48:55.591Z"
   },
   {
    "duration": 24,
    "start_time": "2022-03-20T12:49:23.101Z"
   },
   {
    "duration": 22,
    "start_time": "2022-03-20T12:49:37.953Z"
   },
   {
    "duration": 21,
    "start_time": "2022-03-20T12:49:48.827Z"
   },
   {
    "duration": 35,
    "start_time": "2022-03-20T12:54:52.713Z"
   },
   {
    "duration": 72,
    "start_time": "2022-03-20T12:57:11.343Z"
   },
   {
    "duration": 17,
    "start_time": "2022-03-20T12:57:11.418Z"
   },
   {
    "duration": 9,
    "start_time": "2022-03-20T12:57:11.436Z"
   },
   {
    "duration": 25,
    "start_time": "2022-03-20T12:57:11.447Z"
   },
   {
    "duration": 27,
    "start_time": "2022-03-20T12:57:11.509Z"
   },
   {
    "duration": 43,
    "start_time": "2022-03-20T12:57:11.538Z"
   },
   {
    "duration": 52,
    "start_time": "2022-03-20T12:57:11.583Z"
   },
   {
    "duration": 15,
    "start_time": "2022-03-20T12:57:11.637Z"
   },
   {
    "duration": 10,
    "start_time": "2022-03-20T12:57:11.653Z"
   },
   {
    "duration": 53,
    "start_time": "2022-03-20T12:57:11.665Z"
   },
   {
    "duration": 7,
    "start_time": "2022-03-20T12:57:11.721Z"
   },
   {
    "duration": 7,
    "start_time": "2022-03-20T12:57:11.729Z"
   },
   {
    "duration": 14,
    "start_time": "2022-03-20T12:57:11.737Z"
   },
   {
    "duration": 65,
    "start_time": "2022-03-20T12:57:11.753Z"
   },
   {
    "duration": 15,
    "start_time": "2022-03-20T12:57:11.821Z"
   },
   {
    "duration": 18,
    "start_time": "2022-03-20T12:57:11.838Z"
   },
   {
    "duration": 23,
    "start_time": "2022-03-20T12:57:11.858Z"
   },
   {
    "duration": 32,
    "start_time": "2022-03-20T12:57:11.916Z"
   },
   {
    "duration": 0,
    "start_time": "2022-03-20T12:57:11.949Z"
   },
   {
    "duration": 0,
    "start_time": "2022-03-20T12:57:11.951Z"
   },
   {
    "duration": 0,
    "start_time": "2022-03-20T12:57:11.952Z"
   },
   {
    "duration": 21,
    "start_time": "2022-03-20T12:58:37.693Z"
   },
   {
    "duration": 73,
    "start_time": "2022-03-20T13:00:11.439Z"
   },
   {
    "duration": 26,
    "start_time": "2022-03-20T13:02:28.810Z"
   },
   {
    "duration": 18,
    "start_time": "2022-03-20T13:03:17.669Z"
   },
   {
    "duration": 24,
    "start_time": "2022-03-20T13:03:55.306Z"
   },
   {
    "duration": 81,
    "start_time": "2022-03-20T13:03:59.564Z"
   },
   {
    "duration": 13,
    "start_time": "2022-03-20T13:03:59.646Z"
   },
   {
    "duration": 9,
    "start_time": "2022-03-20T13:03:59.661Z"
   },
   {
    "duration": 51,
    "start_time": "2022-03-20T13:03:59.672Z"
   },
   {
    "duration": 18,
    "start_time": "2022-03-20T13:03:59.726Z"
   },
   {
    "duration": 82,
    "start_time": "2022-03-20T13:03:59.746Z"
   },
   {
    "duration": 19,
    "start_time": "2022-03-20T13:03:59.830Z"
   },
   {
    "duration": 14,
    "start_time": "2022-03-20T13:03:59.850Z"
   },
   {
    "duration": 47,
    "start_time": "2022-03-20T13:03:59.866Z"
   },
   {
    "duration": 12,
    "start_time": "2022-03-20T13:03:59.916Z"
   },
   {
    "duration": 14,
    "start_time": "2022-03-20T13:03:59.929Z"
   },
   {
    "duration": 8,
    "start_time": "2022-03-20T13:03:59.945Z"
   },
   {
    "duration": 62,
    "start_time": "2022-03-20T13:03:59.955Z"
   },
   {
    "duration": 19,
    "start_time": "2022-03-20T13:04:00.018Z"
   },
   {
    "duration": 14,
    "start_time": "2022-03-20T13:04:00.040Z"
   },
   {
    "duration": 26,
    "start_time": "2022-03-20T13:04:00.056Z"
   },
   {
    "duration": 27,
    "start_time": "2022-03-20T13:04:00.111Z"
   },
   {
    "duration": 18,
    "start_time": "2022-03-20T13:04:00.139Z"
   },
   {
    "duration": 0,
    "start_time": "2022-03-20T13:04:00.159Z"
   },
   {
    "duration": 0,
    "start_time": "2022-03-20T13:04:00.160Z"
   },
   {
    "duration": 0,
    "start_time": "2022-03-20T13:04:00.162Z"
   },
   {
    "duration": 18,
    "start_time": "2022-03-20T13:04:46.982Z"
   },
   {
    "duration": 18,
    "start_time": "2022-03-20T13:05:30.451Z"
   },
   {
    "duration": 24,
    "start_time": "2022-03-20T13:10:00.980Z"
   },
   {
    "duration": 16,
    "start_time": "2022-03-20T13:19:14.981Z"
   },
   {
    "duration": 56,
    "start_time": "2022-03-20T13:20:50.626Z"
   },
   {
    "duration": 26,
    "start_time": "2022-03-20T13:21:24.360Z"
   },
   {
    "duration": 67,
    "start_time": "2022-03-20T13:25:28.814Z"
   },
   {
    "duration": 1110,
    "start_time": "2022-03-20T13:25:39.449Z"
   },
   {
    "duration": 1652,
    "start_time": "2022-03-20T13:26:04.052Z"
   },
   {
    "duration": 1083,
    "start_time": "2022-03-20T13:26:34.886Z"
   },
   {
    "duration": 23,
    "start_time": "2022-03-20T13:27:39.127Z"
   },
   {
    "duration": 1172,
    "start_time": "2022-03-20T13:28:29.683Z"
   },
   {
    "duration": 85,
    "start_time": "2022-03-20T13:29:45.021Z"
   },
   {
    "duration": 1129,
    "start_time": "2022-03-20T13:30:15.844Z"
   },
   {
    "duration": 28,
    "start_time": "2022-03-20T13:38:09.628Z"
   },
   {
    "duration": 8,
    "start_time": "2022-03-20T13:39:49.052Z"
   },
   {
    "duration": 28,
    "start_time": "2022-03-20T13:40:28.277Z"
   },
   {
    "duration": 10,
    "start_time": "2022-03-20T13:40:55.082Z"
   },
   {
    "duration": 18,
    "start_time": "2022-03-20T13:41:55.801Z"
   },
   {
    "duration": 9,
    "start_time": "2022-03-20T13:42:20.124Z"
   },
   {
    "duration": 22,
    "start_time": "2022-03-20T13:42:32.144Z"
   },
   {
    "duration": 18,
    "start_time": "2022-03-20T13:42:59.576Z"
   },
   {
    "duration": 8,
    "start_time": "2022-03-20T13:43:29.386Z"
   },
   {
    "duration": 23,
    "start_time": "2022-03-20T13:43:44.517Z"
   },
   {
    "duration": 23,
    "start_time": "2022-03-20T13:45:14.725Z"
   },
   {
    "duration": 77,
    "start_time": "2022-03-20T13:45:39.386Z"
   },
   {
    "duration": 13,
    "start_time": "2022-03-20T13:45:39.465Z"
   },
   {
    "duration": 9,
    "start_time": "2022-03-20T13:45:39.479Z"
   },
   {
    "duration": 35,
    "start_time": "2022-03-20T13:45:39.509Z"
   },
   {
    "duration": 18,
    "start_time": "2022-03-20T13:45:39.545Z"
   },
   {
    "duration": 86,
    "start_time": "2022-03-20T13:45:39.564Z"
   },
   {
    "duration": 19,
    "start_time": "2022-03-20T13:45:39.652Z"
   },
   {
    "duration": 57,
    "start_time": "2022-03-20T13:45:39.672Z"
   },
   {
    "duration": 9,
    "start_time": "2022-03-20T13:45:39.731Z"
   },
   {
    "duration": 6,
    "start_time": "2022-03-20T13:45:39.742Z"
   },
   {
    "duration": 8,
    "start_time": "2022-03-20T13:45:39.750Z"
   },
   {
    "duration": 7,
    "start_time": "2022-03-20T13:45:39.760Z"
   },
   {
    "duration": 21,
    "start_time": "2022-03-20T13:45:39.812Z"
   },
   {
    "duration": 12,
    "start_time": "2022-03-20T13:45:39.834Z"
   },
   {
    "duration": 11,
    "start_time": "2022-03-20T13:45:39.849Z"
   },
   {
    "duration": 47,
    "start_time": "2022-03-20T13:45:39.862Z"
   },
   {
    "duration": 30,
    "start_time": "2022-03-20T13:45:39.913Z"
   },
   {
    "duration": 23,
    "start_time": "2022-03-20T13:45:39.945Z"
   },
   {
    "duration": 45,
    "start_time": "2022-03-20T13:45:39.970Z"
   },
   {
    "duration": 27,
    "start_time": "2022-03-20T13:45:40.017Z"
   },
   {
    "duration": 21,
    "start_time": "2022-03-20T13:45:40.046Z"
   },
   {
    "duration": 19,
    "start_time": "2022-03-20T14:06:00.764Z"
   },
   {
    "duration": 30,
    "start_time": "2022-03-20T14:07:39.802Z"
   },
   {
    "duration": 20,
    "start_time": "2022-03-20T14:08:00.353Z"
   },
   {
    "duration": 1418,
    "start_time": "2022-03-20T14:08:37.645Z"
   },
   {
    "duration": 18,
    "start_time": "2022-03-20T14:08:58.230Z"
   },
   {
    "duration": 17,
    "start_time": "2022-03-20T14:09:15.590Z"
   },
   {
    "duration": 66,
    "start_time": "2022-03-20T14:09:50.544Z"
   },
   {
    "duration": 1375,
    "start_time": "2022-03-20T14:11:53.439Z"
   },
   {
    "duration": 1181,
    "start_time": "2022-03-20T14:12:29.274Z"
   },
   {
    "duration": 31,
    "start_time": "2022-03-20T14:13:50.321Z"
   },
   {
    "duration": 28,
    "start_time": "2022-03-20T14:14:15.274Z"
   },
   {
    "duration": 1196,
    "start_time": "2022-03-20T14:15:06.750Z"
   },
   {
    "duration": 67,
    "start_time": "2022-03-20T14:16:59.568Z"
   },
   {
    "duration": 27,
    "start_time": "2022-03-20T14:17:09.905Z"
   },
   {
    "duration": 19,
    "start_time": "2022-03-20T14:18:14.048Z"
   },
   {
    "duration": 17,
    "start_time": "2022-03-20T14:24:07.077Z"
   },
   {
    "duration": 18,
    "start_time": "2022-03-20T14:24:59.221Z"
   },
   {
    "duration": 65,
    "start_time": "2022-03-20T14:26:02.670Z"
   },
   {
    "duration": 18,
    "start_time": "2022-03-20T14:26:10.652Z"
   },
   {
    "duration": 968,
    "start_time": "2022-03-20T14:29:31.524Z"
   },
   {
    "duration": 888,
    "start_time": "2022-03-20T14:29:57.555Z"
   },
   {
    "duration": 19,
    "start_time": "2022-03-20T14:31:24.419Z"
   },
   {
    "duration": 15,
    "start_time": "2022-03-20T14:32:01.257Z"
   },
   {
    "duration": 21,
    "start_time": "2022-03-20T14:32:22.212Z"
   },
   {
    "duration": 44,
    "start_time": "2022-03-20T14:32:34.992Z"
   },
   {
    "duration": 34,
    "start_time": "2022-03-20T14:32:56.864Z"
   },
   {
    "duration": 28,
    "start_time": "2022-03-20T14:34:28.661Z"
   },
   {
    "duration": 37,
    "start_time": "2022-03-20T14:35:16.702Z"
   },
   {
    "duration": 4,
    "start_time": "2022-03-20T15:21:09.594Z"
   },
   {
    "duration": 9,
    "start_time": "2022-03-20T15:21:27.291Z"
   },
   {
    "duration": 20,
    "start_time": "2022-03-20T15:21:50.122Z"
   },
   {
    "duration": 18,
    "start_time": "2022-03-20T15:23:16.536Z"
   },
   {
    "duration": 18,
    "start_time": "2022-03-20T15:24:45.328Z"
   },
   {
    "duration": 100,
    "start_time": "2022-03-20T15:25:09.553Z"
   },
   {
    "duration": 8,
    "start_time": "2022-03-20T15:25:22.840Z"
   },
   {
    "duration": 17,
    "start_time": "2022-03-20T15:25:41.976Z"
   },
   {
    "duration": 96,
    "start_time": "2022-03-20T15:26:18.995Z"
   },
   {
    "duration": 18,
    "start_time": "2022-03-20T15:26:35.390Z"
   },
   {
    "duration": 74,
    "start_time": "2022-03-20T15:29:02.367Z"
   },
   {
    "duration": 557,
    "start_time": "2022-03-20T15:29:42.567Z"
   },
   {
    "duration": 19,
    "start_time": "2022-03-20T15:31:06.918Z"
   },
   {
    "duration": 17,
    "start_time": "2022-03-20T15:31:40.889Z"
   },
   {
    "duration": 20,
    "start_time": "2022-03-20T15:32:34.367Z"
   },
   {
    "duration": 11,
    "start_time": "2022-03-20T15:33:27.989Z"
   },
   {
    "duration": 61,
    "start_time": "2022-03-20T15:35:42.663Z"
   },
   {
    "duration": 23,
    "start_time": "2022-03-20T15:35:54.549Z"
   },
   {
    "duration": 17,
    "start_time": "2022-03-20T15:36:25.226Z"
   },
   {
    "duration": 17,
    "start_time": "2022-03-20T15:36:30.524Z"
   },
   {
    "duration": 18,
    "start_time": "2022-03-20T15:36:46.562Z"
   },
   {
    "duration": 17,
    "start_time": "2022-03-20T15:37:08.542Z"
   },
   {
    "duration": 17,
    "start_time": "2022-03-20T15:37:30.625Z"
   },
   {
    "duration": 16,
    "start_time": "2022-03-20T15:38:58.153Z"
   },
   {
    "duration": 22,
    "start_time": "2022-03-20T15:39:10.329Z"
   },
   {
    "duration": 17,
    "start_time": "2022-03-20T15:39:31.050Z"
   },
   {
    "duration": 15,
    "start_time": "2022-03-20T15:39:54.051Z"
   },
   {
    "duration": 22,
    "start_time": "2022-03-20T15:40:08.703Z"
   },
   {
    "duration": 17,
    "start_time": "2022-03-20T15:40:20.727Z"
   },
   {
    "duration": 16,
    "start_time": "2022-03-20T15:40:34.681Z"
   },
   {
    "duration": 113,
    "start_time": "2022-03-20T15:42:37.341Z"
   },
   {
    "duration": 17,
    "start_time": "2022-03-20T15:42:52.977Z"
   },
   {
    "duration": 16,
    "start_time": "2022-03-20T15:44:11.822Z"
   },
   {
    "duration": 22,
    "start_time": "2022-03-20T15:44:42.215Z"
   },
   {
    "duration": 17,
    "start_time": "2022-03-20T15:44:48.853Z"
   },
   {
    "duration": 22,
    "start_time": "2022-03-20T15:45:05.708Z"
   },
   {
    "duration": 18,
    "start_time": "2022-03-20T15:46:46.757Z"
   },
   {
    "duration": 19,
    "start_time": "2022-03-20T15:49:19.863Z"
   },
   {
    "duration": 18,
    "start_time": "2022-03-20T15:49:32.350Z"
   },
   {
    "duration": 19,
    "start_time": "2022-03-20T15:50:41.052Z"
   },
   {
    "duration": 16,
    "start_time": "2022-03-20T15:53:39.817Z"
   },
   {
    "duration": 21,
    "start_time": "2022-03-20T15:54:46.710Z"
   },
   {
    "duration": 15,
    "start_time": "2022-03-20T15:55:19.056Z"
   },
   {
    "duration": 15,
    "start_time": "2022-03-20T15:55:31.754Z"
   },
   {
    "duration": 17,
    "start_time": "2022-03-20T15:59:10.404Z"
   },
   {
    "duration": 16,
    "start_time": "2022-03-20T16:00:58.559Z"
   },
   {
    "duration": 17,
    "start_time": "2022-03-20T16:07:17.720Z"
   },
   {
    "duration": 18,
    "start_time": "2022-03-20T16:10:06.832Z"
   },
   {
    "duration": 19,
    "start_time": "2022-03-20T16:14:25.209Z"
   },
   {
    "duration": 19,
    "start_time": "2022-03-20T16:14:51.238Z"
   },
   {
    "duration": 30,
    "start_time": "2022-03-20T16:16:53.405Z"
   },
   {
    "duration": 18,
    "start_time": "2022-03-20T16:18:13.133Z"
   },
   {
    "duration": 20,
    "start_time": "2022-03-20T16:19:46.487Z"
   },
   {
    "duration": 14,
    "start_time": "2022-03-20T16:28:54.645Z"
   },
   {
    "duration": 193,
    "start_time": "2022-03-20T16:36:53.704Z"
   },
   {
    "duration": 23,
    "start_time": "2022-03-20T16:36:53.900Z"
   },
   {
    "duration": 13,
    "start_time": "2022-03-20T16:36:53.925Z"
   },
   {
    "duration": 8,
    "start_time": "2022-03-20T16:36:53.940Z"
   },
   {
    "duration": 25,
    "start_time": "2022-03-20T16:36:53.949Z"
   },
   {
    "duration": 48,
    "start_time": "2022-03-20T16:36:53.976Z"
   },
   {
    "duration": 44,
    "start_time": "2022-03-20T16:36:54.026Z"
   },
   {
    "duration": 48,
    "start_time": "2022-03-20T16:36:54.072Z"
   },
   {
    "duration": 16,
    "start_time": "2022-03-20T16:36:54.125Z"
   },
   {
    "duration": 7,
    "start_time": "2022-03-20T16:36:54.143Z"
   },
   {
    "duration": 7,
    "start_time": "2022-03-20T16:36:54.151Z"
   },
   {
    "duration": 8,
    "start_time": "2022-03-20T16:36:54.160Z"
   },
   {
    "duration": 15,
    "start_time": "2022-03-20T16:36:54.211Z"
   },
   {
    "duration": 13,
    "start_time": "2022-03-20T16:36:54.228Z"
   },
   {
    "duration": 11,
    "start_time": "2022-03-20T16:36:54.243Z"
   },
   {
    "duration": 12,
    "start_time": "2022-03-20T16:36:54.256Z"
   },
   {
    "duration": 66,
    "start_time": "2022-03-20T16:36:54.270Z"
   },
   {
    "duration": 21,
    "start_time": "2022-03-20T16:36:54.337Z"
   },
   {
    "duration": 19,
    "start_time": "2022-03-20T16:36:54.360Z"
   },
   {
    "duration": 47,
    "start_time": "2022-03-20T16:36:54.382Z"
   },
   {
    "duration": 18,
    "start_time": "2022-03-20T16:36:54.431Z"
   },
   {
    "duration": 19,
    "start_time": "2022-03-20T16:36:54.451Z"
   },
   {
    "duration": 70,
    "start_time": "2022-03-20T16:39:11.288Z"
   },
   {
    "duration": 11,
    "start_time": "2022-03-20T16:45:01.458Z"
   },
   {
    "duration": 69,
    "start_time": "2022-03-20T16:45:07.873Z"
   },
   {
    "duration": 14,
    "start_time": "2022-03-20T16:45:07.944Z"
   },
   {
    "duration": 15,
    "start_time": "2022-03-20T16:45:07.960Z"
   },
   {
    "duration": 32,
    "start_time": "2022-03-20T16:45:07.977Z"
   },
   {
    "duration": 9,
    "start_time": "2022-03-20T16:45:08.011Z"
   },
   {
    "duration": 25,
    "start_time": "2022-03-20T16:45:08.022Z"
   },
   {
    "duration": 17,
    "start_time": "2022-03-20T16:45:08.048Z"
   },
   {
    "duration": 79,
    "start_time": "2022-03-20T16:45:08.067Z"
   },
   {
    "duration": 23,
    "start_time": "2022-03-20T16:45:08.149Z"
   },
   {
    "duration": 45,
    "start_time": "2022-03-20T16:45:08.175Z"
   },
   {
    "duration": 16,
    "start_time": "2022-03-20T16:45:08.222Z"
   },
   {
    "duration": 12,
    "start_time": "2022-03-20T16:45:08.240Z"
   },
   {
    "duration": 17,
    "start_time": "2022-03-20T16:45:08.254Z"
   },
   {
    "duration": 8,
    "start_time": "2022-03-20T16:45:08.273Z"
   },
   {
    "duration": 27,
    "start_time": "2022-03-20T16:45:08.283Z"
   },
   {
    "duration": 13,
    "start_time": "2022-03-20T16:45:08.312Z"
   },
   {
    "duration": 13,
    "start_time": "2022-03-20T16:45:08.326Z"
   },
   {
    "duration": 24,
    "start_time": "2022-03-20T16:45:08.341Z"
   },
   {
    "duration": 50,
    "start_time": "2022-03-20T16:45:08.367Z"
   },
   {
    "duration": 26,
    "start_time": "2022-03-20T16:45:08.420Z"
   },
   {
    "duration": 19,
    "start_time": "2022-03-20T16:45:08.448Z"
   },
   {
    "duration": 41,
    "start_time": "2022-03-20T16:45:08.469Z"
   },
   {
    "duration": 21,
    "start_time": "2022-03-20T16:45:08.511Z"
   },
   {
    "duration": 4,
    "start_time": "2022-03-20T16:48:32.280Z"
   },
   {
    "duration": 18,
    "start_time": "2022-03-20T16:48:40.546Z"
   },
   {
    "duration": 66,
    "start_time": "2022-03-20T16:49:34.143Z"
   },
   {
    "duration": 15,
    "start_time": "2022-03-20T16:49:34.211Z"
   },
   {
    "duration": 11,
    "start_time": "2022-03-20T16:49:34.228Z"
   },
   {
    "duration": 16,
    "start_time": "2022-03-20T16:49:34.241Z"
   },
   {
    "duration": 52,
    "start_time": "2022-03-20T16:49:34.259Z"
   },
   {
    "duration": 10,
    "start_time": "2022-03-20T16:49:34.313Z"
   },
   {
    "duration": 26,
    "start_time": "2022-03-20T16:49:34.325Z"
   },
   {
    "duration": 19,
    "start_time": "2022-03-20T16:49:34.353Z"
   },
   {
    "duration": 50,
    "start_time": "2022-03-20T16:49:34.408Z"
   },
   {
    "duration": 55,
    "start_time": "2022-03-20T16:49:34.461Z"
   },
   {
    "duration": 17,
    "start_time": "2022-03-20T16:49:34.518Z"
   },
   {
    "duration": 8,
    "start_time": "2022-03-20T16:49:34.537Z"
   },
   {
    "duration": 7,
    "start_time": "2022-03-20T16:49:34.547Z"
   },
   {
    "duration": 10,
    "start_time": "2022-03-20T16:49:34.555Z"
   },
   {
    "duration": 43,
    "start_time": "2022-03-20T16:49:34.567Z"
   },
   {
    "duration": 14,
    "start_time": "2022-03-20T16:49:34.612Z"
   },
   {
    "duration": 13,
    "start_time": "2022-03-20T16:49:34.628Z"
   },
   {
    "duration": 15,
    "start_time": "2022-03-20T16:49:34.643Z"
   },
   {
    "duration": 59,
    "start_time": "2022-03-20T16:49:34.660Z"
   },
   {
    "duration": 25,
    "start_time": "2022-03-20T16:49:34.721Z"
   },
   {
    "duration": 19,
    "start_time": "2022-03-20T16:49:34.748Z"
   },
   {
    "duration": 41,
    "start_time": "2022-03-20T16:49:34.769Z"
   },
   {
    "duration": 21,
    "start_time": "2022-03-20T16:49:34.811Z"
   },
   {
    "duration": 25,
    "start_time": "2022-03-20T16:49:34.834Z"
   },
   {
    "duration": 19,
    "start_time": "2022-03-20T16:58:45.086Z"
   },
   {
    "duration": 22,
    "start_time": "2022-03-20T17:00:06.261Z"
   },
   {
    "duration": 19,
    "start_time": "2022-03-20T17:00:17.027Z"
   },
   {
    "duration": 19,
    "start_time": "2022-03-20T17:02:40.959Z"
   },
   {
    "duration": 102,
    "start_time": "2022-03-20T17:03:35.492Z"
   },
   {
    "duration": 19,
    "start_time": "2022-03-20T17:03:47.845Z"
   },
   {
    "duration": 19,
    "start_time": "2022-03-20T17:03:59.953Z"
   },
   {
    "duration": 19,
    "start_time": "2022-03-20T17:04:07.113Z"
   },
   {
    "duration": 21,
    "start_time": "2022-03-20T17:04:21.863Z"
   },
   {
    "duration": 8,
    "start_time": "2022-03-20T17:08:36.888Z"
   },
   {
    "duration": 72,
    "start_time": "2022-03-20T17:08:41.541Z"
   },
   {
    "duration": 16,
    "start_time": "2022-03-20T17:08:41.615Z"
   },
   {
    "duration": 12,
    "start_time": "2022-03-20T17:08:41.632Z"
   },
   {
    "duration": 18,
    "start_time": "2022-03-20T17:08:41.646Z"
   },
   {
    "duration": 5,
    "start_time": "2022-03-20T17:08:41.666Z"
   },
   {
    "duration": 43,
    "start_time": "2022-03-20T17:08:41.673Z"
   },
   {
    "duration": 26,
    "start_time": "2022-03-20T17:08:41.717Z"
   },
   {
    "duration": 18,
    "start_time": "2022-03-20T17:08:41.745Z"
   },
   {
    "duration": 83,
    "start_time": "2022-03-20T17:08:41.764Z"
   },
   {
    "duration": 20,
    "start_time": "2022-03-20T17:08:41.850Z"
   },
   {
    "duration": 40,
    "start_time": "2022-03-20T17:08:41.872Z"
   },
   {
    "duration": 8,
    "start_time": "2022-03-20T17:08:41.913Z"
   },
   {
    "duration": 8,
    "start_time": "2022-03-20T17:08:41.923Z"
   },
   {
    "duration": 10,
    "start_time": "2022-03-20T17:08:41.933Z"
   },
   {
    "duration": 6,
    "start_time": "2022-03-20T17:08:41.944Z"
   },
   {
    "duration": 13,
    "start_time": "2022-03-20T17:08:41.952Z"
   },
   {
    "duration": 51,
    "start_time": "2022-03-20T17:08:41.967Z"
   },
   {
    "duration": 13,
    "start_time": "2022-03-20T17:08:42.020Z"
   },
   {
    "duration": 23,
    "start_time": "2022-03-20T17:08:42.035Z"
   },
   {
    "duration": 20,
    "start_time": "2022-03-20T17:08:42.059Z"
   },
   {
    "duration": 26,
    "start_time": "2022-03-20T17:08:42.109Z"
   },
   {
    "duration": 21,
    "start_time": "2022-03-20T17:08:42.137Z"
   },
   {
    "duration": 19,
    "start_time": "2022-03-20T17:08:42.160Z"
   },
   {
    "duration": 44,
    "start_time": "2022-03-20T17:08:42.181Z"
   },
   {
    "duration": 68,
    "start_time": "2022-03-20T17:12:54.972Z"
   },
   {
    "duration": 17,
    "start_time": "2022-03-20T17:12:55.043Z"
   },
   {
    "duration": 13,
    "start_time": "2022-03-20T17:12:55.062Z"
   },
   {
    "duration": 51,
    "start_time": "2022-03-20T17:12:55.078Z"
   },
   {
    "duration": 6,
    "start_time": "2022-03-20T17:12:55.131Z"
   },
   {
    "duration": 12,
    "start_time": "2022-03-20T17:12:55.139Z"
   },
   {
    "duration": 19,
    "start_time": "2022-03-20T17:12:55.153Z"
   },
   {
    "duration": 79,
    "start_time": "2022-03-20T17:12:55.174Z"
   },
   {
    "duration": 20,
    "start_time": "2022-03-20T17:12:55.255Z"
   },
   {
    "duration": 43,
    "start_time": "2022-03-20T17:12:55.278Z"
   },
   {
    "duration": 11,
    "start_time": "2022-03-20T17:12:55.323Z"
   },
   {
    "duration": 6,
    "start_time": "2022-03-20T17:12:55.336Z"
   },
   {
    "duration": 7,
    "start_time": "2022-03-20T17:12:55.344Z"
   },
   {
    "duration": 7,
    "start_time": "2022-03-20T17:12:55.353Z"
   },
   {
    "duration": 12,
    "start_time": "2022-03-20T17:12:55.362Z"
   },
   {
    "duration": 44,
    "start_time": "2022-03-20T17:12:55.375Z"
   },
   {
    "duration": 14,
    "start_time": "2022-03-20T17:12:55.420Z"
   },
   {
    "duration": 34,
    "start_time": "2022-03-20T17:12:55.436Z"
   },
   {
    "duration": 19,
    "start_time": "2022-03-20T17:12:55.472Z"
   },
   {
    "duration": 27,
    "start_time": "2022-03-20T17:12:55.509Z"
   },
   {
    "duration": 18,
    "start_time": "2022-03-20T17:12:55.538Z"
   },
   {
    "duration": 20,
    "start_time": "2022-03-20T17:12:55.558Z"
   },
   {
    "duration": 41,
    "start_time": "2022-03-20T17:12:55.580Z"
   },
   {
    "duration": 37,
    "start_time": "2022-03-20T17:18:33.394Z"
   },
   {
    "duration": 9,
    "start_time": "2022-03-20T17:37:43.715Z"
   },
   {
    "duration": 808,
    "start_time": "2022-03-20T17:37:51.371Z"
   },
   {
    "duration": 74,
    "start_time": "2022-03-20T17:41:31.177Z"
   },
   {
    "duration": 32,
    "start_time": "2022-03-20T17:41:38.262Z"
   },
   {
    "duration": 323,
    "start_time": "2022-03-20T17:42:01.032Z"
   },
   {
    "duration": 166,
    "start_time": "2022-03-20T17:45:32.869Z"
   },
   {
    "duration": 71,
    "start_time": "2022-03-20T17:48:39.694Z"
   },
   {
    "duration": 66,
    "start_time": "2022-03-20T17:50:12.560Z"
   },
   {
    "duration": 67,
    "start_time": "2022-03-20T17:50:20.104Z"
   },
   {
    "duration": 14,
    "start_time": "2022-03-20T17:51:36.581Z"
   },
   {
    "duration": 188,
    "start_time": "2022-03-20T17:51:42.672Z"
   },
   {
    "duration": 22,
    "start_time": "2022-03-20T17:52:00.011Z"
   },
   {
    "duration": 14,
    "start_time": "2022-03-20T17:52:09.833Z"
   },
   {
    "duration": 172,
    "start_time": "2022-03-20T17:52:41.358Z"
   },
   {
    "duration": 68,
    "start_time": "2022-03-20T17:53:50.822Z"
   },
   {
    "duration": 671,
    "start_time": "2022-03-20T17:57:11.660Z"
   },
   {
    "duration": 167,
    "start_time": "2022-03-20T17:57:48.900Z"
   },
   {
    "duration": 136,
    "start_time": "2022-03-20T18:00:05.107Z"
   },
   {
    "duration": 178,
    "start_time": "2022-03-20T18:00:53.276Z"
   },
   {
    "duration": 60,
    "start_time": "2022-03-20T18:02:04.738Z"
   },
   {
    "duration": 62,
    "start_time": "2022-03-20T18:02:12.876Z"
   },
   {
    "duration": 70,
    "start_time": "2022-03-20T18:02:21.452Z"
   },
   {
    "duration": 183,
    "start_time": "2022-03-20T18:02:33.208Z"
   },
   {
    "duration": 74,
    "start_time": "2022-03-20T18:11:31.809Z"
   },
   {
    "duration": 181,
    "start_time": "2022-03-20T18:11:40.869Z"
   },
   {
    "duration": 188,
    "start_time": "2022-03-20T18:18:48.174Z"
   },
   {
    "duration": 361,
    "start_time": "2022-03-20T18:19:25.124Z"
   },
   {
    "duration": 213,
    "start_time": "2022-03-20T18:19:47.011Z"
   },
   {
    "duration": 219,
    "start_time": "2022-03-20T18:21:18.807Z"
   },
   {
    "duration": 185,
    "start_time": "2022-03-20T18:22:06.904Z"
   },
   {
    "duration": 75,
    "start_time": "2022-03-20T18:22:34.477Z"
   },
   {
    "duration": 16,
    "start_time": "2022-03-20T18:22:34.554Z"
   },
   {
    "duration": 11,
    "start_time": "2022-03-20T18:22:34.572Z"
   },
   {
    "duration": 37,
    "start_time": "2022-03-20T18:22:34.586Z"
   },
   {
    "duration": 183,
    "start_time": "2022-03-20T18:22:34.624Z"
   },
   {
    "duration": 183,
    "start_time": "2022-03-20T18:22:34.809Z"
   },
   {
    "duration": 0,
    "start_time": "2022-03-20T18:22:34.994Z"
   },
   {
    "duration": 0,
    "start_time": "2022-03-20T18:22:34.996Z"
   },
   {
    "duration": 0,
    "start_time": "2022-03-20T18:22:34.997Z"
   },
   {
    "duration": 0,
    "start_time": "2022-03-20T18:22:34.998Z"
   },
   {
    "duration": 0,
    "start_time": "2022-03-20T18:22:34.999Z"
   },
   {
    "duration": 0,
    "start_time": "2022-03-20T18:22:35.008Z"
   },
   {
    "duration": 0,
    "start_time": "2022-03-20T18:22:35.009Z"
   },
   {
    "duration": 0,
    "start_time": "2022-03-20T18:22:35.011Z"
   },
   {
    "duration": 0,
    "start_time": "2022-03-20T18:22:35.012Z"
   },
   {
    "duration": 0,
    "start_time": "2022-03-20T18:22:35.013Z"
   },
   {
    "duration": 0,
    "start_time": "2022-03-20T18:22:35.014Z"
   },
   {
    "duration": 0,
    "start_time": "2022-03-20T18:22:35.015Z"
   },
   {
    "duration": 0,
    "start_time": "2022-03-20T18:22:35.016Z"
   },
   {
    "duration": 0,
    "start_time": "2022-03-20T18:22:35.017Z"
   },
   {
    "duration": 0,
    "start_time": "2022-03-20T18:22:35.018Z"
   },
   {
    "duration": 0,
    "start_time": "2022-03-20T18:22:35.019Z"
   },
   {
    "duration": 0,
    "start_time": "2022-03-20T18:22:35.020Z"
   },
   {
    "duration": 0,
    "start_time": "2022-03-20T18:22:35.021Z"
   },
   {
    "duration": 0,
    "start_time": "2022-03-20T18:22:35.022Z"
   },
   {
    "duration": 167,
    "start_time": "2022-03-20T18:23:30.484Z"
   },
   {
    "duration": 159,
    "start_time": "2022-03-20T18:23:41.655Z"
   },
   {
    "duration": 71,
    "start_time": "2022-03-20T18:23:51.281Z"
   },
   {
    "duration": 15,
    "start_time": "2022-03-20T18:23:51.354Z"
   },
   {
    "duration": 12,
    "start_time": "2022-03-20T18:23:51.371Z"
   },
   {
    "duration": 39,
    "start_time": "2022-03-20T18:23:51.385Z"
   },
   {
    "duration": 184,
    "start_time": "2022-03-20T18:23:51.425Z"
   },
   {
    "duration": 172,
    "start_time": "2022-03-20T18:23:51.610Z"
   },
   {
    "duration": 6,
    "start_time": "2022-03-20T18:23:51.784Z"
   },
   {
    "duration": 20,
    "start_time": "2022-03-20T18:23:51.792Z"
   },
   {
    "duration": 19,
    "start_time": "2022-03-20T18:23:51.814Z"
   },
   {
    "duration": 39,
    "start_time": "2022-03-20T18:23:51.836Z"
   },
   {
    "duration": 48,
    "start_time": "2022-03-20T18:23:51.876Z"
   },
   {
    "duration": 16,
    "start_time": "2022-03-20T18:23:51.925Z"
   },
   {
    "duration": 11,
    "start_time": "2022-03-20T18:23:51.942Z"
   },
   {
    "duration": 7,
    "start_time": "2022-03-20T18:23:51.955Z"
   },
   {
    "duration": 7,
    "start_time": "2022-03-20T18:23:51.963Z"
   },
   {
    "duration": 42,
    "start_time": "2022-03-20T18:23:51.972Z"
   },
   {
    "duration": 14,
    "start_time": "2022-03-20T18:23:52.015Z"
   },
   {
    "duration": 12,
    "start_time": "2022-03-20T18:23:52.031Z"
   },
   {
    "duration": 13,
    "start_time": "2022-03-20T18:23:52.044Z"
   },
   {
    "duration": 53,
    "start_time": "2022-03-20T18:23:52.059Z"
   },
   {
    "duration": 18,
    "start_time": "2022-03-20T18:23:52.114Z"
   },
   {
    "duration": 18,
    "start_time": "2022-03-20T18:23:52.134Z"
   },
   {
    "duration": 18,
    "start_time": "2022-03-20T18:23:52.153Z"
   },
   {
    "duration": 47,
    "start_time": "2022-03-20T18:23:52.172Z"
   },
   {
    "duration": 19,
    "start_time": "2022-03-20T18:23:52.220Z"
   },
   {
    "duration": 164,
    "start_time": "2022-03-20T18:25:35.825Z"
   },
   {
    "duration": 157,
    "start_time": "2022-03-20T18:25:42.877Z"
   },
   {
    "duration": 172,
    "start_time": "2022-03-20T18:25:51.897Z"
   },
   {
    "duration": 61,
    "start_time": "2022-03-20T18:26:59.269Z"
   },
   {
    "duration": 77,
    "start_time": "2022-03-20T18:28:01.036Z"
   },
   {
    "duration": 186,
    "start_time": "2022-03-20T18:28:12.122Z"
   },
   {
    "duration": 227,
    "start_time": "2022-03-20T18:29:18.787Z"
   },
   {
    "duration": 146,
    "start_time": "2022-03-20T18:42:15.617Z"
   },
   {
    "duration": 273,
    "start_time": "2022-03-20T18:44:56.418Z"
   },
   {
    "duration": 392,
    "start_time": "2022-03-20T18:52:00.557Z"
   },
   {
    "duration": 108,
    "start_time": "2022-03-20T18:57:36.534Z"
   },
   {
    "duration": 73,
    "start_time": "2022-03-20T18:59:53.629Z"
   },
   {
    "duration": 16,
    "start_time": "2022-03-20T18:59:53.706Z"
   },
   {
    "duration": 11,
    "start_time": "2022-03-20T18:59:53.723Z"
   },
   {
    "duration": 16,
    "start_time": "2022-03-20T18:59:53.736Z"
   },
   {
    "duration": 192,
    "start_time": "2022-03-20T18:59:53.754Z"
   },
   {
    "duration": 282,
    "start_time": "2022-03-20T18:59:53.947Z"
   },
   {
    "duration": 221,
    "start_time": "2022-03-20T18:59:54.230Z"
   },
   {
    "duration": 6,
    "start_time": "2022-03-20T18:59:54.452Z"
   },
   {
    "duration": 9,
    "start_time": "2022-03-20T18:59:54.459Z"
   },
   {
    "duration": 39,
    "start_time": "2022-03-20T18:59:54.471Z"
   },
   {
    "duration": 34,
    "start_time": "2022-03-20T18:59:54.511Z"
   },
   {
    "duration": 19,
    "start_time": "2022-03-20T18:59:54.546Z"
   },
   {
    "duration": 44,
    "start_time": "2022-03-20T18:59:54.566Z"
   },
   {
    "duration": 8,
    "start_time": "2022-03-20T18:59:54.612Z"
   },
   {
    "duration": 9,
    "start_time": "2022-03-20T18:59:54.622Z"
   },
   {
    "duration": 7,
    "start_time": "2022-03-20T18:59:54.632Z"
   },
   {
    "duration": 7,
    "start_time": "2022-03-20T18:59:54.641Z"
   },
   {
    "duration": 13,
    "start_time": "2022-03-20T18:59:54.650Z"
   },
   {
    "duration": 45,
    "start_time": "2022-03-20T18:59:54.665Z"
   },
   {
    "duration": 15,
    "start_time": "2022-03-20T18:59:54.711Z"
   },
   {
    "duration": 24,
    "start_time": "2022-03-20T18:59:54.727Z"
   },
   {
    "duration": 19,
    "start_time": "2022-03-20T18:59:54.752Z"
   },
   {
    "duration": 39,
    "start_time": "2022-03-20T18:59:54.773Z"
   },
   {
    "duration": 19,
    "start_time": "2022-03-20T18:59:54.814Z"
   },
   {
    "duration": 17,
    "start_time": "2022-03-20T18:59:54.835Z"
   },
   {
    "duration": 17,
    "start_time": "2022-03-20T18:59:54.854Z"
   },
   {
    "duration": 166,
    "start_time": "2022-03-20T19:03:12.231Z"
   },
   {
    "duration": 291,
    "start_time": "2022-03-20T19:03:32.643Z"
   },
   {
    "duration": 225,
    "start_time": "2022-03-20T19:05:12.229Z"
   },
   {
    "duration": 77,
    "start_time": "2022-03-20T19:08:02.874Z"
   },
   {
    "duration": 15,
    "start_time": "2022-03-20T19:08:02.953Z"
   },
   {
    "duration": 12,
    "start_time": "2022-03-20T19:08:02.969Z"
   },
   {
    "duration": 43,
    "start_time": "2022-03-20T19:08:02.983Z"
   },
   {
    "duration": 185,
    "start_time": "2022-03-20T19:08:03.027Z"
   },
   {
    "duration": 287,
    "start_time": "2022-03-20T19:08:03.214Z"
   },
   {
    "duration": 238,
    "start_time": "2022-03-20T19:08:03.503Z"
   },
   {
    "duration": 7,
    "start_time": "2022-03-20T19:08:03.743Z"
   },
   {
    "duration": 9,
    "start_time": "2022-03-20T19:08:03.752Z"
   },
   {
    "duration": 44,
    "start_time": "2022-03-20T19:08:03.765Z"
   },
   {
    "duration": 35,
    "start_time": "2022-03-20T19:08:03.811Z"
   },
   {
    "duration": 23,
    "start_time": "2022-03-20T19:08:03.848Z"
   },
   {
    "duration": 17,
    "start_time": "2022-03-20T19:08:03.908Z"
   },
   {
    "duration": 8,
    "start_time": "2022-03-20T19:08:03.927Z"
   },
   {
    "duration": 6,
    "start_time": "2022-03-20T19:08:03.937Z"
   },
   {
    "duration": 8,
    "start_time": "2022-03-20T19:08:03.945Z"
   },
   {
    "duration": 7,
    "start_time": "2022-03-20T19:08:03.955Z"
   },
   {
    "duration": 50,
    "start_time": "2022-03-20T19:08:03.964Z"
   },
   {
    "duration": 13,
    "start_time": "2022-03-20T19:08:04.016Z"
   },
   {
    "duration": 14,
    "start_time": "2022-03-20T19:08:04.031Z"
   },
   {
    "duration": 20,
    "start_time": "2022-03-20T19:08:04.046Z"
   },
   {
    "duration": 51,
    "start_time": "2022-03-20T19:08:04.068Z"
   },
   {
    "duration": 24,
    "start_time": "2022-03-20T19:08:04.121Z"
   },
   {
    "duration": 17,
    "start_time": "2022-03-20T19:08:04.146Z"
   },
   {
    "duration": 17,
    "start_time": "2022-03-20T19:08:04.165Z"
   },
   {
    "duration": 40,
    "start_time": "2022-03-20T19:08:04.184Z"
   },
   {
    "duration": 79,
    "start_time": "2022-03-20T19:09:16.821Z"
   },
   {
    "duration": 16,
    "start_time": "2022-03-20T19:09:16.902Z"
   },
   {
    "duration": 11,
    "start_time": "2022-03-20T19:09:16.919Z"
   },
   {
    "duration": 21,
    "start_time": "2022-03-20T19:09:16.932Z"
   },
   {
    "duration": 196,
    "start_time": "2022-03-20T19:09:16.954Z"
   },
   {
    "duration": 426,
    "start_time": "2022-03-20T19:09:17.151Z"
   },
   {
    "duration": 234,
    "start_time": "2022-03-20T19:09:17.578Z"
   },
   {
    "duration": 6,
    "start_time": "2022-03-20T19:09:17.813Z"
   },
   {
    "duration": 8,
    "start_time": "2022-03-20T19:09:17.821Z"
   },
   {
    "duration": 19,
    "start_time": "2022-03-20T19:09:17.832Z"
   },
   {
    "duration": 66,
    "start_time": "2022-03-20T19:09:17.852Z"
   },
   {
    "duration": 18,
    "start_time": "2022-03-20T19:09:17.920Z"
   },
   {
    "duration": 15,
    "start_time": "2022-03-20T19:09:17.940Z"
   },
   {
    "duration": 7,
    "start_time": "2022-03-20T19:09:17.957Z"
   },
   {
    "duration": 44,
    "start_time": "2022-03-20T19:09:17.966Z"
   },
   {
    "duration": 8,
    "start_time": "2022-03-20T19:09:18.012Z"
   },
   {
    "duration": 7,
    "start_time": "2022-03-20T19:09:18.021Z"
   },
   {
    "duration": 13,
    "start_time": "2022-03-20T19:09:18.030Z"
   },
   {
    "duration": 12,
    "start_time": "2022-03-20T19:09:18.044Z"
   },
   {
    "duration": 13,
    "start_time": "2022-03-20T19:09:18.058Z"
   },
   {
    "duration": 21,
    "start_time": "2022-03-20T19:09:18.109Z"
   },
   {
    "duration": 20,
    "start_time": "2022-03-20T19:09:18.132Z"
   },
   {
    "duration": 25,
    "start_time": "2022-03-20T19:09:18.153Z"
   },
   {
    "duration": 38,
    "start_time": "2022-03-20T19:09:18.180Z"
   },
   {
    "duration": 19,
    "start_time": "2022-03-20T19:09:18.220Z"
   },
   {
    "duration": 18,
    "start_time": "2022-03-20T19:09:18.241Z"
   },
   {
    "duration": 81,
    "start_time": "2022-03-20T19:15:55.667Z"
   },
   {
    "duration": 18,
    "start_time": "2022-03-20T19:15:55.750Z"
   },
   {
    "duration": 11,
    "start_time": "2022-03-20T19:15:55.769Z"
   },
   {
    "duration": 39,
    "start_time": "2022-03-20T19:15:55.782Z"
   },
   {
    "duration": 192,
    "start_time": "2022-03-20T19:15:55.823Z"
   },
   {
    "duration": 310,
    "start_time": "2022-03-20T19:15:56.017Z"
   },
   {
    "duration": 247,
    "start_time": "2022-03-20T19:15:56.329Z"
   },
   {
    "duration": 7,
    "start_time": "2022-03-20T19:15:56.578Z"
   },
   {
    "duration": 24,
    "start_time": "2022-03-20T19:15:56.587Z"
   },
   {
    "duration": 21,
    "start_time": "2022-03-20T19:15:56.614Z"
   },
   {
    "duration": 36,
    "start_time": "2022-03-20T19:15:56.636Z"
   },
   {
    "duration": 47,
    "start_time": "2022-03-20T19:15:56.674Z"
   },
   {
    "duration": 16,
    "start_time": "2022-03-20T19:15:56.723Z"
   },
   {
    "duration": 8,
    "start_time": "2022-03-20T19:15:56.740Z"
   },
   {
    "duration": 7,
    "start_time": "2022-03-20T19:15:56.749Z"
   },
   {
    "duration": 7,
    "start_time": "2022-03-20T19:15:56.758Z"
   },
   {
    "duration": 47,
    "start_time": "2022-03-20T19:15:56.768Z"
   },
   {
    "duration": 13,
    "start_time": "2022-03-20T19:15:56.817Z"
   },
   {
    "duration": 14,
    "start_time": "2022-03-20T19:15:56.832Z"
   },
   {
    "duration": 14,
    "start_time": "2022-03-20T19:15:56.848Z"
   },
   {
    "duration": 60,
    "start_time": "2022-03-20T19:15:56.864Z"
   },
   {
    "duration": 28,
    "start_time": "2022-03-20T19:15:56.926Z"
   },
   {
    "duration": 21,
    "start_time": "2022-03-20T19:15:56.956Z"
   },
   {
    "duration": 43,
    "start_time": "2022-03-20T19:15:56.979Z"
   },
   {
    "duration": 19,
    "start_time": "2022-03-20T19:15:57.024Z"
   },
   {
    "duration": 19,
    "start_time": "2022-03-20T19:15:57.045Z"
   },
   {
    "duration": 1699,
    "start_time": "2022-05-04T09:41:51.772Z"
   },
   {
    "duration": 112,
    "start_time": "2022-05-04T09:42:26.213Z"
   },
   {
    "duration": 4,
    "start_time": "2022-05-04T09:42:34.345Z"
   },
   {
    "duration": 88,
    "start_time": "2022-05-04T09:42:34.354Z"
   },
   {
    "duration": 4965,
    "start_time": "2022-05-04T09:42:34.444Z"
   },
   {
    "duration": 7,
    "start_time": "2022-05-04T09:42:39.411Z"
   },
   {
    "duration": 8,
    "start_time": "2022-05-04T09:42:39.420Z"
   },
   {
    "duration": 6,
    "start_time": "2022-05-04T09:42:39.430Z"
   },
   {
    "duration": 8,
    "start_time": "2022-05-04T09:42:39.437Z"
   },
   {
    "duration": 7,
    "start_time": "2022-05-04T09:42:39.446Z"
   },
   {
    "duration": 81,
    "start_time": "2022-05-04T09:42:39.454Z"
   },
   {
    "duration": 23304,
    "start_time": "2022-05-04T09:42:39.537Z"
   },
   {
    "duration": 893,
    "start_time": "2022-05-04T09:43:02.844Z"
   },
   {
    "duration": 136,
    "start_time": "2022-05-04T09:43:03.739Z"
   },
   {
    "duration": 5,
    "start_time": "2022-05-04T09:43:03.876Z"
   },
   {
    "duration": 16,
    "start_time": "2022-05-04T09:43:03.883Z"
   },
   {
    "duration": 4638,
    "start_time": "2022-05-04T09:55:44.085Z"
   },
   {
    "duration": 4923,
    "start_time": "2022-05-04T09:59:58.109Z"
   },
   {
    "duration": 127,
    "start_time": "2022-05-04T10:54:46.168Z"
   },
   {
    "duration": 12,
    "start_time": "2022-05-04T10:56:32.643Z"
   },
   {
    "duration": 7,
    "start_time": "2022-05-04T10:57:12.871Z"
   },
   {
    "duration": 7,
    "start_time": "2022-05-04T10:58:19.586Z"
   },
   {
    "duration": 150,
    "start_time": "2022-05-04T10:59:51.089Z"
   },
   {
    "duration": 141,
    "start_time": "2022-05-04T11:58:34.364Z"
   },
   {
    "duration": 7,
    "start_time": "2022-05-04T11:59:30.389Z"
   },
   {
    "duration": 12,
    "start_time": "2022-05-04T12:00:08.712Z"
   },
   {
    "duration": 12,
    "start_time": "2022-05-04T12:01:48.912Z"
   },
   {
    "duration": 7,
    "start_time": "2022-05-04T12:01:50.830Z"
   },
   {
    "duration": 153,
    "start_time": "2022-05-04T12:02:04.164Z"
   },
   {
    "duration": 151,
    "start_time": "2022-05-04T12:05:51.929Z"
   },
   {
    "duration": 69,
    "start_time": "2022-05-04T12:23:46.578Z"
   },
   {
    "duration": 11,
    "start_time": "2022-05-04T12:29:01.957Z"
   },
   {
    "duration": 5,
    "start_time": "2022-05-04T12:29:20.482Z"
   },
   {
    "duration": 312,
    "start_time": "2022-05-04T12:29:36.332Z"
   },
   {
    "duration": 5,
    "start_time": "2022-05-04T12:30:14.969Z"
   },
   {
    "duration": 108,
    "start_time": "2022-05-04T12:30:14.980Z"
   },
   {
    "duration": 4990,
    "start_time": "2022-05-04T12:30:15.090Z"
   },
   {
    "duration": 7,
    "start_time": "2022-05-04T12:30:20.081Z"
   },
   {
    "duration": 6,
    "start_time": "2022-05-04T12:30:20.091Z"
   },
   {
    "duration": 9,
    "start_time": "2022-05-04T12:30:20.099Z"
   },
   {
    "duration": 6,
    "start_time": "2022-05-04T12:30:20.109Z"
   },
   {
    "duration": 7,
    "start_time": "2022-05-04T12:30:20.117Z"
   },
   {
    "duration": 96,
    "start_time": "2022-05-04T12:30:20.126Z"
   },
   {
    "duration": 326,
    "start_time": "2022-05-04T12:30:20.224Z"
   },
   {
    "duration": 22852,
    "start_time": "2022-05-04T12:30:20.553Z"
   },
   {
    "duration": 845,
    "start_time": "2022-05-04T12:30:43.407Z"
   },
   {
    "duration": 6,
    "start_time": "2022-05-04T12:30:44.254Z"
   },
   {
    "duration": 11,
    "start_time": "2022-05-04T12:30:44.274Z"
   },
   {
    "duration": 156,
    "start_time": "2022-05-04T12:30:44.286Z"
   },
   {
    "duration": 4,
    "start_time": "2022-05-04T12:30:44.443Z"
   },
   {
    "duration": 9,
    "start_time": "2022-05-04T12:30:44.449Z"
   },
   {
    "duration": 330,
    "start_time": "2022-05-04T12:35:27.457Z"
   },
   {
    "duration": 62,
    "start_time": "2022-06-03T08:15:43.843Z"
   },
   {
    "duration": 51,
    "start_time": "2022-06-15T19:15:38.994Z"
   },
   {
    "duration": 1526,
    "start_time": "2022-06-15T19:15:48.195Z"
   },
   {
    "duration": 844,
    "start_time": "2022-06-15T19:15:49.724Z"
   },
   {
    "duration": 20,
    "start_time": "2022-06-15T19:15:50.570Z"
   },
   {
    "duration": 422,
    "start_time": "2022-06-15T19:15:50.593Z"
   },
   {
    "duration": 14,
    "start_time": "2022-06-15T19:15:51.017Z"
   },
   {
    "duration": 1879,
    "start_time": "2022-06-15T19:15:51.033Z"
   },
   {
    "duration": 25,
    "start_time": "2022-06-15T19:15:52.914Z"
   },
   {
    "duration": 3,
    "start_time": "2022-06-15T19:15:52.942Z"
   },
   {
    "duration": 15,
    "start_time": "2022-06-15T19:15:52.947Z"
   },
   {
    "duration": 6,
    "start_time": "2022-06-15T19:15:52.966Z"
   },
   {
    "duration": 8,
    "start_time": "2022-06-15T19:15:52.974Z"
   },
   {
    "duration": 14,
    "start_time": "2022-06-15T19:15:52.983Z"
   },
   {
    "duration": 54,
    "start_time": "2022-06-15T19:15:52.999Z"
   },
   {
    "duration": 199,
    "start_time": "2022-06-15T19:15:53.055Z"
   },
   {
    "duration": 32,
    "start_time": "2022-06-15T19:15:53.256Z"
   },
   {
    "duration": 13,
    "start_time": "2022-06-15T19:15:53.290Z"
   },
   {
    "duration": 29,
    "start_time": "2022-06-15T19:15:53.304Z"
   },
   {
    "duration": 6,
    "start_time": "2022-06-15T19:15:53.335Z"
   },
   {
    "duration": 13,
    "start_time": "2022-06-15T19:15:53.343Z"
   },
   {
    "duration": 10,
    "start_time": "2022-06-15T19:15:53.357Z"
   },
   {
    "duration": 1752,
    "start_time": "2022-06-15T19:15:53.369Z"
   },
   {
    "duration": 8,
    "start_time": "2022-06-15T19:15:55.123Z"
   },
   {
    "duration": 1749,
    "start_time": "2022-06-15T19:15:55.133Z"
   },
   {
    "duration": 8,
    "start_time": "2022-06-15T19:15:56.884Z"
   },
   {
    "duration": 1626,
    "start_time": "2022-06-15T19:15:56.894Z"
   },
   {
    "duration": 226,
    "start_time": "2022-06-15T19:15:58.522Z"
   },
   {
    "duration": 451,
    "start_time": "2022-06-15T19:18:03.207Z"
   },
   {
    "duration": 414,
    "start_time": "2022-06-15T19:18:11.890Z"
   },
   {
    "duration": 539,
    "start_time": "2022-06-15T19:19:56.908Z"
   },
   {
    "duration": 4,
    "start_time": "2022-06-15T19:49:38.967Z"
   },
   {
    "duration": 11,
    "start_time": "2022-06-15T19:52:27.329Z"
   },
   {
    "duration": 5,
    "start_time": "2022-06-15T19:52:41.734Z"
   },
   {
    "duration": 324,
    "start_time": "2022-06-15T19:52:41.741Z"
   },
   {
    "duration": 16,
    "start_time": "2022-06-15T19:52:42.067Z"
   },
   {
    "duration": 110,
    "start_time": "2022-06-15T19:52:42.085Z"
   },
   {
    "duration": 14,
    "start_time": "2022-06-15T19:52:42.197Z"
   },
   {
    "duration": 412,
    "start_time": "2022-06-15T19:52:42.227Z"
   },
   {
    "duration": 26,
    "start_time": "2022-06-15T19:52:42.641Z"
   },
   {
    "duration": 4,
    "start_time": "2022-06-15T19:52:42.669Z"
   },
   {
    "duration": 24,
    "start_time": "2022-06-15T19:52:42.674Z"
   },
   {
    "duration": 7,
    "start_time": "2022-06-15T19:52:42.700Z"
   },
   {
    "duration": 18,
    "start_time": "2022-06-15T19:52:42.710Z"
   },
   {
    "duration": 21,
    "start_time": "2022-06-15T19:52:42.729Z"
   },
   {
    "duration": 48,
    "start_time": "2022-06-15T19:52:42.752Z"
   },
   {
    "duration": 204,
    "start_time": "2022-06-15T19:52:42.802Z"
   },
   {
    "duration": 35,
    "start_time": "2022-06-15T19:52:43.008Z"
   },
   {
    "duration": 9,
    "start_time": "2022-06-15T19:52:43.045Z"
   },
   {
    "duration": 22,
    "start_time": "2022-06-15T19:52:43.056Z"
   },
   {
    "duration": 7,
    "start_time": "2022-06-15T19:52:43.079Z"
   },
   {
    "duration": 10,
    "start_time": "2022-06-15T19:52:43.088Z"
   },
   {
    "duration": 29,
    "start_time": "2022-06-15T19:52:43.100Z"
   },
   {
    "duration": 1896,
    "start_time": "2022-06-15T19:52:43.130Z"
   },
   {
    "duration": 11,
    "start_time": "2022-06-15T19:52:45.028Z"
   },
   {
    "duration": 1671,
    "start_time": "2022-06-15T19:52:45.040Z"
   },
   {
    "duration": 14,
    "start_time": "2022-06-15T19:52:46.713Z"
   },
   {
    "duration": 1602,
    "start_time": "2022-06-15T19:52:46.729Z"
   },
   {
    "duration": 564,
    "start_time": "2022-06-15T19:52:48.334Z"
   },
   {
    "duration": 7,
    "start_time": "2022-06-15T19:52:48.900Z"
   },
   {
    "duration": 40,
    "start_time": "2022-06-15T19:52:48.909Z"
   },
   {
    "duration": 6,
    "start_time": "2022-06-15T19:52:48.954Z"
   },
   {
    "duration": 2160,
    "start_time": "2022-06-15T19:52:48.963Z"
   },
   {
    "duration": 5,
    "start_time": "2022-06-15T19:52:51.127Z"
   },
   {
    "duration": 48,
    "start_time": "2022-06-15T19:52:51.133Z"
   },
   {
    "duration": 10,
    "start_time": "2022-06-15T19:52:51.183Z"
   },
   {
    "duration": 14,
    "start_time": "2022-06-15T19:52:51.195Z"
   },
   {
    "duration": 19,
    "start_time": "2022-06-15T19:52:51.211Z"
   },
   {
    "duration": 20,
    "start_time": "2022-06-15T19:52:51.232Z"
   },
   {
    "duration": 30,
    "start_time": "2022-06-15T19:52:51.253Z"
   },
   {
    "duration": 18,
    "start_time": "2022-06-15T19:52:51.286Z"
   },
   {
    "duration": 22,
    "start_time": "2022-06-15T19:52:51.306Z"
   },
   {
    "duration": 13,
    "start_time": "2022-06-15T19:52:51.330Z"
   },
   {
    "duration": 11,
    "start_time": "2022-06-15T19:52:51.346Z"
   },
   {
    "duration": 51,
    "start_time": "2022-06-15T19:52:51.359Z"
   },
   {
    "duration": 26345,
    "start_time": "2022-06-15T19:52:51.412Z"
   },
   {
    "duration": 4,
    "start_time": "2022-06-15T19:53:17.759Z"
   },
   {
    "duration": 1075350,
    "start_time": "2022-06-15T19:53:39.793Z"
   },
   {
    "duration": 5,
    "start_time": "2022-06-15T20:11:35.145Z"
   },
   {
    "duration": 7,
    "start_time": "2022-06-15T20:12:00.930Z"
   },
   {
    "duration": 5,
    "start_time": "2022-06-15T20:12:53.663Z"
   },
   {
    "duration": 4,
    "start_time": "2022-06-15T20:13:07.664Z"
   },
   {
    "duration": 4,
    "start_time": "2022-06-15T20:14:00.549Z"
   },
   {
    "duration": 4,
    "start_time": "2022-06-15T20:16:04.916Z"
   },
   {
    "duration": 8,
    "start_time": "2022-06-15T20:16:52.291Z"
   },
   {
    "duration": 4,
    "start_time": "2022-06-15T20:19:30.608Z"
   },
   {
    "duration": 5,
    "start_time": "2022-06-15T20:19:32.142Z"
   },
   {
    "duration": 8,
    "start_time": "2022-06-15T20:19:42.007Z"
   },
   {
    "duration": 58,
    "start_time": "2022-06-15T20:22:39.316Z"
   },
   {
    "duration": 1943163,
    "start_time": "2022-06-15T20:26:34.299Z"
   },
   {
    "duration": 3,
    "start_time": "2022-06-15T20:58:57.465Z"
   },
   {
    "duration": 8,
    "start_time": "2022-06-15T21:19:17.777Z"
   },
   {
    "duration": 29,
    "start_time": "2022-06-15T21:19:27.503Z"
   },
   {
    "duration": 8,
    "start_time": "2022-06-15T21:19:31.761Z"
   },
   {
    "duration": 1624,
    "start_time": "2022-06-29T12:44:41.758Z"
   },
   {
    "duration": 7,
    "start_time": "2022-06-29T12:53:42.534Z"
   },
   {
    "duration": 1319,
    "start_time": "2022-06-29T15:32:39.316Z"
   },
   {
    "duration": 91,
    "start_time": "2022-06-29T15:32:40.637Z"
   },
   {
    "duration": 12,
    "start_time": "2022-06-29T15:32:40.730Z"
   },
   {
    "duration": 27,
    "start_time": "2022-06-29T15:32:40.744Z"
   },
   {
    "duration": 21,
    "start_time": "2022-06-29T15:32:40.773Z"
   },
   {
    "duration": 6,
    "start_time": "2022-06-29T15:32:40.796Z"
   },
   {
    "duration": 10,
    "start_time": "2022-06-29T15:32:40.804Z"
   },
   {
    "duration": 5,
    "start_time": "2022-06-29T15:32:40.816Z"
   },
   {
    "duration": 373,
    "start_time": "2022-06-29T15:32:40.824Z"
   },
   {
    "duration": 5,
    "start_time": "2022-06-29T15:32:41.200Z"
   },
   {
    "duration": 17,
    "start_time": "2022-06-29T15:32:41.207Z"
   },
   {
    "duration": 4,
    "start_time": "2022-06-29T15:32:41.225Z"
   },
   {
    "duration": 31,
    "start_time": "2022-06-29T15:32:41.231Z"
   },
   {
    "duration": 9,
    "start_time": "2022-06-29T15:32:41.263Z"
   },
   {
    "duration": 8,
    "start_time": "2022-06-29T15:32:41.274Z"
   },
   {
    "duration": 4,
    "start_time": "2022-06-29T15:32:41.284Z"
   },
   {
    "duration": 8,
    "start_time": "2022-06-29T15:32:41.290Z"
   },
   {
    "duration": 8,
    "start_time": "2022-06-29T15:32:41.299Z"
   },
   {
    "duration": 59,
    "start_time": "2022-06-29T15:32:41.309Z"
   },
   {
    "duration": 95,
    "start_time": "2022-06-29T15:32:41.370Z"
   },
   {
    "duration": 99,
    "start_time": "2022-06-29T15:32:41.466Z"
   }
  ],
  "kernelspec": {
   "display_name": "Python 3 (ipykernel)",
   "language": "python",
   "name": "python3"
  },
  "language_info": {
   "codemirror_mode": {
    "name": "ipython",
    "version": 3
   },
   "file_extension": ".py",
   "mimetype": "text/x-python",
   "name": "python",
   "nbconvert_exporter": "python",
   "pygments_lexer": "ipython3",
   "version": "3.7.8"
  },
  "toc": {
   "base_numbering": 1,
   "nav_menu": {
    "height": "222px",
    "width": "448px"
   },
   "number_sections": true,
   "sideBar": true,
   "skip_h1_title": true,
   "title_cell": "Table of Contents",
   "title_sidebar": "Contents",
   "toc_cell": false,
   "toc_position": {
    "height": "508px",
    "left": "459px",
    "top": "173.125px",
    "width": "289.594px"
   },
   "toc_section_display": true,
   "toc_window_display": true
  }
 },
 "nbformat": 4,
 "nbformat_minor": 5
}
