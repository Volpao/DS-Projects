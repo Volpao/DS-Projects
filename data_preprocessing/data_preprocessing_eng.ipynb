{
 "cells": [
  {
   "cell_type": "markdown",
   "id": "ecad36fb",
   "metadata": {},
   "source": [
    "# Borrower Reliability Study"
   ]
  },
  {
   "cell_type": "markdown",
   "id": "8408564a",
   "metadata": {},
   "source": [
    "In the modern world, big data is becoming more and more widespread. On the other hand, rhythms are accelerating, and the ability to quickly and correctly process such data becomes a competitive advantage. Another important factor is the automation of such a process, based on a specific model.\n",
    "One of the clearest examples is the banking sector. In particular, one of the bank's needs is to quickly and efficiently predict risks when issuing loans, including to individuals.\n",
    "\n",
    "From this point of view, credit scoring is useful - a system that evaluates the ability of a potential borrower to return a loan to a bank. What parameters can influence such ability?\n",
    "\n",
    "**The purpose of this study** is to test the following hypotheses:\n",
    "1. The marital status of a potential borrower affects the repayment of the loan on time.\n",
    "2. The number of children in the family of a potential borrower affects the repayment of the loan on time.\n",
    "3. The level of income of a potential borrower affects the repayment of the loan on time.\n",
    "4. The purpose of obtaining a loan by a potential borrower affects the repayment of the loan on time.\n",
    "\n",
    "**Research progress**:\n",
    "\n",
    "We will try to test the above hypotheses against the bank's borrower statistics, which we will get from the data.csv file. Since we have no information about the format (except for the column names) and the quality of the data, before testing the hypotheses, we will review the data and pre-process it: this is necessary to eliminate errors that may affect the conclusions.\n",
    "\n",
    "\n",
    "Thus, this study will include the following steps:\n",
    "\n",
    "* review data\n",
    "* data preprocessing\n",
    "* testing hypotheses\n"
   ]
  },
  {
   "cell_type": "markdown",
   "id": "7df204d0",
   "metadata": {},
   "source": [
    "## Data Overview\n",
    "\n",
    "Let's make the first representation of the data. To view and analyze it, we import the pandas standard library, with which we will read the file in csv format, save it in the form of a table in a variable, as well as look at the first 10 lines:"
   ]
  },
  {
   "cell_type": "code",
   "execution_count": 60,
   "id": "7d068f91",
   "metadata": {},
   "outputs": [
    {
     "data": {
      "text/html": [
       "<div>\n",
       "<style scoped>\n",
       "    .dataframe tbody tr th:only-of-type {\n",
       "        vertical-align: middle;\n",
       "    }\n",
       "\n",
       "    .dataframe tbody tr th {\n",
       "        vertical-align: top;\n",
       "    }\n",
       "\n",
       "    .dataframe thead th {\n",
       "        text-align: right;\n",
       "    }\n",
       "</style>\n",
       "<table border=\"1\" class=\"dataframe\">\n",
       "  <thead>\n",
       "    <tr style=\"text-align: right;\">\n",
       "      <th></th>\n",
       "      <th>children</th>\n",
       "      <th>days_employed</th>\n",
       "      <th>dob_years</th>\n",
       "      <th>education</th>\n",
       "      <th>education_id</th>\n",
       "      <th>family_status</th>\n",
       "      <th>family_status_id</th>\n",
       "      <th>gender</th>\n",
       "      <th>income_type</th>\n",
       "      <th>debt</th>\n",
       "      <th>total_income</th>\n",
       "      <th>purpose</th>\n",
       "    </tr>\n",
       "  </thead>\n",
       "  <tbody>\n",
       "    <tr>\n",
       "      <th>0</th>\n",
       "      <td>1</td>\n",
       "      <td>-8437.673028</td>\n",
       "      <td>42</td>\n",
       "      <td>высшее</td>\n",
       "      <td>0</td>\n",
       "      <td>женат / замужем</td>\n",
       "      <td>0</td>\n",
       "      <td>F</td>\n",
       "      <td>сотрудник</td>\n",
       "      <td>0</td>\n",
       "      <td>253875.639453</td>\n",
       "      <td>покупка жилья</td>\n",
       "    </tr>\n",
       "    <tr>\n",
       "      <th>1</th>\n",
       "      <td>1</td>\n",
       "      <td>-4024.803754</td>\n",
       "      <td>36</td>\n",
       "      <td>среднее</td>\n",
       "      <td>1</td>\n",
       "      <td>женат / замужем</td>\n",
       "      <td>0</td>\n",
       "      <td>F</td>\n",
       "      <td>сотрудник</td>\n",
       "      <td>0</td>\n",
       "      <td>112080.014102</td>\n",
       "      <td>приобретение автомобиля</td>\n",
       "    </tr>\n",
       "    <tr>\n",
       "      <th>2</th>\n",
       "      <td>0</td>\n",
       "      <td>-5623.422610</td>\n",
       "      <td>33</td>\n",
       "      <td>Среднее</td>\n",
       "      <td>1</td>\n",
       "      <td>женат / замужем</td>\n",
       "      <td>0</td>\n",
       "      <td>M</td>\n",
       "      <td>сотрудник</td>\n",
       "      <td>0</td>\n",
       "      <td>145885.952297</td>\n",
       "      <td>покупка жилья</td>\n",
       "    </tr>\n",
       "    <tr>\n",
       "      <th>3</th>\n",
       "      <td>3</td>\n",
       "      <td>-4124.747207</td>\n",
       "      <td>32</td>\n",
       "      <td>среднее</td>\n",
       "      <td>1</td>\n",
       "      <td>женат / замужем</td>\n",
       "      <td>0</td>\n",
       "      <td>M</td>\n",
       "      <td>сотрудник</td>\n",
       "      <td>0</td>\n",
       "      <td>267628.550329</td>\n",
       "      <td>дополнительное образование</td>\n",
       "    </tr>\n",
       "    <tr>\n",
       "      <th>4</th>\n",
       "      <td>0</td>\n",
       "      <td>340266.072047</td>\n",
       "      <td>53</td>\n",
       "      <td>среднее</td>\n",
       "      <td>1</td>\n",
       "      <td>гражданский брак</td>\n",
       "      <td>1</td>\n",
       "      <td>F</td>\n",
       "      <td>пенсионер</td>\n",
       "      <td>0</td>\n",
       "      <td>158616.077870</td>\n",
       "      <td>сыграть свадьбу</td>\n",
       "    </tr>\n",
       "    <tr>\n",
       "      <th>5</th>\n",
       "      <td>0</td>\n",
       "      <td>-926.185831</td>\n",
       "      <td>27</td>\n",
       "      <td>высшее</td>\n",
       "      <td>0</td>\n",
       "      <td>гражданский брак</td>\n",
       "      <td>1</td>\n",
       "      <td>M</td>\n",
       "      <td>компаньон</td>\n",
       "      <td>0</td>\n",
       "      <td>255763.565419</td>\n",
       "      <td>покупка жилья</td>\n",
       "    </tr>\n",
       "    <tr>\n",
       "      <th>6</th>\n",
       "      <td>0</td>\n",
       "      <td>-2879.202052</td>\n",
       "      <td>43</td>\n",
       "      <td>высшее</td>\n",
       "      <td>0</td>\n",
       "      <td>женат / замужем</td>\n",
       "      <td>0</td>\n",
       "      <td>F</td>\n",
       "      <td>компаньон</td>\n",
       "      <td>0</td>\n",
       "      <td>240525.971920</td>\n",
       "      <td>операции с жильем</td>\n",
       "    </tr>\n",
       "    <tr>\n",
       "      <th>7</th>\n",
       "      <td>0</td>\n",
       "      <td>-152.779569</td>\n",
       "      <td>50</td>\n",
       "      <td>СРЕДНЕЕ</td>\n",
       "      <td>1</td>\n",
       "      <td>женат / замужем</td>\n",
       "      <td>0</td>\n",
       "      <td>M</td>\n",
       "      <td>сотрудник</td>\n",
       "      <td>0</td>\n",
       "      <td>135823.934197</td>\n",
       "      <td>образование</td>\n",
       "    </tr>\n",
       "    <tr>\n",
       "      <th>8</th>\n",
       "      <td>2</td>\n",
       "      <td>-6929.865299</td>\n",
       "      <td>35</td>\n",
       "      <td>ВЫСШЕЕ</td>\n",
       "      <td>0</td>\n",
       "      <td>гражданский брак</td>\n",
       "      <td>1</td>\n",
       "      <td>F</td>\n",
       "      <td>сотрудник</td>\n",
       "      <td>0</td>\n",
       "      <td>95856.832424</td>\n",
       "      <td>на проведение свадьбы</td>\n",
       "    </tr>\n",
       "    <tr>\n",
       "      <th>9</th>\n",
       "      <td>0</td>\n",
       "      <td>-2188.756445</td>\n",
       "      <td>41</td>\n",
       "      <td>среднее</td>\n",
       "      <td>1</td>\n",
       "      <td>женат / замужем</td>\n",
       "      <td>0</td>\n",
       "      <td>M</td>\n",
       "      <td>сотрудник</td>\n",
       "      <td>0</td>\n",
       "      <td>144425.938277</td>\n",
       "      <td>покупка жилья для семьи</td>\n",
       "    </tr>\n",
       "  </tbody>\n",
       "</table>\n",
       "</div>"
      ],
      "text/plain": [
       "   children  days_employed  dob_years education  education_id  \\\n",
       "0         1   -8437.673028         42    высшее             0   \n",
       "1         1   -4024.803754         36   среднее             1   \n",
       "2         0   -5623.422610         33   Среднее             1   \n",
       "3         3   -4124.747207         32   среднее             1   \n",
       "4         0  340266.072047         53   среднее             1   \n",
       "5         0    -926.185831         27    высшее             0   \n",
       "6         0   -2879.202052         43    высшее             0   \n",
       "7         0    -152.779569         50   СРЕДНЕЕ             1   \n",
       "8         2   -6929.865299         35    ВЫСШЕЕ             0   \n",
       "9         0   -2188.756445         41   среднее             1   \n",
       "\n",
       "      family_status  family_status_id gender income_type  debt   total_income  \\\n",
       "0   женат / замужем                 0      F   сотрудник     0  253875.639453   \n",
       "1   женат / замужем                 0      F   сотрудник     0  112080.014102   \n",
       "2   женат / замужем                 0      M   сотрудник     0  145885.952297   \n",
       "3   женат / замужем                 0      M   сотрудник     0  267628.550329   \n",
       "4  гражданский брак                 1      F   пенсионер     0  158616.077870   \n",
       "5  гражданский брак                 1      M   компаньон     0  255763.565419   \n",
       "6   женат / замужем                 0      F   компаньон     0  240525.971920   \n",
       "7   женат / замужем                 0      M   сотрудник     0  135823.934197   \n",
       "8  гражданский брак                 1      F   сотрудник     0   95856.832424   \n",
       "9   женат / замужем                 0      M   сотрудник     0  144425.938277   \n",
       "\n",
       "                      purpose  \n",
       "0               покупка жилья  \n",
       "1     приобретение автомобиля  \n",
       "2               покупка жилья  \n",
       "3  дополнительное образование  \n",
       "4             сыграть свадьбу  \n",
       "5               покупка жилья  \n",
       "6           операции с жильем  \n",
       "7                 образование  \n",
       "8       на проведение свадьбы  \n",
       "9     покупка жилья для семьи  "
      ]
     },
     "execution_count": 60,
     "metadata": {},
     "output_type": "execute_result"
    }
   ],
   "source": [
    "import pandas as pd  # importing pandas library\n",
    "data = pd.read_csv('data.csv')  # reading the csv file and saving to data\n",
    "data.head(10)  # getting first 10 rows of the dataframe\n"
   ]
  },
  {
   "cell_type": "markdown",
   "id": "6dd3210f",
   "metadata": {},
   "source": [
    "Let's get the general information on the data of the dataframe:"
   ]
  },
  {
   "cell_type": "code",
   "execution_count": 61,
   "id": "bb75bbaf",
   "metadata": {},
   "outputs": [
    {
     "name": "stdout",
     "output_type": "stream",
     "text": [
      "<class 'pandas.core.frame.DataFrame'>\n",
      "RangeIndex: 21525 entries, 0 to 21524\n",
      "Data columns (total 12 columns):\n",
      " #   Column            Non-Null Count  Dtype  \n",
      "---  ------            --------------  -----  \n",
      " 0   children          21525 non-null  int64  \n",
      " 1   days_employed     19351 non-null  float64\n",
      " 2   dob_years         21525 non-null  int64  \n",
      " 3   education         21525 non-null  object \n",
      " 4   education_id      21525 non-null  int64  \n",
      " 5   family_status     21525 non-null  object \n",
      " 6   family_status_id  21525 non-null  int64  \n",
      " 7   gender            21525 non-null  object \n",
      " 8   income_type       21525 non-null  object \n",
      " 9   debt              21525 non-null  int64  \n",
      " 10  total_income      19351 non-null  float64\n",
      " 11  purpose           21525 non-null  object \n",
      "dtypes: float64(2), int64(5), object(5)\n",
      "memory usage: 2.0+ MB\n"
     ]
    }
   ],
   "source": [
    "data.info() # displaying information on the dataframe data type "
   ]
  },
  {
   "cell_type": "markdown",
   "id": "5ee32dfb",
   "metadata": {},
   "source": [
    "We noticed there are 12 columns in the dataframe. According to the data documentation, the following variables are stored in them:\n",
    "- children — number of children in the family\n",
    "- days_employed - total work experience in days\n",
    "- dob_years — client's age in years\n",
    "- education — the level of education of the client\n",
    "- education_id — education level identifier\n",
    "- family_status - marital status\n",
    "- family_status_id - marital status identifier\n",
    "- gender — gender of the client\n",
    "- income_type - type of employment\n",
    "- debt — whether he had any debt to repay loans\n",
    "- total_income - monthly income\n",
    "- purpose — the purpose of obtaining a loan\n",
    "\n",
    "As you can see from the overview, not all columns have the data type as expected."
   ]
  },
  {
   "cell_type": "markdown",
   "id": "40e1384c",
   "metadata": {},
   "source": [
    "Let's check if there are any missing data:"
   ]
  },
  {
   "cell_type": "code",
   "execution_count": 62,
   "id": "f41d4a06",
   "metadata": {},
   "outputs": [
    {
     "data": {
      "text/plain": [
       "children               0\n",
       "days_employed       2174\n",
       "dob_years              0\n",
       "education              0\n",
       "education_id           0\n",
       "family_status          0\n",
       "family_status_id       0\n",
       "gender                 0\n",
       "income_type            0\n",
       "debt                   0\n",
       "total_income        2174\n",
       "purpose                0\n",
       "dtype: int64"
      ]
     },
     "execution_count": 62,
     "metadata": {},
     "output_type": "execute_result"
    }
   ],
   "source": [
    "data.isna().sum()  # displaying total number of missing values for eacg column"
   ]
  },
  {
   "cell_type": "markdown",
   "id": "d2783c50",
   "metadata": {},
   "source": [
    "So, the data, as it usually happens, contains a number of missing values. Their importance may vary depending\n",
    "from the presence / absence of duplicates, check the table for their presence:\n"
   ]
  },
  {
   "cell_type": "code",
   "execution_count": 63,
   "id": "486299d5",
   "metadata": {},
   "outputs": [
    {
     "data": {
      "text/plain": [
       "54"
      ]
     },
     "execution_count": 63,
     "metadata": {},
     "output_type": "execute_result"
    }
   ],
   "source": [
    "data.duplicated().sum() # finding the total number of explicit duplicates"
   ]
  },
  {
   "cell_type": "markdown",
   "id": "976f6a8a",
   "metadata": {},
   "source": [
    "With respect to the number of rows (21525), there are few explicit duplicates in the dataframe (54).\n",
    "\n"
   ]
  },
  {
   "cell_type": "markdown",
   "id": "2790615d",
   "metadata": {},
   "source": [
    "Visualizing the variables may be helpful for a more efficient overview of the data.\n",
    "For example, let's see the ratio of data on the target variable for which a scoring model must be created, that is\n",
    "'debt' column:\n"
   ]
  },
  {
   "cell_type": "code",
   "execution_count": 64,
   "id": "cdd47f6d",
   "metadata": {},
   "outputs": [
    {
     "data": {
      "text/plain": [
       "<AxesSubplot:xlabel='debt', ylabel='Count'>"
      ]
     },
     "execution_count": 64,
     "metadata": {},
     "output_type": "execute_result"
    },
    {
     "data": {
      "image/png": "[encoded data removed]",
      "text/plain": [
       "<Figure size 432x288 with 1 Axes>"
      ]
     },
     "metadata": {
      "needs_background": "light"
     },
     "output_type": "display_data"
    }
   ],
   "source": [
    "import seaborn as sns # importing seaborn library\n",
    "sns.histplot(data['debt'])  # displaying the column values distribution with the use of histagram"
   ]
  },
  {
   "cell_type": "markdown",
   "id": "b8badd11",
   "metadata": {},
   "source": [
    "Fortunately for the bank, the number of customers who repaid the loan significantly exceeds those who have debts.\n",
    "\n",
    "Let's see also what is the gender ratio among debtors and clients who have repaid their debts:\n"
   ]
  },
  {
   "cell_type": "code",
   "execution_count": 65,
   "id": "e5523364",
   "metadata": {},
   "outputs": [
    {
     "data": {
      "text/plain": [
       "<AxesSubplot:xlabel='debt', ylabel='Count'>"
      ]
     },
     "execution_count": 65,
     "metadata": {},
     "output_type": "execute_result"
    },
    {
     "data": {
      "image/png": "[encoded data removed]",
      "text/plain": [
       "<Figure size 432x288 with 1 Axes>"
      ]
     },
     "metadata": {
      "needs_background": "light"
     },
     "output_type": "display_data"
    }
   ],
   "source": [
    "sns.histplot(x='debt', hue='gender', data=data, multiple=\"stack\")  # displaying the column values distribution with the use of histagram"
   ]
  },
  {
   "cell_type": "markdown",
   "id": "0023ddab",
   "metadata": {},
   "source": [
    "Among the clients who repaid the loan, there are more women. Also on the histogram legend we noticed an unexpected \"XNA\" value, the share of which, however, is not visible on the histogram: likely it is low.\n",
    "\n",
    "Next, let's check how the age of customers and their income level are related:\n"
   ]
  },
  {
   "cell_type": "code",
   "execution_count": 66,
   "id": "71151695",
   "metadata": {},
   "outputs": [
    {
     "data": {
      "text/plain": [
       "[Text(0, 0, '0'),\n",
       " Text(0, 150000, '150000'),\n",
       " Text(0, 300000, '300000'),\n",
       " Text(0, 450000, '450000'),\n",
       " Text(0, 600000, '600000'),\n",
       " Text(0, 750000, '750000'),\n",
       " Text(0, 900000, '900000'),\n",
       " Text(0, 1050000, '1050000'),\n",
       " Text(0, 1200000, '1200000'),\n",
       " Text(0, 1350000, '1350000'),\n",
       " Text(0, 1500000, '1500000'),\n",
       " Text(0, 1650000, '1650000'),\n",
       " Text(0, 1800000, '1800000'),\n",
       " Text(0, 1950000, '1950000'),\n",
       " Text(0, 2100000, '2100000'),\n",
       " Text(0, 2250000, '2250000'),\n",
       " Text(0, 2400000, '2400000')]"
      ]
     },
     "execution_count": 66,
     "metadata": {},
     "output_type": "execute_result"
    },
    {
     "data": {
      "image/png": "[encoded data removed]",
      "text/plain": [
       "<Figure size 432x288 with 1 Axes>"
      ]
     },
     "metadata": {
      "needs_background": "light"
     },
     "output_type": "display_data"
    }
   ],
   "source": [
    "g = sns.scatterplot(x=data['dob_years'], y=data['total_income'], data=data) # displaying the column values distribution with the use of scatter plot\n",
    "g.set_yticks(range(0, 2500000, 150000)) # setting ticks on  y axis\n",
    "g.set_yticklabels(range(0, 2500000, 150000)) # setting labels on y axis"
   ]
  },
  {
   "cell_type": "markdown",
   "id": "0b4598f2",
   "metadata": {},
   "source": [
    "Based on the scatter plot, it can be assumed that there are not so many millionaires among borrowers. We can also notice that the highest income is for the category of clients from 30 to 40 years old.\n",
    "\n",
    "In addition, this diagram allowed us to notice that there is an anomaly in the 'dob_years' column: several clients, for with an age of 0 years.\n"
   ]
  },
  {
   "cell_type": "markdown",
   "id": "5090d2c2",
   "metadata": {},
   "source": [
    "**In the next part of the study, we will eliminate all the anomalies identified during the data overview.**\n"
   ]
  },
  {
   "cell_type": "markdown",
   "id": "7449286c",
   "metadata": {},
   "source": [
    "## Data Preprocessing and Anomalies Elimination\n",
    "### Filling in Missing Values\n",
    "From the data overview of the data, it turned clear that there are missing values in the table, now it is necessary to estimate their ratio: a high ratio of missing values may distort the conclusions obtained after the analysis:\n"
   ]
  },
  {
   "cell_type": "code",
   "execution_count": 67,
   "id": "2748e2a5",
   "metadata": {},
   "outputs": [
    {
     "data": {
      "text/plain": [
       "10.099883855981417"
      ]
     },
     "execution_count": 67,
     "metadata": {},
     "output_type": "execute_result"
    }
   ],
   "source": [
    "len(data[data['days_employed'].isna()]) / len(data['days_employed']) * 100 # calculating share of missing values\n",
    "\n"
   ]
  },
  {
   "cell_type": "markdown",
   "id": "29a09431",
   "metadata": {},
   "source": [
    "So, we should have noticed that in the 'days_employed' and 'total_income' columns, the percentage of missing values is approximately 10% of the total number of observations in them. At the same time, omissions occur in the same rows, that means, this information is not available for the same clients. It is impossible to set exact\n",
    "reason for missing values: assumption that data is missing for not-working categories\n",
    "clients ('unemployed', 'retired') is incorrect. There may have been an error while extracting data.\n",
    "\n",
    "A tenth is quite a lot, we need to fill in the missing values. Since both columns\n",
    "'days_employed' and 'total_income' are quantitative variables, the best option is\n",
    "fill them with the median values for the relevant column. We are choosing the median over the mean\n",
    "arithmetic, since the number of observations is large enough, and there is a possibility that among the values\n",
    "outliers are present.\n"
   ]
  },
  {
   "cell_type": "code",
   "execution_count": 68,
   "id": "d8079cdd",
   "metadata": {},
   "outputs": [
    {
     "name": "stdout",
     "output_type": "stream",
     "text": [
      "0\n",
      "0\n"
     ]
    }
   ],
   "source": [
    "days_employed_median = data['days_employed'].median()  # calculating median of 'days_employed'\n",
    "total_income_median = data['total_income'].median()  # calculating median of 'total_income'\n",
    "data['days_employed'] = data['days_employed'].fillna(value=days_employed_median)  # filling in missing valuws with the median\n",
    "data['total_income'] = data['total_income'].fillna(value=total_income_median)  # filling in missing valuws with the median\n",
    "print(len(data[data['days_employed'].isna()]))  # checking the result after filling in\n",
    "print(len(data[data['total_income'].isna()]))  # checking the result after filling in"
   ]
  },
  {
   "cell_type": "markdown",
   "id": "8b0ec156",
   "metadata": {},
   "source": [
    "### Data Type Change\n",
    "Data overview allowed us to find iut that the data type in most cases corresponds to the contents of the columns, no need to convert, for example, strings to numeric values.\n",
    "However, one of the anomalies is immediately noticeable: there are negative values in the column with total work experience in days. In addition, all values are floatl: this is also not entirely logical, given that the unit of measurement is a day.\n",
    "To fix this problem, let's get rid of the negative values in the 'days_employed' column by applying to the whole\n",
    "column the built-in function abs(). Next, to get rid of float values in the same column, we will use the astype() method. The same method will be applied to the \"total_income\" column. Further let's check the results.\n"
   ]
  },
  {
   "cell_type": "code",
   "execution_count": 69,
   "id": "12ee1334",
   "metadata": {},
   "outputs": [
    {
     "data": {
      "text/html": [
       "<div>\n",
       "<style scoped>\n",
       "    .dataframe tbody tr th:only-of-type {\n",
       "        vertical-align: middle;\n",
       "    }\n",
       "\n",
       "    .dataframe tbody tr th {\n",
       "        vertical-align: top;\n",
       "    }\n",
       "\n",
       "    .dataframe thead th {\n",
       "        text-align: right;\n",
       "    }\n",
       "</style>\n",
       "<table border=\"1\" class=\"dataframe\">\n",
       "  <thead>\n",
       "    <tr style=\"text-align: right;\">\n",
       "      <th></th>\n",
       "      <th>children</th>\n",
       "      <th>days_employed</th>\n",
       "      <th>dob_years</th>\n",
       "      <th>education</th>\n",
       "      <th>education_id</th>\n",
       "      <th>family_status</th>\n",
       "      <th>family_status_id</th>\n",
       "      <th>gender</th>\n",
       "      <th>income_type</th>\n",
       "      <th>debt</th>\n",
       "      <th>total_income</th>\n",
       "      <th>purpose</th>\n",
       "    </tr>\n",
       "  </thead>\n",
       "  <tbody>\n",
       "    <tr>\n",
       "      <th>0</th>\n",
       "      <td>1</td>\n",
       "      <td>8437</td>\n",
       "      <td>42</td>\n",
       "      <td>высшее</td>\n",
       "      <td>0</td>\n",
       "      <td>женат / замужем</td>\n",
       "      <td>0</td>\n",
       "      <td>F</td>\n",
       "      <td>сотрудник</td>\n",
       "      <td>0</td>\n",
       "      <td>253875</td>\n",
       "      <td>покупка жилья</td>\n",
       "    </tr>\n",
       "    <tr>\n",
       "      <th>1</th>\n",
       "      <td>1</td>\n",
       "      <td>4024</td>\n",
       "      <td>36</td>\n",
       "      <td>среднее</td>\n",
       "      <td>1</td>\n",
       "      <td>женат / замужем</td>\n",
       "      <td>0</td>\n",
       "      <td>F</td>\n",
       "      <td>сотрудник</td>\n",
       "      <td>0</td>\n",
       "      <td>112080</td>\n",
       "      <td>приобретение автомобиля</td>\n",
       "    </tr>\n",
       "    <tr>\n",
       "      <th>2</th>\n",
       "      <td>0</td>\n",
       "      <td>5623</td>\n",
       "      <td>33</td>\n",
       "      <td>Среднее</td>\n",
       "      <td>1</td>\n",
       "      <td>женат / замужем</td>\n",
       "      <td>0</td>\n",
       "      <td>M</td>\n",
       "      <td>сотрудник</td>\n",
       "      <td>0</td>\n",
       "      <td>145885</td>\n",
       "      <td>покупка жилья</td>\n",
       "    </tr>\n",
       "    <tr>\n",
       "      <th>3</th>\n",
       "      <td>3</td>\n",
       "      <td>4124</td>\n",
       "      <td>32</td>\n",
       "      <td>среднее</td>\n",
       "      <td>1</td>\n",
       "      <td>женат / замужем</td>\n",
       "      <td>0</td>\n",
       "      <td>M</td>\n",
       "      <td>сотрудник</td>\n",
       "      <td>0</td>\n",
       "      <td>267628</td>\n",
       "      <td>дополнительное образование</td>\n",
       "    </tr>\n",
       "    <tr>\n",
       "      <th>4</th>\n",
       "      <td>0</td>\n",
       "      <td>340266</td>\n",
       "      <td>53</td>\n",
       "      <td>среднее</td>\n",
       "      <td>1</td>\n",
       "      <td>гражданский брак</td>\n",
       "      <td>1</td>\n",
       "      <td>F</td>\n",
       "      <td>пенсионер</td>\n",
       "      <td>0</td>\n",
       "      <td>158616</td>\n",
       "      <td>сыграть свадьбу</td>\n",
       "    </tr>\n",
       "    <tr>\n",
       "      <th>5</th>\n",
       "      <td>0</td>\n",
       "      <td>926</td>\n",
       "      <td>27</td>\n",
       "      <td>высшее</td>\n",
       "      <td>0</td>\n",
       "      <td>гражданский брак</td>\n",
       "      <td>1</td>\n",
       "      <td>M</td>\n",
       "      <td>компаньон</td>\n",
       "      <td>0</td>\n",
       "      <td>255763</td>\n",
       "      <td>покупка жилья</td>\n",
       "    </tr>\n",
       "    <tr>\n",
       "      <th>6</th>\n",
       "      <td>0</td>\n",
       "      <td>2879</td>\n",
       "      <td>43</td>\n",
       "      <td>высшее</td>\n",
       "      <td>0</td>\n",
       "      <td>женат / замужем</td>\n",
       "      <td>0</td>\n",
       "      <td>F</td>\n",
       "      <td>компаньон</td>\n",
       "      <td>0</td>\n",
       "      <td>240525</td>\n",
       "      <td>операции с жильем</td>\n",
       "    </tr>\n",
       "    <tr>\n",
       "      <th>7</th>\n",
       "      <td>0</td>\n",
       "      <td>152</td>\n",
       "      <td>50</td>\n",
       "      <td>СРЕДНЕЕ</td>\n",
       "      <td>1</td>\n",
       "      <td>женат / замужем</td>\n",
       "      <td>0</td>\n",
       "      <td>M</td>\n",
       "      <td>сотрудник</td>\n",
       "      <td>0</td>\n",
       "      <td>135823</td>\n",
       "      <td>образование</td>\n",
       "    </tr>\n",
       "    <tr>\n",
       "      <th>8</th>\n",
       "      <td>2</td>\n",
       "      <td>6929</td>\n",
       "      <td>35</td>\n",
       "      <td>ВЫСШЕЕ</td>\n",
       "      <td>0</td>\n",
       "      <td>гражданский брак</td>\n",
       "      <td>1</td>\n",
       "      <td>F</td>\n",
       "      <td>сотрудник</td>\n",
       "      <td>0</td>\n",
       "      <td>95856</td>\n",
       "      <td>на проведение свадьбы</td>\n",
       "    </tr>\n",
       "    <tr>\n",
       "      <th>9</th>\n",
       "      <td>0</td>\n",
       "      <td>2188</td>\n",
       "      <td>41</td>\n",
       "      <td>среднее</td>\n",
       "      <td>1</td>\n",
       "      <td>женат / замужем</td>\n",
       "      <td>0</td>\n",
       "      <td>M</td>\n",
       "      <td>сотрудник</td>\n",
       "      <td>0</td>\n",
       "      <td>144425</td>\n",
       "      <td>покупка жилья для семьи</td>\n",
       "    </tr>\n",
       "  </tbody>\n",
       "</table>\n",
       "</div>"
      ],
      "text/plain": [
       "   children  days_employed  dob_years education  education_id  \\\n",
       "0         1           8437         42    высшее             0   \n",
       "1         1           4024         36   среднее             1   \n",
       "2         0           5623         33   Среднее             1   \n",
       "3         3           4124         32   среднее             1   \n",
       "4         0         340266         53   среднее             1   \n",
       "5         0            926         27    высшее             0   \n",
       "6         0           2879         43    высшее             0   \n",
       "7         0            152         50   СРЕДНЕЕ             1   \n",
       "8         2           6929         35    ВЫСШЕЕ             0   \n",
       "9         0           2188         41   среднее             1   \n",
       "\n",
       "      family_status  family_status_id gender income_type  debt  total_income  \\\n",
       "0   женат / замужем                 0      F   сотрудник     0        253875   \n",
       "1   женат / замужем                 0      F   сотрудник     0        112080   \n",
       "2   женат / замужем                 0      M   сотрудник     0        145885   \n",
       "3   женат / замужем                 0      M   сотрудник     0        267628   \n",
       "4  гражданский брак                 1      F   пенсионер     0        158616   \n",
       "5  гражданский брак                 1      M   компаньон     0        255763   \n",
       "6   женат / замужем                 0      F   компаньон     0        240525   \n",
       "7   женат / замужем                 0      M   сотрудник     0        135823   \n",
       "8  гражданский брак                 1      F   сотрудник     0         95856   \n",
       "9   женат / замужем                 0      M   сотрудник     0        144425   \n",
       "\n",
       "                      purpose  \n",
       "0               покупка жилья  \n",
       "1     приобретение автомобиля  \n",
       "2               покупка жилья  \n",
       "3  дополнительное образование  \n",
       "4             сыграть свадьбу  \n",
       "5               покупка жилья  \n",
       "6           операции с жильем  \n",
       "7                 образование  \n",
       "8       на проведение свадьбы  \n",
       "9     покупка жилья для семьи  "
      ]
     },
     "execution_count": 69,
     "metadata": {},
     "output_type": "execute_result"
    }
   ],
   "source": [
    "data['days_employed'] = data['days_employed'].apply(abs)  # applying abs() function to the whole table to get rid of missing values\n",
    "data['days_employed'] = data['days_employed'].astype('int')  # applying astype() method to get rid of float values\n",
    "data['total_income'] = data['total_income'].astype('int')  # applying astype() method to get rid of float values\n",
    "data.head(10)"
   ]
  },
  {
   "cell_type": "markdown",
   "id": "7e0a67f4",
   "metadata": {},
   "source": [
    "### Duplicates Removal\n",
    "Earlier we found out that there are duplicate rows in the table. Like missing values, having duplicates in the dataframe may lead to a distortion of the conclusions of the study, so we shall to get rid of them:\n",
    "\n"
   ]
  },
  {
   "cell_type": "code",
   "execution_count": 70,
   "id": "6c1da4a5",
   "metadata": {},
   "outputs": [
    {
     "name": "stdout",
     "output_type": "stream",
     "text": [
      "0\n"
     ]
    }
   ],
   "source": [
    "data = data.drop_duplicates().reset_index(drop=True)  # getting rid of explicit duplicates\n",
    "print(data.duplicated().sum())  # checking out the result\n"
   ]
  },
  {
   "cell_type": "markdown",
   "id": "4785a135",
   "metadata": {},
   "source": [
    "Thus, we got rid of 54 explicit duplicates in the available data.\n",
    "As we have already noted, large amounts of data are very rarely ideal, in particular, duplicates may appear due to the human factor: incorrect input, incorrect data connection into one table.\n",
    "\n",
    "Now let's move on to finding implicit duplicates. To do this, let's look again at the columns' names and the data types in them. Let's analyze the type of variables for each column. We can assume that 'education', 'family_status', 'gender','income_type', 'purpose', 'education_id', 'family_status_id', 'debt' are categorical variables, and that means their values in the table can reapeat, so it makes no sense to count their repetitions. In this case, it makes sense to check what unique values each categoricalvariable. Let's display the results:"
   ]
  },
  {
   "cell_type": "code",
   "execution_count": 71,
   "id": "2c66af14",
   "metadata": {},
   "outputs": [
    {
     "data": {
      "text/plain": [
       "array(['высшее', 'среднее', 'Среднее', 'СРЕДНЕЕ', 'ВЫСШЕЕ',\n",
       "       'неоконченное высшее', 'начальное', 'Высшее',\n",
       "       'НЕОКОНЧЕННОЕ ВЫСШЕЕ', 'Неоконченное высшее', 'НАЧАЛЬНОЕ',\n",
       "       'Начальное', 'Ученая степень', 'УЧЕНАЯ СТЕПЕНЬ', 'ученая степень'],\n",
       "      dtype=object)"
      ]
     },
     "metadata": {},
     "output_type": "display_data"
    },
    {
     "data": {
      "text/plain": [
       "array(['женат / замужем', 'гражданский брак', 'вдовец / вдова',\n",
       "       'в разводе', 'Не женат / не замужем'], dtype=object)"
      ]
     },
     "metadata": {},
     "output_type": "display_data"
    },
    {
     "data": {
      "text/plain": [
       "array(['F', 'M', 'XNA'], dtype=object)"
      ]
     },
     "metadata": {},
     "output_type": "display_data"
    },
    {
     "data": {
      "text/plain": [
       "array(['сотрудник', 'пенсионер', 'компаньон', 'госслужащий',\n",
       "       'безработный', 'предприниматель', 'студент', 'в декрете'],\n",
       "      dtype=object)"
      ]
     },
     "metadata": {},
     "output_type": "display_data"
    },
    {
     "data": {
      "text/plain": [
       "array(['покупка жилья', 'приобретение автомобиля',\n",
       "       'дополнительное образование', 'сыграть свадьбу',\n",
       "       'операции с жильем', 'образование', 'на проведение свадьбы',\n",
       "       'покупка жилья для семьи', 'покупка недвижимости',\n",
       "       'покупка коммерческой недвижимости', 'покупка жилой недвижимости',\n",
       "       'строительство собственной недвижимости', 'недвижимость',\n",
       "       'строительство недвижимости', 'на покупку подержанного автомобиля',\n",
       "       'на покупку своего автомобиля',\n",
       "       'операции с коммерческой недвижимостью',\n",
       "       'строительство жилой недвижимости', 'жилье',\n",
       "       'операции со своей недвижимостью', 'автомобили',\n",
       "       'заняться образованием', 'сделка с подержанным автомобилем',\n",
       "       'получение образования', 'автомобиль', 'свадьба',\n",
       "       'получение дополнительного образования', 'покупка своего жилья',\n",
       "       'операции с недвижимостью', 'получение высшего образования',\n",
       "       'свой автомобиль', 'сделка с автомобилем',\n",
       "       'профильное образование', 'высшее образование',\n",
       "       'покупка жилья для сдачи', 'на покупку автомобиля', 'ремонт жилью',\n",
       "       'заняться высшим образованием'], dtype=object)"
      ]
     },
     "metadata": {},
     "output_type": "display_data"
    },
    {
     "data": {
      "text/plain": [
       "array([0, 1, 2, 3, 4], dtype=int64)"
      ]
     },
     "metadata": {},
     "output_type": "display_data"
    },
    {
     "data": {
      "text/plain": [
       "array([0, 1, 2, 3, 4], dtype=int64)"
      ]
     },
     "metadata": {},
     "output_type": "display_data"
    },
    {
     "data": {
      "text/plain": [
       "array([0, 1], dtype=int64)"
      ]
     },
     "metadata": {},
     "output_type": "display_data"
    }
   ],
   "source": [
    "# Checking out the unique values of all categorical variables iterating on each column:\n",
    "features = ['education', 'family_status', 'gender', 'income_type', 'purpose', 'education_id', 'family_status_id', 'debt' ]\n",
    "for feature in features:\n",
    "    display(data[feature].unique())\n",
    "\n"
   ]
  },
  {
   "cell_type": "markdown",
   "id": "f733320b",
   "metadata": {},
   "source": [
    "After having analyzed the lists of unique values, we noticed that implicit duplicates are present in \n",
    "'education' column. To get rid of them, let's bring all the values to the same case and check the results:\n"
   ]
  },
  {
   "cell_type": "code",
   "execution_count": 72,
   "id": "8ce9dc22",
   "metadata": {},
   "outputs": [
    {
     "data": {
      "text/plain": [
       "array(['высшее', 'среднее', 'неоконченное высшее', 'начальное',\n",
       "       'ученая степень'], dtype=object)"
      ]
     },
     "metadata": {},
     "output_type": "display_data"
    }
   ],
   "source": [
    "data['education'] = data['education'].str.lower() # converting all column values to lower case\n",
    "display(data['education'].unique())  # checking the result\n"
   ]
  },
  {
   "cell_type": "markdown",
   "id": "f0a35d00",
   "metadata": {},
   "source": [
    "When finding unique values, we noticed that the 'purpose' variable also contains\n",
    "implicit \"semantic\" duplicates, so it needs further categorization. We will do such  transformation a bit later.\n",
    "\n",
    "In addition, another anomaly (not a duplicate, but an incorrect value) is present in the 'gender' column: 'XNA'.\n",
    "We found this value even earlier: at the stage of data review\n",
    "Let's count its repetition:\n",
    "\n"
   ]
  },
  {
   "cell_type": "code",
   "execution_count": 73,
   "id": "4d8e2366",
   "metadata": {},
   "outputs": [
    {
     "data": {
      "text/plain": [
       "F      14189\n",
       "M       7281\n",
       "XNA        1\n",
       "Name: gender, dtype: int64"
      ]
     },
     "execution_count": 73,
     "metadata": {},
     "output_type": "execute_result"
    }
   ],
   "source": [
    "data['gender'].value_counts() # counting unique values in 'gender'"
   ]
  },
  {
   "cell_type": "markdown",
   "id": "e0114ee1",
   "metadata": {},
   "source": [
    "The anomalous value 'XNA' occurs only once, which, given the number of observations, is unlikely to skew the conclusions of the study. Moreover, the purpose of our study is not to test the hypothesis about the influence of gender onmloan repayment on time, so the 'gender' variable itself is irrelevant.\n"
   ]
  },
  {
   "cell_type": "markdown",
   "id": "03c98d8e",
   "metadata": {},
   "source": [
    "As far as it concerns quantitative variables, in the presented dataframe they are 'children', 'days_employed',\n",
    "'dob_years', 'total_income'. The nature of such data suggests that the number of unique observations is unlimited,\n",
    "on the other hand, one or more observations may be repeated. For example, among more than 20,000 bank customers, there may be customers with the same income, and such a repetition cannot be perceived as a duplicate.\n",
    "For this reason, it makes no sense either to scan the unique values of quantitative variables, or to count their repetitions.\n",
    "The only column where, from the point of view of our experience, there is unlikely to be a large scatter and variety of observations is the number of children in the family. Let's check the unique values of the 'children' column and count the unique values:\n"
   ]
  },
  {
   "cell_type": "code",
   "execution_count": 74,
   "id": "df1be97c",
   "metadata": {},
   "outputs": [
    {
     "data": {
      "text/plain": [
       " 0     14107\n",
       " 1      4809\n",
       " 2      2052\n",
       " 3       330\n",
       " 20       76\n",
       "-1        47\n",
       " 4        41\n",
       " 5         9\n",
       "Name: children, dtype: int64"
      ]
     },
     "execution_count": 74,
     "metadata": {},
     "output_type": "execute_result"
    }
   ],
   "source": [
    "data['children'].value_counts()  # counting unique values in 'children'"
   ]
  },
  {
   "cell_type": "markdown",
   "id": "dac6086a",
   "metadata": {},
   "source": [
    "Ma noticed an anomalous value for this metric: -1. It can be assumed that the causes and nature of this\n",
    "anomaly match the anomaly in the 'days_employed' column, which also initially had negative values.\n",
    "Let's get rid of the anomaly by replacing the given value with \"1\" in all rows:\n"
   ]
  },
  {
   "cell_type": "code",
   "execution_count": 75,
   "id": "115df4eb",
   "metadata": {},
   "outputs": [
    {
     "data": {
      "text/plain": [
       "0     14107\n",
       "1      4856\n",
       "2      2052\n",
       "3       330\n",
       "20       76\n",
       "4        41\n",
       "5         9\n",
       "Name: children, dtype: int64"
      ]
     },
     "execution_count": 75,
     "metadata": {},
     "output_type": "execute_result"
    }
   ],
   "source": [
    "data.loc[data['children']==-1, 'children'] = 1  # replacing the mistaken value in all rows with the chosen one\n",
    "data['children'].value_counts() # checking the result"
   ]
  },
  {
   "cell_type": "markdown",
   "id": "ffef348c",
   "metadata": {},
   "source": [
    "Statistically speaking, there is another anomalous value in this column - 20. Let's assume that there was a failure in the data upload here too, and we interpret it as \"2\" (perhaps this is a consequence of the Russian state policy on the payment of maternity capital: for eahc child beginning with the second, the mother gets some money from the state to be spent on certian purposes: education, buying a house etc):\n"
   ]
  },
  {
   "cell_type": "code",
   "execution_count": 76,
   "id": "477c3511",
   "metadata": {},
   "outputs": [
    {
     "data": {
      "text/plain": [
       "0    14107\n",
       "1     4856\n",
       "2     2128\n",
       "3      330\n",
       "4       41\n",
       "5        9\n",
       "Name: children, dtype: int64"
      ]
     },
     "execution_count": 76,
     "metadata": {},
     "output_type": "execute_result"
    }
   ],
   "source": [
    "data.loc[data['children']==20, 'children'] = 2 # replacing the mistaken value in all rows with the chosen one\n",
    "data['children'].value_counts() # checking the result"
   ]
  },
  {
   "cell_type": "markdown",
   "id": "04cdc0f0",
   "metadata": {},
   "source": [
    "**Conclusions**\n",
    "\n",
    "So, as a result of preprocessing, we solved the following issuess that were revealed in the overview phase:\n",
    "\n",
    "- filled in the missing values,\n",
    "- removed explicit and implicit duplicates,\n",
    "- got rid of anomalous values.\n",
    "\n",
    "All this will help us to further test the hypotheses without distorting the conclusions. In order to proceed to the final stage of the study, however, we also need to work on the visual perception of the dataframe and, if possible, categorize some features.\n",
    "\n"
   ]
  },
  {
   "cell_type": "markdown",
   "id": "46b4acd5",
   "metadata": {},
   "source": [
    "###  Creating Additional Dataframes, Decomposition of the Original Dataframe\n",
    "Further, in order to simplify the visual perception of the dataframe and to simplify working with it, we will take out some data in separate dataframes.\n",
    "In particular, such a transformation can be done in relation to education data, where each unique value has its own identification number:"
   ]
  },
  {
   "cell_type": "code",
   "execution_count": 77,
   "id": "4f899754",
   "metadata": {},
   "outputs": [
    {
     "data": {
      "text/html": [
       "<div>\n",
       "<style scoped>\n",
       "    .dataframe tbody tr th:only-of-type {\n",
       "        vertical-align: middle;\n",
       "    }\n",
       "\n",
       "    .dataframe tbody tr th {\n",
       "        vertical-align: top;\n",
       "    }\n",
       "\n",
       "    .dataframe thead th {\n",
       "        text-align: right;\n",
       "    }\n",
       "</style>\n",
       "<table border=\"1\" class=\"dataframe\">\n",
       "  <thead>\n",
       "    <tr style=\"text-align: right;\">\n",
       "      <th></th>\n",
       "      <th>education</th>\n",
       "      <th>education_id</th>\n",
       "    </tr>\n",
       "  </thead>\n",
       "  <tbody>\n",
       "    <tr>\n",
       "      <th>0</th>\n",
       "      <td>высшее</td>\n",
       "      <td>0</td>\n",
       "    </tr>\n",
       "    <tr>\n",
       "      <th>1</th>\n",
       "      <td>среднее</td>\n",
       "      <td>1</td>\n",
       "    </tr>\n",
       "    <tr>\n",
       "      <th>2</th>\n",
       "      <td>неоконченное высшее</td>\n",
       "      <td>2</td>\n",
       "    </tr>\n",
       "    <tr>\n",
       "      <th>3</th>\n",
       "      <td>начальное</td>\n",
       "      <td>3</td>\n",
       "    </tr>\n",
       "    <tr>\n",
       "      <th>4</th>\n",
       "      <td>ученая степень</td>\n",
       "      <td>4</td>\n",
       "    </tr>\n",
       "  </tbody>\n",
       "</table>\n",
       "</div>"
      ],
      "text/plain": [
       "             education  education_id\n",
       "0               высшее             0\n",
       "1              среднее             1\n",
       "2  неоконченное высшее             2\n",
       "3            начальное             3\n",
       "4       ученая степень             4"
      ]
     },
     "execution_count": 77,
     "metadata": {},
     "output_type": "execute_result"
    }
   ],
   "source": [
    "education_data = data[['education', 'education_id']]  # creating a new dataframe with the information on education\n",
    "education_data = education_data.drop_duplicates().reset_index(drop=True) # getting rid og duplicates in the new dataframe\n",
    "education_data.head(10)  # checking the result"
   ]
  },
  {
   "cell_type": "markdown",
   "id": "0f0f6608",
   "metadata": {},
   "source": [
    "Let's do the same for the marital status data:"
   ]
  },
  {
   "cell_type": "code",
   "execution_count": 78,
   "id": "259232d8",
   "metadata": {},
   "outputs": [
    {
     "data": {
      "text/html": [
       "<div>\n",
       "<style scoped>\n",
       "    .dataframe tbody tr th:only-of-type {\n",
       "        vertical-align: middle;\n",
       "    }\n",
       "\n",
       "    .dataframe tbody tr th {\n",
       "        vertical-align: top;\n",
       "    }\n",
       "\n",
       "    .dataframe thead th {\n",
       "        text-align: right;\n",
       "    }\n",
       "</style>\n",
       "<table border=\"1\" class=\"dataframe\">\n",
       "  <thead>\n",
       "    <tr style=\"text-align: right;\">\n",
       "      <th></th>\n",
       "      <th>family_status</th>\n",
       "      <th>family_status_id</th>\n",
       "    </tr>\n",
       "  </thead>\n",
       "  <tbody>\n",
       "    <tr>\n",
       "      <th>0</th>\n",
       "      <td>женат / замужем</td>\n",
       "      <td>0</td>\n",
       "    </tr>\n",
       "    <tr>\n",
       "      <th>1</th>\n",
       "      <td>гражданский брак</td>\n",
       "      <td>1</td>\n",
       "    </tr>\n",
       "    <tr>\n",
       "      <th>2</th>\n",
       "      <td>вдовец / вдова</td>\n",
       "      <td>2</td>\n",
       "    </tr>\n",
       "    <tr>\n",
       "      <th>3</th>\n",
       "      <td>в разводе</td>\n",
       "      <td>3</td>\n",
       "    </tr>\n",
       "    <tr>\n",
       "      <th>4</th>\n",
       "      <td>Не женат / не замужем</td>\n",
       "      <td>4</td>\n",
       "    </tr>\n",
       "  </tbody>\n",
       "</table>\n",
       "</div>"
      ],
      "text/plain": [
       "           family_status  family_status_id\n",
       "0        женат / замужем                 0\n",
       "1       гражданский брак                 1\n",
       "2         вдовец / вдова                 2\n",
       "3              в разводе                 3\n",
       "4  Не женат / не замужем                 4"
      ]
     },
     "execution_count": 78,
     "metadata": {},
     "output_type": "execute_result"
    }
   ],
   "source": [
    "family_status_data = data[['family_status', 'family_status_id']]  # creating a new dataframe with the information on family status\n",
    "family_status_data = family_status_data.drop_duplicates().reset_index(drop=True) # getting rid og duplicates in the new dataframe\n",
    "family_status_data.head(10)  # checking the result\n"
   ]
  },
  {
   "cell_type": "markdown",
   "id": "6aa4d167",
   "metadata": {},
   "source": [
    "By separating data on education and marital status into separate dataframes, we can \"lighten\" the main table:\n"
   ]
  },
  {
   "cell_type": "code",
   "execution_count": 79,
   "id": "db9a3566",
   "metadata": {},
   "outputs": [],
   "source": [
    "data=data.drop(['education', 'family_status'], axis=1)  # deleting the column we copied to other dataframes"
   ]
  },
  {
   "cell_type": "markdown",
   "id": "f434086f",
   "metadata": {},
   "source": [
    "###  Income Categorization\n",
    "To make it easier to test the hypothesis about the effect of income level on loan repayment terms, we categorize the data. To do this, we select several groups and set the minimum and maximum income levels for each. Using the function,  we will add the relevant column to the dataframe. Since we did not check the values of the 'total_income' column for abnormal values, for example, negative values, we will implement such a check in the  function body:"
   ]
  },
  {
   "cell_type": "code",
   "execution_count": 80,
   "id": "df3e8aef",
   "metadata": {},
   "outputs": [
    {
     "data": {
      "text/html": [
       "<div>\n",
       "<style scoped>\n",
       "    .dataframe tbody tr th:only-of-type {\n",
       "        vertical-align: middle;\n",
       "    }\n",
       "\n",
       "    .dataframe tbody tr th {\n",
       "        vertical-align: top;\n",
       "    }\n",
       "\n",
       "    .dataframe thead th {\n",
       "        text-align: right;\n",
       "    }\n",
       "</style>\n",
       "<table border=\"1\" class=\"dataframe\">\n",
       "  <thead>\n",
       "    <tr style=\"text-align: right;\">\n",
       "      <th></th>\n",
       "      <th>children</th>\n",
       "      <th>days_employed</th>\n",
       "      <th>dob_years</th>\n",
       "      <th>education_id</th>\n",
       "      <th>family_status_id</th>\n",
       "      <th>gender</th>\n",
       "      <th>income_type</th>\n",
       "      <th>debt</th>\n",
       "      <th>total_income</th>\n",
       "      <th>purpose</th>\n",
       "      <th>total_income_category</th>\n",
       "    </tr>\n",
       "  </thead>\n",
       "  <tbody>\n",
       "    <tr>\n",
       "      <th>0</th>\n",
       "      <td>1</td>\n",
       "      <td>8437</td>\n",
       "      <td>42</td>\n",
       "      <td>0</td>\n",
       "      <td>0</td>\n",
       "      <td>F</td>\n",
       "      <td>сотрудник</td>\n",
       "      <td>0</td>\n",
       "      <td>253875</td>\n",
       "      <td>покупка жилья</td>\n",
       "      <td>B</td>\n",
       "    </tr>\n",
       "    <tr>\n",
       "      <th>1</th>\n",
       "      <td>1</td>\n",
       "      <td>4024</td>\n",
       "      <td>36</td>\n",
       "      <td>1</td>\n",
       "      <td>0</td>\n",
       "      <td>F</td>\n",
       "      <td>сотрудник</td>\n",
       "      <td>0</td>\n",
       "      <td>112080</td>\n",
       "      <td>приобретение автомобиля</td>\n",
       "      <td>C</td>\n",
       "    </tr>\n",
       "    <tr>\n",
       "      <th>2</th>\n",
       "      <td>0</td>\n",
       "      <td>5623</td>\n",
       "      <td>33</td>\n",
       "      <td>1</td>\n",
       "      <td>0</td>\n",
       "      <td>M</td>\n",
       "      <td>сотрудник</td>\n",
       "      <td>0</td>\n",
       "      <td>145885</td>\n",
       "      <td>покупка жилья</td>\n",
       "      <td>C</td>\n",
       "    </tr>\n",
       "    <tr>\n",
       "      <th>3</th>\n",
       "      <td>3</td>\n",
       "      <td>4124</td>\n",
       "      <td>32</td>\n",
       "      <td>1</td>\n",
       "      <td>0</td>\n",
       "      <td>M</td>\n",
       "      <td>сотрудник</td>\n",
       "      <td>0</td>\n",
       "      <td>267628</td>\n",
       "      <td>дополнительное образование</td>\n",
       "      <td>B</td>\n",
       "    </tr>\n",
       "    <tr>\n",
       "      <th>4</th>\n",
       "      <td>0</td>\n",
       "      <td>340266</td>\n",
       "      <td>53</td>\n",
       "      <td>1</td>\n",
       "      <td>1</td>\n",
       "      <td>F</td>\n",
       "      <td>пенсионер</td>\n",
       "      <td>0</td>\n",
       "      <td>158616</td>\n",
       "      <td>сыграть свадьбу</td>\n",
       "      <td>C</td>\n",
       "    </tr>\n",
       "    <tr>\n",
       "      <th>5</th>\n",
       "      <td>0</td>\n",
       "      <td>926</td>\n",
       "      <td>27</td>\n",
       "      <td>0</td>\n",
       "      <td>1</td>\n",
       "      <td>M</td>\n",
       "      <td>компаньон</td>\n",
       "      <td>0</td>\n",
       "      <td>255763</td>\n",
       "      <td>покупка жилья</td>\n",
       "      <td>B</td>\n",
       "    </tr>\n",
       "    <tr>\n",
       "      <th>6</th>\n",
       "      <td>0</td>\n",
       "      <td>2879</td>\n",
       "      <td>43</td>\n",
       "      <td>0</td>\n",
       "      <td>0</td>\n",
       "      <td>F</td>\n",
       "      <td>компаньон</td>\n",
       "      <td>0</td>\n",
       "      <td>240525</td>\n",
       "      <td>операции с жильем</td>\n",
       "      <td>B</td>\n",
       "    </tr>\n",
       "    <tr>\n",
       "      <th>7</th>\n",
       "      <td>0</td>\n",
       "      <td>152</td>\n",
       "      <td>50</td>\n",
       "      <td>1</td>\n",
       "      <td>0</td>\n",
       "      <td>M</td>\n",
       "      <td>сотрудник</td>\n",
       "      <td>0</td>\n",
       "      <td>135823</td>\n",
       "      <td>образование</td>\n",
       "      <td>C</td>\n",
       "    </tr>\n",
       "    <tr>\n",
       "      <th>8</th>\n",
       "      <td>2</td>\n",
       "      <td>6929</td>\n",
       "      <td>35</td>\n",
       "      <td>0</td>\n",
       "      <td>1</td>\n",
       "      <td>F</td>\n",
       "      <td>сотрудник</td>\n",
       "      <td>0</td>\n",
       "      <td>95856</td>\n",
       "      <td>на проведение свадьбы</td>\n",
       "      <td>C</td>\n",
       "    </tr>\n",
       "    <tr>\n",
       "      <th>9</th>\n",
       "      <td>0</td>\n",
       "      <td>2188</td>\n",
       "      <td>41</td>\n",
       "      <td>1</td>\n",
       "      <td>0</td>\n",
       "      <td>M</td>\n",
       "      <td>сотрудник</td>\n",
       "      <td>0</td>\n",
       "      <td>144425</td>\n",
       "      <td>покупка жилья для семьи</td>\n",
       "      <td>C</td>\n",
       "    </tr>\n",
       "  </tbody>\n",
       "</table>\n",
       "</div>"
      ],
      "text/plain": [
       "   children  days_employed  dob_years  education_id  family_status_id gender  \\\n",
       "0         1           8437         42             0                 0      F   \n",
       "1         1           4024         36             1                 0      F   \n",
       "2         0           5623         33             1                 0      M   \n",
       "3         3           4124         32             1                 0      M   \n",
       "4         0         340266         53             1                 1      F   \n",
       "5         0            926         27             0                 1      M   \n",
       "6         0           2879         43             0                 0      F   \n",
       "7         0            152         50             1                 0      M   \n",
       "8         2           6929         35             0                 1      F   \n",
       "9         0           2188         41             1                 0      M   \n",
       "\n",
       "  income_type  debt  total_income                     purpose  \\\n",
       "0   сотрудник     0        253875               покупка жилья   \n",
       "1   сотрудник     0        112080     приобретение автомобиля   \n",
       "2   сотрудник     0        145885               покупка жилья   \n",
       "3   сотрудник     0        267628  дополнительное образование   \n",
       "4   пенсионер     0        158616             сыграть свадьбу   \n",
       "5   компаньон     0        255763               покупка жилья   \n",
       "6   компаньон     0        240525           операции с жильем   \n",
       "7   сотрудник     0        135823                 образование   \n",
       "8   сотрудник     0         95856       на проведение свадьбы   \n",
       "9   сотрудник     0        144425     покупка жилья для семьи   \n",
       "\n",
       "  total_income_category  \n",
       "0                     B  \n",
       "1                     C  \n",
       "2                     C  \n",
       "3                     B  \n",
       "4                     C  \n",
       "5                     B  \n",
       "6                     B  \n",
       "7                     C  \n",
       "8                     C  \n",
       "9                     C  "
      ]
     },
     "execution_count": 80,
     "metadata": {},
     "output_type": "execute_result"
    }
   ],
   "source": [
    "# Defining a function with one parameter 'income'\n",
    "def income_group(income):  \n",
    "    if income < 0:\n",
    "        raise Exception()\n",
    "    if 0 <= income <= 30000:\n",
    "        return 'E'\n",
    "    if 30001 <= income <= 50000:\n",
    "        return 'D'\n",
    "    if 50001 <= income <= 200000:\n",
    "        return 'C'\n",
    "    if 200001 <= income <= 1000000:\n",
    "        return 'B'\n",
    "    return 'A'\n",
    "try:\n",
    "    data['total_income_category'] = data['total_income'].apply(income_group)  # creating a new column in the dataframe by calling the income_group() function\n",
    "except:\n",
    "    print('The income can not be negative') # making sure in the column 'total_income' there is no anomalous data. In caase there are some, если они есть, the relevant message will be printed\n",
    "data.head(10) # displaying the result"
   ]
  },
  {
   "cell_type": "markdown",
   "id": "f22571eb",
   "metadata": {},
   "source": [
    "###  Loan Purposes Categorization \n",
    "When analyzing the unique values of the 'purpose' column, we already noticed that there are some \"semantic duplicates\" in it: values that are not equally expressed from a lexical point of view, but have the same meaning. \n",
    "It  makes sense to categorize such values, bringing similar loan purposes to a certain common denominator. We will carry out this transformation in order to test one of the hypotheses: the relationship between the purposes of loan and the terms of repayment. To categorize these data, another function will help us, by calling which we will add a new 'purpose_category' column to the table:"
   ]
  },
  {
   "cell_type": "code",
   "execution_count": 81,
   "id": "f3b37133",
   "metadata": {},
   "outputs": [
    {
     "data": {
      "text/html": [
       "<div>\n",
       "<style scoped>\n",
       "    .dataframe tbody tr th:only-of-type {\n",
       "        vertical-align: middle;\n",
       "    }\n",
       "\n",
       "    .dataframe tbody tr th {\n",
       "        vertical-align: top;\n",
       "    }\n",
       "\n",
       "    .dataframe thead th {\n",
       "        text-align: right;\n",
       "    }\n",
       "</style>\n",
       "<table border=\"1\" class=\"dataframe\">\n",
       "  <thead>\n",
       "    <tr style=\"text-align: right;\">\n",
       "      <th></th>\n",
       "      <th>children</th>\n",
       "      <th>days_employed</th>\n",
       "      <th>dob_years</th>\n",
       "      <th>education_id</th>\n",
       "      <th>family_status_id</th>\n",
       "      <th>gender</th>\n",
       "      <th>income_type</th>\n",
       "      <th>debt</th>\n",
       "      <th>total_income</th>\n",
       "      <th>purpose</th>\n",
       "      <th>total_income_category</th>\n",
       "      <th>purpose_category</th>\n",
       "    </tr>\n",
       "  </thead>\n",
       "  <tbody>\n",
       "    <tr>\n",
       "      <th>0</th>\n",
       "      <td>1</td>\n",
       "      <td>8437</td>\n",
       "      <td>42</td>\n",
       "      <td>0</td>\n",
       "      <td>0</td>\n",
       "      <td>F</td>\n",
       "      <td>сотрудник</td>\n",
       "      <td>0</td>\n",
       "      <td>253875</td>\n",
       "      <td>покупка жилья</td>\n",
       "      <td>B</td>\n",
       "      <td>real estate activities</td>\n",
       "    </tr>\n",
       "    <tr>\n",
       "      <th>1</th>\n",
       "      <td>1</td>\n",
       "      <td>4024</td>\n",
       "      <td>36</td>\n",
       "      <td>1</td>\n",
       "      <td>0</td>\n",
       "      <td>F</td>\n",
       "      <td>сотрудник</td>\n",
       "      <td>0</td>\n",
       "      <td>112080</td>\n",
       "      <td>приобретение автомобиля</td>\n",
       "      <td>C</td>\n",
       "      <td>purchase of a vehicle</td>\n",
       "    </tr>\n",
       "    <tr>\n",
       "      <th>2</th>\n",
       "      <td>0</td>\n",
       "      <td>5623</td>\n",
       "      <td>33</td>\n",
       "      <td>1</td>\n",
       "      <td>0</td>\n",
       "      <td>M</td>\n",
       "      <td>сотрудник</td>\n",
       "      <td>0</td>\n",
       "      <td>145885</td>\n",
       "      <td>покупка жилья</td>\n",
       "      <td>C</td>\n",
       "      <td>real estate activities</td>\n",
       "    </tr>\n",
       "    <tr>\n",
       "      <th>3</th>\n",
       "      <td>3</td>\n",
       "      <td>4124</td>\n",
       "      <td>32</td>\n",
       "      <td>1</td>\n",
       "      <td>0</td>\n",
       "      <td>M</td>\n",
       "      <td>сотрудник</td>\n",
       "      <td>0</td>\n",
       "      <td>267628</td>\n",
       "      <td>дополнительное образование</td>\n",
       "      <td>B</td>\n",
       "      <td>education purposes</td>\n",
       "    </tr>\n",
       "    <tr>\n",
       "      <th>4</th>\n",
       "      <td>0</td>\n",
       "      <td>340266</td>\n",
       "      <td>53</td>\n",
       "      <td>1</td>\n",
       "      <td>1</td>\n",
       "      <td>F</td>\n",
       "      <td>пенсионер</td>\n",
       "      <td>0</td>\n",
       "      <td>158616</td>\n",
       "      <td>сыграть свадьбу</td>\n",
       "      <td>C</td>\n",
       "      <td>wedding arrangements</td>\n",
       "    </tr>\n",
       "    <tr>\n",
       "      <th>5</th>\n",
       "      <td>0</td>\n",
       "      <td>926</td>\n",
       "      <td>27</td>\n",
       "      <td>0</td>\n",
       "      <td>1</td>\n",
       "      <td>M</td>\n",
       "      <td>компаньон</td>\n",
       "      <td>0</td>\n",
       "      <td>255763</td>\n",
       "      <td>покупка жилья</td>\n",
       "      <td>B</td>\n",
       "      <td>real estate activities</td>\n",
       "    </tr>\n",
       "    <tr>\n",
       "      <th>6</th>\n",
       "      <td>0</td>\n",
       "      <td>2879</td>\n",
       "      <td>43</td>\n",
       "      <td>0</td>\n",
       "      <td>0</td>\n",
       "      <td>F</td>\n",
       "      <td>компаньон</td>\n",
       "      <td>0</td>\n",
       "      <td>240525</td>\n",
       "      <td>операции с жильем</td>\n",
       "      <td>B</td>\n",
       "      <td>real estate activities</td>\n",
       "    </tr>\n",
       "    <tr>\n",
       "      <th>7</th>\n",
       "      <td>0</td>\n",
       "      <td>152</td>\n",
       "      <td>50</td>\n",
       "      <td>1</td>\n",
       "      <td>0</td>\n",
       "      <td>M</td>\n",
       "      <td>сотрудник</td>\n",
       "      <td>0</td>\n",
       "      <td>135823</td>\n",
       "      <td>образование</td>\n",
       "      <td>C</td>\n",
       "      <td>education purposes</td>\n",
       "    </tr>\n",
       "    <tr>\n",
       "      <th>8</th>\n",
       "      <td>2</td>\n",
       "      <td>6929</td>\n",
       "      <td>35</td>\n",
       "      <td>0</td>\n",
       "      <td>1</td>\n",
       "      <td>F</td>\n",
       "      <td>сотрудник</td>\n",
       "      <td>0</td>\n",
       "      <td>95856</td>\n",
       "      <td>на проведение свадьбы</td>\n",
       "      <td>C</td>\n",
       "      <td>wedding arrangements</td>\n",
       "    </tr>\n",
       "    <tr>\n",
       "      <th>9</th>\n",
       "      <td>0</td>\n",
       "      <td>2188</td>\n",
       "      <td>41</td>\n",
       "      <td>1</td>\n",
       "      <td>0</td>\n",
       "      <td>M</td>\n",
       "      <td>сотрудник</td>\n",
       "      <td>0</td>\n",
       "      <td>144425</td>\n",
       "      <td>покупка жилья для семьи</td>\n",
       "      <td>C</td>\n",
       "      <td>real estate activities</td>\n",
       "    </tr>\n",
       "  </tbody>\n",
       "</table>\n",
       "</div>"
      ],
      "text/plain": [
       "   children  days_employed  dob_years  education_id  family_status_id gender  \\\n",
       "0         1           8437         42             0                 0      F   \n",
       "1         1           4024         36             1                 0      F   \n",
       "2         0           5623         33             1                 0      M   \n",
       "3         3           4124         32             1                 0      M   \n",
       "4         0         340266         53             1                 1      F   \n",
       "5         0            926         27             0                 1      M   \n",
       "6         0           2879         43             0                 0      F   \n",
       "7         0            152         50             1                 0      M   \n",
       "8         2           6929         35             0                 1      F   \n",
       "9         0           2188         41             1                 0      M   \n",
       "\n",
       "  income_type  debt  total_income                     purpose  \\\n",
       "0   сотрудник     0        253875               покупка жилья   \n",
       "1   сотрудник     0        112080     приобретение автомобиля   \n",
       "2   сотрудник     0        145885               покупка жилья   \n",
       "3   сотрудник     0        267628  дополнительное образование   \n",
       "4   пенсионер     0        158616             сыграть свадьбу   \n",
       "5   компаньон     0        255763               покупка жилья   \n",
       "6   компаньон     0        240525           операции с жильем   \n",
       "7   сотрудник     0        135823                 образование   \n",
       "8   сотрудник     0         95856       на проведение свадьбы   \n",
       "9   сотрудник     0        144425     покупка жилья для семьи   \n",
       "\n",
       "  total_income_category        purpose_category  \n",
       "0                     B  real estate activities  \n",
       "1                     C   purchase of a vehicle  \n",
       "2                     C  real estate activities  \n",
       "3                     B      education purposes  \n",
       "4                     C    wedding arrangements  \n",
       "5                     B  real estate activities  \n",
       "6                     B  real estate activities  \n",
       "7                     C      education purposes  \n",
       "8                     C    wedding arrangements  \n",
       "9                     C  real estate activities  "
      ]
     },
     "execution_count": 81,
     "metadata": {},
     "output_type": "execute_result"
    }
   ],
   "source": [
    "# Defining a function with one parameter 'purpose' \n",
    "def purpose_group(purpose):  \n",
    "    if 'жиль' in purpose or 'недвижимост' in purpose:\n",
    "        return 'real estate activities'\n",
    "    elif 'автомобил' in purpose:\n",
    "        return 'purchase of a vehicle'\n",
    "    elif 'свадьб' in purpose:\n",
    "        return 'wedding arrangements'\n",
    "    return 'education purposes'\n",
    "data['purpose_category'] = data['purpose'].apply(purpose_group) # creating a new column in the dataframe by calling purpose_group() function \n",
    "data.head(10) # displaying the result"
   ]
  },
  {
   "cell_type": "markdown",
   "id": "d567d839",
   "metadata": {},
   "source": [
    "**Conclusions**\n",
    "\n",
    "So, as a result of further transformations of the dataframe, we managed to:\n",
    "\n",
    "- improve the visualization and perception of the dataframe,\n",
    "- categorize both some categorical and quantitative variables.\n",
    "\n",
    "Without such transformations, it would have been impossible to combine the data into some groups, on which, finally, we can test our hypotheses.\n"
   ]
  },
  {
   "cell_type": "markdown",
   "id": "7f8fc8d3",
   "metadata": {},
   "source": [
    "## Hypothesis Testing\n",
    "After having prepared the data, we can start testing hypotheses.\n",
    "In order to carry out the testing, we need to analyze the number of debtors against the total number of observations for each of the groups. To do this, for each of the columns 'family_status_id', 'children', 'total_income_category', 'purpose_category', we will prepare a summary table by category, broken down by the absence of debt (0) and the presence of debt (1), adding a column that will show the ratio of debtors to the total number of clients in each group as a percentage.\n",
    "\n",
    "Let's start by testing the hypothesis about the influence of marital status on loan repayment on time:\n"
   ]
  },
  {
   "cell_type": "code",
   "execution_count": 82,
   "id": "2c87e293",
   "metadata": {},
   "outputs": [
    {
     "data": {
      "text/html": [
       "<div>\n",
       "<style scoped>\n",
       "    .dataframe tbody tr th:only-of-type {\n",
       "        vertical-align: middle;\n",
       "    }\n",
       "\n",
       "    .dataframe tbody tr th {\n",
       "        vertical-align: top;\n",
       "    }\n",
       "\n",
       "    .dataframe thead tr th {\n",
       "        text-align: left;\n",
       "    }\n",
       "\n",
       "    .dataframe thead tr:last-of-type th {\n",
       "        text-align: right;\n",
       "    }\n",
       "</style>\n",
       "<table border=\"1\" class=\"dataframe\">\n",
       "  <thead>\n",
       "    <tr>\n",
       "      <th></th>\n",
       "      <th>debt</th>\n",
       "    </tr>\n",
       "    <tr>\n",
       "      <th></th>\n",
       "      <th>mean</th>\n",
       "    </tr>\n",
       "    <tr>\n",
       "      <th>family_status_id</th>\n",
       "      <th></th>\n",
       "    </tr>\n",
       "  </thead>\n",
       "  <tbody>\n",
       "    <tr>\n",
       "      <th>0</th>\n",
       "      <td>7.542125729099157%</td>\n",
       "    </tr>\n",
       "    <tr>\n",
       "      <th>1</th>\n",
       "      <td>9.320201777564256%</td>\n",
       "    </tr>\n",
       "    <tr>\n",
       "      <th>2</th>\n",
       "      <td>6.569343065693431%</td>\n",
       "    </tr>\n",
       "    <tr>\n",
       "      <th>3</th>\n",
       "      <td>7.112970711297072%</td>\n",
       "    </tr>\n",
       "    <tr>\n",
       "      <th>4</th>\n",
       "      <td>9.750889679715302%</td>\n",
       "    </tr>\n",
       "  </tbody>\n",
       "</table>\n",
       "</div>"
      ],
      "text/plain": [
       "                                debt\n",
       "                                mean\n",
       "family_status_id                    \n",
       "0                 7.542125729099157%\n",
       "1                 9.320201777564256%\n",
       "2                 6.569343065693431%\n",
       "3                 7.112970711297072%\n",
       "4                 9.750889679715302%"
      ]
     },
     "execution_count": 82,
     "metadata": {},
     "output_type": "execute_result"
    }
   ],
   "source": [
    "pivot_family_status = data.pivot_table(index='family_status_id', aggfunc ={'debt': ['mean']})  # creating a pivot table\n",
    "pivot_family_status['debt'] = (pivot_family_status['debt']*100).astype(str).add('%')  # transforming in % the debtor's share\n",
    "pivot_family_status.head(10)  # displaying the result\n",
    "\n",
    "\n"
   ]
  },
  {
   "cell_type": "markdown",
   "id": "d92a5230",
   "metadata": {},
   "source": [
    "Next, using the same method, we will test the hypothesis about the effect of the number of children in family on loan repayment on time:\n"
   ]
  },
  {
   "cell_type": "code",
   "execution_count": 83,
   "id": "75e98d80",
   "metadata": {},
   "outputs": [
    {
     "data": {
      "text/html": [
       "<div>\n",
       "<style scoped>\n",
       "    .dataframe tbody tr th:only-of-type {\n",
       "        vertical-align: middle;\n",
       "    }\n",
       "\n",
       "    .dataframe tbody tr th {\n",
       "        vertical-align: top;\n",
       "    }\n",
       "\n",
       "    .dataframe thead tr th {\n",
       "        text-align: left;\n",
       "    }\n",
       "\n",
       "    .dataframe thead tr:last-of-type th {\n",
       "        text-align: right;\n",
       "    }\n",
       "</style>\n",
       "<table border=\"1\" class=\"dataframe\">\n",
       "  <thead>\n",
       "    <tr>\n",
       "      <th></th>\n",
       "      <th>debt</th>\n",
       "    </tr>\n",
       "    <tr>\n",
       "      <th></th>\n",
       "      <th>mean</th>\n",
       "    </tr>\n",
       "    <tr>\n",
       "      <th>children</th>\n",
       "      <th></th>\n",
       "    </tr>\n",
       "  </thead>\n",
       "  <tbody>\n",
       "    <tr>\n",
       "      <th>0</th>\n",
       "      <td>7.535266179910682 %</td>\n",
       "    </tr>\n",
       "    <tr>\n",
       "      <th>1</th>\n",
       "      <td>9.163920922570016 %</td>\n",
       "    </tr>\n",
       "    <tr>\n",
       "      <th>2</th>\n",
       "      <td>9.492481203007518 %</td>\n",
       "    </tr>\n",
       "    <tr>\n",
       "      <th>3</th>\n",
       "      <td>8.181818181818182 %</td>\n",
       "    </tr>\n",
       "    <tr>\n",
       "      <th>4</th>\n",
       "      <td>9.75609756097561 %</td>\n",
       "    </tr>\n",
       "    <tr>\n",
       "      <th>5</th>\n",
       "      <td>0.0 %</td>\n",
       "    </tr>\n",
       "  </tbody>\n",
       "</table>\n",
       "</div>"
      ],
      "text/plain": [
       "                         debt\n",
       "                         mean\n",
       "children                     \n",
       "0         7.535266179910682 %\n",
       "1         9.163920922570016 %\n",
       "2         9.492481203007518 %\n",
       "3         8.181818181818182 %\n",
       "4          9.75609756097561 %\n",
       "5                       0.0 %"
      ]
     },
     "execution_count": 83,
     "metadata": {},
     "output_type": "execute_result"
    }
   ],
   "source": [
    "pivot_children = data.pivot_table(index='children', aggfunc ={'debt': ['mean']})  # creating a pivot table\n",
    "pivot_children['debt'] = (pivot_children['debt']*100).astype(str).add(' %')  # transforming in % the debtor's share\n",
    "pivot_children.head(10) # displaying the result"
   ]
  },
  {
   "cell_type": "markdown",
   "id": "9abd73d5",
   "metadata": {},
   "source": [
    "The following hypothesis: the income level of a potential borrower affects the repayment of the loan on time:\n",
    "\n"
   ]
  },
  {
   "cell_type": "code",
   "execution_count": 84,
   "id": "6c5c16d8",
   "metadata": {},
   "outputs": [
    {
     "data": {
      "text/html": [
       "<div>\n",
       "<style scoped>\n",
       "    .dataframe tbody tr th:only-of-type {\n",
       "        vertical-align: middle;\n",
       "    }\n",
       "\n",
       "    .dataframe tbody tr th {\n",
       "        vertical-align: top;\n",
       "    }\n",
       "\n",
       "    .dataframe thead tr th {\n",
       "        text-align: left;\n",
       "    }\n",
       "\n",
       "    .dataframe thead tr:last-of-type th {\n",
       "        text-align: right;\n",
       "    }\n",
       "</style>\n",
       "<table border=\"1\" class=\"dataframe\">\n",
       "  <thead>\n",
       "    <tr>\n",
       "      <th></th>\n",
       "      <th>debt</th>\n",
       "    </tr>\n",
       "    <tr>\n",
       "      <th></th>\n",
       "      <th>mean</th>\n",
       "    </tr>\n",
       "    <tr>\n",
       "      <th>total_income_category</th>\n",
       "      <th></th>\n",
       "    </tr>\n",
       "  </thead>\n",
       "  <tbody>\n",
       "    <tr>\n",
       "      <th>A</th>\n",
       "      <td>8.0 %</td>\n",
       "    </tr>\n",
       "    <tr>\n",
       "      <th>B</th>\n",
       "      <td>7.062090854989089 %</td>\n",
       "    </tr>\n",
       "    <tr>\n",
       "      <th>C</th>\n",
       "      <td>8.482504833780329 %</td>\n",
       "    </tr>\n",
       "    <tr>\n",
       "      <th>D</th>\n",
       "      <td>6.0 %</td>\n",
       "    </tr>\n",
       "    <tr>\n",
       "      <th>E</th>\n",
       "      <td>9.090909090909092 %</td>\n",
       "    </tr>\n",
       "  </tbody>\n",
       "</table>\n",
       "</div>"
      ],
      "text/plain": [
       "                                      debt\n",
       "                                      mean\n",
       "total_income_category                     \n",
       "A                                    8.0 %\n",
       "B                      7.062090854989089 %\n",
       "C                      8.482504833780329 %\n",
       "D                                    6.0 %\n",
       "E                      9.090909090909092 %"
      ]
     },
     "execution_count": 84,
     "metadata": {},
     "output_type": "execute_result"
    }
   ],
   "source": [
    "pivot_total_income = data.pivot_table(index='total_income_category', aggfunc ={'debt': ['mean']})  # creating a pivot table\n",
    "pivot_total_income['debt'] = (pivot_total_income['debt']*100).astype(str).add(' %')  # transforming in % the debtor's share\n",
    "pivot_total_income.head(10)  # displaying the result"
   ]
  },
  {
   "cell_type": "markdown",
   "id": "fbf6b51b",
   "metadata": {},
   "source": [
    "And finally, let's analyze whether the purpose of obtaining a loan by a potential borrower affects the loan repayment on time:\n"
   ]
  },
  {
   "cell_type": "code",
   "execution_count": 85,
   "id": "c29328bf",
   "metadata": {},
   "outputs": [
    {
     "data": {
      "text/html": [
       "<div>\n",
       "<style scoped>\n",
       "    .dataframe tbody tr th:only-of-type {\n",
       "        vertical-align: middle;\n",
       "    }\n",
       "\n",
       "    .dataframe tbody tr th {\n",
       "        vertical-align: top;\n",
       "    }\n",
       "\n",
       "    .dataframe thead tr th {\n",
       "        text-align: left;\n",
       "    }\n",
       "\n",
       "    .dataframe thead tr:last-of-type th {\n",
       "        text-align: right;\n",
       "    }\n",
       "</style>\n",
       "<table border=\"1\" class=\"dataframe\">\n",
       "  <thead>\n",
       "    <tr>\n",
       "      <th></th>\n",
       "      <th>debt</th>\n",
       "    </tr>\n",
       "    <tr>\n",
       "      <th></th>\n",
       "      <th>mean</th>\n",
       "    </tr>\n",
       "    <tr>\n",
       "      <th>purpose_category</th>\n",
       "      <th></th>\n",
       "    </tr>\n",
       "  </thead>\n",
       "  <tbody>\n",
       "    <tr>\n",
       "      <th>education purposes</th>\n",
       "      <td>9.217737917289487 %</td>\n",
       "    </tr>\n",
       "    <tr>\n",
       "      <th>purchase of a vehicle</th>\n",
       "      <td>9.35468895078923 %</td>\n",
       "    </tr>\n",
       "    <tr>\n",
       "      <th>real estate activities</th>\n",
       "      <td>7.231366746809691 %</td>\n",
       "    </tr>\n",
       "    <tr>\n",
       "      <th>wedding arrangements</th>\n",
       "      <td>7.965738758029979 %</td>\n",
       "    </tr>\n",
       "  </tbody>\n",
       "</table>\n",
       "</div>"
      ],
      "text/plain": [
       "                                       debt\n",
       "                                       mean\n",
       "purpose_category                           \n",
       "education purposes      9.217737917289487 %\n",
       "purchase of a vehicle    9.35468895078923 %\n",
       "real estate activities  7.231366746809691 %\n",
       "wedding arrangements    7.965738758029979 %"
      ]
     },
     "execution_count": 85,
     "metadata": {},
     "output_type": "execute_result"
    }
   ],
   "source": [
    "pivot_purpose = data.pivot_table(index='purpose_category', aggfunc ={'debt': ['mean']})  # creating a pivot table\n",
    "pivot_purpose['debt'] = (pivot_purpose['debt']*100).astype(str).add(' %')  # transforming in % the debtor's share\n",
    "pivot_purpose.head(10)  # displaying the result"
   ]
  },
  {
   "cell_type": "markdown",
   "id": "63eddf8e",
   "metadata": {},
   "source": [
    "**Conclusions**\n",
    "\n",
    "After having analyzed the pivot tables, we noticed that the number of debtors in each of the groups categories is approximately the same:\n",
    "* in the pivot table by marital status, this category ranges from 6-9%\n",
    "* in the pivot table by the number of children in a family it is 8-11%, excluding families with 5 children, where it is equal to 0%, but the number of observations in this category is too small (9) to affect the overall trend\n",
    "* in the pivot table by income level, it also varies from 6 to 9%\n",
    "* in the pivot table by  the purpose of obtaining a loan, the range is 7-9%\n",
    "\n",
    "**The above data allow us to state that none of the 4 hypotheses has been confirmed.**\n",
    "**Выводы**\n",
    "\n",
    "\n"
   ]
  },
  {
   "cell_type": "markdown",
   "id": "e2fd5632",
   "metadata": {},
   "source": [
    "## Study Results\n",
    "We tested four hypotheses and found that:\n",
    "\n",
    "1. the marital status of a potential borrower does not affect the repayment of the loan on time\n",
    "2. the number of children in the family of a potential borrower does not affect the repayment of the loan on time\n",
    "3. the income level of a potential borrower does not affect the repayment of the loan on time\n",
    "4. the purpose of obtaining a loan by a potential borrower does not affect the repayment of the loan on time\n",
    "\n",
    "Thus, none of the hypotheses was confirmed.\n",
    "\n",
    "In each category of the metrics we are interested in, the range of the ratio of debtors against the total number of clients in the category amounted to a maximum of 3%. In addition, the number of observations in each category is not the same, for this reason it is logical to assume that a small difference is natural and acceptable.\n",
    "\n",
    "With regard to the practical application of this study, statistical data from only one bank is unlikely to be sufficient to build a general scoring model. In addition, it is likely that the behavior of customers will change if the bank changes the conditions for issuing loans.\n"
   ]
  }
 ],
 "metadata": {
  "ExecuteTimeLog": [
   {
    "duration": 667,
    "start_time": "2022-03-08T15:34:14.246Z"
   },
   {
    "duration": 44,
    "start_time": "2022-03-08T15:34:38.925Z"
   },
   {
    "duration": 40,
    "start_time": "2022-03-08T15:34:39.882Z"
   },
   {
    "duration": 55,
    "start_time": "2022-03-08T15:34:49.258Z"
   },
   {
    "duration": 55,
    "start_time": "2022-03-08T15:35:23.556Z"
   },
   {
    "duration": 17,
    "start_time": "2022-03-08T15:46:17.513Z"
   },
   {
    "duration": 14,
    "start_time": "2022-03-08T15:46:52.976Z"
   },
   {
    "duration": 56,
    "start_time": "2022-03-08T15:49:44.344Z"
   },
   {
    "duration": 31,
    "start_time": "2022-03-08T15:52:03.568Z"
   },
   {
    "duration": 21,
    "start_time": "2022-03-08T15:55:13.609Z"
   },
   {
    "duration": 15,
    "start_time": "2022-03-08T15:55:29.176Z"
   },
   {
    "duration": 13,
    "start_time": "2022-03-08T15:55:39.020Z"
   },
   {
    "duration": 12,
    "start_time": "2022-03-08T15:55:54.155Z"
   },
   {
    "duration": 32,
    "start_time": "2022-03-08T16:03:58.644Z"
   },
   {
    "duration": 13,
    "start_time": "2022-03-08T16:05:29.577Z"
   },
   {
    "duration": 357,
    "start_time": "2022-03-08T16:08:53.653Z"
   },
   {
    "duration": 28,
    "start_time": "2022-03-08T16:09:22.196Z"
   },
   {
    "duration": 245,
    "start_time": "2022-03-08T16:10:05.863Z"
   },
   {
    "duration": 26,
    "start_time": "2022-03-08T16:10:21.729Z"
   },
   {
    "duration": 24,
    "start_time": "2022-03-08T16:11:28.314Z"
   },
   {
    "duration": 15,
    "start_time": "2022-03-08T16:13:46.039Z"
   },
   {
    "duration": 22,
    "start_time": "2022-03-08T16:20:36.997Z"
   },
   {
    "duration": 22,
    "start_time": "2022-03-08T16:21:00.502Z"
   },
   {
    "duration": 20,
    "start_time": "2022-03-08T16:21:11.356Z"
   },
   {
    "duration": 21,
    "start_time": "2022-03-08T16:22:44.768Z"
   },
   {
    "duration": 18,
    "start_time": "2022-03-08T16:23:04.185Z"
   },
   {
    "duration": 61,
    "start_time": "2022-03-08T16:23:16.270Z"
   },
   {
    "duration": 20,
    "start_time": "2022-03-08T16:23:16.333Z"
   },
   {
    "duration": 10,
    "start_time": "2022-03-08T16:27:47.184Z"
   },
   {
    "duration": 10,
    "start_time": "2022-03-08T16:27:48.569Z"
   },
   {
    "duration": 23,
    "start_time": "2022-03-08T16:31:29.349Z"
   },
   {
    "duration": 29,
    "start_time": "2022-03-08T16:40:11.762Z"
   },
   {
    "duration": 13,
    "start_time": "2022-03-08T16:43:03.827Z"
   },
   {
    "duration": 16,
    "start_time": "2022-03-08T16:50:12.822Z"
   },
   {
    "duration": 12,
    "start_time": "2022-03-08T16:51:08.365Z"
   },
   {
    "duration": 15,
    "start_time": "2022-03-08T16:55:50.479Z"
   },
   {
    "duration": 25,
    "start_time": "2022-03-08T16:56:45.138Z"
   },
   {
    "duration": 37,
    "start_time": "2022-03-08T16:56:52.361Z"
   },
   {
    "duration": 41,
    "start_time": "2022-03-08T16:58:09.738Z"
   },
   {
    "duration": 4526,
    "start_time": "2022-03-08T17:00:42.767Z"
   },
   {
    "duration": 4486,
    "start_time": "2022-03-08T17:02:59.102Z"
   },
   {
    "duration": 58,
    "start_time": "2022-03-08T17:03:32.191Z"
   },
   {
    "duration": 62,
    "start_time": "2022-03-08T17:09:27.759Z"
   },
   {
    "duration": 21,
    "start_time": "2022-03-08T17:09:27.824Z"
   },
   {
    "duration": 30,
    "start_time": "2022-03-08T17:09:27.979Z"
   },
   {
    "duration": 14,
    "start_time": "2022-03-08T17:09:28.012Z"
   },
   {
    "duration": 78,
    "start_time": "2022-03-08T17:09:28.028Z"
   },
   {
    "duration": 5,
    "start_time": "2022-03-08T17:13:58.107Z"
   },
   {
    "duration": 6,
    "start_time": "2022-03-08T17:14:05.436Z"
   },
   {
    "duration": 6,
    "start_time": "2022-03-08T17:14:22.178Z"
   },
   {
    "duration": 61,
    "start_time": "2022-03-08T17:14:46.655Z"
   },
   {
    "duration": 21,
    "start_time": "2022-03-08T17:14:46.718Z"
   },
   {
    "duration": 36,
    "start_time": "2022-03-08T17:14:46.741Z"
   },
   {
    "duration": 13,
    "start_time": "2022-03-08T17:14:46.778Z"
   },
   {
    "duration": 82,
    "start_time": "2022-03-08T17:14:46.813Z"
   },
   {
    "duration": 7,
    "start_time": "2022-03-08T17:14:46.898Z"
   },
   {
    "duration": 190,
    "start_time": "2022-03-08T17:15:14.389Z"
   },
   {
    "duration": 11,
    "start_time": "2022-03-08T17:15:23.488Z"
   },
   {
    "duration": 12,
    "start_time": "2022-03-08T17:15:54.694Z"
   },
   {
    "duration": 12,
    "start_time": "2022-03-08T17:16:03.402Z"
   },
   {
    "duration": 8,
    "start_time": "2022-03-08T17:16:51.157Z"
   },
   {
    "duration": 12,
    "start_time": "2022-03-08T17:17:44.640Z"
   },
   {
    "duration": 19,
    "start_time": "2022-03-08T17:20:44.148Z"
   },
   {
    "duration": 743,
    "start_time": "2022-03-09T07:35:42.722Z"
   },
   {
    "duration": 18,
    "start_time": "2022-03-09T07:35:43.467Z"
   },
   {
    "duration": 23,
    "start_time": "2022-03-09T07:35:43.486Z"
   },
   {
    "duration": 11,
    "start_time": "2022-03-09T07:35:43.510Z"
   },
   {
    "duration": 80,
    "start_time": "2022-03-09T07:35:43.522Z"
   },
   {
    "duration": 14,
    "start_time": "2022-03-09T07:35:43.603Z"
   },
   {
    "duration": 197,
    "start_time": "2022-03-09T07:35:43.619Z"
   },
   {
    "duration": 55,
    "start_time": "2022-03-09T07:35:56.589Z"
   },
   {
    "duration": 18,
    "start_time": "2022-03-09T07:35:56.645Z"
   },
   {
    "duration": 39,
    "start_time": "2022-03-09T07:35:56.665Z"
   },
   {
    "duration": 10,
    "start_time": "2022-03-09T07:35:56.706Z"
   },
   {
    "duration": 58,
    "start_time": "2022-03-09T07:35:56.718Z"
   },
   {
    "duration": 35,
    "start_time": "2022-03-09T07:35:56.777Z"
   },
   {
    "duration": 16,
    "start_time": "2022-03-09T07:35:56.814Z"
   },
   {
    "duration": 5,
    "start_time": "2022-03-09T08:00:43.756Z"
   },
   {
    "duration": 1428,
    "start_time": "2022-03-09T08:12:01.438Z"
   },
   {
    "duration": 149,
    "start_time": "2022-03-09T08:12:24.028Z"
   },
   {
    "duration": 162,
    "start_time": "2022-03-09T08:12:38.873Z"
   },
   {
    "duration": 157,
    "start_time": "2022-03-09T08:13:22.396Z"
   },
   {
    "duration": 161,
    "start_time": "2022-03-09T08:14:13.402Z"
   },
   {
    "duration": 66,
    "start_time": "2022-03-09T08:14:48.413Z"
   },
   {
    "duration": 19,
    "start_time": "2022-03-09T08:14:48.481Z"
   },
   {
    "duration": 25,
    "start_time": "2022-03-09T08:14:48.502Z"
   },
   {
    "duration": 12,
    "start_time": "2022-03-09T08:14:48.529Z"
   },
   {
    "duration": 83,
    "start_time": "2022-03-09T08:14:48.543Z"
   },
   {
    "duration": 14,
    "start_time": "2022-03-09T08:14:48.628Z"
   },
   {
    "duration": 25,
    "start_time": "2022-03-09T08:14:48.643Z"
   },
   {
    "duration": 201,
    "start_time": "2022-03-09T08:14:48.670Z"
   },
   {
    "duration": 1230,
    "start_time": "2022-03-09T08:15:41.094Z"
   },
   {
    "duration": 179,
    "start_time": "2022-03-09T08:23:47.339Z"
   },
   {
    "duration": 19,
    "start_time": "2022-03-09T08:25:32.427Z"
   },
   {
    "duration": 19,
    "start_time": "2022-03-09T08:25:57.332Z"
   },
   {
    "duration": 331,
    "start_time": "2022-03-09T09:38:33.598Z"
   },
   {
    "duration": 293,
    "start_time": "2022-03-09T09:38:43.072Z"
   },
   {
    "duration": 16,
    "start_time": "2022-03-09T09:38:59.531Z"
   },
   {
    "duration": 15,
    "start_time": "2022-03-09T09:39:02.904Z"
   },
   {
    "duration": 25,
    "start_time": "2022-03-09T09:39:24.812Z"
   },
   {
    "duration": 11,
    "start_time": "2022-03-09T09:42:07.475Z"
   },
   {
    "duration": 93,
    "start_time": "2022-03-09T09:42:24.726Z"
   },
   {
    "duration": 761,
    "start_time": "2022-03-09T09:42:34.730Z"
   },
   {
    "duration": 769,
    "start_time": "2022-03-09T09:42:47.259Z"
   },
   {
    "duration": 814,
    "start_time": "2022-03-09T09:43:02.898Z"
   },
   {
    "duration": 295,
    "start_time": "2022-03-09T09:43:25.199Z"
   },
   {
    "duration": 35,
    "start_time": "2022-03-09T09:43:38.341Z"
   },
   {
    "duration": 11,
    "start_time": "2022-03-09T09:48:54.516Z"
   },
   {
    "duration": 11,
    "start_time": "2022-03-09T09:49:05.247Z"
   },
   {
    "duration": 23,
    "start_time": "2022-03-09T09:49:26.359Z"
   },
   {
    "duration": 12,
    "start_time": "2022-03-09T09:51:52.412Z"
   },
   {
    "duration": 12,
    "start_time": "2022-03-09T09:52:02.595Z"
   },
   {
    "duration": 105,
    "start_time": "2022-03-09T09:52:51.862Z"
   },
   {
    "duration": 308,
    "start_time": "2022-03-09T09:53:01.865Z"
   },
   {
    "duration": 13,
    "start_time": "2022-03-09T09:54:14.933Z"
   },
   {
    "duration": 7454,
    "start_time": "2022-03-09T09:58:38.132Z"
   },
   {
    "duration": 78,
    "start_time": "2022-03-09T09:59:05.667Z"
   },
   {
    "duration": 26,
    "start_time": "2022-03-09T09:59:05.747Z"
   },
   {
    "duration": 36,
    "start_time": "2022-03-09T09:59:05.775Z"
   },
   {
    "duration": 12,
    "start_time": "2022-03-09T09:59:05.812Z"
   },
   {
    "duration": 86,
    "start_time": "2022-03-09T09:59:05.825Z"
   },
   {
    "duration": 16,
    "start_time": "2022-03-09T09:59:05.913Z"
   },
   {
    "duration": 18,
    "start_time": "2022-03-09T09:59:05.930Z"
   },
   {
    "duration": 50,
    "start_time": "2022-03-09T09:59:05.951Z"
   },
   {
    "duration": 11,
    "start_time": "2022-03-09T09:59:06.003Z"
   },
   {
    "duration": 33,
    "start_time": "2022-03-09T10:00:09.487Z"
   },
   {
    "duration": 119,
    "start_time": "2022-03-09T10:03:33.655Z"
   },
   {
    "duration": 18,
    "start_time": "2022-03-09T10:03:40.220Z"
   },
   {
    "duration": 17,
    "start_time": "2022-03-09T10:04:35.617Z"
   },
   {
    "duration": 28,
    "start_time": "2022-03-09T10:14:33.587Z"
   },
   {
    "duration": 40,
    "start_time": "2022-03-09T10:15:53.935Z"
   },
   {
    "duration": 60,
    "start_time": "2022-03-09T10:17:04.751Z"
   },
   {
    "duration": 57,
    "start_time": "2022-03-09T10:24:01.931Z"
   },
   {
    "duration": 137,
    "start_time": "2022-03-09T10:26:10.605Z"
   },
   {
    "duration": 69,
    "start_time": "2022-03-09T10:26:25.196Z"
   },
   {
    "duration": 58,
    "start_time": "2022-03-09T10:26:47.064Z"
   },
   {
    "duration": 61,
    "start_time": "2022-03-09T10:29:04.203Z"
   },
   {
    "duration": 58,
    "start_time": "2022-03-09T10:29:58.009Z"
   },
   {
    "duration": 60,
    "start_time": "2022-03-09T10:32:55.491Z"
   },
   {
    "duration": 7545,
    "start_time": "2022-03-09T10:43:37.987Z"
   },
   {
    "duration": 56,
    "start_time": "2022-03-09T10:44:08.219Z"
   },
   {
    "duration": 17,
    "start_time": "2022-03-09T10:44:08.277Z"
   },
   {
    "duration": 25,
    "start_time": "2022-03-09T10:44:08.296Z"
   },
   {
    "duration": 11,
    "start_time": "2022-03-09T10:44:08.323Z"
   },
   {
    "duration": 88,
    "start_time": "2022-03-09T10:44:08.336Z"
   },
   {
    "duration": 15,
    "start_time": "2022-03-09T10:44:08.425Z"
   },
   {
    "duration": 20,
    "start_time": "2022-03-09T10:44:08.442Z"
   },
   {
    "duration": 48,
    "start_time": "2022-03-09T10:44:08.464Z"
   },
   {
    "duration": 90,
    "start_time": "2022-03-09T10:44:08.514Z"
   },
   {
    "duration": 113,
    "start_time": "2022-03-09T10:57:53.322Z"
   },
   {
    "duration": 662,
    "start_time": "2022-03-09T15:12:32.045Z"
   },
   {
    "duration": 21,
    "start_time": "2022-03-09T15:21:47.294Z"
   },
   {
    "duration": 19,
    "start_time": "2022-03-09T15:27:57.697Z"
   },
   {
    "duration": 62,
    "start_time": "2022-03-09T15:28:05.579Z"
   },
   {
    "duration": 18,
    "start_time": "2022-03-09T15:28:05.643Z"
   },
   {
    "duration": 28,
    "start_time": "2022-03-09T15:28:05.663Z"
   },
   {
    "duration": 11,
    "start_time": "2022-03-09T15:28:05.693Z"
   },
   {
    "duration": 100,
    "start_time": "2022-03-09T15:28:05.706Z"
   },
   {
    "duration": 37,
    "start_time": "2022-03-09T15:28:05.808Z"
   },
   {
    "duration": 20,
    "start_time": "2022-03-09T15:28:05.847Z"
   },
   {
    "duration": 20,
    "start_time": "2022-03-09T15:28:05.869Z"
   },
   {
    "duration": 99,
    "start_time": "2022-03-09T15:28:05.891Z"
   },
   {
    "duration": 62,
    "start_time": "2022-03-09T16:02:55.436Z"
   },
   {
    "duration": 54,
    "start_time": "2022-03-09T16:09:56.757Z"
   },
   {
    "duration": 55,
    "start_time": "2022-03-09T16:10:23.085Z"
   },
   {
    "duration": 64,
    "start_time": "2022-03-09T16:10:45.660Z"
   },
   {
    "duration": 62,
    "start_time": "2022-03-09T16:10:54.414Z"
   },
   {
    "duration": 49,
    "start_time": "2022-03-09T16:11:12.138Z"
   },
   {
    "duration": 53,
    "start_time": "2022-03-09T16:11:26.730Z"
   },
   {
    "duration": 69,
    "start_time": "2022-03-09T16:13:02.845Z"
   },
   {
    "duration": 52,
    "start_time": "2022-03-09T16:14:43.797Z"
   },
   {
    "duration": 56,
    "start_time": "2022-03-09T16:15:18.751Z"
   },
   {
    "duration": 50,
    "start_time": "2022-03-09T16:15:30.432Z"
   },
   {
    "duration": 51,
    "start_time": "2022-03-09T16:15:35.276Z"
   },
   {
    "duration": 281,
    "start_time": "2022-03-09T16:16:57.235Z"
   },
   {
    "duration": 48,
    "start_time": "2022-03-09T16:17:04.936Z"
   },
   {
    "duration": 67,
    "start_time": "2022-03-09T16:17:34.450Z"
   },
   {
    "duration": 105,
    "start_time": "2022-03-09T16:43:34.459Z"
   },
   {
    "duration": 15,
    "start_time": "2022-03-09T16:53:12.332Z"
   },
   {
    "duration": 9,
    "start_time": "2022-03-09T16:56:23.830Z"
   },
   {
    "duration": 21,
    "start_time": "2022-03-09T17:07:16.034Z"
   },
   {
    "duration": 58,
    "start_time": "2022-03-09T17:20:04.571Z"
   },
   {
    "duration": 205,
    "start_time": "2022-03-09T17:28:10.818Z"
   },
   {
    "duration": 60,
    "start_time": "2022-03-09T17:28:37.253Z"
   },
   {
    "duration": 14,
    "start_time": "2022-03-09T17:28:37.314Z"
   },
   {
    "duration": 8,
    "start_time": "2022-03-09T17:28:37.330Z"
   },
   {
    "duration": 20,
    "start_time": "2022-03-09T17:28:37.340Z"
   },
   {
    "duration": 16,
    "start_time": "2022-03-09T17:28:37.361Z"
   },
   {
    "duration": 98,
    "start_time": "2022-03-09T17:28:37.379Z"
   },
   {
    "duration": 16,
    "start_time": "2022-03-09T17:28:37.479Z"
   },
   {
    "duration": 49,
    "start_time": "2022-03-09T17:28:37.497Z"
   },
   {
    "duration": 22,
    "start_time": "2022-03-09T17:28:37.548Z"
   },
   {
    "duration": 93,
    "start_time": "2022-03-09T17:28:37.571Z"
   },
   {
    "duration": 654,
    "start_time": "2022-03-10T08:27:02.883Z"
   },
   {
    "duration": 14,
    "start_time": "2022-03-10T08:27:03.538Z"
   },
   {
    "duration": 10,
    "start_time": "2022-03-10T08:27:03.554Z"
   },
   {
    "duration": 36,
    "start_time": "2022-03-10T08:27:03.566Z"
   },
   {
    "duration": 17,
    "start_time": "2022-03-10T08:27:03.603Z"
   },
   {
    "duration": 96,
    "start_time": "2022-03-10T08:27:03.622Z"
   },
   {
    "duration": 14,
    "start_time": "2022-03-10T08:27:03.720Z"
   },
   {
    "duration": 14,
    "start_time": "2022-03-10T08:27:03.736Z"
   },
   {
    "duration": 19,
    "start_time": "2022-03-10T08:27:03.751Z"
   },
   {
    "duration": 438,
    "start_time": "2022-03-10T08:27:03.771Z"
   },
   {
    "duration": 96,
    "start_time": "2022-03-10T08:27:53.724Z"
   },
   {
    "duration": 15,
    "start_time": "2022-03-10T08:28:19.883Z"
   },
   {
    "duration": 21,
    "start_time": "2022-03-10T08:29:21.248Z"
   },
   {
    "duration": 14,
    "start_time": "2022-03-10T08:29:37.885Z"
   },
   {
    "duration": 21,
    "start_time": "2022-03-10T08:33:12.109Z"
   },
   {
    "duration": 7446,
    "start_time": "2022-03-10T08:47:53.539Z"
   },
   {
    "duration": 34,
    "start_time": "2022-03-10T08:55:56.335Z"
   },
   {
    "duration": 63,
    "start_time": "2022-03-10T08:56:03.508Z"
   },
   {
    "duration": 12,
    "start_time": "2022-03-10T08:56:03.573Z"
   },
   {
    "duration": 8,
    "start_time": "2022-03-10T08:56:03.587Z"
   },
   {
    "duration": 18,
    "start_time": "2022-03-10T08:56:03.624Z"
   },
   {
    "duration": 16,
    "start_time": "2022-03-10T08:56:03.644Z"
   },
   {
    "duration": 32,
    "start_time": "2022-03-10T08:56:03.662Z"
   },
   {
    "duration": 37,
    "start_time": "2022-03-10T08:56:03.696Z"
   },
   {
    "duration": 14,
    "start_time": "2022-03-10T08:56:03.734Z"
   },
   {
    "duration": 21,
    "start_time": "2022-03-10T08:56:03.749Z"
   },
   {
    "duration": 45,
    "start_time": "2022-03-10T08:56:03.771Z"
   },
   {
    "duration": 63,
    "start_time": "2022-03-10T08:56:03.818Z"
   },
   {
    "duration": 7627,
    "start_time": "2022-03-10T08:57:53.559Z"
   },
   {
    "duration": 43,
    "start_time": "2022-03-10T08:59:08.955Z"
   },
   {
    "duration": 62,
    "start_time": "2022-03-10T08:59:18.078Z"
   },
   {
    "duration": 11,
    "start_time": "2022-03-10T08:59:18.142Z"
   },
   {
    "duration": 7,
    "start_time": "2022-03-10T08:59:18.155Z"
   },
   {
    "duration": 39,
    "start_time": "2022-03-10T08:59:18.163Z"
   },
   {
    "duration": 22,
    "start_time": "2022-03-10T08:59:18.204Z"
   },
   {
    "duration": 36,
    "start_time": "2022-03-10T08:59:18.228Z"
   },
   {
    "duration": 59,
    "start_time": "2022-03-10T08:59:18.266Z"
   },
   {
    "duration": 13,
    "start_time": "2022-03-10T08:59:18.326Z"
   },
   {
    "duration": 17,
    "start_time": "2022-03-10T08:59:18.341Z"
   },
   {
    "duration": 52,
    "start_time": "2022-03-10T08:59:18.359Z"
   },
   {
    "duration": 62,
    "start_time": "2022-03-10T08:59:18.413Z"
   },
   {
    "duration": 42,
    "start_time": "2022-03-10T08:59:39.434Z"
   },
   {
    "duration": 11,
    "start_time": "2022-03-10T09:00:23.840Z"
   },
   {
    "duration": 21,
    "start_time": "2022-03-10T09:00:34.992Z"
   },
   {
    "duration": 54,
    "start_time": "2022-03-10T09:00:42.400Z"
   },
   {
    "duration": 12,
    "start_time": "2022-03-10T09:00:42.455Z"
   },
   {
    "duration": 7,
    "start_time": "2022-03-10T09:00:42.469Z"
   },
   {
    "duration": 26,
    "start_time": "2022-03-10T09:00:42.478Z"
   },
   {
    "duration": 16,
    "start_time": "2022-03-10T09:00:42.520Z"
   },
   {
    "duration": 21,
    "start_time": "2022-03-10T09:00:42.538Z"
   },
   {
    "duration": 54,
    "start_time": "2022-03-10T09:00:42.561Z"
   },
   {
    "duration": 15,
    "start_time": "2022-03-10T09:00:42.616Z"
   },
   {
    "duration": 18,
    "start_time": "2022-03-10T09:00:42.639Z"
   },
   {
    "duration": 24,
    "start_time": "2022-03-10T09:00:42.659Z"
   },
   {
    "duration": 65,
    "start_time": "2022-03-10T09:00:42.701Z"
   },
   {
    "duration": 36,
    "start_time": "2022-03-10T09:03:05.606Z"
   },
   {
    "duration": 33,
    "start_time": "2022-03-10T09:03:11.342Z"
   },
   {
    "duration": 66,
    "start_time": "2022-03-10T09:03:20.741Z"
   },
   {
    "duration": 14,
    "start_time": "2022-03-10T09:03:20.808Z"
   },
   {
    "duration": 8,
    "start_time": "2022-03-10T09:03:20.824Z"
   },
   {
    "duration": 19,
    "start_time": "2022-03-10T09:03:20.833Z"
   },
   {
    "duration": 17,
    "start_time": "2022-03-10T09:03:20.948Z"
   },
   {
    "duration": 34,
    "start_time": "2022-03-10T09:03:20.967Z"
   },
   {
    "duration": 36,
    "start_time": "2022-03-10T09:03:21.003Z"
   },
   {
    "duration": 15,
    "start_time": "2022-03-10T09:03:21.041Z"
   },
   {
    "duration": 49,
    "start_time": "2022-03-10T09:03:21.057Z"
   },
   {
    "duration": 21,
    "start_time": "2022-03-10T09:03:21.159Z"
   },
   {
    "duration": 62,
    "start_time": "2022-03-10T09:03:21.182Z"
   },
   {
    "duration": 40,
    "start_time": "2022-03-10T09:03:36.919Z"
   },
   {
    "duration": 38,
    "start_time": "2022-03-10T09:05:40.182Z"
   },
   {
    "duration": 67,
    "start_time": "2022-03-10T09:05:46.306Z"
   },
   {
    "duration": 13,
    "start_time": "2022-03-10T09:05:46.375Z"
   },
   {
    "duration": 7,
    "start_time": "2022-03-10T09:05:46.390Z"
   },
   {
    "duration": 20,
    "start_time": "2022-03-10T09:05:46.399Z"
   },
   {
    "duration": 17,
    "start_time": "2022-03-10T09:05:46.459Z"
   },
   {
    "duration": 40,
    "start_time": "2022-03-10T09:05:46.478Z"
   },
   {
    "duration": 38,
    "start_time": "2022-03-10T09:05:46.519Z"
   },
   {
    "duration": 15,
    "start_time": "2022-03-10T09:05:46.559Z"
   },
   {
    "duration": 19,
    "start_time": "2022-03-10T09:05:46.602Z"
   },
   {
    "duration": 23,
    "start_time": "2022-03-10T09:05:46.623Z"
   },
   {
    "duration": 98,
    "start_time": "2022-03-10T09:05:46.647Z"
   },
   {
    "duration": 67,
    "start_time": "2022-03-10T09:06:29.540Z"
   },
   {
    "duration": 12,
    "start_time": "2022-03-10T09:06:29.609Z"
   },
   {
    "duration": 7,
    "start_time": "2022-03-10T09:06:29.623Z"
   },
   {
    "duration": 19,
    "start_time": "2022-03-10T09:06:29.631Z"
   },
   {
    "duration": 17,
    "start_time": "2022-03-10T09:06:29.656Z"
   },
   {
    "duration": 60,
    "start_time": "2022-03-10T09:06:29.675Z"
   },
   {
    "duration": 35,
    "start_time": "2022-03-10T09:06:29.737Z"
   },
   {
    "duration": 14,
    "start_time": "2022-03-10T09:06:29.802Z"
   },
   {
    "duration": 21,
    "start_time": "2022-03-10T09:06:29.818Z"
   },
   {
    "duration": 19,
    "start_time": "2022-03-10T09:06:29.840Z"
   },
   {
    "duration": 82,
    "start_time": "2022-03-10T09:06:29.861Z"
   },
   {
    "duration": 55,
    "start_time": "2022-03-10T09:19:54.396Z"
   },
   {
    "duration": 13,
    "start_time": "2022-03-10T09:19:54.452Z"
   },
   {
    "duration": 9,
    "start_time": "2022-03-10T09:19:54.467Z"
   },
   {
    "duration": 35,
    "start_time": "2022-03-10T09:19:54.478Z"
   },
   {
    "duration": 15,
    "start_time": "2022-03-10T09:19:54.514Z"
   },
   {
    "duration": 34,
    "start_time": "2022-03-10T09:19:54.560Z"
   },
   {
    "duration": 38,
    "start_time": "2022-03-10T09:19:54.596Z"
   },
   {
    "duration": 16,
    "start_time": "2022-03-10T09:19:54.636Z"
   },
   {
    "duration": 21,
    "start_time": "2022-03-10T09:19:54.654Z"
   },
   {
    "duration": 20,
    "start_time": "2022-03-10T09:19:54.701Z"
   },
   {
    "duration": 80,
    "start_time": "2022-03-10T09:19:54.722Z"
   },
   {
    "duration": 67,
    "start_time": "2022-03-10T09:37:12.942Z"
   },
   {
    "duration": 12,
    "start_time": "2022-03-10T09:37:13.010Z"
   },
   {
    "duration": 8,
    "start_time": "2022-03-10T09:37:13.024Z"
   },
   {
    "duration": 18,
    "start_time": "2022-03-10T09:37:13.034Z"
   },
   {
    "duration": 17,
    "start_time": "2022-03-10T09:37:13.054Z"
   },
   {
    "duration": 35,
    "start_time": "2022-03-10T09:37:13.101Z"
   },
   {
    "duration": 36,
    "start_time": "2022-03-10T09:37:13.138Z"
   },
   {
    "duration": 39,
    "start_time": "2022-03-10T09:37:13.175Z"
   },
   {
    "duration": 18,
    "start_time": "2022-03-10T09:37:13.215Z"
   },
   {
    "duration": 21,
    "start_time": "2022-03-10T09:37:13.235Z"
   },
   {
    "duration": 87,
    "start_time": "2022-03-10T09:37:13.257Z"
   },
   {
    "duration": 34,
    "start_time": "2022-03-10T09:38:26.476Z"
   },
   {
    "duration": 54,
    "start_time": "2022-03-10T09:38:37.038Z"
   },
   {
    "duration": 12,
    "start_time": "2022-03-10T09:38:37.094Z"
   },
   {
    "duration": 8,
    "start_time": "2022-03-10T09:38:37.108Z"
   },
   {
    "duration": 17,
    "start_time": "2022-03-10T09:38:37.117Z"
   },
   {
    "duration": 15,
    "start_time": "2022-03-10T09:38:37.136Z"
   },
   {
    "duration": 60,
    "start_time": "2022-03-10T09:38:37.152Z"
   },
   {
    "duration": 36,
    "start_time": "2022-03-10T09:38:37.214Z"
   },
   {
    "duration": 13,
    "start_time": "2022-03-10T09:38:37.252Z"
   },
   {
    "duration": 47,
    "start_time": "2022-03-10T09:38:37.267Z"
   },
   {
    "duration": 19,
    "start_time": "2022-03-10T09:38:37.315Z"
   },
   {
    "duration": 84,
    "start_time": "2022-03-10T09:38:37.335Z"
   },
   {
    "duration": 9130,
    "start_time": "2022-03-10T10:11:44.713Z"
   },
   {
    "duration": 7420,
    "start_time": "2022-03-10T10:12:59.840Z"
   },
   {
    "duration": 7390,
    "start_time": "2022-03-10T10:13:21.016Z"
   },
   {
    "duration": 57,
    "start_time": "2022-03-10T10:13:34.723Z"
   },
   {
    "duration": 13,
    "start_time": "2022-03-10T10:13:34.781Z"
   },
   {
    "duration": 8,
    "start_time": "2022-03-10T10:13:34.797Z"
   },
   {
    "duration": 21,
    "start_time": "2022-03-10T10:13:34.807Z"
   },
   {
    "duration": 18,
    "start_time": "2022-03-10T10:13:34.830Z"
   },
   {
    "duration": 66,
    "start_time": "2022-03-10T10:13:34.850Z"
   },
   {
    "duration": 20,
    "start_time": "2022-03-10T10:13:34.918Z"
   },
   {
    "duration": 18,
    "start_time": "2022-03-10T10:13:34.940Z"
   },
   {
    "duration": 50,
    "start_time": "2022-03-10T10:13:34.959Z"
   },
   {
    "duration": 20,
    "start_time": "2022-03-10T10:13:35.011Z"
   },
   {
    "duration": 22,
    "start_time": "2022-03-10T10:13:35.033Z"
   },
   {
    "duration": 93,
    "start_time": "2022-03-10T10:13:35.057Z"
   },
   {
    "duration": 7565,
    "start_time": "2022-03-10T10:17:16.919Z"
   },
   {
    "duration": 55,
    "start_time": "2022-03-10T10:17:28.836Z"
   },
   {
    "duration": 14,
    "start_time": "2022-03-10T10:17:28.893Z"
   },
   {
    "duration": 8,
    "start_time": "2022-03-10T10:17:28.909Z"
   },
   {
    "duration": 17,
    "start_time": "2022-03-10T10:17:28.919Z"
   },
   {
    "duration": 15,
    "start_time": "2022-03-10T10:17:28.938Z"
   },
   {
    "duration": 60,
    "start_time": "2022-03-10T10:17:28.955Z"
   },
   {
    "duration": 18,
    "start_time": "2022-03-10T10:17:29.017Z"
   },
   {
    "duration": 12,
    "start_time": "2022-03-10T10:17:29.037Z"
   },
   {
    "duration": 16,
    "start_time": "2022-03-10T10:17:29.050Z"
   },
   {
    "duration": 47,
    "start_time": "2022-03-10T10:17:29.067Z"
   },
   {
    "duration": 19,
    "start_time": "2022-03-10T10:17:29.115Z"
   },
   {
    "duration": 80,
    "start_time": "2022-03-10T10:17:29.136Z"
   },
   {
    "duration": 112,
    "start_time": "2022-03-10T10:22:35.630Z"
   },
   {
    "duration": 6,
    "start_time": "2022-03-10T10:23:09.778Z"
   },
   {
    "duration": 119,
    "start_time": "2022-03-10T10:26:51.322Z"
   },
   {
    "duration": 1899,
    "start_time": "2022-03-10T10:35:58.511Z"
   },
   {
    "duration": 5,
    "start_time": "2022-03-10T10:36:15.506Z"
   },
   {
    "duration": 4,
    "start_time": "2022-03-10T10:36:23.347Z"
   },
   {
    "duration": 6,
    "start_time": "2022-03-10T10:36:37.385Z"
   },
   {
    "duration": 6,
    "start_time": "2022-03-10T10:37:05.259Z"
   },
   {
    "duration": 286,
    "start_time": "2022-03-10T10:45:02.650Z"
   },
   {
    "duration": 56,
    "start_time": "2022-03-10T10:45:10.806Z"
   },
   {
    "duration": 17,
    "start_time": "2022-03-10T10:45:10.863Z"
   },
   {
    "duration": 21,
    "start_time": "2022-03-10T10:45:10.882Z"
   },
   {
    "duration": 19,
    "start_time": "2022-03-10T10:45:10.904Z"
   },
   {
    "duration": 16,
    "start_time": "2022-03-10T10:45:10.925Z"
   },
   {
    "duration": 60,
    "start_time": "2022-03-10T10:45:10.943Z"
   },
   {
    "duration": 22,
    "start_time": "2022-03-10T10:45:11.005Z"
   },
   {
    "duration": 19,
    "start_time": "2022-03-10T10:45:11.029Z"
   },
   {
    "duration": 8,
    "start_time": "2022-03-10T10:45:11.050Z"
   },
   {
    "duration": 43,
    "start_time": "2022-03-10T10:45:11.059Z"
   },
   {
    "duration": 295,
    "start_time": "2022-03-10T10:45:11.104Z"
   },
   {
    "duration": 209,
    "start_time": "2022-03-10T10:45:11.191Z"
   },
   {
    "duration": 203,
    "start_time": "2022-03-10T10:45:11.199Z"
   },
   {
    "duration": 200,
    "start_time": "2022-03-10T10:45:11.202Z"
   },
   {
    "duration": 198,
    "start_time": "2022-03-10T10:45:11.206Z"
   },
   {
    "duration": 17,
    "start_time": "2022-03-10T10:45:32.916Z"
   },
   {
    "duration": 16,
    "start_time": "2022-03-10T10:47:29.033Z"
   },
   {
    "duration": 7,
    "start_time": "2022-03-10T10:48:12.295Z"
   },
   {
    "duration": 5,
    "start_time": "2022-03-10T10:48:36.311Z"
   },
   {
    "duration": 17,
    "start_time": "2022-03-10T10:49:35.530Z"
   },
   {
    "duration": 16,
    "start_time": "2022-03-10T10:51:17.503Z"
   },
   {
    "duration": 66,
    "start_time": "2022-03-10T10:51:51.583Z"
   },
   {
    "duration": 13,
    "start_time": "2022-03-10T10:51:51.651Z"
   },
   {
    "duration": 8,
    "start_time": "2022-03-10T10:51:51.665Z"
   },
   {
    "duration": 40,
    "start_time": "2022-03-10T10:51:51.675Z"
   },
   {
    "duration": 18,
    "start_time": "2022-03-10T10:51:51.717Z"
   },
   {
    "duration": 34,
    "start_time": "2022-03-10T10:51:51.736Z"
   },
   {
    "duration": 40,
    "start_time": "2022-03-10T10:51:51.771Z"
   },
   {
    "duration": 13,
    "start_time": "2022-03-10T10:51:51.814Z"
   },
   {
    "duration": 8,
    "start_time": "2022-03-10T10:51:51.828Z"
   },
   {
    "duration": 6,
    "start_time": "2022-03-10T10:51:51.838Z"
   },
   {
    "duration": 16,
    "start_time": "2022-03-10T10:51:51.845Z"
   },
   {
    "duration": 52,
    "start_time": "2022-03-10T10:51:51.863Z"
   },
   {
    "duration": 19,
    "start_time": "2022-03-10T10:51:51.917Z"
   },
   {
    "duration": 1412,
    "start_time": "2022-03-10T10:51:51.938Z"
   },
   {
    "duration": 802,
    "start_time": "2022-03-10T10:51:52.550Z"
   },
   {
    "duration": 313,
    "start_time": "2022-03-10T10:58:20.314Z"
   },
   {
    "duration": 377,
    "start_time": "2022-03-10T10:59:24.818Z"
   },
   {
    "duration": 497,
    "start_time": "2022-03-10T11:01:11.493Z"
   },
   {
    "duration": 307,
    "start_time": "2022-03-10T11:04:16.854Z"
   },
   {
    "duration": 53,
    "start_time": "2022-03-10T11:04:25.089Z"
   },
   {
    "duration": 13,
    "start_time": "2022-03-10T11:04:25.144Z"
   },
   {
    "duration": 8,
    "start_time": "2022-03-10T11:04:25.158Z"
   },
   {
    "duration": 42,
    "start_time": "2022-03-10T11:04:25.168Z"
   },
   {
    "duration": 15,
    "start_time": "2022-03-10T11:04:25.211Z"
   },
   {
    "duration": 35,
    "start_time": "2022-03-10T11:04:25.227Z"
   },
   {
    "duration": 44,
    "start_time": "2022-03-10T11:04:25.264Z"
   },
   {
    "duration": 12,
    "start_time": "2022-03-10T11:04:25.310Z"
   },
   {
    "duration": 6,
    "start_time": "2022-03-10T11:04:25.324Z"
   },
   {
    "duration": 5,
    "start_time": "2022-03-10T11:04:25.332Z"
   },
   {
    "duration": 16,
    "start_time": "2022-03-10T11:04:25.339Z"
   },
   {
    "duration": 7,
    "start_time": "2022-03-10T11:04:25.357Z"
   },
   {
    "duration": 37,
    "start_time": "2022-03-10T11:04:25.366Z"
   },
   {
    "duration": 11,
    "start_time": "2022-03-10T11:04:25.404Z"
   },
   {
    "duration": 18,
    "start_time": "2022-03-10T11:04:25.416Z"
   },
   {
    "duration": 1375,
    "start_time": "2022-03-10T11:04:25.435Z"
   },
   {
    "duration": 864,
    "start_time": "2022-03-10T11:04:25.947Z"
   },
   {
    "duration": 93,
    "start_time": "2022-03-10T11:16:39.913Z"
   },
   {
    "duration": 53,
    "start_time": "2022-03-10T11:16:44.841Z"
   },
   {
    "duration": 13,
    "start_time": "2022-03-10T11:16:44.896Z"
   },
   {
    "duration": 8,
    "start_time": "2022-03-10T11:16:44.912Z"
   },
   {
    "duration": 19,
    "start_time": "2022-03-10T11:16:44.922Z"
   },
   {
    "duration": 17,
    "start_time": "2022-03-10T11:16:44.943Z"
   },
   {
    "duration": 73,
    "start_time": "2022-03-10T11:16:44.961Z"
   },
   {
    "duration": 16,
    "start_time": "2022-03-10T11:16:45.036Z"
   },
   {
    "duration": 12,
    "start_time": "2022-03-10T11:16:45.054Z"
   },
   {
    "duration": 8,
    "start_time": "2022-03-10T11:16:45.067Z"
   },
   {
    "duration": 5,
    "start_time": "2022-03-10T11:16:45.101Z"
   },
   {
    "duration": 17,
    "start_time": "2022-03-10T11:16:45.107Z"
   },
   {
    "duration": 10,
    "start_time": "2022-03-10T11:16:45.125Z"
   },
   {
    "duration": 129,
    "start_time": "2022-03-10T11:16:45.136Z"
   },
   {
    "duration": 727,
    "start_time": "2022-03-10T11:16:44.540Z"
   },
   {
    "duration": 724,
    "start_time": "2022-03-10T11:16:44.543Z"
   },
   {
    "duration": 724,
    "start_time": "2022-03-10T11:16:44.545Z"
   },
   {
    "duration": 678,
    "start_time": "2022-03-10T11:16:44.592Z"
   },
   {
    "duration": 55,
    "start_time": "2022-03-10T11:18:09.561Z"
   },
   {
    "duration": 12,
    "start_time": "2022-03-10T11:18:09.618Z"
   },
   {
    "duration": 33,
    "start_time": "2022-03-10T11:18:09.632Z"
   },
   {
    "duration": 31,
    "start_time": "2022-03-10T11:18:09.666Z"
   },
   {
    "duration": 14,
    "start_time": "2022-03-10T11:18:09.699Z"
   },
   {
    "duration": 50,
    "start_time": "2022-03-10T11:18:09.715Z"
   },
   {
    "duration": 14,
    "start_time": "2022-03-10T11:18:09.767Z"
   },
   {
    "duration": 23,
    "start_time": "2022-03-10T11:18:09.783Z"
   },
   {
    "duration": 20,
    "start_time": "2022-03-10T11:18:09.808Z"
   },
   {
    "duration": 26,
    "start_time": "2022-03-10T11:18:09.829Z"
   },
   {
    "duration": 23,
    "start_time": "2022-03-10T11:18:09.857Z"
   },
   {
    "duration": 20,
    "start_time": "2022-03-10T11:18:09.881Z"
   },
   {
    "duration": 24,
    "start_time": "2022-03-10T11:18:09.902Z"
   },
   {
    "duration": 28,
    "start_time": "2022-03-10T11:18:09.927Z"
   },
   {
    "duration": 38,
    "start_time": "2022-03-10T11:18:09.956Z"
   },
   {
    "duration": 1422,
    "start_time": "2022-03-10T11:18:09.995Z"
   },
   {
    "duration": 571,
    "start_time": "2022-03-10T11:18:10.847Z"
   },
   {
    "duration": 57,
    "start_time": "2022-03-10T11:21:22.602Z"
   },
   {
    "duration": 15,
    "start_time": "2022-03-10T11:21:22.661Z"
   },
   {
    "duration": 24,
    "start_time": "2022-03-10T11:21:22.678Z"
   },
   {
    "duration": 18,
    "start_time": "2022-03-10T11:21:22.704Z"
   },
   {
    "duration": 15,
    "start_time": "2022-03-10T11:21:22.724Z"
   },
   {
    "duration": 60,
    "start_time": "2022-03-10T11:21:22.741Z"
   },
   {
    "duration": 15,
    "start_time": "2022-03-10T11:21:22.803Z"
   },
   {
    "duration": 13,
    "start_time": "2022-03-10T11:21:22.820Z"
   },
   {
    "duration": 6,
    "start_time": "2022-03-10T11:21:22.835Z"
   },
   {
    "duration": 6,
    "start_time": "2022-03-10T11:21:22.842Z"
   },
   {
    "duration": 108,
    "start_time": "2022-03-10T11:21:22.849Z"
   },
   {
    "duration": 561,
    "start_time": "2022-03-10T11:21:22.397Z"
   },
   {
    "duration": 558,
    "start_time": "2022-03-10T11:21:22.401Z"
   },
   {
    "duration": 553,
    "start_time": "2022-03-10T11:21:22.407Z"
   },
   {
    "duration": 548,
    "start_time": "2022-03-10T11:21:22.413Z"
   },
   {
    "duration": 543,
    "start_time": "2022-03-10T11:21:22.418Z"
   },
   {
    "duration": 540,
    "start_time": "2022-03-10T11:21:22.422Z"
   },
   {
    "duration": 614,
    "start_time": "2022-03-10T14:37:18.510Z"
   },
   {
    "duration": 11,
    "start_time": "2022-03-10T14:37:19.126Z"
   },
   {
    "duration": 20,
    "start_time": "2022-03-10T14:37:19.139Z"
   },
   {
    "duration": 34,
    "start_time": "2022-03-10T14:37:19.160Z"
   },
   {
    "duration": 18,
    "start_time": "2022-03-10T14:37:19.195Z"
   },
   {
    "duration": 40,
    "start_time": "2022-03-10T14:37:19.214Z"
   },
   {
    "duration": 15,
    "start_time": "2022-03-10T14:37:19.255Z"
   },
   {
    "duration": 12,
    "start_time": "2022-03-10T14:37:19.272Z"
   },
   {
    "duration": 22,
    "start_time": "2022-03-10T14:37:19.285Z"
   },
   {
    "duration": 6,
    "start_time": "2022-03-10T14:37:19.308Z"
   },
   {
    "duration": 18,
    "start_time": "2022-03-10T14:37:19.315Z"
   },
   {
    "duration": 23,
    "start_time": "2022-03-10T14:37:19.334Z"
   },
   {
    "duration": 8,
    "start_time": "2022-03-10T14:37:19.359Z"
   },
   {
    "duration": 19,
    "start_time": "2022-03-10T14:37:19.369Z"
   },
   {
    "duration": 35,
    "start_time": "2022-03-10T14:37:19.390Z"
   },
   {
    "duration": 18,
    "start_time": "2022-03-10T14:37:19.426Z"
   },
   {
    "duration": 67,
    "start_time": "2022-03-10T14:37:19.445Z"
   },
   {
    "duration": 18,
    "start_time": "2022-03-10T15:11:59.861Z"
   },
   {
    "duration": 16,
    "start_time": "2022-03-10T15:27:35.044Z"
   },
   {
    "duration": 19,
    "start_time": "2022-03-10T15:28:00.673Z"
   },
   {
    "duration": 2,
    "start_time": "2022-03-10T15:34:52.303Z"
   },
   {
    "duration": 20,
    "start_time": "2022-03-10T15:48:28.040Z"
   },
   {
    "duration": 19,
    "start_time": "2022-03-10T15:50:22.324Z"
   },
   {
    "duration": 17,
    "start_time": "2022-03-10T15:52:16.317Z"
   },
   {
    "duration": 17,
    "start_time": "2022-03-10T15:52:26.782Z"
   },
   {
    "duration": 22,
    "start_time": "2022-03-10T15:53:10.174Z"
   },
   {
    "duration": 22,
    "start_time": "2022-03-10T15:55:13.200Z"
   },
   {
    "duration": 21,
    "start_time": "2022-03-10T15:55:31.274Z"
   },
   {
    "duration": 20,
    "start_time": "2022-03-10T15:59:32.039Z"
   },
   {
    "duration": 23,
    "start_time": "2022-03-10T16:03:12.247Z"
   },
   {
    "duration": 20,
    "start_time": "2022-03-10T16:05:49.466Z"
   },
   {
    "duration": 53,
    "start_time": "2022-03-10T16:46:42.478Z"
   },
   {
    "duration": 13,
    "start_time": "2022-03-10T16:46:42.533Z"
   },
   {
    "duration": 8,
    "start_time": "2022-03-10T16:46:42.586Z"
   },
   {
    "duration": 17,
    "start_time": "2022-03-10T16:46:42.597Z"
   },
   {
    "duration": 22,
    "start_time": "2022-03-10T16:46:42.706Z"
   },
   {
    "duration": 52,
    "start_time": "2022-03-10T16:46:42.730Z"
   },
   {
    "duration": 37,
    "start_time": "2022-03-10T16:46:42.784Z"
   },
   {
    "duration": 14,
    "start_time": "2022-03-10T16:46:42.823Z"
   },
   {
    "duration": 7,
    "start_time": "2022-03-10T16:46:42.838Z"
   },
   {
    "duration": 6,
    "start_time": "2022-03-10T16:46:42.847Z"
   },
   {
    "duration": 8,
    "start_time": "2022-03-10T16:46:42.854Z"
   },
   {
    "duration": 10,
    "start_time": "2022-03-10T16:46:42.905Z"
   },
   {
    "duration": 9,
    "start_time": "2022-03-10T16:46:42.916Z"
   },
   {
    "duration": 11,
    "start_time": "2022-03-10T16:46:42.927Z"
   },
   {
    "duration": 18,
    "start_time": "2022-03-10T16:46:42.945Z"
   },
   {
    "duration": 44,
    "start_time": "2022-03-10T16:46:42.964Z"
   },
   {
    "duration": 25,
    "start_time": "2022-03-10T16:46:43.010Z"
   },
   {
    "duration": 27,
    "start_time": "2022-03-10T16:46:43.037Z"
   },
   {
    "duration": 27,
    "start_time": "2022-03-10T16:46:43.126Z"
   },
   {
    "duration": 24,
    "start_time": "2022-03-10T16:46:43.155Z"
   },
   {
    "duration": 546,
    "start_time": "2022-03-10T16:53:19.384Z"
   },
   {
    "duration": 529,
    "start_time": "2022-03-10T16:53:19.402Z"
   },
   {
    "duration": 520,
    "start_time": "2022-03-10T16:53:19.411Z"
   },
   {
    "duration": 452,
    "start_time": "2022-03-10T16:53:19.480Z"
   },
   {
    "duration": 446,
    "start_time": "2022-03-10T16:53:19.487Z"
   },
   {
    "duration": 442,
    "start_time": "2022-03-10T16:53:19.492Z"
   },
   {
    "duration": 437,
    "start_time": "2022-03-10T16:53:19.498Z"
   },
   {
    "duration": 434,
    "start_time": "2022-03-10T16:53:19.502Z"
   },
   {
    "duration": 425,
    "start_time": "2022-03-10T16:53:19.512Z"
   },
   {
    "duration": 419,
    "start_time": "2022-03-10T16:53:19.520Z"
   },
   {
    "duration": 362,
    "start_time": "2022-03-10T16:53:19.578Z"
   },
   {
    "duration": 357,
    "start_time": "2022-03-10T16:53:19.583Z"
   },
   {
    "duration": 353,
    "start_time": "2022-03-10T16:53:19.589Z"
   },
   {
    "duration": 349,
    "start_time": "2022-03-10T16:53:19.593Z"
   },
   {
    "duration": 345,
    "start_time": "2022-03-10T16:53:19.598Z"
   },
   {
    "duration": 337,
    "start_time": "2022-03-10T16:53:19.607Z"
   },
   {
    "duration": 335,
    "start_time": "2022-03-10T16:53:19.610Z"
   },
   {
    "duration": 311,
    "start_time": "2022-03-10T16:53:19.635Z"
   },
   {
    "duration": 309,
    "start_time": "2022-03-10T16:53:19.638Z"
   },
   {
    "duration": 272,
    "start_time": "2022-03-10T16:53:19.676Z"
   },
   {
    "duration": 7425,
    "start_time": "2022-03-10T16:53:33.729Z"
   },
   {
    "duration": 83,
    "start_time": "2022-03-10T16:53:47.950Z"
   },
   {
    "duration": 18,
    "start_time": "2022-03-10T16:53:48.035Z"
   },
   {
    "duration": 9,
    "start_time": "2022-03-10T16:53:48.055Z"
   },
   {
    "duration": 43,
    "start_time": "2022-03-10T16:53:48.066Z"
   },
   {
    "duration": 22,
    "start_time": "2022-03-10T16:53:48.111Z"
   },
   {
    "duration": 51,
    "start_time": "2022-03-10T16:53:48.134Z"
   },
   {
    "duration": 21,
    "start_time": "2022-03-10T16:53:48.205Z"
   },
   {
    "duration": 21,
    "start_time": "2022-03-10T16:53:48.228Z"
   },
   {
    "duration": 6,
    "start_time": "2022-03-10T16:53:48.251Z"
   },
   {
    "duration": 8,
    "start_time": "2022-03-10T16:53:48.258Z"
   },
   {
    "duration": 42,
    "start_time": "2022-03-10T16:53:48.267Z"
   },
   {
    "duration": 11,
    "start_time": "2022-03-10T16:53:48.310Z"
   },
   {
    "duration": 10,
    "start_time": "2022-03-10T16:53:48.322Z"
   },
   {
    "duration": 12,
    "start_time": "2022-03-10T16:53:48.333Z"
   },
   {
    "duration": 20,
    "start_time": "2022-03-10T16:53:48.347Z"
   },
   {
    "duration": 37,
    "start_time": "2022-03-10T16:53:48.369Z"
   },
   {
    "duration": 21,
    "start_time": "2022-03-10T16:53:48.408Z"
   },
   {
    "duration": 20,
    "start_time": "2022-03-10T16:53:48.430Z"
   },
   {
    "duration": 17,
    "start_time": "2022-03-10T16:53:48.451Z"
   },
   {
    "duration": 45,
    "start_time": "2022-03-10T16:53:48.469Z"
   },
   {
    "duration": 8,
    "start_time": "2022-03-10T16:55:29.550Z"
   },
   {
    "duration": 33,
    "start_time": "2022-03-10T16:59:58.368Z"
   },
   {
    "duration": 7303,
    "start_time": "2022-03-10T17:01:36.131Z"
   },
   {
    "duration": 59,
    "start_time": "2022-03-10T17:01:50.954Z"
   },
   {
    "duration": 15,
    "start_time": "2022-03-10T17:01:51.015Z"
   },
   {
    "duration": 9,
    "start_time": "2022-03-10T17:01:51.032Z"
   },
   {
    "duration": 20,
    "start_time": "2022-03-10T17:01:51.043Z"
   },
   {
    "duration": 48,
    "start_time": "2022-03-10T17:01:51.065Z"
   },
   {
    "duration": 40,
    "start_time": "2022-03-10T17:01:51.115Z"
   },
   {
    "duration": 16,
    "start_time": "2022-03-10T17:01:51.157Z"
   },
   {
    "duration": 14,
    "start_time": "2022-03-10T17:01:51.205Z"
   },
   {
    "duration": 8,
    "start_time": "2022-03-10T17:01:51.220Z"
   },
   {
    "duration": 8,
    "start_time": "2022-03-10T17:01:51.229Z"
   },
   {
    "duration": 8,
    "start_time": "2022-03-10T17:01:51.238Z"
   },
   {
    "duration": 10,
    "start_time": "2022-03-10T17:01:51.248Z"
   },
   {
    "duration": 50,
    "start_time": "2022-03-10T17:01:51.260Z"
   },
   {
    "duration": 11,
    "start_time": "2022-03-10T17:01:51.312Z"
   },
   {
    "duration": 20,
    "start_time": "2022-03-10T17:01:51.325Z"
   },
   {
    "duration": 20,
    "start_time": "2022-03-10T17:01:51.347Z"
   },
   {
    "duration": 50,
    "start_time": "2022-03-10T17:01:51.369Z"
   },
   {
    "duration": 20,
    "start_time": "2022-03-10T17:01:51.420Z"
   },
   {
    "duration": 19,
    "start_time": "2022-03-10T17:01:51.442Z"
   },
   {
    "duration": 49,
    "start_time": "2022-03-10T17:01:51.462Z"
   },
   {
    "duration": 7442,
    "start_time": "2022-03-10T17:02:53.812Z"
   },
   {
    "duration": 325,
    "start_time": "2022-03-10T17:08:20.324Z"
   },
   {
    "duration": 66,
    "start_time": "2022-03-10T17:16:31.799Z"
   },
   {
    "duration": 13,
    "start_time": "2022-03-10T17:16:31.867Z"
   },
   {
    "duration": 7,
    "start_time": "2022-03-10T17:16:31.882Z"
   },
   {
    "duration": 18,
    "start_time": "2022-03-10T17:16:31.891Z"
   },
   {
    "duration": 14,
    "start_time": "2022-03-10T17:16:31.911Z"
   },
   {
    "duration": 38,
    "start_time": "2022-03-10T17:16:31.926Z"
   },
   {
    "duration": 42,
    "start_time": "2022-03-10T17:16:31.965Z"
   },
   {
    "duration": 11,
    "start_time": "2022-03-10T17:16:32.009Z"
   },
   {
    "duration": 7,
    "start_time": "2022-03-10T17:16:32.022Z"
   },
   {
    "duration": 6,
    "start_time": "2022-03-10T17:16:32.030Z"
   },
   {
    "duration": 7,
    "start_time": "2022-03-10T17:16:32.038Z"
   },
   {
    "duration": 9,
    "start_time": "2022-03-10T17:16:32.047Z"
   },
   {
    "duration": 9,
    "start_time": "2022-03-10T17:16:32.057Z"
   },
   {
    "duration": 44,
    "start_time": "2022-03-10T17:16:32.068Z"
   },
   {
    "duration": 19,
    "start_time": "2022-03-10T17:16:32.113Z"
   },
   {
    "duration": 17,
    "start_time": "2022-03-10T17:16:32.133Z"
   },
   {
    "duration": 19,
    "start_time": "2022-03-10T17:16:32.151Z"
   },
   {
    "duration": 38,
    "start_time": "2022-03-10T17:16:32.171Z"
   },
   {
    "duration": 19,
    "start_time": "2022-03-10T17:16:32.210Z"
   },
   {
    "duration": 18,
    "start_time": "2022-03-10T17:16:32.230Z"
   },
   {
    "duration": 14,
    "start_time": "2022-03-19T15:49:52.608Z"
   },
   {
    "duration": 4,
    "start_time": "2022-03-19T15:50:10.635Z"
   },
   {
    "duration": 70,
    "start_time": "2022-03-20T11:25:21.254Z"
   },
   {
    "duration": 64,
    "start_time": "2022-03-20T11:30:09.944Z"
   },
   {
    "duration": 477,
    "start_time": "2022-03-20T11:34:52.125Z"
   },
   {
    "duration": 5,
    "start_time": "2022-03-20T11:34:52.604Z"
   },
   {
    "duration": 0,
    "start_time": "2022-03-20T11:34:52.612Z"
   },
   {
    "duration": 0,
    "start_time": "2022-03-20T11:34:52.613Z"
   },
   {
    "duration": 0,
    "start_time": "2022-03-20T11:34:52.614Z"
   },
   {
    "duration": 0,
    "start_time": "2022-03-20T11:34:52.616Z"
   },
   {
    "duration": 0,
    "start_time": "2022-03-20T11:34:52.617Z"
   },
   {
    "duration": 0,
    "start_time": "2022-03-20T11:34:52.618Z"
   },
   {
    "duration": 0,
    "start_time": "2022-03-20T11:34:52.619Z"
   },
   {
    "duration": 0,
    "start_time": "2022-03-20T11:34:52.621Z"
   },
   {
    "duration": 0,
    "start_time": "2022-03-20T11:34:52.622Z"
   },
   {
    "duration": 0,
    "start_time": "2022-03-20T11:34:52.623Z"
   },
   {
    "duration": 0,
    "start_time": "2022-03-20T11:34:52.624Z"
   },
   {
    "duration": 0,
    "start_time": "2022-03-20T11:34:52.626Z"
   },
   {
    "duration": 0,
    "start_time": "2022-03-20T11:34:52.627Z"
   },
   {
    "duration": 0,
    "start_time": "2022-03-20T11:34:52.628Z"
   },
   {
    "duration": 0,
    "start_time": "2022-03-20T11:34:52.629Z"
   },
   {
    "duration": 0,
    "start_time": "2022-03-20T11:34:52.630Z"
   },
   {
    "duration": 0,
    "start_time": "2022-03-20T11:34:52.631Z"
   },
   {
    "duration": 0,
    "start_time": "2022-03-20T11:34:52.632Z"
   },
   {
    "duration": 67,
    "start_time": "2022-03-20T11:35:17.971Z"
   },
   {
    "duration": 4,
    "start_time": "2022-03-20T11:35:18.040Z"
   },
   {
    "duration": 0,
    "start_time": "2022-03-20T11:35:18.046Z"
   },
   {
    "duration": 0,
    "start_time": "2022-03-20T11:35:18.048Z"
   },
   {
    "duration": 0,
    "start_time": "2022-03-20T11:35:18.049Z"
   },
   {
    "duration": 0,
    "start_time": "2022-03-20T11:35:18.050Z"
   },
   {
    "duration": 0,
    "start_time": "2022-03-20T11:35:18.051Z"
   },
   {
    "duration": 0,
    "start_time": "2022-03-20T11:35:18.053Z"
   },
   {
    "duration": 0,
    "start_time": "2022-03-20T11:35:18.054Z"
   },
   {
    "duration": 0,
    "start_time": "2022-03-20T11:35:18.054Z"
   },
   {
    "duration": 0,
    "start_time": "2022-03-20T11:35:18.055Z"
   },
   {
    "duration": 0,
    "start_time": "2022-03-20T11:35:18.057Z"
   },
   {
    "duration": 63,
    "start_time": "2022-03-20T11:35:18.060Z"
   },
   {
    "duration": 21,
    "start_time": "2022-03-20T11:35:18.125Z"
   },
   {
    "duration": 77,
    "start_time": "2022-03-20T11:35:18.149Z"
   },
   {
    "duration": 23,
    "start_time": "2022-03-20T11:35:18.228Z"
   },
   {
    "duration": 57,
    "start_time": "2022-03-20T11:35:18.252Z"
   },
   {
    "duration": 22,
    "start_time": "2022-03-20T11:35:18.311Z"
   },
   {
    "duration": 21,
    "start_time": "2022-03-20T11:35:18.334Z"
   },
   {
    "duration": 21,
    "start_time": "2022-03-20T11:35:18.357Z"
   },
   {
    "duration": 79,
    "start_time": "2022-03-20T11:35:48.679Z"
   },
   {
    "duration": 1576,
    "start_time": "2022-03-20T11:35:48.760Z"
   },
   {
    "duration": 1,
    "start_time": "2022-03-20T11:35:50.339Z"
   },
   {
    "duration": 0,
    "start_time": "2022-03-20T11:35:50.341Z"
   },
   {
    "duration": 0,
    "start_time": "2022-03-20T11:35:50.342Z"
   },
   {
    "duration": 0,
    "start_time": "2022-03-20T11:35:50.344Z"
   },
   {
    "duration": 0,
    "start_time": "2022-03-20T11:35:50.345Z"
   },
   {
    "duration": 0,
    "start_time": "2022-03-20T11:35:50.347Z"
   },
   {
    "duration": 0,
    "start_time": "2022-03-20T11:35:50.348Z"
   },
   {
    "duration": 0,
    "start_time": "2022-03-20T11:35:50.350Z"
   },
   {
    "duration": 0,
    "start_time": "2022-03-20T11:35:50.351Z"
   },
   {
    "duration": 0,
    "start_time": "2022-03-20T11:35:50.353Z"
   },
   {
    "duration": 0,
    "start_time": "2022-03-20T11:35:50.354Z"
   },
   {
    "duration": 0,
    "start_time": "2022-03-20T11:35:50.355Z"
   },
   {
    "duration": 0,
    "start_time": "2022-03-20T11:35:50.357Z"
   },
   {
    "duration": 0,
    "start_time": "2022-03-20T11:35:50.359Z"
   },
   {
    "duration": 0,
    "start_time": "2022-03-20T11:35:50.360Z"
   },
   {
    "duration": 0,
    "start_time": "2022-03-20T11:35:50.361Z"
   },
   {
    "duration": 0,
    "start_time": "2022-03-20T11:35:50.363Z"
   },
   {
    "duration": 0,
    "start_time": "2022-03-20T11:35:50.364Z"
   },
   {
    "duration": 72,
    "start_time": "2022-03-20T11:40:39.486Z"
   },
   {
    "duration": 1254,
    "start_time": "2022-03-20T11:40:39.560Z"
   },
   {
    "duration": 0,
    "start_time": "2022-03-20T11:40:40.816Z"
   },
   {
    "duration": 0,
    "start_time": "2022-03-20T11:40:40.818Z"
   },
   {
    "duration": 0,
    "start_time": "2022-03-20T11:40:40.819Z"
   },
   {
    "duration": 0,
    "start_time": "2022-03-20T11:40:40.821Z"
   },
   {
    "duration": 0,
    "start_time": "2022-03-20T11:40:40.822Z"
   },
   {
    "duration": 0,
    "start_time": "2022-03-20T11:40:40.824Z"
   },
   {
    "duration": 0,
    "start_time": "2022-03-20T11:40:40.826Z"
   },
   {
    "duration": 0,
    "start_time": "2022-03-20T11:40:40.827Z"
   },
   {
    "duration": 0,
    "start_time": "2022-03-20T11:40:40.828Z"
   },
   {
    "duration": 0,
    "start_time": "2022-03-20T11:40:40.830Z"
   },
   {
    "duration": 0,
    "start_time": "2022-03-20T11:40:40.832Z"
   },
   {
    "duration": 0,
    "start_time": "2022-03-20T11:40:40.834Z"
   },
   {
    "duration": 0,
    "start_time": "2022-03-20T11:40:40.835Z"
   },
   {
    "duration": 0,
    "start_time": "2022-03-20T11:40:40.836Z"
   },
   {
    "duration": 0,
    "start_time": "2022-03-20T11:40:40.837Z"
   },
   {
    "duration": 0,
    "start_time": "2022-03-20T11:40:40.838Z"
   },
   {
    "duration": 0,
    "start_time": "2022-03-20T11:40:40.839Z"
   },
   {
    "duration": 0,
    "start_time": "2022-03-20T11:40:40.840Z"
   },
   {
    "duration": 7,
    "start_time": "2022-03-20T11:42:48.074Z"
   },
   {
    "duration": 72,
    "start_time": "2022-03-20T11:42:53.516Z"
   },
   {
    "duration": 19,
    "start_time": "2022-03-20T11:42:53.591Z"
   },
   {
    "duration": 1,
    "start_time": "2022-03-20T11:42:53.612Z"
   },
   {
    "duration": 0,
    "start_time": "2022-03-20T11:42:53.614Z"
   },
   {
    "duration": 0,
    "start_time": "2022-03-20T11:42:53.616Z"
   },
   {
    "duration": 0,
    "start_time": "2022-03-20T11:42:53.617Z"
   },
   {
    "duration": 0,
    "start_time": "2022-03-20T11:42:53.618Z"
   },
   {
    "duration": 0,
    "start_time": "2022-03-20T11:42:53.620Z"
   },
   {
    "duration": 0,
    "start_time": "2022-03-20T11:42:53.620Z"
   },
   {
    "duration": 0,
    "start_time": "2022-03-20T11:42:53.622Z"
   },
   {
    "duration": 0,
    "start_time": "2022-03-20T11:42:53.623Z"
   },
   {
    "duration": 0,
    "start_time": "2022-03-20T11:42:53.625Z"
   },
   {
    "duration": 0,
    "start_time": "2022-03-20T11:42:53.626Z"
   },
   {
    "duration": 0,
    "start_time": "2022-03-20T11:42:53.627Z"
   },
   {
    "duration": 0,
    "start_time": "2022-03-20T11:42:53.629Z"
   },
   {
    "duration": 82,
    "start_time": "2022-03-20T11:42:53.632Z"
   },
   {
    "duration": 24,
    "start_time": "2022-03-20T11:42:53.715Z"
   },
   {
    "duration": 20,
    "start_time": "2022-03-20T11:42:53.741Z"
   },
   {
    "duration": 54,
    "start_time": "2022-03-20T11:42:53.763Z"
   },
   {
    "duration": 0,
    "start_time": "2022-03-20T11:42:53.818Z"
   },
   {
    "duration": 12,
    "start_time": "2022-03-20T11:43:08.161Z"
   },
   {
    "duration": 1328,
    "start_time": "2022-03-20T11:45:45.802Z"
   },
   {
    "duration": 4,
    "start_time": "2022-03-20T11:48:06.209Z"
   },
   {
    "duration": 71,
    "start_time": "2022-03-20T11:48:20.762Z"
   },
   {
    "duration": 4,
    "start_time": "2022-03-20T11:49:13.123Z"
   },
   {
    "duration": 13,
    "start_time": "2022-03-20T11:50:50.021Z"
   },
   {
    "duration": 14,
    "start_time": "2022-03-20T11:51:08.222Z"
   },
   {
    "duration": 74,
    "start_time": "2022-03-20T11:55:20.783Z"
   },
   {
    "duration": 24,
    "start_time": "2022-03-20T11:56:22.424Z"
   },
   {
    "duration": 24,
    "start_time": "2022-03-20T11:56:57.254Z"
   },
   {
    "duration": 18,
    "start_time": "2022-03-20T11:57:42.094Z"
   },
   {
    "duration": 26,
    "start_time": "2022-03-20T11:59:04.170Z"
   },
   {
    "duration": 58,
    "start_time": "2022-03-20T11:59:04.198Z"
   },
   {
    "duration": 59,
    "start_time": "2022-03-20T11:59:04.257Z"
   },
   {
    "duration": 31,
    "start_time": "2022-03-20T11:59:04.318Z"
   },
   {
    "duration": 48,
    "start_time": "2022-03-20T11:59:04.351Z"
   },
   {
    "duration": 20,
    "start_time": "2022-03-20T11:59:04.401Z"
   },
   {
    "duration": 62,
    "start_time": "2022-03-20T11:59:49.171Z"
   },
   {
    "duration": 68,
    "start_time": "2022-03-20T12:00:12.002Z"
   },
   {
    "duration": 13,
    "start_time": "2022-03-20T12:00:12.072Z"
   },
   {
    "duration": 30,
    "start_time": "2022-03-20T12:00:12.087Z"
   },
   {
    "duration": 28,
    "start_time": "2022-03-20T12:00:12.119Z"
   },
   {
    "duration": 18,
    "start_time": "2022-03-20T12:00:12.149Z"
   },
   {
    "duration": 79,
    "start_time": "2022-03-20T12:00:12.169Z"
   },
   {
    "duration": 19,
    "start_time": "2022-03-20T12:00:12.250Z"
   },
   {
    "duration": 48,
    "start_time": "2022-03-20T12:00:12.271Z"
   },
   {
    "duration": 7,
    "start_time": "2022-03-20T12:00:12.321Z"
   },
   {
    "duration": 6,
    "start_time": "2022-03-20T12:00:12.331Z"
   },
   {
    "duration": 8,
    "start_time": "2022-03-20T12:00:12.338Z"
   },
   {
    "duration": 12,
    "start_time": "2022-03-20T12:00:12.347Z"
   },
   {
    "duration": 53,
    "start_time": "2022-03-20T12:00:12.361Z"
   },
   {
    "duration": 12,
    "start_time": "2022-03-20T12:00:12.416Z"
   },
   {
    "duration": 22,
    "start_time": "2022-03-20T12:00:12.430Z"
   },
   {
    "duration": 19,
    "start_time": "2022-03-20T12:00:12.453Z"
   },
   {
    "duration": 55,
    "start_time": "2022-03-20T12:00:12.474Z"
   },
   {
    "duration": 19,
    "start_time": "2022-03-20T12:00:12.531Z"
   },
   {
    "duration": 20,
    "start_time": "2022-03-20T12:00:12.552Z"
   },
   {
    "duration": 54,
    "start_time": "2022-03-20T12:00:12.574Z"
   },
   {
    "duration": 8,
    "start_time": "2022-03-20T12:26:37.214Z"
   },
   {
    "duration": 62,
    "start_time": "2022-03-20T12:44:28.867Z"
   },
   {
    "duration": 62,
    "start_time": "2022-03-20T12:48:23.188Z"
   },
   {
    "duration": 22,
    "start_time": "2022-03-20T12:48:55.591Z"
   },
   {
    "duration": 24,
    "start_time": "2022-03-20T12:49:23.101Z"
   },
   {
    "duration": 22,
    "start_time": "2022-03-20T12:49:37.953Z"
   },
   {
    "duration": 21,
    "start_time": "2022-03-20T12:49:48.827Z"
   },
   {
    "duration": 35,
    "start_time": "2022-03-20T12:54:52.713Z"
   },
   {
    "duration": 72,
    "start_time": "2022-03-20T12:57:11.343Z"
   },
   {
    "duration": 17,
    "start_time": "2022-03-20T12:57:11.418Z"
   },
   {
    "duration": 9,
    "start_time": "2022-03-20T12:57:11.436Z"
   },
   {
    "duration": 25,
    "start_time": "2022-03-20T12:57:11.447Z"
   },
   {
    "duration": 27,
    "start_time": "2022-03-20T12:57:11.509Z"
   },
   {
    "duration": 43,
    "start_time": "2022-03-20T12:57:11.538Z"
   },
   {
    "duration": 52,
    "start_time": "2022-03-20T12:57:11.583Z"
   },
   {
    "duration": 15,
    "start_time": "2022-03-20T12:57:11.637Z"
   },
   {
    "duration": 10,
    "start_time": "2022-03-20T12:57:11.653Z"
   },
   {
    "duration": 53,
    "start_time": "2022-03-20T12:57:11.665Z"
   },
   {
    "duration": 7,
    "start_time": "2022-03-20T12:57:11.721Z"
   },
   {
    "duration": 7,
    "start_time": "2022-03-20T12:57:11.729Z"
   },
   {
    "duration": 14,
    "start_time": "2022-03-20T12:57:11.737Z"
   },
   {
    "duration": 65,
    "start_time": "2022-03-20T12:57:11.753Z"
   },
   {
    "duration": 15,
    "start_time": "2022-03-20T12:57:11.821Z"
   },
   {
    "duration": 18,
    "start_time": "2022-03-20T12:57:11.838Z"
   },
   {
    "duration": 23,
    "start_time": "2022-03-20T12:57:11.858Z"
   },
   {
    "duration": 32,
    "start_time": "2022-03-20T12:57:11.916Z"
   },
   {
    "duration": 0,
    "start_time": "2022-03-20T12:57:11.949Z"
   },
   {
    "duration": 0,
    "start_time": "2022-03-20T12:57:11.951Z"
   },
   {
    "duration": 0,
    "start_time": "2022-03-20T12:57:11.952Z"
   },
   {
    "duration": 21,
    "start_time": "2022-03-20T12:58:37.693Z"
   },
   {
    "duration": 73,
    "start_time": "2022-03-20T13:00:11.439Z"
   },
   {
    "duration": 26,
    "start_time": "2022-03-20T13:02:28.810Z"
   },
   {
    "duration": 18,
    "start_time": "2022-03-20T13:03:17.669Z"
   },
   {
    "duration": 24,
    "start_time": "2022-03-20T13:03:55.306Z"
   },
   {
    "duration": 81,
    "start_time": "2022-03-20T13:03:59.564Z"
   },
   {
    "duration": 13,
    "start_time": "2022-03-20T13:03:59.646Z"
   },
   {
    "duration": 9,
    "start_time": "2022-03-20T13:03:59.661Z"
   },
   {
    "duration": 51,
    "start_time": "2022-03-20T13:03:59.672Z"
   },
   {
    "duration": 18,
    "start_time": "2022-03-20T13:03:59.726Z"
   },
   {
    "duration": 82,
    "start_time": "2022-03-20T13:03:59.746Z"
   },
   {
    "duration": 19,
    "start_time": "2022-03-20T13:03:59.830Z"
   },
   {
    "duration": 14,
    "start_time": "2022-03-20T13:03:59.850Z"
   },
   {
    "duration": 47,
    "start_time": "2022-03-20T13:03:59.866Z"
   },
   {
    "duration": 12,
    "start_time": "2022-03-20T13:03:59.916Z"
   },
   {
    "duration": 14,
    "start_time": "2022-03-20T13:03:59.929Z"
   },
   {
    "duration": 8,
    "start_time": "2022-03-20T13:03:59.945Z"
   },
   {
    "duration": 62,
    "start_time": "2022-03-20T13:03:59.955Z"
   },
   {
    "duration": 19,
    "start_time": "2022-03-20T13:04:00.018Z"
   },
   {
    "duration": 14,
    "start_time": "2022-03-20T13:04:00.040Z"
   },
   {
    "duration": 26,
    "start_time": "2022-03-20T13:04:00.056Z"
   },
   {
    "duration": 27,
    "start_time": "2022-03-20T13:04:00.111Z"
   },
   {
    "duration": 18,
    "start_time": "2022-03-20T13:04:00.139Z"
   },
   {
    "duration": 0,
    "start_time": "2022-03-20T13:04:00.159Z"
   },
   {
    "duration": 0,
    "start_time": "2022-03-20T13:04:00.160Z"
   },
   {
    "duration": 0,
    "start_time": "2022-03-20T13:04:00.162Z"
   },
   {
    "duration": 18,
    "start_time": "2022-03-20T13:04:46.982Z"
   },
   {
    "duration": 18,
    "start_time": "2022-03-20T13:05:30.451Z"
   },
   {
    "duration": 24,
    "start_time": "2022-03-20T13:10:00.980Z"
   },
   {
    "duration": 16,
    "start_time": "2022-03-20T13:19:14.981Z"
   },
   {
    "duration": 56,
    "start_time": "2022-03-20T13:20:50.626Z"
   },
   {
    "duration": 26,
    "start_time": "2022-03-20T13:21:24.360Z"
   },
   {
    "duration": 67,
    "start_time": "2022-03-20T13:25:28.814Z"
   },
   {
    "duration": 1110,
    "start_time": "2022-03-20T13:25:39.449Z"
   },
   {
    "duration": 1652,
    "start_time": "2022-03-20T13:26:04.052Z"
   },
   {
    "duration": 1083,
    "start_time": "2022-03-20T13:26:34.886Z"
   },
   {
    "duration": 23,
    "start_time": "2022-03-20T13:27:39.127Z"
   },
   {
    "duration": 1172,
    "start_time": "2022-03-20T13:28:29.683Z"
   },
   {
    "duration": 85,
    "start_time": "2022-03-20T13:29:45.021Z"
   },
   {
    "duration": 1129,
    "start_time": "2022-03-20T13:30:15.844Z"
   },
   {
    "duration": 28,
    "start_time": "2022-03-20T13:38:09.628Z"
   },
   {
    "duration": 8,
    "start_time": "2022-03-20T13:39:49.052Z"
   },
   {
    "duration": 28,
    "start_time": "2022-03-20T13:40:28.277Z"
   },
   {
    "duration": 10,
    "start_time": "2022-03-20T13:40:55.082Z"
   },
   {
    "duration": 18,
    "start_time": "2022-03-20T13:41:55.801Z"
   },
   {
    "duration": 9,
    "start_time": "2022-03-20T13:42:20.124Z"
   },
   {
    "duration": 22,
    "start_time": "2022-03-20T13:42:32.144Z"
   },
   {
    "duration": 18,
    "start_time": "2022-03-20T13:42:59.576Z"
   },
   {
    "duration": 8,
    "start_time": "2022-03-20T13:43:29.386Z"
   },
   {
    "duration": 23,
    "start_time": "2022-03-20T13:43:44.517Z"
   },
   {
    "duration": 23,
    "start_time": "2022-03-20T13:45:14.725Z"
   },
   {
    "duration": 77,
    "start_time": "2022-03-20T13:45:39.386Z"
   },
   {
    "duration": 13,
    "start_time": "2022-03-20T13:45:39.465Z"
   },
   {
    "duration": 9,
    "start_time": "2022-03-20T13:45:39.479Z"
   },
   {
    "duration": 35,
    "start_time": "2022-03-20T13:45:39.509Z"
   },
   {
    "duration": 18,
    "start_time": "2022-03-20T13:45:39.545Z"
   },
   {
    "duration": 86,
    "start_time": "2022-03-20T13:45:39.564Z"
   },
   {
    "duration": 19,
    "start_time": "2022-03-20T13:45:39.652Z"
   },
   {
    "duration": 57,
    "start_time": "2022-03-20T13:45:39.672Z"
   },
   {
    "duration": 9,
    "start_time": "2022-03-20T13:45:39.731Z"
   },
   {
    "duration": 6,
    "start_time": "2022-03-20T13:45:39.742Z"
   },
   {
    "duration": 8,
    "start_time": "2022-03-20T13:45:39.750Z"
   },
   {
    "duration": 7,
    "start_time": "2022-03-20T13:45:39.760Z"
   },
   {
    "duration": 21,
    "start_time": "2022-03-20T13:45:39.812Z"
   },
   {
    "duration": 12,
    "start_time": "2022-03-20T13:45:39.834Z"
   },
   {
    "duration": 11,
    "start_time": "2022-03-20T13:45:39.849Z"
   },
   {
    "duration": 47,
    "start_time": "2022-03-20T13:45:39.862Z"
   },
   {
    "duration": 30,
    "start_time": "2022-03-20T13:45:39.913Z"
   },
   {
    "duration": 23,
    "start_time": "2022-03-20T13:45:39.945Z"
   },
   {
    "duration": 45,
    "start_time": "2022-03-20T13:45:39.970Z"
   },
   {
    "duration": 27,
    "start_time": "2022-03-20T13:45:40.017Z"
   },
   {
    "duration": 21,
    "start_time": "2022-03-20T13:45:40.046Z"
   },
   {
    "duration": 19,
    "start_time": "2022-03-20T14:06:00.764Z"
   },
   {
    "duration": 30,
    "start_time": "2022-03-20T14:07:39.802Z"
   },
   {
    "duration": 20,
    "start_time": "2022-03-20T14:08:00.353Z"
   },
   {
    "duration": 1418,
    "start_time": "2022-03-20T14:08:37.645Z"
   },
   {
    "duration": 18,
    "start_time": "2022-03-20T14:08:58.230Z"
   },
   {
    "duration": 17,
    "start_time": "2022-03-20T14:09:15.590Z"
   },
   {
    "duration": 66,
    "start_time": "2022-03-20T14:09:50.544Z"
   },
   {
    "duration": 1375,
    "start_time": "2022-03-20T14:11:53.439Z"
   },
   {
    "duration": 1181,
    "start_time": "2022-03-20T14:12:29.274Z"
   },
   {
    "duration": 31,
    "start_time": "2022-03-20T14:13:50.321Z"
   },
   {
    "duration": 28,
    "start_time": "2022-03-20T14:14:15.274Z"
   },
   {
    "duration": 1196,
    "start_time": "2022-03-20T14:15:06.750Z"
   },
   {
    "duration": 67,
    "start_time": "2022-03-20T14:16:59.568Z"
   },
   {
    "duration": 27,
    "start_time": "2022-03-20T14:17:09.905Z"
   },
   {
    "duration": 19,
    "start_time": "2022-03-20T14:18:14.048Z"
   },
   {
    "duration": 17,
    "start_time": "2022-03-20T14:24:07.077Z"
   },
   {
    "duration": 18,
    "start_time": "2022-03-20T14:24:59.221Z"
   },
   {
    "duration": 65,
    "start_time": "2022-03-20T14:26:02.670Z"
   },
   {
    "duration": 18,
    "start_time": "2022-03-20T14:26:10.652Z"
   },
   {
    "duration": 968,
    "start_time": "2022-03-20T14:29:31.524Z"
   },
   {
    "duration": 888,
    "start_time": "2022-03-20T14:29:57.555Z"
   },
   {
    "duration": 19,
    "start_time": "2022-03-20T14:31:24.419Z"
   },
   {
    "duration": 15,
    "start_time": "2022-03-20T14:32:01.257Z"
   },
   {
    "duration": 21,
    "start_time": "2022-03-20T14:32:22.212Z"
   },
   {
    "duration": 44,
    "start_time": "2022-03-20T14:32:34.992Z"
   },
   {
    "duration": 34,
    "start_time": "2022-03-20T14:32:56.864Z"
   },
   {
    "duration": 28,
    "start_time": "2022-03-20T14:34:28.661Z"
   },
   {
    "duration": 37,
    "start_time": "2022-03-20T14:35:16.702Z"
   },
   {
    "duration": 4,
    "start_time": "2022-03-20T15:21:09.594Z"
   },
   {
    "duration": 9,
    "start_time": "2022-03-20T15:21:27.291Z"
   },
   {
    "duration": 20,
    "start_time": "2022-03-20T15:21:50.122Z"
   },
   {
    "duration": 18,
    "start_time": "2022-03-20T15:23:16.536Z"
   },
   {
    "duration": 18,
    "start_time": "2022-03-20T15:24:45.328Z"
   },
   {
    "duration": 100,
    "start_time": "2022-03-20T15:25:09.553Z"
   },
   {
    "duration": 8,
    "start_time": "2022-03-20T15:25:22.840Z"
   },
   {
    "duration": 17,
    "start_time": "2022-03-20T15:25:41.976Z"
   },
   {
    "duration": 96,
    "start_time": "2022-03-20T15:26:18.995Z"
   },
   {
    "duration": 18,
    "start_time": "2022-03-20T15:26:35.390Z"
   },
   {
    "duration": 74,
    "start_time": "2022-03-20T15:29:02.367Z"
   },
   {
    "duration": 557,
    "start_time": "2022-03-20T15:29:42.567Z"
   },
   {
    "duration": 19,
    "start_time": "2022-03-20T15:31:06.918Z"
   },
   {
    "duration": 17,
    "start_time": "2022-03-20T15:31:40.889Z"
   },
   {
    "duration": 20,
    "start_time": "2022-03-20T15:32:34.367Z"
   },
   {
    "duration": 11,
    "start_time": "2022-03-20T15:33:27.989Z"
   },
   {
    "duration": 61,
    "start_time": "2022-03-20T15:35:42.663Z"
   },
   {
    "duration": 23,
    "start_time": "2022-03-20T15:35:54.549Z"
   },
   {
    "duration": 17,
    "start_time": "2022-03-20T15:36:25.226Z"
   },
   {
    "duration": 17,
    "start_time": "2022-03-20T15:36:30.524Z"
   },
   {
    "duration": 18,
    "start_time": "2022-03-20T15:36:46.562Z"
   },
   {
    "duration": 17,
    "start_time": "2022-03-20T15:37:08.542Z"
   },
   {
    "duration": 17,
    "start_time": "2022-03-20T15:37:30.625Z"
   },
   {
    "duration": 16,
    "start_time": "2022-03-20T15:38:58.153Z"
   },
   {
    "duration": 22,
    "start_time": "2022-03-20T15:39:10.329Z"
   },
   {
    "duration": 17,
    "start_time": "2022-03-20T15:39:31.050Z"
   },
   {
    "duration": 15,
    "start_time": "2022-03-20T15:39:54.051Z"
   },
   {
    "duration": 22,
    "start_time": "2022-03-20T15:40:08.703Z"
   },
   {
    "duration": 17,
    "start_time": "2022-03-20T15:40:20.727Z"
   },
   {
    "duration": 16,
    "start_time": "2022-03-20T15:40:34.681Z"
   },
   {
    "duration": 113,
    "start_time": "2022-03-20T15:42:37.341Z"
   },
   {
    "duration": 17,
    "start_time": "2022-03-20T15:42:52.977Z"
   },
   {
    "duration": 16,
    "start_time": "2022-03-20T15:44:11.822Z"
   },
   {
    "duration": 22,
    "start_time": "2022-03-20T15:44:42.215Z"
   },
   {
    "duration": 17,
    "start_time": "2022-03-20T15:44:48.853Z"
   },
   {
    "duration": 22,
    "start_time": "2022-03-20T15:45:05.708Z"
   },
   {
    "duration": 18,
    "start_time": "2022-03-20T15:46:46.757Z"
   },
   {
    "duration": 19,
    "start_time": "2022-03-20T15:49:19.863Z"
   },
   {
    "duration": 18,
    "start_time": "2022-03-20T15:49:32.350Z"
   },
   {
    "duration": 19,
    "start_time": "2022-03-20T15:50:41.052Z"
   },
   {
    "duration": 16,
    "start_time": "2022-03-20T15:53:39.817Z"
   },
   {
    "duration": 21,
    "start_time": "2022-03-20T15:54:46.710Z"
   },
   {
    "duration": 15,
    "start_time": "2022-03-20T15:55:19.056Z"
   },
   {
    "duration": 15,
    "start_time": "2022-03-20T15:55:31.754Z"
   },
   {
    "duration": 17,
    "start_time": "2022-03-20T15:59:10.404Z"
   },
   {
    "duration": 16,
    "start_time": "2022-03-20T16:00:58.559Z"
   },
   {
    "duration": 17,
    "start_time": "2022-03-20T16:07:17.720Z"
   },
   {
    "duration": 18,
    "start_time": "2022-03-20T16:10:06.832Z"
   },
   {
    "duration": 19,
    "start_time": "2022-03-20T16:14:25.209Z"
   },
   {
    "duration": 19,
    "start_time": "2022-03-20T16:14:51.238Z"
   },
   {
    "duration": 30,
    "start_time": "2022-03-20T16:16:53.405Z"
   },
   {
    "duration": 18,
    "start_time": "2022-03-20T16:18:13.133Z"
   },
   {
    "duration": 20,
    "start_time": "2022-03-20T16:19:46.487Z"
   },
   {
    "duration": 14,
    "start_time": "2022-03-20T16:28:54.645Z"
   },
   {
    "duration": 193,
    "start_time": "2022-03-20T16:36:53.704Z"
   },
   {
    "duration": 23,
    "start_time": "2022-03-20T16:36:53.900Z"
   },
   {
    "duration": 13,
    "start_time": "2022-03-20T16:36:53.925Z"
   },
   {
    "duration": 8,
    "start_time": "2022-03-20T16:36:53.940Z"
   },
   {
    "duration": 25,
    "start_time": "2022-03-20T16:36:53.949Z"
   },
   {
    "duration": 48,
    "start_time": "2022-03-20T16:36:53.976Z"
   },
   {
    "duration": 44,
    "start_time": "2022-03-20T16:36:54.026Z"
   },
   {
    "duration": 48,
    "start_time": "2022-03-20T16:36:54.072Z"
   },
   {
    "duration": 16,
    "start_time": "2022-03-20T16:36:54.125Z"
   },
   {
    "duration": 7,
    "start_time": "2022-03-20T16:36:54.143Z"
   },
   {
    "duration": 7,
    "start_time": "2022-03-20T16:36:54.151Z"
   },
   {
    "duration": 8,
    "start_time": "2022-03-20T16:36:54.160Z"
   },
   {
    "duration": 15,
    "start_time": "2022-03-20T16:36:54.211Z"
   },
   {
    "duration": 13,
    "start_time": "2022-03-20T16:36:54.228Z"
   },
   {
    "duration": 11,
    "start_time": "2022-03-20T16:36:54.243Z"
   },
   {
    "duration": 12,
    "start_time": "2022-03-20T16:36:54.256Z"
   },
   {
    "duration": 66,
    "start_time": "2022-03-20T16:36:54.270Z"
   },
   {
    "duration": 21,
    "start_time": "2022-03-20T16:36:54.337Z"
   },
   {
    "duration": 19,
    "start_time": "2022-03-20T16:36:54.360Z"
   },
   {
    "duration": 47,
    "start_time": "2022-03-20T16:36:54.382Z"
   },
   {
    "duration": 18,
    "start_time": "2022-03-20T16:36:54.431Z"
   },
   {
    "duration": 19,
    "start_time": "2022-03-20T16:36:54.451Z"
   },
   {
    "duration": 70,
    "start_time": "2022-03-20T16:39:11.288Z"
   },
   {
    "duration": 11,
    "start_time": "2022-03-20T16:45:01.458Z"
   },
   {
    "duration": 69,
    "start_time": "2022-03-20T16:45:07.873Z"
   },
   {
    "duration": 14,
    "start_time": "2022-03-20T16:45:07.944Z"
   },
   {
    "duration": 15,
    "start_time": "2022-03-20T16:45:07.960Z"
   },
   {
    "duration": 32,
    "start_time": "2022-03-20T16:45:07.977Z"
   },
   {
    "duration": 9,
    "start_time": "2022-03-20T16:45:08.011Z"
   },
   {
    "duration": 25,
    "start_time": "2022-03-20T16:45:08.022Z"
   },
   {
    "duration": 17,
    "start_time": "2022-03-20T16:45:08.048Z"
   },
   {
    "duration": 79,
    "start_time": "2022-03-20T16:45:08.067Z"
   },
   {
    "duration": 23,
    "start_time": "2022-03-20T16:45:08.149Z"
   },
   {
    "duration": 45,
    "start_time": "2022-03-20T16:45:08.175Z"
   },
   {
    "duration": 16,
    "start_time": "2022-03-20T16:45:08.222Z"
   },
   {
    "duration": 12,
    "start_time": "2022-03-20T16:45:08.240Z"
   },
   {
    "duration": 17,
    "start_time": "2022-03-20T16:45:08.254Z"
   },
   {
    "duration": 8,
    "start_time": "2022-03-20T16:45:08.273Z"
   },
   {
    "duration": 27,
    "start_time": "2022-03-20T16:45:08.283Z"
   },
   {
    "duration": 13,
    "start_time": "2022-03-20T16:45:08.312Z"
   },
   {
    "duration": 13,
    "start_time": "2022-03-20T16:45:08.326Z"
   },
   {
    "duration": 24,
    "start_time": "2022-03-20T16:45:08.341Z"
   },
   {
    "duration": 50,
    "start_time": "2022-03-20T16:45:08.367Z"
   },
   {
    "duration": 26,
    "start_time": "2022-03-20T16:45:08.420Z"
   },
   {
    "duration": 19,
    "start_time": "2022-03-20T16:45:08.448Z"
   },
   {
    "duration": 41,
    "start_time": "2022-03-20T16:45:08.469Z"
   },
   {
    "duration": 21,
    "start_time": "2022-03-20T16:45:08.511Z"
   },
   {
    "duration": 4,
    "start_time": "2022-03-20T16:48:32.280Z"
   },
   {
    "duration": 18,
    "start_time": "2022-03-20T16:48:40.546Z"
   },
   {
    "duration": 66,
    "start_time": "2022-03-20T16:49:34.143Z"
   },
   {
    "duration": 15,
    "start_time": "2022-03-20T16:49:34.211Z"
   },
   {
    "duration": 11,
    "start_time": "2022-03-20T16:49:34.228Z"
   },
   {
    "duration": 16,
    "start_time": "2022-03-20T16:49:34.241Z"
   },
   {
    "duration": 52,
    "start_time": "2022-03-20T16:49:34.259Z"
   },
   {
    "duration": 10,
    "start_time": "2022-03-20T16:49:34.313Z"
   },
   {
    "duration": 26,
    "start_time": "2022-03-20T16:49:34.325Z"
   },
   {
    "duration": 19,
    "start_time": "2022-03-20T16:49:34.353Z"
   },
   {
    "duration": 50,
    "start_time": "2022-03-20T16:49:34.408Z"
   },
   {
    "duration": 55,
    "start_time": "2022-03-20T16:49:34.461Z"
   },
   {
    "duration": 17,
    "start_time": "2022-03-20T16:49:34.518Z"
   },
   {
    "duration": 8,
    "start_time": "2022-03-20T16:49:34.537Z"
   },
   {
    "duration": 7,
    "start_time": "2022-03-20T16:49:34.547Z"
   },
   {
    "duration": 10,
    "start_time": "2022-03-20T16:49:34.555Z"
   },
   {
    "duration": 43,
    "start_time": "2022-03-20T16:49:34.567Z"
   },
   {
    "duration": 14,
    "start_time": "2022-03-20T16:49:34.612Z"
   },
   {
    "duration": 13,
    "start_time": "2022-03-20T16:49:34.628Z"
   },
   {
    "duration": 15,
    "start_time": "2022-03-20T16:49:34.643Z"
   },
   {
    "duration": 59,
    "start_time": "2022-03-20T16:49:34.660Z"
   },
   {
    "duration": 25,
    "start_time": "2022-03-20T16:49:34.721Z"
   },
   {
    "duration": 19,
    "start_time": "2022-03-20T16:49:34.748Z"
   },
   {
    "duration": 41,
    "start_time": "2022-03-20T16:49:34.769Z"
   },
   {
    "duration": 21,
    "start_time": "2022-03-20T16:49:34.811Z"
   },
   {
    "duration": 25,
    "start_time": "2022-03-20T16:49:34.834Z"
   },
   {
    "duration": 19,
    "start_time": "2022-03-20T16:58:45.086Z"
   },
   {
    "duration": 22,
    "start_time": "2022-03-20T17:00:06.261Z"
   },
   {
    "duration": 19,
    "start_time": "2022-03-20T17:00:17.027Z"
   },
   {
    "duration": 19,
    "start_time": "2022-03-20T17:02:40.959Z"
   },
   {
    "duration": 102,
    "start_time": "2022-03-20T17:03:35.492Z"
   },
   {
    "duration": 19,
    "start_time": "2022-03-20T17:03:47.845Z"
   },
   {
    "duration": 19,
    "start_time": "2022-03-20T17:03:59.953Z"
   },
   {
    "duration": 19,
    "start_time": "2022-03-20T17:04:07.113Z"
   },
   {
    "duration": 21,
    "start_time": "2022-03-20T17:04:21.863Z"
   },
   {
    "duration": 8,
    "start_time": "2022-03-20T17:08:36.888Z"
   },
   {
    "duration": 72,
    "start_time": "2022-03-20T17:08:41.541Z"
   },
   {
    "duration": 16,
    "start_time": "2022-03-20T17:08:41.615Z"
   },
   {
    "duration": 12,
    "start_time": "2022-03-20T17:08:41.632Z"
   },
   {
    "duration": 18,
    "start_time": "2022-03-20T17:08:41.646Z"
   },
   {
    "duration": 5,
    "start_time": "2022-03-20T17:08:41.666Z"
   },
   {
    "duration": 43,
    "start_time": "2022-03-20T17:08:41.673Z"
   },
   {
    "duration": 26,
    "start_time": "2022-03-20T17:08:41.717Z"
   },
   {
    "duration": 18,
    "start_time": "2022-03-20T17:08:41.745Z"
   },
   {
    "duration": 83,
    "start_time": "2022-03-20T17:08:41.764Z"
   },
   {
    "duration": 20,
    "start_time": "2022-03-20T17:08:41.850Z"
   },
   {
    "duration": 40,
    "start_time": "2022-03-20T17:08:41.872Z"
   },
   {
    "duration": 8,
    "start_time": "2022-03-20T17:08:41.913Z"
   },
   {
    "duration": 8,
    "start_time": "2022-03-20T17:08:41.923Z"
   },
   {
    "duration": 10,
    "start_time": "2022-03-20T17:08:41.933Z"
   },
   {
    "duration": 6,
    "start_time": "2022-03-20T17:08:41.944Z"
   },
   {
    "duration": 13,
    "start_time": "2022-03-20T17:08:41.952Z"
   },
   {
    "duration": 51,
    "start_time": "2022-03-20T17:08:41.967Z"
   },
   {
    "duration": 13,
    "start_time": "2022-03-20T17:08:42.020Z"
   },
   {
    "duration": 23,
    "start_time": "2022-03-20T17:08:42.035Z"
   },
   {
    "duration": 20,
    "start_time": "2022-03-20T17:08:42.059Z"
   },
   {
    "duration": 26,
    "start_time": "2022-03-20T17:08:42.109Z"
   },
   {
    "duration": 21,
    "start_time": "2022-03-20T17:08:42.137Z"
   },
   {
    "duration": 19,
    "start_time": "2022-03-20T17:08:42.160Z"
   },
   {
    "duration": 44,
    "start_time": "2022-03-20T17:08:42.181Z"
   },
   {
    "duration": 68,
    "start_time": "2022-03-20T17:12:54.972Z"
   },
   {
    "duration": 17,
    "start_time": "2022-03-20T17:12:55.043Z"
   },
   {
    "duration": 13,
    "start_time": "2022-03-20T17:12:55.062Z"
   },
   {
    "duration": 51,
    "start_time": "2022-03-20T17:12:55.078Z"
   },
   {
    "duration": 6,
    "start_time": "2022-03-20T17:12:55.131Z"
   },
   {
    "duration": 12,
    "start_time": "2022-03-20T17:12:55.139Z"
   },
   {
    "duration": 19,
    "start_time": "2022-03-20T17:12:55.153Z"
   },
   {
    "duration": 79,
    "start_time": "2022-03-20T17:12:55.174Z"
   },
   {
    "duration": 20,
    "start_time": "2022-03-20T17:12:55.255Z"
   },
   {
    "duration": 43,
    "start_time": "2022-03-20T17:12:55.278Z"
   },
   {
    "duration": 11,
    "start_time": "2022-03-20T17:12:55.323Z"
   },
   {
    "duration": 6,
    "start_time": "2022-03-20T17:12:55.336Z"
   },
   {
    "duration": 7,
    "start_time": "2022-03-20T17:12:55.344Z"
   },
   {
    "duration": 7,
    "start_time": "2022-03-20T17:12:55.353Z"
   },
   {
    "duration": 12,
    "start_time": "2022-03-20T17:12:55.362Z"
   },
   {
    "duration": 44,
    "start_time": "2022-03-20T17:12:55.375Z"
   },
   {
    "duration": 14,
    "start_time": "2022-03-20T17:12:55.420Z"
   },
   {
    "duration": 34,
    "start_time": "2022-03-20T17:12:55.436Z"
   },
   {
    "duration": 19,
    "start_time": "2022-03-20T17:12:55.472Z"
   },
   {
    "duration": 27,
    "start_time": "2022-03-20T17:12:55.509Z"
   },
   {
    "duration": 18,
    "start_time": "2022-03-20T17:12:55.538Z"
   },
   {
    "duration": 20,
    "start_time": "2022-03-20T17:12:55.558Z"
   },
   {
    "duration": 41,
    "start_time": "2022-03-20T17:12:55.580Z"
   },
   {
    "duration": 37,
    "start_time": "2022-03-20T17:18:33.394Z"
   },
   {
    "duration": 9,
    "start_time": "2022-03-20T17:37:43.715Z"
   },
   {
    "duration": 808,
    "start_time": "2022-03-20T17:37:51.371Z"
   },
   {
    "duration": 74,
    "start_time": "2022-03-20T17:41:31.177Z"
   },
   {
    "duration": 32,
    "start_time": "2022-03-20T17:41:38.262Z"
   },
   {
    "duration": 323,
    "start_time": "2022-03-20T17:42:01.032Z"
   },
   {
    "duration": 166,
    "start_time": "2022-03-20T17:45:32.869Z"
   },
   {
    "duration": 71,
    "start_time": "2022-03-20T17:48:39.694Z"
   },
   {
    "duration": 66,
    "start_time": "2022-03-20T17:50:12.560Z"
   },
   {
    "duration": 67,
    "start_time": "2022-03-20T17:50:20.104Z"
   },
   {
    "duration": 14,
    "start_time": "2022-03-20T17:51:36.581Z"
   },
   {
    "duration": 188,
    "start_time": "2022-03-20T17:51:42.672Z"
   },
   {
    "duration": 22,
    "start_time": "2022-03-20T17:52:00.011Z"
   },
   {
    "duration": 14,
    "start_time": "2022-03-20T17:52:09.833Z"
   },
   {
    "duration": 172,
    "start_time": "2022-03-20T17:52:41.358Z"
   },
   {
    "duration": 68,
    "start_time": "2022-03-20T17:53:50.822Z"
   },
   {
    "duration": 671,
    "start_time": "2022-03-20T17:57:11.660Z"
   },
   {
    "duration": 167,
    "start_time": "2022-03-20T17:57:48.900Z"
   },
   {
    "duration": 136,
    "start_time": "2022-03-20T18:00:05.107Z"
   },
   {
    "duration": 178,
    "start_time": "2022-03-20T18:00:53.276Z"
   },
   {
    "duration": 60,
    "start_time": "2022-03-20T18:02:04.738Z"
   },
   {
    "duration": 62,
    "start_time": "2022-03-20T18:02:12.876Z"
   },
   {
    "duration": 70,
    "start_time": "2022-03-20T18:02:21.452Z"
   },
   {
    "duration": 183,
    "start_time": "2022-03-20T18:02:33.208Z"
   },
   {
    "duration": 74,
    "start_time": "2022-03-20T18:11:31.809Z"
   },
   {
    "duration": 181,
    "start_time": "2022-03-20T18:11:40.869Z"
   },
   {
    "duration": 188,
    "start_time": "2022-03-20T18:18:48.174Z"
   },
   {
    "duration": 361,
    "start_time": "2022-03-20T18:19:25.124Z"
   },
   {
    "duration": 213,
    "start_time": "2022-03-20T18:19:47.011Z"
   },
   {
    "duration": 219,
    "start_time": "2022-03-20T18:21:18.807Z"
   },
   {
    "duration": 185,
    "start_time": "2022-03-20T18:22:06.904Z"
   },
   {
    "duration": 75,
    "start_time": "2022-03-20T18:22:34.477Z"
   },
   {
    "duration": 16,
    "start_time": "2022-03-20T18:22:34.554Z"
   },
   {
    "duration": 11,
    "start_time": "2022-03-20T18:22:34.572Z"
   },
   {
    "duration": 37,
    "start_time": "2022-03-20T18:22:34.586Z"
   },
   {
    "duration": 183,
    "start_time": "2022-03-20T18:22:34.624Z"
   },
   {
    "duration": 183,
    "start_time": "2022-03-20T18:22:34.809Z"
   },
   {
    "duration": 0,
    "start_time": "2022-03-20T18:22:34.994Z"
   },
   {
    "duration": 0,
    "start_time": "2022-03-20T18:22:34.996Z"
   },
   {
    "duration": 0,
    "start_time": "2022-03-20T18:22:34.997Z"
   },
   {
    "duration": 0,
    "start_time": "2022-03-20T18:22:34.998Z"
   },
   {
    "duration": 0,
    "start_time": "2022-03-20T18:22:34.999Z"
   },
   {
    "duration": 0,
    "start_time": "2022-03-20T18:22:35.008Z"
   },
   {
    "duration": 0,
    "start_time": "2022-03-20T18:22:35.009Z"
   },
   {
    "duration": 0,
    "start_time": "2022-03-20T18:22:35.011Z"
   },
   {
    "duration": 0,
    "start_time": "2022-03-20T18:22:35.012Z"
   },
   {
    "duration": 0,
    "start_time": "2022-03-20T18:22:35.013Z"
   },
   {
    "duration": 0,
    "start_time": "2022-03-20T18:22:35.014Z"
   },
   {
    "duration": 0,
    "start_time": "2022-03-20T18:22:35.015Z"
   },
   {
    "duration": 0,
    "start_time": "2022-03-20T18:22:35.016Z"
   },
   {
    "duration": 0,
    "start_time": "2022-03-20T18:22:35.017Z"
   },
   {
    "duration": 0,
    "start_time": "2022-03-20T18:22:35.018Z"
   },
   {
    "duration": 0,
    "start_time": "2022-03-20T18:22:35.019Z"
   },
   {
    "duration": 0,
    "start_time": "2022-03-20T18:22:35.020Z"
   },
   {
    "duration": 0,
    "start_time": "2022-03-20T18:22:35.021Z"
   },
   {
    "duration": 0,
    "start_time": "2022-03-20T18:22:35.022Z"
   },
   {
    "duration": 167,
    "start_time": "2022-03-20T18:23:30.484Z"
   },
   {
    "duration": 159,
    "start_time": "2022-03-20T18:23:41.655Z"
   },
   {
    "duration": 71,
    "start_time": "2022-03-20T18:23:51.281Z"
   },
   {
    "duration": 15,
    "start_time": "2022-03-20T18:23:51.354Z"
   },
   {
    "duration": 12,
    "start_time": "2022-03-20T18:23:51.371Z"
   },
   {
    "duration": 39,
    "start_time": "2022-03-20T18:23:51.385Z"
   },
   {
    "duration": 184,
    "start_time": "2022-03-20T18:23:51.425Z"
   },
   {
    "duration": 172,
    "start_time": "2022-03-20T18:23:51.610Z"
   },
   {
    "duration": 6,
    "start_time": "2022-03-20T18:23:51.784Z"
   },
   {
    "duration": 20,
    "start_time": "2022-03-20T18:23:51.792Z"
   },
   {
    "duration": 19,
    "start_time": "2022-03-20T18:23:51.814Z"
   },
   {
    "duration": 39,
    "start_time": "2022-03-20T18:23:51.836Z"
   },
   {
    "duration": 48,
    "start_time": "2022-03-20T18:23:51.876Z"
   },
   {
    "duration": 16,
    "start_time": "2022-03-20T18:23:51.925Z"
   },
   {
    "duration": 11,
    "start_time": "2022-03-20T18:23:51.942Z"
   },
   {
    "duration": 7,
    "start_time": "2022-03-20T18:23:51.955Z"
   },
   {
    "duration": 7,
    "start_time": "2022-03-20T18:23:51.963Z"
   },
   {
    "duration": 42,
    "start_time": "2022-03-20T18:23:51.972Z"
   },
   {
    "duration": 14,
    "start_time": "2022-03-20T18:23:52.015Z"
   },
   {
    "duration": 12,
    "start_time": "2022-03-20T18:23:52.031Z"
   },
   {
    "duration": 13,
    "start_time": "2022-03-20T18:23:52.044Z"
   },
   {
    "duration": 53,
    "start_time": "2022-03-20T18:23:52.059Z"
   },
   {
    "duration": 18,
    "start_time": "2022-03-20T18:23:52.114Z"
   },
   {
    "duration": 18,
    "start_time": "2022-03-20T18:23:52.134Z"
   },
   {
    "duration": 18,
    "start_time": "2022-03-20T18:23:52.153Z"
   },
   {
    "duration": 47,
    "start_time": "2022-03-20T18:23:52.172Z"
   },
   {
    "duration": 19,
    "start_time": "2022-03-20T18:23:52.220Z"
   },
   {
    "duration": 164,
    "start_time": "2022-03-20T18:25:35.825Z"
   },
   {
    "duration": 157,
    "start_time": "2022-03-20T18:25:42.877Z"
   },
   {
    "duration": 172,
    "start_time": "2022-03-20T18:25:51.897Z"
   },
   {
    "duration": 61,
    "start_time": "2022-03-20T18:26:59.269Z"
   },
   {
    "duration": 77,
    "start_time": "2022-03-20T18:28:01.036Z"
   },
   {
    "duration": 186,
    "start_time": "2022-03-20T18:28:12.122Z"
   },
   {
    "duration": 227,
    "start_time": "2022-03-20T18:29:18.787Z"
   },
   {
    "duration": 146,
    "start_time": "2022-03-20T18:42:15.617Z"
   },
   {
    "duration": 273,
    "start_time": "2022-03-20T18:44:56.418Z"
   },
   {
    "duration": 392,
    "start_time": "2022-03-20T18:52:00.557Z"
   },
   {
    "duration": 108,
    "start_time": "2022-03-20T18:57:36.534Z"
   },
   {
    "duration": 73,
    "start_time": "2022-03-20T18:59:53.629Z"
   },
   {
    "duration": 16,
    "start_time": "2022-03-20T18:59:53.706Z"
   },
   {
    "duration": 11,
    "start_time": "2022-03-20T18:59:53.723Z"
   },
   {
    "duration": 16,
    "start_time": "2022-03-20T18:59:53.736Z"
   },
   {
    "duration": 192,
    "start_time": "2022-03-20T18:59:53.754Z"
   },
   {
    "duration": 282,
    "start_time": "2022-03-20T18:59:53.947Z"
   },
   {
    "duration": 221,
    "start_time": "2022-03-20T18:59:54.230Z"
   },
   {
    "duration": 6,
    "start_time": "2022-03-20T18:59:54.452Z"
   },
   {
    "duration": 9,
    "start_time": "2022-03-20T18:59:54.459Z"
   },
   {
    "duration": 39,
    "start_time": "2022-03-20T18:59:54.471Z"
   },
   {
    "duration": 34,
    "start_time": "2022-03-20T18:59:54.511Z"
   },
   {
    "duration": 19,
    "start_time": "2022-03-20T18:59:54.546Z"
   },
   {
    "duration": 44,
    "start_time": "2022-03-20T18:59:54.566Z"
   },
   {
    "duration": 8,
    "start_time": "2022-03-20T18:59:54.612Z"
   },
   {
    "duration": 9,
    "start_time": "2022-03-20T18:59:54.622Z"
   },
   {
    "duration": 7,
    "start_time": "2022-03-20T18:59:54.632Z"
   },
   {
    "duration": 7,
    "start_time": "2022-03-20T18:59:54.641Z"
   },
   {
    "duration": 13,
    "start_time": "2022-03-20T18:59:54.650Z"
   },
   {
    "duration": 45,
    "start_time": "2022-03-20T18:59:54.665Z"
   },
   {
    "duration": 15,
    "start_time": "2022-03-20T18:59:54.711Z"
   },
   {
    "duration": 24,
    "start_time": "2022-03-20T18:59:54.727Z"
   },
   {
    "duration": 19,
    "start_time": "2022-03-20T18:59:54.752Z"
   },
   {
    "duration": 39,
    "start_time": "2022-03-20T18:59:54.773Z"
   },
   {
    "duration": 19,
    "start_time": "2022-03-20T18:59:54.814Z"
   },
   {
    "duration": 17,
    "start_time": "2022-03-20T18:59:54.835Z"
   },
   {
    "duration": 17,
    "start_time": "2022-03-20T18:59:54.854Z"
   },
   {
    "duration": 166,
    "start_time": "2022-03-20T19:03:12.231Z"
   },
   {
    "duration": 291,
    "start_time": "2022-03-20T19:03:32.643Z"
   },
   {
    "duration": 225,
    "start_time": "2022-03-20T19:05:12.229Z"
   },
   {
    "duration": 77,
    "start_time": "2022-03-20T19:08:02.874Z"
   },
   {
    "duration": 15,
    "start_time": "2022-03-20T19:08:02.953Z"
   },
   {
    "duration": 12,
    "start_time": "2022-03-20T19:08:02.969Z"
   },
   {
    "duration": 43,
    "start_time": "2022-03-20T19:08:02.983Z"
   },
   {
    "duration": 185,
    "start_time": "2022-03-20T19:08:03.027Z"
   },
   {
    "duration": 287,
    "start_time": "2022-03-20T19:08:03.214Z"
   },
   {
    "duration": 238,
    "start_time": "2022-03-20T19:08:03.503Z"
   },
   {
    "duration": 7,
    "start_time": "2022-03-20T19:08:03.743Z"
   },
   {
    "duration": 9,
    "start_time": "2022-03-20T19:08:03.752Z"
   },
   {
    "duration": 44,
    "start_time": "2022-03-20T19:08:03.765Z"
   },
   {
    "duration": 35,
    "start_time": "2022-03-20T19:08:03.811Z"
   },
   {
    "duration": 23,
    "start_time": "2022-03-20T19:08:03.848Z"
   },
   {
    "duration": 17,
    "start_time": "2022-03-20T19:08:03.908Z"
   },
   {
    "duration": 8,
    "start_time": "2022-03-20T19:08:03.927Z"
   },
   {
    "duration": 6,
    "start_time": "2022-03-20T19:08:03.937Z"
   },
   {
    "duration": 8,
    "start_time": "2022-03-20T19:08:03.945Z"
   },
   {
    "duration": 7,
    "start_time": "2022-03-20T19:08:03.955Z"
   },
   {
    "duration": 50,
    "start_time": "2022-03-20T19:08:03.964Z"
   },
   {
    "duration": 13,
    "start_time": "2022-03-20T19:08:04.016Z"
   },
   {
    "duration": 14,
    "start_time": "2022-03-20T19:08:04.031Z"
   },
   {
    "duration": 20,
    "start_time": "2022-03-20T19:08:04.046Z"
   },
   {
    "duration": 51,
    "start_time": "2022-03-20T19:08:04.068Z"
   },
   {
    "duration": 24,
    "start_time": "2022-03-20T19:08:04.121Z"
   },
   {
    "duration": 17,
    "start_time": "2022-03-20T19:08:04.146Z"
   },
   {
    "duration": 17,
    "start_time": "2022-03-20T19:08:04.165Z"
   },
   {
    "duration": 40,
    "start_time": "2022-03-20T19:08:04.184Z"
   },
   {
    "duration": 79,
    "start_time": "2022-03-20T19:09:16.821Z"
   },
   {
    "duration": 16,
    "start_time": "2022-03-20T19:09:16.902Z"
   },
   {
    "duration": 11,
    "start_time": "2022-03-20T19:09:16.919Z"
   },
   {
    "duration": 21,
    "start_time": "2022-03-20T19:09:16.932Z"
   },
   {
    "duration": 196,
    "start_time": "2022-03-20T19:09:16.954Z"
   },
   {
    "duration": 426,
    "start_time": "2022-03-20T19:09:17.151Z"
   },
   {
    "duration": 234,
    "start_time": "2022-03-20T19:09:17.578Z"
   },
   {
    "duration": 6,
    "start_time": "2022-03-20T19:09:17.813Z"
   },
   {
    "duration": 8,
    "start_time": "2022-03-20T19:09:17.821Z"
   },
   {
    "duration": 19,
    "start_time": "2022-03-20T19:09:17.832Z"
   },
   {
    "duration": 66,
    "start_time": "2022-03-20T19:09:17.852Z"
   },
   {
    "duration": 18,
    "start_time": "2022-03-20T19:09:17.920Z"
   },
   {
    "duration": 15,
    "start_time": "2022-03-20T19:09:17.940Z"
   },
   {
    "duration": 7,
    "start_time": "2022-03-20T19:09:17.957Z"
   },
   {
    "duration": 44,
    "start_time": "2022-03-20T19:09:17.966Z"
   },
   {
    "duration": 8,
    "start_time": "2022-03-20T19:09:18.012Z"
   },
   {
    "duration": 7,
    "start_time": "2022-03-20T19:09:18.021Z"
   },
   {
    "duration": 13,
    "start_time": "2022-03-20T19:09:18.030Z"
   },
   {
    "duration": 12,
    "start_time": "2022-03-20T19:09:18.044Z"
   },
   {
    "duration": 13,
    "start_time": "2022-03-20T19:09:18.058Z"
   },
   {
    "duration": 21,
    "start_time": "2022-03-20T19:09:18.109Z"
   },
   {
    "duration": 20,
    "start_time": "2022-03-20T19:09:18.132Z"
   },
   {
    "duration": 25,
    "start_time": "2022-03-20T19:09:18.153Z"
   },
   {
    "duration": 38,
    "start_time": "2022-03-20T19:09:18.180Z"
   },
   {
    "duration": 19,
    "start_time": "2022-03-20T19:09:18.220Z"
   },
   {
    "duration": 18,
    "start_time": "2022-03-20T19:09:18.241Z"
   },
   {
    "duration": 81,
    "start_time": "2022-03-20T19:15:55.667Z"
   },
   {
    "duration": 18,
    "start_time": "2022-03-20T19:15:55.750Z"
   },
   {
    "duration": 11,
    "start_time": "2022-03-20T19:15:55.769Z"
   },
   {
    "duration": 39,
    "start_time": "2022-03-20T19:15:55.782Z"
   },
   {
    "duration": 192,
    "start_time": "2022-03-20T19:15:55.823Z"
   },
   {
    "duration": 310,
    "start_time": "2022-03-20T19:15:56.017Z"
   },
   {
    "duration": 247,
    "start_time": "2022-03-20T19:15:56.329Z"
   },
   {
    "duration": 7,
    "start_time": "2022-03-20T19:15:56.578Z"
   },
   {
    "duration": 24,
    "start_time": "2022-03-20T19:15:56.587Z"
   },
   {
    "duration": 21,
    "start_time": "2022-03-20T19:15:56.614Z"
   },
   {
    "duration": 36,
    "start_time": "2022-03-20T19:15:56.636Z"
   },
   {
    "duration": 47,
    "start_time": "2022-03-20T19:15:56.674Z"
   },
   {
    "duration": 16,
    "start_time": "2022-03-20T19:15:56.723Z"
   },
   {
    "duration": 8,
    "start_time": "2022-03-20T19:15:56.740Z"
   },
   {
    "duration": 7,
    "start_time": "2022-03-20T19:15:56.749Z"
   },
   {
    "duration": 7,
    "start_time": "2022-03-20T19:15:56.758Z"
   },
   {
    "duration": 47,
    "start_time": "2022-03-20T19:15:56.768Z"
   },
   {
    "duration": 13,
    "start_time": "2022-03-20T19:15:56.817Z"
   },
   {
    "duration": 14,
    "start_time": "2022-03-20T19:15:56.832Z"
   },
   {
    "duration": 14,
    "start_time": "2022-03-20T19:15:56.848Z"
   },
   {
    "duration": 60,
    "start_time": "2022-03-20T19:15:56.864Z"
   },
   {
    "duration": 28,
    "start_time": "2022-03-20T19:15:56.926Z"
   },
   {
    "duration": 21,
    "start_time": "2022-03-20T19:15:56.956Z"
   },
   {
    "duration": 43,
    "start_time": "2022-03-20T19:15:56.979Z"
   },
   {
    "duration": 19,
    "start_time": "2022-03-20T19:15:57.024Z"
   },
   {
    "duration": 19,
    "start_time": "2022-03-20T19:15:57.045Z"
   }
  ],
  "kernelspec": {
   "display_name": "Python 3 (ipykernel)",
   "language": "python",
   "name": "python3"
  },
  "language_info": {
   "codemirror_mode": {
    "name": "ipython",
    "version": 3
   },
   "file_extension": ".py",
   "mimetype": "text/x-python",
   "name": "python",
   "nbconvert_exporter": "python",
   "pygments_lexer": "ipython3",
   "version": "3.7.8"
  },
  "toc": {
   "base_numbering": 1,
   "nav_menu": {
    "height": "222px",
    "width": "448px"
   },
   "number_sections": true,
   "sideBar": true,
   "skip_h1_title": true,
   "title_cell": "Table of Contents",
   "title_sidebar": "Contents",
   "toc_cell": false,
   "toc_position": {
    "height": "calc(100% - 180px)",
    "left": "10px",
    "top": "150px",
    "width": "289.6px"
   },
   "toc_section_display": true,
   "toc_window_display": true
  }
 },
 "nbformat": 4,
 "nbformat_minor": 5
}
