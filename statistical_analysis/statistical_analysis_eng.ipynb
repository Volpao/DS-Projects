{
 "cells": [
  {
   "cell_type": "markdown",
   "id": "ecad36fb",
   "metadata": {},
   "source": [
    "# Study on Mobile Tariffs"
   ]
  },
  {
   "cell_type": "markdown",
   "id": "8408564a",
   "metadata": {},
   "source": [
    "The purpose of any business is to make a profit. Distribution of resources is also associated with profit: it makes sense to invest the resources of the enterprise in what brings it.\n",
    "Mobileoperators are not exception. In the modern market, each of them offers several tariffs - in order to attract and satisfy the needs of the largest number of users. However, not all tariffs are equally profitable for operators.\n",
    "In this study, we will analyze the data of the operator \"Megaline\", offering customers two tariff plans: \"Smart\" and \"Ultra\". To adjust the advertising budget, we will try to understand which tariff brings the company more revenue.\n",
    "Below is a description of the rates:\n",
    "\n",
    "**Smart Tariff**\n",
    "Monthly fee: 550 rubles\n",
    "Included 500 minutes of talk, 50 messages and 15 GB of internet traffic\n",
    "The cost of services above the tariff package:\n",
    "minute of conversation: 3 rubles\n",
    "message: 3 rubles\n",
    "1 GB of Internet traffic: 200 rubles\n",
    "\n",
    "**Ultra Tariff**\n",
    "Monthly fee: 1950 rubles\n",
    "Included 3000 minutes of calls, 1000 messages and 30 GB of internet traffic\n",
    "The cost of services above the tariff package:\n",
    "minute of conversation: 1 ruble\n",
    "message: 1 ruble\n",
    "1 GB of Internet traffic: 150 rubles\n",
    "\n",
    "We will analyze tariffs on a small sample of clients - about 500 Megaline users: regarding which we will have data on where they come from, what tariff they use, how many calls and messages, how many GB of traffic they used in 2018.\n",
    "\n",
    "We will get the above data from several csv format files: '/datasets/calls.csv', '/datasets/internet.csv', '/datasets/messages.csv', '/datasets/tariffs.csv', '/datasets/ users.csv'.\n",
    "\n",
    "From the assignment, we know that these files contain the following metrics:\n",
    "\n",
    " - Table users (information about users):\n",
    "user_id - unique user ID\n",
    "first_name - username\n",
    "last_name - last name of the user\n",
    "age — user's age (years)\n",
    "reg_date — tariff connection date (day, month, year)\n",
    "churn_date — date of contract termination (if the value is omitted, then the tariff was still valid at the time of data collection)\n",
    "city — user's city of residence\n",
    "tariff — tariff plan name\n",
    " - Table calls (information about calls):\n",
    "id - unique call number\n",
    "call_date — call date\n",
    "duration — call duration in minutes\n",
    "user_id — identifier of the user who made the call\n",
    " - Messages table (message information):\n",
    "id - unique message number\n",
    "message_date — message date\n",
    "user_id - ID of the user who sent the message\n",
    " - Internet table (information about Internet sessions):\n",
    "id — unique session number\n",
    "mb_used - the amount of Internet traffic spent per session (in megabytes)\n",
    "session_date — internet session date\n",
    "user_id - user ID\n",
    " - Tariffs table (tariff information):\n",
    "tariff_name — tariff name\n",
    "rub_monthly_fee — monthly subscription fee in rubles\n",
    "minutes_included - the number of minutes of conversation per month included in the subscription fee\n",
    "messages_included - number of messages per month included in the subscription fee\n",
    "mb_per_month_included - the amount of Internet traffic included in the subscription fee (in megabytes)\n",
    "rub_per_minute - the cost of a minute of conversation in excess of the tariff package (for example, if the tariff includes 100 minutes of conversation per month, then a fee will be charged from 101 minutes)\n",
    "rub_per_message - the cost of sending a message in excess of the tariff package\n",
    "rub_per_gb - the cost of an additional gigabyte of Internet traffic in excess of the tariff package (1 gigabyte = 1024 megabytes)\n",
    "\n",
    "**The purpose of this study** is to test the following null hypotheses:\n",
    "1. The average revenue of users of the Ultra and Smart tariffs does not differ;\n",
    "2. The average revenue of users from Moscow does not differ from the revenue of users from other regions.\n",
    "\n",
    "According to the results of the analysis, it is necessary either to accept the hypotheses or to reject them in favor of alternative ones: accordingly, the average revenue of users of the two tariffs is different, and the average revenue of users from Moscow and the regions is different.\n",
    "\n",
    "**Study process**:\n",
    "\n",
    "We will try to test the above hypotheses based on several tables with a sample of data about Megaline users. Since we do not have information about the format (except for the column names) and the quality of the data, before testing the hypotheses, we will overview the data and pre-process it, as well as perform data discovery and statistical analysis: this is necessary to eliminate errors that may affect the conclusions.\n",
    "\n",
    "\n",
    "Thus, this study will include the following steps:\n",
    "\n",
    "* data overview \n",
    "* data preprocessing\n",
    "* data discovery and statistical analysis\n",
    "* testing hypotheses\n"
   ]
  },
  {
   "cell_type": "markdown",
   "id": "7df204d0",
   "metadata": {},
   "source": [
    "## Data Overview\n",
    "\n"
   ]
  },
  {
   "cell_type": "code",
   "execution_count": 47,
   "id": "ed046b58",
   "metadata": {},
   "outputs": [],
   "source": [
    "import numpy as np  # importing numpy\n",
    "import pandas as pd  # importing pandas\n",
    "import os.path as path # importing os.path for file path managing\n",
    "import seaborn as sns # importing seaborn for plotting\n",
    "from scipy import stats as st # importing stats for statisctisc functions\n",
    "from matplotlib.dates import DateFormatter # importing DateFormater for date formating while plotting"
   ]
  },
  {
   "cell_type": "markdown",
   "id": "2a45e1a4",
   "metadata": {},
   "source": [
    "Let's make the first idea on the data. Before analyzing, we shall read the files in csv format, save them as tables to variables, and also look at the first 10 lines. Next, using the info() method, we will display general information about the dataframes:\n"
   ]
  },
  {
   "cell_type": "code",
   "execution_count": 48,
   "id": "7d068f91",
   "metadata": {},
   "outputs": [
    {
     "data": {
      "text/html": [
       "<div>\n",
       "<style scoped>\n",
       "    .dataframe tbody tr th:only-of-type {\n",
       "        vertical-align: middle;\n",
       "    }\n",
       "\n",
       "    .dataframe tbody tr th {\n",
       "        vertical-align: top;\n",
       "    }\n",
       "\n",
       "    .dataframe thead th {\n",
       "        text-align: right;\n",
       "    }\n",
       "</style>\n",
       "<table border=\"1\" class=\"dataframe\">\n",
       "  <thead>\n",
       "    <tr style=\"text-align: right;\">\n",
       "      <th></th>\n",
       "      <th>id</th>\n",
       "      <th>call_date</th>\n",
       "      <th>duration</th>\n",
       "      <th>user_id</th>\n",
       "    </tr>\n",
       "  </thead>\n",
       "  <tbody>\n",
       "    <tr>\n",
       "      <th>0</th>\n",
       "      <td>1000_0</td>\n",
       "      <td>2018-07-25</td>\n",
       "      <td>0.00</td>\n",
       "      <td>1000</td>\n",
       "    </tr>\n",
       "    <tr>\n",
       "      <th>1</th>\n",
       "      <td>1000_1</td>\n",
       "      <td>2018-08-17</td>\n",
       "      <td>0.00</td>\n",
       "      <td>1000</td>\n",
       "    </tr>\n",
       "    <tr>\n",
       "      <th>2</th>\n",
       "      <td>1000_2</td>\n",
       "      <td>2018-06-11</td>\n",
       "      <td>2.85</td>\n",
       "      <td>1000</td>\n",
       "    </tr>\n",
       "    <tr>\n",
       "      <th>3</th>\n",
       "      <td>1000_3</td>\n",
       "      <td>2018-09-21</td>\n",
       "      <td>13.80</td>\n",
       "      <td>1000</td>\n",
       "    </tr>\n",
       "    <tr>\n",
       "      <th>4</th>\n",
       "      <td>1000_4</td>\n",
       "      <td>2018-12-15</td>\n",
       "      <td>5.18</td>\n",
       "      <td>1000</td>\n",
       "    </tr>\n",
       "    <tr>\n",
       "      <th>5</th>\n",
       "      <td>1000_5</td>\n",
       "      <td>2018-11-02</td>\n",
       "      <td>0.00</td>\n",
       "      <td>1000</td>\n",
       "    </tr>\n",
       "    <tr>\n",
       "      <th>6</th>\n",
       "      <td>1000_6</td>\n",
       "      <td>2018-10-18</td>\n",
       "      <td>0.00</td>\n",
       "      <td>1000</td>\n",
       "    </tr>\n",
       "    <tr>\n",
       "      <th>7</th>\n",
       "      <td>1000_7</td>\n",
       "      <td>2018-08-22</td>\n",
       "      <td>18.31</td>\n",
       "      <td>1000</td>\n",
       "    </tr>\n",
       "    <tr>\n",
       "      <th>8</th>\n",
       "      <td>1000_8</td>\n",
       "      <td>2018-09-15</td>\n",
       "      <td>18.44</td>\n",
       "      <td>1000</td>\n",
       "    </tr>\n",
       "    <tr>\n",
       "      <th>9</th>\n",
       "      <td>1000_9</td>\n",
       "      <td>2018-08-15</td>\n",
       "      <td>0.00</td>\n",
       "      <td>1000</td>\n",
       "    </tr>\n",
       "  </tbody>\n",
       "</table>\n",
       "</div>"
      ],
      "text/plain": [
       "       id   call_date  duration  user_id\n",
       "0  1000_0  2018-07-25      0.00     1000\n",
       "1  1000_1  2018-08-17      0.00     1000\n",
       "2  1000_2  2018-06-11      2.85     1000\n",
       "3  1000_3  2018-09-21     13.80     1000\n",
       "4  1000_4  2018-12-15      5.18     1000\n",
       "5  1000_5  2018-11-02      0.00     1000\n",
       "6  1000_6  2018-10-18      0.00     1000\n",
       "7  1000_7  2018-08-22     18.31     1000\n",
       "8  1000_8  2018-09-15     18.44     1000\n",
       "9  1000_9  2018-08-15      0.00     1000"
      ]
     },
     "metadata": {},
     "output_type": "display_data"
    }
   ],
   "source": [
    "# reading csv file and saving to calls\n",
    "try:\n",
    "    path_1 = 'calls.csv'\n",
    "    calls = pd.read_csv(path_1) if path.exists(path_1) else pd.read_csv(f'/datasets/{path_1}') # checking for file path\n",
    "    display(calls.head(10))  # getting first 10 rows of the dataframe\n",
    "except:\n",
    "     print('File not found') # if no path is correct, the error message will be printed\n"
   ]
  },
  {
   "cell_type": "code",
   "execution_count": 49,
   "id": "99ee9f19",
   "metadata": {},
   "outputs": [
    {
     "name": "stdout",
     "output_type": "stream",
     "text": [
      "<class 'pandas.core.frame.DataFrame'>\n",
      "RangeIndex: 202607 entries, 0 to 202606\n",
      "Data columns (total 4 columns):\n",
      " #   Column     Non-Null Count   Dtype  \n",
      "---  ------     --------------   -----  \n",
      " 0   id         202607 non-null  object \n",
      " 1   call_date  202607 non-null  object \n",
      " 2   duration   202607 non-null  float64\n",
      " 3   user_id    202607 non-null  int64  \n",
      "dtypes: float64(1), int64(1), object(2)\n",
      "memory usage: 6.2+ MB\n"
     ]
    }
   ],
   "source": [
    "calls.info() # displaying general info on the dataframe"
   ]
  },
  {
   "cell_type": "code",
   "execution_count": 50,
   "id": "6a7669b6",
   "metadata": {},
   "outputs": [],
   "source": [
    "# reading csv file and saving to internet\n",
    "try:\n",
    "    path_2 = 'internet.csv'\n",
    "    internet = pd.read_csv(path_2, index_col=0) if path.exists(path_2) else pd.read_csv(f'/datasets/{path_2}', index_col=0) # checking for file path\n",
    "except:\n",
    "     print('File not found') # if no path is correct, the error message will be printed\n",
    "\n"
   ]
  },
  {
   "cell_type": "code",
   "execution_count": 51,
   "id": "f04426f1",
   "metadata": {},
   "outputs": [
    {
     "name": "stdout",
     "output_type": "stream",
     "text": [
      "<class 'pandas.core.frame.DataFrame'>\n",
      "Int64Index: 149396 entries, 0 to 149395\n",
      "Data columns (total 4 columns):\n",
      " #   Column        Non-Null Count   Dtype  \n",
      "---  ------        --------------   -----  \n",
      " 0   id            149396 non-null  object \n",
      " 1   mb_used       149396 non-null  float64\n",
      " 2   session_date  149396 non-null  object \n",
      " 3   user_id       149396 non-null  int64  \n",
      "dtypes: float64(1), int64(1), object(2)\n",
      "memory usage: 5.7+ MB\n"
     ]
    }
   ],
   "source": [
    "internet.info()  # displaying general info on the dataframe"
   ]
  },
  {
   "cell_type": "code",
   "execution_count": 52,
   "id": "03c87d4a",
   "metadata": {},
   "outputs": [
    {
     "data": {
      "text/html": [
       "<div>\n",
       "<style scoped>\n",
       "    .dataframe tbody tr th:only-of-type {\n",
       "        vertical-align: middle;\n",
       "    }\n",
       "\n",
       "    .dataframe tbody tr th {\n",
       "        vertical-align: top;\n",
       "    }\n",
       "\n",
       "    .dataframe thead th {\n",
       "        text-align: right;\n",
       "    }\n",
       "</style>\n",
       "<table border=\"1\" class=\"dataframe\">\n",
       "  <thead>\n",
       "    <tr style=\"text-align: right;\">\n",
       "      <th></th>\n",
       "      <th>id</th>\n",
       "      <th>message_date</th>\n",
       "      <th>user_id</th>\n",
       "    </tr>\n",
       "  </thead>\n",
       "  <tbody>\n",
       "    <tr>\n",
       "      <th>0</th>\n",
       "      <td>1000_0</td>\n",
       "      <td>2018-06-27</td>\n",
       "      <td>1000</td>\n",
       "    </tr>\n",
       "    <tr>\n",
       "      <th>1</th>\n",
       "      <td>1000_1</td>\n",
       "      <td>2018-10-08</td>\n",
       "      <td>1000</td>\n",
       "    </tr>\n",
       "    <tr>\n",
       "      <th>2</th>\n",
       "      <td>1000_2</td>\n",
       "      <td>2018-08-04</td>\n",
       "      <td>1000</td>\n",
       "    </tr>\n",
       "    <tr>\n",
       "      <th>3</th>\n",
       "      <td>1000_3</td>\n",
       "      <td>2018-06-16</td>\n",
       "      <td>1000</td>\n",
       "    </tr>\n",
       "    <tr>\n",
       "      <th>4</th>\n",
       "      <td>1000_4</td>\n",
       "      <td>2018-12-05</td>\n",
       "      <td>1000</td>\n",
       "    </tr>\n",
       "    <tr>\n",
       "      <th>5</th>\n",
       "      <td>1000_5</td>\n",
       "      <td>2018-06-20</td>\n",
       "      <td>1000</td>\n",
       "    </tr>\n",
       "    <tr>\n",
       "      <th>6</th>\n",
       "      <td>1000_6</td>\n",
       "      <td>2018-11-19</td>\n",
       "      <td>1000</td>\n",
       "    </tr>\n",
       "    <tr>\n",
       "      <th>7</th>\n",
       "      <td>1000_7</td>\n",
       "      <td>2018-10-29</td>\n",
       "      <td>1000</td>\n",
       "    </tr>\n",
       "    <tr>\n",
       "      <th>8</th>\n",
       "      <td>1000_8</td>\n",
       "      <td>2018-06-25</td>\n",
       "      <td>1000</td>\n",
       "    </tr>\n",
       "    <tr>\n",
       "      <th>9</th>\n",
       "      <td>1000_9</td>\n",
       "      <td>2018-12-18</td>\n",
       "      <td>1000</td>\n",
       "    </tr>\n",
       "  </tbody>\n",
       "</table>\n",
       "</div>"
      ],
      "text/plain": [
       "       id message_date  user_id\n",
       "0  1000_0   2018-06-27     1000\n",
       "1  1000_1   2018-10-08     1000\n",
       "2  1000_2   2018-08-04     1000\n",
       "3  1000_3   2018-06-16     1000\n",
       "4  1000_4   2018-12-05     1000\n",
       "5  1000_5   2018-06-20     1000\n",
       "6  1000_6   2018-11-19     1000\n",
       "7  1000_7   2018-10-29     1000\n",
       "8  1000_8   2018-06-25     1000\n",
       "9  1000_9   2018-12-18     1000"
      ]
     },
     "metadata": {},
     "output_type": "display_data"
    }
   ],
   "source": [
    "# reading csv file and saving to messages\n",
    "try:\n",
    "    path_3 = 'messages.csv'\n",
    "    messages = pd.read_csv(path_3) if path.exists(path_3) else pd.read_csv(f'/datasets/{path_3}') # checking for file path\n",
    "    display(messages.head(10))  # getting first 10 rows of the dataframe\n",
    "except:\n",
    "     print('File not found') # if no path is correct, the error message will be printed\n"
   ]
  },
  {
   "cell_type": "code",
   "execution_count": 53,
   "id": "fafc9876",
   "metadata": {},
   "outputs": [
    {
     "name": "stdout",
     "output_type": "stream",
     "text": [
      "<class 'pandas.core.frame.DataFrame'>\n",
      "RangeIndex: 123036 entries, 0 to 123035\n",
      "Data columns (total 3 columns):\n",
      " #   Column        Non-Null Count   Dtype \n",
      "---  ------        --------------   ----- \n",
      " 0   id            123036 non-null  object\n",
      " 1   message_date  123036 non-null  object\n",
      " 2   user_id       123036 non-null  int64 \n",
      "dtypes: int64(1), object(2)\n",
      "memory usage: 2.8+ MB\n"
     ]
    }
   ],
   "source": [
    "messages.info()  # displaying general info on the dataframe"
   ]
  },
  {
   "cell_type": "code",
   "execution_count": 54,
   "id": "de5c3691",
   "metadata": {},
   "outputs": [
    {
     "data": {
      "text/html": [
       "<div>\n",
       "<style scoped>\n",
       "    .dataframe tbody tr th:only-of-type {\n",
       "        vertical-align: middle;\n",
       "    }\n",
       "\n",
       "    .dataframe tbody tr th {\n",
       "        vertical-align: top;\n",
       "    }\n",
       "\n",
       "    .dataframe thead th {\n",
       "        text-align: right;\n",
       "    }\n",
       "</style>\n",
       "<table border=\"1\" class=\"dataframe\">\n",
       "  <thead>\n",
       "    <tr style=\"text-align: right;\">\n",
       "      <th></th>\n",
       "      <th>messages_included</th>\n",
       "      <th>mb_per_month_included</th>\n",
       "      <th>minutes_included</th>\n",
       "      <th>rub_monthly_fee</th>\n",
       "      <th>rub_per_gb</th>\n",
       "      <th>rub_per_message</th>\n",
       "      <th>rub_per_minute</th>\n",
       "      <th>tariff_name</th>\n",
       "    </tr>\n",
       "  </thead>\n",
       "  <tbody>\n",
       "    <tr>\n",
       "      <th>0</th>\n",
       "      <td>50</td>\n",
       "      <td>15360</td>\n",
       "      <td>500</td>\n",
       "      <td>550</td>\n",
       "      <td>200</td>\n",
       "      <td>3</td>\n",
       "      <td>3</td>\n",
       "      <td>smart</td>\n",
       "    </tr>\n",
       "    <tr>\n",
       "      <th>1</th>\n",
       "      <td>1000</td>\n",
       "      <td>30720</td>\n",
       "      <td>3000</td>\n",
       "      <td>1950</td>\n",
       "      <td>150</td>\n",
       "      <td>1</td>\n",
       "      <td>1</td>\n",
       "      <td>ultra</td>\n",
       "    </tr>\n",
       "  </tbody>\n",
       "</table>\n",
       "</div>"
      ],
      "text/plain": [
       "   messages_included  mb_per_month_included  minutes_included  \\\n",
       "0                 50                  15360               500   \n",
       "1               1000                  30720              3000   \n",
       "\n",
       "   rub_monthly_fee  rub_per_gb  rub_per_message  rub_per_minute tariff_name  \n",
       "0              550         200                3               3       smart  \n",
       "1             1950         150                1               1       ultra  "
      ]
     },
     "metadata": {},
     "output_type": "display_data"
    }
   ],
   "source": [
    "# reading csv file and saving to tariffs\n",
    "try:\n",
    "    path_4 = 'tariffs.csv'\n",
    "    tariffs = pd.read_csv(path_4) if path.exists(path_4) else pd.read_csv(f'/datasets/{path_4}') # checking for file path\n",
    "    display(tariffs.head(10))  # getting first 10 rows of the dataframe\n",
    "except:\n",
    "     print('File not found') # if no path is correct, the error message will be printed\n"
   ]
  },
  {
   "cell_type": "code",
   "execution_count": 55,
   "id": "9d6e8953",
   "metadata": {},
   "outputs": [
    {
     "name": "stdout",
     "output_type": "stream",
     "text": [
      "<class 'pandas.core.frame.DataFrame'>\n",
      "RangeIndex: 2 entries, 0 to 1\n",
      "Data columns (total 8 columns):\n",
      " #   Column                 Non-Null Count  Dtype \n",
      "---  ------                 --------------  ----- \n",
      " 0   messages_included      2 non-null      int64 \n",
      " 1   mb_per_month_included  2 non-null      int64 \n",
      " 2   minutes_included       2 non-null      int64 \n",
      " 3   rub_monthly_fee        2 non-null      int64 \n",
      " 4   rub_per_gb             2 non-null      int64 \n",
      " 5   rub_per_message        2 non-null      int64 \n",
      " 6   rub_per_minute         2 non-null      int64 \n",
      " 7   tariff_name            2 non-null      object\n",
      "dtypes: int64(7), object(1)\n",
      "memory usage: 256.0+ bytes\n"
     ]
    }
   ],
   "source": [
    "tariffs.info()  # displaying general info on the dataframe"
   ]
  },
  {
   "cell_type": "code",
   "execution_count": 56,
   "id": "35c82bd5",
   "metadata": {},
   "outputs": [
    {
     "data": {
      "text/html": [
       "<div>\n",
       "<style scoped>\n",
       "    .dataframe tbody tr th:only-of-type {\n",
       "        vertical-align: middle;\n",
       "    }\n",
       "\n",
       "    .dataframe tbody tr th {\n",
       "        vertical-align: top;\n",
       "    }\n",
       "\n",
       "    .dataframe thead th {\n",
       "        text-align: right;\n",
       "    }\n",
       "</style>\n",
       "<table border=\"1\" class=\"dataframe\">\n",
       "  <thead>\n",
       "    <tr style=\"text-align: right;\">\n",
       "      <th></th>\n",
       "      <th>user_id</th>\n",
       "      <th>age</th>\n",
       "      <th>churn_date</th>\n",
       "      <th>city</th>\n",
       "      <th>first_name</th>\n",
       "      <th>last_name</th>\n",
       "      <th>reg_date</th>\n",
       "      <th>tariff</th>\n",
       "    </tr>\n",
       "  </thead>\n",
       "  <tbody>\n",
       "    <tr>\n",
       "      <th>0</th>\n",
       "      <td>1000</td>\n",
       "      <td>52</td>\n",
       "      <td>NaN</td>\n",
       "      <td>Краснодар</td>\n",
       "      <td>Рафаил</td>\n",
       "      <td>Верещагин</td>\n",
       "      <td>2018-05-25</td>\n",
       "      <td>ultra</td>\n",
       "    </tr>\n",
       "    <tr>\n",
       "      <th>1</th>\n",
       "      <td>1001</td>\n",
       "      <td>41</td>\n",
       "      <td>NaN</td>\n",
       "      <td>Москва</td>\n",
       "      <td>Иван</td>\n",
       "      <td>Ежов</td>\n",
       "      <td>2018-11-01</td>\n",
       "      <td>smart</td>\n",
       "    </tr>\n",
       "    <tr>\n",
       "      <th>2</th>\n",
       "      <td>1002</td>\n",
       "      <td>59</td>\n",
       "      <td>NaN</td>\n",
       "      <td>Стерлитамак</td>\n",
       "      <td>Евгений</td>\n",
       "      <td>Абрамович</td>\n",
       "      <td>2018-06-17</td>\n",
       "      <td>smart</td>\n",
       "    </tr>\n",
       "    <tr>\n",
       "      <th>3</th>\n",
       "      <td>1003</td>\n",
       "      <td>23</td>\n",
       "      <td>NaN</td>\n",
       "      <td>Москва</td>\n",
       "      <td>Белла</td>\n",
       "      <td>Белякова</td>\n",
       "      <td>2018-08-17</td>\n",
       "      <td>ultra</td>\n",
       "    </tr>\n",
       "    <tr>\n",
       "      <th>4</th>\n",
       "      <td>1004</td>\n",
       "      <td>68</td>\n",
       "      <td>NaN</td>\n",
       "      <td>Новокузнецк</td>\n",
       "      <td>Татьяна</td>\n",
       "      <td>Авдеенко</td>\n",
       "      <td>2018-05-14</td>\n",
       "      <td>ultra</td>\n",
       "    </tr>\n",
       "    <tr>\n",
       "      <th>5</th>\n",
       "      <td>1005</td>\n",
       "      <td>67</td>\n",
       "      <td>NaN</td>\n",
       "      <td>Набережные Челны</td>\n",
       "      <td>Афанасий</td>\n",
       "      <td>Горлов</td>\n",
       "      <td>2018-01-25</td>\n",
       "      <td>smart</td>\n",
       "    </tr>\n",
       "    <tr>\n",
       "      <th>6</th>\n",
       "      <td>1006</td>\n",
       "      <td>21</td>\n",
       "      <td>NaN</td>\n",
       "      <td>Ульяновск</td>\n",
       "      <td>Леонид</td>\n",
       "      <td>Ермолаев</td>\n",
       "      <td>2018-02-26</td>\n",
       "      <td>smart</td>\n",
       "    </tr>\n",
       "    <tr>\n",
       "      <th>7</th>\n",
       "      <td>1007</td>\n",
       "      <td>65</td>\n",
       "      <td>NaN</td>\n",
       "      <td>Москва</td>\n",
       "      <td>Юна</td>\n",
       "      <td>Березина</td>\n",
       "      <td>2018-04-19</td>\n",
       "      <td>smart</td>\n",
       "    </tr>\n",
       "    <tr>\n",
       "      <th>8</th>\n",
       "      <td>1008</td>\n",
       "      <td>63</td>\n",
       "      <td>NaN</td>\n",
       "      <td>Челябинск</td>\n",
       "      <td>Рустэм</td>\n",
       "      <td>Пономарёв</td>\n",
       "      <td>2018-12-19</td>\n",
       "      <td>smart</td>\n",
       "    </tr>\n",
       "    <tr>\n",
       "      <th>9</th>\n",
       "      <td>1009</td>\n",
       "      <td>24</td>\n",
       "      <td>NaN</td>\n",
       "      <td>Пермь</td>\n",
       "      <td>Василиса</td>\n",
       "      <td>Блинова</td>\n",
       "      <td>2018-03-22</td>\n",
       "      <td>smart</td>\n",
       "    </tr>\n",
       "  </tbody>\n",
       "</table>\n",
       "</div>"
      ],
      "text/plain": [
       "   user_id  age churn_date              city first_name  last_name  \\\n",
       "0     1000   52        NaN         Краснодар     Рафаил  Верещагин   \n",
       "1     1001   41        NaN            Москва       Иван       Ежов   \n",
       "2     1002   59        NaN       Стерлитамак    Евгений  Абрамович   \n",
       "3     1003   23        NaN            Москва      Белла   Белякова   \n",
       "4     1004   68        NaN       Новокузнецк    Татьяна   Авдеенко   \n",
       "5     1005   67        NaN  Набережные Челны   Афанасий     Горлов   \n",
       "6     1006   21        NaN         Ульяновск     Леонид   Ермолаев   \n",
       "7     1007   65        NaN            Москва        Юна   Березина   \n",
       "8     1008   63        NaN         Челябинск     Рустэм  Пономарёв   \n",
       "9     1009   24        NaN             Пермь   Василиса    Блинова   \n",
       "\n",
       "     reg_date tariff  \n",
       "0  2018-05-25  ultra  \n",
       "1  2018-11-01  smart  \n",
       "2  2018-06-17  smart  \n",
       "3  2018-08-17  ultra  \n",
       "4  2018-05-14  ultra  \n",
       "5  2018-01-25  smart  \n",
       "6  2018-02-26  smart  \n",
       "7  2018-04-19  smart  \n",
       "8  2018-12-19  smart  \n",
       "9  2018-03-22  smart  "
      ]
     },
     "metadata": {},
     "output_type": "display_data"
    }
   ],
   "source": [
    "# reading csv file and saving to users\n",
    "try:\n",
    "    path_5 = 'users.csv'\n",
    "    users = pd.read_csv(path_5) if path.exists(path_5) else pd.read_csv(f'/datasets/{path_5}') # checking for file path\n",
    "    display(users.head(10))  # getting first 10 rows of the dataframe\n",
    "except:\n",
    "     print('File not found') # if no path is correct, the error message will be printed\n"
   ]
  },
  {
   "cell_type": "code",
   "execution_count": 57,
   "id": "902746e9",
   "metadata": {},
   "outputs": [
    {
     "name": "stdout",
     "output_type": "stream",
     "text": [
      "<class 'pandas.core.frame.DataFrame'>\n",
      "RangeIndex: 500 entries, 0 to 499\n",
      "Data columns (total 8 columns):\n",
      " #   Column      Non-Null Count  Dtype \n",
      "---  ------      --------------  ----- \n",
      " 0   user_id     500 non-null    int64 \n",
      " 1   age         500 non-null    int64 \n",
      " 2   churn_date  38 non-null     object\n",
      " 3   city        500 non-null    object\n",
      " 4   first_name  500 non-null    object\n",
      " 5   last_name   500 non-null    object\n",
      " 6   reg_date    500 non-null    object\n",
      " 7   tariff      500 non-null    object\n",
      "dtypes: int64(2), object(6)\n",
      "memory usage: 31.4+ KB\n"
     ]
    }
   ],
   "source": [
    "users.info()  # displaying general info on the dataframe"
   ]
  },
  {
   "cell_type": "markdown",
   "id": "5ee32dfb",
   "metadata": {},
   "source": [
    "So, we might have noticed that the data type in almost all columns in all dataframes complies with the declared metrics. We will make the appropriate adjustments further.\n",
    "We also noticed that in all tables, excepting  the 'churn_date' column (which should not contain values if the service contract is not terminated) of the 'users' table, there is no missing data. This is positive for our study, since missing data often lead to biased conclusions.\n"
   ]
  },
  {
   "cell_type": "markdown",
   "id": "40e1384c",
   "metadata": {},
   "source": [
    "Next,  we will check the data sample for explicit duplicates:\n"
   ]
  },
  {
   "cell_type": "code",
   "execution_count": 58,
   "id": "f41d4a06",
   "metadata": {},
   "outputs": [
    {
     "name": "stdout",
     "output_type": "stream",
     "text": [
      "0\n",
      "0\n",
      "0\n",
      "0\n",
      "0\n"
     ]
    }
   ],
   "source": [
    "dfs = [users, tariffs, messages, internet, calls] # сreating a list of dataframes\n",
    "for df in dfs: # iterating each element of the list\n",
    "    print(df.duplicated().sum()) # findting the total amount of explicit duplicates"
   ]
  },
  {
   "cell_type": "markdown",
   "id": "976f6a8a",
   "metadata": {},
   "source": [
    "There are no explicit duplicates in the presented tables, therefore, each observation is unique.\n",
    "\n"
   ]
  },
  {
   "cell_type": "markdown",
   "id": "5090d2c2",
   "metadata": {},
   "source": [
    "**In the next section of the study, we will eliminate the anomalies identified during the data overview.**\n"
   ]
  },
  {
   "cell_type": "markdown",
   "id": "7449286c",
   "metadata": {},
   "source": [
    "## Data Preprocessing and Anomalies Elimination\n",
    "### Change in Data Types \n",
    "From the data overview, it became clear that there are no missing values in the tables, except for one column where they make sense to be, there are no full duplicates, the data types are consistent with the metrics. However, we know from the assignment that \"Megaline\" always rounds up minutes of conversation to integers, while the 'duration' columns are of float type.\n",
    "Let's change the data type in this column, rounding the values to integers, in accordance with the task. This insight will also be useful for further research.\n"
   ]
  },
  {
   "cell_type": "code",
   "execution_count": 59,
   "id": "60b149e9",
   "metadata": {},
   "outputs": [
    {
     "data": {
      "text/html": [
       "<div>\n",
       "<style scoped>\n",
       "    .dataframe tbody tr th:only-of-type {\n",
       "        vertical-align: middle;\n",
       "    }\n",
       "\n",
       "    .dataframe tbody tr th {\n",
       "        vertical-align: top;\n",
       "    }\n",
       "\n",
       "    .dataframe thead th {\n",
       "        text-align: right;\n",
       "    }\n",
       "</style>\n",
       "<table border=\"1\" class=\"dataframe\">\n",
       "  <thead>\n",
       "    <tr style=\"text-align: right;\">\n",
       "      <th></th>\n",
       "      <th>id</th>\n",
       "      <th>call_date</th>\n",
       "      <th>duration</th>\n",
       "      <th>user_id</th>\n",
       "    </tr>\n",
       "  </thead>\n",
       "  <tbody>\n",
       "    <tr>\n",
       "      <th>0</th>\n",
       "      <td>1000_0</td>\n",
       "      <td>2018-07-25</td>\n",
       "      <td>0</td>\n",
       "      <td>1000</td>\n",
       "    </tr>\n",
       "    <tr>\n",
       "      <th>1</th>\n",
       "      <td>1000_1</td>\n",
       "      <td>2018-08-17</td>\n",
       "      <td>0</td>\n",
       "      <td>1000</td>\n",
       "    </tr>\n",
       "    <tr>\n",
       "      <th>2</th>\n",
       "      <td>1000_2</td>\n",
       "      <td>2018-06-11</td>\n",
       "      <td>3</td>\n",
       "      <td>1000</td>\n",
       "    </tr>\n",
       "    <tr>\n",
       "      <th>3</th>\n",
       "      <td>1000_3</td>\n",
       "      <td>2018-09-21</td>\n",
       "      <td>14</td>\n",
       "      <td>1000</td>\n",
       "    </tr>\n",
       "    <tr>\n",
       "      <th>4</th>\n",
       "      <td>1000_4</td>\n",
       "      <td>2018-12-15</td>\n",
       "      <td>6</td>\n",
       "      <td>1000</td>\n",
       "    </tr>\n",
       "    <tr>\n",
       "      <th>5</th>\n",
       "      <td>1000_5</td>\n",
       "      <td>2018-11-02</td>\n",
       "      <td>0</td>\n",
       "      <td>1000</td>\n",
       "    </tr>\n",
       "    <tr>\n",
       "      <th>6</th>\n",
       "      <td>1000_6</td>\n",
       "      <td>2018-10-18</td>\n",
       "      <td>0</td>\n",
       "      <td>1000</td>\n",
       "    </tr>\n",
       "    <tr>\n",
       "      <th>7</th>\n",
       "      <td>1000_7</td>\n",
       "      <td>2018-08-22</td>\n",
       "      <td>19</td>\n",
       "      <td>1000</td>\n",
       "    </tr>\n",
       "    <tr>\n",
       "      <th>8</th>\n",
       "      <td>1000_8</td>\n",
       "      <td>2018-09-15</td>\n",
       "      <td>19</td>\n",
       "      <td>1000</td>\n",
       "    </tr>\n",
       "    <tr>\n",
       "      <th>9</th>\n",
       "      <td>1000_9</td>\n",
       "      <td>2018-08-15</td>\n",
       "      <td>0</td>\n",
       "      <td>1000</td>\n",
       "    </tr>\n",
       "  </tbody>\n",
       "</table>\n",
       "</div>"
      ],
      "text/plain": [
       "       id   call_date  duration  user_id\n",
       "0  1000_0  2018-07-25         0     1000\n",
       "1  1000_1  2018-08-17         0     1000\n",
       "2  1000_2  2018-06-11         3     1000\n",
       "3  1000_3  2018-09-21        14     1000\n",
       "4  1000_4  2018-12-15         6     1000\n",
       "5  1000_5  2018-11-02         0     1000\n",
       "6  1000_6  2018-10-18         0     1000\n",
       "7  1000_7  2018-08-22        19     1000\n",
       "8  1000_8  2018-09-15        19     1000\n",
       "9  1000_9  2018-08-15         0     1000"
      ]
     },
     "execution_count": 59,
     "metadata": {},
     "output_type": "execute_result"
    }
   ],
   "source": [
    "calls['duration'] = np.ceil(calls['duration']).astype(int) # rounding upward and changing data type to int\n",
    "calls.head(10)  # checking the result"
   ]
  },
  {
   "cell_type": "markdown",
   "id": "4bc7bd09",
   "metadata": {},
   "source": [
    "###  Anomalies Elimination\n"
   ]
  },
  {
   "cell_type": "markdown",
   "id": "f74a7783",
   "metadata": {},
   "source": [
    "From the assignment, we know that calls with zero duration are missed ones, therefore this is not an anomaly in the data. Let's check if there are zero values in the 'mb_used' column of the 'internet' table, since nothing is mentioned about it in the task. At the same time, for each user, as we can see from the table, only those dates are indicated when Internet traffic was used, so ideally we should not find zeros in the 'mb_used' column. Let's test this assumption:\n"
   ]
  },
  {
   "cell_type": "code",
   "execution_count": 60,
   "id": "b4cbf36b",
   "metadata": {},
   "outputs": [
    {
     "data": {
      "text/plain": [
       "19598"
      ]
     },
     "execution_count": 60,
     "metadata": {},
     "output_type": "execute_result"
    }
   ],
   "source": [
    "len(internet[internet['mb_used']==0]['user_id']) # checking 0 in 'mb_used' column"
   ]
  },
  {
   "cell_type": "markdown",
   "id": "e147dffb",
   "metadata": {},
   "source": [
    "So, to our surprise, there are almost 20,000 zero values out of 149,396 dataframe rows. Let's look at users and dates, filtering by the same criteria. Perhaps we will notice a pattern:\n"
   ]
  },
  {
   "cell_type": "code",
   "execution_count": 61,
   "id": "2fa07604",
   "metadata": {},
   "outputs": [
    {
     "data": {
      "text/plain": [
       "array([1000, 1001, 1002, 1003, 1004, 1005, 1006, 1007, 1008, 1009, 1010,\n",
       "       1011, 1012, 1013, 1014, 1015, 1016, 1017, 1018, 1019, 1020, 1021,\n",
       "       1022, 1023, 1024, 1025, 1026, 1027, 1028, 1029, 1030, 1031, 1032,\n",
       "       1033, 1034, 1035, 1036, 1037, 1038, 1039, 1040, 1041, 1042, 1043,\n",
       "       1044, 1045, 1046, 1047, 1048, 1049, 1050, 1051, 1052, 1053, 1054,\n",
       "       1055, 1056, 1057, 1058, 1059, 1060, 1061, 1062, 1063, 1064, 1065,\n",
       "       1066, 1067, 1068, 1069, 1070, 1071, 1072, 1073, 1074, 1075, 1076,\n",
       "       1077, 1078, 1079, 1080, 1081, 1082, 1083, 1084, 1085, 1086, 1087,\n",
       "       1088, 1089, 1090, 1091, 1092, 1093, 1094, 1095, 1096, 1097, 1098,\n",
       "       1099, 1100, 1101, 1102, 1103, 1104, 1105, 1106, 1107, 1108, 1109,\n",
       "       1110, 1111, 1112, 1113, 1114, 1115, 1116, 1117, 1118, 1119, 1120,\n",
       "       1121, 1122, 1123, 1124, 1125, 1126, 1127, 1129, 1130, 1131, 1132,\n",
       "       1133, 1134, 1135, 1136, 1137, 1138, 1139, 1140, 1141, 1142, 1143,\n",
       "       1144, 1145, 1146, 1147, 1148, 1149, 1150, 1151, 1152, 1153, 1154,\n",
       "       1155, 1156, 1157, 1158, 1159, 1160, 1161, 1162, 1163, 1164, 1165,\n",
       "       1166, 1167, 1168, 1169, 1170, 1171, 1172, 1173, 1174, 1175, 1176,\n",
       "       1177, 1178, 1179, 1180, 1181, 1182, 1183, 1184, 1185, 1186, 1187,\n",
       "       1188, 1189, 1190, 1191, 1192, 1193, 1194, 1195, 1196, 1197, 1198,\n",
       "       1199, 1200, 1201, 1202, 1203, 1204, 1205, 1206, 1207, 1208, 1209,\n",
       "       1210, 1211, 1212, 1213, 1214, 1215, 1216, 1217, 1218, 1219, 1220,\n",
       "       1221, 1222, 1223, 1224, 1225, 1226, 1227, 1228, 1229, 1230, 1231,\n",
       "       1232, 1233, 1234, 1235, 1236, 1237, 1238, 1239, 1240, 1241, 1242,\n",
       "       1243, 1244, 1245, 1246, 1247, 1248, 1249, 1250, 1251, 1252, 1253,\n",
       "       1254, 1255, 1256, 1257, 1258, 1259, 1260, 1261, 1262, 1263, 1264,\n",
       "       1265, 1266, 1267, 1268, 1269, 1270, 1271, 1272, 1274, 1275, 1276,\n",
       "       1277, 1278, 1279, 1280, 1281, 1282, 1283, 1284, 1285, 1286, 1287,\n",
       "       1288, 1289, 1290, 1291, 1292, 1293, 1294, 1295, 1296, 1297, 1298,\n",
       "       1299, 1300, 1301, 1302, 1303, 1304, 1305, 1306, 1307, 1308, 1309,\n",
       "       1310, 1311, 1312, 1313, 1314, 1315, 1316, 1317, 1318, 1319, 1320,\n",
       "       1321, 1322, 1323, 1324, 1325, 1326, 1327, 1328, 1329, 1330, 1331,\n",
       "       1332, 1333, 1334, 1335, 1336, 1337, 1338, 1339, 1340, 1341, 1342,\n",
       "       1344, 1345, 1346, 1347, 1348, 1349, 1350, 1351, 1352, 1353, 1354,\n",
       "       1355, 1356, 1357, 1358, 1359, 1360, 1361, 1362, 1363, 1364, 1365,\n",
       "       1366, 1367, 1368, 1369, 1370, 1372, 1373, 1374, 1375, 1376, 1377,\n",
       "       1378, 1379, 1380, 1381, 1382, 1383, 1384, 1385, 1386, 1387, 1388,\n",
       "       1389, 1390, 1391, 1392, 1393, 1394, 1395, 1396, 1398, 1400, 1401,\n",
       "       1402, 1403, 1404, 1405, 1406, 1407, 1408, 1409, 1410, 1411, 1412,\n",
       "       1413, 1414, 1415, 1416, 1417, 1418, 1419, 1420, 1421, 1422, 1423,\n",
       "       1424, 1425, 1426, 1427, 1428, 1429, 1430, 1431, 1432, 1433, 1434,\n",
       "       1435, 1436, 1437, 1438, 1439, 1440, 1441, 1442, 1443, 1444, 1445,\n",
       "       1446, 1447, 1448, 1449, 1450, 1451, 1452, 1453, 1454, 1455, 1456,\n",
       "       1457, 1458, 1459, 1460, 1461, 1462, 1463, 1464, 1465, 1466, 1467,\n",
       "       1468, 1469, 1470, 1471, 1472, 1473, 1474, 1475, 1476, 1477, 1478,\n",
       "       1479, 1480, 1481, 1482, 1483, 1484, 1485, 1486, 1487, 1488, 1489,\n",
       "       1490, 1491, 1492, 1493, 1494, 1495, 1496, 1497, 1498, 1499],\n",
       "      dtype=int64)"
      ]
     },
     "metadata": {},
     "output_type": "display_data"
    },
    {
     "data": {
      "text/plain": [
       "array(['2018-08-28', '2018-11-27', '2018-06-30', '2018-06-16',\n",
       "       '2018-06-15', '2018-05-26', '2018-09-01', '2018-12-29',\n",
       "       '2018-07-11', '2018-12-21', '2018-09-17', '2018-06-17',\n",
       "       '2018-08-21', '2018-12-08', '2018-12-18', '2018-11-14',\n",
       "       '2018-12-13', '2018-11-25', '2018-12-05', '2018-11-18',\n",
       "       '2018-11-29', '2018-12-07', '2018-11-19', '2018-11-02',\n",
       "       '2018-08-24', '2018-12-17', '2018-06-29', '2018-11-30',\n",
       "       '2018-09-07', '2018-07-30', '2018-09-06', '2018-08-25',\n",
       "       '2018-12-04', '2018-09-23', '2018-09-09', '2018-09-13',\n",
       "       '2018-08-11', '2018-11-16', '2018-07-08', '2018-10-23',\n",
       "       '2018-08-02', '2018-11-10', '2018-06-25', '2018-11-03',\n",
       "       '2018-06-24', '2018-10-05', '2018-07-14', '2018-07-12',\n",
       "       '2018-12-25', '2018-07-02', '2018-10-15', '2018-07-29',\n",
       "       '2018-07-16', '2018-07-17', '2018-09-12', '2018-08-03',\n",
       "       '2018-12-01', '2018-06-22', '2018-08-12', '2018-11-15',\n",
       "       '2018-11-23', '2018-09-03', '2018-12-12', '2018-07-23',\n",
       "       '2018-12-22', '2018-07-26', '2018-08-30', '2018-08-26',\n",
       "       '2018-09-19', '2018-08-07', '2018-12-03', '2018-10-31',\n",
       "       '2018-10-25', '2018-10-02', '2018-11-04', '2018-11-21',\n",
       "       '2018-09-30', '2018-08-27', '2018-12-06', '2018-12-15',\n",
       "       '2018-10-12', '2018-07-06', '2018-07-18', '2018-11-20',\n",
       "       '2018-07-05', '2018-10-17', '2018-06-03', '2018-02-09',\n",
       "       '2018-08-20', '2018-09-10', '2018-05-03', '2018-10-08',\n",
       "       '2018-05-12', '2018-06-20', '2018-04-01', '2018-11-08',\n",
       "       '2018-02-02', '2018-04-26', '2018-04-08', '2018-04-02',\n",
       "       '2018-04-17', '2018-05-18', '2018-10-01', '2018-05-22',\n",
       "       '2018-06-18', '2018-12-31', '2018-03-31', '2018-07-10',\n",
       "       '2018-03-23', '2018-05-16', '2018-08-22', '2018-03-22',\n",
       "       '2018-12-20', '2018-04-21', '2018-08-31', '2018-11-01',\n",
       "       '2018-09-25', '2018-09-29', '2018-03-30', '2018-10-24',\n",
       "       '2018-09-28', '2018-04-05', '2018-06-01', '2018-05-09',\n",
       "       '2018-12-19', '2018-10-10', '2018-03-01', '2018-11-06',\n",
       "       '2018-05-02', '2018-12-14', '2018-10-14', '2018-09-21',\n",
       "       '2018-04-18', '2018-02-26', '2018-10-16', '2018-09-15',\n",
       "       '2018-05-24', '2018-05-04', '2018-03-21', '2018-06-11',\n",
       "       '2018-04-28', '2018-04-23', '2018-06-19', '2018-05-13',\n",
       "       '2018-04-20', '2018-06-06', '2018-07-13', '2018-10-30',\n",
       "       '2018-03-26', '2018-04-24', '2018-12-27', '2018-03-13',\n",
       "       '2018-03-07', '2018-07-15', '2018-12-28', '2018-10-20',\n",
       "       '2018-06-13', '2018-05-15', '2018-02-28', '2018-03-02',\n",
       "       '2018-06-02', '2018-11-09', '2018-10-18', '2018-07-28',\n",
       "       '2018-07-07', '2018-08-15', '2018-04-09', '2018-06-08',\n",
       "       '2018-11-12', '2018-04-25', '2018-11-24', '2018-10-06',\n",
       "       '2018-11-05', '2018-02-27', '2018-11-13', '2018-04-30',\n",
       "       '2018-05-28', '2018-05-10', '2018-08-14', '2018-05-20',\n",
       "       '2018-07-09', '2018-07-22', '2018-04-22', '2018-05-07',\n",
       "       '2018-05-11', '2018-07-25', '2018-06-23', '2018-12-09',\n",
       "       '2018-12-23', '2018-07-03', '2018-06-27', '2018-12-30',\n",
       "       '2018-10-03', '2018-04-19', '2018-09-08', '2018-10-27',\n",
       "       '2018-09-14', '2018-10-28', '2018-09-20', '2018-05-31',\n",
       "       '2018-12-11', '2018-05-08', '2018-07-24', '2018-08-18',\n",
       "       '2018-12-26', '2018-09-16', '2018-10-04', '2018-07-04',\n",
       "       '2018-12-16', '2018-04-03', '2018-07-27', '2018-06-21',\n",
       "       '2018-03-27', '2018-08-05', '2018-06-12', '2018-08-13',\n",
       "       '2018-04-16', '2018-08-08', '2018-10-29', '2018-04-27',\n",
       "       '2018-04-12', '2018-10-26', '2018-05-05', '2018-11-11',\n",
       "       '2018-11-17', '2018-09-22', '2018-09-04', '2018-12-02',\n",
       "       '2018-10-07', '2018-08-10', '2018-09-27', '2018-10-11',\n",
       "       '2018-10-21', '2018-09-02', '2018-06-28', '2018-04-10',\n",
       "       '2018-04-14', '2018-03-24', '2018-04-13', '2018-11-26',\n",
       "       '2018-05-23', '2018-04-07', '2018-04-04', '2018-10-09',\n",
       "       '2018-03-29', '2018-07-19', '2018-12-10', '2018-05-21',\n",
       "       '2018-05-19', '2018-07-31', '2018-08-23', '2018-09-26',\n",
       "       '2018-05-30', '2018-04-06', '2018-06-10', '2018-04-15',\n",
       "       '2018-10-22', '2018-05-25', '2018-08-19', '2018-04-29',\n",
       "       '2018-08-04', '2018-10-19', '2018-11-28', '2018-06-07',\n",
       "       '2018-10-13', '2018-07-21', '2018-05-17', '2018-08-01',\n",
       "       '2018-08-16', '2018-06-26', '2018-09-11', '2018-08-29',\n",
       "       '2018-08-09', '2018-05-06', '2018-09-18', '2018-07-01',\n",
       "       '2018-09-05', '2018-08-06', '2018-07-20', '2018-08-17',\n",
       "       '2018-06-09', '2018-06-05', '2018-05-29', '2018-05-27',\n",
       "       '2018-03-18', '2018-03-25', '2018-03-17', '2018-06-04',\n",
       "       '2018-03-15', '2018-12-24', '2018-11-07', '2018-11-22',\n",
       "       '2018-03-04', '2018-01-23', '2018-01-20', '2018-01-12',\n",
       "       '2018-02-23', '2018-01-31', '2018-01-10', '2018-03-12',\n",
       "       '2018-03-08', '2018-01-09', '2018-01-06', '2018-01-08',\n",
       "       '2018-09-24', '2018-05-14', '2018-06-14', '2018-03-10',\n",
       "       '2018-03-19', '2018-04-11', '2018-02-24', '2018-02-20',\n",
       "       '2018-02-11', '2018-03-06', '2018-02-18', '2018-02-22',\n",
       "       '2018-02-15', '2018-03-16', '2018-02-12', '2018-02-16',\n",
       "       '2018-02-03', '2018-05-01', '2018-03-20', '2018-01-29',\n",
       "       '2018-02-10', '2018-01-19', '2018-02-01', '2018-02-13',\n",
       "       '2018-02-19', '2018-01-25', '2018-03-14', '2018-03-11',\n",
       "       '2018-02-06', '2018-01-24', '2018-01-16', '2018-03-09',\n",
       "       '2018-02-25', '2018-03-28', '2018-02-05', '2018-01-27',\n",
       "       '2018-01-17', '2018-02-21', '2018-02-04', '2018-03-03',\n",
       "       '2018-01-30', '2018-03-05', '2018-01-05', '2018-01-21',\n",
       "       '2018-01-26', '2018-01-07', '2018-01-22', '2018-01-04',\n",
       "       '2018-01-18', '2018-01-02', '2018-02-08', '2018-02-17',\n",
       "       '2018-02-14', '2018-02-07', '2018-01-01', '2018-01-03',\n",
       "       '2018-01-11', '2018-01-13', '2018-01-28', '2018-01-14'],\n",
       "      dtype=object)"
      ]
     },
     "execution_count": 61,
     "metadata": {},
     "output_type": "execute_result"
    }
   ],
   "source": [
    "display(internet[internet['mb_used']==0]['user_id'].unique()) # checking unique users with 0 Mb\n",
    "internet[internet['mb_used']==0]['session_date'].unique()  # checking unique dates with 0 Mb"
   ]
  },
  {
   "cell_type": "markdown",
   "id": "97829aa9",
   "metadata": {},
   "source": [
    "So, 0 values in the \"used megabytes\" column are present for absolutely all users. Concerning\n",
    "the dates, there are also a huge number of them, respectively, that is why we cannot establish a relationship between these values and individual dates/users. We can assume, for example, that in such situations the session was less 1 Mb of traffic, and according to the Megaline tariff rules, such sessions are equal to zero. Also, we do not know, how users pay for minutes/messages/internet not included in the tariff. Perhaps if a client does not have creadit on the account, and the GB included in the tariff are used up, the speed slows down a lot, and even if a client uses the Internet, MB counter does not turn on.\n"
   ]
  },
  {
   "cell_type": "markdown",
   "id": "a88e96ef",
   "metadata": {},
   "source": [
    "**Conclusions**\n",
    "Thus, during the first two stages of preprocessing, we managed to bring the data to the required type and check them for eventual anomalies.\n"
   ]
  },
  {
   "cell_type": "markdown",
   "id": "15d483c9",
   "metadata": {},
   "source": [
    "### Data Transforming  in Individual Columns\n",
    "We know that all data refer to 2018, we also know that the subscription fee is charged monthly, so it makes sense to group the corresponding tables 'calls', 'messages', 'internet' by month. To do this, \n",
    "first of all, we will transform the corresponding columns in all dataframes and rename them:\n"
   ]
  },
  {
   "cell_type": "code",
   "execution_count": 62,
   "id": "0a04077c",
   "metadata": {},
   "outputs": [
    {
     "data": {
      "text/html": [
       "<div>\n",
       "<style scoped>\n",
       "    .dataframe tbody tr th:only-of-type {\n",
       "        vertical-align: middle;\n",
       "    }\n",
       "\n",
       "    .dataframe tbody tr th {\n",
       "        vertical-align: top;\n",
       "    }\n",
       "\n",
       "    .dataframe thead th {\n",
       "        text-align: right;\n",
       "    }\n",
       "</style>\n",
       "<table border=\"1\" class=\"dataframe\">\n",
       "  <thead>\n",
       "    <tr style=\"text-align: right;\">\n",
       "      <th></th>\n",
       "      <th>id</th>\n",
       "      <th>month</th>\n",
       "      <th>duration</th>\n",
       "      <th>user_id</th>\n",
       "    </tr>\n",
       "  </thead>\n",
       "  <tbody>\n",
       "    <tr>\n",
       "      <th>0</th>\n",
       "      <td>1000_0</td>\n",
       "      <td>2018-07-01</td>\n",
       "      <td>0</td>\n",
       "      <td>1000</td>\n",
       "    </tr>\n",
       "    <tr>\n",
       "      <th>1</th>\n",
       "      <td>1000_1</td>\n",
       "      <td>2018-08-01</td>\n",
       "      <td>0</td>\n",
       "      <td>1000</td>\n",
       "    </tr>\n",
       "    <tr>\n",
       "      <th>2</th>\n",
       "      <td>1000_2</td>\n",
       "      <td>2018-06-01</td>\n",
       "      <td>3</td>\n",
       "      <td>1000</td>\n",
       "    </tr>\n",
       "    <tr>\n",
       "      <th>3</th>\n",
       "      <td>1000_3</td>\n",
       "      <td>2018-09-01</td>\n",
       "      <td>14</td>\n",
       "      <td>1000</td>\n",
       "    </tr>\n",
       "    <tr>\n",
       "      <th>4</th>\n",
       "      <td>1000_4</td>\n",
       "      <td>2018-12-01</td>\n",
       "      <td>6</td>\n",
       "      <td>1000</td>\n",
       "    </tr>\n",
       "    <tr>\n",
       "      <th>5</th>\n",
       "      <td>1000_5</td>\n",
       "      <td>2018-11-01</td>\n",
       "      <td>0</td>\n",
       "      <td>1000</td>\n",
       "    </tr>\n",
       "    <tr>\n",
       "      <th>6</th>\n",
       "      <td>1000_6</td>\n",
       "      <td>2018-10-01</td>\n",
       "      <td>0</td>\n",
       "      <td>1000</td>\n",
       "    </tr>\n",
       "    <tr>\n",
       "      <th>7</th>\n",
       "      <td>1000_7</td>\n",
       "      <td>2018-08-01</td>\n",
       "      <td>19</td>\n",
       "      <td>1000</td>\n",
       "    </tr>\n",
       "    <tr>\n",
       "      <th>8</th>\n",
       "      <td>1000_8</td>\n",
       "      <td>2018-09-01</td>\n",
       "      <td>19</td>\n",
       "      <td>1000</td>\n",
       "    </tr>\n",
       "    <tr>\n",
       "      <th>9</th>\n",
       "      <td>1000_9</td>\n",
       "      <td>2018-08-01</td>\n",
       "      <td>0</td>\n",
       "      <td>1000</td>\n",
       "    </tr>\n",
       "  </tbody>\n",
       "</table>\n",
       "</div>"
      ],
      "text/plain": [
       "       id      month  duration  user_id\n",
       "0  1000_0 2018-07-01         0     1000\n",
       "1  1000_1 2018-08-01         0     1000\n",
       "2  1000_2 2018-06-01         3     1000\n",
       "3  1000_3 2018-09-01        14     1000\n",
       "4  1000_4 2018-12-01         6     1000\n",
       "5  1000_5 2018-11-01         0     1000\n",
       "6  1000_6 2018-10-01         0     1000\n",
       "7  1000_7 2018-08-01        19     1000\n",
       "8  1000_8 2018-09-01        19     1000\n",
       "9  1000_9 2018-08-01         0     1000"
      ]
     },
     "execution_count": 62,
     "metadata": {},
     "output_type": "execute_result"
    }
   ],
   "source": [
    "calls['call_date'] = pd.to_datetime(calls['call_date'],format='%Y-%m-%d')  # formating date to \"year-month-day\"\n",
    "calls['call_date'] = calls['call_date'].astype('datetime64[M]')  # formating date to \"1st of month-month-year\"\n",
    "calls.rename(columns={'call_date': 'month'}, inplace=True) # renaming the column\n",
    "calls.head(10) # checking the result"
   ]
  },
  {
   "cell_type": "code",
   "execution_count": 63,
   "id": "842c957c",
   "metadata": {},
   "outputs": [
    {
     "data": {
      "text/html": [
       "<div>\n",
       "<style scoped>\n",
       "    .dataframe tbody tr th:only-of-type {\n",
       "        vertical-align: middle;\n",
       "    }\n",
       "\n",
       "    .dataframe tbody tr th {\n",
       "        vertical-align: top;\n",
       "    }\n",
       "\n",
       "    .dataframe thead th {\n",
       "        text-align: right;\n",
       "    }\n",
       "</style>\n",
       "<table border=\"1\" class=\"dataframe\">\n",
       "  <thead>\n",
       "    <tr style=\"text-align: right;\">\n",
       "      <th></th>\n",
       "      <th>id</th>\n",
       "      <th>month</th>\n",
       "      <th>user_id</th>\n",
       "    </tr>\n",
       "  </thead>\n",
       "  <tbody>\n",
       "    <tr>\n",
       "      <th>0</th>\n",
       "      <td>1000_0</td>\n",
       "      <td>2018-06-01</td>\n",
       "      <td>1000</td>\n",
       "    </tr>\n",
       "    <tr>\n",
       "      <th>1</th>\n",
       "      <td>1000_1</td>\n",
       "      <td>2018-10-01</td>\n",
       "      <td>1000</td>\n",
       "    </tr>\n",
       "    <tr>\n",
       "      <th>2</th>\n",
       "      <td>1000_2</td>\n",
       "      <td>2018-08-01</td>\n",
       "      <td>1000</td>\n",
       "    </tr>\n",
       "    <tr>\n",
       "      <th>3</th>\n",
       "      <td>1000_3</td>\n",
       "      <td>2018-06-01</td>\n",
       "      <td>1000</td>\n",
       "    </tr>\n",
       "    <tr>\n",
       "      <th>4</th>\n",
       "      <td>1000_4</td>\n",
       "      <td>2018-12-01</td>\n",
       "      <td>1000</td>\n",
       "    </tr>\n",
       "    <tr>\n",
       "      <th>5</th>\n",
       "      <td>1000_5</td>\n",
       "      <td>2018-06-01</td>\n",
       "      <td>1000</td>\n",
       "    </tr>\n",
       "    <tr>\n",
       "      <th>6</th>\n",
       "      <td>1000_6</td>\n",
       "      <td>2018-11-01</td>\n",
       "      <td>1000</td>\n",
       "    </tr>\n",
       "    <tr>\n",
       "      <th>7</th>\n",
       "      <td>1000_7</td>\n",
       "      <td>2018-10-01</td>\n",
       "      <td>1000</td>\n",
       "    </tr>\n",
       "    <tr>\n",
       "      <th>8</th>\n",
       "      <td>1000_8</td>\n",
       "      <td>2018-06-01</td>\n",
       "      <td>1000</td>\n",
       "    </tr>\n",
       "    <tr>\n",
       "      <th>9</th>\n",
       "      <td>1000_9</td>\n",
       "      <td>2018-12-01</td>\n",
       "      <td>1000</td>\n",
       "    </tr>\n",
       "  </tbody>\n",
       "</table>\n",
       "</div>"
      ],
      "text/plain": [
       "       id      month  user_id\n",
       "0  1000_0 2018-06-01     1000\n",
       "1  1000_1 2018-10-01     1000\n",
       "2  1000_2 2018-08-01     1000\n",
       "3  1000_3 2018-06-01     1000\n",
       "4  1000_4 2018-12-01     1000\n",
       "5  1000_5 2018-06-01     1000\n",
       "6  1000_6 2018-11-01     1000\n",
       "7  1000_7 2018-10-01     1000\n",
       "8  1000_8 2018-06-01     1000\n",
       "9  1000_9 2018-12-01     1000"
      ]
     },
     "execution_count": 63,
     "metadata": {},
     "output_type": "execute_result"
    }
   ],
   "source": [
    "messages['message_date'] = pd.to_datetime(messages['message_date'],format='%Y-%m-%d')  # formating date to \"year-month-day\"\n",
    "messages['message_date'] = messages['message_date'].astype('datetime64[M]')  # formating date to \"1st of month-month-year\"\n",
    "messages.rename(columns={'message_date': 'month'}, inplace=True) # renaming the column\n",
    "messages.head(10) # checking the result"
   ]
  },
  {
   "cell_type": "code",
   "execution_count": 64,
   "id": "f9877efa",
   "metadata": {},
   "outputs": [
    {
     "data": {
      "text/html": [
       "<div>\n",
       "<style scoped>\n",
       "    .dataframe tbody tr th:only-of-type {\n",
       "        vertical-align: middle;\n",
       "    }\n",
       "\n",
       "    .dataframe tbody tr th {\n",
       "        vertical-align: top;\n",
       "    }\n",
       "\n",
       "    .dataframe thead th {\n",
       "        text-align: right;\n",
       "    }\n",
       "</style>\n",
       "<table border=\"1\" class=\"dataframe\">\n",
       "  <thead>\n",
       "    <tr style=\"text-align: right;\">\n",
       "      <th></th>\n",
       "      <th>id</th>\n",
       "      <th>mb_used</th>\n",
       "      <th>month</th>\n",
       "      <th>user_id</th>\n",
       "    </tr>\n",
       "  </thead>\n",
       "  <tbody>\n",
       "    <tr>\n",
       "      <th>0</th>\n",
       "      <td>1000_0</td>\n",
       "      <td>112.95</td>\n",
       "      <td>2018-11-01</td>\n",
       "      <td>1000</td>\n",
       "    </tr>\n",
       "    <tr>\n",
       "      <th>1</th>\n",
       "      <td>1000_1</td>\n",
       "      <td>1052.81</td>\n",
       "      <td>2018-09-01</td>\n",
       "      <td>1000</td>\n",
       "    </tr>\n",
       "    <tr>\n",
       "      <th>2</th>\n",
       "      <td>1000_2</td>\n",
       "      <td>1197.26</td>\n",
       "      <td>2018-06-01</td>\n",
       "      <td>1000</td>\n",
       "    </tr>\n",
       "    <tr>\n",
       "      <th>3</th>\n",
       "      <td>1000_3</td>\n",
       "      <td>550.27</td>\n",
       "      <td>2018-08-01</td>\n",
       "      <td>1000</td>\n",
       "    </tr>\n",
       "    <tr>\n",
       "      <th>4</th>\n",
       "      <td>1000_4</td>\n",
       "      <td>302.56</td>\n",
       "      <td>2018-09-01</td>\n",
       "      <td>1000</td>\n",
       "    </tr>\n",
       "    <tr>\n",
       "      <th>5</th>\n",
       "      <td>1000_5</td>\n",
       "      <td>399.97</td>\n",
       "      <td>2018-10-01</td>\n",
       "      <td>1000</td>\n",
       "    </tr>\n",
       "    <tr>\n",
       "      <th>6</th>\n",
       "      <td>1000_6</td>\n",
       "      <td>540.08</td>\n",
       "      <td>2018-09-01</td>\n",
       "      <td>1000</td>\n",
       "    </tr>\n",
       "    <tr>\n",
       "      <th>7</th>\n",
       "      <td>1000_7</td>\n",
       "      <td>415.70</td>\n",
       "      <td>2018-07-01</td>\n",
       "      <td>1000</td>\n",
       "    </tr>\n",
       "    <tr>\n",
       "      <th>8</th>\n",
       "      <td>1000_8</td>\n",
       "      <td>505.40</td>\n",
       "      <td>2018-10-01</td>\n",
       "      <td>1000</td>\n",
       "    </tr>\n",
       "    <tr>\n",
       "      <th>9</th>\n",
       "      <td>1000_9</td>\n",
       "      <td>345.54</td>\n",
       "      <td>2018-09-01</td>\n",
       "      <td>1000</td>\n",
       "    </tr>\n",
       "  </tbody>\n",
       "</table>\n",
       "</div>"
      ],
      "text/plain": [
       "       id  mb_used      month  user_id\n",
       "0  1000_0   112.95 2018-11-01     1000\n",
       "1  1000_1  1052.81 2018-09-01     1000\n",
       "2  1000_2  1197.26 2018-06-01     1000\n",
       "3  1000_3   550.27 2018-08-01     1000\n",
       "4  1000_4   302.56 2018-09-01     1000\n",
       "5  1000_5   399.97 2018-10-01     1000\n",
       "6  1000_6   540.08 2018-09-01     1000\n",
       "7  1000_7   415.70 2018-07-01     1000\n",
       "8  1000_8   505.40 2018-10-01     1000\n",
       "9  1000_9   345.54 2018-09-01     1000"
      ]
     },
     "execution_count": 64,
     "metadata": {},
     "output_type": "execute_result"
    }
   ],
   "source": [
    "internet['session_date'] = pd.to_datetime(internet['session_date'],format='%Y-%m-%d')  # formating date to \"year-month-day\"\n",
    "internet['session_date'] = internet['session_date'].astype('datetime64[M]')  # formating date to \"1st of month-month-year\"\n",
    "internet.rename(columns={'session_date': 'month'}, inplace=True) # renaming the column\n",
    "internet.head(10) # checking the result"
   ]
  },
  {
   "cell_type": "markdown",
   "id": "7d17d094",
   "metadata": {},
   "source": [
    "We also know that the unit of measurement of the Internet tariff in tariffs is Gb, while in the 'tariffs' dataframe the data is presented in Mb. Let's convert MB to GB and rename the column:\n"
   ]
  },
  {
   "cell_type": "code",
   "execution_count": 65,
   "id": "589d0e57",
   "metadata": {},
   "outputs": [
    {
     "data": {
      "text/html": [
       "<div>\n",
       "<style scoped>\n",
       "    .dataframe tbody tr th:only-of-type {\n",
       "        vertical-align: middle;\n",
       "    }\n",
       "\n",
       "    .dataframe tbody tr th {\n",
       "        vertical-align: top;\n",
       "    }\n",
       "\n",
       "    .dataframe thead th {\n",
       "        text-align: right;\n",
       "    }\n",
       "</style>\n",
       "<table border=\"1\" class=\"dataframe\">\n",
       "  <thead>\n",
       "    <tr style=\"text-align: right;\">\n",
       "      <th></th>\n",
       "      <th>messages_included</th>\n",
       "      <th>gb_included</th>\n",
       "      <th>minutes_included</th>\n",
       "      <th>rub_monthly_fee</th>\n",
       "      <th>rub_per_gb</th>\n",
       "      <th>rub_per_message</th>\n",
       "      <th>rub_per_minute</th>\n",
       "      <th>tariff_name</th>\n",
       "    </tr>\n",
       "  </thead>\n",
       "  <tbody>\n",
       "    <tr>\n",
       "      <th>0</th>\n",
       "      <td>50</td>\n",
       "      <td>15</td>\n",
       "      <td>500</td>\n",
       "      <td>550</td>\n",
       "      <td>200</td>\n",
       "      <td>3</td>\n",
       "      <td>3</td>\n",
       "      <td>smart</td>\n",
       "    </tr>\n",
       "    <tr>\n",
       "      <th>1</th>\n",
       "      <td>1000</td>\n",
       "      <td>30</td>\n",
       "      <td>3000</td>\n",
       "      <td>1950</td>\n",
       "      <td>150</td>\n",
       "      <td>1</td>\n",
       "      <td>1</td>\n",
       "      <td>ultra</td>\n",
       "    </tr>\n",
       "  </tbody>\n",
       "</table>\n",
       "</div>"
      ],
      "text/plain": [
       "   messages_included  gb_included  minutes_included  rub_monthly_fee  \\\n",
       "0                 50           15               500              550   \n",
       "1               1000           30              3000             1950   \n",
       "\n",
       "   rub_per_gb  rub_per_message  rub_per_minute tariff_name  \n",
       "0         200                3               3       smart  \n",
       "1         150                1               1       ultra  "
      ]
     },
     "execution_count": 65,
     "metadata": {},
     "output_type": "execute_result"
    }
   ],
   "source": [
    "tariffs['mb_per_month_included'] = (tariffs['mb_per_month_included'] / 1024).astype('int') # converting MB to GB\n",
    "tariffs.rename(columns={'mb_per_month_included': 'gb_included'}, inplace=True)  # renaming the column\n",
    "tariffs.head()  # checking the result"
   ]
  },
  {
   "cell_type": "markdown",
   "id": "9843428e",
   "metadata": {},
   "source": [
    "### Pivot Tables Creating and Adding Calculated Fatures\n",
    "So, we improved the quality of the data in the existing tables. Next, let's move on to creating pivot tables in which minutes of conversation, messages and megabytes for each user will be grouped by month. Such a grouping makes sense for analyzing the profitability of tariffs, since the  fee is charged monthly.\n",
    "Let's create the corresponding pivot tables from the source tables 'calls', 'messages', 'internet':\n",
    "\n"
   ]
  },
  {
   "cell_type": "code",
   "execution_count": 66,
   "id": "d17f23d1",
   "metadata": {},
   "outputs": [
    {
     "data": {
      "text/html": [
       "<div>\n",
       "<style scoped>\n",
       "    .dataframe tbody tr th:only-of-type {\n",
       "        vertical-align: middle;\n",
       "    }\n",
       "\n",
       "    .dataframe tbody tr th {\n",
       "        vertical-align: top;\n",
       "    }\n",
       "\n",
       "    .dataframe thead th {\n",
       "        text-align: right;\n",
       "    }\n",
       "</style>\n",
       "<table border=\"1\" class=\"dataframe\">\n",
       "  <thead>\n",
       "    <tr style=\"text-align: right;\">\n",
       "      <th></th>\n",
       "      <th>user_id</th>\n",
       "      <th>month</th>\n",
       "      <th>mins_per_month</th>\n",
       "    </tr>\n",
       "  </thead>\n",
       "  <tbody>\n",
       "    <tr>\n",
       "      <th>0</th>\n",
       "      <td>1000</td>\n",
       "      <td>2018-05-01</td>\n",
       "      <td>159</td>\n",
       "    </tr>\n",
       "    <tr>\n",
       "      <th>1</th>\n",
       "      <td>1000</td>\n",
       "      <td>2018-06-01</td>\n",
       "      <td>172</td>\n",
       "    </tr>\n",
       "    <tr>\n",
       "      <th>2</th>\n",
       "      <td>1000</td>\n",
       "      <td>2018-07-01</td>\n",
       "      <td>340</td>\n",
       "    </tr>\n",
       "    <tr>\n",
       "      <th>3</th>\n",
       "      <td>1000</td>\n",
       "      <td>2018-08-01</td>\n",
       "      <td>408</td>\n",
       "    </tr>\n",
       "    <tr>\n",
       "      <th>4</th>\n",
       "      <td>1000</td>\n",
       "      <td>2018-09-01</td>\n",
       "      <td>466</td>\n",
       "    </tr>\n",
       "    <tr>\n",
       "      <th>5</th>\n",
       "      <td>1000</td>\n",
       "      <td>2018-10-01</td>\n",
       "      <td>350</td>\n",
       "    </tr>\n",
       "    <tr>\n",
       "      <th>6</th>\n",
       "      <td>1000</td>\n",
       "      <td>2018-11-01</td>\n",
       "      <td>338</td>\n",
       "    </tr>\n",
       "    <tr>\n",
       "      <th>7</th>\n",
       "      <td>1000</td>\n",
       "      <td>2018-12-01</td>\n",
       "      <td>333</td>\n",
       "    </tr>\n",
       "    <tr>\n",
       "      <th>8</th>\n",
       "      <td>1001</td>\n",
       "      <td>2018-11-01</td>\n",
       "      <td>430</td>\n",
       "    </tr>\n",
       "    <tr>\n",
       "      <th>9</th>\n",
       "      <td>1001</td>\n",
       "      <td>2018-12-01</td>\n",
       "      <td>414</td>\n",
       "    </tr>\n",
       "    <tr>\n",
       "      <th>10</th>\n",
       "      <td>1002</td>\n",
       "      <td>2018-06-01</td>\n",
       "      <td>117</td>\n",
       "    </tr>\n",
       "    <tr>\n",
       "      <th>11</th>\n",
       "      <td>1002</td>\n",
       "      <td>2018-07-01</td>\n",
       "      <td>214</td>\n",
       "    </tr>\n",
       "    <tr>\n",
       "      <th>12</th>\n",
       "      <td>1002</td>\n",
       "      <td>2018-08-01</td>\n",
       "      <td>289</td>\n",
       "    </tr>\n",
       "    <tr>\n",
       "      <th>13</th>\n",
       "      <td>1002</td>\n",
       "      <td>2018-09-01</td>\n",
       "      <td>206</td>\n",
       "    </tr>\n",
       "    <tr>\n",
       "      <th>14</th>\n",
       "      <td>1002</td>\n",
       "      <td>2018-10-01</td>\n",
       "      <td>212</td>\n",
       "    </tr>\n",
       "  </tbody>\n",
       "</table>\n",
       "</div>"
      ],
      "text/plain": [
       "    user_id      month  mins_per_month\n",
       "0      1000 2018-05-01             159\n",
       "1      1000 2018-06-01             172\n",
       "2      1000 2018-07-01             340\n",
       "3      1000 2018-08-01             408\n",
       "4      1000 2018-09-01             466\n",
       "5      1000 2018-10-01             350\n",
       "6      1000 2018-11-01             338\n",
       "7      1000 2018-12-01             333\n",
       "8      1001 2018-11-01             430\n",
       "9      1001 2018-12-01             414\n",
       "10     1002 2018-06-01             117\n",
       "11     1002 2018-07-01             214\n",
       "12     1002 2018-08-01             289\n",
       "13     1002 2018-09-01             206\n",
       "14     1002 2018-10-01             212"
      ]
     },
     "execution_count": 66,
     "metadata": {},
     "output_type": "execute_result"
    }
   ],
   "source": [
    "calls_summary = calls.groupby(['user_id', 'month']).agg({'duration': 'sum'}).reset_index() # creating a summary table grouping by user_id and month\n",
    "calls_summary.rename(columns={'duration': 'mins_per_month'}, inplace=True)  # renaming the column\n",
    "calls_summary.head(15)  # checking the result\n"
   ]
  },
  {
   "cell_type": "code",
   "execution_count": 67,
   "id": "4581ece6",
   "metadata": {},
   "outputs": [
    {
     "data": {
      "text/html": [
       "<div>\n",
       "<style scoped>\n",
       "    .dataframe tbody tr th:only-of-type {\n",
       "        vertical-align: middle;\n",
       "    }\n",
       "\n",
       "    .dataframe tbody tr th {\n",
       "        vertical-align: top;\n",
       "    }\n",
       "\n",
       "    .dataframe thead th {\n",
       "        text-align: right;\n",
       "    }\n",
       "</style>\n",
       "<table border=\"1\" class=\"dataframe\">\n",
       "  <thead>\n",
       "    <tr style=\"text-align: right;\">\n",
       "      <th></th>\n",
       "      <th>user_id</th>\n",
       "      <th>month</th>\n",
       "      <th>msgs_per_month</th>\n",
       "    </tr>\n",
       "  </thead>\n",
       "  <tbody>\n",
       "    <tr>\n",
       "      <th>0</th>\n",
       "      <td>1000</td>\n",
       "      <td>2018-05-01</td>\n",
       "      <td>22</td>\n",
       "    </tr>\n",
       "    <tr>\n",
       "      <th>1</th>\n",
       "      <td>1000</td>\n",
       "      <td>2018-06-01</td>\n",
       "      <td>60</td>\n",
       "    </tr>\n",
       "    <tr>\n",
       "      <th>2</th>\n",
       "      <td>1000</td>\n",
       "      <td>2018-07-01</td>\n",
       "      <td>75</td>\n",
       "    </tr>\n",
       "    <tr>\n",
       "      <th>3</th>\n",
       "      <td>1000</td>\n",
       "      <td>2018-08-01</td>\n",
       "      <td>81</td>\n",
       "    </tr>\n",
       "    <tr>\n",
       "      <th>4</th>\n",
       "      <td>1000</td>\n",
       "      <td>2018-09-01</td>\n",
       "      <td>57</td>\n",
       "    </tr>\n",
       "    <tr>\n",
       "      <th>5</th>\n",
       "      <td>1000</td>\n",
       "      <td>2018-10-01</td>\n",
       "      <td>73</td>\n",
       "    </tr>\n",
       "    <tr>\n",
       "      <th>6</th>\n",
       "      <td>1000</td>\n",
       "      <td>2018-11-01</td>\n",
       "      <td>58</td>\n",
       "    </tr>\n",
       "    <tr>\n",
       "      <th>7</th>\n",
       "      <td>1000</td>\n",
       "      <td>2018-12-01</td>\n",
       "      <td>70</td>\n",
       "    </tr>\n",
       "    <tr>\n",
       "      <th>8</th>\n",
       "      <td>1002</td>\n",
       "      <td>2018-06-01</td>\n",
       "      <td>4</td>\n",
       "    </tr>\n",
       "    <tr>\n",
       "      <th>9</th>\n",
       "      <td>1002</td>\n",
       "      <td>2018-07-01</td>\n",
       "      <td>11</td>\n",
       "    </tr>\n",
       "    <tr>\n",
       "      <th>10</th>\n",
       "      <td>1002</td>\n",
       "      <td>2018-08-01</td>\n",
       "      <td>13</td>\n",
       "    </tr>\n",
       "    <tr>\n",
       "      <th>11</th>\n",
       "      <td>1002</td>\n",
       "      <td>2018-09-01</td>\n",
       "      <td>4</td>\n",
       "    </tr>\n",
       "    <tr>\n",
       "      <th>12</th>\n",
       "      <td>1002</td>\n",
       "      <td>2018-10-01</td>\n",
       "      <td>10</td>\n",
       "    </tr>\n",
       "    <tr>\n",
       "      <th>13</th>\n",
       "      <td>1002</td>\n",
       "      <td>2018-11-01</td>\n",
       "      <td>16</td>\n",
       "    </tr>\n",
       "    <tr>\n",
       "      <th>14</th>\n",
       "      <td>1002</td>\n",
       "      <td>2018-12-01</td>\n",
       "      <td>12</td>\n",
       "    </tr>\n",
       "  </tbody>\n",
       "</table>\n",
       "</div>"
      ],
      "text/plain": [
       "    user_id      month  msgs_per_month\n",
       "0      1000 2018-05-01              22\n",
       "1      1000 2018-06-01              60\n",
       "2      1000 2018-07-01              75\n",
       "3      1000 2018-08-01              81\n",
       "4      1000 2018-09-01              57\n",
       "5      1000 2018-10-01              73\n",
       "6      1000 2018-11-01              58\n",
       "7      1000 2018-12-01              70\n",
       "8      1002 2018-06-01               4\n",
       "9      1002 2018-07-01              11\n",
       "10     1002 2018-08-01              13\n",
       "11     1002 2018-09-01               4\n",
       "12     1002 2018-10-01              10\n",
       "13     1002 2018-11-01              16\n",
       "14     1002 2018-12-01              12"
      ]
     },
     "execution_count": 67,
     "metadata": {},
     "output_type": "execute_result"
    }
   ],
   "source": [
    "msg_summary = messages.groupby(['user_id', 'month']).agg({'id': 'count'}).reset_index()  # creating a summary table grouping by user_id and month\n",
    "msg_summary.rename(columns={'id': 'msgs_per_month'}, inplace=True)   # renaming the column\n",
    "msg_summary.head(15)  # checking the result"
   ]
  },
  {
   "cell_type": "code",
   "execution_count": 68,
   "id": "1f8bbefb",
   "metadata": {},
   "outputs": [
    {
     "data": {
      "text/html": [
       "<div>\n",
       "<style scoped>\n",
       "    .dataframe tbody tr th:only-of-type {\n",
       "        vertical-align: middle;\n",
       "    }\n",
       "\n",
       "    .dataframe tbody tr th {\n",
       "        vertical-align: top;\n",
       "    }\n",
       "\n",
       "    .dataframe thead th {\n",
       "        text-align: right;\n",
       "    }\n",
       "</style>\n",
       "<table border=\"1\" class=\"dataframe\">\n",
       "  <thead>\n",
       "    <tr style=\"text-align: right;\">\n",
       "      <th></th>\n",
       "      <th>user_id</th>\n",
       "      <th>month</th>\n",
       "      <th>mb_used</th>\n",
       "    </tr>\n",
       "  </thead>\n",
       "  <tbody>\n",
       "    <tr>\n",
       "      <th>0</th>\n",
       "      <td>1000</td>\n",
       "      <td>2018-05-01</td>\n",
       "      <td>2253.49</td>\n",
       "    </tr>\n",
       "    <tr>\n",
       "      <th>1</th>\n",
       "      <td>1000</td>\n",
       "      <td>2018-06-01</td>\n",
       "      <td>23233.77</td>\n",
       "    </tr>\n",
       "    <tr>\n",
       "      <th>2</th>\n",
       "      <td>1000</td>\n",
       "      <td>2018-07-01</td>\n",
       "      <td>14003.64</td>\n",
       "    </tr>\n",
       "    <tr>\n",
       "      <th>3</th>\n",
       "      <td>1000</td>\n",
       "      <td>2018-08-01</td>\n",
       "      <td>14055.93</td>\n",
       "    </tr>\n",
       "    <tr>\n",
       "      <th>4</th>\n",
       "      <td>1000</td>\n",
       "      <td>2018-09-01</td>\n",
       "      <td>14568.91</td>\n",
       "    </tr>\n",
       "    <tr>\n",
       "      <th>5</th>\n",
       "      <td>1000</td>\n",
       "      <td>2018-10-01</td>\n",
       "      <td>14702.49</td>\n",
       "    </tr>\n",
       "    <tr>\n",
       "      <th>6</th>\n",
       "      <td>1000</td>\n",
       "      <td>2018-11-01</td>\n",
       "      <td>14756.47</td>\n",
       "    </tr>\n",
       "    <tr>\n",
       "      <th>7</th>\n",
       "      <td>1000</td>\n",
       "      <td>2018-12-01</td>\n",
       "      <td>9817.61</td>\n",
       "    </tr>\n",
       "    <tr>\n",
       "      <th>8</th>\n",
       "      <td>1001</td>\n",
       "      <td>2018-11-01</td>\n",
       "      <td>18429.34</td>\n",
       "    </tr>\n",
       "    <tr>\n",
       "      <th>9</th>\n",
       "      <td>1001</td>\n",
       "      <td>2018-12-01</td>\n",
       "      <td>14036.66</td>\n",
       "    </tr>\n",
       "    <tr>\n",
       "      <th>10</th>\n",
       "      <td>1002</td>\n",
       "      <td>2018-06-01</td>\n",
       "      <td>10856.82</td>\n",
       "    </tr>\n",
       "    <tr>\n",
       "      <th>11</th>\n",
       "      <td>1002</td>\n",
       "      <td>2018-07-01</td>\n",
       "      <td>17580.10</td>\n",
       "    </tr>\n",
       "    <tr>\n",
       "      <th>12</th>\n",
       "      <td>1002</td>\n",
       "      <td>2018-08-01</td>\n",
       "      <td>20319.26</td>\n",
       "    </tr>\n",
       "    <tr>\n",
       "      <th>13</th>\n",
       "      <td>1002</td>\n",
       "      <td>2018-09-01</td>\n",
       "      <td>16691.08</td>\n",
       "    </tr>\n",
       "    <tr>\n",
       "      <th>14</th>\n",
       "      <td>1002</td>\n",
       "      <td>2018-10-01</td>\n",
       "      <td>13888.25</td>\n",
       "    </tr>\n",
       "  </tbody>\n",
       "</table>\n",
       "</div>"
      ],
      "text/plain": [
       "    user_id      month   mb_used\n",
       "0      1000 2018-05-01   2253.49\n",
       "1      1000 2018-06-01  23233.77\n",
       "2      1000 2018-07-01  14003.64\n",
       "3      1000 2018-08-01  14055.93\n",
       "4      1000 2018-09-01  14568.91\n",
       "5      1000 2018-10-01  14702.49\n",
       "6      1000 2018-11-01  14756.47\n",
       "7      1000 2018-12-01   9817.61\n",
       "8      1001 2018-11-01  18429.34\n",
       "9      1001 2018-12-01  14036.66\n",
       "10     1002 2018-06-01  10856.82\n",
       "11     1002 2018-07-01  17580.10\n",
       "12     1002 2018-08-01  20319.26\n",
       "13     1002 2018-09-01  16691.08\n",
       "14     1002 2018-10-01  13888.25"
      ]
     },
     "execution_count": 68,
     "metadata": {},
     "output_type": "execute_result"
    }
   ],
   "source": [
    "internet_summary = internet.groupby(['user_id', 'month']).agg({'mb_used': 'sum'}).reset_index()  # creating a summary table grouping by user_id and month\n",
    "internet_summary.head(15)  # checking the result"
   ]
  },
  {
   "cell_type": "markdown",
   "id": "6aa93d7b",
   "metadata": {},
   "source": [
    "From the task, we know that, unlike calls, individual sessions are not counted, and at the end of the month the total amount of MB is rounded up. Since we grouped internet traffic for each user by month, we can do the necessary transformations on the 'mb_used' column and rename it:\n"
   ]
  },
  {
   "cell_type": "code",
   "execution_count": 69,
   "id": "0da2e972",
   "metadata": {},
   "outputs": [
    {
     "data": {
      "text/html": [
       "<div>\n",
       "<style scoped>\n",
       "    .dataframe tbody tr th:only-of-type {\n",
       "        vertical-align: middle;\n",
       "    }\n",
       "\n",
       "    .dataframe tbody tr th {\n",
       "        vertical-align: top;\n",
       "    }\n",
       "\n",
       "    .dataframe thead th {\n",
       "        text-align: right;\n",
       "    }\n",
       "</style>\n",
       "<table border=\"1\" class=\"dataframe\">\n",
       "  <thead>\n",
       "    <tr style=\"text-align: right;\">\n",
       "      <th></th>\n",
       "      <th>user_id</th>\n",
       "      <th>month</th>\n",
       "      <th>gb_used</th>\n",
       "    </tr>\n",
       "  </thead>\n",
       "  <tbody>\n",
       "    <tr>\n",
       "      <th>0</th>\n",
       "      <td>1000</td>\n",
       "      <td>2018-05-01</td>\n",
       "      <td>3</td>\n",
       "    </tr>\n",
       "    <tr>\n",
       "      <th>1</th>\n",
       "      <td>1000</td>\n",
       "      <td>2018-06-01</td>\n",
       "      <td>23</td>\n",
       "    </tr>\n",
       "    <tr>\n",
       "      <th>2</th>\n",
       "      <td>1000</td>\n",
       "      <td>2018-07-01</td>\n",
       "      <td>14</td>\n",
       "    </tr>\n",
       "    <tr>\n",
       "      <th>3</th>\n",
       "      <td>1000</td>\n",
       "      <td>2018-08-01</td>\n",
       "      <td>14</td>\n",
       "    </tr>\n",
       "    <tr>\n",
       "      <th>4</th>\n",
       "      <td>1000</td>\n",
       "      <td>2018-09-01</td>\n",
       "      <td>15</td>\n",
       "    </tr>\n",
       "    <tr>\n",
       "      <th>5</th>\n",
       "      <td>1000</td>\n",
       "      <td>2018-10-01</td>\n",
       "      <td>15</td>\n",
       "    </tr>\n",
       "    <tr>\n",
       "      <th>6</th>\n",
       "      <td>1000</td>\n",
       "      <td>2018-11-01</td>\n",
       "      <td>15</td>\n",
       "    </tr>\n",
       "    <tr>\n",
       "      <th>7</th>\n",
       "      <td>1000</td>\n",
       "      <td>2018-12-01</td>\n",
       "      <td>10</td>\n",
       "    </tr>\n",
       "    <tr>\n",
       "      <th>8</th>\n",
       "      <td>1001</td>\n",
       "      <td>2018-11-01</td>\n",
       "      <td>18</td>\n",
       "    </tr>\n",
       "    <tr>\n",
       "      <th>9</th>\n",
       "      <td>1001</td>\n",
       "      <td>2018-12-01</td>\n",
       "      <td>14</td>\n",
       "    </tr>\n",
       "    <tr>\n",
       "      <th>10</th>\n",
       "      <td>1002</td>\n",
       "      <td>2018-06-01</td>\n",
       "      <td>11</td>\n",
       "    </tr>\n",
       "    <tr>\n",
       "      <th>11</th>\n",
       "      <td>1002</td>\n",
       "      <td>2018-07-01</td>\n",
       "      <td>18</td>\n",
       "    </tr>\n",
       "    <tr>\n",
       "      <th>12</th>\n",
       "      <td>1002</td>\n",
       "      <td>2018-08-01</td>\n",
       "      <td>20</td>\n",
       "    </tr>\n",
       "    <tr>\n",
       "      <th>13</th>\n",
       "      <td>1002</td>\n",
       "      <td>2018-09-01</td>\n",
       "      <td>17</td>\n",
       "    </tr>\n",
       "    <tr>\n",
       "      <th>14</th>\n",
       "      <td>1002</td>\n",
       "      <td>2018-10-01</td>\n",
       "      <td>14</td>\n",
       "    </tr>\n",
       "  </tbody>\n",
       "</table>\n",
       "</div>"
      ],
      "text/plain": [
       "    user_id      month  gb_used\n",
       "0      1000 2018-05-01        3\n",
       "1      1000 2018-06-01       23\n",
       "2      1000 2018-07-01       14\n",
       "3      1000 2018-08-01       14\n",
       "4      1000 2018-09-01       15\n",
       "5      1000 2018-10-01       15\n",
       "6      1000 2018-11-01       15\n",
       "7      1000 2018-12-01       10\n",
       "8      1001 2018-11-01       18\n",
       "9      1001 2018-12-01       14\n",
       "10     1002 2018-06-01       11\n",
       "11     1002 2018-07-01       18\n",
       "12     1002 2018-08-01       20\n",
       "13     1002 2018-09-01       17\n",
       "14     1002 2018-10-01       14"
      ]
     },
     "execution_count": 69,
     "metadata": {},
     "output_type": "execute_result"
    }
   ],
   "source": [
    "internet_summary['mb_used'] = (internet_summary['mb_used']/1024).apply(np.ceil).astype(int)  # округляем в большую сторону и меняем тип данных на int\n",
    "internet_summary.rename(columns={'mb_used': 'gb_used'}, inplace=True)   # переименовывыем столбец\n",
    "internet_summary.head(15) # проверяем результат"
   ]
  },
  {
   "cell_type": "markdown",
   "id": "a527f916",
   "metadata": {},
   "source": [
    "Next, we should calculate the monthly revenue from each user: to do this, we subtract the free limit from the total number of calls, messages and Internet traffic, multiply the rest by the value from the tariff plan and add the subscription fee corresponding to the tariff plan. Let's merge the dataframes before making calculations:\n"
   ]
  },
  {
   "cell_type": "code",
   "execution_count": 70,
   "id": "3935207f",
   "metadata": {},
   "outputs": [
    {
     "data": {
      "text/html": [
       "<div>\n",
       "<style scoped>\n",
       "    .dataframe tbody tr th:only-of-type {\n",
       "        vertical-align: middle;\n",
       "    }\n",
       "\n",
       "    .dataframe tbody tr th {\n",
       "        vertical-align: top;\n",
       "    }\n",
       "\n",
       "    .dataframe thead th {\n",
       "        text-align: right;\n",
       "    }\n",
       "</style>\n",
       "<table border=\"1\" class=\"dataframe\">\n",
       "  <thead>\n",
       "    <tr style=\"text-align: right;\">\n",
       "      <th></th>\n",
       "      <th>user_id</th>\n",
       "      <th>age</th>\n",
       "      <th>churn_date</th>\n",
       "      <th>city</th>\n",
       "      <th>first_name</th>\n",
       "      <th>last_name</th>\n",
       "      <th>reg_date</th>\n",
       "      <th>tariff</th>\n",
       "      <th>messages_included</th>\n",
       "      <th>gb_included</th>\n",
       "      <th>minutes_included</th>\n",
       "      <th>rub_monthly_fee</th>\n",
       "      <th>rub_per_gb</th>\n",
       "      <th>rub_per_message</th>\n",
       "      <th>rub_per_minute</th>\n",
       "    </tr>\n",
       "  </thead>\n",
       "  <tbody>\n",
       "    <tr>\n",
       "      <th>0</th>\n",
       "      <td>1000</td>\n",
       "      <td>52</td>\n",
       "      <td>NaN</td>\n",
       "      <td>Краснодар</td>\n",
       "      <td>Рафаил</td>\n",
       "      <td>Верещагин</td>\n",
       "      <td>2018-05-25</td>\n",
       "      <td>ultra</td>\n",
       "      <td>1000</td>\n",
       "      <td>30</td>\n",
       "      <td>3000</td>\n",
       "      <td>1950</td>\n",
       "      <td>150</td>\n",
       "      <td>1</td>\n",
       "      <td>1</td>\n",
       "    </tr>\n",
       "    <tr>\n",
       "      <th>1</th>\n",
       "      <td>1003</td>\n",
       "      <td>23</td>\n",
       "      <td>NaN</td>\n",
       "      <td>Москва</td>\n",
       "      <td>Белла</td>\n",
       "      <td>Белякова</td>\n",
       "      <td>2018-08-17</td>\n",
       "      <td>ultra</td>\n",
       "      <td>1000</td>\n",
       "      <td>30</td>\n",
       "      <td>3000</td>\n",
       "      <td>1950</td>\n",
       "      <td>150</td>\n",
       "      <td>1</td>\n",
       "      <td>1</td>\n",
       "    </tr>\n",
       "    <tr>\n",
       "      <th>2</th>\n",
       "      <td>1004</td>\n",
       "      <td>68</td>\n",
       "      <td>NaN</td>\n",
       "      <td>Новокузнецк</td>\n",
       "      <td>Татьяна</td>\n",
       "      <td>Авдеенко</td>\n",
       "      <td>2018-05-14</td>\n",
       "      <td>ultra</td>\n",
       "      <td>1000</td>\n",
       "      <td>30</td>\n",
       "      <td>3000</td>\n",
       "      <td>1950</td>\n",
       "      <td>150</td>\n",
       "      <td>1</td>\n",
       "      <td>1</td>\n",
       "    </tr>\n",
       "    <tr>\n",
       "      <th>3</th>\n",
       "      <td>1013</td>\n",
       "      <td>36</td>\n",
       "      <td>NaN</td>\n",
       "      <td>Иваново</td>\n",
       "      <td>Борис</td>\n",
       "      <td>Андреенко</td>\n",
       "      <td>2018-11-14</td>\n",
       "      <td>ultra</td>\n",
       "      <td>1000</td>\n",
       "      <td>30</td>\n",
       "      <td>3000</td>\n",
       "      <td>1950</td>\n",
       "      <td>150</td>\n",
       "      <td>1</td>\n",
       "      <td>1</td>\n",
       "    </tr>\n",
       "    <tr>\n",
       "      <th>4</th>\n",
       "      <td>1016</td>\n",
       "      <td>58</td>\n",
       "      <td>NaN</td>\n",
       "      <td>Омск</td>\n",
       "      <td>Марица</td>\n",
       "      <td>Сазонова</td>\n",
       "      <td>2018-11-21</td>\n",
       "      <td>ultra</td>\n",
       "      <td>1000</td>\n",
       "      <td>30</td>\n",
       "      <td>3000</td>\n",
       "      <td>1950</td>\n",
       "      <td>150</td>\n",
       "      <td>1</td>\n",
       "      <td>1</td>\n",
       "    </tr>\n",
       "  </tbody>\n",
       "</table>\n",
       "</div>"
      ],
      "text/plain": [
       "   user_id  age churn_date         city first_name  last_name    reg_date  \\\n",
       "0     1000   52        NaN    Краснодар     Рафаил  Верещагин  2018-05-25   \n",
       "1     1003   23        NaN       Москва      Белла   Белякова  2018-08-17   \n",
       "2     1004   68        NaN  Новокузнецк    Татьяна   Авдеенко  2018-05-14   \n",
       "3     1013   36        NaN      Иваново      Борис  Андреенко  2018-11-14   \n",
       "4     1016   58        NaN         Омск     Марица   Сазонова  2018-11-21   \n",
       "\n",
       "  tariff  messages_included  gb_included  minutes_included  rub_monthly_fee  \\\n",
       "0  ultra               1000           30              3000             1950   \n",
       "1  ultra               1000           30              3000             1950   \n",
       "2  ultra               1000           30              3000             1950   \n",
       "3  ultra               1000           30              3000             1950   \n",
       "4  ultra               1000           30              3000             1950   \n",
       "\n",
       "   rub_per_gb  rub_per_message  rub_per_minute  \n",
       "0         150                1               1  \n",
       "1         150                1               1  \n",
       "2         150                1               1  \n",
       "3         150                1               1  \n",
       "4         150                1               1  "
      ]
     },
     "execution_count": 70,
     "metadata": {},
     "output_type": "execute_result"
    }
   ],
   "source": [
    "tariffs.rename(columns={'tariff_name': 'tariff'}, inplace=True) # renaming the column on which we will be merging\n",
    "data = users.merge(tariffs, on='tariff', how='outer')  # merging tables by outer, to keep all data\n",
    "data.head()  # checking the result"
   ]
  },
  {
   "cell_type": "markdown",
   "id": "a7ae15aa",
   "metadata": {},
   "source": [
    "Since the dataframe turned out to be quite large, we can remove the columns not involved in our study, which are, 'age', 'first_name', 'last_name', 'churn_date', 'reg_date':\n"
   ]
  },
  {
   "cell_type": "code",
   "execution_count": 71,
   "id": "6db2c18f",
   "metadata": {},
   "outputs": [
    {
     "data": {
      "text/html": [
       "<div>\n",
       "<style scoped>\n",
       "    .dataframe tbody tr th:only-of-type {\n",
       "        vertical-align: middle;\n",
       "    }\n",
       "\n",
       "    .dataframe tbody tr th {\n",
       "        vertical-align: top;\n",
       "    }\n",
       "\n",
       "    .dataframe thead th {\n",
       "        text-align: right;\n",
       "    }\n",
       "</style>\n",
       "<table border=\"1\" class=\"dataframe\">\n",
       "  <thead>\n",
       "    <tr style=\"text-align: right;\">\n",
       "      <th></th>\n",
       "      <th>user_id</th>\n",
       "      <th>city</th>\n",
       "      <th>tariff</th>\n",
       "      <th>messages_included</th>\n",
       "      <th>gb_included</th>\n",
       "      <th>minutes_included</th>\n",
       "      <th>rub_monthly_fee</th>\n",
       "      <th>rub_per_gb</th>\n",
       "      <th>rub_per_message</th>\n",
       "      <th>rub_per_minute</th>\n",
       "    </tr>\n",
       "  </thead>\n",
       "  <tbody>\n",
       "    <tr>\n",
       "      <th>0</th>\n",
       "      <td>1000</td>\n",
       "      <td>Краснодар</td>\n",
       "      <td>ultra</td>\n",
       "      <td>1000</td>\n",
       "      <td>30</td>\n",
       "      <td>3000</td>\n",
       "      <td>1950</td>\n",
       "      <td>150</td>\n",
       "      <td>1</td>\n",
       "      <td>1</td>\n",
       "    </tr>\n",
       "    <tr>\n",
       "      <th>1</th>\n",
       "      <td>1003</td>\n",
       "      <td>Москва</td>\n",
       "      <td>ultra</td>\n",
       "      <td>1000</td>\n",
       "      <td>30</td>\n",
       "      <td>3000</td>\n",
       "      <td>1950</td>\n",
       "      <td>150</td>\n",
       "      <td>1</td>\n",
       "      <td>1</td>\n",
       "    </tr>\n",
       "    <tr>\n",
       "      <th>2</th>\n",
       "      <td>1004</td>\n",
       "      <td>Новокузнецк</td>\n",
       "      <td>ultra</td>\n",
       "      <td>1000</td>\n",
       "      <td>30</td>\n",
       "      <td>3000</td>\n",
       "      <td>1950</td>\n",
       "      <td>150</td>\n",
       "      <td>1</td>\n",
       "      <td>1</td>\n",
       "    </tr>\n",
       "    <tr>\n",
       "      <th>3</th>\n",
       "      <td>1013</td>\n",
       "      <td>Иваново</td>\n",
       "      <td>ultra</td>\n",
       "      <td>1000</td>\n",
       "      <td>30</td>\n",
       "      <td>3000</td>\n",
       "      <td>1950</td>\n",
       "      <td>150</td>\n",
       "      <td>1</td>\n",
       "      <td>1</td>\n",
       "    </tr>\n",
       "    <tr>\n",
       "      <th>4</th>\n",
       "      <td>1016</td>\n",
       "      <td>Омск</td>\n",
       "      <td>ultra</td>\n",
       "      <td>1000</td>\n",
       "      <td>30</td>\n",
       "      <td>3000</td>\n",
       "      <td>1950</td>\n",
       "      <td>150</td>\n",
       "      <td>1</td>\n",
       "      <td>1</td>\n",
       "    </tr>\n",
       "  </tbody>\n",
       "</table>\n",
       "</div>"
      ],
      "text/plain": [
       "   user_id         city tariff  messages_included  gb_included  \\\n",
       "0     1000    Краснодар  ultra               1000           30   \n",
       "1     1003       Москва  ultra               1000           30   \n",
       "2     1004  Новокузнецк  ultra               1000           30   \n",
       "3     1013      Иваново  ultra               1000           30   \n",
       "4     1016         Омск  ultra               1000           30   \n",
       "\n",
       "   minutes_included  rub_monthly_fee  rub_per_gb  rub_per_message  \\\n",
       "0              3000             1950         150                1   \n",
       "1              3000             1950         150                1   \n",
       "2              3000             1950         150                1   \n",
       "3              3000             1950         150                1   \n",
       "4              3000             1950         150                1   \n",
       "\n",
       "   rub_per_minute  \n",
       "0               1  \n",
       "1               1  \n",
       "2               1  \n",
       "3               1  \n",
       "4               1  "
      ]
     },
     "execution_count": 71,
     "metadata": {},
     "output_type": "execute_result"
    }
   ],
   "source": [
    "data.drop(['age', 'first_name', 'last_name', 'churn_date', 'reg_date'], inplace=True, axis=1)  # deleting superfluous columns\n",
    "data.head()  # checking the result"
   ]
  },
  {
   "cell_type": "code",
   "execution_count": 72,
   "id": "610e338f",
   "metadata": {},
   "outputs": [
    {
     "data": {
      "text/html": [
       "<div>\n",
       "<style scoped>\n",
       "    .dataframe tbody tr th:only-of-type {\n",
       "        vertical-align: middle;\n",
       "    }\n",
       "\n",
       "    .dataframe tbody tr th {\n",
       "        vertical-align: top;\n",
       "    }\n",
       "\n",
       "    .dataframe thead th {\n",
       "        text-align: right;\n",
       "    }\n",
       "</style>\n",
       "<table border=\"1\" class=\"dataframe\">\n",
       "  <thead>\n",
       "    <tr style=\"text-align: right;\">\n",
       "      <th></th>\n",
       "      <th>user_id</th>\n",
       "      <th>month</th>\n",
       "      <th>mins_per_month</th>\n",
       "      <th>msgs_per_month</th>\n",
       "      <th>gb_used</th>\n",
       "    </tr>\n",
       "  </thead>\n",
       "  <tbody>\n",
       "    <tr>\n",
       "      <th>0</th>\n",
       "      <td>1000</td>\n",
       "      <td>2018-05-01</td>\n",
       "      <td>159.0</td>\n",
       "      <td>22.0</td>\n",
       "      <td>3.0</td>\n",
       "    </tr>\n",
       "    <tr>\n",
       "      <th>1</th>\n",
       "      <td>1000</td>\n",
       "      <td>2018-06-01</td>\n",
       "      <td>172.0</td>\n",
       "      <td>60.0</td>\n",
       "      <td>23.0</td>\n",
       "    </tr>\n",
       "    <tr>\n",
       "      <th>2</th>\n",
       "      <td>1000</td>\n",
       "      <td>2018-07-01</td>\n",
       "      <td>340.0</td>\n",
       "      <td>75.0</td>\n",
       "      <td>14.0</td>\n",
       "    </tr>\n",
       "    <tr>\n",
       "      <th>3</th>\n",
       "      <td>1000</td>\n",
       "      <td>2018-08-01</td>\n",
       "      <td>408.0</td>\n",
       "      <td>81.0</td>\n",
       "      <td>14.0</td>\n",
       "    </tr>\n",
       "    <tr>\n",
       "      <th>4</th>\n",
       "      <td>1000</td>\n",
       "      <td>2018-09-01</td>\n",
       "      <td>466.0</td>\n",
       "      <td>57.0</td>\n",
       "      <td>15.0</td>\n",
       "    </tr>\n",
       "    <tr>\n",
       "      <th>5</th>\n",
       "      <td>1000</td>\n",
       "      <td>2018-10-01</td>\n",
       "      <td>350.0</td>\n",
       "      <td>73.0</td>\n",
       "      <td>15.0</td>\n",
       "    </tr>\n",
       "    <tr>\n",
       "      <th>6</th>\n",
       "      <td>1000</td>\n",
       "      <td>2018-11-01</td>\n",
       "      <td>338.0</td>\n",
       "      <td>58.0</td>\n",
       "      <td>15.0</td>\n",
       "    </tr>\n",
       "    <tr>\n",
       "      <th>7</th>\n",
       "      <td>1000</td>\n",
       "      <td>2018-12-01</td>\n",
       "      <td>333.0</td>\n",
       "      <td>70.0</td>\n",
       "      <td>10.0</td>\n",
       "    </tr>\n",
       "    <tr>\n",
       "      <th>8</th>\n",
       "      <td>1001</td>\n",
       "      <td>2018-11-01</td>\n",
       "      <td>430.0</td>\n",
       "      <td>NaN</td>\n",
       "      <td>18.0</td>\n",
       "    </tr>\n",
       "    <tr>\n",
       "      <th>9</th>\n",
       "      <td>1001</td>\n",
       "      <td>2018-12-01</td>\n",
       "      <td>414.0</td>\n",
       "      <td>NaN</td>\n",
       "      <td>14.0</td>\n",
       "    </tr>\n",
       "    <tr>\n",
       "      <th>10</th>\n",
       "      <td>1002</td>\n",
       "      <td>2018-06-01</td>\n",
       "      <td>117.0</td>\n",
       "      <td>4.0</td>\n",
       "      <td>11.0</td>\n",
       "    </tr>\n",
       "    <tr>\n",
       "      <th>11</th>\n",
       "      <td>1002</td>\n",
       "      <td>2018-07-01</td>\n",
       "      <td>214.0</td>\n",
       "      <td>11.0</td>\n",
       "      <td>18.0</td>\n",
       "    </tr>\n",
       "    <tr>\n",
       "      <th>12</th>\n",
       "      <td>1002</td>\n",
       "      <td>2018-08-01</td>\n",
       "      <td>289.0</td>\n",
       "      <td>13.0</td>\n",
       "      <td>20.0</td>\n",
       "    </tr>\n",
       "    <tr>\n",
       "      <th>13</th>\n",
       "      <td>1002</td>\n",
       "      <td>2018-09-01</td>\n",
       "      <td>206.0</td>\n",
       "      <td>4.0</td>\n",
       "      <td>17.0</td>\n",
       "    </tr>\n",
       "    <tr>\n",
       "      <th>14</th>\n",
       "      <td>1002</td>\n",
       "      <td>2018-10-01</td>\n",
       "      <td>212.0</td>\n",
       "      <td>10.0</td>\n",
       "      <td>14.0</td>\n",
       "    </tr>\n",
       "    <tr>\n",
       "      <th>15</th>\n",
       "      <td>1002</td>\n",
       "      <td>2018-11-01</td>\n",
       "      <td>243.0</td>\n",
       "      <td>16.0</td>\n",
       "      <td>19.0</td>\n",
       "    </tr>\n",
       "    <tr>\n",
       "      <th>16</th>\n",
       "      <td>1002</td>\n",
       "      <td>2018-12-01</td>\n",
       "      <td>236.0</td>\n",
       "      <td>12.0</td>\n",
       "      <td>18.0</td>\n",
       "    </tr>\n",
       "    <tr>\n",
       "      <th>17</th>\n",
       "      <td>1003</td>\n",
       "      <td>2018-08-01</td>\n",
       "      <td>380.0</td>\n",
       "      <td>37.0</td>\n",
       "      <td>9.0</td>\n",
       "    </tr>\n",
       "    <tr>\n",
       "      <th>18</th>\n",
       "      <td>1003</td>\n",
       "      <td>2018-09-01</td>\n",
       "      <td>961.0</td>\n",
       "      <td>91.0</td>\n",
       "      <td>13.0</td>\n",
       "    </tr>\n",
       "    <tr>\n",
       "      <th>19</th>\n",
       "      <td>1003</td>\n",
       "      <td>2018-10-01</td>\n",
       "      <td>855.0</td>\n",
       "      <td>83.0</td>\n",
       "      <td>15.0</td>\n",
       "    </tr>\n",
       "  </tbody>\n",
       "</table>\n",
       "</div>"
      ],
      "text/plain": [
       "    user_id      month  mins_per_month  msgs_per_month  gb_used\n",
       "0      1000 2018-05-01           159.0            22.0      3.0\n",
       "1      1000 2018-06-01           172.0            60.0     23.0\n",
       "2      1000 2018-07-01           340.0            75.0     14.0\n",
       "3      1000 2018-08-01           408.0            81.0     14.0\n",
       "4      1000 2018-09-01           466.0            57.0     15.0\n",
       "5      1000 2018-10-01           350.0            73.0     15.0\n",
       "6      1000 2018-11-01           338.0            58.0     15.0\n",
       "7      1000 2018-12-01           333.0            70.0     10.0\n",
       "8      1001 2018-11-01           430.0             NaN     18.0\n",
       "9      1001 2018-12-01           414.0             NaN     14.0\n",
       "10     1002 2018-06-01           117.0             4.0     11.0\n",
       "11     1002 2018-07-01           214.0            11.0     18.0\n",
       "12     1002 2018-08-01           289.0            13.0     20.0\n",
       "13     1002 2018-09-01           206.0             4.0     17.0\n",
       "14     1002 2018-10-01           212.0            10.0     14.0\n",
       "15     1002 2018-11-01           243.0            16.0     19.0\n",
       "16     1002 2018-12-01           236.0            12.0     18.0\n",
       "17     1003 2018-08-01           380.0            37.0      9.0\n",
       "18     1003 2018-09-01           961.0            91.0     13.0\n",
       "19     1003 2018-10-01           855.0            83.0     15.0"
      ]
     },
     "execution_count": 72,
     "metadata": {},
     "output_type": "execute_result"
    }
   ],
   "source": [
    "info = calls_summary.merge(msg_summary, on=['user_id', 'month'], how='outer').merge(internet_summary, on=['user_id', 'month'], how='outer')  # merging tables by user id and month\n",
    "info.head(20) #  checking the result"
   ]
  },
  {
   "cell_type": "code",
   "execution_count": 73,
   "id": "98983c8c",
   "metadata": {},
   "outputs": [
    {
     "data": {
      "text/html": [
       "<div>\n",
       "<style scoped>\n",
       "    .dataframe tbody tr th:only-of-type {\n",
       "        vertical-align: middle;\n",
       "    }\n",
       "\n",
       "    .dataframe tbody tr th {\n",
       "        vertical-align: top;\n",
       "    }\n",
       "\n",
       "    .dataframe thead th {\n",
       "        text-align: right;\n",
       "    }\n",
       "</style>\n",
       "<table border=\"1\" class=\"dataframe\">\n",
       "  <thead>\n",
       "    <tr style=\"text-align: right;\">\n",
       "      <th></th>\n",
       "      <th>user_id</th>\n",
       "      <th>city</th>\n",
       "      <th>tariff</th>\n",
       "      <th>messages_included</th>\n",
       "      <th>gb_included</th>\n",
       "      <th>minutes_included</th>\n",
       "      <th>rub_monthly_fee</th>\n",
       "      <th>rub_per_gb</th>\n",
       "      <th>rub_per_message</th>\n",
       "      <th>rub_per_minute</th>\n",
       "      <th>month</th>\n",
       "      <th>mins_per_month</th>\n",
       "      <th>msgs_per_month</th>\n",
       "      <th>gb_used</th>\n",
       "    </tr>\n",
       "  </thead>\n",
       "  <tbody>\n",
       "    <tr>\n",
       "      <th>0</th>\n",
       "      <td>1000</td>\n",
       "      <td>Краснодар</td>\n",
       "      <td>ultra</td>\n",
       "      <td>1000</td>\n",
       "      <td>30</td>\n",
       "      <td>3000</td>\n",
       "      <td>1950</td>\n",
       "      <td>150</td>\n",
       "      <td>1</td>\n",
       "      <td>1</td>\n",
       "      <td>2018-05-01</td>\n",
       "      <td>159.0</td>\n",
       "      <td>22.0</td>\n",
       "      <td>3.0</td>\n",
       "    </tr>\n",
       "    <tr>\n",
       "      <th>1</th>\n",
       "      <td>1000</td>\n",
       "      <td>Краснодар</td>\n",
       "      <td>ultra</td>\n",
       "      <td>1000</td>\n",
       "      <td>30</td>\n",
       "      <td>3000</td>\n",
       "      <td>1950</td>\n",
       "      <td>150</td>\n",
       "      <td>1</td>\n",
       "      <td>1</td>\n",
       "      <td>2018-06-01</td>\n",
       "      <td>172.0</td>\n",
       "      <td>60.0</td>\n",
       "      <td>23.0</td>\n",
       "    </tr>\n",
       "    <tr>\n",
       "      <th>2</th>\n",
       "      <td>1000</td>\n",
       "      <td>Краснодар</td>\n",
       "      <td>ultra</td>\n",
       "      <td>1000</td>\n",
       "      <td>30</td>\n",
       "      <td>3000</td>\n",
       "      <td>1950</td>\n",
       "      <td>150</td>\n",
       "      <td>1</td>\n",
       "      <td>1</td>\n",
       "      <td>2018-07-01</td>\n",
       "      <td>340.0</td>\n",
       "      <td>75.0</td>\n",
       "      <td>14.0</td>\n",
       "    </tr>\n",
       "    <tr>\n",
       "      <th>3</th>\n",
       "      <td>1000</td>\n",
       "      <td>Краснодар</td>\n",
       "      <td>ultra</td>\n",
       "      <td>1000</td>\n",
       "      <td>30</td>\n",
       "      <td>3000</td>\n",
       "      <td>1950</td>\n",
       "      <td>150</td>\n",
       "      <td>1</td>\n",
       "      <td>1</td>\n",
       "      <td>2018-08-01</td>\n",
       "      <td>408.0</td>\n",
       "      <td>81.0</td>\n",
       "      <td>14.0</td>\n",
       "    </tr>\n",
       "    <tr>\n",
       "      <th>4</th>\n",
       "      <td>1000</td>\n",
       "      <td>Краснодар</td>\n",
       "      <td>ultra</td>\n",
       "      <td>1000</td>\n",
       "      <td>30</td>\n",
       "      <td>3000</td>\n",
       "      <td>1950</td>\n",
       "      <td>150</td>\n",
       "      <td>1</td>\n",
       "      <td>1</td>\n",
       "      <td>2018-09-01</td>\n",
       "      <td>466.0</td>\n",
       "      <td>57.0</td>\n",
       "      <td>15.0</td>\n",
       "    </tr>\n",
       "    <tr>\n",
       "      <th>5</th>\n",
       "      <td>1000</td>\n",
       "      <td>Краснодар</td>\n",
       "      <td>ultra</td>\n",
       "      <td>1000</td>\n",
       "      <td>30</td>\n",
       "      <td>3000</td>\n",
       "      <td>1950</td>\n",
       "      <td>150</td>\n",
       "      <td>1</td>\n",
       "      <td>1</td>\n",
       "      <td>2018-10-01</td>\n",
       "      <td>350.0</td>\n",
       "      <td>73.0</td>\n",
       "      <td>15.0</td>\n",
       "    </tr>\n",
       "    <tr>\n",
       "      <th>6</th>\n",
       "      <td>1000</td>\n",
       "      <td>Краснодар</td>\n",
       "      <td>ultra</td>\n",
       "      <td>1000</td>\n",
       "      <td>30</td>\n",
       "      <td>3000</td>\n",
       "      <td>1950</td>\n",
       "      <td>150</td>\n",
       "      <td>1</td>\n",
       "      <td>1</td>\n",
       "      <td>2018-11-01</td>\n",
       "      <td>338.0</td>\n",
       "      <td>58.0</td>\n",
       "      <td>15.0</td>\n",
       "    </tr>\n",
       "    <tr>\n",
       "      <th>7</th>\n",
       "      <td>1000</td>\n",
       "      <td>Краснодар</td>\n",
       "      <td>ultra</td>\n",
       "      <td>1000</td>\n",
       "      <td>30</td>\n",
       "      <td>3000</td>\n",
       "      <td>1950</td>\n",
       "      <td>150</td>\n",
       "      <td>1</td>\n",
       "      <td>1</td>\n",
       "      <td>2018-12-01</td>\n",
       "      <td>333.0</td>\n",
       "      <td>70.0</td>\n",
       "      <td>10.0</td>\n",
       "    </tr>\n",
       "    <tr>\n",
       "      <th>8</th>\n",
       "      <td>1003</td>\n",
       "      <td>Москва</td>\n",
       "      <td>ultra</td>\n",
       "      <td>1000</td>\n",
       "      <td>30</td>\n",
       "      <td>3000</td>\n",
       "      <td>1950</td>\n",
       "      <td>150</td>\n",
       "      <td>1</td>\n",
       "      <td>1</td>\n",
       "      <td>2018-08-01</td>\n",
       "      <td>380.0</td>\n",
       "      <td>37.0</td>\n",
       "      <td>9.0</td>\n",
       "    </tr>\n",
       "    <tr>\n",
       "      <th>9</th>\n",
       "      <td>1003</td>\n",
       "      <td>Москва</td>\n",
       "      <td>ultra</td>\n",
       "      <td>1000</td>\n",
       "      <td>30</td>\n",
       "      <td>3000</td>\n",
       "      <td>1950</td>\n",
       "      <td>150</td>\n",
       "      <td>1</td>\n",
       "      <td>1</td>\n",
       "      <td>2018-09-01</td>\n",
       "      <td>961.0</td>\n",
       "      <td>91.0</td>\n",
       "      <td>13.0</td>\n",
       "    </tr>\n",
       "    <tr>\n",
       "      <th>10</th>\n",
       "      <td>1003</td>\n",
       "      <td>Москва</td>\n",
       "      <td>ultra</td>\n",
       "      <td>1000</td>\n",
       "      <td>30</td>\n",
       "      <td>3000</td>\n",
       "      <td>1950</td>\n",
       "      <td>150</td>\n",
       "      <td>1</td>\n",
       "      <td>1</td>\n",
       "      <td>2018-10-01</td>\n",
       "      <td>855.0</td>\n",
       "      <td>83.0</td>\n",
       "      <td>15.0</td>\n",
       "    </tr>\n",
       "    <tr>\n",
       "      <th>11</th>\n",
       "      <td>1003</td>\n",
       "      <td>Москва</td>\n",
       "      <td>ultra</td>\n",
       "      <td>1000</td>\n",
       "      <td>30</td>\n",
       "      <td>3000</td>\n",
       "      <td>1950</td>\n",
       "      <td>150</td>\n",
       "      <td>1</td>\n",
       "      <td>1</td>\n",
       "      <td>2018-11-01</td>\n",
       "      <td>824.0</td>\n",
       "      <td>94.0</td>\n",
       "      <td>12.0</td>\n",
       "    </tr>\n",
       "    <tr>\n",
       "      <th>12</th>\n",
       "      <td>1003</td>\n",
       "      <td>Москва</td>\n",
       "      <td>ultra</td>\n",
       "      <td>1000</td>\n",
       "      <td>30</td>\n",
       "      <td>3000</td>\n",
       "      <td>1950</td>\n",
       "      <td>150</td>\n",
       "      <td>1</td>\n",
       "      <td>1</td>\n",
       "      <td>2018-12-01</td>\n",
       "      <td>802.0</td>\n",
       "      <td>75.0</td>\n",
       "      <td>10.0</td>\n",
       "    </tr>\n",
       "    <tr>\n",
       "      <th>13</th>\n",
       "      <td>1004</td>\n",
       "      <td>Новокузнецк</td>\n",
       "      <td>ultra</td>\n",
       "      <td>1000</td>\n",
       "      <td>30</td>\n",
       "      <td>3000</td>\n",
       "      <td>1950</td>\n",
       "      <td>150</td>\n",
       "      <td>1</td>\n",
       "      <td>1</td>\n",
       "      <td>2018-05-01</td>\n",
       "      <td>35.0</td>\n",
       "      <td>95.0</td>\n",
       "      <td>14.0</td>\n",
       "    </tr>\n",
       "    <tr>\n",
       "      <th>14</th>\n",
       "      <td>1004</td>\n",
       "      <td>Новокузнецк</td>\n",
       "      <td>ultra</td>\n",
       "      <td>1000</td>\n",
       "      <td>30</td>\n",
       "      <td>3000</td>\n",
       "      <td>1950</td>\n",
       "      <td>150</td>\n",
       "      <td>1</td>\n",
       "      <td>1</td>\n",
       "      <td>2018-06-01</td>\n",
       "      <td>171.0</td>\n",
       "      <td>134.0</td>\n",
       "      <td>18.0</td>\n",
       "    </tr>\n",
       "    <tr>\n",
       "      <th>15</th>\n",
       "      <td>1004</td>\n",
       "      <td>Новокузнецк</td>\n",
       "      <td>ultra</td>\n",
       "      <td>1000</td>\n",
       "      <td>30</td>\n",
       "      <td>3000</td>\n",
       "      <td>1950</td>\n",
       "      <td>150</td>\n",
       "      <td>1</td>\n",
       "      <td>1</td>\n",
       "      <td>2018-07-01</td>\n",
       "      <td>135.0</td>\n",
       "      <td>181.0</td>\n",
       "      <td>22.0</td>\n",
       "    </tr>\n",
       "    <tr>\n",
       "      <th>16</th>\n",
       "      <td>1004</td>\n",
       "      <td>Новокузнецк</td>\n",
       "      <td>ultra</td>\n",
       "      <td>1000</td>\n",
       "      <td>30</td>\n",
       "      <td>3000</td>\n",
       "      <td>1950</td>\n",
       "      <td>150</td>\n",
       "      <td>1</td>\n",
       "      <td>1</td>\n",
       "      <td>2018-08-01</td>\n",
       "      <td>137.0</td>\n",
       "      <td>151.0</td>\n",
       "      <td>28.0</td>\n",
       "    </tr>\n",
       "    <tr>\n",
       "      <th>17</th>\n",
       "      <td>1004</td>\n",
       "      <td>Новокузнецк</td>\n",
       "      <td>ultra</td>\n",
       "      <td>1000</td>\n",
       "      <td>30</td>\n",
       "      <td>3000</td>\n",
       "      <td>1950</td>\n",
       "      <td>150</td>\n",
       "      <td>1</td>\n",
       "      <td>1</td>\n",
       "      <td>2018-09-01</td>\n",
       "      <td>117.0</td>\n",
       "      <td>146.0</td>\n",
       "      <td>15.0</td>\n",
       "    </tr>\n",
       "    <tr>\n",
       "      <th>18</th>\n",
       "      <td>1004</td>\n",
       "      <td>Новокузнецк</td>\n",
       "      <td>ultra</td>\n",
       "      <td>1000</td>\n",
       "      <td>30</td>\n",
       "      <td>3000</td>\n",
       "      <td>1950</td>\n",
       "      <td>150</td>\n",
       "      <td>1</td>\n",
       "      <td>1</td>\n",
       "      <td>2018-10-01</td>\n",
       "      <td>145.0</td>\n",
       "      <td>165.0</td>\n",
       "      <td>19.0</td>\n",
       "    </tr>\n",
       "    <tr>\n",
       "      <th>19</th>\n",
       "      <td>1004</td>\n",
       "      <td>Новокузнецк</td>\n",
       "      <td>ultra</td>\n",
       "      <td>1000</td>\n",
       "      <td>30</td>\n",
       "      <td>3000</td>\n",
       "      <td>1950</td>\n",
       "      <td>150</td>\n",
       "      <td>1</td>\n",
       "      <td>1</td>\n",
       "      <td>2018-11-01</td>\n",
       "      <td>117.0</td>\n",
       "      <td>158.0</td>\n",
       "      <td>16.0</td>\n",
       "    </tr>\n",
       "  </tbody>\n",
       "</table>\n",
       "</div>"
      ],
      "text/plain": [
       "    user_id         city tariff  messages_included  gb_included  \\\n",
       "0      1000    Краснодар  ultra               1000           30   \n",
       "1      1000    Краснодар  ultra               1000           30   \n",
       "2      1000    Краснодар  ultra               1000           30   \n",
       "3      1000    Краснодар  ultra               1000           30   \n",
       "4      1000    Краснодар  ultra               1000           30   \n",
       "5      1000    Краснодар  ultra               1000           30   \n",
       "6      1000    Краснодар  ultra               1000           30   \n",
       "7      1000    Краснодар  ultra               1000           30   \n",
       "8      1003       Москва  ultra               1000           30   \n",
       "9      1003       Москва  ultra               1000           30   \n",
       "10     1003       Москва  ultra               1000           30   \n",
       "11     1003       Москва  ultra               1000           30   \n",
       "12     1003       Москва  ultra               1000           30   \n",
       "13     1004  Новокузнецк  ultra               1000           30   \n",
       "14     1004  Новокузнецк  ultra               1000           30   \n",
       "15     1004  Новокузнецк  ultra               1000           30   \n",
       "16     1004  Новокузнецк  ultra               1000           30   \n",
       "17     1004  Новокузнецк  ultra               1000           30   \n",
       "18     1004  Новокузнецк  ultra               1000           30   \n",
       "19     1004  Новокузнецк  ultra               1000           30   \n",
       "\n",
       "    minutes_included  rub_monthly_fee  rub_per_gb  rub_per_message  \\\n",
       "0               3000             1950         150                1   \n",
       "1               3000             1950         150                1   \n",
       "2               3000             1950         150                1   \n",
       "3               3000             1950         150                1   \n",
       "4               3000             1950         150                1   \n",
       "5               3000             1950         150                1   \n",
       "6               3000             1950         150                1   \n",
       "7               3000             1950         150                1   \n",
       "8               3000             1950         150                1   \n",
       "9               3000             1950         150                1   \n",
       "10              3000             1950         150                1   \n",
       "11              3000             1950         150                1   \n",
       "12              3000             1950         150                1   \n",
       "13              3000             1950         150                1   \n",
       "14              3000             1950         150                1   \n",
       "15              3000             1950         150                1   \n",
       "16              3000             1950         150                1   \n",
       "17              3000             1950         150                1   \n",
       "18              3000             1950         150                1   \n",
       "19              3000             1950         150                1   \n",
       "\n",
       "    rub_per_minute      month  mins_per_month  msgs_per_month  gb_used  \n",
       "0                1 2018-05-01           159.0            22.0      3.0  \n",
       "1                1 2018-06-01           172.0            60.0     23.0  \n",
       "2                1 2018-07-01           340.0            75.0     14.0  \n",
       "3                1 2018-08-01           408.0            81.0     14.0  \n",
       "4                1 2018-09-01           466.0            57.0     15.0  \n",
       "5                1 2018-10-01           350.0            73.0     15.0  \n",
       "6                1 2018-11-01           338.0            58.0     15.0  \n",
       "7                1 2018-12-01           333.0            70.0     10.0  \n",
       "8                1 2018-08-01           380.0            37.0      9.0  \n",
       "9                1 2018-09-01           961.0            91.0     13.0  \n",
       "10               1 2018-10-01           855.0            83.0     15.0  \n",
       "11               1 2018-11-01           824.0            94.0     12.0  \n",
       "12               1 2018-12-01           802.0            75.0     10.0  \n",
       "13               1 2018-05-01            35.0            95.0     14.0  \n",
       "14               1 2018-06-01           171.0           134.0     18.0  \n",
       "15               1 2018-07-01           135.0           181.0     22.0  \n",
       "16               1 2018-08-01           137.0           151.0     28.0  \n",
       "17               1 2018-09-01           117.0           146.0     15.0  \n",
       "18               1 2018-10-01           145.0           165.0     19.0  \n",
       "19               1 2018-11-01           117.0           158.0     16.0  "
      ]
     },
     "execution_count": 73,
     "metadata": {},
     "output_type": "execute_result"
    }
   ],
   "source": [
    "data = data.merge(info, on='user_id', how='outer') # merging tables to the final one with all available data\n",
    "data.head(20)  # checking the result"
   ]
  },
  {
   "cell_type": "code",
   "execution_count": 74,
   "id": "11490cfd",
   "metadata": {},
   "outputs": [
    {
     "name": "stderr",
     "output_type": "stream",
     "text": [
      "C:\\Users\\Tatiana\\AppData\\Roaming\\Python\\Python37\\site-packages\\pandas\\core\\frame.py:5182: SettingWithCopyWarning: \n",
      "A value is trying to be set on a copy of a slice from a DataFrame\n",
      "\n",
      "See the caveats in the documentation: https://pandas.pydata.org/pandas-docs/stable/user_guide/indexing.html#returning-a-view-versus-a-copy\n",
      "  downcast=downcast,\n"
     ]
    }
   ],
   "source": [
    "data[['mins_per_month', 'msgs_per_month', 'gb_used',]].fillna(0, inplace=True) # filling in missing values with o in the selected columns"
   ]
  },
  {
   "cell_type": "code",
   "execution_count": 75,
   "id": "8426508e",
   "metadata": {},
   "outputs": [
    {
     "data": {
      "text/html": [
       "<div>\n",
       "<style scoped>\n",
       "    .dataframe tbody tr th:only-of-type {\n",
       "        vertical-align: middle;\n",
       "    }\n",
       "\n",
       "    .dataframe tbody tr th {\n",
       "        vertical-align: top;\n",
       "    }\n",
       "\n",
       "    .dataframe thead th {\n",
       "        text-align: right;\n",
       "    }\n",
       "</style>\n",
       "<table border=\"1\" class=\"dataframe\">\n",
       "  <thead>\n",
       "    <tr style=\"text-align: right;\">\n",
       "      <th></th>\n",
       "      <th>user_id</th>\n",
       "      <th>city</th>\n",
       "      <th>tariff</th>\n",
       "      <th>messages_included</th>\n",
       "      <th>gb_included</th>\n",
       "      <th>minutes_included</th>\n",
       "      <th>rub_monthly_fee</th>\n",
       "      <th>rub_per_gb</th>\n",
       "      <th>rub_per_message</th>\n",
       "      <th>rub_per_minute</th>\n",
       "      <th>month</th>\n",
       "      <th>mins_per_month</th>\n",
       "      <th>msgs_per_month</th>\n",
       "      <th>gb_used</th>\n",
       "      <th>month_user_income</th>\n",
       "    </tr>\n",
       "  </thead>\n",
       "  <tbody>\n",
       "    <tr>\n",
       "      <th>0</th>\n",
       "      <td>1000</td>\n",
       "      <td>Краснодар</td>\n",
       "      <td>ultra</td>\n",
       "      <td>1000</td>\n",
       "      <td>30</td>\n",
       "      <td>3000</td>\n",
       "      <td>1950</td>\n",
       "      <td>150</td>\n",
       "      <td>1</td>\n",
       "      <td>1</td>\n",
       "      <td>2018-05-01</td>\n",
       "      <td>159.0</td>\n",
       "      <td>22.0</td>\n",
       "      <td>3.0</td>\n",
       "      <td>1950</td>\n",
       "    </tr>\n",
       "    <tr>\n",
       "      <th>1</th>\n",
       "      <td>1000</td>\n",
       "      <td>Краснодар</td>\n",
       "      <td>ultra</td>\n",
       "      <td>1000</td>\n",
       "      <td>30</td>\n",
       "      <td>3000</td>\n",
       "      <td>1950</td>\n",
       "      <td>150</td>\n",
       "      <td>1</td>\n",
       "      <td>1</td>\n",
       "      <td>2018-06-01</td>\n",
       "      <td>172.0</td>\n",
       "      <td>60.0</td>\n",
       "      <td>23.0</td>\n",
       "      <td>1950</td>\n",
       "    </tr>\n",
       "    <tr>\n",
       "      <th>2</th>\n",
       "      <td>1000</td>\n",
       "      <td>Краснодар</td>\n",
       "      <td>ultra</td>\n",
       "      <td>1000</td>\n",
       "      <td>30</td>\n",
       "      <td>3000</td>\n",
       "      <td>1950</td>\n",
       "      <td>150</td>\n",
       "      <td>1</td>\n",
       "      <td>1</td>\n",
       "      <td>2018-07-01</td>\n",
       "      <td>340.0</td>\n",
       "      <td>75.0</td>\n",
       "      <td>14.0</td>\n",
       "      <td>1950</td>\n",
       "    </tr>\n",
       "    <tr>\n",
       "      <th>3</th>\n",
       "      <td>1000</td>\n",
       "      <td>Краснодар</td>\n",
       "      <td>ultra</td>\n",
       "      <td>1000</td>\n",
       "      <td>30</td>\n",
       "      <td>3000</td>\n",
       "      <td>1950</td>\n",
       "      <td>150</td>\n",
       "      <td>1</td>\n",
       "      <td>1</td>\n",
       "      <td>2018-08-01</td>\n",
       "      <td>408.0</td>\n",
       "      <td>81.0</td>\n",
       "      <td>14.0</td>\n",
       "      <td>1950</td>\n",
       "    </tr>\n",
       "    <tr>\n",
       "      <th>4</th>\n",
       "      <td>1000</td>\n",
       "      <td>Краснодар</td>\n",
       "      <td>ultra</td>\n",
       "      <td>1000</td>\n",
       "      <td>30</td>\n",
       "      <td>3000</td>\n",
       "      <td>1950</td>\n",
       "      <td>150</td>\n",
       "      <td>1</td>\n",
       "      <td>1</td>\n",
       "      <td>2018-09-01</td>\n",
       "      <td>466.0</td>\n",
       "      <td>57.0</td>\n",
       "      <td>15.0</td>\n",
       "      <td>1950</td>\n",
       "    </tr>\n",
       "  </tbody>\n",
       "</table>\n",
       "</div>"
      ],
      "text/plain": [
       "   user_id       city tariff  messages_included  gb_included  \\\n",
       "0     1000  Краснодар  ultra               1000           30   \n",
       "1     1000  Краснодар  ultra               1000           30   \n",
       "2     1000  Краснодар  ultra               1000           30   \n",
       "3     1000  Краснодар  ultra               1000           30   \n",
       "4     1000  Краснодар  ultra               1000           30   \n",
       "\n",
       "   minutes_included  rub_monthly_fee  rub_per_gb  rub_per_message  \\\n",
       "0              3000             1950         150                1   \n",
       "1              3000             1950         150                1   \n",
       "2              3000             1950         150                1   \n",
       "3              3000             1950         150                1   \n",
       "4              3000             1950         150                1   \n",
       "\n",
       "   rub_per_minute      month  mins_per_month  msgs_per_month  gb_used  \\\n",
       "0               1 2018-05-01           159.0            22.0      3.0   \n",
       "1               1 2018-06-01           172.0            60.0     23.0   \n",
       "2               1 2018-07-01           340.0            75.0     14.0   \n",
       "3               1 2018-08-01           408.0            81.0     14.0   \n",
       "4               1 2018-09-01           466.0            57.0     15.0   \n",
       "\n",
       "   month_user_income  \n",
       "0               1950  \n",
       "1               1950  \n",
       "2               1950  \n",
       "3               1950  \n",
       "4               1950  "
      ]
     },
     "execution_count": 75,
     "metadata": {},
     "output_type": "execute_result"
    }
   ],
   "source": [
    "data['month_user_income'] = data['rub_monthly_fee'] # creating a new column with total income from each user monthly, fisrt filling in with the tariff fee\n",
    "data.head() # checking the result"
   ]
  },
  {
   "cell_type": "code",
   "execution_count": 76,
   "id": "a3fb9110",
   "metadata": {},
   "outputs": [
    {
     "data": {
      "text/html": [
       "<div>\n",
       "<style scoped>\n",
       "    .dataframe tbody tr th:only-of-type {\n",
       "        vertical-align: middle;\n",
       "    }\n",
       "\n",
       "    .dataframe tbody tr th {\n",
       "        vertical-align: top;\n",
       "    }\n",
       "\n",
       "    .dataframe thead th {\n",
       "        text-align: right;\n",
       "    }\n",
       "</style>\n",
       "<table border=\"1\" class=\"dataframe\">\n",
       "  <thead>\n",
       "    <tr style=\"text-align: right;\">\n",
       "      <th></th>\n",
       "      <th>minutes_included</th>\n",
       "      <th>mins_per_month</th>\n",
       "      <th>rub_monthly_fee</th>\n",
       "      <th>month_user_income</th>\n",
       "    </tr>\n",
       "  </thead>\n",
       "  <tbody>\n",
       "    <tr>\n",
       "      <th>3191</th>\n",
       "      <td>500</td>\n",
       "      <td>411.0</td>\n",
       "      <td>550</td>\n",
       "      <td>550.0</td>\n",
       "    </tr>\n",
       "    <tr>\n",
       "      <th>3192</th>\n",
       "      <td>500</td>\n",
       "      <td>418.0</td>\n",
       "      <td>550</td>\n",
       "      <td>550.0</td>\n",
       "    </tr>\n",
       "    <tr>\n",
       "      <th>3193</th>\n",
       "      <td>500</td>\n",
       "      <td>48.0</td>\n",
       "      <td>550</td>\n",
       "      <td>550.0</td>\n",
       "    </tr>\n",
       "    <tr>\n",
       "      <th>3194</th>\n",
       "      <td>500</td>\n",
       "      <td>594.0</td>\n",
       "      <td>550</td>\n",
       "      <td>832.0</td>\n",
       "    </tr>\n",
       "    <tr>\n",
       "      <th>3195</th>\n",
       "      <td>500</td>\n",
       "      <td>557.0</td>\n",
       "      <td>550</td>\n",
       "      <td>721.0</td>\n",
       "    </tr>\n",
       "    <tr>\n",
       "      <th>3196</th>\n",
       "      <td>500</td>\n",
       "      <td>521.0</td>\n",
       "      <td>550</td>\n",
       "      <td>613.0</td>\n",
       "    </tr>\n",
       "    <tr>\n",
       "      <th>3197</th>\n",
       "      <td>500</td>\n",
       "      <td>484.0</td>\n",
       "      <td>550</td>\n",
       "      <td>550.0</td>\n",
       "    </tr>\n",
       "    <tr>\n",
       "      <th>3198</th>\n",
       "      <td>500</td>\n",
       "      <td>555.0</td>\n",
       "      <td>550</td>\n",
       "      <td>715.0</td>\n",
       "    </tr>\n",
       "    <tr>\n",
       "      <th>3199</th>\n",
       "      <td>500</td>\n",
       "      <td>582.0</td>\n",
       "      <td>550</td>\n",
       "      <td>796.0</td>\n",
       "    </tr>\n",
       "    <tr>\n",
       "      <th>3200</th>\n",
       "      <td>500</td>\n",
       "      <td>527.0</td>\n",
       "      <td>550</td>\n",
       "      <td>631.0</td>\n",
       "    </tr>\n",
       "    <tr>\n",
       "      <th>3201</th>\n",
       "      <td>500</td>\n",
       "      <td>486.0</td>\n",
       "      <td>550</td>\n",
       "      <td>550.0</td>\n",
       "    </tr>\n",
       "    <tr>\n",
       "      <th>3202</th>\n",
       "      <td>500</td>\n",
       "      <td>450.0</td>\n",
       "      <td>550</td>\n",
       "      <td>550.0</td>\n",
       "    </tr>\n",
       "    <tr>\n",
       "      <th>3203</th>\n",
       "      <td>500</td>\n",
       "      <td>662.0</td>\n",
       "      <td>550</td>\n",
       "      <td>1036.0</td>\n",
       "    </tr>\n",
       "    <tr>\n",
       "      <th>3204</th>\n",
       "      <td>500</td>\n",
       "      <td>518.0</td>\n",
       "      <td>550</td>\n",
       "      <td>604.0</td>\n",
       "    </tr>\n",
       "    <tr>\n",
       "      <th>3205</th>\n",
       "      <td>500</td>\n",
       "      <td>490.0</td>\n",
       "      <td>550</td>\n",
       "      <td>550.0</td>\n",
       "    </tr>\n",
       "    <tr>\n",
       "      <th>3206</th>\n",
       "      <td>500</td>\n",
       "      <td>371.0</td>\n",
       "      <td>550</td>\n",
       "      <td>550.0</td>\n",
       "    </tr>\n",
       "    <tr>\n",
       "      <th>3207</th>\n",
       "      <td>500</td>\n",
       "      <td>545.0</td>\n",
       "      <td>550</td>\n",
       "      <td>685.0</td>\n",
       "    </tr>\n",
       "    <tr>\n",
       "      <th>3208</th>\n",
       "      <td>500</td>\n",
       "      <td>175.0</td>\n",
       "      <td>550</td>\n",
       "      <td>550.0</td>\n",
       "    </tr>\n",
       "    <tr>\n",
       "      <th>3209</th>\n",
       "      <td>500</td>\n",
       "      <td>400.0</td>\n",
       "      <td>550</td>\n",
       "      <td>550.0</td>\n",
       "    </tr>\n",
       "    <tr>\n",
       "      <th>3210</th>\n",
       "      <td>500</td>\n",
       "      <td>471.0</td>\n",
       "      <td>550</td>\n",
       "      <td>550.0</td>\n",
       "    </tr>\n",
       "    <tr>\n",
       "      <th>3211</th>\n",
       "      <td>500</td>\n",
       "      <td>247.0</td>\n",
       "      <td>550</td>\n",
       "      <td>550.0</td>\n",
       "    </tr>\n",
       "    <tr>\n",
       "      <th>3212</th>\n",
       "      <td>500</td>\n",
       "      <td>70.0</td>\n",
       "      <td>550</td>\n",
       "      <td>550.0</td>\n",
       "    </tr>\n",
       "    <tr>\n",
       "      <th>3213</th>\n",
       "      <td>500</td>\n",
       "      <td>449.0</td>\n",
       "      <td>550</td>\n",
       "      <td>550.0</td>\n",
       "    </tr>\n",
       "    <tr>\n",
       "      <th>3214</th>\n",
       "      <td>500</td>\n",
       "      <td>612.0</td>\n",
       "      <td>550</td>\n",
       "      <td>886.0</td>\n",
       "    </tr>\n",
       "    <tr>\n",
       "      <th>3215</th>\n",
       "      <td>500</td>\n",
       "      <td>492.0</td>\n",
       "      <td>550</td>\n",
       "      <td>550.0</td>\n",
       "    </tr>\n",
       "  </tbody>\n",
       "</table>\n",
       "</div>"
      ],
      "text/plain": [
       "      minutes_included  mins_per_month  rub_monthly_fee  month_user_income\n",
       "3191               500           411.0              550              550.0\n",
       "3192               500           418.0              550              550.0\n",
       "3193               500            48.0              550              550.0\n",
       "3194               500           594.0              550              832.0\n",
       "3195               500           557.0              550              721.0\n",
       "3196               500           521.0              550              613.0\n",
       "3197               500           484.0              550              550.0\n",
       "3198               500           555.0              550              715.0\n",
       "3199               500           582.0              550              796.0\n",
       "3200               500           527.0              550              631.0\n",
       "3201               500           486.0              550              550.0\n",
       "3202               500           450.0              550              550.0\n",
       "3203               500           662.0              550             1036.0\n",
       "3204               500           518.0              550              604.0\n",
       "3205               500           490.0              550              550.0\n",
       "3206               500           371.0              550              550.0\n",
       "3207               500           545.0              550              685.0\n",
       "3208               500           175.0              550              550.0\n",
       "3209               500           400.0              550              550.0\n",
       "3210               500           471.0              550              550.0\n",
       "3211               500           247.0              550              550.0\n",
       "3212               500            70.0              550              550.0\n",
       "3213               500           449.0              550              550.0\n",
       "3214               500           612.0              550              886.0\n",
       "3215               500           492.0              550              550.0"
      ]
     },
     "execution_count": 76,
     "metadata": {},
     "output_type": "execute_result"
    }
   ],
   "source": [
    "cond1 = (data['minutes_included'] >= data['mins_per_month']) # creating a condition to compare used mins with included ones\n",
    "data['month_user_income'].where(cond1, (data['month_user_income']+ (data['mins_per_month']-data['minutes_included'])*data['rub_per_minute']) , inplace=True)  # adding extra money in those rows where the used mins exceed the included ones \n",
    "data[['minutes_included', 'mins_per_month', 'rub_monthly_fee', 'month_user_income']].tail(25)  # checking the result"
   ]
  },
  {
   "cell_type": "code",
   "execution_count": 77,
   "id": "81e3aa7c",
   "metadata": {},
   "outputs": [
    {
     "data": {
      "text/html": [
       "<div>\n",
       "<style scoped>\n",
       "    .dataframe tbody tr th:only-of-type {\n",
       "        vertical-align: middle;\n",
       "    }\n",
       "\n",
       "    .dataframe tbody tr th {\n",
       "        vertical-align: top;\n",
       "    }\n",
       "\n",
       "    .dataframe thead th {\n",
       "        text-align: right;\n",
       "    }\n",
       "</style>\n",
       "<table border=\"1\" class=\"dataframe\">\n",
       "  <thead>\n",
       "    <tr style=\"text-align: right;\">\n",
       "      <th></th>\n",
       "      <th>messages_included</th>\n",
       "      <th>msgs_per_month</th>\n",
       "      <th>rub_monthly_fee</th>\n",
       "      <th>month_user_income</th>\n",
       "    </tr>\n",
       "  </thead>\n",
       "  <tbody>\n",
       "    <tr>\n",
       "      <th>3191</th>\n",
       "      <td>50</td>\n",
       "      <td>NaN</td>\n",
       "      <td>550</td>\n",
       "      <td>NaN</td>\n",
       "    </tr>\n",
       "    <tr>\n",
       "      <th>3192</th>\n",
       "      <td>50</td>\n",
       "      <td>NaN</td>\n",
       "      <td>550</td>\n",
       "      <td>NaN</td>\n",
       "    </tr>\n",
       "    <tr>\n",
       "      <th>3193</th>\n",
       "      <td>50</td>\n",
       "      <td>9.0</td>\n",
       "      <td>550</td>\n",
       "      <td>550.0</td>\n",
       "    </tr>\n",
       "    <tr>\n",
       "      <th>3194</th>\n",
       "      <td>50</td>\n",
       "      <td>45.0</td>\n",
       "      <td>550</td>\n",
       "      <td>832.0</td>\n",
       "    </tr>\n",
       "    <tr>\n",
       "      <th>3195</th>\n",
       "      <td>50</td>\n",
       "      <td>46.0</td>\n",
       "      <td>550</td>\n",
       "      <td>721.0</td>\n",
       "    </tr>\n",
       "    <tr>\n",
       "      <th>3196</th>\n",
       "      <td>50</td>\n",
       "      <td>49.0</td>\n",
       "      <td>550</td>\n",
       "      <td>613.0</td>\n",
       "    </tr>\n",
       "    <tr>\n",
       "      <th>3197</th>\n",
       "      <td>50</td>\n",
       "      <td>40.0</td>\n",
       "      <td>550</td>\n",
       "      <td>550.0</td>\n",
       "    </tr>\n",
       "    <tr>\n",
       "      <th>3198</th>\n",
       "      <td>50</td>\n",
       "      <td>35.0</td>\n",
       "      <td>550</td>\n",
       "      <td>715.0</td>\n",
       "    </tr>\n",
       "    <tr>\n",
       "      <th>3199</th>\n",
       "      <td>50</td>\n",
       "      <td>42.0</td>\n",
       "      <td>550</td>\n",
       "      <td>796.0</td>\n",
       "    </tr>\n",
       "    <tr>\n",
       "      <th>3200</th>\n",
       "      <td>50</td>\n",
       "      <td>41.0</td>\n",
       "      <td>550</td>\n",
       "      <td>631.0</td>\n",
       "    </tr>\n",
       "    <tr>\n",
       "      <th>3201</th>\n",
       "      <td>50</td>\n",
       "      <td>29.0</td>\n",
       "      <td>550</td>\n",
       "      <td>550.0</td>\n",
       "    </tr>\n",
       "    <tr>\n",
       "      <th>3202</th>\n",
       "      <td>50</td>\n",
       "      <td>35.0</td>\n",
       "      <td>550</td>\n",
       "      <td>550.0</td>\n",
       "    </tr>\n",
       "    <tr>\n",
       "      <th>3203</th>\n",
       "      <td>50</td>\n",
       "      <td>46.0</td>\n",
       "      <td>550</td>\n",
       "      <td>1036.0</td>\n",
       "    </tr>\n",
       "    <tr>\n",
       "      <th>3204</th>\n",
       "      <td>50</td>\n",
       "      <td>51.0</td>\n",
       "      <td>550</td>\n",
       "      <td>607.0</td>\n",
       "    </tr>\n",
       "    <tr>\n",
       "      <th>3205</th>\n",
       "      <td>50</td>\n",
       "      <td>20.0</td>\n",
       "      <td>550</td>\n",
       "      <td>550.0</td>\n",
       "    </tr>\n",
       "    <tr>\n",
       "      <th>3206</th>\n",
       "      <td>50</td>\n",
       "      <td>14.0</td>\n",
       "      <td>550</td>\n",
       "      <td>550.0</td>\n",
       "    </tr>\n",
       "    <tr>\n",
       "      <th>3207</th>\n",
       "      <td>50</td>\n",
       "      <td>17.0</td>\n",
       "      <td>550</td>\n",
       "      <td>685.0</td>\n",
       "    </tr>\n",
       "    <tr>\n",
       "      <th>3208</th>\n",
       "      <td>50</td>\n",
       "      <td>20.0</td>\n",
       "      <td>550</td>\n",
       "      <td>550.0</td>\n",
       "    </tr>\n",
       "    <tr>\n",
       "      <th>3209</th>\n",
       "      <td>50</td>\n",
       "      <td>62.0</td>\n",
       "      <td>550</td>\n",
       "      <td>586.0</td>\n",
       "    </tr>\n",
       "    <tr>\n",
       "      <th>3210</th>\n",
       "      <td>50</td>\n",
       "      <td>44.0</td>\n",
       "      <td>550</td>\n",
       "      <td>550.0</td>\n",
       "    </tr>\n",
       "    <tr>\n",
       "      <th>3211</th>\n",
       "      <td>50</td>\n",
       "      <td>42.0</td>\n",
       "      <td>550</td>\n",
       "      <td>550.0</td>\n",
       "    </tr>\n",
       "    <tr>\n",
       "      <th>3212</th>\n",
       "      <td>50</td>\n",
       "      <td>11.0</td>\n",
       "      <td>550</td>\n",
       "      <td>550.0</td>\n",
       "    </tr>\n",
       "    <tr>\n",
       "      <th>3213</th>\n",
       "      <td>50</td>\n",
       "      <td>48.0</td>\n",
       "      <td>550</td>\n",
       "      <td>550.0</td>\n",
       "    </tr>\n",
       "    <tr>\n",
       "      <th>3214</th>\n",
       "      <td>50</td>\n",
       "      <td>59.0</td>\n",
       "      <td>550</td>\n",
       "      <td>913.0</td>\n",
       "    </tr>\n",
       "    <tr>\n",
       "      <th>3215</th>\n",
       "      <td>50</td>\n",
       "      <td>66.0</td>\n",
       "      <td>550</td>\n",
       "      <td>598.0</td>\n",
       "    </tr>\n",
       "  </tbody>\n",
       "</table>\n",
       "</div>"
      ],
      "text/plain": [
       "      messages_included  msgs_per_month  rub_monthly_fee  month_user_income\n",
       "3191                 50             NaN              550                NaN\n",
       "3192                 50             NaN              550                NaN\n",
       "3193                 50             9.0              550              550.0\n",
       "3194                 50            45.0              550              832.0\n",
       "3195                 50            46.0              550              721.0\n",
       "3196                 50            49.0              550              613.0\n",
       "3197                 50            40.0              550              550.0\n",
       "3198                 50            35.0              550              715.0\n",
       "3199                 50            42.0              550              796.0\n",
       "3200                 50            41.0              550              631.0\n",
       "3201                 50            29.0              550              550.0\n",
       "3202                 50            35.0              550              550.0\n",
       "3203                 50            46.0              550             1036.0\n",
       "3204                 50            51.0              550              607.0\n",
       "3205                 50            20.0              550              550.0\n",
       "3206                 50            14.0              550              550.0\n",
       "3207                 50            17.0              550              685.0\n",
       "3208                 50            20.0              550              550.0\n",
       "3209                 50            62.0              550              586.0\n",
       "3210                 50            44.0              550              550.0\n",
       "3211                 50            42.0              550              550.0\n",
       "3212                 50            11.0              550              550.0\n",
       "3213                 50            48.0              550              550.0\n",
       "3214                 50            59.0              550              913.0\n",
       "3215                 50            66.0              550              598.0"
      ]
     },
     "execution_count": 77,
     "metadata": {},
     "output_type": "execute_result"
    }
   ],
   "source": [
    "cond2 = (data['messages_included'] >= data['msgs_per_month'])  # creating a condition to compare used messages with the included ones\n",
    "data['month_user_income'].where(cond2, (data['month_user_income']+ (data['msgs_per_month']-data['messages_included'])*data['rub_per_message']) , inplace=True)# adding extra money in those rows where the used messages exceed the included ones \n",
    "data[['messages_included', 'msgs_per_month', 'rub_monthly_fee', 'month_user_income']].tail(25)  # checking the result"
   ]
  },
  {
   "cell_type": "code",
   "execution_count": 78,
   "id": "f1f2da0f",
   "metadata": {},
   "outputs": [
    {
     "data": {
      "text/html": [
       "<div>\n",
       "<style scoped>\n",
       "    .dataframe tbody tr th:only-of-type {\n",
       "        vertical-align: middle;\n",
       "    }\n",
       "\n",
       "    .dataframe tbody tr th {\n",
       "        vertical-align: top;\n",
       "    }\n",
       "\n",
       "    .dataframe thead th {\n",
       "        text-align: right;\n",
       "    }\n",
       "</style>\n",
       "<table border=\"1\" class=\"dataframe\">\n",
       "  <thead>\n",
       "    <tr style=\"text-align: right;\">\n",
       "      <th></th>\n",
       "      <th>user_id</th>\n",
       "      <th>month</th>\n",
       "      <th>gb_included</th>\n",
       "      <th>gb_used</th>\n",
       "      <th>rub_monthly_fee</th>\n",
       "      <th>month_user_income</th>\n",
       "    </tr>\n",
       "  </thead>\n",
       "  <tbody>\n",
       "    <tr>\n",
       "      <th>3191</th>\n",
       "      <td>1494</td>\n",
       "      <td>2018-11-01</td>\n",
       "      <td>15</td>\n",
       "      <td>18.0</td>\n",
       "      <td>550</td>\n",
       "      <td>NaN</td>\n",
       "    </tr>\n",
       "    <tr>\n",
       "      <th>3192</th>\n",
       "      <td>1494</td>\n",
       "      <td>2018-12-01</td>\n",
       "      <td>15</td>\n",
       "      <td>18.0</td>\n",
       "      <td>550</td>\n",
       "      <td>NaN</td>\n",
       "    </tr>\n",
       "    <tr>\n",
       "      <th>3193</th>\n",
       "      <td>1496</td>\n",
       "      <td>2018-01-01</td>\n",
       "      <td>15</td>\n",
       "      <td>4.0</td>\n",
       "      <td>550</td>\n",
       "      <td>550.0</td>\n",
       "    </tr>\n",
       "    <tr>\n",
       "      <th>3194</th>\n",
       "      <td>1496</td>\n",
       "      <td>2018-02-01</td>\n",
       "      <td>15</td>\n",
       "      <td>28.0</td>\n",
       "      <td>550</td>\n",
       "      <td>3432.0</td>\n",
       "    </tr>\n",
       "    <tr>\n",
       "      <th>3195</th>\n",
       "      <td>1496</td>\n",
       "      <td>2018-03-01</td>\n",
       "      <td>15</td>\n",
       "      <td>25.0</td>\n",
       "      <td>550</td>\n",
       "      <td>2721.0</td>\n",
       "    </tr>\n",
       "    <tr>\n",
       "      <th>3196</th>\n",
       "      <td>1496</td>\n",
       "      <td>2018-04-01</td>\n",
       "      <td>15</td>\n",
       "      <td>21.0</td>\n",
       "      <td>550</td>\n",
       "      <td>1813.0</td>\n",
       "    </tr>\n",
       "    <tr>\n",
       "      <th>3197</th>\n",
       "      <td>1496</td>\n",
       "      <td>2018-05-01</td>\n",
       "      <td>15</td>\n",
       "      <td>24.0</td>\n",
       "      <td>550</td>\n",
       "      <td>2350.0</td>\n",
       "    </tr>\n",
       "    <tr>\n",
       "      <th>3198</th>\n",
       "      <td>1496</td>\n",
       "      <td>2018-06-01</td>\n",
       "      <td>15</td>\n",
       "      <td>20.0</td>\n",
       "      <td>550</td>\n",
       "      <td>1715.0</td>\n",
       "    </tr>\n",
       "    <tr>\n",
       "      <th>3199</th>\n",
       "      <td>1496</td>\n",
       "      <td>2018-07-01</td>\n",
       "      <td>15</td>\n",
       "      <td>24.0</td>\n",
       "      <td>550</td>\n",
       "      <td>2596.0</td>\n",
       "    </tr>\n",
       "    <tr>\n",
       "      <th>3200</th>\n",
       "      <td>1496</td>\n",
       "      <td>2018-08-01</td>\n",
       "      <td>15</td>\n",
       "      <td>23.0</td>\n",
       "      <td>550</td>\n",
       "      <td>2231.0</td>\n",
       "    </tr>\n",
       "    <tr>\n",
       "      <th>3201</th>\n",
       "      <td>1496</td>\n",
       "      <td>2018-09-01</td>\n",
       "      <td>15</td>\n",
       "      <td>27.0</td>\n",
       "      <td>550</td>\n",
       "      <td>2950.0</td>\n",
       "    </tr>\n",
       "    <tr>\n",
       "      <th>3202</th>\n",
       "      <td>1496</td>\n",
       "      <td>2018-10-01</td>\n",
       "      <td>15</td>\n",
       "      <td>28.0</td>\n",
       "      <td>550</td>\n",
       "      <td>3150.0</td>\n",
       "    </tr>\n",
       "    <tr>\n",
       "      <th>3203</th>\n",
       "      <td>1496</td>\n",
       "      <td>2018-11-01</td>\n",
       "      <td>15</td>\n",
       "      <td>25.0</td>\n",
       "      <td>550</td>\n",
       "      <td>3036.0</td>\n",
       "    </tr>\n",
       "    <tr>\n",
       "      <th>3204</th>\n",
       "      <td>1496</td>\n",
       "      <td>2018-12-01</td>\n",
       "      <td>15</td>\n",
       "      <td>21.0</td>\n",
       "      <td>550</td>\n",
       "      <td>1807.0</td>\n",
       "    </tr>\n",
       "    <tr>\n",
       "      <th>3205</th>\n",
       "      <td>1497</td>\n",
       "      <td>2018-10-01</td>\n",
       "      <td>15</td>\n",
       "      <td>12.0</td>\n",
       "      <td>550</td>\n",
       "      <td>550.0</td>\n",
       "    </tr>\n",
       "    <tr>\n",
       "      <th>3206</th>\n",
       "      <td>1497</td>\n",
       "      <td>2018-11-01</td>\n",
       "      <td>15</td>\n",
       "      <td>14.0</td>\n",
       "      <td>550</td>\n",
       "      <td>550.0</td>\n",
       "    </tr>\n",
       "    <tr>\n",
       "      <th>3207</th>\n",
       "      <td>1497</td>\n",
       "      <td>2018-12-01</td>\n",
       "      <td>15</td>\n",
       "      <td>20.0</td>\n",
       "      <td>550</td>\n",
       "      <td>1685.0</td>\n",
       "    </tr>\n",
       "    <tr>\n",
       "      <th>3208</th>\n",
       "      <td>1498</td>\n",
       "      <td>2018-07-01</td>\n",
       "      <td>15</td>\n",
       "      <td>8.0</td>\n",
       "      <td>550</td>\n",
       "      <td>550.0</td>\n",
       "    </tr>\n",
       "    <tr>\n",
       "      <th>3209</th>\n",
       "      <td>1498</td>\n",
       "      <td>2018-08-01</td>\n",
       "      <td>15</td>\n",
       "      <td>24.0</td>\n",
       "      <td>550</td>\n",
       "      <td>2386.0</td>\n",
       "    </tr>\n",
       "    <tr>\n",
       "      <th>3210</th>\n",
       "      <td>1498</td>\n",
       "      <td>2018-09-01</td>\n",
       "      <td>15</td>\n",
       "      <td>22.0</td>\n",
       "      <td>550</td>\n",
       "      <td>1950.0</td>\n",
       "    </tr>\n",
       "    <tr>\n",
       "      <th>3211</th>\n",
       "      <td>1498</td>\n",
       "      <td>2018-10-01</td>\n",
       "      <td>15</td>\n",
       "      <td>21.0</td>\n",
       "      <td>550</td>\n",
       "      <td>1750.0</td>\n",
       "    </tr>\n",
       "    <tr>\n",
       "      <th>3212</th>\n",
       "      <td>1499</td>\n",
       "      <td>2018-09-01</td>\n",
       "      <td>15</td>\n",
       "      <td>2.0</td>\n",
       "      <td>550</td>\n",
       "      <td>550.0</td>\n",
       "    </tr>\n",
       "    <tr>\n",
       "      <th>3213</th>\n",
       "      <td>1499</td>\n",
       "      <td>2018-10-01</td>\n",
       "      <td>15</td>\n",
       "      <td>18.0</td>\n",
       "      <td>550</td>\n",
       "      <td>1150.0</td>\n",
       "    </tr>\n",
       "    <tr>\n",
       "      <th>3214</th>\n",
       "      <td>1499</td>\n",
       "      <td>2018-11-01</td>\n",
       "      <td>15</td>\n",
       "      <td>18.0</td>\n",
       "      <td>550</td>\n",
       "      <td>1513.0</td>\n",
       "    </tr>\n",
       "    <tr>\n",
       "      <th>3215</th>\n",
       "      <td>1499</td>\n",
       "      <td>2018-12-01</td>\n",
       "      <td>15</td>\n",
       "      <td>13.0</td>\n",
       "      <td>550</td>\n",
       "      <td>598.0</td>\n",
       "    </tr>\n",
       "  </tbody>\n",
       "</table>\n",
       "</div>"
      ],
      "text/plain": [
       "      user_id      month  gb_included  gb_used  rub_monthly_fee  \\\n",
       "3191     1494 2018-11-01           15     18.0              550   \n",
       "3192     1494 2018-12-01           15     18.0              550   \n",
       "3193     1496 2018-01-01           15      4.0              550   \n",
       "3194     1496 2018-02-01           15     28.0              550   \n",
       "3195     1496 2018-03-01           15     25.0              550   \n",
       "3196     1496 2018-04-01           15     21.0              550   \n",
       "3197     1496 2018-05-01           15     24.0              550   \n",
       "3198     1496 2018-06-01           15     20.0              550   \n",
       "3199     1496 2018-07-01           15     24.0              550   \n",
       "3200     1496 2018-08-01           15     23.0              550   \n",
       "3201     1496 2018-09-01           15     27.0              550   \n",
       "3202     1496 2018-10-01           15     28.0              550   \n",
       "3203     1496 2018-11-01           15     25.0              550   \n",
       "3204     1496 2018-12-01           15     21.0              550   \n",
       "3205     1497 2018-10-01           15     12.0              550   \n",
       "3206     1497 2018-11-01           15     14.0              550   \n",
       "3207     1497 2018-12-01           15     20.0              550   \n",
       "3208     1498 2018-07-01           15      8.0              550   \n",
       "3209     1498 2018-08-01           15     24.0              550   \n",
       "3210     1498 2018-09-01           15     22.0              550   \n",
       "3211     1498 2018-10-01           15     21.0              550   \n",
       "3212     1499 2018-09-01           15      2.0              550   \n",
       "3213     1499 2018-10-01           15     18.0              550   \n",
       "3214     1499 2018-11-01           15     18.0              550   \n",
       "3215     1499 2018-12-01           15     13.0              550   \n",
       "\n",
       "      month_user_income  \n",
       "3191                NaN  \n",
       "3192                NaN  \n",
       "3193              550.0  \n",
       "3194             3432.0  \n",
       "3195             2721.0  \n",
       "3196             1813.0  \n",
       "3197             2350.0  \n",
       "3198             1715.0  \n",
       "3199             2596.0  \n",
       "3200             2231.0  \n",
       "3201             2950.0  \n",
       "3202             3150.0  \n",
       "3203             3036.0  \n",
       "3204             1807.0  \n",
       "3205              550.0  \n",
       "3206              550.0  \n",
       "3207             1685.0  \n",
       "3208              550.0  \n",
       "3209             2386.0  \n",
       "3210             1950.0  \n",
       "3211             1750.0  \n",
       "3212              550.0  \n",
       "3213             1150.0  \n",
       "3214             1513.0  \n",
       "3215              598.0  "
      ]
     },
     "execution_count": 78,
     "metadata": {},
     "output_type": "execute_result"
    }
   ],
   "source": [
    "cond3 = (data['gb_included'] >= data['gb_used'])  # creating a condition to compare included GB with the used ones\n",
    "data['month_user_income'].where(cond3, (data['month_user_income']+ (data['gb_used']-data['gb_included'])*data['rub_per_gb']) , inplace=True)# adding extra money in those rows where the used GB exceed the included ones \n",
    "data[['user_id', 'month', 'gb_included', 'gb_used', 'rub_monthly_fee', 'month_user_income']].tail(25)  # checking the result\n",
    "\n"
   ]
  },
  {
   "cell_type": "code",
   "execution_count": 79,
   "id": "3aa51787",
   "metadata": {},
   "outputs": [],
   "source": [
    " data['month_user_income'].fillna(0, inplace=True) # filling in missing values with 0 in the selected column"
   ]
  },
  {
   "cell_type": "markdown",
   "id": "6d28f357",
   "metadata": {},
   "source": [
    "**Conclusions**\n",
    "During the final stage of data preprocessing, we received a new consolidated dataframe, which contains absolutely all information about each user and their behavior for each available month of 2018. We added a calculated feature to the table, which contains information on the total revenue received by Megaline per month per user.\n",
    "Now we have everything we need to perform data discovery and statistical analysis, as well as hypothesis testing.\n"
   ]
  },
  {
   "cell_type": "markdown",
   "id": "e71acae4",
   "metadata": {},
   "source": [
    "## Data Discovery and Statistical Analysis"
   ]
  },
  {
   "cell_type": "markdown",
   "id": "042278b1",
   "metadata": {},
   "source": [
    "Let's have a look at distribution of minutes, messages and Internet traffic on a monthly basis for users of a particular tariff. To do this, we will plot histograms:\n"
   ]
  },
  {
   "cell_type": "code",
   "execution_count": 80,
   "id": "57aa9a54",
   "metadata": {},
   "outputs": [
    {
     "data": {
      "image/png": "[encoded data removed]",
      "text/plain": [
       "<Figure size 864x720 with 1 Axes>"
      ]
     },
     "metadata": {},
     "output_type": "display_data"
    }
   ],
   "source": [
    "sns.histplot(x='mins_per_month',  data=data, hue='tariff', multiple=\"stack\") # plotting minutes distrubution in one year for both tariffs\n",
    "sns.set(rc = {'figure.figsize':(12,10)}) # setting the figure size"
   ]
  },
  {
   "cell_type": "markdown",
   "id": "69bd230d",
   "metadata": {},
   "source": [
    "It is quite evident from the histogram that for both tariffs this distribution tends to be normal, while the data themselves are somewhat skewed in the negative direction. Most subscribers of both tariffs fit into 450-500 minutes of conversation per month. At the same time, there are much more users of the \"smart\" tariff, who use the number of minutes inferior of the mode, than the ones who talk on the phone more often compared to the mode. As for the \"ultra\" tariff, on the contrary, more users use more than 450-500 minutes per month.\n"
   ]
  },
  {
   "cell_type": "code",
   "execution_count": 81,
   "id": "c059bfec",
   "metadata": {},
   "outputs": [
    {
     "data": {
      "image/png": "[encoded data removed]",
      "text/plain": [
       "<Figure size 864x720 with 1 Axes>"
      ]
     },
     "metadata": {},
     "output_type": "display_data"
    }
   ],
   "source": [
    "sns.histplot(x='msgs_per_month', hue='tariff', data=data, multiple=\"stack\") # plotting messages distrubution in one year for both tariffs\n",
    "sns.set(rc = {'figure.figsize':(12,10)}) # setting the figure size"
   ]
  },
  {
   "cell_type": "markdown",
   "id": "b8e85862",
   "metadata": {},
   "source": [
    "As far as it concerns distributions by the number of SMS, they are also very similar to each other. A huge number of users of the \"smart\" tariff sent less than 8 messages per month, the same number is typical for the largest group of subscribers of the \"ultra\" tariff. Only \"ultra\" subscribers send more than 140 messages per month, but they are relatively few.\n"
   ]
  },
  {
   "cell_type": "code",
   "execution_count": 82,
   "id": "1ccc96cf",
   "metadata": {},
   "outputs": [
    {
     "data": {
      "image/png": "[encoded data removed]",
      "text/plain": [
       "<Figure size 864x720 with 1 Axes>"
      ]
     },
     "metadata": {},
     "output_type": "display_data"
    }
   ],
   "source": [
    "sns.histplot(x='gb_used', hue='tariff', data=data, multiple=\"stack\") # plotting GB distrubution in one year for both tariffs\n",
    "sns.set(rc = {'figure.figsize':(12,10)}) # setting the figure size"
   ]
  },
  {
   "cell_type": "markdown",
   "id": "caa00655",
   "metadata": {},
   "source": [
    "The distribution of used Internet traffic also tends to be normal for both tariffs, it is noticeable from the hostogram that the dataset is somewhat skewed in the positive direction. The vast majority of users spend about 17 GB per month. The slope to the right occurs at the expense of \"ultra\" subscribers: most of them spend more than 17 GB per month and even exceed the included 30 GB. At the same time, more than half of the users of the \"smart\" tariff exceed the monthly limit.\n"
   ]
  },
  {
   "cell_type": "markdown",
   "id": "d70b715b",
   "metadata": {},
   "source": [
    "In order to analyze user behavior by months depending on the tariff, we will create another pivot table in which we will group data by tariff and by months, calculating for each metric: minutes of conversation,\n",
    "messages and internet traffic - mean, variance and standard deviation monthly. Since our data is a population sample, when calculating the variance and standard deviation, the parameter ddof=1 should be used, which is the default value in pandas built-in methods.\n"
   ]
  },
  {
   "cell_type": "code",
   "execution_count": 83,
   "id": "aeb23359",
   "metadata": {},
   "outputs": [
    {
     "data": {
      "text/html": [
       "<div>\n",
       "<style scoped>\n",
       "    .dataframe tbody tr th:only-of-type {\n",
       "        vertical-align: middle;\n",
       "    }\n",
       "\n",
       "    .dataframe tbody tr th {\n",
       "        vertical-align: top;\n",
       "    }\n",
       "\n",
       "    .dataframe thead th {\n",
       "        text-align: right;\n",
       "    }\n",
       "</style>\n",
       "<table border=\"1\" class=\"dataframe\">\n",
       "  <thead>\n",
       "    <tr style=\"text-align: right;\">\n",
       "      <th></th>\n",
       "      <th>_tariff</th>\n",
       "      <th>_month</th>\n",
       "      <th>gb_used_mean</th>\n",
       "      <th>mins_per_month_mean</th>\n",
       "      <th>msgs_per_month_mean</th>\n",
       "      <th>gb_used_var</th>\n",
       "      <th>mins_per_month_var</th>\n",
       "      <th>msgs_per_month_var</th>\n",
       "      <th>gb_used_std</th>\n",
       "      <th>mins_per_month_std</th>\n",
       "      <th>msgs_per_month_std</th>\n",
       "    </tr>\n",
       "  </thead>\n",
       "  <tbody>\n",
       "    <tr>\n",
       "      <th>0</th>\n",
       "      <td>smart</td>\n",
       "      <td>2018-01-01</td>\n",
       "      <td>8.735294</td>\n",
       "      <td>203.852941</td>\n",
       "      <td>20.000000</td>\n",
       "      <td>39.412656</td>\n",
       "      <td>23787.341355</td>\n",
       "      <td>252.133333</td>\n",
       "      <td>6.277950</td>\n",
       "      <td>154.231454</td>\n",
       "      <td>15.878707</td>\n",
       "    </tr>\n",
       "    <tr>\n",
       "      <th>1</th>\n",
       "      <td>smart</td>\n",
       "      <td>2018-02-01</td>\n",
       "      <td>11.844828</td>\n",
       "      <td>298.689655</td>\n",
       "      <td>27.940000</td>\n",
       "      <td>37.150938</td>\n",
       "      <td>36412.287961</td>\n",
       "      <td>440.465714</td>\n",
       "      <td>6.095157</td>\n",
       "      <td>190.820041</td>\n",
       "      <td>20.987275</td>\n",
       "    </tr>\n",
       "    <tr>\n",
       "      <th>2</th>\n",
       "      <td>smart</td>\n",
       "      <td>2018-03-01</td>\n",
       "      <td>15.233766</td>\n",
       "      <td>390.051948</td>\n",
       "      <td>35.550725</td>\n",
       "      <td>32.549897</td>\n",
       "      <td>36823.155161</td>\n",
       "      <td>669.780477</td>\n",
       "      <td>5.705252</td>\n",
       "      <td>191.893604</td>\n",
       "      <td>25.880117</td>\n",
       "    </tr>\n",
       "    <tr>\n",
       "      <th>3</th>\n",
       "      <td>smart</td>\n",
       "      <td>2018-04-01</td>\n",
       "      <td>13.625000</td>\n",
       "      <td>367.133929</td>\n",
       "      <td>35.864583</td>\n",
       "      <td>31.299550</td>\n",
       "      <td>34778.207127</td>\n",
       "      <td>517.865680</td>\n",
       "      <td>5.594600</td>\n",
       "      <td>186.489161</td>\n",
       "      <td>22.756662</td>\n",
       "    </tr>\n",
       "    <tr>\n",
       "      <th>4</th>\n",
       "      <td>smart</td>\n",
       "      <td>2018-05-01</td>\n",
       "      <td>15.907801</td>\n",
       "      <td>387.361702</td>\n",
       "      <td>39.032787</td>\n",
       "      <td>34.370010</td>\n",
       "      <td>34820.061094</td>\n",
       "      <td>638.775776</td>\n",
       "      <td>5.862594</td>\n",
       "      <td>186.601343</td>\n",
       "      <td>25.274014</td>\n",
       "    </tr>\n",
       "    <tr>\n",
       "      <th>5</th>\n",
       "      <td>smart</td>\n",
       "      <td>2018-06-01</td>\n",
       "      <td>15.951220</td>\n",
       "      <td>398.067485</td>\n",
       "      <td>38.577465</td>\n",
       "      <td>31.911716</td>\n",
       "      <td>29960.520109</td>\n",
       "      <td>731.635801</td>\n",
       "      <td>5.649046</td>\n",
       "      <td>173.091075</td>\n",
       "      <td>27.048767</td>\n",
       "    </tr>\n",
       "    <tr>\n",
       "      <th>6</th>\n",
       "      <td>smart</td>\n",
       "      <td>2018-07-01</td>\n",
       "      <td>15.875622</td>\n",
       "      <td>408.353234</td>\n",
       "      <td>38.988506</td>\n",
       "      <td>33.419453</td>\n",
       "      <td>32250.269602</td>\n",
       "      <td>719.352468</td>\n",
       "      <td>5.780956</td>\n",
       "      <td>179.583601</td>\n",
       "      <td>26.820747</td>\n",
       "    </tr>\n",
       "    <tr>\n",
       "      <th>7</th>\n",
       "      <td>smart</td>\n",
       "      <td>2018-08-01</td>\n",
       "      <td>16.807692</td>\n",
       "      <td>423.269231</td>\n",
       "      <td>38.750000</td>\n",
       "      <td>28.962859</td>\n",
       "      <td>34177.270551</td>\n",
       "      <td>767.213054</td>\n",
       "      <td>5.381715</td>\n",
       "      <td>184.870956</td>\n",
       "      <td>27.698611</td>\n",
       "    </tr>\n",
       "    <tr>\n",
       "      <th>8</th>\n",
       "      <td>smart</td>\n",
       "      <td>2018-09-01</td>\n",
       "      <td>16.392308</td>\n",
       "      <td>430.266409</td>\n",
       "      <td>39.219731</td>\n",
       "      <td>25.884110</td>\n",
       "      <td>32950.529526</td>\n",
       "      <td>702.505555</td>\n",
       "      <td>5.087643</td>\n",
       "      <td>181.522807</td>\n",
       "      <td>26.504821</td>\n",
       "    </tr>\n",
       "    <tr>\n",
       "      <th>9</th>\n",
       "      <td>smart</td>\n",
       "      <td>2018-10-01</td>\n",
       "      <td>16.880952</td>\n",
       "      <td>427.590444</td>\n",
       "      <td>39.082677</td>\n",
       "      <td>32.897042</td>\n",
       "      <td>34889.530319</td>\n",
       "      <td>736.503019</td>\n",
       "      <td>5.735594</td>\n",
       "      <td>186.787393</td>\n",
       "      <td>27.138589</td>\n",
       "    </tr>\n",
       "    <tr>\n",
       "      <th>10</th>\n",
       "      <td>smart</td>\n",
       "      <td>2018-11-01</td>\n",
       "      <td>17.000000</td>\n",
       "      <td>436.647619</td>\n",
       "      <td>39.881481</td>\n",
       "      <td>27.180952</td>\n",
       "      <td>31100.611101</td>\n",
       "      <td>711.361366</td>\n",
       "      <td>5.213535</td>\n",
       "      <td>176.353653</td>\n",
       "      <td>26.671359</td>\n",
       "    </tr>\n",
       "    <tr>\n",
       "      <th>11</th>\n",
       "      <td>smart</td>\n",
       "      <td>2018-12-01</td>\n",
       "      <td>18.201780</td>\n",
       "      <td>479.985119</td>\n",
       "      <td>42.264808</td>\n",
       "      <td>29.786544</td>\n",
       "      <td>39131.447539</td>\n",
       "      <td>832.447114</td>\n",
       "      <td>5.457705</td>\n",
       "      <td>197.816702</td>\n",
       "      <td>28.852160</td>\n",
       "    </tr>\n",
       "    <tr>\n",
       "      <th>12</th>\n",
       "      <td>ultra</td>\n",
       "      <td>2018-01-01</td>\n",
       "      <td>13.222222</td>\n",
       "      <td>428.111111</td>\n",
       "      <td>43.428571</td>\n",
       "      <td>44.444444</td>\n",
       "      <td>72769.361111</td>\n",
       "      <td>765.285714</td>\n",
       "      <td>6.666667</td>\n",
       "      <td>269.757968</td>\n",
       "      <td>27.663798</td>\n",
       "    </tr>\n",
       "    <tr>\n",
       "      <th>13</th>\n",
       "      <td>ultra</td>\n",
       "      <td>2018-02-01</td>\n",
       "      <td>13.090909</td>\n",
       "      <td>297.125000</td>\n",
       "      <td>32.937500</td>\n",
       "      <td>104.562771</td>\n",
       "      <td>87919.679348</td>\n",
       "      <td>713.395833</td>\n",
       "      <td>10.225594</td>\n",
       "      <td>296.512528</td>\n",
       "      <td>26.709471</td>\n",
       "    </tr>\n",
       "    <tr>\n",
       "      <th>14</th>\n",
       "      <td>ultra</td>\n",
       "      <td>2018-03-01</td>\n",
       "      <td>17.648649</td>\n",
       "      <td>489.648649</td>\n",
       "      <td>47.800000</td>\n",
       "      <td>114.345345</td>\n",
       "      <td>111384.900901</td>\n",
       "      <td>1826.666667</td>\n",
       "      <td>10.693238</td>\n",
       "      <td>333.743765</td>\n",
       "      <td>42.739521</td>\n",
       "    </tr>\n",
       "    <tr>\n",
       "      <th>15</th>\n",
       "      <td>ultra</td>\n",
       "      <td>2018-04-01</td>\n",
       "      <td>16.963636</td>\n",
       "      <td>475.301887</td>\n",
       "      <td>44.512821</td>\n",
       "      <td>89.443098</td>\n",
       "      <td>66036.830189</td>\n",
       "      <td>1408.256410</td>\n",
       "      <td>9.457436</td>\n",
       "      <td>256.976322</td>\n",
       "      <td>37.526743</td>\n",
       "    </tr>\n",
       "    <tr>\n",
       "      <th>16</th>\n",
       "      <td>ultra</td>\n",
       "      <td>2018-05-01</td>\n",
       "      <td>19.666667</td>\n",
       "      <td>534.250000</td>\n",
       "      <td>48.769231</td>\n",
       "      <td>91.241026</td>\n",
       "      <td>74881.015873</td>\n",
       "      <td>1559.553544</td>\n",
       "      <td>9.552017</td>\n",
       "      <td>273.643958</td>\n",
       "      <td>39.491183</td>\n",
       "    </tr>\n",
       "    <tr>\n",
       "      <th>17</th>\n",
       "      <td>ultra</td>\n",
       "      <td>2018-06-01</td>\n",
       "      <td>19.168675</td>\n",
       "      <td>497.469136</td>\n",
       "      <td>52.313433</td>\n",
       "      <td>78.971202</td>\n",
       "      <td>86019.652160</td>\n",
       "      <td>1935.672999</td>\n",
       "      <td>8.886574</td>\n",
       "      <td>293.291071</td>\n",
       "      <td>43.996284</td>\n",
       "    </tr>\n",
       "    <tr>\n",
       "      <th>18</th>\n",
       "      <td>ultra</td>\n",
       "      <td>2018-07-01</td>\n",
       "      <td>20.733333</td>\n",
       "      <td>564.397727</td>\n",
       "      <td>62.136986</td>\n",
       "      <td>92.737079</td>\n",
       "      <td>86952.587121</td>\n",
       "      <td>2190.730974</td>\n",
       "      <td>9.630009</td>\n",
       "      <td>294.877241</td>\n",
       "      <td>46.805245</td>\n",
       "    </tr>\n",
       "    <tr>\n",
       "      <th>19</th>\n",
       "      <td>ultra</td>\n",
       "      <td>2018-08-01</td>\n",
       "      <td>19.783019</td>\n",
       "      <td>530.611650</td>\n",
       "      <td>58.897727</td>\n",
       "      <td>102.457233</td>\n",
       "      <td>91169.553588</td>\n",
       "      <td>2022.966432</td>\n",
       "      <td>10.122116</td>\n",
       "      <td>301.942964</td>\n",
       "      <td>44.977399</td>\n",
       "    </tr>\n",
       "    <tr>\n",
       "      <th>20</th>\n",
       "      <td>ultra</td>\n",
       "      <td>2018-09-01</td>\n",
       "      <td>19.412281</td>\n",
       "      <td>558.882883</td>\n",
       "      <td>63.294737</td>\n",
       "      <td>83.713476</td>\n",
       "      <td>98597.904341</td>\n",
       "      <td>1906.763270</td>\n",
       "      <td>9.149507</td>\n",
       "      <td>314.003032</td>\n",
       "      <td>43.666501</td>\n",
       "    </tr>\n",
       "    <tr>\n",
       "      <th>21</th>\n",
       "      <td>ultra</td>\n",
       "      <td>2018-10-01</td>\n",
       "      <td>20.229508</td>\n",
       "      <td>581.728814</td>\n",
       "      <td>69.776699</td>\n",
       "      <td>88.657634</td>\n",
       "      <td>97140.336086</td>\n",
       "      <td>2426.606511</td>\n",
       "      <td>9.415818</td>\n",
       "      <td>311.673445</td>\n",
       "      <td>49.260598</td>\n",
       "    </tr>\n",
       "    <tr>\n",
       "      <th>22</th>\n",
       "      <td>ultra</td>\n",
       "      <td>2018-11-01</td>\n",
       "      <td>19.954887</td>\n",
       "      <td>562.364341</td>\n",
       "      <td>66.159292</td>\n",
       "      <td>91.513101</td>\n",
       "      <td>88449.624031</td>\n",
       "      <td>2249.295828</td>\n",
       "      <td>9.566248</td>\n",
       "      <td>297.404815</td>\n",
       "      <td>47.426742</td>\n",
       "    </tr>\n",
       "    <tr>\n",
       "      <th>23</th>\n",
       "      <td>ultra</td>\n",
       "      <td>2018-12-01</td>\n",
       "      <td>21.898551</td>\n",
       "      <td>614.925373</td>\n",
       "      <td>72.008547</td>\n",
       "      <td>100.515180</td>\n",
       "      <td>107981.031983</td>\n",
       "      <td>2362.870616</td>\n",
       "      <td>10.025726</td>\n",
       "      <td>328.604674</td>\n",
       "      <td>48.609368</td>\n",
       "    </tr>\n",
       "  </tbody>\n",
       "</table>\n",
       "</div>"
      ],
      "text/plain": [
       "   _tariff     _month  gb_used_mean  mins_per_month_mean  msgs_per_month_mean  \\\n",
       "0    smart 2018-01-01      8.735294           203.852941            20.000000   \n",
       "1    smart 2018-02-01     11.844828           298.689655            27.940000   \n",
       "2    smart 2018-03-01     15.233766           390.051948            35.550725   \n",
       "3    smart 2018-04-01     13.625000           367.133929            35.864583   \n",
       "4    smart 2018-05-01     15.907801           387.361702            39.032787   \n",
       "5    smart 2018-06-01     15.951220           398.067485            38.577465   \n",
       "6    smart 2018-07-01     15.875622           408.353234            38.988506   \n",
       "7    smart 2018-08-01     16.807692           423.269231            38.750000   \n",
       "8    smart 2018-09-01     16.392308           430.266409            39.219731   \n",
       "9    smart 2018-10-01     16.880952           427.590444            39.082677   \n",
       "10   smart 2018-11-01     17.000000           436.647619            39.881481   \n",
       "11   smart 2018-12-01     18.201780           479.985119            42.264808   \n",
       "12   ultra 2018-01-01     13.222222           428.111111            43.428571   \n",
       "13   ultra 2018-02-01     13.090909           297.125000            32.937500   \n",
       "14   ultra 2018-03-01     17.648649           489.648649            47.800000   \n",
       "15   ultra 2018-04-01     16.963636           475.301887            44.512821   \n",
       "16   ultra 2018-05-01     19.666667           534.250000            48.769231   \n",
       "17   ultra 2018-06-01     19.168675           497.469136            52.313433   \n",
       "18   ultra 2018-07-01     20.733333           564.397727            62.136986   \n",
       "19   ultra 2018-08-01     19.783019           530.611650            58.897727   \n",
       "20   ultra 2018-09-01     19.412281           558.882883            63.294737   \n",
       "21   ultra 2018-10-01     20.229508           581.728814            69.776699   \n",
       "22   ultra 2018-11-01     19.954887           562.364341            66.159292   \n",
       "23   ultra 2018-12-01     21.898551           614.925373            72.008547   \n",
       "\n",
       "    gb_used_var  mins_per_month_var  msgs_per_month_var  gb_used_std  \\\n",
       "0     39.412656        23787.341355          252.133333     6.277950   \n",
       "1     37.150938        36412.287961          440.465714     6.095157   \n",
       "2     32.549897        36823.155161          669.780477     5.705252   \n",
       "3     31.299550        34778.207127          517.865680     5.594600   \n",
       "4     34.370010        34820.061094          638.775776     5.862594   \n",
       "5     31.911716        29960.520109          731.635801     5.649046   \n",
       "6     33.419453        32250.269602          719.352468     5.780956   \n",
       "7     28.962859        34177.270551          767.213054     5.381715   \n",
       "8     25.884110        32950.529526          702.505555     5.087643   \n",
       "9     32.897042        34889.530319          736.503019     5.735594   \n",
       "10    27.180952        31100.611101          711.361366     5.213535   \n",
       "11    29.786544        39131.447539          832.447114     5.457705   \n",
       "12    44.444444        72769.361111          765.285714     6.666667   \n",
       "13   104.562771        87919.679348          713.395833    10.225594   \n",
       "14   114.345345       111384.900901         1826.666667    10.693238   \n",
       "15    89.443098        66036.830189         1408.256410     9.457436   \n",
       "16    91.241026        74881.015873         1559.553544     9.552017   \n",
       "17    78.971202        86019.652160         1935.672999     8.886574   \n",
       "18    92.737079        86952.587121         2190.730974     9.630009   \n",
       "19   102.457233        91169.553588         2022.966432    10.122116   \n",
       "20    83.713476        98597.904341         1906.763270     9.149507   \n",
       "21    88.657634        97140.336086         2426.606511     9.415818   \n",
       "22    91.513101        88449.624031         2249.295828     9.566248   \n",
       "23   100.515180       107981.031983         2362.870616    10.025726   \n",
       "\n",
       "    mins_per_month_std  msgs_per_month_std  \n",
       "0           154.231454           15.878707  \n",
       "1           190.820041           20.987275  \n",
       "2           191.893604           25.880117  \n",
       "3           186.489161           22.756662  \n",
       "4           186.601343           25.274014  \n",
       "5           173.091075           27.048767  \n",
       "6           179.583601           26.820747  \n",
       "7           184.870956           27.698611  \n",
       "8           181.522807           26.504821  \n",
       "9           186.787393           27.138589  \n",
       "10          176.353653           26.671359  \n",
       "11          197.816702           28.852160  \n",
       "12          269.757968           27.663798  \n",
       "13          296.512528           26.709471  \n",
       "14          333.743765           42.739521  \n",
       "15          256.976322           37.526743  \n",
       "16          273.643958           39.491183  \n",
       "17          293.291071           43.996284  \n",
       "18          294.877241           46.805245  \n",
       "19          301.942964           44.977399  \n",
       "20          314.003032           43.666501  \n",
       "21          311.673445           49.260598  \n",
       "22          297.404815           47.426742  \n",
       "23          328.604674           48.609368  "
      ]
     },
     "execution_count": 83,
     "metadata": {},
     "output_type": "execute_result"
    }
   ],
   "source": [
    "summary_pivot = data.pivot_table(index=[\"tariff\",\"month\"], values=['mins_per_month', 'msgs_per_month', 'gb_used'], aggfunc=['mean', 'var', 'std']).reset_index()  # creating a summary pivot for both tariffs with the stats\n",
    "summary_pivot.columns = [\"_\".join((j,i)).strip() for i,j in summary_pivot.columns] # modifying columns names\n",
    "summary_pivot.head(24)  # checking the result"
   ]
  },
  {
   "cell_type": "markdown",
   "id": "8550d835",
   "metadata": {},
   "source": [
    "We've got the data. Let's compare the statistics (mean, variance and standard deviation) for all metrics in each month of 2018, depending on the tariff. To do this, we will use a bar chart.\n"
   ]
  },
  {
   "cell_type": "code",
   "execution_count": 84,
   "id": "08375231",
   "metadata": {},
   "outputs": [
    {
     "data": {
      "image/png": "[encoded data removed]",
      "text/plain": [
       "<Figure size 864x720 with 1 Axes>"
      ]
     },
     "metadata": {},
     "output_type": "display_data"
    }
   ],
   "source": [
    "ax = sns.barplot(x='_month', y='mins_per_month_mean',  hue='_tariff', data=summary_pivot)  # plotting a barplot with both traiffs on\n",
    "sns.set(rc = {'figure.figsize':(12,10)}) # setting the figure size\n",
    "ax.set_xticklabels(ax.get_xticklabels(),rotation=30) # setting x axis label rotation\n",
    "date_form = DateFormatter(\"%m-%d\") # setting date format\n",
    "ax.xaxis.set_major_formatter(date_form); # applying date formatting"
   ]
  },
  {
   "cell_type": "markdown",
   "id": "34c9c6af",
   "metadata": {},
   "source": [
    "As it was logical to assume, in every month, except for February, \"Ultra\" tariff subscribers talk on the phone more often than \"Smart\" subscribers. February is an exception, so far there are no prerequisites to make any assumptions. This month is indeed shorter than all the others, but not enough to explain the difference.\n",
    "On average, \"smart\" subscribers have more than enough  minutes included in the tariff (500), as for subscribers of the \"ultra\" tariff - for almost half a year they also do not use more than 500 minutes per month, the maximum is approx. 600 observed in December, however, such subscribers are very far from the limit of 3000 minutes.\n"
   ]
  },
  {
   "cell_type": "code",
   "execution_count": 85,
   "id": "50e710d6",
   "metadata": {},
   "outputs": [
    {
     "data": {
      "image/png": "[encoded data removed]",
      "text/plain": [
       "<Figure size 864x720 with 1 Axes>"
      ]
     },
     "metadata": {},
     "output_type": "display_data"
    }
   ],
   "source": [
    "ax = sns.barplot(x='_month', y='msgs_per_month_mean', hue='_tariff', data=summary_pivot)  # plotting a barplot with both traiffs on\n",
    "sns.set(rc = {'figure.figsize':(12,10)}) # setting the figure size\n",
    "ax.set_xticklabels(ax.get_xticklabels(),rotation=30) # setting x axis label rotation\n",
    "date_form = DateFormatter(\"%m-%d\") # setting date format\n",
    "ax.xaxis.set_major_formatter(date_form); # applying date formatting"
   ]
  },
  {
   "cell_type": "markdown",
   "id": "338a2a7e",
   "metadata": {},
   "source": [
    "The same trends are observed among users of 2 different tariffs when it comes to the messages. On average, Ultra subscribers send more messages than Smart subscribers, especially in the second half of the year. February also stands out abnormally on this chart: Ultra users sent fewer messages than Smart users this month in 2018. In general, both of them have enough messages included in the tariff (50 and 1000), respectively, on average, more than 90% of messages remain unused for \"Ultra\" subscribers.\n"
   ]
  },
  {
   "cell_type": "code",
   "execution_count": 86,
   "id": "12ea0f9d",
   "metadata": {},
   "outputs": [
    {
     "data": {
      "image/png": "[encoded data removed]",
      "text/plain": [
       "<Figure size 864x720 with 1 Axes>"
      ]
     },
     "metadata": {},
     "output_type": "display_data"
    }
   ],
   "source": [
    "ax = sns.barplot(x='_month', y='gb_used_mean', hue='_tariff', data=summary_pivot)  # plotting a barplot with both traiffs on\n",
    "sns.set(rc = {'figure.figsize':(12,10)}) # setting the figure size\n",
    "ax.set_xticklabels(ax.get_xticklabels(),rotation=30) # setting x axis label rotation\n",
    "date_form = DateFormatter(\"%m-%d\") # setting date format\n",
    "ax.xaxis.set_major_formatter(date_form); # applying date formatting"
   ]
  },
  {
   "cell_type": "markdown",
   "id": "96b6dd90",
   "metadata": {},
   "source": [
    "The picture with Internet traffic is a little different, but here, too, February stands out anomalously for \"Ultra\" users. Probably there were some failures in data retrieving for this tariff for February 2018.\n",
    "In 2/3 of the year, subscribers of the \"Smart\" tariff do not have enough included GB, on average they use 2 GB more. As for the \"Ultra\" subscribers, in most cases they use about 20 GB out of the 30 included, a burst of activity, as well as for the two previous ones, can be observed in December.\n"
   ]
  },
  {
   "cell_type": "markdown",
   "id": "a8228d2f",
   "metadata": {},
   "source": [
    "With regard to variance and standard deviation, we know that these statistics are interrelated (standard deviation is the square root of the variance), so to analyze the dispertion of values around the mean, it is enough to analyze one of them. Let's plot bar charts for the standard deviation for 3 given metrics:\n"
   ]
  },
  {
   "cell_type": "code",
   "execution_count": 87,
   "id": "c4ddc2f6",
   "metadata": {},
   "outputs": [
    {
     "data": {
      "image/png": "[encoded data removed]",
      "text/plain": [
       "<Figure size 864x720 with 1 Axes>"
      ]
     },
     "metadata": {},
     "output_type": "display_data"
    }
   ],
   "source": [
    "ax = sns.barplot(x='_month', y='mins_per_month_std',  hue='_tariff', data=summary_pivot)  # plotting a barplot with both traiffs on\n",
    "sns.set(rc = {'figure.figsize':(12,10)}) # setting the figure size\n",
    "ax.set_xticklabels(ax.get_xticklabels(),rotation=30) # setting x axis label rotation\n",
    "date_form = DateFormatter(\"%m-%d\") # setting date format\n",
    "ax.xaxis.set_major_formatter(date_form); # applying date formatting"
   ]
  },
  {
   "cell_type": "markdown",
   "id": "46f90bd7",
   "metadata": {},
   "source": [
    "The dispertion relative to the average value for \"Ultra\" users is much larger than for \"Smart\" ones, although it\n",
    "is significant for  the latter either - approx. 150 in January. In each group, the users are very diverse.\n"
   ]
  },
  {
   "cell_type": "code",
   "execution_count": 88,
   "id": "84cd9ca3",
   "metadata": {},
   "outputs": [
    {
     "data": {
      "image/png": "[encoded data removed]",
      "text/plain": [
       "<Figure size 864x720 with 1 Axes>"
      ]
     },
     "metadata": {},
     "output_type": "display_data"
    }
   ],
   "source": [
    "ax = sns.barplot(x='_month', y='msgs_per_month_std', hue='_tariff', data=summary_pivot)  # plotting a barplot with both traiffs on\n",
    "sns.set(rc = {'figure.figsize':(12,10)}) # setting the figure size\n",
    "ax.set_xticklabels(ax.get_xticklabels(),rotation=30) # setting x axis label rotation\n",
    "date_form = DateFormatter(\"%m-%d\") # setting date format\n",
    "ax.xaxis.set_major_formatter(date_form); # applying date formatting"
   ]
  },
  {
   "cell_type": "markdown",
   "id": "1faed844",
   "metadata": {},
   "source": [
    "Regarding the number of sent SMS, the trend does not change, the standard deviation for the \"ultra\" group is much\n",
    "higher. Diverse behavior of subscribers using the same tariff is also evident in this metric.\n"
   ]
  },
  {
   "cell_type": "code",
   "execution_count": 89,
   "id": "663ce1c2",
   "metadata": {},
   "outputs": [
    {
     "data": {
      "image/png": "[encoded data removed]",
      "text/plain": [
       "<Figure size 864x720 with 1 Axes>"
      ]
     },
     "metadata": {},
     "output_type": "display_data"
    }
   ],
   "source": [
    "ax = sns.barplot(x='_month', y='gb_used_std', hue='_tariff', data=summary_pivot)  # plotting a barplot with both traiffs on\n",
    "sns.set(rc = {'figure.figsize':(12,10)}) # setting the figure size\n",
    "ax.set_xticklabels(ax.get_xticklabels(),rotation=30) # setting x axis label rotation\n",
    "date_form = DateFormatter(\"%m-%d\") # setting date format\n",
    "ax.xaxis.set_major_formatter(date_form); # applying date formatting"
   ]
  },
  {
   "cell_type": "markdown",
   "id": "2b3d5085",
   "metadata": {},
   "source": [
    "The same situation as in the previous plots is with GBs: the dispertion relative to the mean is\n",
    "quite high, even more significant for \"Ultra\" subscribers.\n",
    "The high standard deviation tells us that the mean in this case is very inaccurate in describing\n",
    "presented sample: the values within it vary greatly.\n"
   ]
  },
  {
   "cell_type": "markdown",
   "id": "d203e793",
   "metadata": {},
   "source": [
    "**Conclusions**\n",
    "So, we performed a data discovery  and statistical analysis of the data sample, calculated the mean, variance and standard deviation, and visualized the results.\n",
    "Let's move on to the last phase of our study: testing hypotheses on difference between the individual categories of the sample.\n"
   ]
  },
  {
   "cell_type": "markdown",
   "id": "d5f736cb",
   "metadata": {},
   "source": [
    "## Проверка гипотез"
   ]
  },
  {
   "cell_type": "markdown",
   "id": "f6304308",
   "metadata": {},
   "source": [
    "Ideally, to test our hypotheses, it would be necessary to compare the means of the general populations of \"smart\" and \"ultra\" subscribers, subscribers in Moscow and other regions of Russia. Since we only have a sample of 500 subscribers at our disposal, we will divide them into appropriate subgroups and compare them using a t-test.\n",
    "\n",
    "First of all, let's test the first pair of hypotheses (null and alternative):\n"
   ]
  },
  {
   "cell_type": "markdown",
   "id": "e0aa6bf0",
   "metadata": {},
   "source": [
    "* Н0: the average revenue of users of the Ultra and Smart tariffs does not differ.\n",
    "* H1: the average revenue of users of the Ultra and Smart tariffs are different.\n"
   ]
  },
  {
   "cell_type": "code",
   "execution_count": 90,
   "id": "2a087da0",
   "metadata": {},
   "outputs": [
    {
     "data": {
      "text/html": [
       "<div>\n",
       "<style scoped>\n",
       "    .dataframe tbody tr th:only-of-type {\n",
       "        vertical-align: middle;\n",
       "    }\n",
       "\n",
       "    .dataframe tbody tr th {\n",
       "        vertical-align: top;\n",
       "    }\n",
       "\n",
       "    .dataframe thead th {\n",
       "        text-align: right;\n",
       "    }\n",
       "</style>\n",
       "<table border=\"1\" class=\"dataframe\">\n",
       "  <thead>\n",
       "    <tr style=\"text-align: right;\">\n",
       "      <th></th>\n",
       "      <th>month_user_income</th>\n",
       "    </tr>\n",
       "    <tr>\n",
       "      <th>user_id</th>\n",
       "      <th></th>\n",
       "    </tr>\n",
       "  </thead>\n",
       "  <tbody>\n",
       "    <tr>\n",
       "      <th>1001</th>\n",
       "      <td>0.0</td>\n",
       "    </tr>\n",
       "    <tr>\n",
       "      <th>1002</th>\n",
       "      <td>7250.0</td>\n",
       "    </tr>\n",
       "    <tr>\n",
       "      <th>1005</th>\n",
       "      <td>9924.0</td>\n",
       "    </tr>\n",
       "    <tr>\n",
       "      <th>1006</th>\n",
       "      <td>0.0</td>\n",
       "    </tr>\n",
       "    <tr>\n",
       "      <th>1007</th>\n",
       "      <td>8221.0</td>\n",
       "    </tr>\n",
       "    <tr>\n",
       "      <th>1008</th>\n",
       "      <td>568.0</td>\n",
       "    </tr>\n",
       "    <tr>\n",
       "      <th>1009</th>\n",
       "      <td>13100.0</td>\n",
       "    </tr>\n",
       "    <tr>\n",
       "      <th>1010</th>\n",
       "      <td>0.0</td>\n",
       "    </tr>\n",
       "    <tr>\n",
       "      <th>1011</th>\n",
       "      <td>15144.0</td>\n",
       "    </tr>\n",
       "    <tr>\n",
       "      <th>1012</th>\n",
       "      <td>18100.0</td>\n",
       "    </tr>\n",
       "  </tbody>\n",
       "</table>\n",
       "</div>"
      ],
      "text/plain": [
       "         month_user_income\n",
       "user_id                   \n",
       "1001                   0.0\n",
       "1002                7250.0\n",
       "1005                9924.0\n",
       "1006                   0.0\n",
       "1007                8221.0\n",
       "1008                 568.0\n",
       "1009               13100.0\n",
       "1010                   0.0\n",
       "1011               15144.0\n",
       "1012               18100.0"
      ]
     },
     "execution_count": 90,
     "metadata": {},
     "output_type": "execute_result"
    }
   ],
   "source": [
    "smart_user_income = data.query('tariff==\"smart\"')[['user_id', 'month_user_income']].groupby('user_id').sum()  # creating a dataframe only for smart users\n",
    "smart_user_income.head(10) # checking the result"
   ]
  },
  {
   "cell_type": "code",
   "execution_count": 91,
   "id": "53e3a9d2",
   "metadata": {},
   "outputs": [
    {
     "data": {
      "text/html": [
       "<div>\n",
       "<style scoped>\n",
       "    .dataframe tbody tr th:only-of-type {\n",
       "        vertical-align: middle;\n",
       "    }\n",
       "\n",
       "    .dataframe tbody tr th {\n",
       "        vertical-align: top;\n",
       "    }\n",
       "\n",
       "    .dataframe thead th {\n",
       "        text-align: right;\n",
       "    }\n",
       "</style>\n",
       "<table border=\"1\" class=\"dataframe\">\n",
       "  <thead>\n",
       "    <tr style=\"text-align: right;\">\n",
       "      <th></th>\n",
       "      <th>month_user_income</th>\n",
       "    </tr>\n",
       "    <tr>\n",
       "      <th>user_id</th>\n",
       "      <th></th>\n",
       "    </tr>\n",
       "  </thead>\n",
       "  <tbody>\n",
       "    <tr>\n",
       "      <th>1000</th>\n",
       "      <td>15600.0</td>\n",
       "    </tr>\n",
       "    <tr>\n",
       "      <th>1003</th>\n",
       "      <td>9750.0</td>\n",
       "    </tr>\n",
       "    <tr>\n",
       "      <th>1004</th>\n",
       "      <td>15600.0</td>\n",
       "    </tr>\n",
       "    <tr>\n",
       "      <th>1013</th>\n",
       "      <td>3900.0</td>\n",
       "    </tr>\n",
       "    <tr>\n",
       "      <th>1016</th>\n",
       "      <td>3900.0</td>\n",
       "    </tr>\n",
       "    <tr>\n",
       "      <th>1018</th>\n",
       "      <td>17550.0</td>\n",
       "    </tr>\n",
       "    <tr>\n",
       "      <th>1019</th>\n",
       "      <td>11700.0</td>\n",
       "    </tr>\n",
       "    <tr>\n",
       "      <th>1021</th>\n",
       "      <td>17550.0</td>\n",
       "    </tr>\n",
       "    <tr>\n",
       "      <th>1024</th>\n",
       "      <td>0.0</td>\n",
       "    </tr>\n",
       "    <tr>\n",
       "      <th>1028</th>\n",
       "      <td>5850.0</td>\n",
       "    </tr>\n",
       "  </tbody>\n",
       "</table>\n",
       "</div>"
      ],
      "text/plain": [
       "         month_user_income\n",
       "user_id                   \n",
       "1000               15600.0\n",
       "1003                9750.0\n",
       "1004               15600.0\n",
       "1013                3900.0\n",
       "1016                3900.0\n",
       "1018               17550.0\n",
       "1019               11700.0\n",
       "1021               17550.0\n",
       "1024                   0.0\n",
       "1028                5850.0"
      ]
     },
     "execution_count": 91,
     "metadata": {},
     "output_type": "execute_result"
    }
   ],
   "source": [
    "ultra_user_income = data.query('tariff==\"ultra\"')[['user_id', 'month_user_income']].groupby('user_id').sum()  # creating a dataframe only for ultra users\n",
    "ultra_user_income.head(10) # checking the result"
   ]
  },
  {
   "cell_type": "code",
   "execution_count": 93,
   "id": "9d6ebb65",
   "metadata": {},
   "outputs": [
    {
     "name": "stdout",
     "output_type": "stream",
     "text": [
      "p-значение: 8.235057145576879e-06\n",
      "The null hypothesis rejected\n"
     ]
    }
   ],
   "source": [
    "alpha = 0.01 # setting a significance level\n",
    "results = st.ttest_ind(smart_user_income['month_user_income'], ultra_user_income['month_user_income'], equal_var = False) # testing the hypothesis that the means of two independent populations are equal\n",
    "print('p-значение:', results.pvalue)\n",
    "if results.pvalue < alpha:\n",
    "    print(\"The null hypothesis rejected\")\n",
    "else:\n",
    "    print(\"Failed to reject the null hypothesis\")"
   ]
  },
  {
   "cell_type": "markdown",
   "id": "48a75300",
   "metadata": {},
   "source": [
    "So, despite the chosen very low statistical significance level, the resulting p-value is so small that we can categorically reject the null hypothesis in favor of the alternative one, which means that **the average revenue of users of the Ultra and Smart tariffs are different.*\n"
   ]
  },
  {
   "cell_type": "markdown",
   "id": "6698a499",
   "metadata": {},
   "source": [
    "Next, we will test the second pair of hypotheses:\n",
    "* H0: the average revenue of users from Moscow does not differ from the revenue of users from other regions.\n",
    "* H1: The average revenue of users from Moscow differs from the revenue of users from other regions.\n",
    "\n",
    "To do this, we will divide the available sample into two groups: subscribers from Moscow and all other regions and conduct a t-test.\n"
   ]
  },
  {
   "cell_type": "code",
   "execution_count": 95,
   "id": "e1cd08a1",
   "metadata": {},
   "outputs": [
    {
     "data": {
      "text/html": [
       "<div>\n",
       "<style scoped>\n",
       "    .dataframe tbody tr th:only-of-type {\n",
       "        vertical-align: middle;\n",
       "    }\n",
       "\n",
       "    .dataframe tbody tr th {\n",
       "        vertical-align: top;\n",
       "    }\n",
       "\n",
       "    .dataframe thead th {\n",
       "        text-align: right;\n",
       "    }\n",
       "</style>\n",
       "<table border=\"1\" class=\"dataframe\">\n",
       "  <thead>\n",
       "    <tr style=\"text-align: right;\">\n",
       "      <th></th>\n",
       "      <th>month_user_income</th>\n",
       "    </tr>\n",
       "    <tr>\n",
       "      <th>user_id</th>\n",
       "      <th></th>\n",
       "    </tr>\n",
       "  </thead>\n",
       "  <tbody>\n",
       "    <tr>\n",
       "      <th>1001</th>\n",
       "      <td>0.0</td>\n",
       "    </tr>\n",
       "    <tr>\n",
       "      <th>1003</th>\n",
       "      <td>9750.0</td>\n",
       "    </tr>\n",
       "    <tr>\n",
       "      <th>1007</th>\n",
       "      <td>8221.0</td>\n",
       "    </tr>\n",
       "    <tr>\n",
       "      <th>1031</th>\n",
       "      <td>1781.0</td>\n",
       "    </tr>\n",
       "    <tr>\n",
       "      <th>1033</th>\n",
       "      <td>11484.0</td>\n",
       "    </tr>\n",
       "    <tr>\n",
       "      <th>1038</th>\n",
       "      <td>2450.0</td>\n",
       "    </tr>\n",
       "    <tr>\n",
       "      <th>1041</th>\n",
       "      <td>3233.0</td>\n",
       "    </tr>\n",
       "    <tr>\n",
       "      <th>1049</th>\n",
       "      <td>0.0</td>\n",
       "    </tr>\n",
       "    <tr>\n",
       "      <th>1051</th>\n",
       "      <td>5051.0</td>\n",
       "    </tr>\n",
       "    <tr>\n",
       "      <th>1057</th>\n",
       "      <td>19500.0</td>\n",
       "    </tr>\n",
       "  </tbody>\n",
       "</table>\n",
       "</div>"
      ],
      "text/plain": [
       "         month_user_income\n",
       "user_id                   \n",
       "1001                   0.0\n",
       "1003                9750.0\n",
       "1007                8221.0\n",
       "1031                1781.0\n",
       "1033               11484.0\n",
       "1038                2450.0\n",
       "1041                3233.0\n",
       "1049                   0.0\n",
       "1051                5051.0\n",
       "1057               19500.0"
      ]
     },
     "execution_count": 95,
     "metadata": {},
     "output_type": "execute_result"
    }
   ],
   "source": [
    "moscow_user_income = data.query('city==\"Москва\"')[['user_id', 'month_user_income']].groupby('user_id').sum()  # creating a dataframe with only Moscow users\n",
    "moscow_user_income.head(10) # checking the result"
   ]
  },
  {
   "cell_type": "code",
   "execution_count": 96,
   "id": "02de8250",
   "metadata": {},
   "outputs": [],
   "source": [
    "regions_user_income = data.query('city!=\"Москва\"')[['user_id', 'month_user_income']].groupby('user_id').sum()  # creating a dataframe with only the users from other regions"
   ]
  },
  {
   "cell_type": "code",
   "execution_count": 97,
   "id": "242c8c83",
   "metadata": {},
   "outputs": [
    {
     "name": "stdout",
     "output_type": "stream",
     "text": [
      "p-значение: 0.6160165314190258\n",
      "Failed to reject the null hypothesis\n"
     ]
    }
   ],
   "source": [
    "alpha = 0.01 # setting a significance level\n",
    "results = st.ttest_ind(moscow_user_income['month_user_income'], regions_user_income['month_user_income'], equal_var = False) # testing the hypothesis that the means of two independent populations are equal\n",
    "print('p-значение:', results.pvalue)\n",
    "if results.pvalue < alpha:\n",
    "    print(\"The null hypothesis rejected\")\n",
    "else:\n",
    "    print(\"Failed to reject the null hypothesis\")"
   ]
  },
  {
   "cell_type": "markdown",
   "id": "1f13f3e1",
   "metadata": {},
   "source": [
    "The p-value is high: it means that the probability of getting the same means in both populations is high. Thus, the null hypothesis has been confirmed: **the average revenue of users from Moscow does not differ from the revenue of users from other regions.**\n"
   ]
  },
  {
   "cell_type": "markdown",
   "id": "e2fd5632",
   "metadata": {},
   "source": [
    "## Study Results\n",
    "In this study, we tested two null hypotheses:\n",
    "\n",
    "1. The average revenue of users of the \"Ultra\" and \"Smart\" tariffs do not differ.\n",
    "This hypothesis was rejected by the result of the t-test in favor of the alternative one.\n",
    "2. The average revenue of users from Moscow does not differ from the revenue of users from other regions.\n",
    "Based on the results of the t-test, we could not reject this hypothesis, that is, it was confirmed.\n",
    "\n",
    "From the point of view of classical statistics, the conclusions that we came to based on the results of our study are quite reliable: the number of elements in each of the subsamples formed from a total sample of 500 subscribers from the general population of all subscribers was more than 30 users. The result would be,certainly more accurate if we tested it on several samples of 500 users from the general population, not just one.\n",
    "\n"
   ]
  }
 ],
 "metadata": {
  "ExecuteTimeLog": [
   {
    "duration": 667,
    "start_time": "2022-03-08T15:34:14.246Z"
   },
   {
    "duration": 44,
    "start_time": "2022-03-08T15:34:38.925Z"
   },
   {
    "duration": 40,
    "start_time": "2022-03-08T15:34:39.882Z"
   },
   {
    "duration": 55,
    "start_time": "2022-03-08T15:34:49.258Z"
   },
   {
    "duration": 55,
    "start_time": "2022-03-08T15:35:23.556Z"
   },
   {
    "duration": 17,
    "start_time": "2022-03-08T15:46:17.513Z"
   },
   {
    "duration": 14,
    "start_time": "2022-03-08T15:46:52.976Z"
   },
   {
    "duration": 56,
    "start_time": "2022-03-08T15:49:44.344Z"
   },
   {
    "duration": 31,
    "start_time": "2022-03-08T15:52:03.568Z"
   },
   {
    "duration": 21,
    "start_time": "2022-03-08T15:55:13.609Z"
   },
   {
    "duration": 15,
    "start_time": "2022-03-08T15:55:29.176Z"
   },
   {
    "duration": 13,
    "start_time": "2022-03-08T15:55:39.020Z"
   },
   {
    "duration": 12,
    "start_time": "2022-03-08T15:55:54.155Z"
   },
   {
    "duration": 32,
    "start_time": "2022-03-08T16:03:58.644Z"
   },
   {
    "duration": 13,
    "start_time": "2022-03-08T16:05:29.577Z"
   },
   {
    "duration": 357,
    "start_time": "2022-03-08T16:08:53.653Z"
   },
   {
    "duration": 28,
    "start_time": "2022-03-08T16:09:22.196Z"
   },
   {
    "duration": 245,
    "start_time": "2022-03-08T16:10:05.863Z"
   },
   {
    "duration": 26,
    "start_time": "2022-03-08T16:10:21.729Z"
   },
   {
    "duration": 24,
    "start_time": "2022-03-08T16:11:28.314Z"
   },
   {
    "duration": 15,
    "start_time": "2022-03-08T16:13:46.039Z"
   },
   {
    "duration": 22,
    "start_time": "2022-03-08T16:20:36.997Z"
   },
   {
    "duration": 22,
    "start_time": "2022-03-08T16:21:00.502Z"
   },
   {
    "duration": 20,
    "start_time": "2022-03-08T16:21:11.356Z"
   },
   {
    "duration": 21,
    "start_time": "2022-03-08T16:22:44.768Z"
   },
   {
    "duration": 18,
    "start_time": "2022-03-08T16:23:04.185Z"
   },
   {
    "duration": 61,
    "start_time": "2022-03-08T16:23:16.270Z"
   },
   {
    "duration": 20,
    "start_time": "2022-03-08T16:23:16.333Z"
   },
   {
    "duration": 10,
    "start_time": "2022-03-08T16:27:47.184Z"
   },
   {
    "duration": 10,
    "start_time": "2022-03-08T16:27:48.569Z"
   },
   {
    "duration": 23,
    "start_time": "2022-03-08T16:31:29.349Z"
   },
   {
    "duration": 29,
    "start_time": "2022-03-08T16:40:11.762Z"
   },
   {
    "duration": 13,
    "start_time": "2022-03-08T16:43:03.827Z"
   },
   {
    "duration": 16,
    "start_time": "2022-03-08T16:50:12.822Z"
   },
   {
    "duration": 12,
    "start_time": "2022-03-08T16:51:08.365Z"
   },
   {
    "duration": 15,
    "start_time": "2022-03-08T16:55:50.479Z"
   },
   {
    "duration": 25,
    "start_time": "2022-03-08T16:56:45.138Z"
   },
   {
    "duration": 37,
    "start_time": "2022-03-08T16:56:52.361Z"
   },
   {
    "duration": 41,
    "start_time": "2022-03-08T16:58:09.738Z"
   },
   {
    "duration": 4526,
    "start_time": "2022-03-08T17:00:42.767Z"
   },
   {
    "duration": 4486,
    "start_time": "2022-03-08T17:02:59.102Z"
   },
   {
    "duration": 58,
    "start_time": "2022-03-08T17:03:32.191Z"
   },
   {
    "duration": 62,
    "start_time": "2022-03-08T17:09:27.759Z"
   },
   {
    "duration": 21,
    "start_time": "2022-03-08T17:09:27.824Z"
   },
   {
    "duration": 30,
    "start_time": "2022-03-08T17:09:27.979Z"
   },
   {
    "duration": 14,
    "start_time": "2022-03-08T17:09:28.012Z"
   },
   {
    "duration": 78,
    "start_time": "2022-03-08T17:09:28.028Z"
   },
   {
    "duration": 5,
    "start_time": "2022-03-08T17:13:58.107Z"
   },
   {
    "duration": 6,
    "start_time": "2022-03-08T17:14:05.436Z"
   },
   {
    "duration": 6,
    "start_time": "2022-03-08T17:14:22.178Z"
   },
   {
    "duration": 61,
    "start_time": "2022-03-08T17:14:46.655Z"
   },
   {
    "duration": 21,
    "start_time": "2022-03-08T17:14:46.718Z"
   },
   {
    "duration": 36,
    "start_time": "2022-03-08T17:14:46.741Z"
   },
   {
    "duration": 13,
    "start_time": "2022-03-08T17:14:46.778Z"
   },
   {
    "duration": 82,
    "start_time": "2022-03-08T17:14:46.813Z"
   },
   {
    "duration": 7,
    "start_time": "2022-03-08T17:14:46.898Z"
   },
   {
    "duration": 190,
    "start_time": "2022-03-08T17:15:14.389Z"
   },
   {
    "duration": 11,
    "start_time": "2022-03-08T17:15:23.488Z"
   },
   {
    "duration": 12,
    "start_time": "2022-03-08T17:15:54.694Z"
   },
   {
    "duration": 12,
    "start_time": "2022-03-08T17:16:03.402Z"
   },
   {
    "duration": 8,
    "start_time": "2022-03-08T17:16:51.157Z"
   },
   {
    "duration": 12,
    "start_time": "2022-03-08T17:17:44.640Z"
   },
   {
    "duration": 19,
    "start_time": "2022-03-08T17:20:44.148Z"
   },
   {
    "duration": 743,
    "start_time": "2022-03-09T07:35:42.722Z"
   },
   {
    "duration": 18,
    "start_time": "2022-03-09T07:35:43.467Z"
   },
   {
    "duration": 23,
    "start_time": "2022-03-09T07:35:43.486Z"
   },
   {
    "duration": 11,
    "start_time": "2022-03-09T07:35:43.510Z"
   },
   {
    "duration": 80,
    "start_time": "2022-03-09T07:35:43.522Z"
   },
   {
    "duration": 14,
    "start_time": "2022-03-09T07:35:43.603Z"
   },
   {
    "duration": 197,
    "start_time": "2022-03-09T07:35:43.619Z"
   },
   {
    "duration": 55,
    "start_time": "2022-03-09T07:35:56.589Z"
   },
   {
    "duration": 18,
    "start_time": "2022-03-09T07:35:56.645Z"
   },
   {
    "duration": 39,
    "start_time": "2022-03-09T07:35:56.665Z"
   },
   {
    "duration": 10,
    "start_time": "2022-03-09T07:35:56.706Z"
   },
   {
    "duration": 58,
    "start_time": "2022-03-09T07:35:56.718Z"
   },
   {
    "duration": 35,
    "start_time": "2022-03-09T07:35:56.777Z"
   },
   {
    "duration": 16,
    "start_time": "2022-03-09T07:35:56.814Z"
   },
   {
    "duration": 5,
    "start_time": "2022-03-09T08:00:43.756Z"
   },
   {
    "duration": 1428,
    "start_time": "2022-03-09T08:12:01.438Z"
   },
   {
    "duration": 149,
    "start_time": "2022-03-09T08:12:24.028Z"
   },
   {
    "duration": 162,
    "start_time": "2022-03-09T08:12:38.873Z"
   },
   {
    "duration": 157,
    "start_time": "2022-03-09T08:13:22.396Z"
   },
   {
    "duration": 161,
    "start_time": "2022-03-09T08:14:13.402Z"
   },
   {
    "duration": 66,
    "start_time": "2022-03-09T08:14:48.413Z"
   },
   {
    "duration": 19,
    "start_time": "2022-03-09T08:14:48.481Z"
   },
   {
    "duration": 25,
    "start_time": "2022-03-09T08:14:48.502Z"
   },
   {
    "duration": 12,
    "start_time": "2022-03-09T08:14:48.529Z"
   },
   {
    "duration": 83,
    "start_time": "2022-03-09T08:14:48.543Z"
   },
   {
    "duration": 14,
    "start_time": "2022-03-09T08:14:48.628Z"
   },
   {
    "duration": 25,
    "start_time": "2022-03-09T08:14:48.643Z"
   },
   {
    "duration": 201,
    "start_time": "2022-03-09T08:14:48.670Z"
   },
   {
    "duration": 1230,
    "start_time": "2022-03-09T08:15:41.094Z"
   },
   {
    "duration": 179,
    "start_time": "2022-03-09T08:23:47.339Z"
   },
   {
    "duration": 19,
    "start_time": "2022-03-09T08:25:32.427Z"
   },
   {
    "duration": 19,
    "start_time": "2022-03-09T08:25:57.332Z"
   },
   {
    "duration": 331,
    "start_time": "2022-03-09T09:38:33.598Z"
   },
   {
    "duration": 293,
    "start_time": "2022-03-09T09:38:43.072Z"
   },
   {
    "duration": 16,
    "start_time": "2022-03-09T09:38:59.531Z"
   },
   {
    "duration": 15,
    "start_time": "2022-03-09T09:39:02.904Z"
   },
   {
    "duration": 25,
    "start_time": "2022-03-09T09:39:24.812Z"
   },
   {
    "duration": 11,
    "start_time": "2022-03-09T09:42:07.475Z"
   },
   {
    "duration": 93,
    "start_time": "2022-03-09T09:42:24.726Z"
   },
   {
    "duration": 761,
    "start_time": "2022-03-09T09:42:34.730Z"
   },
   {
    "duration": 769,
    "start_time": "2022-03-09T09:42:47.259Z"
   },
   {
    "duration": 814,
    "start_time": "2022-03-09T09:43:02.898Z"
   },
   {
    "duration": 295,
    "start_time": "2022-03-09T09:43:25.199Z"
   },
   {
    "duration": 35,
    "start_time": "2022-03-09T09:43:38.341Z"
   },
   {
    "duration": 11,
    "start_time": "2022-03-09T09:48:54.516Z"
   },
   {
    "duration": 11,
    "start_time": "2022-03-09T09:49:05.247Z"
   },
   {
    "duration": 23,
    "start_time": "2022-03-09T09:49:26.359Z"
   },
   {
    "duration": 12,
    "start_time": "2022-03-09T09:51:52.412Z"
   },
   {
    "duration": 12,
    "start_time": "2022-03-09T09:52:02.595Z"
   },
   {
    "duration": 105,
    "start_time": "2022-03-09T09:52:51.862Z"
   },
   {
    "duration": 308,
    "start_time": "2022-03-09T09:53:01.865Z"
   },
   {
    "duration": 13,
    "start_time": "2022-03-09T09:54:14.933Z"
   },
   {
    "duration": 7454,
    "start_time": "2022-03-09T09:58:38.132Z"
   },
   {
    "duration": 78,
    "start_time": "2022-03-09T09:59:05.667Z"
   },
   {
    "duration": 26,
    "start_time": "2022-03-09T09:59:05.747Z"
   },
   {
    "duration": 36,
    "start_time": "2022-03-09T09:59:05.775Z"
   },
   {
    "duration": 12,
    "start_time": "2022-03-09T09:59:05.812Z"
   },
   {
    "duration": 86,
    "start_time": "2022-03-09T09:59:05.825Z"
   },
   {
    "duration": 16,
    "start_time": "2022-03-09T09:59:05.913Z"
   },
   {
    "duration": 18,
    "start_time": "2022-03-09T09:59:05.930Z"
   },
   {
    "duration": 50,
    "start_time": "2022-03-09T09:59:05.951Z"
   },
   {
    "duration": 11,
    "start_time": "2022-03-09T09:59:06.003Z"
   },
   {
    "duration": 33,
    "start_time": "2022-03-09T10:00:09.487Z"
   },
   {
    "duration": 119,
    "start_time": "2022-03-09T10:03:33.655Z"
   },
   {
    "duration": 18,
    "start_time": "2022-03-09T10:03:40.220Z"
   },
   {
    "duration": 17,
    "start_time": "2022-03-09T10:04:35.617Z"
   },
   {
    "duration": 28,
    "start_time": "2022-03-09T10:14:33.587Z"
   },
   {
    "duration": 40,
    "start_time": "2022-03-09T10:15:53.935Z"
   },
   {
    "duration": 60,
    "start_time": "2022-03-09T10:17:04.751Z"
   },
   {
    "duration": 57,
    "start_time": "2022-03-09T10:24:01.931Z"
   },
   {
    "duration": 137,
    "start_time": "2022-03-09T10:26:10.605Z"
   },
   {
    "duration": 69,
    "start_time": "2022-03-09T10:26:25.196Z"
   },
   {
    "duration": 58,
    "start_time": "2022-03-09T10:26:47.064Z"
   },
   {
    "duration": 61,
    "start_time": "2022-03-09T10:29:04.203Z"
   },
   {
    "duration": 58,
    "start_time": "2022-03-09T10:29:58.009Z"
   },
   {
    "duration": 60,
    "start_time": "2022-03-09T10:32:55.491Z"
   },
   {
    "duration": 7545,
    "start_time": "2022-03-09T10:43:37.987Z"
   },
   {
    "duration": 56,
    "start_time": "2022-03-09T10:44:08.219Z"
   },
   {
    "duration": 17,
    "start_time": "2022-03-09T10:44:08.277Z"
   },
   {
    "duration": 25,
    "start_time": "2022-03-09T10:44:08.296Z"
   },
   {
    "duration": 11,
    "start_time": "2022-03-09T10:44:08.323Z"
   },
   {
    "duration": 88,
    "start_time": "2022-03-09T10:44:08.336Z"
   },
   {
    "duration": 15,
    "start_time": "2022-03-09T10:44:08.425Z"
   },
   {
    "duration": 20,
    "start_time": "2022-03-09T10:44:08.442Z"
   },
   {
    "duration": 48,
    "start_time": "2022-03-09T10:44:08.464Z"
   },
   {
    "duration": 90,
    "start_time": "2022-03-09T10:44:08.514Z"
   },
   {
    "duration": 113,
    "start_time": "2022-03-09T10:57:53.322Z"
   },
   {
    "duration": 662,
    "start_time": "2022-03-09T15:12:32.045Z"
   },
   {
    "duration": 21,
    "start_time": "2022-03-09T15:21:47.294Z"
   },
   {
    "duration": 19,
    "start_time": "2022-03-09T15:27:57.697Z"
   },
   {
    "duration": 62,
    "start_time": "2022-03-09T15:28:05.579Z"
   },
   {
    "duration": 18,
    "start_time": "2022-03-09T15:28:05.643Z"
   },
   {
    "duration": 28,
    "start_time": "2022-03-09T15:28:05.663Z"
   },
   {
    "duration": 11,
    "start_time": "2022-03-09T15:28:05.693Z"
   },
   {
    "duration": 100,
    "start_time": "2022-03-09T15:28:05.706Z"
   },
   {
    "duration": 37,
    "start_time": "2022-03-09T15:28:05.808Z"
   },
   {
    "duration": 20,
    "start_time": "2022-03-09T15:28:05.847Z"
   },
   {
    "duration": 20,
    "start_time": "2022-03-09T15:28:05.869Z"
   },
   {
    "duration": 99,
    "start_time": "2022-03-09T15:28:05.891Z"
   },
   {
    "duration": 62,
    "start_time": "2022-03-09T16:02:55.436Z"
   },
   {
    "duration": 54,
    "start_time": "2022-03-09T16:09:56.757Z"
   },
   {
    "duration": 55,
    "start_time": "2022-03-09T16:10:23.085Z"
   },
   {
    "duration": 64,
    "start_time": "2022-03-09T16:10:45.660Z"
   },
   {
    "duration": 62,
    "start_time": "2022-03-09T16:10:54.414Z"
   },
   {
    "duration": 49,
    "start_time": "2022-03-09T16:11:12.138Z"
   },
   {
    "duration": 53,
    "start_time": "2022-03-09T16:11:26.730Z"
   },
   {
    "duration": 69,
    "start_time": "2022-03-09T16:13:02.845Z"
   },
   {
    "duration": 52,
    "start_time": "2022-03-09T16:14:43.797Z"
   },
   {
    "duration": 56,
    "start_time": "2022-03-09T16:15:18.751Z"
   },
   {
    "duration": 50,
    "start_time": "2022-03-09T16:15:30.432Z"
   },
   {
    "duration": 51,
    "start_time": "2022-03-09T16:15:35.276Z"
   },
   {
    "duration": 281,
    "start_time": "2022-03-09T16:16:57.235Z"
   },
   {
    "duration": 48,
    "start_time": "2022-03-09T16:17:04.936Z"
   },
   {
    "duration": 67,
    "start_time": "2022-03-09T16:17:34.450Z"
   },
   {
    "duration": 105,
    "start_time": "2022-03-09T16:43:34.459Z"
   },
   {
    "duration": 15,
    "start_time": "2022-03-09T16:53:12.332Z"
   },
   {
    "duration": 9,
    "start_time": "2022-03-09T16:56:23.830Z"
   },
   {
    "duration": 21,
    "start_time": "2022-03-09T17:07:16.034Z"
   },
   {
    "duration": 58,
    "start_time": "2022-03-09T17:20:04.571Z"
   },
   {
    "duration": 205,
    "start_time": "2022-03-09T17:28:10.818Z"
   },
   {
    "duration": 60,
    "start_time": "2022-03-09T17:28:37.253Z"
   },
   {
    "duration": 14,
    "start_time": "2022-03-09T17:28:37.314Z"
   },
   {
    "duration": 8,
    "start_time": "2022-03-09T17:28:37.330Z"
   },
   {
    "duration": 20,
    "start_time": "2022-03-09T17:28:37.340Z"
   },
   {
    "duration": 16,
    "start_time": "2022-03-09T17:28:37.361Z"
   },
   {
    "duration": 98,
    "start_time": "2022-03-09T17:28:37.379Z"
   },
   {
    "duration": 16,
    "start_time": "2022-03-09T17:28:37.479Z"
   },
   {
    "duration": 49,
    "start_time": "2022-03-09T17:28:37.497Z"
   },
   {
    "duration": 22,
    "start_time": "2022-03-09T17:28:37.548Z"
   },
   {
    "duration": 93,
    "start_time": "2022-03-09T17:28:37.571Z"
   },
   {
    "duration": 654,
    "start_time": "2022-03-10T08:27:02.883Z"
   },
   {
    "duration": 14,
    "start_time": "2022-03-10T08:27:03.538Z"
   },
   {
    "duration": 10,
    "start_time": "2022-03-10T08:27:03.554Z"
   },
   {
    "duration": 36,
    "start_time": "2022-03-10T08:27:03.566Z"
   },
   {
    "duration": 17,
    "start_time": "2022-03-10T08:27:03.603Z"
   },
   {
    "duration": 96,
    "start_time": "2022-03-10T08:27:03.622Z"
   },
   {
    "duration": 14,
    "start_time": "2022-03-10T08:27:03.720Z"
   },
   {
    "duration": 14,
    "start_time": "2022-03-10T08:27:03.736Z"
   },
   {
    "duration": 19,
    "start_time": "2022-03-10T08:27:03.751Z"
   },
   {
    "duration": 438,
    "start_time": "2022-03-10T08:27:03.771Z"
   },
   {
    "duration": 96,
    "start_time": "2022-03-10T08:27:53.724Z"
   },
   {
    "duration": 15,
    "start_time": "2022-03-10T08:28:19.883Z"
   },
   {
    "duration": 21,
    "start_time": "2022-03-10T08:29:21.248Z"
   },
   {
    "duration": 14,
    "start_time": "2022-03-10T08:29:37.885Z"
   },
   {
    "duration": 21,
    "start_time": "2022-03-10T08:33:12.109Z"
   },
   {
    "duration": 7446,
    "start_time": "2022-03-10T08:47:53.539Z"
   },
   {
    "duration": 34,
    "start_time": "2022-03-10T08:55:56.335Z"
   },
   {
    "duration": 63,
    "start_time": "2022-03-10T08:56:03.508Z"
   },
   {
    "duration": 12,
    "start_time": "2022-03-10T08:56:03.573Z"
   },
   {
    "duration": 8,
    "start_time": "2022-03-10T08:56:03.587Z"
   },
   {
    "duration": 18,
    "start_time": "2022-03-10T08:56:03.624Z"
   },
   {
    "duration": 16,
    "start_time": "2022-03-10T08:56:03.644Z"
   },
   {
    "duration": 32,
    "start_time": "2022-03-10T08:56:03.662Z"
   },
   {
    "duration": 37,
    "start_time": "2022-03-10T08:56:03.696Z"
   },
   {
    "duration": 14,
    "start_time": "2022-03-10T08:56:03.734Z"
   },
   {
    "duration": 21,
    "start_time": "2022-03-10T08:56:03.749Z"
   },
   {
    "duration": 45,
    "start_time": "2022-03-10T08:56:03.771Z"
   },
   {
    "duration": 63,
    "start_time": "2022-03-10T08:56:03.818Z"
   },
   {
    "duration": 7627,
    "start_time": "2022-03-10T08:57:53.559Z"
   },
   {
    "duration": 43,
    "start_time": "2022-03-10T08:59:08.955Z"
   },
   {
    "duration": 62,
    "start_time": "2022-03-10T08:59:18.078Z"
   },
   {
    "duration": 11,
    "start_time": "2022-03-10T08:59:18.142Z"
   },
   {
    "duration": 7,
    "start_time": "2022-03-10T08:59:18.155Z"
   },
   {
    "duration": 39,
    "start_time": "2022-03-10T08:59:18.163Z"
   },
   {
    "duration": 22,
    "start_time": "2022-03-10T08:59:18.204Z"
   },
   {
    "duration": 36,
    "start_time": "2022-03-10T08:59:18.228Z"
   },
   {
    "duration": 59,
    "start_time": "2022-03-10T08:59:18.266Z"
   },
   {
    "duration": 13,
    "start_time": "2022-03-10T08:59:18.326Z"
   },
   {
    "duration": 17,
    "start_time": "2022-03-10T08:59:18.341Z"
   },
   {
    "duration": 52,
    "start_time": "2022-03-10T08:59:18.359Z"
   },
   {
    "duration": 62,
    "start_time": "2022-03-10T08:59:18.413Z"
   },
   {
    "duration": 42,
    "start_time": "2022-03-10T08:59:39.434Z"
   },
   {
    "duration": 11,
    "start_time": "2022-03-10T09:00:23.840Z"
   },
   {
    "duration": 21,
    "start_time": "2022-03-10T09:00:34.992Z"
   },
   {
    "duration": 54,
    "start_time": "2022-03-10T09:00:42.400Z"
   },
   {
    "duration": 12,
    "start_time": "2022-03-10T09:00:42.455Z"
   },
   {
    "duration": 7,
    "start_time": "2022-03-10T09:00:42.469Z"
   },
   {
    "duration": 26,
    "start_time": "2022-03-10T09:00:42.478Z"
   },
   {
    "duration": 16,
    "start_time": "2022-03-10T09:00:42.520Z"
   },
   {
    "duration": 21,
    "start_time": "2022-03-10T09:00:42.538Z"
   },
   {
    "duration": 54,
    "start_time": "2022-03-10T09:00:42.561Z"
   },
   {
    "duration": 15,
    "start_time": "2022-03-10T09:00:42.616Z"
   },
   {
    "duration": 18,
    "start_time": "2022-03-10T09:00:42.639Z"
   },
   {
    "duration": 24,
    "start_time": "2022-03-10T09:00:42.659Z"
   },
   {
    "duration": 65,
    "start_time": "2022-03-10T09:00:42.701Z"
   },
   {
    "duration": 36,
    "start_time": "2022-03-10T09:03:05.606Z"
   },
   {
    "duration": 33,
    "start_time": "2022-03-10T09:03:11.342Z"
   },
   {
    "duration": 66,
    "start_time": "2022-03-10T09:03:20.741Z"
   },
   {
    "duration": 14,
    "start_time": "2022-03-10T09:03:20.808Z"
   },
   {
    "duration": 8,
    "start_time": "2022-03-10T09:03:20.824Z"
   },
   {
    "duration": 19,
    "start_time": "2022-03-10T09:03:20.833Z"
   },
   {
    "duration": 17,
    "start_time": "2022-03-10T09:03:20.948Z"
   },
   {
    "duration": 34,
    "start_time": "2022-03-10T09:03:20.967Z"
   },
   {
    "duration": 36,
    "start_time": "2022-03-10T09:03:21.003Z"
   },
   {
    "duration": 15,
    "start_time": "2022-03-10T09:03:21.041Z"
   },
   {
    "duration": 49,
    "start_time": "2022-03-10T09:03:21.057Z"
   },
   {
    "duration": 21,
    "start_time": "2022-03-10T09:03:21.159Z"
   },
   {
    "duration": 62,
    "start_time": "2022-03-10T09:03:21.182Z"
   },
   {
    "duration": 40,
    "start_time": "2022-03-10T09:03:36.919Z"
   },
   {
    "duration": 38,
    "start_time": "2022-03-10T09:05:40.182Z"
   },
   {
    "duration": 67,
    "start_time": "2022-03-10T09:05:46.306Z"
   },
   {
    "duration": 13,
    "start_time": "2022-03-10T09:05:46.375Z"
   },
   {
    "duration": 7,
    "start_time": "2022-03-10T09:05:46.390Z"
   },
   {
    "duration": 20,
    "start_time": "2022-03-10T09:05:46.399Z"
   },
   {
    "duration": 17,
    "start_time": "2022-03-10T09:05:46.459Z"
   },
   {
    "duration": 40,
    "start_time": "2022-03-10T09:05:46.478Z"
   },
   {
    "duration": 38,
    "start_time": "2022-03-10T09:05:46.519Z"
   },
   {
    "duration": 15,
    "start_time": "2022-03-10T09:05:46.559Z"
   },
   {
    "duration": 19,
    "start_time": "2022-03-10T09:05:46.602Z"
   },
   {
    "duration": 23,
    "start_time": "2022-03-10T09:05:46.623Z"
   },
   {
    "duration": 98,
    "start_time": "2022-03-10T09:05:46.647Z"
   },
   {
    "duration": 67,
    "start_time": "2022-03-10T09:06:29.540Z"
   },
   {
    "duration": 12,
    "start_time": "2022-03-10T09:06:29.609Z"
   },
   {
    "duration": 7,
    "start_time": "2022-03-10T09:06:29.623Z"
   },
   {
    "duration": 19,
    "start_time": "2022-03-10T09:06:29.631Z"
   },
   {
    "duration": 17,
    "start_time": "2022-03-10T09:06:29.656Z"
   },
   {
    "duration": 60,
    "start_time": "2022-03-10T09:06:29.675Z"
   },
   {
    "duration": 35,
    "start_time": "2022-03-10T09:06:29.737Z"
   },
   {
    "duration": 14,
    "start_time": "2022-03-10T09:06:29.802Z"
   },
   {
    "duration": 21,
    "start_time": "2022-03-10T09:06:29.818Z"
   },
   {
    "duration": 19,
    "start_time": "2022-03-10T09:06:29.840Z"
   },
   {
    "duration": 82,
    "start_time": "2022-03-10T09:06:29.861Z"
   },
   {
    "duration": 55,
    "start_time": "2022-03-10T09:19:54.396Z"
   },
   {
    "duration": 13,
    "start_time": "2022-03-10T09:19:54.452Z"
   },
   {
    "duration": 9,
    "start_time": "2022-03-10T09:19:54.467Z"
   },
   {
    "duration": 35,
    "start_time": "2022-03-10T09:19:54.478Z"
   },
   {
    "duration": 15,
    "start_time": "2022-03-10T09:19:54.514Z"
   },
   {
    "duration": 34,
    "start_time": "2022-03-10T09:19:54.560Z"
   },
   {
    "duration": 38,
    "start_time": "2022-03-10T09:19:54.596Z"
   },
   {
    "duration": 16,
    "start_time": "2022-03-10T09:19:54.636Z"
   },
   {
    "duration": 21,
    "start_time": "2022-03-10T09:19:54.654Z"
   },
   {
    "duration": 20,
    "start_time": "2022-03-10T09:19:54.701Z"
   },
   {
    "duration": 80,
    "start_time": "2022-03-10T09:19:54.722Z"
   },
   {
    "duration": 67,
    "start_time": "2022-03-10T09:37:12.942Z"
   },
   {
    "duration": 12,
    "start_time": "2022-03-10T09:37:13.010Z"
   },
   {
    "duration": 8,
    "start_time": "2022-03-10T09:37:13.024Z"
   },
   {
    "duration": 18,
    "start_time": "2022-03-10T09:37:13.034Z"
   },
   {
    "duration": 17,
    "start_time": "2022-03-10T09:37:13.054Z"
   },
   {
    "duration": 35,
    "start_time": "2022-03-10T09:37:13.101Z"
   },
   {
    "duration": 36,
    "start_time": "2022-03-10T09:37:13.138Z"
   },
   {
    "duration": 39,
    "start_time": "2022-03-10T09:37:13.175Z"
   },
   {
    "duration": 18,
    "start_time": "2022-03-10T09:37:13.215Z"
   },
   {
    "duration": 21,
    "start_time": "2022-03-10T09:37:13.235Z"
   },
   {
    "duration": 87,
    "start_time": "2022-03-10T09:37:13.257Z"
   },
   {
    "duration": 34,
    "start_time": "2022-03-10T09:38:26.476Z"
   },
   {
    "duration": 54,
    "start_time": "2022-03-10T09:38:37.038Z"
   },
   {
    "duration": 12,
    "start_time": "2022-03-10T09:38:37.094Z"
   },
   {
    "duration": 8,
    "start_time": "2022-03-10T09:38:37.108Z"
   },
   {
    "duration": 17,
    "start_time": "2022-03-10T09:38:37.117Z"
   },
   {
    "duration": 15,
    "start_time": "2022-03-10T09:38:37.136Z"
   },
   {
    "duration": 60,
    "start_time": "2022-03-10T09:38:37.152Z"
   },
   {
    "duration": 36,
    "start_time": "2022-03-10T09:38:37.214Z"
   },
   {
    "duration": 13,
    "start_time": "2022-03-10T09:38:37.252Z"
   },
   {
    "duration": 47,
    "start_time": "2022-03-10T09:38:37.267Z"
   },
   {
    "duration": 19,
    "start_time": "2022-03-10T09:38:37.315Z"
   },
   {
    "duration": 84,
    "start_time": "2022-03-10T09:38:37.335Z"
   },
   {
    "duration": 9130,
    "start_time": "2022-03-10T10:11:44.713Z"
   },
   {
    "duration": 7420,
    "start_time": "2022-03-10T10:12:59.840Z"
   },
   {
    "duration": 7390,
    "start_time": "2022-03-10T10:13:21.016Z"
   },
   {
    "duration": 57,
    "start_time": "2022-03-10T10:13:34.723Z"
   },
   {
    "duration": 13,
    "start_time": "2022-03-10T10:13:34.781Z"
   },
   {
    "duration": 8,
    "start_time": "2022-03-10T10:13:34.797Z"
   },
   {
    "duration": 21,
    "start_time": "2022-03-10T10:13:34.807Z"
   },
   {
    "duration": 18,
    "start_time": "2022-03-10T10:13:34.830Z"
   },
   {
    "duration": 66,
    "start_time": "2022-03-10T10:13:34.850Z"
   },
   {
    "duration": 20,
    "start_time": "2022-03-10T10:13:34.918Z"
   },
   {
    "duration": 18,
    "start_time": "2022-03-10T10:13:34.940Z"
   },
   {
    "duration": 50,
    "start_time": "2022-03-10T10:13:34.959Z"
   },
   {
    "duration": 20,
    "start_time": "2022-03-10T10:13:35.011Z"
   },
   {
    "duration": 22,
    "start_time": "2022-03-10T10:13:35.033Z"
   },
   {
    "duration": 93,
    "start_time": "2022-03-10T10:13:35.057Z"
   },
   {
    "duration": 7565,
    "start_time": "2022-03-10T10:17:16.919Z"
   },
   {
    "duration": 55,
    "start_time": "2022-03-10T10:17:28.836Z"
   },
   {
    "duration": 14,
    "start_time": "2022-03-10T10:17:28.893Z"
   },
   {
    "duration": 8,
    "start_time": "2022-03-10T10:17:28.909Z"
   },
   {
    "duration": 17,
    "start_time": "2022-03-10T10:17:28.919Z"
   },
   {
    "duration": 15,
    "start_time": "2022-03-10T10:17:28.938Z"
   },
   {
    "duration": 60,
    "start_time": "2022-03-10T10:17:28.955Z"
   },
   {
    "duration": 18,
    "start_time": "2022-03-10T10:17:29.017Z"
   },
   {
    "duration": 12,
    "start_time": "2022-03-10T10:17:29.037Z"
   },
   {
    "duration": 16,
    "start_time": "2022-03-10T10:17:29.050Z"
   },
   {
    "duration": 47,
    "start_time": "2022-03-10T10:17:29.067Z"
   },
   {
    "duration": 19,
    "start_time": "2022-03-10T10:17:29.115Z"
   },
   {
    "duration": 80,
    "start_time": "2022-03-10T10:17:29.136Z"
   },
   {
    "duration": 112,
    "start_time": "2022-03-10T10:22:35.630Z"
   },
   {
    "duration": 6,
    "start_time": "2022-03-10T10:23:09.778Z"
   },
   {
    "duration": 119,
    "start_time": "2022-03-10T10:26:51.322Z"
   },
   {
    "duration": 1899,
    "start_time": "2022-03-10T10:35:58.511Z"
   },
   {
    "duration": 5,
    "start_time": "2022-03-10T10:36:15.506Z"
   },
   {
    "duration": 4,
    "start_time": "2022-03-10T10:36:23.347Z"
   },
   {
    "duration": 6,
    "start_time": "2022-03-10T10:36:37.385Z"
   },
   {
    "duration": 6,
    "start_time": "2022-03-10T10:37:05.259Z"
   },
   {
    "duration": 286,
    "start_time": "2022-03-10T10:45:02.650Z"
   },
   {
    "duration": 56,
    "start_time": "2022-03-10T10:45:10.806Z"
   },
   {
    "duration": 17,
    "start_time": "2022-03-10T10:45:10.863Z"
   },
   {
    "duration": 21,
    "start_time": "2022-03-10T10:45:10.882Z"
   },
   {
    "duration": 19,
    "start_time": "2022-03-10T10:45:10.904Z"
   },
   {
    "duration": 16,
    "start_time": "2022-03-10T10:45:10.925Z"
   },
   {
    "duration": 60,
    "start_time": "2022-03-10T10:45:10.943Z"
   },
   {
    "duration": 22,
    "start_time": "2022-03-10T10:45:11.005Z"
   },
   {
    "duration": 19,
    "start_time": "2022-03-10T10:45:11.029Z"
   },
   {
    "duration": 8,
    "start_time": "2022-03-10T10:45:11.050Z"
   },
   {
    "duration": 43,
    "start_time": "2022-03-10T10:45:11.059Z"
   },
   {
    "duration": 295,
    "start_time": "2022-03-10T10:45:11.104Z"
   },
   {
    "duration": 209,
    "start_time": "2022-03-10T10:45:11.191Z"
   },
   {
    "duration": 203,
    "start_time": "2022-03-10T10:45:11.199Z"
   },
   {
    "duration": 200,
    "start_time": "2022-03-10T10:45:11.202Z"
   },
   {
    "duration": 198,
    "start_time": "2022-03-10T10:45:11.206Z"
   },
   {
    "duration": 17,
    "start_time": "2022-03-10T10:45:32.916Z"
   },
   {
    "duration": 16,
    "start_time": "2022-03-10T10:47:29.033Z"
   },
   {
    "duration": 7,
    "start_time": "2022-03-10T10:48:12.295Z"
   },
   {
    "duration": 5,
    "start_time": "2022-03-10T10:48:36.311Z"
   },
   {
    "duration": 17,
    "start_time": "2022-03-10T10:49:35.530Z"
   },
   {
    "duration": 16,
    "start_time": "2022-03-10T10:51:17.503Z"
   },
   {
    "duration": 66,
    "start_time": "2022-03-10T10:51:51.583Z"
   },
   {
    "duration": 13,
    "start_time": "2022-03-10T10:51:51.651Z"
   },
   {
    "duration": 8,
    "start_time": "2022-03-10T10:51:51.665Z"
   },
   {
    "duration": 40,
    "start_time": "2022-03-10T10:51:51.675Z"
   },
   {
    "duration": 18,
    "start_time": "2022-03-10T10:51:51.717Z"
   },
   {
    "duration": 34,
    "start_time": "2022-03-10T10:51:51.736Z"
   },
   {
    "duration": 40,
    "start_time": "2022-03-10T10:51:51.771Z"
   },
   {
    "duration": 13,
    "start_time": "2022-03-10T10:51:51.814Z"
   },
   {
    "duration": 8,
    "start_time": "2022-03-10T10:51:51.828Z"
   },
   {
    "duration": 6,
    "start_time": "2022-03-10T10:51:51.838Z"
   },
   {
    "duration": 16,
    "start_time": "2022-03-10T10:51:51.845Z"
   },
   {
    "duration": 52,
    "start_time": "2022-03-10T10:51:51.863Z"
   },
   {
    "duration": 19,
    "start_time": "2022-03-10T10:51:51.917Z"
   },
   {
    "duration": 1412,
    "start_time": "2022-03-10T10:51:51.938Z"
   },
   {
    "duration": 802,
    "start_time": "2022-03-10T10:51:52.550Z"
   },
   {
    "duration": 313,
    "start_time": "2022-03-10T10:58:20.314Z"
   },
   {
    "duration": 377,
    "start_time": "2022-03-10T10:59:24.818Z"
   },
   {
    "duration": 497,
    "start_time": "2022-03-10T11:01:11.493Z"
   },
   {
    "duration": 307,
    "start_time": "2022-03-10T11:04:16.854Z"
   },
   {
    "duration": 53,
    "start_time": "2022-03-10T11:04:25.089Z"
   },
   {
    "duration": 13,
    "start_time": "2022-03-10T11:04:25.144Z"
   },
   {
    "duration": 8,
    "start_time": "2022-03-10T11:04:25.158Z"
   },
   {
    "duration": 42,
    "start_time": "2022-03-10T11:04:25.168Z"
   },
   {
    "duration": 15,
    "start_time": "2022-03-10T11:04:25.211Z"
   },
   {
    "duration": 35,
    "start_time": "2022-03-10T11:04:25.227Z"
   },
   {
    "duration": 44,
    "start_time": "2022-03-10T11:04:25.264Z"
   },
   {
    "duration": 12,
    "start_time": "2022-03-10T11:04:25.310Z"
   },
   {
    "duration": 6,
    "start_time": "2022-03-10T11:04:25.324Z"
   },
   {
    "duration": 5,
    "start_time": "2022-03-10T11:04:25.332Z"
   },
   {
    "duration": 16,
    "start_time": "2022-03-10T11:04:25.339Z"
   },
   {
    "duration": 7,
    "start_time": "2022-03-10T11:04:25.357Z"
   },
   {
    "duration": 37,
    "start_time": "2022-03-10T11:04:25.366Z"
   },
   {
    "duration": 11,
    "start_time": "2022-03-10T11:04:25.404Z"
   },
   {
    "duration": 18,
    "start_time": "2022-03-10T11:04:25.416Z"
   },
   {
    "duration": 1375,
    "start_time": "2022-03-10T11:04:25.435Z"
   },
   {
    "duration": 864,
    "start_time": "2022-03-10T11:04:25.947Z"
   },
   {
    "duration": 93,
    "start_time": "2022-03-10T11:16:39.913Z"
   },
   {
    "duration": 53,
    "start_time": "2022-03-10T11:16:44.841Z"
   },
   {
    "duration": 13,
    "start_time": "2022-03-10T11:16:44.896Z"
   },
   {
    "duration": 8,
    "start_time": "2022-03-10T11:16:44.912Z"
   },
   {
    "duration": 19,
    "start_time": "2022-03-10T11:16:44.922Z"
   },
   {
    "duration": 17,
    "start_time": "2022-03-10T11:16:44.943Z"
   },
   {
    "duration": 73,
    "start_time": "2022-03-10T11:16:44.961Z"
   },
   {
    "duration": 16,
    "start_time": "2022-03-10T11:16:45.036Z"
   },
   {
    "duration": 12,
    "start_time": "2022-03-10T11:16:45.054Z"
   },
   {
    "duration": 8,
    "start_time": "2022-03-10T11:16:45.067Z"
   },
   {
    "duration": 5,
    "start_time": "2022-03-10T11:16:45.101Z"
   },
   {
    "duration": 17,
    "start_time": "2022-03-10T11:16:45.107Z"
   },
   {
    "duration": 10,
    "start_time": "2022-03-10T11:16:45.125Z"
   },
   {
    "duration": 129,
    "start_time": "2022-03-10T11:16:45.136Z"
   },
   {
    "duration": 727,
    "start_time": "2022-03-10T11:16:44.540Z"
   },
   {
    "duration": 724,
    "start_time": "2022-03-10T11:16:44.543Z"
   },
   {
    "duration": 724,
    "start_time": "2022-03-10T11:16:44.545Z"
   },
   {
    "duration": 678,
    "start_time": "2022-03-10T11:16:44.592Z"
   },
   {
    "duration": 55,
    "start_time": "2022-03-10T11:18:09.561Z"
   },
   {
    "duration": 12,
    "start_time": "2022-03-10T11:18:09.618Z"
   },
   {
    "duration": 33,
    "start_time": "2022-03-10T11:18:09.632Z"
   },
   {
    "duration": 31,
    "start_time": "2022-03-10T11:18:09.666Z"
   },
   {
    "duration": 14,
    "start_time": "2022-03-10T11:18:09.699Z"
   },
   {
    "duration": 50,
    "start_time": "2022-03-10T11:18:09.715Z"
   },
   {
    "duration": 14,
    "start_time": "2022-03-10T11:18:09.767Z"
   },
   {
    "duration": 23,
    "start_time": "2022-03-10T11:18:09.783Z"
   },
   {
    "duration": 20,
    "start_time": "2022-03-10T11:18:09.808Z"
   },
   {
    "duration": 26,
    "start_time": "2022-03-10T11:18:09.829Z"
   },
   {
    "duration": 23,
    "start_time": "2022-03-10T11:18:09.857Z"
   },
   {
    "duration": 20,
    "start_time": "2022-03-10T11:18:09.881Z"
   },
   {
    "duration": 24,
    "start_time": "2022-03-10T11:18:09.902Z"
   },
   {
    "duration": 28,
    "start_time": "2022-03-10T11:18:09.927Z"
   },
   {
    "duration": 38,
    "start_time": "2022-03-10T11:18:09.956Z"
   },
   {
    "duration": 1422,
    "start_time": "2022-03-10T11:18:09.995Z"
   },
   {
    "duration": 571,
    "start_time": "2022-03-10T11:18:10.847Z"
   },
   {
    "duration": 57,
    "start_time": "2022-03-10T11:21:22.602Z"
   },
   {
    "duration": 15,
    "start_time": "2022-03-10T11:21:22.661Z"
   },
   {
    "duration": 24,
    "start_time": "2022-03-10T11:21:22.678Z"
   },
   {
    "duration": 18,
    "start_time": "2022-03-10T11:21:22.704Z"
   },
   {
    "duration": 15,
    "start_time": "2022-03-10T11:21:22.724Z"
   },
   {
    "duration": 60,
    "start_time": "2022-03-10T11:21:22.741Z"
   },
   {
    "duration": 15,
    "start_time": "2022-03-10T11:21:22.803Z"
   },
   {
    "duration": 13,
    "start_time": "2022-03-10T11:21:22.820Z"
   },
   {
    "duration": 6,
    "start_time": "2022-03-10T11:21:22.835Z"
   },
   {
    "duration": 6,
    "start_time": "2022-03-10T11:21:22.842Z"
   },
   {
    "duration": 108,
    "start_time": "2022-03-10T11:21:22.849Z"
   },
   {
    "duration": 561,
    "start_time": "2022-03-10T11:21:22.397Z"
   },
   {
    "duration": 558,
    "start_time": "2022-03-10T11:21:22.401Z"
   },
   {
    "duration": 553,
    "start_time": "2022-03-10T11:21:22.407Z"
   },
   {
    "duration": 548,
    "start_time": "2022-03-10T11:21:22.413Z"
   },
   {
    "duration": 543,
    "start_time": "2022-03-10T11:21:22.418Z"
   },
   {
    "duration": 540,
    "start_time": "2022-03-10T11:21:22.422Z"
   },
   {
    "duration": 614,
    "start_time": "2022-03-10T14:37:18.510Z"
   },
   {
    "duration": 11,
    "start_time": "2022-03-10T14:37:19.126Z"
   },
   {
    "duration": 20,
    "start_time": "2022-03-10T14:37:19.139Z"
   },
   {
    "duration": 34,
    "start_time": "2022-03-10T14:37:19.160Z"
   },
   {
    "duration": 18,
    "start_time": "2022-03-10T14:37:19.195Z"
   },
   {
    "duration": 40,
    "start_time": "2022-03-10T14:37:19.214Z"
   },
   {
    "duration": 15,
    "start_time": "2022-03-10T14:37:19.255Z"
   },
   {
    "duration": 12,
    "start_time": "2022-03-10T14:37:19.272Z"
   },
   {
    "duration": 22,
    "start_time": "2022-03-10T14:37:19.285Z"
   },
   {
    "duration": 6,
    "start_time": "2022-03-10T14:37:19.308Z"
   },
   {
    "duration": 18,
    "start_time": "2022-03-10T14:37:19.315Z"
   },
   {
    "duration": 23,
    "start_time": "2022-03-10T14:37:19.334Z"
   },
   {
    "duration": 8,
    "start_time": "2022-03-10T14:37:19.359Z"
   },
   {
    "duration": 19,
    "start_time": "2022-03-10T14:37:19.369Z"
   },
   {
    "duration": 35,
    "start_time": "2022-03-10T14:37:19.390Z"
   },
   {
    "duration": 18,
    "start_time": "2022-03-10T14:37:19.426Z"
   },
   {
    "duration": 67,
    "start_time": "2022-03-10T14:37:19.445Z"
   },
   {
    "duration": 18,
    "start_time": "2022-03-10T15:11:59.861Z"
   },
   {
    "duration": 16,
    "start_time": "2022-03-10T15:27:35.044Z"
   },
   {
    "duration": 19,
    "start_time": "2022-03-10T15:28:00.673Z"
   },
   {
    "duration": 2,
    "start_time": "2022-03-10T15:34:52.303Z"
   },
   {
    "duration": 20,
    "start_time": "2022-03-10T15:48:28.040Z"
   },
   {
    "duration": 19,
    "start_time": "2022-03-10T15:50:22.324Z"
   },
   {
    "duration": 17,
    "start_time": "2022-03-10T15:52:16.317Z"
   },
   {
    "duration": 17,
    "start_time": "2022-03-10T15:52:26.782Z"
   },
   {
    "duration": 22,
    "start_time": "2022-03-10T15:53:10.174Z"
   },
   {
    "duration": 22,
    "start_time": "2022-03-10T15:55:13.200Z"
   },
   {
    "duration": 21,
    "start_time": "2022-03-10T15:55:31.274Z"
   },
   {
    "duration": 20,
    "start_time": "2022-03-10T15:59:32.039Z"
   },
   {
    "duration": 23,
    "start_time": "2022-03-10T16:03:12.247Z"
   },
   {
    "duration": 20,
    "start_time": "2022-03-10T16:05:49.466Z"
   },
   {
    "duration": 53,
    "start_time": "2022-03-10T16:46:42.478Z"
   },
   {
    "duration": 13,
    "start_time": "2022-03-10T16:46:42.533Z"
   },
   {
    "duration": 8,
    "start_time": "2022-03-10T16:46:42.586Z"
   },
   {
    "duration": 17,
    "start_time": "2022-03-10T16:46:42.597Z"
   },
   {
    "duration": 22,
    "start_time": "2022-03-10T16:46:42.706Z"
   },
   {
    "duration": 52,
    "start_time": "2022-03-10T16:46:42.730Z"
   },
   {
    "duration": 37,
    "start_time": "2022-03-10T16:46:42.784Z"
   },
   {
    "duration": 14,
    "start_time": "2022-03-10T16:46:42.823Z"
   },
   {
    "duration": 7,
    "start_time": "2022-03-10T16:46:42.838Z"
   },
   {
    "duration": 6,
    "start_time": "2022-03-10T16:46:42.847Z"
   },
   {
    "duration": 8,
    "start_time": "2022-03-10T16:46:42.854Z"
   },
   {
    "duration": 10,
    "start_time": "2022-03-10T16:46:42.905Z"
   },
   {
    "duration": 9,
    "start_time": "2022-03-10T16:46:42.916Z"
   },
   {
    "duration": 11,
    "start_time": "2022-03-10T16:46:42.927Z"
   },
   {
    "duration": 18,
    "start_time": "2022-03-10T16:46:42.945Z"
   },
   {
    "duration": 44,
    "start_time": "2022-03-10T16:46:42.964Z"
   },
   {
    "duration": 25,
    "start_time": "2022-03-10T16:46:43.010Z"
   },
   {
    "duration": 27,
    "start_time": "2022-03-10T16:46:43.037Z"
   },
   {
    "duration": 27,
    "start_time": "2022-03-10T16:46:43.126Z"
   },
   {
    "duration": 24,
    "start_time": "2022-03-10T16:46:43.155Z"
   },
   {
    "duration": 546,
    "start_time": "2022-03-10T16:53:19.384Z"
   },
   {
    "duration": 529,
    "start_time": "2022-03-10T16:53:19.402Z"
   },
   {
    "duration": 520,
    "start_time": "2022-03-10T16:53:19.411Z"
   },
   {
    "duration": 452,
    "start_time": "2022-03-10T16:53:19.480Z"
   },
   {
    "duration": 446,
    "start_time": "2022-03-10T16:53:19.487Z"
   },
   {
    "duration": 442,
    "start_time": "2022-03-10T16:53:19.492Z"
   },
   {
    "duration": 437,
    "start_time": "2022-03-10T16:53:19.498Z"
   },
   {
    "duration": 434,
    "start_time": "2022-03-10T16:53:19.502Z"
   },
   {
    "duration": 425,
    "start_time": "2022-03-10T16:53:19.512Z"
   },
   {
    "duration": 419,
    "start_time": "2022-03-10T16:53:19.520Z"
   },
   {
    "duration": 362,
    "start_time": "2022-03-10T16:53:19.578Z"
   },
   {
    "duration": 357,
    "start_time": "2022-03-10T16:53:19.583Z"
   },
   {
    "duration": 353,
    "start_time": "2022-03-10T16:53:19.589Z"
   },
   {
    "duration": 349,
    "start_time": "2022-03-10T16:53:19.593Z"
   },
   {
    "duration": 345,
    "start_time": "2022-03-10T16:53:19.598Z"
   },
   {
    "duration": 337,
    "start_time": "2022-03-10T16:53:19.607Z"
   },
   {
    "duration": 335,
    "start_time": "2022-03-10T16:53:19.610Z"
   },
   {
    "duration": 311,
    "start_time": "2022-03-10T16:53:19.635Z"
   },
   {
    "duration": 309,
    "start_time": "2022-03-10T16:53:19.638Z"
   },
   {
    "duration": 272,
    "start_time": "2022-03-10T16:53:19.676Z"
   },
   {
    "duration": 7425,
    "start_time": "2022-03-10T16:53:33.729Z"
   },
   {
    "duration": 83,
    "start_time": "2022-03-10T16:53:47.950Z"
   },
   {
    "duration": 18,
    "start_time": "2022-03-10T16:53:48.035Z"
   },
   {
    "duration": 9,
    "start_time": "2022-03-10T16:53:48.055Z"
   },
   {
    "duration": 43,
    "start_time": "2022-03-10T16:53:48.066Z"
   },
   {
    "duration": 22,
    "start_time": "2022-03-10T16:53:48.111Z"
   },
   {
    "duration": 51,
    "start_time": "2022-03-10T16:53:48.134Z"
   },
   {
    "duration": 21,
    "start_time": "2022-03-10T16:53:48.205Z"
   },
   {
    "duration": 21,
    "start_time": "2022-03-10T16:53:48.228Z"
   },
   {
    "duration": 6,
    "start_time": "2022-03-10T16:53:48.251Z"
   },
   {
    "duration": 8,
    "start_time": "2022-03-10T16:53:48.258Z"
   },
   {
    "duration": 42,
    "start_time": "2022-03-10T16:53:48.267Z"
   },
   {
    "duration": 11,
    "start_time": "2022-03-10T16:53:48.310Z"
   },
   {
    "duration": 10,
    "start_time": "2022-03-10T16:53:48.322Z"
   },
   {
    "duration": 12,
    "start_time": "2022-03-10T16:53:48.333Z"
   },
   {
    "duration": 20,
    "start_time": "2022-03-10T16:53:48.347Z"
   },
   {
    "duration": 37,
    "start_time": "2022-03-10T16:53:48.369Z"
   },
   {
    "duration": 21,
    "start_time": "2022-03-10T16:53:48.408Z"
   },
   {
    "duration": 20,
    "start_time": "2022-03-10T16:53:48.430Z"
   },
   {
    "duration": 17,
    "start_time": "2022-03-10T16:53:48.451Z"
   },
   {
    "duration": 45,
    "start_time": "2022-03-10T16:53:48.469Z"
   },
   {
    "duration": 8,
    "start_time": "2022-03-10T16:55:29.550Z"
   },
   {
    "duration": 33,
    "start_time": "2022-03-10T16:59:58.368Z"
   },
   {
    "duration": 7303,
    "start_time": "2022-03-10T17:01:36.131Z"
   },
   {
    "duration": 59,
    "start_time": "2022-03-10T17:01:50.954Z"
   },
   {
    "duration": 15,
    "start_time": "2022-03-10T17:01:51.015Z"
   },
   {
    "duration": 9,
    "start_time": "2022-03-10T17:01:51.032Z"
   },
   {
    "duration": 20,
    "start_time": "2022-03-10T17:01:51.043Z"
   },
   {
    "duration": 48,
    "start_time": "2022-03-10T17:01:51.065Z"
   },
   {
    "duration": 40,
    "start_time": "2022-03-10T17:01:51.115Z"
   },
   {
    "duration": 16,
    "start_time": "2022-03-10T17:01:51.157Z"
   },
   {
    "duration": 14,
    "start_time": "2022-03-10T17:01:51.205Z"
   },
   {
    "duration": 8,
    "start_time": "2022-03-10T17:01:51.220Z"
   },
   {
    "duration": 8,
    "start_time": "2022-03-10T17:01:51.229Z"
   },
   {
    "duration": 8,
    "start_time": "2022-03-10T17:01:51.238Z"
   },
   {
    "duration": 10,
    "start_time": "2022-03-10T17:01:51.248Z"
   },
   {
    "duration": 50,
    "start_time": "2022-03-10T17:01:51.260Z"
   },
   {
    "duration": 11,
    "start_time": "2022-03-10T17:01:51.312Z"
   },
   {
    "duration": 20,
    "start_time": "2022-03-10T17:01:51.325Z"
   },
   {
    "duration": 20,
    "start_time": "2022-03-10T17:01:51.347Z"
   },
   {
    "duration": 50,
    "start_time": "2022-03-10T17:01:51.369Z"
   },
   {
    "duration": 20,
    "start_time": "2022-03-10T17:01:51.420Z"
   },
   {
    "duration": 19,
    "start_time": "2022-03-10T17:01:51.442Z"
   },
   {
    "duration": 49,
    "start_time": "2022-03-10T17:01:51.462Z"
   },
   {
    "duration": 7442,
    "start_time": "2022-03-10T17:02:53.812Z"
   },
   {
    "duration": 325,
    "start_time": "2022-03-10T17:08:20.324Z"
   },
   {
    "duration": 66,
    "start_time": "2022-03-10T17:16:31.799Z"
   },
   {
    "duration": 13,
    "start_time": "2022-03-10T17:16:31.867Z"
   },
   {
    "duration": 7,
    "start_time": "2022-03-10T17:16:31.882Z"
   },
   {
    "duration": 18,
    "start_time": "2022-03-10T17:16:31.891Z"
   },
   {
    "duration": 14,
    "start_time": "2022-03-10T17:16:31.911Z"
   },
   {
    "duration": 38,
    "start_time": "2022-03-10T17:16:31.926Z"
   },
   {
    "duration": 42,
    "start_time": "2022-03-10T17:16:31.965Z"
   },
   {
    "duration": 11,
    "start_time": "2022-03-10T17:16:32.009Z"
   },
   {
    "duration": 7,
    "start_time": "2022-03-10T17:16:32.022Z"
   },
   {
    "duration": 6,
    "start_time": "2022-03-10T17:16:32.030Z"
   },
   {
    "duration": 7,
    "start_time": "2022-03-10T17:16:32.038Z"
   },
   {
    "duration": 9,
    "start_time": "2022-03-10T17:16:32.047Z"
   },
   {
    "duration": 9,
    "start_time": "2022-03-10T17:16:32.057Z"
   },
   {
    "duration": 44,
    "start_time": "2022-03-10T17:16:32.068Z"
   },
   {
    "duration": 19,
    "start_time": "2022-03-10T17:16:32.113Z"
   },
   {
    "duration": 17,
    "start_time": "2022-03-10T17:16:32.133Z"
   },
   {
    "duration": 19,
    "start_time": "2022-03-10T17:16:32.151Z"
   },
   {
    "duration": 38,
    "start_time": "2022-03-10T17:16:32.171Z"
   },
   {
    "duration": 19,
    "start_time": "2022-03-10T17:16:32.210Z"
   },
   {
    "duration": 18,
    "start_time": "2022-03-10T17:16:32.230Z"
   },
   {
    "duration": 14,
    "start_time": "2022-03-19T15:49:52.608Z"
   },
   {
    "duration": 4,
    "start_time": "2022-03-19T15:50:10.635Z"
   },
   {
    "duration": 70,
    "start_time": "2022-03-20T11:25:21.254Z"
   },
   {
    "duration": 64,
    "start_time": "2022-03-20T11:30:09.944Z"
   },
   {
    "duration": 477,
    "start_time": "2022-03-20T11:34:52.125Z"
   },
   {
    "duration": 5,
    "start_time": "2022-03-20T11:34:52.604Z"
   },
   {
    "duration": 0,
    "start_time": "2022-03-20T11:34:52.612Z"
   },
   {
    "duration": 0,
    "start_time": "2022-03-20T11:34:52.613Z"
   },
   {
    "duration": 0,
    "start_time": "2022-03-20T11:34:52.614Z"
   },
   {
    "duration": 0,
    "start_time": "2022-03-20T11:34:52.616Z"
   },
   {
    "duration": 0,
    "start_time": "2022-03-20T11:34:52.617Z"
   },
   {
    "duration": 0,
    "start_time": "2022-03-20T11:34:52.618Z"
   },
   {
    "duration": 0,
    "start_time": "2022-03-20T11:34:52.619Z"
   },
   {
    "duration": 0,
    "start_time": "2022-03-20T11:34:52.621Z"
   },
   {
    "duration": 0,
    "start_time": "2022-03-20T11:34:52.622Z"
   },
   {
    "duration": 0,
    "start_time": "2022-03-20T11:34:52.623Z"
   },
   {
    "duration": 0,
    "start_time": "2022-03-20T11:34:52.624Z"
   },
   {
    "duration": 0,
    "start_time": "2022-03-20T11:34:52.626Z"
   },
   {
    "duration": 0,
    "start_time": "2022-03-20T11:34:52.627Z"
   },
   {
    "duration": 0,
    "start_time": "2022-03-20T11:34:52.628Z"
   },
   {
    "duration": 0,
    "start_time": "2022-03-20T11:34:52.629Z"
   },
   {
    "duration": 0,
    "start_time": "2022-03-20T11:34:52.630Z"
   },
   {
    "duration": 0,
    "start_time": "2022-03-20T11:34:52.631Z"
   },
   {
    "duration": 0,
    "start_time": "2022-03-20T11:34:52.632Z"
   },
   {
    "duration": 67,
    "start_time": "2022-03-20T11:35:17.971Z"
   },
   {
    "duration": 4,
    "start_time": "2022-03-20T11:35:18.040Z"
   },
   {
    "duration": 0,
    "start_time": "2022-03-20T11:35:18.046Z"
   },
   {
    "duration": 0,
    "start_time": "2022-03-20T11:35:18.048Z"
   },
   {
    "duration": 0,
    "start_time": "2022-03-20T11:35:18.049Z"
   },
   {
    "duration": 0,
    "start_time": "2022-03-20T11:35:18.050Z"
   },
   {
    "duration": 0,
    "start_time": "2022-03-20T11:35:18.051Z"
   },
   {
    "duration": 0,
    "start_time": "2022-03-20T11:35:18.053Z"
   },
   {
    "duration": 0,
    "start_time": "2022-03-20T11:35:18.054Z"
   },
   {
    "duration": 0,
    "start_time": "2022-03-20T11:35:18.054Z"
   },
   {
    "duration": 0,
    "start_time": "2022-03-20T11:35:18.055Z"
   },
   {
    "duration": 0,
    "start_time": "2022-03-20T11:35:18.057Z"
   },
   {
    "duration": 63,
    "start_time": "2022-03-20T11:35:18.060Z"
   },
   {
    "duration": 21,
    "start_time": "2022-03-20T11:35:18.125Z"
   },
   {
    "duration": 77,
    "start_time": "2022-03-20T11:35:18.149Z"
   },
   {
    "duration": 23,
    "start_time": "2022-03-20T11:35:18.228Z"
   },
   {
    "duration": 57,
    "start_time": "2022-03-20T11:35:18.252Z"
   },
   {
    "duration": 22,
    "start_time": "2022-03-20T11:35:18.311Z"
   },
   {
    "duration": 21,
    "start_time": "2022-03-20T11:35:18.334Z"
   },
   {
    "duration": 21,
    "start_time": "2022-03-20T11:35:18.357Z"
   },
   {
    "duration": 79,
    "start_time": "2022-03-20T11:35:48.679Z"
   },
   {
    "duration": 1576,
    "start_time": "2022-03-20T11:35:48.760Z"
   },
   {
    "duration": 1,
    "start_time": "2022-03-20T11:35:50.339Z"
   },
   {
    "duration": 0,
    "start_time": "2022-03-20T11:35:50.341Z"
   },
   {
    "duration": 0,
    "start_time": "2022-03-20T11:35:50.342Z"
   },
   {
    "duration": 0,
    "start_time": "2022-03-20T11:35:50.344Z"
   },
   {
    "duration": 0,
    "start_time": "2022-03-20T11:35:50.345Z"
   },
   {
    "duration": 0,
    "start_time": "2022-03-20T11:35:50.347Z"
   },
   {
    "duration": 0,
    "start_time": "2022-03-20T11:35:50.348Z"
   },
   {
    "duration": 0,
    "start_time": "2022-03-20T11:35:50.350Z"
   },
   {
    "duration": 0,
    "start_time": "2022-03-20T11:35:50.351Z"
   },
   {
    "duration": 0,
    "start_time": "2022-03-20T11:35:50.353Z"
   },
   {
    "duration": 0,
    "start_time": "2022-03-20T11:35:50.354Z"
   },
   {
    "duration": 0,
    "start_time": "2022-03-20T11:35:50.355Z"
   },
   {
    "duration": 0,
    "start_time": "2022-03-20T11:35:50.357Z"
   },
   {
    "duration": 0,
    "start_time": "2022-03-20T11:35:50.359Z"
   },
   {
    "duration": 0,
    "start_time": "2022-03-20T11:35:50.360Z"
   },
   {
    "duration": 0,
    "start_time": "2022-03-20T11:35:50.361Z"
   },
   {
    "duration": 0,
    "start_time": "2022-03-20T11:35:50.363Z"
   },
   {
    "duration": 0,
    "start_time": "2022-03-20T11:35:50.364Z"
   },
   {
    "duration": 72,
    "start_time": "2022-03-20T11:40:39.486Z"
   },
   {
    "duration": 1254,
    "start_time": "2022-03-20T11:40:39.560Z"
   },
   {
    "duration": 0,
    "start_time": "2022-03-20T11:40:40.816Z"
   },
   {
    "duration": 0,
    "start_time": "2022-03-20T11:40:40.818Z"
   },
   {
    "duration": 0,
    "start_time": "2022-03-20T11:40:40.819Z"
   },
   {
    "duration": 0,
    "start_time": "2022-03-20T11:40:40.821Z"
   },
   {
    "duration": 0,
    "start_time": "2022-03-20T11:40:40.822Z"
   },
   {
    "duration": 0,
    "start_time": "2022-03-20T11:40:40.824Z"
   },
   {
    "duration": 0,
    "start_time": "2022-03-20T11:40:40.826Z"
   },
   {
    "duration": 0,
    "start_time": "2022-03-20T11:40:40.827Z"
   },
   {
    "duration": 0,
    "start_time": "2022-03-20T11:40:40.828Z"
   },
   {
    "duration": 0,
    "start_time": "2022-03-20T11:40:40.830Z"
   },
   {
    "duration": 0,
    "start_time": "2022-03-20T11:40:40.832Z"
   },
   {
    "duration": 0,
    "start_time": "2022-03-20T11:40:40.834Z"
   },
   {
    "duration": 0,
    "start_time": "2022-03-20T11:40:40.835Z"
   },
   {
    "duration": 0,
    "start_time": "2022-03-20T11:40:40.836Z"
   },
   {
    "duration": 0,
    "start_time": "2022-03-20T11:40:40.837Z"
   },
   {
    "duration": 0,
    "start_time": "2022-03-20T11:40:40.838Z"
   },
   {
    "duration": 0,
    "start_time": "2022-03-20T11:40:40.839Z"
   },
   {
    "duration": 0,
    "start_time": "2022-03-20T11:40:40.840Z"
   },
   {
    "duration": 7,
    "start_time": "2022-03-20T11:42:48.074Z"
   },
   {
    "duration": 72,
    "start_time": "2022-03-20T11:42:53.516Z"
   },
   {
    "duration": 19,
    "start_time": "2022-03-20T11:42:53.591Z"
   },
   {
    "duration": 1,
    "start_time": "2022-03-20T11:42:53.612Z"
   },
   {
    "duration": 0,
    "start_time": "2022-03-20T11:42:53.614Z"
   },
   {
    "duration": 0,
    "start_time": "2022-03-20T11:42:53.616Z"
   },
   {
    "duration": 0,
    "start_time": "2022-03-20T11:42:53.617Z"
   },
   {
    "duration": 0,
    "start_time": "2022-03-20T11:42:53.618Z"
   },
   {
    "duration": 0,
    "start_time": "2022-03-20T11:42:53.620Z"
   },
   {
    "duration": 0,
    "start_time": "2022-03-20T11:42:53.620Z"
   },
   {
    "duration": 0,
    "start_time": "2022-03-20T11:42:53.622Z"
   },
   {
    "duration": 0,
    "start_time": "2022-03-20T11:42:53.623Z"
   },
   {
    "duration": 0,
    "start_time": "2022-03-20T11:42:53.625Z"
   },
   {
    "duration": 0,
    "start_time": "2022-03-20T11:42:53.626Z"
   },
   {
    "duration": 0,
    "start_time": "2022-03-20T11:42:53.627Z"
   },
   {
    "duration": 0,
    "start_time": "2022-03-20T11:42:53.629Z"
   },
   {
    "duration": 82,
    "start_time": "2022-03-20T11:42:53.632Z"
   },
   {
    "duration": 24,
    "start_time": "2022-03-20T11:42:53.715Z"
   },
   {
    "duration": 20,
    "start_time": "2022-03-20T11:42:53.741Z"
   },
   {
    "duration": 54,
    "start_time": "2022-03-20T11:42:53.763Z"
   },
   {
    "duration": 0,
    "start_time": "2022-03-20T11:42:53.818Z"
   },
   {
    "duration": 12,
    "start_time": "2022-03-20T11:43:08.161Z"
   },
   {
    "duration": 1328,
    "start_time": "2022-03-20T11:45:45.802Z"
   },
   {
    "duration": 4,
    "start_time": "2022-03-20T11:48:06.209Z"
   },
   {
    "duration": 71,
    "start_time": "2022-03-20T11:48:20.762Z"
   },
   {
    "duration": 4,
    "start_time": "2022-03-20T11:49:13.123Z"
   },
   {
    "duration": 13,
    "start_time": "2022-03-20T11:50:50.021Z"
   },
   {
    "duration": 14,
    "start_time": "2022-03-20T11:51:08.222Z"
   },
   {
    "duration": 74,
    "start_time": "2022-03-20T11:55:20.783Z"
   },
   {
    "duration": 24,
    "start_time": "2022-03-20T11:56:22.424Z"
   },
   {
    "duration": 24,
    "start_time": "2022-03-20T11:56:57.254Z"
   },
   {
    "duration": 18,
    "start_time": "2022-03-20T11:57:42.094Z"
   },
   {
    "duration": 26,
    "start_time": "2022-03-20T11:59:04.170Z"
   },
   {
    "duration": 58,
    "start_time": "2022-03-20T11:59:04.198Z"
   },
   {
    "duration": 59,
    "start_time": "2022-03-20T11:59:04.257Z"
   },
   {
    "duration": 31,
    "start_time": "2022-03-20T11:59:04.318Z"
   },
   {
    "duration": 48,
    "start_time": "2022-03-20T11:59:04.351Z"
   },
   {
    "duration": 20,
    "start_time": "2022-03-20T11:59:04.401Z"
   },
   {
    "duration": 62,
    "start_time": "2022-03-20T11:59:49.171Z"
   },
   {
    "duration": 68,
    "start_time": "2022-03-20T12:00:12.002Z"
   },
   {
    "duration": 13,
    "start_time": "2022-03-20T12:00:12.072Z"
   },
   {
    "duration": 30,
    "start_time": "2022-03-20T12:00:12.087Z"
   },
   {
    "duration": 28,
    "start_time": "2022-03-20T12:00:12.119Z"
   },
   {
    "duration": 18,
    "start_time": "2022-03-20T12:00:12.149Z"
   },
   {
    "duration": 79,
    "start_time": "2022-03-20T12:00:12.169Z"
   },
   {
    "duration": 19,
    "start_time": "2022-03-20T12:00:12.250Z"
   },
   {
    "duration": 48,
    "start_time": "2022-03-20T12:00:12.271Z"
   },
   {
    "duration": 7,
    "start_time": "2022-03-20T12:00:12.321Z"
   },
   {
    "duration": 6,
    "start_time": "2022-03-20T12:00:12.331Z"
   },
   {
    "duration": 8,
    "start_time": "2022-03-20T12:00:12.338Z"
   },
   {
    "duration": 12,
    "start_time": "2022-03-20T12:00:12.347Z"
   },
   {
    "duration": 53,
    "start_time": "2022-03-20T12:00:12.361Z"
   },
   {
    "duration": 12,
    "start_time": "2022-03-20T12:00:12.416Z"
   },
   {
    "duration": 22,
    "start_time": "2022-03-20T12:00:12.430Z"
   },
   {
    "duration": 19,
    "start_time": "2022-03-20T12:00:12.453Z"
   },
   {
    "duration": 55,
    "start_time": "2022-03-20T12:00:12.474Z"
   },
   {
    "duration": 19,
    "start_time": "2022-03-20T12:00:12.531Z"
   },
   {
    "duration": 20,
    "start_time": "2022-03-20T12:00:12.552Z"
   },
   {
    "duration": 54,
    "start_time": "2022-03-20T12:00:12.574Z"
   },
   {
    "duration": 8,
    "start_time": "2022-03-20T12:26:37.214Z"
   },
   {
    "duration": 62,
    "start_time": "2022-03-20T12:44:28.867Z"
   },
   {
    "duration": 62,
    "start_time": "2022-03-20T12:48:23.188Z"
   },
   {
    "duration": 22,
    "start_time": "2022-03-20T12:48:55.591Z"
   },
   {
    "duration": 24,
    "start_time": "2022-03-20T12:49:23.101Z"
   },
   {
    "duration": 22,
    "start_time": "2022-03-20T12:49:37.953Z"
   },
   {
    "duration": 21,
    "start_time": "2022-03-20T12:49:48.827Z"
   },
   {
    "duration": 35,
    "start_time": "2022-03-20T12:54:52.713Z"
   },
   {
    "duration": 72,
    "start_time": "2022-03-20T12:57:11.343Z"
   },
   {
    "duration": 17,
    "start_time": "2022-03-20T12:57:11.418Z"
   },
   {
    "duration": 9,
    "start_time": "2022-03-20T12:57:11.436Z"
   },
   {
    "duration": 25,
    "start_time": "2022-03-20T12:57:11.447Z"
   },
   {
    "duration": 27,
    "start_time": "2022-03-20T12:57:11.509Z"
   },
   {
    "duration": 43,
    "start_time": "2022-03-20T12:57:11.538Z"
   },
   {
    "duration": 52,
    "start_time": "2022-03-20T12:57:11.583Z"
   },
   {
    "duration": 15,
    "start_time": "2022-03-20T12:57:11.637Z"
   },
   {
    "duration": 10,
    "start_time": "2022-03-20T12:57:11.653Z"
   },
   {
    "duration": 53,
    "start_time": "2022-03-20T12:57:11.665Z"
   },
   {
    "duration": 7,
    "start_time": "2022-03-20T12:57:11.721Z"
   },
   {
    "duration": 7,
    "start_time": "2022-03-20T12:57:11.729Z"
   },
   {
    "duration": 14,
    "start_time": "2022-03-20T12:57:11.737Z"
   },
   {
    "duration": 65,
    "start_time": "2022-03-20T12:57:11.753Z"
   },
   {
    "duration": 15,
    "start_time": "2022-03-20T12:57:11.821Z"
   },
   {
    "duration": 18,
    "start_time": "2022-03-20T12:57:11.838Z"
   },
   {
    "duration": 23,
    "start_time": "2022-03-20T12:57:11.858Z"
   },
   {
    "duration": 32,
    "start_time": "2022-03-20T12:57:11.916Z"
   },
   {
    "duration": 0,
    "start_time": "2022-03-20T12:57:11.949Z"
   },
   {
    "duration": 0,
    "start_time": "2022-03-20T12:57:11.951Z"
   },
   {
    "duration": 0,
    "start_time": "2022-03-20T12:57:11.952Z"
   },
   {
    "duration": 21,
    "start_time": "2022-03-20T12:58:37.693Z"
   },
   {
    "duration": 73,
    "start_time": "2022-03-20T13:00:11.439Z"
   },
   {
    "duration": 26,
    "start_time": "2022-03-20T13:02:28.810Z"
   },
   {
    "duration": 18,
    "start_time": "2022-03-20T13:03:17.669Z"
   },
   {
    "duration": 24,
    "start_time": "2022-03-20T13:03:55.306Z"
   },
   {
    "duration": 81,
    "start_time": "2022-03-20T13:03:59.564Z"
   },
   {
    "duration": 13,
    "start_time": "2022-03-20T13:03:59.646Z"
   },
   {
    "duration": 9,
    "start_time": "2022-03-20T13:03:59.661Z"
   },
   {
    "duration": 51,
    "start_time": "2022-03-20T13:03:59.672Z"
   },
   {
    "duration": 18,
    "start_time": "2022-03-20T13:03:59.726Z"
   },
   {
    "duration": 82,
    "start_time": "2022-03-20T13:03:59.746Z"
   },
   {
    "duration": 19,
    "start_time": "2022-03-20T13:03:59.830Z"
   },
   {
    "duration": 14,
    "start_time": "2022-03-20T13:03:59.850Z"
   },
   {
    "duration": 47,
    "start_time": "2022-03-20T13:03:59.866Z"
   },
   {
    "duration": 12,
    "start_time": "2022-03-20T13:03:59.916Z"
   },
   {
    "duration": 14,
    "start_time": "2022-03-20T13:03:59.929Z"
   },
   {
    "duration": 8,
    "start_time": "2022-03-20T13:03:59.945Z"
   },
   {
    "duration": 62,
    "start_time": "2022-03-20T13:03:59.955Z"
   },
   {
    "duration": 19,
    "start_time": "2022-03-20T13:04:00.018Z"
   },
   {
    "duration": 14,
    "start_time": "2022-03-20T13:04:00.040Z"
   },
   {
    "duration": 26,
    "start_time": "2022-03-20T13:04:00.056Z"
   },
   {
    "duration": 27,
    "start_time": "2022-03-20T13:04:00.111Z"
   },
   {
    "duration": 18,
    "start_time": "2022-03-20T13:04:00.139Z"
   },
   {
    "duration": 0,
    "start_time": "2022-03-20T13:04:00.159Z"
   },
   {
    "duration": 0,
    "start_time": "2022-03-20T13:04:00.160Z"
   },
   {
    "duration": 0,
    "start_time": "2022-03-20T13:04:00.162Z"
   },
   {
    "duration": 18,
    "start_time": "2022-03-20T13:04:46.982Z"
   },
   {
    "duration": 18,
    "start_time": "2022-03-20T13:05:30.451Z"
   },
   {
    "duration": 24,
    "start_time": "2022-03-20T13:10:00.980Z"
   },
   {
    "duration": 16,
    "start_time": "2022-03-20T13:19:14.981Z"
   },
   {
    "duration": 56,
    "start_time": "2022-03-20T13:20:50.626Z"
   },
   {
    "duration": 26,
    "start_time": "2022-03-20T13:21:24.360Z"
   },
   {
    "duration": 67,
    "start_time": "2022-03-20T13:25:28.814Z"
   },
   {
    "duration": 1110,
    "start_time": "2022-03-20T13:25:39.449Z"
   },
   {
    "duration": 1652,
    "start_time": "2022-03-20T13:26:04.052Z"
   },
   {
    "duration": 1083,
    "start_time": "2022-03-20T13:26:34.886Z"
   },
   {
    "duration": 23,
    "start_time": "2022-03-20T13:27:39.127Z"
   },
   {
    "duration": 1172,
    "start_time": "2022-03-20T13:28:29.683Z"
   },
   {
    "duration": 85,
    "start_time": "2022-03-20T13:29:45.021Z"
   },
   {
    "duration": 1129,
    "start_time": "2022-03-20T13:30:15.844Z"
   },
   {
    "duration": 28,
    "start_time": "2022-03-20T13:38:09.628Z"
   },
   {
    "duration": 8,
    "start_time": "2022-03-20T13:39:49.052Z"
   },
   {
    "duration": 28,
    "start_time": "2022-03-20T13:40:28.277Z"
   },
   {
    "duration": 10,
    "start_time": "2022-03-20T13:40:55.082Z"
   },
   {
    "duration": 18,
    "start_time": "2022-03-20T13:41:55.801Z"
   },
   {
    "duration": 9,
    "start_time": "2022-03-20T13:42:20.124Z"
   },
   {
    "duration": 22,
    "start_time": "2022-03-20T13:42:32.144Z"
   },
   {
    "duration": 18,
    "start_time": "2022-03-20T13:42:59.576Z"
   },
   {
    "duration": 8,
    "start_time": "2022-03-20T13:43:29.386Z"
   },
   {
    "duration": 23,
    "start_time": "2022-03-20T13:43:44.517Z"
   },
   {
    "duration": 23,
    "start_time": "2022-03-20T13:45:14.725Z"
   },
   {
    "duration": 77,
    "start_time": "2022-03-20T13:45:39.386Z"
   },
   {
    "duration": 13,
    "start_time": "2022-03-20T13:45:39.465Z"
   },
   {
    "duration": 9,
    "start_time": "2022-03-20T13:45:39.479Z"
   },
   {
    "duration": 35,
    "start_time": "2022-03-20T13:45:39.509Z"
   },
   {
    "duration": 18,
    "start_time": "2022-03-20T13:45:39.545Z"
   },
   {
    "duration": 86,
    "start_time": "2022-03-20T13:45:39.564Z"
   },
   {
    "duration": 19,
    "start_time": "2022-03-20T13:45:39.652Z"
   },
   {
    "duration": 57,
    "start_time": "2022-03-20T13:45:39.672Z"
   },
   {
    "duration": 9,
    "start_time": "2022-03-20T13:45:39.731Z"
   },
   {
    "duration": 6,
    "start_time": "2022-03-20T13:45:39.742Z"
   },
   {
    "duration": 8,
    "start_time": "2022-03-20T13:45:39.750Z"
   },
   {
    "duration": 7,
    "start_time": "2022-03-20T13:45:39.760Z"
   },
   {
    "duration": 21,
    "start_time": "2022-03-20T13:45:39.812Z"
   },
   {
    "duration": 12,
    "start_time": "2022-03-20T13:45:39.834Z"
   },
   {
    "duration": 11,
    "start_time": "2022-03-20T13:45:39.849Z"
   },
   {
    "duration": 47,
    "start_time": "2022-03-20T13:45:39.862Z"
   },
   {
    "duration": 30,
    "start_time": "2022-03-20T13:45:39.913Z"
   },
   {
    "duration": 23,
    "start_time": "2022-03-20T13:45:39.945Z"
   },
   {
    "duration": 45,
    "start_time": "2022-03-20T13:45:39.970Z"
   },
   {
    "duration": 27,
    "start_time": "2022-03-20T13:45:40.017Z"
   },
   {
    "duration": 21,
    "start_time": "2022-03-20T13:45:40.046Z"
   },
   {
    "duration": 19,
    "start_time": "2022-03-20T14:06:00.764Z"
   },
   {
    "duration": 30,
    "start_time": "2022-03-20T14:07:39.802Z"
   },
   {
    "duration": 20,
    "start_time": "2022-03-20T14:08:00.353Z"
   },
   {
    "duration": 1418,
    "start_time": "2022-03-20T14:08:37.645Z"
   },
   {
    "duration": 18,
    "start_time": "2022-03-20T14:08:58.230Z"
   },
   {
    "duration": 17,
    "start_time": "2022-03-20T14:09:15.590Z"
   },
   {
    "duration": 66,
    "start_time": "2022-03-20T14:09:50.544Z"
   },
   {
    "duration": 1375,
    "start_time": "2022-03-20T14:11:53.439Z"
   },
   {
    "duration": 1181,
    "start_time": "2022-03-20T14:12:29.274Z"
   },
   {
    "duration": 31,
    "start_time": "2022-03-20T14:13:50.321Z"
   },
   {
    "duration": 28,
    "start_time": "2022-03-20T14:14:15.274Z"
   },
   {
    "duration": 1196,
    "start_time": "2022-03-20T14:15:06.750Z"
   },
   {
    "duration": 67,
    "start_time": "2022-03-20T14:16:59.568Z"
   },
   {
    "duration": 27,
    "start_time": "2022-03-20T14:17:09.905Z"
   },
   {
    "duration": 19,
    "start_time": "2022-03-20T14:18:14.048Z"
   },
   {
    "duration": 17,
    "start_time": "2022-03-20T14:24:07.077Z"
   },
   {
    "duration": 18,
    "start_time": "2022-03-20T14:24:59.221Z"
   },
   {
    "duration": 65,
    "start_time": "2022-03-20T14:26:02.670Z"
   },
   {
    "duration": 18,
    "start_time": "2022-03-20T14:26:10.652Z"
   },
   {
    "duration": 968,
    "start_time": "2022-03-20T14:29:31.524Z"
   },
   {
    "duration": 888,
    "start_time": "2022-03-20T14:29:57.555Z"
   },
   {
    "duration": 19,
    "start_time": "2022-03-20T14:31:24.419Z"
   },
   {
    "duration": 15,
    "start_time": "2022-03-20T14:32:01.257Z"
   },
   {
    "duration": 21,
    "start_time": "2022-03-20T14:32:22.212Z"
   },
   {
    "duration": 44,
    "start_time": "2022-03-20T14:32:34.992Z"
   },
   {
    "duration": 34,
    "start_time": "2022-03-20T14:32:56.864Z"
   },
   {
    "duration": 28,
    "start_time": "2022-03-20T14:34:28.661Z"
   },
   {
    "duration": 37,
    "start_time": "2022-03-20T14:35:16.702Z"
   },
   {
    "duration": 4,
    "start_time": "2022-03-20T15:21:09.594Z"
   },
   {
    "duration": 9,
    "start_time": "2022-03-20T15:21:27.291Z"
   },
   {
    "duration": 20,
    "start_time": "2022-03-20T15:21:50.122Z"
   },
   {
    "duration": 18,
    "start_time": "2022-03-20T15:23:16.536Z"
   },
   {
    "duration": 18,
    "start_time": "2022-03-20T15:24:45.328Z"
   },
   {
    "duration": 100,
    "start_time": "2022-03-20T15:25:09.553Z"
   },
   {
    "duration": 8,
    "start_time": "2022-03-20T15:25:22.840Z"
   },
   {
    "duration": 17,
    "start_time": "2022-03-20T15:25:41.976Z"
   },
   {
    "duration": 96,
    "start_time": "2022-03-20T15:26:18.995Z"
   },
   {
    "duration": 18,
    "start_time": "2022-03-20T15:26:35.390Z"
   },
   {
    "duration": 74,
    "start_time": "2022-03-20T15:29:02.367Z"
   },
   {
    "duration": 557,
    "start_time": "2022-03-20T15:29:42.567Z"
   },
   {
    "duration": 19,
    "start_time": "2022-03-20T15:31:06.918Z"
   },
   {
    "duration": 17,
    "start_time": "2022-03-20T15:31:40.889Z"
   },
   {
    "duration": 20,
    "start_time": "2022-03-20T15:32:34.367Z"
   },
   {
    "duration": 11,
    "start_time": "2022-03-20T15:33:27.989Z"
   },
   {
    "duration": 61,
    "start_time": "2022-03-20T15:35:42.663Z"
   },
   {
    "duration": 23,
    "start_time": "2022-03-20T15:35:54.549Z"
   },
   {
    "duration": 17,
    "start_time": "2022-03-20T15:36:25.226Z"
   },
   {
    "duration": 17,
    "start_time": "2022-03-20T15:36:30.524Z"
   },
   {
    "duration": 18,
    "start_time": "2022-03-20T15:36:46.562Z"
   },
   {
    "duration": 17,
    "start_time": "2022-03-20T15:37:08.542Z"
   },
   {
    "duration": 17,
    "start_time": "2022-03-20T15:37:30.625Z"
   },
   {
    "duration": 16,
    "start_time": "2022-03-20T15:38:58.153Z"
   },
   {
    "duration": 22,
    "start_time": "2022-03-20T15:39:10.329Z"
   },
   {
    "duration": 17,
    "start_time": "2022-03-20T15:39:31.050Z"
   },
   {
    "duration": 15,
    "start_time": "2022-03-20T15:39:54.051Z"
   },
   {
    "duration": 22,
    "start_time": "2022-03-20T15:40:08.703Z"
   },
   {
    "duration": 17,
    "start_time": "2022-03-20T15:40:20.727Z"
   },
   {
    "duration": 16,
    "start_time": "2022-03-20T15:40:34.681Z"
   },
   {
    "duration": 113,
    "start_time": "2022-03-20T15:42:37.341Z"
   },
   {
    "duration": 17,
    "start_time": "2022-03-20T15:42:52.977Z"
   },
   {
    "duration": 16,
    "start_time": "2022-03-20T15:44:11.822Z"
   },
   {
    "duration": 22,
    "start_time": "2022-03-20T15:44:42.215Z"
   },
   {
    "duration": 17,
    "start_time": "2022-03-20T15:44:48.853Z"
   },
   {
    "duration": 22,
    "start_time": "2022-03-20T15:45:05.708Z"
   },
   {
    "duration": 18,
    "start_time": "2022-03-20T15:46:46.757Z"
   },
   {
    "duration": 19,
    "start_time": "2022-03-20T15:49:19.863Z"
   },
   {
    "duration": 18,
    "start_time": "2022-03-20T15:49:32.350Z"
   },
   {
    "duration": 19,
    "start_time": "2022-03-20T15:50:41.052Z"
   },
   {
    "duration": 16,
    "start_time": "2022-03-20T15:53:39.817Z"
   },
   {
    "duration": 21,
    "start_time": "2022-03-20T15:54:46.710Z"
   },
   {
    "duration": 15,
    "start_time": "2022-03-20T15:55:19.056Z"
   },
   {
    "duration": 15,
    "start_time": "2022-03-20T15:55:31.754Z"
   },
   {
    "duration": 17,
    "start_time": "2022-03-20T15:59:10.404Z"
   },
   {
    "duration": 16,
    "start_time": "2022-03-20T16:00:58.559Z"
   },
   {
    "duration": 17,
    "start_time": "2022-03-20T16:07:17.720Z"
   },
   {
    "duration": 18,
    "start_time": "2022-03-20T16:10:06.832Z"
   },
   {
    "duration": 19,
    "start_time": "2022-03-20T16:14:25.209Z"
   },
   {
    "duration": 19,
    "start_time": "2022-03-20T16:14:51.238Z"
   },
   {
    "duration": 30,
    "start_time": "2022-03-20T16:16:53.405Z"
   },
   {
    "duration": 18,
    "start_time": "2022-03-20T16:18:13.133Z"
   },
   {
    "duration": 20,
    "start_time": "2022-03-20T16:19:46.487Z"
   },
   {
    "duration": 14,
    "start_time": "2022-03-20T16:28:54.645Z"
   },
   {
    "duration": 193,
    "start_time": "2022-03-20T16:36:53.704Z"
   },
   {
    "duration": 23,
    "start_time": "2022-03-20T16:36:53.900Z"
   },
   {
    "duration": 13,
    "start_time": "2022-03-20T16:36:53.925Z"
   },
   {
    "duration": 8,
    "start_time": "2022-03-20T16:36:53.940Z"
   },
   {
    "duration": 25,
    "start_time": "2022-03-20T16:36:53.949Z"
   },
   {
    "duration": 48,
    "start_time": "2022-03-20T16:36:53.976Z"
   },
   {
    "duration": 44,
    "start_time": "2022-03-20T16:36:54.026Z"
   },
   {
    "duration": 48,
    "start_time": "2022-03-20T16:36:54.072Z"
   },
   {
    "duration": 16,
    "start_time": "2022-03-20T16:36:54.125Z"
   },
   {
    "duration": 7,
    "start_time": "2022-03-20T16:36:54.143Z"
   },
   {
    "duration": 7,
    "start_time": "2022-03-20T16:36:54.151Z"
   },
   {
    "duration": 8,
    "start_time": "2022-03-20T16:36:54.160Z"
   },
   {
    "duration": 15,
    "start_time": "2022-03-20T16:36:54.211Z"
   },
   {
    "duration": 13,
    "start_time": "2022-03-20T16:36:54.228Z"
   },
   {
    "duration": 11,
    "start_time": "2022-03-20T16:36:54.243Z"
   },
   {
    "duration": 12,
    "start_time": "2022-03-20T16:36:54.256Z"
   },
   {
    "duration": 66,
    "start_time": "2022-03-20T16:36:54.270Z"
   },
   {
    "duration": 21,
    "start_time": "2022-03-20T16:36:54.337Z"
   },
   {
    "duration": 19,
    "start_time": "2022-03-20T16:36:54.360Z"
   },
   {
    "duration": 47,
    "start_time": "2022-03-20T16:36:54.382Z"
   },
   {
    "duration": 18,
    "start_time": "2022-03-20T16:36:54.431Z"
   },
   {
    "duration": 19,
    "start_time": "2022-03-20T16:36:54.451Z"
   },
   {
    "duration": 70,
    "start_time": "2022-03-20T16:39:11.288Z"
   },
   {
    "duration": 11,
    "start_time": "2022-03-20T16:45:01.458Z"
   },
   {
    "duration": 69,
    "start_time": "2022-03-20T16:45:07.873Z"
   },
   {
    "duration": 14,
    "start_time": "2022-03-20T16:45:07.944Z"
   },
   {
    "duration": 15,
    "start_time": "2022-03-20T16:45:07.960Z"
   },
   {
    "duration": 32,
    "start_time": "2022-03-20T16:45:07.977Z"
   },
   {
    "duration": 9,
    "start_time": "2022-03-20T16:45:08.011Z"
   },
   {
    "duration": 25,
    "start_time": "2022-03-20T16:45:08.022Z"
   },
   {
    "duration": 17,
    "start_time": "2022-03-20T16:45:08.048Z"
   },
   {
    "duration": 79,
    "start_time": "2022-03-20T16:45:08.067Z"
   },
   {
    "duration": 23,
    "start_time": "2022-03-20T16:45:08.149Z"
   },
   {
    "duration": 45,
    "start_time": "2022-03-20T16:45:08.175Z"
   },
   {
    "duration": 16,
    "start_time": "2022-03-20T16:45:08.222Z"
   },
   {
    "duration": 12,
    "start_time": "2022-03-20T16:45:08.240Z"
   },
   {
    "duration": 17,
    "start_time": "2022-03-20T16:45:08.254Z"
   },
   {
    "duration": 8,
    "start_time": "2022-03-20T16:45:08.273Z"
   },
   {
    "duration": 27,
    "start_time": "2022-03-20T16:45:08.283Z"
   },
   {
    "duration": 13,
    "start_time": "2022-03-20T16:45:08.312Z"
   },
   {
    "duration": 13,
    "start_time": "2022-03-20T16:45:08.326Z"
   },
   {
    "duration": 24,
    "start_time": "2022-03-20T16:45:08.341Z"
   },
   {
    "duration": 50,
    "start_time": "2022-03-20T16:45:08.367Z"
   },
   {
    "duration": 26,
    "start_time": "2022-03-20T16:45:08.420Z"
   },
   {
    "duration": 19,
    "start_time": "2022-03-20T16:45:08.448Z"
   },
   {
    "duration": 41,
    "start_time": "2022-03-20T16:45:08.469Z"
   },
   {
    "duration": 21,
    "start_time": "2022-03-20T16:45:08.511Z"
   },
   {
    "duration": 4,
    "start_time": "2022-03-20T16:48:32.280Z"
   },
   {
    "duration": 18,
    "start_time": "2022-03-20T16:48:40.546Z"
   },
   {
    "duration": 66,
    "start_time": "2022-03-20T16:49:34.143Z"
   },
   {
    "duration": 15,
    "start_time": "2022-03-20T16:49:34.211Z"
   },
   {
    "duration": 11,
    "start_time": "2022-03-20T16:49:34.228Z"
   },
   {
    "duration": 16,
    "start_time": "2022-03-20T16:49:34.241Z"
   },
   {
    "duration": 52,
    "start_time": "2022-03-20T16:49:34.259Z"
   },
   {
    "duration": 10,
    "start_time": "2022-03-20T16:49:34.313Z"
   },
   {
    "duration": 26,
    "start_time": "2022-03-20T16:49:34.325Z"
   },
   {
    "duration": 19,
    "start_time": "2022-03-20T16:49:34.353Z"
   },
   {
    "duration": 50,
    "start_time": "2022-03-20T16:49:34.408Z"
   },
   {
    "duration": 55,
    "start_time": "2022-03-20T16:49:34.461Z"
   },
   {
    "duration": 17,
    "start_time": "2022-03-20T16:49:34.518Z"
   },
   {
    "duration": 8,
    "start_time": "2022-03-20T16:49:34.537Z"
   },
   {
    "duration": 7,
    "start_time": "2022-03-20T16:49:34.547Z"
   },
   {
    "duration": 10,
    "start_time": "2022-03-20T16:49:34.555Z"
   },
   {
    "duration": 43,
    "start_time": "2022-03-20T16:49:34.567Z"
   },
   {
    "duration": 14,
    "start_time": "2022-03-20T16:49:34.612Z"
   },
   {
    "duration": 13,
    "start_time": "2022-03-20T16:49:34.628Z"
   },
   {
    "duration": 15,
    "start_time": "2022-03-20T16:49:34.643Z"
   },
   {
    "duration": 59,
    "start_time": "2022-03-20T16:49:34.660Z"
   },
   {
    "duration": 25,
    "start_time": "2022-03-20T16:49:34.721Z"
   },
   {
    "duration": 19,
    "start_time": "2022-03-20T16:49:34.748Z"
   },
   {
    "duration": 41,
    "start_time": "2022-03-20T16:49:34.769Z"
   },
   {
    "duration": 21,
    "start_time": "2022-03-20T16:49:34.811Z"
   },
   {
    "duration": 25,
    "start_time": "2022-03-20T16:49:34.834Z"
   },
   {
    "duration": 19,
    "start_time": "2022-03-20T16:58:45.086Z"
   },
   {
    "duration": 22,
    "start_time": "2022-03-20T17:00:06.261Z"
   },
   {
    "duration": 19,
    "start_time": "2022-03-20T17:00:17.027Z"
   },
   {
    "duration": 19,
    "start_time": "2022-03-20T17:02:40.959Z"
   },
   {
    "duration": 102,
    "start_time": "2022-03-20T17:03:35.492Z"
   },
   {
    "duration": 19,
    "start_time": "2022-03-20T17:03:47.845Z"
   },
   {
    "duration": 19,
    "start_time": "2022-03-20T17:03:59.953Z"
   },
   {
    "duration": 19,
    "start_time": "2022-03-20T17:04:07.113Z"
   },
   {
    "duration": 21,
    "start_time": "2022-03-20T17:04:21.863Z"
   },
   {
    "duration": 8,
    "start_time": "2022-03-20T17:08:36.888Z"
   },
   {
    "duration": 72,
    "start_time": "2022-03-20T17:08:41.541Z"
   },
   {
    "duration": 16,
    "start_time": "2022-03-20T17:08:41.615Z"
   },
   {
    "duration": 12,
    "start_time": "2022-03-20T17:08:41.632Z"
   },
   {
    "duration": 18,
    "start_time": "2022-03-20T17:08:41.646Z"
   },
   {
    "duration": 5,
    "start_time": "2022-03-20T17:08:41.666Z"
   },
   {
    "duration": 43,
    "start_time": "2022-03-20T17:08:41.673Z"
   },
   {
    "duration": 26,
    "start_time": "2022-03-20T17:08:41.717Z"
   },
   {
    "duration": 18,
    "start_time": "2022-03-20T17:08:41.745Z"
   },
   {
    "duration": 83,
    "start_time": "2022-03-20T17:08:41.764Z"
   },
   {
    "duration": 20,
    "start_time": "2022-03-20T17:08:41.850Z"
   },
   {
    "duration": 40,
    "start_time": "2022-03-20T17:08:41.872Z"
   },
   {
    "duration": 8,
    "start_time": "2022-03-20T17:08:41.913Z"
   },
   {
    "duration": 8,
    "start_time": "2022-03-20T17:08:41.923Z"
   },
   {
    "duration": 10,
    "start_time": "2022-03-20T17:08:41.933Z"
   },
   {
    "duration": 6,
    "start_time": "2022-03-20T17:08:41.944Z"
   },
   {
    "duration": 13,
    "start_time": "2022-03-20T17:08:41.952Z"
   },
   {
    "duration": 51,
    "start_time": "2022-03-20T17:08:41.967Z"
   },
   {
    "duration": 13,
    "start_time": "2022-03-20T17:08:42.020Z"
   },
   {
    "duration": 23,
    "start_time": "2022-03-20T17:08:42.035Z"
   },
   {
    "duration": 20,
    "start_time": "2022-03-20T17:08:42.059Z"
   },
   {
    "duration": 26,
    "start_time": "2022-03-20T17:08:42.109Z"
   },
   {
    "duration": 21,
    "start_time": "2022-03-20T17:08:42.137Z"
   },
   {
    "duration": 19,
    "start_time": "2022-03-20T17:08:42.160Z"
   },
   {
    "duration": 44,
    "start_time": "2022-03-20T17:08:42.181Z"
   },
   {
    "duration": 68,
    "start_time": "2022-03-20T17:12:54.972Z"
   },
   {
    "duration": 17,
    "start_time": "2022-03-20T17:12:55.043Z"
   },
   {
    "duration": 13,
    "start_time": "2022-03-20T17:12:55.062Z"
   },
   {
    "duration": 51,
    "start_time": "2022-03-20T17:12:55.078Z"
   },
   {
    "duration": 6,
    "start_time": "2022-03-20T17:12:55.131Z"
   },
   {
    "duration": 12,
    "start_time": "2022-03-20T17:12:55.139Z"
   },
   {
    "duration": 19,
    "start_time": "2022-03-20T17:12:55.153Z"
   },
   {
    "duration": 79,
    "start_time": "2022-03-20T17:12:55.174Z"
   },
   {
    "duration": 20,
    "start_time": "2022-03-20T17:12:55.255Z"
   },
   {
    "duration": 43,
    "start_time": "2022-03-20T17:12:55.278Z"
   },
   {
    "duration": 11,
    "start_time": "2022-03-20T17:12:55.323Z"
   },
   {
    "duration": 6,
    "start_time": "2022-03-20T17:12:55.336Z"
   },
   {
    "duration": 7,
    "start_time": "2022-03-20T17:12:55.344Z"
   },
   {
    "duration": 7,
    "start_time": "2022-03-20T17:12:55.353Z"
   },
   {
    "duration": 12,
    "start_time": "2022-03-20T17:12:55.362Z"
   },
   {
    "duration": 44,
    "start_time": "2022-03-20T17:12:55.375Z"
   },
   {
    "duration": 14,
    "start_time": "2022-03-20T17:12:55.420Z"
   },
   {
    "duration": 34,
    "start_time": "2022-03-20T17:12:55.436Z"
   },
   {
    "duration": 19,
    "start_time": "2022-03-20T17:12:55.472Z"
   },
   {
    "duration": 27,
    "start_time": "2022-03-20T17:12:55.509Z"
   },
   {
    "duration": 18,
    "start_time": "2022-03-20T17:12:55.538Z"
   },
   {
    "duration": 20,
    "start_time": "2022-03-20T17:12:55.558Z"
   },
   {
    "duration": 41,
    "start_time": "2022-03-20T17:12:55.580Z"
   },
   {
    "duration": 37,
    "start_time": "2022-03-20T17:18:33.394Z"
   },
   {
    "duration": 9,
    "start_time": "2022-03-20T17:37:43.715Z"
   },
   {
    "duration": 808,
    "start_time": "2022-03-20T17:37:51.371Z"
   },
   {
    "duration": 74,
    "start_time": "2022-03-20T17:41:31.177Z"
   },
   {
    "duration": 32,
    "start_time": "2022-03-20T17:41:38.262Z"
   },
   {
    "duration": 323,
    "start_time": "2022-03-20T17:42:01.032Z"
   },
   {
    "duration": 166,
    "start_time": "2022-03-20T17:45:32.869Z"
   },
   {
    "duration": 71,
    "start_time": "2022-03-20T17:48:39.694Z"
   },
   {
    "duration": 66,
    "start_time": "2022-03-20T17:50:12.560Z"
   },
   {
    "duration": 67,
    "start_time": "2022-03-20T17:50:20.104Z"
   },
   {
    "duration": 14,
    "start_time": "2022-03-20T17:51:36.581Z"
   },
   {
    "duration": 188,
    "start_time": "2022-03-20T17:51:42.672Z"
   },
   {
    "duration": 22,
    "start_time": "2022-03-20T17:52:00.011Z"
   },
   {
    "duration": 14,
    "start_time": "2022-03-20T17:52:09.833Z"
   },
   {
    "duration": 172,
    "start_time": "2022-03-20T17:52:41.358Z"
   },
   {
    "duration": 68,
    "start_time": "2022-03-20T17:53:50.822Z"
   },
   {
    "duration": 671,
    "start_time": "2022-03-20T17:57:11.660Z"
   },
   {
    "duration": 167,
    "start_time": "2022-03-20T17:57:48.900Z"
   },
   {
    "duration": 136,
    "start_time": "2022-03-20T18:00:05.107Z"
   },
   {
    "duration": 178,
    "start_time": "2022-03-20T18:00:53.276Z"
   },
   {
    "duration": 60,
    "start_time": "2022-03-20T18:02:04.738Z"
   },
   {
    "duration": 62,
    "start_time": "2022-03-20T18:02:12.876Z"
   },
   {
    "duration": 70,
    "start_time": "2022-03-20T18:02:21.452Z"
   },
   {
    "duration": 183,
    "start_time": "2022-03-20T18:02:33.208Z"
   },
   {
    "duration": 74,
    "start_time": "2022-03-20T18:11:31.809Z"
   },
   {
    "duration": 181,
    "start_time": "2022-03-20T18:11:40.869Z"
   },
   {
    "duration": 188,
    "start_time": "2022-03-20T18:18:48.174Z"
   },
   {
    "duration": 361,
    "start_time": "2022-03-20T18:19:25.124Z"
   },
   {
    "duration": 213,
    "start_time": "2022-03-20T18:19:47.011Z"
   },
   {
    "duration": 219,
    "start_time": "2022-03-20T18:21:18.807Z"
   },
   {
    "duration": 185,
    "start_time": "2022-03-20T18:22:06.904Z"
   },
   {
    "duration": 75,
    "start_time": "2022-03-20T18:22:34.477Z"
   },
   {
    "duration": 16,
    "start_time": "2022-03-20T18:22:34.554Z"
   },
   {
    "duration": 11,
    "start_time": "2022-03-20T18:22:34.572Z"
   },
   {
    "duration": 37,
    "start_time": "2022-03-20T18:22:34.586Z"
   },
   {
    "duration": 183,
    "start_time": "2022-03-20T18:22:34.624Z"
   },
   {
    "duration": 183,
    "start_time": "2022-03-20T18:22:34.809Z"
   },
   {
    "duration": 0,
    "start_time": "2022-03-20T18:22:34.994Z"
   },
   {
    "duration": 0,
    "start_time": "2022-03-20T18:22:34.996Z"
   },
   {
    "duration": 0,
    "start_time": "2022-03-20T18:22:34.997Z"
   },
   {
    "duration": 0,
    "start_time": "2022-03-20T18:22:34.998Z"
   },
   {
    "duration": 0,
    "start_time": "2022-03-20T18:22:34.999Z"
   },
   {
    "duration": 0,
    "start_time": "2022-03-20T18:22:35.008Z"
   },
   {
    "duration": 0,
    "start_time": "2022-03-20T18:22:35.009Z"
   },
   {
    "duration": 0,
    "start_time": "2022-03-20T18:22:35.011Z"
   },
   {
    "duration": 0,
    "start_time": "2022-03-20T18:22:35.012Z"
   },
   {
    "duration": 0,
    "start_time": "2022-03-20T18:22:35.013Z"
   },
   {
    "duration": 0,
    "start_time": "2022-03-20T18:22:35.014Z"
   },
   {
    "duration": 0,
    "start_time": "2022-03-20T18:22:35.015Z"
   },
   {
    "duration": 0,
    "start_time": "2022-03-20T18:22:35.016Z"
   },
   {
    "duration": 0,
    "start_time": "2022-03-20T18:22:35.017Z"
   },
   {
    "duration": 0,
    "start_time": "2022-03-20T18:22:35.018Z"
   },
   {
    "duration": 0,
    "start_time": "2022-03-20T18:22:35.019Z"
   },
   {
    "duration": 0,
    "start_time": "2022-03-20T18:22:35.020Z"
   },
   {
    "duration": 0,
    "start_time": "2022-03-20T18:22:35.021Z"
   },
   {
    "duration": 0,
    "start_time": "2022-03-20T18:22:35.022Z"
   },
   {
    "duration": 167,
    "start_time": "2022-03-20T18:23:30.484Z"
   },
   {
    "duration": 159,
    "start_time": "2022-03-20T18:23:41.655Z"
   },
   {
    "duration": 71,
    "start_time": "2022-03-20T18:23:51.281Z"
   },
   {
    "duration": 15,
    "start_time": "2022-03-20T18:23:51.354Z"
   },
   {
    "duration": 12,
    "start_time": "2022-03-20T18:23:51.371Z"
   },
   {
    "duration": 39,
    "start_time": "2022-03-20T18:23:51.385Z"
   },
   {
    "duration": 184,
    "start_time": "2022-03-20T18:23:51.425Z"
   },
   {
    "duration": 172,
    "start_time": "2022-03-20T18:23:51.610Z"
   },
   {
    "duration": 6,
    "start_time": "2022-03-20T18:23:51.784Z"
   },
   {
    "duration": 20,
    "start_time": "2022-03-20T18:23:51.792Z"
   },
   {
    "duration": 19,
    "start_time": "2022-03-20T18:23:51.814Z"
   },
   {
    "duration": 39,
    "start_time": "2022-03-20T18:23:51.836Z"
   },
   {
    "duration": 48,
    "start_time": "2022-03-20T18:23:51.876Z"
   },
   {
    "duration": 16,
    "start_time": "2022-03-20T18:23:51.925Z"
   },
   {
    "duration": 11,
    "start_time": "2022-03-20T18:23:51.942Z"
   },
   {
    "duration": 7,
    "start_time": "2022-03-20T18:23:51.955Z"
   },
   {
    "duration": 7,
    "start_time": "2022-03-20T18:23:51.963Z"
   },
   {
    "duration": 42,
    "start_time": "2022-03-20T18:23:51.972Z"
   },
   {
    "duration": 14,
    "start_time": "2022-03-20T18:23:52.015Z"
   },
   {
    "duration": 12,
    "start_time": "2022-03-20T18:23:52.031Z"
   },
   {
    "duration": 13,
    "start_time": "2022-03-20T18:23:52.044Z"
   },
   {
    "duration": 53,
    "start_time": "2022-03-20T18:23:52.059Z"
   },
   {
    "duration": 18,
    "start_time": "2022-03-20T18:23:52.114Z"
   },
   {
    "duration": 18,
    "start_time": "2022-03-20T18:23:52.134Z"
   },
   {
    "duration": 18,
    "start_time": "2022-03-20T18:23:52.153Z"
   },
   {
    "duration": 47,
    "start_time": "2022-03-20T18:23:52.172Z"
   },
   {
    "duration": 19,
    "start_time": "2022-03-20T18:23:52.220Z"
   },
   {
    "duration": 164,
    "start_time": "2022-03-20T18:25:35.825Z"
   },
   {
    "duration": 157,
    "start_time": "2022-03-20T18:25:42.877Z"
   },
   {
    "duration": 172,
    "start_time": "2022-03-20T18:25:51.897Z"
   },
   {
    "duration": 61,
    "start_time": "2022-03-20T18:26:59.269Z"
   },
   {
    "duration": 77,
    "start_time": "2022-03-20T18:28:01.036Z"
   },
   {
    "duration": 186,
    "start_time": "2022-03-20T18:28:12.122Z"
   },
   {
    "duration": 227,
    "start_time": "2022-03-20T18:29:18.787Z"
   },
   {
    "duration": 146,
    "start_time": "2022-03-20T18:42:15.617Z"
   },
   {
    "duration": 273,
    "start_time": "2022-03-20T18:44:56.418Z"
   },
   {
    "duration": 392,
    "start_time": "2022-03-20T18:52:00.557Z"
   },
   {
    "duration": 108,
    "start_time": "2022-03-20T18:57:36.534Z"
   },
   {
    "duration": 73,
    "start_time": "2022-03-20T18:59:53.629Z"
   },
   {
    "duration": 16,
    "start_time": "2022-03-20T18:59:53.706Z"
   },
   {
    "duration": 11,
    "start_time": "2022-03-20T18:59:53.723Z"
   },
   {
    "duration": 16,
    "start_time": "2022-03-20T18:59:53.736Z"
   },
   {
    "duration": 192,
    "start_time": "2022-03-20T18:59:53.754Z"
   },
   {
    "duration": 282,
    "start_time": "2022-03-20T18:59:53.947Z"
   },
   {
    "duration": 221,
    "start_time": "2022-03-20T18:59:54.230Z"
   },
   {
    "duration": 6,
    "start_time": "2022-03-20T18:59:54.452Z"
   },
   {
    "duration": 9,
    "start_time": "2022-03-20T18:59:54.459Z"
   },
   {
    "duration": 39,
    "start_time": "2022-03-20T18:59:54.471Z"
   },
   {
    "duration": 34,
    "start_time": "2022-03-20T18:59:54.511Z"
   },
   {
    "duration": 19,
    "start_time": "2022-03-20T18:59:54.546Z"
   },
   {
    "duration": 44,
    "start_time": "2022-03-20T18:59:54.566Z"
   },
   {
    "duration": 8,
    "start_time": "2022-03-20T18:59:54.612Z"
   },
   {
    "duration": 9,
    "start_time": "2022-03-20T18:59:54.622Z"
   },
   {
    "duration": 7,
    "start_time": "2022-03-20T18:59:54.632Z"
   },
   {
    "duration": 7,
    "start_time": "2022-03-20T18:59:54.641Z"
   },
   {
    "duration": 13,
    "start_time": "2022-03-20T18:59:54.650Z"
   },
   {
    "duration": 45,
    "start_time": "2022-03-20T18:59:54.665Z"
   },
   {
    "duration": 15,
    "start_time": "2022-03-20T18:59:54.711Z"
   },
   {
    "duration": 24,
    "start_time": "2022-03-20T18:59:54.727Z"
   },
   {
    "duration": 19,
    "start_time": "2022-03-20T18:59:54.752Z"
   },
   {
    "duration": 39,
    "start_time": "2022-03-20T18:59:54.773Z"
   },
   {
    "duration": 19,
    "start_time": "2022-03-20T18:59:54.814Z"
   },
   {
    "duration": 17,
    "start_time": "2022-03-20T18:59:54.835Z"
   },
   {
    "duration": 17,
    "start_time": "2022-03-20T18:59:54.854Z"
   },
   {
    "duration": 166,
    "start_time": "2022-03-20T19:03:12.231Z"
   },
   {
    "duration": 291,
    "start_time": "2022-03-20T19:03:32.643Z"
   },
   {
    "duration": 225,
    "start_time": "2022-03-20T19:05:12.229Z"
   },
   {
    "duration": 77,
    "start_time": "2022-03-20T19:08:02.874Z"
   },
   {
    "duration": 15,
    "start_time": "2022-03-20T19:08:02.953Z"
   },
   {
    "duration": 12,
    "start_time": "2022-03-20T19:08:02.969Z"
   },
   {
    "duration": 43,
    "start_time": "2022-03-20T19:08:02.983Z"
   },
   {
    "duration": 185,
    "start_time": "2022-03-20T19:08:03.027Z"
   },
   {
    "duration": 287,
    "start_time": "2022-03-20T19:08:03.214Z"
   },
   {
    "duration": 238,
    "start_time": "2022-03-20T19:08:03.503Z"
   },
   {
    "duration": 7,
    "start_time": "2022-03-20T19:08:03.743Z"
   },
   {
    "duration": 9,
    "start_time": "2022-03-20T19:08:03.752Z"
   },
   {
    "duration": 44,
    "start_time": "2022-03-20T19:08:03.765Z"
   },
   {
    "duration": 35,
    "start_time": "2022-03-20T19:08:03.811Z"
   },
   {
    "duration": 23,
    "start_time": "2022-03-20T19:08:03.848Z"
   },
   {
    "duration": 17,
    "start_time": "2022-03-20T19:08:03.908Z"
   },
   {
    "duration": 8,
    "start_time": "2022-03-20T19:08:03.927Z"
   },
   {
    "duration": 6,
    "start_time": "2022-03-20T19:08:03.937Z"
   },
   {
    "duration": 8,
    "start_time": "2022-03-20T19:08:03.945Z"
   },
   {
    "duration": 7,
    "start_time": "2022-03-20T19:08:03.955Z"
   },
   {
    "duration": 50,
    "start_time": "2022-03-20T19:08:03.964Z"
   },
   {
    "duration": 13,
    "start_time": "2022-03-20T19:08:04.016Z"
   },
   {
    "duration": 14,
    "start_time": "2022-03-20T19:08:04.031Z"
   },
   {
    "duration": 20,
    "start_time": "2022-03-20T19:08:04.046Z"
   },
   {
    "duration": 51,
    "start_time": "2022-03-20T19:08:04.068Z"
   },
   {
    "duration": 24,
    "start_time": "2022-03-20T19:08:04.121Z"
   },
   {
    "duration": 17,
    "start_time": "2022-03-20T19:08:04.146Z"
   },
   {
    "duration": 17,
    "start_time": "2022-03-20T19:08:04.165Z"
   },
   {
    "duration": 40,
    "start_time": "2022-03-20T19:08:04.184Z"
   },
   {
    "duration": 79,
    "start_time": "2022-03-20T19:09:16.821Z"
   },
   {
    "duration": 16,
    "start_time": "2022-03-20T19:09:16.902Z"
   },
   {
    "duration": 11,
    "start_time": "2022-03-20T19:09:16.919Z"
   },
   {
    "duration": 21,
    "start_time": "2022-03-20T19:09:16.932Z"
   },
   {
    "duration": 196,
    "start_time": "2022-03-20T19:09:16.954Z"
   },
   {
    "duration": 426,
    "start_time": "2022-03-20T19:09:17.151Z"
   },
   {
    "duration": 234,
    "start_time": "2022-03-20T19:09:17.578Z"
   },
   {
    "duration": 6,
    "start_time": "2022-03-20T19:09:17.813Z"
   },
   {
    "duration": 8,
    "start_time": "2022-03-20T19:09:17.821Z"
   },
   {
    "duration": 19,
    "start_time": "2022-03-20T19:09:17.832Z"
   },
   {
    "duration": 66,
    "start_time": "2022-03-20T19:09:17.852Z"
   },
   {
    "duration": 18,
    "start_time": "2022-03-20T19:09:17.920Z"
   },
   {
    "duration": 15,
    "start_time": "2022-03-20T19:09:17.940Z"
   },
   {
    "duration": 7,
    "start_time": "2022-03-20T19:09:17.957Z"
   },
   {
    "duration": 44,
    "start_time": "2022-03-20T19:09:17.966Z"
   },
   {
    "duration": 8,
    "start_time": "2022-03-20T19:09:18.012Z"
   },
   {
    "duration": 7,
    "start_time": "2022-03-20T19:09:18.021Z"
   },
   {
    "duration": 13,
    "start_time": "2022-03-20T19:09:18.030Z"
   },
   {
    "duration": 12,
    "start_time": "2022-03-20T19:09:18.044Z"
   },
   {
    "duration": 13,
    "start_time": "2022-03-20T19:09:18.058Z"
   },
   {
    "duration": 21,
    "start_time": "2022-03-20T19:09:18.109Z"
   },
   {
    "duration": 20,
    "start_time": "2022-03-20T19:09:18.132Z"
   },
   {
    "duration": 25,
    "start_time": "2022-03-20T19:09:18.153Z"
   },
   {
    "duration": 38,
    "start_time": "2022-03-20T19:09:18.180Z"
   },
   {
    "duration": 19,
    "start_time": "2022-03-20T19:09:18.220Z"
   },
   {
    "duration": 18,
    "start_time": "2022-03-20T19:09:18.241Z"
   },
   {
    "duration": 81,
    "start_time": "2022-03-20T19:15:55.667Z"
   },
   {
    "duration": 18,
    "start_time": "2022-03-20T19:15:55.750Z"
   },
   {
    "duration": 11,
    "start_time": "2022-03-20T19:15:55.769Z"
   },
   {
    "duration": 39,
    "start_time": "2022-03-20T19:15:55.782Z"
   },
   {
    "duration": 192,
    "start_time": "2022-03-20T19:15:55.823Z"
   },
   {
    "duration": 310,
    "start_time": "2022-03-20T19:15:56.017Z"
   },
   {
    "duration": 247,
    "start_time": "2022-03-20T19:15:56.329Z"
   },
   {
    "duration": 7,
    "start_time": "2022-03-20T19:15:56.578Z"
   },
   {
    "duration": 24,
    "start_time": "2022-03-20T19:15:56.587Z"
   },
   {
    "duration": 21,
    "start_time": "2022-03-20T19:15:56.614Z"
   },
   {
    "duration": 36,
    "start_time": "2022-03-20T19:15:56.636Z"
   },
   {
    "duration": 47,
    "start_time": "2022-03-20T19:15:56.674Z"
   },
   {
    "duration": 16,
    "start_time": "2022-03-20T19:15:56.723Z"
   },
   {
    "duration": 8,
    "start_time": "2022-03-20T19:15:56.740Z"
   },
   {
    "duration": 7,
    "start_time": "2022-03-20T19:15:56.749Z"
   },
   {
    "duration": 7,
    "start_time": "2022-03-20T19:15:56.758Z"
   },
   {
    "duration": 47,
    "start_time": "2022-03-20T19:15:56.768Z"
   },
   {
    "duration": 13,
    "start_time": "2022-03-20T19:15:56.817Z"
   },
   {
    "duration": 14,
    "start_time": "2022-03-20T19:15:56.832Z"
   },
   {
    "duration": 14,
    "start_time": "2022-03-20T19:15:56.848Z"
   },
   {
    "duration": 60,
    "start_time": "2022-03-20T19:15:56.864Z"
   },
   {
    "duration": 28,
    "start_time": "2022-03-20T19:15:56.926Z"
   },
   {
    "duration": 21,
    "start_time": "2022-03-20T19:15:56.956Z"
   },
   {
    "duration": 43,
    "start_time": "2022-03-20T19:15:56.979Z"
   },
   {
    "duration": 19,
    "start_time": "2022-03-20T19:15:57.024Z"
   },
   {
    "duration": 19,
    "start_time": "2022-03-20T19:15:57.045Z"
   },
   {
    "duration": 1259,
    "start_time": "2022-04-19T18:55:13.499Z"
   },
   {
    "duration": 270,
    "start_time": "2022-04-19T18:55:14.760Z"
   },
   {
    "duration": 30,
    "start_time": "2022-04-19T18:55:15.032Z"
   },
   {
    "duration": 252,
    "start_time": "2022-04-19T18:55:15.064Z"
   },
   {
    "duration": 27,
    "start_time": "2022-04-19T18:55:15.317Z"
   },
   {
    "duration": 187,
    "start_time": "2022-04-19T18:55:15.346Z"
   },
   {
    "duration": 20,
    "start_time": "2022-04-19T18:55:15.535Z"
   },
   {
    "duration": 104,
    "start_time": "2022-04-19T18:55:15.557Z"
   },
   {
    "duration": 12,
    "start_time": "2022-04-19T18:55:15.662Z"
   },
   {
    "duration": 120,
    "start_time": "2022-04-19T18:55:15.676Z"
   },
   {
    "duration": 11,
    "start_time": "2022-04-19T18:55:15.798Z"
   },
   {
    "duration": 259,
    "start_time": "2022-04-19T18:55:15.811Z"
   },
   {
    "duration": 10,
    "start_time": "2022-04-19T18:55:16.072Z"
   },
   {
    "duration": 16,
    "start_time": "2022-04-19T18:55:16.084Z"
   },
   {
    "duration": 34,
    "start_time": "2022-04-19T18:55:16.101Z"
   },
   {
    "duration": 17,
    "start_time": "2022-04-19T18:55:16.137Z"
   },
   {
    "duration": 85,
    "start_time": "2022-04-19T18:55:16.156Z"
   },
   {
    "duration": 42,
    "start_time": "2022-04-19T18:55:16.243Z"
   },
   {
    "duration": 64,
    "start_time": "2022-04-19T18:55:16.287Z"
   },
   {
    "duration": 11,
    "start_time": "2022-04-19T18:55:16.352Z"
   },
   {
    "duration": 32,
    "start_time": "2022-04-19T18:55:16.364Z"
   },
   {
    "duration": 56,
    "start_time": "2022-04-19T18:55:16.398Z"
   },
   {
    "duration": 22,
    "start_time": "2022-04-19T18:55:16.455Z"
   },
   {
    "duration": 11,
    "start_time": "2022-04-19T18:55:16.479Z"
   },
   {
    "duration": 42,
    "start_time": "2022-04-19T18:55:16.491Z"
   },
   {
    "duration": 12,
    "start_time": "2022-04-19T18:55:16.535Z"
   },
   {
    "duration": 28,
    "start_time": "2022-04-19T18:55:16.548Z"
   },
   {
    "duration": 25,
    "start_time": "2022-04-19T18:55:16.580Z"
   },
   {
    "duration": 29,
    "start_time": "2022-04-19T18:55:16.607Z"
   },
   {
    "duration": 20,
    "start_time": "2022-04-19T18:55:16.638Z"
   },
   {
    "duration": 23,
    "start_time": "2022-04-19T18:55:16.660Z"
   },
   {
    "duration": 17,
    "start_time": "2022-04-19T18:55:16.685Z"
   },
   {
    "duration": 44,
    "start_time": "2022-04-19T18:55:16.703Z"
   },
   {
    "duration": 343,
    "start_time": "2022-04-19T18:55:16.748Z"
   },
   {
    "duration": 381,
    "start_time": "2022-04-19T18:55:17.094Z"
   },
   {
    "duration": 408,
    "start_time": "2022-04-19T18:55:17.477Z"
   },
   {
    "duration": 63,
    "start_time": "2022-04-19T18:55:17.886Z"
   },
   {
    "duration": 352,
    "start_time": "2022-04-19T18:55:17.951Z"
   },
   {
    "duration": 345,
    "start_time": "2022-04-19T18:55:18.305Z"
   },
   {
    "duration": 415,
    "start_time": "2022-04-19T18:55:18.652Z"
   },
   {
    "duration": 351,
    "start_time": "2022-04-19T18:55:19.069Z"
   },
   {
    "duration": 336,
    "start_time": "2022-04-19T18:55:19.421Z"
   },
   {
    "duration": 340,
    "start_time": "2022-04-19T18:55:19.759Z"
   },
   {
    "duration": 15,
    "start_time": "2022-04-19T18:55:20.101Z"
   },
   {
    "duration": 26,
    "start_time": "2022-04-19T18:55:20.117Z"
   },
   {
    "duration": 6,
    "start_time": "2022-04-19T18:55:20.144Z"
   },
   {
    "duration": 18,
    "start_time": "2022-04-19T18:55:20.151Z"
   },
   {
    "duration": 13,
    "start_time": "2022-04-19T18:55:20.171Z"
   },
   {
    "duration": 6,
    "start_time": "2022-04-19T18:55:20.185Z"
   },
   {
    "duration": 17,
    "start_time": "2022-04-19T18:59:40.872Z"
   },
   {
    "duration": 44,
    "start_time": "2022-04-20T07:15:47.152Z"
   },
   {
    "duration": 1247,
    "start_time": "2022-04-20T07:15:56.660Z"
   },
   {
    "duration": 256,
    "start_time": "2022-04-20T07:15:57.909Z"
   },
   {
    "duration": 25,
    "start_time": "2022-04-20T07:15:58.166Z"
   },
   {
    "duration": 190,
    "start_time": "2022-04-20T07:15:58.193Z"
   },
   {
    "duration": 20,
    "start_time": "2022-04-20T07:15:58.385Z"
   },
   {
    "duration": 139,
    "start_time": "2022-04-20T07:15:58.406Z"
   },
   {
    "duration": 17,
    "start_time": "2022-04-20T07:15:58.547Z"
   },
   {
    "duration": 87,
    "start_time": "2022-04-20T07:15:58.566Z"
   },
   {
    "duration": 10,
    "start_time": "2022-04-20T07:15:58.654Z"
   },
   {
    "duration": 88,
    "start_time": "2022-04-20T07:15:58.666Z"
   },
   {
    "duration": 9,
    "start_time": "2022-04-20T07:15:58.756Z"
   },
   {
    "duration": 215,
    "start_time": "2022-04-20T07:15:58.766Z"
   },
   {
    "duration": 9,
    "start_time": "2022-04-20T07:15:58.983Z"
   },
   {
    "duration": 13,
    "start_time": "2022-04-20T07:15:58.993Z"
   },
   {
    "duration": 11,
    "start_time": "2022-04-20T07:15:59.008Z"
   },
   {
    "duration": 34,
    "start_time": "2022-04-20T07:15:59.021Z"
   },
   {
    "duration": 53,
    "start_time": "2022-04-20T07:15:59.057Z"
   },
   {
    "duration": 49,
    "start_time": "2022-04-20T07:15:59.111Z"
   },
   {
    "duration": 42,
    "start_time": "2022-04-20T07:15:59.161Z"
   },
   {
    "duration": 8,
    "start_time": "2022-04-20T07:15:59.205Z"
   },
   {
    "duration": 46,
    "start_time": "2022-04-20T07:15:59.214Z"
   },
   {
    "duration": 24,
    "start_time": "2022-04-20T07:15:59.261Z"
   },
   {
    "duration": 19,
    "start_time": "2022-04-20T07:15:59.286Z"
   },
   {
    "duration": 8,
    "start_time": "2022-04-20T07:15:59.306Z"
   },
   {
    "duration": 40,
    "start_time": "2022-04-20T07:15:59.316Z"
   },
   {
    "duration": 16,
    "start_time": "2022-04-20T07:15:59.358Z"
   },
   {
    "duration": 34,
    "start_time": "2022-04-20T07:15:59.376Z"
   },
   {
    "duration": 19,
    "start_time": "2022-04-20T07:15:59.413Z"
   },
   {
    "duration": 5,
    "start_time": "2022-04-20T07:15:59.434Z"
   },
   {
    "duration": 28,
    "start_time": "2022-04-20T07:15:59.440Z"
   },
   {
    "duration": 25,
    "start_time": "2022-04-20T07:15:59.470Z"
   },
   {
    "duration": 14,
    "start_time": "2022-04-20T07:15:59.496Z"
   },
   {
    "duration": 17,
    "start_time": "2022-04-20T07:15:59.511Z"
   },
   {
    "duration": 251,
    "start_time": "2022-04-20T07:15:59.529Z"
   },
   {
    "duration": 304,
    "start_time": "2022-04-20T07:15:59.782Z"
   },
   {
    "duration": 312,
    "start_time": "2022-04-20T07:16:00.088Z"
   },
   {
    "duration": 41,
    "start_time": "2022-04-20T07:16:00.401Z"
   },
   {
    "duration": 299,
    "start_time": "2022-04-20T07:16:00.444Z"
   },
   {
    "duration": 274,
    "start_time": "2022-04-20T07:16:00.744Z"
   },
   {
    "duration": 361,
    "start_time": "2022-04-20T07:16:01.020Z"
   },
   {
    "duration": 285,
    "start_time": "2022-04-20T07:16:01.382Z"
   },
   {
    "duration": 272,
    "start_time": "2022-04-20T07:16:01.669Z"
   },
   {
    "duration": 278,
    "start_time": "2022-04-20T07:16:01.943Z"
   },
   {
    "duration": 14,
    "start_time": "2022-04-20T07:16:02.223Z"
   },
   {
    "duration": 25,
    "start_time": "2022-04-20T07:16:02.238Z"
   },
   {
    "duration": 6,
    "start_time": "2022-04-20T07:16:02.265Z"
   },
   {
    "duration": 14,
    "start_time": "2022-04-20T07:16:02.272Z"
   },
   {
    "duration": 11,
    "start_time": "2022-04-20T07:16:02.288Z"
   },
   {
    "duration": 5,
    "start_time": "2022-04-20T07:16:02.300Z"
   },
   {
    "duration": 198,
    "start_time": "2022-04-20T07:17:59.559Z"
   },
   {
    "duration": 21,
    "start_time": "2022-04-20T07:18:08.997Z"
   },
   {
    "duration": 173,
    "start_time": "2022-04-20T07:27:38.142Z"
   },
   {
    "duration": 2381,
    "start_time": "2022-04-20T07:29:35.339Z"
   },
   {
    "duration": 2135,
    "start_time": "2022-04-20T07:32:21.345Z"
   },
   {
    "duration": 2109,
    "start_time": "2022-04-20T07:33:06.818Z"
   },
   {
    "duration": 2327,
    "start_time": "2022-04-20T07:33:25.148Z"
   },
   {
    "duration": 1143,
    "start_time": "2022-04-20T07:33:35.002Z"
   },
   {
    "duration": 219,
    "start_time": "2022-04-20T07:33:36.148Z"
   },
   {
    "duration": 26,
    "start_time": "2022-04-20T07:33:36.368Z"
   },
   {
    "duration": 212,
    "start_time": "2022-04-20T07:33:36.397Z"
   },
   {
    "duration": 21,
    "start_time": "2022-04-20T07:33:36.611Z"
   },
   {
    "duration": 154,
    "start_time": "2022-04-20T07:33:36.634Z"
   },
   {
    "duration": 18,
    "start_time": "2022-04-20T07:33:36.790Z"
   },
   {
    "duration": 94,
    "start_time": "2022-04-20T07:33:36.810Z"
   },
   {
    "duration": 11,
    "start_time": "2022-04-20T07:33:36.905Z"
   },
   {
    "duration": 91,
    "start_time": "2022-04-20T07:33:36.918Z"
   },
   {
    "duration": 10,
    "start_time": "2022-04-20T07:33:37.011Z"
   },
   {
    "duration": 238,
    "start_time": "2022-04-20T07:33:37.023Z"
   },
   {
    "duration": 10,
    "start_time": "2022-04-20T07:33:37.263Z"
   },
   {
    "duration": 19,
    "start_time": "2022-04-20T07:33:37.275Z"
   },
   {
    "duration": 19,
    "start_time": "2022-04-20T07:33:37.296Z"
   },
   {
    "duration": 49,
    "start_time": "2022-04-20T07:33:37.317Z"
   },
   {
    "duration": 40,
    "start_time": "2022-04-20T07:33:37.368Z"
   },
   {
    "duration": 68,
    "start_time": "2022-04-20T07:33:37.409Z"
   },
   {
    "duration": 11,
    "start_time": "2022-04-20T07:33:37.478Z"
   },
   {
    "duration": 120,
    "start_time": "2022-04-20T07:33:37.490Z"
   },
   {
    "duration": 0,
    "start_time": "2022-04-20T07:33:37.612Z"
   },
   {
    "duration": 0,
    "start_time": "2022-04-20T07:33:37.613Z"
   },
   {
    "duration": 0,
    "start_time": "2022-04-20T07:33:37.614Z"
   },
   {
    "duration": 0,
    "start_time": "2022-04-20T07:33:37.615Z"
   },
   {
    "duration": 0,
    "start_time": "2022-04-20T07:33:37.616Z"
   },
   {
    "duration": 0,
    "start_time": "2022-04-20T07:33:37.617Z"
   },
   {
    "duration": 0,
    "start_time": "2022-04-20T07:33:37.618Z"
   },
   {
    "duration": 0,
    "start_time": "2022-04-20T07:33:37.619Z"
   },
   {
    "duration": 0,
    "start_time": "2022-04-20T07:33:37.621Z"
   },
   {
    "duration": 0,
    "start_time": "2022-04-20T07:33:37.622Z"
   },
   {
    "duration": 0,
    "start_time": "2022-04-20T07:33:37.623Z"
   },
   {
    "duration": 0,
    "start_time": "2022-04-20T07:33:37.624Z"
   },
   {
    "duration": 0,
    "start_time": "2022-04-20T07:33:37.625Z"
   },
   {
    "duration": 0,
    "start_time": "2022-04-20T07:33:37.626Z"
   },
   {
    "duration": 0,
    "start_time": "2022-04-20T07:33:37.627Z"
   },
   {
    "duration": 0,
    "start_time": "2022-04-20T07:33:37.629Z"
   },
   {
    "duration": 0,
    "start_time": "2022-04-20T07:33:37.654Z"
   },
   {
    "duration": 0,
    "start_time": "2022-04-20T07:33:37.655Z"
   },
   {
    "duration": 0,
    "start_time": "2022-04-20T07:33:37.656Z"
   },
   {
    "duration": 0,
    "start_time": "2022-04-20T07:33:37.657Z"
   },
   {
    "duration": 0,
    "start_time": "2022-04-20T07:33:37.658Z"
   },
   {
    "duration": 0,
    "start_time": "2022-04-20T07:33:37.660Z"
   },
   {
    "duration": 0,
    "start_time": "2022-04-20T07:33:37.661Z"
   },
   {
    "duration": 0,
    "start_time": "2022-04-20T07:33:37.662Z"
   },
   {
    "duration": 0,
    "start_time": "2022-04-20T07:33:37.663Z"
   },
   {
    "duration": 0,
    "start_time": "2022-04-20T07:33:37.665Z"
   },
   {
    "duration": 0,
    "start_time": "2022-04-20T07:33:37.665Z"
   },
   {
    "duration": 0,
    "start_time": "2022-04-20T07:33:37.667Z"
   },
   {
    "duration": 39,
    "start_time": "2022-04-20T07:34:11.319Z"
   },
   {
    "duration": 41,
    "start_time": "2022-04-20T07:34:31.032Z"
   },
   {
    "duration": 2149,
    "start_time": "2022-04-20T07:37:04.665Z"
   },
   {
    "duration": 3,
    "start_time": "2022-04-20T07:37:21.308Z"
   },
   {
    "duration": 272,
    "start_time": "2022-04-20T07:37:21.315Z"
   },
   {
    "duration": 26,
    "start_time": "2022-04-20T07:37:21.589Z"
   },
   {
    "duration": 266,
    "start_time": "2022-04-20T07:37:21.617Z"
   },
   {
    "duration": 21,
    "start_time": "2022-04-20T07:37:21.885Z"
   },
   {
    "duration": 155,
    "start_time": "2022-04-20T07:37:21.908Z"
   },
   {
    "duration": 17,
    "start_time": "2022-04-20T07:37:22.065Z"
   },
   {
    "duration": 110,
    "start_time": "2022-04-20T07:37:22.083Z"
   },
   {
    "duration": 11,
    "start_time": "2022-04-20T07:37:22.195Z"
   },
   {
    "duration": 102,
    "start_time": "2022-04-20T07:37:22.208Z"
   },
   {
    "duration": 9,
    "start_time": "2022-04-20T07:37:22.313Z"
   },
   {
    "duration": 201,
    "start_time": "2022-04-20T07:37:22.324Z"
   },
   {
    "duration": 9,
    "start_time": "2022-04-20T07:37:22.527Z"
   },
   {
    "duration": 21,
    "start_time": "2022-04-20T07:37:22.538Z"
   },
   {
    "duration": 50,
    "start_time": "2022-04-20T07:37:22.561Z"
   },
   {
    "duration": 66,
    "start_time": "2022-04-20T07:37:22.613Z"
   },
   {
    "duration": 38,
    "start_time": "2022-04-20T07:37:22.681Z"
   },
   {
    "duration": 58,
    "start_time": "2022-04-20T07:37:22.721Z"
   },
   {
    "duration": 15,
    "start_time": "2022-04-20T07:37:22.781Z"
   },
   {
    "duration": 37,
    "start_time": "2022-04-20T07:37:22.797Z"
   },
   {
    "duration": 23,
    "start_time": "2022-04-20T07:37:22.836Z"
   },
   {
    "duration": 35,
    "start_time": "2022-04-20T07:37:22.860Z"
   },
   {
    "duration": 13,
    "start_time": "2022-04-20T07:37:22.897Z"
   },
   {
    "duration": 33,
    "start_time": "2022-04-20T07:37:22.911Z"
   },
   {
    "duration": 32,
    "start_time": "2022-04-20T07:37:22.946Z"
   },
   {
    "duration": 22,
    "start_time": "2022-04-20T07:37:22.979Z"
   },
   {
    "duration": 0,
    "start_time": "2022-04-20T07:37:23.003Z"
   },
   {
    "duration": 0,
    "start_time": "2022-04-20T07:37:23.004Z"
   },
   {
    "duration": 0,
    "start_time": "2022-04-20T07:37:23.005Z"
   },
   {
    "duration": 0,
    "start_time": "2022-04-20T07:37:23.006Z"
   },
   {
    "duration": 0,
    "start_time": "2022-04-20T07:37:23.007Z"
   },
   {
    "duration": 0,
    "start_time": "2022-04-20T07:37:23.009Z"
   },
   {
    "duration": 0,
    "start_time": "2022-04-20T07:37:23.009Z"
   },
   {
    "duration": 0,
    "start_time": "2022-04-20T07:37:23.011Z"
   },
   {
    "duration": 0,
    "start_time": "2022-04-20T07:37:23.012Z"
   },
   {
    "duration": 0,
    "start_time": "2022-04-20T07:37:23.013Z"
   },
   {
    "duration": 0,
    "start_time": "2022-04-20T07:37:23.014Z"
   },
   {
    "duration": 0,
    "start_time": "2022-04-20T07:37:23.015Z"
   },
   {
    "duration": 0,
    "start_time": "2022-04-20T07:37:23.016Z"
   },
   {
    "duration": 0,
    "start_time": "2022-04-20T07:37:23.017Z"
   },
   {
    "duration": 0,
    "start_time": "2022-04-20T07:37:23.018Z"
   },
   {
    "duration": 0,
    "start_time": "2022-04-20T07:37:23.019Z"
   },
   {
    "duration": 0,
    "start_time": "2022-04-20T07:37:23.020Z"
   },
   {
    "duration": 0,
    "start_time": "2022-04-20T07:37:23.021Z"
   },
   {
    "duration": 0,
    "start_time": "2022-04-20T07:37:23.022Z"
   },
   {
    "duration": 0,
    "start_time": "2022-04-20T07:37:23.023Z"
   },
   {
    "duration": 0,
    "start_time": "2022-04-20T07:37:23.024Z"
   },
   {
    "duration": 0,
    "start_time": "2022-04-20T07:37:23.025Z"
   },
   {
    "duration": 1984,
    "start_time": "2022-04-20T07:37:46.055Z"
   },
   {
    "duration": 3,
    "start_time": "2022-04-20T07:37:51.749Z"
   },
   {
    "duration": 217,
    "start_time": "2022-04-20T07:37:51.756Z"
   },
   {
    "duration": 23,
    "start_time": "2022-04-20T07:37:51.974Z"
   },
   {
    "duration": 192,
    "start_time": "2022-04-20T07:37:51.998Z"
   },
   {
    "duration": 20,
    "start_time": "2022-04-20T07:37:52.192Z"
   },
   {
    "duration": 151,
    "start_time": "2022-04-20T07:37:52.214Z"
   },
   {
    "duration": 17,
    "start_time": "2022-04-20T07:37:52.367Z"
   },
   {
    "duration": 79,
    "start_time": "2022-04-20T07:37:52.385Z"
   },
   {
    "duration": 9,
    "start_time": "2022-04-20T07:37:52.466Z"
   },
   {
    "duration": 130,
    "start_time": "2022-04-20T07:37:52.477Z"
   },
   {
    "duration": 10,
    "start_time": "2022-04-20T07:37:52.609Z"
   },
   {
    "duration": 192,
    "start_time": "2022-04-20T07:37:52.620Z"
   },
   {
    "duration": 9,
    "start_time": "2022-04-20T07:37:52.814Z"
   },
   {
    "duration": 7,
    "start_time": "2022-04-20T07:37:52.825Z"
   },
   {
    "duration": 34,
    "start_time": "2022-04-20T07:37:52.833Z"
   },
   {
    "duration": 52,
    "start_time": "2022-04-20T07:37:52.869Z"
   },
   {
    "duration": 50,
    "start_time": "2022-04-20T07:37:52.923Z"
   },
   {
    "duration": 43,
    "start_time": "2022-04-20T07:37:52.975Z"
   },
   {
    "duration": 9,
    "start_time": "2022-04-20T07:37:53.020Z"
   },
   {
    "duration": 41,
    "start_time": "2022-04-20T07:37:53.031Z"
   },
   {
    "duration": 22,
    "start_time": "2022-04-20T07:37:53.074Z"
   },
   {
    "duration": 17,
    "start_time": "2022-04-20T07:37:53.097Z"
   },
   {
    "duration": 9,
    "start_time": "2022-04-20T07:37:53.116Z"
   },
   {
    "duration": 40,
    "start_time": "2022-04-20T07:37:53.126Z"
   },
   {
    "duration": 12,
    "start_time": "2022-04-20T07:37:53.168Z"
   },
   {
    "duration": 18,
    "start_time": "2022-04-20T07:37:53.182Z"
   },
   {
    "duration": 0,
    "start_time": "2022-04-20T07:37:53.201Z"
   },
   {
    "duration": 0,
    "start_time": "2022-04-20T07:37:53.203Z"
   },
   {
    "duration": 0,
    "start_time": "2022-04-20T07:37:53.203Z"
   },
   {
    "duration": 0,
    "start_time": "2022-04-20T07:37:53.204Z"
   },
   {
    "duration": 0,
    "start_time": "2022-04-20T07:37:53.205Z"
   },
   {
    "duration": 0,
    "start_time": "2022-04-20T07:37:53.206Z"
   },
   {
    "duration": 0,
    "start_time": "2022-04-20T07:37:53.207Z"
   },
   {
    "duration": 0,
    "start_time": "2022-04-20T07:37:53.209Z"
   },
   {
    "duration": 0,
    "start_time": "2022-04-20T07:37:53.210Z"
   },
   {
    "duration": 0,
    "start_time": "2022-04-20T07:37:53.211Z"
   },
   {
    "duration": 0,
    "start_time": "2022-04-20T07:37:53.212Z"
   },
   {
    "duration": 0,
    "start_time": "2022-04-20T07:37:53.213Z"
   },
   {
    "duration": 0,
    "start_time": "2022-04-20T07:37:53.214Z"
   },
   {
    "duration": 0,
    "start_time": "2022-04-20T07:37:53.215Z"
   },
   {
    "duration": 0,
    "start_time": "2022-04-20T07:37:53.217Z"
   },
   {
    "duration": 0,
    "start_time": "2022-04-20T07:37:53.255Z"
   },
   {
    "duration": 0,
    "start_time": "2022-04-20T07:37:53.256Z"
   },
   {
    "duration": 0,
    "start_time": "2022-04-20T07:37:53.257Z"
   },
   {
    "duration": 0,
    "start_time": "2022-04-20T07:37:53.258Z"
   },
   {
    "duration": 1,
    "start_time": "2022-04-20T07:37:53.258Z"
   },
   {
    "duration": 0,
    "start_time": "2022-04-20T07:37:53.259Z"
   },
   {
    "duration": 0,
    "start_time": "2022-04-20T07:37:53.260Z"
   },
   {
    "duration": 4,
    "start_time": "2022-04-20T07:42:38.565Z"
   },
   {
    "duration": 221,
    "start_time": "2022-04-20T07:42:38.573Z"
   },
   {
    "duration": 25,
    "start_time": "2022-04-20T07:42:38.796Z"
   },
   {
    "duration": 196,
    "start_time": "2022-04-20T07:42:38.823Z"
   },
   {
    "duration": 21,
    "start_time": "2022-04-20T07:42:39.021Z"
   },
   {
    "duration": 159,
    "start_time": "2022-04-20T07:42:39.043Z"
   },
   {
    "duration": 19,
    "start_time": "2022-04-20T07:42:39.204Z"
   },
   {
    "duration": 81,
    "start_time": "2022-04-20T07:42:39.225Z"
   },
   {
    "duration": 10,
    "start_time": "2022-04-20T07:42:39.308Z"
   },
   {
    "duration": 82,
    "start_time": "2022-04-20T07:42:39.320Z"
   },
   {
    "duration": 10,
    "start_time": "2022-04-20T07:42:39.404Z"
   },
   {
    "duration": 188,
    "start_time": "2022-04-20T07:42:39.415Z"
   },
   {
    "duration": 9,
    "start_time": "2022-04-20T07:42:39.605Z"
   },
   {
    "duration": 7,
    "start_time": "2022-04-20T07:42:39.616Z"
   },
   {
    "duration": 41,
    "start_time": "2022-04-20T07:42:39.625Z"
   },
   {
    "duration": 89,
    "start_time": "2022-04-20T07:42:39.668Z"
   },
   {
    "duration": 2126,
    "start_time": "2022-04-20T07:42:39.759Z"
   },
   {
    "duration": 0,
    "start_time": "2022-04-20T07:42:41.888Z"
   },
   {
    "duration": 0,
    "start_time": "2022-04-20T07:42:41.890Z"
   },
   {
    "duration": 0,
    "start_time": "2022-04-20T07:42:41.891Z"
   },
   {
    "duration": 0,
    "start_time": "2022-04-20T07:42:41.892Z"
   },
   {
    "duration": 0,
    "start_time": "2022-04-20T07:42:41.894Z"
   },
   {
    "duration": 0,
    "start_time": "2022-04-20T07:42:41.895Z"
   },
   {
    "duration": 1,
    "start_time": "2022-04-20T07:42:41.896Z"
   },
   {
    "duration": 0,
    "start_time": "2022-04-20T07:42:41.897Z"
   },
   {
    "duration": 0,
    "start_time": "2022-04-20T07:42:41.899Z"
   },
   {
    "duration": 0,
    "start_time": "2022-04-20T07:42:41.900Z"
   },
   {
    "duration": 0,
    "start_time": "2022-04-20T07:42:41.901Z"
   },
   {
    "duration": 0,
    "start_time": "2022-04-20T07:42:41.902Z"
   },
   {
    "duration": 0,
    "start_time": "2022-04-20T07:42:41.903Z"
   },
   {
    "duration": 0,
    "start_time": "2022-04-20T07:42:41.904Z"
   },
   {
    "duration": 0,
    "start_time": "2022-04-20T07:42:41.905Z"
   },
   {
    "duration": 0,
    "start_time": "2022-04-20T07:42:41.906Z"
   },
   {
    "duration": 0,
    "start_time": "2022-04-20T07:42:41.907Z"
   },
   {
    "duration": 0,
    "start_time": "2022-04-20T07:42:41.907Z"
   },
   {
    "duration": 0,
    "start_time": "2022-04-20T07:42:41.908Z"
   },
   {
    "duration": 0,
    "start_time": "2022-04-20T07:42:41.909Z"
   },
   {
    "duration": 0,
    "start_time": "2022-04-20T07:42:41.910Z"
   },
   {
    "duration": 0,
    "start_time": "2022-04-20T07:42:41.911Z"
   },
   {
    "duration": 0,
    "start_time": "2022-04-20T07:42:41.911Z"
   },
   {
    "duration": 0,
    "start_time": "2022-04-20T07:42:41.912Z"
   },
   {
    "duration": 0,
    "start_time": "2022-04-20T07:42:41.913Z"
   },
   {
    "duration": 0,
    "start_time": "2022-04-20T07:42:41.914Z"
   },
   {
    "duration": 0,
    "start_time": "2022-04-20T07:42:41.914Z"
   },
   {
    "duration": 1,
    "start_time": "2022-04-20T07:42:41.915Z"
   },
   {
    "duration": 0,
    "start_time": "2022-04-20T07:42:41.917Z"
   },
   {
    "duration": 0,
    "start_time": "2022-04-20T07:42:41.917Z"
   },
   {
    "duration": 0,
    "start_time": "2022-04-20T07:42:41.918Z"
   },
   {
    "duration": 37,
    "start_time": "2022-04-20T07:43:21.115Z"
   },
   {
    "duration": 44,
    "start_time": "2022-04-20T07:43:26.974Z"
   },
   {
    "duration": 10,
    "start_time": "2022-04-20T07:43:33.050Z"
   },
   {
    "duration": 24,
    "start_time": "2022-04-20T07:43:43.605Z"
   },
   {
    "duration": 22,
    "start_time": "2022-04-20T07:43:47.805Z"
   },
   {
    "duration": 23,
    "start_time": "2022-04-20T07:43:54.025Z"
   },
   {
    "duration": 10,
    "start_time": "2022-04-20T07:44:21.393Z"
   },
   {
    "duration": 15,
    "start_time": "2022-04-20T07:44:26.425Z"
   },
   {
    "duration": 11,
    "start_time": "2022-04-20T07:44:36.196Z"
   },
   {
    "duration": 23,
    "start_time": "2022-04-20T07:44:38.231Z"
   },
   {
    "duration": 22,
    "start_time": "2022-04-20T07:44:43.198Z"
   },
   {
    "duration": 366,
    "start_time": "2022-04-20T07:45:22.515Z"
   },
   {
    "duration": 286,
    "start_time": "2022-04-20T07:45:28.340Z"
   },
   {
    "duration": 552,
    "start_time": "2022-04-20T07:45:33.839Z"
   },
   {
    "duration": 654,
    "start_time": "2022-04-20T07:45:40.039Z"
   },
   {
    "duration": 62,
    "start_time": "2022-04-20T07:45:46.641Z"
   },
   {
    "duration": 307,
    "start_time": "2022-04-20T07:45:52.862Z"
   },
   {
    "duration": 311,
    "start_time": "2022-04-20T07:46:04.187Z"
   },
   {
    "duration": 302,
    "start_time": "2022-04-20T07:46:14.763Z"
   },
   {
    "duration": 319,
    "start_time": "2022-04-20T07:46:19.800Z"
   },
   {
    "duration": 318,
    "start_time": "2022-04-20T07:46:24.853Z"
   },
   {
    "duration": 397,
    "start_time": "2022-04-20T07:46:30.073Z"
   },
   {
    "duration": 124,
    "start_time": "2022-04-20T08:06:40.526Z"
   },
   {
    "duration": 129,
    "start_time": "2022-04-20T08:20:53.960Z"
   },
   {
    "duration": 22,
    "start_time": "2022-04-20T08:24:43.353Z"
   },
   {
    "duration": 10,
    "start_time": "2022-04-20T09:03:25.716Z"
   },
   {
    "duration": 10,
    "start_time": "2022-04-20T09:05:24.563Z"
   },
   {
    "duration": 368,
    "start_time": "2022-04-20T09:06:14.258Z"
   },
   {
    "duration": 362,
    "start_time": "2022-04-20T09:06:53.339Z"
   },
   {
    "duration": 272,
    "start_time": "2022-04-20T09:09:39.030Z"
   },
   {
    "duration": 552,
    "start_time": "2022-04-20T09:10:01.054Z"
   },
   {
    "duration": 4,
    "start_time": "2022-04-20T09:12:37.405Z"
   },
   {
    "duration": 324,
    "start_time": "2022-04-20T09:24:06.489Z"
   },
   {
    "duration": 322,
    "start_time": "2022-04-20T09:24:21.845Z"
   },
   {
    "duration": 438,
    "start_time": "2022-04-20T09:25:03.706Z"
   },
   {
    "duration": 1150,
    "start_time": "2022-04-20T09:25:47.705Z"
   },
   {
    "duration": 212,
    "start_time": "2022-04-20T09:25:48.857Z"
   },
   {
    "duration": 24,
    "start_time": "2022-04-20T09:25:49.071Z"
   },
   {
    "duration": 214,
    "start_time": "2022-04-20T09:25:49.097Z"
   },
   {
    "duration": 20,
    "start_time": "2022-04-20T09:25:49.313Z"
   },
   {
    "duration": 160,
    "start_time": "2022-04-20T09:25:49.335Z"
   },
   {
    "duration": 19,
    "start_time": "2022-04-20T09:25:49.497Z"
   },
   {
    "duration": 81,
    "start_time": "2022-04-20T09:25:49.518Z"
   },
   {
    "duration": 9,
    "start_time": "2022-04-20T09:25:49.601Z"
   },
   {
    "duration": 86,
    "start_time": "2022-04-20T09:25:49.613Z"
   },
   {
    "duration": 10,
    "start_time": "2022-04-20T09:25:49.700Z"
   },
   {
    "duration": 209,
    "start_time": "2022-04-20T09:25:49.711Z"
   },
   {
    "duration": 10,
    "start_time": "2022-04-20T09:25:49.921Z"
   },
   {
    "duration": 23,
    "start_time": "2022-04-20T09:25:49.932Z"
   },
   {
    "duration": 13,
    "start_time": "2022-04-20T09:25:49.957Z"
   },
   {
    "duration": 57,
    "start_time": "2022-04-20T09:25:49.972Z"
   },
   {
    "duration": 54,
    "start_time": "2022-04-20T09:25:50.031Z"
   },
   {
    "duration": 44,
    "start_time": "2022-04-20T09:25:50.086Z"
   },
   {
    "duration": 25,
    "start_time": "2022-04-20T09:25:50.132Z"
   },
   {
    "duration": 28,
    "start_time": "2022-04-20T09:25:50.159Z"
   },
   {
    "duration": 25,
    "start_time": "2022-04-20T09:25:50.189Z"
   },
   {
    "duration": 39,
    "start_time": "2022-04-20T09:25:50.216Z"
   },
   {
    "duration": 10,
    "start_time": "2022-04-20T09:25:50.257Z"
   },
   {
    "duration": 28,
    "start_time": "2022-04-20T09:25:50.269Z"
   },
   {
    "duration": 24,
    "start_time": "2022-04-20T09:25:50.298Z"
   },
   {
    "duration": 35,
    "start_time": "2022-04-20T09:25:50.323Z"
   },
   {
    "duration": 21,
    "start_time": "2022-04-20T09:25:50.359Z"
   },
   {
    "duration": 15,
    "start_time": "2022-04-20T09:25:50.385Z"
   },
   {
    "duration": 27,
    "start_time": "2022-04-20T09:25:50.401Z"
   },
   {
    "duration": 36,
    "start_time": "2022-04-20T09:25:50.429Z"
   },
   {
    "duration": 13,
    "start_time": "2022-04-20T09:25:50.466Z"
   },
   {
    "duration": 25,
    "start_time": "2022-04-20T09:25:50.481Z"
   },
   {
    "duration": 302,
    "start_time": "2022-04-20T09:25:50.508Z"
   },
   {
    "duration": 329,
    "start_time": "2022-04-20T09:25:50.812Z"
   },
   {
    "duration": 351,
    "start_time": "2022-04-20T09:25:51.143Z"
   },
   {
    "duration": 125,
    "start_time": "2022-04-20T09:25:51.495Z"
   },
   {
    "duration": 0,
    "start_time": "2022-04-20T09:25:51.622Z"
   },
   {
    "duration": 0,
    "start_time": "2022-04-20T09:25:51.623Z"
   },
   {
    "duration": 0,
    "start_time": "2022-04-20T09:25:51.624Z"
   },
   {
    "duration": 0,
    "start_time": "2022-04-20T09:25:51.625Z"
   },
   {
    "duration": 0,
    "start_time": "2022-04-20T09:25:51.626Z"
   },
   {
    "duration": 0,
    "start_time": "2022-04-20T09:25:51.627Z"
   },
   {
    "duration": 0,
    "start_time": "2022-04-20T09:25:51.627Z"
   },
   {
    "duration": 0,
    "start_time": "2022-04-20T09:25:51.628Z"
   },
   {
    "duration": 0,
    "start_time": "2022-04-20T09:25:51.629Z"
   },
   {
    "duration": 0,
    "start_time": "2022-04-20T09:25:51.631Z"
   },
   {
    "duration": 0,
    "start_time": "2022-04-20T09:25:51.632Z"
   },
   {
    "duration": 0,
    "start_time": "2022-04-20T09:25:51.654Z"
   },
   {
    "duration": 0,
    "start_time": "2022-04-20T09:25:51.655Z"
   },
   {
    "duration": 333,
    "start_time": "2022-04-20T09:26:56.508Z"
   },
   {
    "duration": 21,
    "start_time": "2022-04-20T09:28:29.679Z"
   },
   {
    "duration": 3,
    "start_time": "2022-04-20T09:28:52.286Z"
   },
   {
    "duration": 219,
    "start_time": "2022-04-20T09:28:52.294Z"
   },
   {
    "duration": 28,
    "start_time": "2022-04-20T09:28:52.515Z"
   },
   {
    "duration": 214,
    "start_time": "2022-04-20T09:28:52.545Z"
   },
   {
    "duration": 21,
    "start_time": "2022-04-20T09:28:52.761Z"
   },
   {
    "duration": 139,
    "start_time": "2022-04-20T09:28:52.783Z"
   },
   {
    "duration": 18,
    "start_time": "2022-04-20T09:28:52.924Z"
   },
   {
    "duration": 89,
    "start_time": "2022-04-20T09:28:52.943Z"
   },
   {
    "duration": 10,
    "start_time": "2022-04-20T09:28:53.034Z"
   },
   {
    "duration": 111,
    "start_time": "2022-04-20T09:28:53.045Z"
   },
   {
    "duration": 11,
    "start_time": "2022-04-20T09:28:53.160Z"
   },
   {
    "duration": 198,
    "start_time": "2022-04-20T09:28:53.172Z"
   },
   {
    "duration": 11,
    "start_time": "2022-04-20T09:28:53.372Z"
   },
   {
    "duration": 19,
    "start_time": "2022-04-20T09:28:53.385Z"
   },
   {
    "duration": 37,
    "start_time": "2022-04-20T09:28:53.406Z"
   },
   {
    "duration": 64,
    "start_time": "2022-04-20T09:28:53.445Z"
   },
   {
    "duration": 36,
    "start_time": "2022-04-20T09:28:53.511Z"
   },
   {
    "duration": 48,
    "start_time": "2022-04-20T09:28:53.548Z"
   },
   {
    "duration": 8,
    "start_time": "2022-04-20T09:28:53.598Z"
   },
   {
    "duration": 47,
    "start_time": "2022-04-20T09:28:53.608Z"
   },
   {
    "duration": 20,
    "start_time": "2022-04-20T09:28:53.656Z"
   },
   {
    "duration": 22,
    "start_time": "2022-04-20T09:28:53.678Z"
   },
   {
    "duration": 10,
    "start_time": "2022-04-20T09:28:53.702Z"
   },
   {
    "duration": 45,
    "start_time": "2022-04-20T09:28:53.713Z"
   },
   {
    "duration": 29,
    "start_time": "2022-04-20T09:28:53.760Z"
   },
   {
    "duration": 36,
    "start_time": "2022-04-20T09:28:53.790Z"
   },
   {
    "duration": 21,
    "start_time": "2022-04-20T09:28:53.827Z"
   },
   {
    "duration": 17,
    "start_time": "2022-04-20T09:28:53.850Z"
   },
   {
    "duration": 30,
    "start_time": "2022-04-20T09:28:53.870Z"
   },
   {
    "duration": 28,
    "start_time": "2022-04-20T09:28:53.902Z"
   },
   {
    "duration": 31,
    "start_time": "2022-04-20T09:28:53.932Z"
   },
   {
    "duration": 24,
    "start_time": "2022-04-20T09:28:53.964Z"
   },
   {
    "duration": 401,
    "start_time": "2022-04-20T09:28:53.990Z"
   },
   {
    "duration": 304,
    "start_time": "2022-04-20T09:28:54.392Z"
   },
   {
    "duration": 313,
    "start_time": "2022-04-20T09:28:54.698Z"
   },
   {
    "duration": 23,
    "start_time": "2022-04-20T09:28:55.012Z"
   },
   {
    "duration": 0,
    "start_time": "2022-04-20T09:28:55.037Z"
   },
   {
    "duration": 0,
    "start_time": "2022-04-20T09:28:55.038Z"
   },
   {
    "duration": 0,
    "start_time": "2022-04-20T09:28:55.054Z"
   },
   {
    "duration": 0,
    "start_time": "2022-04-20T09:28:55.055Z"
   },
   {
    "duration": 0,
    "start_time": "2022-04-20T09:28:55.056Z"
   },
   {
    "duration": 0,
    "start_time": "2022-04-20T09:28:55.057Z"
   },
   {
    "duration": 0,
    "start_time": "2022-04-20T09:28:55.058Z"
   },
   {
    "duration": 0,
    "start_time": "2022-04-20T09:28:55.060Z"
   },
   {
    "duration": 0,
    "start_time": "2022-04-20T09:28:55.061Z"
   },
   {
    "duration": 0,
    "start_time": "2022-04-20T09:28:55.062Z"
   },
   {
    "duration": 0,
    "start_time": "2022-04-20T09:28:55.063Z"
   },
   {
    "duration": 0,
    "start_time": "2022-04-20T09:28:55.064Z"
   },
   {
    "duration": 0,
    "start_time": "2022-04-20T09:28:55.065Z"
   },
   {
    "duration": 25,
    "start_time": "2022-04-20T09:29:49.038Z"
   },
   {
    "duration": 20,
    "start_time": "2022-04-20T09:29:57.199Z"
   },
   {
    "duration": 1152,
    "start_time": "2022-04-20T09:30:20.940Z"
   },
   {
    "duration": 207,
    "start_time": "2022-04-20T09:30:22.093Z"
   },
   {
    "duration": 25,
    "start_time": "2022-04-20T09:30:22.301Z"
   },
   {
    "duration": 220,
    "start_time": "2022-04-20T09:30:22.328Z"
   },
   {
    "duration": 23,
    "start_time": "2022-04-20T09:30:22.550Z"
   },
   {
    "duration": 144,
    "start_time": "2022-04-20T09:30:22.575Z"
   },
   {
    "duration": 17,
    "start_time": "2022-04-20T09:30:22.721Z"
   },
   {
    "duration": 83,
    "start_time": "2022-04-20T09:30:22.740Z"
   },
   {
    "duration": 11,
    "start_time": "2022-04-20T09:30:22.824Z"
   },
   {
    "duration": 91,
    "start_time": "2022-04-20T09:30:22.837Z"
   },
   {
    "duration": 10,
    "start_time": "2022-04-20T09:30:22.930Z"
   },
   {
    "duration": 204,
    "start_time": "2022-04-20T09:30:22.942Z"
   },
   {
    "duration": 9,
    "start_time": "2022-04-20T09:30:23.154Z"
   },
   {
    "duration": 12,
    "start_time": "2022-04-20T09:30:23.164Z"
   },
   {
    "duration": 13,
    "start_time": "2022-04-20T09:30:23.177Z"
   },
   {
    "duration": 74,
    "start_time": "2022-04-20T09:30:23.192Z"
   },
   {
    "duration": 36,
    "start_time": "2022-04-20T09:30:23.267Z"
   },
   {
    "duration": 60,
    "start_time": "2022-04-20T09:30:23.304Z"
   },
   {
    "duration": 8,
    "start_time": "2022-04-20T09:30:23.366Z"
   },
   {
    "duration": 53,
    "start_time": "2022-04-20T09:30:23.376Z"
   },
   {
    "duration": 24,
    "start_time": "2022-04-20T09:30:23.431Z"
   },
   {
    "duration": 20,
    "start_time": "2022-04-20T09:30:23.457Z"
   },
   {
    "duration": 10,
    "start_time": "2022-04-20T09:30:23.478Z"
   },
   {
    "duration": 16,
    "start_time": "2022-04-20T09:30:23.490Z"
   },
   {
    "duration": 17,
    "start_time": "2022-04-20T09:30:23.508Z"
   },
   {
    "duration": 43,
    "start_time": "2022-04-20T09:30:23.527Z"
   },
   {
    "duration": 20,
    "start_time": "2022-04-20T09:30:23.571Z"
   },
   {
    "duration": 15,
    "start_time": "2022-04-20T09:30:23.594Z"
   },
   {
    "duration": 13,
    "start_time": "2022-04-20T09:30:23.610Z"
   },
   {
    "duration": 36,
    "start_time": "2022-04-20T09:30:23.625Z"
   },
   {
    "duration": 12,
    "start_time": "2022-04-20T09:30:23.663Z"
   },
   {
    "duration": 15,
    "start_time": "2022-04-20T09:30:23.676Z"
   },
   {
    "duration": 313,
    "start_time": "2022-04-20T09:30:23.692Z"
   },
   {
    "duration": 313,
    "start_time": "2022-04-20T09:30:24.006Z"
   },
   {
    "duration": 343,
    "start_time": "2022-04-20T09:30:24.321Z"
   },
   {
    "duration": 122,
    "start_time": "2022-04-20T09:30:24.665Z"
   },
   {
    "duration": 0,
    "start_time": "2022-04-20T09:30:24.789Z"
   },
   {
    "duration": 0,
    "start_time": "2022-04-20T09:30:24.790Z"
   },
   {
    "duration": 0,
    "start_time": "2022-04-20T09:30:24.791Z"
   },
   {
    "duration": 0,
    "start_time": "2022-04-20T09:30:24.792Z"
   },
   {
    "duration": 0,
    "start_time": "2022-04-20T09:30:24.793Z"
   },
   {
    "duration": 0,
    "start_time": "2022-04-20T09:30:24.794Z"
   },
   {
    "duration": 0,
    "start_time": "2022-04-20T09:30:24.795Z"
   },
   {
    "duration": 0,
    "start_time": "2022-04-20T09:30:24.796Z"
   },
   {
    "duration": 0,
    "start_time": "2022-04-20T09:30:24.797Z"
   },
   {
    "duration": 0,
    "start_time": "2022-04-20T09:30:24.798Z"
   },
   {
    "duration": 0,
    "start_time": "2022-04-20T09:30:24.799Z"
   },
   {
    "duration": 0,
    "start_time": "2022-04-20T09:30:24.800Z"
   },
   {
    "duration": 1,
    "start_time": "2022-04-20T09:30:24.800Z"
   },
   {
    "duration": 13,
    "start_time": "2022-04-20T09:32:40.657Z"
   },
   {
    "duration": 14,
    "start_time": "2022-04-20T09:32:43.396Z"
   },
   {
    "duration": 4,
    "start_time": "2022-04-20T09:32:46.375Z"
   },
   {
    "duration": 219,
    "start_time": "2022-04-20T09:32:46.383Z"
   },
   {
    "duration": 25,
    "start_time": "2022-04-20T09:32:46.604Z"
   },
   {
    "duration": 209,
    "start_time": "2022-04-20T09:32:46.630Z"
   },
   {
    "duration": 22,
    "start_time": "2022-04-20T09:32:46.841Z"
   },
   {
    "duration": 150,
    "start_time": "2022-04-20T09:32:46.865Z"
   },
   {
    "duration": 19,
    "start_time": "2022-04-20T09:32:47.017Z"
   },
   {
    "duration": 76,
    "start_time": "2022-04-20T09:32:47.038Z"
   },
   {
    "duration": 10,
    "start_time": "2022-04-20T09:32:47.115Z"
   },
   {
    "duration": 93,
    "start_time": "2022-04-20T09:32:47.127Z"
   },
   {
    "duration": 11,
    "start_time": "2022-04-20T09:32:47.223Z"
   },
   {
    "duration": 185,
    "start_time": "2022-04-20T09:32:47.236Z"
   },
   {
    "duration": 11,
    "start_time": "2022-04-20T09:32:47.423Z"
   },
   {
    "duration": 24,
    "start_time": "2022-04-20T09:32:47.435Z"
   },
   {
    "duration": 14,
    "start_time": "2022-04-20T09:32:47.460Z"
   },
   {
    "duration": 54,
    "start_time": "2022-04-20T09:32:47.476Z"
   },
   {
    "duration": 58,
    "start_time": "2022-04-20T09:32:47.531Z"
   },
   {
    "duration": 43,
    "start_time": "2022-04-20T09:32:47.591Z"
   },
   {
    "duration": 26,
    "start_time": "2022-04-20T09:32:47.636Z"
   },
   {
    "duration": 27,
    "start_time": "2022-04-20T09:32:47.664Z"
   },
   {
    "duration": 22,
    "start_time": "2022-04-20T09:32:47.693Z"
   },
   {
    "duration": 38,
    "start_time": "2022-04-20T09:32:47.717Z"
   },
   {
    "duration": 10,
    "start_time": "2022-04-20T09:32:47.757Z"
   },
   {
    "duration": 16,
    "start_time": "2022-04-20T09:32:47.768Z"
   },
   {
    "duration": 11,
    "start_time": "2022-04-20T09:32:47.786Z"
   },
   {
    "duration": 24,
    "start_time": "2022-04-20T09:32:47.798Z"
   },
   {
    "duration": 45,
    "start_time": "2022-04-20T09:32:47.823Z"
   },
   {
    "duration": 3,
    "start_time": "2022-04-20T09:32:47.869Z"
   },
   {
    "duration": 14,
    "start_time": "2022-04-20T09:32:47.877Z"
   },
   {
    "duration": 16,
    "start_time": "2022-04-20T09:32:47.892Z"
   },
   {
    "duration": 14,
    "start_time": "2022-04-20T09:32:47.910Z"
   },
   {
    "duration": 43,
    "start_time": "2022-04-20T09:32:47.925Z"
   },
   {
    "duration": 328,
    "start_time": "2022-04-20T09:32:47.969Z"
   },
   {
    "duration": 382,
    "start_time": "2022-04-20T09:32:48.298Z"
   },
   {
    "duration": 326,
    "start_time": "2022-04-20T09:32:48.682Z"
   },
   {
    "duration": 55,
    "start_time": "2022-04-20T09:32:49.009Z"
   },
   {
    "duration": 14,
    "start_time": "2022-04-20T09:32:49.066Z"
   },
   {
    "duration": 0,
    "start_time": "2022-04-20T09:32:49.082Z"
   },
   {
    "duration": 0,
    "start_time": "2022-04-20T09:32:49.083Z"
   },
   {
    "duration": 0,
    "start_time": "2022-04-20T09:32:49.084Z"
   },
   {
    "duration": 0,
    "start_time": "2022-04-20T09:32:49.085Z"
   },
   {
    "duration": 0,
    "start_time": "2022-04-20T09:32:49.086Z"
   },
   {
    "duration": 0,
    "start_time": "2022-04-20T09:32:49.087Z"
   },
   {
    "duration": 0,
    "start_time": "2022-04-20T09:32:49.088Z"
   },
   {
    "duration": 0,
    "start_time": "2022-04-20T09:32:49.089Z"
   },
   {
    "duration": 0,
    "start_time": "2022-04-20T09:32:49.090Z"
   },
   {
    "duration": 0,
    "start_time": "2022-04-20T09:32:49.091Z"
   },
   {
    "duration": 0,
    "start_time": "2022-04-20T09:32:49.092Z"
   },
   {
    "duration": 0,
    "start_time": "2022-04-20T09:32:49.093Z"
   },
   {
    "duration": 6,
    "start_time": "2022-04-20T09:35:26.218Z"
   },
   {
    "duration": 3,
    "start_time": "2022-04-20T09:35:42.964Z"
   },
   {
    "duration": 216,
    "start_time": "2022-04-20T09:35:42.971Z"
   },
   {
    "duration": 25,
    "start_time": "2022-04-20T09:35:43.189Z"
   },
   {
    "duration": 200,
    "start_time": "2022-04-20T09:35:43.216Z"
   },
   {
    "duration": 21,
    "start_time": "2022-04-20T09:35:43.418Z"
   },
   {
    "duration": 149,
    "start_time": "2022-04-20T09:35:43.441Z"
   },
   {
    "duration": 19,
    "start_time": "2022-04-20T09:35:43.591Z"
   },
   {
    "duration": 97,
    "start_time": "2022-04-20T09:35:43.612Z"
   },
   {
    "duration": 10,
    "start_time": "2022-04-20T09:35:43.711Z"
   },
   {
    "duration": 94,
    "start_time": "2022-04-20T09:35:43.723Z"
   },
   {
    "duration": 11,
    "start_time": "2022-04-20T09:35:43.820Z"
   },
   {
    "duration": 190,
    "start_time": "2022-04-20T09:35:43.832Z"
   },
   {
    "duration": 10,
    "start_time": "2022-04-20T09:35:44.024Z"
   },
   {
    "duration": 19,
    "start_time": "2022-04-20T09:35:44.036Z"
   },
   {
    "duration": 14,
    "start_time": "2022-04-20T09:35:44.057Z"
   },
   {
    "duration": 55,
    "start_time": "2022-04-20T09:35:44.073Z"
   },
   {
    "duration": 58,
    "start_time": "2022-04-20T09:35:44.130Z"
   },
   {
    "duration": 45,
    "start_time": "2022-04-20T09:35:44.190Z"
   },
   {
    "duration": 12,
    "start_time": "2022-04-20T09:35:44.255Z"
   },
   {
    "duration": 25,
    "start_time": "2022-04-20T09:35:44.269Z"
   },
   {
    "duration": 23,
    "start_time": "2022-04-20T09:35:44.297Z"
   },
   {
    "duration": 49,
    "start_time": "2022-04-20T09:35:44.323Z"
   },
   {
    "duration": 11,
    "start_time": "2022-04-20T09:35:44.373Z"
   },
   {
    "duration": 15,
    "start_time": "2022-04-20T09:35:44.386Z"
   },
   {
    "duration": 13,
    "start_time": "2022-04-20T09:35:44.403Z"
   },
   {
    "duration": 47,
    "start_time": "2022-04-20T09:35:44.418Z"
   },
   {
    "duration": 24,
    "start_time": "2022-04-20T09:35:44.467Z"
   },
   {
    "duration": 12,
    "start_time": "2022-04-20T09:35:44.492Z"
   },
   {
    "duration": 0,
    "start_time": "2022-04-20T09:35:44.507Z"
   },
   {
    "duration": 0,
    "start_time": "2022-04-20T09:35:44.508Z"
   },
   {
    "duration": 0,
    "start_time": "2022-04-20T09:35:44.509Z"
   },
   {
    "duration": 0,
    "start_time": "2022-04-20T09:35:44.510Z"
   },
   {
    "duration": 0,
    "start_time": "2022-04-20T09:35:44.511Z"
   },
   {
    "duration": 0,
    "start_time": "2022-04-20T09:35:44.512Z"
   },
   {
    "duration": 0,
    "start_time": "2022-04-20T09:35:44.513Z"
   },
   {
    "duration": 0,
    "start_time": "2022-04-20T09:35:44.514Z"
   },
   {
    "duration": 0,
    "start_time": "2022-04-20T09:35:44.515Z"
   },
   {
    "duration": 0,
    "start_time": "2022-04-20T09:35:44.516Z"
   },
   {
    "duration": 0,
    "start_time": "2022-04-20T09:35:44.517Z"
   },
   {
    "duration": 0,
    "start_time": "2022-04-20T09:35:44.518Z"
   },
   {
    "duration": 0,
    "start_time": "2022-04-20T09:35:44.554Z"
   },
   {
    "duration": 0,
    "start_time": "2022-04-20T09:35:44.556Z"
   },
   {
    "duration": 0,
    "start_time": "2022-04-20T09:35:44.557Z"
   },
   {
    "duration": 0,
    "start_time": "2022-04-20T09:35:44.558Z"
   },
   {
    "duration": 0,
    "start_time": "2022-04-20T09:35:44.559Z"
   },
   {
    "duration": 0,
    "start_time": "2022-04-20T09:35:44.560Z"
   },
   {
    "duration": 0,
    "start_time": "2022-04-20T09:35:44.562Z"
   },
   {
    "duration": 0,
    "start_time": "2022-04-20T09:35:44.562Z"
   },
   {
    "duration": 0,
    "start_time": "2022-04-20T09:35:44.563Z"
   },
   {
    "duration": 5,
    "start_time": "2022-04-20T09:37:05.335Z"
   },
   {
    "duration": 14,
    "start_time": "2022-04-20T09:37:16.790Z"
   },
   {
    "duration": 16,
    "start_time": "2022-04-20T09:37:27.821Z"
   },
   {
    "duration": 16,
    "start_time": "2022-04-20T09:37:34.747Z"
   },
   {
    "duration": 17,
    "start_time": "2022-04-20T09:37:43.286Z"
   },
   {
    "duration": 3,
    "start_time": "2022-04-20T09:38:42.539Z"
   },
   {
    "duration": 17,
    "start_time": "2022-04-20T09:39:23.560Z"
   },
   {
    "duration": 3,
    "start_time": "2022-04-20T09:39:29.146Z"
   },
   {
    "duration": 304,
    "start_time": "2022-04-20T09:39:33.269Z"
   },
   {
    "duration": 279,
    "start_time": "2022-04-20T09:39:40.255Z"
   },
   {
    "duration": 297,
    "start_time": "2022-04-20T09:39:44.410Z"
   },
   {
    "duration": 39,
    "start_time": "2022-04-20T09:39:55.418Z"
   },
   {
    "duration": 38,
    "start_time": "2022-04-20T09:40:50.855Z"
   },
   {
    "duration": 38,
    "start_time": "2022-04-20T09:40:59.948Z"
   },
   {
    "duration": 297,
    "start_time": "2022-04-20T09:41:08.675Z"
   },
   {
    "duration": 409,
    "start_time": "2022-04-20T09:45:51.560Z"
   },
   {
    "duration": 4,
    "start_time": "2022-04-20T09:47:16.804Z"
   },
   {
    "duration": 451,
    "start_time": "2022-04-20T09:47:48.859Z"
   },
   {
    "duration": 275,
    "start_time": "2022-04-20T09:48:57.819Z"
   },
   {
    "duration": 4,
    "start_time": "2022-04-20T09:49:17.075Z"
   },
   {
    "duration": 209,
    "start_time": "2022-04-20T09:49:17.092Z"
   },
   {
    "duration": 26,
    "start_time": "2022-04-20T09:49:17.303Z"
   },
   {
    "duration": 200,
    "start_time": "2022-04-20T09:49:17.330Z"
   },
   {
    "duration": 25,
    "start_time": "2022-04-20T09:49:17.532Z"
   },
   {
    "duration": 150,
    "start_time": "2022-04-20T09:49:17.559Z"
   },
   {
    "duration": 18,
    "start_time": "2022-04-20T09:49:17.710Z"
   },
   {
    "duration": 74,
    "start_time": "2022-04-20T09:49:17.730Z"
   },
   {
    "duration": 11,
    "start_time": "2022-04-20T09:49:17.805Z"
   },
   {
    "duration": 95,
    "start_time": "2022-04-20T09:49:17.818Z"
   },
   {
    "duration": 10,
    "start_time": "2022-04-20T09:49:17.916Z"
   },
   {
    "duration": 189,
    "start_time": "2022-04-20T09:49:17.928Z"
   },
   {
    "duration": 10,
    "start_time": "2022-04-20T09:49:18.119Z"
   },
   {
    "duration": 7,
    "start_time": "2022-04-20T09:49:18.130Z"
   },
   {
    "duration": 27,
    "start_time": "2022-04-20T09:49:18.139Z"
   },
   {
    "duration": 51,
    "start_time": "2022-04-20T09:49:18.168Z"
   },
   {
    "duration": 57,
    "start_time": "2022-04-20T09:49:18.220Z"
   },
   {
    "duration": 42,
    "start_time": "2022-04-20T09:49:18.278Z"
   },
   {
    "duration": 8,
    "start_time": "2022-04-20T09:49:18.322Z"
   },
   {
    "duration": 38,
    "start_time": "2022-04-20T09:49:18.331Z"
   },
   {
    "duration": 19,
    "start_time": "2022-04-20T09:49:18.371Z"
   },
   {
    "duration": 17,
    "start_time": "2022-04-20T09:49:18.392Z"
   },
   {
    "duration": 8,
    "start_time": "2022-04-20T09:49:18.411Z"
   },
   {
    "duration": 44,
    "start_time": "2022-04-20T09:49:18.421Z"
   },
   {
    "duration": 10,
    "start_time": "2022-04-20T09:49:18.466Z"
   },
   {
    "duration": 24,
    "start_time": "2022-04-20T09:49:18.478Z"
   },
   {
    "duration": 20,
    "start_time": "2022-04-20T09:49:18.503Z"
   },
   {
    "duration": 29,
    "start_time": "2022-04-20T09:49:18.525Z"
   },
   {
    "duration": 13,
    "start_time": "2022-04-20T09:49:18.558Z"
   },
   {
    "duration": 15,
    "start_time": "2022-04-20T09:49:18.573Z"
   },
   {
    "duration": 14,
    "start_time": "2022-04-20T09:49:18.589Z"
   },
   {
    "duration": 15,
    "start_time": "2022-04-20T09:49:18.604Z"
   },
   {
    "duration": 3,
    "start_time": "2022-04-20T09:49:18.620Z"
   },
   {
    "duration": 333,
    "start_time": "2022-04-20T09:49:18.624Z"
   },
   {
    "duration": 282,
    "start_time": "2022-04-20T09:49:18.959Z"
   },
   {
    "duration": 313,
    "start_time": "2022-04-20T09:49:19.243Z"
   },
   {
    "duration": 38,
    "start_time": "2022-04-20T09:49:19.558Z"
   },
   {
    "duration": 392,
    "start_time": "2022-04-20T09:49:19.598Z"
   },
   {
    "duration": 315,
    "start_time": "2022-04-20T09:49:19.992Z"
   },
   {
    "duration": 294,
    "start_time": "2022-04-20T09:49:20.309Z"
   },
   {
    "duration": 298,
    "start_time": "2022-04-20T09:49:20.605Z"
   },
   {
    "duration": 303,
    "start_time": "2022-04-20T09:49:20.905Z"
   },
   {
    "duration": 293,
    "start_time": "2022-04-20T09:49:21.210Z"
   },
   {
    "duration": 5,
    "start_time": "2022-04-20T09:49:21.505Z"
   },
   {
    "duration": 33,
    "start_time": "2022-04-20T09:49:21.512Z"
   },
   {
    "duration": 17,
    "start_time": "2022-04-20T09:49:21.547Z"
   },
   {
    "duration": 9,
    "start_time": "2022-04-20T09:49:21.566Z"
   },
   {
    "duration": 118,
    "start_time": "2022-04-20T09:49:21.577Z"
   },
   {
    "duration": 18,
    "start_time": "2022-04-20T09:49:21.697Z"
   },
   {
    "duration": 23,
    "start_time": "2022-04-20T09:49:21.717Z"
   },
   {
    "duration": 282,
    "start_time": "2022-04-20T09:50:40.889Z"
   },
   {
    "duration": 306,
    "start_time": "2022-04-20T09:51:37.709Z"
   },
   {
    "duration": 295,
    "start_time": "2022-04-20T09:52:06.204Z"
   },
   {
    "duration": 324,
    "start_time": "2022-04-20T09:53:21.980Z"
   },
   {
    "duration": 323,
    "start_time": "2022-04-20T09:53:30.022Z"
   },
   {
    "duration": 318,
    "start_time": "2022-04-20T09:53:55.160Z"
   },
   {
    "duration": 1256,
    "start_time": "2022-04-20T09:54:35.135Z"
   },
   {
    "duration": 229,
    "start_time": "2022-04-20T09:54:36.393Z"
   },
   {
    "duration": 32,
    "start_time": "2022-04-20T09:54:36.623Z"
   },
   {
    "duration": 215,
    "start_time": "2022-04-20T09:54:36.658Z"
   },
   {
    "duration": 22,
    "start_time": "2022-04-20T09:54:36.875Z"
   },
   {
    "duration": 152,
    "start_time": "2022-04-20T09:54:36.899Z"
   },
   {
    "duration": 19,
    "start_time": "2022-04-20T09:54:37.053Z"
   },
   {
    "duration": 84,
    "start_time": "2022-04-20T09:54:37.074Z"
   },
   {
    "duration": 10,
    "start_time": "2022-04-20T09:54:37.160Z"
   },
   {
    "duration": 87,
    "start_time": "2022-04-20T09:54:37.173Z"
   },
   {
    "duration": 10,
    "start_time": "2022-04-20T09:54:37.262Z"
   },
   {
    "duration": 244,
    "start_time": "2022-04-20T09:54:37.274Z"
   },
   {
    "duration": 10,
    "start_time": "2022-04-20T09:54:37.520Z"
   },
   {
    "duration": 25,
    "start_time": "2022-04-20T09:54:37.532Z"
   },
   {
    "duration": 15,
    "start_time": "2022-04-20T09:54:37.559Z"
   },
   {
    "duration": 60,
    "start_time": "2022-04-20T09:54:37.576Z"
   },
   {
    "duration": 42,
    "start_time": "2022-04-20T09:54:37.655Z"
   },
   {
    "duration": 65,
    "start_time": "2022-04-20T09:54:37.699Z"
   },
   {
    "duration": 9,
    "start_time": "2022-04-20T09:54:37.766Z"
   },
   {
    "duration": 31,
    "start_time": "2022-04-20T09:54:37.777Z"
   },
   {
    "duration": 46,
    "start_time": "2022-04-20T09:54:37.809Z"
   },
   {
    "duration": 22,
    "start_time": "2022-04-20T09:54:37.857Z"
   },
   {
    "duration": 10,
    "start_time": "2022-04-20T09:54:37.881Z"
   },
   {
    "duration": 22,
    "start_time": "2022-04-20T09:54:37.892Z"
   },
   {
    "duration": 12,
    "start_time": "2022-04-20T09:54:37.916Z"
   },
   {
    "duration": 42,
    "start_time": "2022-04-20T09:54:37.930Z"
   },
   {
    "duration": 21,
    "start_time": "2022-04-20T09:54:37.974Z"
   },
   {
    "duration": 7,
    "start_time": "2022-04-20T09:54:37.998Z"
   },
   {
    "duration": 16,
    "start_time": "2022-04-20T09:54:38.007Z"
   },
   {
    "duration": 19,
    "start_time": "2022-04-20T09:54:38.054Z"
   },
   {
    "duration": 16,
    "start_time": "2022-04-20T09:54:38.075Z"
   },
   {
    "duration": 17,
    "start_time": "2022-04-20T09:54:38.093Z"
   },
   {
    "duration": 8,
    "start_time": "2022-04-20T09:54:38.112Z"
   },
   {
    "duration": 424,
    "start_time": "2022-04-20T09:54:38.121Z"
   },
   {
    "duration": 312,
    "start_time": "2022-04-20T09:54:38.555Z"
   },
   {
    "duration": 334,
    "start_time": "2022-04-20T09:54:38.869Z"
   },
   {
    "duration": 51,
    "start_time": "2022-04-20T09:54:39.205Z"
   },
   {
    "duration": 381,
    "start_time": "2022-04-20T09:54:39.257Z"
   },
   {
    "duration": 330,
    "start_time": "2022-04-20T09:54:39.639Z"
   },
   {
    "duration": 405,
    "start_time": "2022-04-20T09:54:39.971Z"
   },
   {
    "duration": 325,
    "start_time": "2022-04-20T09:54:40.378Z"
   },
   {
    "duration": 318,
    "start_time": "2022-04-20T09:54:40.704Z"
   },
   {
    "duration": 323,
    "start_time": "2022-04-20T09:54:41.024Z"
   },
   {
    "duration": 4,
    "start_time": "2022-04-20T09:54:41.349Z"
   },
   {
    "duration": 21,
    "start_time": "2022-04-20T09:54:41.354Z"
   },
   {
    "duration": 12,
    "start_time": "2022-04-20T09:54:41.377Z"
   },
   {
    "duration": 5,
    "start_time": "2022-04-20T09:54:41.391Z"
   },
   {
    "duration": 22,
    "start_time": "2022-04-20T09:54:41.398Z"
   },
   {
    "duration": 12,
    "start_time": "2022-04-20T09:54:41.422Z"
   },
   {
    "duration": 5,
    "start_time": "2022-04-20T09:54:41.455Z"
   },
   {
    "duration": 3,
    "start_time": "2022-04-20T09:54:48.618Z"
   },
   {
    "duration": 259,
    "start_time": "2022-04-20T09:54:48.644Z"
   },
   {
    "duration": 25,
    "start_time": "2022-04-20T09:54:48.905Z"
   },
   {
    "duration": 236,
    "start_time": "2022-04-20T09:54:48.931Z"
   },
   {
    "duration": 22,
    "start_time": "2022-04-20T09:54:49.169Z"
   },
   {
    "duration": 150,
    "start_time": "2022-04-20T09:54:49.193Z"
   },
   {
    "duration": 21,
    "start_time": "2022-04-20T09:54:49.345Z"
   },
   {
    "duration": 87,
    "start_time": "2022-04-20T09:54:49.368Z"
   },
   {
    "duration": 12,
    "start_time": "2022-04-20T09:54:49.457Z"
   },
   {
    "duration": 101,
    "start_time": "2022-04-20T09:54:49.471Z"
   },
   {
    "duration": 11,
    "start_time": "2022-04-20T09:54:49.575Z"
   },
   {
    "duration": 214,
    "start_time": "2022-04-20T09:54:49.588Z"
   },
   {
    "duration": 10,
    "start_time": "2022-04-20T09:54:49.804Z"
   },
   {
    "duration": 7,
    "start_time": "2022-04-20T09:54:49.816Z"
   },
   {
    "duration": 41,
    "start_time": "2022-04-20T09:54:49.825Z"
   },
   {
    "duration": 59,
    "start_time": "2022-04-20T09:54:49.867Z"
   },
   {
    "duration": 56,
    "start_time": "2022-04-20T09:54:49.928Z"
   },
   {
    "duration": 50,
    "start_time": "2022-04-20T09:54:49.985Z"
   },
   {
    "duration": 20,
    "start_time": "2022-04-20T09:54:50.036Z"
   },
   {
    "duration": 33,
    "start_time": "2022-04-20T09:54:50.057Z"
   },
   {
    "duration": 25,
    "start_time": "2022-04-20T09:54:50.092Z"
   },
   {
    "duration": 46,
    "start_time": "2022-04-20T09:54:50.119Z"
   },
   {
    "duration": 10,
    "start_time": "2022-04-20T09:54:50.167Z"
   },
   {
    "duration": 23,
    "start_time": "2022-04-20T09:54:50.178Z"
   },
   {
    "duration": 13,
    "start_time": "2022-04-20T09:54:50.203Z"
   },
   {
    "duration": 38,
    "start_time": "2022-04-20T09:54:50.218Z"
   },
   {
    "duration": 22,
    "start_time": "2022-04-20T09:54:50.257Z"
   },
   {
    "duration": 5,
    "start_time": "2022-04-20T09:54:50.281Z"
   },
   {
    "duration": 15,
    "start_time": "2022-04-20T09:54:50.290Z"
   },
   {
    "duration": 49,
    "start_time": "2022-04-20T09:54:50.306Z"
   },
   {
    "duration": 15,
    "start_time": "2022-04-20T09:54:50.357Z"
   },
   {
    "duration": 21,
    "start_time": "2022-04-20T09:54:50.374Z"
   },
   {
    "duration": 3,
    "start_time": "2022-04-20T09:54:50.397Z"
   },
   {
    "duration": 363,
    "start_time": "2022-04-20T09:54:50.402Z"
   },
   {
    "duration": 316,
    "start_time": "2022-04-20T09:54:50.767Z"
   },
   {
    "duration": 484,
    "start_time": "2022-04-20T09:54:51.085Z"
   },
   {
    "duration": 42,
    "start_time": "2022-04-20T09:54:51.571Z"
   },
   {
    "duration": 336,
    "start_time": "2022-04-20T09:54:51.615Z"
   },
   {
    "duration": 334,
    "start_time": "2022-04-20T09:54:51.953Z"
   },
   {
    "duration": 315,
    "start_time": "2022-04-20T09:54:52.289Z"
   },
   {
    "duration": 333,
    "start_time": "2022-04-20T09:54:52.606Z"
   },
   {
    "duration": 321,
    "start_time": "2022-04-20T09:54:52.941Z"
   },
   {
    "duration": 427,
    "start_time": "2022-04-20T09:54:53.264Z"
   },
   {
    "duration": 3,
    "start_time": "2022-04-20T09:54:53.693Z"
   },
   {
    "duration": 19,
    "start_time": "2022-04-20T09:54:53.698Z"
   },
   {
    "duration": 13,
    "start_time": "2022-04-20T09:54:53.718Z"
   },
   {
    "duration": 23,
    "start_time": "2022-04-20T09:54:53.732Z"
   },
   {
    "duration": 22,
    "start_time": "2022-04-20T09:54:53.757Z"
   },
   {
    "duration": 13,
    "start_time": "2022-04-20T09:54:53.781Z"
   },
   {
    "duration": 5,
    "start_time": "2022-04-20T09:54:53.795Z"
   },
   {
    "duration": 325,
    "start_time": "2022-04-20T09:55:33.927Z"
   },
   {
    "duration": 309,
    "start_time": "2022-04-20T09:55:43.158Z"
   },
   {
    "duration": 313,
    "start_time": "2022-04-20T09:55:59.874Z"
   },
   {
    "duration": 300,
    "start_time": "2022-04-20T09:56:58.724Z"
   },
   {
    "duration": 412,
    "start_time": "2022-04-20T09:57:16.850Z"
   },
   {
    "duration": 408,
    "start_time": "2022-04-20T09:57:22.920Z"
   },
   {
    "duration": 296,
    "start_time": "2022-04-20T09:57:34.380Z"
   },
   {
    "duration": 313,
    "start_time": "2022-04-20T09:57:45.359Z"
   },
   {
    "duration": 309,
    "start_time": "2022-04-20T09:57:56.645Z"
   },
   {
    "duration": 301,
    "start_time": "2022-04-20T09:58:07.198Z"
   },
   {
    "duration": 610,
    "start_time": "2022-04-20T10:06:33.699Z"
   },
   {
    "duration": 513,
    "start_time": "2022-04-20T10:06:49.136Z"
   },
   {
    "duration": 133,
    "start_time": "2022-04-20T10:08:25.622Z"
   },
   {
    "duration": 297,
    "start_time": "2022-04-20T10:08:30.620Z"
   },
   {
    "duration": 297,
    "start_time": "2022-04-20T10:09:42.417Z"
   },
   {
    "duration": 417,
    "start_time": "2022-04-20T10:11:42.096Z"
   },
   {
    "duration": 296,
    "start_time": "2022-04-20T10:11:56.231Z"
   },
   {
    "duration": 141,
    "start_time": "2022-04-20T10:17:17.866Z"
   },
   {
    "duration": 4,
    "start_time": "2022-04-20T10:17:29.452Z"
   },
   {
    "duration": 191,
    "start_time": "2022-04-20T10:17:51.650Z"
   },
   {
    "duration": 3,
    "start_time": "2022-04-20T10:21:44.575Z"
   },
   {
    "duration": 1247,
    "start_time": "2022-04-20T10:22:14.899Z"
   },
   {
    "duration": 248,
    "start_time": "2022-04-20T10:22:16.148Z"
   },
   {
    "duration": 99,
    "start_time": "2022-04-20T10:22:16.398Z"
   },
   {
    "duration": 465,
    "start_time": "2022-04-20T10:22:16.500Z"
   },
   {
    "duration": 24,
    "start_time": "2022-04-20T10:22:16.967Z"
   },
   {
    "duration": 194,
    "start_time": "2022-04-20T10:22:16.993Z"
   },
   {
    "duration": 20,
    "start_time": "2022-04-20T10:22:17.189Z"
   },
   {
    "duration": 95,
    "start_time": "2022-04-20T10:22:17.210Z"
   },
   {
    "duration": 10,
    "start_time": "2022-04-20T10:22:17.307Z"
   },
   {
    "duration": 101,
    "start_time": "2022-04-20T10:22:17.320Z"
   },
   {
    "duration": 12,
    "start_time": "2022-04-20T10:22:17.422Z"
   },
   {
    "duration": 275,
    "start_time": "2022-04-20T10:22:17.436Z"
   },
   {
    "duration": 11,
    "start_time": "2022-04-20T10:22:17.712Z"
   },
   {
    "duration": 29,
    "start_time": "2022-04-20T10:22:17.725Z"
   },
   {
    "duration": 53,
    "start_time": "2022-04-20T10:22:17.756Z"
   },
   {
    "duration": 59,
    "start_time": "2022-04-20T10:22:17.811Z"
   },
   {
    "duration": 41,
    "start_time": "2022-04-20T10:22:17.872Z"
   },
   {
    "duration": 66,
    "start_time": "2022-04-20T10:22:17.915Z"
   },
   {
    "duration": 9,
    "start_time": "2022-04-20T10:22:17.983Z"
   },
   {
    "duration": 32,
    "start_time": "2022-04-20T10:22:17.994Z"
   },
   {
    "duration": 47,
    "start_time": "2022-04-20T10:22:18.028Z"
   },
   {
    "duration": 23,
    "start_time": "2022-04-20T10:22:18.077Z"
   },
   {
    "duration": 10,
    "start_time": "2022-04-20T10:22:18.102Z"
   },
   {
    "duration": 48,
    "start_time": "2022-04-20T10:22:18.114Z"
   },
   {
    "duration": 12,
    "start_time": "2022-04-20T10:22:18.164Z"
   },
   {
    "duration": 28,
    "start_time": "2022-04-20T10:22:18.178Z"
   },
   {
    "duration": 22,
    "start_time": "2022-04-20T10:22:18.207Z"
   },
   {
    "duration": 30,
    "start_time": "2022-04-20T10:22:18.232Z"
   },
   {
    "duration": 16,
    "start_time": "2022-04-20T10:22:18.264Z"
   },
   {
    "duration": 17,
    "start_time": "2022-04-20T10:22:18.282Z"
   },
   {
    "duration": 15,
    "start_time": "2022-04-20T10:22:18.301Z"
   },
   {
    "duration": 52,
    "start_time": "2022-04-20T10:22:18.318Z"
   },
   {
    "duration": 3,
    "start_time": "2022-04-20T10:22:18.372Z"
   },
   {
    "duration": 309,
    "start_time": "2022-04-20T10:22:18.377Z"
   },
   {
    "duration": 310,
    "start_time": "2022-04-20T10:22:18.689Z"
   },
   {
    "duration": 375,
    "start_time": "2022-04-20T10:22:19.001Z"
   },
   {
    "duration": 48,
    "start_time": "2022-04-20T10:22:19.378Z"
   },
   {
    "duration": 426,
    "start_time": "2022-04-20T10:22:19.428Z"
   },
   {
    "duration": 344,
    "start_time": "2022-04-20T10:22:19.856Z"
   },
   {
    "duration": 448,
    "start_time": "2022-04-20T10:22:20.202Z"
   },
   {
    "duration": 350,
    "start_time": "2022-04-20T10:22:20.652Z"
   },
   {
    "duration": 324,
    "start_time": "2022-04-20T10:22:21.004Z"
   },
   {
    "duration": 333,
    "start_time": "2022-04-20T10:22:21.330Z"
   },
   {
    "duration": 5,
    "start_time": "2022-04-20T10:22:21.666Z"
   },
   {
    "duration": 7,
    "start_time": "2022-04-20T10:22:21.673Z"
   },
   {
    "duration": 18,
    "start_time": "2022-04-20T10:22:21.683Z"
   },
   {
    "duration": 19,
    "start_time": "2022-04-20T10:22:21.703Z"
   },
   {
    "duration": 7,
    "start_time": "2022-04-20T10:22:21.754Z"
   },
   {
    "duration": 18,
    "start_time": "2022-04-20T10:22:21.763Z"
   },
   {
    "duration": 24,
    "start_time": "2022-04-20T10:22:21.784Z"
   },
   {
    "duration": 13,
    "start_time": "2022-04-20T10:22:21.810Z"
   },
   {
    "duration": 4,
    "start_time": "2022-04-20T10:22:27.693Z"
   },
   {
    "duration": 356,
    "start_time": "2022-04-20T10:22:27.701Z"
   },
   {
    "duration": 49,
    "start_time": "2022-04-20T10:22:28.060Z"
   },
   {
    "duration": 313,
    "start_time": "2022-04-20T10:22:28.111Z"
   },
   {
    "duration": 34,
    "start_time": "2022-04-20T10:22:28.426Z"
   },
   {
    "duration": 208,
    "start_time": "2022-04-20T10:22:28.462Z"
   },
   {
    "duration": 21,
    "start_time": "2022-04-20T10:22:28.672Z"
   },
   {
    "duration": 98,
    "start_time": "2022-04-20T10:22:28.695Z"
   },
   {
    "duration": 14,
    "start_time": "2022-04-20T10:22:28.795Z"
   },
   {
    "duration": 116,
    "start_time": "2022-04-20T10:22:28.812Z"
   },
   {
    "duration": 15,
    "start_time": "2022-04-20T10:22:28.933Z"
   },
   {
    "duration": 332,
    "start_time": "2022-04-20T10:22:28.950Z"
   },
   {
    "duration": 14,
    "start_time": "2022-04-20T10:22:29.284Z"
   },
   {
    "duration": 9,
    "start_time": "2022-04-20T10:22:29.301Z"
   },
   {
    "duration": 47,
    "start_time": "2022-04-20T10:22:29.312Z"
   },
   {
    "duration": 107,
    "start_time": "2022-04-20T10:22:29.362Z"
   },
   {
    "duration": 65,
    "start_time": "2022-04-20T10:22:29.471Z"
   },
   {
    "duration": 68,
    "start_time": "2022-04-20T10:22:29.538Z"
   },
   {
    "duration": 11,
    "start_time": "2022-04-20T10:22:29.608Z"
   },
   {
    "duration": 62,
    "start_time": "2022-04-20T10:22:29.621Z"
   },
   {
    "duration": 40,
    "start_time": "2022-04-20T10:22:29.685Z"
   },
   {
    "duration": 49,
    "start_time": "2022-04-20T10:22:29.727Z"
   },
   {
    "duration": 17,
    "start_time": "2022-04-20T10:22:29.779Z"
   },
   {
    "duration": 17,
    "start_time": "2022-04-20T10:22:29.797Z"
   },
   {
    "duration": 44,
    "start_time": "2022-04-20T10:22:29.816Z"
   },
   {
    "duration": 28,
    "start_time": "2022-04-20T10:22:29.861Z"
   },
   {
    "duration": 23,
    "start_time": "2022-04-20T10:22:29.891Z"
   },
   {
    "duration": 6,
    "start_time": "2022-04-20T10:22:29.916Z"
   },
   {
    "duration": 22,
    "start_time": "2022-04-20T10:22:29.955Z"
   },
   {
    "duration": 38,
    "start_time": "2022-04-20T10:22:29.979Z"
   },
   {
    "duration": 45,
    "start_time": "2022-04-20T10:22:30.019Z"
   },
   {
    "duration": 35,
    "start_time": "2022-04-20T10:22:30.067Z"
   },
   {
    "duration": 4,
    "start_time": "2022-04-20T10:22:30.105Z"
   },
   {
    "duration": 658,
    "start_time": "2022-04-20T10:22:30.112Z"
   },
   {
    "duration": 349,
    "start_time": "2022-04-20T10:22:30.772Z"
   },
   {
    "duration": 592,
    "start_time": "2022-04-20T10:22:31.123Z"
   },
   {
    "duration": 60,
    "start_time": "2022-04-20T10:22:31.717Z"
   },
   {
    "duration": 364,
    "start_time": "2022-04-20T10:22:31.779Z"
   },
   {
    "duration": 364,
    "start_time": "2022-04-20T10:22:32.144Z"
   },
   {
    "duration": 334,
    "start_time": "2022-04-20T10:22:32.510Z"
   },
   {
    "duration": 346,
    "start_time": "2022-04-20T10:22:32.845Z"
   },
   {
    "duration": 541,
    "start_time": "2022-04-20T10:22:33.193Z"
   },
   {
    "duration": 716,
    "start_time": "2022-04-20T10:22:33.738Z"
   },
   {
    "duration": 6,
    "start_time": "2022-04-20T10:22:34.457Z"
   },
   {
    "duration": 20,
    "start_time": "2022-04-20T10:22:34.466Z"
   },
   {
    "duration": 50,
    "start_time": "2022-04-20T10:22:34.488Z"
   },
   {
    "duration": 28,
    "start_time": "2022-04-20T10:22:34.540Z"
   },
   {
    "duration": 11,
    "start_time": "2022-04-20T10:22:34.571Z"
   },
   {
    "duration": 56,
    "start_time": "2022-04-20T10:22:34.585Z"
   },
   {
    "duration": 22,
    "start_time": "2022-04-20T10:22:34.644Z"
   },
   {
    "duration": 11,
    "start_time": "2022-04-20T10:22:34.669Z"
   },
   {
    "duration": 4,
    "start_time": "2022-04-20T10:26:59.274Z"
   },
   {
    "duration": 256,
    "start_time": "2022-04-20T10:26:59.283Z"
   },
   {
    "duration": 57,
    "start_time": "2022-04-20T10:26:59.542Z"
   },
   {
    "duration": 336,
    "start_time": "2022-04-20T10:26:59.602Z"
   },
   {
    "duration": 28,
    "start_time": "2022-04-20T10:26:59.940Z"
   },
   {
    "duration": 219,
    "start_time": "2022-04-20T10:26:59.970Z"
   },
   {
    "duration": 22,
    "start_time": "2022-04-20T10:27:00.191Z"
   },
   {
    "duration": 121,
    "start_time": "2022-04-20T10:27:00.215Z"
   },
   {
    "duration": 16,
    "start_time": "2022-04-20T10:27:00.338Z"
   },
   {
    "duration": 114,
    "start_time": "2022-04-20T10:27:00.356Z"
   },
   {
    "duration": 17,
    "start_time": "2022-04-20T10:27:00.475Z"
   },
   {
    "duration": 240,
    "start_time": "2022-04-20T10:27:00.495Z"
   },
   {
    "duration": 20,
    "start_time": "2022-04-20T10:27:00.737Z"
   },
   {
    "duration": 9,
    "start_time": "2022-04-20T10:27:00.759Z"
   },
   {
    "duration": 34,
    "start_time": "2022-04-20T10:27:00.770Z"
   },
   {
    "duration": 86,
    "start_time": "2022-04-20T10:27:00.806Z"
   },
   {
    "duration": 40,
    "start_time": "2022-04-20T10:27:00.894Z"
   },
   {
    "duration": 64,
    "start_time": "2022-04-20T10:27:00.936Z"
   },
   {
    "duration": 12,
    "start_time": "2022-04-20T10:27:01.002Z"
   },
   {
    "duration": 58,
    "start_time": "2022-04-20T10:27:01.015Z"
   },
   {
    "duration": 42,
    "start_time": "2022-04-20T10:27:01.076Z"
   },
   {
    "duration": 52,
    "start_time": "2022-04-20T10:27:01.120Z"
   },
   {
    "duration": 15,
    "start_time": "2022-04-20T10:27:01.175Z"
   },
   {
    "duration": 69,
    "start_time": "2022-04-20T10:27:01.193Z"
   },
   {
    "duration": 32,
    "start_time": "2022-04-20T10:27:01.265Z"
   },
   {
    "duration": 43,
    "start_time": "2022-04-20T10:27:01.299Z"
   },
   {
    "duration": 34,
    "start_time": "2022-04-20T10:27:01.345Z"
   },
   {
    "duration": 7,
    "start_time": "2022-04-20T10:27:01.382Z"
   },
   {
    "duration": 51,
    "start_time": "2022-04-20T10:27:01.395Z"
   },
   {
    "duration": 53,
    "start_time": "2022-04-20T10:27:01.449Z"
   },
   {
    "duration": 40,
    "start_time": "2022-04-20T10:27:01.505Z"
   },
   {
    "duration": 66,
    "start_time": "2022-04-20T10:27:01.548Z"
   },
   {
    "duration": 24,
    "start_time": "2022-04-20T10:27:01.617Z"
   },
   {
    "duration": 623,
    "start_time": "2022-04-20T10:27:01.643Z"
   },
   {
    "duration": 554,
    "start_time": "2022-04-20T10:27:02.268Z"
   },
   {
    "duration": 378,
    "start_time": "2022-04-20T10:27:02.824Z"
   },
   {
    "duration": 52,
    "start_time": "2022-04-20T10:27:03.204Z"
   },
   {
    "duration": 472,
    "start_time": "2022-04-20T10:27:03.258Z"
   },
   {
    "duration": 342,
    "start_time": "2022-04-20T10:27:03.733Z"
   },
   {
    "duration": 439,
    "start_time": "2022-04-20T10:27:04.077Z"
   },
   {
    "duration": 347,
    "start_time": "2022-04-20T10:27:04.519Z"
   },
   {
    "duration": 343,
    "start_time": "2022-04-20T10:27:04.868Z"
   },
   {
    "duration": 320,
    "start_time": "2022-04-20T10:27:05.213Z"
   },
   {
    "duration": 4,
    "start_time": "2022-04-20T10:27:05.535Z"
   },
   {
    "duration": 18,
    "start_time": "2022-04-20T10:27:05.541Z"
   },
   {
    "duration": 18,
    "start_time": "2022-04-20T10:27:05.560Z"
   },
   {
    "duration": 14,
    "start_time": "2022-04-20T10:27:05.580Z"
   },
   {
    "duration": 6,
    "start_time": "2022-04-20T10:27:05.595Z"
   },
   {
    "duration": 19,
    "start_time": "2022-04-20T10:27:05.603Z"
   },
   {
    "duration": 43,
    "start_time": "2022-04-20T10:27:05.623Z"
   },
   {
    "duration": 5,
    "start_time": "2022-04-20T10:27:05.667Z"
   },
   {
    "duration": 4,
    "start_time": "2022-04-20T10:36:50.246Z"
   },
   {
    "duration": 3,
    "start_time": "2022-04-20T10:36:53.606Z"
   },
   {
    "duration": 1377,
    "start_time": "2022-04-20T20:32:47.709Z"
   },
   {
    "duration": 254,
    "start_time": "2022-04-20T20:32:49.088Z"
   },
   {
    "duration": 32,
    "start_time": "2022-04-20T20:32:49.344Z"
   },
   {
    "duration": 238,
    "start_time": "2022-04-20T20:32:49.379Z"
   },
   {
    "duration": 24,
    "start_time": "2022-04-20T20:32:49.619Z"
   },
   {
    "duration": 201,
    "start_time": "2022-04-20T20:32:49.646Z"
   },
   {
    "duration": 23,
    "start_time": "2022-04-20T20:32:49.849Z"
   },
   {
    "duration": 102,
    "start_time": "2022-04-20T20:32:49.874Z"
   },
   {
    "duration": 12,
    "start_time": "2022-04-20T20:32:49.978Z"
   },
   {
    "duration": 129,
    "start_time": "2022-04-20T20:32:49.993Z"
   },
   {
    "duration": 15,
    "start_time": "2022-04-20T20:32:50.124Z"
   },
   {
    "duration": 268,
    "start_time": "2022-04-20T20:32:50.142Z"
   },
   {
    "duration": 23,
    "start_time": "2022-04-20T20:32:50.412Z"
   },
   {
    "duration": 10,
    "start_time": "2022-04-20T20:32:50.437Z"
   },
   {
    "duration": 29,
    "start_time": "2022-04-20T20:32:50.448Z"
   },
   {
    "duration": 72,
    "start_time": "2022-04-20T20:32:50.479Z"
   },
   {
    "duration": 40,
    "start_time": "2022-04-20T20:32:50.553Z"
   },
   {
    "duration": 65,
    "start_time": "2022-04-20T20:32:50.595Z"
   },
   {
    "duration": 11,
    "start_time": "2022-04-20T20:32:50.662Z"
   },
   {
    "duration": 47,
    "start_time": "2022-04-20T20:32:50.674Z"
   },
   {
    "duration": 31,
    "start_time": "2022-04-20T20:32:50.723Z"
   },
   {
    "duration": 22,
    "start_time": "2022-04-20T20:32:50.756Z"
   },
   {
    "duration": 11,
    "start_time": "2022-04-20T20:32:50.780Z"
   },
   {
    "duration": 48,
    "start_time": "2022-04-20T20:32:50.793Z"
   },
   {
    "duration": 23,
    "start_time": "2022-04-20T20:32:50.843Z"
   },
   {
    "duration": 31,
    "start_time": "2022-04-20T20:32:50.868Z"
   },
   {
    "duration": 33,
    "start_time": "2022-04-20T20:32:50.901Z"
   },
   {
    "duration": 6,
    "start_time": "2022-04-20T20:32:50.940Z"
   },
   {
    "duration": 15,
    "start_time": "2022-04-20T20:32:50.948Z"
   },
   {
    "duration": 19,
    "start_time": "2022-04-20T20:32:50.965Z"
   },
   {
    "duration": 17,
    "start_time": "2022-04-20T20:32:50.986Z"
   },
   {
    "duration": 20,
    "start_time": "2022-04-20T20:32:51.034Z"
   },
   {
    "duration": 4,
    "start_time": "2022-04-20T20:32:51.056Z"
   },
   {
    "duration": 354,
    "start_time": "2022-04-20T20:32:51.061Z"
   },
   {
    "duration": 371,
    "start_time": "2022-04-20T20:32:51.417Z"
   },
   {
    "duration": 417,
    "start_time": "2022-04-20T20:32:51.790Z"
   },
   {
    "duration": 63,
    "start_time": "2022-04-20T20:32:52.209Z"
   },
   {
    "duration": 444,
    "start_time": "2022-04-20T20:32:52.274Z"
   },
   {
    "duration": 368,
    "start_time": "2022-04-20T20:32:52.720Z"
   },
   {
    "duration": 446,
    "start_time": "2022-04-20T20:32:53.090Z"
   },
   {
    "duration": 401,
    "start_time": "2022-04-20T20:32:53.537Z"
   },
   {
    "duration": 381,
    "start_time": "2022-04-20T20:32:53.940Z"
   },
   {
    "duration": 370,
    "start_time": "2022-04-20T20:32:54.323Z"
   },
   {
    "duration": 157,
    "start_time": "2022-04-20T20:32:54.696Z"
   },
   {
    "duration": 0,
    "start_time": "2022-04-20T20:32:54.856Z"
   },
   {
    "duration": 0,
    "start_time": "2022-04-20T20:32:54.857Z"
   },
   {
    "duration": 0,
    "start_time": "2022-04-20T20:32:54.858Z"
   },
   {
    "duration": 0,
    "start_time": "2022-04-20T20:32:54.860Z"
   },
   {
    "duration": 0,
    "start_time": "2022-04-20T20:32:54.861Z"
   },
   {
    "duration": 0,
    "start_time": "2022-04-20T20:32:54.863Z"
   },
   {
    "duration": 0,
    "start_time": "2022-04-20T20:32:54.864Z"
   },
   {
    "duration": 0,
    "start_time": "2022-04-20T20:32:54.865Z"
   },
   {
    "duration": 23,
    "start_time": "2022-04-20T20:33:45.157Z"
   },
   {
    "duration": 116,
    "start_time": "2022-04-20T20:34:35.579Z"
   },
   {
    "duration": 12,
    "start_time": "2022-04-20T20:34:39.046Z"
   },
   {
    "duration": 430,
    "start_time": "2022-04-20T20:34:48.884Z"
   },
   {
    "duration": 480,
    "start_time": "2022-04-20T20:34:59.685Z"
   },
   {
    "duration": 632,
    "start_time": "2022-04-20T20:35:10.027Z"
   },
   {
    "duration": 513,
    "start_time": "2022-04-20T20:35:17.363Z"
   },
   {
    "duration": 550,
    "start_time": "2022-04-20T20:35:22.388Z"
   },
   {
    "duration": 613,
    "start_time": "2022-04-20T20:35:27.737Z"
   },
   {
    "duration": 516,
    "start_time": "2022-04-20T20:35:33.248Z"
   },
   {
    "duration": 627,
    "start_time": "2022-04-20T20:35:39.043Z"
   },
   {
    "duration": 510,
    "start_time": "2022-04-20T20:35:43.808Z"
   },
   {
    "duration": 503,
    "start_time": "2022-04-20T20:35:53.627Z"
   },
   {
    "duration": 166,
    "start_time": "2022-04-20T20:38:30.830Z"
   }
  ],
  "kernelspec": {
   "display_name": "Python 3 (ipykernel)",
   "language": "python",
   "name": "python3"
  },
  "language_info": {
   "codemirror_mode": {
    "name": "ipython",
    "version": 3
   },
   "file_extension": ".py",
   "mimetype": "text/x-python",
   "name": "python",
   "nbconvert_exporter": "python",
   "pygments_lexer": "ipython3",
   "version": "3.7.8"
  },
  "toc": {
   "base_numbering": 1,
   "nav_menu": {
    "height": "222px",
    "width": "448px"
   },
   "number_sections": true,
   "sideBar": true,
   "skip_h1_title": true,
   "title_cell": "Table of Contents",
   "title_sidebar": "Contents",
   "toc_cell": false,
   "toc_position": {
    "height": "calc(100% - 180px)",
    "left": "10px",
    "top": "150px",
    "width": "289.6px"
   },
   "toc_section_display": true,
   "toc_window_display": true
  }
 },
 "nbformat": 4,
 "nbformat_minor": 5
}
