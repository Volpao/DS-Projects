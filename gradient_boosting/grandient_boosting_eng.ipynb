{
 "cells": [
  {
   "cell_type": "markdown",
   "id": "ecad36fb",
   "metadata": {},
   "source": [
    "# Car Prices Prediction"
   ]
  },
  {
   "cell_type": "markdown",
   "id": "4ec0bc19",
   "metadata": {},
   "source": [
    "The goal of any business is to make a profit.\n",
    "Depending on the type of business, various factors can affect profits, including the number of customers. In most situations, an increase in the number of customers leads to an increase in profits.\n",
    "\n",
    "A service for the sale of used cars is developing an application to attract new customers. In it, you can quickly find out the market value of your car.\n",
    "Our task is to build such a model for predicting the cost of a car, which will provide the highest quality and fastest prediction.\n",
    "To build the model, we have historical data at our disposal: technical characteristics, configurations and prices of cars stored in the following csv file: '/datasets/autos.csv'.\n",
    "\n",
    "From the task, we know that the dataset contains the following information:\n",
    "\n",
    "**Features**\n",
    " + DateCrawled - date of downloading the profile from the database\n",
    " + VehicleType - type of car body\n",
    " + RegistrationYear — year of car registration\n",
    " + Gearbox - type of gearbox\n",
    " + Power - power (hp)\n",
    " + Model - car model\n",
    " + Kilometer - mileage (km)\n",
    " + RegistrationMonth - month of car registration\n",
    " + FuelType — type of fuel\n",
    " + Brand - car brand\n",
    " + NotRepaired - was the car under repair or not\n",
    " + DateCreated — date of creation of the profile\n",
    " + NumberOfPictures - the number of photos of the car\n",
    " + PostalCode - postal code of the owner of the profile (user)\n",
    " + LastSeen — date of last user activity\n",
    "\n",
    "**Target feature**\n",
    " + Price - price (EUR)\n",
    "\n",
    "\n",
    "**The purpose of this study** is to prepare a prototype of a machine learning model for the Customer, taking into account the fact that both quality and speed of prediction, as well as training time, are important for them. To assess the quality of the model, we will use the standard metric **RMSE, that is, the square root of the mean squared error**.\n",
    "\n",
    "**Study progress**:\n",
    "\n",
    "We will try to build both traditional regression and gradient boosting models by fitting the best hyperparameters, train them and select the best hyperparameters through cross-validation, and then estimate both RMSE and fitting/prediction rate on the test sample.\n",
    "\n",
    "\n",
    "Thus, this project will include the following steps:\n",
    "* data preprocessing and data discovery\n",
    "* building models and training them\n",
    "* assessment of the quality of the models\n",
    "\n"
   ]
  },
  {
   "cell_type": "markdown",
   "id": "7df204d0",
   "metadata": {},
   "source": [
    "## Data Preoprocessing\n",
    "\n"
   ]
  },
  {
   "cell_type": "code",
   "execution_count": 1,
   "id": "ed046b58",
   "metadata": {},
   "outputs": [],
   "source": [
    "import numpy as np  # importing numpy\n",
    "import pandas as pd  # importing pandas\n",
    "import seaborn as sns # importing seaborn for plotting\n",
    "import os.path as path # importing os.path for path handling\n",
    "from sklearn.linear_model import LinearRegression # importing linear regression\n",
    "import warnings # importing warnings \n",
    "warnings.simplefilter(\"ignore\")\n",
    "from numpy.random import RandomState # importing RandomState\n",
    "from sklearn.metrics  import  make_scorer # importing for customizing score\n",
    "import matplotlib.pyplot as plt  # importing matplotlib for plotting\n",
    "from sklearn.preprocessing import StandardScaler  # importing StandardScaler to scale quantitative features\n",
    "from sklearn.model_selection import  RandomizedSearchCV # importing RandomSearchCV to search for the best hyperparameters\n",
    "from sklearn.ensemble import RandomForestRegressor # # importing random forest\n",
    "from sklearn.dummy import DummyRegressor # importing DummyRegressor for baseline model\n",
    "from catboost import CatBoostRegressor # importing Catboost\n",
    "from lightgbm import LGBMRegressor # importing LGBM\n",
    "from sklearn.model_selection import train_test_split  # importing for splitting dataset\n",
    "import datetime as dt # importing datetime to hande dates\n",
    "from sklearn.metrics import mean_squared_error # importing MSE\n",
    "from sklearn.preprocessing import OrdinalEncoder # importing Ordinal Encoder to handle categorical features\n",
    "import time # importing time for calculating speed"
   ]
  },
  {
   "cell_type": "markdown",
   "id": "2a45e1a4",
   "metadata": {},
   "source": [
    "### Date Overview and Base Preprocessing\n",
    "Let's make the first idea about the data. To view and analyze, we will read the file in csv format, save them to a variable, and also look at the first 10 lines.\n",
    "\n"
   ]
  },
  {
   "cell_type": "code",
   "execution_count": 2,
   "id": "7d068f91",
   "metadata": {},
   "outputs": [
    {
     "data": {
      "text/html": [
       "<div>\n",
       "<style scoped>\n",
       "    .dataframe tbody tr th:only-of-type {\n",
       "        vertical-align: middle;\n",
       "    }\n",
       "\n",
       "    .dataframe tbody tr th {\n",
       "        vertical-align: top;\n",
       "    }\n",
       "\n",
       "    .dataframe thead th {\n",
       "        text-align: right;\n",
       "    }\n",
       "</style>\n",
       "<table border=\"1\" class=\"dataframe\">\n",
       "  <thead>\n",
       "    <tr style=\"text-align: right;\">\n",
       "      <th></th>\n",
       "      <th>DateCrawled</th>\n",
       "      <th>Price</th>\n",
       "      <th>VehicleType</th>\n",
       "      <th>RegistrationYear</th>\n",
       "      <th>Gearbox</th>\n",
       "      <th>Power</th>\n",
       "      <th>Model</th>\n",
       "      <th>Kilometer</th>\n",
       "      <th>RegistrationMonth</th>\n",
       "      <th>FuelType</th>\n",
       "      <th>Brand</th>\n",
       "      <th>NotRepaired</th>\n",
       "      <th>DateCreated</th>\n",
       "      <th>NumberOfPictures</th>\n",
       "      <th>PostalCode</th>\n",
       "      <th>LastSeen</th>\n",
       "    </tr>\n",
       "  </thead>\n",
       "  <tbody>\n",
       "    <tr>\n",
       "      <th>0</th>\n",
       "      <td>2016-03-24 11:52:17</td>\n",
       "      <td>480</td>\n",
       "      <td>NaN</td>\n",
       "      <td>1993</td>\n",
       "      <td>manual</td>\n",
       "      <td>0</td>\n",
       "      <td>golf</td>\n",
       "      <td>150000</td>\n",
       "      <td>0</td>\n",
       "      <td>petrol</td>\n",
       "      <td>volkswagen</td>\n",
       "      <td>NaN</td>\n",
       "      <td>2016-03-24 00:00:00</td>\n",
       "      <td>0</td>\n",
       "      <td>70435</td>\n",
       "      <td>2016-04-07 03:16:57</td>\n",
       "    </tr>\n",
       "    <tr>\n",
       "      <th>1</th>\n",
       "      <td>2016-03-24 10:58:45</td>\n",
       "      <td>18300</td>\n",
       "      <td>coupe</td>\n",
       "      <td>2011</td>\n",
       "      <td>manual</td>\n",
       "      <td>190</td>\n",
       "      <td>NaN</td>\n",
       "      <td>125000</td>\n",
       "      <td>5</td>\n",
       "      <td>gasoline</td>\n",
       "      <td>audi</td>\n",
       "      <td>yes</td>\n",
       "      <td>2016-03-24 00:00:00</td>\n",
       "      <td>0</td>\n",
       "      <td>66954</td>\n",
       "      <td>2016-04-07 01:46:50</td>\n",
       "    </tr>\n",
       "    <tr>\n",
       "      <th>2</th>\n",
       "      <td>2016-03-14 12:52:21</td>\n",
       "      <td>9800</td>\n",
       "      <td>suv</td>\n",
       "      <td>2004</td>\n",
       "      <td>auto</td>\n",
       "      <td>163</td>\n",
       "      <td>grand</td>\n",
       "      <td>125000</td>\n",
       "      <td>8</td>\n",
       "      <td>gasoline</td>\n",
       "      <td>jeep</td>\n",
       "      <td>NaN</td>\n",
       "      <td>2016-03-14 00:00:00</td>\n",
       "      <td>0</td>\n",
       "      <td>90480</td>\n",
       "      <td>2016-04-05 12:47:46</td>\n",
       "    </tr>\n",
       "    <tr>\n",
       "      <th>3</th>\n",
       "      <td>2016-03-17 16:54:04</td>\n",
       "      <td>1500</td>\n",
       "      <td>small</td>\n",
       "      <td>2001</td>\n",
       "      <td>manual</td>\n",
       "      <td>75</td>\n",
       "      <td>golf</td>\n",
       "      <td>150000</td>\n",
       "      <td>6</td>\n",
       "      <td>petrol</td>\n",
       "      <td>volkswagen</td>\n",
       "      <td>no</td>\n",
       "      <td>2016-03-17 00:00:00</td>\n",
       "      <td>0</td>\n",
       "      <td>91074</td>\n",
       "      <td>2016-03-17 17:40:17</td>\n",
       "    </tr>\n",
       "    <tr>\n",
       "      <th>4</th>\n",
       "      <td>2016-03-31 17:25:20</td>\n",
       "      <td>3600</td>\n",
       "      <td>small</td>\n",
       "      <td>2008</td>\n",
       "      <td>manual</td>\n",
       "      <td>69</td>\n",
       "      <td>fabia</td>\n",
       "      <td>90000</td>\n",
       "      <td>7</td>\n",
       "      <td>gasoline</td>\n",
       "      <td>skoda</td>\n",
       "      <td>no</td>\n",
       "      <td>2016-03-31 00:00:00</td>\n",
       "      <td>0</td>\n",
       "      <td>60437</td>\n",
       "      <td>2016-04-06 10:17:21</td>\n",
       "    </tr>\n",
       "    <tr>\n",
       "      <th>5</th>\n",
       "      <td>2016-04-04 17:36:23</td>\n",
       "      <td>650</td>\n",
       "      <td>sedan</td>\n",
       "      <td>1995</td>\n",
       "      <td>manual</td>\n",
       "      <td>102</td>\n",
       "      <td>3er</td>\n",
       "      <td>150000</td>\n",
       "      <td>10</td>\n",
       "      <td>petrol</td>\n",
       "      <td>bmw</td>\n",
       "      <td>yes</td>\n",
       "      <td>2016-04-04 00:00:00</td>\n",
       "      <td>0</td>\n",
       "      <td>33775</td>\n",
       "      <td>2016-04-06 19:17:07</td>\n",
       "    </tr>\n",
       "    <tr>\n",
       "      <th>6</th>\n",
       "      <td>2016-04-01 20:48:51</td>\n",
       "      <td>2200</td>\n",
       "      <td>convertible</td>\n",
       "      <td>2004</td>\n",
       "      <td>manual</td>\n",
       "      <td>109</td>\n",
       "      <td>2_reihe</td>\n",
       "      <td>150000</td>\n",
       "      <td>8</td>\n",
       "      <td>petrol</td>\n",
       "      <td>peugeot</td>\n",
       "      <td>no</td>\n",
       "      <td>2016-04-01 00:00:00</td>\n",
       "      <td>0</td>\n",
       "      <td>67112</td>\n",
       "      <td>2016-04-05 18:18:39</td>\n",
       "    </tr>\n",
       "    <tr>\n",
       "      <th>7</th>\n",
       "      <td>2016-03-21 18:54:38</td>\n",
       "      <td>0</td>\n",
       "      <td>sedan</td>\n",
       "      <td>1980</td>\n",
       "      <td>manual</td>\n",
       "      <td>50</td>\n",
       "      <td>other</td>\n",
       "      <td>40000</td>\n",
       "      <td>7</td>\n",
       "      <td>petrol</td>\n",
       "      <td>volkswagen</td>\n",
       "      <td>no</td>\n",
       "      <td>2016-03-21 00:00:00</td>\n",
       "      <td>0</td>\n",
       "      <td>19348</td>\n",
       "      <td>2016-03-25 16:47:58</td>\n",
       "    </tr>\n",
       "    <tr>\n",
       "      <th>8</th>\n",
       "      <td>2016-04-04 23:42:13</td>\n",
       "      <td>14500</td>\n",
       "      <td>bus</td>\n",
       "      <td>2014</td>\n",
       "      <td>manual</td>\n",
       "      <td>125</td>\n",
       "      <td>c_max</td>\n",
       "      <td>30000</td>\n",
       "      <td>8</td>\n",
       "      <td>petrol</td>\n",
       "      <td>ford</td>\n",
       "      <td>NaN</td>\n",
       "      <td>2016-04-04 00:00:00</td>\n",
       "      <td>0</td>\n",
       "      <td>94505</td>\n",
       "      <td>2016-04-04 23:42:13</td>\n",
       "    </tr>\n",
       "    <tr>\n",
       "      <th>9</th>\n",
       "      <td>2016-03-17 10:53:50</td>\n",
       "      <td>999</td>\n",
       "      <td>small</td>\n",
       "      <td>1998</td>\n",
       "      <td>manual</td>\n",
       "      <td>101</td>\n",
       "      <td>golf</td>\n",
       "      <td>150000</td>\n",
       "      <td>0</td>\n",
       "      <td>NaN</td>\n",
       "      <td>volkswagen</td>\n",
       "      <td>NaN</td>\n",
       "      <td>2016-03-17 00:00:00</td>\n",
       "      <td>0</td>\n",
       "      <td>27472</td>\n",
       "      <td>2016-03-31 17:17:06</td>\n",
       "    </tr>\n",
       "  </tbody>\n",
       "</table>\n",
       "</div>"
      ],
      "text/plain": [
       "           DateCrawled  Price  VehicleType  RegistrationYear Gearbox  Power  \\\n",
       "0  2016-03-24 11:52:17    480          NaN              1993  manual      0   \n",
       "1  2016-03-24 10:58:45  18300        coupe              2011  manual    190   \n",
       "2  2016-03-14 12:52:21   9800          suv              2004    auto    163   \n",
       "3  2016-03-17 16:54:04   1500        small              2001  manual     75   \n",
       "4  2016-03-31 17:25:20   3600        small              2008  manual     69   \n",
       "5  2016-04-04 17:36:23    650        sedan              1995  manual    102   \n",
       "6  2016-04-01 20:48:51   2200  convertible              2004  manual    109   \n",
       "7  2016-03-21 18:54:38      0        sedan              1980  manual     50   \n",
       "8  2016-04-04 23:42:13  14500          bus              2014  manual    125   \n",
       "9  2016-03-17 10:53:50    999        small              1998  manual    101   \n",
       "\n",
       "     Model  Kilometer  RegistrationMonth  FuelType       Brand NotRepaired  \\\n",
       "0     golf     150000                  0    petrol  volkswagen         NaN   \n",
       "1      NaN     125000                  5  gasoline        audi         yes   \n",
       "2    grand     125000                  8  gasoline        jeep         NaN   \n",
       "3     golf     150000                  6    petrol  volkswagen          no   \n",
       "4    fabia      90000                  7  gasoline       skoda          no   \n",
       "5      3er     150000                 10    petrol         bmw         yes   \n",
       "6  2_reihe     150000                  8    petrol     peugeot          no   \n",
       "7    other      40000                  7    petrol  volkswagen          no   \n",
       "8    c_max      30000                  8    petrol        ford         NaN   \n",
       "9     golf     150000                  0       NaN  volkswagen         NaN   \n",
       "\n",
       "           DateCreated  NumberOfPictures  PostalCode             LastSeen  \n",
       "0  2016-03-24 00:00:00                 0       70435  2016-04-07 03:16:57  \n",
       "1  2016-03-24 00:00:00                 0       66954  2016-04-07 01:46:50  \n",
       "2  2016-03-14 00:00:00                 0       90480  2016-04-05 12:47:46  \n",
       "3  2016-03-17 00:00:00                 0       91074  2016-03-17 17:40:17  \n",
       "4  2016-03-31 00:00:00                 0       60437  2016-04-06 10:17:21  \n",
       "5  2016-04-04 00:00:00                 0       33775  2016-04-06 19:17:07  \n",
       "6  2016-04-01 00:00:00                 0       67112  2016-04-05 18:18:39  \n",
       "7  2016-03-21 00:00:00                 0       19348  2016-03-25 16:47:58  \n",
       "8  2016-04-04 00:00:00                 0       94505  2016-04-04 23:42:13  \n",
       "9  2016-03-17 00:00:00                 0       27472  2016-03-31 17:17:06  "
      ]
     },
     "metadata": {},
     "output_type": "display_data"
    }
   ],
   "source": [
    "# rading the file and saving to df\n",
    "try:\n",
    "    base_path = 'autos.csv' \n",
    "    df = pd.read_csv(base_path) if path.exists(base_path) else pd.read_csv(f'/datasets/{base_path}') # checking the path\n",
    "    display(df.head(10))  # getting 10 first rows\n",
    "except:\n",
    "     print('File not found') # if no path is correct, an error message will be printed\n"
   ]
  },
  {
   "cell_type": "markdown",
   "id": "a6324a49",
   "metadata": {},
   "source": [
    "Next, we will get general information about the dataset and check the quality of the data.\n",
    "\n"
   ]
  },
  {
   "cell_type": "code",
   "execution_count": 3,
   "id": "5903e3b5",
   "metadata": {},
   "outputs": [
    {
     "name": "stdout",
     "output_type": "stream",
     "text": [
      "<class 'pandas.core.frame.DataFrame'>\n",
      "RangeIndex: 354369 entries, 0 to 354368\n",
      "Data columns (total 16 columns):\n",
      " #   Column             Non-Null Count   Dtype \n",
      "---  ------             --------------   ----- \n",
      " 0   DateCrawled        354369 non-null  object\n",
      " 1   Price              354369 non-null  int64 \n",
      " 2   VehicleType        316879 non-null  object\n",
      " 3   RegistrationYear   354369 non-null  int64 \n",
      " 4   Gearbox            334536 non-null  object\n",
      " 5   Power              354369 non-null  int64 \n",
      " 6   Model              334664 non-null  object\n",
      " 7   Kilometer          354369 non-null  int64 \n",
      " 8   RegistrationMonth  354369 non-null  int64 \n",
      " 9   FuelType           321474 non-null  object\n",
      " 10  Brand              354369 non-null  object\n",
      " 11  NotRepaired        283215 non-null  object\n",
      " 12  DateCreated        354369 non-null  object\n",
      " 13  NumberOfPictures   354369 non-null  int64 \n",
      " 14  PostalCode         354369 non-null  int64 \n",
      " 15  LastSeen           354369 non-null  object\n",
      "dtypes: int64(7), object(9)\n",
      "memory usage: 43.3+ MB\n"
     ]
    }
   ],
   "source": [
    "df.info() # getting general information on df\n"
   ]
  },
  {
   "cell_type": "markdown",
   "id": "f95c98b9",
   "metadata": {},
   "source": [
    "So, from the first overview of the dataset, we can conclude that it contains 16 features, 1 of which (\"price\") is the target, as well as a very large number of objects - more than 350,000. The dataset has both quantitative and categorical features , the data type for each is as expected. At first glance, it is also clear that there are missing values, we will explore this problem in more detail later.\n"
   ]
  },
  {
   "cell_type": "markdown",
   "id": "44ee8a3f",
   "metadata": {},
   "source": [
    "Next, let's check if there are full duplicates in our dataframe:"
   ]
  },
  {
   "cell_type": "code",
   "execution_count": 4,
   "id": "f38ba7d9",
   "metadata": {},
   "outputs": [
    {
     "data": {
      "text/plain": [
       "4"
      ]
     },
     "execution_count": 4,
     "metadata": {},
     "output_type": "execute_result"
    }
   ],
   "source": [
    "df.duplicated().sum()# checking df for full duplicates"
   ]
  },
  {
   "cell_type": "markdown",
   "id": "05db6423",
   "metadata": {},
   "source": [
    "So, there are full duplicates in our dataframe, there are 4 of them (perhaps, after filling out the ad, one of the clients submitted the form several times due to failures). We shall get rid of them:\n"
   ]
  },
  {
   "cell_type": "code",
   "execution_count": 5,
   "id": "3692fe1b",
   "metadata": {},
   "outputs": [
    {
     "data": {
      "text/plain": [
       "354365"
      ]
     },
     "execution_count": 5,
     "metadata": {},
     "output_type": "execute_result"
    }
   ],
   "source": [
    "df.drop_duplicates(inplace=True) # deleting full duplicates\n",
    "len(df) # checking the result"
   ]
  },
  {
   "cell_type": "markdown",
   "id": "4f931038",
   "metadata": {},
   "source": [
    "Next, let's look at what unique values the categorical features of the dataframe take. As for quantitative ones, precisely because of their nature, they can take on any values, so it makes no sense to carry out such a check:\n"
   ]
  },
  {
   "cell_type": "code",
   "execution_count": 6,
   "id": "ce8a6aef",
   "metadata": {},
   "outputs": [
    {
     "name": "stdout",
     "output_type": "stream",
     "text": [
      "VehicleType [nan 'coupe' 'suv' 'small' 'sedan' 'convertible' 'bus' 'wagon' 'other']\n",
      "Gearbox ['manual' 'auto' nan]\n",
      "Model ['golf' nan 'grand' 'fabia' '3er' '2_reihe' 'other' 'c_max' '3_reihe'\n",
      " 'passat' 'navara' 'ka' 'polo' 'twingo' 'a_klasse' 'scirocco' '5er'\n",
      " 'meriva' 'arosa' 'c4' 'civic' 'transporter' 'punto' 'e_klasse' 'clio'\n",
      " 'kadett' 'kangoo' 'corsa' 'one' 'fortwo' '1er' 'b_klasse' 'signum'\n",
      " 'astra' 'a8' 'jetta' 'fiesta' 'c_klasse' 'micra' 'vito' 'sprinter' '156'\n",
      " 'escort' 'forester' 'xc_reihe' 'scenic' 'a4' 'a1' 'insignia' 'combo'\n",
      " 'focus' 'tt' 'a6' 'jazz' 'omega' 'slk' '7er' '80' '147' '100' 'z_reihe'\n",
      " 'sportage' 'sorento' 'v40' 'ibiza' 'mustang' 'eos' 'touran' 'getz' 'a3'\n",
      " 'almera' 'megane' 'lupo' 'r19' 'zafira' 'caddy' 'mondeo' 'cordoba' 'colt'\n",
      " 'impreza' 'vectra' 'berlingo' 'tiguan' 'i_reihe' 'espace' 'sharan'\n",
      " '6_reihe' 'panda' 'up' 'seicento' 'ceed' '5_reihe' 'yeti' 'octavia' 'mii'\n",
      " 'rx_reihe' '6er' 'modus' 'fox' 'matiz' 'beetle' 'c1' 'rio' 'touareg'\n",
      " 'logan' 'spider' 'cuore' 's_max' 'a2' 'galaxy' 'c3' 'viano' 's_klasse'\n",
      " '1_reihe' 'avensis' 'roomster' 'sl' 'kaefer' 'santa' 'cooper' 'leon'\n",
      " '4_reihe' 'a5' '500' 'laguna' 'ptcruiser' 'clk' 'primera' 'x_reihe'\n",
      " 'exeo' '159' 'transit' 'juke' 'qashqai' 'carisma' 'accord' 'corolla'\n",
      " 'lanos' 'phaeton' 'verso' 'swift' 'rav' 'picanto' 'boxster' 'kalos'\n",
      " 'superb' 'stilo' 'alhambra' 'mx_reihe' 'roadster' 'ypsilon' 'cayenne'\n",
      " 'galant' 'justy' '90' 'sirion' 'crossfire' 'agila' 'duster' 'cr_reihe'\n",
      " 'v50' 'c_reihe' 'v_klasse' 'm_klasse' 'yaris' 'c5' 'aygo' 'cc' 'carnival'\n",
      " 'fusion' '911' 'bora' 'forfour' 'm_reihe' 'cl' 'tigra' '300c' 'spark'\n",
      " 'v70' 'kuga' 'x_type' 'ducato' 's_type' 'x_trail' 'toledo' 'altea'\n",
      " 'voyager' 'calibra' 'bravo' 'antara' 'tucson' 'citigo' 'jimny' 'wrangler'\n",
      " 'lybra' 'q7' 'lancer' 'captiva' 'c2' 'discovery' 'freelander' 'sandero'\n",
      " 'note' '900' 'cherokee' 'clubman' 'samara' 'defender' '601' 'cx_reihe'\n",
      " 'legacy' 'pajero' 'auris' 'niva' 's60' 'nubira' 'vivaro' 'g_klasse'\n",
      " 'lodgy' '850' 'range_rover' 'q3' 'serie_2' 'glk' 'charade' 'croma'\n",
      " 'outlander' 'doblo' 'musa' 'move' '9000' 'v60' '145' 'aveo' '200' 'b_max'\n",
      " 'range_rover_sport' 'terios' 'rangerover' 'q5' 'range_rover_evoque'\n",
      " 'materia' 'delta' 'gl' 'kalina' 'amarok' 'elefantino' 'i3' 'kappa'\n",
      " 'serie_3' 'serie_1']\n",
      "FuelType ['petrol' 'gasoline' nan 'lpg' 'other' 'hybrid' 'cng' 'electric']\n",
      "Brand ['volkswagen' 'audi' 'jeep' 'skoda' 'bmw' 'peugeot' 'ford' 'mazda'\n",
      " 'nissan' 'renault' 'mercedes_benz' 'opel' 'seat' 'citroen' 'honda' 'fiat'\n",
      " 'mini' 'smart' 'hyundai' 'sonstige_autos' 'alfa_romeo' 'subaru' 'volvo'\n",
      " 'mitsubishi' 'kia' 'suzuki' 'lancia' 'toyota' 'chevrolet' 'dacia'\n",
      " 'daihatsu' 'trabant' 'saab' 'chrysler' 'jaguar' 'daewoo' 'porsche'\n",
      " 'rover' 'land_rover' 'lada']\n",
      "NotRepaired [nan 'yes' 'no']\n"
     ]
    }
   ],
   "source": [
    "for f in ['VehicleType', 'Gearbox', 'Model', 'FuelType', 'Brand', 'NotRepaired']: # iterating over the features\n",
    "    print(f, df[f].unique()) # visualizing unique values"
   ]
  },
  {
   "cell_type": "markdown",
   "id": "57e69570",
   "metadata": {},
   "source": [
    "Next, we will analyze and process missing values in the dataframe:"
   ]
  },
  {
   "cell_type": "code",
   "execution_count": 7,
   "id": "2902e751",
   "metadata": {},
   "outputs": [
    {
     "data": {
      "text/plain": [
       "DateCrawled          0.000000\n",
       "Price                0.000000\n",
       "VehicleType          0.105795\n",
       "RegistrationYear     0.000000\n",
       "Gearbox              0.055968\n",
       "Power                0.000000\n",
       "Model                0.055607\n",
       "Kilometer            0.000000\n",
       "RegistrationMonth    0.000000\n",
       "FuelType             0.092828\n",
       "Brand                0.000000\n",
       "NotRepaired          0.200793\n",
       "DateCreated          0.000000\n",
       "NumberOfPictures     0.000000\n",
       "PostalCode           0.000000\n",
       "LastSeen             0.000000\n",
       "dtype: float64"
      ]
     },
     "execution_count": 7,
     "metadata": {},
     "output_type": "execute_result"
    }
   ],
   "source": [
    "df.isna().mean() # visualizing the NaN share in each column"
   ]
  },
  {
   "cell_type": "markdown",
   "id": "8c757c92",
   "metadata": {},
   "source": [
    "So, we can notice that in almost 11% of the objects there is no information on the type of body, in 6% on the type of gearbox and model, in 1% on the type of fuel and, finally, in 2% of the objects there is no information on car repair.\n",
    "As we know, traditional prediction models cannot handle NaNs, so we have to get rid of them.\n",
    "All features with missing values are categorical, in each of them we will replace NaNs with a certain category, which will mean the absence of data:\n"
   ]
  },
  {
   "cell_type": "code",
   "execution_count": 8,
   "id": "35426629",
   "metadata": {},
   "outputs": [],
   "source": [
    "df['VehicleType'].fillna('unknown', inplace=True) # filling in missing values in the feature\n",
    "df['Gearbox'].fillna('noinfo', inplace=True) # filling in missing values in the feature\n",
    "df['Model'].fillna('nameless', inplace=True) # filling in missing values in the feature\n",
    "df['FuelType'].fillna('unrevealed', inplace=True) # filling in missing values in the feature\n",
    "df['NotRepaired'].fillna('incognito', inplace=True) # filling in missing values in the feature"
   ]
  },
  {
   "cell_type": "markdown",
   "id": "440497bf",
   "metadata": {},
   "source": [
    "Let's check the preprocessing results:"
   ]
  },
  {
   "cell_type": "code",
   "execution_count": 9,
   "id": "ed893720",
   "metadata": {},
   "outputs": [
    {
     "data": {
      "text/plain": [
       "DateCrawled          0.0\n",
       "Price                0.0\n",
       "VehicleType          0.0\n",
       "RegistrationYear     0.0\n",
       "Gearbox              0.0\n",
       "Power                0.0\n",
       "Model                0.0\n",
       "Kilometer            0.0\n",
       "RegistrationMonth    0.0\n",
       "FuelType             0.0\n",
       "Brand                0.0\n",
       "NotRepaired          0.0\n",
       "DateCreated          0.0\n",
       "NumberOfPictures     0.0\n",
       "PostalCode           0.0\n",
       "LastSeen             0.0\n",
       "dtype: float64"
      ]
     },
     "execution_count": 9,
     "metadata": {},
     "output_type": "execute_result"
    }
   ],
   "source": [
    "df.isna().mean() # visualizing the NaN share in each column"
   ]
  },
  {
   "cell_type": "markdown",
   "id": "9ac5be71",
   "metadata": {},
   "source": [
    "Further, in order to exclude possible multicollinearity, we will study the correlation in the quantitative features of the data. To do this, we will present our dataset graphically and analyze whether there is a correlation, and what is its strength between individual features. The value of the correlation between features will be displayed using a heatmap."
   ]
  },
  {
   "cell_type": "code",
   "execution_count": 10,
   "id": "b7dff266",
   "metadata": {},
   "outputs": [
    {
     "data": {
      "image/png": "[encoded data removed]",
      "text/plain": [
       "<Figure size 864x864 with 2 Axes>"
      ]
     },
     "metadata": {},
     "output_type": "display_data"
    }
   ],
   "source": [
    "sns.set(rc = {'figure.figsize':(12,12)}) # setting the plot size\n",
    "sns.heatmap(df.corr(), center=0, annot=True); # plotting  heatmap to assess correlation among the features\n"
   ]
  },
  {
   "cell_type": "markdown",
   "id": "123f332d",
   "metadata": {},
   "source": [
    "So, between the quantitative features in the dataframe, there is both a positive and a negative correlation, but it is weak. The strongest relationship is observed between mileage and price, which is quite predictable: the strength of the relationship of these features is 33 - a fairly moderate value, and its direction is negative.\n",
    "\n",
    "Also, thanks to the heatmap, we were able to notice an anomaly in the feature \"number of pictures\", namely: it contains only zero values. Being a constant, this attribute does not affect the cost of the car in any way, so we will simply exclude it from the dataframe:\n"
   ]
  },
  {
   "cell_type": "code",
   "execution_count": 11,
   "id": "ea4798a5",
   "metadata": {},
   "outputs": [],
   "source": [
    "df.drop(columns=['NumberOfPictures'], inplace=True) # deleting the selected feature"
   ]
  },
  {
   "cell_type": "markdown",
   "id": "09397d3a",
   "metadata": {},
   "source": [
    "Next, let's take a closer look at the distribution of quantitative features:"
   ]
  },
  {
   "cell_type": "code",
   "execution_count": 12,
   "id": "a4009507",
   "metadata": {},
   "outputs": [
    {
     "data": {
      "image/png": "[encoded data removed]",
      "text/plain": [
       "<Figure size 1152x1152 with 6 Axes>"
      ]
     },
     "metadata": {},
     "output_type": "display_data"
    }
   ],
   "source": [
    "ax = df.hist(bins=100, figsize=(16, 16)); # plotting histogram for each feature\n"
   ]
  },
  {
   "cell_type": "markdown",
   "id": "5a0494c0",
   "metadata": {},
   "source": [
    "The resulting plots, as well as the size of the scale, suggest that there are anomalous values in the features, namely, in the year and month of registration, the power of the car, and also the price.\n",
    "Next, we will analyze each of these features separately. Let's start with the price:\n"
   ]
  },
  {
   "cell_type": "code",
   "execution_count": 13,
   "id": "d034d728",
   "metadata": {},
   "outputs": [
    {
     "data": {
      "text/plain": [
       "count    354365.000000\n",
       "mean       4416.679830\n",
       "std        4514.176349\n",
       "min           0.000000\n",
       "25%        1050.000000\n",
       "50%        2700.000000\n",
       "75%        6400.000000\n",
       "max       20000.000000\n",
       "Name: Price, dtype: float64"
      ]
     },
     "execution_count": 13,
     "metadata": {},
     "output_type": "execute_result"
    }
   ],
   "source": [
    "df['Price'].describe() # checking for the feature stats"
   ]
  },
  {
   "cell_type": "code",
   "execution_count": 14,
   "id": "ca8dc9b0",
   "metadata": {},
   "outputs": [
    {
     "name": "stdout",
     "output_type": "stream",
     "text": [
      "10772\n"
     ]
    },
    {
     "data": {
      "text/html": [
       "<div>\n",
       "<style scoped>\n",
       "    .dataframe tbody tr th:only-of-type {\n",
       "        vertical-align: middle;\n",
       "    }\n",
       "\n",
       "    .dataframe tbody tr th {\n",
       "        vertical-align: top;\n",
       "    }\n",
       "\n",
       "    .dataframe thead th {\n",
       "        text-align: right;\n",
       "    }\n",
       "</style>\n",
       "<table border=\"1\" class=\"dataframe\">\n",
       "  <thead>\n",
       "    <tr style=\"text-align: right;\">\n",
       "      <th></th>\n",
       "      <th>DateCrawled</th>\n",
       "      <th>Price</th>\n",
       "      <th>VehicleType</th>\n",
       "      <th>RegistrationYear</th>\n",
       "      <th>Gearbox</th>\n",
       "      <th>Power</th>\n",
       "      <th>Model</th>\n",
       "      <th>Kilometer</th>\n",
       "      <th>RegistrationMonth</th>\n",
       "      <th>FuelType</th>\n",
       "      <th>Brand</th>\n",
       "      <th>NotRepaired</th>\n",
       "      <th>DateCreated</th>\n",
       "      <th>PostalCode</th>\n",
       "      <th>LastSeen</th>\n",
       "    </tr>\n",
       "  </thead>\n",
       "  <tbody>\n",
       "    <tr>\n",
       "      <th>7</th>\n",
       "      <td>2016-03-21 18:54:38</td>\n",
       "      <td>0</td>\n",
       "      <td>sedan</td>\n",
       "      <td>1980</td>\n",
       "      <td>manual</td>\n",
       "      <td>50</td>\n",
       "      <td>other</td>\n",
       "      <td>40000</td>\n",
       "      <td>7</td>\n",
       "      <td>petrol</td>\n",
       "      <td>volkswagen</td>\n",
       "      <td>no</td>\n",
       "      <td>2016-03-21 00:00:00</td>\n",
       "      <td>19348</td>\n",
       "      <td>2016-03-25 16:47:58</td>\n",
       "    </tr>\n",
       "    <tr>\n",
       "      <th>40</th>\n",
       "      <td>2016-03-26 22:06:17</td>\n",
       "      <td>0</td>\n",
       "      <td>unknown</td>\n",
       "      <td>1990</td>\n",
       "      <td>noinfo</td>\n",
       "      <td>0</td>\n",
       "      <td>corsa</td>\n",
       "      <td>150000</td>\n",
       "      <td>1</td>\n",
       "      <td>petrol</td>\n",
       "      <td>opel</td>\n",
       "      <td>incognito</td>\n",
       "      <td>2016-03-26 00:00:00</td>\n",
       "      <td>56412</td>\n",
       "      <td>2016-03-27 17:43:34</td>\n",
       "    </tr>\n",
       "    <tr>\n",
       "      <th>111</th>\n",
       "      <td>2016-03-19 18:40:12</td>\n",
       "      <td>0</td>\n",
       "      <td>unknown</td>\n",
       "      <td>2017</td>\n",
       "      <td>manual</td>\n",
       "      <td>0</td>\n",
       "      <td>golf</td>\n",
       "      <td>5000</td>\n",
       "      <td>12</td>\n",
       "      <td>petrol</td>\n",
       "      <td>volkswagen</td>\n",
       "      <td>incognito</td>\n",
       "      <td>2016-03-19 00:00:00</td>\n",
       "      <td>21698</td>\n",
       "      <td>2016-04-01 08:47:05</td>\n",
       "    </tr>\n",
       "    <tr>\n",
       "      <th>115</th>\n",
       "      <td>2016-03-20 18:53:27</td>\n",
       "      <td>0</td>\n",
       "      <td>small</td>\n",
       "      <td>1999</td>\n",
       "      <td>noinfo</td>\n",
       "      <td>0</td>\n",
       "      <td>nameless</td>\n",
       "      <td>5000</td>\n",
       "      <td>0</td>\n",
       "      <td>petrol</td>\n",
       "      <td>volkswagen</td>\n",
       "      <td>incognito</td>\n",
       "      <td>2016-03-20 00:00:00</td>\n",
       "      <td>37520</td>\n",
       "      <td>2016-04-07 02:45:22</td>\n",
       "    </tr>\n",
       "    <tr>\n",
       "      <th>152</th>\n",
       "      <td>2016-03-11 18:55:53</td>\n",
       "      <td>0</td>\n",
       "      <td>bus</td>\n",
       "      <td>2004</td>\n",
       "      <td>manual</td>\n",
       "      <td>101</td>\n",
       "      <td>meriva</td>\n",
       "      <td>150000</td>\n",
       "      <td>10</td>\n",
       "      <td>lpg</td>\n",
       "      <td>opel</td>\n",
       "      <td>yes</td>\n",
       "      <td>2016-03-11 00:00:00</td>\n",
       "      <td>27432</td>\n",
       "      <td>2016-03-12 23:47:10</td>\n",
       "    </tr>\n",
       "    <tr>\n",
       "      <th>154</th>\n",
       "      <td>2016-03-22 16:37:59</td>\n",
       "      <td>0</td>\n",
       "      <td>unknown</td>\n",
       "      <td>2006</td>\n",
       "      <td>noinfo</td>\n",
       "      <td>0</td>\n",
       "      <td>other</td>\n",
       "      <td>5000</td>\n",
       "      <td>0</td>\n",
       "      <td>unrevealed</td>\n",
       "      <td>fiat</td>\n",
       "      <td>incognito</td>\n",
       "      <td>2016-03-22 00:00:00</td>\n",
       "      <td>44867</td>\n",
       "      <td>2016-04-06 06:17:56</td>\n",
       "    </tr>\n",
       "    <tr>\n",
       "      <th>231</th>\n",
       "      <td>2016-03-16 22:06:24</td>\n",
       "      <td>0</td>\n",
       "      <td>wagon</td>\n",
       "      <td>2001</td>\n",
       "      <td>manual</td>\n",
       "      <td>115</td>\n",
       "      <td>mondeo</td>\n",
       "      <td>150000</td>\n",
       "      <td>0</td>\n",
       "      <td>unrevealed</td>\n",
       "      <td>ford</td>\n",
       "      <td>incognito</td>\n",
       "      <td>2016-03-16 00:00:00</td>\n",
       "      <td>57627</td>\n",
       "      <td>2016-03-26 11:17:50</td>\n",
       "    </tr>\n",
       "    <tr>\n",
       "      <th>334</th>\n",
       "      <td>2016-03-06 10:06:20</td>\n",
       "      <td>0</td>\n",
       "      <td>unknown</td>\n",
       "      <td>2005</td>\n",
       "      <td>noinfo</td>\n",
       "      <td>0</td>\n",
       "      <td>polo</td>\n",
       "      <td>150000</td>\n",
       "      <td>0</td>\n",
       "      <td>petrol</td>\n",
       "      <td>volkswagen</td>\n",
       "      <td>incognito</td>\n",
       "      <td>2016-03-06 00:00:00</td>\n",
       "      <td>35392</td>\n",
       "      <td>2016-03-07 19:12:00</td>\n",
       "    </tr>\n",
       "    <tr>\n",
       "      <th>415</th>\n",
       "      <td>2016-03-11 10:52:49</td>\n",
       "      <td>0</td>\n",
       "      <td>unknown</td>\n",
       "      <td>1985</td>\n",
       "      <td>noinfo</td>\n",
       "      <td>0</td>\n",
       "      <td>3er</td>\n",
       "      <td>150000</td>\n",
       "      <td>0</td>\n",
       "      <td>unrevealed</td>\n",
       "      <td>bmw</td>\n",
       "      <td>incognito</td>\n",
       "      <td>2016-03-11 00:00:00</td>\n",
       "      <td>85051</td>\n",
       "      <td>2016-03-11 11:41:09</td>\n",
       "    </tr>\n",
       "    <tr>\n",
       "      <th>466</th>\n",
       "      <td>2016-03-24 10:58:40</td>\n",
       "      <td>0</td>\n",
       "      <td>unknown</td>\n",
       "      <td>2016</td>\n",
       "      <td>auto</td>\n",
       "      <td>197</td>\n",
       "      <td>3er</td>\n",
       "      <td>150000</td>\n",
       "      <td>12</td>\n",
       "      <td>gasoline</td>\n",
       "      <td>bmw</td>\n",
       "      <td>no</td>\n",
       "      <td>2016-03-24 00:00:00</td>\n",
       "      <td>99867</td>\n",
       "      <td>2016-03-25 19:46:09</td>\n",
       "    </tr>\n",
       "  </tbody>\n",
       "</table>\n",
       "</div>"
      ],
      "text/plain": [
       "             DateCrawled  Price VehicleType  RegistrationYear Gearbox  Power  \\\n",
       "7    2016-03-21 18:54:38      0       sedan              1980  manual     50   \n",
       "40   2016-03-26 22:06:17      0     unknown              1990  noinfo      0   \n",
       "111  2016-03-19 18:40:12      0     unknown              2017  manual      0   \n",
       "115  2016-03-20 18:53:27      0       small              1999  noinfo      0   \n",
       "152  2016-03-11 18:55:53      0         bus              2004  manual    101   \n",
       "154  2016-03-22 16:37:59      0     unknown              2006  noinfo      0   \n",
       "231  2016-03-16 22:06:24      0       wagon              2001  manual    115   \n",
       "334  2016-03-06 10:06:20      0     unknown              2005  noinfo      0   \n",
       "415  2016-03-11 10:52:49      0     unknown              1985  noinfo      0   \n",
       "466  2016-03-24 10:58:40      0     unknown              2016    auto    197   \n",
       "\n",
       "        Model  Kilometer  RegistrationMonth    FuelType       Brand  \\\n",
       "7       other      40000                  7      petrol  volkswagen   \n",
       "40      corsa     150000                  1      petrol        opel   \n",
       "111      golf       5000                 12      petrol  volkswagen   \n",
       "115  nameless       5000                  0      petrol  volkswagen   \n",
       "152    meriva     150000                 10         lpg        opel   \n",
       "154     other       5000                  0  unrevealed        fiat   \n",
       "231    mondeo     150000                  0  unrevealed        ford   \n",
       "334      polo     150000                  0      petrol  volkswagen   \n",
       "415       3er     150000                  0  unrevealed         bmw   \n",
       "466       3er     150000                 12    gasoline         bmw   \n",
       "\n",
       "    NotRepaired          DateCreated  PostalCode             LastSeen  \n",
       "7            no  2016-03-21 00:00:00       19348  2016-03-25 16:47:58  \n",
       "40    incognito  2016-03-26 00:00:00       56412  2016-03-27 17:43:34  \n",
       "111   incognito  2016-03-19 00:00:00       21698  2016-04-01 08:47:05  \n",
       "115   incognito  2016-03-20 00:00:00       37520  2016-04-07 02:45:22  \n",
       "152         yes  2016-03-11 00:00:00       27432  2016-03-12 23:47:10  \n",
       "154   incognito  2016-03-22 00:00:00       44867  2016-04-06 06:17:56  \n",
       "231   incognito  2016-03-16 00:00:00       57627  2016-03-26 11:17:50  \n",
       "334   incognito  2016-03-06 00:00:00       35392  2016-03-07 19:12:00  \n",
       "415   incognito  2016-03-11 00:00:00       85051  2016-03-11 11:41:09  \n",
       "466          no  2016-03-24 00:00:00       99867  2016-03-25 19:46:09  "
      ]
     },
     "execution_count": 14,
     "metadata": {},
     "output_type": "execute_result"
    }
   ],
   "source": [
    "print(len(df[df['Price']==0])) # checking 0 prices\n",
    "df[df['Price']==0].head(10) # visualizing filtered df"
   ]
  },
  {
   "cell_type": "markdown",
   "id": "68d00193",
   "metadata": {},
   "source": [
    "So, the distribution of car prices has a pronounced skew to the right: both the histogram and the arithmetic mean, which is quite much higher than the median due to objects with a high price, testify to this. However, the maximum in the distribution is not that high: 20,000 euros is a reasonable price for a car, in terms of common sense. Much more suspicious are zero prices, which are approx. 3% of the total number of objects. If we pay attention to a certain sample of objects where the price is zero, we will not notice any similarities between them. Taking into account other features of the same objects, from the point of view of common sense, the price of such cars cannot be equal to zero. Most likely, we are talking about errors, and then we will get rid of zero prices in our dataframe, this will make fitting our traditional models better.\n",
    "\n"
   ]
  },
  {
   "cell_type": "code",
   "execution_count": 15,
   "id": "f1c2bd54",
   "metadata": {},
   "outputs": [
    {
     "data": {
      "text/plain": [
       "343593"
      ]
     },
     "execution_count": 15,
     "metadata": {},
     "output_type": "execute_result"
    }
   ],
   "source": [
    "df = df.query(\"Price > 0\") # filtering the df\n",
    "len(df) # checking the result\n"
   ]
  },
  {
   "cell_type": "markdown",
   "id": "160edfc4",
   "metadata": {},
   "source": [
    "The next feature that we will analyze is the power of cars:"
   ]
  },
  {
   "cell_type": "code",
   "execution_count": 16,
   "id": "a7f9a14c",
   "metadata": {},
   "outputs": [
    {
     "data": {
      "text/plain": [
       "count    343593.000000\n",
       "mean        110.999665\n",
       "std         188.178919\n",
       "min           0.000000\n",
       "25%          69.000000\n",
       "50%         105.000000\n",
       "75%         143.000000\n",
       "max       20000.000000\n",
       "Name: Power, dtype: float64"
      ]
     },
     "execution_count": 16,
     "metadata": {},
     "output_type": "execute_result"
    }
   ],
   "source": [
    "df['Power'].describe() # visualizing the feature stats"
   ]
  },
  {
   "cell_type": "code",
   "execution_count": 17,
   "id": "67c6959b",
   "metadata": {},
   "outputs": [
    {
     "name": "stdout",
     "output_type": "stream",
     "text": [
      "36474\n"
     ]
    }
   ],
   "source": [
    "print(len(df[(df['Power']==0) | (df['Power'] > 2000)])) # checking the quantity of filtered objects\n"
   ]
  },
  {
   "cell_type": "markdown",
   "id": "088ee5b3",
   "metadata": {},
   "source": [
    "As far as it concerns the power distribution, in this case the median and the meean are very close to each other, although this is almost imperceptible in the plot due to the scale. And in this case, we can see abnormal values, such as zero power or 20,000 horsepower. We can also assume that these are errors in the data, since the most powerful car in the world at the moment is 10 times weaker than some objects in the dataframe. However, there are too many objects like this(more than 11%), so we cannot simply remove them from the dataset, so we should replace the anomalous feature value by some number, which will allow the model to understand that these values are fictitious or very different.\n",
    "Let's do this with a function:"
   ]
  },
  {
   "cell_type": "code",
   "execution_count": 18,
   "id": "9a2f9870",
   "metadata": {},
   "outputs": [],
   "source": [
    "# difining a replacement function\n",
    "def power_replacer(power):\n",
    "    if power == 0 or power >= 2000:\n",
    "        return -1111\n",
    "    return power"
   ]
  },
  {
   "cell_type": "code",
   "execution_count": 19,
   "id": "397ee4ac",
   "metadata": {},
   "outputs": [
    {
     "name": "stdout",
     "output_type": "stream",
     "text": [
      "0\n"
     ]
    }
   ],
   "source": [
    "df['Power'] = df['Power'].apply(power_replacer) # applying the function to the feature\n",
    "print(len(df[(df['Power']==0) | (df['Power'] > 2000)])) # checking the quantity of filtered objects"
   ]
  },
  {
   "cell_type": "markdown",
   "id": "1897efa2",
   "metadata": {},
   "source": [
    "Let's move to the month of registration:"
   ]
  },
  {
   "cell_type": "code",
   "execution_count": 20,
   "id": "62b7df00",
   "metadata": {},
   "outputs": [
    {
     "data": {
      "text/plain": [
       "array([ 0,  5,  8,  6,  7, 10, 12, 11,  2,  3,  1,  4,  9], dtype=int64)"
      ]
     },
     "execution_count": 20,
     "metadata": {},
     "output_type": "execute_result"
    }
   ],
   "source": [
    "df['RegistrationMonth'].unique() # visualizing the feature unique values"
   ]
  },
  {
   "cell_type": "markdown",
   "id": "a7132581",
   "metadata": {},
   "source": [
    "On the histogram, it was noticeable that among the months there is an anomalous value - 0, moreover, it is the most frequent. Although the month of registration is expressed in numbers, this is a categorical feature, so we will assume that the missing values were replaced by 0, this replacement seems quite adequate, so we will not process this feature further.\n",
    "Let's look at the year of registration:\n"
   ]
  },
  {
   "cell_type": "code",
   "execution_count": 21,
   "id": "4fc3f141",
   "metadata": {},
   "outputs": [
    {
     "data": {
      "text/plain": [
       "[1000,\n",
       " 1001,\n",
       " 1039,\n",
       " 1111,\n",
       " 1234,\n",
       " 1255,\n",
       " 1300,\n",
       " 1400,\n",
       " 1500,\n",
       " 1600,\n",
       " 1602,\n",
       " 1800,\n",
       " 1910,\n",
       " 1923,\n",
       " 1925,\n",
       " 1927,\n",
       " 1928,\n",
       " 1929,\n",
       " 1930,\n",
       " 1931,\n",
       " 1932,\n",
       " 1933,\n",
       " 1934,\n",
       " 1935,\n",
       " 1936,\n",
       " 1937,\n",
       " 1938,\n",
       " 1940,\n",
       " 1941,\n",
       " 1942,\n",
       " 1943,\n",
       " 1944,\n",
       " 1945,\n",
       " 1946,\n",
       " 1947,\n",
       " 1948,\n",
       " 1949,\n",
       " 1950,\n",
       " 1951,\n",
       " 1952,\n",
       " 1953,\n",
       " 1954,\n",
       " 1955,\n",
       " 1956,\n",
       " 1957,\n",
       " 1958,\n",
       " 1959,\n",
       " 1960,\n",
       " 1961,\n",
       " 1962,\n",
       " 1963,\n",
       " 1964,\n",
       " 1965,\n",
       " 1966,\n",
       " 1967,\n",
       " 1968,\n",
       " 1969,\n",
       " 1970,\n",
       " 1971,\n",
       " 1972,\n",
       " 1973,\n",
       " 1974,\n",
       " 1975,\n",
       " 1976,\n",
       " 1977,\n",
       " 1978,\n",
       " 1979,\n",
       " 1980,\n",
       " 1981,\n",
       " 1982,\n",
       " 1983,\n",
       " 1984,\n",
       " 1985,\n",
       " 1986,\n",
       " 1987,\n",
       " 1988,\n",
       " 1989,\n",
       " 1990,\n",
       " 1991,\n",
       " 1992,\n",
       " 1993,\n",
       " 1994,\n",
       " 1995,\n",
       " 1996,\n",
       " 1997,\n",
       " 1998,\n",
       " 1999,\n",
       " 2000,\n",
       " 2001,\n",
       " 2002,\n",
       " 2003,\n",
       " 2004,\n",
       " 2005,\n",
       " 2006,\n",
       " 2007,\n",
       " 2008,\n",
       " 2009,\n",
       " 2010,\n",
       " 2011,\n",
       " 2012,\n",
       " 2013,\n",
       " 2014,\n",
       " 2015,\n",
       " 2016,\n",
       " 2017,\n",
       " 2018,\n",
       " 2019,\n",
       " 2066,\n",
       " 2200,\n",
       " 2222,\n",
       " 2290,\n",
       " 2500,\n",
       " 2800,\n",
       " 2900,\n",
       " 3000,\n",
       " 3200,\n",
       " 3700,\n",
       " 3800,\n",
       " 4000,\n",
       " 4100,\n",
       " 4500,\n",
       " 4800,\n",
       " 5000,\n",
       " 5300,\n",
       " 5555,\n",
       " 5600,\n",
       " 5900,\n",
       " 5911,\n",
       " 6000,\n",
       " 6500,\n",
       " 7000,\n",
       " 7100,\n",
       " 7800,\n",
       " 8000,\n",
       " 8200,\n",
       " 8500,\n",
       " 8888,\n",
       " 9000,\n",
       " 9450,\n",
       " 9999]"
      ]
     },
     "execution_count": 21,
     "metadata": {},
     "output_type": "execute_result"
    }
   ],
   "source": [
    "sorted(list(df['RegistrationYear'].unique())) # visualizing the feature unique values"
   ]
  },
  {
   "cell_type": "markdown",
   "id": "a9c39662",
   "metadata": {},
   "source": [
    "Both from the histogram and from the list of unique values, it is noticeable that there are obviously fantastic values in the dataset, both from the past and from the future. This feature is quantitative, so we will replace the anomalous years with some number, for example, -999, so our model can categorize such values as bogus or, in any case, too different. To do this, let's define a special function:\n"
   ]
  },
  {
   "cell_type": "code",
   "execution_count": 22,
   "id": "443f7ec0",
   "metadata": {},
   "outputs": [],
   "source": [
    "# defining a replacement function\n",
    "def year_replacer(year):\n",
    "    if year < 1910 or year >= 2066:\n",
    "        return -999\n",
    "    return year\n"
   ]
  },
  {
   "cell_type": "code",
   "execution_count": 23,
   "id": "c5dfd9b6",
   "metadata": {},
   "outputs": [
    {
     "data": {
      "text/plain": [
       "[-999,\n",
       " 1910,\n",
       " 1923,\n",
       " 1925,\n",
       " 1927,\n",
       " 1928,\n",
       " 1929,\n",
       " 1930,\n",
       " 1931,\n",
       " 1932,\n",
       " 1933,\n",
       " 1934,\n",
       " 1935,\n",
       " 1936,\n",
       " 1937,\n",
       " 1938,\n",
       " 1940,\n",
       " 1941,\n",
       " 1942,\n",
       " 1943,\n",
       " 1944,\n",
       " 1945,\n",
       " 1946,\n",
       " 1947,\n",
       " 1948,\n",
       " 1949,\n",
       " 1950,\n",
       " 1951,\n",
       " 1952,\n",
       " 1953,\n",
       " 1954,\n",
       " 1955,\n",
       " 1956,\n",
       " 1957,\n",
       " 1958,\n",
       " 1959,\n",
       " 1960,\n",
       " 1961,\n",
       " 1962,\n",
       " 1963,\n",
       " 1964,\n",
       " 1965,\n",
       " 1966,\n",
       " 1967,\n",
       " 1968,\n",
       " 1969,\n",
       " 1970,\n",
       " 1971,\n",
       " 1972,\n",
       " 1973,\n",
       " 1974,\n",
       " 1975,\n",
       " 1976,\n",
       " 1977,\n",
       " 1978,\n",
       " 1979,\n",
       " 1980,\n",
       " 1981,\n",
       " 1982,\n",
       " 1983,\n",
       " 1984,\n",
       " 1985,\n",
       " 1986,\n",
       " 1987,\n",
       " 1988,\n",
       " 1989,\n",
       " 1990,\n",
       " 1991,\n",
       " 1992,\n",
       " 1993,\n",
       " 1994,\n",
       " 1995,\n",
       " 1996,\n",
       " 1997,\n",
       " 1998,\n",
       " 1999,\n",
       " 2000,\n",
       " 2001,\n",
       " 2002,\n",
       " 2003,\n",
       " 2004,\n",
       " 2005,\n",
       " 2006,\n",
       " 2007,\n",
       " 2008,\n",
       " 2009,\n",
       " 2010,\n",
       " 2011,\n",
       " 2012,\n",
       " 2013,\n",
       " 2014,\n",
       " 2015,\n",
       " 2016,\n",
       " 2017,\n",
       " 2018,\n",
       " 2019]"
      ]
     },
     "execution_count": 23,
     "metadata": {},
     "output_type": "execute_result"
    }
   ],
   "source": [
    "df['RegistrationYear'] = df['RegistrationYear'].apply(year_replacer) # applying the function to the feature\n",
    "sorted(list(df['RegistrationYear'].unique())) # visualizing the feature unique values"
   ]
  },
  {
   "cell_type": "markdown",
   "id": "0445cb23",
   "metadata": {},
   "source": [
    "Let's look at the dates next. Conventionally, the dates contained in a dataframe should not affect the value of a car, however, machine learning differs from human learning precisely in its ability to find invisible relationships. For this reason, we will not remove the 3 features with dates from our dataframe.\n",
    "To prepare them for machine learning, we should convert strings to datetime format and then to numeric values. To do this, we use the built-in pandas toordinal() method, which returns the Gregorian serial number of the date:\n"
   ]
  },
  {
   "cell_type": "code",
   "execution_count": 24,
   "id": "2685e52d",
   "metadata": {},
   "outputs": [],
   "source": [
    "# changing the dates datatype\n",
    "for col in ['DateCrawled', 'DateCreated', 'LastSeen']:\n",
    "    df[col] = pd.to_datetime(df[col])\n",
    "    df[col]=df[col].map(dt.datetime.toordinal)\n",
    "\n",
    "    "
   ]
  },
  {
   "cell_type": "code",
   "execution_count": 25,
   "id": "2e28a8e9",
   "metadata": {},
   "outputs": [
    {
     "data": {
      "text/html": [
       "<div>\n",
       "<style scoped>\n",
       "    .dataframe tbody tr th:only-of-type {\n",
       "        vertical-align: middle;\n",
       "    }\n",
       "\n",
       "    .dataframe tbody tr th {\n",
       "        vertical-align: top;\n",
       "    }\n",
       "\n",
       "    .dataframe thead th {\n",
       "        text-align: right;\n",
       "    }\n",
       "</style>\n",
       "<table border=\"1\" class=\"dataframe\">\n",
       "  <thead>\n",
       "    <tr style=\"text-align: right;\">\n",
       "      <th></th>\n",
       "      <th>DateCrawled</th>\n",
       "      <th>Price</th>\n",
       "      <th>VehicleType</th>\n",
       "      <th>RegistrationYear</th>\n",
       "      <th>Gearbox</th>\n",
       "      <th>Power</th>\n",
       "      <th>Model</th>\n",
       "      <th>Kilometer</th>\n",
       "      <th>RegistrationMonth</th>\n",
       "      <th>FuelType</th>\n",
       "      <th>Brand</th>\n",
       "      <th>NotRepaired</th>\n",
       "      <th>DateCreated</th>\n",
       "      <th>PostalCode</th>\n",
       "      <th>LastSeen</th>\n",
       "    </tr>\n",
       "  </thead>\n",
       "  <tbody>\n",
       "    <tr>\n",
       "      <th>0</th>\n",
       "      <td>736047</td>\n",
       "      <td>480</td>\n",
       "      <td>unknown</td>\n",
       "      <td>1993</td>\n",
       "      <td>manual</td>\n",
       "      <td>-1111</td>\n",
       "      <td>golf</td>\n",
       "      <td>150000</td>\n",
       "      <td>0</td>\n",
       "      <td>petrol</td>\n",
       "      <td>volkswagen</td>\n",
       "      <td>incognito</td>\n",
       "      <td>736047</td>\n",
       "      <td>70435</td>\n",
       "      <td>736061</td>\n",
       "    </tr>\n",
       "    <tr>\n",
       "      <th>1</th>\n",
       "      <td>736047</td>\n",
       "      <td>18300</td>\n",
       "      <td>coupe</td>\n",
       "      <td>2011</td>\n",
       "      <td>manual</td>\n",
       "      <td>190</td>\n",
       "      <td>nameless</td>\n",
       "      <td>125000</td>\n",
       "      <td>5</td>\n",
       "      <td>gasoline</td>\n",
       "      <td>audi</td>\n",
       "      <td>yes</td>\n",
       "      <td>736047</td>\n",
       "      <td>66954</td>\n",
       "      <td>736061</td>\n",
       "    </tr>\n",
       "    <tr>\n",
       "      <th>2</th>\n",
       "      <td>736037</td>\n",
       "      <td>9800</td>\n",
       "      <td>suv</td>\n",
       "      <td>2004</td>\n",
       "      <td>auto</td>\n",
       "      <td>163</td>\n",
       "      <td>grand</td>\n",
       "      <td>125000</td>\n",
       "      <td>8</td>\n",
       "      <td>gasoline</td>\n",
       "      <td>jeep</td>\n",
       "      <td>incognito</td>\n",
       "      <td>736037</td>\n",
       "      <td>90480</td>\n",
       "      <td>736059</td>\n",
       "    </tr>\n",
       "    <tr>\n",
       "      <th>3</th>\n",
       "      <td>736040</td>\n",
       "      <td>1500</td>\n",
       "      <td>small</td>\n",
       "      <td>2001</td>\n",
       "      <td>manual</td>\n",
       "      <td>75</td>\n",
       "      <td>golf</td>\n",
       "      <td>150000</td>\n",
       "      <td>6</td>\n",
       "      <td>petrol</td>\n",
       "      <td>volkswagen</td>\n",
       "      <td>no</td>\n",
       "      <td>736040</td>\n",
       "      <td>91074</td>\n",
       "      <td>736040</td>\n",
       "    </tr>\n",
       "    <tr>\n",
       "      <th>4</th>\n",
       "      <td>736054</td>\n",
       "      <td>3600</td>\n",
       "      <td>small</td>\n",
       "      <td>2008</td>\n",
       "      <td>manual</td>\n",
       "      <td>69</td>\n",
       "      <td>fabia</td>\n",
       "      <td>90000</td>\n",
       "      <td>7</td>\n",
       "      <td>gasoline</td>\n",
       "      <td>skoda</td>\n",
       "      <td>no</td>\n",
       "      <td>736054</td>\n",
       "      <td>60437</td>\n",
       "      <td>736060</td>\n",
       "    </tr>\n",
       "  </tbody>\n",
       "</table>\n",
       "</div>"
      ],
      "text/plain": [
       "   DateCrawled  Price VehicleType  RegistrationYear Gearbox  Power     Model  \\\n",
       "0       736047    480     unknown              1993  manual  -1111      golf   \n",
       "1       736047  18300       coupe              2011  manual    190  nameless   \n",
       "2       736037   9800         suv              2004    auto    163     grand   \n",
       "3       736040   1500       small              2001  manual     75      golf   \n",
       "4       736054   3600       small              2008  manual     69     fabia   \n",
       "\n",
       "   Kilometer  RegistrationMonth  FuelType       Brand NotRepaired  \\\n",
       "0     150000                  0    petrol  volkswagen   incognito   \n",
       "1     125000                  5  gasoline        audi         yes   \n",
       "2     125000                  8  gasoline        jeep   incognito   \n",
       "3     150000                  6    petrol  volkswagen          no   \n",
       "4      90000                  7  gasoline       skoda          no   \n",
       "\n",
       "   DateCreated  PostalCode  LastSeen  \n",
       "0       736047       70435    736061  \n",
       "1       736047       66954    736061  \n",
       "2       736037       90480    736059  \n",
       "3       736040       91074    736040  \n",
       "4       736054       60437    736060  "
      ]
     },
     "execution_count": 25,
     "metadata": {},
     "output_type": "execute_result"
    }
   ],
   "source": [
    "df.head() # checking the result"
   ]
  },
  {
   "cell_type": "markdown",
   "id": "ca9a0301",
   "metadata": {},
   "source": [
    "**Conclusions**\n",
    "\n",
    "So, the basic preparation of the data has been done: we got rid of duplicates and missing values that prevent from models building, checked how the features correlate with each other, what unique values they take, and also got rid of unnecessary ones, brought the dates into the format required for machine learning - it's time move on to the next phase of our project.\n"
   ]
  },
  {
   "cell_type": "markdown",
   "id": "2d59e20d",
   "metadata": {},
   "source": [
    "### Special Data Preparation\n",
    "Since, according to the assignment, we should build and test traditional regression models, knowing how they work, and also in order to improve the quality of predictions, we should improve the quality of the data. If we only used certain gradient boosting models, special data preparation and even NaNs filling would be redundant.\n",
    "\n"
   ]
  },
  {
   "cell_type": "markdown",
   "id": "a6e5e90e",
   "metadata": {},
   "source": [
    "Further, depending on the models peculiarity, we will duplicate our dataset 2 times and process it accordingly:\n"
   ]
  },
  {
   "cell_type": "code",
   "execution_count": 26,
   "id": "3e6fc367",
   "metadata": {},
   "outputs": [],
   "source": [
    "df # dataset for gradient boosting\n",
    "df_forest = df # dataset for random forest\n",
    "df_linear = df # dataset for linear regression"
   ]
  },
  {
   "cell_type": "markdown",
   "id": "22684989",
   "metadata": {},
   "source": [
    "We will no longer process the gradient boosting sample, so we will proceed to the direct division of the dataframe into samples: training and test, on the latter we will check the quality of the model. When splitting, we will set the random_state parameter to fix the results of the split.\n"
   ]
  },
  {
   "cell_type": "code",
   "execution_count": 27,
   "id": "bde6865c",
   "metadata": {},
   "outputs": [],
   "source": [
    "features = df.drop(columns=['Price']) # feature sample\n",
    "target = df['Price']  # target sample\n",
    "features_train, features_test, target_train, target_test = train_test_split(features, target, test_size=0.25, random_state=12345) # splitting the dataset"
   ]
  },
  {
   "cell_type": "markdown",
   "id": "80addc04",
   "metadata": {},
   "source": [
    "Let's prepare the dataset for linear regression."
   ]
  },
  {
   "cell_type": "code",
   "execution_count": 28,
   "id": "afe8b9d1",
   "metadata": {},
   "outputs": [
    {
     "data": {
      "text/plain": [
       "volkswagen       74412\n",
       "opel             38530\n",
       "bmw              35809\n",
       "mercedes_benz    31357\n",
       "audi             28574\n",
       "ford             24457\n",
       "renault          17389\n",
       "peugeot          10781\n",
       "fiat              9332\n",
       "seat              6718\n",
       "Name: Brand, dtype: int64"
      ]
     },
     "execution_count": 28,
     "metadata": {},
     "output_type": "execute_result"
    }
   ],
   "source": [
    "df_linear['Brand'].value_counts().head(10) # checking the top 10 brands"
   ]
  },
  {
   "cell_type": "code",
   "execution_count": 29,
   "id": "7338e161",
   "metadata": {},
   "outputs": [
    {
     "data": {
      "text/plain": [
       "golf        28246\n",
       "other       23706\n",
       "3er         19179\n",
       "nameless    17521\n",
       "polo        12628\n",
       "corsa       12197\n",
       "astra       10475\n",
       "passat       9834\n",
       "a4           9642\n",
       "c_klasse     8174\n",
       "Name: Model, dtype: int64"
      ]
     },
     "execution_count": 29,
     "metadata": {},
     "output_type": "execute_result"
    }
   ],
   "source": [
    "df_linear['Model'].value_counts().head(10) # checking the top 10 models"
   ]
  },
  {
   "cell_type": "code",
   "execution_count": 30,
   "id": "3f593172",
   "metadata": {},
   "outputs": [],
   "source": [
    "# defining a replacement function\n",
    "def brand_replacer(brand):\n",
    "    if brand not in ['volkswagen', 'opel', 'bmw', 'mercedes_benz', 'audi', 'ford', 'fiat', 'seat']:\n",
    "        return 'other'\n",
    "    return brand"
   ]
  },
  {
   "cell_type": "code",
   "execution_count": 31,
   "id": "618e47b9",
   "metadata": {},
   "outputs": [],
   "source": [
    "df_linear['Brand'] = df_linear['Brand'].apply(brand_replacer)# applying  the function"
   ]
  },
  {
   "cell_type": "code",
   "execution_count": 32,
   "id": "7536ca92",
   "metadata": {},
   "outputs": [],
   "source": [
    "# defining a replacement function\n",
    "def model_replacer(model):\n",
    "    if model not in ['golf', '3er', 'polo', 'corsa', 'astra', 'passat', 'a4', 'c_klasse']:\n",
    "        return 'other'\n",
    "    return model"
   ]
  },
  {
   "cell_type": "code",
   "execution_count": 33,
   "id": "9a3081a6",
   "metadata": {},
   "outputs": [],
   "source": [
    "df_linear['Model'] = df_linear['Model'].apply(model_replacer) # applying  the function"
   ]
  },
  {
   "cell_type": "code",
   "execution_count": 34,
   "id": "763fca6c",
   "metadata": {},
   "outputs": [
    {
     "data": {
      "text/html": [
       "<div>\n",
       "<style scoped>\n",
       "    .dataframe tbody tr th:only-of-type {\n",
       "        vertical-align: middle;\n",
       "    }\n",
       "\n",
       "    .dataframe tbody tr th {\n",
       "        vertical-align: top;\n",
       "    }\n",
       "\n",
       "    .dataframe thead th {\n",
       "        text-align: right;\n",
       "    }\n",
       "</style>\n",
       "<table border=\"1\" class=\"dataframe\">\n",
       "  <thead>\n",
       "    <tr style=\"text-align: right;\">\n",
       "      <th></th>\n",
       "      <th>DateCrawled</th>\n",
       "      <th>Price</th>\n",
       "      <th>VehicleType</th>\n",
       "      <th>RegistrationYear</th>\n",
       "      <th>Gearbox</th>\n",
       "      <th>Power</th>\n",
       "      <th>Model</th>\n",
       "      <th>Kilometer</th>\n",
       "      <th>RegistrationMonth</th>\n",
       "      <th>FuelType</th>\n",
       "      <th>Brand</th>\n",
       "      <th>NotRepaired</th>\n",
       "      <th>DateCreated</th>\n",
       "      <th>PostalCode</th>\n",
       "      <th>LastSeen</th>\n",
       "    </tr>\n",
       "  </thead>\n",
       "  <tbody>\n",
       "    <tr>\n",
       "      <th>0</th>\n",
       "      <td>736047</td>\n",
       "      <td>480</td>\n",
       "      <td>unknown</td>\n",
       "      <td>1993</td>\n",
       "      <td>manual</td>\n",
       "      <td>-1111</td>\n",
       "      <td>golf</td>\n",
       "      <td>150000</td>\n",
       "      <td>0</td>\n",
       "      <td>petrol</td>\n",
       "      <td>volkswagen</td>\n",
       "      <td>incognito</td>\n",
       "      <td>736047</td>\n",
       "      <td>70435</td>\n",
       "      <td>736061</td>\n",
       "    </tr>\n",
       "    <tr>\n",
       "      <th>1</th>\n",
       "      <td>736047</td>\n",
       "      <td>18300</td>\n",
       "      <td>coupe</td>\n",
       "      <td>2011</td>\n",
       "      <td>manual</td>\n",
       "      <td>190</td>\n",
       "      <td>other</td>\n",
       "      <td>125000</td>\n",
       "      <td>5</td>\n",
       "      <td>gasoline</td>\n",
       "      <td>audi</td>\n",
       "      <td>yes</td>\n",
       "      <td>736047</td>\n",
       "      <td>66954</td>\n",
       "      <td>736061</td>\n",
       "    </tr>\n",
       "    <tr>\n",
       "      <th>2</th>\n",
       "      <td>736037</td>\n",
       "      <td>9800</td>\n",
       "      <td>suv</td>\n",
       "      <td>2004</td>\n",
       "      <td>auto</td>\n",
       "      <td>163</td>\n",
       "      <td>other</td>\n",
       "      <td>125000</td>\n",
       "      <td>8</td>\n",
       "      <td>gasoline</td>\n",
       "      <td>other</td>\n",
       "      <td>incognito</td>\n",
       "      <td>736037</td>\n",
       "      <td>90480</td>\n",
       "      <td>736059</td>\n",
       "    </tr>\n",
       "    <tr>\n",
       "      <th>3</th>\n",
       "      <td>736040</td>\n",
       "      <td>1500</td>\n",
       "      <td>small</td>\n",
       "      <td>2001</td>\n",
       "      <td>manual</td>\n",
       "      <td>75</td>\n",
       "      <td>golf</td>\n",
       "      <td>150000</td>\n",
       "      <td>6</td>\n",
       "      <td>petrol</td>\n",
       "      <td>volkswagen</td>\n",
       "      <td>no</td>\n",
       "      <td>736040</td>\n",
       "      <td>91074</td>\n",
       "      <td>736040</td>\n",
       "    </tr>\n",
       "    <tr>\n",
       "      <th>4</th>\n",
       "      <td>736054</td>\n",
       "      <td>3600</td>\n",
       "      <td>small</td>\n",
       "      <td>2008</td>\n",
       "      <td>manual</td>\n",
       "      <td>69</td>\n",
       "      <td>other</td>\n",
       "      <td>90000</td>\n",
       "      <td>7</td>\n",
       "      <td>gasoline</td>\n",
       "      <td>other</td>\n",
       "      <td>no</td>\n",
       "      <td>736054</td>\n",
       "      <td>60437</td>\n",
       "      <td>736060</td>\n",
       "    </tr>\n",
       "    <tr>\n",
       "      <th>5</th>\n",
       "      <td>736058</td>\n",
       "      <td>650</td>\n",
       "      <td>sedan</td>\n",
       "      <td>1995</td>\n",
       "      <td>manual</td>\n",
       "      <td>102</td>\n",
       "      <td>3er</td>\n",
       "      <td>150000</td>\n",
       "      <td>10</td>\n",
       "      <td>petrol</td>\n",
       "      <td>bmw</td>\n",
       "      <td>yes</td>\n",
       "      <td>736058</td>\n",
       "      <td>33775</td>\n",
       "      <td>736060</td>\n",
       "    </tr>\n",
       "    <tr>\n",
       "      <th>6</th>\n",
       "      <td>736055</td>\n",
       "      <td>2200</td>\n",
       "      <td>convertible</td>\n",
       "      <td>2004</td>\n",
       "      <td>manual</td>\n",
       "      <td>109</td>\n",
       "      <td>other</td>\n",
       "      <td>150000</td>\n",
       "      <td>8</td>\n",
       "      <td>petrol</td>\n",
       "      <td>other</td>\n",
       "      <td>no</td>\n",
       "      <td>736055</td>\n",
       "      <td>67112</td>\n",
       "      <td>736059</td>\n",
       "    </tr>\n",
       "    <tr>\n",
       "      <th>8</th>\n",
       "      <td>736058</td>\n",
       "      <td>14500</td>\n",
       "      <td>bus</td>\n",
       "      <td>2014</td>\n",
       "      <td>manual</td>\n",
       "      <td>125</td>\n",
       "      <td>other</td>\n",
       "      <td>30000</td>\n",
       "      <td>8</td>\n",
       "      <td>petrol</td>\n",
       "      <td>ford</td>\n",
       "      <td>incognito</td>\n",
       "      <td>736058</td>\n",
       "      <td>94505</td>\n",
       "      <td>736058</td>\n",
       "    </tr>\n",
       "    <tr>\n",
       "      <th>9</th>\n",
       "      <td>736040</td>\n",
       "      <td>999</td>\n",
       "      <td>small</td>\n",
       "      <td>1998</td>\n",
       "      <td>manual</td>\n",
       "      <td>101</td>\n",
       "      <td>golf</td>\n",
       "      <td>150000</td>\n",
       "      <td>0</td>\n",
       "      <td>unrevealed</td>\n",
       "      <td>volkswagen</td>\n",
       "      <td>incognito</td>\n",
       "      <td>736040</td>\n",
       "      <td>27472</td>\n",
       "      <td>736054</td>\n",
       "    </tr>\n",
       "    <tr>\n",
       "      <th>10</th>\n",
       "      <td>736049</td>\n",
       "      <td>2000</td>\n",
       "      <td>sedan</td>\n",
       "      <td>2004</td>\n",
       "      <td>manual</td>\n",
       "      <td>105</td>\n",
       "      <td>other</td>\n",
       "      <td>150000</td>\n",
       "      <td>12</td>\n",
       "      <td>petrol</td>\n",
       "      <td>other</td>\n",
       "      <td>no</td>\n",
       "      <td>736049</td>\n",
       "      <td>96224</td>\n",
       "      <td>736060</td>\n",
       "    </tr>\n",
       "  </tbody>\n",
       "</table>\n",
       "</div>"
      ],
      "text/plain": [
       "    DateCrawled  Price  VehicleType  RegistrationYear Gearbox  Power  Model  \\\n",
       "0        736047    480      unknown              1993  manual  -1111   golf   \n",
       "1        736047  18300        coupe              2011  manual    190  other   \n",
       "2        736037   9800          suv              2004    auto    163  other   \n",
       "3        736040   1500        small              2001  manual     75   golf   \n",
       "4        736054   3600        small              2008  manual     69  other   \n",
       "5        736058    650        sedan              1995  manual    102    3er   \n",
       "6        736055   2200  convertible              2004  manual    109  other   \n",
       "8        736058  14500          bus              2014  manual    125  other   \n",
       "9        736040    999        small              1998  manual    101   golf   \n",
       "10       736049   2000        sedan              2004  manual    105  other   \n",
       "\n",
       "    Kilometer  RegistrationMonth    FuelType       Brand NotRepaired  \\\n",
       "0      150000                  0      petrol  volkswagen   incognito   \n",
       "1      125000                  5    gasoline        audi         yes   \n",
       "2      125000                  8    gasoline       other   incognito   \n",
       "3      150000                  6      petrol  volkswagen          no   \n",
       "4       90000                  7    gasoline       other          no   \n",
       "5      150000                 10      petrol         bmw         yes   \n",
       "6      150000                  8      petrol       other          no   \n",
       "8       30000                  8      petrol        ford   incognito   \n",
       "9      150000                  0  unrevealed  volkswagen   incognito   \n",
       "10     150000                 12      petrol       other          no   \n",
       "\n",
       "    DateCreated  PostalCode  LastSeen  \n",
       "0        736047       70435    736061  \n",
       "1        736047       66954    736061  \n",
       "2        736037       90480    736059  \n",
       "3        736040       91074    736040  \n",
       "4        736054       60437    736060  \n",
       "5        736058       33775    736060  \n",
       "6        736055       67112    736059  \n",
       "8        736058       94505    736058  \n",
       "9        736040       27472    736054  \n",
       "10       736049       96224    736060  "
      ]
     },
     "execution_count": 34,
     "metadata": {},
     "output_type": "execute_result"
    }
   ],
   "source": [
    "df_linear.head(10) # checking the result"
   ]
  },
  {
   "cell_type": "code",
   "execution_count": 35,
   "id": "605b5b9a",
   "metadata": {},
   "outputs": [
    {
     "data": {
      "text/html": [
       "<div>\n",
       "<style scoped>\n",
       "    .dataframe tbody tr th:only-of-type {\n",
       "        vertical-align: middle;\n",
       "    }\n",
       "\n",
       "    .dataframe tbody tr th {\n",
       "        vertical-align: top;\n",
       "    }\n",
       "\n",
       "    .dataframe thead th {\n",
       "        text-align: right;\n",
       "    }\n",
       "</style>\n",
       "<table border=\"1\" class=\"dataframe\">\n",
       "  <thead>\n",
       "    <tr style=\"text-align: right;\">\n",
       "      <th></th>\n",
       "      <th>DateCrawled</th>\n",
       "      <th>Price</th>\n",
       "      <th>RegistrationYear</th>\n",
       "      <th>Power</th>\n",
       "      <th>Kilometer</th>\n",
       "      <th>RegistrationMonth</th>\n",
       "      <th>DateCreated</th>\n",
       "      <th>PostalCode</th>\n",
       "      <th>LastSeen</th>\n",
       "      <th>VehicleType_convertible</th>\n",
       "      <th>...</th>\n",
       "      <th>Brand_bmw</th>\n",
       "      <th>Brand_fiat</th>\n",
       "      <th>Brand_ford</th>\n",
       "      <th>Brand_mercedes_benz</th>\n",
       "      <th>Brand_opel</th>\n",
       "      <th>Brand_other</th>\n",
       "      <th>Brand_seat</th>\n",
       "      <th>Brand_volkswagen</th>\n",
       "      <th>NotRepaired_no</th>\n",
       "      <th>NotRepaired_yes</th>\n",
       "    </tr>\n",
       "  </thead>\n",
       "  <tbody>\n",
       "    <tr>\n",
       "      <th>0</th>\n",
       "      <td>736047</td>\n",
       "      <td>480</td>\n",
       "      <td>1993</td>\n",
       "      <td>-1111</td>\n",
       "      <td>150000</td>\n",
       "      <td>0</td>\n",
       "      <td>736047</td>\n",
       "      <td>70435</td>\n",
       "      <td>736061</td>\n",
       "      <td>0</td>\n",
       "      <td>...</td>\n",
       "      <td>0</td>\n",
       "      <td>0</td>\n",
       "      <td>0</td>\n",
       "      <td>0</td>\n",
       "      <td>0</td>\n",
       "      <td>0</td>\n",
       "      <td>0</td>\n",
       "      <td>1</td>\n",
       "      <td>0</td>\n",
       "      <td>0</td>\n",
       "    </tr>\n",
       "    <tr>\n",
       "      <th>1</th>\n",
       "      <td>736047</td>\n",
       "      <td>18300</td>\n",
       "      <td>2011</td>\n",
       "      <td>190</td>\n",
       "      <td>125000</td>\n",
       "      <td>5</td>\n",
       "      <td>736047</td>\n",
       "      <td>66954</td>\n",
       "      <td>736061</td>\n",
       "      <td>0</td>\n",
       "      <td>...</td>\n",
       "      <td>0</td>\n",
       "      <td>0</td>\n",
       "      <td>0</td>\n",
       "      <td>0</td>\n",
       "      <td>0</td>\n",
       "      <td>0</td>\n",
       "      <td>0</td>\n",
       "      <td>0</td>\n",
       "      <td>0</td>\n",
       "      <td>1</td>\n",
       "    </tr>\n",
       "    <tr>\n",
       "      <th>2</th>\n",
       "      <td>736037</td>\n",
       "      <td>9800</td>\n",
       "      <td>2004</td>\n",
       "      <td>163</td>\n",
       "      <td>125000</td>\n",
       "      <td>8</td>\n",
       "      <td>736037</td>\n",
       "      <td>90480</td>\n",
       "      <td>736059</td>\n",
       "      <td>0</td>\n",
       "      <td>...</td>\n",
       "      <td>0</td>\n",
       "      <td>0</td>\n",
       "      <td>0</td>\n",
       "      <td>0</td>\n",
       "      <td>0</td>\n",
       "      <td>1</td>\n",
       "      <td>0</td>\n",
       "      <td>0</td>\n",
       "      <td>0</td>\n",
       "      <td>0</td>\n",
       "    </tr>\n",
       "    <tr>\n",
       "      <th>3</th>\n",
       "      <td>736040</td>\n",
       "      <td>1500</td>\n",
       "      <td>2001</td>\n",
       "      <td>75</td>\n",
       "      <td>150000</td>\n",
       "      <td>6</td>\n",
       "      <td>736040</td>\n",
       "      <td>91074</td>\n",
       "      <td>736040</td>\n",
       "      <td>0</td>\n",
       "      <td>...</td>\n",
       "      <td>0</td>\n",
       "      <td>0</td>\n",
       "      <td>0</td>\n",
       "      <td>0</td>\n",
       "      <td>0</td>\n",
       "      <td>0</td>\n",
       "      <td>0</td>\n",
       "      <td>1</td>\n",
       "      <td>1</td>\n",
       "      <td>0</td>\n",
       "    </tr>\n",
       "    <tr>\n",
       "      <th>4</th>\n",
       "      <td>736054</td>\n",
       "      <td>3600</td>\n",
       "      <td>2008</td>\n",
       "      <td>69</td>\n",
       "      <td>90000</td>\n",
       "      <td>7</td>\n",
       "      <td>736054</td>\n",
       "      <td>60437</td>\n",
       "      <td>736060</td>\n",
       "      <td>0</td>\n",
       "      <td>...</td>\n",
       "      <td>0</td>\n",
       "      <td>0</td>\n",
       "      <td>0</td>\n",
       "      <td>0</td>\n",
       "      <td>0</td>\n",
       "      <td>1</td>\n",
       "      <td>0</td>\n",
       "      <td>0</td>\n",
       "      <td>1</td>\n",
       "      <td>0</td>\n",
       "    </tr>\n",
       "  </tbody>\n",
       "</table>\n",
       "<p>5 rows × 44 columns</p>\n",
       "</div>"
      ],
      "text/plain": [
       "   DateCrawled  Price  RegistrationYear  Power  Kilometer  RegistrationMonth  \\\n",
       "0       736047    480              1993  -1111     150000                  0   \n",
       "1       736047  18300              2011    190     125000                  5   \n",
       "2       736037   9800              2004    163     125000                  8   \n",
       "3       736040   1500              2001     75     150000                  6   \n",
       "4       736054   3600              2008     69      90000                  7   \n",
       "\n",
       "   DateCreated  PostalCode  LastSeen  VehicleType_convertible  ...  Brand_bmw  \\\n",
       "0       736047       70435    736061                        0  ...          0   \n",
       "1       736047       66954    736061                        0  ...          0   \n",
       "2       736037       90480    736059                        0  ...          0   \n",
       "3       736040       91074    736040                        0  ...          0   \n",
       "4       736054       60437    736060                        0  ...          0   \n",
       "\n",
       "   Brand_fiat  Brand_ford  Brand_mercedes_benz  Brand_opel  Brand_other  \\\n",
       "0           0           0                    0           0            0   \n",
       "1           0           0                    0           0            0   \n",
       "2           0           0                    0           0            1   \n",
       "3           0           0                    0           0            0   \n",
       "4           0           0                    0           0            1   \n",
       "\n",
       "   Brand_seat  Brand_volkswagen  NotRepaired_no  NotRepaired_yes  \n",
       "0           0                 1               0                0  \n",
       "1           0                 0               0                1  \n",
       "2           0                 0               0                0  \n",
       "3           0                 1               1                0  \n",
       "4           0                 0               1                0  \n",
       "\n",
       "[5 rows x 44 columns]"
      ]
     },
     "execution_count": 35,
     "metadata": {},
     "output_type": "execute_result"
    }
   ],
   "source": [
    "df_linear_ohe = pd.get_dummies(df_linear, drop_first=True) # encoding categorical features\n",
    "df_linear_ohe.head() # checking the result"
   ]
  },
  {
   "cell_type": "code",
   "execution_count": 36,
   "id": "5b8682dd",
   "metadata": {},
   "outputs": [],
   "source": [
    "features_linear = df_linear_ohe.drop(columns=['Price']) # feature sample\n",
    "target_linear = df_linear_ohe['Price']  # target sample\n",
    "features_train_linear, features_test_linear, target_train_linear, target_test_linear = train_test_split(\n",
    "    features_linear, target_linear, test_size=0.25, random_state=12345) # splitting the samples"
   ]
  },
  {
   "cell_type": "markdown",
   "id": "d685cb3b",
   "metadata": {},
   "source": [
    "We already know that models based on \"distance between features\" (Euclidean distance), including linear regression, which we will model, perform better if the features used in training are standardized. For this reason, we will standardize all the quantitative features contained in the dataframe:\n"
   ]
  },
  {
   "cell_type": "code",
   "execution_count": 37,
   "id": "0ba6cb9e",
   "metadata": {},
   "outputs": [],
   "source": [
    "numeric = ['RegistrationYear', 'Power', 'Kilometer'] # listing the quantitative features"
   ]
  },
  {
   "cell_type": "code",
   "execution_count": 38,
   "id": "fa9c98cb",
   "metadata": {},
   "outputs": [],
   "source": [
    "scaler = StandardScaler() # creating a StandardScaler object\n",
    "scaler.fit(features_train_linear[numeric]) # fitting StandardScaler\n",
    "features_train_linear[numeric] = scaler.transform(features_train_linear[numeric]) # scaling train sample\n",
    "features_test_linear[numeric] = scaler.transform(features_test_linear[numeric]) # scaling test sample\n"
   ]
  },
  {
   "cell_type": "markdown",
   "id": "edb8e380",
   "metadata": {},
   "source": [
    "Now it's time to prepare a dataset for random forest:"
   ]
  },
  {
   "cell_type": "code",
   "execution_count": 39,
   "id": "3b1b9dde",
   "metadata": {},
   "outputs": [],
   "source": [
    "features_forest = df_forest.drop(columns=['Price']) # feature sample\n",
    "target_forest = df_forest['Price']  # target sample\n",
    "features_train_forest, features_test_forest, target_train_forest, target_test_forest = train_test_split(\n",
    "    features_forest, target_forest, test_size=0.25, random_state=12345) # отделяем 25% данных для тестовой выборки"
   ]
  },
  {
   "cell_type": "code",
   "execution_count": 40,
   "id": "1d1a1fcf",
   "metadata": {},
   "outputs": [],
   "source": [
    "categoric = ['VehicleType', 'Gearbox', 'Model', 'FuelType', 'Brand', 'NotRepaired']\n",
    "enc = OrdinalEncoder()\n",
    "enc.fit(features_train_forest[categoric])\n",
    "features_train_forest[categoric] = enc.transform(features_train_forest[categoric]) # scaling train sample\n",
    "features_test_forest[categoric] = enc.transform(features_test_forest[categoric]) # scaling test sample\n"
   ]
  },
  {
   "cell_type": "markdown",
   "id": "aa7fbd75",
   "metadata": {},
   "source": [
    "Next, we will check whether the division into training and test sets occurred in the same way for all 3 datasets:\n"
   ]
  },
  {
   "cell_type": "code",
   "execution_count": 41,
   "id": "4ecc7ebc",
   "metadata": {},
   "outputs": [
    {
     "data": {
      "text/html": [
       "<div>\n",
       "<style scoped>\n",
       "    .dataframe tbody tr th:only-of-type {\n",
       "        vertical-align: middle;\n",
       "    }\n",
       "\n",
       "    .dataframe tbody tr th {\n",
       "        vertical-align: top;\n",
       "    }\n",
       "\n",
       "    .dataframe thead th {\n",
       "        text-align: right;\n",
       "    }\n",
       "</style>\n",
       "<table border=\"1\" class=\"dataframe\">\n",
       "  <thead>\n",
       "    <tr style=\"text-align: right;\">\n",
       "      <th></th>\n",
       "      <th>DateCrawled</th>\n",
       "      <th>VehicleType</th>\n",
       "      <th>RegistrationYear</th>\n",
       "      <th>Gearbox</th>\n",
       "      <th>Power</th>\n",
       "      <th>Model</th>\n",
       "      <th>Kilometer</th>\n",
       "      <th>RegistrationMonth</th>\n",
       "      <th>FuelType</th>\n",
       "      <th>Brand</th>\n",
       "      <th>NotRepaired</th>\n",
       "      <th>DateCreated</th>\n",
       "      <th>PostalCode</th>\n",
       "      <th>LastSeen</th>\n",
       "    </tr>\n",
       "  </thead>\n",
       "  <tbody>\n",
       "    <tr>\n",
       "      <th>9166</th>\n",
       "      <td>736044</td>\n",
       "      <td>coupe</td>\n",
       "      <td>2011</td>\n",
       "      <td>manual</td>\n",
       "      <td>184</td>\n",
       "      <td>e_klasse</td>\n",
       "      <td>100000</td>\n",
       "      <td>2</td>\n",
       "      <td>petrol</td>\n",
       "      <td>mercedes_benz</td>\n",
       "      <td>no</td>\n",
       "      <td>736044</td>\n",
       "      <td>45731</td>\n",
       "      <td>736061</td>\n",
       "    </tr>\n",
       "    <tr>\n",
       "      <th>288775</th>\n",
       "      <td>736042</td>\n",
       "      <td>wagon</td>\n",
       "      <td>2004</td>\n",
       "      <td>manual</td>\n",
       "      <td>47</td>\n",
       "      <td>fabia</td>\n",
       "      <td>150000</td>\n",
       "      <td>3</td>\n",
       "      <td>gasoline</td>\n",
       "      <td>skoda</td>\n",
       "      <td>no</td>\n",
       "      <td>736042</td>\n",
       "      <td>13086</td>\n",
       "      <td>736046</td>\n",
       "    </tr>\n",
       "    <tr>\n",
       "      <th>219263</th>\n",
       "      <td>736058</td>\n",
       "      <td>sedan</td>\n",
       "      <td>2000</td>\n",
       "      <td>manual</td>\n",
       "      <td>105</td>\n",
       "      <td>golf</td>\n",
       "      <td>150000</td>\n",
       "      <td>11</td>\n",
       "      <td>petrol</td>\n",
       "      <td>volkswagen</td>\n",
       "      <td>no</td>\n",
       "      <td>736058</td>\n",
       "      <td>47179</td>\n",
       "      <td>736060</td>\n",
       "    </tr>\n",
       "    <tr>\n",
       "      <th>157648</th>\n",
       "      <td>736059</td>\n",
       "      <td>bus</td>\n",
       "      <td>2002</td>\n",
       "      <td>manual</td>\n",
       "      <td>69</td>\n",
       "      <td>transporter</td>\n",
       "      <td>150000</td>\n",
       "      <td>9</td>\n",
       "      <td>gasoline</td>\n",
       "      <td>volkswagen</td>\n",
       "      <td>incognito</td>\n",
       "      <td>736059</td>\n",
       "      <td>2694</td>\n",
       "      <td>736061</td>\n",
       "    </tr>\n",
       "    <tr>\n",
       "      <th>29119</th>\n",
       "      <td>736039</td>\n",
       "      <td>wagon</td>\n",
       "      <td>2004</td>\n",
       "      <td>manual</td>\n",
       "      <td>103</td>\n",
       "      <td>stilo</td>\n",
       "      <td>150000</td>\n",
       "      <td>2</td>\n",
       "      <td>petrol</td>\n",
       "      <td>fiat</td>\n",
       "      <td>no</td>\n",
       "      <td>736039</td>\n",
       "      <td>29525</td>\n",
       "      <td>736040</td>\n",
       "    </tr>\n",
       "    <tr>\n",
       "      <th>22799</th>\n",
       "      <td>736058</td>\n",
       "      <td>sedan</td>\n",
       "      <td>1989</td>\n",
       "      <td>noinfo</td>\n",
       "      <td>90</td>\n",
       "      <td>80</td>\n",
       "      <td>150000</td>\n",
       "      <td>8</td>\n",
       "      <td>petrol</td>\n",
       "      <td>audi</td>\n",
       "      <td>incognito</td>\n",
       "      <td>736058</td>\n",
       "      <td>32052</td>\n",
       "      <td>736060</td>\n",
       "    </tr>\n",
       "    <tr>\n",
       "      <th>251838</th>\n",
       "      <td>736053</td>\n",
       "      <td>bus</td>\n",
       "      <td>1993</td>\n",
       "      <td>auto</td>\n",
       "      <td>121</td>\n",
       "      <td>transporter</td>\n",
       "      <td>150000</td>\n",
       "      <td>12</td>\n",
       "      <td>petrol</td>\n",
       "      <td>volkswagen</td>\n",
       "      <td>no</td>\n",
       "      <td>736053</td>\n",
       "      <td>28239</td>\n",
       "      <td>736061</td>\n",
       "    </tr>\n",
       "    <tr>\n",
       "      <th>67125</th>\n",
       "      <td>736057</td>\n",
       "      <td>wagon</td>\n",
       "      <td>2012</td>\n",
       "      <td>manual</td>\n",
       "      <td>140</td>\n",
       "      <td>passat</td>\n",
       "      <td>150000</td>\n",
       "      <td>8</td>\n",
       "      <td>gasoline</td>\n",
       "      <td>volkswagen</td>\n",
       "      <td>no</td>\n",
       "      <td>736057</td>\n",
       "      <td>80939</td>\n",
       "      <td>736059</td>\n",
       "    </tr>\n",
       "    <tr>\n",
       "      <th>303840</th>\n",
       "      <td>736043</td>\n",
       "      <td>sedan</td>\n",
       "      <td>2004</td>\n",
       "      <td>manual</td>\n",
       "      <td>75</td>\n",
       "      <td>golf</td>\n",
       "      <td>150000</td>\n",
       "      <td>5</td>\n",
       "      <td>petrol</td>\n",
       "      <td>volkswagen</td>\n",
       "      <td>no</td>\n",
       "      <td>736043</td>\n",
       "      <td>93051</td>\n",
       "      <td>736060</td>\n",
       "    </tr>\n",
       "    <tr>\n",
       "      <th>186188</th>\n",
       "      <td>736054</td>\n",
       "      <td>wagon</td>\n",
       "      <td>2005</td>\n",
       "      <td>manual</td>\n",
       "      <td>184</td>\n",
       "      <td>a4</td>\n",
       "      <td>150000</td>\n",
       "      <td>1</td>\n",
       "      <td>gasoline</td>\n",
       "      <td>audi</td>\n",
       "      <td>no</td>\n",
       "      <td>736054</td>\n",
       "      <td>23730</td>\n",
       "      <td>736060</td>\n",
       "    </tr>\n",
       "  </tbody>\n",
       "</table>\n",
       "</div>"
      ],
      "text/plain": [
       "        DateCrawled VehicleType  RegistrationYear Gearbox  Power        Model  \\\n",
       "9166         736044       coupe              2011  manual    184     e_klasse   \n",
       "288775       736042       wagon              2004  manual     47        fabia   \n",
       "219263       736058       sedan              2000  manual    105         golf   \n",
       "157648       736059         bus              2002  manual     69  transporter   \n",
       "29119        736039       wagon              2004  manual    103        stilo   \n",
       "22799        736058       sedan              1989  noinfo     90           80   \n",
       "251838       736053         bus              1993    auto    121  transporter   \n",
       "67125        736057       wagon              2012  manual    140       passat   \n",
       "303840       736043       sedan              2004  manual     75         golf   \n",
       "186188       736054       wagon              2005  manual    184           a4   \n",
       "\n",
       "        Kilometer  RegistrationMonth  FuelType          Brand NotRepaired  \\\n",
       "9166       100000                  2    petrol  mercedes_benz          no   \n",
       "288775     150000                  3  gasoline          skoda          no   \n",
       "219263     150000                 11    petrol     volkswagen          no   \n",
       "157648     150000                  9  gasoline     volkswagen   incognito   \n",
       "29119      150000                  2    petrol           fiat          no   \n",
       "22799      150000                  8    petrol           audi   incognito   \n",
       "251838     150000                 12    petrol     volkswagen          no   \n",
       "67125      150000                  8  gasoline     volkswagen          no   \n",
       "303840     150000                  5    petrol     volkswagen          no   \n",
       "186188     150000                  1  gasoline           audi          no   \n",
       "\n",
       "        DateCreated  PostalCode  LastSeen  \n",
       "9166         736044       45731    736061  \n",
       "288775       736042       13086    736046  \n",
       "219263       736058       47179    736060  \n",
       "157648       736059        2694    736061  \n",
       "29119        736039       29525    736040  \n",
       "22799        736058       32052    736060  \n",
       "251838       736053       28239    736061  \n",
       "67125        736057       80939    736059  \n",
       "303840       736043       93051    736060  \n",
       "186188       736054       23730    736060  "
      ]
     },
     "execution_count": 41,
     "metadata": {},
     "output_type": "execute_result"
    }
   ],
   "source": [
    "features_test.head(10) # checking the result"
   ]
  },
  {
   "cell_type": "code",
   "execution_count": 42,
   "id": "4782c976",
   "metadata": {},
   "outputs": [
    {
     "data": {
      "text/html": [
       "<div>\n",
       "<style scoped>\n",
       "    .dataframe tbody tr th:only-of-type {\n",
       "        vertical-align: middle;\n",
       "    }\n",
       "\n",
       "    .dataframe tbody tr th {\n",
       "        vertical-align: top;\n",
       "    }\n",
       "\n",
       "    .dataframe thead th {\n",
       "        text-align: right;\n",
       "    }\n",
       "</style>\n",
       "<table border=\"1\" class=\"dataframe\">\n",
       "  <thead>\n",
       "    <tr style=\"text-align: right;\">\n",
       "      <th></th>\n",
       "      <th>DateCrawled</th>\n",
       "      <th>RegistrationYear</th>\n",
       "      <th>Power</th>\n",
       "      <th>Kilometer</th>\n",
       "      <th>RegistrationMonth</th>\n",
       "      <th>DateCreated</th>\n",
       "      <th>PostalCode</th>\n",
       "      <th>LastSeen</th>\n",
       "      <th>VehicleType_convertible</th>\n",
       "      <th>VehicleType_coupe</th>\n",
       "      <th>...</th>\n",
       "      <th>Brand_bmw</th>\n",
       "      <th>Brand_fiat</th>\n",
       "      <th>Brand_ford</th>\n",
       "      <th>Brand_mercedes_benz</th>\n",
       "      <th>Brand_opel</th>\n",
       "      <th>Brand_other</th>\n",
       "      <th>Brand_seat</th>\n",
       "      <th>Brand_volkswagen</th>\n",
       "      <th>NotRepaired_no</th>\n",
       "      <th>NotRepaired_yes</th>\n",
       "    </tr>\n",
       "  </thead>\n",
       "  <tbody>\n",
       "    <tr>\n",
       "      <th>9166</th>\n",
       "      <td>736044</td>\n",
       "      <td>0.146082</td>\n",
       "      <td>0.503338</td>\n",
       "      <td>-0.755660</td>\n",
       "      <td>2</td>\n",
       "      <td>736044</td>\n",
       "      <td>45731</td>\n",
       "      <td>736061</td>\n",
       "      <td>0</td>\n",
       "      <td>1</td>\n",
       "      <td>...</td>\n",
       "      <td>0</td>\n",
       "      <td>0</td>\n",
       "      <td>0</td>\n",
       "      <td>1</td>\n",
       "      <td>0</td>\n",
       "      <td>0</td>\n",
       "      <td>0</td>\n",
       "      <td>0</td>\n",
       "      <td>1</td>\n",
       "      <td>0</td>\n",
       "    </tr>\n",
       "    <tr>\n",
       "      <th>288775</th>\n",
       "      <td>736042</td>\n",
       "      <td>0.033489</td>\n",
       "      <td>0.146533</td>\n",
       "      <td>0.577495</td>\n",
       "      <td>3</td>\n",
       "      <td>736042</td>\n",
       "      <td>13086</td>\n",
       "      <td>736046</td>\n",
       "      <td>0</td>\n",
       "      <td>0</td>\n",
       "      <td>...</td>\n",
       "      <td>0</td>\n",
       "      <td>0</td>\n",
       "      <td>0</td>\n",
       "      <td>0</td>\n",
       "      <td>0</td>\n",
       "      <td>1</td>\n",
       "      <td>0</td>\n",
       "      <td>0</td>\n",
       "      <td>1</td>\n",
       "      <td>0</td>\n",
       "    </tr>\n",
       "    <tr>\n",
       "      <th>219263</th>\n",
       "      <td>736058</td>\n",
       "      <td>-0.030850</td>\n",
       "      <td>0.297589</td>\n",
       "      <td>0.577495</td>\n",
       "      <td>11</td>\n",
       "      <td>736058</td>\n",
       "      <td>47179</td>\n",
       "      <td>736060</td>\n",
       "      <td>0</td>\n",
       "      <td>0</td>\n",
       "      <td>...</td>\n",
       "      <td>0</td>\n",
       "      <td>0</td>\n",
       "      <td>0</td>\n",
       "      <td>0</td>\n",
       "      <td>0</td>\n",
       "      <td>0</td>\n",
       "      <td>0</td>\n",
       "      <td>1</td>\n",
       "      <td>1</td>\n",
       "      <td>0</td>\n",
       "    </tr>\n",
       "    <tr>\n",
       "      <th>157648</th>\n",
       "      <td>736059</td>\n",
       "      <td>0.001319</td>\n",
       "      <td>0.203830</td>\n",
       "      <td>0.577495</td>\n",
       "      <td>9</td>\n",
       "      <td>736059</td>\n",
       "      <td>2694</td>\n",
       "      <td>736061</td>\n",
       "      <td>0</td>\n",
       "      <td>0</td>\n",
       "      <td>...</td>\n",
       "      <td>0</td>\n",
       "      <td>0</td>\n",
       "      <td>0</td>\n",
       "      <td>0</td>\n",
       "      <td>0</td>\n",
       "      <td>0</td>\n",
       "      <td>0</td>\n",
       "      <td>1</td>\n",
       "      <td>0</td>\n",
       "      <td>0</td>\n",
       "    </tr>\n",
       "    <tr>\n",
       "      <th>29119</th>\n",
       "      <td>736039</td>\n",
       "      <td>0.033489</td>\n",
       "      <td>0.292380</td>\n",
       "      <td>0.577495</td>\n",
       "      <td>2</td>\n",
       "      <td>736039</td>\n",
       "      <td>29525</td>\n",
       "      <td>736040</td>\n",
       "      <td>0</td>\n",
       "      <td>0</td>\n",
       "      <td>...</td>\n",
       "      <td>0</td>\n",
       "      <td>1</td>\n",
       "      <td>0</td>\n",
       "      <td>0</td>\n",
       "      <td>0</td>\n",
       "      <td>0</td>\n",
       "      <td>0</td>\n",
       "      <td>0</td>\n",
       "      <td>1</td>\n",
       "      <td>0</td>\n",
       "    </tr>\n",
       "    <tr>\n",
       "      <th>22799</th>\n",
       "      <td>736058</td>\n",
       "      <td>-0.207783</td>\n",
       "      <td>0.258523</td>\n",
       "      <td>0.577495</td>\n",
       "      <td>8</td>\n",
       "      <td>736058</td>\n",
       "      <td>32052</td>\n",
       "      <td>736060</td>\n",
       "      <td>0</td>\n",
       "      <td>0</td>\n",
       "      <td>...</td>\n",
       "      <td>0</td>\n",
       "      <td>0</td>\n",
       "      <td>0</td>\n",
       "      <td>0</td>\n",
       "      <td>0</td>\n",
       "      <td>0</td>\n",
       "      <td>0</td>\n",
       "      <td>0</td>\n",
       "      <td>0</td>\n",
       "      <td>0</td>\n",
       "    </tr>\n",
       "    <tr>\n",
       "      <th>251838</th>\n",
       "      <td>736053</td>\n",
       "      <td>-0.143444</td>\n",
       "      <td>0.339260</td>\n",
       "      <td>0.577495</td>\n",
       "      <td>12</td>\n",
       "      <td>736053</td>\n",
       "      <td>28239</td>\n",
       "      <td>736061</td>\n",
       "      <td>0</td>\n",
       "      <td>0</td>\n",
       "      <td>...</td>\n",
       "      <td>0</td>\n",
       "      <td>0</td>\n",
       "      <td>0</td>\n",
       "      <td>0</td>\n",
       "      <td>0</td>\n",
       "      <td>0</td>\n",
       "      <td>0</td>\n",
       "      <td>1</td>\n",
       "      <td>1</td>\n",
       "      <td>0</td>\n",
       "    </tr>\n",
       "    <tr>\n",
       "      <th>67125</th>\n",
       "      <td>736057</td>\n",
       "      <td>0.162167</td>\n",
       "      <td>0.388744</td>\n",
       "      <td>0.577495</td>\n",
       "      <td>8</td>\n",
       "      <td>736057</td>\n",
       "      <td>80939</td>\n",
       "      <td>736059</td>\n",
       "      <td>0</td>\n",
       "      <td>0</td>\n",
       "      <td>...</td>\n",
       "      <td>0</td>\n",
       "      <td>0</td>\n",
       "      <td>0</td>\n",
       "      <td>0</td>\n",
       "      <td>0</td>\n",
       "      <td>0</td>\n",
       "      <td>0</td>\n",
       "      <td>1</td>\n",
       "      <td>1</td>\n",
       "      <td>0</td>\n",
       "    </tr>\n",
       "    <tr>\n",
       "      <th>303840</th>\n",
       "      <td>736043</td>\n",
       "      <td>0.033489</td>\n",
       "      <td>0.219457</td>\n",
       "      <td>0.577495</td>\n",
       "      <td>5</td>\n",
       "      <td>736043</td>\n",
       "      <td>93051</td>\n",
       "      <td>736060</td>\n",
       "      <td>0</td>\n",
       "      <td>0</td>\n",
       "      <td>...</td>\n",
       "      <td>0</td>\n",
       "      <td>0</td>\n",
       "      <td>0</td>\n",
       "      <td>0</td>\n",
       "      <td>0</td>\n",
       "      <td>0</td>\n",
       "      <td>0</td>\n",
       "      <td>1</td>\n",
       "      <td>1</td>\n",
       "      <td>0</td>\n",
       "    </tr>\n",
       "    <tr>\n",
       "      <th>186188</th>\n",
       "      <td>736054</td>\n",
       "      <td>0.049574</td>\n",
       "      <td>0.503338</td>\n",
       "      <td>0.577495</td>\n",
       "      <td>1</td>\n",
       "      <td>736054</td>\n",
       "      <td>23730</td>\n",
       "      <td>736060</td>\n",
       "      <td>0</td>\n",
       "      <td>0</td>\n",
       "      <td>...</td>\n",
       "      <td>0</td>\n",
       "      <td>0</td>\n",
       "      <td>0</td>\n",
       "      <td>0</td>\n",
       "      <td>0</td>\n",
       "      <td>0</td>\n",
       "      <td>0</td>\n",
       "      <td>0</td>\n",
       "      <td>1</td>\n",
       "      <td>0</td>\n",
       "    </tr>\n",
       "  </tbody>\n",
       "</table>\n",
       "<p>10 rows × 43 columns</p>\n",
       "</div>"
      ],
      "text/plain": [
       "        DateCrawled  RegistrationYear     Power  Kilometer  RegistrationMonth  \\\n",
       "9166         736044          0.146082  0.503338  -0.755660                  2   \n",
       "288775       736042          0.033489  0.146533   0.577495                  3   \n",
       "219263       736058         -0.030850  0.297589   0.577495                 11   \n",
       "157648       736059          0.001319  0.203830   0.577495                  9   \n",
       "29119        736039          0.033489  0.292380   0.577495                  2   \n",
       "22799        736058         -0.207783  0.258523   0.577495                  8   \n",
       "251838       736053         -0.143444  0.339260   0.577495                 12   \n",
       "67125        736057          0.162167  0.388744   0.577495                  8   \n",
       "303840       736043          0.033489  0.219457   0.577495                  5   \n",
       "186188       736054          0.049574  0.503338   0.577495                  1   \n",
       "\n",
       "        DateCreated  PostalCode  LastSeen  VehicleType_convertible  \\\n",
       "9166         736044       45731    736061                        0   \n",
       "288775       736042       13086    736046                        0   \n",
       "219263       736058       47179    736060                        0   \n",
       "157648       736059        2694    736061                        0   \n",
       "29119        736039       29525    736040                        0   \n",
       "22799        736058       32052    736060                        0   \n",
       "251838       736053       28239    736061                        0   \n",
       "67125        736057       80939    736059                        0   \n",
       "303840       736043       93051    736060                        0   \n",
       "186188       736054       23730    736060                        0   \n",
       "\n",
       "        VehicleType_coupe  ...  Brand_bmw  Brand_fiat  Brand_ford  \\\n",
       "9166                    1  ...          0           0           0   \n",
       "288775                  0  ...          0           0           0   \n",
       "219263                  0  ...          0           0           0   \n",
       "157648                  0  ...          0           0           0   \n",
       "29119                   0  ...          0           1           0   \n",
       "22799                   0  ...          0           0           0   \n",
       "251838                  0  ...          0           0           0   \n",
       "67125                   0  ...          0           0           0   \n",
       "303840                  0  ...          0           0           0   \n",
       "186188                  0  ...          0           0           0   \n",
       "\n",
       "        Brand_mercedes_benz  Brand_opel  Brand_other  Brand_seat  \\\n",
       "9166                      1           0            0           0   \n",
       "288775                    0           0            1           0   \n",
       "219263                    0           0            0           0   \n",
       "157648                    0           0            0           0   \n",
       "29119                     0           0            0           0   \n",
       "22799                     0           0            0           0   \n",
       "251838                    0           0            0           0   \n",
       "67125                     0           0            0           0   \n",
       "303840                    0           0            0           0   \n",
       "186188                    0           0            0           0   \n",
       "\n",
       "        Brand_volkswagen  NotRepaired_no  NotRepaired_yes  \n",
       "9166                   0               1                0  \n",
       "288775                 0               1                0  \n",
       "219263                 1               1                0  \n",
       "157648                 1               0                0  \n",
       "29119                  0               1                0  \n",
       "22799                  0               0                0  \n",
       "251838                 1               1                0  \n",
       "67125                  1               1                0  \n",
       "303840                 1               1                0  \n",
       "186188                 0               1                0  \n",
       "\n",
       "[10 rows x 43 columns]"
      ]
     },
     "execution_count": 42,
     "metadata": {},
     "output_type": "execute_result"
    }
   ],
   "source": [
    "features_test_linear.head(10) # checking the result"
   ]
  },
  {
   "cell_type": "code",
   "execution_count": 43,
   "id": "a95f23eb",
   "metadata": {},
   "outputs": [
    {
     "data": {
      "text/html": [
       "<div>\n",
       "<style scoped>\n",
       "    .dataframe tbody tr th:only-of-type {\n",
       "        vertical-align: middle;\n",
       "    }\n",
       "\n",
       "    .dataframe tbody tr th {\n",
       "        vertical-align: top;\n",
       "    }\n",
       "\n",
       "    .dataframe thead th {\n",
       "        text-align: right;\n",
       "    }\n",
       "</style>\n",
       "<table border=\"1\" class=\"dataframe\">\n",
       "  <thead>\n",
       "    <tr style=\"text-align: right;\">\n",
       "      <th></th>\n",
       "      <th>DateCrawled</th>\n",
       "      <th>VehicleType</th>\n",
       "      <th>RegistrationYear</th>\n",
       "      <th>Gearbox</th>\n",
       "      <th>Power</th>\n",
       "      <th>Model</th>\n",
       "      <th>Kilometer</th>\n",
       "      <th>RegistrationMonth</th>\n",
       "      <th>FuelType</th>\n",
       "      <th>Brand</th>\n",
       "      <th>NotRepaired</th>\n",
       "      <th>DateCreated</th>\n",
       "      <th>PostalCode</th>\n",
       "      <th>LastSeen</th>\n",
       "    </tr>\n",
       "  </thead>\n",
       "  <tbody>\n",
       "    <tr>\n",
       "      <th>9166</th>\n",
       "      <td>736044</td>\n",
       "      <td>2.0</td>\n",
       "      <td>2011</td>\n",
       "      <td>1.0</td>\n",
       "      <td>184</td>\n",
       "      <td>6.0</td>\n",
       "      <td>100000</td>\n",
       "      <td>2</td>\n",
       "      <td>6.0</td>\n",
       "      <td>4.0</td>\n",
       "      <td>1.0</td>\n",
       "      <td>736044</td>\n",
       "      <td>45731</td>\n",
       "      <td>736061</td>\n",
       "    </tr>\n",
       "    <tr>\n",
       "      <th>288775</th>\n",
       "      <td>736042</td>\n",
       "      <td>8.0</td>\n",
       "      <td>2004</td>\n",
       "      <td>1.0</td>\n",
       "      <td>47</td>\n",
       "      <td>6.0</td>\n",
       "      <td>150000</td>\n",
       "      <td>3</td>\n",
       "      <td>2.0</td>\n",
       "      <td>6.0</td>\n",
       "      <td>1.0</td>\n",
       "      <td>736042</td>\n",
       "      <td>13086</td>\n",
       "      <td>736046</td>\n",
       "    </tr>\n",
       "    <tr>\n",
       "      <th>219263</th>\n",
       "      <td>736058</td>\n",
       "      <td>4.0</td>\n",
       "      <td>2000</td>\n",
       "      <td>1.0</td>\n",
       "      <td>105</td>\n",
       "      <td>5.0</td>\n",
       "      <td>150000</td>\n",
       "      <td>11</td>\n",
       "      <td>6.0</td>\n",
       "      <td>8.0</td>\n",
       "      <td>1.0</td>\n",
       "      <td>736058</td>\n",
       "      <td>47179</td>\n",
       "      <td>736060</td>\n",
       "    </tr>\n",
       "    <tr>\n",
       "      <th>157648</th>\n",
       "      <td>736059</td>\n",
       "      <td>0.0</td>\n",
       "      <td>2002</td>\n",
       "      <td>1.0</td>\n",
       "      <td>69</td>\n",
       "      <td>6.0</td>\n",
       "      <td>150000</td>\n",
       "      <td>9</td>\n",
       "      <td>2.0</td>\n",
       "      <td>8.0</td>\n",
       "      <td>0.0</td>\n",
       "      <td>736059</td>\n",
       "      <td>2694</td>\n",
       "      <td>736061</td>\n",
       "    </tr>\n",
       "    <tr>\n",
       "      <th>29119</th>\n",
       "      <td>736039</td>\n",
       "      <td>8.0</td>\n",
       "      <td>2004</td>\n",
       "      <td>1.0</td>\n",
       "      <td>103</td>\n",
       "      <td>6.0</td>\n",
       "      <td>150000</td>\n",
       "      <td>2</td>\n",
       "      <td>6.0</td>\n",
       "      <td>2.0</td>\n",
       "      <td>1.0</td>\n",
       "      <td>736039</td>\n",
       "      <td>29525</td>\n",
       "      <td>736040</td>\n",
       "    </tr>\n",
       "    <tr>\n",
       "      <th>22799</th>\n",
       "      <td>736058</td>\n",
       "      <td>4.0</td>\n",
       "      <td>1989</td>\n",
       "      <td>2.0</td>\n",
       "      <td>90</td>\n",
       "      <td>6.0</td>\n",
       "      <td>150000</td>\n",
       "      <td>8</td>\n",
       "      <td>6.0</td>\n",
       "      <td>0.0</td>\n",
       "      <td>0.0</td>\n",
       "      <td>736058</td>\n",
       "      <td>32052</td>\n",
       "      <td>736060</td>\n",
       "    </tr>\n",
       "    <tr>\n",
       "      <th>251838</th>\n",
       "      <td>736053</td>\n",
       "      <td>0.0</td>\n",
       "      <td>1993</td>\n",
       "      <td>0.0</td>\n",
       "      <td>121</td>\n",
       "      <td>6.0</td>\n",
       "      <td>150000</td>\n",
       "      <td>12</td>\n",
       "      <td>6.0</td>\n",
       "      <td>8.0</td>\n",
       "      <td>1.0</td>\n",
       "      <td>736053</td>\n",
       "      <td>28239</td>\n",
       "      <td>736061</td>\n",
       "    </tr>\n",
       "    <tr>\n",
       "      <th>67125</th>\n",
       "      <td>736057</td>\n",
       "      <td>8.0</td>\n",
       "      <td>2012</td>\n",
       "      <td>1.0</td>\n",
       "      <td>140</td>\n",
       "      <td>7.0</td>\n",
       "      <td>150000</td>\n",
       "      <td>8</td>\n",
       "      <td>2.0</td>\n",
       "      <td>8.0</td>\n",
       "      <td>1.0</td>\n",
       "      <td>736057</td>\n",
       "      <td>80939</td>\n",
       "      <td>736059</td>\n",
       "    </tr>\n",
       "    <tr>\n",
       "      <th>303840</th>\n",
       "      <td>736043</td>\n",
       "      <td>4.0</td>\n",
       "      <td>2004</td>\n",
       "      <td>1.0</td>\n",
       "      <td>75</td>\n",
       "      <td>5.0</td>\n",
       "      <td>150000</td>\n",
       "      <td>5</td>\n",
       "      <td>6.0</td>\n",
       "      <td>8.0</td>\n",
       "      <td>1.0</td>\n",
       "      <td>736043</td>\n",
       "      <td>93051</td>\n",
       "      <td>736060</td>\n",
       "    </tr>\n",
       "    <tr>\n",
       "      <th>186188</th>\n",
       "      <td>736054</td>\n",
       "      <td>8.0</td>\n",
       "      <td>2005</td>\n",
       "      <td>1.0</td>\n",
       "      <td>184</td>\n",
       "      <td>1.0</td>\n",
       "      <td>150000</td>\n",
       "      <td>1</td>\n",
       "      <td>2.0</td>\n",
       "      <td>0.0</td>\n",
       "      <td>1.0</td>\n",
       "      <td>736054</td>\n",
       "      <td>23730</td>\n",
       "      <td>736060</td>\n",
       "    </tr>\n",
       "  </tbody>\n",
       "</table>\n",
       "</div>"
      ],
      "text/plain": [
       "        DateCrawled  VehicleType  RegistrationYear  Gearbox  Power  Model  \\\n",
       "9166         736044          2.0              2011      1.0    184    6.0   \n",
       "288775       736042          8.0              2004      1.0     47    6.0   \n",
       "219263       736058          4.0              2000      1.0    105    5.0   \n",
       "157648       736059          0.0              2002      1.0     69    6.0   \n",
       "29119        736039          8.0              2004      1.0    103    6.0   \n",
       "22799        736058          4.0              1989      2.0     90    6.0   \n",
       "251838       736053          0.0              1993      0.0    121    6.0   \n",
       "67125        736057          8.0              2012      1.0    140    7.0   \n",
       "303840       736043          4.0              2004      1.0     75    5.0   \n",
       "186188       736054          8.0              2005      1.0    184    1.0   \n",
       "\n",
       "        Kilometer  RegistrationMonth  FuelType  Brand  NotRepaired  \\\n",
       "9166       100000                  2       6.0    4.0          1.0   \n",
       "288775     150000                  3       2.0    6.0          1.0   \n",
       "219263     150000                 11       6.0    8.0          1.0   \n",
       "157648     150000                  9       2.0    8.0          0.0   \n",
       "29119      150000                  2       6.0    2.0          1.0   \n",
       "22799      150000                  8       6.0    0.0          0.0   \n",
       "251838     150000                 12       6.0    8.0          1.0   \n",
       "67125      150000                  8       2.0    8.0          1.0   \n",
       "303840     150000                  5       6.0    8.0          1.0   \n",
       "186188     150000                  1       2.0    0.0          1.0   \n",
       "\n",
       "        DateCreated  PostalCode  LastSeen  \n",
       "9166         736044       45731    736061  \n",
       "288775       736042       13086    736046  \n",
       "219263       736058       47179    736060  \n",
       "157648       736059        2694    736061  \n",
       "29119        736039       29525    736040  \n",
       "22799        736058       32052    736060  \n",
       "251838       736053       28239    736061  \n",
       "67125        736057       80939    736059  \n",
       "303840       736043       93051    736060  \n",
       "186188       736054       23730    736060  "
      ]
     },
     "execution_count": 43,
     "metadata": {},
     "output_type": "execute_result"
    }
   ],
   "source": [
    "features_test_forest.head(10) # checking the result"
   ]
  },
  {
   "cell_type": "markdown",
   "id": "0f46725c",
   "metadata": {},
   "source": [
    "The indexes match, therefore, the division was made correctly."
   ]
  },
  {
   "cell_type": "markdown",
   "id": "f41a7f93",
   "metadata": {},
   "source": [
    "**Conclusions:**\n",
    "\n",
    "So, we have carried out a special pre-processing of the data, which should help us achieve better predictions of traditional models. Let's move on to building them.\n"
   ]
  },
  {
   "cell_type": "markdown",
   "id": "976f6a8a",
   "metadata": {},
   "source": [
    "## Models\n",
    "\n",
    "### Traditional Models\n",
    "\n",
    "So, our goal is to predict the cost of a car. There can be many answers to this question, these will be specific numbers, so our target feature is quantitative, and we are solving a regression problem.\n",
    "To solve this problem, we will test 2 traditional models: random forest and linear regression. We will check the quality of training by cross-validation, estimating the square root of  mean squared error (RMSE). According to the assignment, this metric should not exceed the value of 2500. In addition, we will fix the fitting rate and prediction rate, since these are important parameters for the Customer.\n",
    "The results will be presented in a pivot table.\n"
   ]
  },
  {
   "cell_type": "code",
   "execution_count": 44,
   "id": "6ca6a711",
   "metadata": {},
   "outputs": [],
   "source": [
    "models = ['linear regression', 'random forest', 'catboost', 'lgbm'] # list of models\n",
    "rmse = [] # list of rmses\n",
    "fitting_time = [] # list of fitting times\n",
    "predicting_time =[] # list of predicting times"
   ]
  },
  {
   "cell_type": "markdown",
   "id": "6e7061b6",
   "metadata": {},
   "source": [
    "Let's start with linear regression but first we will define a function to calculate RMSE:"
   ]
  },
  {
   "cell_type": "code",
   "execution_count": 45,
   "id": "44d82f53",
   "metadata": {},
   "outputs": [],
   "source": [
    "# defining a function to calculate RMSE\n",
    "def RMSE(target,predictions):\n",
    "    MSE = mean_squared_error(target, predictions)\n",
    "    return MSE ** 0.5\n",
    "RMSE_score = make_scorer(RMSE, greater_is_better=False)"
   ]
  },
  {
   "cell_type": "code",
   "execution_count": 46,
   "id": "17360498",
   "metadata": {},
   "outputs": [
    {
     "name": "stdout",
     "output_type": "stream",
     "text": [
      "RSME лучшей линейной регрессии предсказания стоимости автомобиля -3297.4464040200132 с параметрами {'normalize': False, 'fit_intercept': True}\n"
     ]
    }
   ],
   "source": [
    "model = LinearRegression()  #  creating a model\n",
    "param_distributions = {'fit_intercept': [True, False], 'normalize': [True, False]}  #  setting parameters\n",
    "grid_linear_r = RandomizedSearchCV(model, param_distributions, scoring = RMSE_score, n_jobs=-1) # creating a  RandomSearchCV \n",
    "grid_linear_r.fit(features_train_linear, target_train_linear) #  fitting the model\n",
    "print('RSME лучшей линейной регрессии предсказания стоимости автомобиля', (grid_linear_r.best_score_), 'с параметрами', grid_linear_r.best_params_) # displaying the best result\n",
    "\n"
   ]
  },
  {
   "cell_type": "markdown",
   "id": "67a510a5",
   "metadata": {},
   "source": [
    "Thus, we found the best linear regression hyperparameters on the training set. Now let's check the quality of predictions on the test set, and also se how long fitting and prediction take:\n"
   ]
  },
  {
   "cell_type": "code",
   "execution_count": 47,
   "id": "b2081d1f",
   "metadata": {},
   "outputs": [
    {
     "data": {
      "text/plain": [
       "0.9025189876556396"
      ]
     },
     "execution_count": 47,
     "metadata": {},
     "output_type": "execute_result"
    }
   ],
   "source": [
    "start_time = time.time()\n",
    "model =  LinearRegression(normalize=False, fit_intercept=True)  #  creating a model\n",
    "model.fit(features_train_linear, target_train_linear) # fitting the model\n",
    "end_time = time.time() - start_time  # calculating the needed time\n",
    "fitting_time.append(end_time) #  appeding the result\n",
    "end_time"
   ]
  },
  {
   "cell_type": "code",
   "execution_count": 48,
   "id": "fffdd112",
   "metadata": {},
   "outputs": [
    {
     "data": {
      "text/plain": [
       "0.03713583946228027"
      ]
     },
     "execution_count": 48,
     "metadata": {},
     "output_type": "execute_result"
    }
   ],
   "source": [
    "start_time = time.time()\n",
    "predictions = model.predict(features_test_linear) # predicting the target\n",
    "end_time = time.time() - start_time  # calculating the needed time\n",
    "predicting_time.append(end_time) # appeding the result\n",
    "end_time"
   ]
  },
  {
   "cell_type": "code",
   "execution_count": 49,
   "id": "57ebb14d",
   "metadata": {},
   "outputs": [
    {
     "data": {
      "text/plain": [
       "3291.585855350836"
      ]
     },
     "execution_count": 49,
     "metadata": {},
     "output_type": "execute_result"
    }
   ],
   "source": [
    "rmse_linear_regression = RMSE(target_test, predictions) # calculating RMSE\n",
    "rmse.append(rmse_linear_regression) # appeding the resul\n",
    "rmse_linear_regression"
   ]
  },
  {
   "cell_type": "markdown",
   "id": "7b7beae9",
   "metadata": {},
   "source": [
    "Both fitting  and the prediction of linear regression, taking into account the volume of the dataset, are quite fast. However, the square root of the mean squared error is too large - it exceeds the set threshold of 2500. Therefore, this model is not suitable for us.\n",
    "\n",
    "Next, we construct a traditionally fairly accurate but slow random forest model:\n"
   ]
  },
  {
   "cell_type": "code",
   "execution_count": 50,
   "id": "ef55aee8",
   "metadata": {},
   "outputs": [
    {
     "name": "stdout",
     "output_type": "stream",
     "text": [
      "RSME лучшего случайного леса предсказания стоимости автомобиля -2182.643311334894 с параметрами {'n_estimators': 90, 'max_depth': 7}\n"
     ]
    }
   ],
   "source": [
    "model = RandomForestRegressor(random_state=12345) #  creating a model\n",
    "param_distributions = {'n_estimators': range (10, 110, 10), 'max_depth': range (1,11)}   #  setting the parameters\n",
    "grid_forest_r = RandomizedSearchCV(model, param_distributions, scoring=RMSE_score, n_jobs=-1) # creating a  RandomSearchCV\n",
    "grid_forest_r.fit(features_train_forest, target_train_forest) #  fitting the model\n",
    "print('RSME лучшего случайного леса предсказания стоимости автомобиля', grid_forest_r.best_score_, 'с параметрами', grid_forest_r.best_params_ ) #  displaying the best result\n",
    "\n"
   ]
  },
  {
   "cell_type": "markdown",
   "id": "ee0886fc",
   "metadata": {},
   "source": [
    "The optimal random forest parameters for our data have been found. Now let's test its quality and speed:\n"
   ]
  },
  {
   "cell_type": "code",
   "execution_count": 51,
   "id": "454a6a8e",
   "metadata": {},
   "outputs": [
    {
     "data": {
      "text/plain": [
       "137.85254883766174"
      ]
     },
     "execution_count": 51,
     "metadata": {},
     "output_type": "execute_result"
    }
   ],
   "source": [
    "start_time = time.time()\n",
    "model =  RandomForestRegressor(random_state=12345, n_estimators=90, max_depth=10)  #  creating a model\n",
    "model.fit(features_train_forest, target_train_forest) #  fitting the model\n",
    "end_time = time.time() - start_time  # calculating the needed time\n",
    "fitting_time.append(end_time) # appeding the resul\n",
    "end_time"
   ]
  },
  {
   "cell_type": "code",
   "execution_count": 52,
   "id": "2776f2d5",
   "metadata": {},
   "outputs": [
    {
     "data": {
      "text/plain": [
       "1.503993034362793"
      ]
     },
     "execution_count": 52,
     "metadata": {},
     "output_type": "execute_result"
    }
   ],
   "source": [
    "start_time = time.time()\n",
    "predictions = model.predict(features_test_forest) # predicting the target\n",
    "end_time = time.time() - start_time  # calculating the needed time\n",
    "predicting_time.append(end_time) # appeding the resul\n",
    "end_time"
   ]
  },
  {
   "cell_type": "code",
   "execution_count": 53,
   "id": "f31a0420",
   "metadata": {},
   "outputs": [
    {
     "data": {
      "text/plain": [
       "1941.2782261048176"
      ]
     },
     "execution_count": 53,
     "metadata": {},
     "output_type": "execute_result"
    }
   ],
   "source": [
    "rmse_random_forest = RMSE(target_test_forest, predictions) # calculating RMSE\n",
    "rmse.append(rmse_random_forest) # appeding the resul\n",
    "rmse_random_forest"
   ]
  },
  {
   "cell_type": "markdown",
   "id": "7982273d",
   "metadata": {},
   "source": [
    "So, the random forest prediction quality metric satisfies the threshold set in the task, but the speed leaves much to be desired on such a large dataset.\n"
   ]
  },
  {
   "cell_type": "markdown",
   "id": "225da097",
   "metadata": {},
   "source": [
    "### Gradient Boosting\n",
    "\n",
    "Further, we will start gradient boosting models. Let's start with CatBoost:"
   ]
  },
  {
   "cell_type": "code",
   "execution_count": 54,
   "id": "9ff7f955",
   "metadata": {},
   "outputs": [
    {
     "name": "stdout",
     "output_type": "stream",
     "text": [
      "0:\tlearn: 3633.9232590\ttotal: 469ms\tremaining: 46.4s\n",
      "10:\tlearn: 1908.9882962\ttotal: 3.31s\tremaining: 26.8s\n",
      "20:\tlearn: 1791.1275679\ttotal: 6.02s\tremaining: 22.7s\n",
      "30:\tlearn: 1721.6983283\ttotal: 8.76s\tremaining: 19.5s\n",
      "40:\tlearn: 1685.7027497\ttotal: 11.5s\tremaining: 16.5s\n",
      "50:\tlearn: 1652.7758708\ttotal: 14.2s\tremaining: 13.6s\n",
      "60:\tlearn: 1626.3143711\ttotal: 16.7s\tremaining: 10.7s\n",
      "70:\tlearn: 1606.8391584\ttotal: 19.3s\tremaining: 7.9s\n",
      "80:\tlearn: 1586.4584762\ttotal: 22.1s\tremaining: 5.17s\n",
      "90:\tlearn: 1568.9705716\ttotal: 24.7s\tremaining: 2.45s\n",
      "99:\tlearn: 1554.2640821\ttotal: 27.2s\tremaining: 0us\n",
      "RSME лучшего Catboost предсказания стоимости автомобиля -1666.2172980067287 с параметрами {'max_depth': 9, 'learning_rate': 0.3, 'iterations': 100}\n"
     ]
    }
   ],
   "source": [
    "model = CatBoostRegressor(random_seed=12345) #  creating a model\n",
    "param_distributions = {'iterations': range (10, 110, 10), 'max_depth': range (1,11), 'learning_rate': [0.1, 0.2, 0.3]}   #  setting the parameters\n",
    "clf_b = RandomizedSearchCV(model, param_distributions, scoring=RMSE_score, n_jobs=-1) # creating a  RandomSearchCV\n",
    "clf_b.fit(features_train, target_train, cat_features=categoric, verbose=10) #  fitting the model\n",
    "print('RSME лучшего Catboost предсказания стоимости автомобиля', clf_b.best_score_, 'с параметрами', clf_b.best_params_ ) # # displaying the best result\n",
    "\n"
   ]
  },
  {
   "cell_type": "code",
   "execution_count": 55,
   "id": "e44a5f03",
   "metadata": {},
   "outputs": [
    {
     "name": "stdout",
     "output_type": "stream",
     "text": [
      "0:\tlearn: 3649.5343354\ttotal: 298ms\tremaining: 26.5s\n",
      "10:\tlearn: 1945.5660855\ttotal: 2.66s\tremaining: 19.1s\n",
      "20:\tlearn: 1821.8570007\ttotal: 4.87s\tremaining: 16s\n",
      "30:\tlearn: 1761.2689743\ttotal: 7.26s\tremaining: 13.8s\n",
      "40:\tlearn: 1722.1021232\ttotal: 9.63s\tremaining: 11.5s\n",
      "50:\tlearn: 1697.0120192\ttotal: 11.9s\tremaining: 9.14s\n",
      "60:\tlearn: 1670.5926872\ttotal: 14.3s\tremaining: 6.8s\n",
      "70:\tlearn: 1651.9131569\ttotal: 16.6s\tremaining: 4.46s\n",
      "80:\tlearn: 1636.2204202\ttotal: 18.8s\tremaining: 2.09s\n",
      "89:\tlearn: 1624.2571732\ttotal: 20.8s\tremaining: 0us\n"
     ]
    },
    {
     "data": {
      "text/plain": [
       "22.7288498878479"
      ]
     },
     "execution_count": 55,
     "metadata": {},
     "output_type": "execute_result"
    }
   ],
   "source": [
    "start_time = time.time()\n",
    "model =  CatBoostRegressor(random_seed=12345, max_depth=8, learning_rate=0.3, iterations=90)  #  creating a model\n",
    "model.fit(features_train, target_train, cat_features=categoric, verbose=10) #  fitting the model\n",
    "end_time = time.time() - start_time  # calculating the needed time\n",
    "fitting_time.append(end_time) # appeding the resul\n",
    "end_time"
   ]
  },
  {
   "cell_type": "code",
   "execution_count": 56,
   "id": "4883290b",
   "metadata": {},
   "outputs": [
    {
     "data": {
      "text/plain": [
       "0.4968574047088623"
      ]
     },
     "execution_count": 56,
     "metadata": {},
     "output_type": "execute_result"
    }
   ],
   "source": [
    "start_time = time.time()\n",
    "predictions = model.predict(features_test) # predicting the target\n",
    "end_time = time.time() - start_time  # calculating the needed time\n",
    "predicting_time.append(end_time) # appeding the result\n",
    "end_time"
   ]
  },
  {
   "cell_type": "code",
   "execution_count": 57,
   "id": "28c99ce3",
   "metadata": {},
   "outputs": [
    {
     "data": {
      "text/plain": [
       "1649.9422895988525"
      ]
     },
     "execution_count": 57,
     "metadata": {},
     "output_type": "execute_result"
    }
   ],
   "source": [
    "rmse_catboost = RMSE(target_test, predictions) # calculating RMSE\n",
    "rmse.append(rmse_catboost) # appeding the result\n",
    "rmse_catboost"
   ]
  },
  {
   "cell_type": "markdown",
   "id": "c5ee5672",
   "metadata": {},
   "source": [
    "CatBoost results are much better than random forest results, and most importantly, fitting and prediction are much faster.\n",
    "Next, we will test the LGBMR model, but first we will change the type of categorical features of our dataframe:\n"
   ]
  },
  {
   "cell_type": "code",
   "execution_count": 58,
   "id": "c80f3360",
   "metadata": {},
   "outputs": [
    {
     "name": "stdout",
     "output_type": "stream",
     "text": [
      "<class 'pandas.core.frame.DataFrame'>\n",
      "Int64Index: 257694 entries, 54218 to 224485\n",
      "Data columns (total 14 columns):\n",
      " #   Column             Non-Null Count   Dtype   \n",
      "---  ------             --------------   -----   \n",
      " 0   DateCrawled        257694 non-null  int64   \n",
      " 1   VehicleType        257694 non-null  category\n",
      " 2   RegistrationYear   257694 non-null  int64   \n",
      " 3   Gearbox            257694 non-null  category\n",
      " 4   Power              257694 non-null  int64   \n",
      " 5   Model              257694 non-null  category\n",
      " 6   Kilometer          257694 non-null  int64   \n",
      " 7   RegistrationMonth  257694 non-null  int64   \n",
      " 8   FuelType           257694 non-null  category\n",
      " 9   Brand              257694 non-null  category\n",
      " 10  NotRepaired        257694 non-null  category\n",
      " 11  DateCreated        257694 non-null  int64   \n",
      " 12  PostalCode         257694 non-null  int64   \n",
      " 13  LastSeen           257694 non-null  int64   \n",
      "dtypes: category(6), int64(8)\n",
      "memory usage: 19.4 MB\n"
     ]
    }
   ],
   "source": [
    "# changing the datatype of the categorical features\n",
    "for col in categoric:\n",
    "    features_train[col] = features_train[col].astype('category')\n",
    "    features_test[col] = features_test[col].astype('category')\n",
    "features_train.info()"
   ]
  },
  {
   "cell_type": "code",
   "execution_count": 59,
   "id": "509b164f",
   "metadata": {},
   "outputs": [
    {
     "name": "stdout",
     "output_type": "stream",
     "text": [
      "RSME лучшего LGBM предсказания стоимости автомобиля -1665.9614565565867 с параметрами {'num_leaves': 31, 'n_estimators': 70, 'max_depth': 10, 'learning_rate': 0.2}\n"
     ]
    }
   ],
   "source": [
    "model =  LGBMRegressor(random_seed=12345) #  creating a model\n",
    "param_distributions = {'n_estimators': range (10, 110, 10), 'num_leaves': [10,20,31], 'max_depth': range (1,11), 'learning_rate': [0.1, 0.2, 0.3]}   #  setting the parameters\n",
    "clf_l = RandomizedSearchCV(model, param_distributions, scoring=RMSE_score, n_jobs=-1) # creating a  RandomSearchCV\n",
    "clf_l.fit(features_train, target_train) #  fitting the model\n",
    "print('RSME лучшего LGBM предсказания стоимости автомобиля', clf_l.best_score_, 'с параметрами', clf_l.best_params_ ) #  displaying the best result\n",
    "\n",
    "\n"
   ]
  },
  {
   "cell_type": "code",
   "execution_count": 60,
   "id": "867cdaa0",
   "metadata": {},
   "outputs": [
    {
     "data": {
      "text/plain": [
       "2.09995698928833"
      ]
     },
     "execution_count": 60,
     "metadata": {},
     "output_type": "execute_result"
    }
   ],
   "source": [
    "start_time = time.time()\n",
    "model =  LGBMRegressor(random_seed=12345, num_leaves = 20, max_depth=10, learning_rate=0.2, n_estimators=100) #  creating a model\n",
    "model.fit(features_train, target_train) #  fitting the model\n",
    "end_time = time.time() - start_time  # calculating the needed time\n",
    "fitting_time.append(end_time) # appeding the result\n",
    "end_time "
   ]
  },
  {
   "cell_type": "code",
   "execution_count": 61,
   "id": "897e2347",
   "metadata": {},
   "outputs": [
    {
     "data": {
      "text/plain": [
       "0.4350450038909912"
      ]
     },
     "execution_count": 61,
     "metadata": {},
     "output_type": "execute_result"
    }
   ],
   "source": [
    "start_time = time.time()\n",
    "predictions = model.predict(features_test) # predicting the target\n",
    "end_time = time.time() - start_time # calculating the needed time\n",
    "predicting_time.append(end_time) # appeding the result\n",
    "end_time "
   ]
  },
  {
   "cell_type": "code",
   "execution_count": 62,
   "id": "02f10a9f",
   "metadata": {},
   "outputs": [
    {
     "data": {
      "text/plain": [
       "1634.9509013525317"
      ]
     },
     "execution_count": 62,
     "metadata": {},
     "output_type": "execute_result"
    }
   ],
   "source": [
    "rmse_lgbm = RMSE(target_test, predictions) # calculating RMSE\n",
    "rmse.append(rmse_lgbm) # appeding the result\n",
    "rmse_lgbm"
   ]
  },
  {
   "cell_type": "markdown",
   "id": "9de52d43",
   "metadata": {},
   "source": [
    "So, LGBMR showed an even higher result on our sample, an even higher fitting rate and a slightly lower prediction rate than CatBoost.\n"
   ]
  },
  {
   "cell_type": "markdown",
   "id": "c8cb8eed",
   "metadata": {},
   "source": [
    "So, before making the final choice, we will compile a summary table for all models, and also compare the results of the leader with a constant model.\n"
   ]
  },
  {
   "cell_type": "code",
   "execution_count": 63,
   "id": "ad91241e",
   "metadata": {},
   "outputs": [
    {
     "data": {
      "text/html": [
       "<div>\n",
       "<style scoped>\n",
       "    .dataframe tbody tr th:only-of-type {\n",
       "        vertical-align: middle;\n",
       "    }\n",
       "\n",
       "    .dataframe tbody tr th {\n",
       "        vertical-align: top;\n",
       "    }\n",
       "\n",
       "    .dataframe thead th {\n",
       "        text-align: right;\n",
       "    }\n",
       "</style>\n",
       "<table border=\"1\" class=\"dataframe\">\n",
       "  <thead>\n",
       "    <tr style=\"text-align: right;\">\n",
       "      <th></th>\n",
       "      <th>fitting_time</th>\n",
       "      <th>predicting_time</th>\n",
       "      <th>rmse</th>\n",
       "    </tr>\n",
       "  </thead>\n",
       "  <tbody>\n",
       "    <tr>\n",
       "      <th>linear regression</th>\n",
       "      <td>0.902519</td>\n",
       "      <td>0.037136</td>\n",
       "      <td>3291.585855</td>\n",
       "    </tr>\n",
       "    <tr>\n",
       "      <th>random forest</th>\n",
       "      <td>137.852549</td>\n",
       "      <td>1.503993</td>\n",
       "      <td>1941.278226</td>\n",
       "    </tr>\n",
       "    <tr>\n",
       "      <th>catboost</th>\n",
       "      <td>22.728850</td>\n",
       "      <td>0.496857</td>\n",
       "      <td>1649.942290</td>\n",
       "    </tr>\n",
       "    <tr>\n",
       "      <th>lgbm</th>\n",
       "      <td>2.099957</td>\n",
       "      <td>0.435045</td>\n",
       "      <td>1634.950901</td>\n",
       "    </tr>\n",
       "  </tbody>\n",
       "</table>\n",
       "</div>"
      ],
      "text/plain": [
       "                   fitting_time  predicting_time         rmse\n",
       "linear regression      0.902519         0.037136  3291.585855\n",
       "random forest        137.852549         1.503993  1941.278226\n",
       "catboost              22.728850         0.496857  1649.942290\n",
       "lgbm                   2.099957         0.435045  1634.950901"
      ]
     },
     "execution_count": 63,
     "metadata": {},
     "output_type": "execute_result"
    }
   ],
   "source": [
    "# creating a summary df with the results\n",
    "Models = pd.DataFrame({'fitting_time': fitting_time, 'predicting_time': predicting_time, 'rmse': rmse}, index=models)\n",
    "Models\n"
   ]
  },
  {
   "cell_type": "code",
   "execution_count": 64,
   "id": "2b2cd0d4",
   "metadata": {},
   "outputs": [],
   "source": [
    "dummy_regr_r = DummyRegressor(strategy=\"mean\") # creating a model\n",
    "dummy_regr_r.fit(features_train, target_train) #  fitting the model\n",
    "dummy_predictions = dummy_regr_r.predict(features_test) # predicting the target"
   ]
  },
  {
   "cell_type": "code",
   "execution_count": 65,
   "id": "c3c18b5c",
   "metadata": {},
   "outputs": [
    {
     "data": {
      "text/plain": [
       "4507.906941262256"
      ]
     },
     "execution_count": 65,
     "metadata": {},
     "output_type": "execute_result"
    }
   ],
   "source": [
    "rmse_dummy = RMSE(target_test, dummy_predictions) # calculating RMSE\n",
    "rmse_dummy"
   ]
  },
  {
   "cell_type": "markdown",
   "id": "ddb1e61f",
   "metadata": {},
   "source": [
    "So, the constant model showed a different from all other models, and most importantly, the worst result. Therefore, the model is adequate and can go into production.\n"
   ]
  },
  {
   "cell_type": "markdown",
   "id": "e2fd5632",
   "metadata": {},
   "source": [
    "## Study Results \n",
    "In the course of this study, we prepared and analyzed the data, as a result of which we managed to get rid of duplicates, missing and abnormal values, then we prepared 3 datasets with different levels of data preparation for 3 groups of regression models\n",
    "\n",
    "We checked the results of model fitting by cross-validation, choosing the optimal hyperparameters.\n",
    "According to the results of the comparison, it turned out that the most **qualitatively (with a minimum RMSE value) and quickly the cost of a car in our sample is predicted by gradient boosting, namely, LGMB.**\n",
    "\n",
    "Perhaps the result would be even better if we applied alternative regression models not yet known to us.\n"
   ]
  }
 ],
 "metadata": {
  "ExecuteTimeLog": [
   {
    "duration": 667,
    "start_time": "2022-03-08T15:34:14.246Z"
   },
   {
    "duration": 44,
    "start_time": "2022-03-08T15:34:38.925Z"
   },
   {
    "duration": 40,
    "start_time": "2022-03-08T15:34:39.882Z"
   },
   {
    "duration": 55,
    "start_time": "2022-03-08T15:34:49.258Z"
   },
   {
    "duration": 55,
    "start_time": "2022-03-08T15:35:23.556Z"
   },
   {
    "duration": 17,
    "start_time": "2022-03-08T15:46:17.513Z"
   },
   {
    "duration": 14,
    "start_time": "2022-03-08T15:46:52.976Z"
   },
   {
    "duration": 56,
    "start_time": "2022-03-08T15:49:44.344Z"
   },
   {
    "duration": 31,
    "start_time": "2022-03-08T15:52:03.568Z"
   },
   {
    "duration": 21,
    "start_time": "2022-03-08T15:55:13.609Z"
   },
   {
    "duration": 15,
    "start_time": "2022-03-08T15:55:29.176Z"
   },
   {
    "duration": 13,
    "start_time": "2022-03-08T15:55:39.020Z"
   },
   {
    "duration": 12,
    "start_time": "2022-03-08T15:55:54.155Z"
   },
   {
    "duration": 32,
    "start_time": "2022-03-08T16:03:58.644Z"
   },
   {
    "duration": 13,
    "start_time": "2022-03-08T16:05:29.577Z"
   },
   {
    "duration": 357,
    "start_time": "2022-03-08T16:08:53.653Z"
   },
   {
    "duration": 28,
    "start_time": "2022-03-08T16:09:22.196Z"
   },
   {
    "duration": 245,
    "start_time": "2022-03-08T16:10:05.863Z"
   },
   {
    "duration": 26,
    "start_time": "2022-03-08T16:10:21.729Z"
   },
   {
    "duration": 24,
    "start_time": "2022-03-08T16:11:28.314Z"
   },
   {
    "duration": 15,
    "start_time": "2022-03-08T16:13:46.039Z"
   },
   {
    "duration": 22,
    "start_time": "2022-03-08T16:20:36.997Z"
   },
   {
    "duration": 22,
    "start_time": "2022-03-08T16:21:00.502Z"
   },
   {
    "duration": 20,
    "start_time": "2022-03-08T16:21:11.356Z"
   },
   {
    "duration": 21,
    "start_time": "2022-03-08T16:22:44.768Z"
   },
   {
    "duration": 18,
    "start_time": "2022-03-08T16:23:04.185Z"
   },
   {
    "duration": 61,
    "start_time": "2022-03-08T16:23:16.270Z"
   },
   {
    "duration": 20,
    "start_time": "2022-03-08T16:23:16.333Z"
   },
   {
    "duration": 10,
    "start_time": "2022-03-08T16:27:47.184Z"
   },
   {
    "duration": 10,
    "start_time": "2022-03-08T16:27:48.569Z"
   },
   {
    "duration": 23,
    "start_time": "2022-03-08T16:31:29.349Z"
   },
   {
    "duration": 29,
    "start_time": "2022-03-08T16:40:11.762Z"
   },
   {
    "duration": 13,
    "start_time": "2022-03-08T16:43:03.827Z"
   },
   {
    "duration": 16,
    "start_time": "2022-03-08T16:50:12.822Z"
   },
   {
    "duration": 12,
    "start_time": "2022-03-08T16:51:08.365Z"
   },
   {
    "duration": 15,
    "start_time": "2022-03-08T16:55:50.479Z"
   },
   {
    "duration": 25,
    "start_time": "2022-03-08T16:56:45.138Z"
   },
   {
    "duration": 37,
    "start_time": "2022-03-08T16:56:52.361Z"
   },
   {
    "duration": 41,
    "start_time": "2022-03-08T16:58:09.738Z"
   },
   {
    "duration": 4526,
    "start_time": "2022-03-08T17:00:42.767Z"
   },
   {
    "duration": 4486,
    "start_time": "2022-03-08T17:02:59.102Z"
   },
   {
    "duration": 58,
    "start_time": "2022-03-08T17:03:32.191Z"
   },
   {
    "duration": 62,
    "start_time": "2022-03-08T17:09:27.759Z"
   },
   {
    "duration": 21,
    "start_time": "2022-03-08T17:09:27.824Z"
   },
   {
    "duration": 30,
    "start_time": "2022-03-08T17:09:27.979Z"
   },
   {
    "duration": 14,
    "start_time": "2022-03-08T17:09:28.012Z"
   },
   {
    "duration": 78,
    "start_time": "2022-03-08T17:09:28.028Z"
   },
   {
    "duration": 5,
    "start_time": "2022-03-08T17:13:58.107Z"
   },
   {
    "duration": 6,
    "start_time": "2022-03-08T17:14:05.436Z"
   },
   {
    "duration": 6,
    "start_time": "2022-03-08T17:14:22.178Z"
   },
   {
    "duration": 61,
    "start_time": "2022-03-08T17:14:46.655Z"
   },
   {
    "duration": 21,
    "start_time": "2022-03-08T17:14:46.718Z"
   },
   {
    "duration": 36,
    "start_time": "2022-03-08T17:14:46.741Z"
   },
   {
    "duration": 13,
    "start_time": "2022-03-08T17:14:46.778Z"
   },
   {
    "duration": 82,
    "start_time": "2022-03-08T17:14:46.813Z"
   },
   {
    "duration": 7,
    "start_time": "2022-03-08T17:14:46.898Z"
   },
   {
    "duration": 190,
    "start_time": "2022-03-08T17:15:14.389Z"
   },
   {
    "duration": 11,
    "start_time": "2022-03-08T17:15:23.488Z"
   },
   {
    "duration": 12,
    "start_time": "2022-03-08T17:15:54.694Z"
   },
   {
    "duration": 12,
    "start_time": "2022-03-08T17:16:03.402Z"
   },
   {
    "duration": 8,
    "start_time": "2022-03-08T17:16:51.157Z"
   },
   {
    "duration": 12,
    "start_time": "2022-03-08T17:17:44.640Z"
   },
   {
    "duration": 19,
    "start_time": "2022-03-08T17:20:44.148Z"
   },
   {
    "duration": 743,
    "start_time": "2022-03-09T07:35:42.722Z"
   },
   {
    "duration": 18,
    "start_time": "2022-03-09T07:35:43.467Z"
   },
   {
    "duration": 23,
    "start_time": "2022-03-09T07:35:43.486Z"
   },
   {
    "duration": 11,
    "start_time": "2022-03-09T07:35:43.510Z"
   },
   {
    "duration": 80,
    "start_time": "2022-03-09T07:35:43.522Z"
   },
   {
    "duration": 14,
    "start_time": "2022-03-09T07:35:43.603Z"
   },
   {
    "duration": 197,
    "start_time": "2022-03-09T07:35:43.619Z"
   },
   {
    "duration": 55,
    "start_time": "2022-03-09T07:35:56.589Z"
   },
   {
    "duration": 18,
    "start_time": "2022-03-09T07:35:56.645Z"
   },
   {
    "duration": 39,
    "start_time": "2022-03-09T07:35:56.665Z"
   },
   {
    "duration": 10,
    "start_time": "2022-03-09T07:35:56.706Z"
   },
   {
    "duration": 58,
    "start_time": "2022-03-09T07:35:56.718Z"
   },
   {
    "duration": 35,
    "start_time": "2022-03-09T07:35:56.777Z"
   },
   {
    "duration": 16,
    "start_time": "2022-03-09T07:35:56.814Z"
   },
   {
    "duration": 5,
    "start_time": "2022-03-09T08:00:43.756Z"
   },
   {
    "duration": 1428,
    "start_time": "2022-03-09T08:12:01.438Z"
   },
   {
    "duration": 149,
    "start_time": "2022-03-09T08:12:24.028Z"
   },
   {
    "duration": 162,
    "start_time": "2022-03-09T08:12:38.873Z"
   },
   {
    "duration": 157,
    "start_time": "2022-03-09T08:13:22.396Z"
   },
   {
    "duration": 161,
    "start_time": "2022-03-09T08:14:13.402Z"
   },
   {
    "duration": 66,
    "start_time": "2022-03-09T08:14:48.413Z"
   },
   {
    "duration": 19,
    "start_time": "2022-03-09T08:14:48.481Z"
   },
   {
    "duration": 25,
    "start_time": "2022-03-09T08:14:48.502Z"
   },
   {
    "duration": 12,
    "start_time": "2022-03-09T08:14:48.529Z"
   },
   {
    "duration": 83,
    "start_time": "2022-03-09T08:14:48.543Z"
   },
   {
    "duration": 14,
    "start_time": "2022-03-09T08:14:48.628Z"
   },
   {
    "duration": 25,
    "start_time": "2022-03-09T08:14:48.643Z"
   },
   {
    "duration": 201,
    "start_time": "2022-03-09T08:14:48.670Z"
   },
   {
    "duration": 1230,
    "start_time": "2022-03-09T08:15:41.094Z"
   },
   {
    "duration": 179,
    "start_time": "2022-03-09T08:23:47.339Z"
   },
   {
    "duration": 19,
    "start_time": "2022-03-09T08:25:32.427Z"
   },
   {
    "duration": 19,
    "start_time": "2022-03-09T08:25:57.332Z"
   },
   {
    "duration": 331,
    "start_time": "2022-03-09T09:38:33.598Z"
   },
   {
    "duration": 293,
    "start_time": "2022-03-09T09:38:43.072Z"
   },
   {
    "duration": 16,
    "start_time": "2022-03-09T09:38:59.531Z"
   },
   {
    "duration": 15,
    "start_time": "2022-03-09T09:39:02.904Z"
   },
   {
    "duration": 25,
    "start_time": "2022-03-09T09:39:24.812Z"
   },
   {
    "duration": 11,
    "start_time": "2022-03-09T09:42:07.475Z"
   },
   {
    "duration": 93,
    "start_time": "2022-03-09T09:42:24.726Z"
   },
   {
    "duration": 761,
    "start_time": "2022-03-09T09:42:34.730Z"
   },
   {
    "duration": 769,
    "start_time": "2022-03-09T09:42:47.259Z"
   },
   {
    "duration": 814,
    "start_time": "2022-03-09T09:43:02.898Z"
   },
   {
    "duration": 295,
    "start_time": "2022-03-09T09:43:25.199Z"
   },
   {
    "duration": 35,
    "start_time": "2022-03-09T09:43:38.341Z"
   },
   {
    "duration": 11,
    "start_time": "2022-03-09T09:48:54.516Z"
   },
   {
    "duration": 11,
    "start_time": "2022-03-09T09:49:05.247Z"
   },
   {
    "duration": 23,
    "start_time": "2022-03-09T09:49:26.359Z"
   },
   {
    "duration": 12,
    "start_time": "2022-03-09T09:51:52.412Z"
   },
   {
    "duration": 12,
    "start_time": "2022-03-09T09:52:02.595Z"
   },
   {
    "duration": 105,
    "start_time": "2022-03-09T09:52:51.862Z"
   },
   {
    "duration": 308,
    "start_time": "2022-03-09T09:53:01.865Z"
   },
   {
    "duration": 13,
    "start_time": "2022-03-09T09:54:14.933Z"
   },
   {
    "duration": 7454,
    "start_time": "2022-03-09T09:58:38.132Z"
   },
   {
    "duration": 78,
    "start_time": "2022-03-09T09:59:05.667Z"
   },
   {
    "duration": 26,
    "start_time": "2022-03-09T09:59:05.747Z"
   },
   {
    "duration": 36,
    "start_time": "2022-03-09T09:59:05.775Z"
   },
   {
    "duration": 12,
    "start_time": "2022-03-09T09:59:05.812Z"
   },
   {
    "duration": 86,
    "start_time": "2022-03-09T09:59:05.825Z"
   },
   {
    "duration": 16,
    "start_time": "2022-03-09T09:59:05.913Z"
   },
   {
    "duration": 18,
    "start_time": "2022-03-09T09:59:05.930Z"
   },
   {
    "duration": 50,
    "start_time": "2022-03-09T09:59:05.951Z"
   },
   {
    "duration": 11,
    "start_time": "2022-03-09T09:59:06.003Z"
   },
   {
    "duration": 33,
    "start_time": "2022-03-09T10:00:09.487Z"
   },
   {
    "duration": 119,
    "start_time": "2022-03-09T10:03:33.655Z"
   },
   {
    "duration": 18,
    "start_time": "2022-03-09T10:03:40.220Z"
   },
   {
    "duration": 17,
    "start_time": "2022-03-09T10:04:35.617Z"
   },
   {
    "duration": 28,
    "start_time": "2022-03-09T10:14:33.587Z"
   },
   {
    "duration": 40,
    "start_time": "2022-03-09T10:15:53.935Z"
   },
   {
    "duration": 60,
    "start_time": "2022-03-09T10:17:04.751Z"
   },
   {
    "duration": 57,
    "start_time": "2022-03-09T10:24:01.931Z"
   },
   {
    "duration": 137,
    "start_time": "2022-03-09T10:26:10.605Z"
   },
   {
    "duration": 69,
    "start_time": "2022-03-09T10:26:25.196Z"
   },
   {
    "duration": 58,
    "start_time": "2022-03-09T10:26:47.064Z"
   },
   {
    "duration": 61,
    "start_time": "2022-03-09T10:29:04.203Z"
   },
   {
    "duration": 58,
    "start_time": "2022-03-09T10:29:58.009Z"
   },
   {
    "duration": 60,
    "start_time": "2022-03-09T10:32:55.491Z"
   },
   {
    "duration": 7545,
    "start_time": "2022-03-09T10:43:37.987Z"
   },
   {
    "duration": 56,
    "start_time": "2022-03-09T10:44:08.219Z"
   },
   {
    "duration": 17,
    "start_time": "2022-03-09T10:44:08.277Z"
   },
   {
    "duration": 25,
    "start_time": "2022-03-09T10:44:08.296Z"
   },
   {
    "duration": 11,
    "start_time": "2022-03-09T10:44:08.323Z"
   },
   {
    "duration": 88,
    "start_time": "2022-03-09T10:44:08.336Z"
   },
   {
    "duration": 15,
    "start_time": "2022-03-09T10:44:08.425Z"
   },
   {
    "duration": 20,
    "start_time": "2022-03-09T10:44:08.442Z"
   },
   {
    "duration": 48,
    "start_time": "2022-03-09T10:44:08.464Z"
   },
   {
    "duration": 90,
    "start_time": "2022-03-09T10:44:08.514Z"
   },
   {
    "duration": 113,
    "start_time": "2022-03-09T10:57:53.322Z"
   },
   {
    "duration": 662,
    "start_time": "2022-03-09T15:12:32.045Z"
   },
   {
    "duration": 21,
    "start_time": "2022-03-09T15:21:47.294Z"
   },
   {
    "duration": 19,
    "start_time": "2022-03-09T15:27:57.697Z"
   },
   {
    "duration": 62,
    "start_time": "2022-03-09T15:28:05.579Z"
   },
   {
    "duration": 18,
    "start_time": "2022-03-09T15:28:05.643Z"
   },
   {
    "duration": 28,
    "start_time": "2022-03-09T15:28:05.663Z"
   },
   {
    "duration": 11,
    "start_time": "2022-03-09T15:28:05.693Z"
   },
   {
    "duration": 100,
    "start_time": "2022-03-09T15:28:05.706Z"
   },
   {
    "duration": 37,
    "start_time": "2022-03-09T15:28:05.808Z"
   },
   {
    "duration": 20,
    "start_time": "2022-03-09T15:28:05.847Z"
   },
   {
    "duration": 20,
    "start_time": "2022-03-09T15:28:05.869Z"
   },
   {
    "duration": 99,
    "start_time": "2022-03-09T15:28:05.891Z"
   },
   {
    "duration": 62,
    "start_time": "2022-03-09T16:02:55.436Z"
   },
   {
    "duration": 54,
    "start_time": "2022-03-09T16:09:56.757Z"
   },
   {
    "duration": 55,
    "start_time": "2022-03-09T16:10:23.085Z"
   },
   {
    "duration": 64,
    "start_time": "2022-03-09T16:10:45.660Z"
   },
   {
    "duration": 62,
    "start_time": "2022-03-09T16:10:54.414Z"
   },
   {
    "duration": 49,
    "start_time": "2022-03-09T16:11:12.138Z"
   },
   {
    "duration": 53,
    "start_time": "2022-03-09T16:11:26.730Z"
   },
   {
    "duration": 69,
    "start_time": "2022-03-09T16:13:02.845Z"
   },
   {
    "duration": 52,
    "start_time": "2022-03-09T16:14:43.797Z"
   },
   {
    "duration": 56,
    "start_time": "2022-03-09T16:15:18.751Z"
   },
   {
    "duration": 50,
    "start_time": "2022-03-09T16:15:30.432Z"
   },
   {
    "duration": 51,
    "start_time": "2022-03-09T16:15:35.276Z"
   },
   {
    "duration": 281,
    "start_time": "2022-03-09T16:16:57.235Z"
   },
   {
    "duration": 48,
    "start_time": "2022-03-09T16:17:04.936Z"
   },
   {
    "duration": 67,
    "start_time": "2022-03-09T16:17:34.450Z"
   },
   {
    "duration": 105,
    "start_time": "2022-03-09T16:43:34.459Z"
   },
   {
    "duration": 15,
    "start_time": "2022-03-09T16:53:12.332Z"
   },
   {
    "duration": 9,
    "start_time": "2022-03-09T16:56:23.830Z"
   },
   {
    "duration": 21,
    "start_time": "2022-03-09T17:07:16.034Z"
   },
   {
    "duration": 58,
    "start_time": "2022-03-09T17:20:04.571Z"
   },
   {
    "duration": 205,
    "start_time": "2022-03-09T17:28:10.818Z"
   },
   {
    "duration": 60,
    "start_time": "2022-03-09T17:28:37.253Z"
   },
   {
    "duration": 14,
    "start_time": "2022-03-09T17:28:37.314Z"
   },
   {
    "duration": 8,
    "start_time": "2022-03-09T17:28:37.330Z"
   },
   {
    "duration": 20,
    "start_time": "2022-03-09T17:28:37.340Z"
   },
   {
    "duration": 16,
    "start_time": "2022-03-09T17:28:37.361Z"
   },
   {
    "duration": 98,
    "start_time": "2022-03-09T17:28:37.379Z"
   },
   {
    "duration": 16,
    "start_time": "2022-03-09T17:28:37.479Z"
   },
   {
    "duration": 49,
    "start_time": "2022-03-09T17:28:37.497Z"
   },
   {
    "duration": 22,
    "start_time": "2022-03-09T17:28:37.548Z"
   },
   {
    "duration": 93,
    "start_time": "2022-03-09T17:28:37.571Z"
   },
   {
    "duration": 654,
    "start_time": "2022-03-10T08:27:02.883Z"
   },
   {
    "duration": 14,
    "start_time": "2022-03-10T08:27:03.538Z"
   },
   {
    "duration": 10,
    "start_time": "2022-03-10T08:27:03.554Z"
   },
   {
    "duration": 36,
    "start_time": "2022-03-10T08:27:03.566Z"
   },
   {
    "duration": 17,
    "start_time": "2022-03-10T08:27:03.603Z"
   },
   {
    "duration": 96,
    "start_time": "2022-03-10T08:27:03.622Z"
   },
   {
    "duration": 14,
    "start_time": "2022-03-10T08:27:03.720Z"
   },
   {
    "duration": 14,
    "start_time": "2022-03-10T08:27:03.736Z"
   },
   {
    "duration": 19,
    "start_time": "2022-03-10T08:27:03.751Z"
   },
   {
    "duration": 438,
    "start_time": "2022-03-10T08:27:03.771Z"
   },
   {
    "duration": 96,
    "start_time": "2022-03-10T08:27:53.724Z"
   },
   {
    "duration": 15,
    "start_time": "2022-03-10T08:28:19.883Z"
   },
   {
    "duration": 21,
    "start_time": "2022-03-10T08:29:21.248Z"
   },
   {
    "duration": 14,
    "start_time": "2022-03-10T08:29:37.885Z"
   },
   {
    "duration": 21,
    "start_time": "2022-03-10T08:33:12.109Z"
   },
   {
    "duration": 7446,
    "start_time": "2022-03-10T08:47:53.539Z"
   },
   {
    "duration": 34,
    "start_time": "2022-03-10T08:55:56.335Z"
   },
   {
    "duration": 63,
    "start_time": "2022-03-10T08:56:03.508Z"
   },
   {
    "duration": 12,
    "start_time": "2022-03-10T08:56:03.573Z"
   },
   {
    "duration": 8,
    "start_time": "2022-03-10T08:56:03.587Z"
   },
   {
    "duration": 18,
    "start_time": "2022-03-10T08:56:03.624Z"
   },
   {
    "duration": 16,
    "start_time": "2022-03-10T08:56:03.644Z"
   },
   {
    "duration": 32,
    "start_time": "2022-03-10T08:56:03.662Z"
   },
   {
    "duration": 37,
    "start_time": "2022-03-10T08:56:03.696Z"
   },
   {
    "duration": 14,
    "start_time": "2022-03-10T08:56:03.734Z"
   },
   {
    "duration": 21,
    "start_time": "2022-03-10T08:56:03.749Z"
   },
   {
    "duration": 45,
    "start_time": "2022-03-10T08:56:03.771Z"
   },
   {
    "duration": 63,
    "start_time": "2022-03-10T08:56:03.818Z"
   },
   {
    "duration": 7627,
    "start_time": "2022-03-10T08:57:53.559Z"
   },
   {
    "duration": 43,
    "start_time": "2022-03-10T08:59:08.955Z"
   },
   {
    "duration": 62,
    "start_time": "2022-03-10T08:59:18.078Z"
   },
   {
    "duration": 11,
    "start_time": "2022-03-10T08:59:18.142Z"
   },
   {
    "duration": 7,
    "start_time": "2022-03-10T08:59:18.155Z"
   },
   {
    "duration": 39,
    "start_time": "2022-03-10T08:59:18.163Z"
   },
   {
    "duration": 22,
    "start_time": "2022-03-10T08:59:18.204Z"
   },
   {
    "duration": 36,
    "start_time": "2022-03-10T08:59:18.228Z"
   },
   {
    "duration": 59,
    "start_time": "2022-03-10T08:59:18.266Z"
   },
   {
    "duration": 13,
    "start_time": "2022-03-10T08:59:18.326Z"
   },
   {
    "duration": 17,
    "start_time": "2022-03-10T08:59:18.341Z"
   },
   {
    "duration": 52,
    "start_time": "2022-03-10T08:59:18.359Z"
   },
   {
    "duration": 62,
    "start_time": "2022-03-10T08:59:18.413Z"
   },
   {
    "duration": 42,
    "start_time": "2022-03-10T08:59:39.434Z"
   },
   {
    "duration": 11,
    "start_time": "2022-03-10T09:00:23.840Z"
   },
   {
    "duration": 21,
    "start_time": "2022-03-10T09:00:34.992Z"
   },
   {
    "duration": 54,
    "start_time": "2022-03-10T09:00:42.400Z"
   },
   {
    "duration": 12,
    "start_time": "2022-03-10T09:00:42.455Z"
   },
   {
    "duration": 7,
    "start_time": "2022-03-10T09:00:42.469Z"
   },
   {
    "duration": 26,
    "start_time": "2022-03-10T09:00:42.478Z"
   },
   {
    "duration": 16,
    "start_time": "2022-03-10T09:00:42.520Z"
   },
   {
    "duration": 21,
    "start_time": "2022-03-10T09:00:42.538Z"
   },
   {
    "duration": 54,
    "start_time": "2022-03-10T09:00:42.561Z"
   },
   {
    "duration": 15,
    "start_time": "2022-03-10T09:00:42.616Z"
   },
   {
    "duration": 18,
    "start_time": "2022-03-10T09:00:42.639Z"
   },
   {
    "duration": 24,
    "start_time": "2022-03-10T09:00:42.659Z"
   },
   {
    "duration": 65,
    "start_time": "2022-03-10T09:00:42.701Z"
   },
   {
    "duration": 36,
    "start_time": "2022-03-10T09:03:05.606Z"
   },
   {
    "duration": 33,
    "start_time": "2022-03-10T09:03:11.342Z"
   },
   {
    "duration": 66,
    "start_time": "2022-03-10T09:03:20.741Z"
   },
   {
    "duration": 14,
    "start_time": "2022-03-10T09:03:20.808Z"
   },
   {
    "duration": 8,
    "start_time": "2022-03-10T09:03:20.824Z"
   },
   {
    "duration": 19,
    "start_time": "2022-03-10T09:03:20.833Z"
   },
   {
    "duration": 17,
    "start_time": "2022-03-10T09:03:20.948Z"
   },
   {
    "duration": 34,
    "start_time": "2022-03-10T09:03:20.967Z"
   },
   {
    "duration": 36,
    "start_time": "2022-03-10T09:03:21.003Z"
   },
   {
    "duration": 15,
    "start_time": "2022-03-10T09:03:21.041Z"
   },
   {
    "duration": 49,
    "start_time": "2022-03-10T09:03:21.057Z"
   },
   {
    "duration": 21,
    "start_time": "2022-03-10T09:03:21.159Z"
   },
   {
    "duration": 62,
    "start_time": "2022-03-10T09:03:21.182Z"
   },
   {
    "duration": 40,
    "start_time": "2022-03-10T09:03:36.919Z"
   },
   {
    "duration": 38,
    "start_time": "2022-03-10T09:05:40.182Z"
   },
   {
    "duration": 67,
    "start_time": "2022-03-10T09:05:46.306Z"
   },
   {
    "duration": 13,
    "start_time": "2022-03-10T09:05:46.375Z"
   },
   {
    "duration": 7,
    "start_time": "2022-03-10T09:05:46.390Z"
   },
   {
    "duration": 20,
    "start_time": "2022-03-10T09:05:46.399Z"
   },
   {
    "duration": 17,
    "start_time": "2022-03-10T09:05:46.459Z"
   },
   {
    "duration": 40,
    "start_time": "2022-03-10T09:05:46.478Z"
   },
   {
    "duration": 38,
    "start_time": "2022-03-10T09:05:46.519Z"
   },
   {
    "duration": 15,
    "start_time": "2022-03-10T09:05:46.559Z"
   },
   {
    "duration": 19,
    "start_time": "2022-03-10T09:05:46.602Z"
   },
   {
    "duration": 23,
    "start_time": "2022-03-10T09:05:46.623Z"
   },
   {
    "duration": 98,
    "start_time": "2022-03-10T09:05:46.647Z"
   },
   {
    "duration": 67,
    "start_time": "2022-03-10T09:06:29.540Z"
   },
   {
    "duration": 12,
    "start_time": "2022-03-10T09:06:29.609Z"
   },
   {
    "duration": 7,
    "start_time": "2022-03-10T09:06:29.623Z"
   },
   {
    "duration": 19,
    "start_time": "2022-03-10T09:06:29.631Z"
   },
   {
    "duration": 17,
    "start_time": "2022-03-10T09:06:29.656Z"
   },
   {
    "duration": 60,
    "start_time": "2022-03-10T09:06:29.675Z"
   },
   {
    "duration": 35,
    "start_time": "2022-03-10T09:06:29.737Z"
   },
   {
    "duration": 14,
    "start_time": "2022-03-10T09:06:29.802Z"
   },
   {
    "duration": 21,
    "start_time": "2022-03-10T09:06:29.818Z"
   },
   {
    "duration": 19,
    "start_time": "2022-03-10T09:06:29.840Z"
   },
   {
    "duration": 82,
    "start_time": "2022-03-10T09:06:29.861Z"
   },
   {
    "duration": 55,
    "start_time": "2022-03-10T09:19:54.396Z"
   },
   {
    "duration": 13,
    "start_time": "2022-03-10T09:19:54.452Z"
   },
   {
    "duration": 9,
    "start_time": "2022-03-10T09:19:54.467Z"
   },
   {
    "duration": 35,
    "start_time": "2022-03-10T09:19:54.478Z"
   },
   {
    "duration": 15,
    "start_time": "2022-03-10T09:19:54.514Z"
   },
   {
    "duration": 34,
    "start_time": "2022-03-10T09:19:54.560Z"
   },
   {
    "duration": 38,
    "start_time": "2022-03-10T09:19:54.596Z"
   },
   {
    "duration": 16,
    "start_time": "2022-03-10T09:19:54.636Z"
   },
   {
    "duration": 21,
    "start_time": "2022-03-10T09:19:54.654Z"
   },
   {
    "duration": 20,
    "start_time": "2022-03-10T09:19:54.701Z"
   },
   {
    "duration": 80,
    "start_time": "2022-03-10T09:19:54.722Z"
   },
   {
    "duration": 67,
    "start_time": "2022-03-10T09:37:12.942Z"
   },
   {
    "duration": 12,
    "start_time": "2022-03-10T09:37:13.010Z"
   },
   {
    "duration": 8,
    "start_time": "2022-03-10T09:37:13.024Z"
   },
   {
    "duration": 18,
    "start_time": "2022-03-10T09:37:13.034Z"
   },
   {
    "duration": 17,
    "start_time": "2022-03-10T09:37:13.054Z"
   },
   {
    "duration": 35,
    "start_time": "2022-03-10T09:37:13.101Z"
   },
   {
    "duration": 36,
    "start_time": "2022-03-10T09:37:13.138Z"
   },
   {
    "duration": 39,
    "start_time": "2022-03-10T09:37:13.175Z"
   },
   {
    "duration": 18,
    "start_time": "2022-03-10T09:37:13.215Z"
   },
   {
    "duration": 21,
    "start_time": "2022-03-10T09:37:13.235Z"
   },
   {
    "duration": 87,
    "start_time": "2022-03-10T09:37:13.257Z"
   },
   {
    "duration": 34,
    "start_time": "2022-03-10T09:38:26.476Z"
   },
   {
    "duration": 54,
    "start_time": "2022-03-10T09:38:37.038Z"
   },
   {
    "duration": 12,
    "start_time": "2022-03-10T09:38:37.094Z"
   },
   {
    "duration": 8,
    "start_time": "2022-03-10T09:38:37.108Z"
   },
   {
    "duration": 17,
    "start_time": "2022-03-10T09:38:37.117Z"
   },
   {
    "duration": 15,
    "start_time": "2022-03-10T09:38:37.136Z"
   },
   {
    "duration": 60,
    "start_time": "2022-03-10T09:38:37.152Z"
   },
   {
    "duration": 36,
    "start_time": "2022-03-10T09:38:37.214Z"
   },
   {
    "duration": 13,
    "start_time": "2022-03-10T09:38:37.252Z"
   },
   {
    "duration": 47,
    "start_time": "2022-03-10T09:38:37.267Z"
   },
   {
    "duration": 19,
    "start_time": "2022-03-10T09:38:37.315Z"
   },
   {
    "duration": 84,
    "start_time": "2022-03-10T09:38:37.335Z"
   },
   {
    "duration": 9130,
    "start_time": "2022-03-10T10:11:44.713Z"
   },
   {
    "duration": 7420,
    "start_time": "2022-03-10T10:12:59.840Z"
   },
   {
    "duration": 7390,
    "start_time": "2022-03-10T10:13:21.016Z"
   },
   {
    "duration": 57,
    "start_time": "2022-03-10T10:13:34.723Z"
   },
   {
    "duration": 13,
    "start_time": "2022-03-10T10:13:34.781Z"
   },
   {
    "duration": 8,
    "start_time": "2022-03-10T10:13:34.797Z"
   },
   {
    "duration": 21,
    "start_time": "2022-03-10T10:13:34.807Z"
   },
   {
    "duration": 18,
    "start_time": "2022-03-10T10:13:34.830Z"
   },
   {
    "duration": 66,
    "start_time": "2022-03-10T10:13:34.850Z"
   },
   {
    "duration": 20,
    "start_time": "2022-03-10T10:13:34.918Z"
   },
   {
    "duration": 18,
    "start_time": "2022-03-10T10:13:34.940Z"
   },
   {
    "duration": 50,
    "start_time": "2022-03-10T10:13:34.959Z"
   },
   {
    "duration": 20,
    "start_time": "2022-03-10T10:13:35.011Z"
   },
   {
    "duration": 22,
    "start_time": "2022-03-10T10:13:35.033Z"
   },
   {
    "duration": 93,
    "start_time": "2022-03-10T10:13:35.057Z"
   },
   {
    "duration": 7565,
    "start_time": "2022-03-10T10:17:16.919Z"
   },
   {
    "duration": 55,
    "start_time": "2022-03-10T10:17:28.836Z"
   },
   {
    "duration": 14,
    "start_time": "2022-03-10T10:17:28.893Z"
   },
   {
    "duration": 8,
    "start_time": "2022-03-10T10:17:28.909Z"
   },
   {
    "duration": 17,
    "start_time": "2022-03-10T10:17:28.919Z"
   },
   {
    "duration": 15,
    "start_time": "2022-03-10T10:17:28.938Z"
   },
   {
    "duration": 60,
    "start_time": "2022-03-10T10:17:28.955Z"
   },
   {
    "duration": 18,
    "start_time": "2022-03-10T10:17:29.017Z"
   },
   {
    "duration": 12,
    "start_time": "2022-03-10T10:17:29.037Z"
   },
   {
    "duration": 16,
    "start_time": "2022-03-10T10:17:29.050Z"
   },
   {
    "duration": 47,
    "start_time": "2022-03-10T10:17:29.067Z"
   },
   {
    "duration": 19,
    "start_time": "2022-03-10T10:17:29.115Z"
   },
   {
    "duration": 80,
    "start_time": "2022-03-10T10:17:29.136Z"
   },
   {
    "duration": 112,
    "start_time": "2022-03-10T10:22:35.630Z"
   },
   {
    "duration": 6,
    "start_time": "2022-03-10T10:23:09.778Z"
   },
   {
    "duration": 119,
    "start_time": "2022-03-10T10:26:51.322Z"
   },
   {
    "duration": 1899,
    "start_time": "2022-03-10T10:35:58.511Z"
   },
   {
    "duration": 5,
    "start_time": "2022-03-10T10:36:15.506Z"
   },
   {
    "duration": 4,
    "start_time": "2022-03-10T10:36:23.347Z"
   },
   {
    "duration": 6,
    "start_time": "2022-03-10T10:36:37.385Z"
   },
   {
    "duration": 6,
    "start_time": "2022-03-10T10:37:05.259Z"
   },
   {
    "duration": 286,
    "start_time": "2022-03-10T10:45:02.650Z"
   },
   {
    "duration": 56,
    "start_time": "2022-03-10T10:45:10.806Z"
   },
   {
    "duration": 17,
    "start_time": "2022-03-10T10:45:10.863Z"
   },
   {
    "duration": 21,
    "start_time": "2022-03-10T10:45:10.882Z"
   },
   {
    "duration": 19,
    "start_time": "2022-03-10T10:45:10.904Z"
   },
   {
    "duration": 16,
    "start_time": "2022-03-10T10:45:10.925Z"
   },
   {
    "duration": 60,
    "start_time": "2022-03-10T10:45:10.943Z"
   },
   {
    "duration": 22,
    "start_time": "2022-03-10T10:45:11.005Z"
   },
   {
    "duration": 19,
    "start_time": "2022-03-10T10:45:11.029Z"
   },
   {
    "duration": 8,
    "start_time": "2022-03-10T10:45:11.050Z"
   },
   {
    "duration": 43,
    "start_time": "2022-03-10T10:45:11.059Z"
   },
   {
    "duration": 295,
    "start_time": "2022-03-10T10:45:11.104Z"
   },
   {
    "duration": 209,
    "start_time": "2022-03-10T10:45:11.191Z"
   },
   {
    "duration": 203,
    "start_time": "2022-03-10T10:45:11.199Z"
   },
   {
    "duration": 200,
    "start_time": "2022-03-10T10:45:11.202Z"
   },
   {
    "duration": 198,
    "start_time": "2022-03-10T10:45:11.206Z"
   },
   {
    "duration": 17,
    "start_time": "2022-03-10T10:45:32.916Z"
   },
   {
    "duration": 16,
    "start_time": "2022-03-10T10:47:29.033Z"
   },
   {
    "duration": 7,
    "start_time": "2022-03-10T10:48:12.295Z"
   },
   {
    "duration": 5,
    "start_time": "2022-03-10T10:48:36.311Z"
   },
   {
    "duration": 17,
    "start_time": "2022-03-10T10:49:35.530Z"
   },
   {
    "duration": 16,
    "start_time": "2022-03-10T10:51:17.503Z"
   },
   {
    "duration": 66,
    "start_time": "2022-03-10T10:51:51.583Z"
   },
   {
    "duration": 13,
    "start_time": "2022-03-10T10:51:51.651Z"
   },
   {
    "duration": 8,
    "start_time": "2022-03-10T10:51:51.665Z"
   },
   {
    "duration": 40,
    "start_time": "2022-03-10T10:51:51.675Z"
   },
   {
    "duration": 18,
    "start_time": "2022-03-10T10:51:51.717Z"
   },
   {
    "duration": 34,
    "start_time": "2022-03-10T10:51:51.736Z"
   },
   {
    "duration": 40,
    "start_time": "2022-03-10T10:51:51.771Z"
   },
   {
    "duration": 13,
    "start_time": "2022-03-10T10:51:51.814Z"
   },
   {
    "duration": 8,
    "start_time": "2022-03-10T10:51:51.828Z"
   },
   {
    "duration": 6,
    "start_time": "2022-03-10T10:51:51.838Z"
   },
   {
    "duration": 16,
    "start_time": "2022-03-10T10:51:51.845Z"
   },
   {
    "duration": 52,
    "start_time": "2022-03-10T10:51:51.863Z"
   },
   {
    "duration": 19,
    "start_time": "2022-03-10T10:51:51.917Z"
   },
   {
    "duration": 1412,
    "start_time": "2022-03-10T10:51:51.938Z"
   },
   {
    "duration": 802,
    "start_time": "2022-03-10T10:51:52.550Z"
   },
   {
    "duration": 313,
    "start_time": "2022-03-10T10:58:20.314Z"
   },
   {
    "duration": 377,
    "start_time": "2022-03-10T10:59:24.818Z"
   },
   {
    "duration": 497,
    "start_time": "2022-03-10T11:01:11.493Z"
   },
   {
    "duration": 307,
    "start_time": "2022-03-10T11:04:16.854Z"
   },
   {
    "duration": 53,
    "start_time": "2022-03-10T11:04:25.089Z"
   },
   {
    "duration": 13,
    "start_time": "2022-03-10T11:04:25.144Z"
   },
   {
    "duration": 8,
    "start_time": "2022-03-10T11:04:25.158Z"
   },
   {
    "duration": 42,
    "start_time": "2022-03-10T11:04:25.168Z"
   },
   {
    "duration": 15,
    "start_time": "2022-03-10T11:04:25.211Z"
   },
   {
    "duration": 35,
    "start_time": "2022-03-10T11:04:25.227Z"
   },
   {
    "duration": 44,
    "start_time": "2022-03-10T11:04:25.264Z"
   },
   {
    "duration": 12,
    "start_time": "2022-03-10T11:04:25.310Z"
   },
   {
    "duration": 6,
    "start_time": "2022-03-10T11:04:25.324Z"
   },
   {
    "duration": 5,
    "start_time": "2022-03-10T11:04:25.332Z"
   },
   {
    "duration": 16,
    "start_time": "2022-03-10T11:04:25.339Z"
   },
   {
    "duration": 7,
    "start_time": "2022-03-10T11:04:25.357Z"
   },
   {
    "duration": 37,
    "start_time": "2022-03-10T11:04:25.366Z"
   },
   {
    "duration": 11,
    "start_time": "2022-03-10T11:04:25.404Z"
   },
   {
    "duration": 18,
    "start_time": "2022-03-10T11:04:25.416Z"
   },
   {
    "duration": 1375,
    "start_time": "2022-03-10T11:04:25.435Z"
   },
   {
    "duration": 864,
    "start_time": "2022-03-10T11:04:25.947Z"
   },
   {
    "duration": 93,
    "start_time": "2022-03-10T11:16:39.913Z"
   },
   {
    "duration": 53,
    "start_time": "2022-03-10T11:16:44.841Z"
   },
   {
    "duration": 13,
    "start_time": "2022-03-10T11:16:44.896Z"
   },
   {
    "duration": 8,
    "start_time": "2022-03-10T11:16:44.912Z"
   },
   {
    "duration": 19,
    "start_time": "2022-03-10T11:16:44.922Z"
   },
   {
    "duration": 17,
    "start_time": "2022-03-10T11:16:44.943Z"
   },
   {
    "duration": 73,
    "start_time": "2022-03-10T11:16:44.961Z"
   },
   {
    "duration": 16,
    "start_time": "2022-03-10T11:16:45.036Z"
   },
   {
    "duration": 12,
    "start_time": "2022-03-10T11:16:45.054Z"
   },
   {
    "duration": 8,
    "start_time": "2022-03-10T11:16:45.067Z"
   },
   {
    "duration": 5,
    "start_time": "2022-03-10T11:16:45.101Z"
   },
   {
    "duration": 17,
    "start_time": "2022-03-10T11:16:45.107Z"
   },
   {
    "duration": 10,
    "start_time": "2022-03-10T11:16:45.125Z"
   },
   {
    "duration": 129,
    "start_time": "2022-03-10T11:16:45.136Z"
   },
   {
    "duration": 727,
    "start_time": "2022-03-10T11:16:44.540Z"
   },
   {
    "duration": 724,
    "start_time": "2022-03-10T11:16:44.543Z"
   },
   {
    "duration": 724,
    "start_time": "2022-03-10T11:16:44.545Z"
   },
   {
    "duration": 678,
    "start_time": "2022-03-10T11:16:44.592Z"
   },
   {
    "duration": 55,
    "start_time": "2022-03-10T11:18:09.561Z"
   },
   {
    "duration": 12,
    "start_time": "2022-03-10T11:18:09.618Z"
   },
   {
    "duration": 33,
    "start_time": "2022-03-10T11:18:09.632Z"
   },
   {
    "duration": 31,
    "start_time": "2022-03-10T11:18:09.666Z"
   },
   {
    "duration": 14,
    "start_time": "2022-03-10T11:18:09.699Z"
   },
   {
    "duration": 50,
    "start_time": "2022-03-10T11:18:09.715Z"
   },
   {
    "duration": 14,
    "start_time": "2022-03-10T11:18:09.767Z"
   },
   {
    "duration": 23,
    "start_time": "2022-03-10T11:18:09.783Z"
   },
   {
    "duration": 20,
    "start_time": "2022-03-10T11:18:09.808Z"
   },
   {
    "duration": 26,
    "start_time": "2022-03-10T11:18:09.829Z"
   },
   {
    "duration": 23,
    "start_time": "2022-03-10T11:18:09.857Z"
   },
   {
    "duration": 20,
    "start_time": "2022-03-10T11:18:09.881Z"
   },
   {
    "duration": 24,
    "start_time": "2022-03-10T11:18:09.902Z"
   },
   {
    "duration": 28,
    "start_time": "2022-03-10T11:18:09.927Z"
   },
   {
    "duration": 38,
    "start_time": "2022-03-10T11:18:09.956Z"
   },
   {
    "duration": 1422,
    "start_time": "2022-03-10T11:18:09.995Z"
   },
   {
    "duration": 571,
    "start_time": "2022-03-10T11:18:10.847Z"
   },
   {
    "duration": 57,
    "start_time": "2022-03-10T11:21:22.602Z"
   },
   {
    "duration": 15,
    "start_time": "2022-03-10T11:21:22.661Z"
   },
   {
    "duration": 24,
    "start_time": "2022-03-10T11:21:22.678Z"
   },
   {
    "duration": 18,
    "start_time": "2022-03-10T11:21:22.704Z"
   },
   {
    "duration": 15,
    "start_time": "2022-03-10T11:21:22.724Z"
   },
   {
    "duration": 60,
    "start_time": "2022-03-10T11:21:22.741Z"
   },
   {
    "duration": 15,
    "start_time": "2022-03-10T11:21:22.803Z"
   },
   {
    "duration": 13,
    "start_time": "2022-03-10T11:21:22.820Z"
   },
   {
    "duration": 6,
    "start_time": "2022-03-10T11:21:22.835Z"
   },
   {
    "duration": 6,
    "start_time": "2022-03-10T11:21:22.842Z"
   },
   {
    "duration": 108,
    "start_time": "2022-03-10T11:21:22.849Z"
   },
   {
    "duration": 561,
    "start_time": "2022-03-10T11:21:22.397Z"
   },
   {
    "duration": 558,
    "start_time": "2022-03-10T11:21:22.401Z"
   },
   {
    "duration": 553,
    "start_time": "2022-03-10T11:21:22.407Z"
   },
   {
    "duration": 548,
    "start_time": "2022-03-10T11:21:22.413Z"
   },
   {
    "duration": 543,
    "start_time": "2022-03-10T11:21:22.418Z"
   },
   {
    "duration": 540,
    "start_time": "2022-03-10T11:21:22.422Z"
   },
   {
    "duration": 614,
    "start_time": "2022-03-10T14:37:18.510Z"
   },
   {
    "duration": 11,
    "start_time": "2022-03-10T14:37:19.126Z"
   },
   {
    "duration": 20,
    "start_time": "2022-03-10T14:37:19.139Z"
   },
   {
    "duration": 34,
    "start_time": "2022-03-10T14:37:19.160Z"
   },
   {
    "duration": 18,
    "start_time": "2022-03-10T14:37:19.195Z"
   },
   {
    "duration": 40,
    "start_time": "2022-03-10T14:37:19.214Z"
   },
   {
    "duration": 15,
    "start_time": "2022-03-10T14:37:19.255Z"
   },
   {
    "duration": 12,
    "start_time": "2022-03-10T14:37:19.272Z"
   },
   {
    "duration": 22,
    "start_time": "2022-03-10T14:37:19.285Z"
   },
   {
    "duration": 6,
    "start_time": "2022-03-10T14:37:19.308Z"
   },
   {
    "duration": 18,
    "start_time": "2022-03-10T14:37:19.315Z"
   },
   {
    "duration": 23,
    "start_time": "2022-03-10T14:37:19.334Z"
   },
   {
    "duration": 8,
    "start_time": "2022-03-10T14:37:19.359Z"
   },
   {
    "duration": 19,
    "start_time": "2022-03-10T14:37:19.369Z"
   },
   {
    "duration": 35,
    "start_time": "2022-03-10T14:37:19.390Z"
   },
   {
    "duration": 18,
    "start_time": "2022-03-10T14:37:19.426Z"
   },
   {
    "duration": 67,
    "start_time": "2022-03-10T14:37:19.445Z"
   },
   {
    "duration": 18,
    "start_time": "2022-03-10T15:11:59.861Z"
   },
   {
    "duration": 16,
    "start_time": "2022-03-10T15:27:35.044Z"
   },
   {
    "duration": 19,
    "start_time": "2022-03-10T15:28:00.673Z"
   },
   {
    "duration": 2,
    "start_time": "2022-03-10T15:34:52.303Z"
   },
   {
    "duration": 20,
    "start_time": "2022-03-10T15:48:28.040Z"
   },
   {
    "duration": 19,
    "start_time": "2022-03-10T15:50:22.324Z"
   },
   {
    "duration": 17,
    "start_time": "2022-03-10T15:52:16.317Z"
   },
   {
    "duration": 17,
    "start_time": "2022-03-10T15:52:26.782Z"
   },
   {
    "duration": 22,
    "start_time": "2022-03-10T15:53:10.174Z"
   },
   {
    "duration": 22,
    "start_time": "2022-03-10T15:55:13.200Z"
   },
   {
    "duration": 21,
    "start_time": "2022-03-10T15:55:31.274Z"
   },
   {
    "duration": 20,
    "start_time": "2022-03-10T15:59:32.039Z"
   },
   {
    "duration": 23,
    "start_time": "2022-03-10T16:03:12.247Z"
   },
   {
    "duration": 20,
    "start_time": "2022-03-10T16:05:49.466Z"
   },
   {
    "duration": 53,
    "start_time": "2022-03-10T16:46:42.478Z"
   },
   {
    "duration": 13,
    "start_time": "2022-03-10T16:46:42.533Z"
   },
   {
    "duration": 8,
    "start_time": "2022-03-10T16:46:42.586Z"
   },
   {
    "duration": 17,
    "start_time": "2022-03-10T16:46:42.597Z"
   },
   {
    "duration": 22,
    "start_time": "2022-03-10T16:46:42.706Z"
   },
   {
    "duration": 52,
    "start_time": "2022-03-10T16:46:42.730Z"
   },
   {
    "duration": 37,
    "start_time": "2022-03-10T16:46:42.784Z"
   },
   {
    "duration": 14,
    "start_time": "2022-03-10T16:46:42.823Z"
   },
   {
    "duration": 7,
    "start_time": "2022-03-10T16:46:42.838Z"
   },
   {
    "duration": 6,
    "start_time": "2022-03-10T16:46:42.847Z"
   },
   {
    "duration": 8,
    "start_time": "2022-03-10T16:46:42.854Z"
   },
   {
    "duration": 10,
    "start_time": "2022-03-10T16:46:42.905Z"
   },
   {
    "duration": 9,
    "start_time": "2022-03-10T16:46:42.916Z"
   },
   {
    "duration": 11,
    "start_time": "2022-03-10T16:46:42.927Z"
   },
   {
    "duration": 18,
    "start_time": "2022-03-10T16:46:42.945Z"
   },
   {
    "duration": 44,
    "start_time": "2022-03-10T16:46:42.964Z"
   },
   {
    "duration": 25,
    "start_time": "2022-03-10T16:46:43.010Z"
   },
   {
    "duration": 27,
    "start_time": "2022-03-10T16:46:43.037Z"
   },
   {
    "duration": 27,
    "start_time": "2022-03-10T16:46:43.126Z"
   },
   {
    "duration": 24,
    "start_time": "2022-03-10T16:46:43.155Z"
   },
   {
    "duration": 546,
    "start_time": "2022-03-10T16:53:19.384Z"
   },
   {
    "duration": 529,
    "start_time": "2022-03-10T16:53:19.402Z"
   },
   {
    "duration": 520,
    "start_time": "2022-03-10T16:53:19.411Z"
   },
   {
    "duration": 452,
    "start_time": "2022-03-10T16:53:19.480Z"
   },
   {
    "duration": 446,
    "start_time": "2022-03-10T16:53:19.487Z"
   },
   {
    "duration": 442,
    "start_time": "2022-03-10T16:53:19.492Z"
   },
   {
    "duration": 437,
    "start_time": "2022-03-10T16:53:19.498Z"
   },
   {
    "duration": 434,
    "start_time": "2022-03-10T16:53:19.502Z"
   },
   {
    "duration": 425,
    "start_time": "2022-03-10T16:53:19.512Z"
   },
   {
    "duration": 419,
    "start_time": "2022-03-10T16:53:19.520Z"
   },
   {
    "duration": 362,
    "start_time": "2022-03-10T16:53:19.578Z"
   },
   {
    "duration": 357,
    "start_time": "2022-03-10T16:53:19.583Z"
   },
   {
    "duration": 353,
    "start_time": "2022-03-10T16:53:19.589Z"
   },
   {
    "duration": 349,
    "start_time": "2022-03-10T16:53:19.593Z"
   },
   {
    "duration": 345,
    "start_time": "2022-03-10T16:53:19.598Z"
   },
   {
    "duration": 337,
    "start_time": "2022-03-10T16:53:19.607Z"
   },
   {
    "duration": 335,
    "start_time": "2022-03-10T16:53:19.610Z"
   },
   {
    "duration": 311,
    "start_time": "2022-03-10T16:53:19.635Z"
   },
   {
    "duration": 309,
    "start_time": "2022-03-10T16:53:19.638Z"
   },
   {
    "duration": 272,
    "start_time": "2022-03-10T16:53:19.676Z"
   },
   {
    "duration": 7425,
    "start_time": "2022-03-10T16:53:33.729Z"
   },
   {
    "duration": 83,
    "start_time": "2022-03-10T16:53:47.950Z"
   },
   {
    "duration": 18,
    "start_time": "2022-03-10T16:53:48.035Z"
   },
   {
    "duration": 9,
    "start_time": "2022-03-10T16:53:48.055Z"
   },
   {
    "duration": 43,
    "start_time": "2022-03-10T16:53:48.066Z"
   },
   {
    "duration": 22,
    "start_time": "2022-03-10T16:53:48.111Z"
   },
   {
    "duration": 51,
    "start_time": "2022-03-10T16:53:48.134Z"
   },
   {
    "duration": 21,
    "start_time": "2022-03-10T16:53:48.205Z"
   },
   {
    "duration": 21,
    "start_time": "2022-03-10T16:53:48.228Z"
   },
   {
    "duration": 6,
    "start_time": "2022-03-10T16:53:48.251Z"
   },
   {
    "duration": 8,
    "start_time": "2022-03-10T16:53:48.258Z"
   },
   {
    "duration": 42,
    "start_time": "2022-03-10T16:53:48.267Z"
   },
   {
    "duration": 11,
    "start_time": "2022-03-10T16:53:48.310Z"
   },
   {
    "duration": 10,
    "start_time": "2022-03-10T16:53:48.322Z"
   },
   {
    "duration": 12,
    "start_time": "2022-03-10T16:53:48.333Z"
   },
   {
    "duration": 20,
    "start_time": "2022-03-10T16:53:48.347Z"
   },
   {
    "duration": 37,
    "start_time": "2022-03-10T16:53:48.369Z"
   },
   {
    "duration": 21,
    "start_time": "2022-03-10T16:53:48.408Z"
   },
   {
    "duration": 20,
    "start_time": "2022-03-10T16:53:48.430Z"
   },
   {
    "duration": 17,
    "start_time": "2022-03-10T16:53:48.451Z"
   },
   {
    "duration": 45,
    "start_time": "2022-03-10T16:53:48.469Z"
   },
   {
    "duration": 8,
    "start_time": "2022-03-10T16:55:29.550Z"
   },
   {
    "duration": 33,
    "start_time": "2022-03-10T16:59:58.368Z"
   },
   {
    "duration": 7303,
    "start_time": "2022-03-10T17:01:36.131Z"
   },
   {
    "duration": 59,
    "start_time": "2022-03-10T17:01:50.954Z"
   },
   {
    "duration": 15,
    "start_time": "2022-03-10T17:01:51.015Z"
   },
   {
    "duration": 9,
    "start_time": "2022-03-10T17:01:51.032Z"
   },
   {
    "duration": 20,
    "start_time": "2022-03-10T17:01:51.043Z"
   },
   {
    "duration": 48,
    "start_time": "2022-03-10T17:01:51.065Z"
   },
   {
    "duration": 40,
    "start_time": "2022-03-10T17:01:51.115Z"
   },
   {
    "duration": 16,
    "start_time": "2022-03-10T17:01:51.157Z"
   },
   {
    "duration": 14,
    "start_time": "2022-03-10T17:01:51.205Z"
   },
   {
    "duration": 8,
    "start_time": "2022-03-10T17:01:51.220Z"
   },
   {
    "duration": 8,
    "start_time": "2022-03-10T17:01:51.229Z"
   },
   {
    "duration": 8,
    "start_time": "2022-03-10T17:01:51.238Z"
   },
   {
    "duration": 10,
    "start_time": "2022-03-10T17:01:51.248Z"
   },
   {
    "duration": 50,
    "start_time": "2022-03-10T17:01:51.260Z"
   },
   {
    "duration": 11,
    "start_time": "2022-03-10T17:01:51.312Z"
   },
   {
    "duration": 20,
    "start_time": "2022-03-10T17:01:51.325Z"
   },
   {
    "duration": 20,
    "start_time": "2022-03-10T17:01:51.347Z"
   },
   {
    "duration": 50,
    "start_time": "2022-03-10T17:01:51.369Z"
   },
   {
    "duration": 20,
    "start_time": "2022-03-10T17:01:51.420Z"
   },
   {
    "duration": 19,
    "start_time": "2022-03-10T17:01:51.442Z"
   },
   {
    "duration": 49,
    "start_time": "2022-03-10T17:01:51.462Z"
   },
   {
    "duration": 7442,
    "start_time": "2022-03-10T17:02:53.812Z"
   },
   {
    "duration": 325,
    "start_time": "2022-03-10T17:08:20.324Z"
   },
   {
    "duration": 66,
    "start_time": "2022-03-10T17:16:31.799Z"
   },
   {
    "duration": 13,
    "start_time": "2022-03-10T17:16:31.867Z"
   },
   {
    "duration": 7,
    "start_time": "2022-03-10T17:16:31.882Z"
   },
   {
    "duration": 18,
    "start_time": "2022-03-10T17:16:31.891Z"
   },
   {
    "duration": 14,
    "start_time": "2022-03-10T17:16:31.911Z"
   },
   {
    "duration": 38,
    "start_time": "2022-03-10T17:16:31.926Z"
   },
   {
    "duration": 42,
    "start_time": "2022-03-10T17:16:31.965Z"
   },
   {
    "duration": 11,
    "start_time": "2022-03-10T17:16:32.009Z"
   },
   {
    "duration": 7,
    "start_time": "2022-03-10T17:16:32.022Z"
   },
   {
    "duration": 6,
    "start_time": "2022-03-10T17:16:32.030Z"
   },
   {
    "duration": 7,
    "start_time": "2022-03-10T17:16:32.038Z"
   },
   {
    "duration": 9,
    "start_time": "2022-03-10T17:16:32.047Z"
   },
   {
    "duration": 9,
    "start_time": "2022-03-10T17:16:32.057Z"
   },
   {
    "duration": 44,
    "start_time": "2022-03-10T17:16:32.068Z"
   },
   {
    "duration": 19,
    "start_time": "2022-03-10T17:16:32.113Z"
   },
   {
    "duration": 17,
    "start_time": "2022-03-10T17:16:32.133Z"
   },
   {
    "duration": 19,
    "start_time": "2022-03-10T17:16:32.151Z"
   },
   {
    "duration": 38,
    "start_time": "2022-03-10T17:16:32.171Z"
   },
   {
    "duration": 19,
    "start_time": "2022-03-10T17:16:32.210Z"
   },
   {
    "duration": 18,
    "start_time": "2022-03-10T17:16:32.230Z"
   },
   {
    "duration": 14,
    "start_time": "2022-03-19T15:49:52.608Z"
   },
   {
    "duration": 4,
    "start_time": "2022-03-19T15:50:10.635Z"
   },
   {
    "duration": 70,
    "start_time": "2022-03-20T11:25:21.254Z"
   },
   {
    "duration": 64,
    "start_time": "2022-03-20T11:30:09.944Z"
   },
   {
    "duration": 477,
    "start_time": "2022-03-20T11:34:52.125Z"
   },
   {
    "duration": 5,
    "start_time": "2022-03-20T11:34:52.604Z"
   },
   {
    "duration": 0,
    "start_time": "2022-03-20T11:34:52.612Z"
   },
   {
    "duration": 0,
    "start_time": "2022-03-20T11:34:52.613Z"
   },
   {
    "duration": 0,
    "start_time": "2022-03-20T11:34:52.614Z"
   },
   {
    "duration": 0,
    "start_time": "2022-03-20T11:34:52.616Z"
   },
   {
    "duration": 0,
    "start_time": "2022-03-20T11:34:52.617Z"
   },
   {
    "duration": 0,
    "start_time": "2022-03-20T11:34:52.618Z"
   },
   {
    "duration": 0,
    "start_time": "2022-03-20T11:34:52.619Z"
   },
   {
    "duration": 0,
    "start_time": "2022-03-20T11:34:52.621Z"
   },
   {
    "duration": 0,
    "start_time": "2022-03-20T11:34:52.622Z"
   },
   {
    "duration": 0,
    "start_time": "2022-03-20T11:34:52.623Z"
   },
   {
    "duration": 0,
    "start_time": "2022-03-20T11:34:52.624Z"
   },
   {
    "duration": 0,
    "start_time": "2022-03-20T11:34:52.626Z"
   },
   {
    "duration": 0,
    "start_time": "2022-03-20T11:34:52.627Z"
   },
   {
    "duration": 0,
    "start_time": "2022-03-20T11:34:52.628Z"
   },
   {
    "duration": 0,
    "start_time": "2022-03-20T11:34:52.629Z"
   },
   {
    "duration": 0,
    "start_time": "2022-03-20T11:34:52.630Z"
   },
   {
    "duration": 0,
    "start_time": "2022-03-20T11:34:52.631Z"
   },
   {
    "duration": 0,
    "start_time": "2022-03-20T11:34:52.632Z"
   },
   {
    "duration": 67,
    "start_time": "2022-03-20T11:35:17.971Z"
   },
   {
    "duration": 4,
    "start_time": "2022-03-20T11:35:18.040Z"
   },
   {
    "duration": 0,
    "start_time": "2022-03-20T11:35:18.046Z"
   },
   {
    "duration": 0,
    "start_time": "2022-03-20T11:35:18.048Z"
   },
   {
    "duration": 0,
    "start_time": "2022-03-20T11:35:18.049Z"
   },
   {
    "duration": 0,
    "start_time": "2022-03-20T11:35:18.050Z"
   },
   {
    "duration": 0,
    "start_time": "2022-03-20T11:35:18.051Z"
   },
   {
    "duration": 0,
    "start_time": "2022-03-20T11:35:18.053Z"
   },
   {
    "duration": 0,
    "start_time": "2022-03-20T11:35:18.054Z"
   },
   {
    "duration": 0,
    "start_time": "2022-03-20T11:35:18.054Z"
   },
   {
    "duration": 0,
    "start_time": "2022-03-20T11:35:18.055Z"
   },
   {
    "duration": 0,
    "start_time": "2022-03-20T11:35:18.057Z"
   },
   {
    "duration": 63,
    "start_time": "2022-03-20T11:35:18.060Z"
   },
   {
    "duration": 21,
    "start_time": "2022-03-20T11:35:18.125Z"
   },
   {
    "duration": 77,
    "start_time": "2022-03-20T11:35:18.149Z"
   },
   {
    "duration": 23,
    "start_time": "2022-03-20T11:35:18.228Z"
   },
   {
    "duration": 57,
    "start_time": "2022-03-20T11:35:18.252Z"
   },
   {
    "duration": 22,
    "start_time": "2022-03-20T11:35:18.311Z"
   },
   {
    "duration": 21,
    "start_time": "2022-03-20T11:35:18.334Z"
   },
   {
    "duration": 21,
    "start_time": "2022-03-20T11:35:18.357Z"
   },
   {
    "duration": 79,
    "start_time": "2022-03-20T11:35:48.679Z"
   },
   {
    "duration": 1576,
    "start_time": "2022-03-20T11:35:48.760Z"
   },
   {
    "duration": 1,
    "start_time": "2022-03-20T11:35:50.339Z"
   },
   {
    "duration": 0,
    "start_time": "2022-03-20T11:35:50.341Z"
   },
   {
    "duration": 0,
    "start_time": "2022-03-20T11:35:50.342Z"
   },
   {
    "duration": 0,
    "start_time": "2022-03-20T11:35:50.344Z"
   },
   {
    "duration": 0,
    "start_time": "2022-03-20T11:35:50.345Z"
   },
   {
    "duration": 0,
    "start_time": "2022-03-20T11:35:50.347Z"
   },
   {
    "duration": 0,
    "start_time": "2022-03-20T11:35:50.348Z"
   },
   {
    "duration": 0,
    "start_time": "2022-03-20T11:35:50.350Z"
   },
   {
    "duration": 0,
    "start_time": "2022-03-20T11:35:50.351Z"
   },
   {
    "duration": 0,
    "start_time": "2022-03-20T11:35:50.353Z"
   },
   {
    "duration": 0,
    "start_time": "2022-03-20T11:35:50.354Z"
   },
   {
    "duration": 0,
    "start_time": "2022-03-20T11:35:50.355Z"
   },
   {
    "duration": 0,
    "start_time": "2022-03-20T11:35:50.357Z"
   },
   {
    "duration": 0,
    "start_time": "2022-03-20T11:35:50.359Z"
   },
   {
    "duration": 0,
    "start_time": "2022-03-20T11:35:50.360Z"
   },
   {
    "duration": 0,
    "start_time": "2022-03-20T11:35:50.361Z"
   },
   {
    "duration": 0,
    "start_time": "2022-03-20T11:35:50.363Z"
   },
   {
    "duration": 0,
    "start_time": "2022-03-20T11:35:50.364Z"
   },
   {
    "duration": 72,
    "start_time": "2022-03-20T11:40:39.486Z"
   },
   {
    "duration": 1254,
    "start_time": "2022-03-20T11:40:39.560Z"
   },
   {
    "duration": 0,
    "start_time": "2022-03-20T11:40:40.816Z"
   },
   {
    "duration": 0,
    "start_time": "2022-03-20T11:40:40.818Z"
   },
   {
    "duration": 0,
    "start_time": "2022-03-20T11:40:40.819Z"
   },
   {
    "duration": 0,
    "start_time": "2022-03-20T11:40:40.821Z"
   },
   {
    "duration": 0,
    "start_time": "2022-03-20T11:40:40.822Z"
   },
   {
    "duration": 0,
    "start_time": "2022-03-20T11:40:40.824Z"
   },
   {
    "duration": 0,
    "start_time": "2022-03-20T11:40:40.826Z"
   },
   {
    "duration": 0,
    "start_time": "2022-03-20T11:40:40.827Z"
   },
   {
    "duration": 0,
    "start_time": "2022-03-20T11:40:40.828Z"
   },
   {
    "duration": 0,
    "start_time": "2022-03-20T11:40:40.830Z"
   },
   {
    "duration": 0,
    "start_time": "2022-03-20T11:40:40.832Z"
   },
   {
    "duration": 0,
    "start_time": "2022-03-20T11:40:40.834Z"
   },
   {
    "duration": 0,
    "start_time": "2022-03-20T11:40:40.835Z"
   },
   {
    "duration": 0,
    "start_time": "2022-03-20T11:40:40.836Z"
   },
   {
    "duration": 0,
    "start_time": "2022-03-20T11:40:40.837Z"
   },
   {
    "duration": 0,
    "start_time": "2022-03-20T11:40:40.838Z"
   },
   {
    "duration": 0,
    "start_time": "2022-03-20T11:40:40.839Z"
   },
   {
    "duration": 0,
    "start_time": "2022-03-20T11:40:40.840Z"
   },
   {
    "duration": 7,
    "start_time": "2022-03-20T11:42:48.074Z"
   },
   {
    "duration": 72,
    "start_time": "2022-03-20T11:42:53.516Z"
   },
   {
    "duration": 19,
    "start_time": "2022-03-20T11:42:53.591Z"
   },
   {
    "duration": 1,
    "start_time": "2022-03-20T11:42:53.612Z"
   },
   {
    "duration": 0,
    "start_time": "2022-03-20T11:42:53.614Z"
   },
   {
    "duration": 0,
    "start_time": "2022-03-20T11:42:53.616Z"
   },
   {
    "duration": 0,
    "start_time": "2022-03-20T11:42:53.617Z"
   },
   {
    "duration": 0,
    "start_time": "2022-03-20T11:42:53.618Z"
   },
   {
    "duration": 0,
    "start_time": "2022-03-20T11:42:53.620Z"
   },
   {
    "duration": 0,
    "start_time": "2022-03-20T11:42:53.620Z"
   },
   {
    "duration": 0,
    "start_time": "2022-03-20T11:42:53.622Z"
   },
   {
    "duration": 0,
    "start_time": "2022-03-20T11:42:53.623Z"
   },
   {
    "duration": 0,
    "start_time": "2022-03-20T11:42:53.625Z"
   },
   {
    "duration": 0,
    "start_time": "2022-03-20T11:42:53.626Z"
   },
   {
    "duration": 0,
    "start_time": "2022-03-20T11:42:53.627Z"
   },
   {
    "duration": 0,
    "start_time": "2022-03-20T11:42:53.629Z"
   },
   {
    "duration": 82,
    "start_time": "2022-03-20T11:42:53.632Z"
   },
   {
    "duration": 24,
    "start_time": "2022-03-20T11:42:53.715Z"
   },
   {
    "duration": 20,
    "start_time": "2022-03-20T11:42:53.741Z"
   },
   {
    "duration": 54,
    "start_time": "2022-03-20T11:42:53.763Z"
   },
   {
    "duration": 0,
    "start_time": "2022-03-20T11:42:53.818Z"
   },
   {
    "duration": 12,
    "start_time": "2022-03-20T11:43:08.161Z"
   },
   {
    "duration": 1328,
    "start_time": "2022-03-20T11:45:45.802Z"
   },
   {
    "duration": 4,
    "start_time": "2022-03-20T11:48:06.209Z"
   },
   {
    "duration": 71,
    "start_time": "2022-03-20T11:48:20.762Z"
   },
   {
    "duration": 4,
    "start_time": "2022-03-20T11:49:13.123Z"
   },
   {
    "duration": 13,
    "start_time": "2022-03-20T11:50:50.021Z"
   },
   {
    "duration": 14,
    "start_time": "2022-03-20T11:51:08.222Z"
   },
   {
    "duration": 74,
    "start_time": "2022-03-20T11:55:20.783Z"
   },
   {
    "duration": 24,
    "start_time": "2022-03-20T11:56:22.424Z"
   },
   {
    "duration": 24,
    "start_time": "2022-03-20T11:56:57.254Z"
   },
   {
    "duration": 18,
    "start_time": "2022-03-20T11:57:42.094Z"
   },
   {
    "duration": 26,
    "start_time": "2022-03-20T11:59:04.170Z"
   },
   {
    "duration": 58,
    "start_time": "2022-03-20T11:59:04.198Z"
   },
   {
    "duration": 59,
    "start_time": "2022-03-20T11:59:04.257Z"
   },
   {
    "duration": 31,
    "start_time": "2022-03-20T11:59:04.318Z"
   },
   {
    "duration": 48,
    "start_time": "2022-03-20T11:59:04.351Z"
   },
   {
    "duration": 20,
    "start_time": "2022-03-20T11:59:04.401Z"
   },
   {
    "duration": 62,
    "start_time": "2022-03-20T11:59:49.171Z"
   },
   {
    "duration": 68,
    "start_time": "2022-03-20T12:00:12.002Z"
   },
   {
    "duration": 13,
    "start_time": "2022-03-20T12:00:12.072Z"
   },
   {
    "duration": 30,
    "start_time": "2022-03-20T12:00:12.087Z"
   },
   {
    "duration": 28,
    "start_time": "2022-03-20T12:00:12.119Z"
   },
   {
    "duration": 18,
    "start_time": "2022-03-20T12:00:12.149Z"
   },
   {
    "duration": 79,
    "start_time": "2022-03-20T12:00:12.169Z"
   },
   {
    "duration": 19,
    "start_time": "2022-03-20T12:00:12.250Z"
   },
   {
    "duration": 48,
    "start_time": "2022-03-20T12:00:12.271Z"
   },
   {
    "duration": 7,
    "start_time": "2022-03-20T12:00:12.321Z"
   },
   {
    "duration": 6,
    "start_time": "2022-03-20T12:00:12.331Z"
   },
   {
    "duration": 8,
    "start_time": "2022-03-20T12:00:12.338Z"
   },
   {
    "duration": 12,
    "start_time": "2022-03-20T12:00:12.347Z"
   },
   {
    "duration": 53,
    "start_time": "2022-03-20T12:00:12.361Z"
   },
   {
    "duration": 12,
    "start_time": "2022-03-20T12:00:12.416Z"
   },
   {
    "duration": 22,
    "start_time": "2022-03-20T12:00:12.430Z"
   },
   {
    "duration": 19,
    "start_time": "2022-03-20T12:00:12.453Z"
   },
   {
    "duration": 55,
    "start_time": "2022-03-20T12:00:12.474Z"
   },
   {
    "duration": 19,
    "start_time": "2022-03-20T12:00:12.531Z"
   },
   {
    "duration": 20,
    "start_time": "2022-03-20T12:00:12.552Z"
   },
   {
    "duration": 54,
    "start_time": "2022-03-20T12:00:12.574Z"
   },
   {
    "duration": 8,
    "start_time": "2022-03-20T12:26:37.214Z"
   },
   {
    "duration": 62,
    "start_time": "2022-03-20T12:44:28.867Z"
   },
   {
    "duration": 62,
    "start_time": "2022-03-20T12:48:23.188Z"
   },
   {
    "duration": 22,
    "start_time": "2022-03-20T12:48:55.591Z"
   },
   {
    "duration": 24,
    "start_time": "2022-03-20T12:49:23.101Z"
   },
   {
    "duration": 22,
    "start_time": "2022-03-20T12:49:37.953Z"
   },
   {
    "duration": 21,
    "start_time": "2022-03-20T12:49:48.827Z"
   },
   {
    "duration": 35,
    "start_time": "2022-03-20T12:54:52.713Z"
   },
   {
    "duration": 72,
    "start_time": "2022-03-20T12:57:11.343Z"
   },
   {
    "duration": 17,
    "start_time": "2022-03-20T12:57:11.418Z"
   },
   {
    "duration": 9,
    "start_time": "2022-03-20T12:57:11.436Z"
   },
   {
    "duration": 25,
    "start_time": "2022-03-20T12:57:11.447Z"
   },
   {
    "duration": 27,
    "start_time": "2022-03-20T12:57:11.509Z"
   },
   {
    "duration": 43,
    "start_time": "2022-03-20T12:57:11.538Z"
   },
   {
    "duration": 52,
    "start_time": "2022-03-20T12:57:11.583Z"
   },
   {
    "duration": 15,
    "start_time": "2022-03-20T12:57:11.637Z"
   },
   {
    "duration": 10,
    "start_time": "2022-03-20T12:57:11.653Z"
   },
   {
    "duration": 53,
    "start_time": "2022-03-20T12:57:11.665Z"
   },
   {
    "duration": 7,
    "start_time": "2022-03-20T12:57:11.721Z"
   },
   {
    "duration": 7,
    "start_time": "2022-03-20T12:57:11.729Z"
   },
   {
    "duration": 14,
    "start_time": "2022-03-20T12:57:11.737Z"
   },
   {
    "duration": 65,
    "start_time": "2022-03-20T12:57:11.753Z"
   },
   {
    "duration": 15,
    "start_time": "2022-03-20T12:57:11.821Z"
   },
   {
    "duration": 18,
    "start_time": "2022-03-20T12:57:11.838Z"
   },
   {
    "duration": 23,
    "start_time": "2022-03-20T12:57:11.858Z"
   },
   {
    "duration": 32,
    "start_time": "2022-03-20T12:57:11.916Z"
   },
   {
    "duration": 0,
    "start_time": "2022-03-20T12:57:11.949Z"
   },
   {
    "duration": 0,
    "start_time": "2022-03-20T12:57:11.951Z"
   },
   {
    "duration": 0,
    "start_time": "2022-03-20T12:57:11.952Z"
   },
   {
    "duration": 21,
    "start_time": "2022-03-20T12:58:37.693Z"
   },
   {
    "duration": 73,
    "start_time": "2022-03-20T13:00:11.439Z"
   },
   {
    "duration": 26,
    "start_time": "2022-03-20T13:02:28.810Z"
   },
   {
    "duration": 18,
    "start_time": "2022-03-20T13:03:17.669Z"
   },
   {
    "duration": 24,
    "start_time": "2022-03-20T13:03:55.306Z"
   },
   {
    "duration": 81,
    "start_time": "2022-03-20T13:03:59.564Z"
   },
   {
    "duration": 13,
    "start_time": "2022-03-20T13:03:59.646Z"
   },
   {
    "duration": 9,
    "start_time": "2022-03-20T13:03:59.661Z"
   },
   {
    "duration": 51,
    "start_time": "2022-03-20T13:03:59.672Z"
   },
   {
    "duration": 18,
    "start_time": "2022-03-20T13:03:59.726Z"
   },
   {
    "duration": 82,
    "start_time": "2022-03-20T13:03:59.746Z"
   },
   {
    "duration": 19,
    "start_time": "2022-03-20T13:03:59.830Z"
   },
   {
    "duration": 14,
    "start_time": "2022-03-20T13:03:59.850Z"
   },
   {
    "duration": 47,
    "start_time": "2022-03-20T13:03:59.866Z"
   },
   {
    "duration": 12,
    "start_time": "2022-03-20T13:03:59.916Z"
   },
   {
    "duration": 14,
    "start_time": "2022-03-20T13:03:59.929Z"
   },
   {
    "duration": 8,
    "start_time": "2022-03-20T13:03:59.945Z"
   },
   {
    "duration": 62,
    "start_time": "2022-03-20T13:03:59.955Z"
   },
   {
    "duration": 19,
    "start_time": "2022-03-20T13:04:00.018Z"
   },
   {
    "duration": 14,
    "start_time": "2022-03-20T13:04:00.040Z"
   },
   {
    "duration": 26,
    "start_time": "2022-03-20T13:04:00.056Z"
   },
   {
    "duration": 27,
    "start_time": "2022-03-20T13:04:00.111Z"
   },
   {
    "duration": 18,
    "start_time": "2022-03-20T13:04:00.139Z"
   },
   {
    "duration": 0,
    "start_time": "2022-03-20T13:04:00.159Z"
   },
   {
    "duration": 0,
    "start_time": "2022-03-20T13:04:00.160Z"
   },
   {
    "duration": 0,
    "start_time": "2022-03-20T13:04:00.162Z"
   },
   {
    "duration": 18,
    "start_time": "2022-03-20T13:04:46.982Z"
   },
   {
    "duration": 18,
    "start_time": "2022-03-20T13:05:30.451Z"
   },
   {
    "duration": 24,
    "start_time": "2022-03-20T13:10:00.980Z"
   },
   {
    "duration": 16,
    "start_time": "2022-03-20T13:19:14.981Z"
   },
   {
    "duration": 56,
    "start_time": "2022-03-20T13:20:50.626Z"
   },
   {
    "duration": 26,
    "start_time": "2022-03-20T13:21:24.360Z"
   },
   {
    "duration": 67,
    "start_time": "2022-03-20T13:25:28.814Z"
   },
   {
    "duration": 1110,
    "start_time": "2022-03-20T13:25:39.449Z"
   },
   {
    "duration": 1652,
    "start_time": "2022-03-20T13:26:04.052Z"
   },
   {
    "duration": 1083,
    "start_time": "2022-03-20T13:26:34.886Z"
   },
   {
    "duration": 23,
    "start_time": "2022-03-20T13:27:39.127Z"
   },
   {
    "duration": 1172,
    "start_time": "2022-03-20T13:28:29.683Z"
   },
   {
    "duration": 85,
    "start_time": "2022-03-20T13:29:45.021Z"
   },
   {
    "duration": 1129,
    "start_time": "2022-03-20T13:30:15.844Z"
   },
   {
    "duration": 28,
    "start_time": "2022-03-20T13:38:09.628Z"
   },
   {
    "duration": 8,
    "start_time": "2022-03-20T13:39:49.052Z"
   },
   {
    "duration": 28,
    "start_time": "2022-03-20T13:40:28.277Z"
   },
   {
    "duration": 10,
    "start_time": "2022-03-20T13:40:55.082Z"
   },
   {
    "duration": 18,
    "start_time": "2022-03-20T13:41:55.801Z"
   },
   {
    "duration": 9,
    "start_time": "2022-03-20T13:42:20.124Z"
   },
   {
    "duration": 22,
    "start_time": "2022-03-20T13:42:32.144Z"
   },
   {
    "duration": 18,
    "start_time": "2022-03-20T13:42:59.576Z"
   },
   {
    "duration": 8,
    "start_time": "2022-03-20T13:43:29.386Z"
   },
   {
    "duration": 23,
    "start_time": "2022-03-20T13:43:44.517Z"
   },
   {
    "duration": 23,
    "start_time": "2022-03-20T13:45:14.725Z"
   },
   {
    "duration": 77,
    "start_time": "2022-03-20T13:45:39.386Z"
   },
   {
    "duration": 13,
    "start_time": "2022-03-20T13:45:39.465Z"
   },
   {
    "duration": 9,
    "start_time": "2022-03-20T13:45:39.479Z"
   },
   {
    "duration": 35,
    "start_time": "2022-03-20T13:45:39.509Z"
   },
   {
    "duration": 18,
    "start_time": "2022-03-20T13:45:39.545Z"
   },
   {
    "duration": 86,
    "start_time": "2022-03-20T13:45:39.564Z"
   },
   {
    "duration": 19,
    "start_time": "2022-03-20T13:45:39.652Z"
   },
   {
    "duration": 57,
    "start_time": "2022-03-20T13:45:39.672Z"
   },
   {
    "duration": 9,
    "start_time": "2022-03-20T13:45:39.731Z"
   },
   {
    "duration": 6,
    "start_time": "2022-03-20T13:45:39.742Z"
   },
   {
    "duration": 8,
    "start_time": "2022-03-20T13:45:39.750Z"
   },
   {
    "duration": 7,
    "start_time": "2022-03-20T13:45:39.760Z"
   },
   {
    "duration": 21,
    "start_time": "2022-03-20T13:45:39.812Z"
   },
   {
    "duration": 12,
    "start_time": "2022-03-20T13:45:39.834Z"
   },
   {
    "duration": 11,
    "start_time": "2022-03-20T13:45:39.849Z"
   },
   {
    "duration": 47,
    "start_time": "2022-03-20T13:45:39.862Z"
   },
   {
    "duration": 30,
    "start_time": "2022-03-20T13:45:39.913Z"
   },
   {
    "duration": 23,
    "start_time": "2022-03-20T13:45:39.945Z"
   },
   {
    "duration": 45,
    "start_time": "2022-03-20T13:45:39.970Z"
   },
   {
    "duration": 27,
    "start_time": "2022-03-20T13:45:40.017Z"
   },
   {
    "duration": 21,
    "start_time": "2022-03-20T13:45:40.046Z"
   },
   {
    "duration": 19,
    "start_time": "2022-03-20T14:06:00.764Z"
   },
   {
    "duration": 30,
    "start_time": "2022-03-20T14:07:39.802Z"
   },
   {
    "duration": 20,
    "start_time": "2022-03-20T14:08:00.353Z"
   },
   {
    "duration": 1418,
    "start_time": "2022-03-20T14:08:37.645Z"
   },
   {
    "duration": 18,
    "start_time": "2022-03-20T14:08:58.230Z"
   },
   {
    "duration": 17,
    "start_time": "2022-03-20T14:09:15.590Z"
   },
   {
    "duration": 66,
    "start_time": "2022-03-20T14:09:50.544Z"
   },
   {
    "duration": 1375,
    "start_time": "2022-03-20T14:11:53.439Z"
   },
   {
    "duration": 1181,
    "start_time": "2022-03-20T14:12:29.274Z"
   },
   {
    "duration": 31,
    "start_time": "2022-03-20T14:13:50.321Z"
   },
   {
    "duration": 28,
    "start_time": "2022-03-20T14:14:15.274Z"
   },
   {
    "duration": 1196,
    "start_time": "2022-03-20T14:15:06.750Z"
   },
   {
    "duration": 67,
    "start_time": "2022-03-20T14:16:59.568Z"
   },
   {
    "duration": 27,
    "start_time": "2022-03-20T14:17:09.905Z"
   },
   {
    "duration": 19,
    "start_time": "2022-03-20T14:18:14.048Z"
   },
   {
    "duration": 17,
    "start_time": "2022-03-20T14:24:07.077Z"
   },
   {
    "duration": 18,
    "start_time": "2022-03-20T14:24:59.221Z"
   },
   {
    "duration": 65,
    "start_time": "2022-03-20T14:26:02.670Z"
   },
   {
    "duration": 18,
    "start_time": "2022-03-20T14:26:10.652Z"
   },
   {
    "duration": 968,
    "start_time": "2022-03-20T14:29:31.524Z"
   },
   {
    "duration": 888,
    "start_time": "2022-03-20T14:29:57.555Z"
   },
   {
    "duration": 19,
    "start_time": "2022-03-20T14:31:24.419Z"
   },
   {
    "duration": 15,
    "start_time": "2022-03-20T14:32:01.257Z"
   },
   {
    "duration": 21,
    "start_time": "2022-03-20T14:32:22.212Z"
   },
   {
    "duration": 44,
    "start_time": "2022-03-20T14:32:34.992Z"
   },
   {
    "duration": 34,
    "start_time": "2022-03-20T14:32:56.864Z"
   },
   {
    "duration": 28,
    "start_time": "2022-03-20T14:34:28.661Z"
   },
   {
    "duration": 37,
    "start_time": "2022-03-20T14:35:16.702Z"
   },
   {
    "duration": 4,
    "start_time": "2022-03-20T15:21:09.594Z"
   },
   {
    "duration": 9,
    "start_time": "2022-03-20T15:21:27.291Z"
   },
   {
    "duration": 20,
    "start_time": "2022-03-20T15:21:50.122Z"
   },
   {
    "duration": 18,
    "start_time": "2022-03-20T15:23:16.536Z"
   },
   {
    "duration": 18,
    "start_time": "2022-03-20T15:24:45.328Z"
   },
   {
    "duration": 100,
    "start_time": "2022-03-20T15:25:09.553Z"
   },
   {
    "duration": 8,
    "start_time": "2022-03-20T15:25:22.840Z"
   },
   {
    "duration": 17,
    "start_time": "2022-03-20T15:25:41.976Z"
   },
   {
    "duration": 96,
    "start_time": "2022-03-20T15:26:18.995Z"
   },
   {
    "duration": 18,
    "start_time": "2022-03-20T15:26:35.390Z"
   },
   {
    "duration": 74,
    "start_time": "2022-03-20T15:29:02.367Z"
   },
   {
    "duration": 557,
    "start_time": "2022-03-20T15:29:42.567Z"
   },
   {
    "duration": 19,
    "start_time": "2022-03-20T15:31:06.918Z"
   },
   {
    "duration": 17,
    "start_time": "2022-03-20T15:31:40.889Z"
   },
   {
    "duration": 20,
    "start_time": "2022-03-20T15:32:34.367Z"
   },
   {
    "duration": 11,
    "start_time": "2022-03-20T15:33:27.989Z"
   },
   {
    "duration": 61,
    "start_time": "2022-03-20T15:35:42.663Z"
   },
   {
    "duration": 23,
    "start_time": "2022-03-20T15:35:54.549Z"
   },
   {
    "duration": 17,
    "start_time": "2022-03-20T15:36:25.226Z"
   },
   {
    "duration": 17,
    "start_time": "2022-03-20T15:36:30.524Z"
   },
   {
    "duration": 18,
    "start_time": "2022-03-20T15:36:46.562Z"
   },
   {
    "duration": 17,
    "start_time": "2022-03-20T15:37:08.542Z"
   },
   {
    "duration": 17,
    "start_time": "2022-03-20T15:37:30.625Z"
   },
   {
    "duration": 16,
    "start_time": "2022-03-20T15:38:58.153Z"
   },
   {
    "duration": 22,
    "start_time": "2022-03-20T15:39:10.329Z"
   },
   {
    "duration": 17,
    "start_time": "2022-03-20T15:39:31.050Z"
   },
   {
    "duration": 15,
    "start_time": "2022-03-20T15:39:54.051Z"
   },
   {
    "duration": 22,
    "start_time": "2022-03-20T15:40:08.703Z"
   },
   {
    "duration": 17,
    "start_time": "2022-03-20T15:40:20.727Z"
   },
   {
    "duration": 16,
    "start_time": "2022-03-20T15:40:34.681Z"
   },
   {
    "duration": 113,
    "start_time": "2022-03-20T15:42:37.341Z"
   },
   {
    "duration": 17,
    "start_time": "2022-03-20T15:42:52.977Z"
   },
   {
    "duration": 16,
    "start_time": "2022-03-20T15:44:11.822Z"
   },
   {
    "duration": 22,
    "start_time": "2022-03-20T15:44:42.215Z"
   },
   {
    "duration": 17,
    "start_time": "2022-03-20T15:44:48.853Z"
   },
   {
    "duration": 22,
    "start_time": "2022-03-20T15:45:05.708Z"
   },
   {
    "duration": 18,
    "start_time": "2022-03-20T15:46:46.757Z"
   },
   {
    "duration": 19,
    "start_time": "2022-03-20T15:49:19.863Z"
   },
   {
    "duration": 18,
    "start_time": "2022-03-20T15:49:32.350Z"
   },
   {
    "duration": 19,
    "start_time": "2022-03-20T15:50:41.052Z"
   },
   {
    "duration": 16,
    "start_time": "2022-03-20T15:53:39.817Z"
   },
   {
    "duration": 21,
    "start_time": "2022-03-20T15:54:46.710Z"
   },
   {
    "duration": 15,
    "start_time": "2022-03-20T15:55:19.056Z"
   },
   {
    "duration": 15,
    "start_time": "2022-03-20T15:55:31.754Z"
   },
   {
    "duration": 17,
    "start_time": "2022-03-20T15:59:10.404Z"
   },
   {
    "duration": 16,
    "start_time": "2022-03-20T16:00:58.559Z"
   },
   {
    "duration": 17,
    "start_time": "2022-03-20T16:07:17.720Z"
   },
   {
    "duration": 18,
    "start_time": "2022-03-20T16:10:06.832Z"
   },
   {
    "duration": 19,
    "start_time": "2022-03-20T16:14:25.209Z"
   },
   {
    "duration": 19,
    "start_time": "2022-03-20T16:14:51.238Z"
   },
   {
    "duration": 30,
    "start_time": "2022-03-20T16:16:53.405Z"
   },
   {
    "duration": 18,
    "start_time": "2022-03-20T16:18:13.133Z"
   },
   {
    "duration": 20,
    "start_time": "2022-03-20T16:19:46.487Z"
   },
   {
    "duration": 14,
    "start_time": "2022-03-20T16:28:54.645Z"
   },
   {
    "duration": 193,
    "start_time": "2022-03-20T16:36:53.704Z"
   },
   {
    "duration": 23,
    "start_time": "2022-03-20T16:36:53.900Z"
   },
   {
    "duration": 13,
    "start_time": "2022-03-20T16:36:53.925Z"
   },
   {
    "duration": 8,
    "start_time": "2022-03-20T16:36:53.940Z"
   },
   {
    "duration": 25,
    "start_time": "2022-03-20T16:36:53.949Z"
   },
   {
    "duration": 48,
    "start_time": "2022-03-20T16:36:53.976Z"
   },
   {
    "duration": 44,
    "start_time": "2022-03-20T16:36:54.026Z"
   },
   {
    "duration": 48,
    "start_time": "2022-03-20T16:36:54.072Z"
   },
   {
    "duration": 16,
    "start_time": "2022-03-20T16:36:54.125Z"
   },
   {
    "duration": 7,
    "start_time": "2022-03-20T16:36:54.143Z"
   },
   {
    "duration": 7,
    "start_time": "2022-03-20T16:36:54.151Z"
   },
   {
    "duration": 8,
    "start_time": "2022-03-20T16:36:54.160Z"
   },
   {
    "duration": 15,
    "start_time": "2022-03-20T16:36:54.211Z"
   },
   {
    "duration": 13,
    "start_time": "2022-03-20T16:36:54.228Z"
   },
   {
    "duration": 11,
    "start_time": "2022-03-20T16:36:54.243Z"
   },
   {
    "duration": 12,
    "start_time": "2022-03-20T16:36:54.256Z"
   },
   {
    "duration": 66,
    "start_time": "2022-03-20T16:36:54.270Z"
   },
   {
    "duration": 21,
    "start_time": "2022-03-20T16:36:54.337Z"
   },
   {
    "duration": 19,
    "start_time": "2022-03-20T16:36:54.360Z"
   },
   {
    "duration": 47,
    "start_time": "2022-03-20T16:36:54.382Z"
   },
   {
    "duration": 18,
    "start_time": "2022-03-20T16:36:54.431Z"
   },
   {
    "duration": 19,
    "start_time": "2022-03-20T16:36:54.451Z"
   },
   {
    "duration": 70,
    "start_time": "2022-03-20T16:39:11.288Z"
   },
   {
    "duration": 11,
    "start_time": "2022-03-20T16:45:01.458Z"
   },
   {
    "duration": 69,
    "start_time": "2022-03-20T16:45:07.873Z"
   },
   {
    "duration": 14,
    "start_time": "2022-03-20T16:45:07.944Z"
   },
   {
    "duration": 15,
    "start_time": "2022-03-20T16:45:07.960Z"
   },
   {
    "duration": 32,
    "start_time": "2022-03-20T16:45:07.977Z"
   },
   {
    "duration": 9,
    "start_time": "2022-03-20T16:45:08.011Z"
   },
   {
    "duration": 25,
    "start_time": "2022-03-20T16:45:08.022Z"
   },
   {
    "duration": 17,
    "start_time": "2022-03-20T16:45:08.048Z"
   },
   {
    "duration": 79,
    "start_time": "2022-03-20T16:45:08.067Z"
   },
   {
    "duration": 23,
    "start_time": "2022-03-20T16:45:08.149Z"
   },
   {
    "duration": 45,
    "start_time": "2022-03-20T16:45:08.175Z"
   },
   {
    "duration": 16,
    "start_time": "2022-03-20T16:45:08.222Z"
   },
   {
    "duration": 12,
    "start_time": "2022-03-20T16:45:08.240Z"
   },
   {
    "duration": 17,
    "start_time": "2022-03-20T16:45:08.254Z"
   },
   {
    "duration": 8,
    "start_time": "2022-03-20T16:45:08.273Z"
   },
   {
    "duration": 27,
    "start_time": "2022-03-20T16:45:08.283Z"
   },
   {
    "duration": 13,
    "start_time": "2022-03-20T16:45:08.312Z"
   },
   {
    "duration": 13,
    "start_time": "2022-03-20T16:45:08.326Z"
   },
   {
    "duration": 24,
    "start_time": "2022-03-20T16:45:08.341Z"
   },
   {
    "duration": 50,
    "start_time": "2022-03-20T16:45:08.367Z"
   },
   {
    "duration": 26,
    "start_time": "2022-03-20T16:45:08.420Z"
   },
   {
    "duration": 19,
    "start_time": "2022-03-20T16:45:08.448Z"
   },
   {
    "duration": 41,
    "start_time": "2022-03-20T16:45:08.469Z"
   },
   {
    "duration": 21,
    "start_time": "2022-03-20T16:45:08.511Z"
   },
   {
    "duration": 4,
    "start_time": "2022-03-20T16:48:32.280Z"
   },
   {
    "duration": 18,
    "start_time": "2022-03-20T16:48:40.546Z"
   },
   {
    "duration": 66,
    "start_time": "2022-03-20T16:49:34.143Z"
   },
   {
    "duration": 15,
    "start_time": "2022-03-20T16:49:34.211Z"
   },
   {
    "duration": 11,
    "start_time": "2022-03-20T16:49:34.228Z"
   },
   {
    "duration": 16,
    "start_time": "2022-03-20T16:49:34.241Z"
   },
   {
    "duration": 52,
    "start_time": "2022-03-20T16:49:34.259Z"
   },
   {
    "duration": 10,
    "start_time": "2022-03-20T16:49:34.313Z"
   },
   {
    "duration": 26,
    "start_time": "2022-03-20T16:49:34.325Z"
   },
   {
    "duration": 19,
    "start_time": "2022-03-20T16:49:34.353Z"
   },
   {
    "duration": 50,
    "start_time": "2022-03-20T16:49:34.408Z"
   },
   {
    "duration": 55,
    "start_time": "2022-03-20T16:49:34.461Z"
   },
   {
    "duration": 17,
    "start_time": "2022-03-20T16:49:34.518Z"
   },
   {
    "duration": 8,
    "start_time": "2022-03-20T16:49:34.537Z"
   },
   {
    "duration": 7,
    "start_time": "2022-03-20T16:49:34.547Z"
   },
   {
    "duration": 10,
    "start_time": "2022-03-20T16:49:34.555Z"
   },
   {
    "duration": 43,
    "start_time": "2022-03-20T16:49:34.567Z"
   },
   {
    "duration": 14,
    "start_time": "2022-03-20T16:49:34.612Z"
   },
   {
    "duration": 13,
    "start_time": "2022-03-20T16:49:34.628Z"
   },
   {
    "duration": 15,
    "start_time": "2022-03-20T16:49:34.643Z"
   },
   {
    "duration": 59,
    "start_time": "2022-03-20T16:49:34.660Z"
   },
   {
    "duration": 25,
    "start_time": "2022-03-20T16:49:34.721Z"
   },
   {
    "duration": 19,
    "start_time": "2022-03-20T16:49:34.748Z"
   },
   {
    "duration": 41,
    "start_time": "2022-03-20T16:49:34.769Z"
   },
   {
    "duration": 21,
    "start_time": "2022-03-20T16:49:34.811Z"
   },
   {
    "duration": 25,
    "start_time": "2022-03-20T16:49:34.834Z"
   },
   {
    "duration": 19,
    "start_time": "2022-03-20T16:58:45.086Z"
   },
   {
    "duration": 22,
    "start_time": "2022-03-20T17:00:06.261Z"
   },
   {
    "duration": 19,
    "start_time": "2022-03-20T17:00:17.027Z"
   },
   {
    "duration": 19,
    "start_time": "2022-03-20T17:02:40.959Z"
   },
   {
    "duration": 102,
    "start_time": "2022-03-20T17:03:35.492Z"
   },
   {
    "duration": 19,
    "start_time": "2022-03-20T17:03:47.845Z"
   },
   {
    "duration": 19,
    "start_time": "2022-03-20T17:03:59.953Z"
   },
   {
    "duration": 19,
    "start_time": "2022-03-20T17:04:07.113Z"
   },
   {
    "duration": 21,
    "start_time": "2022-03-20T17:04:21.863Z"
   },
   {
    "duration": 8,
    "start_time": "2022-03-20T17:08:36.888Z"
   },
   {
    "duration": 72,
    "start_time": "2022-03-20T17:08:41.541Z"
   },
   {
    "duration": 16,
    "start_time": "2022-03-20T17:08:41.615Z"
   },
   {
    "duration": 12,
    "start_time": "2022-03-20T17:08:41.632Z"
   },
   {
    "duration": 18,
    "start_time": "2022-03-20T17:08:41.646Z"
   },
   {
    "duration": 5,
    "start_time": "2022-03-20T17:08:41.666Z"
   },
   {
    "duration": 43,
    "start_time": "2022-03-20T17:08:41.673Z"
   },
   {
    "duration": 26,
    "start_time": "2022-03-20T17:08:41.717Z"
   },
   {
    "duration": 18,
    "start_time": "2022-03-20T17:08:41.745Z"
   },
   {
    "duration": 83,
    "start_time": "2022-03-20T17:08:41.764Z"
   },
   {
    "duration": 20,
    "start_time": "2022-03-20T17:08:41.850Z"
   },
   {
    "duration": 40,
    "start_time": "2022-03-20T17:08:41.872Z"
   },
   {
    "duration": 8,
    "start_time": "2022-03-20T17:08:41.913Z"
   },
   {
    "duration": 8,
    "start_time": "2022-03-20T17:08:41.923Z"
   },
   {
    "duration": 10,
    "start_time": "2022-03-20T17:08:41.933Z"
   },
   {
    "duration": 6,
    "start_time": "2022-03-20T17:08:41.944Z"
   },
   {
    "duration": 13,
    "start_time": "2022-03-20T17:08:41.952Z"
   },
   {
    "duration": 51,
    "start_time": "2022-03-20T17:08:41.967Z"
   },
   {
    "duration": 13,
    "start_time": "2022-03-20T17:08:42.020Z"
   },
   {
    "duration": 23,
    "start_time": "2022-03-20T17:08:42.035Z"
   },
   {
    "duration": 20,
    "start_time": "2022-03-20T17:08:42.059Z"
   },
   {
    "duration": 26,
    "start_time": "2022-03-20T17:08:42.109Z"
   },
   {
    "duration": 21,
    "start_time": "2022-03-20T17:08:42.137Z"
   },
   {
    "duration": 19,
    "start_time": "2022-03-20T17:08:42.160Z"
   },
   {
    "duration": 44,
    "start_time": "2022-03-20T17:08:42.181Z"
   },
   {
    "duration": 68,
    "start_time": "2022-03-20T17:12:54.972Z"
   },
   {
    "duration": 17,
    "start_time": "2022-03-20T17:12:55.043Z"
   },
   {
    "duration": 13,
    "start_time": "2022-03-20T17:12:55.062Z"
   },
   {
    "duration": 51,
    "start_time": "2022-03-20T17:12:55.078Z"
   },
   {
    "duration": 6,
    "start_time": "2022-03-20T17:12:55.131Z"
   },
   {
    "duration": 12,
    "start_time": "2022-03-20T17:12:55.139Z"
   },
   {
    "duration": 19,
    "start_time": "2022-03-20T17:12:55.153Z"
   },
   {
    "duration": 79,
    "start_time": "2022-03-20T17:12:55.174Z"
   },
   {
    "duration": 20,
    "start_time": "2022-03-20T17:12:55.255Z"
   },
   {
    "duration": 43,
    "start_time": "2022-03-20T17:12:55.278Z"
   },
   {
    "duration": 11,
    "start_time": "2022-03-20T17:12:55.323Z"
   },
   {
    "duration": 6,
    "start_time": "2022-03-20T17:12:55.336Z"
   },
   {
    "duration": 7,
    "start_time": "2022-03-20T17:12:55.344Z"
   },
   {
    "duration": 7,
    "start_time": "2022-03-20T17:12:55.353Z"
   },
   {
    "duration": 12,
    "start_time": "2022-03-20T17:12:55.362Z"
   },
   {
    "duration": 44,
    "start_time": "2022-03-20T17:12:55.375Z"
   },
   {
    "duration": 14,
    "start_time": "2022-03-20T17:12:55.420Z"
   },
   {
    "duration": 34,
    "start_time": "2022-03-20T17:12:55.436Z"
   },
   {
    "duration": 19,
    "start_time": "2022-03-20T17:12:55.472Z"
   },
   {
    "duration": 27,
    "start_time": "2022-03-20T17:12:55.509Z"
   },
   {
    "duration": 18,
    "start_time": "2022-03-20T17:12:55.538Z"
   },
   {
    "duration": 20,
    "start_time": "2022-03-20T17:12:55.558Z"
   },
   {
    "duration": 41,
    "start_time": "2022-03-20T17:12:55.580Z"
   },
   {
    "duration": 37,
    "start_time": "2022-03-20T17:18:33.394Z"
   },
   {
    "duration": 9,
    "start_time": "2022-03-20T17:37:43.715Z"
   },
   {
    "duration": 808,
    "start_time": "2022-03-20T17:37:51.371Z"
   },
   {
    "duration": 74,
    "start_time": "2022-03-20T17:41:31.177Z"
   },
   {
    "duration": 32,
    "start_time": "2022-03-20T17:41:38.262Z"
   },
   {
    "duration": 323,
    "start_time": "2022-03-20T17:42:01.032Z"
   },
   {
    "duration": 166,
    "start_time": "2022-03-20T17:45:32.869Z"
   },
   {
    "duration": 71,
    "start_time": "2022-03-20T17:48:39.694Z"
   },
   {
    "duration": 66,
    "start_time": "2022-03-20T17:50:12.560Z"
   },
   {
    "duration": 67,
    "start_time": "2022-03-20T17:50:20.104Z"
   },
   {
    "duration": 14,
    "start_time": "2022-03-20T17:51:36.581Z"
   },
   {
    "duration": 188,
    "start_time": "2022-03-20T17:51:42.672Z"
   },
   {
    "duration": 22,
    "start_time": "2022-03-20T17:52:00.011Z"
   },
   {
    "duration": 14,
    "start_time": "2022-03-20T17:52:09.833Z"
   },
   {
    "duration": 172,
    "start_time": "2022-03-20T17:52:41.358Z"
   },
   {
    "duration": 68,
    "start_time": "2022-03-20T17:53:50.822Z"
   },
   {
    "duration": 671,
    "start_time": "2022-03-20T17:57:11.660Z"
   },
   {
    "duration": 167,
    "start_time": "2022-03-20T17:57:48.900Z"
   },
   {
    "duration": 136,
    "start_time": "2022-03-20T18:00:05.107Z"
   },
   {
    "duration": 178,
    "start_time": "2022-03-20T18:00:53.276Z"
   },
   {
    "duration": 60,
    "start_time": "2022-03-20T18:02:04.738Z"
   },
   {
    "duration": 62,
    "start_time": "2022-03-20T18:02:12.876Z"
   },
   {
    "duration": 70,
    "start_time": "2022-03-20T18:02:21.452Z"
   },
   {
    "duration": 183,
    "start_time": "2022-03-20T18:02:33.208Z"
   },
   {
    "duration": 74,
    "start_time": "2022-03-20T18:11:31.809Z"
   },
   {
    "duration": 181,
    "start_time": "2022-03-20T18:11:40.869Z"
   },
   {
    "duration": 188,
    "start_time": "2022-03-20T18:18:48.174Z"
   },
   {
    "duration": 361,
    "start_time": "2022-03-20T18:19:25.124Z"
   },
   {
    "duration": 213,
    "start_time": "2022-03-20T18:19:47.011Z"
   },
   {
    "duration": 219,
    "start_time": "2022-03-20T18:21:18.807Z"
   },
   {
    "duration": 185,
    "start_time": "2022-03-20T18:22:06.904Z"
   },
   {
    "duration": 75,
    "start_time": "2022-03-20T18:22:34.477Z"
   },
   {
    "duration": 16,
    "start_time": "2022-03-20T18:22:34.554Z"
   },
   {
    "duration": 11,
    "start_time": "2022-03-20T18:22:34.572Z"
   },
   {
    "duration": 37,
    "start_time": "2022-03-20T18:22:34.586Z"
   },
   {
    "duration": 183,
    "start_time": "2022-03-20T18:22:34.624Z"
   },
   {
    "duration": 183,
    "start_time": "2022-03-20T18:22:34.809Z"
   },
   {
    "duration": 0,
    "start_time": "2022-03-20T18:22:34.994Z"
   },
   {
    "duration": 0,
    "start_time": "2022-03-20T18:22:34.996Z"
   },
   {
    "duration": 0,
    "start_time": "2022-03-20T18:22:34.997Z"
   },
   {
    "duration": 0,
    "start_time": "2022-03-20T18:22:34.998Z"
   },
   {
    "duration": 0,
    "start_time": "2022-03-20T18:22:34.999Z"
   },
   {
    "duration": 0,
    "start_time": "2022-03-20T18:22:35.008Z"
   },
   {
    "duration": 0,
    "start_time": "2022-03-20T18:22:35.009Z"
   },
   {
    "duration": 0,
    "start_time": "2022-03-20T18:22:35.011Z"
   },
   {
    "duration": 0,
    "start_time": "2022-03-20T18:22:35.012Z"
   },
   {
    "duration": 0,
    "start_time": "2022-03-20T18:22:35.013Z"
   },
   {
    "duration": 0,
    "start_time": "2022-03-20T18:22:35.014Z"
   },
   {
    "duration": 0,
    "start_time": "2022-03-20T18:22:35.015Z"
   },
   {
    "duration": 0,
    "start_time": "2022-03-20T18:22:35.016Z"
   },
   {
    "duration": 0,
    "start_time": "2022-03-20T18:22:35.017Z"
   },
   {
    "duration": 0,
    "start_time": "2022-03-20T18:22:35.018Z"
   },
   {
    "duration": 0,
    "start_time": "2022-03-20T18:22:35.019Z"
   },
   {
    "duration": 0,
    "start_time": "2022-03-20T18:22:35.020Z"
   },
   {
    "duration": 0,
    "start_time": "2022-03-20T18:22:35.021Z"
   },
   {
    "duration": 0,
    "start_time": "2022-03-20T18:22:35.022Z"
   },
   {
    "duration": 167,
    "start_time": "2022-03-20T18:23:30.484Z"
   },
   {
    "duration": 159,
    "start_time": "2022-03-20T18:23:41.655Z"
   },
   {
    "duration": 71,
    "start_time": "2022-03-20T18:23:51.281Z"
   },
   {
    "duration": 15,
    "start_time": "2022-03-20T18:23:51.354Z"
   },
   {
    "duration": 12,
    "start_time": "2022-03-20T18:23:51.371Z"
   },
   {
    "duration": 39,
    "start_time": "2022-03-20T18:23:51.385Z"
   },
   {
    "duration": 184,
    "start_time": "2022-03-20T18:23:51.425Z"
   },
   {
    "duration": 172,
    "start_time": "2022-03-20T18:23:51.610Z"
   },
   {
    "duration": 6,
    "start_time": "2022-03-20T18:23:51.784Z"
   },
   {
    "duration": 20,
    "start_time": "2022-03-20T18:23:51.792Z"
   },
   {
    "duration": 19,
    "start_time": "2022-03-20T18:23:51.814Z"
   },
   {
    "duration": 39,
    "start_time": "2022-03-20T18:23:51.836Z"
   },
   {
    "duration": 48,
    "start_time": "2022-03-20T18:23:51.876Z"
   },
   {
    "duration": 16,
    "start_time": "2022-03-20T18:23:51.925Z"
   },
   {
    "duration": 11,
    "start_time": "2022-03-20T18:23:51.942Z"
   },
   {
    "duration": 7,
    "start_time": "2022-03-20T18:23:51.955Z"
   },
   {
    "duration": 7,
    "start_time": "2022-03-20T18:23:51.963Z"
   },
   {
    "duration": 42,
    "start_time": "2022-03-20T18:23:51.972Z"
   },
   {
    "duration": 14,
    "start_time": "2022-03-20T18:23:52.015Z"
   },
   {
    "duration": 12,
    "start_time": "2022-03-20T18:23:52.031Z"
   },
   {
    "duration": 13,
    "start_time": "2022-03-20T18:23:52.044Z"
   },
   {
    "duration": 53,
    "start_time": "2022-03-20T18:23:52.059Z"
   },
   {
    "duration": 18,
    "start_time": "2022-03-20T18:23:52.114Z"
   },
   {
    "duration": 18,
    "start_time": "2022-03-20T18:23:52.134Z"
   },
   {
    "duration": 18,
    "start_time": "2022-03-20T18:23:52.153Z"
   },
   {
    "duration": 47,
    "start_time": "2022-03-20T18:23:52.172Z"
   },
   {
    "duration": 19,
    "start_time": "2022-03-20T18:23:52.220Z"
   },
   {
    "duration": 164,
    "start_time": "2022-03-20T18:25:35.825Z"
   },
   {
    "duration": 157,
    "start_time": "2022-03-20T18:25:42.877Z"
   },
   {
    "duration": 172,
    "start_time": "2022-03-20T18:25:51.897Z"
   },
   {
    "duration": 61,
    "start_time": "2022-03-20T18:26:59.269Z"
   },
   {
    "duration": 77,
    "start_time": "2022-03-20T18:28:01.036Z"
   },
   {
    "duration": 186,
    "start_time": "2022-03-20T18:28:12.122Z"
   },
   {
    "duration": 227,
    "start_time": "2022-03-20T18:29:18.787Z"
   },
   {
    "duration": 146,
    "start_time": "2022-03-20T18:42:15.617Z"
   },
   {
    "duration": 273,
    "start_time": "2022-03-20T18:44:56.418Z"
   },
   {
    "duration": 392,
    "start_time": "2022-03-20T18:52:00.557Z"
   },
   {
    "duration": 108,
    "start_time": "2022-03-20T18:57:36.534Z"
   },
   {
    "duration": 73,
    "start_time": "2022-03-20T18:59:53.629Z"
   },
   {
    "duration": 16,
    "start_time": "2022-03-20T18:59:53.706Z"
   },
   {
    "duration": 11,
    "start_time": "2022-03-20T18:59:53.723Z"
   },
   {
    "duration": 16,
    "start_time": "2022-03-20T18:59:53.736Z"
   },
   {
    "duration": 192,
    "start_time": "2022-03-20T18:59:53.754Z"
   },
   {
    "duration": 282,
    "start_time": "2022-03-20T18:59:53.947Z"
   },
   {
    "duration": 221,
    "start_time": "2022-03-20T18:59:54.230Z"
   },
   {
    "duration": 6,
    "start_time": "2022-03-20T18:59:54.452Z"
   },
   {
    "duration": 9,
    "start_time": "2022-03-20T18:59:54.459Z"
   },
   {
    "duration": 39,
    "start_time": "2022-03-20T18:59:54.471Z"
   },
   {
    "duration": 34,
    "start_time": "2022-03-20T18:59:54.511Z"
   },
   {
    "duration": 19,
    "start_time": "2022-03-20T18:59:54.546Z"
   },
   {
    "duration": 44,
    "start_time": "2022-03-20T18:59:54.566Z"
   },
   {
    "duration": 8,
    "start_time": "2022-03-20T18:59:54.612Z"
   },
   {
    "duration": 9,
    "start_time": "2022-03-20T18:59:54.622Z"
   },
   {
    "duration": 7,
    "start_time": "2022-03-20T18:59:54.632Z"
   },
   {
    "duration": 7,
    "start_time": "2022-03-20T18:59:54.641Z"
   },
   {
    "duration": 13,
    "start_time": "2022-03-20T18:59:54.650Z"
   },
   {
    "duration": 45,
    "start_time": "2022-03-20T18:59:54.665Z"
   },
   {
    "duration": 15,
    "start_time": "2022-03-20T18:59:54.711Z"
   },
   {
    "duration": 24,
    "start_time": "2022-03-20T18:59:54.727Z"
   },
   {
    "duration": 19,
    "start_time": "2022-03-20T18:59:54.752Z"
   },
   {
    "duration": 39,
    "start_time": "2022-03-20T18:59:54.773Z"
   },
   {
    "duration": 19,
    "start_time": "2022-03-20T18:59:54.814Z"
   },
   {
    "duration": 17,
    "start_time": "2022-03-20T18:59:54.835Z"
   },
   {
    "duration": 17,
    "start_time": "2022-03-20T18:59:54.854Z"
   },
   {
    "duration": 166,
    "start_time": "2022-03-20T19:03:12.231Z"
   },
   {
    "duration": 291,
    "start_time": "2022-03-20T19:03:32.643Z"
   },
   {
    "duration": 225,
    "start_time": "2022-03-20T19:05:12.229Z"
   },
   {
    "duration": 77,
    "start_time": "2022-03-20T19:08:02.874Z"
   },
   {
    "duration": 15,
    "start_time": "2022-03-20T19:08:02.953Z"
   },
   {
    "duration": 12,
    "start_time": "2022-03-20T19:08:02.969Z"
   },
   {
    "duration": 43,
    "start_time": "2022-03-20T19:08:02.983Z"
   },
   {
    "duration": 185,
    "start_time": "2022-03-20T19:08:03.027Z"
   },
   {
    "duration": 287,
    "start_time": "2022-03-20T19:08:03.214Z"
   },
   {
    "duration": 238,
    "start_time": "2022-03-20T19:08:03.503Z"
   },
   {
    "duration": 7,
    "start_time": "2022-03-20T19:08:03.743Z"
   },
   {
    "duration": 9,
    "start_time": "2022-03-20T19:08:03.752Z"
   },
   {
    "duration": 44,
    "start_time": "2022-03-20T19:08:03.765Z"
   },
   {
    "duration": 35,
    "start_time": "2022-03-20T19:08:03.811Z"
   },
   {
    "duration": 23,
    "start_time": "2022-03-20T19:08:03.848Z"
   },
   {
    "duration": 17,
    "start_time": "2022-03-20T19:08:03.908Z"
   },
   {
    "duration": 8,
    "start_time": "2022-03-20T19:08:03.927Z"
   },
   {
    "duration": 6,
    "start_time": "2022-03-20T19:08:03.937Z"
   },
   {
    "duration": 8,
    "start_time": "2022-03-20T19:08:03.945Z"
   },
   {
    "duration": 7,
    "start_time": "2022-03-20T19:08:03.955Z"
   },
   {
    "duration": 50,
    "start_time": "2022-03-20T19:08:03.964Z"
   },
   {
    "duration": 13,
    "start_time": "2022-03-20T19:08:04.016Z"
   },
   {
    "duration": 14,
    "start_time": "2022-03-20T19:08:04.031Z"
   },
   {
    "duration": 20,
    "start_time": "2022-03-20T19:08:04.046Z"
   },
   {
    "duration": 51,
    "start_time": "2022-03-20T19:08:04.068Z"
   },
   {
    "duration": 24,
    "start_time": "2022-03-20T19:08:04.121Z"
   },
   {
    "duration": 17,
    "start_time": "2022-03-20T19:08:04.146Z"
   },
   {
    "duration": 17,
    "start_time": "2022-03-20T19:08:04.165Z"
   },
   {
    "duration": 40,
    "start_time": "2022-03-20T19:08:04.184Z"
   },
   {
    "duration": 79,
    "start_time": "2022-03-20T19:09:16.821Z"
   },
   {
    "duration": 16,
    "start_time": "2022-03-20T19:09:16.902Z"
   },
   {
    "duration": 11,
    "start_time": "2022-03-20T19:09:16.919Z"
   },
   {
    "duration": 21,
    "start_time": "2022-03-20T19:09:16.932Z"
   },
   {
    "duration": 196,
    "start_time": "2022-03-20T19:09:16.954Z"
   },
   {
    "duration": 426,
    "start_time": "2022-03-20T19:09:17.151Z"
   },
   {
    "duration": 234,
    "start_time": "2022-03-20T19:09:17.578Z"
   },
   {
    "duration": 6,
    "start_time": "2022-03-20T19:09:17.813Z"
   },
   {
    "duration": 8,
    "start_time": "2022-03-20T19:09:17.821Z"
   },
   {
    "duration": 19,
    "start_time": "2022-03-20T19:09:17.832Z"
   },
   {
    "duration": 66,
    "start_time": "2022-03-20T19:09:17.852Z"
   },
   {
    "duration": 18,
    "start_time": "2022-03-20T19:09:17.920Z"
   },
   {
    "duration": 15,
    "start_time": "2022-03-20T19:09:17.940Z"
   },
   {
    "duration": 7,
    "start_time": "2022-03-20T19:09:17.957Z"
   },
   {
    "duration": 44,
    "start_time": "2022-03-20T19:09:17.966Z"
   },
   {
    "duration": 8,
    "start_time": "2022-03-20T19:09:18.012Z"
   },
   {
    "duration": 7,
    "start_time": "2022-03-20T19:09:18.021Z"
   },
   {
    "duration": 13,
    "start_time": "2022-03-20T19:09:18.030Z"
   },
   {
    "duration": 12,
    "start_time": "2022-03-20T19:09:18.044Z"
   },
   {
    "duration": 13,
    "start_time": "2022-03-20T19:09:18.058Z"
   },
   {
    "duration": 21,
    "start_time": "2022-03-20T19:09:18.109Z"
   },
   {
    "duration": 20,
    "start_time": "2022-03-20T19:09:18.132Z"
   },
   {
    "duration": 25,
    "start_time": "2022-03-20T19:09:18.153Z"
   },
   {
    "duration": 38,
    "start_time": "2022-03-20T19:09:18.180Z"
   },
   {
    "duration": 19,
    "start_time": "2022-03-20T19:09:18.220Z"
   },
   {
    "duration": 18,
    "start_time": "2022-03-20T19:09:18.241Z"
   },
   {
    "duration": 81,
    "start_time": "2022-03-20T19:15:55.667Z"
   },
   {
    "duration": 18,
    "start_time": "2022-03-20T19:15:55.750Z"
   },
   {
    "duration": 11,
    "start_time": "2022-03-20T19:15:55.769Z"
   },
   {
    "duration": 39,
    "start_time": "2022-03-20T19:15:55.782Z"
   },
   {
    "duration": 192,
    "start_time": "2022-03-20T19:15:55.823Z"
   },
   {
    "duration": 310,
    "start_time": "2022-03-20T19:15:56.017Z"
   },
   {
    "duration": 247,
    "start_time": "2022-03-20T19:15:56.329Z"
   },
   {
    "duration": 7,
    "start_time": "2022-03-20T19:15:56.578Z"
   },
   {
    "duration": 24,
    "start_time": "2022-03-20T19:15:56.587Z"
   },
   {
    "duration": 21,
    "start_time": "2022-03-20T19:15:56.614Z"
   },
   {
    "duration": 36,
    "start_time": "2022-03-20T19:15:56.636Z"
   },
   {
    "duration": 47,
    "start_time": "2022-03-20T19:15:56.674Z"
   },
   {
    "duration": 16,
    "start_time": "2022-03-20T19:15:56.723Z"
   },
   {
    "duration": 8,
    "start_time": "2022-03-20T19:15:56.740Z"
   },
   {
    "duration": 7,
    "start_time": "2022-03-20T19:15:56.749Z"
   },
   {
    "duration": 7,
    "start_time": "2022-03-20T19:15:56.758Z"
   },
   {
    "duration": 47,
    "start_time": "2022-03-20T19:15:56.768Z"
   },
   {
    "duration": 13,
    "start_time": "2022-03-20T19:15:56.817Z"
   },
   {
    "duration": 14,
    "start_time": "2022-03-20T19:15:56.832Z"
   },
   {
    "duration": 14,
    "start_time": "2022-03-20T19:15:56.848Z"
   },
   {
    "duration": 60,
    "start_time": "2022-03-20T19:15:56.864Z"
   },
   {
    "duration": 28,
    "start_time": "2022-03-20T19:15:56.926Z"
   },
   {
    "duration": 21,
    "start_time": "2022-03-20T19:15:56.956Z"
   },
   {
    "duration": 43,
    "start_time": "2022-03-20T19:15:56.979Z"
   },
   {
    "duration": 19,
    "start_time": "2022-03-20T19:15:57.024Z"
   },
   {
    "duration": 19,
    "start_time": "2022-03-20T19:15:57.045Z"
   },
   {
    "duration": 1699,
    "start_time": "2022-05-04T09:41:51.772Z"
   },
   {
    "duration": 112,
    "start_time": "2022-05-04T09:42:26.213Z"
   },
   {
    "duration": 4,
    "start_time": "2022-05-04T09:42:34.345Z"
   },
   {
    "duration": 88,
    "start_time": "2022-05-04T09:42:34.354Z"
   },
   {
    "duration": 4965,
    "start_time": "2022-05-04T09:42:34.444Z"
   },
   {
    "duration": 7,
    "start_time": "2022-05-04T09:42:39.411Z"
   },
   {
    "duration": 8,
    "start_time": "2022-05-04T09:42:39.420Z"
   },
   {
    "duration": 6,
    "start_time": "2022-05-04T09:42:39.430Z"
   },
   {
    "duration": 8,
    "start_time": "2022-05-04T09:42:39.437Z"
   },
   {
    "duration": 7,
    "start_time": "2022-05-04T09:42:39.446Z"
   },
   {
    "duration": 81,
    "start_time": "2022-05-04T09:42:39.454Z"
   },
   {
    "duration": 23304,
    "start_time": "2022-05-04T09:42:39.537Z"
   },
   {
    "duration": 893,
    "start_time": "2022-05-04T09:43:02.844Z"
   },
   {
    "duration": 136,
    "start_time": "2022-05-04T09:43:03.739Z"
   },
   {
    "duration": 5,
    "start_time": "2022-05-04T09:43:03.876Z"
   },
   {
    "duration": 16,
    "start_time": "2022-05-04T09:43:03.883Z"
   },
   {
    "duration": 4638,
    "start_time": "2022-05-04T09:55:44.085Z"
   },
   {
    "duration": 4923,
    "start_time": "2022-05-04T09:59:58.109Z"
   },
   {
    "duration": 127,
    "start_time": "2022-05-04T10:54:46.168Z"
   },
   {
    "duration": 12,
    "start_time": "2022-05-04T10:56:32.643Z"
   },
   {
    "duration": 7,
    "start_time": "2022-05-04T10:57:12.871Z"
   },
   {
    "duration": 7,
    "start_time": "2022-05-04T10:58:19.586Z"
   },
   {
    "duration": 150,
    "start_time": "2022-05-04T10:59:51.089Z"
   },
   {
    "duration": 141,
    "start_time": "2022-05-04T11:58:34.364Z"
   },
   {
    "duration": 7,
    "start_time": "2022-05-04T11:59:30.389Z"
   },
   {
    "duration": 12,
    "start_time": "2022-05-04T12:00:08.712Z"
   },
   {
    "duration": 12,
    "start_time": "2022-05-04T12:01:48.912Z"
   },
   {
    "duration": 7,
    "start_time": "2022-05-04T12:01:50.830Z"
   },
   {
    "duration": 153,
    "start_time": "2022-05-04T12:02:04.164Z"
   },
   {
    "duration": 151,
    "start_time": "2022-05-04T12:05:51.929Z"
   },
   {
    "duration": 69,
    "start_time": "2022-05-04T12:23:46.578Z"
   },
   {
    "duration": 11,
    "start_time": "2022-05-04T12:29:01.957Z"
   },
   {
    "duration": 5,
    "start_time": "2022-05-04T12:29:20.482Z"
   },
   {
    "duration": 312,
    "start_time": "2022-05-04T12:29:36.332Z"
   },
   {
    "duration": 5,
    "start_time": "2022-05-04T12:30:14.969Z"
   },
   {
    "duration": 108,
    "start_time": "2022-05-04T12:30:14.980Z"
   },
   {
    "duration": 4990,
    "start_time": "2022-05-04T12:30:15.090Z"
   },
   {
    "duration": 7,
    "start_time": "2022-05-04T12:30:20.081Z"
   },
   {
    "duration": 6,
    "start_time": "2022-05-04T12:30:20.091Z"
   },
   {
    "duration": 9,
    "start_time": "2022-05-04T12:30:20.099Z"
   },
   {
    "duration": 6,
    "start_time": "2022-05-04T12:30:20.109Z"
   },
   {
    "duration": 7,
    "start_time": "2022-05-04T12:30:20.117Z"
   },
   {
    "duration": 96,
    "start_time": "2022-05-04T12:30:20.126Z"
   },
   {
    "duration": 326,
    "start_time": "2022-05-04T12:30:20.224Z"
   },
   {
    "duration": 22852,
    "start_time": "2022-05-04T12:30:20.553Z"
   },
   {
    "duration": 845,
    "start_time": "2022-05-04T12:30:43.407Z"
   },
   {
    "duration": 6,
    "start_time": "2022-05-04T12:30:44.254Z"
   },
   {
    "duration": 11,
    "start_time": "2022-05-04T12:30:44.274Z"
   },
   {
    "duration": 156,
    "start_time": "2022-05-04T12:30:44.286Z"
   },
   {
    "duration": 4,
    "start_time": "2022-05-04T12:30:44.443Z"
   },
   {
    "duration": 9,
    "start_time": "2022-05-04T12:30:44.449Z"
   },
   {
    "duration": 330,
    "start_time": "2022-05-04T12:35:27.457Z"
   },
   {
    "duration": 62,
    "start_time": "2022-06-03T08:15:43.843Z"
   },
   {
    "duration": 51,
    "start_time": "2022-06-15T19:15:38.994Z"
   },
   {
    "duration": 1526,
    "start_time": "2022-06-15T19:15:48.195Z"
   },
   {
    "duration": 844,
    "start_time": "2022-06-15T19:15:49.724Z"
   },
   {
    "duration": 20,
    "start_time": "2022-06-15T19:15:50.570Z"
   },
   {
    "duration": 422,
    "start_time": "2022-06-15T19:15:50.593Z"
   },
   {
    "duration": 14,
    "start_time": "2022-06-15T19:15:51.017Z"
   },
   {
    "duration": 1879,
    "start_time": "2022-06-15T19:15:51.033Z"
   },
   {
    "duration": 25,
    "start_time": "2022-06-15T19:15:52.914Z"
   },
   {
    "duration": 3,
    "start_time": "2022-06-15T19:15:52.942Z"
   },
   {
    "duration": 15,
    "start_time": "2022-06-15T19:15:52.947Z"
   },
   {
    "duration": 6,
    "start_time": "2022-06-15T19:15:52.966Z"
   },
   {
    "duration": 8,
    "start_time": "2022-06-15T19:15:52.974Z"
   },
   {
    "duration": 14,
    "start_time": "2022-06-15T19:15:52.983Z"
   },
   {
    "duration": 54,
    "start_time": "2022-06-15T19:15:52.999Z"
   },
   {
    "duration": 199,
    "start_time": "2022-06-15T19:15:53.055Z"
   },
   {
    "duration": 32,
    "start_time": "2022-06-15T19:15:53.256Z"
   },
   {
    "duration": 13,
    "start_time": "2022-06-15T19:15:53.290Z"
   },
   {
    "duration": 29,
    "start_time": "2022-06-15T19:15:53.304Z"
   },
   {
    "duration": 6,
    "start_time": "2022-06-15T19:15:53.335Z"
   },
   {
    "duration": 13,
    "start_time": "2022-06-15T19:15:53.343Z"
   },
   {
    "duration": 10,
    "start_time": "2022-06-15T19:15:53.357Z"
   },
   {
    "duration": 1752,
    "start_time": "2022-06-15T19:15:53.369Z"
   },
   {
    "duration": 8,
    "start_time": "2022-06-15T19:15:55.123Z"
   },
   {
    "duration": 1749,
    "start_time": "2022-06-15T19:15:55.133Z"
   },
   {
    "duration": 8,
    "start_time": "2022-06-15T19:15:56.884Z"
   },
   {
    "duration": 1626,
    "start_time": "2022-06-15T19:15:56.894Z"
   },
   {
    "duration": 226,
    "start_time": "2022-06-15T19:15:58.522Z"
   },
   {
    "duration": 451,
    "start_time": "2022-06-15T19:18:03.207Z"
   },
   {
    "duration": 414,
    "start_time": "2022-06-15T19:18:11.890Z"
   },
   {
    "duration": 539,
    "start_time": "2022-06-15T19:19:56.908Z"
   },
   {
    "duration": 4,
    "start_time": "2022-06-15T19:49:38.967Z"
   },
   {
    "duration": 11,
    "start_time": "2022-06-15T19:52:27.329Z"
   },
   {
    "duration": 5,
    "start_time": "2022-06-15T19:52:41.734Z"
   },
   {
    "duration": 324,
    "start_time": "2022-06-15T19:52:41.741Z"
   },
   {
    "duration": 16,
    "start_time": "2022-06-15T19:52:42.067Z"
   },
   {
    "duration": 110,
    "start_time": "2022-06-15T19:52:42.085Z"
   },
   {
    "duration": 14,
    "start_time": "2022-06-15T19:52:42.197Z"
   },
   {
    "duration": 412,
    "start_time": "2022-06-15T19:52:42.227Z"
   },
   {
    "duration": 26,
    "start_time": "2022-06-15T19:52:42.641Z"
   },
   {
    "duration": 4,
    "start_time": "2022-06-15T19:52:42.669Z"
   },
   {
    "duration": 24,
    "start_time": "2022-06-15T19:52:42.674Z"
   },
   {
    "duration": 7,
    "start_time": "2022-06-15T19:52:42.700Z"
   },
   {
    "duration": 18,
    "start_time": "2022-06-15T19:52:42.710Z"
   },
   {
    "duration": 21,
    "start_time": "2022-06-15T19:52:42.729Z"
   },
   {
    "duration": 48,
    "start_time": "2022-06-15T19:52:42.752Z"
   },
   {
    "duration": 204,
    "start_time": "2022-06-15T19:52:42.802Z"
   },
   {
    "duration": 35,
    "start_time": "2022-06-15T19:52:43.008Z"
   },
   {
    "duration": 9,
    "start_time": "2022-06-15T19:52:43.045Z"
   },
   {
    "duration": 22,
    "start_time": "2022-06-15T19:52:43.056Z"
   },
   {
    "duration": 7,
    "start_time": "2022-06-15T19:52:43.079Z"
   },
   {
    "duration": 10,
    "start_time": "2022-06-15T19:52:43.088Z"
   },
   {
    "duration": 29,
    "start_time": "2022-06-15T19:52:43.100Z"
   },
   {
    "duration": 1896,
    "start_time": "2022-06-15T19:52:43.130Z"
   },
   {
    "duration": 11,
    "start_time": "2022-06-15T19:52:45.028Z"
   },
   {
    "duration": 1671,
    "start_time": "2022-06-15T19:52:45.040Z"
   },
   {
    "duration": 14,
    "start_time": "2022-06-15T19:52:46.713Z"
   },
   {
    "duration": 1602,
    "start_time": "2022-06-15T19:52:46.729Z"
   },
   {
    "duration": 564,
    "start_time": "2022-06-15T19:52:48.334Z"
   },
   {
    "duration": 7,
    "start_time": "2022-06-15T19:52:48.900Z"
   },
   {
    "duration": 40,
    "start_time": "2022-06-15T19:52:48.909Z"
   },
   {
    "duration": 6,
    "start_time": "2022-06-15T19:52:48.954Z"
   },
   {
    "duration": 2160,
    "start_time": "2022-06-15T19:52:48.963Z"
   },
   {
    "duration": 5,
    "start_time": "2022-06-15T19:52:51.127Z"
   },
   {
    "duration": 48,
    "start_time": "2022-06-15T19:52:51.133Z"
   },
   {
    "duration": 10,
    "start_time": "2022-06-15T19:52:51.183Z"
   },
   {
    "duration": 14,
    "start_time": "2022-06-15T19:52:51.195Z"
   },
   {
    "duration": 19,
    "start_time": "2022-06-15T19:52:51.211Z"
   },
   {
    "duration": 20,
    "start_time": "2022-06-15T19:52:51.232Z"
   },
   {
    "duration": 30,
    "start_time": "2022-06-15T19:52:51.253Z"
   },
   {
    "duration": 18,
    "start_time": "2022-06-15T19:52:51.286Z"
   },
   {
    "duration": 22,
    "start_time": "2022-06-15T19:52:51.306Z"
   },
   {
    "duration": 13,
    "start_time": "2022-06-15T19:52:51.330Z"
   },
   {
    "duration": 11,
    "start_time": "2022-06-15T19:52:51.346Z"
   },
   {
    "duration": 51,
    "start_time": "2022-06-15T19:52:51.359Z"
   },
   {
    "duration": 26345,
    "start_time": "2022-06-15T19:52:51.412Z"
   },
   {
    "duration": 4,
    "start_time": "2022-06-15T19:53:17.759Z"
   },
   {
    "duration": 1075350,
    "start_time": "2022-06-15T19:53:39.793Z"
   },
   {
    "duration": 5,
    "start_time": "2022-06-15T20:11:35.145Z"
   },
   {
    "duration": 7,
    "start_time": "2022-06-15T20:12:00.930Z"
   },
   {
    "duration": 5,
    "start_time": "2022-06-15T20:12:53.663Z"
   },
   {
    "duration": 4,
    "start_time": "2022-06-15T20:13:07.664Z"
   },
   {
    "duration": 4,
    "start_time": "2022-06-15T20:14:00.549Z"
   },
   {
    "duration": 4,
    "start_time": "2022-06-15T20:16:04.916Z"
   },
   {
    "duration": 8,
    "start_time": "2022-06-15T20:16:52.291Z"
   },
   {
    "duration": 4,
    "start_time": "2022-06-15T20:19:30.608Z"
   },
   {
    "duration": 5,
    "start_time": "2022-06-15T20:19:32.142Z"
   },
   {
    "duration": 8,
    "start_time": "2022-06-15T20:19:42.007Z"
   },
   {
    "duration": 58,
    "start_time": "2022-06-15T20:22:39.316Z"
   },
   {
    "duration": 1943163,
    "start_time": "2022-06-15T20:26:34.299Z"
   },
   {
    "duration": 3,
    "start_time": "2022-06-15T20:58:57.465Z"
   },
   {
    "duration": 8,
    "start_time": "2022-06-15T21:19:17.777Z"
   },
   {
    "duration": 29,
    "start_time": "2022-06-15T21:19:27.503Z"
   },
   {
    "duration": 8,
    "start_time": "2022-06-15T21:19:31.761Z"
   },
   {
    "duration": 5,
    "start_time": "2022-06-15T21:22:43.096Z"
   },
   {
    "duration": 332,
    "start_time": "2022-06-15T21:22:43.105Z"
   },
   {
    "duration": 15,
    "start_time": "2022-06-15T21:22:43.439Z"
   },
   {
    "duration": 116,
    "start_time": "2022-06-15T21:22:46.293Z"
   },
   {
    "duration": 22,
    "start_time": "2022-06-15T21:22:46.410Z"
   },
   {
    "duration": 375,
    "start_time": "2022-06-15T21:22:46.433Z"
   },
   {
    "duration": 23,
    "start_time": "2022-06-15T21:22:46.810Z"
   },
   {
    "duration": 2,
    "start_time": "2022-06-15T21:22:46.836Z"
   },
   {
    "duration": 12,
    "start_time": "2022-06-15T21:22:46.840Z"
   },
   {
    "duration": 5,
    "start_time": "2022-06-15T21:22:46.854Z"
   },
   {
    "duration": 8,
    "start_time": "2022-06-15T21:22:46.861Z"
   },
   {
    "duration": 10,
    "start_time": "2022-06-15T21:22:46.871Z"
   },
   {
    "duration": 47,
    "start_time": "2022-06-15T21:22:46.882Z"
   },
   {
    "duration": 181,
    "start_time": "2022-06-15T21:22:46.931Z"
   },
   {
    "duration": 32,
    "start_time": "2022-06-15T21:22:47.113Z"
   },
   {
    "duration": 10,
    "start_time": "2022-06-15T21:22:47.147Z"
   },
   {
    "duration": 7,
    "start_time": "2022-06-15T21:22:47.159Z"
   },
   {
    "duration": 5,
    "start_time": "2022-06-15T21:22:47.167Z"
   },
   {
    "duration": 13,
    "start_time": "2022-06-15T21:22:47.173Z"
   },
   {
    "duration": 39,
    "start_time": "2022-06-15T21:22:47.188Z"
   },
   {
    "duration": 1587,
    "start_time": "2022-06-15T21:22:47.229Z"
   },
   {
    "duration": 10,
    "start_time": "2022-06-15T21:22:48.818Z"
   },
   {
    "duration": 1688,
    "start_time": "2022-06-15T21:22:48.830Z"
   },
   {
    "duration": 12,
    "start_time": "2022-06-15T21:22:50.520Z"
   },
   {
    "duration": 1711,
    "start_time": "2022-06-15T21:22:50.533Z"
   },
   {
    "duration": 584,
    "start_time": "2022-06-15T21:22:52.246Z"
   },
   {
    "duration": 4,
    "start_time": "2022-06-15T21:22:52.832Z"
   },
   {
    "duration": 11,
    "start_time": "2022-06-15T21:22:52.838Z"
   },
   {
    "duration": 17,
    "start_time": "2022-06-15T21:22:52.851Z"
   },
   {
    "duration": 2303,
    "start_time": "2022-06-15T21:22:52.870Z"
   },
   {
    "duration": 3,
    "start_time": "2022-06-15T21:22:55.175Z"
   },
   {
    "duration": 28,
    "start_time": "2022-06-15T21:22:55.180Z"
   },
   {
    "duration": 4,
    "start_time": "2022-06-15T21:22:55.209Z"
   },
   {
    "duration": 9,
    "start_time": "2022-06-15T21:22:55.214Z"
   },
   {
    "duration": 16,
    "start_time": "2022-06-15T21:22:55.224Z"
   },
   {
    "duration": 8,
    "start_time": "2022-06-15T21:22:55.241Z"
   },
   {
    "duration": 14,
    "start_time": "2022-06-15T21:22:55.250Z"
   },
   {
    "duration": 8,
    "start_time": "2022-06-15T21:22:55.266Z"
   },
   {
    "duration": 17,
    "start_time": "2022-06-15T21:22:55.275Z"
   },
   {
    "duration": 30,
    "start_time": "2022-06-15T21:22:55.293Z"
   },
   {
    "duration": 9,
    "start_time": "2022-06-15T21:22:55.324Z"
   },
   {
    "duration": 34,
    "start_time": "2022-06-15T21:22:55.334Z"
   },
   {
    "duration": 25077,
    "start_time": "2022-06-15T21:22:55.370Z"
   },
   {
    "duration": 3,
    "start_time": "2022-06-15T21:23:20.451Z"
   },
   {
    "duration": 1139329,
    "start_time": "2022-06-15T21:23:20.456Z"
   },
   {
    "duration": 4,
    "start_time": "2022-06-15T21:42:19.786Z"
   },
   {
    "duration": 11141,
    "start_time": "2022-06-15T21:42:19.791Z"
   },
   {
    "duration": 93,
    "start_time": "2022-06-15T21:42:30.935Z"
   },
   {
    "duration": 130074,
    "start_time": "2022-06-15T21:42:31.031Z"
   },
   {
    "duration": 0,
    "start_time": "2022-06-15T21:44:41.107Z"
   },
   {
    "duration": 0,
    "start_time": "2022-06-15T21:44:41.108Z"
   },
   {
    "duration": 0,
    "start_time": "2022-06-15T21:44:41.109Z"
   },
   {
    "duration": 0,
    "start_time": "2022-06-15T21:44:41.110Z"
   },
   {
    "duration": 0,
    "start_time": "2022-06-15T21:44:41.111Z"
   },
   {
    "duration": 0,
    "start_time": "2022-06-15T21:44:41.112Z"
   },
   {
    "duration": 0,
    "start_time": "2022-06-15T21:44:41.113Z"
   },
   {
    "duration": 4,
    "start_time": "2022-06-15T21:51:22.503Z"
   },
   {
    "duration": 61897,
    "start_time": "2022-06-15T21:51:22.515Z"
   },
   {
    "duration": 0,
    "start_time": "2022-06-15T21:52:24.414Z"
   },
   {
    "duration": 0,
    "start_time": "2022-06-15T21:52:24.416Z"
   },
   {
    "duration": 0,
    "start_time": "2022-06-15T21:52:24.417Z"
   },
   {
    "duration": 0,
    "start_time": "2022-06-15T21:52:24.419Z"
   },
   {
    "duration": 0,
    "start_time": "2022-06-15T21:52:24.420Z"
   },
   {
    "duration": 0,
    "start_time": "2022-06-15T21:52:24.422Z"
   },
   {
    "duration": 0,
    "start_time": "2022-06-15T21:52:24.423Z"
   },
   {
    "duration": 129281,
    "start_time": "2022-06-15T21:54:53.801Z"
   },
   {
    "duration": 0,
    "start_time": "2022-06-15T21:57:03.085Z"
   },
   {
    "duration": 0,
    "start_time": "2022-06-15T21:57:03.087Z"
   },
   {
    "duration": 0,
    "start_time": "2022-06-15T21:57:03.088Z"
   },
   {
    "duration": 0,
    "start_time": "2022-06-15T21:57:03.090Z"
   },
   {
    "duration": 1,
    "start_time": "2022-06-15T21:57:03.091Z"
   },
   {
    "duration": 0,
    "start_time": "2022-06-15T21:57:03.093Z"
   },
   {
    "duration": 0,
    "start_time": "2022-06-15T21:57:03.095Z"
   },
   {
    "duration": 10,
    "start_time": "2022-06-15T21:57:32.825Z"
   },
   {
    "duration": 9,
    "start_time": "2022-06-15T21:58:51.695Z"
   },
   {
    "duration": 5,
    "start_time": "2022-06-15T21:59:00.935Z"
   },
   {
    "duration": 410,
    "start_time": "2022-06-15T21:59:00.944Z"
   },
   {
    "duration": 16,
    "start_time": "2022-06-15T21:59:01.356Z"
   },
   {
    "duration": 139,
    "start_time": "2022-06-15T21:59:01.373Z"
   },
   {
    "duration": 15,
    "start_time": "2022-06-15T21:59:01.515Z"
   },
   {
    "duration": 399,
    "start_time": "2022-06-15T21:59:01.532Z"
   },
   {
    "duration": 18,
    "start_time": "2022-06-15T21:59:01.932Z"
   },
   {
    "duration": 6,
    "start_time": "2022-06-15T21:59:01.952Z"
   },
   {
    "duration": 44,
    "start_time": "2022-06-15T21:59:01.960Z"
   },
   {
    "duration": 23,
    "start_time": "2022-06-15T21:59:02.005Z"
   },
   {
    "duration": 19,
    "start_time": "2022-06-15T21:59:02.033Z"
   },
   {
    "duration": 41,
    "start_time": "2022-06-15T21:59:02.054Z"
   },
   {
    "duration": 51,
    "start_time": "2022-06-15T21:59:02.096Z"
   },
   {
    "duration": 207,
    "start_time": "2022-06-15T21:59:02.148Z"
   },
   {
    "duration": 25,
    "start_time": "2022-06-15T21:59:02.356Z"
   },
   {
    "duration": 16,
    "start_time": "2022-06-15T21:59:02.383Z"
   },
   {
    "duration": 21,
    "start_time": "2022-06-15T21:59:02.401Z"
   },
   {
    "duration": 19,
    "start_time": "2022-06-15T21:59:02.423Z"
   },
   {
    "duration": 22,
    "start_time": "2022-06-15T21:59:02.443Z"
   },
   {
    "duration": 25,
    "start_time": "2022-06-15T21:59:02.466Z"
   },
   {
    "duration": 1659,
    "start_time": "2022-06-15T21:59:02.493Z"
   },
   {
    "duration": 11,
    "start_time": "2022-06-15T21:59:04.154Z"
   },
   {
    "duration": 1690,
    "start_time": "2022-06-15T21:59:04.167Z"
   },
   {
    "duration": 9,
    "start_time": "2022-06-15T21:59:05.858Z"
   },
   {
    "duration": 1508,
    "start_time": "2022-06-15T21:59:05.868Z"
   },
   {
    "duration": 356,
    "start_time": "2022-06-15T21:59:07.378Z"
   },
   {
    "duration": 5,
    "start_time": "2022-06-15T21:59:07.736Z"
   },
   {
    "duration": 9,
    "start_time": "2022-06-15T21:59:07.742Z"
   },
   {
    "duration": 4,
    "start_time": "2022-06-15T21:59:07.754Z"
   },
   {
    "duration": 1938,
    "start_time": "2022-06-15T21:59:07.759Z"
   },
   {
    "duration": 4,
    "start_time": "2022-06-15T21:59:09.699Z"
   },
   {
    "duration": 35,
    "start_time": "2022-06-15T21:59:09.704Z"
   },
   {
    "duration": 4,
    "start_time": "2022-06-15T21:59:09.741Z"
   },
   {
    "duration": 10,
    "start_time": "2022-06-15T21:59:09.746Z"
   },
   {
    "duration": 12,
    "start_time": "2022-06-15T21:59:09.757Z"
   },
   {
    "duration": 11,
    "start_time": "2022-06-15T21:59:09.770Z"
   },
   {
    "duration": 11,
    "start_time": "2022-06-15T21:59:09.783Z"
   },
   {
    "duration": 8,
    "start_time": "2022-06-15T21:59:09.796Z"
   },
   {
    "duration": 9,
    "start_time": "2022-06-15T21:59:09.806Z"
   },
   {
    "duration": 10,
    "start_time": "2022-06-15T21:59:09.816Z"
   },
   {
    "duration": 7,
    "start_time": "2022-06-15T21:59:09.827Z"
   },
   {
    "duration": 27,
    "start_time": "2022-06-15T21:59:09.835Z"
   },
   {
    "duration": 24048,
    "start_time": "2022-06-15T21:59:09.863Z"
   },
   {
    "duration": 4,
    "start_time": "2022-06-15T21:59:33.913Z"
   },
   {
    "duration": 41382,
    "start_time": "2022-06-15T21:59:33.918Z"
   },
   {
    "duration": 0,
    "start_time": "2022-06-15T22:00:15.302Z"
   },
   {
    "duration": 0,
    "start_time": "2022-06-15T22:00:15.303Z"
   },
   {
    "duration": 0,
    "start_time": "2022-06-15T22:00:15.304Z"
   },
   {
    "duration": 0,
    "start_time": "2022-06-15T22:00:15.305Z"
   },
   {
    "duration": 0,
    "start_time": "2022-06-15T22:00:15.306Z"
   },
   {
    "duration": 0,
    "start_time": "2022-06-15T22:00:15.307Z"
   },
   {
    "duration": 0,
    "start_time": "2022-06-15T22:00:15.308Z"
   },
   {
    "duration": 0,
    "start_time": "2022-06-15T22:00:15.309Z"
   },
   {
    "duration": 0,
    "start_time": "2022-06-15T22:00:15.310Z"
   },
   {
    "duration": 0,
    "start_time": "2022-06-15T22:00:15.312Z"
   },
   {
    "duration": 0,
    "start_time": "2022-06-15T22:00:15.325Z"
   },
   {
    "duration": 0,
    "start_time": "2022-06-15T22:03:16.226Z"
   },
   {
    "duration": 0,
    "start_time": "2022-06-15T22:03:16.227Z"
   },
   {
    "duration": 0,
    "start_time": "2022-06-15T22:03:16.228Z"
   },
   {
    "duration": 0,
    "start_time": "2022-06-15T22:03:16.229Z"
   },
   {
    "duration": 0,
    "start_time": "2022-06-15T22:03:16.230Z"
   },
   {
    "duration": 0,
    "start_time": "2022-06-15T22:03:16.231Z"
   },
   {
    "duration": 0,
    "start_time": "2022-06-15T22:03:16.232Z"
   },
   {
    "duration": 0,
    "start_time": "2022-06-15T22:03:16.233Z"
   },
   {
    "duration": 0,
    "start_time": "2022-06-15T22:03:16.234Z"
   },
   {
    "duration": 0,
    "start_time": "2022-06-15T22:03:16.235Z"
   },
   {
    "duration": 0,
    "start_time": "2022-06-15T22:03:16.236Z"
   },
   {
    "duration": 0,
    "start_time": "2022-06-15T22:03:16.237Z"
   },
   {
    "duration": 0,
    "start_time": "2022-06-15T22:03:16.237Z"
   },
   {
    "duration": 0,
    "start_time": "2022-06-15T22:03:16.238Z"
   },
   {
    "duration": 0,
    "start_time": "2022-06-15T22:03:16.239Z"
   },
   {
    "duration": 0,
    "start_time": "2022-06-15T22:03:16.240Z"
   },
   {
    "duration": 0,
    "start_time": "2022-06-15T22:03:16.241Z"
   },
   {
    "duration": 0,
    "start_time": "2022-06-15T22:03:16.242Z"
   },
   {
    "duration": 0,
    "start_time": "2022-06-15T22:03:16.243Z"
   },
   {
    "duration": 0,
    "start_time": "2022-06-15T22:03:16.244Z"
   },
   {
    "duration": 0,
    "start_time": "2022-06-15T22:03:16.245Z"
   },
   {
    "duration": 0,
    "start_time": "2022-06-15T22:03:16.245Z"
   },
   {
    "duration": 0,
    "start_time": "2022-06-15T22:03:16.247Z"
   },
   {
    "duration": 0,
    "start_time": "2022-06-15T22:03:16.247Z"
   },
   {
    "duration": 0,
    "start_time": "2022-06-15T22:03:16.248Z"
   },
   {
    "duration": 0,
    "start_time": "2022-06-15T22:03:16.249Z"
   },
   {
    "duration": 0,
    "start_time": "2022-06-15T22:03:16.250Z"
   },
   {
    "duration": 0,
    "start_time": "2022-06-15T22:03:16.251Z"
   },
   {
    "duration": 0,
    "start_time": "2022-06-15T22:03:16.252Z"
   },
   {
    "duration": 0,
    "start_time": "2022-06-15T22:03:16.253Z"
   },
   {
    "duration": 0,
    "start_time": "2022-06-15T22:03:16.254Z"
   },
   {
    "duration": 0,
    "start_time": "2022-06-15T22:03:16.255Z"
   },
   {
    "duration": 0,
    "start_time": "2022-06-15T22:03:16.256Z"
   },
   {
    "duration": 0,
    "start_time": "2022-06-15T22:03:16.257Z"
   },
   {
    "duration": 0,
    "start_time": "2022-06-15T22:03:16.258Z"
   },
   {
    "duration": 0,
    "start_time": "2022-06-15T22:03:16.260Z"
   },
   {
    "duration": 0,
    "start_time": "2022-06-15T22:03:16.261Z"
   },
   {
    "duration": 0,
    "start_time": "2022-06-15T22:03:16.262Z"
   },
   {
    "duration": 0,
    "start_time": "2022-06-15T22:03:16.263Z"
   },
   {
    "duration": 0,
    "start_time": "2022-06-15T22:03:16.326Z"
   },
   {
    "duration": 0,
    "start_time": "2022-06-15T22:03:16.328Z"
   },
   {
    "duration": 0,
    "start_time": "2022-06-15T22:03:16.329Z"
   },
   {
    "duration": 0,
    "start_time": "2022-06-15T22:03:16.330Z"
   },
   {
    "duration": 0,
    "start_time": "2022-06-15T22:03:16.331Z"
   },
   {
    "duration": 0,
    "start_time": "2022-06-15T22:03:16.332Z"
   },
   {
    "duration": 0,
    "start_time": "2022-06-15T22:03:16.333Z"
   },
   {
    "duration": 0,
    "start_time": "2022-06-15T22:03:16.334Z"
   },
   {
    "duration": 0,
    "start_time": "2022-06-15T22:03:16.335Z"
   },
   {
    "duration": 0,
    "start_time": "2022-06-15T22:03:16.336Z"
   },
   {
    "duration": 0,
    "start_time": "2022-06-15T22:03:16.337Z"
   },
   {
    "duration": 0,
    "start_time": "2022-06-15T22:03:16.338Z"
   },
   {
    "duration": 0,
    "start_time": "2022-06-15T22:03:16.339Z"
   },
   {
    "duration": 0,
    "start_time": "2022-06-15T22:03:16.340Z"
   },
   {
    "duration": 0,
    "start_time": "2022-06-15T22:03:16.341Z"
   },
   {
    "duration": 0,
    "start_time": "2022-06-15T22:03:16.342Z"
   },
   {
    "duration": 0,
    "start_time": "2022-06-15T22:03:16.343Z"
   },
   {
    "duration": 4,
    "start_time": "2022-06-15T22:03:21.652Z"
   },
   {
    "duration": 366,
    "start_time": "2022-06-15T22:03:21.660Z"
   },
   {
    "duration": 18,
    "start_time": "2022-06-15T22:03:22.028Z"
   },
   {
    "duration": 100,
    "start_time": "2022-06-15T22:03:22.047Z"
   },
   {
    "duration": 15,
    "start_time": "2022-06-15T22:03:22.149Z"
   },
   {
    "duration": 380,
    "start_time": "2022-06-15T22:03:22.165Z"
   },
   {
    "duration": 17,
    "start_time": "2022-06-15T22:03:22.547Z"
   },
   {
    "duration": 3,
    "start_time": "2022-06-15T22:03:22.566Z"
   },
   {
    "duration": 14,
    "start_time": "2022-06-15T22:03:22.571Z"
   },
   {
    "duration": 6,
    "start_time": "2022-06-15T22:03:22.587Z"
   },
   {
    "duration": 19,
    "start_time": "2022-06-15T22:03:22.596Z"
   },
   {
    "duration": 10,
    "start_time": "2022-06-15T22:03:22.626Z"
   },
   {
    "duration": 37,
    "start_time": "2022-06-15T22:03:22.637Z"
   },
   {
    "duration": 193,
    "start_time": "2022-06-15T22:03:22.676Z"
   },
   {
    "duration": 24,
    "start_time": "2022-06-15T22:03:22.871Z"
   },
   {
    "duration": 9,
    "start_time": "2022-06-15T22:03:22.897Z"
   },
   {
    "duration": 24,
    "start_time": "2022-06-15T22:03:22.908Z"
   },
   {
    "duration": 14,
    "start_time": "2022-06-15T22:03:22.933Z"
   },
   {
    "duration": 19,
    "start_time": "2022-06-15T22:03:22.949Z"
   },
   {
    "duration": 9,
    "start_time": "2022-06-15T22:03:22.970Z"
   },
   {
    "duration": 1705,
    "start_time": "2022-06-15T22:03:22.980Z"
   },
   {
    "duration": 10,
    "start_time": "2022-06-15T22:03:24.686Z"
   },
   {
    "duration": 1775,
    "start_time": "2022-06-15T22:03:24.697Z"
   },
   {
    "duration": 10,
    "start_time": "2022-06-15T22:03:26.473Z"
   },
   {
    "duration": 1590,
    "start_time": "2022-06-15T22:03:26.484Z"
   },
   {
    "duration": 377,
    "start_time": "2022-06-15T22:03:28.075Z"
   },
   {
    "duration": 4,
    "start_time": "2022-06-15T22:03:28.454Z"
   },
   {
    "duration": 8,
    "start_time": "2022-06-15T22:03:28.460Z"
   },
   {
    "duration": 3,
    "start_time": "2022-06-15T22:03:28.472Z"
   },
   {
    "duration": 2005,
    "start_time": "2022-06-15T22:03:28.477Z"
   },
   {
    "duration": 4,
    "start_time": "2022-06-15T22:03:30.484Z"
   },
   {
    "duration": 70,
    "start_time": "2022-06-15T22:03:30.490Z"
   },
   {
    "duration": 5,
    "start_time": "2022-06-15T22:03:30.561Z"
   },
   {
    "duration": 18,
    "start_time": "2022-06-15T22:03:30.568Z"
   },
   {
    "duration": 31,
    "start_time": "2022-06-15T22:03:30.588Z"
   },
   {
    "duration": 20,
    "start_time": "2022-06-15T22:03:30.621Z"
   },
   {
    "duration": 27,
    "start_time": "2022-06-15T22:03:30.643Z"
   },
   {
    "duration": 12,
    "start_time": "2022-06-15T22:03:30.672Z"
   },
   {
    "duration": 13,
    "start_time": "2022-06-15T22:03:30.686Z"
   },
   {
    "duration": 20,
    "start_time": "2022-06-15T22:03:30.701Z"
   },
   {
    "duration": 24,
    "start_time": "2022-06-15T22:03:30.723Z"
   },
   {
    "duration": 51,
    "start_time": "2022-06-15T22:03:30.750Z"
   },
   {
    "duration": 24654,
    "start_time": "2022-06-15T22:03:30.803Z"
   },
   {
    "duration": 3,
    "start_time": "2022-06-15T22:03:55.459Z"
   },
   {
    "duration": 762983,
    "start_time": "2022-06-15T22:03:55.464Z"
   },
   {
    "duration": 3,
    "start_time": "2022-06-15T22:16:38.449Z"
   },
   {
    "duration": 10583,
    "start_time": "2022-06-15T22:16:38.454Z"
   },
   {
    "duration": 7,
    "start_time": "2022-06-15T22:16:49.127Z"
   },
   {
    "duration": 293768,
    "start_time": "2022-06-15T22:16:49.137Z"
   },
   {
    "duration": 4,
    "start_time": "2022-06-15T22:21:42.906Z"
   },
   {
    "duration": 23,
    "start_time": "2022-06-15T22:21:42.911Z"
   },
   {
    "duration": 8,
    "start_time": "2022-06-15T22:21:42.936Z"
   },
   {
    "duration": 16,
    "start_time": "2022-06-15T22:21:42.945Z"
   },
   {
    "duration": 6,
    "start_time": "2022-06-15T22:21:42.963Z"
   },
   {
    "duration": 7,
    "start_time": "2022-06-15T22:21:42.970Z"
   },
   {
    "duration": 13,
    "start_time": "2022-06-15T22:21:42.978Z"
   }
  ],
  "kernelspec": {
   "display_name": "Python 3 (ipykernel)",
   "language": "python",
   "name": "python3"
  },
  "language_info": {
   "codemirror_mode": {
    "name": "ipython",
    "version": 3
   },
   "file_extension": ".py",
   "mimetype": "text/x-python",
   "name": "python",
   "nbconvert_exporter": "python",
   "pygments_lexer": "ipython3",
   "version": "3.7.8"
  },
  "toc": {
   "base_numbering": 1,
   "nav_menu": {
    "height": "222px",
    "width": "448px"
   },
   "number_sections": true,
   "sideBar": true,
   "skip_h1_title": true,
   "title_cell": "Table of Contents",
   "title_sidebar": "Contents",
   "toc_cell": false,
   "toc_position": {
    "height": "508px",
    "left": "459px",
    "top": "173.125px",
    "width": "289.594px"
   },
   "toc_section_display": true,
   "toc_window_display": true
  }
 },
 "nbformat": 4,
 "nbformat_minor": 5
}
